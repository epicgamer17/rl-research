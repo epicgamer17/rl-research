{
 "cells": [
  {
   "cell_type": "markdown",
   "metadata": {},
   "source": [
    "# Initialization"
   ]
  },
  {
   "cell_type": "code",
   "execution_count": null,
   "metadata": {},
   "outputs": [],
   "source": [
    "import gymnasium as gym\n",
    "import torch\n",
    "\n",
    "agent_callable = None # RainbowAgent etc\n",
    "config_callable = None # RainbowConfig etc\n",
    "base_name = None\n",
    "\n",
    "device = 'cuda' if torch.cuda.is_available() else 'cpu'\n"
   ]
  },
  {
   "cell_type": "markdown",
   "metadata": {},
   "source": [
    "# K-Armed Bandits"
   ]
  },
  {
   "cell_type": "markdown",
   "metadata": {},
   "source": [
    "## K-Armed Bandits"
   ]
  },
  {
   "cell_type": "code",
   "execution_count": null,
   "metadata": {},
   "outputs": [],
   "source": [
    "game_config = ArmedBanditsConfig()\n",
    "config_dict = None\n",
    "config = config_callable(config_dict, game_config)\n",
    "\n",
    "env = gym.make('ArmedBandits-v0')\n",
    "agent = agent_callable(env, config, name=f'{base_name}_ArmedBandits-v0', device=device)\n",
    "agent.train()"
   ]
  },
  {
   "cell_type": "markdown",
   "metadata": {},
   "source": [
    "## Non Stationairy K-Armed Bandits"
   ]
  },
  {
   "cell_type": "code",
   "execution_count": null,
   "metadata": {},
   "outputs": [],
   "source": [
    "game_config = NonstationaryArmedBanditsConfig()\n",
    "config_dict = None\n",
    "config = config_callable(config_dict, game_config)\n",
    "\n",
    "env = gym.make('NonstationaryArmedBandits-v0')\n",
    "agent = agent_callable(env, config, name=f'{base_name}_NonstationaryArmedBandits-v0', device=device)\n",
    "agent.train()"
   ]
  },
  {
   "cell_type": "markdown",
   "metadata": {},
   "source": [
    "# Classic Control"
   ]
  },
  {
   "cell_type": "markdown",
   "metadata": {},
   "source": [
    "## CartPole-v1"
   ]
  },
  {
   "cell_type": "code",
   "execution_count": null,
   "metadata": {},
   "outputs": [],
   "source": [
    "from game_configs.cartpole_config import CartPoleConfig\n",
    "\n",
    "game_config = CartPoleConfig()\n",
    "config_dict = None\n",
    "config = config_callable(config_dict, game_config)\n",
    "\n",
    "env = gym.make(\"CartPole-v1\", render_mode=\"rgb_array\")\n",
    "agent = agent_callable(env, config, name=f'{base_name}_CartPole-v1', device=device)\n",
    "agent.train()"
   ]
  },
  {
   "cell_type": "markdown",
   "metadata": {},
   "source": [
    "## Discrete Classic Control\n",
    "1. CartPole-v1\n",
    "2. Acrobot-v1\n",
    "3. LunarLander-v2\n",
    "4. MountainCar-v0 (600 steps)"
   ]
  },
  {
   "cell_type": "code",
   "execution_count": null,
   "metadata": {},
   "outputs": [],
   "source": [
    "from game_configs.classiccontrol_config import ClassicControlConfig\n",
    "\n",
    "game_config = ClassicControlConfig()\n",
    "config_dict = None\n",
    "config = config_callable\n",
    "\n",
    "env = gym.make(\"CartPole-v1\", render_mode=\"rgb_array\")\n",
    "(config_dict, game_config)\n",
    "agent = agent_callable(env, config, name=f'{base_name}_DiscreteClassicControl_CartPole-v1', device=device)\n",
    "agent.train()\n",
    "\n",
    "env = gym.make(\"Acrobot-v1\", render_mode=\"rgb_array\")\n",
    "agent = agent_callable(env, config, name=f'{base_name}_DiscreteClassicControl_Acrobot-v1', device=device)\n",
    "agent.train()\n",
    "\n",
    "env = gym.make(\"LunarLander-v2\", render_mode=\"rgb_array\")\n",
    "agent = agent_callable(env, config, name=f'{base_name}_DiscreteClassicControl_LunarLander-v2', device=device)\n",
    "agent.train()\n",
    "\n",
    "env = gym.make(\"MountainCar-v0\", render_mode=\"rgb_array\", max_episode_steps=600)\n",
    "agent = agent_callable(env, config, name=f'{base_name}_DiscreteClassicControl_MountainCar-v0', device=device)\n",
    "agent.train()"
   ]
  },
  {
   "cell_type": "markdown",
   "metadata": {},
   "source": [
    "## Continuous Classic Control"
   ]
  },
  {
   "cell_type": "markdown",
   "metadata": {},
   "source": [
    "# Toy Text\n",
    "Includes highly random single player games (Blackjack)"
   ]
  },
  {
   "cell_type": "markdown",
   "metadata": {},
   "source": [
    "# MuJoCo"
   ]
  },
  {
   "cell_type": "markdown",
   "metadata": {},
   "source": [
    "# Board Games"
   ]
  },
  {
   "cell_type": "markdown",
   "metadata": {},
   "source": [
    "## 2 Player Zero-Sum Perfect Information Deterministic Competitive"
   ]
  },
  {
   "cell_type": "markdown",
   "metadata": {},
   "source": [
    "### Tic Tac Toe"
   ]
  },
  {
   "cell_type": "code",
   "execution_count": null,
   "metadata": {},
   "outputs": [],
   "source": []
  },
  {
   "cell_type": "markdown",
   "metadata": {},
   "source": [
    "### Connect 4"
   ]
  },
  {
   "cell_type": "markdown",
   "metadata": {},
   "source": [
    "### Chess"
   ]
  },
  {
   "cell_type": "markdown",
   "metadata": {},
   "source": [
    "## 2-Player Zero-Sum Imperfect Information Non Deterministic Competitive"
   ]
  },
  {
   "cell_type": "markdown",
   "metadata": {},
   "source": [
    "### 2 Player LeDuc Hold'em"
   ]
  },
  {
   "cell_type": "markdown",
   "metadata": {},
   "source": [
    "### 2 Player Texas Hold'em"
   ]
  },
  {
   "cell_type": "markdown",
   "metadata": {},
   "source": [
    "## 3+ Player Zero-Sum Imperfect Information Non Deterministic Competitive"
   ]
  },
  {
   "cell_type": "markdown",
   "metadata": {},
   "source": [
    "## Mississippi Marbles"
   ]
  },
  {
   "cell_type": "markdown",
   "metadata": {},
   "source": [
    "## Leduc Hold'em"
   ]
  },
  {
   "cell_type": "markdown",
   "metadata": {},
   "source": [
    "## Texas Hold'em"
   ]
  },
  {
   "cell_type": "markdown",
   "metadata": {},
   "source": [
    "## 3+ Player Zero-Sum Perfect Information Deterministic Competitive"
   ]
  },
  {
   "cell_type": "markdown",
   "metadata": {},
   "source": [
    "## 4 Player Chess"
   ]
  }
 ],
 "metadata": {
  "kernelspec": {
   "display_name": "Python 3",
   "language": "python",
   "name": "python3"
  },
  "language_info": {
   "codemirror_mode": {
    "name": "ipython",
    "version": 3
   },
   "file_extension": ".py",
   "mimetype": "text/x-python",
   "name": "python",
   "nbconvert_exporter": "python",
   "pygments_lexer": "ipython3",
   "version": "3.10.14"
  }
 },
 "nbformat": 4,
 "nbformat_minor": 2
}
