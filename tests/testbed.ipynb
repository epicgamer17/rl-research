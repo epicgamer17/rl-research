{
 "cells": [
  {
   "cell_type": "markdown",
   "metadata": {},
   "source": [
    "# Initialization"
   ]
  },
  {
   "cell_type": "code",
   "execution_count": 1,
   "metadata": {},
   "outputs": [],
   "source": [
    "from agent_configs.dqn.rainbow_config import RainbowConfig\n",
    "import gymnasium as gym\n",
    "import torch\n",
    "\n",
    "import sys\n",
    "sys.path.append('..')\n",
    "\n",
    "from dqn.rainbow.rainbow_agent import RainbowAgent\n",
    "\n",
    "agent_callable = RainbowAgent # RainbowAgent etc\n",
    "config_callable = RainbowConfig # RainbowConfig etc\n",
    "base_name = \"Rainbow\"\n",
    "\n",
    "device = 'cuda' if torch.cuda.is_available() else 'cpu'"
   ]
  },
  {
   "cell_type": "markdown",
   "metadata": {},
   "source": [
    "# K-Armed Bandits"
   ]
  },
  {
   "cell_type": "markdown",
   "metadata": {},
   "source": [
    "## K-Armed Bandits"
   ]
  },
  {
   "cell_type": "code",
   "execution_count": null,
   "metadata": {},
   "outputs": [],
   "source": [
    "game_config = ArmedBanditsConfig()\n",
    "config_dict = {}\n",
    "config = config_callable(config_dict, game_config)\n",
    "\n",
    "env = gym.make('ArmedBandits-v0')\n",
    "agent = agent_callable(env, config, name=f'{base_name}_ArmedBandits-v0', device=device)\n",
    "agent.train()"
   ]
  },
  {
   "cell_type": "markdown",
   "metadata": {},
   "source": [
    "## Non Stationairy K-Armed Bandits"
   ]
  },
  {
   "cell_type": "code",
   "execution_count": null,
   "metadata": {},
   "outputs": [],
   "source": [
    "game_config = NonstationaryArmedBanditsConfig()\n",
    "config_dict = {}\n",
    "config = config_callable(config_dict, game_config)\n",
    "\n",
    "env = gym.make('NonstationaryArmedBandits-v0')\n",
    "agent = agent_callable(env, config, name=f'{base_name}_NonstationaryArmedBandits-v0', device=device)\n",
    "agent.train()"
   ]
  },
  {
   "cell_type": "markdown",
   "metadata": {},
   "source": [
    "# Classic Control"
   ]
  },
  {
   "cell_type": "markdown",
   "metadata": {},
   "source": [
    "## CartPole-v1"
   ]
  },
  {
   "cell_type": "code",
   "execution_count": null,
   "metadata": {},
   "outputs": [],
   "source": [
    "from game_configs.cartpole_config import CartPoleConfig\n",
    "\n",
    "game_config = CartPoleConfig()\n",
    "config_dict = {}\n",
    "config = config_callable(config_dict, game_config)\n",
    "\n",
    "env = gym.make(\"CartPole-v1\", render_mode=\"rgb_array\")\n",
    "agent = agent_callable(env, config, name=f'{base_name}_CartPole-v1', device=device)\n",
    "agent.train()"
   ]
  },
  {
   "cell_type": "markdown",
   "metadata": {},
   "source": [
    "## Discrete Classic Control\n",
    "1. CartPole-v1\n",
    "2. Acrobot-v1\n",
    "3. LunarLander-v2\n",
    "4. MountainCar-v0 (600 steps)"
   ]
  },
  {
   "cell_type": "code",
   "execution_count": null,
   "metadata": {},
   "outputs": [],
   "source": [
    "from game_configs.classiccontrol_config import ClassicControlConfig\n",
    "\n",
    "game_config = ClassicControlConfig()\n",
    "config_dict = {}\n",
    "config = config_callable\n",
    "\n",
    "env = gym.make(\"CartPole-v1\", render_mode=\"rgb_array\")\n",
    "(config_dict, game_config)\n",
    "agent = agent_callable(env, config, name=f'{base_name}_DiscreteClassicControl_CartPole-v1', device=device)\n",
    "agent.train()\n",
    "\n",
    "env = gym.make(\"Acrobot-v1\", render_mode=\"rgb_array\")\n",
    "agent = agent_callable(env, config, name=f'{base_name}_DiscreteClassicControl_Acrobot-v1', device=device)\n",
    "agent.train()\n",
    "\n",
    "env = gym.make(\"LunarLander-v2\", render_mode=\"rgb_array\")\n",
    "agent = agent_callable(env, config, name=f'{base_name}_DiscreteClassicControl_LunarLander-v2', device=device)\n",
    "agent.train()\n",
    "\n",
    "env = gym.make(\"MountainCar-v0\", render_mode=\"rgb_array\", max_episode_steps=600)\n",
    "agent = agent_callable(env, config, name=f'{base_name}_DiscreteClassicControl_MountainCar-v0', device=device)\n",
    "agent.train()"
   ]
  },
  {
   "cell_type": "markdown",
   "metadata": {},
   "source": [
    "## Continuous Classic Control"
   ]
  },
  {
   "cell_type": "markdown",
   "metadata": {},
   "source": [
    "# Toy Text\n",
    "Includes highly random single player games (Blackjack)"
   ]
  },
  {
   "cell_type": "markdown",
   "metadata": {},
   "source": [
    "## Blackjack"
   ]
  },
  {
   "cell_type": "code",
   "execution_count": null,
   "metadata": {},
   "outputs": [],
   "source": [
    "from game_configs.blackjack_config import BlackjackConfig\n",
    "from utils.utils import KLDivergenceLoss\n",
    "\n",
    "game_config = BlackjackConfig()\n",
    "config_dict = {\n",
    "    \"dense_layers\": [128, 128],\n",
    "    \"batch_size\": 32,\n",
    "    \"learning_rate\": 0.0001,\n",
    "    \"n_steps\": 3,\n",
    "    \"loss_function\": KLDivergenceLoss(),\n",
    "    \"training_steps\": 100000,\n",
    "    \"atom_size\": 51,\n",
    "}\n",
    "config = config_callable(config_dict, game_config)\n",
    "\n",
    "env = gym.make(\"Blackjack-v1\", render_mode=\"rgb_array\")\n",
    "agent = agent_callable(env, config, name=f'{base_name}_Blackjack-v1', device=device)\n",
    "agent.checkpoint_trials = 1000\n",
    "agent.train()"
   ]
  },
  {
   "cell_type": "code",
   "execution_count": 2,
   "metadata": {},
   "outputs": [
    {
     "name": "stdout",
     "output_type": "stream",
     "text": [
      "Using default save_intermediate_weights     : False\n",
      "Using         training_steps                : 30000\n",
      "Using default adam_epsilon                  : 1e-06\n",
      "Using         learning_rate                 : 0.005\n",
      "Using default clipnorm                      : 0\n",
      "Using default optimizer                     : <class 'torch.optim.adam.Adam'>\n",
      "Using         loss_function                 : <utils.utils.KLDivergenceLoss object at 0x17efc4fe0>\n",
      "Using default activation                    : relu\n",
      "Using         kernel_initializer            : None\n",
      "Using default minibatch_size                : 64\n",
      "Using default replay_buffer_size            : 5000\n",
      "Using default min_replay_buffer_size        : 64\n",
      "Using default num_minibatches               : 1\n",
      "Using default training_iterations           : 1\n",
      "Using default conv_layers                   : []\n",
      "Using default dense_layers_widths           : [128]\n",
      "Using default value_hidden_layers_widths    : []\n",
      "Using default advantage_hidden_layers_widths: []\n",
      "Using default noisy_sigma                   : 0.5\n",
      "Using default dueling                       : True\n",
      "Using default discount_factor               : 0.99\n",
      "Using default soft_update                   : False\n",
      "Using default transfer_interval             : 512\n",
      "Using default ema_beta                      : 0.99\n",
      "Using default replay_interval               : 1\n",
      "Using default per_alpha                     : 0.6\n",
      "Using default per_beta                      : 0.5\n",
      "Using default per_beta_final                : 1.0\n",
      "Using default per_epsilon                   : 1e-06\n",
      "Using default n_step                        : 3\n",
      "Using         atom_size                     : 51\n",
      "observation_dimensions:  (1,)\n",
      "num_actions:  4\n"
     ]
    },
    {
     "name": "stderr",
     "output_type": "stream",
     "text": [
      "/Library/Frameworks/Python.framework/Versions/3.12/lib/python3.12/site-packages/gymnasium/wrappers/record_video.py:94: UserWarning: \u001b[33mWARN: Overwriting existing videos at /Users/jonathanlamontange-kratz/Documents/GitHub/rl-stuff/tests folder (try specifying a different `video_folder` for the `RecordVideo` wrapper if this is not desired)\u001b[0m\n",
      "  logger.warn(\n"
     ]
    },
    {
     "name": "stdout",
     "output_type": "stream",
     "text": [
      "int64\n",
      "score:  -200\n",
      "score:  -200\n",
      "score:  -200\n",
      "score:  -200\n",
      "score:  -200\n",
      "score:  -200\n",
      "score:  -200\n",
      "score:  -200\n",
      "score:  -200\n",
      "Moviepy - Building video checkpoints/Rainbow_ToyText_CliffWalking-v0/step_1000/videos/Rainbow_ToyText_CliffWalking-v0/1000/Rainbow_ToyText_CliffWalking-v0-episode-9.mp4.\n",
      "Moviepy - Writing video checkpoints/Rainbow_ToyText_CliffWalking-v0/step_1000/videos/Rainbow_ToyText_CliffWalking-v0/1000/Rainbow_ToyText_CliffWalking-v0-episode-9.mp4\n",
      "\n"
     ]
    },
    {
     "name": "stderr",
     "output_type": "stream",
     "text": [
      "/Users/jonathanlamontange-kratz/Documents/GitHub/rl-stuff/packages/utils/utils/utils.py:255: UserWarning: No artists with labels found to put in legend.  Note that artists whose label start with an underscore are ignored when legend() is called with no argument.\n",
      "  axs[row][col].legend()\n",
      "/Users/jonathanlamontange-kratz/Documents/GitHub/rl-stuff/packages/utils/utils/utils.py:185: UserWarning: Attempting to set identical low and high xlims makes transformation singular; automatically expanding.\n",
      "  axs[row][col].set_xlim(1, len(values))\n",
      "/Users/jonathanlamontange-kratz/Documents/GitHub/rl-stuff/packages/utils/utils/utils.py:205: UserWarning: No artists with labels found to put in legend.  Note that artists whose label start with an underscore are ignored when legend() is called with no argument.\n",
      "  axs[row][col].legend()\n"
     ]
    },
    {
     "name": "stdout",
     "output_type": "stream",
     "text": [
      "Moviepy - Done !\n",
      "Moviepy - video ready checkpoints/Rainbow_ToyText_CliffWalking-v0/step_1000/videos/Rainbow_ToyText_CliffWalking-v0/1000/Rainbow_ToyText_CliffWalking-v0-episode-9.mp4\n",
      "score:  -200\n",
      "score:  -200\n",
      "score:  -200\n",
      "score:  -200\n",
      "score:  -200\n",
      "score:  -200\n",
      "score:  -200\n",
      "score:  -200\n",
      "score:  -200\n",
      "score:  -200\n",
      "Moviepy - Building video checkpoints/Rainbow_ToyText_CliffWalking-v0/step_2000/videos/Rainbow_ToyText_CliffWalking-v0/2000/Rainbow_ToyText_CliffWalking-v0-episode-19.mp4.\n",
      "Moviepy - Writing video checkpoints/Rainbow_ToyText_CliffWalking-v0/step_2000/videos/Rainbow_ToyText_CliffWalking-v0/2000/Rainbow_ToyText_CliffWalking-v0-episode-19.mp4\n",
      "\n"
     ]
    },
    {
     "name": "stderr",
     "output_type": "stream",
     "text": [
      "/Users/jonathanlamontange-kratz/Documents/GitHub/rl-stuff/packages/utils/utils/utils.py:255: UserWarning: No artists with labels found to put in legend.  Note that artists whose label start with an underscore are ignored when legend() is called with no argument.\n",
      "  axs[row][col].legend()\n"
     ]
    },
    {
     "name": "stdout",
     "output_type": "stream",
     "text": [
      "Moviepy - Done !\n",
      "Moviepy - video ready checkpoints/Rainbow_ToyText_CliffWalking-v0/step_2000/videos/Rainbow_ToyText_CliffWalking-v0/2000/Rainbow_ToyText_CliffWalking-v0-episode-19.mp4\n",
      "score:  -200\n",
      "score:  -200\n",
      "score:  -200\n",
      "score:  -200\n",
      "score:  -200\n",
      "score:  -200\n",
      "score:  -200\n",
      "score:  -200\n",
      "score:  -200\n",
      "score:  -200\n",
      "Moviepy - Building video checkpoints/Rainbow_ToyText_CliffWalking-v0/step_3000/videos/Rainbow_ToyText_CliffWalking-v0/3000/Rainbow_ToyText_CliffWalking-v0-episode-29.mp4.\n",
      "Moviepy - Writing video checkpoints/Rainbow_ToyText_CliffWalking-v0/step_3000/videos/Rainbow_ToyText_CliffWalking-v0/3000/Rainbow_ToyText_CliffWalking-v0-episode-29.mp4\n",
      "\n"
     ]
    },
    {
     "name": "stderr",
     "output_type": "stream",
     "text": [
      "/Users/jonathanlamontange-kratz/Documents/GitHub/rl-stuff/packages/utils/utils/utils.py:255: UserWarning: No artists with labels found to put in legend.  Note that artists whose label start with an underscore are ignored when legend() is called with no argument.\n",
      "  axs[row][col].legend()\n"
     ]
    },
    {
     "name": "stdout",
     "output_type": "stream",
     "text": [
      "Moviepy - Done !\n",
      "Moviepy - video ready checkpoints/Rainbow_ToyText_CliffWalking-v0/step_3000/videos/Rainbow_ToyText_CliffWalking-v0/3000/Rainbow_ToyText_CliffWalking-v0-episode-29.mp4\n",
      "score:  -200\n",
      "score:  -200\n",
      "score:  -200\n",
      "score:  -200\n",
      "score:  -200\n",
      "score:  -200\n",
      "score:  -200\n",
      "score:  -200\n",
      "score:  -200\n",
      "score:  -200\n",
      "Moviepy - Building video checkpoints/Rainbow_ToyText_CliffWalking-v0/step_4000/videos/Rainbow_ToyText_CliffWalking-v0/4000/Rainbow_ToyText_CliffWalking-v0-episode-39.mp4.\n",
      "Moviepy - Writing video checkpoints/Rainbow_ToyText_CliffWalking-v0/step_4000/videos/Rainbow_ToyText_CliffWalking-v0/4000/Rainbow_ToyText_CliffWalking-v0-episode-39.mp4\n",
      "\n"
     ]
    },
    {
     "name": "stderr",
     "output_type": "stream",
     "text": [
      "                                                               \r"
     ]
    },
    {
     "name": "stdout",
     "output_type": "stream",
     "text": [
      "Moviepy - Done !\n",
      "Moviepy - video ready checkpoints/Rainbow_ToyText_CliffWalking-v0/step_4000/videos/Rainbow_ToyText_CliffWalking-v0/4000/Rainbow_ToyText_CliffWalking-v0-episode-39.mp4\n",
      "score:  -200\n"
     ]
    },
    {
     "name": "stderr",
     "output_type": "stream",
     "text": [
      "/Users/jonathanlamontange-kratz/Documents/GitHub/rl-stuff/packages/utils/utils/utils.py:255: UserWarning: No artists with labels found to put in legend.  Note that artists whose label start with an underscore are ignored when legend() is called with no argument.\n",
      "  axs[row][col].legend()\n"
     ]
    },
    {
     "name": "stdout",
     "output_type": "stream",
     "text": [
      "score:  -200\n",
      "score:  -200\n",
      "score:  -200\n",
      "score:  -200\n",
      "score:  -200\n",
      "score:  -200\n",
      "score:  -200\n",
      "score:  -200\n",
      "score:  -200\n",
      "Moviepy - Building video checkpoints/Rainbow_ToyText_CliffWalking-v0/step_5000/videos/Rainbow_ToyText_CliffWalking-v0/5000/Rainbow_ToyText_CliffWalking-v0-episode-49.mp4.\n",
      "Moviepy - Writing video checkpoints/Rainbow_ToyText_CliffWalking-v0/step_5000/videos/Rainbow_ToyText_CliffWalking-v0/5000/Rainbow_ToyText_CliffWalking-v0-episode-49.mp4\n",
      "\n"
     ]
    },
    {
     "name": "stderr",
     "output_type": "stream",
     "text": [
      "/Users/jonathanlamontange-kratz/Documents/GitHub/rl-stuff/packages/utils/utils/utils.py:255: UserWarning: No artists with labels found to put in legend.  Note that artists whose label start with an underscore are ignored when legend() is called with no argument.\n",
      "  axs[row][col].legend()\n"
     ]
    },
    {
     "name": "stdout",
     "output_type": "stream",
     "text": [
      "Moviepy - Done !\n",
      "Moviepy - video ready checkpoints/Rainbow_ToyText_CliffWalking-v0/step_5000/videos/Rainbow_ToyText_CliffWalking-v0/5000/Rainbow_ToyText_CliffWalking-v0-episode-49.mp4\n",
      "score:  -200\n",
      "score:  -200\n",
      "score:  -200\n",
      "score:  -200\n",
      "score:  -200\n",
      "score:  -200\n",
      "score:  -200\n",
      "score:  -200\n",
      "score:  -200\n",
      "score:  -200\n",
      "Moviepy - Building video checkpoints/Rainbow_ToyText_CliffWalking-v0/step_6000/videos/Rainbow_ToyText_CliffWalking-v0/6000/Rainbow_ToyText_CliffWalking-v0-episode-59.mp4.\n",
      "Moviepy - Writing video checkpoints/Rainbow_ToyText_CliffWalking-v0/step_6000/videos/Rainbow_ToyText_CliffWalking-v0/6000/Rainbow_ToyText_CliffWalking-v0-episode-59.mp4\n",
      "\n"
     ]
    },
    {
     "name": "stderr",
     "output_type": "stream",
     "text": [
      "/Users/jonathanlamontange-kratz/Documents/GitHub/rl-stuff/packages/utils/utils/utils.py:255: UserWarning: No artists with labels found to put in legend.  Note that artists whose label start with an underscore are ignored when legend() is called with no argument.\n",
      "  axs[row][col].legend()\n"
     ]
    },
    {
     "name": "stdout",
     "output_type": "stream",
     "text": [
      "Moviepy - Done !\n",
      "Moviepy - video ready checkpoints/Rainbow_ToyText_CliffWalking-v0/step_6000/videos/Rainbow_ToyText_CliffWalking-v0/6000/Rainbow_ToyText_CliffWalking-v0-episode-59.mp4\n",
      "score:  -200\n",
      "score:  -200\n",
      "score:  -200\n",
      "score:  -200\n",
      "score:  -200\n",
      "score:  -200\n",
      "score:  -200\n",
      "score:  -200\n",
      "score:  -200\n",
      "score:  -200\n",
      "Moviepy - Building video checkpoints/Rainbow_ToyText_CliffWalking-v0/step_7000/videos/Rainbow_ToyText_CliffWalking-v0/7000/Rainbow_ToyText_CliffWalking-v0-episode-69.mp4.\n",
      "Moviepy - Writing video checkpoints/Rainbow_ToyText_CliffWalking-v0/step_7000/videos/Rainbow_ToyText_CliffWalking-v0/7000/Rainbow_ToyText_CliffWalking-v0-episode-69.mp4\n",
      "\n"
     ]
    },
    {
     "name": "stderr",
     "output_type": "stream",
     "text": [
      "                                                               \r"
     ]
    },
    {
     "name": "stdout",
     "output_type": "stream",
     "text": [
      "Moviepy - Done !\n",
      "Moviepy - video ready checkpoints/Rainbow_ToyText_CliffWalking-v0/step_7000/videos/Rainbow_ToyText_CliffWalking-v0/7000/Rainbow_ToyText_CliffWalking-v0-episode-69.mp4\n",
      "score:  -200\n"
     ]
    },
    {
     "name": "stderr",
     "output_type": "stream",
     "text": [
      "/Users/jonathanlamontange-kratz/Documents/GitHub/rl-stuff/packages/utils/utils/utils.py:255: UserWarning: No artists with labels found to put in legend.  Note that artists whose label start with an underscore are ignored when legend() is called with no argument.\n",
      "  axs[row][col].legend()\n"
     ]
    },
    {
     "name": "stdout",
     "output_type": "stream",
     "text": [
      "score:  -200\n",
      "score:  -200\n",
      "score:  -200\n",
      "score:  -200\n",
      "score:  -200\n",
      "score:  -200\n",
      "score:  -200\n",
      "score:  -200\n",
      "score:  -200\n",
      "Moviepy - Building video checkpoints/Rainbow_ToyText_CliffWalking-v0/step_8000/videos/Rainbow_ToyText_CliffWalking-v0/8000/Rainbow_ToyText_CliffWalking-v0-episode-79.mp4.\n",
      "Moviepy - Writing video checkpoints/Rainbow_ToyText_CliffWalking-v0/step_8000/videos/Rainbow_ToyText_CliffWalking-v0/8000/Rainbow_ToyText_CliffWalking-v0-episode-79.mp4\n",
      "\n"
     ]
    },
    {
     "name": "stderr",
     "output_type": "stream",
     "text": [
      "/Users/jonathanlamontange-kratz/Documents/GitHub/rl-stuff/packages/utils/utils/utils.py:255: UserWarning: No artists with labels found to put in legend.  Note that artists whose label start with an underscore are ignored when legend() is called with no argument.\n",
      "  axs[row][col].legend()\n"
     ]
    },
    {
     "name": "stdout",
     "output_type": "stream",
     "text": [
      "Moviepy - Done !\n",
      "Moviepy - video ready checkpoints/Rainbow_ToyText_CliffWalking-v0/step_8000/videos/Rainbow_ToyText_CliffWalking-v0/8000/Rainbow_ToyText_CliffWalking-v0-episode-79.mp4\n",
      "score:  -200\n",
      "score:  -200\n",
      "score:  -200\n",
      "score:  -200\n",
      "score:  -200\n",
      "score:  -200\n",
      "score:  -200\n",
      "score:  -200\n",
      "score:  -200\n",
      "score:  -200\n",
      "Moviepy - Building video checkpoints/Rainbow_ToyText_CliffWalking-v0/step_9000/videos/Rainbow_ToyText_CliffWalking-v0/9000/Rainbow_ToyText_CliffWalking-v0-episode-89.mp4.\n",
      "Moviepy - Writing video checkpoints/Rainbow_ToyText_CliffWalking-v0/step_9000/videos/Rainbow_ToyText_CliffWalking-v0/9000/Rainbow_ToyText_CliffWalking-v0-episode-89.mp4\n",
      "\n"
     ]
    },
    {
     "name": "stderr",
     "output_type": "stream",
     "text": [
      "/Users/jonathanlamontange-kratz/Documents/GitHub/rl-stuff/packages/utils/utils/utils.py:255: UserWarning: No artists with labels found to put in legend.  Note that artists whose label start with an underscore are ignored when legend() is called with no argument.\n",
      "  axs[row][col].legend()\n"
     ]
    },
    {
     "name": "stdout",
     "output_type": "stream",
     "text": [
      "Moviepy - Done !\n",
      "Moviepy - video ready checkpoints/Rainbow_ToyText_CliffWalking-v0/step_9000/videos/Rainbow_ToyText_CliffWalking-v0/9000/Rainbow_ToyText_CliffWalking-v0-episode-89.mp4\n",
      "score:  -200\n",
      "score:  -200\n",
      "score:  -200\n",
      "score:  -200\n",
      "score:  -200\n",
      "score:  -200\n",
      "score:  -200\n",
      "score:  -200\n",
      "score:  -200\n",
      "score:  -200\n",
      "Moviepy - Building video checkpoints/Rainbow_ToyText_CliffWalking-v0/step_10000/videos/Rainbow_ToyText_CliffWalking-v0/10000/Rainbow_ToyText_CliffWalking-v0-episode-99.mp4.\n",
      "Moviepy - Writing video checkpoints/Rainbow_ToyText_CliffWalking-v0/step_10000/videos/Rainbow_ToyText_CliffWalking-v0/10000/Rainbow_ToyText_CliffWalking-v0-episode-99.mp4\n",
      "\n"
     ]
    },
    {
     "name": "stderr",
     "output_type": "stream",
     "text": [
      "                                                               \r"
     ]
    },
    {
     "name": "stdout",
     "output_type": "stream",
     "text": [
      "Moviepy - Done !\n",
      "Moviepy - video ready checkpoints/Rainbow_ToyText_CliffWalking-v0/step_10000/videos/Rainbow_ToyText_CliffWalking-v0/10000/Rainbow_ToyText_CliffWalking-v0-episode-99.mp4\n",
      "score:  -200\n"
     ]
    },
    {
     "name": "stderr",
     "output_type": "stream",
     "text": [
      "/Users/jonathanlamontange-kratz/Documents/GitHub/rl-stuff/packages/utils/utils/utils.py:255: UserWarning: No artists with labels found to put in legend.  Note that artists whose label start with an underscore are ignored when legend() is called with no argument.\n",
      "  axs[row][col].legend()\n"
     ]
    },
    {
     "name": "stdout",
     "output_type": "stream",
     "text": [
      "score:  -200\n",
      "score:  -200\n",
      "score:  -200\n",
      "score:  -200\n",
      "score:  -200\n",
      "score:  -200\n",
      "score:  -200\n",
      "score:  -200\n",
      "score:  -200\n",
      "Moviepy - Building video checkpoints/Rainbow_ToyText_CliffWalking-v0/step_11000/videos/Rainbow_ToyText_CliffWalking-v0/11000/Rainbow_ToyText_CliffWalking-v0-episode-109.mp4.\n",
      "Moviepy - Writing video checkpoints/Rainbow_ToyText_CliffWalking-v0/step_11000/videos/Rainbow_ToyText_CliffWalking-v0/11000/Rainbow_ToyText_CliffWalking-v0-episode-109.mp4\n",
      "\n"
     ]
    },
    {
     "name": "stderr",
     "output_type": "stream",
     "text": [
      "                                                               \r"
     ]
    },
    {
     "name": "stdout",
     "output_type": "stream",
     "text": [
      "Moviepy - Done !\n",
      "Moviepy - video ready checkpoints/Rainbow_ToyText_CliffWalking-v0/step_11000/videos/Rainbow_ToyText_CliffWalking-v0/11000/Rainbow_ToyText_CliffWalking-v0-episode-109.mp4\n",
      "score:  -200\n"
     ]
    },
    {
     "name": "stderr",
     "output_type": "stream",
     "text": [
      "/Users/jonathanlamontange-kratz/Documents/GitHub/rl-stuff/packages/utils/utils/utils.py:255: UserWarning: No artists with labels found to put in legend.  Note that artists whose label start with an underscore are ignored when legend() is called with no argument.\n",
      "  axs[row][col].legend()\n"
     ]
    }
   ],
   "source": [
    "from game_configs.toytext_config import ToyTextConfig\n",
    "from utils.utils import KLDivergenceLoss\n",
    "\n",
    "game_config = ToyTextConfig()\n",
    "config_dict = {\n",
    "    \"dense_layers\": [128, 128],\n",
    "    \"batch_size\": 32,\n",
    "    \"learning_rate\": 0.005,\n",
    "    \"n_steps\": 3,\n",
    "    \"loss_function\": KLDivergenceLoss(),\n",
    "    \"training_steps\": 30000,\n",
    "    \"atom_size\": 51,\n",
    "}\n",
    "config = config_callable(config_dict, game_config)\n",
    "\n",
    "# env = gym.make(\"Blackjack-v1\", render_mode=\"rgb_array\")\n",
    "# agent = agent_callable(env, config, name=f'{base_name}_ToyText_Blackjack-v1', device=device)\n",
    "# agent.checkpoint_trials = 1000\n",
    "# agent.train()\n",
    "\n",
    "# env = gym.make(\"FrozenLake-v1\", render_mode=\"rgb_array\")\n",
    "# agent = agent_callable(env, config, name=f'{base_name}_ToyText_FrozenLake-v1', device=device)\n",
    "# agent.checkpoint_trials = 10\n",
    "# agent.train()\n",
    "\n",
    "# env = gym.make(\"Taxi-v3\", render_mode=\"rgb_array\")\n",
    "# agent = agent_callable(env, config, name=f'{base_name}_ToyText_Taxi-v3', device=device)\n",
    "# agent.checkpoint_trials = 10\n",
    "# agent.train()\n",
    "\n",
    "env = gym.make(\"CliffWalking-v0\", render_mode=\"rgb_array\", max_episode_steps=500)\n",
    "agent = agent_callable(env, config, name=f'{base_name}_ToyText_CliffWalking-v0', device=device)\n",
    "agent.checkpoint_trials = 10\n",
    "agent.train()"
   ]
  },
  {
   "cell_type": "markdown",
   "metadata": {},
   "source": [
    "# MuJoCo"
   ]
  },
  {
   "cell_type": "markdown",
   "metadata": {},
   "source": [
    "# Board Games"
   ]
  },
  {
   "cell_type": "markdown",
   "metadata": {},
   "source": [
    "## 2 Player Zero-Sum Perfect Information Deterministic Competitive"
   ]
  },
  {
   "cell_type": "markdown",
   "metadata": {},
   "source": [
    "### Tic Tac Toe"
   ]
  },
  {
   "cell_type": "code",
   "execution_count": null,
   "metadata": {},
   "outputs": [],
   "source": []
  },
  {
   "cell_type": "markdown",
   "metadata": {},
   "source": [
    "### Connect 4"
   ]
  },
  {
   "cell_type": "markdown",
   "metadata": {},
   "source": [
    "### Chess"
   ]
  },
  {
   "cell_type": "markdown",
   "metadata": {},
   "source": [
    "## 2-Player Zero-Sum Imperfect Information Non Deterministic Competitive"
   ]
  },
  {
   "cell_type": "markdown",
   "metadata": {},
   "source": [
    "### 2 Player LeDuc Hold'em"
   ]
  },
  {
   "cell_type": "markdown",
   "metadata": {},
   "source": [
    "### 2 Player Texas Hold'em"
   ]
  },
  {
   "cell_type": "markdown",
   "metadata": {},
   "source": [
    "## 3+ Player Zero-Sum Imperfect Information Non Deterministic Competitive"
   ]
  },
  {
   "cell_type": "markdown",
   "metadata": {},
   "source": [
    "## Mississippi Marbles"
   ]
  },
  {
   "cell_type": "markdown",
   "metadata": {},
   "source": [
    "## Leduc Hold'em"
   ]
  },
  {
   "cell_type": "markdown",
   "metadata": {},
   "source": [
    "## Texas Hold'em"
   ]
  },
  {
   "cell_type": "markdown",
   "metadata": {},
   "source": [
    "## 3+ Player Zero-Sum Perfect Information Deterministic Competitive"
   ]
  },
  {
   "cell_type": "markdown",
   "metadata": {},
   "source": [
    "## 4 Player Chess"
   ]
  }
 ],
 "metadata": {
  "kernelspec": {
   "display_name": "Python 3",
   "language": "python",
   "name": "python3"
  },
  "language_info": {
   "codemirror_mode": {
    "name": "ipython",
    "version": 3
   },
   "file_extension": ".py",
   "mimetype": "text/x-python",
   "name": "python",
   "nbconvert_exporter": "python",
   "pygments_lexer": "ipython3",
   "version": "3.12.3"
  }
 },
 "nbformat": 4,
 "nbformat_minor": 2
}
