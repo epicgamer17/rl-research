{
 "cells": [
  {
   "cell_type": "markdown",
   "metadata": {},
   "source": [
    "# Initialization"
   ]
  },
  {
   "cell_type": "code",
   "execution_count": 1,
   "metadata": {},
   "outputs": [],
   "source": [
    "from agent_configs.dqn.rainbow_config import RainbowConfig\n",
    "import gymnasium as gym\n",
    "import torch\n",
    "\n",
    "import sys\n",
    "sys.path.append('..')\n",
    "\n",
    "from dqn.rainbow.rainbow_agent import RainbowAgent\n",
    "\n",
    "agent_callable = RainbowAgent # RainbowAgent etc\n",
    "config_callable = RainbowConfig # RainbowConfig etc\n",
    "base_name = \"Rainbow\"\n",
    "\n",
    "device = 'cuda' if torch.cuda.is_available() else 'cpu'"
   ]
  },
  {
   "cell_type": "markdown",
   "metadata": {},
   "source": [
    "# K-Armed Bandits"
   ]
  },
  {
   "cell_type": "markdown",
   "metadata": {},
   "source": [
    "## K-Armed Bandits"
   ]
  },
  {
   "cell_type": "code",
   "execution_count": null,
   "metadata": {},
   "outputs": [],
   "source": [
    "game_config = ArmedBanditsConfig()\n",
    "config_dict = {}\n",
    "config = config_callable(config_dict, game_config)\n",
    "\n",
    "env = gym.make('ArmedBandits-v0')\n",
    "agent = agent_callable(env, config, name=f'{base_name}_ArmedBandits-v0', device=device)\n",
    "agent.train()"
   ]
  },
  {
   "cell_type": "markdown",
   "metadata": {},
   "source": [
    "## Non Stationairy K-Armed Bandits"
   ]
  },
  {
   "cell_type": "code",
   "execution_count": null,
   "metadata": {},
   "outputs": [],
   "source": [
    "game_config = NonstationaryArmedBanditsConfig()\n",
    "config_dict = {}\n",
    "config = config_callable(config_dict, game_config)\n",
    "\n",
    "env = gym.make('NonstationaryArmedBandits-v0')\n",
    "agent = agent_callable(env, config, name=f'{base_name}_NonstationaryArmedBandits-v0', device=device)\n",
    "agent.train()"
   ]
  },
  {
   "cell_type": "markdown",
   "metadata": {},
   "source": [
    "# Classic Control"
   ]
  },
  {
   "cell_type": "markdown",
   "metadata": {},
   "source": [
    "## CartPole-v1"
   ]
  },
  {
   "cell_type": "code",
   "execution_count": null,
   "metadata": {},
   "outputs": [],
   "source": [
    "from game_configs.cartpole_config import CartPoleConfig\n",
    "\n",
    "game_config = CartPoleConfig()\n",
    "config_dict = {}\n",
    "config = config_callable(config_dict, game_config)\n",
    "\n",
    "env = gym.make(\"CartPole-v1\", render_mode=\"rgb_array\")\n",
    "agent = agent_callable(env, config, name=f'{base_name}_CartPole-v1', device=device)\n",
    "agent.train()"
   ]
  },
  {
   "cell_type": "markdown",
   "metadata": {},
   "source": [
    "## Discrete Classic Control\n",
    "1. CartPole-v1\n",
    "2. Acrobot-v1\n",
    "3. LunarLander-v2\n",
    "4. MountainCar-v0 (600 steps)"
   ]
  },
  {
   "cell_type": "code",
   "execution_count": null,
   "metadata": {},
   "outputs": [],
   "source": [
    "from game_configs.classiccontrol_config import ClassicControlConfig\n",
    "\n",
    "game_config = ClassicControlConfig()\n",
    "config_dict = {}\n",
    "config = config_callable\n",
    "\n",
    "env = gym.make(\"CartPole-v1\", render_mode=\"rgb_array\")\n",
    "(config_dict, game_config)\n",
    "agent = agent_callable(env, config, name=f'{base_name}_DiscreteClassicControl_CartPole-v1', device=device)\n",
    "agent.train()\n",
    "\n",
    "env = gym.make(\"Acrobot-v1\", render_mode=\"rgb_array\")\n",
    "agent = agent_callable(env, config, name=f'{base_name}_DiscreteClassicControl_Acrobot-v1', device=device)\n",
    "agent.train()\n",
    "\n",
    "env = gym.make(\"LunarLander-v2\", render_mode=\"rgb_array\")\n",
    "agent = agent_callable(env, config, name=f'{base_name}_DiscreteClassicControl_LunarLander-v2', device=device)\n",
    "agent.train()\n",
    "\n",
    "env = gym.make(\"MountainCar-v0\", render_mode=\"rgb_array\", max_episode_steps=600)\n",
    "agent = agent_callable(env, config, name=f'{base_name}_DiscreteClassicControl_MountainCar-v0', device=device)\n",
    "agent.train()"
   ]
  },
  {
   "cell_type": "markdown",
   "metadata": {},
   "source": [
    "## Continuous Classic Control"
   ]
  },
  {
   "cell_type": "markdown",
   "metadata": {},
   "source": [
    "# Toy Text\n",
    "Includes highly random single player games (Blackjack)"
   ]
  },
  {
   "cell_type": "markdown",
   "metadata": {},
   "source": [
    "## Blackjack"
   ]
  },
  {
   "cell_type": "code",
   "execution_count": null,
   "metadata": {},
   "outputs": [],
   "source": [
    "from game_configs.blackjack_config import BlackjackConfig\n",
    "from utils.utils import KLDivergenceLoss\n",
    "\n",
    "game_config = BlackjackConfig()\n",
    "config_dict = {\n",
    "    \"dense_layers\": [128, 128],\n",
    "    \"batch_size\": 32,\n",
    "    \"learning_rate\": 0.0001,\n",
    "    \"n_steps\": 3,\n",
    "    \"loss_function\": KLDivergenceLoss(),\n",
    "    \"training_steps\": 100000,\n",
    "    \"atom_size\": 51,\n",
    "}\n",
    "config = config_callable(config_dict, game_config)\n",
    "\n",
    "env = gym.make(\"Blackjack-v1\", render_mode=\"rgb_array\")\n",
    "agent = agent_callable(env, config, name=f'{base_name}_Blackjack-v1', device=device)\n",
    "agent.checkpoint_trials = 1000\n",
    "agent.train()"
   ]
  },
  {
   "cell_type": "code",
   "execution_count": 1,
   "metadata": {},
   "outputs": [
    {
     "ename": "NameError",
     "evalue": "name 'config_callable' is not defined",
     "output_type": "error",
     "traceback": [
      "\u001b[0;31m---------------------------------------------------------------------------\u001b[0m",
      "\u001b[0;31mNameError\u001b[0m                                 Traceback (most recent call last)",
      "Cell \u001b[0;32mIn[1], line 14\u001b[0m\n\u001b[1;32m      4\u001b[0m game_config \u001b[38;5;241m=\u001b[39m ToyTextConfig()\n\u001b[1;32m      5\u001b[0m config_dict \u001b[38;5;241m=\u001b[39m {\n\u001b[1;32m      6\u001b[0m     \u001b[38;5;124m\"\u001b[39m\u001b[38;5;124mdense_layers\u001b[39m\u001b[38;5;124m\"\u001b[39m: [\u001b[38;5;241m128\u001b[39m, \u001b[38;5;241m128\u001b[39m],\n\u001b[1;32m      7\u001b[0m     \u001b[38;5;124m\"\u001b[39m\u001b[38;5;124mbatch_size\u001b[39m\u001b[38;5;124m\"\u001b[39m: \u001b[38;5;241m32\u001b[39m,\n\u001b[0;32m   (...)\u001b[0m\n\u001b[1;32m     12\u001b[0m     \u001b[38;5;124m\"\u001b[39m\u001b[38;5;124matom_size\u001b[39m\u001b[38;5;124m\"\u001b[39m: \u001b[38;5;241m51\u001b[39m,\n\u001b[1;32m     13\u001b[0m }\n\u001b[0;32m---> 14\u001b[0m config \u001b[38;5;241m=\u001b[39m \u001b[43mconfig_callable\u001b[49m(config_dict, game_config)\n\u001b[1;32m     16\u001b[0m \u001b[38;5;66;03m# env = gym.make(\"Blackjack-v1\", render_mode=\"rgb_array\")\u001b[39;00m\n\u001b[1;32m     17\u001b[0m \u001b[38;5;66;03m# agent = agent_callable(env, config, name=f'{base_name}_ToyText_Blackjack-v1', device=device)\u001b[39;00m\n\u001b[1;32m     18\u001b[0m \u001b[38;5;66;03m# agent.checkpoint_trials = 1000\u001b[39;00m\n\u001b[0;32m   (...)\u001b[0m\n\u001b[1;32m     28\u001b[0m \u001b[38;5;66;03m# agent.checkpoint_trials = 10\u001b[39;00m\n\u001b[1;32m     29\u001b[0m \u001b[38;5;66;03m# agent.train()\u001b[39;00m\n\u001b[1;32m     31\u001b[0m env \u001b[38;5;241m=\u001b[39m gym\u001b[38;5;241m.\u001b[39mmake(\u001b[38;5;124m\"\u001b[39m\u001b[38;5;124mCliffWalking-v0\u001b[39m\u001b[38;5;124m\"\u001b[39m, render_mode\u001b[38;5;241m=\u001b[39m\u001b[38;5;124m\"\u001b[39m\u001b[38;5;124mrgb_array\u001b[39m\u001b[38;5;124m\"\u001b[39m, max_episode_steps\u001b[38;5;241m=\u001b[39m\u001b[38;5;241m500\u001b[39m)\n",
      "\u001b[0;31mNameError\u001b[0m: name 'config_callable' is not defined"
     ]
    }
   ],
   "source": [
    "from game_configs.toytext_config import ToyTextConfig\n",
    "from utils.utils import KLDivergenceLoss\n",
    "\n",
    "game_config = ToyTextConfig()\n",
    "config_dict = {\n",
    "    \"dense_layers\": [128, 128],\n",
    "    \"batch_size\": 32,\n",
    "    \"learning_rate\": 0.005,\n",
    "    \"n_steps\": 3,\n",
    "    \"loss_function\": KLDivergenceLoss(),\n",
    "    \"training_steps\": 30000,\n",
    "    \"atom_size\": 51,\n",
    "}\n",
    "config = config_callable(config_dict, game_config)\n",
    "\n",
    "# env = gym.make(\"Blackjack-v1\", render_mode=\"rgb_array\")\n",
    "# agent = agent_callable(env, config, name=f'{base_name}_ToyText_Blackjack-v1', device=device)\n",
    "# agent.checkpoint_trials = 1000\n",
    "# agent.train()\n",
    "\n",
    "# env = gym.make(\"FrozenLake-v1\", render_mode=\"rgb_array\")\n",
    "# agent = agent_callable(env, config, name=f'{base_name}_ToyText_FrozenLake-v1', device=device)\n",
    "# agent.checkpoint_trials = 10\n",
    "# agent.train()\n",
    "\n",
    "# env = gym.make(\"Taxi-v3\", render_mode=\"rgb_array\")\n",
    "# agent = agent_callable(env, config, name=f'{base_name}_ToyText_Taxi-v3', device=device)\n",
    "# agent.checkpoint_trials = 10\n",
    "# agent.train()\n",
    "\n",
    "env = gym.make(\"CliffWalking-v0\", render_mode=\"rgb_array\", max_episode_steps=500)\n",
    "agent = agent_callable(env, config, name=f'{base_name}_ToyText_CliffWalking-v0', device=device)\n",
    "agent.checkpoint_trials = 10\n",
    "agent.train()"
   ]
  },
  {
   "cell_type": "markdown",
   "metadata": {},
   "source": [
    "# MuJoCo"
   ]
  },
  {
   "cell_type": "markdown",
   "metadata": {},
   "source": [
    "# Board Games"
   ]
  },
  {
   "cell_type": "markdown",
   "metadata": {},
   "source": [
    "## 2 Player Zero-Sum Perfect Information Deterministic Competitive"
   ]
  },
  {
   "cell_type": "markdown",
   "metadata": {},
   "source": [
    "### Tic Tac Toe"
   ]
  },
  {
   "cell_type": "code",
   "execution_count": null,
   "metadata": {},
   "outputs": [],
   "source": []
  },
  {
   "cell_type": "markdown",
   "metadata": {},
   "source": [
    "### Connect 4"
   ]
  },
  {
   "cell_type": "markdown",
   "metadata": {},
   "source": [
    "### Chess"
   ]
  },
  {
   "cell_type": "markdown",
   "metadata": {},
   "source": [
    "## 2-Player Zero-Sum Imperfect Information Non Deterministic Competitive"
   ]
  },
  {
   "cell_type": "markdown",
   "metadata": {},
   "source": [
    "### 2 Player LeDuc Hold'em"
   ]
  },
  {
   "cell_type": "markdown",
   "metadata": {},
   "source": [
    "### 2 Player Texas Hold'em"
   ]
  },
  {
   "cell_type": "markdown",
   "metadata": {},
   "source": [
    "## 3+ Player Zero-Sum Imperfect Information Non Deterministic Competitive"
   ]
  },
  {
   "cell_type": "markdown",
   "metadata": {},
   "source": [
    "## Mississippi Marbles"
   ]
  },
  {
   "cell_type": "markdown",
   "metadata": {},
   "source": [
    "## Leduc Hold'em"
   ]
  },
  {
   "cell_type": "markdown",
   "metadata": {},
   "source": [
    "## Texas Hold'em"
   ]
  },
  {
   "cell_type": "markdown",
   "metadata": {},
   "source": [
    "## 3+ Player Zero-Sum Perfect Information Deterministic Competitive"
   ]
  },
  {
   "cell_type": "markdown",
   "metadata": {},
   "source": [
    "## 4 Player Chess"
   ]
  }
 ],
 "metadata": {
  "kernelspec": {
   "display_name": "Python 3",
   "language": "python",
   "name": "python3"
  },
  "language_info": {
   "codemirror_mode": {
    "name": "ipython",
    "version": 3
   },
   "file_extension": ".py",
   "mimetype": "text/x-python",
   "name": "python",
   "nbconvert_exporter": "python",
   "pygments_lexer": "ipython3",
   "version": "3.12.3"
  }
 },
 "nbformat": 4,
 "nbformat_minor": 2
}
