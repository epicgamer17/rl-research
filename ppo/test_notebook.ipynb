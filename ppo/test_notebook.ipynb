{
 "cells": [
  {
   "cell_type": "code",
   "execution_count": 1,
   "metadata": {},
   "outputs": [
    {
     "name": "stderr",
     "output_type": "stream",
     "text": [
      "/Users/jonathanlamontange-kratz/Library/Python/3.9/lib/python/site-packages/urllib3/__init__.py:34: NotOpenSSLWarning: urllib3 v2 only supports OpenSSL 1.1.1+, currently the 'ssl' module is compiled with 'LibreSSL 2.8.3'. See: https://github.com/urllib3/urllib3/issues/3020\n",
      "  warnings.warn(\n"
     ]
    },
    {
     "name": "stdout",
     "output_type": "stream",
     "text": [
      "1 Physical GPUs, 1 Logical GPUs\n"
     ]
    },
    {
     "name": "stderr",
     "output_type": "stream",
     "text": [
      "2024-03-03 21:46:44.912678: I metal_plugin/src/device/metal_device.cc:1154] Metal device set to: Apple M2\n",
      "2024-03-03 21:46:44.912705: I metal_plugin/src/device/metal_device.cc:296] systemMemory: 16.00 GB\n",
      "2024-03-03 21:46:44.912714: I metal_plugin/src/device/metal_device.cc:313] maxCacheSize: 5.33 GB\n",
      "2024-03-03 21:46:44.912794: I tensorflow/core/common_runtime/pluggable_device/pluggable_device_factory.cc:306] Could not identify NUMA node of platform GPU ID 0, defaulting to 0. Your kernel may not have been built with NUMA support.\n",
      "2024-03-03 21:46:44.912996: I tensorflow/core/common_runtime/pluggable_device/pluggable_device_factory.cc:272] Created TensorFlow device (/job:localhost/replica:0/task:0/device:GPU:0 with 0 MB memory) -> physical PluggableDevice (device: 0, name: METAL, pci bus id: <undefined>)\n"
     ]
    }
   ],
   "source": [
    "import gymnasium as gym\n",
    "from ppo_agent import PPOAgent\n",
    "import tensorflow as tf"
   ]
  },
  {
   "cell_type": "code",
   "execution_count": 2,
   "metadata": {},
   "outputs": [],
   "source": [
    "env = gym.make('CartPole-v1', render_mode='rgb_array')\n",
    "config = {\n",
    "        'clip_param': 0.2,\n",
    "        'activation': 'relu',\n",
    "        'kernel_initializer': 'orthogonal',\n",
    "        'actor_optimizer': tf.keras.optimizers.legacy.Adam,\n",
    "        'critic_optimizer': tf.keras.optimizers.legacy.Adam,\n",
    "        'actor_learning_rate': 0.005,\n",
    "        'critic_learning_rate': 0.005,\n",
    "        'actor_epsilon': 1e-7,\n",
    "        'critic_epsilon': 1e-7,\n",
    "        'actor_clipnorm': 0.5,\n",
    "        'critic_clipnorm': 0.5,\n",
    "        # NORMALIZATION?\n",
    "        # 'n_step': 3,\n",
    "        'discount_factor': 0.99,\n",
    "        'gae_lambda': 0.98,\n",
    "        'conv_layers': [],\n",
    "        'conv_layers_noisy': False,\n",
    "        'critic_width': 64,\n",
    "        'critic_dense_layers': 2,\n",
    "        'critic_dense_layers_noisy': False,\n",
    "        'actor_width': 64,\n",
    "        'actor_dense_layers': 2,\n",
    "        'actor_dense_layers_noisy': False,\n",
    "        # REWARD CLIPPING\n",
    "        'noisy_sigma': 0.5, #\n",
    "        'loss_function': tf.keras.losses.KLDivergence(),\n",
    "        'num_epochs': 30,\n",
    "        'steps_per_epoch': 4800,\n",
    "        'train_policy_iterations': 5,\n",
    "        'train_value_iterations': 5,\n",
    "        'target_kl': 0.02,\n",
    "        'entropy_coefficient': 0.01,\n",
    "        'num_minibatches': 4,\n",
    "        # 'per_epsilon': 0.001,\n",
    "        # 'per_alpha': 0.5,\n",
    "        # 'per_beta': 0.5,\n",
    "        # 'per_beta_increase': hp.uniform('per_beta_increase', 0, 0.015),\n",
    "        # 'v_min': -500.0, # MIN GAME SCORE\n",
    "        # 'v_max': 500.0, # MAX GAME SCORE\n",
    "        # 'search_max_depth': 5,\n",
    "        # 'search_max_time': 10,\n",
    "    }\n",
    "\n",
    "agent = PPOAgent(env, config=config)\n"
   ]
  },
  {
   "cell_type": "code",
   "execution_count": 3,
   "metadata": {},
   "outputs": [],
   "source": [
    "# agent.actor.summary()"
   ]
  },
  {
   "cell_type": "code",
   "execution_count": 4,
   "metadata": {},
   "outputs": [
    {
     "name": "stdout",
     "output_type": "stream",
     "text": [
      "score:  16.0\n",
      "score:  45.0\n",
      "score:  31.0\n",
      "score:  46.0\n",
      "score:  53.0\n",
      "score:  30.0\n",
      "score:  109.0\n",
      "score:  9.0\n",
      "score:  104.0\n",
      "score:  26.0\n",
      "score:  27.0\n",
      "score:  37.0\n",
      "score:  57.0\n",
      "score:  28.0\n",
      "score:  100.0\n",
      "score:  38.0\n",
      "score:  82.0\n",
      "score:  13.0\n",
      "score:  118.0\n",
      "score:  67.0\n",
      "score:  37.0\n",
      "score:  86.0\n",
      "score:  34.0\n",
      "score:  57.0\n",
      "score:  15.0\n",
      "score:  17.0\n",
      "score:  32.0\n",
      "score:  22.0\n",
      "score:  62.0\n",
      "score:  168.0\n",
      "score:  13.0\n",
      "score:  29.0\n",
      "score:  9.0\n",
      "score:  56.0\n",
      "score:  36.0\n",
      "score:  47.0\n",
      "score:  38.0\n",
      "score:  46.0\n",
      "score:  26.0\n",
      "score:  43.0\n",
      "score:  33.0\n",
      "score:  14.0\n",
      "score:  13.0\n",
      "score:  40.0\n",
      "score:  77.0\n",
      "score:  33.0\n",
      "score:  26.0\n",
      "score:  19.0\n",
      "score:  24.0\n",
      "score:  40.0\n",
      "score:  75.0\n",
      "score:  11.0\n",
      "score:  22.0\n",
      "score:  126.0\n",
      "score:  89.0\n",
      "score:  14.0\n",
      "score:  75.0\n",
      "score:  12.0\n",
      "score:  74.0\n",
      "score:  45.0\n",
      "score:  16.0\n",
      "score:  29.0\n",
      "score:  76.0\n",
      "score:  63.0\n",
      "score:  71.0\n",
      "score:  13.0\n",
      "score:  68.0\n",
      "score:  25.0\n",
      "score:  32.0\n",
      "score:  45.0\n",
      "score:  14.0\n",
      "score:  41.0\n",
      "score:  20.0\n",
      "score:  69.0\n",
      "score:  91.0\n",
      "score:  144.0\n",
      "score:  19.0\n",
      "score:  55.0\n",
      "score:  59.0\n",
      "score:  24.0\n",
      "score:  14.0\n",
      "score:  52.0\n",
      "score:  38.0\n",
      "score:  21.0\n",
      "score:  23.0\n",
      "score:  40.0\n",
      "score:  29.0\n",
      "score:  62.0\n",
      "score:  16.0\n",
      "score:  24.0\n",
      "score:  44.0\n",
      "score:  32.0\n",
      "score:  16.0\n",
      "score:  27.0\n",
      "score:  14.0\n",
      "score:  27.0\n",
      "score:  22.0\n",
      "score:  18.0\n",
      "score:  40.0\n",
      "Moviepy - Building video /Users/jonathanlamontange-kratz/Documents/GitHub/rl-stuff/ppo/videos/1709520406.106061/rl-video-episode-0.mp4.\n",
      "Moviepy - Writing video /Users/jonathanlamontange-kratz/Documents/GitHub/rl-stuff/ppo/videos/1709520406.106061/rl-video-episode-0.mp4\n",
      "\n"
     ]
    },
    {
     "name": "stderr",
     "output_type": "stream",
     "text": [
      "                                                             "
     ]
    },
    {
     "name": "stdout",
     "output_type": "stream",
     "text": [
      "Moviepy - Done !\n",
      "Moviepy - video ready /Users/jonathanlamontange-kratz/Documents/GitHub/rl-stuff/ppo/videos/1709520406.106061/rl-video-episode-0.mp4\n",
      "score:  44.0\n"
     ]
    },
    {
     "name": "stderr",
     "output_type": "stream",
     "text": [
      "\r"
     ]
    },
    {
     "name": "stdout",
     "output_type": "stream",
     "text": [
      "WARNING:tensorflow:Model's `__init__()` arguments contain non-serializable objects. Please implement a `get_config()` method in the subclassed Model for proper saving and loading. Defaulting to empty config.\n",
      "WARNING:tensorflow:Model's `__init__()` arguments contain non-serializable objects. Please implement a `get_config()` method in the subclassed Model for proper saving and loading. Defaulting to empty config.\n",
      "WARNING:tensorflow:Model's `__init__()` arguments contain non-serializable objects. Please implement a `get_config()` method in the subclassed Model for proper saving and loading. Defaulting to empty config.\n",
      "WARNING:tensorflow:Model's `__init__()` arguments contain non-serializable objects. Please implement a `get_config()` method in the subclassed Model for proper saving and loading. Defaulting to empty config.\n",
      "WARNING:tensorflow:Model's `__init__()` arguments contain non-serializable objects. Please implement a `get_config()` method in the subclassed Model for proper saving and loading. Defaulting to empty config.\n",
      "WARNING:tensorflow:Model's `__init__()` arguments contain non-serializable objects. Please implement a `get_config()` method in the subclassed Model for proper saving and loading. Defaulting to empty config.\n",
      "Moviepy - Building video /Users/jonathanlamontange-kratz/Documents/GitHub/rl-stuff/ppo/videos/1709520406.106061/rl-video-episode-1.mp4.\n",
      "Moviepy - Writing video /Users/jonathanlamontange-kratz/Documents/GitHub/rl-stuff/ppo/videos/1709520406.106061/rl-video-episode-1.mp4\n",
      "\n"
     ]
    },
    {
     "name": "stderr",
     "output_type": "stream",
     "text": [
      "                                                               \r"
     ]
    },
    {
     "name": "stdout",
     "output_type": "stream",
     "text": [
      "Moviepy - Done !\n",
      "Moviepy - video ready /Users/jonathanlamontange-kratz/Documents/GitHub/rl-stuff/ppo/videos/1709520406.106061/rl-video-episode-1.mp4\n",
      "score:  197.0\n",
      "score:  181.0\n",
      "score:  187.0\n",
      "score:  249.0\n",
      "score:  189.0\n",
      "score:  374.0\n",
      "score:  203.0\n",
      "Moviepy - Building video /Users/jonathanlamontange-kratz/Documents/GitHub/rl-stuff/ppo/videos/1709520406.106061/rl-video-episode-8.mp4.\n",
      "Moviepy - Writing video /Users/jonathanlamontange-kratz/Documents/GitHub/rl-stuff/ppo/videos/1709520406.106061/rl-video-episode-8.mp4\n",
      "\n"
     ]
    },
    {
     "name": "stderr",
     "output_type": "stream",
     "text": [
      "                                                              \r"
     ]
    },
    {
     "name": "stdout",
     "output_type": "stream",
     "text": [
      "Moviepy - Done !\n",
      "Moviepy - video ready /Users/jonathanlamontange-kratz/Documents/GitHub/rl-stuff/ppo/videos/1709520406.106061/rl-video-episode-8.mp4\n",
      "score:  209.0\n",
      "score:  173.0\n",
      "score:  178.0\n",
      "score:  158.0\n",
      "score:  243.0\n",
      "score:  164.0\n",
      "score:  189.0\n",
      "score:  187.0\n",
      "score:  421.0\n",
      "score:  167.0\n",
      "score:  154.0\n",
      "score:  203.0\n",
      "score:  162.0\n",
      "score:  144.0\n",
      "score:  216.0\n",
      "score:  187.0\n",
      "score:  213.0\n",
      "score:  173.0\n",
      "score:  176.0\n",
      "Moviepy - Building video /Users/jonathanlamontange-kratz/Documents/GitHub/rl-stuff/ppo/videos/1709520406.106061/rl-video-episode-27.mp4.\n",
      "Moviepy - Writing video /Users/jonathanlamontange-kratz/Documents/GitHub/rl-stuff/ppo/videos/1709520406.106061/rl-video-episode-27.mp4\n",
      "\n"
     ]
    },
    {
     "name": "stderr",
     "output_type": "stream",
     "text": [
      "                                                               \r"
     ]
    },
    {
     "name": "stdout",
     "output_type": "stream",
     "text": [
      "Moviepy - Done !\n",
      "Moviepy - video ready /Users/jonathanlamontange-kratz/Documents/GitHub/rl-stuff/ppo/videos/1709520406.106061/rl-video-episode-27.mp4\n",
      "score:  153.0\n",
      "score:  145.0\n",
      "score:  214.0\n",
      "score:  152.0\n",
      "score:  140.0\n",
      "score:  253.0\n",
      "score:  191.0\n",
      "score:  172.0\n",
      "score:  215.0\n",
      "score:  306.0\n",
      "score:  162.0\n",
      "score:  183.0\n",
      "score:  197.0\n",
      "score:  123.0\n",
      "score:  164.0\n",
      "score:  177.0\n",
      "score:  179.0\n",
      "score:  365.0\n",
      "score:  185.0\n",
      "score:  124.0\n",
      "score:  177.0\n",
      "score:  200.0\n",
      "score:  167.0\n",
      "score:  181.0\n",
      "score:  131.0\n",
      "score:  376.0\n",
      "score:  268.0\n",
      "score:  169.0\n",
      "score:  159.0\n",
      "score:  170.0\n",
      "score:  153.0\n",
      "score:  204.0\n",
      "score:  163.0\n",
      "score:  195.0\n",
      "score:  201.0\n",
      "score:  213.0\n",
      "score:  148.0\n",
      "Moviepy - Building video /Users/jonathanlamontange-kratz/Documents/GitHub/rl-stuff/ppo/videos/1709520406.106061/rl-video-episode-64.mp4.\n",
      "Moviepy - Writing video /Users/jonathanlamontange-kratz/Documents/GitHub/rl-stuff/ppo/videos/1709520406.106061/rl-video-episode-64.mp4\n",
      "\n"
     ]
    },
    {
     "name": "stderr",
     "output_type": "stream",
     "text": [
      "                                                              \r"
     ]
    },
    {
     "name": "stdout",
     "output_type": "stream",
     "text": [
      "Moviepy - Done !\n",
      "Moviepy - video ready /Users/jonathanlamontange-kratz/Documents/GitHub/rl-stuff/ppo/videos/1709520406.106061/rl-video-episode-64.mp4\n",
      "score:  186.0\n",
      "score:  184.0\n",
      "score:  184.0\n",
      "score:  151.0\n",
      "score:  144.0\n",
      "score:  134.0\n",
      "score:  205.0\n",
      "score:  353.0\n",
      "score:  161.0\n",
      "score:  227.0\n",
      "score:  193.0\n",
      "score:  164.0\n",
      "score:  185.0\n",
      "score:  176.0\n",
      "score:  243.0\n",
      "score:  160.0\n",
      "score:  150.0\n",
      "score:  188.0\n",
      "score:  329.0\n",
      "score:  146.0\n",
      "score:  200.0\n",
      "score:  181.0\n",
      "score:  227.0\n",
      "score:  196.0\n",
      "score:  190.0\n",
      "score:  202.0\n",
      "score:  139.0\n",
      "score:  172.0\n",
      "score:  170.0\n",
      "score:  193.0\n",
      "score:  125.0\n",
      "score:  180.0\n",
      "score:  153.0\n",
      "score:  159.0\n",
      "score:  179.0\n",
      "score:  283.0\n"
     ]
    },
    {
     "name": "stderr",
     "output_type": "stream",
     "text": [
      "/Users/jonathanlamontange-kratz/Library/Python/3.9/lib/python/site-packages/gymnasium/wrappers/record_video.py:94: UserWarning: \u001b[33mWARN: Overwriting existing videos at /Users/jonathanlamontange-kratz/Documents/GitHub/rl-stuff/ppo/videos/1709520406.106061 folder (try specifying a different `video_folder` for the `RecordVideo` wrapper if this is not desired)\u001b[0m\n",
      "  logger.warn(\n"
     ]
    },
    {
     "name": "stdout",
     "output_type": "stream",
     "text": [
      "Moviepy - Building video /Users/jonathanlamontange-kratz/Documents/GitHub/rl-stuff/ppo/videos/1709520406.106061/rl-video-episode-0.mp4.\n",
      "Moviepy - Writing video /Users/jonathanlamontange-kratz/Documents/GitHub/rl-stuff/ppo/videos/1709520406.106061/rl-video-episode-0.mp4\n",
      "\n"
     ]
    },
    {
     "name": "stderr",
     "output_type": "stream",
     "text": [
      "                                                               \r"
     ]
    },
    {
     "name": "stdout",
     "output_type": "stream",
     "text": [
      "Moviepy - Done !\n",
      "Moviepy - video ready /Users/jonathanlamontange-kratz/Documents/GitHub/rl-stuff/ppo/videos/1709520406.106061/rl-video-episode-0.mp4\n",
      "score:  200.0\n",
      "WARNING:tensorflow:Model's `__init__()` arguments contain non-serializable objects. Please implement a `get_config()` method in the subclassed Model for proper saving and loading. Defaulting to empty config.\n",
      "WARNING:tensorflow:Model's `__init__()` arguments contain non-serializable objects. Please implement a `get_config()` method in the subclassed Model for proper saving and loading. Defaulting to empty config.\n",
      "WARNING:tensorflow:Model's `__init__()` arguments contain non-serializable objects. Please implement a `get_config()` method in the subclassed Model for proper saving and loading. Defaulting to empty config.\n",
      "WARNING:tensorflow:Model's `__init__()` arguments contain non-serializable objects. Please implement a `get_config()` method in the subclassed Model for proper saving and loading. Defaulting to empty config.\n",
      "WARNING:tensorflow:Model's `__init__()` arguments contain non-serializable objects. Please implement a `get_config()` method in the subclassed Model for proper saving and loading. Defaulting to empty config.\n",
      "WARNING:tensorflow:Model's `__init__()` arguments contain non-serializable objects. Please implement a `get_config()` method in the subclassed Model for proper saving and loading. Defaulting to empty config.\n",
      "Early stopping at iteration 0\n",
      "Early stopping at iteration 1\n",
      "Early stopping at iteration 2\n",
      "Early stopping at iteration 3\n",
      "Early stopping at iteration 4\n",
      "Moviepy - Building video /Users/jonathanlamontange-kratz/Documents/GitHub/rl-stuff/ppo/videos/1709520406.106061/rl-video-episode-1.mp4.\n",
      "Moviepy - Writing video /Users/jonathanlamontange-kratz/Documents/GitHub/rl-stuff/ppo/videos/1709520406.106061/rl-video-episode-1.mp4\n",
      "\n"
     ]
    },
    {
     "name": "stderr",
     "output_type": "stream",
     "text": [
      "                                                               \r"
     ]
    },
    {
     "name": "stdout",
     "output_type": "stream",
     "text": [
      "Moviepy - Done !\n",
      "Moviepy - video ready /Users/jonathanlamontange-kratz/Documents/GitHub/rl-stuff/ppo/videos/1709520406.106061/rl-video-episode-1.mp4\n",
      "score:  220.0\n",
      "score:  200.0\n",
      "score:  288.0\n",
      "score:  225.0\n",
      "score:  292.0\n",
      "score:  325.0\n",
      "score:  178.0\n",
      "Moviepy - Building video /Users/jonathanlamontange-kratz/Documents/GitHub/rl-stuff/ppo/videos/1709520406.106061/rl-video-episode-8.mp4.\n",
      "Moviepy - Writing video /Users/jonathanlamontange-kratz/Documents/GitHub/rl-stuff/ppo/videos/1709520406.106061/rl-video-episode-8.mp4\n",
      "\n"
     ]
    },
    {
     "name": "stderr",
     "output_type": "stream",
     "text": [
      "                                                               \r"
     ]
    },
    {
     "name": "stdout",
     "output_type": "stream",
     "text": [
      "Moviepy - Done !\n",
      "Moviepy - video ready /Users/jonathanlamontange-kratz/Documents/GitHub/rl-stuff/ppo/videos/1709520406.106061/rl-video-episode-8.mp4\n",
      "score:  212.0\n",
      "score:  247.0\n",
      "score:  209.0\n",
      "score:  190.0\n",
      "score:  500.0\n",
      "score:  251.0\n",
      "score:  248.0\n",
      "score:  302.0\n",
      "score:  216.0\n",
      "score:  244.0\n",
      "score:  173.0\n",
      "score:  201.0\n",
      "score:  162.0\n",
      "score:  294.0\n",
      "score:  269.0\n",
      "score:  167.0\n",
      "score:  500.0\n",
      "Moviepy - Building video /Users/jonathanlamontange-kratz/Documents/GitHub/rl-stuff/ppo/videos/1709520406.106061/rl-video-episode-125.mp4.\n",
      "Moviepy - Writing video /Users/jonathanlamontange-kratz/Documents/GitHub/rl-stuff/ppo/videos/1709520406.106061/rl-video-episode-125.mp4\n",
      "\n"
     ]
    },
    {
     "name": "stderr",
     "output_type": "stream",
     "text": [
      "                                                              \r"
     ]
    },
    {
     "name": "stdout",
     "output_type": "stream",
     "text": [
      "Moviepy - Done !\n",
      "Moviepy - video ready /Users/jonathanlamontange-kratz/Documents/GitHub/rl-stuff/ppo/videos/1709520406.106061/rl-video-episode-125.mp4\n",
      "score:  183.0\n",
      "score:  259.0\n",
      "Moviepy - Building video /Users/jonathanlamontange-kratz/Documents/GitHub/rl-stuff/ppo/videos/1709520406.106061/rl-video-episode-27.mp4.\n",
      "Moviepy - Writing video /Users/jonathanlamontange-kratz/Documents/GitHub/rl-stuff/ppo/videos/1709520406.106061/rl-video-episode-27.mp4\n",
      "\n"
     ]
    },
    {
     "name": "stderr",
     "output_type": "stream",
     "text": [
      "                                                               \r"
     ]
    },
    {
     "name": "stdout",
     "output_type": "stream",
     "text": [
      "Moviepy - Done !\n",
      "Moviepy - video ready /Users/jonathanlamontange-kratz/Documents/GitHub/rl-stuff/ppo/videos/1709520406.106061/rl-video-episode-27.mp4\n",
      "score:  235.0\n",
      "score:  279.0\n",
      "score:  232.0\n",
      "score:  193.0\n",
      "score:  242.0\n",
      "score:  229.0\n",
      "score:  161.0\n",
      "score:  141.0\n",
      "score:  462.0\n",
      "score:  442.0\n",
      "score:  246.0\n",
      "score:  390.0\n",
      "score:  168.0\n",
      "score:  338.0\n",
      "score:  200.0\n",
      "score:  198.0\n",
      "score:  201.0\n",
      "score:  284.0\n",
      "score:  311.0\n",
      "score:  191.0\n",
      "score:  176.0\n",
      "score:  216.0\n",
      "score:  308.0\n",
      "score:  471.0\n",
      "score:  235.0\n",
      "score:  461.0\n",
      "score:  399.0\n",
      "score:  353.0\n",
      "score:  383.0\n",
      "score:  230.0\n",
      "score:  181.0\n",
      "score:  160.0\n",
      "score:  278.0\n",
      "score:  282.0\n",
      "score:  167.0\n",
      "score:  193.0\n",
      "score:  201.0\n",
      "Moviepy - Building video /Users/jonathanlamontange-kratz/Documents/GitHub/rl-stuff/ppo/videos/1709520406.106061/rl-video-episode-64.mp4.\n",
      "Moviepy - Writing video /Users/jonathanlamontange-kratz/Documents/GitHub/rl-stuff/ppo/videos/1709520406.106061/rl-video-episode-64.mp4\n",
      "\n"
     ]
    },
    {
     "name": "stderr",
     "output_type": "stream",
     "text": [
      "                                                              \r"
     ]
    },
    {
     "name": "stdout",
     "output_type": "stream",
     "text": [
      "Moviepy - Done !\n",
      "Moviepy - video ready /Users/jonathanlamontange-kratz/Documents/GitHub/rl-stuff/ppo/videos/1709520406.106061/rl-video-episode-64.mp4\n",
      "score:  176.0\n",
      "score:  177.0\n",
      "score:  302.0\n",
      "score:  292.0\n",
      "score:  272.0\n",
      "score:  188.0\n",
      "score:  219.0\n",
      "score:  236.0\n",
      "score:  285.0\n",
      "score:  217.0\n",
      "score:  238.0\n",
      "score:  444.0\n",
      "score:  308.0\n",
      "score:  234.0\n",
      "score:  269.0\n",
      "score:  228.0\n",
      "score:  216.0\n",
      "score:  276.0\n",
      "score:  216.0\n",
      "score:  202.0\n",
      "score:  184.0\n",
      "score:  210.0\n",
      "score:  190.0\n",
      "score:  270.0\n",
      "score:  216.0\n",
      "score:  189.0\n",
      "score:  170.0\n",
      "score:  231.0\n",
      "score:  199.0\n",
      "score:  272.0\n",
      "score:  323.0\n",
      "score:  236.0\n",
      "score:  249.0\n",
      "score:  326.0\n",
      "score:  221.0\n",
      "score:  217.0\n"
     ]
    },
    {
     "name": "stderr",
     "output_type": "stream",
     "text": [
      "/Users/jonathanlamontange-kratz/Library/Python/3.9/lib/python/site-packages/gymnasium/wrappers/record_video.py:94: UserWarning: \u001b[33mWARN: Overwriting existing videos at /Users/jonathanlamontange-kratz/Documents/GitHub/rl-stuff/ppo/videos/1709520406.106061 folder (try specifying a different `video_folder` for the `RecordVideo` wrapper if this is not desired)\u001b[0m\n",
      "  logger.warn(\n"
     ]
    },
    {
     "name": "stdout",
     "output_type": "stream",
     "text": [
      "Moviepy - Building video /Users/jonathanlamontange-kratz/Documents/GitHub/rl-stuff/ppo/videos/1709520406.106061/rl-video-episode-0.mp4.\n",
      "Moviepy - Writing video /Users/jonathanlamontange-kratz/Documents/GitHub/rl-stuff/ppo/videos/1709520406.106061/rl-video-episode-0.mp4\n",
      "\n"
     ]
    },
    {
     "name": "stderr",
     "output_type": "stream",
     "text": [
      "                                                              \r"
     ]
    },
    {
     "name": "stdout",
     "output_type": "stream",
     "text": [
      "Moviepy - Done !\n",
      "Moviepy - video ready /Users/jonathanlamontange-kratz/Documents/GitHub/rl-stuff/ppo/videos/1709520406.106061/rl-video-episode-0.mp4\n",
      "score:  190.0\n",
      "WARNING:tensorflow:Model's `__init__()` arguments contain non-serializable objects. Please implement a `get_config()` method in the subclassed Model for proper saving and loading. Defaulting to empty config.\n",
      "WARNING:tensorflow:Model's `__init__()` arguments contain non-serializable objects. Please implement a `get_config()` method in the subclassed Model for proper saving and loading. Defaulting to empty config.\n",
      "WARNING:tensorflow:Model's `__init__()` arguments contain non-serializable objects. Please implement a `get_config()` method in the subclassed Model for proper saving and loading. Defaulting to empty config.\n",
      "WARNING:tensorflow:Model's `__init__()` arguments contain non-serializable objects. Please implement a `get_config()` method in the subclassed Model for proper saving and loading. Defaulting to empty config.\n",
      "WARNING:tensorflow:Model's `__init__()` arguments contain non-serializable objects. Please implement a `get_config()` method in the subclassed Model for proper saving and loading. Defaulting to empty config.\n",
      "WARNING:tensorflow:Model's `__init__()` arguments contain non-serializable objects. Please implement a `get_config()` method in the subclassed Model for proper saving and loading. Defaulting to empty config.\n",
      "Early stopping at iteration 0\n",
      "Early stopping at iteration 1\n",
      "Early stopping at iteration 2\n",
      "Early stopping at iteration 3\n",
      "Early stopping at iteration 4\n",
      "Moviepy - Building video /Users/jonathanlamontange-kratz/Documents/GitHub/rl-stuff/ppo/videos/1709520406.106061/rl-video-episode-1.mp4.\n",
      "Moviepy - Writing video /Users/jonathanlamontange-kratz/Documents/GitHub/rl-stuff/ppo/videos/1709520406.106061/rl-video-episode-1.mp4\n",
      "\n"
     ]
    },
    {
     "name": "stderr",
     "output_type": "stream",
     "text": [
      "                                                               \r"
     ]
    },
    {
     "name": "stdout",
     "output_type": "stream",
     "text": [
      "Moviepy - Done !\n",
      "Moviepy - video ready /Users/jonathanlamontange-kratz/Documents/GitHub/rl-stuff/ppo/videos/1709520406.106061/rl-video-episode-1.mp4\n",
      "score:  158.0\n",
      "score:  193.0\n",
      "score:  162.0\n",
      "score:  167.0\n",
      "score:  228.0\n",
      "score:  172.0\n",
      "score:  236.0\n",
      "Moviepy - Building video /Users/jonathanlamontange-kratz/Documents/GitHub/rl-stuff/ppo/videos/1709520406.106061/rl-video-episode-8.mp4.\n",
      "Moviepy - Writing video /Users/jonathanlamontange-kratz/Documents/GitHub/rl-stuff/ppo/videos/1709520406.106061/rl-video-episode-8.mp4\n",
      "\n"
     ]
    },
    {
     "name": "stderr",
     "output_type": "stream",
     "text": [
      "                                                              \r"
     ]
    },
    {
     "name": "stdout",
     "output_type": "stream",
     "text": [
      "Moviepy - Done !\n",
      "Moviepy - video ready /Users/jonathanlamontange-kratz/Documents/GitHub/rl-stuff/ppo/videos/1709520406.106061/rl-video-episode-8.mp4\n",
      "score:  190.0\n",
      "score:  145.0\n",
      "score:  175.0\n",
      "score:  138.0\n",
      "score:  158.0\n",
      "score:  200.0\n",
      "score:  176.0\n",
      "score:  247.0\n",
      "Moviepy - Building video /Users/jonathanlamontange-kratz/Documents/GitHub/rl-stuff/ppo/videos/1709520406.106061/rl-video-episode-216.mp4.\n",
      "Moviepy - Writing video /Users/jonathanlamontange-kratz/Documents/GitHub/rl-stuff/ppo/videos/1709520406.106061/rl-video-episode-216.mp4\n",
      "\n"
     ]
    },
    {
     "name": "stderr",
     "output_type": "stream",
     "text": [
      "                                                              \r"
     ]
    },
    {
     "name": "stdout",
     "output_type": "stream",
     "text": [
      "Moviepy - Done !\n",
      "Moviepy - video ready /Users/jonathanlamontange-kratz/Documents/GitHub/rl-stuff/ppo/videos/1709520406.106061/rl-video-episode-216.mp4\n",
      "score:  166.0\n",
      "score:  190.0\n",
      "score:  141.0\n",
      "score:  229.0\n",
      "score:  199.0\n",
      "score:  136.0\n",
      "score:  219.0\n",
      "score:  187.0\n",
      "score:  158.0\n",
      "Moviepy - Building video /Users/jonathanlamontange-kratz/Documents/GitHub/rl-stuff/ppo/videos/1709520406.106061/rl-video-episode-125.mp4.\n",
      "Moviepy - Writing video /Users/jonathanlamontange-kratz/Documents/GitHub/rl-stuff/ppo/videos/1709520406.106061/rl-video-episode-125.mp4\n",
      "\n"
     ]
    },
    {
     "name": "stderr",
     "output_type": "stream",
     "text": [
      "                                                              \r"
     ]
    },
    {
     "name": "stdout",
     "output_type": "stream",
     "text": [
      "Moviepy - Done !\n",
      "Moviepy - video ready /Users/jonathanlamontange-kratz/Documents/GitHub/rl-stuff/ppo/videos/1709520406.106061/rl-video-episode-125.mp4\n",
      "score:  113.0\n",
      "score:  177.0\n",
      "Moviepy - Building video /Users/jonathanlamontange-kratz/Documents/GitHub/rl-stuff/ppo/videos/1709520406.106061/rl-video-episode-27.mp4.\n",
      "Moviepy - Writing video /Users/jonathanlamontange-kratz/Documents/GitHub/rl-stuff/ppo/videos/1709520406.106061/rl-video-episode-27.mp4\n",
      "\n"
     ]
    },
    {
     "name": "stderr",
     "output_type": "stream",
     "text": [
      "                                                               \r"
     ]
    },
    {
     "name": "stdout",
     "output_type": "stream",
     "text": [
      "Moviepy - Done !\n",
      "Moviepy - video ready /Users/jonathanlamontange-kratz/Documents/GitHub/rl-stuff/ppo/videos/1709520406.106061/rl-video-episode-27.mp4\n",
      "score:  232.0\n",
      "score:  163.0\n",
      "score:  152.0\n",
      "score:  229.0\n",
      "score:  166.0\n",
      "score:  184.0\n",
      "score:  157.0\n",
      "score:  149.0\n",
      "score:  201.0\n",
      "score:  157.0\n",
      "score:  189.0\n",
      "score:  191.0\n",
      "score:  182.0\n",
      "score:  137.0\n",
      "score:  206.0\n",
      "score:  165.0\n",
      "score:  198.0\n",
      "score:  178.0\n",
      "score:  188.0\n",
      "score:  176.0\n",
      "score:  141.0\n",
      "score:  186.0\n",
      "score:  140.0\n",
      "score:  177.0\n",
      "score:  159.0\n",
      "score:  174.0\n",
      "score:  142.0\n",
      "score:  151.0\n",
      "score:  159.0\n",
      "score:  259.0\n",
      "score:  166.0\n",
      "score:  187.0\n",
      "score:  241.0\n",
      "score:  160.0\n",
      "score:  396.0\n",
      "score:  144.0\n",
      "score:  136.0\n",
      "Moviepy - Building video /Users/jonathanlamontange-kratz/Documents/GitHub/rl-stuff/ppo/videos/1709520406.106061/rl-video-episode-64.mp4.\n",
      "Moviepy - Writing video /Users/jonathanlamontange-kratz/Documents/GitHub/rl-stuff/ppo/videos/1709520406.106061/rl-video-episode-64.mp4\n",
      "\n"
     ]
    },
    {
     "name": "stderr",
     "output_type": "stream",
     "text": [
      "                                                              \r"
     ]
    },
    {
     "name": "stdout",
     "output_type": "stream",
     "text": [
      "Moviepy - Done !\n",
      "Moviepy - video ready /Users/jonathanlamontange-kratz/Documents/GitHub/rl-stuff/ppo/videos/1709520406.106061/rl-video-episode-64.mp4\n",
      "score:  139.0\n",
      "score:  197.0\n",
      "score:  154.0\n",
      "score:  143.0\n",
      "score:  141.0\n",
      "score:  173.0\n",
      "score:  188.0\n",
      "score:  147.0\n",
      "score:  220.0\n",
      "score:  196.0\n",
      "score:  238.0\n",
      "score:  202.0\n",
      "score:  157.0\n",
      "score:  196.0\n",
      "score:  189.0\n",
      "score:  209.0\n",
      "score:  173.0\n",
      "score:  138.0\n",
      "score:  145.0\n",
      "score:  155.0\n",
      "score:  213.0\n",
      "score:  234.0\n",
      "score:  175.0\n",
      "score:  150.0\n",
      "score:  171.0\n",
      "score:  202.0\n",
      "score:  167.0\n",
      "score:  177.0\n",
      "score:  196.0\n",
      "score:  183.0\n",
      "score:  253.0\n",
      "score:  165.0\n",
      "score:  169.0\n",
      "score:  151.0\n",
      "score:  177.0\n",
      "score:  173.0\n"
     ]
    },
    {
     "name": "stderr",
     "output_type": "stream",
     "text": [
      "/Users/jonathanlamontange-kratz/Library/Python/3.9/lib/python/site-packages/gymnasium/wrappers/record_video.py:94: UserWarning: \u001b[33mWARN: Overwriting existing videos at /Users/jonathanlamontange-kratz/Documents/GitHub/rl-stuff/ppo/videos/1709520406.106061 folder (try specifying a different `video_folder` for the `RecordVideo` wrapper if this is not desired)\u001b[0m\n",
      "  logger.warn(\n"
     ]
    },
    {
     "name": "stdout",
     "output_type": "stream",
     "text": [
      "Moviepy - Building video /Users/jonathanlamontange-kratz/Documents/GitHub/rl-stuff/ppo/videos/1709520406.106061/rl-video-episode-0.mp4.\n",
      "Moviepy - Writing video /Users/jonathanlamontange-kratz/Documents/GitHub/rl-stuff/ppo/videos/1709520406.106061/rl-video-episode-0.mp4\n",
      "\n"
     ]
    },
    {
     "name": "stderr",
     "output_type": "stream",
     "text": [
      "                                                               \r"
     ]
    },
    {
     "name": "stdout",
     "output_type": "stream",
     "text": [
      "Moviepy - Done !\n",
      "Moviepy - video ready /Users/jonathanlamontange-kratz/Documents/GitHub/rl-stuff/ppo/videos/1709520406.106061/rl-video-episode-0.mp4\n",
      "score:  162.0\n",
      "WARNING:tensorflow:Model's `__init__()` arguments contain non-serializable objects. Please implement a `get_config()` method in the subclassed Model for proper saving and loading. Defaulting to empty config.\n",
      "WARNING:tensorflow:Model's `__init__()` arguments contain non-serializable objects. Please implement a `get_config()` method in the subclassed Model for proper saving and loading. Defaulting to empty config.\n",
      "WARNING:tensorflow:Model's `__init__()` arguments contain non-serializable objects. Please implement a `get_config()` method in the subclassed Model for proper saving and loading. Defaulting to empty config.\n",
      "WARNING:tensorflow:Model's `__init__()` arguments contain non-serializable objects. Please implement a `get_config()` method in the subclassed Model for proper saving and loading. Defaulting to empty config.\n",
      "WARNING:tensorflow:Model's `__init__()` arguments contain non-serializable objects. Please implement a `get_config()` method in the subclassed Model for proper saving and loading. Defaulting to empty config.\n",
      "WARNING:tensorflow:Model's `__init__()` arguments contain non-serializable objects. Please implement a `get_config()` method in the subclassed Model for proper saving and loading. Defaulting to empty config.\n",
      "Early stopping at iteration 0\n",
      "Early stopping at iteration 1\n",
      "Early stopping at iteration 2\n",
      "Early stopping at iteration 3\n",
      "Early stopping at iteration 4\n",
      "Moviepy - Building video /Users/jonathanlamontange-kratz/Documents/GitHub/rl-stuff/ppo/videos/1709520406.106061/rl-video-episode-1.mp4.\n",
      "Moviepy - Writing video /Users/jonathanlamontange-kratz/Documents/GitHub/rl-stuff/ppo/videos/1709520406.106061/rl-video-episode-1.mp4\n",
      "\n"
     ]
    },
    {
     "name": "stderr",
     "output_type": "stream",
     "text": [
      "                                                               \r"
     ]
    },
    {
     "name": "stdout",
     "output_type": "stream",
     "text": [
      "Moviepy - Done !\n",
      "Moviepy - video ready /Users/jonathanlamontange-kratz/Documents/GitHub/rl-stuff/ppo/videos/1709520406.106061/rl-video-episode-1.mp4\n",
      "score:  155.0\n",
      "score:  176.0\n",
      "score:  233.0\n",
      "score:  184.0\n",
      "score:  145.0\n",
      "score:  178.0\n",
      "score:  264.0\n",
      "Moviepy - Building video /Users/jonathanlamontange-kratz/Documents/GitHub/rl-stuff/ppo/videos/1709520406.106061/rl-video-episode-8.mp4.\n",
      "Moviepy - Writing video /Users/jonathanlamontange-kratz/Documents/GitHub/rl-stuff/ppo/videos/1709520406.106061/rl-video-episode-8.mp4\n",
      "\n"
     ]
    },
    {
     "name": "stderr",
     "output_type": "stream",
     "text": [
      "                                                               \r"
     ]
    },
    {
     "name": "stdout",
     "output_type": "stream",
     "text": [
      "Moviepy - Done !\n",
      "Moviepy - video ready /Users/jonathanlamontange-kratz/Documents/GitHub/rl-stuff/ppo/videos/1709520406.106061/rl-video-episode-8.mp4\n",
      "score:  223.0\n",
      "score:  247.0\n",
      "score:  127.0\n",
      "score:  158.0\n",
      "score:  168.0\n",
      "score:  141.0\n",
      "score:  135.0\n",
      "score:  132.0\n",
      "Moviepy - Building video /Users/jonathanlamontange-kratz/Documents/GitHub/rl-stuff/ppo/videos/1709520406.106061/rl-video-episode-216.mp4.\n",
      "Moviepy - Writing video /Users/jonathanlamontange-kratz/Documents/GitHub/rl-stuff/ppo/videos/1709520406.106061/rl-video-episode-216.mp4\n",
      "\n"
     ]
    },
    {
     "name": "stderr",
     "output_type": "stream",
     "text": [
      "                                                               \r"
     ]
    },
    {
     "name": "stdout",
     "output_type": "stream",
     "text": [
      "Moviepy - Done !\n",
      "Moviepy - video ready /Users/jonathanlamontange-kratz/Documents/GitHub/rl-stuff/ppo/videos/1709520406.106061/rl-video-episode-216.mp4\n",
      "score:  158.0\n",
      "score:  173.0\n",
      "score:  164.0\n",
      "score:  142.0\n",
      "score:  161.0\n",
      "score:  133.0\n",
      "score:  132.0\n",
      "score:  198.0\n",
      "score:  141.0\n",
      "Moviepy - Building video /Users/jonathanlamontange-kratz/Documents/GitHub/rl-stuff/ppo/videos/1709520406.106061/rl-video-episode-125.mp4.\n",
      "Moviepy - Writing video /Users/jonathanlamontange-kratz/Documents/GitHub/rl-stuff/ppo/videos/1709520406.106061/rl-video-episode-125.mp4\n",
      "\n"
     ]
    },
    {
     "name": "stderr",
     "output_type": "stream",
     "text": [
      "                                                               \r"
     ]
    },
    {
     "name": "stdout",
     "output_type": "stream",
     "text": [
      "Moviepy - Done !\n",
      "Moviepy - video ready /Users/jonathanlamontange-kratz/Documents/GitHub/rl-stuff/ppo/videos/1709520406.106061/rl-video-episode-125.mp4\n",
      "score:  169.0\n",
      "score:  320.0\n",
      "Moviepy - Building video /Users/jonathanlamontange-kratz/Documents/GitHub/rl-stuff/ppo/videos/1709520406.106061/rl-video-episode-27.mp4.\n",
      "Moviepy - Writing video /Users/jonathanlamontange-kratz/Documents/GitHub/rl-stuff/ppo/videos/1709520406.106061/rl-video-episode-27.mp4\n",
      "\n"
     ]
    },
    {
     "name": "stderr",
     "output_type": "stream",
     "text": [
      "                                                               \r"
     ]
    },
    {
     "name": "stdout",
     "output_type": "stream",
     "text": [
      "Moviepy - Done !\n",
      "Moviepy - video ready /Users/jonathanlamontange-kratz/Documents/GitHub/rl-stuff/ppo/videos/1709520406.106061/rl-video-episode-27.mp4\n",
      "score:  150.0\n",
      "score:  185.0\n",
      "score:  189.0\n",
      "score:  133.0\n",
      "score:  251.0\n",
      "score:  139.0\n",
      "score:  166.0\n",
      "score:  134.0\n",
      "score:  167.0\n",
      "score:  145.0\n",
      "score:  153.0\n",
      "score:  173.0\n",
      "score:  145.0\n",
      "score:  139.0\n",
      "score:  145.0\n",
      "score:  160.0\n",
      "Moviepy - Building video /Users/jonathanlamontange-kratz/Documents/GitHub/rl-stuff/ppo/videos/1709520406.106061/rl-video-episode-343.mp4.\n",
      "Moviepy - Writing video /Users/jonathanlamontange-kratz/Documents/GitHub/rl-stuff/ppo/videos/1709520406.106061/rl-video-episode-343.mp4\n",
      "\n"
     ]
    },
    {
     "name": "stderr",
     "output_type": "stream",
     "text": [
      "                                                               \r"
     ]
    },
    {
     "name": "stdout",
     "output_type": "stream",
     "text": [
      "Moviepy - Done !\n",
      "Moviepy - video ready /Users/jonathanlamontange-kratz/Documents/GitHub/rl-stuff/ppo/videos/1709520406.106061/rl-video-episode-343.mp4\n",
      "score:  159.0\n",
      "score:  207.0\n",
      "score:  147.0\n",
      "score:  146.0\n",
      "score:  201.0\n",
      "score:  170.0\n",
      "score:  192.0\n",
      "score:  155.0\n",
      "score:  272.0\n",
      "score:  160.0\n",
      "score:  126.0\n",
      "score:  151.0\n",
      "score:  142.0\n",
      "score:  149.0\n",
      "score:  182.0\n",
      "score:  141.0\n",
      "score:  132.0\n",
      "score:  190.0\n",
      "score:  237.0\n",
      "score:  147.0\n",
      "score:  135.0\n",
      "Moviepy - Building video /Users/jonathanlamontange-kratz/Documents/GitHub/rl-stuff/ppo/videos/1709520406.106061/rl-video-episode-64.mp4.\n",
      "Moviepy - Writing video /Users/jonathanlamontange-kratz/Documents/GitHub/rl-stuff/ppo/videos/1709520406.106061/rl-video-episode-64.mp4\n",
      "\n"
     ]
    },
    {
     "name": "stderr",
     "output_type": "stream",
     "text": [
      "                                                              \r"
     ]
    },
    {
     "name": "stdout",
     "output_type": "stream",
     "text": [
      "Moviepy - Done !\n",
      "Moviepy - video ready /Users/jonathanlamontange-kratz/Documents/GitHub/rl-stuff/ppo/videos/1709520406.106061/rl-video-episode-64.mp4\n",
      "score:  136.0\n",
      "score:  148.0\n",
      "score:  144.0\n",
      "score:  228.0\n",
      "score:  156.0\n",
      "score:  171.0\n",
      "score:  125.0\n",
      "score:  153.0\n",
      "score:  157.0\n",
      "score:  166.0\n",
      "score:  297.0\n",
      "score:  130.0\n",
      "score:  134.0\n",
      "score:  173.0\n",
      "score:  143.0\n",
      "score:  202.0\n",
      "score:  154.0\n",
      "score:  127.0\n",
      "score:  148.0\n",
      "score:  213.0\n",
      "score:  152.0\n",
      "score:  165.0\n",
      "score:  186.0\n",
      "score:  155.0\n",
      "score:  196.0\n",
      "score:  127.0\n",
      "score:  146.0\n",
      "score:  135.0\n",
      "score:  257.0\n",
      "score:  116.0\n",
      "score:  172.0\n",
      "score:  202.0\n",
      "score:  186.0\n",
      "score:  152.0\n",
      "score:  163.0\n",
      "score:  177.0\n"
     ]
    },
    {
     "name": "stderr",
     "output_type": "stream",
     "text": [
      "/Users/jonathanlamontange-kratz/Library/Python/3.9/lib/python/site-packages/gymnasium/wrappers/record_video.py:94: UserWarning: \u001b[33mWARN: Overwriting existing videos at /Users/jonathanlamontange-kratz/Documents/GitHub/rl-stuff/ppo/videos/1709520406.106061 folder (try specifying a different `video_folder` for the `RecordVideo` wrapper if this is not desired)\u001b[0m\n",
      "  logger.warn(\n"
     ]
    },
    {
     "name": "stdout",
     "output_type": "stream",
     "text": [
      "Moviepy - Building video /Users/jonathanlamontange-kratz/Documents/GitHub/rl-stuff/ppo/videos/1709520406.106061/rl-video-episode-0.mp4.\n",
      "Moviepy - Writing video /Users/jonathanlamontange-kratz/Documents/GitHub/rl-stuff/ppo/videos/1709520406.106061/rl-video-episode-0.mp4\n",
      "\n"
     ]
    },
    {
     "name": "stderr",
     "output_type": "stream",
     "text": [
      "                                                               \r"
     ]
    },
    {
     "name": "stdout",
     "output_type": "stream",
     "text": [
      "Moviepy - Done !\n",
      "Moviepy - video ready /Users/jonathanlamontange-kratz/Documents/GitHub/rl-stuff/ppo/videos/1709520406.106061/rl-video-episode-0.mp4\n",
      "score:  181.0\n",
      "WARNING:tensorflow:Model's `__init__()` arguments contain non-serializable objects. Please implement a `get_config()` method in the subclassed Model for proper saving and loading. Defaulting to empty config.\n",
      "WARNING:tensorflow:Model's `__init__()` arguments contain non-serializable objects. Please implement a `get_config()` method in the subclassed Model for proper saving and loading. Defaulting to empty config.\n",
      "WARNING:tensorflow:Model's `__init__()` arguments contain non-serializable objects. Please implement a `get_config()` method in the subclassed Model for proper saving and loading. Defaulting to empty config.\n",
      "WARNING:tensorflow:Model's `__init__()` arguments contain non-serializable objects. Please implement a `get_config()` method in the subclassed Model for proper saving and loading. Defaulting to empty config.\n",
      "WARNING:tensorflow:Model's `__init__()` arguments contain non-serializable objects. Please implement a `get_config()` method in the subclassed Model for proper saving and loading. Defaulting to empty config.\n",
      "WARNING:tensorflow:Model's `__init__()` arguments contain non-serializable objects. Please implement a `get_config()` method in the subclassed Model for proper saving and loading. Defaulting to empty config.\n",
      "Early stopping at iteration 0\n",
      "Early stopping at iteration 1\n",
      "Early stopping at iteration 2\n",
      "Early stopping at iteration 3\n",
      "Early stopping at iteration 4\n",
      "Moviepy - Building video /Users/jonathanlamontange-kratz/Documents/GitHub/rl-stuff/ppo/videos/1709520406.106061/rl-video-episode-1.mp4.\n",
      "Moviepy - Writing video /Users/jonathanlamontange-kratz/Documents/GitHub/rl-stuff/ppo/videos/1709520406.106061/rl-video-episode-1.mp4\n",
      "\n"
     ]
    },
    {
     "name": "stderr",
     "output_type": "stream",
     "text": [
      "                                                               \r"
     ]
    },
    {
     "name": "stdout",
     "output_type": "stream",
     "text": [
      "Moviepy - Done !\n",
      "Moviepy - video ready /Users/jonathanlamontange-kratz/Documents/GitHub/rl-stuff/ppo/videos/1709520406.106061/rl-video-episode-1.mp4\n",
      "score:  243.0\n",
      "score:  237.0\n",
      "score:  206.0\n",
      "score:  231.0\n",
      "score:  153.0\n",
      "score:  172.0\n",
      "score:  157.0\n",
      "Moviepy - Building video /Users/jonathanlamontange-kratz/Documents/GitHub/rl-stuff/ppo/videos/1709520406.106061/rl-video-episode-8.mp4.\n",
      "Moviepy - Writing video /Users/jonathanlamontange-kratz/Documents/GitHub/rl-stuff/ppo/videos/1709520406.106061/rl-video-episode-8.mp4\n",
      "\n"
     ]
    },
    {
     "name": "stderr",
     "output_type": "stream",
     "text": [
      "                                                               \r"
     ]
    },
    {
     "name": "stdout",
     "output_type": "stream",
     "text": [
      "Moviepy - Done !\n",
      "Moviepy - video ready /Users/jonathanlamontange-kratz/Documents/GitHub/rl-stuff/ppo/videos/1709520406.106061/rl-video-episode-8.mp4\n",
      "score:  276.0\n",
      "score:  241.0\n",
      "score:  223.0\n",
      "score:  198.0\n",
      "score:  337.0\n",
      "score:  171.0\n",
      "score:  226.0\n",
      "score:  173.0\n",
      "Moviepy - Building video /Users/jonathanlamontange-kratz/Documents/GitHub/rl-stuff/ppo/videos/1709520406.106061/rl-video-episode-216.mp4.\n",
      "Moviepy - Writing video /Users/jonathanlamontange-kratz/Documents/GitHub/rl-stuff/ppo/videos/1709520406.106061/rl-video-episode-216.mp4\n",
      "\n"
     ]
    },
    {
     "name": "stderr",
     "output_type": "stream",
     "text": [
      "                                                               \r"
     ]
    },
    {
     "name": "stdout",
     "output_type": "stream",
     "text": [
      "Moviepy - Done !\n",
      "Moviepy - video ready /Users/jonathanlamontange-kratz/Documents/GitHub/rl-stuff/ppo/videos/1709520406.106061/rl-video-episode-216.mp4\n",
      "score:  254.0\n",
      "score:  260.0\n",
      "score:  214.0\n",
      "score:  146.0\n",
      "score:  199.0\n",
      "score:  139.0\n",
      "score:  186.0\n",
      "score:  164.0\n",
      "score:  280.0\n",
      "Moviepy - Building video /Users/jonathanlamontange-kratz/Documents/GitHub/rl-stuff/ppo/videos/1709520406.106061/rl-video-episode-125.mp4.\n",
      "Moviepy - Writing video /Users/jonathanlamontange-kratz/Documents/GitHub/rl-stuff/ppo/videos/1709520406.106061/rl-video-episode-125.mp4\n",
      "\n"
     ]
    },
    {
     "name": "stderr",
     "output_type": "stream",
     "text": [
      "                                                              \r"
     ]
    },
    {
     "name": "stdout",
     "output_type": "stream",
     "text": [
      "Moviepy - Done !\n",
      "Moviepy - video ready /Users/jonathanlamontange-kratz/Documents/GitHub/rl-stuff/ppo/videos/1709520406.106061/rl-video-episode-125.mp4\n",
      "score:  162.0\n",
      "score:  140.0\n",
      "Moviepy - Building video /Users/jonathanlamontange-kratz/Documents/GitHub/rl-stuff/ppo/videos/1709520406.106061/rl-video-episode-27.mp4.\n",
      "Moviepy - Writing video /Users/jonathanlamontange-kratz/Documents/GitHub/rl-stuff/ppo/videos/1709520406.106061/rl-video-episode-27.mp4\n",
      "\n"
     ]
    },
    {
     "name": "stderr",
     "output_type": "stream",
     "text": [
      "                                                               \r"
     ]
    },
    {
     "name": "stdout",
     "output_type": "stream",
     "text": [
      "Moviepy - Done !\n",
      "Moviepy - video ready /Users/jonathanlamontange-kratz/Documents/GitHub/rl-stuff/ppo/videos/1709520406.106061/rl-video-episode-27.mp4\n",
      "score:  174.0\n",
      "score:  125.0\n",
      "score:  170.0\n",
      "score:  222.0\n",
      "score:  217.0\n",
      "score:  203.0\n",
      "score:  173.0\n",
      "score:  254.0\n",
      "score:  189.0\n",
      "score:  227.0\n",
      "score:  154.0\n",
      "score:  185.0\n",
      "score:  290.0\n",
      "score:  138.0\n",
      "score:  196.0\n",
      "score:  178.0\n",
      "Moviepy - Building video /Users/jonathanlamontange-kratz/Documents/GitHub/rl-stuff/ppo/videos/1709520406.106061/rl-video-episode-343.mp4.\n",
      "Moviepy - Writing video /Users/jonathanlamontange-kratz/Documents/GitHub/rl-stuff/ppo/videos/1709520406.106061/rl-video-episode-343.mp4\n",
      "\n"
     ]
    },
    {
     "name": "stderr",
     "output_type": "stream",
     "text": [
      "                                                               \r"
     ]
    },
    {
     "name": "stdout",
     "output_type": "stream",
     "text": [
      "Moviepy - Done !\n",
      "Moviepy - video ready /Users/jonathanlamontange-kratz/Documents/GitHub/rl-stuff/ppo/videos/1709520406.106061/rl-video-episode-343.mp4\n",
      "score:  203.0\n",
      "score:  347.0\n",
      "score:  142.0\n",
      "score:  147.0\n",
      "score:  150.0\n",
      "score:  161.0\n",
      "score:  182.0\n",
      "score:  171.0\n",
      "score:  172.0\n",
      "score:  228.0\n",
      "score:  175.0\n",
      "score:  268.0\n",
      "score:  142.0\n",
      "score:  213.0\n",
      "score:  188.0\n",
      "score:  155.0\n",
      "score:  218.0\n",
      "score:  205.0\n",
      "score:  185.0\n",
      "score:  187.0\n",
      "score:  187.0\n",
      "Moviepy - Building video /Users/jonathanlamontange-kratz/Documents/GitHub/rl-stuff/ppo/videos/1709520406.106061/rl-video-episode-64.mp4.\n",
      "Moviepy - Writing video /Users/jonathanlamontange-kratz/Documents/GitHub/rl-stuff/ppo/videos/1709520406.106061/rl-video-episode-64.mp4\n",
      "\n"
     ]
    },
    {
     "name": "stderr",
     "output_type": "stream",
     "text": [
      "                                                               \r"
     ]
    },
    {
     "name": "stdout",
     "output_type": "stream",
     "text": [
      "Moviepy - Done !\n",
      "Moviepy - video ready /Users/jonathanlamontange-kratz/Documents/GitHub/rl-stuff/ppo/videos/1709520406.106061/rl-video-episode-64.mp4\n",
      "score:  188.0\n",
      "score:  260.0\n",
      "score:  276.0\n",
      "score:  205.0\n",
      "score:  330.0\n",
      "score:  197.0\n",
      "score:  214.0\n",
      "score:  178.0\n",
      "score:  196.0\n",
      "score:  139.0\n",
      "score:  177.0\n",
      "score:  208.0\n",
      "score:  199.0\n",
      "score:  240.0\n",
      "score:  221.0\n",
      "score:  227.0\n",
      "score:  170.0\n",
      "score:  364.0\n",
      "score:  219.0\n",
      "score:  212.0\n",
      "score:  176.0\n",
      "score:  204.0\n",
      "score:  194.0\n",
      "score:  194.0\n",
      "score:  203.0\n",
      "score:  161.0\n",
      "score:  170.0\n",
      "score:  182.0\n",
      "score:  242.0\n",
      "score:  157.0\n",
      "score:  158.0\n",
      "score:  159.0\n",
      "score:  183.0\n",
      "score:  229.0\n",
      "score:  134.0\n",
      "score:  196.0\n"
     ]
    },
    {
     "name": "stderr",
     "output_type": "stream",
     "text": [
      "/Users/jonathanlamontange-kratz/Library/Python/3.9/lib/python/site-packages/gymnasium/wrappers/record_video.py:94: UserWarning: \u001b[33mWARN: Overwriting existing videos at /Users/jonathanlamontange-kratz/Documents/GitHub/rl-stuff/ppo/videos/1709520406.106061 folder (try specifying a different `video_folder` for the `RecordVideo` wrapper if this is not desired)\u001b[0m\n",
      "  logger.warn(\n"
     ]
    },
    {
     "name": "stdout",
     "output_type": "stream",
     "text": [
      "Moviepy - Building video /Users/jonathanlamontange-kratz/Documents/GitHub/rl-stuff/ppo/videos/1709520406.106061/rl-video-episode-0.mp4.\n",
      "Moviepy - Writing video /Users/jonathanlamontange-kratz/Documents/GitHub/rl-stuff/ppo/videos/1709520406.106061/rl-video-episode-0.mp4\n",
      "\n"
     ]
    },
    {
     "name": "stderr",
     "output_type": "stream",
     "text": [
      "                                                               \r"
     ]
    },
    {
     "name": "stdout",
     "output_type": "stream",
     "text": [
      "Moviepy - Done !\n",
      "Moviepy - video ready /Users/jonathanlamontange-kratz/Documents/GitHub/rl-stuff/ppo/videos/1709520406.106061/rl-video-episode-0.mp4\n",
      "score:  158.0\n",
      "WARNING:tensorflow:Model's `__init__()` arguments contain non-serializable objects. Please implement a `get_config()` method in the subclassed Model for proper saving and loading. Defaulting to empty config.\n",
      "WARNING:tensorflow:Model's `__init__()` arguments contain non-serializable objects. Please implement a `get_config()` method in the subclassed Model for proper saving and loading. Defaulting to empty config.\n",
      "WARNING:tensorflow:Model's `__init__()` arguments contain non-serializable objects. Please implement a `get_config()` method in the subclassed Model for proper saving and loading. Defaulting to empty config.\n",
      "WARNING:tensorflow:Model's `__init__()` arguments contain non-serializable objects. Please implement a `get_config()` method in the subclassed Model for proper saving and loading. Defaulting to empty config.\n",
      "WARNING:tensorflow:Model's `__init__()` arguments contain non-serializable objects. Please implement a `get_config()` method in the subclassed Model for proper saving and loading. Defaulting to empty config.\n",
      "WARNING:tensorflow:Model's `__init__()` arguments contain non-serializable objects. Please implement a `get_config()` method in the subclassed Model for proper saving and loading. Defaulting to empty config.\n",
      "Early stopping at iteration 0\n",
      "Early stopping at iteration 1\n",
      "Early stopping at iteration 2\n",
      "Early stopping at iteration 3\n",
      "Early stopping at iteration 4\n",
      "Moviepy - Building video /Users/jonathanlamontange-kratz/Documents/GitHub/rl-stuff/ppo/videos/1709520406.106061/rl-video-episode-1.mp4.\n",
      "Moviepy - Writing video /Users/jonathanlamontange-kratz/Documents/GitHub/rl-stuff/ppo/videos/1709520406.106061/rl-video-episode-1.mp4\n",
      "\n"
     ]
    },
    {
     "name": "stderr",
     "output_type": "stream",
     "text": [
      "                                                               \r"
     ]
    },
    {
     "name": "stdout",
     "output_type": "stream",
     "text": [
      "Moviepy - Done !\n",
      "Moviepy - video ready /Users/jonathanlamontange-kratz/Documents/GitHub/rl-stuff/ppo/videos/1709520406.106061/rl-video-episode-1.mp4\n",
      "score:  260.0\n",
      "score:  243.0\n",
      "score:  225.0\n",
      "score:  445.0\n",
      "score:  159.0\n",
      "score:  139.0\n",
      "score:  200.0\n",
      "Moviepy - Building video /Users/jonathanlamontange-kratz/Documents/GitHub/rl-stuff/ppo/videos/1709520406.106061/rl-video-episode-8.mp4.\n",
      "Moviepy - Writing video /Users/jonathanlamontange-kratz/Documents/GitHub/rl-stuff/ppo/videos/1709520406.106061/rl-video-episode-8.mp4\n",
      "\n"
     ]
    },
    {
     "name": "stderr",
     "output_type": "stream",
     "text": [
      "                                                               \r"
     ]
    },
    {
     "name": "stdout",
     "output_type": "stream",
     "text": [
      "Moviepy - Done !\n",
      "Moviepy - video ready /Users/jonathanlamontange-kratz/Documents/GitHub/rl-stuff/ppo/videos/1709520406.106061/rl-video-episode-8.mp4\n",
      "score:  138.0\n",
      "score:  199.0\n",
      "score:  202.0\n",
      "score:  161.0\n",
      "Moviepy - Building video /Users/jonathanlamontange-kratz/Documents/GitHub/rl-stuff/ppo/videos/1709520406.106061/rl-video-episode-512.mp4.\n",
      "Moviepy - Writing video /Users/jonathanlamontange-kratz/Documents/GitHub/rl-stuff/ppo/videos/1709520406.106061/rl-video-episode-512.mp4\n",
      "\n"
     ]
    },
    {
     "name": "stderr",
     "output_type": "stream",
     "text": [
      "                                                               \r"
     ]
    },
    {
     "name": "stdout",
     "output_type": "stream",
     "text": [
      "Moviepy - Done !\n",
      "Moviepy - video ready /Users/jonathanlamontange-kratz/Documents/GitHub/rl-stuff/ppo/videos/1709520406.106061/rl-video-episode-512.mp4\n",
      "score:  194.0\n",
      "score:  177.0\n",
      "score:  173.0\n",
      "score:  131.0\n",
      "Moviepy - Building video /Users/jonathanlamontange-kratz/Documents/GitHub/rl-stuff/ppo/videos/1709520406.106061/rl-video-episode-216.mp4.\n",
      "Moviepy - Writing video /Users/jonathanlamontange-kratz/Documents/GitHub/rl-stuff/ppo/videos/1709520406.106061/rl-video-episode-216.mp4\n",
      "\n"
     ]
    },
    {
     "name": "stderr",
     "output_type": "stream",
     "text": [
      "                                                               \r"
     ]
    },
    {
     "name": "stdout",
     "output_type": "stream",
     "text": [
      "Moviepy - Done !\n",
      "Moviepy - video ready /Users/jonathanlamontange-kratz/Documents/GitHub/rl-stuff/ppo/videos/1709520406.106061/rl-video-episode-216.mp4\n",
      "score:  147.0\n",
      "score:  181.0\n",
      "score:  165.0\n",
      "score:  196.0\n",
      "score:  291.0\n",
      "score:  141.0\n",
      "score:  228.0\n",
      "score:  185.0\n",
      "score:  236.0\n",
      "Moviepy - Building video /Users/jonathanlamontange-kratz/Documents/GitHub/rl-stuff/ppo/videos/1709520406.106061/rl-video-episode-125.mp4.\n",
      "Moviepy - Writing video /Users/jonathanlamontange-kratz/Documents/GitHub/rl-stuff/ppo/videos/1709520406.106061/rl-video-episode-125.mp4\n",
      "\n"
     ]
    },
    {
     "name": "stderr",
     "output_type": "stream",
     "text": [
      "                                                               \r"
     ]
    },
    {
     "name": "stdout",
     "output_type": "stream",
     "text": [
      "Moviepy - Done !\n",
      "Moviepy - video ready /Users/jonathanlamontange-kratz/Documents/GitHub/rl-stuff/ppo/videos/1709520406.106061/rl-video-episode-125.mp4\n",
      "score:  168.0\n",
      "score:  202.0\n",
      "Moviepy - Building video /Users/jonathanlamontange-kratz/Documents/GitHub/rl-stuff/ppo/videos/1709520406.106061/rl-video-episode-27.mp4.\n",
      "Moviepy - Writing video /Users/jonathanlamontange-kratz/Documents/GitHub/rl-stuff/ppo/videos/1709520406.106061/rl-video-episode-27.mp4\n",
      "\n"
     ]
    },
    {
     "name": "stderr",
     "output_type": "stream",
     "text": [
      "                                                               \r"
     ]
    },
    {
     "name": "stdout",
     "output_type": "stream",
     "text": [
      "Moviepy - Done !\n",
      "Moviepy - video ready /Users/jonathanlamontange-kratz/Documents/GitHub/rl-stuff/ppo/videos/1709520406.106061/rl-video-episode-27.mp4\n",
      "score:  197.0\n",
      "score:  155.0\n",
      "score:  160.0\n",
      "score:  202.0\n",
      "score:  462.0\n",
      "score:  170.0\n",
      "score:  161.0\n",
      "score:  177.0\n",
      "score:  191.0\n",
      "score:  241.0\n",
      "score:  161.0\n",
      "score:  182.0\n",
      "score:  185.0\n",
      "score:  385.0\n",
      "score:  193.0\n",
      "score:  248.0\n",
      "Moviepy - Building video /Users/jonathanlamontange-kratz/Documents/GitHub/rl-stuff/ppo/videos/1709520406.106061/rl-video-episode-343.mp4.\n",
      "Moviepy - Writing video /Users/jonathanlamontange-kratz/Documents/GitHub/rl-stuff/ppo/videos/1709520406.106061/rl-video-episode-343.mp4\n",
      "\n"
     ]
    },
    {
     "name": "stderr",
     "output_type": "stream",
     "text": [
      "                                                               \r"
     ]
    },
    {
     "name": "stdout",
     "output_type": "stream",
     "text": [
      "Moviepy - Done !\n",
      "Moviepy - video ready /Users/jonathanlamontange-kratz/Documents/GitHub/rl-stuff/ppo/videos/1709520406.106061/rl-video-episode-343.mp4\n",
      "score:  222.0\n",
      "score:  193.0\n",
      "score:  220.0\n",
      "score:  230.0\n",
      "score:  217.0\n",
      "score:  194.0\n",
      "score:  371.0\n",
      "score:  226.0\n",
      "score:  259.0\n",
      "score:  158.0\n",
      "score:  216.0\n",
      "score:  144.0\n",
      "score:  213.0\n",
      "score:  184.0\n",
      "score:  206.0\n",
      "score:  456.0\n",
      "score:  235.0\n",
      "score:  147.0\n",
      "score:  166.0\n",
      "score:  169.0\n",
      "score:  157.0\n",
      "Moviepy - Building video /Users/jonathanlamontange-kratz/Documents/GitHub/rl-stuff/ppo/videos/1709520406.106061/rl-video-episode-64.mp4.\n",
      "Moviepy - Writing video /Users/jonathanlamontange-kratz/Documents/GitHub/rl-stuff/ppo/videos/1709520406.106061/rl-video-episode-64.mp4\n",
      "\n"
     ]
    },
    {
     "name": "stderr",
     "output_type": "stream",
     "text": [
      "                                                               \r"
     ]
    },
    {
     "name": "stdout",
     "output_type": "stream",
     "text": [
      "Moviepy - Done !\n",
      "Moviepy - video ready /Users/jonathanlamontange-kratz/Documents/GitHub/rl-stuff/ppo/videos/1709520406.106061/rl-video-episode-64.mp4\n",
      "score:  216.0\n",
      "score:  182.0\n",
      "score:  261.0\n",
      "score:  216.0\n",
      "score:  189.0\n",
      "score:  182.0\n",
      "score:  153.0\n",
      "score:  217.0\n",
      "score:  210.0\n",
      "score:  160.0\n",
      "score:  198.0\n",
      "score:  189.0\n",
      "score:  234.0\n",
      "score:  177.0\n",
      "score:  156.0\n",
      "score:  147.0\n",
      "score:  383.0\n",
      "score:  200.0\n",
      "score:  193.0\n",
      "score:  158.0\n",
      "score:  259.0\n",
      "score:  167.0\n",
      "score:  247.0\n",
      "score:  202.0\n",
      "score:  190.0\n",
      "score:  240.0\n",
      "score:  446.0\n",
      "score:  192.0\n",
      "score:  197.0\n",
      "score:  166.0\n",
      "score:  174.0\n",
      "score:  251.0\n",
      "score:  245.0\n",
      "score:  244.0\n",
      "score:  217.0\n",
      "score:  204.0\n"
     ]
    },
    {
     "name": "stderr",
     "output_type": "stream",
     "text": [
      "/Users/jonathanlamontange-kratz/Library/Python/3.9/lib/python/site-packages/gymnasium/wrappers/record_video.py:94: UserWarning: \u001b[33mWARN: Overwriting existing videos at /Users/jonathanlamontange-kratz/Documents/GitHub/rl-stuff/ppo/videos/1709520406.106061 folder (try specifying a different `video_folder` for the `RecordVideo` wrapper if this is not desired)\u001b[0m\n",
      "  logger.warn(\n"
     ]
    },
    {
     "name": "stdout",
     "output_type": "stream",
     "text": [
      "Moviepy - Building video /Users/jonathanlamontange-kratz/Documents/GitHub/rl-stuff/ppo/videos/1709520406.106061/rl-video-episode-0.mp4.\n",
      "Moviepy - Writing video /Users/jonathanlamontange-kratz/Documents/GitHub/rl-stuff/ppo/videos/1709520406.106061/rl-video-episode-0.mp4\n",
      "\n"
     ]
    },
    {
     "name": "stderr",
     "output_type": "stream",
     "text": [
      "                                                              \r"
     ]
    },
    {
     "name": "stdout",
     "output_type": "stream",
     "text": [
      "Moviepy - Done !\n",
      "Moviepy - video ready /Users/jonathanlamontange-kratz/Documents/GitHub/rl-stuff/ppo/videos/1709520406.106061/rl-video-episode-0.mp4\n",
      "score:  189.0\n",
      "WARNING:tensorflow:Model's `__init__()` arguments contain non-serializable objects. Please implement a `get_config()` method in the subclassed Model for proper saving and loading. Defaulting to empty config.\n",
      "WARNING:tensorflow:Model's `__init__()` arguments contain non-serializable objects. Please implement a `get_config()` method in the subclassed Model for proper saving and loading. Defaulting to empty config.\n",
      "WARNING:tensorflow:Model's `__init__()` arguments contain non-serializable objects. Please implement a `get_config()` method in the subclassed Model for proper saving and loading. Defaulting to empty config.\n",
      "WARNING:tensorflow:Model's `__init__()` arguments contain non-serializable objects. Please implement a `get_config()` method in the subclassed Model for proper saving and loading. Defaulting to empty config.\n",
      "WARNING:tensorflow:Model's `__init__()` arguments contain non-serializable objects. Please implement a `get_config()` method in the subclassed Model for proper saving and loading. Defaulting to empty config.\n",
      "WARNING:tensorflow:Model's `__init__()` arguments contain non-serializable objects. Please implement a `get_config()` method in the subclassed Model for proper saving and loading. Defaulting to empty config.\n",
      "Early stopping at iteration 0\n",
      "Early stopping at iteration 1\n",
      "Early stopping at iteration 2\n",
      "Early stopping at iteration 3\n",
      "Early stopping at iteration 4\n",
      "Moviepy - Building video /Users/jonathanlamontange-kratz/Documents/GitHub/rl-stuff/ppo/videos/1709520406.106061/rl-video-episode-1.mp4.\n",
      "Moviepy - Writing video /Users/jonathanlamontange-kratz/Documents/GitHub/rl-stuff/ppo/videos/1709520406.106061/rl-video-episode-1.mp4\n",
      "\n"
     ]
    },
    {
     "name": "stderr",
     "output_type": "stream",
     "text": [
      "                                                               \r"
     ]
    },
    {
     "name": "stdout",
     "output_type": "stream",
     "text": [
      "Moviepy - Done !\n",
      "Moviepy - video ready /Users/jonathanlamontange-kratz/Documents/GitHub/rl-stuff/ppo/videos/1709520406.106061/rl-video-episode-1.mp4\n",
      "score:  249.0\n",
      "score:  311.0\n",
      "score:  271.0\n",
      "score:  349.0\n",
      "score:  270.0\n",
      "score:  263.0\n",
      "score:  340.0\n",
      "Moviepy - Building video /Users/jonathanlamontange-kratz/Documents/GitHub/rl-stuff/ppo/videos/1709520406.106061/rl-video-episode-8.mp4.\n",
      "Moviepy - Writing video /Users/jonathanlamontange-kratz/Documents/GitHub/rl-stuff/ppo/videos/1709520406.106061/rl-video-episode-8.mp4\n",
      "\n"
     ]
    },
    {
     "name": "stderr",
     "output_type": "stream",
     "text": [
      "                                                                \r"
     ]
    },
    {
     "name": "stdout",
     "output_type": "stream",
     "text": [
      "Moviepy - Done !\n",
      "Moviepy - video ready /Users/jonathanlamontange-kratz/Documents/GitHub/rl-stuff/ppo/videos/1709520406.106061/rl-video-episode-8.mp4\n",
      "score:  326.0\n",
      "score:  269.0\n",
      "score:  236.0\n",
      "score:  222.0\n",
      "Moviepy - Building video /Users/jonathanlamontange-kratz/Documents/GitHub/rl-stuff/ppo/videos/1709520406.106061/rl-video-episode-512.mp4.\n",
      "Moviepy - Writing video /Users/jonathanlamontange-kratz/Documents/GitHub/rl-stuff/ppo/videos/1709520406.106061/rl-video-episode-512.mp4\n",
      "\n"
     ]
    },
    {
     "name": "stderr",
     "output_type": "stream",
     "text": [
      "                                                               \r"
     ]
    },
    {
     "name": "stdout",
     "output_type": "stream",
     "text": [
      "Moviepy - Done !\n",
      "Moviepy - video ready /Users/jonathanlamontange-kratz/Documents/GitHub/rl-stuff/ppo/videos/1709520406.106061/rl-video-episode-512.mp4\n",
      "score:  316.0\n",
      "score:  224.0\n",
      "score:  328.0\n",
      "score:  217.0\n",
      "Moviepy - Building video /Users/jonathanlamontange-kratz/Documents/GitHub/rl-stuff/ppo/videos/1709520406.106061/rl-video-episode-216.mp4.\n",
      "Moviepy - Writing video /Users/jonathanlamontange-kratz/Documents/GitHub/rl-stuff/ppo/videos/1709520406.106061/rl-video-episode-216.mp4\n",
      "\n"
     ]
    },
    {
     "name": "stderr",
     "output_type": "stream",
     "text": [
      "                                                               \r"
     ]
    },
    {
     "name": "stdout",
     "output_type": "stream",
     "text": [
      "Moviepy - Done !\n",
      "Moviepy - video ready /Users/jonathanlamontange-kratz/Documents/GitHub/rl-stuff/ppo/videos/1709520406.106061/rl-video-episode-216.mp4\n",
      "score:  196.0\n",
      "score:  255.0\n",
      "score:  218.0\n",
      "score:  237.0\n",
      "score:  325.0\n",
      "score:  233.0\n",
      "score:  170.0\n",
      "score:  253.0\n",
      "score:  288.0\n",
      "Moviepy - Building video /Users/jonathanlamontange-kratz/Documents/GitHub/rl-stuff/ppo/videos/1709520406.106061/rl-video-episode-125.mp4.\n",
      "Moviepy - Writing video /Users/jonathanlamontange-kratz/Documents/GitHub/rl-stuff/ppo/videos/1709520406.106061/rl-video-episode-125.mp4\n",
      "\n"
     ]
    },
    {
     "name": "stderr",
     "output_type": "stream",
     "text": [
      "                                                               \r"
     ]
    },
    {
     "name": "stdout",
     "output_type": "stream",
     "text": [
      "Moviepy - Done !\n",
      "Moviepy - video ready /Users/jonathanlamontange-kratz/Documents/GitHub/rl-stuff/ppo/videos/1709520406.106061/rl-video-episode-125.mp4\n",
      "score:  201.0\n",
      "score:  365.0\n",
      "Moviepy - Building video /Users/jonathanlamontange-kratz/Documents/GitHub/rl-stuff/ppo/videos/1709520406.106061/rl-video-episode-27.mp4.\n",
      "Moviepy - Writing video /Users/jonathanlamontange-kratz/Documents/GitHub/rl-stuff/ppo/videos/1709520406.106061/rl-video-episode-27.mp4\n",
      "\n"
     ]
    },
    {
     "name": "stderr",
     "output_type": "stream",
     "text": [
      "                                                               \r"
     ]
    },
    {
     "name": "stdout",
     "output_type": "stream",
     "text": [
      "Moviepy - Done !\n",
      "Moviepy - video ready /Users/jonathanlamontange-kratz/Documents/GitHub/rl-stuff/ppo/videos/1709520406.106061/rl-video-episode-27.mp4\n",
      "score:  184.0\n",
      "score:  293.0\n",
      "score:  348.0\n",
      "score:  238.0\n",
      "score:  232.0\n",
      "score:  185.0\n",
      "score:  214.0\n",
      "score:  329.0\n",
      "score:  281.0\n",
      "score:  193.0\n",
      "score:  366.0\n",
      "score:  296.0\n",
      "score:  218.0\n",
      "score:  204.0\n",
      "score:  281.0\n",
      "score:  183.0\n",
      "Moviepy - Building video /Users/jonathanlamontange-kratz/Documents/GitHub/rl-stuff/ppo/videos/1709520406.106061/rl-video-episode-343.mp4.\n",
      "Moviepy - Writing video /Users/jonathanlamontange-kratz/Documents/GitHub/rl-stuff/ppo/videos/1709520406.106061/rl-video-episode-343.mp4\n",
      "\n"
     ]
    },
    {
     "name": "stderr",
     "output_type": "stream",
     "text": [
      "                                                               \r"
     ]
    },
    {
     "name": "stdout",
     "output_type": "stream",
     "text": [
      "Moviepy - Done !\n",
      "Moviepy - video ready /Users/jonathanlamontange-kratz/Documents/GitHub/rl-stuff/ppo/videos/1709520406.106061/rl-video-episode-343.mp4\n",
      "score:  224.0\n",
      "score:  281.0\n",
      "score:  288.0\n",
      "score:  378.0\n",
      "score:  198.0\n",
      "score:  203.0\n",
      "score:  208.0\n",
      "score:  317.0\n",
      "score:  339.0\n",
      "score:  278.0\n",
      "score:  185.0\n",
      "score:  481.0\n",
      "score:  190.0\n",
      "score:  383.0\n",
      "score:  217.0\n",
      "score:  245.0\n",
      "score:  214.0\n",
      "score:  263.0\n",
      "score:  254.0\n",
      "score:  251.0\n",
      "score:  312.0\n",
      "Moviepy - Building video /Users/jonathanlamontange-kratz/Documents/GitHub/rl-stuff/ppo/videos/1709520406.106061/rl-video-episode-64.mp4.\n",
      "Moviepy - Writing video /Users/jonathanlamontange-kratz/Documents/GitHub/rl-stuff/ppo/videos/1709520406.106061/rl-video-episode-64.mp4\n",
      "\n"
     ]
    },
    {
     "name": "stderr",
     "output_type": "stream",
     "text": [
      "                                                               \r"
     ]
    },
    {
     "name": "stdout",
     "output_type": "stream",
     "text": [
      "Moviepy - Done !\n",
      "Moviepy - video ready /Users/jonathanlamontange-kratz/Documents/GitHub/rl-stuff/ppo/videos/1709520406.106061/rl-video-episode-64.mp4\n",
      "score:  250.0\n",
      "score:  417.0\n",
      "score:  285.0\n",
      "score:  214.0\n",
      "score:  196.0\n",
      "score:  168.0\n",
      "score:  274.0\n",
      "score:  320.0\n",
      "score:  191.0\n",
      "score:  223.0\n",
      "score:  220.0\n",
      "score:  262.0\n",
      "score:  229.0\n",
      "score:  227.0\n",
      "score:  316.0\n",
      "score:  192.0\n",
      "score:  189.0\n",
      "score:  265.0\n",
      "score:  192.0\n",
      "score:  305.0\n",
      "score:  404.0\n",
      "score:  217.0\n",
      "score:  189.0\n",
      "score:  378.0\n",
      "score:  210.0\n",
      "score:  186.0\n",
      "score:  170.0\n",
      "score:  260.0\n",
      "score:  156.0\n",
      "score:  258.0\n",
      "score:  197.0\n",
      "score:  186.0\n",
      "score:  256.0\n",
      "score:  198.0\n",
      "score:  487.0\n",
      "score:  275.0\n"
     ]
    },
    {
     "name": "stderr",
     "output_type": "stream",
     "text": [
      "/Users/jonathanlamontange-kratz/Library/Python/3.9/lib/python/site-packages/gymnasium/wrappers/record_video.py:94: UserWarning: \u001b[33mWARN: Overwriting existing videos at /Users/jonathanlamontange-kratz/Documents/GitHub/rl-stuff/ppo/videos/1709520406.106061 folder (try specifying a different `video_folder` for the `RecordVideo` wrapper if this is not desired)\u001b[0m\n",
      "  logger.warn(\n"
     ]
    },
    {
     "name": "stdout",
     "output_type": "stream",
     "text": [
      "Moviepy - Building video /Users/jonathanlamontange-kratz/Documents/GitHub/rl-stuff/ppo/videos/1709520406.106061/rl-video-episode-0.mp4.\n",
      "Moviepy - Writing video /Users/jonathanlamontange-kratz/Documents/GitHub/rl-stuff/ppo/videos/1709520406.106061/rl-video-episode-0.mp4\n",
      "\n"
     ]
    },
    {
     "name": "stderr",
     "output_type": "stream",
     "text": [
      "                                                               \r"
     ]
    },
    {
     "name": "stdout",
     "output_type": "stream",
     "text": [
      "Moviepy - Done !\n",
      "Moviepy - video ready /Users/jonathanlamontange-kratz/Documents/GitHub/rl-stuff/ppo/videos/1709520406.106061/rl-video-episode-0.mp4\n",
      "score:  431.0\n",
      "WARNING:tensorflow:Model's `__init__()` arguments contain non-serializable objects. Please implement a `get_config()` method in the subclassed Model for proper saving and loading. Defaulting to empty config.\n",
      "WARNING:tensorflow:Model's `__init__()` arguments contain non-serializable objects. Please implement a `get_config()` method in the subclassed Model for proper saving and loading. Defaulting to empty config.\n",
      "WARNING:tensorflow:Model's `__init__()` arguments contain non-serializable objects. Please implement a `get_config()` method in the subclassed Model for proper saving and loading. Defaulting to empty config.\n",
      "WARNING:tensorflow:Model's `__init__()` arguments contain non-serializable objects. Please implement a `get_config()` method in the subclassed Model for proper saving and loading. Defaulting to empty config.\n",
      "WARNING:tensorflow:Model's `__init__()` arguments contain non-serializable objects. Please implement a `get_config()` method in the subclassed Model for proper saving and loading. Defaulting to empty config.\n",
      "WARNING:tensorflow:Model's `__init__()` arguments contain non-serializable objects. Please implement a `get_config()` method in the subclassed Model for proper saving and loading. Defaulting to empty config.\n",
      "Early stopping at iteration 0\n",
      "Early stopping at iteration 1\n",
      "Early stopping at iteration 2\n",
      "Early stopping at iteration 3\n",
      "Early stopping at iteration 4\n",
      "Moviepy - Building video /Users/jonathanlamontange-kratz/Documents/GitHub/rl-stuff/ppo/videos/1709520406.106061/rl-video-episode-1.mp4.\n",
      "Moviepy - Writing video /Users/jonathanlamontange-kratz/Documents/GitHub/rl-stuff/ppo/videos/1709520406.106061/rl-video-episode-1.mp4\n",
      "\n"
     ]
    },
    {
     "name": "stderr",
     "output_type": "stream",
     "text": [
      "                                                               \r"
     ]
    },
    {
     "name": "stdout",
     "output_type": "stream",
     "text": [
      "Moviepy - Done !\n",
      "Moviepy - video ready /Users/jonathanlamontange-kratz/Documents/GitHub/rl-stuff/ppo/videos/1709520406.106061/rl-video-episode-1.mp4\n",
      "score:  164.0\n",
      "score:  223.0\n",
      "score:  174.0\n",
      "score:  182.0\n",
      "score:  213.0\n",
      "score:  159.0\n",
      "score:  195.0\n",
      "Moviepy - Building video /Users/jonathanlamontange-kratz/Documents/GitHub/rl-stuff/ppo/videos/1709520406.106061/rl-video-episode-8.mp4.\n",
      "Moviepy - Writing video /Users/jonathanlamontange-kratz/Documents/GitHub/rl-stuff/ppo/videos/1709520406.106061/rl-video-episode-8.mp4\n",
      "\n"
     ]
    },
    {
     "name": "stderr",
     "output_type": "stream",
     "text": [
      "                                                               \r"
     ]
    },
    {
     "name": "stdout",
     "output_type": "stream",
     "text": [
      "Moviepy - Done !\n",
      "Moviepy - video ready /Users/jonathanlamontange-kratz/Documents/GitHub/rl-stuff/ppo/videos/1709520406.106061/rl-video-episode-8.mp4\n",
      "score:  172.0\n",
      "score:  124.0\n",
      "score:  171.0\n",
      "score:  150.0\n",
      "Moviepy - Building video /Users/jonathanlamontange-kratz/Documents/GitHub/rl-stuff/ppo/videos/1709520406.106061/rl-video-episode-512.mp4.\n",
      "Moviepy - Writing video /Users/jonathanlamontange-kratz/Documents/GitHub/rl-stuff/ppo/videos/1709520406.106061/rl-video-episode-512.mp4\n",
      "\n"
     ]
    },
    {
     "name": "stderr",
     "output_type": "stream",
     "text": [
      "                                                               \r"
     ]
    },
    {
     "name": "stdout",
     "output_type": "stream",
     "text": [
      "Moviepy - Done !\n",
      "Moviepy - video ready /Users/jonathanlamontange-kratz/Documents/GitHub/rl-stuff/ppo/videos/1709520406.106061/rl-video-episode-512.mp4\n",
      "score:  214.0\n",
      "score:  167.0\n",
      "score:  153.0\n",
      "score:  180.0\n",
      "Moviepy - Building video /Users/jonathanlamontange-kratz/Documents/GitHub/rl-stuff/ppo/videos/1709520406.106061/rl-video-episode-216.mp4.\n",
      "Moviepy - Writing video /Users/jonathanlamontange-kratz/Documents/GitHub/rl-stuff/ppo/videos/1709520406.106061/rl-video-episode-216.mp4\n",
      "\n"
     ]
    },
    {
     "name": "stderr",
     "output_type": "stream",
     "text": [
      "                                                               \r"
     ]
    },
    {
     "name": "stdout",
     "output_type": "stream",
     "text": [
      "Moviepy - Done !\n",
      "Moviepy - video ready /Users/jonathanlamontange-kratz/Documents/GitHub/rl-stuff/ppo/videos/1709520406.106061/rl-video-episode-216.mp4\n",
      "score:  163.0\n",
      "score:  301.0\n",
      "score:  153.0\n",
      "score:  173.0\n",
      "score:  229.0\n",
      "score:  203.0\n",
      "score:  158.0\n",
      "score:  228.0\n",
      "score:  320.0\n",
      "Moviepy - Building video /Users/jonathanlamontange-kratz/Documents/GitHub/rl-stuff/ppo/videos/1709520406.106061/rl-video-episode-125.mp4.\n",
      "Moviepy - Writing video /Users/jonathanlamontange-kratz/Documents/GitHub/rl-stuff/ppo/videos/1709520406.106061/rl-video-episode-125.mp4\n",
      "\n"
     ]
    },
    {
     "name": "stderr",
     "output_type": "stream",
     "text": [
      "                                                               \r"
     ]
    },
    {
     "name": "stdout",
     "output_type": "stream",
     "text": [
      "Moviepy - Done !\n",
      "Moviepy - video ready /Users/jonathanlamontange-kratz/Documents/GitHub/rl-stuff/ppo/videos/1709520406.106061/rl-video-episode-125.mp4\n",
      "score:  329.0\n",
      "score:  171.0\n",
      "Moviepy - Building video /Users/jonathanlamontange-kratz/Documents/GitHub/rl-stuff/ppo/videos/1709520406.106061/rl-video-episode-27.mp4.\n",
      "Moviepy - Writing video /Users/jonathanlamontange-kratz/Documents/GitHub/rl-stuff/ppo/videos/1709520406.106061/rl-video-episode-27.mp4\n",
      "\n"
     ]
    },
    {
     "name": "stderr",
     "output_type": "stream",
     "text": [
      "                                                               \r"
     ]
    },
    {
     "name": "stdout",
     "output_type": "stream",
     "text": [
      "Moviepy - Done !\n",
      "Moviepy - video ready /Users/jonathanlamontange-kratz/Documents/GitHub/rl-stuff/ppo/videos/1709520406.106061/rl-video-episode-27.mp4\n",
      "score:  250.0\n",
      "score:  182.0\n",
      "Moviepy - Building video /Users/jonathanlamontange-kratz/Documents/GitHub/rl-stuff/ppo/videos/1709520406.106061/rl-video-episode-729.mp4.\n",
      "Moviepy - Writing video /Users/jonathanlamontange-kratz/Documents/GitHub/rl-stuff/ppo/videos/1709520406.106061/rl-video-episode-729.mp4\n",
      "\n"
     ]
    },
    {
     "name": "stderr",
     "output_type": "stream",
     "text": [
      "                                                               \r"
     ]
    },
    {
     "name": "stdout",
     "output_type": "stream",
     "text": [
      "Moviepy - Done !\n",
      "Moviepy - video ready /Users/jonathanlamontange-kratz/Documents/GitHub/rl-stuff/ppo/videos/1709520406.106061/rl-video-episode-729.mp4\n",
      "score:  310.0\n",
      "score:  148.0\n",
      "score:  310.0\n",
      "score:  196.0\n",
      "score:  218.0\n",
      "score:  182.0\n",
      "score:  137.0\n",
      "score:  213.0\n",
      "score:  331.0\n",
      "score:  182.0\n",
      "score:  156.0\n",
      "score:  133.0\n",
      "score:  211.0\n",
      "score:  196.0\n",
      "Moviepy - Building video /Users/jonathanlamontange-kratz/Documents/GitHub/rl-stuff/ppo/videos/1709520406.106061/rl-video-episode-343.mp4.\n",
      "Moviepy - Writing video /Users/jonathanlamontange-kratz/Documents/GitHub/rl-stuff/ppo/videos/1709520406.106061/rl-video-episode-343.mp4\n",
      "\n"
     ]
    },
    {
     "name": "stderr",
     "output_type": "stream",
     "text": [
      "                                                               \r"
     ]
    },
    {
     "name": "stdout",
     "output_type": "stream",
     "text": [
      "Moviepy - Done !\n",
      "Moviepy - video ready /Users/jonathanlamontange-kratz/Documents/GitHub/rl-stuff/ppo/videos/1709520406.106061/rl-video-episode-343.mp4\n",
      "score:  294.0\n",
      "score:  175.0\n",
      "score:  215.0\n",
      "score:  158.0\n",
      "score:  145.0\n",
      "score:  157.0\n",
      "score:  226.0\n",
      "score:  178.0\n",
      "score:  187.0\n",
      "score:  155.0\n",
      "score:  244.0\n",
      "score:  188.0\n",
      "score:  151.0\n",
      "score:  210.0\n",
      "score:  160.0\n",
      "score:  249.0\n",
      "score:  163.0\n",
      "score:  180.0\n",
      "score:  182.0\n",
      "score:  165.0\n",
      "score:  138.0\n",
      "Moviepy - Building video /Users/jonathanlamontange-kratz/Documents/GitHub/rl-stuff/ppo/videos/1709520406.106061/rl-video-episode-64.mp4.\n",
      "Moviepy - Writing video /Users/jonathanlamontange-kratz/Documents/GitHub/rl-stuff/ppo/videos/1709520406.106061/rl-video-episode-64.mp4\n",
      "\n"
     ]
    },
    {
     "name": "stderr",
     "output_type": "stream",
     "text": [
      "                                                               \r"
     ]
    },
    {
     "name": "stdout",
     "output_type": "stream",
     "text": [
      "Moviepy - Done !\n",
      "Moviepy - video ready /Users/jonathanlamontange-kratz/Documents/GitHub/rl-stuff/ppo/videos/1709520406.106061/rl-video-episode-64.mp4\n",
      "score:  203.0\n",
      "score:  198.0\n",
      "score:  139.0\n",
      "score:  152.0\n",
      "score:  152.0\n",
      "score:  181.0\n",
      "score:  180.0\n",
      "score:  328.0\n",
      "score:  172.0\n",
      "score:  230.0\n",
      "score:  213.0\n",
      "score:  217.0\n",
      "score:  250.0\n",
      "score:  225.0\n",
      "score:  500.0\n",
      "score:  159.0\n",
      "score:  146.0\n",
      "score:  212.0\n",
      "score:  204.0\n",
      "score:  148.0\n",
      "score:  152.0\n",
      "score:  214.0\n",
      "score:  155.0\n",
      "score:  148.0\n",
      "score:  219.0\n",
      "score:  195.0\n",
      "score:  147.0\n",
      "score:  354.0\n",
      "score:  182.0\n",
      "score:  216.0\n",
      "score:  157.0\n",
      "score:  194.0\n",
      "score:  178.0\n",
      "score:  247.0\n",
      "score:  238.0\n",
      "score:  384.0\n"
     ]
    },
    {
     "name": "stderr",
     "output_type": "stream",
     "text": [
      "/Users/jonathanlamontange-kratz/Library/Python/3.9/lib/python/site-packages/gymnasium/wrappers/record_video.py:94: UserWarning: \u001b[33mWARN: Overwriting existing videos at /Users/jonathanlamontange-kratz/Documents/GitHub/rl-stuff/ppo/videos/1709520406.106061 folder (try specifying a different `video_folder` for the `RecordVideo` wrapper if this is not desired)\u001b[0m\n",
      "  logger.warn(\n"
     ]
    },
    {
     "name": "stdout",
     "output_type": "stream",
     "text": [
      "Moviepy - Building video /Users/jonathanlamontange-kratz/Documents/GitHub/rl-stuff/ppo/videos/1709520406.106061/rl-video-episode-0.mp4.\n",
      "Moviepy - Writing video /Users/jonathanlamontange-kratz/Documents/GitHub/rl-stuff/ppo/videos/1709520406.106061/rl-video-episode-0.mp4\n",
      "\n"
     ]
    },
    {
     "name": "stderr",
     "output_type": "stream",
     "text": [
      "                                                               \r"
     ]
    },
    {
     "name": "stdout",
     "output_type": "stream",
     "text": [
      "Moviepy - Done !\n",
      "Moviepy - video ready /Users/jonathanlamontange-kratz/Documents/GitHub/rl-stuff/ppo/videos/1709520406.106061/rl-video-episode-0.mp4\n",
      "score:  138.0\n",
      "WARNING:tensorflow:Model's `__init__()` arguments contain non-serializable objects. Please implement a `get_config()` method in the subclassed Model for proper saving and loading. Defaulting to empty config.\n",
      "WARNING:tensorflow:Model's `__init__()` arguments contain non-serializable objects. Please implement a `get_config()` method in the subclassed Model for proper saving and loading. Defaulting to empty config.\n",
      "WARNING:tensorflow:Model's `__init__()` arguments contain non-serializable objects. Please implement a `get_config()` method in the subclassed Model for proper saving and loading. Defaulting to empty config.\n",
      "WARNING:tensorflow:Model's `__init__()` arguments contain non-serializable objects. Please implement a `get_config()` method in the subclassed Model for proper saving and loading. Defaulting to empty config.\n",
      "WARNING:tensorflow:Model's `__init__()` arguments contain non-serializable objects. Please implement a `get_config()` method in the subclassed Model for proper saving and loading. Defaulting to empty config.\n",
      "WARNING:tensorflow:Model's `__init__()` arguments contain non-serializable objects. Please implement a `get_config()` method in the subclassed Model for proper saving and loading. Defaulting to empty config.\n",
      "Early stopping at iteration 0\n",
      "Early stopping at iteration 1\n",
      "Early stopping at iteration 2\n",
      "Early stopping at iteration 3\n",
      "Early stopping at iteration 4\n",
      "Moviepy - Building video /Users/jonathanlamontange-kratz/Documents/GitHub/rl-stuff/ppo/videos/1709520406.106061/rl-video-episode-1.mp4.\n",
      "Moviepy - Writing video /Users/jonathanlamontange-kratz/Documents/GitHub/rl-stuff/ppo/videos/1709520406.106061/rl-video-episode-1.mp4\n",
      "\n"
     ]
    },
    {
     "name": "stderr",
     "output_type": "stream",
     "text": [
      "                                                               \r"
     ]
    },
    {
     "name": "stdout",
     "output_type": "stream",
     "text": [
      "Moviepy - Done !\n",
      "Moviepy - video ready /Users/jonathanlamontange-kratz/Documents/GitHub/rl-stuff/ppo/videos/1709520406.106061/rl-video-episode-1.mp4\n",
      "score:  274.0\n",
      "score:  210.0\n",
      "score:  281.0\n",
      "score:  229.0\n",
      "score:  197.0\n",
      "score:  293.0\n",
      "score:  236.0\n",
      "Moviepy - Building video /Users/jonathanlamontange-kratz/Documents/GitHub/rl-stuff/ppo/videos/1709520406.106061/rl-video-episode-8.mp4.\n",
      "Moviepy - Writing video /Users/jonathanlamontange-kratz/Documents/GitHub/rl-stuff/ppo/videos/1709520406.106061/rl-video-episode-8.mp4\n",
      "\n"
     ]
    },
    {
     "name": "stderr",
     "output_type": "stream",
     "text": [
      "                                                               \r"
     ]
    },
    {
     "name": "stdout",
     "output_type": "stream",
     "text": [
      "Moviepy - Done !\n",
      "Moviepy - video ready /Users/jonathanlamontange-kratz/Documents/GitHub/rl-stuff/ppo/videos/1709520406.106061/rl-video-episode-8.mp4\n",
      "score:  180.0\n",
      "score:  347.0\n",
      "score:  274.0\n",
      "score:  180.0\n",
      "Moviepy - Building video /Users/jonathanlamontange-kratz/Documents/GitHub/rl-stuff/ppo/videos/1709520406.106061/rl-video-episode-512.mp4.\n",
      "Moviepy - Writing video /Users/jonathanlamontange-kratz/Documents/GitHub/rl-stuff/ppo/videos/1709520406.106061/rl-video-episode-512.mp4\n",
      "\n"
     ]
    },
    {
     "name": "stderr",
     "output_type": "stream",
     "text": [
      "                                                               \r"
     ]
    },
    {
     "name": "stdout",
     "output_type": "stream",
     "text": [
      "Moviepy - Done !\n",
      "Moviepy - video ready /Users/jonathanlamontange-kratz/Documents/GitHub/rl-stuff/ppo/videos/1709520406.106061/rl-video-episode-512.mp4\n",
      "score:  219.0\n",
      "score:  290.0\n",
      "score:  243.0\n",
      "score:  293.0\n",
      "Moviepy - Building video /Users/jonathanlamontange-kratz/Documents/GitHub/rl-stuff/ppo/videos/1709520406.106061/rl-video-episode-216.mp4.\n",
      "Moviepy - Writing video /Users/jonathanlamontange-kratz/Documents/GitHub/rl-stuff/ppo/videos/1709520406.106061/rl-video-episode-216.mp4\n",
      "\n"
     ]
    },
    {
     "name": "stderr",
     "output_type": "stream",
     "text": [
      "                                                               \r"
     ]
    },
    {
     "name": "stdout",
     "output_type": "stream",
     "text": [
      "Moviepy - Done !\n",
      "Moviepy - video ready /Users/jonathanlamontange-kratz/Documents/GitHub/rl-stuff/ppo/videos/1709520406.106061/rl-video-episode-216.mp4\n",
      "score:  253.0\n",
      "score:  239.0\n",
      "score:  179.0\n",
      "score:  366.0\n",
      "score:  184.0\n",
      "score:  208.0\n",
      "score:  217.0\n",
      "score:  154.0\n",
      "score:  171.0\n",
      "Moviepy - Building video /Users/jonathanlamontange-kratz/Documents/GitHub/rl-stuff/ppo/videos/1709520406.106061/rl-video-episode-125.mp4.\n",
      "Moviepy - Writing video /Users/jonathanlamontange-kratz/Documents/GitHub/rl-stuff/ppo/videos/1709520406.106061/rl-video-episode-125.mp4\n",
      "\n"
     ]
    },
    {
     "name": "stderr",
     "output_type": "stream",
     "text": [
      "                                                               \r"
     ]
    },
    {
     "name": "stdout",
     "output_type": "stream",
     "text": [
      "Moviepy - Done !\n",
      "Moviepy - video ready /Users/jonathanlamontange-kratz/Documents/GitHub/rl-stuff/ppo/videos/1709520406.106061/rl-video-episode-125.mp4\n",
      "score:  221.0\n",
      "score:  182.0\n",
      "Moviepy - Building video /Users/jonathanlamontange-kratz/Documents/GitHub/rl-stuff/ppo/videos/1709520406.106061/rl-video-episode-27.mp4.\n",
      "Moviepy - Writing video /Users/jonathanlamontange-kratz/Documents/GitHub/rl-stuff/ppo/videos/1709520406.106061/rl-video-episode-27.mp4\n",
      "\n"
     ]
    },
    {
     "name": "stderr",
     "output_type": "stream",
     "text": [
      "                                                               \r"
     ]
    },
    {
     "name": "stdout",
     "output_type": "stream",
     "text": [
      "Moviepy - Done !\n",
      "Moviepy - video ready /Users/jonathanlamontange-kratz/Documents/GitHub/rl-stuff/ppo/videos/1709520406.106061/rl-video-episode-27.mp4\n",
      "score:  164.0\n",
      "score:  175.0\n",
      "Moviepy - Building video /Users/jonathanlamontange-kratz/Documents/GitHub/rl-stuff/ppo/videos/1709520406.106061/rl-video-episode-729.mp4.\n",
      "Moviepy - Writing video /Users/jonathanlamontange-kratz/Documents/GitHub/rl-stuff/ppo/videos/1709520406.106061/rl-video-episode-729.mp4\n",
      "\n"
     ]
    },
    {
     "name": "stderr",
     "output_type": "stream",
     "text": [
      "                                                               \r"
     ]
    },
    {
     "name": "stdout",
     "output_type": "stream",
     "text": [
      "Moviepy - Done !\n",
      "Moviepy - video ready /Users/jonathanlamontange-kratz/Documents/GitHub/rl-stuff/ppo/videos/1709520406.106061/rl-video-episode-729.mp4\n",
      "score:  189.0\n",
      "score:  165.0\n",
      "score:  500.0\n",
      "score:  310.0\n",
      "score:  165.0\n",
      "score:  202.0\n",
      "score:  228.0\n",
      "score:  211.0\n",
      "score:  199.0\n",
      "score:  161.0\n",
      "score:  186.0\n",
      "score:  196.0\n",
      "score:  196.0\n",
      "score:  220.0\n",
      "Moviepy - Building video /Users/jonathanlamontange-kratz/Documents/GitHub/rl-stuff/ppo/videos/1709520406.106061/rl-video-episode-343.mp4.\n",
      "Moviepy - Writing video /Users/jonathanlamontange-kratz/Documents/GitHub/rl-stuff/ppo/videos/1709520406.106061/rl-video-episode-343.mp4\n",
      "\n"
     ]
    },
    {
     "name": "stderr",
     "output_type": "stream",
     "text": [
      "                                                               \r"
     ]
    },
    {
     "name": "stdout",
     "output_type": "stream",
     "text": [
      "Moviepy - Done !\n",
      "Moviepy - video ready /Users/jonathanlamontange-kratz/Documents/GitHub/rl-stuff/ppo/videos/1709520406.106061/rl-video-episode-343.mp4\n",
      "score:  254.0\n",
      "score:  243.0\n",
      "score:  201.0\n",
      "score:  239.0\n",
      "score:  252.0\n",
      "score:  250.0\n",
      "score:  239.0\n",
      "score:  169.0\n",
      "score:  348.0\n",
      "score:  215.0\n",
      "score:  341.0\n",
      "score:  178.0\n",
      "score:  166.0\n",
      "score:  236.0\n",
      "score:  237.0\n",
      "score:  220.0\n",
      "score:  166.0\n",
      "score:  224.0\n",
      "score:  189.0\n",
      "score:  235.0\n",
      "score:  263.0\n",
      "Moviepy - Building video /Users/jonathanlamontange-kratz/Documents/GitHub/rl-stuff/ppo/videos/1709520406.106061/rl-video-episode-64.mp4.\n",
      "Moviepy - Writing video /Users/jonathanlamontange-kratz/Documents/GitHub/rl-stuff/ppo/videos/1709520406.106061/rl-video-episode-64.mp4\n",
      "\n"
     ]
    },
    {
     "name": "stderr",
     "output_type": "stream",
     "text": [
      "                                                               \r"
     ]
    },
    {
     "name": "stdout",
     "output_type": "stream",
     "text": [
      "Moviepy - Done !\n",
      "Moviepy - video ready /Users/jonathanlamontange-kratz/Documents/GitHub/rl-stuff/ppo/videos/1709520406.106061/rl-video-episode-64.mp4\n",
      "score:  178.0\n",
      "score:  341.0\n",
      "score:  218.0\n",
      "score:  189.0\n",
      "score:  239.0\n",
      "score:  207.0\n",
      "score:  245.0\n",
      "score:  193.0\n",
      "score:  229.0\n",
      "score:  224.0\n",
      "score:  214.0\n",
      "score:  217.0\n",
      "score:  329.0\n",
      "score:  148.0\n",
      "score:  193.0\n",
      "score:  241.0\n",
      "score:  230.0\n",
      "score:  237.0\n",
      "score:  257.0\n",
      "score:  199.0\n",
      "score:  159.0\n",
      "score:  172.0\n",
      "score:  212.0\n",
      "score:  232.0\n",
      "score:  318.0\n",
      "score:  191.0\n",
      "score:  313.0\n",
      "score:  194.0\n",
      "score:  278.0\n",
      "score:  266.0\n",
      "score:  200.0\n",
      "score:  196.0\n",
      "score:  216.0\n",
      "score:  236.0\n",
      "score:  453.0\n",
      "score:  340.0\n"
     ]
    },
    {
     "name": "stderr",
     "output_type": "stream",
     "text": [
      "/Users/jonathanlamontange-kratz/Library/Python/3.9/lib/python/site-packages/gymnasium/wrappers/record_video.py:94: UserWarning: \u001b[33mWARN: Overwriting existing videos at /Users/jonathanlamontange-kratz/Documents/GitHub/rl-stuff/ppo/videos/1709520406.106061 folder (try specifying a different `video_folder` for the `RecordVideo` wrapper if this is not desired)\u001b[0m\n",
      "  logger.warn(\n"
     ]
    },
    {
     "name": "stdout",
     "output_type": "stream",
     "text": [
      "Moviepy - Building video /Users/jonathanlamontange-kratz/Documents/GitHub/rl-stuff/ppo/videos/1709520406.106061/rl-video-episode-0.mp4.\n",
      "Moviepy - Writing video /Users/jonathanlamontange-kratz/Documents/GitHub/rl-stuff/ppo/videos/1709520406.106061/rl-video-episode-0.mp4\n",
      "\n"
     ]
    },
    {
     "name": "stderr",
     "output_type": "stream",
     "text": [
      "                                                               \r"
     ]
    },
    {
     "name": "stdout",
     "output_type": "stream",
     "text": [
      "Moviepy - Done !\n",
      "Moviepy - video ready /Users/jonathanlamontange-kratz/Documents/GitHub/rl-stuff/ppo/videos/1709520406.106061/rl-video-episode-0.mp4\n",
      "score:  217.0\n",
      "WARNING:tensorflow:Model's `__init__()` arguments contain non-serializable objects. Please implement a `get_config()` method in the subclassed Model for proper saving and loading. Defaulting to empty config.\n",
      "WARNING:tensorflow:Model's `__init__()` arguments contain non-serializable objects. Please implement a `get_config()` method in the subclassed Model for proper saving and loading. Defaulting to empty config.\n",
      "WARNING:tensorflow:Model's `__init__()` arguments contain non-serializable objects. Please implement a `get_config()` method in the subclassed Model for proper saving and loading. Defaulting to empty config.\n",
      "WARNING:tensorflow:Model's `__init__()` arguments contain non-serializable objects. Please implement a `get_config()` method in the subclassed Model for proper saving and loading. Defaulting to empty config.\n",
      "WARNING:tensorflow:Model's `__init__()` arguments contain non-serializable objects. Please implement a `get_config()` method in the subclassed Model for proper saving and loading. Defaulting to empty config.\n",
      "WARNING:tensorflow:Model's `__init__()` arguments contain non-serializable objects. Please implement a `get_config()` method in the subclassed Model for proper saving and loading. Defaulting to empty config.\n",
      "Early stopping at iteration 0\n",
      "Early stopping at iteration 1\n",
      "Early stopping at iteration 2\n",
      "Early stopping at iteration 3\n",
      "Early stopping at iteration 4\n",
      "Moviepy - Building video /Users/jonathanlamontange-kratz/Documents/GitHub/rl-stuff/ppo/videos/1709520406.106061/rl-video-episode-1.mp4.\n",
      "Moviepy - Writing video /Users/jonathanlamontange-kratz/Documents/GitHub/rl-stuff/ppo/videos/1709520406.106061/rl-video-episode-1.mp4\n",
      "\n"
     ]
    },
    {
     "name": "stderr",
     "output_type": "stream",
     "text": [
      "                                                               \r"
     ]
    },
    {
     "name": "stdout",
     "output_type": "stream",
     "text": [
      "Moviepy - Done !\n",
      "Moviepy - video ready /Users/jonathanlamontange-kratz/Documents/GitHub/rl-stuff/ppo/videos/1709520406.106061/rl-video-episode-1.mp4\n",
      "score:  143.0\n",
      "score:  195.0\n",
      "score:  238.0\n",
      "score:  203.0\n",
      "score:  170.0\n",
      "score:  186.0\n",
      "score:  167.0\n",
      "Moviepy - Building video /Users/jonathanlamontange-kratz/Documents/GitHub/rl-stuff/ppo/videos/1709520406.106061/rl-video-episode-8.mp4.\n",
      "Moviepy - Writing video /Users/jonathanlamontange-kratz/Documents/GitHub/rl-stuff/ppo/videos/1709520406.106061/rl-video-episode-8.mp4\n",
      "\n"
     ]
    },
    {
     "name": "stderr",
     "output_type": "stream",
     "text": [
      "                                                               \r"
     ]
    },
    {
     "name": "stdout",
     "output_type": "stream",
     "text": [
      "Moviepy - Done !\n",
      "Moviepy - video ready /Users/jonathanlamontange-kratz/Documents/GitHub/rl-stuff/ppo/videos/1709520406.106061/rl-video-episode-8.mp4\n",
      "score:  201.0\n",
      "score:  213.0\n",
      "score:  205.0\n",
      "score:  191.0\n",
      "Moviepy - Building video /Users/jonathanlamontange-kratz/Documents/GitHub/rl-stuff/ppo/videos/1709520406.106061/rl-video-episode-512.mp4.\n",
      "Moviepy - Writing video /Users/jonathanlamontange-kratz/Documents/GitHub/rl-stuff/ppo/videos/1709520406.106061/rl-video-episode-512.mp4\n",
      "\n"
     ]
    },
    {
     "name": "stderr",
     "output_type": "stream",
     "text": [
      "                                                               \r"
     ]
    },
    {
     "name": "stdout",
     "output_type": "stream",
     "text": [
      "Moviepy - Done !\n",
      "Moviepy - video ready /Users/jonathanlamontange-kratz/Documents/GitHub/rl-stuff/ppo/videos/1709520406.106061/rl-video-episode-512.mp4\n",
      "score:  168.0\n",
      "score:  207.0\n",
      "score:  174.0\n",
      "score:  186.0\n",
      "Moviepy - Building video /Users/jonathanlamontange-kratz/Documents/GitHub/rl-stuff/ppo/videos/1709520406.106061/rl-video-episode-216.mp4.\n",
      "Moviepy - Writing video /Users/jonathanlamontange-kratz/Documents/GitHub/rl-stuff/ppo/videos/1709520406.106061/rl-video-episode-216.mp4\n",
      "\n"
     ]
    },
    {
     "name": "stderr",
     "output_type": "stream",
     "text": [
      "                                                               \r"
     ]
    },
    {
     "name": "stdout",
     "output_type": "stream",
     "text": [
      "Moviepy - Done !\n",
      "Moviepy - video ready /Users/jonathanlamontange-kratz/Documents/GitHub/rl-stuff/ppo/videos/1709520406.106061/rl-video-episode-216.mp4\n",
      "score:  150.0\n",
      "score:  171.0\n",
      "score:  175.0\n",
      "score:  176.0\n",
      "score:  198.0\n",
      "score:  257.0\n",
      "score:  166.0\n",
      "score:  180.0\n",
      "score:  185.0\n",
      "Moviepy - Building video /Users/jonathanlamontange-kratz/Documents/GitHub/rl-stuff/ppo/videos/1709520406.106061/rl-video-episode-125.mp4.\n",
      "Moviepy - Writing video /Users/jonathanlamontange-kratz/Documents/GitHub/rl-stuff/ppo/videos/1709520406.106061/rl-video-episode-125.mp4\n",
      "\n"
     ]
    },
    {
     "name": "stderr",
     "output_type": "stream",
     "text": [
      "                                                               \r"
     ]
    },
    {
     "name": "stdout",
     "output_type": "stream",
     "text": [
      "Moviepy - Done !\n",
      "Moviepy - video ready /Users/jonathanlamontange-kratz/Documents/GitHub/rl-stuff/ppo/videos/1709520406.106061/rl-video-episode-125.mp4\n",
      "score:  252.0\n",
      "score:  197.0\n",
      "Moviepy - Building video /Users/jonathanlamontange-kratz/Documents/GitHub/rl-stuff/ppo/videos/1709520406.106061/rl-video-episode-27.mp4.\n",
      "Moviepy - Writing video /Users/jonathanlamontange-kratz/Documents/GitHub/rl-stuff/ppo/videos/1709520406.106061/rl-video-episode-27.mp4\n",
      "\n"
     ]
    },
    {
     "name": "stderr",
     "output_type": "stream",
     "text": [
      "                                                               \r"
     ]
    },
    {
     "name": "stdout",
     "output_type": "stream",
     "text": [
      "Moviepy - Done !\n",
      "Moviepy - video ready /Users/jonathanlamontange-kratz/Documents/GitHub/rl-stuff/ppo/videos/1709520406.106061/rl-video-episode-27.mp4\n",
      "score:  187.0\n",
      "score:  316.0\n",
      "Moviepy - Building video /Users/jonathanlamontange-kratz/Documents/GitHub/rl-stuff/ppo/videos/1709520406.106061/rl-video-episode-729.mp4.\n",
      "Moviepy - Writing video /Users/jonathanlamontange-kratz/Documents/GitHub/rl-stuff/ppo/videos/1709520406.106061/rl-video-episode-729.mp4\n",
      "\n"
     ]
    },
    {
     "name": "stderr",
     "output_type": "stream",
     "text": [
      "                                                               \r"
     ]
    },
    {
     "name": "stdout",
     "output_type": "stream",
     "text": [
      "Moviepy - Done !\n",
      "Moviepy - video ready /Users/jonathanlamontange-kratz/Documents/GitHub/rl-stuff/ppo/videos/1709520406.106061/rl-video-episode-729.mp4\n",
      "score:  173.0\n",
      "score:  196.0\n",
      "score:  196.0\n",
      "score:  187.0\n",
      "score:  170.0\n",
      "score:  153.0\n",
      "score:  409.0\n",
      "score:  155.0\n",
      "score:  279.0\n",
      "score:  154.0\n",
      "score:  263.0\n",
      "score:  179.0\n",
      "score:  176.0\n",
      "score:  226.0\n",
      "Moviepy - Building video /Users/jonathanlamontange-kratz/Documents/GitHub/rl-stuff/ppo/videos/1709520406.106061/rl-video-episode-343.mp4.\n",
      "Moviepy - Writing video /Users/jonathanlamontange-kratz/Documents/GitHub/rl-stuff/ppo/videos/1709520406.106061/rl-video-episode-343.mp4\n",
      "\n"
     ]
    },
    {
     "name": "stderr",
     "output_type": "stream",
     "text": [
      "                                                              \r"
     ]
    },
    {
     "name": "stdout",
     "output_type": "stream",
     "text": [
      "Moviepy - Done !\n",
      "Moviepy - video ready /Users/jonathanlamontange-kratz/Documents/GitHub/rl-stuff/ppo/videos/1709520406.106061/rl-video-episode-343.mp4\n",
      "score:  194.0\n",
      "score:  144.0\n",
      "score:  206.0\n",
      "score:  261.0\n",
      "score:  132.0\n",
      "score:  157.0\n",
      "score:  150.0\n",
      "score:  158.0\n",
      "score:  207.0\n",
      "score:  334.0\n",
      "score:  157.0\n",
      "score:  178.0\n",
      "score:  183.0\n",
      "score:  162.0\n",
      "score:  166.0\n",
      "score:  149.0\n",
      "score:  151.0\n",
      "score:  334.0\n",
      "score:  162.0\n",
      "score:  141.0\n",
      "score:  200.0\n",
      "Moviepy - Building video /Users/jonathanlamontange-kratz/Documents/GitHub/rl-stuff/ppo/videos/1709520406.106061/rl-video-episode-64.mp4.\n",
      "Moviepy - Writing video /Users/jonathanlamontange-kratz/Documents/GitHub/rl-stuff/ppo/videos/1709520406.106061/rl-video-episode-64.mp4\n",
      "\n"
     ]
    },
    {
     "name": "stderr",
     "output_type": "stream",
     "text": [
      "                                                               \r"
     ]
    },
    {
     "name": "stdout",
     "output_type": "stream",
     "text": [
      "Moviepy - Done !\n",
      "Moviepy - video ready /Users/jonathanlamontange-kratz/Documents/GitHub/rl-stuff/ppo/videos/1709520406.106061/rl-video-episode-64.mp4\n",
      "score:  207.0\n",
      "score:  173.0\n",
      "score:  185.0\n",
      "score:  186.0\n",
      "score:  268.0\n",
      "score:  186.0\n",
      "score:  272.0\n",
      "score:  173.0\n",
      "score:  157.0\n",
      "score:  148.0\n",
      "score:  142.0\n",
      "score:  239.0\n",
      "score:  133.0\n",
      "score:  223.0\n",
      "score:  154.0\n",
      "score:  178.0\n",
      "score:  168.0\n",
      "score:  202.0\n",
      "score:  171.0\n",
      "score:  160.0\n",
      "score:  344.0\n",
      "score:  214.0\n",
      "score:  194.0\n",
      "score:  184.0\n",
      "score:  181.0\n",
      "score:  160.0\n",
      "score:  292.0\n",
      "score:  153.0\n",
      "score:  183.0\n",
      "score:  291.0\n",
      "score:  215.0\n",
      "score:  195.0\n",
      "score:  212.0\n",
      "score:  242.0\n",
      "score:  210.0\n",
      "score:  310.0\n"
     ]
    },
    {
     "name": "stderr",
     "output_type": "stream",
     "text": [
      "/Users/jonathanlamontange-kratz/Library/Python/3.9/lib/python/site-packages/gymnasium/wrappers/record_video.py:94: UserWarning: \u001b[33mWARN: Overwriting existing videos at /Users/jonathanlamontange-kratz/Documents/GitHub/rl-stuff/ppo/videos/1709520406.106061 folder (try specifying a different `video_folder` for the `RecordVideo` wrapper if this is not desired)\u001b[0m\n",
      "  logger.warn(\n"
     ]
    },
    {
     "name": "stdout",
     "output_type": "stream",
     "text": [
      "Moviepy - Building video /Users/jonathanlamontange-kratz/Documents/GitHub/rl-stuff/ppo/videos/1709520406.106061/rl-video-episode-1000.mp4.\n",
      "Moviepy - Writing video /Users/jonathanlamontange-kratz/Documents/GitHub/rl-stuff/ppo/videos/1709520406.106061/rl-video-episode-1000.mp4\n",
      "\n"
     ]
    },
    {
     "name": "stderr",
     "output_type": "stream",
     "text": [
      "                                                              \r"
     ]
    },
    {
     "name": "stdout",
     "output_type": "stream",
     "text": [
      "Moviepy - Done !\n",
      "Moviepy - video ready /Users/jonathanlamontange-kratz/Documents/GitHub/rl-stuff/ppo/videos/1709520406.106061/rl-video-episode-1000.mp4\n",
      "Moviepy - Building video /Users/jonathanlamontange-kratz/Documents/GitHub/rl-stuff/ppo/videos/1709520406.106061/rl-video-episode-0.mp4.\n",
      "Moviepy - Writing video /Users/jonathanlamontange-kratz/Documents/GitHub/rl-stuff/ppo/videos/1709520406.106061/rl-video-episode-0.mp4\n",
      "\n"
     ]
    },
    {
     "name": "stderr",
     "output_type": "stream",
     "text": [
      "                                                               \r"
     ]
    },
    {
     "name": "stdout",
     "output_type": "stream",
     "text": [
      "Moviepy - Done !\n",
      "Moviepy - video ready /Users/jonathanlamontange-kratz/Documents/GitHub/rl-stuff/ppo/videos/1709520406.106061/rl-video-episode-0.mp4\n",
      "score:  197.0\n",
      "WARNING:tensorflow:Model's `__init__()` arguments contain non-serializable objects. Please implement a `get_config()` method in the subclassed Model for proper saving and loading. Defaulting to empty config.\n",
      "WARNING:tensorflow:Model's `__init__()` arguments contain non-serializable objects. Please implement a `get_config()` method in the subclassed Model for proper saving and loading. Defaulting to empty config.\n",
      "WARNING:tensorflow:Model's `__init__()` arguments contain non-serializable objects. Please implement a `get_config()` method in the subclassed Model for proper saving and loading. Defaulting to empty config.\n",
      "WARNING:tensorflow:Model's `__init__()` arguments contain non-serializable objects. Please implement a `get_config()` method in the subclassed Model for proper saving and loading. Defaulting to empty config.\n",
      "WARNING:tensorflow:Model's `__init__()` arguments contain non-serializable objects. Please implement a `get_config()` method in the subclassed Model for proper saving and loading. Defaulting to empty config.\n",
      "WARNING:tensorflow:Model's `__init__()` arguments contain non-serializable objects. Please implement a `get_config()` method in the subclassed Model for proper saving and loading. Defaulting to empty config.\n",
      "Early stopping at iteration 0\n",
      "Early stopping at iteration 1\n",
      "Early stopping at iteration 2\n",
      "Early stopping at iteration 3\n",
      "Early stopping at iteration 4\n",
      "Moviepy - Building video /Users/jonathanlamontange-kratz/Documents/GitHub/rl-stuff/ppo/videos/1709520406.106061/rl-video-episode-1.mp4.\n",
      "Moviepy - Writing video /Users/jonathanlamontange-kratz/Documents/GitHub/rl-stuff/ppo/videos/1709520406.106061/rl-video-episode-1.mp4\n",
      "\n"
     ]
    },
    {
     "name": "stderr",
     "output_type": "stream",
     "text": [
      "                                                               \r"
     ]
    },
    {
     "name": "stdout",
     "output_type": "stream",
     "text": [
      "Moviepy - Done !\n",
      "Moviepy - video ready /Users/jonathanlamontange-kratz/Documents/GitHub/rl-stuff/ppo/videos/1709520406.106061/rl-video-episode-1.mp4\n",
      "score:  128.0\n",
      "score:  128.0\n",
      "score:  169.0\n",
      "score:  194.0\n",
      "score:  143.0\n",
      "score:  135.0\n",
      "score:  140.0\n",
      "Moviepy - Building video /Users/jonathanlamontange-kratz/Documents/GitHub/rl-stuff/ppo/videos/1709520406.106061/rl-video-episode-8.mp4.\n",
      "Moviepy - Writing video /Users/jonathanlamontange-kratz/Documents/GitHub/rl-stuff/ppo/videos/1709520406.106061/rl-video-episode-8.mp4\n",
      "\n"
     ]
    },
    {
     "name": "stderr",
     "output_type": "stream",
     "text": [
      "                                                               \r"
     ]
    },
    {
     "name": "stdout",
     "output_type": "stream",
     "text": [
      "Moviepy - Done !\n",
      "Moviepy - video ready /Users/jonathanlamontange-kratz/Documents/GitHub/rl-stuff/ppo/videos/1709520406.106061/rl-video-episode-8.mp4\n",
      "score:  164.0\n",
      "score:  133.0\n",
      "score:  209.0\n",
      "score:  133.0\n",
      "Moviepy - Building video /Users/jonathanlamontange-kratz/Documents/GitHub/rl-stuff/ppo/videos/1709520406.106061/rl-video-episode-512.mp4.\n",
      "Moviepy - Writing video /Users/jonathanlamontange-kratz/Documents/GitHub/rl-stuff/ppo/videos/1709520406.106061/rl-video-episode-512.mp4\n",
      "\n"
     ]
    },
    {
     "name": "stderr",
     "output_type": "stream",
     "text": [
      "                                                               \r"
     ]
    },
    {
     "name": "stdout",
     "output_type": "stream",
     "text": [
      "Moviepy - Done !\n",
      "Moviepy - video ready /Users/jonathanlamontange-kratz/Documents/GitHub/rl-stuff/ppo/videos/1709520406.106061/rl-video-episode-512.mp4\n",
      "score:  201.0\n",
      "score:  159.0\n",
      "score:  140.0\n",
      "score:  170.0\n",
      "Moviepy - Building video /Users/jonathanlamontange-kratz/Documents/GitHub/rl-stuff/ppo/videos/1709520406.106061/rl-video-episode-216.mp4.\n",
      "Moviepy - Writing video /Users/jonathanlamontange-kratz/Documents/GitHub/rl-stuff/ppo/videos/1709520406.106061/rl-video-episode-216.mp4\n",
      "\n"
     ]
    },
    {
     "name": "stderr",
     "output_type": "stream",
     "text": [
      "                                                              \r"
     ]
    },
    {
     "name": "stdout",
     "output_type": "stream",
     "text": [
      "Moviepy - Done !\n",
      "Moviepy - video ready /Users/jonathanlamontange-kratz/Documents/GitHub/rl-stuff/ppo/videos/1709520406.106061/rl-video-episode-216.mp4\n",
      "score:  142.0\n",
      "score:  337.0\n",
      "score:  181.0\n",
      "score:  291.0\n",
      "score:  183.0\n",
      "score:  144.0\n",
      "score:  151.0\n",
      "score:  145.0\n",
      "score:  133.0\n",
      "Moviepy - Building video /Users/jonathanlamontange-kratz/Documents/GitHub/rl-stuff/ppo/videos/1709520406.106061/rl-video-episode-125.mp4.\n",
      "Moviepy - Writing video /Users/jonathanlamontange-kratz/Documents/GitHub/rl-stuff/ppo/videos/1709520406.106061/rl-video-episode-125.mp4\n",
      "\n"
     ]
    },
    {
     "name": "stderr",
     "output_type": "stream",
     "text": [
      "                                                               \r"
     ]
    },
    {
     "name": "stdout",
     "output_type": "stream",
     "text": [
      "Moviepy - Done !\n",
      "Moviepy - video ready /Users/jonathanlamontange-kratz/Documents/GitHub/rl-stuff/ppo/videos/1709520406.106061/rl-video-episode-125.mp4\n",
      "score:  296.0\n",
      "score:  161.0\n",
      "Moviepy - Building video /Users/jonathanlamontange-kratz/Documents/GitHub/rl-stuff/ppo/videos/1709520406.106061/rl-video-episode-27.mp4.\n",
      "Moviepy - Writing video /Users/jonathanlamontange-kratz/Documents/GitHub/rl-stuff/ppo/videos/1709520406.106061/rl-video-episode-27.mp4\n",
      "\n"
     ]
    },
    {
     "name": "stderr",
     "output_type": "stream",
     "text": [
      "                                                               \r"
     ]
    },
    {
     "name": "stdout",
     "output_type": "stream",
     "text": [
      "Moviepy - Done !\n",
      "Moviepy - video ready /Users/jonathanlamontange-kratz/Documents/GitHub/rl-stuff/ppo/videos/1709520406.106061/rl-video-episode-27.mp4\n",
      "score:  172.0\n",
      "score:  178.0\n",
      "Moviepy - Building video /Users/jonathanlamontange-kratz/Documents/GitHub/rl-stuff/ppo/videos/1709520406.106061/rl-video-episode-729.mp4.\n",
      "Moviepy - Writing video /Users/jonathanlamontange-kratz/Documents/GitHub/rl-stuff/ppo/videos/1709520406.106061/rl-video-episode-729.mp4\n",
      "\n"
     ]
    },
    {
     "name": "stderr",
     "output_type": "stream",
     "text": [
      "                                                               \r"
     ]
    },
    {
     "name": "stdout",
     "output_type": "stream",
     "text": [
      "Moviepy - Done !\n",
      "Moviepy - video ready /Users/jonathanlamontange-kratz/Documents/GitHub/rl-stuff/ppo/videos/1709520406.106061/rl-video-episode-729.mp4\n",
      "score:  168.0\n",
      "score:  151.0\n",
      "score:  275.0\n",
      "score:  157.0\n",
      "score:  135.0\n",
      "score:  142.0\n",
      "score:  148.0\n",
      "score:  276.0\n",
      "score:  186.0\n",
      "score:  256.0\n",
      "score:  251.0\n",
      "score:  151.0\n",
      "score:  254.0\n",
      "score:  176.0\n",
      "Moviepy - Building video /Users/jonathanlamontange-kratz/Documents/GitHub/rl-stuff/ppo/videos/1709520406.106061/rl-video-episode-343.mp4.\n",
      "Moviepy - Writing video /Users/jonathanlamontange-kratz/Documents/GitHub/rl-stuff/ppo/videos/1709520406.106061/rl-video-episode-343.mp4\n",
      "\n"
     ]
    },
    {
     "name": "stderr",
     "output_type": "stream",
     "text": [
      "                                                               \r"
     ]
    },
    {
     "name": "stdout",
     "output_type": "stream",
     "text": [
      "Moviepy - Done !\n",
      "Moviepy - video ready /Users/jonathanlamontange-kratz/Documents/GitHub/rl-stuff/ppo/videos/1709520406.106061/rl-video-episode-343.mp4\n",
      "score:  143.0\n",
      "score:  225.0\n",
      "score:  251.0\n",
      "score:  187.0\n",
      "score:  176.0\n",
      "score:  242.0\n",
      "score:  152.0\n",
      "score:  265.0\n",
      "score:  146.0\n",
      "score:  152.0\n",
      "score:  171.0\n",
      "score:  291.0\n",
      "score:  159.0\n",
      "score:  192.0\n",
      "score:  161.0\n",
      "score:  181.0\n",
      "score:  179.0\n",
      "score:  263.0\n",
      "score:  165.0\n",
      "score:  135.0\n",
      "score:  152.0\n",
      "Moviepy - Building video /Users/jonathanlamontange-kratz/Documents/GitHub/rl-stuff/ppo/videos/1709520406.106061/rl-video-episode-64.mp4.\n",
      "Moviepy - Writing video /Users/jonathanlamontange-kratz/Documents/GitHub/rl-stuff/ppo/videos/1709520406.106061/rl-video-episode-64.mp4\n",
      "\n"
     ]
    },
    {
     "name": "stderr",
     "output_type": "stream",
     "text": [
      "                                                              \r"
     ]
    },
    {
     "name": "stdout",
     "output_type": "stream",
     "text": [
      "Moviepy - Done !\n",
      "Moviepy - video ready /Users/jonathanlamontange-kratz/Documents/GitHub/rl-stuff/ppo/videos/1709520406.106061/rl-video-episode-64.mp4\n",
      "score:  174.0\n",
      "score:  165.0\n",
      "score:  234.0\n",
      "score:  422.0\n",
      "score:  126.0\n",
      "score:  132.0\n",
      "score:  192.0\n",
      "score:  185.0\n",
      "score:  136.0\n",
      "score:  147.0\n",
      "score:  134.0\n",
      "score:  241.0\n",
      "score:  197.0\n",
      "score:  175.0\n",
      "score:  215.0\n",
      "score:  138.0\n",
      "score:  142.0\n",
      "score:  137.0\n",
      "score:  177.0\n",
      "score:  226.0\n",
      "score:  140.0\n",
      "score:  242.0\n",
      "score:  189.0\n",
      "score:  170.0\n",
      "score:  168.0\n",
      "score:  145.0\n",
      "score:  164.0\n",
      "score:  133.0\n",
      "score:  387.0\n",
      "score:  140.0\n",
      "score:  145.0\n",
      "score:  229.0\n",
      "score:  326.0\n",
      "score:  147.0\n",
      "score:  153.0\n",
      "score:  152.0\n"
     ]
    },
    {
     "name": "stderr",
     "output_type": "stream",
     "text": [
      "/Users/jonathanlamontange-kratz/Library/Python/3.9/lib/python/site-packages/gymnasium/wrappers/record_video.py:94: UserWarning: \u001b[33mWARN: Overwriting existing videos at /Users/jonathanlamontange-kratz/Documents/GitHub/rl-stuff/ppo/videos/1709520406.106061 folder (try specifying a different `video_folder` for the `RecordVideo` wrapper if this is not desired)\u001b[0m\n",
      "  logger.warn(\n"
     ]
    },
    {
     "name": "stdout",
     "output_type": "stream",
     "text": [
      "Moviepy - Building video /Users/jonathanlamontange-kratz/Documents/GitHub/rl-stuff/ppo/videos/1709520406.106061/rl-video-episode-1000.mp4.\n",
      "Moviepy - Writing video /Users/jonathanlamontange-kratz/Documents/GitHub/rl-stuff/ppo/videos/1709520406.106061/rl-video-episode-1000.mp4\n",
      "\n"
     ]
    },
    {
     "name": "stderr",
     "output_type": "stream",
     "text": [
      "                                                               \r"
     ]
    },
    {
     "name": "stdout",
     "output_type": "stream",
     "text": [
      "Moviepy - Done !\n",
      "Moviepy - video ready /Users/jonathanlamontange-kratz/Documents/GitHub/rl-stuff/ppo/videos/1709520406.106061/rl-video-episode-1000.mp4\n",
      "Moviepy - Building video /Users/jonathanlamontange-kratz/Documents/GitHub/rl-stuff/ppo/videos/1709520406.106061/rl-video-episode-0.mp4.\n",
      "Moviepy - Writing video /Users/jonathanlamontange-kratz/Documents/GitHub/rl-stuff/ppo/videos/1709520406.106061/rl-video-episode-0.mp4\n",
      "\n"
     ]
    },
    {
     "name": "stderr",
     "output_type": "stream",
     "text": [
      "                                                               \r"
     ]
    },
    {
     "name": "stdout",
     "output_type": "stream",
     "text": [
      "Moviepy - Done !\n",
      "Moviepy - video ready /Users/jonathanlamontange-kratz/Documents/GitHub/rl-stuff/ppo/videos/1709520406.106061/rl-video-episode-0.mp4\n",
      "score:  376.0\n",
      "WARNING:tensorflow:Model's `__init__()` arguments contain non-serializable objects. Please implement a `get_config()` method in the subclassed Model for proper saving and loading. Defaulting to empty config.\n",
      "WARNING:tensorflow:Model's `__init__()` arguments contain non-serializable objects. Please implement a `get_config()` method in the subclassed Model for proper saving and loading. Defaulting to empty config.\n",
      "WARNING:tensorflow:Model's `__init__()` arguments contain non-serializable objects. Please implement a `get_config()` method in the subclassed Model for proper saving and loading. Defaulting to empty config.\n",
      "WARNING:tensorflow:Model's `__init__()` arguments contain non-serializable objects. Please implement a `get_config()` method in the subclassed Model for proper saving and loading. Defaulting to empty config.\n",
      "WARNING:tensorflow:Model's `__init__()` arguments contain non-serializable objects. Please implement a `get_config()` method in the subclassed Model for proper saving and loading. Defaulting to empty config.\n",
      "WARNING:tensorflow:Model's `__init__()` arguments contain non-serializable objects. Please implement a `get_config()` method in the subclassed Model for proper saving and loading. Defaulting to empty config.\n",
      "Early stopping at iteration 0\n",
      "Early stopping at iteration 1\n",
      "Early stopping at iteration 2\n",
      "Early stopping at iteration 3\n",
      "Early stopping at iteration 4\n",
      "Moviepy - Building video /Users/jonathanlamontange-kratz/Documents/GitHub/rl-stuff/ppo/videos/1709520406.106061/rl-video-episode-1.mp4.\n",
      "Moviepy - Writing video /Users/jonathanlamontange-kratz/Documents/GitHub/rl-stuff/ppo/videos/1709520406.106061/rl-video-episode-1.mp4\n",
      "\n"
     ]
    },
    {
     "name": "stderr",
     "output_type": "stream",
     "text": [
      "                                                               \r"
     ]
    },
    {
     "name": "stdout",
     "output_type": "stream",
     "text": [
      "Moviepy - Done !\n",
      "Moviepy - video ready /Users/jonathanlamontange-kratz/Documents/GitHub/rl-stuff/ppo/videos/1709520406.106061/rl-video-episode-1.mp4\n",
      "score:  167.0\n",
      "score:  286.0\n",
      "score:  312.0\n",
      "score:  469.0\n",
      "score:  252.0\n",
      "score:  180.0\n",
      "score:  250.0\n",
      "Moviepy - Building video /Users/jonathanlamontange-kratz/Documents/GitHub/rl-stuff/ppo/videos/1709520406.106061/rl-video-episode-8.mp4.\n",
      "Moviepy - Writing video /Users/jonathanlamontange-kratz/Documents/GitHub/rl-stuff/ppo/videos/1709520406.106061/rl-video-episode-8.mp4\n",
      "\n"
     ]
    },
    {
     "name": "stderr",
     "output_type": "stream",
     "text": [
      "                                                                \r"
     ]
    },
    {
     "name": "stdout",
     "output_type": "stream",
     "text": [
      "Moviepy - Done !\n",
      "Moviepy - video ready /Users/jonathanlamontange-kratz/Documents/GitHub/rl-stuff/ppo/videos/1709520406.106061/rl-video-episode-8.mp4\n",
      "score:  278.0\n",
      "score:  153.0\n",
      "score:  168.0\n",
      "score:  133.0\n",
      "Moviepy - Building video /Users/jonathanlamontange-kratz/Documents/GitHub/rl-stuff/ppo/videos/1709520406.106061/rl-video-episode-512.mp4.\n",
      "Moviepy - Writing video /Users/jonathanlamontange-kratz/Documents/GitHub/rl-stuff/ppo/videos/1709520406.106061/rl-video-episode-512.mp4\n",
      "\n"
     ]
    },
    {
     "name": "stderr",
     "output_type": "stream",
     "text": [
      "                                                               \r"
     ]
    },
    {
     "name": "stdout",
     "output_type": "stream",
     "text": [
      "Moviepy - Done !\n",
      "Moviepy - video ready /Users/jonathanlamontange-kratz/Documents/GitHub/rl-stuff/ppo/videos/1709520406.106061/rl-video-episode-512.mp4\n",
      "score:  210.0\n",
      "score:  205.0\n",
      "score:  152.0\n",
      "score:  255.0\n",
      "Moviepy - Building video /Users/jonathanlamontange-kratz/Documents/GitHub/rl-stuff/ppo/videos/1709520406.106061/rl-video-episode-216.mp4.\n",
      "Moviepy - Writing video /Users/jonathanlamontange-kratz/Documents/GitHub/rl-stuff/ppo/videos/1709520406.106061/rl-video-episode-216.mp4\n",
      "\n"
     ]
    },
    {
     "name": "stderr",
     "output_type": "stream",
     "text": [
      "                                                               \r"
     ]
    },
    {
     "name": "stdout",
     "output_type": "stream",
     "text": [
      "Moviepy - Done !\n",
      "Moviepy - video ready /Users/jonathanlamontange-kratz/Documents/GitHub/rl-stuff/ppo/videos/1709520406.106061/rl-video-episode-216.mp4\n",
      "score:  248.0\n",
      "score:  215.0\n",
      "score:  198.0\n",
      "score:  147.0\n",
      "score:  181.0\n",
      "score:  216.0\n",
      "score:  166.0\n",
      "score:  285.0\n",
      "score:  230.0\n",
      "Moviepy - Building video /Users/jonathanlamontange-kratz/Documents/GitHub/rl-stuff/ppo/videos/1709520406.106061/rl-video-episode-125.mp4.\n",
      "Moviepy - Writing video /Users/jonathanlamontange-kratz/Documents/GitHub/rl-stuff/ppo/videos/1709520406.106061/rl-video-episode-125.mp4\n",
      "\n"
     ]
    },
    {
     "name": "stderr",
     "output_type": "stream",
     "text": [
      "                                                               \r"
     ]
    },
    {
     "name": "stdout",
     "output_type": "stream",
     "text": [
      "Moviepy - Done !\n",
      "Moviepy - video ready /Users/jonathanlamontange-kratz/Documents/GitHub/rl-stuff/ppo/videos/1709520406.106061/rl-video-episode-125.mp4\n",
      "score:  147.0\n",
      "score:  145.0\n",
      "Moviepy - Building video /Users/jonathanlamontange-kratz/Documents/GitHub/rl-stuff/ppo/videos/1709520406.106061/rl-video-episode-27.mp4.\n",
      "Moviepy - Writing video /Users/jonathanlamontange-kratz/Documents/GitHub/rl-stuff/ppo/videos/1709520406.106061/rl-video-episode-27.mp4\n",
      "\n"
     ]
    },
    {
     "name": "stderr",
     "output_type": "stream",
     "text": [
      "                                                              \r"
     ]
    },
    {
     "name": "stdout",
     "output_type": "stream",
     "text": [
      "Moviepy - Done !\n",
      "Moviepy - video ready /Users/jonathanlamontange-kratz/Documents/GitHub/rl-stuff/ppo/videos/1709520406.106061/rl-video-episode-27.mp4\n",
      "score:  151.0\n",
      "score:  180.0\n",
      "Moviepy - Building video /Users/jonathanlamontange-kratz/Documents/GitHub/rl-stuff/ppo/videos/1709520406.106061/rl-video-episode-729.mp4.\n",
      "Moviepy - Writing video /Users/jonathanlamontange-kratz/Documents/GitHub/rl-stuff/ppo/videos/1709520406.106061/rl-video-episode-729.mp4\n",
      "\n"
     ]
    },
    {
     "name": "stderr",
     "output_type": "stream",
     "text": [
      "                                                               \r"
     ]
    },
    {
     "name": "stdout",
     "output_type": "stream",
     "text": [
      "Moviepy - Done !\n",
      "Moviepy - video ready /Users/jonathanlamontange-kratz/Documents/GitHub/rl-stuff/ppo/videos/1709520406.106061/rl-video-episode-729.mp4\n",
      "score:  286.0\n",
      "score:  269.0\n",
      "score:  223.0\n",
      "score:  130.0\n",
      "score:  246.0\n",
      "score:  149.0\n",
      "score:  175.0\n",
      "score:  164.0\n",
      "score:  217.0\n",
      "score:  250.0\n",
      "score:  406.0\n",
      "score:  218.0\n",
      "score:  147.0\n",
      "score:  152.0\n",
      "Moviepy - Building video /Users/jonathanlamontange-kratz/Documents/GitHub/rl-stuff/ppo/videos/1709520406.106061/rl-video-episode-343.mp4.\n",
      "Moviepy - Writing video /Users/jonathanlamontange-kratz/Documents/GitHub/rl-stuff/ppo/videos/1709520406.106061/rl-video-episode-343.mp4\n",
      "\n"
     ]
    },
    {
     "name": "stderr",
     "output_type": "stream",
     "text": [
      "                                                               \r"
     ]
    },
    {
     "name": "stdout",
     "output_type": "stream",
     "text": [
      "Moviepy - Done !\n",
      "Moviepy - video ready /Users/jonathanlamontange-kratz/Documents/GitHub/rl-stuff/ppo/videos/1709520406.106061/rl-video-episode-343.mp4\n",
      "score:  217.0\n",
      "score:  247.0\n",
      "score:  187.0\n",
      "score:  157.0\n",
      "score:  157.0\n",
      "score:  133.0\n",
      "score:  203.0\n",
      "score:  326.0\n",
      "score:  324.0\n",
      "score:  154.0\n",
      "score:  255.0\n",
      "score:  215.0\n",
      "score:  170.0\n",
      "score:  146.0\n",
      "score:  199.0\n",
      "score:  268.0\n",
      "score:  135.0\n",
      "score:  175.0\n",
      "score:  151.0\n",
      "score:  171.0\n",
      "score:  236.0\n",
      "Moviepy - Building video /Users/jonathanlamontange-kratz/Documents/GitHub/rl-stuff/ppo/videos/1709520406.106061/rl-video-episode-64.mp4.\n",
      "Moviepy - Writing video /Users/jonathanlamontange-kratz/Documents/GitHub/rl-stuff/ppo/videos/1709520406.106061/rl-video-episode-64.mp4\n",
      "\n"
     ]
    },
    {
     "name": "stderr",
     "output_type": "stream",
     "text": [
      "                                                               \r"
     ]
    },
    {
     "name": "stdout",
     "output_type": "stream",
     "text": [
      "Moviepy - Done !\n",
      "Moviepy - video ready /Users/jonathanlamontange-kratz/Documents/GitHub/rl-stuff/ppo/videos/1709520406.106061/rl-video-episode-64.mp4\n",
      "score:  186.0\n",
      "score:  230.0\n",
      "score:  155.0\n",
      "score:  241.0\n",
      "score:  265.0\n",
      "score:  161.0\n",
      "score:  195.0\n",
      "score:  176.0\n",
      "score:  189.0\n",
      "score:  158.0\n",
      "score:  248.0\n",
      "score:  166.0\n",
      "score:  178.0\n",
      "score:  201.0\n",
      "score:  166.0\n",
      "score:  166.0\n",
      "score:  250.0\n",
      "score:  152.0\n",
      "score:  301.0\n",
      "score:  215.0\n",
      "score:  155.0\n",
      "score:  154.0\n",
      "score:  132.0\n",
      "score:  206.0\n",
      "score:  167.0\n",
      "score:  156.0\n",
      "score:  311.0\n",
      "score:  317.0\n",
      "score:  153.0\n",
      "score:  174.0\n",
      "score:  194.0\n",
      "score:  170.0\n",
      "score:  196.0\n",
      "score:  161.0\n",
      "score:  171.0\n",
      "score:  169.0\n"
     ]
    },
    {
     "name": "stderr",
     "output_type": "stream",
     "text": [
      "/Users/jonathanlamontange-kratz/Library/Python/3.9/lib/python/site-packages/gymnasium/wrappers/record_video.py:94: UserWarning: \u001b[33mWARN: Overwriting existing videos at /Users/jonathanlamontange-kratz/Documents/GitHub/rl-stuff/ppo/videos/1709520406.106061 folder (try specifying a different `video_folder` for the `RecordVideo` wrapper if this is not desired)\u001b[0m\n",
      "  logger.warn(\n"
     ]
    },
    {
     "name": "stdout",
     "output_type": "stream",
     "text": [
      "Moviepy - Building video /Users/jonathanlamontange-kratz/Documents/GitHub/rl-stuff/ppo/videos/1709520406.106061/rl-video-episode-1000.mp4.\n",
      "Moviepy - Writing video /Users/jonathanlamontange-kratz/Documents/GitHub/rl-stuff/ppo/videos/1709520406.106061/rl-video-episode-1000.mp4\n",
      "\n"
     ]
    },
    {
     "name": "stderr",
     "output_type": "stream",
     "text": [
      "                                                               \r"
     ]
    },
    {
     "name": "stdout",
     "output_type": "stream",
     "text": [
      "Moviepy - Done !\n",
      "Moviepy - video ready /Users/jonathanlamontange-kratz/Documents/GitHub/rl-stuff/ppo/videos/1709520406.106061/rl-video-episode-1000.mp4\n",
      "Moviepy - Building video /Users/jonathanlamontange-kratz/Documents/GitHub/rl-stuff/ppo/videos/1709520406.106061/rl-video-episode-0.mp4.\n",
      "Moviepy - Writing video /Users/jonathanlamontange-kratz/Documents/GitHub/rl-stuff/ppo/videos/1709520406.106061/rl-video-episode-0.mp4\n",
      "\n"
     ]
    },
    {
     "name": "stderr",
     "output_type": "stream",
     "text": [
      "                                                               \r"
     ]
    },
    {
     "name": "stdout",
     "output_type": "stream",
     "text": [
      "Moviepy - Done !\n",
      "Moviepy - video ready /Users/jonathanlamontange-kratz/Documents/GitHub/rl-stuff/ppo/videos/1709520406.106061/rl-video-episode-0.mp4\n",
      "score:  246.0\n",
      "WARNING:tensorflow:Model's `__init__()` arguments contain non-serializable objects. Please implement a `get_config()` method in the subclassed Model for proper saving and loading. Defaulting to empty config.\n",
      "WARNING:tensorflow:Model's `__init__()` arguments contain non-serializable objects. Please implement a `get_config()` method in the subclassed Model for proper saving and loading. Defaulting to empty config.\n",
      "WARNING:tensorflow:Model's `__init__()` arguments contain non-serializable objects. Please implement a `get_config()` method in the subclassed Model for proper saving and loading. Defaulting to empty config.\n",
      "WARNING:tensorflow:Model's `__init__()` arguments contain non-serializable objects. Please implement a `get_config()` method in the subclassed Model for proper saving and loading. Defaulting to empty config.\n",
      "WARNING:tensorflow:Model's `__init__()` arguments contain non-serializable objects. Please implement a `get_config()` method in the subclassed Model for proper saving and loading. Defaulting to empty config.\n",
      "WARNING:tensorflow:Model's `__init__()` arguments contain non-serializable objects. Please implement a `get_config()` method in the subclassed Model for proper saving and loading. Defaulting to empty config.\n",
      "Early stopping at iteration 0\n",
      "Early stopping at iteration 1\n",
      "Early stopping at iteration 2\n",
      "Early stopping at iteration 3\n",
      "Early stopping at iteration 4\n",
      "Moviepy - Building video /Users/jonathanlamontange-kratz/Documents/GitHub/rl-stuff/ppo/videos/1709520406.106061/rl-video-episode-1.mp4.\n",
      "Moviepy - Writing video /Users/jonathanlamontange-kratz/Documents/GitHub/rl-stuff/ppo/videos/1709520406.106061/rl-video-episode-1.mp4\n",
      "\n"
     ]
    },
    {
     "name": "stderr",
     "output_type": "stream",
     "text": [
      "                                                               \r"
     ]
    },
    {
     "name": "stdout",
     "output_type": "stream",
     "text": [
      "Moviepy - Done !\n",
      "Moviepy - video ready /Users/jonathanlamontange-kratz/Documents/GitHub/rl-stuff/ppo/videos/1709520406.106061/rl-video-episode-1.mp4\n",
      "score:  244.0\n",
      "score:  273.0\n",
      "score:  280.0\n",
      "score:  273.0\n",
      "score:  197.0\n",
      "score:  224.0\n",
      "score:  161.0\n",
      "Moviepy - Building video /Users/jonathanlamontange-kratz/Documents/GitHub/rl-stuff/ppo/videos/1709520406.106061/rl-video-episode-8.mp4.\n",
      "Moviepy - Writing video /Users/jonathanlamontange-kratz/Documents/GitHub/rl-stuff/ppo/videos/1709520406.106061/rl-video-episode-8.mp4\n",
      "\n"
     ]
    },
    {
     "name": "stderr",
     "output_type": "stream",
     "text": [
      "                                                               \r"
     ]
    },
    {
     "name": "stdout",
     "output_type": "stream",
     "text": [
      "Moviepy - Done !\n",
      "Moviepy - video ready /Users/jonathanlamontange-kratz/Documents/GitHub/rl-stuff/ppo/videos/1709520406.106061/rl-video-episode-8.mp4\n",
      "score:  211.0\n",
      "score:  250.0\n",
      "score:  403.0\n",
      "score:  500.0\n",
      "Moviepy - Building video /Users/jonathanlamontange-kratz/Documents/GitHub/rl-stuff/ppo/videos/1709520406.106061/rl-video-episode-512.mp4.\n",
      "Moviepy - Writing video /Users/jonathanlamontange-kratz/Documents/GitHub/rl-stuff/ppo/videos/1709520406.106061/rl-video-episode-512.mp4\n",
      "\n"
     ]
    },
    {
     "name": "stderr",
     "output_type": "stream",
     "text": [
      "                                                               \r"
     ]
    },
    {
     "name": "stdout",
     "output_type": "stream",
     "text": [
      "Moviepy - Done !\n",
      "Moviepy - video ready /Users/jonathanlamontange-kratz/Documents/GitHub/rl-stuff/ppo/videos/1709520406.106061/rl-video-episode-512.mp4\n",
      "score:  257.0\n",
      "score:  179.0\n",
      "score:  211.0\n",
      "score:  397.0\n",
      "Moviepy - Building video /Users/jonathanlamontange-kratz/Documents/GitHub/rl-stuff/ppo/videos/1709520406.106061/rl-video-episode-216.mp4.\n",
      "Moviepy - Writing video /Users/jonathanlamontange-kratz/Documents/GitHub/rl-stuff/ppo/videos/1709520406.106061/rl-video-episode-216.mp4\n",
      "\n"
     ]
    },
    {
     "name": "stderr",
     "output_type": "stream",
     "text": [
      "                                                               \r"
     ]
    },
    {
     "name": "stdout",
     "output_type": "stream",
     "text": [
      "Moviepy - Done !\n",
      "Moviepy - video ready /Users/jonathanlamontange-kratz/Documents/GitHub/rl-stuff/ppo/videos/1709520406.106061/rl-video-episode-216.mp4\n",
      "score:  287.0\n",
      "score:  210.0\n",
      "score:  224.0\n",
      "score:  277.0\n",
      "score:  179.0\n",
      "score:  426.0\n",
      "score:  229.0\n",
      "score:  443.0\n",
      "score:  389.0\n",
      "Moviepy - Building video /Users/jonathanlamontange-kratz/Documents/GitHub/rl-stuff/ppo/videos/1709520406.106061/rl-video-episode-125.mp4.\n",
      "Moviepy - Writing video /Users/jonathanlamontange-kratz/Documents/GitHub/rl-stuff/ppo/videos/1709520406.106061/rl-video-episode-125.mp4\n",
      "\n"
     ]
    },
    {
     "name": "stderr",
     "output_type": "stream",
     "text": [
      "                                                              \r"
     ]
    },
    {
     "name": "stdout",
     "output_type": "stream",
     "text": [
      "Moviepy - Done !\n",
      "Moviepy - video ready /Users/jonathanlamontange-kratz/Documents/GitHub/rl-stuff/ppo/videos/1709520406.106061/rl-video-episode-125.mp4\n",
      "score:  167.0\n",
      "score:  289.0\n",
      "Moviepy - Building video /Users/jonathanlamontange-kratz/Documents/GitHub/rl-stuff/ppo/videos/1709520406.106061/rl-video-episode-27.mp4.\n",
      "Moviepy - Writing video /Users/jonathanlamontange-kratz/Documents/GitHub/rl-stuff/ppo/videos/1709520406.106061/rl-video-episode-27.mp4\n",
      "\n"
     ]
    },
    {
     "name": "stderr",
     "output_type": "stream",
     "text": [
      "                                                               \r"
     ]
    },
    {
     "name": "stdout",
     "output_type": "stream",
     "text": [
      "Moviepy - Done !\n",
      "Moviepy - video ready /Users/jonathanlamontange-kratz/Documents/GitHub/rl-stuff/ppo/videos/1709520406.106061/rl-video-episode-27.mp4\n",
      "score:  155.0\n",
      "score:  177.0\n",
      "Moviepy - Building video /Users/jonathanlamontange-kratz/Documents/GitHub/rl-stuff/ppo/videos/1709520406.106061/rl-video-episode-729.mp4.\n",
      "Moviepy - Writing video /Users/jonathanlamontange-kratz/Documents/GitHub/rl-stuff/ppo/videos/1709520406.106061/rl-video-episode-729.mp4\n",
      "\n"
     ]
    },
    {
     "name": "stderr",
     "output_type": "stream",
     "text": [
      "                                                               \r"
     ]
    },
    {
     "name": "stdout",
     "output_type": "stream",
     "text": [
      "Moviepy - Done !\n",
      "Moviepy - video ready /Users/jonathanlamontange-kratz/Documents/GitHub/rl-stuff/ppo/videos/1709520406.106061/rl-video-episode-729.mp4\n",
      "score:  219.0\n",
      "score:  182.0\n",
      "score:  372.0\n",
      "score:  180.0\n",
      "score:  288.0\n",
      "score:  446.0\n",
      "score:  419.0\n",
      "score:  234.0\n",
      "score:  176.0\n",
      "score:  280.0\n",
      "score:  322.0\n",
      "score:  235.0\n",
      "score:  202.0\n",
      "score:  188.0\n",
      "Moviepy - Building video /Users/jonathanlamontange-kratz/Documents/GitHub/rl-stuff/ppo/videos/1709520406.106061/rl-video-episode-343.mp4.\n",
      "Moviepy - Writing video /Users/jonathanlamontange-kratz/Documents/GitHub/rl-stuff/ppo/videos/1709520406.106061/rl-video-episode-343.mp4\n",
      "\n"
     ]
    },
    {
     "name": "stderr",
     "output_type": "stream",
     "text": [
      "                                                               \r"
     ]
    },
    {
     "name": "stdout",
     "output_type": "stream",
     "text": [
      "Moviepy - Done !\n",
      "Moviepy - video ready /Users/jonathanlamontange-kratz/Documents/GitHub/rl-stuff/ppo/videos/1709520406.106061/rl-video-episode-343.mp4\n",
      "score:  193.0\n",
      "score:  185.0\n",
      "score:  200.0\n",
      "score:  186.0\n",
      "score:  153.0\n",
      "score:  357.0\n",
      "score:  346.0\n",
      "score:  176.0\n",
      "score:  166.0\n",
      "score:  224.0\n",
      "score:  212.0\n",
      "score:  270.0\n",
      "score:  188.0\n",
      "score:  230.0\n",
      "score:  299.0\n",
      "score:  169.0\n",
      "score:  192.0\n",
      "score:  149.0\n",
      "score:  158.0\n",
      "score:  247.0\n",
      "score:  427.0\n",
      "Moviepy - Building video /Users/jonathanlamontange-kratz/Documents/GitHub/rl-stuff/ppo/videos/1709520406.106061/rl-video-episode-64.mp4.\n",
      "Moviepy - Writing video /Users/jonathanlamontange-kratz/Documents/GitHub/rl-stuff/ppo/videos/1709520406.106061/rl-video-episode-64.mp4\n",
      "\n"
     ]
    },
    {
     "name": "stderr",
     "output_type": "stream",
     "text": [
      "                                                               \r"
     ]
    },
    {
     "name": "stdout",
     "output_type": "stream",
     "text": [
      "Moviepy - Done !\n",
      "Moviepy - video ready /Users/jonathanlamontange-kratz/Documents/GitHub/rl-stuff/ppo/videos/1709520406.106061/rl-video-episode-64.mp4\n",
      "score:  201.0\n",
      "score:  267.0\n",
      "score:  193.0\n",
      "score:  227.0\n",
      "score:  293.0\n",
      "score:  255.0\n",
      "score:  197.0\n",
      "score:  299.0\n",
      "score:  207.0\n",
      "score:  222.0\n",
      "score:  272.0\n",
      "score:  173.0\n",
      "score:  301.0\n",
      "score:  191.0\n",
      "score:  249.0\n",
      "score:  236.0\n",
      "score:  232.0\n",
      "score:  292.0\n",
      "score:  285.0\n",
      "score:  242.0\n",
      "score:  197.0\n",
      "score:  203.0\n",
      "score:  268.0\n",
      "score:  327.0\n",
      "score:  500.0\n",
      "score:  201.0\n",
      "score:  230.0\n",
      "score:  380.0\n",
      "score:  189.0\n",
      "score:  266.0\n",
      "score:  207.0\n",
      "score:  168.0\n",
      "score:  257.0\n",
      "score:  196.0\n",
      "score:  310.0\n",
      "score:  388.0\n"
     ]
    },
    {
     "name": "stderr",
     "output_type": "stream",
     "text": [
      "/Users/jonathanlamontange-kratz/Library/Python/3.9/lib/python/site-packages/gymnasium/wrappers/record_video.py:94: UserWarning: \u001b[33mWARN: Overwriting existing videos at /Users/jonathanlamontange-kratz/Documents/GitHub/rl-stuff/ppo/videos/1709520406.106061 folder (try specifying a different `video_folder` for the `RecordVideo` wrapper if this is not desired)\u001b[0m\n",
      "  logger.warn(\n"
     ]
    },
    {
     "name": "stdout",
     "output_type": "stream",
     "text": [
      "Moviepy - Building video /Users/jonathanlamontange-kratz/Documents/GitHub/rl-stuff/ppo/videos/1709520406.106061/rl-video-episode-1000.mp4.\n",
      "Moviepy - Writing video /Users/jonathanlamontange-kratz/Documents/GitHub/rl-stuff/ppo/videos/1709520406.106061/rl-video-episode-1000.mp4\n",
      "\n"
     ]
    },
    {
     "name": "stderr",
     "output_type": "stream",
     "text": [
      "                                                               \r"
     ]
    },
    {
     "name": "stdout",
     "output_type": "stream",
     "text": [
      "Moviepy - Done !\n",
      "Moviepy - video ready /Users/jonathanlamontange-kratz/Documents/GitHub/rl-stuff/ppo/videos/1709520406.106061/rl-video-episode-1000.mp4\n",
      "Moviepy - Building video /Users/jonathanlamontange-kratz/Documents/GitHub/rl-stuff/ppo/videos/1709520406.106061/rl-video-episode-0.mp4.\n",
      "Moviepy - Writing video /Users/jonathanlamontange-kratz/Documents/GitHub/rl-stuff/ppo/videos/1709520406.106061/rl-video-episode-0.mp4\n",
      "\n"
     ]
    },
    {
     "name": "stderr",
     "output_type": "stream",
     "text": [
      "                                                               \r"
     ]
    },
    {
     "name": "stdout",
     "output_type": "stream",
     "text": [
      "Moviepy - Done !\n",
      "Moviepy - video ready /Users/jonathanlamontange-kratz/Documents/GitHub/rl-stuff/ppo/videos/1709520406.106061/rl-video-episode-0.mp4\n",
      "score:  368.0\n",
      "WARNING:tensorflow:Model's `__init__()` arguments contain non-serializable objects. Please implement a `get_config()` method in the subclassed Model for proper saving and loading. Defaulting to empty config.\n",
      "WARNING:tensorflow:Model's `__init__()` arguments contain non-serializable objects. Please implement a `get_config()` method in the subclassed Model for proper saving and loading. Defaulting to empty config.\n",
      "WARNING:tensorflow:Model's `__init__()` arguments contain non-serializable objects. Please implement a `get_config()` method in the subclassed Model for proper saving and loading. Defaulting to empty config.\n",
      "WARNING:tensorflow:Model's `__init__()` arguments contain non-serializable objects. Please implement a `get_config()` method in the subclassed Model for proper saving and loading. Defaulting to empty config.\n",
      "WARNING:tensorflow:Model's `__init__()` arguments contain non-serializable objects. Please implement a `get_config()` method in the subclassed Model for proper saving and loading. Defaulting to empty config.\n",
      "WARNING:tensorflow:Model's `__init__()` arguments contain non-serializable objects. Please implement a `get_config()` method in the subclassed Model for proper saving and loading. Defaulting to empty config.\n",
      "Your agent has achieved the env's reward threshold.\n",
      "Early stopping at iteration 0\n",
      "Early stopping at iteration 1\n",
      "Early stopping at iteration 2\n",
      "Early stopping at iteration 3\n",
      "Early stopping at iteration 4\n",
      "Moviepy - Building video /Users/jonathanlamontange-kratz/Documents/GitHub/rl-stuff/ppo/videos/1709520406.106061/rl-video-episode-1.mp4.\n",
      "Moviepy - Writing video /Users/jonathanlamontange-kratz/Documents/GitHub/rl-stuff/ppo/videos/1709520406.106061/rl-video-episode-1.mp4\n",
      "\n"
     ]
    },
    {
     "name": "stderr",
     "output_type": "stream",
     "text": [
      "                                                               \r"
     ]
    },
    {
     "name": "stdout",
     "output_type": "stream",
     "text": [
      "Moviepy - Done !\n",
      "Moviepy - video ready /Users/jonathanlamontange-kratz/Documents/GitHub/rl-stuff/ppo/videos/1709520406.106061/rl-video-episode-1.mp4\n",
      "score:  250.0\n",
      "score:  178.0\n",
      "score:  360.0\n",
      "score:  247.0\n",
      "score:  168.0\n",
      "score:  216.0\n",
      "score:  451.0\n",
      "Moviepy - Building video /Users/jonathanlamontange-kratz/Documents/GitHub/rl-stuff/ppo/videos/1709520406.106061/rl-video-episode-8.mp4.\n",
      "Moviepy - Writing video /Users/jonathanlamontange-kratz/Documents/GitHub/rl-stuff/ppo/videos/1709520406.106061/rl-video-episode-8.mp4\n",
      "\n"
     ]
    },
    {
     "name": "stderr",
     "output_type": "stream",
     "text": [
      "                                                              \r"
     ]
    },
    {
     "name": "stdout",
     "output_type": "stream",
     "text": [
      "Moviepy - Done !\n",
      "Moviepy - video ready /Users/jonathanlamontange-kratz/Documents/GitHub/rl-stuff/ppo/videos/1709520406.106061/rl-video-episode-8.mp4\n",
      "score:  187.0\n",
      "score:  244.0\n",
      "score:  500.0\n",
      "score:  179.0\n",
      "Moviepy - Building video /Users/jonathanlamontange-kratz/Documents/GitHub/rl-stuff/ppo/videos/1709520406.106061/rl-video-episode-512.mp4.\n",
      "Moviepy - Writing video /Users/jonathanlamontange-kratz/Documents/GitHub/rl-stuff/ppo/videos/1709520406.106061/rl-video-episode-512.mp4\n",
      "\n"
     ]
    },
    {
     "name": "stderr",
     "output_type": "stream",
     "text": [
      "                                                              \r"
     ]
    },
    {
     "name": "stdout",
     "output_type": "stream",
     "text": [
      "Moviepy - Done !\n",
      "Moviepy - video ready /Users/jonathanlamontange-kratz/Documents/GitHub/rl-stuff/ppo/videos/1709520406.106061/rl-video-episode-512.mp4\n",
      "score:  197.0\n",
      "score:  274.0\n",
      "score:  188.0\n",
      "score:  500.0\n",
      "Moviepy - Building video /Users/jonathanlamontange-kratz/Documents/GitHub/rl-stuff/ppo/videos/1709520406.106061/rl-video-episode-216.mp4.\n",
      "Moviepy - Writing video /Users/jonathanlamontange-kratz/Documents/GitHub/rl-stuff/ppo/videos/1709520406.106061/rl-video-episode-216.mp4\n",
      "\n"
     ]
    },
    {
     "name": "stderr",
     "output_type": "stream",
     "text": [
      "                                                              \r"
     ]
    },
    {
     "name": "stdout",
     "output_type": "stream",
     "text": [
      "Moviepy - Done !\n",
      "Moviepy - video ready /Users/jonathanlamontange-kratz/Documents/GitHub/rl-stuff/ppo/videos/1709520406.106061/rl-video-episode-216.mp4\n",
      "score:  139.0\n",
      "score:  174.0\n",
      "score:  146.0\n",
      "score:  280.0\n",
      "score:  215.0\n",
      "score:  351.0\n",
      "score:  169.0\n",
      "score:  232.0\n",
      "score:  165.0\n",
      "Moviepy - Building video /Users/jonathanlamontange-kratz/Documents/GitHub/rl-stuff/ppo/videos/1709520406.106061/rl-video-episode-125.mp4.\n",
      "Moviepy - Writing video /Users/jonathanlamontange-kratz/Documents/GitHub/rl-stuff/ppo/videos/1709520406.106061/rl-video-episode-125.mp4\n",
      "\n"
     ]
    },
    {
     "name": "stderr",
     "output_type": "stream",
     "text": [
      "                                                               \r"
     ]
    },
    {
     "name": "stdout",
     "output_type": "stream",
     "text": [
      "Moviepy - Done !\n",
      "Moviepy - video ready /Users/jonathanlamontange-kratz/Documents/GitHub/rl-stuff/ppo/videos/1709520406.106061/rl-video-episode-125.mp4\n",
      "score:  382.0\n",
      "score:  310.0\n",
      "Moviepy - Building video /Users/jonathanlamontange-kratz/Documents/GitHub/rl-stuff/ppo/videos/1709520406.106061/rl-video-episode-27.mp4.\n",
      "Moviepy - Writing video /Users/jonathanlamontange-kratz/Documents/GitHub/rl-stuff/ppo/videos/1709520406.106061/rl-video-episode-27.mp4\n",
      "\n"
     ]
    },
    {
     "name": "stderr",
     "output_type": "stream",
     "text": [
      "                                                               \r"
     ]
    },
    {
     "name": "stdout",
     "output_type": "stream",
     "text": [
      "Moviepy - Done !\n",
      "Moviepy - video ready /Users/jonathanlamontange-kratz/Documents/GitHub/rl-stuff/ppo/videos/1709520406.106061/rl-video-episode-27.mp4\n",
      "score:  188.0\n",
      "score:  192.0\n",
      "Moviepy - Building video /Users/jonathanlamontange-kratz/Documents/GitHub/rl-stuff/ppo/videos/1709520406.106061/rl-video-episode-729.mp4.\n",
      "Moviepy - Writing video /Users/jonathanlamontange-kratz/Documents/GitHub/rl-stuff/ppo/videos/1709520406.106061/rl-video-episode-729.mp4\n",
      "\n"
     ]
    },
    {
     "name": "stderr",
     "output_type": "stream",
     "text": [
      "                                                               \r"
     ]
    },
    {
     "name": "stdout",
     "output_type": "stream",
     "text": [
      "Moviepy - Done !\n",
      "Moviepy - video ready /Users/jonathanlamontange-kratz/Documents/GitHub/rl-stuff/ppo/videos/1709520406.106061/rl-video-episode-729.mp4\n",
      "score:  140.0\n",
      "score:  147.0\n",
      "score:  170.0\n",
      "score:  150.0\n",
      "score:  209.0\n",
      "score:  222.0\n",
      "score:  362.0\n",
      "score:  171.0\n",
      "score:  154.0\n",
      "score:  500.0\n",
      "score:  218.0\n",
      "score:  258.0\n",
      "score:  356.0\n",
      "score:  161.0\n",
      "Moviepy - Building video /Users/jonathanlamontange-kratz/Documents/GitHub/rl-stuff/ppo/videos/1709520406.106061/rl-video-episode-343.mp4.\n",
      "Moviepy - Writing video /Users/jonathanlamontange-kratz/Documents/GitHub/rl-stuff/ppo/videos/1709520406.106061/rl-video-episode-343.mp4\n",
      "\n"
     ]
    },
    {
     "name": "stderr",
     "output_type": "stream",
     "text": [
      "                                                               \r"
     ]
    },
    {
     "name": "stdout",
     "output_type": "stream",
     "text": [
      "Moviepy - Done !\n",
      "Moviepy - video ready /Users/jonathanlamontange-kratz/Documents/GitHub/rl-stuff/ppo/videos/1709520406.106061/rl-video-episode-343.mp4\n",
      "score:  303.0\n",
      "score:  223.0\n",
      "score:  225.0\n",
      "score:  151.0\n",
      "score:  357.0\n",
      "score:  157.0\n",
      "score:  185.0\n",
      "score:  186.0\n",
      "score:  263.0\n",
      "score:  148.0\n",
      "score:  342.0\n",
      "score:  500.0\n",
      "score:  178.0\n",
      "score:  282.0\n",
      "score:  218.0\n",
      "score:  192.0\n",
      "score:  183.0\n",
      "score:  215.0\n",
      "score:  170.0\n",
      "score:  175.0\n",
      "score:  344.0\n",
      "Moviepy - Building video /Users/jonathanlamontange-kratz/Documents/GitHub/rl-stuff/ppo/videos/1709520406.106061/rl-video-episode-64.mp4.\n",
      "Moviepy - Writing video /Users/jonathanlamontange-kratz/Documents/GitHub/rl-stuff/ppo/videos/1709520406.106061/rl-video-episode-64.mp4\n",
      "\n"
     ]
    },
    {
     "name": "stderr",
     "output_type": "stream",
     "text": [
      "                                                               \r"
     ]
    },
    {
     "name": "stdout",
     "output_type": "stream",
     "text": [
      "Moviepy - Done !\n",
      "Moviepy - video ready /Users/jonathanlamontange-kratz/Documents/GitHub/rl-stuff/ppo/videos/1709520406.106061/rl-video-episode-64.mp4\n",
      "score:  254.0\n",
      "score:  187.0\n",
      "score:  500.0\n",
      "score:  139.0\n",
      "score:  403.0\n",
      "score:  191.0\n",
      "score:  250.0\n",
      "score:  316.0\n",
      "score:  185.0\n",
      "score:  182.0\n",
      "score:  233.0\n",
      "score:  249.0\n",
      "score:  245.0\n",
      "score:  249.0\n",
      "score:  178.0\n",
      "score:  245.0\n",
      "score:  192.0\n",
      "score:  338.0\n",
      "score:  242.0\n",
      "score:  249.0\n",
      "score:  178.0\n",
      "score:  164.0\n",
      "score:  372.0\n",
      "score:  141.0\n",
      "score:  281.0\n",
      "score:  208.0\n",
      "score:  245.0\n",
      "score:  164.0\n",
      "score:  199.0\n",
      "score:  216.0\n",
      "score:  179.0\n",
      "score:  178.0\n",
      "score:  174.0\n",
      "score:  195.0\n",
      "score:  175.0\n",
      "score:  201.0\n"
     ]
    },
    {
     "name": "stderr",
     "output_type": "stream",
     "text": [
      "/Users/jonathanlamontange-kratz/Library/Python/3.9/lib/python/site-packages/gymnasium/wrappers/record_video.py:94: UserWarning: \u001b[33mWARN: Overwriting existing videos at /Users/jonathanlamontange-kratz/Documents/GitHub/rl-stuff/ppo/videos/1709520406.106061 folder (try specifying a different `video_folder` for the `RecordVideo` wrapper if this is not desired)\u001b[0m\n",
      "  logger.warn(\n"
     ]
    },
    {
     "name": "stdout",
     "output_type": "stream",
     "text": [
      "Moviepy - Building video /Users/jonathanlamontange-kratz/Documents/GitHub/rl-stuff/ppo/videos/1709520406.106061/rl-video-episode-1000.mp4.\n",
      "Moviepy - Writing video /Users/jonathanlamontange-kratz/Documents/GitHub/rl-stuff/ppo/videos/1709520406.106061/rl-video-episode-1000.mp4\n",
      "\n"
     ]
    },
    {
     "name": "stderr",
     "output_type": "stream",
     "text": [
      "                                                               \r"
     ]
    },
    {
     "name": "stdout",
     "output_type": "stream",
     "text": [
      "Moviepy - Done !\n",
      "Moviepy - video ready /Users/jonathanlamontange-kratz/Documents/GitHub/rl-stuff/ppo/videos/1709520406.106061/rl-video-episode-1000.mp4\n",
      "Moviepy - Building video /Users/jonathanlamontange-kratz/Documents/GitHub/rl-stuff/ppo/videos/1709520406.106061/rl-video-episode-0.mp4.\n",
      "Moviepy - Writing video /Users/jonathanlamontange-kratz/Documents/GitHub/rl-stuff/ppo/videos/1709520406.106061/rl-video-episode-0.mp4\n",
      "\n"
     ]
    },
    {
     "name": "stderr",
     "output_type": "stream",
     "text": [
      "                                                               \r"
     ]
    },
    {
     "name": "stdout",
     "output_type": "stream",
     "text": [
      "Moviepy - Done !\n",
      "Moviepy - video ready /Users/jonathanlamontange-kratz/Documents/GitHub/rl-stuff/ppo/videos/1709520406.106061/rl-video-episode-0.mp4\n",
      "score:  209.0\n",
      "WARNING:tensorflow:Model's `__init__()` arguments contain non-serializable objects. Please implement a `get_config()` method in the subclassed Model for proper saving and loading. Defaulting to empty config.\n",
      "WARNING:tensorflow:Model's `__init__()` arguments contain non-serializable objects. Please implement a `get_config()` method in the subclassed Model for proper saving and loading. Defaulting to empty config.\n",
      "WARNING:tensorflow:Model's `__init__()` arguments contain non-serializable objects. Please implement a `get_config()` method in the subclassed Model for proper saving and loading. Defaulting to empty config.\n",
      "WARNING:tensorflow:Model's `__init__()` arguments contain non-serializable objects. Please implement a `get_config()` method in the subclassed Model for proper saving and loading. Defaulting to empty config.\n",
      "WARNING:tensorflow:Model's `__init__()` arguments contain non-serializable objects. Please implement a `get_config()` method in the subclassed Model for proper saving and loading. Defaulting to empty config.\n",
      "WARNING:tensorflow:Model's `__init__()` arguments contain non-serializable objects. Please implement a `get_config()` method in the subclassed Model for proper saving and loading. Defaulting to empty config.\n",
      "Early stopping at iteration 0\n",
      "Early stopping at iteration 1\n",
      "Early stopping at iteration 2\n",
      "Early stopping at iteration 3\n",
      "Early stopping at iteration 4\n",
      "Moviepy - Building video /Users/jonathanlamontange-kratz/Documents/GitHub/rl-stuff/ppo/videos/1709520406.106061/rl-video-episode-1.mp4.\n",
      "Moviepy - Writing video /Users/jonathanlamontange-kratz/Documents/GitHub/rl-stuff/ppo/videos/1709520406.106061/rl-video-episode-1.mp4\n",
      "\n"
     ]
    },
    {
     "name": "stderr",
     "output_type": "stream",
     "text": [
      "                                                               \r"
     ]
    },
    {
     "name": "stdout",
     "output_type": "stream",
     "text": [
      "Moviepy - Done !\n",
      "Moviepy - video ready /Users/jonathanlamontange-kratz/Documents/GitHub/rl-stuff/ppo/videos/1709520406.106061/rl-video-episode-1.mp4\n",
      "score:  198.0\n",
      "score:  169.0\n",
      "score:  201.0\n",
      "score:  334.0\n",
      "score:  165.0\n",
      "score:  201.0\n",
      "score:  179.0\n",
      "Moviepy - Building video /Users/jonathanlamontange-kratz/Documents/GitHub/rl-stuff/ppo/videos/1709520406.106061/rl-video-episode-8.mp4.\n",
      "Moviepy - Writing video /Users/jonathanlamontange-kratz/Documents/GitHub/rl-stuff/ppo/videos/1709520406.106061/rl-video-episode-8.mp4\n",
      "\n"
     ]
    },
    {
     "name": "stderr",
     "output_type": "stream",
     "text": [
      "                                                               \r"
     ]
    },
    {
     "name": "stdout",
     "output_type": "stream",
     "text": [
      "Moviepy - Done !\n",
      "Moviepy - video ready /Users/jonathanlamontange-kratz/Documents/GitHub/rl-stuff/ppo/videos/1709520406.106061/rl-video-episode-8.mp4\n",
      "score:  173.0\n",
      "score:  179.0\n",
      "score:  216.0\n",
      "score:  314.0\n",
      "Moviepy - Building video /Users/jonathanlamontange-kratz/Documents/GitHub/rl-stuff/ppo/videos/1709520406.106061/rl-video-episode-512.mp4.\n",
      "Moviepy - Writing video /Users/jonathanlamontange-kratz/Documents/GitHub/rl-stuff/ppo/videos/1709520406.106061/rl-video-episode-512.mp4\n",
      "\n"
     ]
    },
    {
     "name": "stderr",
     "output_type": "stream",
     "text": [
      "                                                               \r"
     ]
    },
    {
     "name": "stdout",
     "output_type": "stream",
     "text": [
      "Moviepy - Done !\n",
      "Moviepy - video ready /Users/jonathanlamontange-kratz/Documents/GitHub/rl-stuff/ppo/videos/1709520406.106061/rl-video-episode-512.mp4\n",
      "score:  205.0\n",
      "score:  168.0\n",
      "score:  203.0\n",
      "score:  163.0\n",
      "Moviepy - Building video /Users/jonathanlamontange-kratz/Documents/GitHub/rl-stuff/ppo/videos/1709520406.106061/rl-video-episode-216.mp4.\n",
      "Moviepy - Writing video /Users/jonathanlamontange-kratz/Documents/GitHub/rl-stuff/ppo/videos/1709520406.106061/rl-video-episode-216.mp4\n",
      "\n"
     ]
    },
    {
     "name": "stderr",
     "output_type": "stream",
     "text": [
      "                                                              \r"
     ]
    },
    {
     "name": "stdout",
     "output_type": "stream",
     "text": [
      "Moviepy - Done !\n",
      "Moviepy - video ready /Users/jonathanlamontange-kratz/Documents/GitHub/rl-stuff/ppo/videos/1709520406.106061/rl-video-episode-216.mp4\n",
      "score:  139.0\n",
      "score:  233.0\n",
      "score:  155.0\n",
      "score:  250.0\n",
      "score:  419.0\n",
      "score:  208.0\n",
      "score:  162.0\n",
      "score:  146.0\n",
      "score:  260.0\n",
      "Moviepy - Building video /Users/jonathanlamontange-kratz/Documents/GitHub/rl-stuff/ppo/videos/1709520406.106061/rl-video-episode-125.mp4.\n",
      "Moviepy - Writing video /Users/jonathanlamontange-kratz/Documents/GitHub/rl-stuff/ppo/videos/1709520406.106061/rl-video-episode-125.mp4\n",
      "\n"
     ]
    },
    {
     "name": "stderr",
     "output_type": "stream",
     "text": [
      "                                                               \r"
     ]
    },
    {
     "name": "stdout",
     "output_type": "stream",
     "text": [
      "Moviepy - Done !\n",
      "Moviepy - video ready /Users/jonathanlamontange-kratz/Documents/GitHub/rl-stuff/ppo/videos/1709520406.106061/rl-video-episode-125.mp4\n",
      "score:  154.0\n",
      "score:  155.0\n",
      "Moviepy - Building video /Users/jonathanlamontange-kratz/Documents/GitHub/rl-stuff/ppo/videos/1709520406.106061/rl-video-episode-27.mp4.\n",
      "Moviepy - Writing video /Users/jonathanlamontange-kratz/Documents/GitHub/rl-stuff/ppo/videos/1709520406.106061/rl-video-episode-27.mp4\n",
      "\n"
     ]
    },
    {
     "name": "stderr",
     "output_type": "stream",
     "text": [
      "                                                               \r"
     ]
    },
    {
     "name": "stdout",
     "output_type": "stream",
     "text": [
      "Moviepy - Done !\n",
      "Moviepy - video ready /Users/jonathanlamontange-kratz/Documents/GitHub/rl-stuff/ppo/videos/1709520406.106061/rl-video-episode-27.mp4\n",
      "score:  164.0\n",
      "score:  141.0\n",
      "Moviepy - Building video /Users/jonathanlamontange-kratz/Documents/GitHub/rl-stuff/ppo/videos/1709520406.106061/rl-video-episode-729.mp4.\n",
      "Moviepy - Writing video /Users/jonathanlamontange-kratz/Documents/GitHub/rl-stuff/ppo/videos/1709520406.106061/rl-video-episode-729.mp4\n",
      "\n"
     ]
    },
    {
     "name": "stderr",
     "output_type": "stream",
     "text": [
      "                                                               \r"
     ]
    },
    {
     "name": "stdout",
     "output_type": "stream",
     "text": [
      "Moviepy - Done !\n",
      "Moviepy - video ready /Users/jonathanlamontange-kratz/Documents/GitHub/rl-stuff/ppo/videos/1709520406.106061/rl-video-episode-729.mp4\n",
      "score:  130.0\n",
      "score:  264.0\n",
      "score:  178.0\n",
      "score:  254.0\n",
      "score:  168.0\n",
      "score:  198.0\n",
      "score:  142.0\n",
      "score:  275.0\n",
      "score:  143.0\n",
      "score:  188.0\n",
      "score:  163.0\n",
      "score:  161.0\n",
      "score:  133.0\n",
      "score:  165.0\n",
      "Moviepy - Building video /Users/jonathanlamontange-kratz/Documents/GitHub/rl-stuff/ppo/videos/1709520406.106061/rl-video-episode-343.mp4.\n",
      "Moviepy - Writing video /Users/jonathanlamontange-kratz/Documents/GitHub/rl-stuff/ppo/videos/1709520406.106061/rl-video-episode-343.mp4\n",
      "\n"
     ]
    },
    {
     "name": "stderr",
     "output_type": "stream",
     "text": [
      "                                                              \r"
     ]
    },
    {
     "name": "stdout",
     "output_type": "stream",
     "text": [
      "Moviepy - Done !\n",
      "Moviepy - video ready /Users/jonathanlamontange-kratz/Documents/GitHub/rl-stuff/ppo/videos/1709520406.106061/rl-video-episode-343.mp4\n",
      "score:  178.0\n",
      "score:  162.0\n",
      "score:  315.0\n",
      "score:  222.0\n",
      "score:  141.0\n",
      "score:  195.0\n",
      "score:  195.0\n",
      "score:  201.0\n",
      "score:  163.0\n",
      "score:  129.0\n",
      "score:  146.0\n",
      "score:  252.0\n",
      "score:  160.0\n",
      "score:  152.0\n",
      "score:  130.0\n",
      "score:  270.0\n",
      "score:  166.0\n",
      "score:  164.0\n",
      "score:  189.0\n",
      "score:  354.0\n",
      "score:  349.0\n",
      "Moviepy - Building video /Users/jonathanlamontange-kratz/Documents/GitHub/rl-stuff/ppo/videos/1709520406.106061/rl-video-episode-64.mp4.\n",
      "Moviepy - Writing video /Users/jonathanlamontange-kratz/Documents/GitHub/rl-stuff/ppo/videos/1709520406.106061/rl-video-episode-64.mp4\n",
      "\n"
     ]
    },
    {
     "name": "stderr",
     "output_type": "stream",
     "text": [
      "                                                               \r"
     ]
    },
    {
     "name": "stdout",
     "output_type": "stream",
     "text": [
      "Moviepy - Done !\n",
      "Moviepy - video ready /Users/jonathanlamontange-kratz/Documents/GitHub/rl-stuff/ppo/videos/1709520406.106061/rl-video-episode-64.mp4\n",
      "score:  369.0\n",
      "score:  161.0\n",
      "score:  156.0\n",
      "score:  143.0\n",
      "score:  216.0\n",
      "score:  163.0\n",
      "score:  197.0\n",
      "score:  154.0\n",
      "score:  236.0\n",
      "score:  139.0\n",
      "score:  154.0\n",
      "score:  159.0\n",
      "score:  213.0\n",
      "score:  166.0\n",
      "score:  152.0\n",
      "score:  143.0\n",
      "score:  168.0\n",
      "score:  247.0\n",
      "score:  139.0\n",
      "score:  144.0\n",
      "score:  243.0\n",
      "score:  155.0\n",
      "score:  171.0\n",
      "score:  129.0\n",
      "score:  202.0\n",
      "score:  198.0\n",
      "score:  165.0\n",
      "score:  187.0\n",
      "score:  160.0\n",
      "score:  212.0\n",
      "score:  172.0\n",
      "score:  175.0\n",
      "score:  422.0\n",
      "score:  186.0\n",
      "score:  192.0\n",
      "score:  328.0\n"
     ]
    },
    {
     "name": "stderr",
     "output_type": "stream",
     "text": [
      "/Users/jonathanlamontange-kratz/Library/Python/3.9/lib/python/site-packages/gymnasium/wrappers/record_video.py:94: UserWarning: \u001b[33mWARN: Overwriting existing videos at /Users/jonathanlamontange-kratz/Documents/GitHub/rl-stuff/ppo/videos/1709520406.106061 folder (try specifying a different `video_folder` for the `RecordVideo` wrapper if this is not desired)\u001b[0m\n",
      "  logger.warn(\n"
     ]
    },
    {
     "name": "stdout",
     "output_type": "stream",
     "text": [
      "Moviepy - Building video /Users/jonathanlamontange-kratz/Documents/GitHub/rl-stuff/ppo/videos/1709520406.106061/rl-video-episode-1000.mp4.\n",
      "Moviepy - Writing video /Users/jonathanlamontange-kratz/Documents/GitHub/rl-stuff/ppo/videos/1709520406.106061/rl-video-episode-1000.mp4\n",
      "\n"
     ]
    },
    {
     "name": "stderr",
     "output_type": "stream",
     "text": [
      "                                                               \r"
     ]
    },
    {
     "name": "stdout",
     "output_type": "stream",
     "text": [
      "Moviepy - Done !\n",
      "Moviepy - video ready /Users/jonathanlamontange-kratz/Documents/GitHub/rl-stuff/ppo/videos/1709520406.106061/rl-video-episode-1000.mp4\n",
      "Moviepy - Building video /Users/jonathanlamontange-kratz/Documents/GitHub/rl-stuff/ppo/videos/1709520406.106061/rl-video-episode-0.mp4.\n",
      "Moviepy - Writing video /Users/jonathanlamontange-kratz/Documents/GitHub/rl-stuff/ppo/videos/1709520406.106061/rl-video-episode-0.mp4\n",
      "\n"
     ]
    },
    {
     "name": "stderr",
     "output_type": "stream",
     "text": [
      "                                                               \r"
     ]
    },
    {
     "name": "stdout",
     "output_type": "stream",
     "text": [
      "Moviepy - Done !\n",
      "Moviepy - video ready /Users/jonathanlamontange-kratz/Documents/GitHub/rl-stuff/ppo/videos/1709520406.106061/rl-video-episode-0.mp4\n",
      "score:  208.0\n",
      "WARNING:tensorflow:Model's `__init__()` arguments contain non-serializable objects. Please implement a `get_config()` method in the subclassed Model for proper saving and loading. Defaulting to empty config.\n",
      "WARNING:tensorflow:Model's `__init__()` arguments contain non-serializable objects. Please implement a `get_config()` method in the subclassed Model for proper saving and loading. Defaulting to empty config.\n",
      "WARNING:tensorflow:Model's `__init__()` arguments contain non-serializable objects. Please implement a `get_config()` method in the subclassed Model for proper saving and loading. Defaulting to empty config.\n",
      "WARNING:tensorflow:Model's `__init__()` arguments contain non-serializable objects. Please implement a `get_config()` method in the subclassed Model for proper saving and loading. Defaulting to empty config.\n",
      "WARNING:tensorflow:Model's `__init__()` arguments contain non-serializable objects. Please implement a `get_config()` method in the subclassed Model for proper saving and loading. Defaulting to empty config.\n",
      "WARNING:tensorflow:Model's `__init__()` arguments contain non-serializable objects. Please implement a `get_config()` method in the subclassed Model for proper saving and loading. Defaulting to empty config.\n",
      "Your agent has achieved the env's reward threshold.\n",
      "Early stopping at iteration 0\n",
      "Early stopping at iteration 1\n",
      "Early stopping at iteration 2\n",
      "Early stopping at iteration 3\n",
      "Early stopping at iteration 4\n",
      "Moviepy - Building video /Users/jonathanlamontange-kratz/Documents/GitHub/rl-stuff/ppo/videos/1709520406.106061/rl-video-episode-1.mp4.\n",
      "Moviepy - Writing video /Users/jonathanlamontange-kratz/Documents/GitHub/rl-stuff/ppo/videos/1709520406.106061/rl-video-episode-1.mp4\n",
      "\n"
     ]
    },
    {
     "name": "stderr",
     "output_type": "stream",
     "text": [
      "                                                              \r"
     ]
    },
    {
     "name": "stdout",
     "output_type": "stream",
     "text": [
      "Moviepy - Done !\n",
      "Moviepy - video ready /Users/jonathanlamontange-kratz/Documents/GitHub/rl-stuff/ppo/videos/1709520406.106061/rl-video-episode-1.mp4\n",
      "score:  138.0\n",
      "score:  151.0\n",
      "score:  195.0\n",
      "score:  235.0\n",
      "score:  188.0\n",
      "score:  186.0\n",
      "score:  197.0\n",
      "Moviepy - Building video /Users/jonathanlamontange-kratz/Documents/GitHub/rl-stuff/ppo/videos/1709520406.106061/rl-video-episode-8.mp4.\n",
      "Moviepy - Writing video /Users/jonathanlamontange-kratz/Documents/GitHub/rl-stuff/ppo/videos/1709520406.106061/rl-video-episode-8.mp4\n",
      "\n"
     ]
    },
    {
     "name": "stderr",
     "output_type": "stream",
     "text": [
      "                                                               \r"
     ]
    },
    {
     "name": "stdout",
     "output_type": "stream",
     "text": [
      "Moviepy - Done !\n",
      "Moviepy - video ready /Users/jonathanlamontange-kratz/Documents/GitHub/rl-stuff/ppo/videos/1709520406.106061/rl-video-episode-8.mp4\n",
      "score:  173.0\n",
      "score:  232.0\n",
      "score:  224.0\n",
      "score:  302.0\n",
      "Moviepy - Building video /Users/jonathanlamontange-kratz/Documents/GitHub/rl-stuff/ppo/videos/1709520406.106061/rl-video-episode-512.mp4.\n",
      "Moviepy - Writing video /Users/jonathanlamontange-kratz/Documents/GitHub/rl-stuff/ppo/videos/1709520406.106061/rl-video-episode-512.mp4\n",
      "\n"
     ]
    },
    {
     "name": "stderr",
     "output_type": "stream",
     "text": [
      "                                                               \r"
     ]
    },
    {
     "name": "stdout",
     "output_type": "stream",
     "text": [
      "Moviepy - Done !\n",
      "Moviepy - video ready /Users/jonathanlamontange-kratz/Documents/GitHub/rl-stuff/ppo/videos/1709520406.106061/rl-video-episode-512.mp4\n",
      "score:  157.0\n",
      "score:  152.0\n",
      "score:  182.0\n",
      "score:  133.0\n",
      "Moviepy - Building video /Users/jonathanlamontange-kratz/Documents/GitHub/rl-stuff/ppo/videos/1709520406.106061/rl-video-episode-216.mp4.\n",
      "Moviepy - Writing video /Users/jonathanlamontange-kratz/Documents/GitHub/rl-stuff/ppo/videos/1709520406.106061/rl-video-episode-216.mp4\n",
      "\n"
     ]
    },
    {
     "name": "stderr",
     "output_type": "stream",
     "text": [
      "                                                               \r"
     ]
    },
    {
     "name": "stdout",
     "output_type": "stream",
     "text": [
      "Moviepy - Done !\n",
      "Moviepy - video ready /Users/jonathanlamontange-kratz/Documents/GitHub/rl-stuff/ppo/videos/1709520406.106061/rl-video-episode-216.mp4\n",
      "score:  169.0\n",
      "score:  201.0\n",
      "score:  227.0\n",
      "score:  397.0\n",
      "score:  182.0\n",
      "score:  488.0\n",
      "score:  210.0\n",
      "score:  211.0\n",
      "score:  159.0\n",
      "Moviepy - Building video /Users/jonathanlamontange-kratz/Documents/GitHub/rl-stuff/ppo/videos/1709520406.106061/rl-video-episode-125.mp4.\n",
      "Moviepy - Writing video /Users/jonathanlamontange-kratz/Documents/GitHub/rl-stuff/ppo/videos/1709520406.106061/rl-video-episode-125.mp4\n",
      "\n"
     ]
    },
    {
     "name": "stderr",
     "output_type": "stream",
     "text": [
      "                                                               \r"
     ]
    },
    {
     "name": "stdout",
     "output_type": "stream",
     "text": [
      "Moviepy - Done !\n",
      "Moviepy - video ready /Users/jonathanlamontange-kratz/Documents/GitHub/rl-stuff/ppo/videos/1709520406.106061/rl-video-episode-125.mp4\n",
      "score:  180.0\n",
      "score:  210.0\n",
      "Moviepy - Building video /Users/jonathanlamontange-kratz/Documents/GitHub/rl-stuff/ppo/videos/1709520406.106061/rl-video-episode-27.mp4.\n",
      "Moviepy - Writing video /Users/jonathanlamontange-kratz/Documents/GitHub/rl-stuff/ppo/videos/1709520406.106061/rl-video-episode-27.mp4\n",
      "\n"
     ]
    },
    {
     "name": "stderr",
     "output_type": "stream",
     "text": [
      "                                                               \r"
     ]
    },
    {
     "name": "stdout",
     "output_type": "stream",
     "text": [
      "Moviepy - Done !\n",
      "Moviepy - video ready /Users/jonathanlamontange-kratz/Documents/GitHub/rl-stuff/ppo/videos/1709520406.106061/rl-video-episode-27.mp4\n",
      "score:  151.0\n",
      "score:  167.0\n",
      "Moviepy - Building video /Users/jonathanlamontange-kratz/Documents/GitHub/rl-stuff/ppo/videos/1709520406.106061/rl-video-episode-729.mp4.\n",
      "Moviepy - Writing video /Users/jonathanlamontange-kratz/Documents/GitHub/rl-stuff/ppo/videos/1709520406.106061/rl-video-episode-729.mp4\n",
      "\n"
     ]
    },
    {
     "name": "stderr",
     "output_type": "stream",
     "text": [
      "                                                               \r"
     ]
    },
    {
     "name": "stdout",
     "output_type": "stream",
     "text": [
      "Moviepy - Done !\n",
      "Moviepy - video ready /Users/jonathanlamontange-kratz/Documents/GitHub/rl-stuff/ppo/videos/1709520406.106061/rl-video-episode-729.mp4\n",
      "score:  192.0\n",
      "score:  164.0\n",
      "score:  180.0\n",
      "score:  228.0\n",
      "score:  317.0\n",
      "score:  163.0\n",
      "score:  208.0\n",
      "score:  135.0\n",
      "score:  188.0\n",
      "score:  148.0\n",
      "score:  251.0\n",
      "score:  183.0\n",
      "score:  209.0\n",
      "score:  258.0\n",
      "Moviepy - Building video /Users/jonathanlamontange-kratz/Documents/GitHub/rl-stuff/ppo/videos/1709520406.106061/rl-video-episode-343.mp4.\n",
      "Moviepy - Writing video /Users/jonathanlamontange-kratz/Documents/GitHub/rl-stuff/ppo/videos/1709520406.106061/rl-video-episode-343.mp4\n",
      "\n"
     ]
    },
    {
     "name": "stderr",
     "output_type": "stream",
     "text": [
      "                                                               \r"
     ]
    },
    {
     "name": "stdout",
     "output_type": "stream",
     "text": [
      "Moviepy - Done !\n",
      "Moviepy - video ready /Users/jonathanlamontange-kratz/Documents/GitHub/rl-stuff/ppo/videos/1709520406.106061/rl-video-episode-343.mp4\n",
      "score:  192.0\n",
      "score:  227.0\n",
      "score:  231.0\n",
      "score:  206.0\n",
      "score:  239.0\n",
      "score:  146.0\n",
      "score:  149.0\n",
      "score:  160.0\n",
      "score:  292.0\n",
      "score:  150.0\n",
      "score:  153.0\n",
      "score:  218.0\n",
      "score:  196.0\n",
      "score:  302.0\n",
      "score:  188.0\n",
      "score:  155.0\n",
      "score:  259.0\n",
      "score:  322.0\n",
      "score:  177.0\n",
      "score:  179.0\n",
      "score:  253.0\n",
      "Moviepy - Building video /Users/jonathanlamontange-kratz/Documents/GitHub/rl-stuff/ppo/videos/1709520406.106061/rl-video-episode-64.mp4.\n",
      "Moviepy - Writing video /Users/jonathanlamontange-kratz/Documents/GitHub/rl-stuff/ppo/videos/1709520406.106061/rl-video-episode-64.mp4\n",
      "\n"
     ]
    },
    {
     "name": "stderr",
     "output_type": "stream",
     "text": [
      "                                                               \r"
     ]
    },
    {
     "name": "stdout",
     "output_type": "stream",
     "text": [
      "Moviepy - Done !\n",
      "Moviepy - video ready /Users/jonathanlamontange-kratz/Documents/GitHub/rl-stuff/ppo/videos/1709520406.106061/rl-video-episode-64.mp4\n",
      "score:  372.0\n",
      "score:  232.0\n",
      "score:  157.0\n",
      "score:  197.0\n",
      "score:  207.0\n",
      "score:  238.0\n",
      "score:  204.0\n",
      "score:  187.0\n",
      "score:  171.0\n",
      "score:  260.0\n",
      "score:  162.0\n",
      "score:  373.0\n",
      "score:  177.0\n",
      "score:  163.0\n",
      "score:  173.0\n",
      "score:  152.0\n",
      "score:  149.0\n",
      "score:  213.0\n",
      "score:  257.0\n",
      "score:  303.0\n",
      "score:  176.0\n",
      "score:  174.0\n",
      "score:  222.0\n",
      "score:  192.0\n",
      "score:  148.0\n",
      "score:  154.0\n",
      "score:  136.0\n",
      "score:  308.0\n",
      "score:  211.0\n",
      "score:  144.0\n",
      "score:  156.0\n",
      "score:  196.0\n",
      "score:  266.0\n",
      "score:  152.0\n",
      "score:  151.0\n",
      "score:  273.0\n"
     ]
    },
    {
     "name": "stderr",
     "output_type": "stream",
     "text": [
      "/Users/jonathanlamontange-kratz/Library/Python/3.9/lib/python/site-packages/gymnasium/wrappers/record_video.py:94: UserWarning: \u001b[33mWARN: Overwriting existing videos at /Users/jonathanlamontange-kratz/Documents/GitHub/rl-stuff/ppo/videos/1709520406.106061 folder (try specifying a different `video_folder` for the `RecordVideo` wrapper if this is not desired)\u001b[0m\n",
      "  logger.warn(\n"
     ]
    },
    {
     "name": "stdout",
     "output_type": "stream",
     "text": [
      "Moviepy - Building video /Users/jonathanlamontange-kratz/Documents/GitHub/rl-stuff/ppo/videos/1709520406.106061/rl-video-episode-1000.mp4.\n",
      "Moviepy - Writing video /Users/jonathanlamontange-kratz/Documents/GitHub/rl-stuff/ppo/videos/1709520406.106061/rl-video-episode-1000.mp4\n",
      "\n"
     ]
    },
    {
     "name": "stderr",
     "output_type": "stream",
     "text": [
      "                                                               \r"
     ]
    },
    {
     "name": "stdout",
     "output_type": "stream",
     "text": [
      "Moviepy - Done !\n",
      "Moviepy - video ready /Users/jonathanlamontange-kratz/Documents/GitHub/rl-stuff/ppo/videos/1709520406.106061/rl-video-episode-1000.mp4\n",
      "Moviepy - Building video /Users/jonathanlamontange-kratz/Documents/GitHub/rl-stuff/ppo/videos/1709520406.106061/rl-video-episode-0.mp4.\n",
      "Moviepy - Writing video /Users/jonathanlamontange-kratz/Documents/GitHub/rl-stuff/ppo/videos/1709520406.106061/rl-video-episode-0.mp4\n",
      "\n"
     ]
    },
    {
     "name": "stderr",
     "output_type": "stream",
     "text": [
      "                                                                \r"
     ]
    },
    {
     "name": "stdout",
     "output_type": "stream",
     "text": [
      "Moviepy - Done !\n",
      "Moviepy - video ready /Users/jonathanlamontange-kratz/Documents/GitHub/rl-stuff/ppo/videos/1709520406.106061/rl-video-episode-0.mp4\n",
      "score:  354.0\n",
      "WARNING:tensorflow:Model's `__init__()` arguments contain non-serializable objects. Please implement a `get_config()` method in the subclassed Model for proper saving and loading. Defaulting to empty config.\n",
      "WARNING:tensorflow:Model's `__init__()` arguments contain non-serializable objects. Please implement a `get_config()` method in the subclassed Model for proper saving and loading. Defaulting to empty config.\n",
      "WARNING:tensorflow:Model's `__init__()` arguments contain non-serializable objects. Please implement a `get_config()` method in the subclassed Model for proper saving and loading. Defaulting to empty config.\n",
      "WARNING:tensorflow:Model's `__init__()` arguments contain non-serializable objects. Please implement a `get_config()` method in the subclassed Model for proper saving and loading. Defaulting to empty config.\n",
      "WARNING:tensorflow:Model's `__init__()` arguments contain non-serializable objects. Please implement a `get_config()` method in the subclassed Model for proper saving and loading. Defaulting to empty config.\n",
      "WARNING:tensorflow:Model's `__init__()` arguments contain non-serializable objects. Please implement a `get_config()` method in the subclassed Model for proper saving and loading. Defaulting to empty config.\n",
      "Your agent has achieved the env's reward threshold.\n",
      "Early stopping at iteration 0\n",
      "Early stopping at iteration 1\n",
      "Early stopping at iteration 2\n",
      "Early stopping at iteration 3\n",
      "Early stopping at iteration 4\n",
      "Moviepy - Building video /Users/jonathanlamontange-kratz/Documents/GitHub/rl-stuff/ppo/videos/1709520406.106061/rl-video-episode-1.mp4.\n",
      "Moviepy - Writing video /Users/jonathanlamontange-kratz/Documents/GitHub/rl-stuff/ppo/videos/1709520406.106061/rl-video-episode-1.mp4\n",
      "\n"
     ]
    },
    {
     "name": "stderr",
     "output_type": "stream",
     "text": [
      "                                                              \r"
     ]
    },
    {
     "name": "stdout",
     "output_type": "stream",
     "text": [
      "Moviepy - Done !\n",
      "Moviepy - video ready /Users/jonathanlamontange-kratz/Documents/GitHub/rl-stuff/ppo/videos/1709520406.106061/rl-video-episode-1.mp4\n",
      "score:  167.0\n",
      "score:  154.0\n",
      "score:  149.0\n",
      "score:  147.0\n",
      "score:  196.0\n",
      "score:  277.0\n",
      "score:  242.0\n",
      "Moviepy - Building video /Users/jonathanlamontange-kratz/Documents/GitHub/rl-stuff/ppo/videos/1709520406.106061/rl-video-episode-8.mp4.\n",
      "Moviepy - Writing video /Users/jonathanlamontange-kratz/Documents/GitHub/rl-stuff/ppo/videos/1709520406.106061/rl-video-episode-8.mp4\n",
      "\n"
     ]
    },
    {
     "name": "stderr",
     "output_type": "stream",
     "text": [
      "                                                               \r"
     ]
    },
    {
     "name": "stdout",
     "output_type": "stream",
     "text": [
      "Moviepy - Done !\n",
      "Moviepy - video ready /Users/jonathanlamontange-kratz/Documents/GitHub/rl-stuff/ppo/videos/1709520406.106061/rl-video-episode-8.mp4\n",
      "score:  251.0\n",
      "score:  150.0\n",
      "score:  170.0\n",
      "score:  149.0\n",
      "Moviepy - Building video /Users/jonathanlamontange-kratz/Documents/GitHub/rl-stuff/ppo/videos/1709520406.106061/rl-video-episode-512.mp4.\n",
      "Moviepy - Writing video /Users/jonathanlamontange-kratz/Documents/GitHub/rl-stuff/ppo/videos/1709520406.106061/rl-video-episode-512.mp4\n",
      "\n"
     ]
    },
    {
     "name": "stderr",
     "output_type": "stream",
     "text": [
      "                                                               \r"
     ]
    },
    {
     "name": "stdout",
     "output_type": "stream",
     "text": [
      "Moviepy - Done !\n",
      "Moviepy - video ready /Users/jonathanlamontange-kratz/Documents/GitHub/rl-stuff/ppo/videos/1709520406.106061/rl-video-episode-512.mp4\n",
      "score:  180.0\n",
      "score:  165.0\n",
      "score:  186.0\n",
      "score:  280.0\n",
      "Moviepy - Building video /Users/jonathanlamontange-kratz/Documents/GitHub/rl-stuff/ppo/videos/1709520406.106061/rl-video-episode-216.mp4.\n",
      "Moviepy - Writing video /Users/jonathanlamontange-kratz/Documents/GitHub/rl-stuff/ppo/videos/1709520406.106061/rl-video-episode-216.mp4\n",
      "\n"
     ]
    },
    {
     "name": "stderr",
     "output_type": "stream",
     "text": [
      "                                                               \r"
     ]
    },
    {
     "name": "stdout",
     "output_type": "stream",
     "text": [
      "Moviepy - Done !\n",
      "Moviepy - video ready /Users/jonathanlamontange-kratz/Documents/GitHub/rl-stuff/ppo/videos/1709520406.106061/rl-video-episode-216.mp4\n",
      "score:  219.0\n",
      "score:  183.0\n",
      "score:  185.0\n",
      "score:  203.0\n",
      "score:  178.0\n",
      "score:  175.0\n",
      "score:  232.0\n",
      "score:  139.0\n",
      "score:  150.0\n",
      "Moviepy - Building video /Users/jonathanlamontange-kratz/Documents/GitHub/rl-stuff/ppo/videos/1709520406.106061/rl-video-episode-125.mp4.\n",
      "Moviepy - Writing video /Users/jonathanlamontange-kratz/Documents/GitHub/rl-stuff/ppo/videos/1709520406.106061/rl-video-episode-125.mp4\n",
      "\n"
     ]
    },
    {
     "name": "stderr",
     "output_type": "stream",
     "text": [
      "                                                               \r"
     ]
    },
    {
     "name": "stdout",
     "output_type": "stream",
     "text": [
      "Moviepy - Done !\n",
      "Moviepy - video ready /Users/jonathanlamontange-kratz/Documents/GitHub/rl-stuff/ppo/videos/1709520406.106061/rl-video-episode-125.mp4\n",
      "score:  179.0\n",
      "score:  208.0\n",
      "Moviepy - Building video /Users/jonathanlamontange-kratz/Documents/GitHub/rl-stuff/ppo/videos/1709520406.106061/rl-video-episode-27.mp4.\n",
      "Moviepy - Writing video /Users/jonathanlamontange-kratz/Documents/GitHub/rl-stuff/ppo/videos/1709520406.106061/rl-video-episode-27.mp4\n",
      "\n"
     ]
    },
    {
     "name": "stderr",
     "output_type": "stream",
     "text": [
      "                                                               \r"
     ]
    },
    {
     "name": "stdout",
     "output_type": "stream",
     "text": [
      "Moviepy - Done !\n",
      "Moviepy - video ready /Users/jonathanlamontange-kratz/Documents/GitHub/rl-stuff/ppo/videos/1709520406.106061/rl-video-episode-27.mp4\n",
      "score:  217.0\n",
      "score:  195.0\n",
      "Moviepy - Building video /Users/jonathanlamontange-kratz/Documents/GitHub/rl-stuff/ppo/videos/1709520406.106061/rl-video-episode-729.mp4.\n",
      "Moviepy - Writing video /Users/jonathanlamontange-kratz/Documents/GitHub/rl-stuff/ppo/videos/1709520406.106061/rl-video-episode-729.mp4\n",
      "\n"
     ]
    },
    {
     "name": "stderr",
     "output_type": "stream",
     "text": [
      "                                                               \r"
     ]
    },
    {
     "name": "stdout",
     "output_type": "stream",
     "text": [
      "Moviepy - Done !\n",
      "Moviepy - video ready /Users/jonathanlamontange-kratz/Documents/GitHub/rl-stuff/ppo/videos/1709520406.106061/rl-video-episode-729.mp4\n",
      "score:  156.0\n",
      "score:  206.0\n",
      "score:  276.0\n",
      "score:  158.0\n",
      "score:  154.0\n",
      "score:  285.0\n",
      "score:  280.0\n",
      "score:  145.0\n",
      "score:  204.0\n",
      "score:  136.0\n",
      "score:  254.0\n",
      "score:  216.0\n",
      "score:  267.0\n",
      "score:  171.0\n",
      "Moviepy - Building video /Users/jonathanlamontange-kratz/Documents/GitHub/rl-stuff/ppo/videos/1709520406.106061/rl-video-episode-343.mp4.\n",
      "Moviepy - Writing video /Users/jonathanlamontange-kratz/Documents/GitHub/rl-stuff/ppo/videos/1709520406.106061/rl-video-episode-343.mp4\n",
      "\n"
     ]
    },
    {
     "name": "stderr",
     "output_type": "stream",
     "text": [
      "                                                              \r"
     ]
    },
    {
     "name": "stdout",
     "output_type": "stream",
     "text": [
      "Moviepy - Done !\n",
      "Moviepy - video ready /Users/jonathanlamontange-kratz/Documents/GitHub/rl-stuff/ppo/videos/1709520406.106061/rl-video-episode-343.mp4\n",
      "score:  192.0\n",
      "score:  305.0\n",
      "score:  167.0\n",
      "score:  335.0\n",
      "score:  269.0\n",
      "score:  179.0\n",
      "score:  236.0\n",
      "score:  210.0\n",
      "score:  147.0\n",
      "score:  500.0\n",
      "score:  210.0\n",
      "score:  181.0\n",
      "score:  148.0\n",
      "score:  193.0\n",
      "score:  182.0\n",
      "score:  278.0\n",
      "score:  157.0\n",
      "score:  167.0\n",
      "score:  288.0\n",
      "score:  187.0\n",
      "score:  231.0\n",
      "Moviepy - Building video /Users/jonathanlamontange-kratz/Documents/GitHub/rl-stuff/ppo/videos/1709520406.106061/rl-video-episode-64.mp4.\n",
      "Moviepy - Writing video /Users/jonathanlamontange-kratz/Documents/GitHub/rl-stuff/ppo/videos/1709520406.106061/rl-video-episode-64.mp4\n",
      "\n"
     ]
    },
    {
     "name": "stderr",
     "output_type": "stream",
     "text": [
      "                                                               \r"
     ]
    },
    {
     "name": "stdout",
     "output_type": "stream",
     "text": [
      "Moviepy - Done !\n",
      "Moviepy - video ready /Users/jonathanlamontange-kratz/Documents/GitHub/rl-stuff/ppo/videos/1709520406.106061/rl-video-episode-64.mp4\n",
      "score:  329.0\n",
      "score:  156.0\n",
      "score:  216.0\n",
      "score:  352.0\n",
      "score:  500.0\n",
      "score:  150.0\n",
      "score:  271.0\n",
      "score:  196.0\n",
      "score:  163.0\n",
      "score:  131.0\n",
      "score:  217.0\n",
      "score:  167.0\n",
      "score:  220.0\n",
      "score:  300.0\n",
      "score:  500.0\n",
      "score:  175.0\n",
      "score:  300.0\n",
      "score:  196.0\n",
      "score:  185.0\n",
      "score:  249.0\n",
      "score:  143.0\n",
      "score:  188.0\n",
      "score:  189.0\n",
      "score:  194.0\n",
      "score:  165.0\n",
      "score:  156.0\n",
      "score:  159.0\n",
      "score:  216.0\n",
      "score:  237.0\n",
      "score:  216.0\n",
      "score:  180.0\n",
      "score:  156.0\n",
      "score:  161.0\n",
      "score:  165.0\n",
      "score:  159.0\n",
      "score:  243.0\n"
     ]
    },
    {
     "name": "stderr",
     "output_type": "stream",
     "text": [
      "/Users/jonathanlamontange-kratz/Library/Python/3.9/lib/python/site-packages/gymnasium/wrappers/record_video.py:94: UserWarning: \u001b[33mWARN: Overwriting existing videos at /Users/jonathanlamontange-kratz/Documents/GitHub/rl-stuff/ppo/videos/1709520406.106061 folder (try specifying a different `video_folder` for the `RecordVideo` wrapper if this is not desired)\u001b[0m\n",
      "  logger.warn(\n"
     ]
    },
    {
     "name": "stdout",
     "output_type": "stream",
     "text": [
      "Moviepy - Building video /Users/jonathanlamontange-kratz/Documents/GitHub/rl-stuff/ppo/videos/1709520406.106061/rl-video-episode-1000.mp4.\n",
      "Moviepy - Writing video /Users/jonathanlamontange-kratz/Documents/GitHub/rl-stuff/ppo/videos/1709520406.106061/rl-video-episode-1000.mp4\n",
      "\n"
     ]
    },
    {
     "name": "stderr",
     "output_type": "stream",
     "text": [
      "                                                               \r"
     ]
    },
    {
     "name": "stdout",
     "output_type": "stream",
     "text": [
      "Moviepy - Done !\n",
      "Moviepy - video ready /Users/jonathanlamontange-kratz/Documents/GitHub/rl-stuff/ppo/videos/1709520406.106061/rl-video-episode-1000.mp4\n",
      "Moviepy - Building video /Users/jonathanlamontange-kratz/Documents/GitHub/rl-stuff/ppo/videos/1709520406.106061/rl-video-episode-0.mp4.\n",
      "Moviepy - Writing video /Users/jonathanlamontange-kratz/Documents/GitHub/rl-stuff/ppo/videos/1709520406.106061/rl-video-episode-0.mp4\n",
      "\n"
     ]
    },
    {
     "name": "stderr",
     "output_type": "stream",
     "text": [
      "                                                               \r"
     ]
    },
    {
     "name": "stdout",
     "output_type": "stream",
     "text": [
      "Moviepy - Done !\n",
      "Moviepy - video ready /Users/jonathanlamontange-kratz/Documents/GitHub/rl-stuff/ppo/videos/1709520406.106061/rl-video-episode-0.mp4\n",
      "score:  161.0\n",
      "WARNING:tensorflow:Model's `__init__()` arguments contain non-serializable objects. Please implement a `get_config()` method in the subclassed Model for proper saving and loading. Defaulting to empty config.\n",
      "WARNING:tensorflow:Model's `__init__()` arguments contain non-serializable objects. Please implement a `get_config()` method in the subclassed Model for proper saving and loading. Defaulting to empty config.\n",
      "WARNING:tensorflow:Model's `__init__()` arguments contain non-serializable objects. Please implement a `get_config()` method in the subclassed Model for proper saving and loading. Defaulting to empty config.\n",
      "WARNING:tensorflow:Model's `__init__()` arguments contain non-serializable objects. Please implement a `get_config()` method in the subclassed Model for proper saving and loading. Defaulting to empty config.\n",
      "WARNING:tensorflow:Model's `__init__()` arguments contain non-serializable objects. Please implement a `get_config()` method in the subclassed Model for proper saving and loading. Defaulting to empty config.\n",
      "WARNING:tensorflow:Model's `__init__()` arguments contain non-serializable objects. Please implement a `get_config()` method in the subclassed Model for proper saving and loading. Defaulting to empty config.\n",
      "Early stopping at iteration 0\n",
      "Early stopping at iteration 1\n",
      "Early stopping at iteration 2\n",
      "Early stopping at iteration 3\n",
      "Early stopping at iteration 4\n",
      "Moviepy - Building video /Users/jonathanlamontange-kratz/Documents/GitHub/rl-stuff/ppo/videos/1709520406.106061/rl-video-episode-1.mp4.\n",
      "Moviepy - Writing video /Users/jonathanlamontange-kratz/Documents/GitHub/rl-stuff/ppo/videos/1709520406.106061/rl-video-episode-1.mp4\n",
      "\n"
     ]
    },
    {
     "name": "stderr",
     "output_type": "stream",
     "text": [
      "                                                               \r"
     ]
    },
    {
     "name": "stdout",
     "output_type": "stream",
     "text": [
      "Moviepy - Done !\n",
      "Moviepy - video ready /Users/jonathanlamontange-kratz/Documents/GitHub/rl-stuff/ppo/videos/1709520406.106061/rl-video-episode-1.mp4\n",
      "score:  218.0\n",
      "score:  159.0\n",
      "score:  159.0\n",
      "score:  168.0\n",
      "score:  231.0\n",
      "score:  133.0\n",
      "score:  292.0\n",
      "Moviepy - Building video /Users/jonathanlamontange-kratz/Documents/GitHub/rl-stuff/ppo/videos/1709520406.106061/rl-video-episode-8.mp4.\n",
      "Moviepy - Writing video /Users/jonathanlamontange-kratz/Documents/GitHub/rl-stuff/ppo/videos/1709520406.106061/rl-video-episode-8.mp4\n",
      "\n"
     ]
    },
    {
     "name": "stderr",
     "output_type": "stream",
     "text": [
      "                                                               \r"
     ]
    },
    {
     "name": "stdout",
     "output_type": "stream",
     "text": [
      "Moviepy - Done !\n",
      "Moviepy - video ready /Users/jonathanlamontange-kratz/Documents/GitHub/rl-stuff/ppo/videos/1709520406.106061/rl-video-episode-8.mp4\n",
      "score:  151.0\n",
      "score:  153.0\n",
      "score:  176.0\n",
      "score:  172.0\n",
      "Moviepy - Building video /Users/jonathanlamontange-kratz/Documents/GitHub/rl-stuff/ppo/videos/1709520406.106061/rl-video-episode-512.mp4.\n",
      "Moviepy - Writing video /Users/jonathanlamontange-kratz/Documents/GitHub/rl-stuff/ppo/videos/1709520406.106061/rl-video-episode-512.mp4\n",
      "\n"
     ]
    },
    {
     "name": "stderr",
     "output_type": "stream",
     "text": [
      "                                                                \r"
     ]
    },
    {
     "name": "stdout",
     "output_type": "stream",
     "text": [
      "Moviepy - Done !\n",
      "Moviepy - video ready /Users/jonathanlamontange-kratz/Documents/GitHub/rl-stuff/ppo/videos/1709520406.106061/rl-video-episode-512.mp4\n",
      "score:  328.0\n",
      "score:  188.0\n",
      "score:  224.0\n",
      "score:  196.0\n",
      "Moviepy - Building video /Users/jonathanlamontange-kratz/Documents/GitHub/rl-stuff/ppo/videos/1709520406.106061/rl-video-episode-216.mp4.\n",
      "Moviepy - Writing video /Users/jonathanlamontange-kratz/Documents/GitHub/rl-stuff/ppo/videos/1709520406.106061/rl-video-episode-216.mp4\n",
      "\n"
     ]
    },
    {
     "name": "stderr",
     "output_type": "stream",
     "text": [
      "                                                               \r"
     ]
    },
    {
     "name": "stdout",
     "output_type": "stream",
     "text": [
      "Moviepy - Done !\n",
      "Moviepy - video ready /Users/jonathanlamontange-kratz/Documents/GitHub/rl-stuff/ppo/videos/1709520406.106061/rl-video-episode-216.mp4\n",
      "score:  162.0\n",
      "score:  158.0\n",
      "score:  307.0\n",
      "score:  146.0\n",
      "score:  169.0\n",
      "score:  149.0\n",
      "score:  331.0\n",
      "score:  181.0\n",
      "score:  181.0\n",
      "Moviepy - Building video /Users/jonathanlamontange-kratz/Documents/GitHub/rl-stuff/ppo/videos/1709520406.106061/rl-video-episode-125.mp4.\n",
      "Moviepy - Writing video /Users/jonathanlamontange-kratz/Documents/GitHub/rl-stuff/ppo/videos/1709520406.106061/rl-video-episode-125.mp4\n",
      "\n"
     ]
    },
    {
     "name": "stderr",
     "output_type": "stream",
     "text": [
      "                                                               \r"
     ]
    },
    {
     "name": "stdout",
     "output_type": "stream",
     "text": [
      "Moviepy - Done !\n",
      "Moviepy - video ready /Users/jonathanlamontange-kratz/Documents/GitHub/rl-stuff/ppo/videos/1709520406.106061/rl-video-episode-125.mp4\n",
      "score:  247.0\n",
      "score:  215.0\n",
      "Moviepy - Building video /Users/jonathanlamontange-kratz/Documents/GitHub/rl-stuff/ppo/videos/1709520406.106061/rl-video-episode-27.mp4.\n",
      "Moviepy - Writing video /Users/jonathanlamontange-kratz/Documents/GitHub/rl-stuff/ppo/videos/1709520406.106061/rl-video-episode-27.mp4\n",
      "\n"
     ]
    },
    {
     "name": "stderr",
     "output_type": "stream",
     "text": [
      "                                                               \r"
     ]
    },
    {
     "name": "stdout",
     "output_type": "stream",
     "text": [
      "Moviepy - Done !\n",
      "Moviepy - video ready /Users/jonathanlamontange-kratz/Documents/GitHub/rl-stuff/ppo/videos/1709520406.106061/rl-video-episode-27.mp4\n",
      "score:  161.0\n",
      "score:  304.0\n",
      "Moviepy - Building video /Users/jonathanlamontange-kratz/Documents/GitHub/rl-stuff/ppo/videos/1709520406.106061/rl-video-episode-729.mp4.\n",
      "Moviepy - Writing video /Users/jonathanlamontange-kratz/Documents/GitHub/rl-stuff/ppo/videos/1709520406.106061/rl-video-episode-729.mp4\n",
      "\n"
     ]
    },
    {
     "name": "stderr",
     "output_type": "stream",
     "text": [
      "                                                               \r"
     ]
    },
    {
     "name": "stdout",
     "output_type": "stream",
     "text": [
      "Moviepy - Done !\n",
      "Moviepy - video ready /Users/jonathanlamontange-kratz/Documents/GitHub/rl-stuff/ppo/videos/1709520406.106061/rl-video-episode-729.mp4\n",
      "score:  230.0\n",
      "score:  197.0\n",
      "score:  184.0\n",
      "score:  284.0\n",
      "score:  286.0\n",
      "score:  232.0\n",
      "score:  175.0\n",
      "score:  202.0\n",
      "score:  149.0\n",
      "score:  158.0\n",
      "score:  238.0\n",
      "score:  160.0\n",
      "score:  193.0\n",
      "score:  159.0\n",
      "Moviepy - Building video /Users/jonathanlamontange-kratz/Documents/GitHub/rl-stuff/ppo/videos/1709520406.106061/rl-video-episode-343.mp4.\n",
      "Moviepy - Writing video /Users/jonathanlamontange-kratz/Documents/GitHub/rl-stuff/ppo/videos/1709520406.106061/rl-video-episode-343.mp4\n",
      "\n"
     ]
    },
    {
     "name": "stderr",
     "output_type": "stream",
     "text": [
      "                                                               \r"
     ]
    },
    {
     "name": "stdout",
     "output_type": "stream",
     "text": [
      "Moviepy - Done !\n",
      "Moviepy - video ready /Users/jonathanlamontange-kratz/Documents/GitHub/rl-stuff/ppo/videos/1709520406.106061/rl-video-episode-343.mp4\n",
      "score:  229.0\n",
      "score:  164.0\n",
      "score:  184.0\n",
      "score:  500.0\n",
      "score:  212.0\n",
      "score:  412.0\n",
      "score:  167.0\n",
      "score:  148.0\n",
      "score:  159.0\n",
      "score:  165.0\n",
      "score:  240.0\n",
      "score:  204.0\n",
      "score:  176.0\n",
      "score:  500.0\n",
      "score:  233.0\n",
      "score:  351.0\n",
      "score:  442.0\n",
      "score:  164.0\n",
      "score:  158.0\n",
      "score:  219.0\n",
      "score:  169.0\n",
      "Moviepy - Building video /Users/jonathanlamontange-kratz/Documents/GitHub/rl-stuff/ppo/videos/1709520406.106061/rl-video-episode-64.mp4.\n",
      "Moviepy - Writing video /Users/jonathanlamontange-kratz/Documents/GitHub/rl-stuff/ppo/videos/1709520406.106061/rl-video-episode-64.mp4\n",
      "\n"
     ]
    },
    {
     "name": "stderr",
     "output_type": "stream",
     "text": [
      "                                                               \r"
     ]
    },
    {
     "name": "stdout",
     "output_type": "stream",
     "text": [
      "Moviepy - Done !\n",
      "Moviepy - video ready /Users/jonathanlamontange-kratz/Documents/GitHub/rl-stuff/ppo/videos/1709520406.106061/rl-video-episode-64.mp4\n",
      "score:  134.0\n",
      "score:  266.0\n",
      "score:  190.0\n",
      "score:  276.0\n",
      "score:  166.0\n",
      "score:  396.0\n",
      "score:  174.0\n",
      "score:  219.0\n",
      "score:  299.0\n",
      "score:  170.0\n",
      "score:  316.0\n",
      "score:  188.0\n",
      "score:  156.0\n",
      "score:  238.0\n",
      "score:  303.0\n",
      "score:  222.0\n",
      "score:  229.0\n",
      "score:  412.0\n",
      "score:  268.0\n",
      "score:  237.0\n",
      "score:  237.0\n",
      "score:  207.0\n",
      "score:  156.0\n",
      "score:  404.0\n",
      "score:  309.0\n",
      "score:  214.0\n",
      "score:  168.0\n",
      "score:  221.0\n",
      "score:  315.0\n",
      "score:  234.0\n",
      "score:  133.0\n",
      "score:  223.0\n",
      "score:  204.0\n",
      "score:  188.0\n",
      "score:  186.0\n",
      "score:  261.0\n"
     ]
    },
    {
     "name": "stderr",
     "output_type": "stream",
     "text": [
      "/Users/jonathanlamontange-kratz/Library/Python/3.9/lib/python/site-packages/gymnasium/wrappers/record_video.py:94: UserWarning: \u001b[33mWARN: Overwriting existing videos at /Users/jonathanlamontange-kratz/Documents/GitHub/rl-stuff/ppo/videos/1709520406.106061 folder (try specifying a different `video_folder` for the `RecordVideo` wrapper if this is not desired)\u001b[0m\n",
      "  logger.warn(\n"
     ]
    },
    {
     "name": "stdout",
     "output_type": "stream",
     "text": [
      "Moviepy - Building video /Users/jonathanlamontange-kratz/Documents/GitHub/rl-stuff/ppo/videos/1709520406.106061/rl-video-episode-1000.mp4.\n",
      "Moviepy - Writing video /Users/jonathanlamontange-kratz/Documents/GitHub/rl-stuff/ppo/videos/1709520406.106061/rl-video-episode-1000.mp4\n",
      "\n"
     ]
    },
    {
     "name": "stderr",
     "output_type": "stream",
     "text": [
      "                                                               \r"
     ]
    },
    {
     "name": "stdout",
     "output_type": "stream",
     "text": [
      "Moviepy - Done !\n",
      "Moviepy - video ready /Users/jonathanlamontange-kratz/Documents/GitHub/rl-stuff/ppo/videos/1709520406.106061/rl-video-episode-1000.mp4\n",
      "Moviepy - Building video /Users/jonathanlamontange-kratz/Documents/GitHub/rl-stuff/ppo/videos/1709520406.106061/rl-video-episode-0.mp4.\n",
      "Moviepy - Writing video /Users/jonathanlamontange-kratz/Documents/GitHub/rl-stuff/ppo/videos/1709520406.106061/rl-video-episode-0.mp4\n",
      "\n"
     ]
    },
    {
     "name": "stderr",
     "output_type": "stream",
     "text": [
      "                                                               \r"
     ]
    },
    {
     "name": "stdout",
     "output_type": "stream",
     "text": [
      "Moviepy - Done !\n",
      "Moviepy - video ready /Users/jonathanlamontange-kratz/Documents/GitHub/rl-stuff/ppo/videos/1709520406.106061/rl-video-episode-0.mp4\n",
      "score:  225.0\n",
      "WARNING:tensorflow:Model's `__init__()` arguments contain non-serializable objects. Please implement a `get_config()` method in the subclassed Model for proper saving and loading. Defaulting to empty config.\n",
      "WARNING:tensorflow:Model's `__init__()` arguments contain non-serializable objects. Please implement a `get_config()` method in the subclassed Model for proper saving and loading. Defaulting to empty config.\n",
      "WARNING:tensorflow:Model's `__init__()` arguments contain non-serializable objects. Please implement a `get_config()` method in the subclassed Model for proper saving and loading. Defaulting to empty config.\n",
      "WARNING:tensorflow:Model's `__init__()` arguments contain non-serializable objects. Please implement a `get_config()` method in the subclassed Model for proper saving and loading. Defaulting to empty config.\n",
      "WARNING:tensorflow:Model's `__init__()` arguments contain non-serializable objects. Please implement a `get_config()` method in the subclassed Model for proper saving and loading. Defaulting to empty config.\n",
      "WARNING:tensorflow:Model's `__init__()` arguments contain non-serializable objects. Please implement a `get_config()` method in the subclassed Model for proper saving and loading. Defaulting to empty config.\n",
      "Your agent has achieved the env's reward threshold.\n",
      "Early stopping at iteration 0\n",
      "Early stopping at iteration 1\n",
      "Early stopping at iteration 2\n",
      "Early stopping at iteration 3\n",
      "Early stopping at iteration 4\n",
      "Moviepy - Building video /Users/jonathanlamontange-kratz/Documents/GitHub/rl-stuff/ppo/videos/1709520406.106061/rl-video-episode-1.mp4.\n",
      "Moviepy - Writing video /Users/jonathanlamontange-kratz/Documents/GitHub/rl-stuff/ppo/videos/1709520406.106061/rl-video-episode-1.mp4\n",
      "\n"
     ]
    },
    {
     "name": "stderr",
     "output_type": "stream",
     "text": [
      "                                                               \r"
     ]
    },
    {
     "name": "stdout",
     "output_type": "stream",
     "text": [
      "Moviepy - Done !\n",
      "Moviepy - video ready /Users/jonathanlamontange-kratz/Documents/GitHub/rl-stuff/ppo/videos/1709520406.106061/rl-video-episode-1.mp4\n",
      "score:  198.0\n",
      "score:  168.0\n",
      "score:  222.0\n",
      "score:  250.0\n",
      "score:  238.0\n",
      "score:  331.0\n",
      "score:  347.0\n",
      "Moviepy - Building video /Users/jonathanlamontange-kratz/Documents/GitHub/rl-stuff/ppo/videos/1709520406.106061/rl-video-episode-8.mp4.\n",
      "Moviepy - Writing video /Users/jonathanlamontange-kratz/Documents/GitHub/rl-stuff/ppo/videos/1709520406.106061/rl-video-episode-8.mp4\n",
      "\n"
     ]
    },
    {
     "name": "stderr",
     "output_type": "stream",
     "text": [
      "                                                               \r"
     ]
    },
    {
     "name": "stdout",
     "output_type": "stream",
     "text": [
      "Moviepy - Done !\n",
      "Moviepy - video ready /Users/jonathanlamontange-kratz/Documents/GitHub/rl-stuff/ppo/videos/1709520406.106061/rl-video-episode-8.mp4\n",
      "score:  157.0\n",
      "score:  256.0\n",
      "score:  237.0\n",
      "score:  300.0\n",
      "Moviepy - Building video /Users/jonathanlamontange-kratz/Documents/GitHub/rl-stuff/ppo/videos/1709520406.106061/rl-video-episode-512.mp4.\n",
      "Moviepy - Writing video /Users/jonathanlamontange-kratz/Documents/GitHub/rl-stuff/ppo/videos/1709520406.106061/rl-video-episode-512.mp4\n",
      "\n"
     ]
    },
    {
     "name": "stderr",
     "output_type": "stream",
     "text": [
      "                                                               \r"
     ]
    },
    {
     "name": "stdout",
     "output_type": "stream",
     "text": [
      "Moviepy - Done !\n",
      "Moviepy - video ready /Users/jonathanlamontange-kratz/Documents/GitHub/rl-stuff/ppo/videos/1709520406.106061/rl-video-episode-512.mp4\n",
      "score:  134.0\n",
      "score:  155.0\n",
      "score:  159.0\n",
      "score:  404.0\n",
      "Moviepy - Building video /Users/jonathanlamontange-kratz/Documents/GitHub/rl-stuff/ppo/videos/1709520406.106061/rl-video-episode-216.mp4.\n",
      "Moviepy - Writing video /Users/jonathanlamontange-kratz/Documents/GitHub/rl-stuff/ppo/videos/1709520406.106061/rl-video-episode-216.mp4\n",
      "\n"
     ]
    },
    {
     "name": "stderr",
     "output_type": "stream",
     "text": [
      "                                                               \r"
     ]
    },
    {
     "name": "stdout",
     "output_type": "stream",
     "text": [
      "Moviepy - Done !\n",
      "Moviepy - video ready /Users/jonathanlamontange-kratz/Documents/GitHub/rl-stuff/ppo/videos/1709520406.106061/rl-video-episode-216.mp4\n",
      "score:  190.0\n",
      "score:  217.0\n",
      "score:  166.0\n",
      "score:  403.0\n",
      "score:  297.0\n",
      "score:  256.0\n",
      "score:  293.0\n",
      "score:  318.0\n",
      "score:  235.0\n",
      "Moviepy - Building video /Users/jonathanlamontange-kratz/Documents/GitHub/rl-stuff/ppo/videos/1709520406.106061/rl-video-episode-125.mp4.\n",
      "Moviepy - Writing video /Users/jonathanlamontange-kratz/Documents/GitHub/rl-stuff/ppo/videos/1709520406.106061/rl-video-episode-125.mp4\n",
      "\n"
     ]
    },
    {
     "name": "stderr",
     "output_type": "stream",
     "text": [
      "                                                               \r"
     ]
    },
    {
     "name": "stdout",
     "output_type": "stream",
     "text": [
      "Moviepy - Done !\n",
      "Moviepy - video ready /Users/jonathanlamontange-kratz/Documents/GitHub/rl-stuff/ppo/videos/1709520406.106061/rl-video-episode-125.mp4\n",
      "score:  142.0\n",
      "score:  183.0\n",
      "Moviepy - Building video /Users/jonathanlamontange-kratz/Documents/GitHub/rl-stuff/ppo/videos/1709520406.106061/rl-video-episode-27.mp4.\n",
      "Moviepy - Writing video /Users/jonathanlamontange-kratz/Documents/GitHub/rl-stuff/ppo/videos/1709520406.106061/rl-video-episode-27.mp4\n",
      "\n"
     ]
    },
    {
     "name": "stderr",
     "output_type": "stream",
     "text": [
      "                                                               \r"
     ]
    },
    {
     "name": "stdout",
     "output_type": "stream",
     "text": [
      "Moviepy - Done !\n",
      "Moviepy - video ready /Users/jonathanlamontange-kratz/Documents/GitHub/rl-stuff/ppo/videos/1709520406.106061/rl-video-episode-27.mp4\n",
      "score:  177.0\n",
      "score:  154.0\n",
      "Moviepy - Building video /Users/jonathanlamontange-kratz/Documents/GitHub/rl-stuff/ppo/videos/1709520406.106061/rl-video-episode-729.mp4.\n",
      "Moviepy - Writing video /Users/jonathanlamontange-kratz/Documents/GitHub/rl-stuff/ppo/videos/1709520406.106061/rl-video-episode-729.mp4\n",
      "\n"
     ]
    },
    {
     "name": "stderr",
     "output_type": "stream",
     "text": [
      "                                                               \r"
     ]
    },
    {
     "name": "stdout",
     "output_type": "stream",
     "text": [
      "Moviepy - Done !\n",
      "Moviepy - video ready /Users/jonathanlamontange-kratz/Documents/GitHub/rl-stuff/ppo/videos/1709520406.106061/rl-video-episode-729.mp4\n",
      "score:  323.0\n",
      "score:  265.0\n",
      "score:  136.0\n",
      "score:  260.0\n",
      "score:  148.0\n",
      "score:  285.0\n",
      "score:  203.0\n",
      "score:  201.0\n",
      "score:  218.0\n",
      "score:  150.0\n",
      "score:  213.0\n",
      "score:  167.0\n",
      "score:  299.0\n",
      "score:  250.0\n",
      "Moviepy - Building video /Users/jonathanlamontange-kratz/Documents/GitHub/rl-stuff/ppo/videos/1709520406.106061/rl-video-episode-343.mp4.\n",
      "Moviepy - Writing video /Users/jonathanlamontange-kratz/Documents/GitHub/rl-stuff/ppo/videos/1709520406.106061/rl-video-episode-343.mp4\n",
      "\n"
     ]
    },
    {
     "name": "stderr",
     "output_type": "stream",
     "text": [
      "                                                               \r"
     ]
    },
    {
     "name": "stdout",
     "output_type": "stream",
     "text": [
      "Moviepy - Done !\n",
      "Moviepy - video ready /Users/jonathanlamontange-kratz/Documents/GitHub/rl-stuff/ppo/videos/1709520406.106061/rl-video-episode-343.mp4\n",
      "score:  205.0\n",
      "score:  187.0\n",
      "score:  137.0\n",
      "score:  221.0\n",
      "score:  148.0\n",
      "score:  163.0\n",
      "score:  260.0\n",
      "score:  470.0\n",
      "score:  187.0\n",
      "score:  247.0\n",
      "score:  154.0\n",
      "score:  188.0\n",
      "score:  251.0\n",
      "score:  214.0\n",
      "score:  204.0\n",
      "score:  369.0\n",
      "score:  401.0\n",
      "score:  250.0\n",
      "score:  179.0\n",
      "score:  201.0\n",
      "score:  144.0\n",
      "Moviepy - Building video /Users/jonathanlamontange-kratz/Documents/GitHub/rl-stuff/ppo/videos/1709520406.106061/rl-video-episode-64.mp4.\n",
      "Moviepy - Writing video /Users/jonathanlamontange-kratz/Documents/GitHub/rl-stuff/ppo/videos/1709520406.106061/rl-video-episode-64.mp4\n",
      "\n"
     ]
    },
    {
     "name": "stderr",
     "output_type": "stream",
     "text": [
      "                                                               \r"
     ]
    },
    {
     "name": "stdout",
     "output_type": "stream",
     "text": [
      "Moviepy - Done !\n",
      "Moviepy - video ready /Users/jonathanlamontange-kratz/Documents/GitHub/rl-stuff/ppo/videos/1709520406.106061/rl-video-episode-64.mp4\n",
      "score:  212.0\n",
      "score:  364.0\n",
      "score:  134.0\n",
      "score:  165.0\n",
      "score:  246.0\n",
      "score:  147.0\n",
      "score:  150.0\n",
      "score:  191.0\n",
      "score:  164.0\n",
      "score:  143.0\n",
      "score:  500.0\n",
      "score:  164.0\n",
      "score:  187.0\n",
      "score:  189.0\n",
      "score:  302.0\n",
      "score:  156.0\n",
      "score:  156.0\n",
      "score:  150.0\n",
      "score:  134.0\n",
      "score:  196.0\n",
      "score:  190.0\n",
      "score:  130.0\n",
      "score:  249.0\n",
      "score:  168.0\n",
      "score:  195.0\n",
      "score:  153.0\n",
      "score:  191.0\n",
      "score:  177.0\n",
      "score:  161.0\n",
      "score:  261.0\n",
      "score:  143.0\n",
      "score:  161.0\n",
      "score:  155.0\n",
      "score:  163.0\n",
      "score:  175.0\n",
      "score:  249.0\n"
     ]
    },
    {
     "name": "stderr",
     "output_type": "stream",
     "text": [
      "/Users/jonathanlamontange-kratz/Library/Python/3.9/lib/python/site-packages/gymnasium/wrappers/record_video.py:94: UserWarning: \u001b[33mWARN: Overwriting existing videos at /Users/jonathanlamontange-kratz/Documents/GitHub/rl-stuff/ppo/videos/1709520406.106061 folder (try specifying a different `video_folder` for the `RecordVideo` wrapper if this is not desired)\u001b[0m\n",
      "  logger.warn(\n"
     ]
    },
    {
     "name": "stdout",
     "output_type": "stream",
     "text": [
      "Moviepy - Building video /Users/jonathanlamontange-kratz/Documents/GitHub/rl-stuff/ppo/videos/1709520406.106061/rl-video-episode-1000.mp4.\n",
      "Moviepy - Writing video /Users/jonathanlamontange-kratz/Documents/GitHub/rl-stuff/ppo/videos/1709520406.106061/rl-video-episode-1000.mp4\n",
      "\n"
     ]
    },
    {
     "name": "stderr",
     "output_type": "stream",
     "text": [
      "                                                               \r"
     ]
    },
    {
     "name": "stdout",
     "output_type": "stream",
     "text": [
      "Moviepy - Done !\n",
      "Moviepy - video ready /Users/jonathanlamontange-kratz/Documents/GitHub/rl-stuff/ppo/videos/1709520406.106061/rl-video-episode-1000.mp4\n",
      "Moviepy - Building video /Users/jonathanlamontange-kratz/Documents/GitHub/rl-stuff/ppo/videos/1709520406.106061/rl-video-episode-0.mp4.\n",
      "Moviepy - Writing video /Users/jonathanlamontange-kratz/Documents/GitHub/rl-stuff/ppo/videos/1709520406.106061/rl-video-episode-0.mp4\n",
      "\n"
     ]
    },
    {
     "name": "stderr",
     "output_type": "stream",
     "text": [
      "                                                               \r"
     ]
    },
    {
     "name": "stdout",
     "output_type": "stream",
     "text": [
      "Moviepy - Done !\n",
      "Moviepy - video ready /Users/jonathanlamontange-kratz/Documents/GitHub/rl-stuff/ppo/videos/1709520406.106061/rl-video-episode-0.mp4\n",
      "score:  174.0\n",
      "WARNING:tensorflow:Model's `__init__()` arguments contain non-serializable objects. Please implement a `get_config()` method in the subclassed Model for proper saving and loading. Defaulting to empty config.\n",
      "WARNING:tensorflow:Model's `__init__()` arguments contain non-serializable objects. Please implement a `get_config()` method in the subclassed Model for proper saving and loading. Defaulting to empty config.\n",
      "WARNING:tensorflow:Model's `__init__()` arguments contain non-serializable objects. Please implement a `get_config()` method in the subclassed Model for proper saving and loading. Defaulting to empty config.\n",
      "WARNING:tensorflow:Model's `__init__()` arguments contain non-serializable objects. Please implement a `get_config()` method in the subclassed Model for proper saving and loading. Defaulting to empty config.\n",
      "WARNING:tensorflow:Model's `__init__()` arguments contain non-serializable objects. Please implement a `get_config()` method in the subclassed Model for proper saving and loading. Defaulting to empty config.\n",
      "WARNING:tensorflow:Model's `__init__()` arguments contain non-serializable objects. Please implement a `get_config()` method in the subclassed Model for proper saving and loading. Defaulting to empty config.\n",
      "Early stopping at iteration 0\n",
      "Early stopping at iteration 1\n",
      "Early stopping at iteration 2\n",
      "Early stopping at iteration 3\n",
      "Early stopping at iteration 4\n",
      "Moviepy - Building video /Users/jonathanlamontange-kratz/Documents/GitHub/rl-stuff/ppo/videos/1709520406.106061/rl-video-episode-1.mp4.\n",
      "Moviepy - Writing video /Users/jonathanlamontange-kratz/Documents/GitHub/rl-stuff/ppo/videos/1709520406.106061/rl-video-episode-1.mp4\n",
      "\n"
     ]
    },
    {
     "name": "stderr",
     "output_type": "stream",
     "text": [
      "                                                               \r"
     ]
    },
    {
     "name": "stdout",
     "output_type": "stream",
     "text": [
      "Moviepy - Done !\n",
      "Moviepy - video ready /Users/jonathanlamontange-kratz/Documents/GitHub/rl-stuff/ppo/videos/1709520406.106061/rl-video-episode-1.mp4\n",
      "score:  134.0\n",
      "score:  128.0\n",
      "score:  182.0\n",
      "score:  198.0\n",
      "score:  189.0\n",
      "score:  141.0\n",
      "score:  149.0\n",
      "Moviepy - Building video /Users/jonathanlamontange-kratz/Documents/GitHub/rl-stuff/ppo/videos/1709520406.106061/rl-video-episode-8.mp4.\n",
      "Moviepy - Writing video /Users/jonathanlamontange-kratz/Documents/GitHub/rl-stuff/ppo/videos/1709520406.106061/rl-video-episode-8.mp4\n",
      "\n"
     ]
    },
    {
     "name": "stderr",
     "output_type": "stream",
     "text": [
      "                                                               \r"
     ]
    },
    {
     "name": "stdout",
     "output_type": "stream",
     "text": [
      "Moviepy - Done !\n",
      "Moviepy - video ready /Users/jonathanlamontange-kratz/Documents/GitHub/rl-stuff/ppo/videos/1709520406.106061/rl-video-episode-8.mp4\n",
      "score:  209.0\n",
      "score:  153.0\n",
      "score:  146.0\n",
      "score:  276.0\n",
      "Moviepy - Building video /Users/jonathanlamontange-kratz/Documents/GitHub/rl-stuff/ppo/videos/1709520406.106061/rl-video-episode-512.mp4.\n",
      "Moviepy - Writing video /Users/jonathanlamontange-kratz/Documents/GitHub/rl-stuff/ppo/videos/1709520406.106061/rl-video-episode-512.mp4\n",
      "\n"
     ]
    },
    {
     "name": "stderr",
     "output_type": "stream",
     "text": [
      "                                                               \r"
     ]
    },
    {
     "name": "stdout",
     "output_type": "stream",
     "text": [
      "Moviepy - Done !\n",
      "Moviepy - video ready /Users/jonathanlamontange-kratz/Documents/GitHub/rl-stuff/ppo/videos/1709520406.106061/rl-video-episode-512.mp4\n",
      "score:  214.0\n",
      "score:  359.0\n",
      "score:  174.0\n",
      "score:  256.0\n",
      "Moviepy - Building video /Users/jonathanlamontange-kratz/Documents/GitHub/rl-stuff/ppo/videos/1709520406.106061/rl-video-episode-216.mp4.\n",
      "Moviepy - Writing video /Users/jonathanlamontange-kratz/Documents/GitHub/rl-stuff/ppo/videos/1709520406.106061/rl-video-episode-216.mp4\n",
      "\n"
     ]
    },
    {
     "name": "stderr",
     "output_type": "stream",
     "text": [
      "                                                               \r"
     ]
    },
    {
     "name": "stdout",
     "output_type": "stream",
     "text": [
      "Moviepy - Done !\n",
      "Moviepy - video ready /Users/jonathanlamontange-kratz/Documents/GitHub/rl-stuff/ppo/videos/1709520406.106061/rl-video-episode-216.mp4\n",
      "score:  139.0\n",
      "score:  208.0\n",
      "score:  141.0\n",
      "score:  145.0\n",
      "score:  283.0\n",
      "score:  268.0\n",
      "score:  255.0\n",
      "score:  223.0\n",
      "score:  193.0\n",
      "Moviepy - Building video /Users/jonathanlamontange-kratz/Documents/GitHub/rl-stuff/ppo/videos/1709520406.106061/rl-video-episode-125.mp4.\n",
      "Moviepy - Writing video /Users/jonathanlamontange-kratz/Documents/GitHub/rl-stuff/ppo/videos/1709520406.106061/rl-video-episode-125.mp4\n",
      "\n"
     ]
    },
    {
     "name": "stderr",
     "output_type": "stream",
     "text": [
      "                                                               \r"
     ]
    },
    {
     "name": "stdout",
     "output_type": "stream",
     "text": [
      "Moviepy - Done !\n",
      "Moviepy - video ready /Users/jonathanlamontange-kratz/Documents/GitHub/rl-stuff/ppo/videos/1709520406.106061/rl-video-episode-125.mp4\n",
      "score:  161.0\n",
      "score:  319.0\n",
      "Moviepy - Building video /Users/jonathanlamontange-kratz/Documents/GitHub/rl-stuff/ppo/videos/1709520406.106061/rl-video-episode-27.mp4.\n",
      "Moviepy - Writing video /Users/jonathanlamontange-kratz/Documents/GitHub/rl-stuff/ppo/videos/1709520406.106061/rl-video-episode-27.mp4\n",
      "\n"
     ]
    },
    {
     "name": "stderr",
     "output_type": "stream",
     "text": [
      "                                                               \r"
     ]
    },
    {
     "name": "stdout",
     "output_type": "stream",
     "text": [
      "Moviepy - Done !\n",
      "Moviepy - video ready /Users/jonathanlamontange-kratz/Documents/GitHub/rl-stuff/ppo/videos/1709520406.106061/rl-video-episode-27.mp4\n",
      "score:  190.0\n",
      "score:  136.0\n",
      "Moviepy - Building video /Users/jonathanlamontange-kratz/Documents/GitHub/rl-stuff/ppo/videos/1709520406.106061/rl-video-episode-729.mp4.\n",
      "Moviepy - Writing video /Users/jonathanlamontange-kratz/Documents/GitHub/rl-stuff/ppo/videos/1709520406.106061/rl-video-episode-729.mp4\n",
      "\n"
     ]
    },
    {
     "name": "stderr",
     "output_type": "stream",
     "text": [
      "                                                               \r"
     ]
    },
    {
     "name": "stdout",
     "output_type": "stream",
     "text": [
      "Moviepy - Done !\n",
      "Moviepy - video ready /Users/jonathanlamontange-kratz/Documents/GitHub/rl-stuff/ppo/videos/1709520406.106061/rl-video-episode-729.mp4\n",
      "score:  143.0\n",
      "score:  258.0\n",
      "score:  192.0\n",
      "score:  262.0\n",
      "score:  159.0\n",
      "score:  228.0\n",
      "score:  174.0\n",
      "score:  238.0\n",
      "score:  152.0\n",
      "score:  297.0\n",
      "score:  154.0\n",
      "score:  146.0\n",
      "score:  201.0\n",
      "score:  385.0\n",
      "Moviepy - Building video /Users/jonathanlamontange-kratz/Documents/GitHub/rl-stuff/ppo/videos/1709520406.106061/rl-video-episode-343.mp4.\n",
      "Moviepy - Writing video /Users/jonathanlamontange-kratz/Documents/GitHub/rl-stuff/ppo/videos/1709520406.106061/rl-video-episode-343.mp4\n",
      "\n"
     ]
    },
    {
     "name": "stderr",
     "output_type": "stream",
     "text": [
      "                                                               \r"
     ]
    },
    {
     "name": "stdout",
     "output_type": "stream",
     "text": [
      "Moviepy - Done !\n",
      "Moviepy - video ready /Users/jonathanlamontange-kratz/Documents/GitHub/rl-stuff/ppo/videos/1709520406.106061/rl-video-episode-343.mp4\n",
      "score:  165.0\n",
      "score:  196.0\n",
      "score:  167.0\n",
      "score:  132.0\n",
      "score:  191.0\n",
      "score:  150.0\n",
      "score:  161.0\n",
      "score:  164.0\n",
      "score:  168.0\n",
      "score:  213.0\n",
      "score:  155.0\n",
      "score:  195.0\n",
      "score:  133.0\n",
      "score:  180.0\n",
      "score:  146.0\n",
      "score:  139.0\n",
      "score:  257.0\n",
      "score:  161.0\n",
      "score:  269.0\n",
      "score:  139.0\n",
      "score:  243.0\n",
      "Moviepy - Building video /Users/jonathanlamontange-kratz/Documents/GitHub/rl-stuff/ppo/videos/1709520406.106061/rl-video-episode-64.mp4.\n",
      "Moviepy - Writing video /Users/jonathanlamontange-kratz/Documents/GitHub/rl-stuff/ppo/videos/1709520406.106061/rl-video-episode-64.mp4\n",
      "\n"
     ]
    },
    {
     "name": "stderr",
     "output_type": "stream",
     "text": [
      "                                                               \r"
     ]
    },
    {
     "name": "stdout",
     "output_type": "stream",
     "text": [
      "Moviepy - Done !\n",
      "Moviepy - video ready /Users/jonathanlamontange-kratz/Documents/GitHub/rl-stuff/ppo/videos/1709520406.106061/rl-video-episode-64.mp4\n",
      "score:  203.0\n",
      "score:  154.0\n",
      "score:  179.0\n",
      "score:  143.0\n",
      "score:  286.0\n",
      "score:  233.0\n",
      "score:  137.0\n",
      "score:  345.0\n",
      "score:  172.0\n",
      "score:  180.0\n",
      "score:  171.0\n",
      "score:  186.0\n",
      "score:  220.0\n",
      "score:  173.0\n",
      "score:  263.0\n",
      "score:  245.0\n",
      "score:  146.0\n",
      "score:  204.0\n",
      "score:  139.0\n",
      "score:  170.0\n",
      "score:  200.0\n",
      "score:  281.0\n",
      "score:  148.0\n",
      "score:  207.0\n",
      "score:  137.0\n",
      "score:  176.0\n",
      "score:  170.0\n",
      "score:  212.0\n",
      "score:  198.0\n",
      "score:  165.0\n",
      "score:  500.0\n",
      "score:  248.0\n",
      "score:  163.0\n",
      "score:  418.0\n",
      "score:  146.0\n",
      "score:  334.0\n"
     ]
    },
    {
     "name": "stderr",
     "output_type": "stream",
     "text": [
      "/Users/jonathanlamontange-kratz/Library/Python/3.9/lib/python/site-packages/gymnasium/wrappers/record_video.py:94: UserWarning: \u001b[33mWARN: Overwriting existing videos at /Users/jonathanlamontange-kratz/Documents/GitHub/rl-stuff/ppo/videos/1709520406.106061 folder (try specifying a different `video_folder` for the `RecordVideo` wrapper if this is not desired)\u001b[0m\n",
      "  logger.warn(\n"
     ]
    },
    {
     "name": "stdout",
     "output_type": "stream",
     "text": [
      "Moviepy - Building video /Users/jonathanlamontange-kratz/Documents/GitHub/rl-stuff/ppo/videos/1709520406.106061/rl-video-episode-2000.mp4.\n",
      "Moviepy - Writing video /Users/jonathanlamontange-kratz/Documents/GitHub/rl-stuff/ppo/videos/1709520406.106061/rl-video-episode-2000.mp4\n",
      "\n"
     ]
    },
    {
     "name": "stderr",
     "output_type": "stream",
     "text": [
      "                                                               \r"
     ]
    },
    {
     "name": "stdout",
     "output_type": "stream",
     "text": [
      "Moviepy - Done !\n",
      "Moviepy - video ready /Users/jonathanlamontange-kratz/Documents/GitHub/rl-stuff/ppo/videos/1709520406.106061/rl-video-episode-2000.mp4\n",
      "Moviepy - Building video /Users/jonathanlamontange-kratz/Documents/GitHub/rl-stuff/ppo/videos/1709520406.106061/rl-video-episode-1000.mp4.\n",
      "Moviepy - Writing video /Users/jonathanlamontange-kratz/Documents/GitHub/rl-stuff/ppo/videos/1709520406.106061/rl-video-episode-1000.mp4\n",
      "\n"
     ]
    },
    {
     "name": "stderr",
     "output_type": "stream",
     "text": [
      "                                                               \r"
     ]
    },
    {
     "name": "stdout",
     "output_type": "stream",
     "text": [
      "Moviepy - Done !\n",
      "Moviepy - video ready /Users/jonathanlamontange-kratz/Documents/GitHub/rl-stuff/ppo/videos/1709520406.106061/rl-video-episode-1000.mp4\n",
      "Moviepy - Building video /Users/jonathanlamontange-kratz/Documents/GitHub/rl-stuff/ppo/videos/1709520406.106061/rl-video-episode-0.mp4.\n",
      "Moviepy - Writing video /Users/jonathanlamontange-kratz/Documents/GitHub/rl-stuff/ppo/videos/1709520406.106061/rl-video-episode-0.mp4\n",
      "\n"
     ]
    },
    {
     "name": "stderr",
     "output_type": "stream",
     "text": [
      "                                                               \r"
     ]
    },
    {
     "name": "stdout",
     "output_type": "stream",
     "text": [
      "Moviepy - Done !\n",
      "Moviepy - video ready /Users/jonathanlamontange-kratz/Documents/GitHub/rl-stuff/ppo/videos/1709520406.106061/rl-video-episode-0.mp4\n",
      "score:  362.0\n",
      "WARNING:tensorflow:Model's `__init__()` arguments contain non-serializable objects. Please implement a `get_config()` method in the subclassed Model for proper saving and loading. Defaulting to empty config.\n",
      "WARNING:tensorflow:Model's `__init__()` arguments contain non-serializable objects. Please implement a `get_config()` method in the subclassed Model for proper saving and loading. Defaulting to empty config.\n",
      "WARNING:tensorflow:Model's `__init__()` arguments contain non-serializable objects. Please implement a `get_config()` method in the subclassed Model for proper saving and loading. Defaulting to empty config.\n",
      "WARNING:tensorflow:Model's `__init__()` arguments contain non-serializable objects. Please implement a `get_config()` method in the subclassed Model for proper saving and loading. Defaulting to empty config.\n",
      "WARNING:tensorflow:Model's `__init__()` arguments contain non-serializable objects. Please implement a `get_config()` method in the subclassed Model for proper saving and loading. Defaulting to empty config.\n",
      "WARNING:tensorflow:Model's `__init__()` arguments contain non-serializable objects. Please implement a `get_config()` method in the subclassed Model for proper saving and loading. Defaulting to empty config.\n",
      "Early stopping at iteration 0\n",
      "Early stopping at iteration 1\n",
      "Early stopping at iteration 2\n",
      "Early stopping at iteration 3\n",
      "Early stopping at iteration 4\n",
      "Moviepy - Building video /Users/jonathanlamontange-kratz/Documents/GitHub/rl-stuff/ppo/videos/1709520406.106061/rl-video-episode-1.mp4.\n",
      "Moviepy - Writing video /Users/jonathanlamontange-kratz/Documents/GitHub/rl-stuff/ppo/videos/1709520406.106061/rl-video-episode-1.mp4\n",
      "\n"
     ]
    },
    {
     "name": "stderr",
     "output_type": "stream",
     "text": [
      "                                                              \r"
     ]
    },
    {
     "name": "stdout",
     "output_type": "stream",
     "text": [
      "Moviepy - Done !\n",
      "Moviepy - video ready /Users/jonathanlamontange-kratz/Documents/GitHub/rl-stuff/ppo/videos/1709520406.106061/rl-video-episode-1.mp4\n",
      "score:  133.0\n",
      "score:  171.0\n",
      "score:  278.0\n",
      "score:  157.0\n",
      "score:  153.0\n",
      "score:  132.0\n",
      "score:  205.0\n",
      "Moviepy - Building video /Users/jonathanlamontange-kratz/Documents/GitHub/rl-stuff/ppo/videos/1709520406.106061/rl-video-episode-8.mp4.\n",
      "Moviepy - Writing video /Users/jonathanlamontange-kratz/Documents/GitHub/rl-stuff/ppo/videos/1709520406.106061/rl-video-episode-8.mp4\n",
      "\n"
     ]
    },
    {
     "name": "stderr",
     "output_type": "stream",
     "text": [
      "                                                               \r"
     ]
    },
    {
     "name": "stdout",
     "output_type": "stream",
     "text": [
      "Moviepy - Done !\n",
      "Moviepy - video ready /Users/jonathanlamontange-kratz/Documents/GitHub/rl-stuff/ppo/videos/1709520406.106061/rl-video-episode-8.mp4\n",
      "score:  251.0\n",
      "score:  409.0\n",
      "score:  270.0\n",
      "score:  238.0\n",
      "Moviepy - Building video /Users/jonathanlamontange-kratz/Documents/GitHub/rl-stuff/ppo/videos/1709520406.106061/rl-video-episode-512.mp4.\n",
      "Moviepy - Writing video /Users/jonathanlamontange-kratz/Documents/GitHub/rl-stuff/ppo/videos/1709520406.106061/rl-video-episode-512.mp4\n",
      "\n"
     ]
    },
    {
     "name": "stderr",
     "output_type": "stream",
     "text": [
      "                                                               \r"
     ]
    },
    {
     "name": "stdout",
     "output_type": "stream",
     "text": [
      "Moviepy - Done !\n",
      "Moviepy - video ready /Users/jonathanlamontange-kratz/Documents/GitHub/rl-stuff/ppo/videos/1709520406.106061/rl-video-episode-512.mp4\n",
      "score:  277.0\n",
      "score:  180.0\n",
      "score:  138.0\n",
      "score:  197.0\n",
      "Moviepy - Building video /Users/jonathanlamontange-kratz/Documents/GitHub/rl-stuff/ppo/videos/1709520406.106061/rl-video-episode-216.mp4.\n",
      "Moviepy - Writing video /Users/jonathanlamontange-kratz/Documents/GitHub/rl-stuff/ppo/videos/1709520406.106061/rl-video-episode-216.mp4\n",
      "\n"
     ]
    },
    {
     "name": "stderr",
     "output_type": "stream",
     "text": [
      "                                                               \r"
     ]
    },
    {
     "name": "stdout",
     "output_type": "stream",
     "text": [
      "Moviepy - Done !\n",
      "Moviepy - video ready /Users/jonathanlamontange-kratz/Documents/GitHub/rl-stuff/ppo/videos/1709520406.106061/rl-video-episode-216.mp4\n",
      "score:  176.0\n",
      "score:  142.0\n",
      "score:  138.0\n",
      "score:  315.0\n",
      "score:  130.0\n",
      "score:  168.0\n",
      "score:  194.0\n",
      "score:  142.0\n",
      "score:  202.0\n",
      "Moviepy - Building video /Users/jonathanlamontange-kratz/Documents/GitHub/rl-stuff/ppo/videos/1709520406.106061/rl-video-episode-125.mp4.\n",
      "Moviepy - Writing video /Users/jonathanlamontange-kratz/Documents/GitHub/rl-stuff/ppo/videos/1709520406.106061/rl-video-episode-125.mp4\n",
      "\n"
     ]
    },
    {
     "name": "stderr",
     "output_type": "stream",
     "text": [
      "                                                               \r"
     ]
    },
    {
     "name": "stdout",
     "output_type": "stream",
     "text": [
      "Moviepy - Done !\n",
      "Moviepy - video ready /Users/jonathanlamontange-kratz/Documents/GitHub/rl-stuff/ppo/videos/1709520406.106061/rl-video-episode-125.mp4\n",
      "score:  187.0\n",
      "score:  141.0\n",
      "Moviepy - Building video /Users/jonathanlamontange-kratz/Documents/GitHub/rl-stuff/ppo/videos/1709520406.106061/rl-video-episode-27.mp4.\n",
      "Moviepy - Writing video /Users/jonathanlamontange-kratz/Documents/GitHub/rl-stuff/ppo/videos/1709520406.106061/rl-video-episode-27.mp4\n",
      "\n"
     ]
    },
    {
     "name": "stderr",
     "output_type": "stream",
     "text": [
      "                                                               \r"
     ]
    },
    {
     "name": "stdout",
     "output_type": "stream",
     "text": [
      "Moviepy - Done !\n",
      "Moviepy - video ready /Users/jonathanlamontange-kratz/Documents/GitHub/rl-stuff/ppo/videos/1709520406.106061/rl-video-episode-27.mp4\n",
      "score:  152.0\n",
      "score:  243.0\n",
      "Moviepy - Building video /Users/jonathanlamontange-kratz/Documents/GitHub/rl-stuff/ppo/videos/1709520406.106061/rl-video-episode-729.mp4.\n",
      "Moviepy - Writing video /Users/jonathanlamontange-kratz/Documents/GitHub/rl-stuff/ppo/videos/1709520406.106061/rl-video-episode-729.mp4\n",
      "\n"
     ]
    },
    {
     "name": "stderr",
     "output_type": "stream",
     "text": [
      "                                                               \r"
     ]
    },
    {
     "name": "stdout",
     "output_type": "stream",
     "text": [
      "Moviepy - Done !\n",
      "Moviepy - video ready /Users/jonathanlamontange-kratz/Documents/GitHub/rl-stuff/ppo/videos/1709520406.106061/rl-video-episode-729.mp4\n",
      "score:  131.0\n",
      "score:  227.0\n",
      "score:  139.0\n",
      "score:  243.0\n",
      "score:  184.0\n",
      "score:  173.0\n",
      "score:  151.0\n",
      "score:  210.0\n",
      "score:  224.0\n",
      "score:  146.0\n",
      "score:  173.0\n",
      "score:  149.0\n",
      "score:  135.0\n",
      "score:  152.0\n",
      "Moviepy - Building video /Users/jonathanlamontange-kratz/Documents/GitHub/rl-stuff/ppo/videos/1709520406.106061/rl-video-episode-343.mp4.\n",
      "Moviepy - Writing video /Users/jonathanlamontange-kratz/Documents/GitHub/rl-stuff/ppo/videos/1709520406.106061/rl-video-episode-343.mp4\n",
      "\n"
     ]
    },
    {
     "name": "stderr",
     "output_type": "stream",
     "text": [
      "                                                               \r"
     ]
    },
    {
     "name": "stdout",
     "output_type": "stream",
     "text": [
      "Moviepy - Done !\n",
      "Moviepy - video ready /Users/jonathanlamontange-kratz/Documents/GitHub/rl-stuff/ppo/videos/1709520406.106061/rl-video-episode-343.mp4\n",
      "score:  323.0\n",
      "score:  156.0\n",
      "score:  170.0\n",
      "score:  300.0\n",
      "score:  164.0\n",
      "score:  401.0\n",
      "score:  128.0\n",
      "score:  158.0\n",
      "score:  163.0\n",
      "score:  292.0\n",
      "score:  225.0\n",
      "score:  343.0\n",
      "score:  141.0\n",
      "score:  179.0\n",
      "score:  224.0\n",
      "score:  137.0\n",
      "score:  151.0\n",
      "score:  168.0\n",
      "score:  230.0\n",
      "score:  184.0\n",
      "score:  141.0\n",
      "Moviepy - Building video /Users/jonathanlamontange-kratz/Documents/GitHub/rl-stuff/ppo/videos/1709520406.106061/rl-video-episode-64.mp4.\n",
      "Moviepy - Writing video /Users/jonathanlamontange-kratz/Documents/GitHub/rl-stuff/ppo/videos/1709520406.106061/rl-video-episode-64.mp4\n",
      "\n"
     ]
    },
    {
     "name": "stderr",
     "output_type": "stream",
     "text": [
      "                                                               \r"
     ]
    },
    {
     "name": "stdout",
     "output_type": "stream",
     "text": [
      "Moviepy - Done !\n",
      "Moviepy - video ready /Users/jonathanlamontange-kratz/Documents/GitHub/rl-stuff/ppo/videos/1709520406.106061/rl-video-episode-64.mp4\n",
      "score:  132.0\n",
      "score:  148.0\n",
      "score:  230.0\n",
      "score:  154.0\n",
      "score:  384.0\n",
      "score:  133.0\n",
      "score:  153.0\n",
      "score:  183.0\n",
      "score:  206.0\n",
      "score:  331.0\n",
      "score:  153.0\n",
      "score:  250.0\n",
      "score:  222.0\n",
      "score:  188.0\n",
      "score:  147.0\n",
      "score:  247.0\n",
      "score:  180.0\n",
      "score:  247.0\n",
      "score:  262.0\n",
      "score:  163.0\n",
      "score:  133.0\n",
      "score:  158.0\n",
      "score:  183.0\n",
      "score:  235.0\n",
      "score:  215.0\n",
      "score:  158.0\n",
      "score:  267.0\n",
      "score:  138.0\n",
      "score:  203.0\n",
      "score:  170.0\n",
      "score:  167.0\n",
      "score:  128.0\n",
      "score:  168.0\n",
      "score:  159.0\n",
      "score:  157.0\n",
      "score:  136.0\n"
     ]
    },
    {
     "name": "stderr",
     "output_type": "stream",
     "text": [
      "/Users/jonathanlamontange-kratz/Library/Python/3.9/lib/python/site-packages/gymnasium/wrappers/record_video.py:94: UserWarning: \u001b[33mWARN: Overwriting existing videos at /Users/jonathanlamontange-kratz/Documents/GitHub/rl-stuff/ppo/videos/1709520406.106061 folder (try specifying a different `video_folder` for the `RecordVideo` wrapper if this is not desired)\u001b[0m\n",
      "  logger.warn(\n"
     ]
    },
    {
     "name": "stdout",
     "output_type": "stream",
     "text": [
      "Moviepy - Building video /Users/jonathanlamontange-kratz/Documents/GitHub/rl-stuff/ppo/videos/1709520406.106061/rl-video-episode-2000.mp4.\n",
      "Moviepy - Writing video /Users/jonathanlamontange-kratz/Documents/GitHub/rl-stuff/ppo/videos/1709520406.106061/rl-video-episode-2000.mp4\n",
      "\n"
     ]
    },
    {
     "name": "stderr",
     "output_type": "stream",
     "text": [
      "                                                               \r"
     ]
    },
    {
     "name": "stdout",
     "output_type": "stream",
     "text": [
      "Moviepy - Done !\n",
      "Moviepy - video ready /Users/jonathanlamontange-kratz/Documents/GitHub/rl-stuff/ppo/videos/1709520406.106061/rl-video-episode-2000.mp4\n",
      "Moviepy - Building video /Users/jonathanlamontange-kratz/Documents/GitHub/rl-stuff/ppo/videos/1709520406.106061/rl-video-episode-1000.mp4.\n",
      "Moviepy - Writing video /Users/jonathanlamontange-kratz/Documents/GitHub/rl-stuff/ppo/videos/1709520406.106061/rl-video-episode-1000.mp4\n",
      "\n"
     ]
    },
    {
     "name": "stderr",
     "output_type": "stream",
     "text": [
      "                                                               \r"
     ]
    },
    {
     "name": "stdout",
     "output_type": "stream",
     "text": [
      "Moviepy - Done !\n",
      "Moviepy - video ready /Users/jonathanlamontange-kratz/Documents/GitHub/rl-stuff/ppo/videos/1709520406.106061/rl-video-episode-1000.mp4\n",
      "Moviepy - Building video /Users/jonathanlamontange-kratz/Documents/GitHub/rl-stuff/ppo/videos/1709520406.106061/rl-video-episode-0.mp4.\n",
      "Moviepy - Writing video /Users/jonathanlamontange-kratz/Documents/GitHub/rl-stuff/ppo/videos/1709520406.106061/rl-video-episode-0.mp4\n",
      "\n"
     ]
    },
    {
     "name": "stderr",
     "output_type": "stream",
     "text": [
      "                                                               \r"
     ]
    },
    {
     "name": "stdout",
     "output_type": "stream",
     "text": [
      "Moviepy - Done !\n",
      "Moviepy - video ready /Users/jonathanlamontange-kratz/Documents/GitHub/rl-stuff/ppo/videos/1709520406.106061/rl-video-episode-0.mp4\n",
      "score:  188.0\n",
      "WARNING:tensorflow:Model's `__init__()` arguments contain non-serializable objects. Please implement a `get_config()` method in the subclassed Model for proper saving and loading. Defaulting to empty config.\n",
      "WARNING:tensorflow:Model's `__init__()` arguments contain non-serializable objects. Please implement a `get_config()` method in the subclassed Model for proper saving and loading. Defaulting to empty config.\n",
      "WARNING:tensorflow:Model's `__init__()` arguments contain non-serializable objects. Please implement a `get_config()` method in the subclassed Model for proper saving and loading. Defaulting to empty config.\n",
      "WARNING:tensorflow:Model's `__init__()` arguments contain non-serializable objects. Please implement a `get_config()` method in the subclassed Model for proper saving and loading. Defaulting to empty config.\n",
      "WARNING:tensorflow:Model's `__init__()` arguments contain non-serializable objects. Please implement a `get_config()` method in the subclassed Model for proper saving and loading. Defaulting to empty config.\n",
      "WARNING:tensorflow:Model's `__init__()` arguments contain non-serializable objects. Please implement a `get_config()` method in the subclassed Model for proper saving and loading. Defaulting to empty config.\n",
      "Early stopping at iteration 0\n",
      "Early stopping at iteration 1\n",
      "Early stopping at iteration 2\n",
      "Early stopping at iteration 3\n",
      "Early stopping at iteration 4\n",
      "Moviepy - Building video /Users/jonathanlamontange-kratz/Documents/GitHub/rl-stuff/ppo/videos/1709520406.106061/rl-video-episode-1.mp4.\n",
      "Moviepy - Writing video /Users/jonathanlamontange-kratz/Documents/GitHub/rl-stuff/ppo/videos/1709520406.106061/rl-video-episode-1.mp4\n",
      "\n"
     ]
    },
    {
     "name": "stderr",
     "output_type": "stream",
     "text": [
      "                                                               \r"
     ]
    },
    {
     "name": "stdout",
     "output_type": "stream",
     "text": [
      "Moviepy - Done !\n",
      "Moviepy - video ready /Users/jonathanlamontange-kratz/Documents/GitHub/rl-stuff/ppo/videos/1709520406.106061/rl-video-episode-1.mp4\n",
      "score:  281.0\n",
      "score:  161.0\n",
      "score:  263.0\n",
      "score:  156.0\n",
      "score:  220.0\n",
      "score:  315.0\n",
      "score:  217.0\n",
      "Moviepy - Building video /Users/jonathanlamontange-kratz/Documents/GitHub/rl-stuff/ppo/videos/1709520406.106061/rl-video-episode-8.mp4.\n",
      "Moviepy - Writing video /Users/jonathanlamontange-kratz/Documents/GitHub/rl-stuff/ppo/videos/1709520406.106061/rl-video-episode-8.mp4\n",
      "\n"
     ]
    },
    {
     "name": "stderr",
     "output_type": "stream",
     "text": [
      "                                                               \r"
     ]
    },
    {
     "name": "stdout",
     "output_type": "stream",
     "text": [
      "Moviepy - Done !\n",
      "Moviepy - video ready /Users/jonathanlamontange-kratz/Documents/GitHub/rl-stuff/ppo/videos/1709520406.106061/rl-video-episode-8.mp4\n",
      "score:  272.0\n",
      "score:  167.0\n",
      "score:  157.0\n",
      "score:  356.0\n",
      "Moviepy - Building video /Users/jonathanlamontange-kratz/Documents/GitHub/rl-stuff/ppo/videos/1709520406.106061/rl-video-episode-512.mp4.\n",
      "Moviepy - Writing video /Users/jonathanlamontange-kratz/Documents/GitHub/rl-stuff/ppo/videos/1709520406.106061/rl-video-episode-512.mp4\n",
      "\n"
     ]
    },
    {
     "name": "stderr",
     "output_type": "stream",
     "text": [
      "                                                               \r"
     ]
    },
    {
     "name": "stdout",
     "output_type": "stream",
     "text": [
      "Moviepy - Done !\n",
      "Moviepy - video ready /Users/jonathanlamontange-kratz/Documents/GitHub/rl-stuff/ppo/videos/1709520406.106061/rl-video-episode-512.mp4\n",
      "score:  370.0\n",
      "score:  304.0\n",
      "score:  327.0\n",
      "score:  318.0\n",
      "Moviepy - Building video /Users/jonathanlamontange-kratz/Documents/GitHub/rl-stuff/ppo/videos/1709520406.106061/rl-video-episode-216.mp4.\n",
      "Moviepy - Writing video /Users/jonathanlamontange-kratz/Documents/GitHub/rl-stuff/ppo/videos/1709520406.106061/rl-video-episode-216.mp4\n",
      "\n"
     ]
    },
    {
     "name": "stderr",
     "output_type": "stream",
     "text": [
      "                                                               \r"
     ]
    },
    {
     "name": "stdout",
     "output_type": "stream",
     "text": [
      "Moviepy - Done !\n",
      "Moviepy - video ready /Users/jonathanlamontange-kratz/Documents/GitHub/rl-stuff/ppo/videos/1709520406.106061/rl-video-episode-216.mp4\n",
      "score:  226.0\n",
      "score:  284.0\n",
      "score:  334.0\n",
      "score:  145.0\n",
      "score:  191.0\n",
      "score:  314.0\n",
      "score:  139.0\n",
      "score:  225.0\n",
      "score:  171.0\n",
      "Moviepy - Building video /Users/jonathanlamontange-kratz/Documents/GitHub/rl-stuff/ppo/videos/1709520406.106061/rl-video-episode-125.mp4.\n",
      "Moviepy - Writing video /Users/jonathanlamontange-kratz/Documents/GitHub/rl-stuff/ppo/videos/1709520406.106061/rl-video-episode-125.mp4\n",
      "\n"
     ]
    },
    {
     "name": "stderr",
     "output_type": "stream",
     "text": [
      "                                                               \r"
     ]
    },
    {
     "name": "stdout",
     "output_type": "stream",
     "text": [
      "Moviepy - Done !\n",
      "Moviepy - video ready /Users/jonathanlamontange-kratz/Documents/GitHub/rl-stuff/ppo/videos/1709520406.106061/rl-video-episode-125.mp4\n",
      "score:  184.0\n",
      "score:  328.0\n",
      "Moviepy - Building video /Users/jonathanlamontange-kratz/Documents/GitHub/rl-stuff/ppo/videos/1709520406.106061/rl-video-episode-27.mp4.\n",
      "Moviepy - Writing video /Users/jonathanlamontange-kratz/Documents/GitHub/rl-stuff/ppo/videos/1709520406.106061/rl-video-episode-27.mp4\n",
      "\n"
     ]
    },
    {
     "name": "stderr",
     "output_type": "stream",
     "text": [
      "                                                                \r"
     ]
    },
    {
     "name": "stdout",
     "output_type": "stream",
     "text": [
      "Moviepy - Done !\n",
      "Moviepy - video ready /Users/jonathanlamontange-kratz/Documents/GitHub/rl-stuff/ppo/videos/1709520406.106061/rl-video-episode-27.mp4\n",
      "score:  351.0\n",
      "score:  128.0\n",
      "Moviepy - Building video /Users/jonathanlamontange-kratz/Documents/GitHub/rl-stuff/ppo/videos/1709520406.106061/rl-video-episode-729.mp4.\n",
      "Moviepy - Writing video /Users/jonathanlamontange-kratz/Documents/GitHub/rl-stuff/ppo/videos/1709520406.106061/rl-video-episode-729.mp4\n",
      "\n"
     ]
    },
    {
     "name": "stderr",
     "output_type": "stream",
     "text": [
      "                                                               \r"
     ]
    },
    {
     "name": "stdout",
     "output_type": "stream",
     "text": [
      "Moviepy - Done !\n",
      "Moviepy - video ready /Users/jonathanlamontange-kratz/Documents/GitHub/rl-stuff/ppo/videos/1709520406.106061/rl-video-episode-729.mp4\n",
      "score:  148.0\n",
      "score:  207.0\n",
      "score:  134.0\n",
      "score:  187.0\n",
      "score:  194.0\n",
      "score:  283.0\n",
      "score:  144.0\n",
      "score:  128.0\n",
      "score:  283.0\n",
      "score:  174.0\n",
      "score:  149.0\n",
      "score:  164.0\n",
      "score:  200.0\n",
      "score:  146.0\n",
      "Moviepy - Building video /Users/jonathanlamontange-kratz/Documents/GitHub/rl-stuff/ppo/videos/1709520406.106061/rl-video-episode-343.mp4.\n",
      "Moviepy - Writing video /Users/jonathanlamontange-kratz/Documents/GitHub/rl-stuff/ppo/videos/1709520406.106061/rl-video-episode-343.mp4\n",
      "\n"
     ]
    },
    {
     "name": "stderr",
     "output_type": "stream",
     "text": [
      "                                                               \r"
     ]
    },
    {
     "name": "stdout",
     "output_type": "stream",
     "text": [
      "Moviepy - Done !\n",
      "Moviepy - video ready /Users/jonathanlamontange-kratz/Documents/GitHub/rl-stuff/ppo/videos/1709520406.106061/rl-video-episode-343.mp4\n",
      "score:  393.0\n",
      "score:  212.0\n",
      "score:  191.0\n",
      "score:  158.0\n",
      "score:  175.0\n",
      "score:  150.0\n",
      "score:  264.0\n",
      "score:  148.0\n",
      "score:  140.0\n",
      "score:  220.0\n",
      "score:  315.0\n",
      "score:  302.0\n",
      "score:  200.0\n",
      "score:  182.0\n",
      "score:  198.0\n",
      "score:  159.0\n",
      "score:  162.0\n",
      "score:  297.0\n",
      "score:  192.0\n",
      "score:  170.0\n",
      "score:  188.0\n",
      "Moviepy - Building video /Users/jonathanlamontange-kratz/Documents/GitHub/rl-stuff/ppo/videos/1709520406.106061/rl-video-episode-64.mp4.\n",
      "Moviepy - Writing video /Users/jonathanlamontange-kratz/Documents/GitHub/rl-stuff/ppo/videos/1709520406.106061/rl-video-episode-64.mp4\n",
      "\n"
     ]
    },
    {
     "name": "stderr",
     "output_type": "stream",
     "text": [
      "                                                               \r"
     ]
    },
    {
     "name": "stdout",
     "output_type": "stream",
     "text": [
      "Moviepy - Done !\n",
      "Moviepy - video ready /Users/jonathanlamontange-kratz/Documents/GitHub/rl-stuff/ppo/videos/1709520406.106061/rl-video-episode-64.mp4\n",
      "score:  235.0\n",
      "score:  175.0\n",
      "score:  255.0\n",
      "score:  326.0\n",
      "score:  179.0\n",
      "score:  223.0\n",
      "score:  180.0\n",
      "score:  221.0\n",
      "score:  241.0\n",
      "score:  143.0\n",
      "score:  180.0\n",
      "score:  148.0\n",
      "score:  204.0\n",
      "score:  303.0\n",
      "score:  179.0\n",
      "score:  252.0\n",
      "score:  276.0\n",
      "score:  186.0\n",
      "score:  193.0\n",
      "score:  210.0\n",
      "score:  167.0\n",
      "score:  170.0\n",
      "score:  323.0\n",
      "score:  175.0\n",
      "score:  194.0\n",
      "score:  170.0\n",
      "score:  236.0\n",
      "score:  250.0\n",
      "score:  317.0\n",
      "score:  253.0\n",
      "score:  147.0\n",
      "score:  186.0\n",
      "score:  191.0\n",
      "score:  174.0\n",
      "score:  272.0\n",
      "score:  159.0\n"
     ]
    },
    {
     "name": "stderr",
     "output_type": "stream",
     "text": [
      "/Users/jonathanlamontange-kratz/Library/Python/3.9/lib/python/site-packages/gymnasium/wrappers/record_video.py:94: UserWarning: \u001b[33mWARN: Overwriting existing videos at /Users/jonathanlamontange-kratz/Documents/GitHub/rl-stuff/ppo/videos/1709520406.106061 folder (try specifying a different `video_folder` for the `RecordVideo` wrapper if this is not desired)\u001b[0m\n",
      "  logger.warn(\n"
     ]
    },
    {
     "name": "stdout",
     "output_type": "stream",
     "text": [
      "Moviepy - Building video /Users/jonathanlamontange-kratz/Documents/GitHub/rl-stuff/ppo/videos/1709520406.106061/rl-video-episode-2000.mp4.\n",
      "Moviepy - Writing video /Users/jonathanlamontange-kratz/Documents/GitHub/rl-stuff/ppo/videos/1709520406.106061/rl-video-episode-2000.mp4\n",
      "\n"
     ]
    },
    {
     "name": "stderr",
     "output_type": "stream",
     "text": [
      "                                                               \r"
     ]
    },
    {
     "name": "stdout",
     "output_type": "stream",
     "text": [
      "Moviepy - Done !\n",
      "Moviepy - video ready /Users/jonathanlamontange-kratz/Documents/GitHub/rl-stuff/ppo/videos/1709520406.106061/rl-video-episode-2000.mp4\n",
      "Moviepy - Building video /Users/jonathanlamontange-kratz/Documents/GitHub/rl-stuff/ppo/videos/1709520406.106061/rl-video-episode-1000.mp4.\n",
      "Moviepy - Writing video /Users/jonathanlamontange-kratz/Documents/GitHub/rl-stuff/ppo/videos/1709520406.106061/rl-video-episode-1000.mp4\n",
      "\n"
     ]
    },
    {
     "name": "stderr",
     "output_type": "stream",
     "text": [
      "                                                               \r"
     ]
    },
    {
     "name": "stdout",
     "output_type": "stream",
     "text": [
      "Moviepy - Done !\n",
      "Moviepy - video ready /Users/jonathanlamontange-kratz/Documents/GitHub/rl-stuff/ppo/videos/1709520406.106061/rl-video-episode-1000.mp4\n",
      "Moviepy - Building video /Users/jonathanlamontange-kratz/Documents/GitHub/rl-stuff/ppo/videos/1709520406.106061/rl-video-episode-0.mp4.\n",
      "Moviepy - Writing video /Users/jonathanlamontange-kratz/Documents/GitHub/rl-stuff/ppo/videos/1709520406.106061/rl-video-episode-0.mp4\n",
      "\n"
     ]
    },
    {
     "name": "stderr",
     "output_type": "stream",
     "text": [
      "                                                               \r"
     ]
    },
    {
     "name": "stdout",
     "output_type": "stream",
     "text": [
      "Moviepy - Done !\n",
      "Moviepy - video ready /Users/jonathanlamontange-kratz/Documents/GitHub/rl-stuff/ppo/videos/1709520406.106061/rl-video-episode-0.mp4\n",
      "score:  166.0\n",
      "WARNING:tensorflow:Model's `__init__()` arguments contain non-serializable objects. Please implement a `get_config()` method in the subclassed Model for proper saving and loading. Defaulting to empty config.\n",
      "WARNING:tensorflow:Model's `__init__()` arguments contain non-serializable objects. Please implement a `get_config()` method in the subclassed Model for proper saving and loading. Defaulting to empty config.\n",
      "WARNING:tensorflow:Model's `__init__()` arguments contain non-serializable objects. Please implement a `get_config()` method in the subclassed Model for proper saving and loading. Defaulting to empty config.\n",
      "WARNING:tensorflow:Model's `__init__()` arguments contain non-serializable objects. Please implement a `get_config()` method in the subclassed Model for proper saving and loading. Defaulting to empty config.\n",
      "WARNING:tensorflow:Model's `__init__()` arguments contain non-serializable objects. Please implement a `get_config()` method in the subclassed Model for proper saving and loading. Defaulting to empty config.\n",
      "WARNING:tensorflow:Model's `__init__()` arguments contain non-serializable objects. Please implement a `get_config()` method in the subclassed Model for proper saving and loading. Defaulting to empty config.\n",
      "Your agent has achieved the env's reward threshold.\n",
      "Your agent has achieved the env's reward threshold.\n",
      "Early stopping at iteration 0\n",
      "Early stopping at iteration 1\n",
      "Early stopping at iteration 2\n",
      "Early stopping at iteration 3\n",
      "Early stopping at iteration 4\n",
      "Moviepy - Building video /Users/jonathanlamontange-kratz/Documents/GitHub/rl-stuff/ppo/videos/1709520406.106061/rl-video-episode-1.mp4.\n",
      "Moviepy - Writing video /Users/jonathanlamontange-kratz/Documents/GitHub/rl-stuff/ppo/videos/1709520406.106061/rl-video-episode-1.mp4\n",
      "\n"
     ]
    },
    {
     "name": "stderr",
     "output_type": "stream",
     "text": [
      "                                                              \r"
     ]
    },
    {
     "name": "stdout",
     "output_type": "stream",
     "text": [
      "Moviepy - Done !\n",
      "Moviepy - video ready /Users/jonathanlamontange-kratz/Documents/GitHub/rl-stuff/ppo/videos/1709520406.106061/rl-video-episode-1.mp4\n",
      "score:  173.0\n",
      "score:  164.0\n",
      "score:  188.0\n",
      "score:  171.0\n",
      "score:  250.0\n",
      "score:  185.0\n",
      "score:  210.0\n",
      "Moviepy - Building video /Users/jonathanlamontange-kratz/Documents/GitHub/rl-stuff/ppo/videos/1709520406.106061/rl-video-episode-8.mp4.\n",
      "Moviepy - Writing video /Users/jonathanlamontange-kratz/Documents/GitHub/rl-stuff/ppo/videos/1709520406.106061/rl-video-episode-8.mp4\n",
      "\n"
     ]
    },
    {
     "name": "stderr",
     "output_type": "stream",
     "text": [
      "                                                               \r"
     ]
    },
    {
     "name": "stdout",
     "output_type": "stream",
     "text": [
      "Moviepy - Done !\n",
      "Moviepy - video ready /Users/jonathanlamontange-kratz/Documents/GitHub/rl-stuff/ppo/videos/1709520406.106061/rl-video-episode-8.mp4\n",
      "score:  355.0\n",
      "score:  127.0\n",
      "score:  180.0\n",
      "score:  159.0\n",
      "Moviepy - Building video /Users/jonathanlamontange-kratz/Documents/GitHub/rl-stuff/ppo/videos/1709520406.106061/rl-video-episode-512.mp4.\n",
      "Moviepy - Writing video /Users/jonathanlamontange-kratz/Documents/GitHub/rl-stuff/ppo/videos/1709520406.106061/rl-video-episode-512.mp4\n",
      "\n"
     ]
    },
    {
     "name": "stderr",
     "output_type": "stream",
     "text": [
      "                                                               \r"
     ]
    },
    {
     "name": "stdout",
     "output_type": "stream",
     "text": [
      "Moviepy - Done !\n",
      "Moviepy - video ready /Users/jonathanlamontange-kratz/Documents/GitHub/rl-stuff/ppo/videos/1709520406.106061/rl-video-episode-512.mp4\n",
      "score:  157.0\n",
      "score:  167.0\n",
      "score:  245.0\n",
      "score:  138.0\n",
      "Moviepy - Building video /Users/jonathanlamontange-kratz/Documents/GitHub/rl-stuff/ppo/videos/1709520406.106061/rl-video-episode-216.mp4.\n",
      "Moviepy - Writing video /Users/jonathanlamontange-kratz/Documents/GitHub/rl-stuff/ppo/videos/1709520406.106061/rl-video-episode-216.mp4\n",
      "\n"
     ]
    },
    {
     "name": "stderr",
     "output_type": "stream",
     "text": [
      "                                                               \r"
     ]
    },
    {
     "name": "stdout",
     "output_type": "stream",
     "text": [
      "Moviepy - Done !\n",
      "Moviepy - video ready /Users/jonathanlamontange-kratz/Documents/GitHub/rl-stuff/ppo/videos/1709520406.106061/rl-video-episode-216.mp4\n",
      "score:  338.0\n",
      "score:  158.0\n",
      "score:  178.0\n",
      "score:  150.0\n",
      "score:  140.0\n",
      "score:  411.0\n",
      "score:  154.0\n",
      "score:  166.0\n",
      "score:  162.0\n",
      "Moviepy - Building video /Users/jonathanlamontange-kratz/Documents/GitHub/rl-stuff/ppo/videos/1709520406.106061/rl-video-episode-125.mp4.\n",
      "Moviepy - Writing video /Users/jonathanlamontange-kratz/Documents/GitHub/rl-stuff/ppo/videos/1709520406.106061/rl-video-episode-125.mp4\n",
      "\n"
     ]
    },
    {
     "name": "stderr",
     "output_type": "stream",
     "text": [
      "                                                               \r"
     ]
    },
    {
     "name": "stdout",
     "output_type": "stream",
     "text": [
      "Moviepy - Done !\n",
      "Moviepy - video ready /Users/jonathanlamontange-kratz/Documents/GitHub/rl-stuff/ppo/videos/1709520406.106061/rl-video-episode-125.mp4\n",
      "score:  167.0\n",
      "score:  198.0\n",
      "Moviepy - Building video /Users/jonathanlamontange-kratz/Documents/GitHub/rl-stuff/ppo/videos/1709520406.106061/rl-video-episode-27.mp4.\n",
      "Moviepy - Writing video /Users/jonathanlamontange-kratz/Documents/GitHub/rl-stuff/ppo/videos/1709520406.106061/rl-video-episode-27.mp4\n",
      "\n"
     ]
    },
    {
     "name": "stderr",
     "output_type": "stream",
     "text": [
      "                                                               \r"
     ]
    },
    {
     "name": "stdout",
     "output_type": "stream",
     "text": [
      "Moviepy - Done !\n",
      "Moviepy - video ready /Users/jonathanlamontange-kratz/Documents/GitHub/rl-stuff/ppo/videos/1709520406.106061/rl-video-episode-27.mp4\n",
      "score:  168.0\n",
      "score:  164.0\n",
      "Moviepy - Building video /Users/jonathanlamontange-kratz/Documents/GitHub/rl-stuff/ppo/videos/1709520406.106061/rl-video-episode-729.mp4.\n",
      "Moviepy - Writing video /Users/jonathanlamontange-kratz/Documents/GitHub/rl-stuff/ppo/videos/1709520406.106061/rl-video-episode-729.mp4\n",
      "\n"
     ]
    },
    {
     "name": "stderr",
     "output_type": "stream",
     "text": [
      "                                                                \r"
     ]
    },
    {
     "name": "stdout",
     "output_type": "stream",
     "text": [
      "Moviepy - Done !\n",
      "Moviepy - video ready /Users/jonathanlamontange-kratz/Documents/GitHub/rl-stuff/ppo/videos/1709520406.106061/rl-video-episode-729.mp4\n",
      "score:  280.0\n",
      "score:  162.0\n",
      "score:  211.0\n",
      "score:  201.0\n",
      "score:  248.0\n",
      "score:  230.0\n",
      "score:  218.0\n",
      "score:  131.0\n",
      "score:  185.0\n",
      "score:  158.0\n",
      "score:  148.0\n",
      "score:  293.0\n",
      "score:  169.0\n",
      "score:  268.0\n",
      "Moviepy - Building video /Users/jonathanlamontange-kratz/Documents/GitHub/rl-stuff/ppo/videos/1709520406.106061/rl-video-episode-343.mp4.\n",
      "Moviepy - Writing video /Users/jonathanlamontange-kratz/Documents/GitHub/rl-stuff/ppo/videos/1709520406.106061/rl-video-episode-343.mp4\n",
      "\n"
     ]
    },
    {
     "name": "stderr",
     "output_type": "stream",
     "text": [
      "                                                               \r"
     ]
    },
    {
     "name": "stdout",
     "output_type": "stream",
     "text": [
      "Moviepy - Done !\n",
      "Moviepy - video ready /Users/jonathanlamontange-kratz/Documents/GitHub/rl-stuff/ppo/videos/1709520406.106061/rl-video-episode-343.mp4\n",
      "score:  145.0\n",
      "score:  293.0\n",
      "score:  230.0\n",
      "score:  165.0\n",
      "score:  260.0\n",
      "score:  142.0\n",
      "score:  172.0\n",
      "score:  180.0\n",
      "score:  209.0\n",
      "score:  294.0\n",
      "score:  179.0\n",
      "score:  151.0\n",
      "score:  197.0\n",
      "score:  164.0\n",
      "score:  297.0\n",
      "score:  177.0\n",
      "score:  330.0\n",
      "score:  139.0\n",
      "score:  206.0\n",
      "score:  133.0\n",
      "score:  466.0\n",
      "Moviepy - Building video /Users/jonathanlamontange-kratz/Documents/GitHub/rl-stuff/ppo/videos/1709520406.106061/rl-video-episode-64.mp4.\n",
      "Moviepy - Writing video /Users/jonathanlamontange-kratz/Documents/GitHub/rl-stuff/ppo/videos/1709520406.106061/rl-video-episode-64.mp4\n",
      "\n"
     ]
    },
    {
     "name": "stderr",
     "output_type": "stream",
     "text": [
      "                                                               \r"
     ]
    },
    {
     "name": "stdout",
     "output_type": "stream",
     "text": [
      "Moviepy - Done !\n",
      "Moviepy - video ready /Users/jonathanlamontange-kratz/Documents/GitHub/rl-stuff/ppo/videos/1709520406.106061/rl-video-episode-64.mp4\n",
      "score:  167.0\n",
      "score:  170.0\n",
      "score:  132.0\n",
      "score:  229.0\n",
      "score:  250.0\n",
      "score:  370.0\n",
      "score:  372.0\n",
      "score:  152.0\n",
      "score:  146.0\n",
      "score:  271.0\n",
      "score:  197.0\n",
      "score:  123.0\n",
      "score:  138.0\n",
      "score:  156.0\n",
      "score:  261.0\n",
      "score:  196.0\n",
      "score:  169.0\n",
      "score:  195.0\n",
      "score:  305.0\n",
      "score:  213.0\n",
      "score:  230.0\n",
      "score:  194.0\n",
      "score:  162.0\n",
      "score:  163.0\n",
      "score:  162.0\n",
      "score:  220.0\n",
      "score:  245.0\n",
      "score:  186.0\n",
      "score:  203.0\n",
      "score:  157.0\n",
      "score:  169.0\n",
      "score:  158.0\n",
      "score:  282.0\n",
      "score:  175.0\n",
      "score:  162.0\n",
      "score:  243.0\n"
     ]
    },
    {
     "name": "stderr",
     "output_type": "stream",
     "text": [
      "/Users/jonathanlamontange-kratz/Library/Python/3.9/lib/python/site-packages/gymnasium/wrappers/record_video.py:94: UserWarning: \u001b[33mWARN: Overwriting existing videos at /Users/jonathanlamontange-kratz/Documents/GitHub/rl-stuff/ppo/videos/1709520406.106061 folder (try specifying a different `video_folder` for the `RecordVideo` wrapper if this is not desired)\u001b[0m\n",
      "  logger.warn(\n"
     ]
    },
    {
     "name": "stdout",
     "output_type": "stream",
     "text": [
      "Moviepy - Building video /Users/jonathanlamontange-kratz/Documents/GitHub/rl-stuff/ppo/videos/1709520406.106061/rl-video-episode-2000.mp4.\n",
      "Moviepy - Writing video /Users/jonathanlamontange-kratz/Documents/GitHub/rl-stuff/ppo/videos/1709520406.106061/rl-video-episode-2000.mp4\n",
      "\n"
     ]
    },
    {
     "name": "stderr",
     "output_type": "stream",
     "text": [
      "                                                               \r"
     ]
    },
    {
     "name": "stdout",
     "output_type": "stream",
     "text": [
      "Moviepy - Done !\n",
      "Moviepy - video ready /Users/jonathanlamontange-kratz/Documents/GitHub/rl-stuff/ppo/videos/1709520406.106061/rl-video-episode-2000.mp4\n",
      "Moviepy - Building video /Users/jonathanlamontange-kratz/Documents/GitHub/rl-stuff/ppo/videos/1709520406.106061/rl-video-episode-1000.mp4.\n",
      "Moviepy - Writing video /Users/jonathanlamontange-kratz/Documents/GitHub/rl-stuff/ppo/videos/1709520406.106061/rl-video-episode-1000.mp4\n",
      "\n"
     ]
    },
    {
     "name": "stderr",
     "output_type": "stream",
     "text": [
      "                                                               \r"
     ]
    },
    {
     "name": "stdout",
     "output_type": "stream",
     "text": [
      "Moviepy - Done !\n",
      "Moviepy - video ready /Users/jonathanlamontange-kratz/Documents/GitHub/rl-stuff/ppo/videos/1709520406.106061/rl-video-episode-1000.mp4\n",
      "Moviepy - Building video /Users/jonathanlamontange-kratz/Documents/GitHub/rl-stuff/ppo/videos/1709520406.106061/rl-video-episode-0.mp4.\n",
      "Moviepy - Writing video /Users/jonathanlamontange-kratz/Documents/GitHub/rl-stuff/ppo/videos/1709520406.106061/rl-video-episode-0.mp4\n",
      "\n"
     ]
    },
    {
     "name": "stderr",
     "output_type": "stream",
     "text": [
      "                                                               \r"
     ]
    },
    {
     "name": "stdout",
     "output_type": "stream",
     "text": [
      "Moviepy - Done !\n",
      "Moviepy - video ready /Users/jonathanlamontange-kratz/Documents/GitHub/rl-stuff/ppo/videos/1709520406.106061/rl-video-episode-0.mp4\n",
      "score:  196.0\n",
      "WARNING:tensorflow:Model's `__init__()` arguments contain non-serializable objects. Please implement a `get_config()` method in the subclassed Model for proper saving and loading. Defaulting to empty config.\n",
      "WARNING:tensorflow:Model's `__init__()` arguments contain non-serializable objects. Please implement a `get_config()` method in the subclassed Model for proper saving and loading. Defaulting to empty config.\n",
      "WARNING:tensorflow:Model's `__init__()` arguments contain non-serializable objects. Please implement a `get_config()` method in the subclassed Model for proper saving and loading. Defaulting to empty config.\n",
      "WARNING:tensorflow:Model's `__init__()` arguments contain non-serializable objects. Please implement a `get_config()` method in the subclassed Model for proper saving and loading. Defaulting to empty config.\n",
      "WARNING:tensorflow:Model's `__init__()` arguments contain non-serializable objects. Please implement a `get_config()` method in the subclassed Model for proper saving and loading. Defaulting to empty config.\n",
      "WARNING:tensorflow:Model's `__init__()` arguments contain non-serializable objects. Please implement a `get_config()` method in the subclassed Model for proper saving and loading. Defaulting to empty config.\n",
      "Early stopping at iteration 0\n",
      "Early stopping at iteration 1\n",
      "Early stopping at iteration 2\n",
      "Early stopping at iteration 3\n",
      "Early stopping at iteration 4\n",
      "Moviepy - Building video /Users/jonathanlamontange-kratz/Documents/GitHub/rl-stuff/ppo/videos/1709520406.106061/rl-video-episode-1.mp4.\n",
      "Moviepy - Writing video /Users/jonathanlamontange-kratz/Documents/GitHub/rl-stuff/ppo/videos/1709520406.106061/rl-video-episode-1.mp4\n",
      "\n"
     ]
    },
    {
     "name": "stderr",
     "output_type": "stream",
     "text": [
      "                                                               \r"
     ]
    },
    {
     "name": "stdout",
     "output_type": "stream",
     "text": [
      "Moviepy - Done !\n",
      "Moviepy - video ready /Users/jonathanlamontange-kratz/Documents/GitHub/rl-stuff/ppo/videos/1709520406.106061/rl-video-episode-1.mp4\n",
      "score:  174.0\n",
      "score:  146.0\n",
      "score:  178.0\n",
      "score:  134.0\n",
      "score:  158.0\n",
      "score:  290.0\n",
      "score:  152.0\n",
      "Moviepy - Building video /Users/jonathanlamontange-kratz/Documents/GitHub/rl-stuff/ppo/videos/1709520406.106061/rl-video-episode-8.mp4.\n",
      "Moviepy - Writing video /Users/jonathanlamontange-kratz/Documents/GitHub/rl-stuff/ppo/videos/1709520406.106061/rl-video-episode-8.mp4\n",
      "\n"
     ]
    },
    {
     "name": "stderr",
     "output_type": "stream",
     "text": [
      "                                                               \r"
     ]
    },
    {
     "name": "stdout",
     "output_type": "stream",
     "text": [
      "Moviepy - Done !\n",
      "Moviepy - video ready /Users/jonathanlamontange-kratz/Documents/GitHub/rl-stuff/ppo/videos/1709520406.106061/rl-video-episode-8.mp4\n",
      "score:  154.0\n",
      "score:  233.0\n",
      "score:  260.0\n",
      "score:  225.0\n",
      "Moviepy - Building video /Users/jonathanlamontange-kratz/Documents/GitHub/rl-stuff/ppo/videos/1709520406.106061/rl-video-episode-512.mp4.\n",
      "Moviepy - Writing video /Users/jonathanlamontange-kratz/Documents/GitHub/rl-stuff/ppo/videos/1709520406.106061/rl-video-episode-512.mp4\n",
      "\n"
     ]
    },
    {
     "name": "stderr",
     "output_type": "stream",
     "text": [
      "                                                               \r"
     ]
    },
    {
     "name": "stdout",
     "output_type": "stream",
     "text": [
      "Moviepy - Done !\n",
      "Moviepy - video ready /Users/jonathanlamontange-kratz/Documents/GitHub/rl-stuff/ppo/videos/1709520406.106061/rl-video-episode-512.mp4\n",
      "score:  240.0\n",
      "score:  186.0\n",
      "score:  200.0\n",
      "score:  167.0\n",
      "Moviepy - Building video /Users/jonathanlamontange-kratz/Documents/GitHub/rl-stuff/ppo/videos/1709520406.106061/rl-video-episode-216.mp4.\n",
      "Moviepy - Writing video /Users/jonathanlamontange-kratz/Documents/GitHub/rl-stuff/ppo/videos/1709520406.106061/rl-video-episode-216.mp4\n",
      "\n"
     ]
    },
    {
     "name": "stderr",
     "output_type": "stream",
     "text": [
      "                                                               \r"
     ]
    },
    {
     "name": "stdout",
     "output_type": "stream",
     "text": [
      "Moviepy - Done !\n",
      "Moviepy - video ready /Users/jonathanlamontange-kratz/Documents/GitHub/rl-stuff/ppo/videos/1709520406.106061/rl-video-episode-216.mp4\n",
      "score:  274.0\n",
      "score:  242.0\n",
      "score:  358.0\n",
      "score:  293.0\n",
      "score:  205.0\n",
      "score:  190.0\n",
      "score:  208.0\n",
      "score:  206.0\n",
      "score:  137.0\n",
      "Moviepy - Building video /Users/jonathanlamontange-kratz/Documents/GitHub/rl-stuff/ppo/videos/1709520406.106061/rl-video-episode-125.mp4.\n",
      "Moviepy - Writing video /Users/jonathanlamontange-kratz/Documents/GitHub/rl-stuff/ppo/videos/1709520406.106061/rl-video-episode-125.mp4\n",
      "\n"
     ]
    },
    {
     "name": "stderr",
     "output_type": "stream",
     "text": [
      "                                                               \r"
     ]
    },
    {
     "name": "stdout",
     "output_type": "stream",
     "text": [
      "Moviepy - Done !\n",
      "Moviepy - video ready /Users/jonathanlamontange-kratz/Documents/GitHub/rl-stuff/ppo/videos/1709520406.106061/rl-video-episode-125.mp4\n",
      "score:  145.0\n",
      "score:  241.0\n",
      "Moviepy - Building video /Users/jonathanlamontange-kratz/Documents/GitHub/rl-stuff/ppo/videos/1709520406.106061/rl-video-episode-27.mp4.\n",
      "Moviepy - Writing video /Users/jonathanlamontange-kratz/Documents/GitHub/rl-stuff/ppo/videos/1709520406.106061/rl-video-episode-27.mp4\n",
      "\n"
     ]
    },
    {
     "name": "stderr",
     "output_type": "stream",
     "text": [
      "                                                               \r"
     ]
    },
    {
     "name": "stdout",
     "output_type": "stream",
     "text": [
      "Moviepy - Done !\n",
      "Moviepy - video ready /Users/jonathanlamontange-kratz/Documents/GitHub/rl-stuff/ppo/videos/1709520406.106061/rl-video-episode-27.mp4\n",
      "score:  160.0\n",
      "score:  126.0\n",
      "Moviepy - Building video /Users/jonathanlamontange-kratz/Documents/GitHub/rl-stuff/ppo/videos/1709520406.106061/rl-video-episode-729.mp4.\n",
      "Moviepy - Writing video /Users/jonathanlamontange-kratz/Documents/GitHub/rl-stuff/ppo/videos/1709520406.106061/rl-video-episode-729.mp4\n",
      "\n"
     ]
    },
    {
     "name": "stderr",
     "output_type": "stream",
     "text": [
      "                                                               \r"
     ]
    },
    {
     "name": "stdout",
     "output_type": "stream",
     "text": [
      "Moviepy - Done !\n",
      "Moviepy - video ready /Users/jonathanlamontange-kratz/Documents/GitHub/rl-stuff/ppo/videos/1709520406.106061/rl-video-episode-729.mp4\n",
      "score:  209.0\n",
      "score:  170.0\n",
      "score:  136.0\n",
      "score:  174.0\n",
      "score:  193.0\n",
      "score:  165.0\n",
      "score:  158.0\n",
      "score:  237.0\n",
      "score:  146.0\n",
      "score:  405.0\n",
      "score:  155.0\n",
      "score:  174.0\n",
      "score:  265.0\n",
      "score:  179.0\n",
      "Moviepy - Building video /Users/jonathanlamontange-kratz/Documents/GitHub/rl-stuff/ppo/videos/1709520406.106061/rl-video-episode-343.mp4.\n",
      "Moviepy - Writing video /Users/jonathanlamontange-kratz/Documents/GitHub/rl-stuff/ppo/videos/1709520406.106061/rl-video-episode-343.mp4\n",
      "\n"
     ]
    },
    {
     "name": "stderr",
     "output_type": "stream",
     "text": [
      "                                                               \r"
     ]
    },
    {
     "name": "stdout",
     "output_type": "stream",
     "text": [
      "Moviepy - Done !\n",
      "Moviepy - video ready /Users/jonathanlamontange-kratz/Documents/GitHub/rl-stuff/ppo/videos/1709520406.106061/rl-video-episode-343.mp4\n",
      "score:  305.0\n",
      "score:  327.0\n",
      "score:  159.0\n",
      "score:  339.0\n",
      "score:  135.0\n",
      "score:  144.0\n",
      "score:  332.0\n",
      "score:  500.0\n",
      "score:  128.0\n",
      "score:  219.0\n",
      "score:  229.0\n",
      "score:  289.0\n",
      "score:  151.0\n",
      "score:  184.0\n",
      "score:  174.0\n",
      "score:  153.0\n",
      "score:  172.0\n",
      "score:  290.0\n",
      "score:  473.0\n",
      "score:  266.0\n",
      "score:  166.0\n",
      "Moviepy - Building video /Users/jonathanlamontange-kratz/Documents/GitHub/rl-stuff/ppo/videos/1709520406.106061/rl-video-episode-64.mp4.\n",
      "Moviepy - Writing video /Users/jonathanlamontange-kratz/Documents/GitHub/rl-stuff/ppo/videos/1709520406.106061/rl-video-episode-64.mp4\n",
      "\n"
     ]
    },
    {
     "name": "stderr",
     "output_type": "stream",
     "text": [
      "                                                               \r"
     ]
    },
    {
     "name": "stdout",
     "output_type": "stream",
     "text": [
      "Moviepy - Done !\n",
      "Moviepy - video ready /Users/jonathanlamontange-kratz/Documents/GitHub/rl-stuff/ppo/videos/1709520406.106061/rl-video-episode-64.mp4\n",
      "score:  292.0\n",
      "score:  125.0\n",
      "score:  185.0\n",
      "score:  243.0\n",
      "score:  207.0\n",
      "score:  177.0\n",
      "score:  408.0\n",
      "score:  154.0\n",
      "score:  155.0\n",
      "score:  135.0\n",
      "score:  160.0\n",
      "score:  146.0\n",
      "score:  155.0\n",
      "score:  158.0\n",
      "score:  136.0\n",
      "score:  164.0\n",
      "score:  187.0\n",
      "score:  183.0\n",
      "score:  253.0\n",
      "score:  186.0\n",
      "score:  190.0\n",
      "score:  213.0\n",
      "score:  188.0\n",
      "score:  189.0\n",
      "score:  224.0\n",
      "score:  196.0\n",
      "score:  152.0\n",
      "score:  200.0\n",
      "score:  195.0\n",
      "score:  157.0\n",
      "score:  135.0\n",
      "score:  178.0\n",
      "score:  446.0\n",
      "score:  133.0\n",
      "score:  200.0\n",
      "score:  181.0\n"
     ]
    },
    {
     "name": "stderr",
     "output_type": "stream",
     "text": [
      "/Users/jonathanlamontange-kratz/Library/Python/3.9/lib/python/site-packages/gymnasium/wrappers/record_video.py:94: UserWarning: \u001b[33mWARN: Overwriting existing videos at /Users/jonathanlamontange-kratz/Documents/GitHub/rl-stuff/ppo/videos/1709520406.106061 folder (try specifying a different `video_folder` for the `RecordVideo` wrapper if this is not desired)\u001b[0m\n",
      "  logger.warn(\n"
     ]
    },
    {
     "name": "stdout",
     "output_type": "stream",
     "text": [
      "Moviepy - Building video /Users/jonathanlamontange-kratz/Documents/GitHub/rl-stuff/ppo/videos/1709520406.106061/rl-video-episode-2000.mp4.\n",
      "Moviepy - Writing video /Users/jonathanlamontange-kratz/Documents/GitHub/rl-stuff/ppo/videos/1709520406.106061/rl-video-episode-2000.mp4\n",
      "\n"
     ]
    },
    {
     "name": "stderr",
     "output_type": "stream",
     "text": [
      "                                                               \r"
     ]
    },
    {
     "name": "stdout",
     "output_type": "stream",
     "text": [
      "Moviepy - Done !\n",
      "Moviepy - video ready /Users/jonathanlamontange-kratz/Documents/GitHub/rl-stuff/ppo/videos/1709520406.106061/rl-video-episode-2000.mp4\n",
      "Moviepy - Building video /Users/jonathanlamontange-kratz/Documents/GitHub/rl-stuff/ppo/videos/1709520406.106061/rl-video-episode-1000.mp4.\n",
      "Moviepy - Writing video /Users/jonathanlamontange-kratz/Documents/GitHub/rl-stuff/ppo/videos/1709520406.106061/rl-video-episode-1000.mp4\n",
      "\n"
     ]
    },
    {
     "name": "stderr",
     "output_type": "stream",
     "text": [
      "                                                               \r"
     ]
    },
    {
     "name": "stdout",
     "output_type": "stream",
     "text": [
      "Moviepy - Done !\n",
      "Moviepy - video ready /Users/jonathanlamontange-kratz/Documents/GitHub/rl-stuff/ppo/videos/1709520406.106061/rl-video-episode-1000.mp4\n",
      "Moviepy - Building video /Users/jonathanlamontange-kratz/Documents/GitHub/rl-stuff/ppo/videos/1709520406.106061/rl-video-episode-0.mp4.\n",
      "Moviepy - Writing video /Users/jonathanlamontange-kratz/Documents/GitHub/rl-stuff/ppo/videos/1709520406.106061/rl-video-episode-0.mp4\n",
      "\n"
     ]
    },
    {
     "name": "stderr",
     "output_type": "stream",
     "text": [
      "                                                               \r"
     ]
    },
    {
     "name": "stdout",
     "output_type": "stream",
     "text": [
      "Moviepy - Done !\n",
      "Moviepy - video ready /Users/jonathanlamontange-kratz/Documents/GitHub/rl-stuff/ppo/videos/1709520406.106061/rl-video-episode-0.mp4\n",
      "score:  186.0\n",
      "WARNING:tensorflow:Model's `__init__()` arguments contain non-serializable objects. Please implement a `get_config()` method in the subclassed Model for proper saving and loading. Defaulting to empty config.\n",
      "WARNING:tensorflow:Model's `__init__()` arguments contain non-serializable objects. Please implement a `get_config()` method in the subclassed Model for proper saving and loading. Defaulting to empty config.\n",
      "WARNING:tensorflow:Model's `__init__()` arguments contain non-serializable objects. Please implement a `get_config()` method in the subclassed Model for proper saving and loading. Defaulting to empty config.\n",
      "WARNING:tensorflow:Model's `__init__()` arguments contain non-serializable objects. Please implement a `get_config()` method in the subclassed Model for proper saving and loading. Defaulting to empty config.\n",
      "WARNING:tensorflow:Model's `__init__()` arguments contain non-serializable objects. Please implement a `get_config()` method in the subclassed Model for proper saving and loading. Defaulting to empty config.\n",
      "WARNING:tensorflow:Model's `__init__()` arguments contain non-serializable objects. Please implement a `get_config()` method in the subclassed Model for proper saving and loading. Defaulting to empty config.\n",
      "Early stopping at iteration 0\n",
      "Early stopping at iteration 1\n",
      "Early stopping at iteration 2\n",
      "Early stopping at iteration 3\n",
      "Early stopping at iteration 4\n",
      "Moviepy - Building video /Users/jonathanlamontange-kratz/Documents/GitHub/rl-stuff/ppo/videos/1709520406.106061/rl-video-episode-1.mp4.\n",
      "Moviepy - Writing video /Users/jonathanlamontange-kratz/Documents/GitHub/rl-stuff/ppo/videos/1709520406.106061/rl-video-episode-1.mp4\n",
      "\n"
     ]
    },
    {
     "name": "stderr",
     "output_type": "stream",
     "text": [
      "                                                               \r"
     ]
    },
    {
     "name": "stdout",
     "output_type": "stream",
     "text": [
      "Moviepy - Done !\n",
      "Moviepy - video ready /Users/jonathanlamontange-kratz/Documents/GitHub/rl-stuff/ppo/videos/1709520406.106061/rl-video-episode-1.mp4\n",
      "score:  162.0\n",
      "score:  148.0\n",
      "score:  291.0\n",
      "score:  247.0\n",
      "score:  186.0\n",
      "score:  131.0\n",
      "score:  332.0\n",
      "Moviepy - Building video /Users/jonathanlamontange-kratz/Documents/GitHub/rl-stuff/ppo/videos/1709520406.106061/rl-video-episode-8.mp4.\n",
      "Moviepy - Writing video /Users/jonathanlamontange-kratz/Documents/GitHub/rl-stuff/ppo/videos/1709520406.106061/rl-video-episode-8.mp4\n",
      "\n"
     ]
    },
    {
     "name": "stderr",
     "output_type": "stream",
     "text": [
      "                                                               \r"
     ]
    },
    {
     "name": "stdout",
     "output_type": "stream",
     "text": [
      "Moviepy - Done !\n",
      "Moviepy - video ready /Users/jonathanlamontange-kratz/Documents/GitHub/rl-stuff/ppo/videos/1709520406.106061/rl-video-episode-8.mp4\n",
      "score:  146.0\n",
      "score:  197.0\n",
      "score:  136.0\n",
      "score:  134.0\n",
      "Moviepy - Building video /Users/jonathanlamontange-kratz/Documents/GitHub/rl-stuff/ppo/videos/1709520406.106061/rl-video-episode-512.mp4.\n",
      "Moviepy - Writing video /Users/jonathanlamontange-kratz/Documents/GitHub/rl-stuff/ppo/videos/1709520406.106061/rl-video-episode-512.mp4\n",
      "\n"
     ]
    },
    {
     "name": "stderr",
     "output_type": "stream",
     "text": [
      "                                                               \r"
     ]
    },
    {
     "name": "stdout",
     "output_type": "stream",
     "text": [
      "Moviepy - Done !\n",
      "Moviepy - video ready /Users/jonathanlamontange-kratz/Documents/GitHub/rl-stuff/ppo/videos/1709520406.106061/rl-video-episode-512.mp4\n",
      "score:  163.0\n",
      "score:  185.0\n",
      "score:  135.0\n",
      "score:  202.0\n",
      "Moviepy - Building video /Users/jonathanlamontange-kratz/Documents/GitHub/rl-stuff/ppo/videos/1709520406.106061/rl-video-episode-216.mp4.\n",
      "Moviepy - Writing video /Users/jonathanlamontange-kratz/Documents/GitHub/rl-stuff/ppo/videos/1709520406.106061/rl-video-episode-216.mp4\n",
      "\n"
     ]
    },
    {
     "name": "stderr",
     "output_type": "stream",
     "text": [
      "                                                                \r"
     ]
    },
    {
     "name": "stdout",
     "output_type": "stream",
     "text": [
      "Moviepy - Done !\n",
      "Moviepy - video ready /Users/jonathanlamontange-kratz/Documents/GitHub/rl-stuff/ppo/videos/1709520406.106061/rl-video-episode-216.mp4\n",
      "score:  312.0\n",
      "score:  173.0\n",
      "score:  175.0\n",
      "score:  172.0\n",
      "score:  124.0\n",
      "score:  142.0\n",
      "score:  238.0\n",
      "score:  197.0\n",
      "score:  175.0\n",
      "Moviepy - Building video /Users/jonathanlamontange-kratz/Documents/GitHub/rl-stuff/ppo/videos/1709520406.106061/rl-video-episode-125.mp4.\n",
      "Moviepy - Writing video /Users/jonathanlamontange-kratz/Documents/GitHub/rl-stuff/ppo/videos/1709520406.106061/rl-video-episode-125.mp4\n",
      "\n"
     ]
    },
    {
     "name": "stderr",
     "output_type": "stream",
     "text": [
      "                                                              \r"
     ]
    },
    {
     "name": "stdout",
     "output_type": "stream",
     "text": [
      "Moviepy - Done !\n",
      "Moviepy - video ready /Users/jonathanlamontange-kratz/Documents/GitHub/rl-stuff/ppo/videos/1709520406.106061/rl-video-episode-125.mp4\n",
      "score:  136.0\n",
      "score:  138.0\n",
      "Moviepy - Building video /Users/jonathanlamontange-kratz/Documents/GitHub/rl-stuff/ppo/videos/1709520406.106061/rl-video-episode-27.mp4.\n",
      "Moviepy - Writing video /Users/jonathanlamontange-kratz/Documents/GitHub/rl-stuff/ppo/videos/1709520406.106061/rl-video-episode-27.mp4\n",
      "\n"
     ]
    },
    {
     "name": "stderr",
     "output_type": "stream",
     "text": [
      "                                                               \r"
     ]
    },
    {
     "name": "stdout",
     "output_type": "stream",
     "text": [
      "Moviepy - Done !\n",
      "Moviepy - video ready /Users/jonathanlamontange-kratz/Documents/GitHub/rl-stuff/ppo/videos/1709520406.106061/rl-video-episode-27.mp4\n",
      "score:  123.0\n",
      "score:  166.0\n",
      "Moviepy - Building video /Users/jonathanlamontange-kratz/Documents/GitHub/rl-stuff/ppo/videos/1709520406.106061/rl-video-episode-729.mp4.\n",
      "Moviepy - Writing video /Users/jonathanlamontange-kratz/Documents/GitHub/rl-stuff/ppo/videos/1709520406.106061/rl-video-episode-729.mp4\n",
      "\n"
     ]
    },
    {
     "name": "stderr",
     "output_type": "stream",
     "text": [
      "                                                               \r"
     ]
    },
    {
     "name": "stdout",
     "output_type": "stream",
     "text": [
      "Moviepy - Done !\n",
      "Moviepy - video ready /Users/jonathanlamontange-kratz/Documents/GitHub/rl-stuff/ppo/videos/1709520406.106061/rl-video-episode-729.mp4\n",
      "score:  255.0\n",
      "score:  332.0\n",
      "score:  232.0\n",
      "score:  143.0\n",
      "score:  125.0\n",
      "score:  168.0\n",
      "score:  159.0\n",
      "score:  150.0\n",
      "score:  190.0\n",
      "score:  175.0\n",
      "score:  188.0\n",
      "score:  153.0\n",
      "score:  270.0\n",
      "score:  482.0\n",
      "Moviepy - Building video /Users/jonathanlamontange-kratz/Documents/GitHub/rl-stuff/ppo/videos/1709520406.106061/rl-video-episode-343.mp4.\n",
      "Moviepy - Writing video /Users/jonathanlamontange-kratz/Documents/GitHub/rl-stuff/ppo/videos/1709520406.106061/rl-video-episode-343.mp4\n",
      "\n"
     ]
    },
    {
     "name": "stderr",
     "output_type": "stream",
     "text": [
      "                                                               \r"
     ]
    },
    {
     "name": "stdout",
     "output_type": "stream",
     "text": [
      "Moviepy - Done !\n",
      "Moviepy - video ready /Users/jonathanlamontange-kratz/Documents/GitHub/rl-stuff/ppo/videos/1709520406.106061/rl-video-episode-343.mp4\n",
      "score:  140.0\n",
      "score:  208.0\n",
      "score:  217.0\n",
      "score:  151.0\n",
      "score:  300.0\n",
      "score:  158.0\n",
      "score:  296.0\n",
      "score:  159.0\n",
      "score:  130.0\n",
      "score:  169.0\n",
      "score:  151.0\n",
      "score:  208.0\n",
      "score:  146.0\n",
      "score:  140.0\n",
      "score:  139.0\n",
      "score:  149.0\n",
      "score:  182.0\n",
      "score:  137.0\n",
      "score:  129.0\n",
      "score:  176.0\n",
      "score:  156.0\n",
      "Moviepy - Building video /Users/jonathanlamontange-kratz/Documents/GitHub/rl-stuff/ppo/videos/1709520406.106061/rl-video-episode-64.mp4.\n",
      "Moviepy - Writing video /Users/jonathanlamontange-kratz/Documents/GitHub/rl-stuff/ppo/videos/1709520406.106061/rl-video-episode-64.mp4\n",
      "\n"
     ]
    },
    {
     "name": "stderr",
     "output_type": "stream",
     "text": [
      "                                                               \r"
     ]
    },
    {
     "name": "stdout",
     "output_type": "stream",
     "text": [
      "Moviepy - Done !\n",
      "Moviepy - video ready /Users/jonathanlamontange-kratz/Documents/GitHub/rl-stuff/ppo/videos/1709520406.106061/rl-video-episode-64.mp4\n",
      "score:  146.0\n",
      "score:  154.0\n",
      "score:  395.0\n",
      "score:  134.0\n",
      "score:  500.0\n",
      "score:  248.0\n",
      "score:  240.0\n",
      "score:  190.0\n",
      "score:  206.0\n",
      "score:  408.0\n",
      "score:  153.0\n",
      "score:  232.0\n",
      "score:  229.0\n",
      "score:  168.0\n",
      "score:  453.0\n",
      "score:  162.0\n",
      "score:  120.0\n",
      "score:  152.0\n",
      "score:  163.0\n",
      "score:  138.0\n",
      "score:  264.0\n",
      "score:  127.0\n",
      "score:  239.0\n",
      "score:  172.0\n",
      "score:  199.0\n",
      "score:  169.0\n",
      "score:  202.0\n",
      "score:  143.0\n",
      "score:  242.0\n",
      "score:  195.0\n",
      "score:  156.0\n",
      "score:  138.0\n",
      "score:  122.0\n",
      "score:  190.0\n",
      "score:  176.0\n",
      "score:  220.0\n"
     ]
    },
    {
     "name": "stderr",
     "output_type": "stream",
     "text": [
      "/Users/jonathanlamontange-kratz/Library/Python/3.9/lib/python/site-packages/gymnasium/wrappers/record_video.py:94: UserWarning: \u001b[33mWARN: Overwriting existing videos at /Users/jonathanlamontange-kratz/Documents/GitHub/rl-stuff/ppo/videos/1709520406.106061 folder (try specifying a different `video_folder` for the `RecordVideo` wrapper if this is not desired)\u001b[0m\n",
      "  logger.warn(\n"
     ]
    },
    {
     "name": "stdout",
     "output_type": "stream",
     "text": [
      "Moviepy - Building video /Users/jonathanlamontange-kratz/Documents/GitHub/rl-stuff/ppo/videos/1709520406.106061/rl-video-episode-2000.mp4.\n",
      "Moviepy - Writing video /Users/jonathanlamontange-kratz/Documents/GitHub/rl-stuff/ppo/videos/1709520406.106061/rl-video-episode-2000.mp4\n",
      "\n"
     ]
    },
    {
     "name": "stderr",
     "output_type": "stream",
     "text": [
      "                                                               \r"
     ]
    },
    {
     "name": "stdout",
     "output_type": "stream",
     "text": [
      "Moviepy - Done !\n",
      "Moviepy - video ready /Users/jonathanlamontange-kratz/Documents/GitHub/rl-stuff/ppo/videos/1709520406.106061/rl-video-episode-2000.mp4\n",
      "Moviepy - Building video /Users/jonathanlamontange-kratz/Documents/GitHub/rl-stuff/ppo/videos/1709520406.106061/rl-video-episode-1000.mp4.\n",
      "Moviepy - Writing video /Users/jonathanlamontange-kratz/Documents/GitHub/rl-stuff/ppo/videos/1709520406.106061/rl-video-episode-1000.mp4\n",
      "\n"
     ]
    },
    {
     "name": "stderr",
     "output_type": "stream",
     "text": [
      "                                                               \r"
     ]
    },
    {
     "name": "stdout",
     "output_type": "stream",
     "text": [
      "Moviepy - Done !\n",
      "Moviepy - video ready /Users/jonathanlamontange-kratz/Documents/GitHub/rl-stuff/ppo/videos/1709520406.106061/rl-video-episode-1000.mp4\n",
      "Moviepy - Building video /Users/jonathanlamontange-kratz/Documents/GitHub/rl-stuff/ppo/videos/1709520406.106061/rl-video-episode-0.mp4.\n",
      "Moviepy - Writing video /Users/jonathanlamontange-kratz/Documents/GitHub/rl-stuff/ppo/videos/1709520406.106061/rl-video-episode-0.mp4\n",
      "\n"
     ]
    },
    {
     "name": "stderr",
     "output_type": "stream",
     "text": [
      "                                                               \r"
     ]
    },
    {
     "name": "stdout",
     "output_type": "stream",
     "text": [
      "Moviepy - Done !\n",
      "Moviepy - video ready /Users/jonathanlamontange-kratz/Documents/GitHub/rl-stuff/ppo/videos/1709520406.106061/rl-video-episode-0.mp4\n",
      "score:  250.0\n",
      "WARNING:tensorflow:Model's `__init__()` arguments contain non-serializable objects. Please implement a `get_config()` method in the subclassed Model for proper saving and loading. Defaulting to empty config.\n",
      "WARNING:tensorflow:Model's `__init__()` arguments contain non-serializable objects. Please implement a `get_config()` method in the subclassed Model for proper saving and loading. Defaulting to empty config.\n",
      "WARNING:tensorflow:Model's `__init__()` arguments contain non-serializable objects. Please implement a `get_config()` method in the subclassed Model for proper saving and loading. Defaulting to empty config.\n",
      "WARNING:tensorflow:Model's `__init__()` arguments contain non-serializable objects. Please implement a `get_config()` method in the subclassed Model for proper saving and loading. Defaulting to empty config.\n",
      "WARNING:tensorflow:Model's `__init__()` arguments contain non-serializable objects. Please implement a `get_config()` method in the subclassed Model for proper saving and loading. Defaulting to empty config.\n",
      "WARNING:tensorflow:Model's `__init__()` arguments contain non-serializable objects. Please implement a `get_config()` method in the subclassed Model for proper saving and loading. Defaulting to empty config.\n",
      "Early stopping at iteration 0\n",
      "Early stopping at iteration 1\n",
      "Early stopping at iteration 2\n",
      "Early stopping at iteration 3\n",
      "Early stopping at iteration 4\n",
      "Moviepy - Building video /Users/jonathanlamontange-kratz/Documents/GitHub/rl-stuff/ppo/videos/1709520406.106061/rl-video-episode-1.mp4.\n",
      "Moviepy - Writing video /Users/jonathanlamontange-kratz/Documents/GitHub/rl-stuff/ppo/videos/1709520406.106061/rl-video-episode-1.mp4\n",
      "\n"
     ]
    },
    {
     "name": "stderr",
     "output_type": "stream",
     "text": [
      "                                                               \r"
     ]
    },
    {
     "name": "stdout",
     "output_type": "stream",
     "text": [
      "Moviepy - Done !\n",
      "Moviepy - video ready /Users/jonathanlamontange-kratz/Documents/GitHub/rl-stuff/ppo/videos/1709520406.106061/rl-video-episode-1.mp4\n",
      "score:  238.0\n",
      "score:  325.0\n",
      "score:  195.0\n",
      "score:  139.0\n",
      "score:  227.0\n",
      "score:  180.0\n",
      "score:  143.0\n",
      "Moviepy - Building video /Users/jonathanlamontange-kratz/Documents/GitHub/rl-stuff/ppo/videos/1709520406.106061/rl-video-episode-8.mp4.\n",
      "Moviepy - Writing video /Users/jonathanlamontange-kratz/Documents/GitHub/rl-stuff/ppo/videos/1709520406.106061/rl-video-episode-8.mp4\n",
      "\n"
     ]
    },
    {
     "name": "stderr",
     "output_type": "stream",
     "text": [
      "                                                               \r"
     ]
    },
    {
     "name": "stdout",
     "output_type": "stream",
     "text": [
      "Moviepy - Done !\n",
      "Moviepy - video ready /Users/jonathanlamontange-kratz/Documents/GitHub/rl-stuff/ppo/videos/1709520406.106061/rl-video-episode-8.mp4\n",
      "score:  175.0\n",
      "score:  199.0\n",
      "score:  129.0\n",
      "score:  174.0\n",
      "Moviepy - Building video /Users/jonathanlamontange-kratz/Documents/GitHub/rl-stuff/ppo/videos/1709520406.106061/rl-video-episode-512.mp4.\n",
      "Moviepy - Writing video /Users/jonathanlamontange-kratz/Documents/GitHub/rl-stuff/ppo/videos/1709520406.106061/rl-video-episode-512.mp4\n",
      "\n"
     ]
    },
    {
     "name": "stderr",
     "output_type": "stream",
     "text": [
      "                                                               \r"
     ]
    },
    {
     "name": "stdout",
     "output_type": "stream",
     "text": [
      "Moviepy - Done !\n",
      "Moviepy - video ready /Users/jonathanlamontange-kratz/Documents/GitHub/rl-stuff/ppo/videos/1709520406.106061/rl-video-episode-512.mp4\n",
      "score:  215.0\n",
      "score:  232.0\n",
      "score:  166.0\n",
      "score:  161.0\n",
      "Moviepy - Building video /Users/jonathanlamontange-kratz/Documents/GitHub/rl-stuff/ppo/videos/1709520406.106061/rl-video-episode-216.mp4.\n",
      "Moviepy - Writing video /Users/jonathanlamontange-kratz/Documents/GitHub/rl-stuff/ppo/videos/1709520406.106061/rl-video-episode-216.mp4\n",
      "\n"
     ]
    },
    {
     "name": "stderr",
     "output_type": "stream",
     "text": [
      "                                                               \r"
     ]
    },
    {
     "name": "stdout",
     "output_type": "stream",
     "text": [
      "Moviepy - Done !\n",
      "Moviepy - video ready /Users/jonathanlamontange-kratz/Documents/GitHub/rl-stuff/ppo/videos/1709520406.106061/rl-video-episode-216.mp4\n",
      "score:  249.0\n",
      "score:  142.0\n",
      "score:  285.0\n",
      "score:  171.0\n",
      "score:  147.0\n",
      "score:  225.0\n",
      "score:  200.0\n",
      "score:  167.0\n",
      "score:  223.0\n",
      "Moviepy - Building video /Users/jonathanlamontange-kratz/Documents/GitHub/rl-stuff/ppo/videos/1709520406.106061/rl-video-episode-125.mp4.\n",
      "Moviepy - Writing video /Users/jonathanlamontange-kratz/Documents/GitHub/rl-stuff/ppo/videos/1709520406.106061/rl-video-episode-125.mp4\n",
      "\n"
     ]
    },
    {
     "name": "stderr",
     "output_type": "stream",
     "text": [
      "                                                               \r"
     ]
    },
    {
     "name": "stdout",
     "output_type": "stream",
     "text": [
      "Moviepy - Done !\n",
      "Moviepy - video ready /Users/jonathanlamontange-kratz/Documents/GitHub/rl-stuff/ppo/videos/1709520406.106061/rl-video-episode-125.mp4\n",
      "score:  316.0\n",
      "score:  156.0\n",
      "Moviepy - Building video /Users/jonathanlamontange-kratz/Documents/GitHub/rl-stuff/ppo/videos/1709520406.106061/rl-video-episode-27.mp4.\n",
      "Moviepy - Writing video /Users/jonathanlamontange-kratz/Documents/GitHub/rl-stuff/ppo/videos/1709520406.106061/rl-video-episode-27.mp4\n",
      "\n"
     ]
    },
    {
     "name": "stderr",
     "output_type": "stream",
     "text": [
      "                                                               \r"
     ]
    },
    {
     "name": "stdout",
     "output_type": "stream",
     "text": [
      "Moviepy - Done !\n",
      "Moviepy - video ready /Users/jonathanlamontange-kratz/Documents/GitHub/rl-stuff/ppo/videos/1709520406.106061/rl-video-episode-27.mp4\n",
      "score:  135.0\n",
      "score:  209.0\n",
      "Moviepy - Building video /Users/jonathanlamontange-kratz/Documents/GitHub/rl-stuff/ppo/videos/1709520406.106061/rl-video-episode-729.mp4.\n",
      "Moviepy - Writing video /Users/jonathanlamontange-kratz/Documents/GitHub/rl-stuff/ppo/videos/1709520406.106061/rl-video-episode-729.mp4\n",
      "\n"
     ]
    },
    {
     "name": "stderr",
     "output_type": "stream",
     "text": [
      "                                                               \r"
     ]
    },
    {
     "name": "stdout",
     "output_type": "stream",
     "text": [
      "Moviepy - Done !\n",
      "Moviepy - video ready /Users/jonathanlamontange-kratz/Documents/GitHub/rl-stuff/ppo/videos/1709520406.106061/rl-video-episode-729.mp4\n",
      "score:  174.0\n",
      "score:  147.0\n",
      "score:  157.0\n",
      "score:  266.0\n",
      "score:  134.0\n",
      "score:  185.0\n",
      "score:  130.0\n",
      "score:  168.0\n",
      "score:  308.0\n",
      "score:  256.0\n",
      "score:  166.0\n",
      "score:  160.0\n",
      "score:  157.0\n",
      "score:  139.0\n",
      "Moviepy - Building video /Users/jonathanlamontange-kratz/Documents/GitHub/rl-stuff/ppo/videos/1709520406.106061/rl-video-episode-343.mp4.\n",
      "Moviepy - Writing video /Users/jonathanlamontange-kratz/Documents/GitHub/rl-stuff/ppo/videos/1709520406.106061/rl-video-episode-343.mp4\n",
      "\n"
     ]
    },
    {
     "name": "stderr",
     "output_type": "stream",
     "text": [
      "                                                              \r"
     ]
    },
    {
     "name": "stdout",
     "output_type": "stream",
     "text": [
      "Moviepy - Done !\n",
      "Moviepy - video ready /Users/jonathanlamontange-kratz/Documents/GitHub/rl-stuff/ppo/videos/1709520406.106061/rl-video-episode-343.mp4\n",
      "score:  182.0\n",
      "score:  155.0\n",
      "score:  227.0\n",
      "score:  162.0\n",
      "score:  264.0\n",
      "score:  180.0\n",
      "score:  143.0\n",
      "score:  404.0\n",
      "score:  176.0\n",
      "score:  177.0\n",
      "score:  202.0\n",
      "score:  254.0\n",
      "score:  157.0\n",
      "score:  289.0\n",
      "score:  245.0\n",
      "score:  144.0\n",
      "score:  149.0\n",
      "score:  227.0\n",
      "score:  232.0\n",
      "score:  202.0\n",
      "score:  191.0\n",
      "Moviepy - Building video /Users/jonathanlamontange-kratz/Documents/GitHub/rl-stuff/ppo/videos/1709520406.106061/rl-video-episode-64.mp4.\n",
      "Moviepy - Writing video /Users/jonathanlamontange-kratz/Documents/GitHub/rl-stuff/ppo/videos/1709520406.106061/rl-video-episode-64.mp4\n",
      "\n"
     ]
    },
    {
     "name": "stderr",
     "output_type": "stream",
     "text": [
      "                                                               \r"
     ]
    },
    {
     "name": "stdout",
     "output_type": "stream",
     "text": [
      "Moviepy - Done !\n",
      "Moviepy - video ready /Users/jonathanlamontange-kratz/Documents/GitHub/rl-stuff/ppo/videos/1709520406.106061/rl-video-episode-64.mp4\n",
      "score:  193.0\n",
      "score:  154.0\n",
      "score:  192.0\n",
      "score:  251.0\n",
      "score:  168.0\n",
      "score:  173.0\n",
      "score:  157.0\n",
      "score:  304.0\n",
      "score:  250.0\n",
      "score:  182.0\n",
      "score:  161.0\n",
      "score:  173.0\n",
      "score:  146.0\n",
      "score:  170.0\n",
      "score:  155.0\n",
      "score:  252.0\n",
      "score:  202.0\n",
      "score:  171.0\n",
      "score:  170.0\n",
      "score:  216.0\n",
      "score:  201.0\n",
      "score:  156.0\n",
      "score:  306.0\n",
      "score:  185.0\n",
      "score:  154.0\n",
      "score:  158.0\n",
      "score:  192.0\n",
      "score:  249.0\n",
      "score:  205.0\n",
      "score:  132.0\n",
      "score:  229.0\n",
      "score:  227.0\n",
      "score:  171.0\n",
      "score:  184.0\n",
      "score:  260.0\n",
      "score:  280.0\n"
     ]
    },
    {
     "name": "stderr",
     "output_type": "stream",
     "text": [
      "/Users/jonathanlamontange-kratz/Library/Python/3.9/lib/python/site-packages/gymnasium/wrappers/record_video.py:94: UserWarning: \u001b[33mWARN: Overwriting existing videos at /Users/jonathanlamontange-kratz/Documents/GitHub/rl-stuff/ppo/videos/1709520406.106061 folder (try specifying a different `video_folder` for the `RecordVideo` wrapper if this is not desired)\u001b[0m\n",
      "  logger.warn(\n"
     ]
    },
    {
     "name": "stdout",
     "output_type": "stream",
     "text": [
      "Moviepy - Building video /Users/jonathanlamontange-kratz/Documents/GitHub/rl-stuff/ppo/videos/1709520406.106061/rl-video-episode-2000.mp4.\n",
      "Moviepy - Writing video /Users/jonathanlamontange-kratz/Documents/GitHub/rl-stuff/ppo/videos/1709520406.106061/rl-video-episode-2000.mp4\n",
      "\n"
     ]
    },
    {
     "name": "stderr",
     "output_type": "stream",
     "text": [
      "                                                              \r"
     ]
    },
    {
     "name": "stdout",
     "output_type": "stream",
     "text": [
      "Moviepy - Done !\n",
      "Moviepy - video ready /Users/jonathanlamontange-kratz/Documents/GitHub/rl-stuff/ppo/videos/1709520406.106061/rl-video-episode-2000.mp4\n",
      "Moviepy - Building video /Users/jonathanlamontange-kratz/Documents/GitHub/rl-stuff/ppo/videos/1709520406.106061/rl-video-episode-1000.mp4.\n",
      "Moviepy - Writing video /Users/jonathanlamontange-kratz/Documents/GitHub/rl-stuff/ppo/videos/1709520406.106061/rl-video-episode-1000.mp4\n",
      "\n"
     ]
    },
    {
     "name": "stderr",
     "output_type": "stream",
     "text": [
      "                                                               \r"
     ]
    },
    {
     "name": "stdout",
     "output_type": "stream",
     "text": [
      "Moviepy - Done !\n",
      "Moviepy - video ready /Users/jonathanlamontange-kratz/Documents/GitHub/rl-stuff/ppo/videos/1709520406.106061/rl-video-episode-1000.mp4\n",
      "Moviepy - Building video /Users/jonathanlamontange-kratz/Documents/GitHub/rl-stuff/ppo/videos/1709520406.106061/rl-video-episode-0.mp4.\n",
      "Moviepy - Writing video /Users/jonathanlamontange-kratz/Documents/GitHub/rl-stuff/ppo/videos/1709520406.106061/rl-video-episode-0.mp4\n",
      "\n"
     ]
    },
    {
     "name": "stderr",
     "output_type": "stream",
     "text": [
      "                                                               \r"
     ]
    },
    {
     "name": "stdout",
     "output_type": "stream",
     "text": [
      "Moviepy - Done !\n",
      "Moviepy - video ready /Users/jonathanlamontange-kratz/Documents/GitHub/rl-stuff/ppo/videos/1709520406.106061/rl-video-episode-0.mp4\n",
      "score:  203.0\n",
      "WARNING:tensorflow:Model's `__init__()` arguments contain non-serializable objects. Please implement a `get_config()` method in the subclassed Model for proper saving and loading. Defaulting to empty config.\n",
      "WARNING:tensorflow:Model's `__init__()` arguments contain non-serializable objects. Please implement a `get_config()` method in the subclassed Model for proper saving and loading. Defaulting to empty config.\n",
      "WARNING:tensorflow:Model's `__init__()` arguments contain non-serializable objects. Please implement a `get_config()` method in the subclassed Model for proper saving and loading. Defaulting to empty config.\n",
      "WARNING:tensorflow:Model's `__init__()` arguments contain non-serializable objects. Please implement a `get_config()` method in the subclassed Model for proper saving and loading. Defaulting to empty config.\n",
      "WARNING:tensorflow:Model's `__init__()` arguments contain non-serializable objects. Please implement a `get_config()` method in the subclassed Model for proper saving and loading. Defaulting to empty config.\n",
      "WARNING:tensorflow:Model's `__init__()` arguments contain non-serializable objects. Please implement a `get_config()` method in the subclassed Model for proper saving and loading. Defaulting to empty config.\n",
      "Your agent has achieved the env's reward threshold.\n",
      "Early stopping at iteration 0\n",
      "Early stopping at iteration 1\n",
      "Early stopping at iteration 2\n",
      "Early stopping at iteration 3\n",
      "Early stopping at iteration 4\n",
      "Moviepy - Building video /Users/jonathanlamontange-kratz/Documents/GitHub/rl-stuff/ppo/videos/1709520406.106061/rl-video-episode-1.mp4.\n",
      "Moviepy - Writing video /Users/jonathanlamontange-kratz/Documents/GitHub/rl-stuff/ppo/videos/1709520406.106061/rl-video-episode-1.mp4\n",
      "\n"
     ]
    },
    {
     "name": "stderr",
     "output_type": "stream",
     "text": [
      "                                                               \r"
     ]
    },
    {
     "name": "stdout",
     "output_type": "stream",
     "text": [
      "Moviepy - Done !\n",
      "Moviepy - video ready /Users/jonathanlamontange-kratz/Documents/GitHub/rl-stuff/ppo/videos/1709520406.106061/rl-video-episode-1.mp4\n",
      "score:  280.0\n",
      "score:  143.0\n",
      "score:  193.0\n",
      "score:  349.0\n",
      "score:  225.0\n",
      "score:  171.0\n",
      "score:  193.0\n",
      "Moviepy - Building video /Users/jonathanlamontange-kratz/Documents/GitHub/rl-stuff/ppo/videos/1709520406.106061/rl-video-episode-8.mp4.\n",
      "Moviepy - Writing video /Users/jonathanlamontange-kratz/Documents/GitHub/rl-stuff/ppo/videos/1709520406.106061/rl-video-episode-8.mp4\n",
      "\n"
     ]
    },
    {
     "name": "stderr",
     "output_type": "stream",
     "text": [
      "                                                              \r"
     ]
    },
    {
     "name": "stdout",
     "output_type": "stream",
     "text": [
      "Moviepy - Done !\n",
      "Moviepy - video ready /Users/jonathanlamontange-kratz/Documents/GitHub/rl-stuff/ppo/videos/1709520406.106061/rl-video-episode-8.mp4\n",
      "score:  157.0\n",
      "score:  180.0\n",
      "score:  156.0\n",
      "score:  226.0\n",
      "Moviepy - Building video /Users/jonathanlamontange-kratz/Documents/GitHub/rl-stuff/ppo/videos/1709520406.106061/rl-video-episode-512.mp4.\n",
      "Moviepy - Writing video /Users/jonathanlamontange-kratz/Documents/GitHub/rl-stuff/ppo/videos/1709520406.106061/rl-video-episode-512.mp4\n",
      "\n"
     ]
    },
    {
     "name": "stderr",
     "output_type": "stream",
     "text": [
      "                                                               \r"
     ]
    },
    {
     "name": "stdout",
     "output_type": "stream",
     "text": [
      "Moviepy - Done !\n",
      "Moviepy - video ready /Users/jonathanlamontange-kratz/Documents/GitHub/rl-stuff/ppo/videos/1709520406.106061/rl-video-episode-512.mp4\n",
      "score:  196.0\n",
      "score:  306.0\n",
      "score:  159.0\n",
      "score:  228.0\n",
      "Moviepy - Building video /Users/jonathanlamontange-kratz/Documents/GitHub/rl-stuff/ppo/videos/1709520406.106061/rl-video-episode-216.mp4.\n",
      "Moviepy - Writing video /Users/jonathanlamontange-kratz/Documents/GitHub/rl-stuff/ppo/videos/1709520406.106061/rl-video-episode-216.mp4\n",
      "\n"
     ]
    },
    {
     "name": "stderr",
     "output_type": "stream",
     "text": [
      "                                                               \r"
     ]
    },
    {
     "name": "stdout",
     "output_type": "stream",
     "text": [
      "Moviepy - Done !\n",
      "Moviepy - video ready /Users/jonathanlamontange-kratz/Documents/GitHub/rl-stuff/ppo/videos/1709520406.106061/rl-video-episode-216.mp4\n",
      "score:  146.0\n",
      "score:  192.0\n",
      "score:  232.0\n",
      "score:  402.0\n",
      "score:  124.0\n",
      "score:  266.0\n",
      "score:  141.0\n",
      "score:  171.0\n",
      "score:  312.0\n",
      "Moviepy - Building video /Users/jonathanlamontange-kratz/Documents/GitHub/rl-stuff/ppo/videos/1709520406.106061/rl-video-episode-125.mp4.\n",
      "Moviepy - Writing video /Users/jonathanlamontange-kratz/Documents/GitHub/rl-stuff/ppo/videos/1709520406.106061/rl-video-episode-125.mp4\n",
      "\n"
     ]
    },
    {
     "name": "stderr",
     "output_type": "stream",
     "text": [
      "                                                               \r"
     ]
    },
    {
     "name": "stdout",
     "output_type": "stream",
     "text": [
      "Moviepy - Done !\n",
      "Moviepy - video ready /Users/jonathanlamontange-kratz/Documents/GitHub/rl-stuff/ppo/videos/1709520406.106061/rl-video-episode-125.mp4\n",
      "score:  214.0\n",
      "score:  213.0\n",
      "Moviepy - Building video /Users/jonathanlamontange-kratz/Documents/GitHub/rl-stuff/ppo/videos/1709520406.106061/rl-video-episode-27.mp4.\n",
      "Moviepy - Writing video /Users/jonathanlamontange-kratz/Documents/GitHub/rl-stuff/ppo/videos/1709520406.106061/rl-video-episode-27.mp4\n",
      "\n"
     ]
    },
    {
     "name": "stderr",
     "output_type": "stream",
     "text": [
      "                                                               \r"
     ]
    },
    {
     "name": "stdout",
     "output_type": "stream",
     "text": [
      "Moviepy - Done !\n",
      "Moviepy - video ready /Users/jonathanlamontange-kratz/Documents/GitHub/rl-stuff/ppo/videos/1709520406.106061/rl-video-episode-27.mp4\n",
      "score:  152.0\n",
      "score:  156.0\n",
      "Moviepy - Building video /Users/jonathanlamontange-kratz/Documents/GitHub/rl-stuff/ppo/videos/1709520406.106061/rl-video-episode-729.mp4.\n",
      "Moviepy - Writing video /Users/jonathanlamontange-kratz/Documents/GitHub/rl-stuff/ppo/videos/1709520406.106061/rl-video-episode-729.mp4\n",
      "\n"
     ]
    },
    {
     "name": "stderr",
     "output_type": "stream",
     "text": [
      "                                                              \r"
     ]
    },
    {
     "name": "stdout",
     "output_type": "stream",
     "text": [
      "Moviepy - Done !\n",
      "Moviepy - video ready /Users/jonathanlamontange-kratz/Documents/GitHub/rl-stuff/ppo/videos/1709520406.106061/rl-video-episode-729.mp4\n",
      "score:  145.0\n",
      "score:  190.0\n",
      "score:  147.0\n",
      "score:  186.0\n",
      "score:  187.0\n",
      "score:  141.0\n",
      "score:  165.0\n",
      "score:  159.0\n",
      "score:  406.0\n",
      "score:  349.0\n",
      "score:  244.0\n",
      "score:  209.0\n",
      "score:  152.0\n",
      "score:  172.0\n",
      "Moviepy - Building video /Users/jonathanlamontange-kratz/Documents/GitHub/rl-stuff/ppo/videos/1709520406.106061/rl-video-episode-343.mp4.\n",
      "Moviepy - Writing video /Users/jonathanlamontange-kratz/Documents/GitHub/rl-stuff/ppo/videos/1709520406.106061/rl-video-episode-343.mp4\n",
      "\n"
     ]
    },
    {
     "name": "stderr",
     "output_type": "stream",
     "text": [
      "                                                              \r"
     ]
    },
    {
     "name": "stdout",
     "output_type": "stream",
     "text": [
      "Moviepy - Done !\n",
      "Moviepy - video ready /Users/jonathanlamontange-kratz/Documents/GitHub/rl-stuff/ppo/videos/1709520406.106061/rl-video-episode-343.mp4\n",
      "score:  126.0\n",
      "score:  191.0\n",
      "score:  263.0\n",
      "score:  430.0\n",
      "score:  238.0\n",
      "score:  141.0\n",
      "score:  298.0\n",
      "score:  144.0\n",
      "score:  214.0\n",
      "score:  257.0\n",
      "score:  204.0\n",
      "score:  250.0\n",
      "score:  197.0\n",
      "score:  245.0\n",
      "score:  234.0\n",
      "score:  146.0\n",
      "score:  195.0\n",
      "score:  149.0\n",
      "score:  135.0\n",
      "score:  172.0\n",
      "score:  195.0\n",
      "Moviepy - Building video /Users/jonathanlamontange-kratz/Documents/GitHub/rl-stuff/ppo/videos/1709520406.106061/rl-video-episode-64.mp4.\n",
      "Moviepy - Writing video /Users/jonathanlamontange-kratz/Documents/GitHub/rl-stuff/ppo/videos/1709520406.106061/rl-video-episode-64.mp4\n",
      "\n"
     ]
    },
    {
     "name": "stderr",
     "output_type": "stream",
     "text": [
      "                                                               \r"
     ]
    },
    {
     "name": "stdout",
     "output_type": "stream",
     "text": [
      "Moviepy - Done !\n",
      "Moviepy - video ready /Users/jonathanlamontange-kratz/Documents/GitHub/rl-stuff/ppo/videos/1709520406.106061/rl-video-episode-64.mp4\n",
      "score:  208.0\n",
      "score:  192.0\n",
      "score:  196.0\n",
      "score:  198.0\n",
      "score:  183.0\n",
      "score:  190.0\n",
      "score:  129.0\n",
      "score:  155.0\n",
      "score:  269.0\n",
      "score:  272.0\n",
      "score:  251.0\n",
      "score:  302.0\n",
      "score:  152.0\n",
      "score:  147.0\n",
      "score:  318.0\n",
      "score:  150.0\n",
      "score:  359.0\n",
      "score:  500.0\n",
      "score:  177.0\n",
      "score:  141.0\n",
      "score:  202.0\n",
      "score:  248.0\n",
      "score:  325.0\n",
      "score:  178.0\n",
      "score:  299.0\n",
      "score:  187.0\n",
      "score:  189.0\n",
      "score:  260.0\n",
      "score:  140.0\n",
      "score:  149.0\n",
      "score:  159.0\n",
      "score:  155.0\n",
      "score:  169.0\n",
      "score:  157.0\n",
      "score:  191.0\n",
      "score:  195.0\n"
     ]
    },
    {
     "name": "stderr",
     "output_type": "stream",
     "text": [
      "/Users/jonathanlamontange-kratz/Library/Python/3.9/lib/python/site-packages/gymnasium/wrappers/record_video.py:94: UserWarning: \u001b[33mWARN: Overwriting existing videos at /Users/jonathanlamontange-kratz/Documents/GitHub/rl-stuff/ppo/videos/1709520406.106061 folder (try specifying a different `video_folder` for the `RecordVideo` wrapper if this is not desired)\u001b[0m\n",
      "  logger.warn(\n"
     ]
    },
    {
     "name": "stdout",
     "output_type": "stream",
     "text": [
      "Moviepy - Building video /Users/jonathanlamontange-kratz/Documents/GitHub/rl-stuff/ppo/videos/1709520406.106061/rl-video-episode-2000.mp4.\n",
      "Moviepy - Writing video /Users/jonathanlamontange-kratz/Documents/GitHub/rl-stuff/ppo/videos/1709520406.106061/rl-video-episode-2000.mp4\n",
      "\n"
     ]
    },
    {
     "name": "stderr",
     "output_type": "stream",
     "text": [
      "                                                               \r"
     ]
    },
    {
     "name": "stdout",
     "output_type": "stream",
     "text": [
      "Moviepy - Done !\n",
      "Moviepy - video ready /Users/jonathanlamontange-kratz/Documents/GitHub/rl-stuff/ppo/videos/1709520406.106061/rl-video-episode-2000.mp4\n",
      "Moviepy - Building video /Users/jonathanlamontange-kratz/Documents/GitHub/rl-stuff/ppo/videos/1709520406.106061/rl-video-episode-1000.mp4.\n",
      "Moviepy - Writing video /Users/jonathanlamontange-kratz/Documents/GitHub/rl-stuff/ppo/videos/1709520406.106061/rl-video-episode-1000.mp4\n",
      "\n"
     ]
    },
    {
     "name": "stderr",
     "output_type": "stream",
     "text": [
      "                                                               \r"
     ]
    },
    {
     "name": "stdout",
     "output_type": "stream",
     "text": [
      "Moviepy - Done !\n",
      "Moviepy - video ready /Users/jonathanlamontange-kratz/Documents/GitHub/rl-stuff/ppo/videos/1709520406.106061/rl-video-episode-1000.mp4\n",
      "Moviepy - Building video /Users/jonathanlamontange-kratz/Documents/GitHub/rl-stuff/ppo/videos/1709520406.106061/rl-video-episode-0.mp4.\n",
      "Moviepy - Writing video /Users/jonathanlamontange-kratz/Documents/GitHub/rl-stuff/ppo/videos/1709520406.106061/rl-video-episode-0.mp4\n",
      "\n"
     ]
    },
    {
     "name": "stderr",
     "output_type": "stream",
     "text": [
      "                                                               \r"
     ]
    },
    {
     "name": "stdout",
     "output_type": "stream",
     "text": [
      "Moviepy - Done !\n",
      "Moviepy - video ready /Users/jonathanlamontange-kratz/Documents/GitHub/rl-stuff/ppo/videos/1709520406.106061/rl-video-episode-0.mp4\n",
      "score:  239.0\n",
      "WARNING:tensorflow:Model's `__init__()` arguments contain non-serializable objects. Please implement a `get_config()` method in the subclassed Model for proper saving and loading. Defaulting to empty config.\n",
      "WARNING:tensorflow:Model's `__init__()` arguments contain non-serializable objects. Please implement a `get_config()` method in the subclassed Model for proper saving and loading. Defaulting to empty config.\n",
      "WARNING:tensorflow:Model's `__init__()` arguments contain non-serializable objects. Please implement a `get_config()` method in the subclassed Model for proper saving and loading. Defaulting to empty config.\n",
      "WARNING:tensorflow:Model's `__init__()` arguments contain non-serializable objects. Please implement a `get_config()` method in the subclassed Model for proper saving and loading. Defaulting to empty config.\n",
      "WARNING:tensorflow:Model's `__init__()` arguments contain non-serializable objects. Please implement a `get_config()` method in the subclassed Model for proper saving and loading. Defaulting to empty config.\n",
      "WARNING:tensorflow:Model's `__init__()` arguments contain non-serializable objects. Please implement a `get_config()` method in the subclassed Model for proper saving and loading. Defaulting to empty config.\n",
      "Early stopping at iteration 0\n",
      "Early stopping at iteration 1\n",
      "Early stopping at iteration 2\n",
      "Early stopping at iteration 3\n",
      "Early stopping at iteration 4\n",
      "Moviepy - Building video /Users/jonathanlamontange-kratz/Documents/GitHub/rl-stuff/ppo/videos/1709520406.106061/rl-video-episode-1.mp4.\n",
      "Moviepy - Writing video /Users/jonathanlamontange-kratz/Documents/GitHub/rl-stuff/ppo/videos/1709520406.106061/rl-video-episode-1.mp4\n",
      "\n"
     ]
    },
    {
     "name": "stderr",
     "output_type": "stream",
     "text": [
      "                                                              \r"
     ]
    },
    {
     "name": "stdout",
     "output_type": "stream",
     "text": [
      "Moviepy - Done !\n",
      "Moviepy - video ready /Users/jonathanlamontange-kratz/Documents/GitHub/rl-stuff/ppo/videos/1709520406.106061/rl-video-episode-1.mp4\n",
      "score:  168.0\n",
      "score:  168.0\n",
      "score:  172.0\n",
      "score:  390.0\n",
      "score:  161.0\n",
      "score:  171.0\n",
      "score:  224.0\n",
      "Moviepy - Building video /Users/jonathanlamontange-kratz/Documents/GitHub/rl-stuff/ppo/videos/1709520406.106061/rl-video-episode-8.mp4.\n",
      "Moviepy - Writing video /Users/jonathanlamontange-kratz/Documents/GitHub/rl-stuff/ppo/videos/1709520406.106061/rl-video-episode-8.mp4\n",
      "\n"
     ]
    },
    {
     "name": "stderr",
     "output_type": "stream",
     "text": [
      "                                                               \r"
     ]
    },
    {
     "name": "stdout",
     "output_type": "stream",
     "text": [
      "Moviepy - Done !\n",
      "Moviepy - video ready /Users/jonathanlamontange-kratz/Documents/GitHub/rl-stuff/ppo/videos/1709520406.106061/rl-video-episode-8.mp4\n",
      "score:  158.0\n",
      "score:  158.0\n",
      "score:  133.0\n",
      "score:  187.0\n",
      "Moviepy - Building video /Users/jonathanlamontange-kratz/Documents/GitHub/rl-stuff/ppo/videos/1709520406.106061/rl-video-episode-512.mp4.\n",
      "Moviepy - Writing video /Users/jonathanlamontange-kratz/Documents/GitHub/rl-stuff/ppo/videos/1709520406.106061/rl-video-episode-512.mp4\n",
      "\n"
     ]
    },
    {
     "name": "stderr",
     "output_type": "stream",
     "text": [
      "                                                               \r"
     ]
    },
    {
     "name": "stdout",
     "output_type": "stream",
     "text": [
      "Moviepy - Done !\n",
      "Moviepy - video ready /Users/jonathanlamontange-kratz/Documents/GitHub/rl-stuff/ppo/videos/1709520406.106061/rl-video-episode-512.mp4\n",
      "score:  187.0\n",
      "score:  188.0\n",
      "score:  163.0\n",
      "score:  163.0\n",
      "Moviepy - Building video /Users/jonathanlamontange-kratz/Documents/GitHub/rl-stuff/ppo/videos/1709520406.106061/rl-video-episode-216.mp4.\n",
      "Moviepy - Writing video /Users/jonathanlamontange-kratz/Documents/GitHub/rl-stuff/ppo/videos/1709520406.106061/rl-video-episode-216.mp4\n",
      "\n"
     ]
    },
    {
     "name": "stderr",
     "output_type": "stream",
     "text": [
      "                                                               \r"
     ]
    },
    {
     "name": "stdout",
     "output_type": "stream",
     "text": [
      "Moviepy - Done !\n",
      "Moviepy - video ready /Users/jonathanlamontange-kratz/Documents/GitHub/rl-stuff/ppo/videos/1709520406.106061/rl-video-episode-216.mp4\n",
      "score:  230.0\n",
      "score:  245.0\n",
      "score:  170.0\n",
      "score:  257.0\n",
      "score:  190.0\n",
      "score:  239.0\n",
      "score:  206.0\n",
      "score:  217.0\n",
      "score:  208.0\n",
      "Moviepy - Building video /Users/jonathanlamontange-kratz/Documents/GitHub/rl-stuff/ppo/videos/1709520406.106061/rl-video-episode-125.mp4.\n",
      "Moviepy - Writing video /Users/jonathanlamontange-kratz/Documents/GitHub/rl-stuff/ppo/videos/1709520406.106061/rl-video-episode-125.mp4\n",
      "\n"
     ]
    },
    {
     "name": "stderr",
     "output_type": "stream",
     "text": [
      "                                                               \r"
     ]
    },
    {
     "name": "stdout",
     "output_type": "stream",
     "text": [
      "Moviepy - Done !\n",
      "Moviepy - video ready /Users/jonathanlamontange-kratz/Documents/GitHub/rl-stuff/ppo/videos/1709520406.106061/rl-video-episode-125.mp4\n",
      "score:  183.0\n",
      "score:  147.0\n",
      "Moviepy - Building video /Users/jonathanlamontange-kratz/Documents/GitHub/rl-stuff/ppo/videos/1709520406.106061/rl-video-episode-27.mp4.\n",
      "Moviepy - Writing video /Users/jonathanlamontange-kratz/Documents/GitHub/rl-stuff/ppo/videos/1709520406.106061/rl-video-episode-27.mp4\n",
      "\n"
     ]
    },
    {
     "name": "stderr",
     "output_type": "stream",
     "text": [
      "                                                               \r"
     ]
    },
    {
     "name": "stdout",
     "output_type": "stream",
     "text": [
      "Moviepy - Done !\n",
      "Moviepy - video ready /Users/jonathanlamontange-kratz/Documents/GitHub/rl-stuff/ppo/videos/1709520406.106061/rl-video-episode-27.mp4\n",
      "score:  143.0\n",
      "score:  206.0\n",
      "Moviepy - Building video /Users/jonathanlamontange-kratz/Documents/GitHub/rl-stuff/ppo/videos/1709520406.106061/rl-video-episode-729.mp4.\n",
      "Moviepy - Writing video /Users/jonathanlamontange-kratz/Documents/GitHub/rl-stuff/ppo/videos/1709520406.106061/rl-video-episode-729.mp4\n",
      "\n"
     ]
    },
    {
     "name": "stderr",
     "output_type": "stream",
     "text": [
      "                                                               \r"
     ]
    },
    {
     "name": "stdout",
     "output_type": "stream",
     "text": [
      "Moviepy - Done !\n",
      "Moviepy - video ready /Users/jonathanlamontange-kratz/Documents/GitHub/rl-stuff/ppo/videos/1709520406.106061/rl-video-episode-729.mp4\n",
      "score:  169.0\n",
      "score:  171.0\n",
      "score:  161.0\n",
      "score:  175.0\n",
      "score:  162.0\n",
      "score:  189.0\n",
      "score:  383.0\n",
      "score:  199.0\n",
      "score:  236.0\n",
      "score:  155.0\n",
      "score:  162.0\n",
      "score:  421.0\n",
      "score:  193.0\n",
      "score:  137.0\n",
      "Moviepy - Building video /Users/jonathanlamontange-kratz/Documents/GitHub/rl-stuff/ppo/videos/1709520406.106061/rl-video-episode-343.mp4.\n",
      "Moviepy - Writing video /Users/jonathanlamontange-kratz/Documents/GitHub/rl-stuff/ppo/videos/1709520406.106061/rl-video-episode-343.mp4\n",
      "\n"
     ]
    },
    {
     "name": "stderr",
     "output_type": "stream",
     "text": [
      "                                                               \r"
     ]
    },
    {
     "name": "stdout",
     "output_type": "stream",
     "text": [
      "Moviepy - Done !\n",
      "Moviepy - video ready /Users/jonathanlamontange-kratz/Documents/GitHub/rl-stuff/ppo/videos/1709520406.106061/rl-video-episode-343.mp4\n",
      "score:  165.0\n",
      "score:  154.0\n",
      "score:  189.0\n",
      "score:  167.0\n",
      "score:  142.0\n",
      "score:  201.0\n",
      "score:  243.0\n",
      "score:  185.0\n",
      "score:  164.0\n",
      "score:  167.0\n",
      "score:  143.0\n",
      "score:  158.0\n",
      "score:  186.0\n",
      "score:  147.0\n",
      "score:  173.0\n",
      "score:  172.0\n",
      "score:  199.0\n",
      "score:  167.0\n",
      "score:  233.0\n",
      "score:  309.0\n",
      "score:  166.0\n",
      "Moviepy - Building video /Users/jonathanlamontange-kratz/Documents/GitHub/rl-stuff/ppo/videos/1709520406.106061/rl-video-episode-64.mp4.\n",
      "Moviepy - Writing video /Users/jonathanlamontange-kratz/Documents/GitHub/rl-stuff/ppo/videos/1709520406.106061/rl-video-episode-64.mp4\n",
      "\n"
     ]
    },
    {
     "name": "stderr",
     "output_type": "stream",
     "text": [
      "                                                               \r"
     ]
    },
    {
     "name": "stdout",
     "output_type": "stream",
     "text": [
      "Moviepy - Done !\n",
      "Moviepy - video ready /Users/jonathanlamontange-kratz/Documents/GitHub/rl-stuff/ppo/videos/1709520406.106061/rl-video-episode-64.mp4\n",
      "score:  239.0\n",
      "score:  167.0\n",
      "score:  158.0\n",
      "score:  264.0\n",
      "score:  404.0\n",
      "score:  284.0\n",
      "score:  371.0\n",
      "score:  158.0\n",
      "score:  139.0\n",
      "score:  307.0\n",
      "score:  146.0\n",
      "score:  158.0\n",
      "score:  144.0\n",
      "score:  139.0\n",
      "score:  197.0\n",
      "score:  212.0\n",
      "score:  145.0\n",
      "score:  240.0\n",
      "score:  140.0\n",
      "score:  150.0\n",
      "score:  142.0\n",
      "score:  237.0\n",
      "score:  171.0\n",
      "score:  138.0\n",
      "score:  228.0\n",
      "score:  200.0\n",
      "score:  164.0\n",
      "score:  134.0\n",
      "score:  188.0\n",
      "score:  149.0\n",
      "score:  168.0\n",
      "score:  249.0\n",
      "score:  143.0\n",
      "score:  192.0\n",
      "score:  189.0\n",
      "score:  255.0\n"
     ]
    },
    {
     "name": "stderr",
     "output_type": "stream",
     "text": [
      "/Users/jonathanlamontange-kratz/Library/Python/3.9/lib/python/site-packages/gymnasium/wrappers/record_video.py:94: UserWarning: \u001b[33mWARN: Overwriting existing videos at /Users/jonathanlamontange-kratz/Documents/GitHub/rl-stuff/ppo/videos/1709520406.106061 folder (try specifying a different `video_folder` for the `RecordVideo` wrapper if this is not desired)\u001b[0m\n",
      "  logger.warn(\n"
     ]
    },
    {
     "name": "stdout",
     "output_type": "stream",
     "text": [
      "Moviepy - Building video /Users/jonathanlamontange-kratz/Documents/GitHub/rl-stuff/ppo/videos/1709520406.106061/rl-video-episode-2000.mp4.\n",
      "Moviepy - Writing video /Users/jonathanlamontange-kratz/Documents/GitHub/rl-stuff/ppo/videos/1709520406.106061/rl-video-episode-2000.mp4\n",
      "\n"
     ]
    },
    {
     "name": "stderr",
     "output_type": "stream",
     "text": [
      "                                                               \r"
     ]
    },
    {
     "name": "stdout",
     "output_type": "stream",
     "text": [
      "Moviepy - Done !\n",
      "Moviepy - video ready /Users/jonathanlamontange-kratz/Documents/GitHub/rl-stuff/ppo/videos/1709520406.106061/rl-video-episode-2000.mp4\n",
      "Moviepy - Building video /Users/jonathanlamontange-kratz/Documents/GitHub/rl-stuff/ppo/videos/1709520406.106061/rl-video-episode-1000.mp4.\n",
      "Moviepy - Writing video /Users/jonathanlamontange-kratz/Documents/GitHub/rl-stuff/ppo/videos/1709520406.106061/rl-video-episode-1000.mp4\n",
      "\n"
     ]
    },
    {
     "name": "stderr",
     "output_type": "stream",
     "text": [
      "                                                               \r"
     ]
    },
    {
     "name": "stdout",
     "output_type": "stream",
     "text": [
      "Moviepy - Done !\n",
      "Moviepy - video ready /Users/jonathanlamontange-kratz/Documents/GitHub/rl-stuff/ppo/videos/1709520406.106061/rl-video-episode-1000.mp4\n",
      "Moviepy - Building video /Users/jonathanlamontange-kratz/Documents/GitHub/rl-stuff/ppo/videos/1709520406.106061/rl-video-episode-0.mp4.\n",
      "Moviepy - Writing video /Users/jonathanlamontange-kratz/Documents/GitHub/rl-stuff/ppo/videos/1709520406.106061/rl-video-episode-0.mp4\n",
      "\n"
     ]
    },
    {
     "name": "stderr",
     "output_type": "stream",
     "text": [
      "                                                               \r"
     ]
    },
    {
     "name": "stdout",
     "output_type": "stream",
     "text": [
      "Moviepy - Done !\n",
      "Moviepy - video ready /Users/jonathanlamontange-kratz/Documents/GitHub/rl-stuff/ppo/videos/1709520406.106061/rl-video-episode-0.mp4\n",
      "score:  240.0\n",
      "WARNING:tensorflow:Model's `__init__()` arguments contain non-serializable objects. Please implement a `get_config()` method in the subclassed Model for proper saving and loading. Defaulting to empty config.\n",
      "WARNING:tensorflow:Model's `__init__()` arguments contain non-serializable objects. Please implement a `get_config()` method in the subclassed Model for proper saving and loading. Defaulting to empty config.\n",
      "WARNING:tensorflow:Model's `__init__()` arguments contain non-serializable objects. Please implement a `get_config()` method in the subclassed Model for proper saving and loading. Defaulting to empty config.\n",
      "WARNING:tensorflow:Model's `__init__()` arguments contain non-serializable objects. Please implement a `get_config()` method in the subclassed Model for proper saving and loading. Defaulting to empty config.\n",
      "WARNING:tensorflow:Model's `__init__()` arguments contain non-serializable objects. Please implement a `get_config()` method in the subclassed Model for proper saving and loading. Defaulting to empty config.\n",
      "WARNING:tensorflow:Model's `__init__()` arguments contain non-serializable objects. Please implement a `get_config()` method in the subclassed Model for proper saving and loading. Defaulting to empty config.\n",
      "Early stopping at iteration 0\n",
      "Early stopping at iteration 1\n",
      "Early stopping at iteration 2\n",
      "Early stopping at iteration 3\n",
      "Early stopping at iteration 4\n",
      "Moviepy - Building video /Users/jonathanlamontange-kratz/Documents/GitHub/rl-stuff/ppo/videos/1709520406.106061/rl-video-episode-1.mp4.\n",
      "Moviepy - Writing video /Users/jonathanlamontange-kratz/Documents/GitHub/rl-stuff/ppo/videos/1709520406.106061/rl-video-episode-1.mp4\n",
      "\n"
     ]
    },
    {
     "name": "stderr",
     "output_type": "stream",
     "text": [
      "                                                              \r"
     ]
    },
    {
     "name": "stdout",
     "output_type": "stream",
     "text": [
      "Moviepy - Done !\n",
      "Moviepy - video ready /Users/jonathanlamontange-kratz/Documents/GitHub/rl-stuff/ppo/videos/1709520406.106061/rl-video-episode-1.mp4\n",
      "score:  158.0\n",
      "score:  294.0\n",
      "score:  346.0\n",
      "score:  327.0\n",
      "score:  170.0\n",
      "score:  250.0\n",
      "score:  148.0\n",
      "Moviepy - Building video /Users/jonathanlamontange-kratz/Documents/GitHub/rl-stuff/ppo/videos/1709520406.106061/rl-video-episode-8.mp4.\n",
      "Moviepy - Writing video /Users/jonathanlamontange-kratz/Documents/GitHub/rl-stuff/ppo/videos/1709520406.106061/rl-video-episode-8.mp4\n",
      "\n"
     ]
    },
    {
     "name": "stderr",
     "output_type": "stream",
     "text": [
      "                                                              \r"
     ]
    },
    {
     "name": "stdout",
     "output_type": "stream",
     "text": [
      "Moviepy - Done !\n",
      "Moviepy - video ready /Users/jonathanlamontange-kratz/Documents/GitHub/rl-stuff/ppo/videos/1709520406.106061/rl-video-episode-8.mp4\n",
      "score:  155.0\n",
      "score:  176.0\n",
      "score:  148.0\n",
      "score:  298.0\n",
      "Moviepy - Building video /Users/jonathanlamontange-kratz/Documents/GitHub/rl-stuff/ppo/videos/1709520406.106061/rl-video-episode-512.mp4.\n",
      "Moviepy - Writing video /Users/jonathanlamontange-kratz/Documents/GitHub/rl-stuff/ppo/videos/1709520406.106061/rl-video-episode-512.mp4\n",
      "\n"
     ]
    },
    {
     "name": "stderr",
     "output_type": "stream",
     "text": [
      "                                                               \r"
     ]
    },
    {
     "name": "stdout",
     "output_type": "stream",
     "text": [
      "Moviepy - Done !\n",
      "Moviepy - video ready /Users/jonathanlamontange-kratz/Documents/GitHub/rl-stuff/ppo/videos/1709520406.106061/rl-video-episode-512.mp4\n",
      "score:  327.0\n",
      "score:  141.0\n",
      "score:  176.0\n",
      "score:  251.0\n",
      "Moviepy - Building video /Users/jonathanlamontange-kratz/Documents/GitHub/rl-stuff/ppo/videos/1709520406.106061/rl-video-episode-216.mp4.\n",
      "Moviepy - Writing video /Users/jonathanlamontange-kratz/Documents/GitHub/rl-stuff/ppo/videos/1709520406.106061/rl-video-episode-216.mp4\n",
      "\n"
     ]
    },
    {
     "name": "stderr",
     "output_type": "stream",
     "text": [
      "                                                               \r"
     ]
    },
    {
     "name": "stdout",
     "output_type": "stream",
     "text": [
      "Moviepy - Done !\n",
      "Moviepy - video ready /Users/jonathanlamontange-kratz/Documents/GitHub/rl-stuff/ppo/videos/1709520406.106061/rl-video-episode-216.mp4\n",
      "score:  175.0\n",
      "score:  227.0\n",
      "score:  188.0\n",
      "score:  205.0\n",
      "score:  147.0\n",
      "score:  224.0\n",
      "score:  151.0\n",
      "score:  171.0\n",
      "score:  129.0\n",
      "Moviepy - Building video /Users/jonathanlamontange-kratz/Documents/GitHub/rl-stuff/ppo/videos/1709520406.106061/rl-video-episode-125.mp4.\n",
      "Moviepy - Writing video /Users/jonathanlamontange-kratz/Documents/GitHub/rl-stuff/ppo/videos/1709520406.106061/rl-video-episode-125.mp4\n",
      "\n"
     ]
    },
    {
     "name": "stderr",
     "output_type": "stream",
     "text": [
      "                                                               \r"
     ]
    },
    {
     "name": "stdout",
     "output_type": "stream",
     "text": [
      "Moviepy - Done !\n",
      "Moviepy - video ready /Users/jonathanlamontange-kratz/Documents/GitHub/rl-stuff/ppo/videos/1709520406.106061/rl-video-episode-125.mp4\n",
      "score:  320.0\n",
      "score:  152.0\n",
      "Moviepy - Building video /Users/jonathanlamontange-kratz/Documents/GitHub/rl-stuff/ppo/videos/1709520406.106061/rl-video-episode-27.mp4.\n",
      "Moviepy - Writing video /Users/jonathanlamontange-kratz/Documents/GitHub/rl-stuff/ppo/videos/1709520406.106061/rl-video-episode-27.mp4\n",
      "\n"
     ]
    },
    {
     "name": "stderr",
     "output_type": "stream",
     "text": [
      "                                                               \r"
     ]
    },
    {
     "name": "stdout",
     "output_type": "stream",
     "text": [
      "Moviepy - Done !\n",
      "Moviepy - video ready /Users/jonathanlamontange-kratz/Documents/GitHub/rl-stuff/ppo/videos/1709520406.106061/rl-video-episode-27.mp4\n",
      "score:  163.0\n",
      "score:  381.0\n",
      "Moviepy - Building video /Users/jonathanlamontange-kratz/Documents/GitHub/rl-stuff/ppo/videos/1709520406.106061/rl-video-episode-729.mp4.\n",
      "Moviepy - Writing video /Users/jonathanlamontange-kratz/Documents/GitHub/rl-stuff/ppo/videos/1709520406.106061/rl-video-episode-729.mp4\n",
      "\n"
     ]
    },
    {
     "name": "stderr",
     "output_type": "stream",
     "text": [
      "                                                               \r"
     ]
    },
    {
     "name": "stdout",
     "output_type": "stream",
     "text": [
      "Moviepy - Done !\n",
      "Moviepy - video ready /Users/jonathanlamontange-kratz/Documents/GitHub/rl-stuff/ppo/videos/1709520406.106061/rl-video-episode-729.mp4\n",
      "score:  175.0\n",
      "score:  190.0\n",
      "score:  211.0\n",
      "score:  182.0\n",
      "score:  234.0\n",
      "score:  137.0\n",
      "score:  164.0\n",
      "score:  239.0\n",
      "score:  138.0\n",
      "score:  194.0\n",
      "score:  148.0\n",
      "score:  151.0\n",
      "score:  194.0\n",
      "score:  151.0\n",
      "Moviepy - Building video /Users/jonathanlamontange-kratz/Documents/GitHub/rl-stuff/ppo/videos/1709520406.106061/rl-video-episode-343.mp4.\n",
      "Moviepy - Writing video /Users/jonathanlamontange-kratz/Documents/GitHub/rl-stuff/ppo/videos/1709520406.106061/rl-video-episode-343.mp4\n",
      "\n"
     ]
    },
    {
     "name": "stderr",
     "output_type": "stream",
     "text": [
      "                                                               \r"
     ]
    },
    {
     "name": "stdout",
     "output_type": "stream",
     "text": [
      "Moviepy - Done !\n",
      "Moviepy - video ready /Users/jonathanlamontange-kratz/Documents/GitHub/rl-stuff/ppo/videos/1709520406.106061/rl-video-episode-343.mp4\n",
      "score:  140.0\n",
      "score:  163.0\n",
      "score:  182.0\n",
      "score:  201.0\n",
      "score:  332.0\n",
      "score:  381.0\n",
      "score:  180.0\n",
      "score:  172.0\n",
      "score:  273.0\n",
      "score:  144.0\n",
      "score:  149.0\n",
      "score:  282.0\n",
      "score:  133.0\n",
      "score:  285.0\n",
      "score:  255.0\n",
      "score:  201.0\n",
      "score:  186.0\n",
      "score:  314.0\n",
      "score:  170.0\n",
      "score:  133.0\n",
      "score:  139.0\n",
      "Moviepy - Building video /Users/jonathanlamontange-kratz/Documents/GitHub/rl-stuff/ppo/videos/1709520406.106061/rl-video-episode-64.mp4.\n",
      "Moviepy - Writing video /Users/jonathanlamontange-kratz/Documents/GitHub/rl-stuff/ppo/videos/1709520406.106061/rl-video-episode-64.mp4\n",
      "\n"
     ]
    },
    {
     "name": "stderr",
     "output_type": "stream",
     "text": [
      "                                                               \r"
     ]
    },
    {
     "name": "stdout",
     "output_type": "stream",
     "text": [
      "Moviepy - Done !\n",
      "Moviepy - video ready /Users/jonathanlamontange-kratz/Documents/GitHub/rl-stuff/ppo/videos/1709520406.106061/rl-video-episode-64.mp4\n",
      "score:  238.0\n",
      "score:  138.0\n",
      "score:  144.0\n",
      "score:  281.0\n",
      "score:  231.0\n",
      "score:  135.0\n",
      "score:  349.0\n",
      "score:  143.0\n",
      "score:  249.0\n",
      "score:  215.0\n",
      "score:  401.0\n",
      "score:  191.0\n",
      "score:  201.0\n",
      "score:  219.0\n",
      "score:  243.0\n",
      "score:  329.0\n",
      "score:  174.0\n",
      "score:  348.0\n",
      "score:  214.0\n",
      "score:  164.0\n",
      "score:  215.0\n",
      "score:  220.0\n",
      "score:  161.0\n",
      "score:  146.0\n",
      "score:  155.0\n",
      "score:  390.0\n",
      "score:  176.0\n",
      "score:  149.0\n",
      "score:  205.0\n",
      "score:  187.0\n",
      "score:  182.0\n",
      "score:  205.0\n",
      "score:  264.0\n",
      "score:  331.0\n",
      "score:  153.0\n",
      "score:  269.0\n"
     ]
    },
    {
     "name": "stderr",
     "output_type": "stream",
     "text": [
      "/Users/jonathanlamontange-kratz/Library/Python/3.9/lib/python/site-packages/gymnasium/wrappers/record_video.py:94: UserWarning: \u001b[33mWARN: Overwriting existing videos at /Users/jonathanlamontange-kratz/Documents/GitHub/rl-stuff/ppo/videos/1709520406.106061 folder (try specifying a different `video_folder` for the `RecordVideo` wrapper if this is not desired)\u001b[0m\n",
      "  logger.warn(\n"
     ]
    },
    {
     "name": "stdout",
     "output_type": "stream",
     "text": [
      "Moviepy - Building video /Users/jonathanlamontange-kratz/Documents/GitHub/rl-stuff/ppo/videos/1709520406.106061/rl-video-episode-2000.mp4.\n",
      "Moviepy - Writing video /Users/jonathanlamontange-kratz/Documents/GitHub/rl-stuff/ppo/videos/1709520406.106061/rl-video-episode-2000.mp4\n",
      "\n"
     ]
    },
    {
     "name": "stderr",
     "output_type": "stream",
     "text": [
      "                                                              \r"
     ]
    },
    {
     "name": "stdout",
     "output_type": "stream",
     "text": [
      "Moviepy - Done !\n",
      "Moviepy - video ready /Users/jonathanlamontange-kratz/Documents/GitHub/rl-stuff/ppo/videos/1709520406.106061/rl-video-episode-2000.mp4\n",
      "Moviepy - Building video /Users/jonathanlamontange-kratz/Documents/GitHub/rl-stuff/ppo/videos/1709520406.106061/rl-video-episode-1000.mp4.\n",
      "Moviepy - Writing video /Users/jonathanlamontange-kratz/Documents/GitHub/rl-stuff/ppo/videos/1709520406.106061/rl-video-episode-1000.mp4\n",
      "\n"
     ]
    },
    {
     "name": "stderr",
     "output_type": "stream",
     "text": [
      "                                                              \r"
     ]
    },
    {
     "name": "stdout",
     "output_type": "stream",
     "text": [
      "Moviepy - Done !\n",
      "Moviepy - video ready /Users/jonathanlamontange-kratz/Documents/GitHub/rl-stuff/ppo/videos/1709520406.106061/rl-video-episode-1000.mp4\n",
      "Moviepy - Building video /Users/jonathanlamontange-kratz/Documents/GitHub/rl-stuff/ppo/videos/1709520406.106061/rl-video-episode-0.mp4.\n",
      "Moviepy - Writing video /Users/jonathanlamontange-kratz/Documents/GitHub/rl-stuff/ppo/videos/1709520406.106061/rl-video-episode-0.mp4\n",
      "\n"
     ]
    },
    {
     "name": "stderr",
     "output_type": "stream",
     "text": [
      "                                                               \r"
     ]
    },
    {
     "name": "stdout",
     "output_type": "stream",
     "text": [
      "Moviepy - Done !\n",
      "Moviepy - video ready /Users/jonathanlamontange-kratz/Documents/GitHub/rl-stuff/ppo/videos/1709520406.106061/rl-video-episode-0.mp4\n",
      "score:  148.0\n",
      "WARNING:tensorflow:Model's `__init__()` arguments contain non-serializable objects. Please implement a `get_config()` method in the subclassed Model for proper saving and loading. Defaulting to empty config.\n",
      "WARNING:tensorflow:Model's `__init__()` arguments contain non-serializable objects. Please implement a `get_config()` method in the subclassed Model for proper saving and loading. Defaulting to empty config.\n",
      "WARNING:tensorflow:Model's `__init__()` arguments contain non-serializable objects. Please implement a `get_config()` method in the subclassed Model for proper saving and loading. Defaulting to empty config.\n",
      "WARNING:tensorflow:Model's `__init__()` arguments contain non-serializable objects. Please implement a `get_config()` method in the subclassed Model for proper saving and loading. Defaulting to empty config.\n",
      "WARNING:tensorflow:Model's `__init__()` arguments contain non-serializable objects. Please implement a `get_config()` method in the subclassed Model for proper saving and loading. Defaulting to empty config.\n",
      "WARNING:tensorflow:Model's `__init__()` arguments contain non-serializable objects. Please implement a `get_config()` method in the subclassed Model for proper saving and loading. Defaulting to empty config.\n",
      "WARNING:tensorflow:Model's `__init__()` arguments contain non-serializable objects. Please implement a `get_config()` method in the subclassed Model for proper saving and loading. Defaulting to empty config.\n",
      "WARNING:tensorflow:Model's `__init__()` arguments contain non-serializable objects. Please implement a `get_config()` method in the subclassed Model for proper saving and loading. Defaulting to empty config.\n",
      "WARNING:tensorflow:Model's `__init__()` arguments contain non-serializable objects. Please implement a `get_config()` method in the subclassed Model for proper saving and loading. Defaulting to empty config.\n",
      "WARNING:tensorflow:Model's `__init__()` arguments contain non-serializable objects. Please implement a `get_config()` method in the subclassed Model for proper saving and loading. Defaulting to empty config.\n",
      "WARNING:tensorflow:Model's `__init__()` arguments contain non-serializable objects. Please implement a `get_config()` method in the subclassed Model for proper saving and loading. Defaulting to empty config.\n",
      "WARNING:tensorflow:Model's `__init__()` arguments contain non-serializable objects. Please implement a `get_config()` method in the subclassed Model for proper saving and loading. Defaulting to empty config.\n"
     ]
    },
    {
     "data": {
      "text/plain": [
       "0.0"
      ]
     },
     "execution_count": 4,
     "metadata": {},
     "output_type": "execute_result"
    }
   ],
   "source": [
    "# state, _ = env.reset()\n",
    "# print(state)\n",
    "# print(agent.select_action(state)[0])\n",
    "agent.train()"
   ]
  },
  {
   "cell_type": "code",
   "execution_count": 5,
   "metadata": {},
   "outputs": [
    {
     "name": "stdout",
     "output_type": "stream",
     "text": [
      "Moviepy - Building video /Users/jonathanlamontange-kratz/Documents/GitHub/rl-stuff/ppo/videos/1709520406.106061/rl-video-episode-1.mp4.\n",
      "Moviepy - Writing video /Users/jonathanlamontange-kratz/Documents/GitHub/rl-stuff/ppo/videos/1709520406.106061/rl-video-episode-1.mp4\n",
      "\n"
     ]
    },
    {
     "name": "stderr",
     "output_type": "stream",
     "text": [
      "                                                               \r"
     ]
    },
    {
     "name": "stdout",
     "output_type": "stream",
     "text": [
      "Moviepy - Done !\n",
      "Moviepy - video ready /Users/jonathanlamontange-kratz/Documents/GitHub/rl-stuff/ppo/videos/1709520406.106061/rl-video-episode-1.mp4\n",
      "score:  152.0\n",
      "score:  330.0\n",
      "score:  290.0\n",
      "score:  149.0\n",
      "score:  275.0\n",
      "score:  245.0\n",
      "score:  170.0\n",
      "Moviepy - Building video /Users/jonathanlamontange-kratz/Documents/GitHub/rl-stuff/ppo/videos/1709520406.106061/rl-video-episode-8.mp4.\n",
      "Moviepy - Writing video /Users/jonathanlamontange-kratz/Documents/GitHub/rl-stuff/ppo/videos/1709520406.106061/rl-video-episode-8.mp4\n",
      "\n"
     ]
    },
    {
     "name": "stderr",
     "output_type": "stream",
     "text": [
      "                                                               \r"
     ]
    },
    {
     "name": "stdout",
     "output_type": "stream",
     "text": [
      "Moviepy - Done !\n",
      "Moviepy - video ready /Users/jonathanlamontange-kratz/Documents/GitHub/rl-stuff/ppo/videos/1709520406.106061/rl-video-episode-8.mp4\n",
      "score:  371.0\n",
      "score:  176.0\n",
      "score:  174.0\n",
      "score:  225.0\n",
      "Moviepy - Building video /Users/jonathanlamontange-kratz/Documents/GitHub/rl-stuff/ppo/videos/1709520406.106061/rl-video-episode-512.mp4.\n",
      "Moviepy - Writing video /Users/jonathanlamontange-kratz/Documents/GitHub/rl-stuff/ppo/videos/1709520406.106061/rl-video-episode-512.mp4\n",
      "\n"
     ]
    },
    {
     "name": "stderr",
     "output_type": "stream",
     "text": [
      "                                                               \r"
     ]
    },
    {
     "name": "stdout",
     "output_type": "stream",
     "text": [
      "Moviepy - Done !\n",
      "Moviepy - video ready /Users/jonathanlamontange-kratz/Documents/GitHub/rl-stuff/ppo/videos/1709520406.106061/rl-video-episode-512.mp4\n",
      "score:  188.0\n",
      "score:  191.0\n",
      "score:  179.0\n",
      "score:  131.0\n",
      "Moviepy - Building video /Users/jonathanlamontange-kratz/Documents/GitHub/rl-stuff/ppo/videos/1709520406.106061/rl-video-episode-216.mp4.\n",
      "Moviepy - Writing video /Users/jonathanlamontange-kratz/Documents/GitHub/rl-stuff/ppo/videos/1709520406.106061/rl-video-episode-216.mp4\n",
      "\n"
     ]
    },
    {
     "name": "stderr",
     "output_type": "stream",
     "text": [
      "                                                               \r"
     ]
    },
    {
     "name": "stdout",
     "output_type": "stream",
     "text": [
      "Moviepy - Done !\n",
      "Moviepy - video ready /Users/jonathanlamontange-kratz/Documents/GitHub/rl-stuff/ppo/videos/1709520406.106061/rl-video-episode-216.mp4\n",
      "score:  197.0\n",
      "score:  153.0\n",
      "score:  218.0\n",
      "score:  500.0\n",
      "score:  188.0\n",
      "score:  243.0\n",
      "score:  451.0\n",
      "score:  230.0\n",
      "score:  158.0\n",
      "Moviepy - Building video /Users/jonathanlamontange-kratz/Documents/GitHub/rl-stuff/ppo/videos/1709520406.106061/rl-video-episode-125.mp4.\n",
      "Moviepy - Writing video /Users/jonathanlamontange-kratz/Documents/GitHub/rl-stuff/ppo/videos/1709520406.106061/rl-video-episode-125.mp4\n",
      "\n"
     ]
    },
    {
     "name": "stderr",
     "output_type": "stream",
     "text": [
      "                                                               \r"
     ]
    },
    {
     "name": "stdout",
     "output_type": "stream",
     "text": [
      "Moviepy - Done !\n",
      "Moviepy - video ready /Users/jonathanlamontange-kratz/Documents/GitHub/rl-stuff/ppo/videos/1709520406.106061/rl-video-episode-125.mp4\n",
      "score:  237.0\n",
      "score:  166.0\n",
      "Moviepy - Building video /Users/jonathanlamontange-kratz/Documents/GitHub/rl-stuff/ppo/videos/1709520406.106061/rl-video-episode-27.mp4.\n",
      "Moviepy - Writing video /Users/jonathanlamontange-kratz/Documents/GitHub/rl-stuff/ppo/videos/1709520406.106061/rl-video-episode-27.mp4\n",
      "\n"
     ]
    },
    {
     "name": "stderr",
     "output_type": "stream",
     "text": [
      "                                                               \r"
     ]
    },
    {
     "name": "stdout",
     "output_type": "stream",
     "text": [
      "Moviepy - Done !\n",
      "Moviepy - video ready /Users/jonathanlamontange-kratz/Documents/GitHub/rl-stuff/ppo/videos/1709520406.106061/rl-video-episode-27.mp4\n",
      "score:  308.0\n",
      "score:  136.0\n",
      "Moviepy - Building video /Users/jonathanlamontange-kratz/Documents/GitHub/rl-stuff/ppo/videos/1709520406.106061/rl-video-episode-729.mp4.\n",
      "Moviepy - Writing video /Users/jonathanlamontange-kratz/Documents/GitHub/rl-stuff/ppo/videos/1709520406.106061/rl-video-episode-729.mp4\n",
      "\n"
     ]
    },
    {
     "name": "stderr",
     "output_type": "stream",
     "text": [
      "                                                               \r"
     ]
    },
    {
     "name": "stdout",
     "output_type": "stream",
     "text": [
      "Moviepy - Done !\n",
      "Moviepy - video ready /Users/jonathanlamontange-kratz/Documents/GitHub/rl-stuff/ppo/videos/1709520406.106061/rl-video-episode-729.mp4\n",
      "score:  174.0\n",
      "score:  173.0\n",
      "score:  184.0\n",
      "score:  289.0\n",
      "score:  153.0\n",
      "score:  192.0\n",
      "score:  304.0\n",
      "score:  140.0\n",
      "score:  152.0\n",
      "score:  178.0\n",
      "score:  162.0\n",
      "score:  291.0\n",
      "score:  144.0\n",
      "score:  200.0\n",
      "Moviepy - Building video /Users/jonathanlamontange-kratz/Documents/GitHub/rl-stuff/ppo/videos/1709520406.106061/rl-video-episode-343.mp4.\n",
      "Moviepy - Writing video /Users/jonathanlamontange-kratz/Documents/GitHub/rl-stuff/ppo/videos/1709520406.106061/rl-video-episode-343.mp4\n",
      "\n"
     ]
    },
    {
     "name": "stderr",
     "output_type": "stream",
     "text": [
      "                                                              \r"
     ]
    },
    {
     "name": "stdout",
     "output_type": "stream",
     "text": [
      "Moviepy - Done !\n",
      "Moviepy - video ready /Users/jonathanlamontange-kratz/Documents/GitHub/rl-stuff/ppo/videos/1709520406.106061/rl-video-episode-343.mp4\n",
      "score:  144.0\n",
      "score:  197.0\n",
      "score:  331.0\n",
      "score:  158.0\n",
      "score:  151.0\n",
      "score:  155.0\n",
      "score:  271.0\n",
      "score:  182.0\n",
      "score:  361.0\n",
      "score:  201.0\n",
      "score:  145.0\n",
      "score:  170.0\n",
      "score:  225.0\n",
      "score:  158.0\n",
      "score:  243.0\n",
      "score:  159.0\n",
      "score:  178.0\n",
      "score:  200.0\n",
      "score:  219.0\n",
      "score:  301.0\n",
      "score:  362.0\n",
      "Moviepy - Building video /Users/jonathanlamontange-kratz/Documents/GitHub/rl-stuff/ppo/videos/1709520406.106061/rl-video-episode-64.mp4.\n",
      "Moviepy - Writing video /Users/jonathanlamontange-kratz/Documents/GitHub/rl-stuff/ppo/videos/1709520406.106061/rl-video-episode-64.mp4\n",
      "\n"
     ]
    },
    {
     "name": "stderr",
     "output_type": "stream",
     "text": [
      "                                                               \r"
     ]
    },
    {
     "name": "stdout",
     "output_type": "stream",
     "text": [
      "Moviepy - Done !\n",
      "Moviepy - video ready /Users/jonathanlamontange-kratz/Documents/GitHub/rl-stuff/ppo/videos/1709520406.106061/rl-video-episode-64.mp4\n",
      "score:  145.0\n",
      "score:  149.0\n",
      "score:  173.0\n",
      "score:  160.0\n",
      "score:  178.0\n",
      "score:  144.0\n",
      "score:  151.0\n",
      "score:  144.0\n",
      "score:  138.0\n",
      "score:  159.0\n",
      "score:  178.0\n",
      "score:  190.0\n",
      "score:  308.0\n",
      "score:  168.0\n",
      "score:  218.0\n",
      "score:  170.0\n",
      "score:  268.0\n",
      "score:  154.0\n",
      "score:  190.0\n",
      "score:  183.0\n",
      "score:  336.0\n",
      "score:  166.0\n",
      "score:  361.0\n",
      "score:  238.0\n",
      "score:  274.0\n",
      "score:  500.0\n",
      "score:  155.0\n",
      "score:  288.0\n",
      "score:  184.0\n",
      "score:  287.0\n",
      "score:  400.0\n",
      "score:  187.0\n",
      "score:  199.0\n",
      "score:  159.0\n",
      "score:  234.0\n",
      "score:  218.0\n"
     ]
    },
    {
     "name": "stderr",
     "output_type": "stream",
     "text": [
      "/Users/jonathanlamontange-kratz/Library/Python/3.9/lib/python/site-packages/gymnasium/wrappers/record_video.py:94: UserWarning: \u001b[33mWARN: Overwriting existing videos at /Users/jonathanlamontange-kratz/Documents/GitHub/rl-stuff/ppo/videos/1709520406.106061 folder (try specifying a different `video_folder` for the `RecordVideo` wrapper if this is not desired)\u001b[0m\n",
      "  logger.warn(\n"
     ]
    },
    {
     "name": "stdout",
     "output_type": "stream",
     "text": [
      "Moviepy - Building video /Users/jonathanlamontange-kratz/Documents/GitHub/rl-stuff/ppo/videos/1709520406.106061/rl-video-episode-3000.mp4.\n",
      "Moviepy - Writing video /Users/jonathanlamontange-kratz/Documents/GitHub/rl-stuff/ppo/videos/1709520406.106061/rl-video-episode-3000.mp4\n",
      "\n"
     ]
    },
    {
     "name": "stderr",
     "output_type": "stream",
     "text": [
      "                                                              \r"
     ]
    },
    {
     "name": "stdout",
     "output_type": "stream",
     "text": [
      "Moviepy - Done !\n",
      "Moviepy - video ready /Users/jonathanlamontange-kratz/Documents/GitHub/rl-stuff/ppo/videos/1709520406.106061/rl-video-episode-3000.mp4\n",
      "Moviepy - Building video /Users/jonathanlamontange-kratz/Documents/GitHub/rl-stuff/ppo/videos/1709520406.106061/rl-video-episode-2000.mp4.\n",
      "Moviepy - Writing video /Users/jonathanlamontange-kratz/Documents/GitHub/rl-stuff/ppo/videos/1709520406.106061/rl-video-episode-2000.mp4\n",
      "\n"
     ]
    },
    {
     "name": "stderr",
     "output_type": "stream",
     "text": [
      "                                                               \r"
     ]
    },
    {
     "name": "stdout",
     "output_type": "stream",
     "text": [
      "Moviepy - Done !\n",
      "Moviepy - video ready /Users/jonathanlamontange-kratz/Documents/GitHub/rl-stuff/ppo/videos/1709520406.106061/rl-video-episode-2000.mp4\n",
      "Moviepy - Building video /Users/jonathanlamontange-kratz/Documents/GitHub/rl-stuff/ppo/videos/1709520406.106061/rl-video-episode-1000.mp4.\n",
      "Moviepy - Writing video /Users/jonathanlamontange-kratz/Documents/GitHub/rl-stuff/ppo/videos/1709520406.106061/rl-video-episode-1000.mp4\n",
      "\n"
     ]
    },
    {
     "name": "stderr",
     "output_type": "stream",
     "text": [
      "                                                               \r"
     ]
    },
    {
     "name": "stdout",
     "output_type": "stream",
     "text": [
      "Moviepy - Done !\n",
      "Moviepy - video ready /Users/jonathanlamontange-kratz/Documents/GitHub/rl-stuff/ppo/videos/1709520406.106061/rl-video-episode-1000.mp4\n",
      "Moviepy - Building video /Users/jonathanlamontange-kratz/Documents/GitHub/rl-stuff/ppo/videos/1709520406.106061/rl-video-episode-0.mp4.\n",
      "Moviepy - Writing video /Users/jonathanlamontange-kratz/Documents/GitHub/rl-stuff/ppo/videos/1709520406.106061/rl-video-episode-0.mp4\n",
      "\n"
     ]
    },
    {
     "name": "stderr",
     "output_type": "stream",
     "text": [
      "                                                               "
     ]
    },
    {
     "name": "stdout",
     "output_type": "stream",
     "text": [
      "Moviepy - Done !\n",
      "Moviepy - video ready /Users/jonathanlamontange-kratz/Documents/GitHub/rl-stuff/ppo/videos/1709520406.106061/rl-video-episode-0.mp4\n",
      "score:  157.0\n"
     ]
    },
    {
     "name": "stderr",
     "output_type": "stream",
     "text": [
      "\r"
     ]
    },
    {
     "data": {
      "text/plain": [
       "215.89"
      ]
     },
     "execution_count": 5,
     "metadata": {},
     "output_type": "execute_result"
    }
   ],
   "source": [
    "agent.test()"
   ]
  },
  {
   "cell_type": "code",
   "execution_count": 6,
   "metadata": {},
   "outputs": [
    {
     "name": "stdout",
     "output_type": "stream",
     "text": [
      "tf.Tensor(\n",
      "[[1. 0.]\n",
      " [0. 1.]\n",
      " [0. 1.]], shape=(3, 2), dtype=float32)\n",
      "tf.Tensor([0 0], shape=(2,), dtype=int32)\n",
      "tf.Tensor(-0.49463958, shape=(), dtype=float32)\n",
      "tf.Tensor(-0.4946395, shape=(), dtype=float32)\n",
      "tf.Tensor(\n",
      "[[-1.1711006  -0.37110066]\n",
      " [-0.37110066 -1.1711006 ]], shape=(2, 2), dtype=float32)\n",
      "tf.Tensor(\n",
      "[[-1.1711006  -0.37110063]\n",
      " [-0.37110063 -1.1711006 ]], shape=(2, 2), dtype=float32)\n",
      "tf.Tensor(-0.4946395, shape=(), dtype=float32)\n"
     ]
    }
   ],
   "source": [
    "import tensorflow_probability as tfp\n",
    "\n",
    "print(tf.one_hot([0, 1, 1], 2))\n",
    "distribution = tfp.distributions.Categorical(probs=[[0.1, 0.9],[0.9, 0.1]])\n",
    "print(distribution.sample())\n",
    "print(tf.reduce_sum(tf.reduce_mean([-0.6, -0.6] - distribution.log_prob([1, 0]))))\n",
    "print(tf.reduce_mean([-0.6, -0.6] - tf.reduce_sum(tf.one_hot([1, 0], 2) * tf.math.log([[0.1, 0.9],[0.9, 0.1]]), axis=1)))\n",
    "\n",
    "print(tf.math.log(tf.nn.softmax([[0.1, 0.9],[0.9, 0.1]])))\n",
    "print(tf.nn.log_softmax([[0.1, 0.9],[0.9, 0.1]]))\n",
    "\n",
    "def logprobabilities(logits, a):\n",
    "    # Compute the log-probabilities of taking actions a by using the logits (i.e. the output of the actor)\n",
    "    logprobabilities_all = tf.math.log(logits)\n",
    "    logprobability = tf.reduce_sum(\n",
    "        tf.one_hot(a, 2) * logprobabilities_all, axis=1\n",
    "    )\n",
    "    return logprobability\n",
    "\n",
    "\n",
    "kl = tf.reduce_mean(\n",
    "[-0.6, -0.6] - logprobabilities([[0.1, 0.9], [0.9, 0.1]], [1, 0])\n",
    ")\n",
    "# kl = tf.reduce_sum(kl)\n",
    "print(kl)\n"
   ]
  }
 ],
 "metadata": {
  "kernelspec": {
   "display_name": "Python 3",
   "language": "python",
   "name": "python3"
  },
  "language_info": {
   "codemirror_mode": {
    "name": "ipython",
    "version": 3
   },
   "file_extension": ".py",
   "mimetype": "text/x-python",
   "name": "python",
   "nbconvert_exporter": "python",
   "pygments_lexer": "ipython3",
   "version": "3.9.6"
  }
 },
 "nbformat": 4,
 "nbformat_minor": 2
}
