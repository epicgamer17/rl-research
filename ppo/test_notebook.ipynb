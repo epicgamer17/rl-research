{
 "cells": [
  {
   "cell_type": "code",
   "execution_count": null,
   "metadata": {},
   "outputs": [],
   "source": [
    "import gymnasium as gym\n",
    "from ppo_agent import PPOAgent\n",
    "import tensorflow as tf"
   ]
  },
  {
   "cell_type": "code",
   "execution_count": null,
   "metadata": {},
   "outputs": [],
   "source": [
    "from configs.agent_configs.ppo_config import PPOConfig\n",
    "from configs.agent_configs.ppo_actor_config import PPOActorConfig\n",
    "from configs.agent_configs.ppo_critic_config import PPOCriticConfig\n",
    "from configs.game_configs.cartpole_config import CartPoleConfig\n",
    "\n",
    "env = gym.make('CartPole-v1', render_mode='rgb_array')\n",
    "config_dict = {\n",
    "        'clip_param': 0.2,\n",
    "        'activation': 'relu',\n",
    "        'kernel_initializer': 'orthogonal',\n",
    "        # NORMALIZATION?\n",
    "        'discount_factor': 0.99,\n",
    "        'gae_lambda': 0.98,\n",
    "        'conv_layers': [],\n",
    "        'conv_layers_noisy': False,\n",
    "        'critic_width': 64,\n",
    "        'critic_dense_layers': 2,\n",
    "        'critic_dense_layers_noisy': False,\n",
    "        'actor_width': 64,\n",
    "        'actor_dense_layers': 2,\n",
    "        'actor_dense_layers_noisy': False,\n",
    "        # REWARD CLIPPING\n",
    "        'steps_per_epoch': 4800,\n",
    "        'train_policy_iterations': 5,\n",
    "        'train_value_iterations': 5,\n",
    "        'target_kl': 0.02,\n",
    "        'entropy_coefficient': 0.01,\n",
    "        'num_minibatches': 4,\n",
    "    }\n",
    "\n",
    "actor_config_dict = {\n",
    "    'optimizer': tf.keras.optimizers.legacy.Adam,\n",
    "    'learning_rate': 0.0005,\n",
    "    'adam_epsilon': 1e-7,\n",
    "    'clipnorm': 0.5,\n",
    "}\n",
    "\n",
    "critic_config_dict = {\n",
    "    'optimizer': tf.keras.optimizers.legacy.Adam,\n",
    "    'learning_rate': 0.0005,\n",
    "    'adam_epsilon': 1e-7,\n",
    "    'clipnorm': 0.5,\n",
    "}\n",
    "\n",
    "print(\"Actor Config\")\n",
    "actor_config = PPOActorConfig(actor_config_dict)\n",
    "print(\"Critic Config\")\n",
    "critic_config = PPOCriticConfig(critic_config_dict)\n",
    "\n",
    "print(\"PPO Config\")\n",
    "config = PPOConfig(config_dict, CartPoleConfig(), actor_config=actor_config, critic_config=critic_config)\n",
    "\n",
    "agent = PPOAgent(env, config=config, name='PPOAgent')\n"
   ]
  },
  {
   "cell_type": "code",
   "execution_count": null,
   "metadata": {},
   "outputs": [],
   "source": [
    "# agent.actor.summary()"
   ]
  },
  {
   "cell_type": "code",
   "execution_count": null,
   "metadata": {},
   "outputs": [],
   "source": [
    "# state, _ = env.reset()\n",
    "# print(state)\n",
    "# print(agent.select_action(state)[0])\n",
    "agent.train()"
   ]
  },
  {
   "cell_type": "code",
   "execution_count": null,
   "metadata": {},
   "outputs": [],
   "source": [
    "agent.test()"
   ]
  },
  {
   "cell_type": "code",
   "execution_count": null,
   "metadata": {},
   "outputs": [],
   "source": [
    "import tensorflow_probability as tfp\n",
    "\n",
    "print(tf.one_hot([0, 1, 1], 2))\n",
    "distribution = tfp.distributions.Categorical(probs=[[0.1, 0.9],[0.9, 0.1]])\n",
    "print(distribution.sample())\n",
    "print(tf.reduce_sum(tf.reduce_mean([-0.6, -0.6] - distribution.log_prob([1, 0]))))\n",
    "print(tf.reduce_mean([-0.6, -0.6] - tf.reduce_sum(tf.one_hot([1, 0], 2) * tf.math.log([[0.1, 0.9],[0.9, 0.1]]), axis=1)))\n",
    "\n",
    "print(tf.math.log(tf.nn.softmax([[0.1, 0.9],[0.9, 0.1]])))\n",
    "print(tf.nn.log_softmax([[0.1, 0.9],[0.9, 0.1]]))\n",
    "\n",
    "def logprobabilities(logits, a):\n",
    "    # Compute the log-probabilities of taking actions a by using the logits (i.e. the output of the actor)\n",
    "    logprobabilities_all = tf.math.log(logits)\n",
    "    logprobability = tf.reduce_sum(\n",
    "        tf.one_hot(a, 2) * logprobabilities_all, axis=1\n",
    "    )\n",
    "    return logprobability\n",
    "\n",
    "\n",
    "kl = tf.reduce_mean(\n",
    "[-0.6, -0.6] - logprobabilities([[0.1, 0.9], [0.9, 0.1]], [1, 0])\n",
    ")\n",
    "# kl = tf.reduce_sum(kl)\n",
    "print(kl)\n"
   ]
  },
  {
   "cell_type": "code",
   "execution_count": null,
   "metadata": {},
   "outputs": [],
   "source": [
    "import numpy as np\n",
    "arr = np.array([1, 2, 3, 4, 5, 6, 7, 8, 9])\n",
    "print(arr.reshape(3, 3))\n",
    "arr = np.rot90(arr.reshape(3, 3), k=2)\n",
    "print(arr)\n",
    "arr = arr.flatten()\n",
    "print(arr)"
   ]
  }
 ],
 "metadata": {
  "kernelspec": {
   "display_name": "Python 3",
   "language": "python",
   "name": "python3"
  },
  "language_info": {
   "codemirror_mode": {
    "name": "ipython",
    "version": 3
   },
   "file_extension": ".py",
   "mimetype": "text/x-python",
   "name": "python",
   "nbconvert_exporter": "python",
   "pygments_lexer": "ipython3",
   "version": "3.9.6"
  }
 },
 "nbformat": 4,
 "nbformat_minor": 2
}
