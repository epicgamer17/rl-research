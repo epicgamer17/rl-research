{
 "cells": [
  {
   "cell_type": "code",
   "execution_count": 5,
   "metadata": {},
   "outputs": [],
   "source": [
    "import gymnasium as gym\n",
    "from ppo_agent import PPOAgent\n",
    "import tensorflow as tf"
   ]
  },
  {
   "cell_type": "code",
   "execution_count": 6,
   "metadata": {},
   "outputs": [
    {
     "name": "stderr",
     "output_type": "stream",
     "text": [
      "/Users/jonathanlamontange-kratz/Library/Python/3.9/lib/python/site-packages/gymnasium/envs/registration.py:513: DeprecationWarning: \u001b[33mWARN: The environment CartPole-v0 is out of date. You should consider upgrading to version `v1`.\u001b[0m\n",
      "  logger.deprecation(\n"
     ]
    }
   ],
   "source": [
    "env = gym.make('CartPole-v0', render_mode='rgb_array')\n",
    "config = {\n",
    "        'clip_param': 0.2,\n",
    "        'activation': 'relu',\n",
    "        'kernel_initializer': 'orthogonal',\n",
    "        'actor_optimizer': tf.keras.optimizers.legacy.Adam,\n",
    "        'critic_optimizer': tf.keras.optimizers.legacy.Adam,\n",
    "        'actor_learning_rate': 0.005,\n",
    "        'critic_learning_rate': 0.005,\n",
    "        'actor_epsilon': 1e-7,\n",
    "        'critic_epsilon': 1e-7,\n",
    "        'actor_clipnorm': 0.5,\n",
    "        'critic_clipnorm': 0.5,\n",
    "        # NORMALIZATION?\n",
    "        # 'n_step': 3,\n",
    "        'discount_factor': 0.99,\n",
    "        'gae_lambda': 0.98,\n",
    "        'conv_layers': [],\n",
    "        'conv_layers_noisy': False,\n",
    "        'critic_width': 64,\n",
    "        'critic_dense_layers': 2,\n",
    "        'critic_dense_layers_noisy': False,\n",
    "        'actor_width': 64,\n",
    "        'actor_dense_layers': 2,\n",
    "        'actor_dense_layers_noisy': False,\n",
    "        # REWARD CLIPPING\n",
    "        'noisy_sigma': 0.5, #\n",
    "        'loss_function': tf.keras.losses.KLDivergence(),\n",
    "        'num_epochs': 30,\n",
    "        'steps_per_epoch': 4800,\n",
    "        'train_policy_iterations': 5,\n",
    "        'train_value_iterations': 5,\n",
    "        # 'per_epsilon': 0.001,\n",
    "        # 'per_alpha': 0.5,\n",
    "        # 'per_beta': 0.5,\n",
    "        'target_kl': 0.02,\n",
    "        # 'per_beta_increase': hp.uniform('per_beta_increase', 0, 0.015),\n",
    "        # 'v_min': -500.0, # MIN GAME SCORE\n",
    "        # 'v_max': 500.0, # MAX GAME SCORE\n",
    "        # 'search_max_depth': 5,\n",
    "        # 'search_max_time': 10,\n",
    "    }\n",
    "\n",
    "agent = PPOAgent(env, config=config)\n"
   ]
  },
  {
   "cell_type": "code",
   "execution_count": 7,
   "metadata": {},
   "outputs": [],
   "source": [
    "# agent.actor.summary()"
   ]
  },
  {
   "cell_type": "code",
   "execution_count": 8,
   "metadata": {},
   "outputs": [
    {
     "name": "stdout",
     "output_type": "stream",
     "text": [
      "tf.Tensor(\n",
      "[ 0.36546305  0.22088398  0.06850814 ... -1.6089028  -1.6089028\n",
      " -1.6089028 ], shape=(4800,), dtype=float32) tf.Tensor(\n",
      "[ 0.30458584  0.18399036  0.05708157 ... -2.0129972  -2.0136743\n",
      " -2.0076704 ], shape=(4800,), dtype=float32)\n",
      "tf.Tensor(\n",
      "[ 0.36546305  0.22088398  0.06850814 ... -1.6089028  -1.6089028\n",
      " -1.6089028 ], shape=(4800,), dtype=float32) tf.Tensor(\n",
      "[ 0.3031965   0.185576    0.05736025 ... -1.9922944  -1.9846159\n",
      " -2.044555  ], shape=(4800,), dtype=float32)\n",
      "tf.Tensor(\n",
      "[ 0.36546305  0.22088398  0.06850814 ... -1.6089028  -1.6089028\n",
      " -1.6089028 ], shape=(4800,), dtype=float32) tf.Tensor(\n",
      "[ 0.3013255   0.18766122  0.05773509 ... -1.9653136  -1.9473603\n",
      " -2.0920937 ], shape=(4800,), dtype=float32)\n",
      "tf.Tensor(\n",
      "[ 0.36546305  0.22088398  0.06850814 ... -1.6089028  -1.6089028\n",
      " -1.6089028 ], shape=(4800,), dtype=float32) tf.Tensor(\n",
      "[ 0.2989708   0.19026071  0.05821752 ... -1.9320759  -1.9018408\n",
      " -2.149287  ], shape=(4800,), dtype=float32)\n",
      "tf.Tensor(\n",
      "[ 0.36546305  0.22088398  0.06850814 ... -1.6089028  -1.6089028\n",
      " -1.6089028 ], shape=(4800,), dtype=float32) tf.Tensor(\n",
      "[ 0.2961756   0.19348945  0.05879277 ... -1.8908278  -1.8460089\n",
      " -2.2189803 ], shape=(4800,), dtype=float32)\n",
      "[12.247898 11.361513 10.466174 ...  0.        0.        0.      ]\n",
      "tf.Tensor(\n",
      "[[0.00029083]\n",
      " [0.00246573]\n",
      " [0.00039772]\n",
      " ...\n",
      " [0.00286329]\n",
      " [0.00497782]\n",
      " [0.00713179]], shape=(4800, 1), dtype=float32)\n",
      "[12.247898 11.361513 10.466174 ...  0.        0.        0.      ]\n",
      "tf.Tensor(\n",
      "[[0.0153785 ]\n",
      " [0.03016776]\n",
      " [0.01605737]\n",
      " ...\n",
      " [0.03326659]\n",
      " [0.04923813]\n",
      " [0.06525001]], shape=(4800, 1), dtype=float32)\n",
      "[12.247898 11.361513 10.466174 ...  0.        0.        0.      ]\n",
      "tf.Tensor(\n",
      "[[0.03614025]\n",
      " [0.06408548]\n",
      " [0.03744287]\n",
      " ...\n",
      " [0.07036171]\n",
      " [0.10119347]\n",
      " [0.13268912]], shape=(4800, 1), dtype=float32)\n",
      "[12.247898 11.361513 10.466174 ...  0.        0.        0.      ]\n",
      "tf.Tensor(\n",
      "[[0.06429572]\n",
      " [0.10759551]\n",
      " [0.06620525]\n",
      " ...\n",
      " [0.11907769]\n",
      " [0.16836399]\n",
      " [0.21866867]], shape=(4800, 1), dtype=float32)\n",
      "[12.247898 11.361513 10.466174 ...  0.        0.        0.      ]\n",
      "tf.Tensor(\n",
      "[[0.10245319]\n",
      " [0.16258773]\n",
      " [0.10439759]\n",
      " ...\n",
      " [0.18066803]\n",
      " [0.25314996]\n",
      " [0.3278746 ]], shape=(4800, 1), dtype=float32)\n",
      "score:  36.0\n",
      "score:  22.0\n",
      "score:  45.0\n",
      "score:  46.0\n",
      "score:  13.0\n",
      "score:  35.0\n",
      "score:  48.0\n",
      "score:  18.0\n",
      "score:  14.0\n",
      "score:  56.0\n",
      "score:  17.0\n",
      "score:  48.0\n",
      "score:  23.0\n",
      "score:  16.0\n",
      "score:  52.0\n",
      "score:  14.0\n",
      "score:  31.0\n",
      "score:  21.0\n",
      "score:  27.0\n",
      "score:  33.0\n",
      "score:  27.0\n",
      "score:  23.0\n",
      "score:  15.0\n",
      "score:  14.0\n",
      "score:  63.0\n",
      "score:  16.0\n",
      "score:  30.0\n",
      "score:  28.0\n",
      "score:  54.0\n",
      "score:  10.0\n",
      "score:  13.0\n",
      "score:  11.0\n",
      "score:  42.0\n",
      "score:  24.0\n",
      "score:  14.0\n",
      "score:  22.0\n",
      "score:  12.0\n",
      "score:  31.0\n",
      "score:  94.0\n",
      "score:  11.0\n",
      "score:  17.0\n",
      "score:  30.0\n",
      "score:  53.0\n",
      "score:  32.0\n",
      "score:  32.0\n",
      "score:  27.0\n",
      "score:  31.0\n",
      "score:  32.0\n",
      "score:  43.0\n",
      "score:  16.0\n",
      "score:  23.0\n",
      "score:  21.0\n",
      "score:  18.0\n",
      "score:  32.0\n",
      "score:  19.0\n",
      "score:  26.0\n",
      "score:  59.0\n",
      "score:  60.0\n",
      "score:  23.0\n",
      "score:  38.0\n",
      "score:  10.0\n",
      "score:  31.0\n",
      "score:  36.0\n",
      "score:  21.0\n",
      "score:  13.0\n",
      "score:  21.0\n",
      "score:  16.0\n",
      "score:  17.0\n",
      "score:  14.0\n",
      "score:  18.0\n",
      "score:  23.0\n",
      "score:  50.0\n",
      "score:  42.0\n",
      "score:  19.0\n",
      "score:  20.0\n",
      "score:  33.0\n",
      "score:  37.0\n",
      "score:  61.0\n",
      "score:  25.0\n",
      "score:  24.0\n",
      "score:  22.0\n",
      "score:  23.0\n",
      "score:  18.0\n",
      "score:  47.0\n",
      "score:  21.0\n",
      "score:  11.0\n",
      "score:  50.0\n",
      "score:  21.0\n",
      "score:  18.0\n",
      "score:  16.0\n",
      "score:  9.0\n",
      "score:  47.0\n",
      "score:  16.0\n",
      "score:  41.0\n",
      "score:  20.0\n",
      "score:  34.0\n",
      "score:  39.0\n",
      "score:  40.0\n",
      "score:  33.0\n"
     ]
    },
    {
     "name": "stderr",
     "output_type": "stream",
     "text": [
      "/Users/jonathanlamontange-kratz/Library/Python/3.9/lib/python/site-packages/gymnasium/wrappers/record_video.py:94: UserWarning: \u001b[33mWARN: Overwriting existing videos at /Users/jonathanlamontange-kratz/Documents/GitHub/rl-stuff/ppo/videos/1709505540.694938 folder (try specifying a different `video_folder` for the `RecordVideo` wrapper if this is not desired)\u001b[0m\n",
      "  logger.warn(\n",
      "t:   9%|▉         | 1/11 [01:52<18:47, 112.75s/it, now=None]"
     ]
    },
    {
     "name": "stdout",
     "output_type": "stream",
     "text": [
      "Moviepy - Building video /Users/jonathanlamontange-kratz/Documents/GitHub/rl-stuff/ppo/videos/1709505540.694938/rl-video-episode-0.mp4.\n",
      "Moviepy - Writing video /Users/jonathanlamontange-kratz/Documents/GitHub/rl-stuff/ppo/videos/1709505540.694938/rl-video-episode-0.mp4\n",
      "\n"
     ]
    },
    {
     "name": "stderr",
     "output_type": "stream",
     "text": [
      "t:   9%|▉         | 1/11 [01:53<18:50, 113.00s/it, now=None]"
     ]
    },
    {
     "name": "stdout",
     "output_type": "stream",
     "text": [
      "Moviepy - Done !\n",
      "Moviepy - video ready /Users/jonathanlamontange-kratz/Documents/GitHub/rl-stuff/ppo/videos/1709505540.694938/rl-video-episode-0.mp4\n",
      "score:  14.0\n",
      "WARNING:tensorflow:Model's `__init__()` arguments contain non-serializable objects. Please implement a `get_config()` method in the subclassed Model for proper saving and loading. Defaulting to empty config.\n",
      "WARNING:tensorflow:Model's `__init__()` arguments contain non-serializable objects. Please implement a `get_config()` method in the subclassed Model for proper saving and loading. Defaulting to empty config.\n",
      "WARNING:tensorflow:Model's `__init__()` arguments contain non-serializable objects. Please implement a `get_config()` method in the subclassed Model for proper saving and loading. Defaulting to empty config.\n",
      "WARNING:tensorflow:Model's `__init__()` arguments contain non-serializable objects. Please implement a `get_config()` method in the subclassed Model for proper saving and loading. Defaulting to empty config.\n",
      "WARNING:tensorflow:Model's `__init__()` arguments contain non-serializable objects. Please implement a `get_config()` method in the subclassed Model for proper saving and loading. Defaulting to empty config.\n",
      "WARNING:tensorflow:Model's `__init__()` arguments contain non-serializable objects. Please implement a `get_config()` method in the subclassed Model for proper saving and loading. Defaulting to empty config.\n",
      "tf.Tensor([ 1.4844472  1.4324844  1.4172541 ... -1.9798962 -1.9798962 -1.9798962], shape=(4800,), dtype=float32) tf.Tensor([ 1.1989799  1.1817034  1.1480271 ... -2.6789606 -2.265665  -2.6947875], shape=(4800,), dtype=float32)\n",
      "tf.Tensor([ 1.4844472  1.4324844  1.4172541 ... -1.9798962 -1.9798962 -1.9798962], shape=(4800,), dtype=float32) tf.Tensor([ 1.2040153  1.1977923  1.1514115 ... -2.620296  -2.327886  -2.6310253], shape=(4800,), dtype=float32)\n",
      "tf.Tensor([ 1.4844472  1.4324844  1.4172541 ... -1.9798962 -1.9798962 -1.9798962], shape=(4800,), dtype=float32) tf.Tensor([ 1.2117697  1.215758   1.1570075 ... -2.54546   -2.4022543 -2.551011 ], shape=(4800,), dtype=float32)\n",
      "tf.Tensor([ 1.4844472  1.4324844  1.4172541 ... -1.9798962 -1.9798962 -1.9798962], shape=(4800,), dtype=float32) tf.Tensor([ 1.2217067  1.2365044  1.1644317 ... -2.456605  -2.486714  -2.4557986], shape=(4800,), dtype=float32)\n",
      "tf.Tensor([ 1.4844472  1.4324844  1.4172541 ... -1.9798962 -1.9798962 -1.9798962], shape=(4800,), dtype=float32) tf.Tensor([ 1.2342725  1.2601447  1.1742986 ... -2.3537436 -2.5776594 -2.3469636], shape=(4800,), dtype=float32)\n",
      "[29.65523  28.944677 28.226946 ...  0.        0.        0.      ]\n",
      "tf.Tensor(\n",
      "[[0.16856141]\n",
      " [0.24045469]\n",
      " [0.16904728]\n",
      " ...\n",
      " [0.22092961]\n",
      " [0.31972885]\n",
      " [0.2323912 ]], shape=(4800, 1), dtype=float32)\n",
      "[29.65523  28.944677 28.226946 ...  0.        0.        0.      ]\n",
      "tf.Tensor(\n",
      "[[0.2392126 ]\n",
      " [0.3302189 ]\n",
      " [0.24023384]\n",
      " ...\n",
      " [0.30042285]\n",
      " [0.43206394]\n",
      " [0.31580555]], shape=(4800, 1), dtype=float32)\n",
      "[29.65523  28.944677 28.226946 ...  0.        0.        0.      ]\n",
      "tf.Tensor(\n",
      "[[0.32777727]\n",
      " [0.43846625]\n",
      " [0.32942504]\n",
      " ...\n",
      " [0.39537722]\n",
      " [0.5653228 ]\n",
      " [0.41529828]], shape=(4800, 1), dtype=float32)\n",
      "[29.65523  28.944677 28.226946 ...  0.        0.        0.      ]\n",
      "tf.Tensor(\n",
      "[[0.4360449 ]\n",
      " [0.56739825]\n",
      " [0.43825755]\n",
      " ...\n",
      " [0.50702596]\n",
      " [0.7212355 ]\n",
      " [0.5322624 ]], shape=(4800, 1), dtype=float32)\n",
      "[29.65523  28.944677 28.226946 ...  0.        0.        0.      ]\n",
      "tf.Tensor(\n",
      "[[0.5657536 ]\n",
      " [0.7187495 ]\n",
      " [0.5686431 ]\n",
      " ...\n",
      " [0.6368972 ]\n",
      " [0.9016701 ]\n",
      " [0.66823006]], shape=(4800, 1), dtype=float32)\n"
     ]
    },
    {
     "name": "stderr",
     "output_type": "stream",
     "text": [
      "t:   9%|▉         | 1/11 [02:42<27:08, 162.83s/it, now=None]"
     ]
    },
    {
     "name": "stdout",
     "output_type": "stream",
     "text": [
      "Moviepy - Building video /Users/jonathanlamontange-kratz/Documents/GitHub/rl-stuff/ppo/videos/1709505540.694938/rl-video-episode-1.mp4.\n",
      "Moviepy - Writing video /Users/jonathanlamontange-kratz/Documents/GitHub/rl-stuff/ppo/videos/1709505540.694938/rl-video-episode-1.mp4\n",
      "\n"
     ]
    },
    {
     "name": "stderr",
     "output_type": "stream",
     "text": [
      "t:   9%|▉         | 1/11 [02:43<27:11, 163.11s/it, now=None]"
     ]
    },
    {
     "name": "stdout",
     "output_type": "stream",
     "text": [
      "Moviepy - Done !\n",
      "Moviepy - video ready /Users/jonathanlamontange-kratz/Documents/GitHub/rl-stuff/ppo/videos/1709505540.694938/rl-video-episode-1.mp4\n",
      "score:  34.0\n",
      "score:  31.0\n",
      "score:  24.0\n",
      "score:  93.0\n",
      "score:  41.0\n",
      "score:  35.0\n",
      "score:  20.0\n"
     ]
    },
    {
     "name": "stderr",
     "output_type": "stream",
     "text": [
      "t:   9%|▉         | 1/11 [02:46<27:40, 166.04s/it, now=None]"
     ]
    },
    {
     "name": "stdout",
     "output_type": "stream",
     "text": [
      "Moviepy - Building video /Users/jonathanlamontange-kratz/Documents/GitHub/rl-stuff/ppo/videos/1709505540.694938/rl-video-episode-8.mp4.\n",
      "Moviepy - Writing video /Users/jonathanlamontange-kratz/Documents/GitHub/rl-stuff/ppo/videos/1709505540.694938/rl-video-episode-8.mp4\n",
      "\n"
     ]
    },
    {
     "name": "stderr",
     "output_type": "stream",
     "text": [
      "t:   9%|▉         | 1/11 [02:46<27:42, 166.23s/it, now=None]"
     ]
    },
    {
     "name": "stdout",
     "output_type": "stream",
     "text": [
      "Moviepy - Done !\n",
      "Moviepy - video ready /Users/jonathanlamontange-kratz/Documents/GitHub/rl-stuff/ppo/videos/1709505540.694938/rl-video-episode-8.mp4\n",
      "score:  50.0\n",
      "score:  20.0\n",
      "score:  139.0\n",
      "score:  46.0\n",
      "score:  55.0\n",
      "score:  31.0\n"
     ]
    }
   ],
   "source": [
    "# state, _ = env.reset()\n",
    "# print(state)\n",
    "# print(agent.select_action(state)[0])\n",
    "agent.train()"
   ]
  },
  {
   "cell_type": "code",
   "execution_count": null,
   "metadata": {},
   "outputs": [
    {
     "name": "stdout",
     "output_type": "stream",
     "text": [
      "Moviepy - Building video /Users/jonathanlamontange-kratz/Documents/GitHub/rl-stuff/ppo/videos/1709489411.926007/rl-video-episode-1.mp4.\n",
      "Moviepy - Writing video /Users/jonathanlamontange-kratz/Documents/GitHub/rl-stuff/ppo/videos/1709489411.926007/rl-video-episode-1.mp4\n",
      "\n"
     ]
    },
    {
     "name": "stderr",
     "output_type": "stream",
     "text": [
      "                                                              \r"
     ]
    },
    {
     "name": "stdout",
     "output_type": "stream",
     "text": [
      "Moviepy - Done !\n",
      "Moviepy - video ready /Users/jonathanlamontange-kratz/Documents/GitHub/rl-stuff/ppo/videos/1709489411.926007/rl-video-episode-1.mp4\n",
      "score:  112.0\n",
      "score:  152.0\n",
      "score:  50.0\n",
      "score:  115.0\n",
      "score:  137.0\n",
      "score:  32.0\n",
      "score:  119.0\n",
      "Moviepy - Building video /Users/jonathanlamontange-kratz/Documents/GitHub/rl-stuff/ppo/videos/1709489411.926007/rl-video-episode-8.mp4.\n",
      "Moviepy - Writing video /Users/jonathanlamontange-kratz/Documents/GitHub/rl-stuff/ppo/videos/1709489411.926007/rl-video-episode-8.mp4\n",
      "\n"
     ]
    },
    {
     "name": "stderr",
     "output_type": "stream",
     "text": [
      "                                                            \r"
     ]
    },
    {
     "name": "stdout",
     "output_type": "stream",
     "text": [
      "Moviepy - Done !\n",
      "Moviepy - video ready /Users/jonathanlamontange-kratz/Documents/GitHub/rl-stuff/ppo/videos/1709489411.926007/rl-video-episode-8.mp4\n",
      "score:  113.0\n",
      "score:  154.0\n",
      "score:  117.0\n",
      "score:  22.0\n",
      "Moviepy - Building video /Users/jonathanlamontange-kratz/Documents/GitHub/rl-stuff/ppo/videos/1709489411.926007/rl-video-episode-512.mp4.\n",
      "Moviepy - Writing video /Users/jonathanlamontange-kratz/Documents/GitHub/rl-stuff/ppo/videos/1709489411.926007/rl-video-episode-512.mp4\n",
      "\n"
     ]
    },
    {
     "name": "stderr",
     "output_type": "stream",
     "text": [
      "                                                               \r"
     ]
    },
    {
     "name": "stdout",
     "output_type": "stream",
     "text": [
      "Moviepy - Done !\n",
      "Moviepy - video ready /Users/jonathanlamontange-kratz/Documents/GitHub/rl-stuff/ppo/videos/1709489411.926007/rl-video-episode-512.mp4\n",
      "score:  146.0\n",
      "score:  118.0\n",
      "score:  112.0\n",
      "score:  158.0\n",
      "Moviepy - Building video /Users/jonathanlamontange-kratz/Documents/GitHub/rl-stuff/ppo/videos/1709489411.926007/rl-video-episode-216.mp4.\n",
      "Moviepy - Writing video /Users/jonathanlamontange-kratz/Documents/GitHub/rl-stuff/ppo/videos/1709489411.926007/rl-video-episode-216.mp4\n",
      "\n"
     ]
    },
    {
     "name": "stderr",
     "output_type": "stream",
     "text": [
      "                                                            \r"
     ]
    },
    {
     "name": "stdout",
     "output_type": "stream",
     "text": [
      "Moviepy - Done !\n",
      "Moviepy - video ready /Users/jonathanlamontange-kratz/Documents/GitHub/rl-stuff/ppo/videos/1709489411.926007/rl-video-episode-216.mp4\n",
      "score:  86.0\n",
      "score:  111.0\n",
      "score:  158.0\n",
      "score:  127.0\n",
      "score:  46.0\n",
      "score:  140.0\n",
      "score:  108.0\n",
      "score:  125.0\n",
      "score:  117.0\n",
      "Moviepy - Building video /Users/jonathanlamontange-kratz/Documents/GitHub/rl-stuff/ppo/videos/1709489411.926007/rl-video-episode-125.mp4.\n",
      "Moviepy - Writing video /Users/jonathanlamontange-kratz/Documents/GitHub/rl-stuff/ppo/videos/1709489411.926007/rl-video-episode-125.mp4\n",
      "\n"
     ]
    },
    {
     "name": "stderr",
     "output_type": "stream",
     "text": [
      "                                                               \r"
     ]
    },
    {
     "name": "stdout",
     "output_type": "stream",
     "text": [
      "Moviepy - Done !\n",
      "Moviepy - video ready /Users/jonathanlamontange-kratz/Documents/GitHub/rl-stuff/ppo/videos/1709489411.926007/rl-video-episode-125.mp4\n",
      "score:  127.0\n",
      "score:  143.0\n",
      "Moviepy - Building video /Users/jonathanlamontange-kratz/Documents/GitHub/rl-stuff/ppo/videos/1709489411.926007/rl-video-episode-27.mp4.\n",
      "Moviepy - Writing video /Users/jonathanlamontange-kratz/Documents/GitHub/rl-stuff/ppo/videos/1709489411.926007/rl-video-episode-27.mp4\n",
      "\n"
     ]
    },
    {
     "name": "stderr",
     "output_type": "stream",
     "text": [
      "                                                             "
     ]
    },
    {
     "name": "stdout",
     "output_type": "stream",
     "text": [
      "Moviepy - Done !\n",
      "Moviepy - video ready /Users/jonathanlamontange-kratz/Documents/GitHub/rl-stuff/ppo/videos/1709489411.926007/rl-video-episode-27.mp4\n",
      "score:  48.0\n"
     ]
    },
    {
     "name": "stderr",
     "output_type": "stream",
     "text": [
      "\r"
     ]
    },
    {
     "name": "stdout",
     "output_type": "stream",
     "text": [
      "score:  120.0\n",
      "Moviepy - Building video /Users/jonathanlamontange-kratz/Documents/GitHub/rl-stuff/ppo/videos/1709489411.926007/rl-video-episode-729.mp4.\n",
      "Moviepy - Writing video /Users/jonathanlamontange-kratz/Documents/GitHub/rl-stuff/ppo/videos/1709489411.926007/rl-video-episode-729.mp4\n",
      "\n"
     ]
    },
    {
     "name": "stderr",
     "output_type": "stream",
     "text": [
      "                                                            \r"
     ]
    },
    {
     "name": "stdout",
     "output_type": "stream",
     "text": [
      "Moviepy - Done !\n",
      "Moviepy - video ready /Users/jonathanlamontange-kratz/Documents/GitHub/rl-stuff/ppo/videos/1709489411.926007/rl-video-episode-729.mp4\n",
      "score:  104.0\n",
      "score:  159.0\n",
      "score:  66.0\n",
      "score:  104.0\n",
      "score:  114.0\n",
      "score:  147.0\n",
      "score:  98.0\n",
      "score:  153.0\n",
      "score:  80.0\n",
      "score:  67.0\n",
      "score:  190.0\n",
      "score:  135.0\n",
      "score:  59.0\n",
      "score:  193.0\n",
      "Moviepy - Building video /Users/jonathanlamontange-kratz/Documents/GitHub/rl-stuff/ppo/videos/1709489411.926007/rl-video-episode-343.mp4.\n",
      "Moviepy - Writing video /Users/jonathanlamontange-kratz/Documents/GitHub/rl-stuff/ppo/videos/1709489411.926007/rl-video-episode-343.mp4\n",
      "\n"
     ]
    },
    {
     "name": "stderr",
     "output_type": "stream",
     "text": [
      "                                                               \r"
     ]
    },
    {
     "name": "stdout",
     "output_type": "stream",
     "text": [
      "Moviepy - Done !\n",
      "Moviepy - video ready /Users/jonathanlamontange-kratz/Documents/GitHub/rl-stuff/ppo/videos/1709489411.926007/rl-video-episode-343.mp4\n",
      "score:  143.0\n",
      "score:  109.0\n",
      "score:  105.0\n",
      "score:  173.0\n",
      "score:  93.0\n",
      "score:  111.0\n",
      "score:  129.0\n",
      "score:  149.0\n",
      "score:  142.0\n",
      "score:  133.0\n",
      "score:  128.0\n",
      "score:  151.0\n",
      "score:  27.0\n",
      "score:  163.0\n",
      "score:  65.0\n",
      "score:  111.0\n",
      "score:  200.0\n",
      "score:  101.0\n",
      "score:  84.0\n",
      "score:  119.0\n",
      "score:  158.0\n",
      "Moviepy - Building video /Users/jonathanlamontange-kratz/Documents/GitHub/rl-stuff/ppo/videos/1709489411.926007/rl-video-episode-64.mp4.\n",
      "Moviepy - Writing video /Users/jonathanlamontange-kratz/Documents/GitHub/rl-stuff/ppo/videos/1709489411.926007/rl-video-episode-64.mp4\n",
      "\n"
     ]
    },
    {
     "name": "stderr",
     "output_type": "stream",
     "text": [
      "                                                              \r"
     ]
    },
    {
     "name": "stdout",
     "output_type": "stream",
     "text": [
      "Moviepy - Done !\n",
      "Moviepy - video ready /Users/jonathanlamontange-kratz/Documents/GitHub/rl-stuff/ppo/videos/1709489411.926007/rl-video-episode-64.mp4\n",
      "score:  100.0\n",
      "score:  200.0\n",
      "score:  31.0\n",
      "score:  118.0\n",
      "score:  119.0\n",
      "score:  121.0\n",
      "score:  99.0\n",
      "score:  71.0\n",
      "score:  83.0\n",
      "score:  174.0\n",
      "score:  150.0\n",
      "score:  107.0\n",
      "score:  78.0\n",
      "score:  82.0\n",
      "score:  106.0\n",
      "score:  48.0\n",
      "score:  114.0\n",
      "score:  103.0\n",
      "score:  155.0\n",
      "score:  90.0\n",
      "score:  104.0\n",
      "score:  147.0\n",
      "score:  61.0\n",
      "score:  141.0\n",
      "score:  185.0\n",
      "score:  105.0\n",
      "score:  181.0\n",
      "score:  121.0\n",
      "score:  155.0\n",
      "score:  89.0\n",
      "score:  169.0\n",
      "score:  69.0\n",
      "score:  200.0\n",
      "score:  128.0\n",
      "score:  158.0\n",
      "score:  200.0\n"
     ]
    },
    {
     "name": "stderr",
     "output_type": "stream",
     "text": [
      "/Users/jonathanlamontange-kratz/Library/Python/3.9/lib/python/site-packages/gymnasium/wrappers/record_video.py:94: UserWarning: \u001b[33mWARN: Overwriting existing videos at /Users/jonathanlamontange-kratz/Documents/GitHub/rl-stuff/ppo/videos/1709489411.926007 folder (try specifying a different `video_folder` for the `RecordVideo` wrapper if this is not desired)\u001b[0m\n",
      "  logger.warn(\n"
     ]
    },
    {
     "name": "stdout",
     "output_type": "stream",
     "text": [
      "Moviepy - Building video /Users/jonathanlamontange-kratz/Documents/GitHub/rl-stuff/ppo/videos/1709489411.926007/rl-video-episode-3000.mp4.\n",
      "Moviepy - Writing video /Users/jonathanlamontange-kratz/Documents/GitHub/rl-stuff/ppo/videos/1709489411.926007/rl-video-episode-3000.mp4\n",
      "\n"
     ]
    },
    {
     "name": "stderr",
     "output_type": "stream",
     "text": [
      "                                                              \r"
     ]
    },
    {
     "name": "stdout",
     "output_type": "stream",
     "text": [
      "Moviepy - Done !\n",
      "Moviepy - video ready /Users/jonathanlamontange-kratz/Documents/GitHub/rl-stuff/ppo/videos/1709489411.926007/rl-video-episode-3000.mp4\n",
      "Moviepy - Building video /Users/jonathanlamontange-kratz/Documents/GitHub/rl-stuff/ppo/videos/1709489411.926007/rl-video-episode-2000.mp4.\n",
      "Moviepy - Writing video /Users/jonathanlamontange-kratz/Documents/GitHub/rl-stuff/ppo/videos/1709489411.926007/rl-video-episode-2000.mp4\n",
      "\n"
     ]
    },
    {
     "name": "stderr",
     "output_type": "stream",
     "text": [
      "                                                              \r"
     ]
    },
    {
     "name": "stdout",
     "output_type": "stream",
     "text": [
      "Moviepy - Done !\n",
      "Moviepy - video ready /Users/jonathanlamontange-kratz/Documents/GitHub/rl-stuff/ppo/videos/1709489411.926007/rl-video-episode-2000.mp4\n",
      "Moviepy - Building video /Users/jonathanlamontange-kratz/Documents/GitHub/rl-stuff/ppo/videos/1709489411.926007/rl-video-episode-1000.mp4.\n",
      "Moviepy - Writing video /Users/jonathanlamontange-kratz/Documents/GitHub/rl-stuff/ppo/videos/1709489411.926007/rl-video-episode-1000.mp4\n",
      "\n"
     ]
    },
    {
     "name": "stderr",
     "output_type": "stream",
     "text": [
      "                                                            \r"
     ]
    },
    {
     "name": "stdout",
     "output_type": "stream",
     "text": [
      "Moviepy - Done !\n",
      "Moviepy - video ready /Users/jonathanlamontange-kratz/Documents/GitHub/rl-stuff/ppo/videos/1709489411.926007/rl-video-episode-1000.mp4\n",
      "Moviepy - Building video /Users/jonathanlamontange-kratz/Documents/GitHub/rl-stuff/ppo/videos/1709489411.926007/rl-video-episode-0.mp4.\n",
      "Moviepy - Writing video /Users/jonathanlamontange-kratz/Documents/GitHub/rl-stuff/ppo/videos/1709489411.926007/rl-video-episode-0.mp4\n",
      "\n"
     ]
    },
    {
     "name": "stderr",
     "output_type": "stream",
     "text": [
      "                                                              \r"
     ]
    },
    {
     "name": "stdout",
     "output_type": "stream",
     "text": [
      "Moviepy - Done !\n",
      "Moviepy - video ready /Users/jonathanlamontange-kratz/Documents/GitHub/rl-stuff/ppo/videos/1709489411.926007/rl-video-episode-0.mp4\n",
      "score:  127.0\n"
     ]
    },
    {
     "data": {
      "text/plain": [
       "118.65"
      ]
     },
     "execution_count": 5,
     "metadata": {},
     "output_type": "execute_result"
    }
   ],
   "source": [
    "agent.test()"
   ]
  },
  {
   "cell_type": "code",
   "execution_count": null,
   "metadata": {},
   "outputs": [
    {
     "name": "stdout",
     "output_type": "stream",
     "text": [
      "tf.Tensor(\n",
      "[[1. 0.]\n",
      " [0. 1.]\n",
      " [0. 1.]], shape=(3, 2), dtype=float32)\n",
      "tf.Tensor([1 0], shape=(2,), dtype=int32)\n",
      "tf.Tensor(-0.49463958, shape=(), dtype=float32)\n",
      "tf.Tensor(-0.4946395, shape=(), dtype=float32)\n",
      "tf.Tensor(\n",
      "[[-1.1711006  -0.37110066]\n",
      " [-0.37110066 -1.1711006 ]], shape=(2, 2), dtype=float32)\n",
      "tf.Tensor(\n",
      "[[-1.1711006  -0.37110063]\n",
      " [-0.37110063 -1.1711006 ]], shape=(2, 2), dtype=float32)\n",
      "tf.Tensor(-0.4946395, shape=(), dtype=float32)\n"
     ]
    }
   ],
   "source": [
    "import tensorflow_probability as tfp\n",
    "\n",
    "print(tf.one_hot([0, 1, 1], 2))\n",
    "distribution = tfp.distributions.Categorical(probs=[[0.1, 0.9],[0.9, 0.1]])\n",
    "print(distribution.sample())\n",
    "print(tf.reduce_sum(tf.reduce_mean([-0.6, -0.6] - distribution.log_prob([1, 0]))))\n",
    "print(tf.reduce_mean([-0.6, -0.6] - tf.reduce_sum(tf.one_hot([1, 0], 2) * tf.math.log([[0.1, 0.9],[0.9, 0.1]]), axis=1)))\n",
    "\n",
    "print(tf.math.log(tf.nn.softmax([[0.1, 0.9],[0.9, 0.1]])))\n",
    "print(tf.nn.log_softmax([[0.1, 0.9],[0.9, 0.1]]))\n",
    "\n",
    "def logprobabilities(logits, a):\n",
    "    # Compute the log-probabilities of taking actions a by using the logits (i.e. the output of the actor)\n",
    "    logprobabilities_all = tf.math.log(logits)\n",
    "    logprobability = tf.reduce_sum(\n",
    "        tf.one_hot(a, 2) * logprobabilities_all, axis=1\n",
    "    )\n",
    "    return logprobability\n",
    "\n",
    "\n",
    "kl = tf.reduce_mean(\n",
    "[-0.6, -0.6] - logprobabilities([[0.1, 0.9], [0.9, 0.1]], [1, 0])\n",
    ")\n",
    "# kl = tf.reduce_sum(kl)\n",
    "print(kl)\n"
   ]
  }
 ],
 "metadata": {
  "kernelspec": {
   "display_name": "Python 3",
   "language": "python",
   "name": "python3"
  },
  "language_info": {
   "codemirror_mode": {
    "name": "ipython",
    "version": 3
   },
   "file_extension": ".py",
   "mimetype": "text/x-python",
   "name": "python",
   "nbconvert_exporter": "python",
   "pygments_lexer": "ipython3",
   "version": "3.9.6"
  }
 },
 "nbformat": 4,
 "nbformat_minor": 2
}
