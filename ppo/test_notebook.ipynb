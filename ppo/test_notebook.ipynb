{
 "cells": [
  {
   "cell_type": "code",
   "execution_count": null,
   "metadata": {},
   "outputs": [],
   "source": [
    "from ppo_agent import PPOAgent\n",
    "import gymnasium as gym\n",
    "import torch\n",
    "from agent_configs import PPOConfig, PPOActorConfig, PPOCriticConfig\n",
    "from game_configs import CartPoleConfig\n",
    "\n",
    "env = gym.make('CartPole-v1', render_mode='rgb_array')\n",
    "config_dict = {\n",
    "        'activation': 'tanh',\n",
    "        'clip_param': 0.2,\n",
    "        'kernel_initializer': 'orthogonal',\n",
    "        # NORMALIZATION?\n",
    "        'discount_factor': 0.99,\n",
    "        'gae_lambda': 0.95,\n",
    "        'critic_dense_layers': [64],\n",
    "        'actor_dense_layers': [64],\n",
    "        # REWARD CLIPPING\n",
    "        'steps_per_epoch': 512,\n",
    "        'train_policy_iterations': 4,\n",
    "        'train_value_iterations': 4,\n",
    "        'target_kl': 0.02,\n",
    "        'entropy_coefficient': 0.01,\n",
    "        'num_minibatches': 4,\n",
    "        'loss_function': None,\n",
    "    }\n",
    "\n",
    "actor_config_dict = {\n",
    "    'optimizer': torch.optim.Adam,\n",
    "    'learning_rate': 2.5e-4,\n",
    "    'adam_epsilon': 1e-7,\n",
    "    'clipnorm': 0.5,\n",
    "    'loss_function': None,\n",
    "}\n",
    "\n",
    "critic_config_dict = {\n",
    "    'optimizer': torch.optim.Adam,\n",
    "    'learning_rate': 2.5e-4,\n",
    "    'adam_epsilon': 1e-7,\n",
    "    'clipnorm': 0.5,\n",
    "    'loss_function': None,\n",
    "}\n",
    "\n",
    "print(\"Actor Config\")\n",
    "actor_config = PPOActorConfig(actor_config_dict)\n",
    "print(\"Critic Config\")\n",
    "critic_config = PPOCriticConfig(critic_config_dict)\n",
    "\n",
    "print(\"PPO Config\")\n",
    "config = PPOConfig(config_dict, CartPoleConfig(), actor_config=actor_config, critic_config=critic_config)\n",
    "\n",
    "agent = PPOAgent(env, config=config, name='PPOAgent')\n"
   ]
  },
  {
   "cell_type": "code",
   "execution_count": null,
   "metadata": {},
   "outputs": [],
   "source": [
    "for param in agent.model.actor.parameters():\n",
    "    print(param)\n",
    "    print(param.grad)\n",
    "    print(param.grad_fn)\n",
    "    print(param.requires_grad)\n",
    "\n",
    "for param in agent.model.critic.parameters():\n",
    "    print(param)\n",
    "    print(param.grad)\n",
    "    print(param.grad_fn)\n",
    "    print(param.requires_grad)"
   ]
  },
  {
   "cell_type": "code",
   "execution_count": null,
   "metadata": {},
   "outputs": [],
   "source": [
    "# state, _ = env.reset()\n",
    "# print(state)\n",
    "# print(agent.select_action(state)[0])\n",
    "agent.train()"
   ]
  }
 ],
 "metadata": {
  "kernelspec": {
   "display_name": "Python 3",
   "language": "python",
   "name": "python3"
  },
  "language_info": {
   "codemirror_mode": {
    "name": "ipython",
    "version": 3
   },
   "file_extension": ".py",
   "mimetype": "text/x-python",
   "name": "python",
   "nbconvert_exporter": "python",
   "pygments_lexer": "ipython3",
   "version": "3.12.3"
  }
 },
 "nbformat": 4,
 "nbformat_minor": 2
}
