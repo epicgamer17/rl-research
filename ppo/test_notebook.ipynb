{
 "cells": [
  {
   "cell_type": "code",
   "execution_count": 1,
   "metadata": {},
   "outputs": [
    {
     "name": "stderr",
     "output_type": "stream",
     "text": [
      "/Users/jonathanlamontange-kratz/Library/Python/3.9/lib/python/site-packages/urllib3/__init__.py:34: NotOpenSSLWarning: urllib3 v2 only supports OpenSSL 1.1.1+, currently the 'ssl' module is compiled with 'LibreSSL 2.8.3'. See: https://github.com/urllib3/urllib3/issues/3020\n",
      "  warnings.warn(\n"
     ]
    },
    {
     "name": "stdout",
     "output_type": "stream",
     "text": [
      "1 Physical GPUs, 1 Logical GPUs\n"
     ]
    },
    {
     "name": "stderr",
     "output_type": "stream",
     "text": [
      "2024-03-30 17:08:10.951015: I metal_plugin/src/device/metal_device.cc:1154] Metal device set to: Apple M2\n",
      "2024-03-30 17:08:10.951041: I metal_plugin/src/device/metal_device.cc:296] systemMemory: 16.00 GB\n",
      "2024-03-30 17:08:10.951048: I metal_plugin/src/device/metal_device.cc:313] maxCacheSize: 5.33 GB\n",
      "2024-03-30 17:08:10.951087: I tensorflow/core/common_runtime/pluggable_device/pluggable_device_factory.cc:306] Could not identify NUMA node of platform GPU ID 0, defaulting to 0. Your kernel may not have been built with NUMA support.\n",
      "2024-03-30 17:08:10.951110: I tensorflow/core/common_runtime/pluggable_device/pluggable_device_factory.cc:272] Created TensorFlow device (/job:localhost/replica:0/task:0/device:GPU:0 with 0 MB memory) -> physical PluggableDevice (device: 0, name: METAL, pci bus id: <undefined>)\n"
     ]
    }
   ],
   "source": [
    "from ppo_agent import PPOAgent"
   ]
  },
  {
   "cell_type": "code",
   "execution_count": 3,
   "metadata": {},
   "outputs": [
    {
     "name": "stdout",
     "output_type": "stream",
     "text": [
      "Actor Config\n",
      "Using optimizer: <class 'keras.src.optimizers.legacy.adam.Adam'>\n",
      "Using adam_epsilon: 1e-07\n",
      "Using learning_rate: 0.0005\n",
      "Using clipnorm: 0.5\n",
      "Critic Config\n",
      "Using optimizer: <class 'keras.src.optimizers.legacy.adam.Adam'>\n",
      "Using adam_epsilon: 1e-07\n",
      "Using learning_rate: 0.0005\n",
      "Using clipnorm: 0.5\n",
      "PPO Config\n",
      "Using optimizer: -1\n",
      "Using adam_epsilon: -1\n",
      "Using learning_rate: -1\n",
      "Using clipnorm: -1\n",
      "Using loss_function: -1\n",
      "Using training_iterations: -1\n",
      "Using num_minibatches: 4\n",
      "Using minibatch_size: 4800\n",
      "Using replay_buffer_size: 4800\n",
      "Using min_replay_buffer_size: -1\n",
      "Using default training_steps: 10000\n",
      "Using activation: relu\n",
      "Using kernel_initializer: orthogonal\n",
      "/Users/jonathanlamontange-kratz/Documents/GitHub/rl-stuff/ppo/videos/PPOAgent\n",
      "PPOAgent\n"
     ]
    }
   ],
   "source": [
    "import tensorflow as tf\n",
    "import gymnasium as gym\n",
    "from agent_configs import PPOConfig, PPOActorConfig, PPOCriticConfig\n",
    "from game_configs import CartPoleConfig\n",
    "\n",
    "env = gym.make('CartPole-v1', render_mode='rgb_array')\n",
    "config_dict = {\n",
    "        'clip_param': 0.2,\n",
    "        'activation': 'relu',\n",
    "        'kernel_initializer': 'orthogonal',\n",
    "        # NORMALIZATION?\n",
    "        'discount_factor': 0.99,\n",
    "        'gae_lambda': 0.98,\n",
    "        'conv_layers': [],\n",
    "        'conv_layers_noisy': False,\n",
    "        'critic_width': 64,\n",
    "        'critic_dense_layers': 2,\n",
    "        'critic_dense_layers_noisy': False,\n",
    "        'actor_width': 64,\n",
    "        'actor_dense_layers': 2,\n",
    "        'actor_dense_layers_noisy': False,\n",
    "        # REWARD CLIPPING\n",
    "        'steps_per_epoch': 4800,\n",
    "        'train_policy_iterations': 5,\n",
    "        'train_value_iterations': 5,\n",
    "        'target_kl': 0.02,\n",
    "        'entropy_coefficient': 0.01,\n",
    "        'num_minibatches': 4,\n",
    "    }\n",
    "\n",
    "actor_config_dict = {\n",
    "    'optimizer': tf.keras.optimizers.legacy.Adam,\n",
    "    'learning_rate': 0.0005,\n",
    "    'adam_epsilon': 1e-7,\n",
    "    'clipnorm': 0.5,\n",
    "}\n",
    "\n",
    "critic_config_dict = {\n",
    "    'optimizer': tf.keras.optimizers.legacy.Adam,\n",
    "    'learning_rate': 0.0005,\n",
    "    'adam_epsilon': 1e-7,\n",
    "    'clipnorm': 0.5,\n",
    "}\n",
    "\n",
    "print(\"Actor Config\")\n",
    "actor_config = PPOActorConfig(actor_config_dict)\n",
    "print(\"Critic Config\")\n",
    "critic_config = PPOCriticConfig(critic_config_dict)\n",
    "\n",
    "print(\"PPO Config\")\n",
    "config = PPOConfig(config_dict, CartPoleConfig(), actor_config=actor_config, critic_config=critic_config)\n",
    "\n",
    "agent = PPOAgent(env, config=config, name='PPOAgent')\n"
   ]
  },
  {
   "cell_type": "code",
   "execution_count": 4,
   "metadata": {},
   "outputs": [],
   "source": [
    "# agent.actor.summary()"
   ]
  },
  {
   "cell_type": "code",
   "execution_count": 5,
   "metadata": {},
   "outputs": [
    {
     "name": "stdout",
     "output_type": "stream",
     "text": [
      "Training Step:  0\n"
     ]
    },
    {
     "ename": "KeyboardInterrupt",
     "evalue": "",
     "output_type": "error",
     "traceback": [
      "\u001b[0;31m---------------------------------------------------------------------------\u001b[0m",
      "\u001b[0;31mKeyboardInterrupt\u001b[0m                         Traceback (most recent call last)",
      "Cell \u001b[0;32mIn[5], line 4\u001b[0m\n\u001b[1;32m      1\u001b[0m \u001b[38;5;66;03m# state, _ = env.reset()\u001b[39;00m\n\u001b[1;32m      2\u001b[0m \u001b[38;5;66;03m# print(state)\u001b[39;00m\n\u001b[1;32m      3\u001b[0m \u001b[38;5;66;03m# print(agent.select_action(state)[0])\u001b[39;00m\n\u001b[0;32m----> 4\u001b[0m \u001b[43magent\u001b[49m\u001b[38;5;241;43m.\u001b[39;49m\u001b[43mtrain\u001b[49m\u001b[43m(\u001b[49m\u001b[43m)\u001b[49m\n",
      "File \u001b[0;32m~/Documents/GitHub/rl-stuff/ppo/ppo_agent.py:225\u001b[0m, in \u001b[0;36mPPOAgent.train\u001b[0;34m(self)\u001b[0m\n\u001b[1;32m    223\u001b[0m score \u001b[38;5;241m=\u001b[39m \u001b[38;5;241m0\u001b[39m\n\u001b[1;32m    224\u001b[0m \u001b[38;5;28;01mfor\u001b[39;00m timestep \u001b[38;5;129;01min\u001b[39;00m \u001b[38;5;28mrange\u001b[39m(\u001b[38;5;28mself\u001b[39m\u001b[38;5;241m.\u001b[39mconfig\u001b[38;5;241m.\u001b[39msteps_per_epoch):\n\u001b[0;32m--> 225\u001b[0m     action \u001b[38;5;241m=\u001b[39m \u001b[38;5;28;43mself\u001b[39;49m\u001b[38;5;241;43m.\u001b[39;49m\u001b[43mselect_action\u001b[49m\u001b[43m(\u001b[49m\u001b[43mstate\u001b[49m\u001b[43m)\u001b[49m\n\u001b[1;32m    226\u001b[0m     next_state, reward, terminated, truncated, info \u001b[38;5;241m=\u001b[39m \u001b[38;5;28mself\u001b[39m\u001b[38;5;241m.\u001b[39mstep(action)\n\u001b[1;32m    227\u001b[0m     done \u001b[38;5;241m=\u001b[39m terminated \u001b[38;5;129;01mor\u001b[39;00m truncated\n",
      "File \u001b[0;32m~/Documents/GitHub/rl-stuff/ppo/ppo_agent.py:102\u001b[0m, in \u001b[0;36mPPOAgent.select_action\u001b[0;34m(self, state, legal_moves)\u001b[0m\n\u001b[1;32m    100\u001b[0m     selected_action \u001b[38;5;241m=\u001b[39m distribution\u001b[38;5;241m.\u001b[39mmode()\u001b[38;5;241m.\u001b[39mnumpy()\n\u001b[1;32m    101\u001b[0m \u001b[38;5;28;01melse\u001b[39;00m:\n\u001b[0;32m--> 102\u001b[0m     selected_action \u001b[38;5;241m=\u001b[39m \u001b[43mdistribution\u001b[49m\u001b[38;5;241;43m.\u001b[39;49m\u001b[43msample\u001b[49m\u001b[43m(\u001b[49m\u001b[43m)\u001b[49m\u001b[38;5;241m.\u001b[39mnumpy()\n\u001b[1;32m    104\u001b[0m \u001b[38;5;28;01mif\u001b[39;00m \u001b[38;5;28mlen\u001b[39m(selected_action) \u001b[38;5;241m==\u001b[39m \u001b[38;5;241m1\u001b[39m:\n\u001b[1;32m    105\u001b[0m     selected_action \u001b[38;5;241m=\u001b[39m selected_action[\u001b[38;5;241m0\u001b[39m]\n",
      "File \u001b[0;32m~/Library/Python/3.9/lib/python/site-packages/tensorflow_probability/python/distributions/distribution.py:1205\u001b[0m, in \u001b[0;36mDistribution.sample\u001b[0;34m(self, sample_shape, seed, name, **kwargs)\u001b[0m\n\u001b[1;32m   1190\u001b[0m \u001b[38;5;250m\u001b[39m\u001b[38;5;124;03m\"\"\"Generate samples of the specified shape.\u001b[39;00m\n\u001b[1;32m   1191\u001b[0m \n\u001b[1;32m   1192\u001b[0m \u001b[38;5;124;03mNote that a call to `sample()` without arguments will generate a single\u001b[39;00m\n\u001b[0;32m   (...)\u001b[0m\n\u001b[1;32m   1202\u001b[0m \u001b[38;5;124;03m  samples: a `Tensor` with prepended dimensions `sample_shape`.\u001b[39;00m\n\u001b[1;32m   1203\u001b[0m \u001b[38;5;124;03m\"\"\"\u001b[39;00m\n\u001b[1;32m   1204\u001b[0m \u001b[38;5;28;01mwith\u001b[39;00m \u001b[38;5;28mself\u001b[39m\u001b[38;5;241m.\u001b[39m_name_and_control_scope(name):\n\u001b[0;32m-> 1205\u001b[0m   \u001b[38;5;28;01mreturn\u001b[39;00m \u001b[38;5;28;43mself\u001b[39;49m\u001b[38;5;241;43m.\u001b[39;49m\u001b[43m_call_sample_n\u001b[49m\u001b[43m(\u001b[49m\u001b[43msample_shape\u001b[49m\u001b[43m,\u001b[49m\u001b[43m \u001b[49m\u001b[43mseed\u001b[49m\u001b[43m,\u001b[49m\u001b[43m \u001b[49m\u001b[38;5;241;43m*\u001b[39;49m\u001b[38;5;241;43m*\u001b[39;49m\u001b[43mkwargs\u001b[49m\u001b[43m)\u001b[49m\n",
      "File \u001b[0;32m~/Library/Python/3.9/lib/python/site-packages/tensorflow_probability/python/distributions/distribution.py:1182\u001b[0m, in \u001b[0;36mDistribution._call_sample_n\u001b[0;34m(self, sample_shape, seed, **kwargs)\u001b[0m\n\u001b[1;32m   1178\u001b[0m sample_shape \u001b[38;5;241m=\u001b[39m ps\u001b[38;5;241m.\u001b[39mconvert_to_shape_tensor(\n\u001b[1;32m   1179\u001b[0m     ps\u001b[38;5;241m.\u001b[39mcast(sample_shape, tf\u001b[38;5;241m.\u001b[39mint32), name\u001b[38;5;241m=\u001b[39m\u001b[38;5;124m'\u001b[39m\u001b[38;5;124msample_shape\u001b[39m\u001b[38;5;124m'\u001b[39m)\n\u001b[1;32m   1180\u001b[0m sample_shape, n \u001b[38;5;241m=\u001b[39m \u001b[38;5;28mself\u001b[39m\u001b[38;5;241m.\u001b[39m_expand_sample_shape_to_vector(\n\u001b[1;32m   1181\u001b[0m     sample_shape, \u001b[38;5;124m'\u001b[39m\u001b[38;5;124msample_shape\u001b[39m\u001b[38;5;124m'\u001b[39m)\n\u001b[0;32m-> 1182\u001b[0m samples \u001b[38;5;241m=\u001b[39m \u001b[38;5;28;43mself\u001b[39;49m\u001b[38;5;241;43m.\u001b[39;49m\u001b[43m_sample_n\u001b[49m\u001b[43m(\u001b[49m\n\u001b[1;32m   1183\u001b[0m \u001b[43m    \u001b[49m\u001b[43mn\u001b[49m\u001b[43m,\u001b[49m\u001b[43m \u001b[49m\u001b[43mseed\u001b[49m\u001b[38;5;241;43m=\u001b[39;49m\u001b[43mseed\u001b[49m\u001b[43m(\u001b[49m\u001b[43m)\u001b[49m\u001b[43m \u001b[49m\u001b[38;5;28;43;01mif\u001b[39;49;00m\u001b[43m \u001b[49m\u001b[38;5;28;43mcallable\u001b[39;49m\u001b[43m(\u001b[49m\u001b[43mseed\u001b[49m\u001b[43m)\u001b[49m\u001b[43m \u001b[49m\u001b[38;5;28;43;01melse\u001b[39;49;00m\u001b[43m \u001b[49m\u001b[43mseed\u001b[49m\u001b[43m,\u001b[49m\u001b[43m \u001b[49m\u001b[38;5;241;43m*\u001b[39;49m\u001b[38;5;241;43m*\u001b[39;49m\u001b[43mkwargs\u001b[49m\u001b[43m)\u001b[49m\n\u001b[1;32m   1184\u001b[0m samples \u001b[38;5;241m=\u001b[39m tf\u001b[38;5;241m.\u001b[39mnest\u001b[38;5;241m.\u001b[39mmap_structure(\n\u001b[1;32m   1185\u001b[0m     \u001b[38;5;28;01mlambda\u001b[39;00m x: tf\u001b[38;5;241m.\u001b[39mreshape(x, ps\u001b[38;5;241m.\u001b[39mconcat([sample_shape, ps\u001b[38;5;241m.\u001b[39mshape(x)[\u001b[38;5;241m1\u001b[39m:]], \u001b[38;5;241m0\u001b[39m)),\n\u001b[1;32m   1186\u001b[0m     samples)\n\u001b[1;32m   1187\u001b[0m \u001b[38;5;28;01mreturn\u001b[39;00m \u001b[38;5;28mself\u001b[39m\u001b[38;5;241m.\u001b[39m_set_sample_static_shape(samples, sample_shape, \u001b[38;5;241m*\u001b[39m\u001b[38;5;241m*\u001b[39mkwargs)\n",
      "File \u001b[0;32m~/Library/Python/3.9/lib/python/site-packages/tensorflow_probability/python/distributions/categorical.py:265\u001b[0m, in \u001b[0;36mCategorical._sample_n\u001b[0;34m(self, n, seed)\u001b[0m\n\u001b[1;32m    261\u001b[0m   draws \u001b[38;5;241m=\u001b[39m samplers\u001b[38;5;241m.\u001b[39mcategorical(\n\u001b[1;32m    262\u001b[0m       logits_2d, n, dtype\u001b[38;5;241m=\u001b[39msample_dtype, seed\u001b[38;5;241m=\u001b[39mseed)\n\u001b[1;32m    263\u001b[0m draws \u001b[38;5;241m=\u001b[39m tf\u001b[38;5;241m.\u001b[39mcast(draws, \u001b[38;5;28mself\u001b[39m\u001b[38;5;241m.\u001b[39mdtype)\n\u001b[1;32m    264\u001b[0m \u001b[38;5;28;01mreturn\u001b[39;00m tf\u001b[38;5;241m.\u001b[39mreshape(\n\u001b[0;32m--> 265\u001b[0m     \u001b[43mtf\u001b[49m\u001b[38;5;241;43m.\u001b[39;49m\u001b[43mtranspose\u001b[49m\u001b[43m(\u001b[49m\u001b[43mdraws\u001b[49m\u001b[43m)\u001b[49m,\n\u001b[1;32m    266\u001b[0m     shape\u001b[38;5;241m=\u001b[39mps\u001b[38;5;241m.\u001b[39mconcat([[n], \u001b[38;5;28mself\u001b[39m\u001b[38;5;241m.\u001b[39m_batch_shape_tensor(logits\u001b[38;5;241m=\u001b[39mlogits)], axis\u001b[38;5;241m=\u001b[39m\u001b[38;5;241m0\u001b[39m))\n",
      "File \u001b[0;32m~/Library/Python/3.9/lib/python/site-packages/tensorflow/python/ops/weak_tensor_ops.py:87\u001b[0m, in \u001b[0;36mweak_tensor_unary_op_wrapper.<locals>.wrapper\u001b[0;34m(*args, **kwargs)\u001b[0m\n\u001b[1;32m     86\u001b[0m \u001b[38;5;28;01mdef\u001b[39;00m \u001b[38;5;21mwrapper\u001b[39m(\u001b[38;5;241m*\u001b[39margs, \u001b[38;5;241m*\u001b[39m\u001b[38;5;241m*\u001b[39mkwargs):\n\u001b[0;32m---> 87\u001b[0m   \u001b[38;5;28;01mif\u001b[39;00m \u001b[38;5;129;01mnot\u001b[39;00m \u001b[43mops\u001b[49m\u001b[38;5;241;43m.\u001b[39;49m\u001b[43mis_auto_dtype_conversion_enabled\u001b[49m\u001b[43m(\u001b[49m\u001b[43m)\u001b[49m:\n\u001b[1;32m     88\u001b[0m     \u001b[38;5;28;01mreturn\u001b[39;00m op(\u001b[38;5;241m*\u001b[39margs, \u001b[38;5;241m*\u001b[39m\u001b[38;5;241m*\u001b[39mkwargs)\n\u001b[1;32m     89\u001b[0m   bound_arguments \u001b[38;5;241m=\u001b[39m signature\u001b[38;5;241m.\u001b[39mbind(\u001b[38;5;241m*\u001b[39margs, \u001b[38;5;241m*\u001b[39m\u001b[38;5;241m*\u001b[39mkwargs)\n",
      "File \u001b[0;32m~/Library/Python/3.9/lib/python/site-packages/tensorflow/python/framework/ops.py:5978\u001b[0m, in \u001b[0;36mis_auto_dtype_conversion_enabled\u001b[0;34m()\u001b[0m\n\u001b[1;32m   5976\u001b[0m \u001b[38;5;28;01mdef\u001b[39;00m \u001b[38;5;21mis_auto_dtype_conversion_enabled\u001b[39m():\n\u001b[1;32m   5977\u001b[0m   \u001b[38;5;28;01mreturn\u001b[39;00m (\n\u001b[0;32m-> 5978\u001b[0m       _dtype_conversion_mode \u001b[38;5;241m==\u001b[39m \u001b[43mPromoMode\u001b[49m\u001b[38;5;241;43m.\u001b[39;49m\u001b[43mALL\u001b[49m\n\u001b[1;32m   5979\u001b[0m       \u001b[38;5;129;01mor\u001b[39;00m _dtype_conversion_mode \u001b[38;5;241m==\u001b[39m PromoMode\u001b[38;5;241m.\u001b[39mSAFE\n\u001b[1;32m   5980\u001b[0m   )\n",
      "\u001b[0;31mKeyboardInterrupt\u001b[0m: "
     ]
    }
   ],
   "source": [
    "# state, _ = env.reset()\n",
    "# print(state)\n",
    "# print(agent.select_action(state)[0])\n",
    "agent.train()"
   ]
  },
  {
   "cell_type": "code",
   "execution_count": null,
   "metadata": {},
   "outputs": [],
   "source": [
    "agent.test()"
   ]
  },
  {
   "cell_type": "code",
   "execution_count": null,
   "metadata": {},
   "outputs": [],
   "source": [
    "import tensorflow_probability as tfp\n",
    "\n",
    "print(tf.one_hot([0, 1, 1], 2))\n",
    "distribution = tfp.distributions.Categorical(probs=[[0.1, 0.9],[0.9, 0.1]])\n",
    "print(distribution.sample())\n",
    "print(tf.reduce_sum(tf.reduce_mean([-0.6, -0.6] - distribution.log_prob([1, 0]))))\n",
    "print(tf.reduce_mean([-0.6, -0.6] - tf.reduce_sum(tf.one_hot([1, 0], 2) * tf.math.log([[0.1, 0.9],[0.9, 0.1]]), axis=1)))\n",
    "\n",
    "print(tf.math.log(tf.nn.softmax([[0.1, 0.9],[0.9, 0.1]])))\n",
    "print(tf.nn.log_softmax([[0.1, 0.9],[0.9, 0.1]]))\n",
    "\n",
    "def logprobabilities(logits, a):\n",
    "    # Compute the log-probabilities of taking actions a by using the logits (i.e. the output of the actor)\n",
    "    logprobabilities_all = tf.math.log(logits)\n",
    "    logprobability = tf.reduce_sum(\n",
    "        tf.one_hot(a, 2) * logprobabilities_all, axis=1\n",
    "    )\n",
    "    return logprobability\n",
    "\n",
    "\n",
    "kl = tf.reduce_mean(\n",
    "[-0.6, -0.6] - logprobabilities([[0.1, 0.9], [0.9, 0.1]], [1, 0])\n",
    ")\n",
    "# kl = tf.reduce_sum(kl)\n",
    "print(kl)\n"
   ]
  },
  {
   "cell_type": "code",
   "execution_count": null,
   "metadata": {},
   "outputs": [],
   "source": [
    "import numpy as np\n",
    "arr = np.array([1, 2, 3, 4, 5, 6, 7, 8, 9])\n",
    "print(arr.reshape(3, 3))\n",
    "arr = np.rot90(arr.reshape(3, 3), k=2)\n",
    "print(arr)\n",
    "arr = arr.flatten()\n",
    "print(arr)"
   ]
  }
 ],
 "metadata": {
  "kernelspec": {
   "display_name": "Python 3",
   "language": "python",
   "name": "python3"
  },
  "language_info": {
   "codemirror_mode": {
    "name": "ipython",
    "version": 3
   },
   "file_extension": ".py",
   "mimetype": "text/x-python",
   "name": "python",
   "nbconvert_exporter": "python",
   "pygments_lexer": "ipython3",
   "version": "3.11.7"
  }
 },
 "nbformat": 4,
 "nbformat_minor": 2
}
