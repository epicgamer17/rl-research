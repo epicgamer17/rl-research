{
 "cells": [
  {
   "cell_type": "code",
   "execution_count": 1,
   "metadata": {},
   "outputs": [
    {
     "name": "stderr",
     "output_type": "stream",
     "text": [
      "/Users/jonathanlamontange-kratz/Library/Python/3.9/lib/python/site-packages/urllib3/__init__.py:34: NotOpenSSLWarning: urllib3 v2 only supports OpenSSL 1.1.1+, currently the 'ssl' module is compiled with 'LibreSSL 2.8.3'. See: https://github.com/urllib3/urllib3/issues/3020\n",
      "  warnings.warn(\n"
     ]
    },
    {
     "name": "stdout",
     "output_type": "stream",
     "text": [
      "1 Physical GPUs, 1 Logical GPUs\n"
     ]
    },
    {
     "name": "stderr",
     "output_type": "stream",
     "text": [
      "2024-03-04 02:10:32.216858: I metal_plugin/src/device/metal_device.cc:1154] Metal device set to: Apple M2\n",
      "2024-03-04 02:10:32.216883: I metal_plugin/src/device/metal_device.cc:296] systemMemory: 16.00 GB\n",
      "2024-03-04 02:10:32.216891: I metal_plugin/src/device/metal_device.cc:313] maxCacheSize: 5.33 GB\n",
      "2024-03-04 02:10:32.217203: I tensorflow/core/common_runtime/pluggable_device/pluggable_device_factory.cc:306] Could not identify NUMA node of platform GPU ID 0, defaulting to 0. Your kernel may not have been built with NUMA support.\n",
      "2024-03-04 02:10:32.217567: I tensorflow/core/common_runtime/pluggable_device/pluggable_device_factory.cc:272] Created TensorFlow device (/job:localhost/replica:0/task:0/device:GPU:0 with 0 MB memory) -> physical PluggableDevice (device: 0, name: METAL, pci bus id: <undefined>)\n"
     ]
    }
   ],
   "source": [
    "import gymnasium as gym\n",
    "from ppo_agent import PPOAgent\n",
    "import tensorflow as tf"
   ]
  },
  {
   "cell_type": "code",
   "execution_count": 2,
   "metadata": {},
   "outputs": [],
   "source": [
    "env = gym.make('CartPole-v1', render_mode='rgb_array')\n",
    "config = {\n",
    "        'clip_param': 0.2,\n",
    "        'activation': 'relu',\n",
    "        'kernel_initializer': 'orthogonal',\n",
    "        'actor_optimizer': tf.keras.optimizers.legacy.Adam,\n",
    "        'critic_optimizer': tf.keras.optimizers.legacy.Adam,\n",
    "        'actor_learning_rate': 0.005,\n",
    "        'critic_learning_rate': 0.005,\n",
    "        'actor_epsilon': 1e-7,\n",
    "        'critic_epsilon': 1e-7,\n",
    "        'actor_clipnorm': 0.5,\n",
    "        'critic_clipnorm': 0.5,\n",
    "        # NORMALIZATION?\n",
    "        # 'n_step': 3,\n",
    "        'discount_factor': 0.99,\n",
    "        'gae_lambda': 0.98,\n",
    "        'conv_layers': [],\n",
    "        'conv_layers_noisy': False,\n",
    "        'critic_width': 64,\n",
    "        'critic_dense_layers': 2,\n",
    "        'critic_dense_layers_noisy': False,\n",
    "        'actor_width': 64,\n",
    "        'actor_dense_layers': 2,\n",
    "        'actor_dense_layers_noisy': False,\n",
    "        # REWARD CLIPPING\n",
    "        'noisy_sigma': 0.5, #\n",
    "        'loss_function': tf.keras.losses.KLDivergence(),\n",
    "        'num_epochs': 30,\n",
    "        'steps_per_epoch': 4800,\n",
    "        'train_policy_iterations': 5,\n",
    "        'train_value_iterations': 5,\n",
    "        'target_kl': 0.02,\n",
    "        'entropy_coefficient': 0.01,\n",
    "        'num_minibatches': 4,\n",
    "        # 'per_epsilon': 0.001,\n",
    "        # 'per_alpha': 0.5,\n",
    "        # 'per_beta': 0.5,\n",
    "        # 'per_beta_increase': hp.uniform('per_beta_increase', 0, 0.015),\n",
    "        # 'v_min': -500.0, # MIN GAME SCORE\n",
    "        # 'v_max': 500.0, # MAX GAME SCORE\n",
    "        # 'search_max_depth': 5,\n",
    "        # 'search_max_time': 10,\n",
    "    }\n",
    "\n",
    "agent = PPOAgent(env, config=config)\n"
   ]
  },
  {
   "cell_type": "code",
   "execution_count": 3,
   "metadata": {},
   "outputs": [],
   "source": [
    "# agent.actor.summary()"
   ]
  },
  {
   "cell_type": "code",
   "execution_count": 4,
   "metadata": {},
   "outputs": [
    {
     "name": "stdout",
     "output_type": "stream",
     "text": [
      "score:  38.0\n",
      "score:  52.0\n",
      "score:  68.0\n",
      "score:  70.0\n",
      "score:  22.0\n",
      "score:  37.0\n"
     ]
    },
    {
     "ename": "KeyboardInterrupt",
     "evalue": "",
     "output_type": "error",
     "traceback": [
      "\u001b[0;31m---------------------------------------------------------------------------\u001b[0m",
      "\u001b[0;31mKeyboardInterrupt\u001b[0m                         Traceback (most recent call last)",
      "Cell \u001b[0;32mIn[4], line 4\u001b[0m\n\u001b[1;32m      1\u001b[0m \u001b[38;5;66;03m# state, _ = env.reset()\u001b[39;00m\n\u001b[1;32m      2\u001b[0m \u001b[38;5;66;03m# print(state)\u001b[39;00m\n\u001b[1;32m      3\u001b[0m \u001b[38;5;66;03m# print(agent.select_action(state)[0])\u001b[39;00m\n\u001b[0;32m----> 4\u001b[0m \u001b[43magent\u001b[49m\u001b[38;5;241;43m.\u001b[39;49m\u001b[43mtrain\u001b[49m\u001b[43m(\u001b[49m\u001b[43m)\u001b[49m\n",
      "File \u001b[0;32m~/Documents/GitHub/rl-stuff/ppo/ppo_agent.py:423\u001b[0m, in \u001b[0;36mPPOAgent.train\u001b[0;34m(self)\u001b[0m\n\u001b[1;32m    416\u001b[0m     \u001b[38;5;66;03m# critic_loss = self.train_critic(inputs, returns, learning_rate)\u001b[39;00m\n\u001b[1;32m    417\u001b[0m     \u001b[38;5;66;03m# stat_critic_loss.append(critic_loss)\u001b[39;00m\n\u001b[1;32m    418\u001b[0m     \u001b[38;5;66;03m# stat_loss.append(critic_loss)\u001b[39;00m\n\u001b[1;32m    419\u001b[0m \n\u001b[1;32m    420\u001b[0m \u001b[38;5;66;03m# print(\"Done Training\")\u001b[39;00m\n\u001b[1;32m    421\u001b[0m \u001b[38;5;66;03m# self.old_actor.set_weights(self.actor.get_weights())\u001b[39;00m\n\u001b[1;32m    422\u001b[0m stat_score\u001b[38;5;241m.\u001b[39mappend(total_score \u001b[38;5;241m/\u001b[39m num_episodes)\n\u001b[0;32m--> 423\u001b[0m stat_test_score\u001b[38;5;241m.\u001b[39mappend(\u001b[38;5;28;43mself\u001b[39;49m\u001b[38;5;241;43m.\u001b[39;49m\u001b[43mtest\u001b[49m\u001b[43m(\u001b[49m\u001b[43m)\u001b[49m)\n\u001b[1;32m    424\u001b[0m \u001b[38;5;28mself\u001b[39m\u001b[38;5;241m.\u001b[39mplot_graph(\n\u001b[1;32m    425\u001b[0m     stat_score,\n\u001b[1;32m    426\u001b[0m     stat_actor_loss,\n\u001b[0;32m   (...)\u001b[0m\n\u001b[1;32m    429\u001b[0m     (epoch \u001b[38;5;241m+\u001b[39m \u001b[38;5;241m1\u001b[39m) \u001b[38;5;241m*\u001b[39m \u001b[38;5;28mself\u001b[39m\u001b[38;5;241m.\u001b[39msteps_per_epoch,\n\u001b[1;32m    430\u001b[0m )\n\u001b[1;32m    431\u001b[0m \u001b[38;5;28mself\u001b[39m\u001b[38;5;241m.\u001b[39mexport()\n",
      "File \u001b[0;32m~/Documents/GitHub/rl-stuff/ppo/ppo_agent.py:475\u001b[0m, in \u001b[0;36mPPOAgent.test\u001b[0;34m(self, video_folder, num_trials)\u001b[0m\n\u001b[1;32m    472\u001b[0m score \u001b[38;5;241m=\u001b[39m \u001b[38;5;241m0\u001b[39m\n\u001b[1;32m    474\u001b[0m \u001b[38;5;28;01mwhile\u001b[39;00m \u001b[38;5;129;01mnot\u001b[39;00m done:\n\u001b[0;32m--> 475\u001b[0m     action \u001b[38;5;241m=\u001b[39m \u001b[38;5;28;43mself\u001b[39;49m\u001b[38;5;241;43m.\u001b[39;49m\u001b[43mselect_action\u001b[49m\u001b[43m(\u001b[49m\u001b[43mstate\u001b[49m\u001b[43m)\u001b[49m\n\u001b[1;32m    476\u001b[0m     next_state, reward, terminated, truncated \u001b[38;5;241m=\u001b[39m \u001b[38;5;28mself\u001b[39m\u001b[38;5;241m.\u001b[39mstep(action)\n\u001b[1;32m    477\u001b[0m     done \u001b[38;5;241m=\u001b[39m terminated \u001b[38;5;129;01mor\u001b[39;00m truncated\n",
      "File \u001b[0;32m~/Documents/GitHub/rl-stuff/ppo/ppo_agent.py:208\u001b[0m, in \u001b[0;36mPPOAgent.select_action\u001b[0;34m(self, state)\u001b[0m\n\u001b[1;32m    206\u001b[0m \u001b[38;5;28;01mif\u001b[39;00m \u001b[38;5;28mlen\u001b[39m(selected_action) \u001b[38;5;241m==\u001b[39m \u001b[38;5;241m1\u001b[39m:\n\u001b[1;32m    207\u001b[0m     selected_action \u001b[38;5;241m=\u001b[39m selected_action[\u001b[38;5;241m0\u001b[39m]\n\u001b[0;32m--> 208\u001b[0m log_probability \u001b[38;5;241m=\u001b[39m \u001b[43mdistribution\u001b[49m\u001b[38;5;241;43m.\u001b[39;49m\u001b[43mlog_prob\u001b[49m\u001b[43m(\u001b[49m\u001b[43mselected_action\u001b[49m\u001b[43m)\u001b[49m\n\u001b[1;32m    209\u001b[0m value \u001b[38;5;241m=\u001b[39m value[\u001b[38;5;241m0\u001b[39m][\u001b[38;5;241m0\u001b[39m]\n\u001b[1;32m    211\u001b[0m \u001b[38;5;28;01mif\u001b[39;00m \u001b[38;5;129;01mnot\u001b[39;00m \u001b[38;5;28mself\u001b[39m\u001b[38;5;241m.\u001b[39mis_test:\n",
      "File \u001b[0;32m~/Library/Python/3.9/lib/python/site-packages/tensorflow_probability/python/distributions/distribution.py:1287\u001b[0m, in \u001b[0;36mDistribution.log_prob\u001b[0;34m(self, value, name, **kwargs)\u001b[0m\n\u001b[1;32m   1275\u001b[0m \u001b[38;5;28;01mdef\u001b[39;00m \u001b[38;5;21mlog_prob\u001b[39m(\u001b[38;5;28mself\u001b[39m, value, name\u001b[38;5;241m=\u001b[39m\u001b[38;5;124m'\u001b[39m\u001b[38;5;124mlog_prob\u001b[39m\u001b[38;5;124m'\u001b[39m, \u001b[38;5;241m*\u001b[39m\u001b[38;5;241m*\u001b[39mkwargs):\n\u001b[1;32m   1276\u001b[0m \u001b[38;5;250m  \u001b[39m\u001b[38;5;124;03m\"\"\"Log probability density/mass function.\u001b[39;00m\n\u001b[1;32m   1277\u001b[0m \n\u001b[1;32m   1278\u001b[0m \u001b[38;5;124;03m  Args:\u001b[39;00m\n\u001b[0;32m   (...)\u001b[0m\n\u001b[1;32m   1285\u001b[0m \u001b[38;5;124;03m      values of type `self.dtype`.\u001b[39;00m\n\u001b[1;32m   1286\u001b[0m \u001b[38;5;124;03m  \"\"\"\u001b[39;00m\n\u001b[0;32m-> 1287\u001b[0m   \u001b[38;5;28;01mreturn\u001b[39;00m \u001b[38;5;28;43mself\u001b[39;49m\u001b[38;5;241;43m.\u001b[39;49m\u001b[43m_call_log_prob\u001b[49m\u001b[43m(\u001b[49m\u001b[43mvalue\u001b[49m\u001b[43m,\u001b[49m\u001b[43m \u001b[49m\u001b[43mname\u001b[49m\u001b[43m,\u001b[49m\u001b[43m \u001b[49m\u001b[38;5;241;43m*\u001b[39;49m\u001b[38;5;241;43m*\u001b[39;49m\u001b[43mkwargs\u001b[49m\u001b[43m)\u001b[49m\n",
      "File \u001b[0;32m~/Library/Python/3.9/lib/python/site-packages/tensorflow_probability/python/distributions/distribution.py:1269\u001b[0m, in \u001b[0;36mDistribution._call_log_prob\u001b[0;34m(self, value, name, **kwargs)\u001b[0m\n\u001b[1;32m   1267\u001b[0m \u001b[38;5;28;01mwith\u001b[39;00m \u001b[38;5;28mself\u001b[39m\u001b[38;5;241m.\u001b[39m_name_and_control_scope(name, value, kwargs):\n\u001b[1;32m   1268\u001b[0m   \u001b[38;5;28;01mif\u001b[39;00m \u001b[38;5;28mhasattr\u001b[39m(\u001b[38;5;28mself\u001b[39m, \u001b[38;5;124m'\u001b[39m\u001b[38;5;124m_log_prob\u001b[39m\u001b[38;5;124m'\u001b[39m):\n\u001b[0;32m-> 1269\u001b[0m     \u001b[38;5;28;01mreturn\u001b[39;00m \u001b[38;5;28;43mself\u001b[39;49m\u001b[38;5;241;43m.\u001b[39;49m\u001b[43m_log_prob\u001b[49m\u001b[43m(\u001b[49m\u001b[43mvalue\u001b[49m\u001b[43m,\u001b[49m\u001b[43m \u001b[49m\u001b[38;5;241;43m*\u001b[39;49m\u001b[38;5;241;43m*\u001b[39;49m\u001b[43mkwargs\u001b[49m\u001b[43m)\u001b[49m\n\u001b[1;32m   1270\u001b[0m   \u001b[38;5;28;01mif\u001b[39;00m \u001b[38;5;28mhasattr\u001b[39m(\u001b[38;5;28mself\u001b[39m, \u001b[38;5;124m'\u001b[39m\u001b[38;5;124m_prob\u001b[39m\u001b[38;5;124m'\u001b[39m):\n\u001b[1;32m   1271\u001b[0m     \u001b[38;5;28;01mreturn\u001b[39;00m tf\u001b[38;5;241m.\u001b[39mmath\u001b[38;5;241m.\u001b[39mlog(\u001b[38;5;28mself\u001b[39m\u001b[38;5;241m.\u001b[39m_prob(value, \u001b[38;5;241m*\u001b[39m\u001b[38;5;241m*\u001b[39mkwargs))\n",
      "File \u001b[0;32m~/Library/Python/3.9/lib/python/site-packages/tensorflow_probability/python/distributions/categorical.py:308\u001b[0m, in \u001b[0;36mCategorical._log_prob\u001b[0;34m(self, k)\u001b[0m\n\u001b[1;32m    305\u001b[0m   k \u001b[38;5;241m=\u001b[39m distribution_util\u001b[38;5;241m.\u001b[39membed_check_integer_casting_closed(\n\u001b[1;32m    306\u001b[0m       k, target_dtype\u001b[38;5;241m=\u001b[39m\u001b[38;5;28mself\u001b[39m\u001b[38;5;241m.\u001b[39mdtype)\n\u001b[1;32m    307\u001b[0m \u001b[38;5;66;03m# This call both broadcasts and casts `k` to an integer dtype.\u001b[39;00m\n\u001b[0;32m--> 308\u001b[0m safe_k, logits \u001b[38;5;241m=\u001b[39m \u001b[43m_broadcast_cat_event_and_params\u001b[49m\u001b[43m(\u001b[49m\n\u001b[1;32m    309\u001b[0m \u001b[43m    \u001b[49m\u001b[43mk\u001b[49m\u001b[43m,\u001b[49m\u001b[43m \u001b[49m\u001b[43mlogits\u001b[49m\u001b[43m,\u001b[49m\u001b[43m \u001b[49m\u001b[43mbase_dtype\u001b[49m\u001b[38;5;241;43m=\u001b[39;49m\u001b[43mdtype_util\u001b[49m\u001b[38;5;241;43m.\u001b[39;49m\u001b[43mbase_dtype\u001b[49m\u001b[43m(\u001b[49m\u001b[38;5;28;43mself\u001b[39;49m\u001b[38;5;241;43m.\u001b[39;49m\u001b[43mdtype\u001b[49m\u001b[43m)\u001b[49m\u001b[43m)\u001b[49m\n\u001b[1;32m    311\u001b[0m \u001b[38;5;28;01mif\u001b[39;00m \u001b[38;5;129;01mnot\u001b[39;00m \u001b[38;5;28mself\u001b[39m\u001b[38;5;241m.\u001b[39mforce_probs_to_zero_outside_support:\n\u001b[1;32m    312\u001b[0m   \u001b[38;5;28;01mreturn\u001b[39;00m \u001b[38;5;241m-\u001b[39mtf\u001b[38;5;241m.\u001b[39mnn\u001b[38;5;241m.\u001b[39msparse_softmax_cross_entropy_with_logits(\n\u001b[1;32m    313\u001b[0m       labels\u001b[38;5;241m=\u001b[39msafe_k, logits\u001b[38;5;241m=\u001b[39mlogits)\n",
      "File \u001b[0;32m~/Library/Python/3.9/lib/python/site-packages/tensorflow_probability/python/distributions/categorical.py:51\u001b[0m, in \u001b[0;36m_broadcast_cat_event_and_params\u001b[0;34m(event, params, base_dtype)\u001b[0m\n\u001b[1;32m     46\u001b[0m shape_known_statically \u001b[38;5;241m=\u001b[39m (\n\u001b[1;32m     47\u001b[0m     tensorshape_util\u001b[38;5;241m.\u001b[39mrank(params\u001b[38;5;241m.\u001b[39mshape) \u001b[38;5;129;01mis\u001b[39;00m \u001b[38;5;129;01mnot\u001b[39;00m \u001b[38;5;28;01mNone\u001b[39;00m \u001b[38;5;129;01mand\u001b[39;00m\n\u001b[1;32m     48\u001b[0m     tensorshape_util\u001b[38;5;241m.\u001b[39mis_fully_defined(params\u001b[38;5;241m.\u001b[39mshape[:\u001b[38;5;241m-\u001b[39m\u001b[38;5;241m1\u001b[39m]) \u001b[38;5;129;01mand\u001b[39;00m\n\u001b[1;32m     49\u001b[0m     tensorshape_util\u001b[38;5;241m.\u001b[39mis_fully_defined(event\u001b[38;5;241m.\u001b[39mshape))\n\u001b[1;32m     50\u001b[0m \u001b[38;5;28;01mif\u001b[39;00m \u001b[38;5;129;01mnot\u001b[39;00m shape_known_statically \u001b[38;5;129;01mor\u001b[39;00m params\u001b[38;5;241m.\u001b[39mshape[:\u001b[38;5;241m-\u001b[39m\u001b[38;5;241m1\u001b[39m] \u001b[38;5;241m!=\u001b[39m event\u001b[38;5;241m.\u001b[39mshape:\n\u001b[0;32m---> 51\u001b[0m   params \u001b[38;5;241m=\u001b[39m params \u001b[38;5;241m*\u001b[39m tf\u001b[38;5;241m.\u001b[39mones_like(\u001b[43mevent\u001b[49m\u001b[43m[\u001b[49m\u001b[38;5;241;43m.\u001b[39;49m\u001b[38;5;241;43m.\u001b[39;49m\u001b[38;5;241;43m.\u001b[39;49m\u001b[43m,\u001b[49m\u001b[43m \u001b[49m\u001b[43mtf\u001b[49m\u001b[38;5;241;43m.\u001b[39;49m\u001b[43mnewaxis\u001b[49m\u001b[43m]\u001b[49m,\n\u001b[1;32m     52\u001b[0m                                  dtype\u001b[38;5;241m=\u001b[39mparams\u001b[38;5;241m.\u001b[39mdtype)\n\u001b[1;32m     53\u001b[0m   params_shape \u001b[38;5;241m=\u001b[39m ps\u001b[38;5;241m.\u001b[39mshape(params)[:\u001b[38;5;241m-\u001b[39m\u001b[38;5;241m1\u001b[39m]\n\u001b[1;32m     54\u001b[0m   event \u001b[38;5;241m=\u001b[39m event \u001b[38;5;241m*\u001b[39m tf\u001b[38;5;241m.\u001b[39mones(params_shape, dtype\u001b[38;5;241m=\u001b[39mevent\u001b[38;5;241m.\u001b[39mdtype)\n",
      "File \u001b[0;32m~/Library/Python/3.9/lib/python/site-packages/tensorflow/python/util/traceback_utils.py:150\u001b[0m, in \u001b[0;36mfilter_traceback.<locals>.error_handler\u001b[0;34m(*args, **kwargs)\u001b[0m\n\u001b[1;32m    148\u001b[0m filtered_tb \u001b[38;5;241m=\u001b[39m \u001b[38;5;28;01mNone\u001b[39;00m\n\u001b[1;32m    149\u001b[0m \u001b[38;5;28;01mtry\u001b[39;00m:\n\u001b[0;32m--> 150\u001b[0m   \u001b[38;5;28;01mreturn\u001b[39;00m \u001b[43mfn\u001b[49m\u001b[43m(\u001b[49m\u001b[38;5;241;43m*\u001b[39;49m\u001b[43margs\u001b[49m\u001b[43m,\u001b[49m\u001b[43m \u001b[49m\u001b[38;5;241;43m*\u001b[39;49m\u001b[38;5;241;43m*\u001b[39;49m\u001b[43mkwargs\u001b[49m\u001b[43m)\u001b[49m\n\u001b[1;32m    151\u001b[0m \u001b[38;5;28;01mexcept\u001b[39;00m \u001b[38;5;167;01mException\u001b[39;00m \u001b[38;5;28;01mas\u001b[39;00m e:\n\u001b[1;32m    152\u001b[0m   filtered_tb \u001b[38;5;241m=\u001b[39m _process_traceback_frames(e\u001b[38;5;241m.\u001b[39m__traceback__)\n",
      "File \u001b[0;32m~/Library/Python/3.9/lib/python/site-packages/tensorflow/python/util/dispatch.py:1260\u001b[0m, in \u001b[0;36madd_dispatch_support.<locals>.decorator.<locals>.op_dispatch_handler\u001b[0;34m(*args, **kwargs)\u001b[0m\n\u001b[1;32m   1258\u001b[0m \u001b[38;5;66;03m# Fallback dispatch system (dispatch v1):\u001b[39;00m\n\u001b[1;32m   1259\u001b[0m \u001b[38;5;28;01mtry\u001b[39;00m:\n\u001b[0;32m-> 1260\u001b[0m   \u001b[38;5;28;01mreturn\u001b[39;00m \u001b[43mdispatch_target\u001b[49m\u001b[43m(\u001b[49m\u001b[38;5;241;43m*\u001b[39;49m\u001b[43margs\u001b[49m\u001b[43m,\u001b[49m\u001b[43m \u001b[49m\u001b[38;5;241;43m*\u001b[39;49m\u001b[38;5;241;43m*\u001b[39;49m\u001b[43mkwargs\u001b[49m\u001b[43m)\u001b[49m\n\u001b[1;32m   1261\u001b[0m \u001b[38;5;28;01mexcept\u001b[39;00m (\u001b[38;5;167;01mTypeError\u001b[39;00m, \u001b[38;5;167;01mValueError\u001b[39;00m):\n\u001b[1;32m   1262\u001b[0m   \u001b[38;5;66;03m# Note: convert_to_eager_tensor currently raises a ValueError, not a\u001b[39;00m\n\u001b[1;32m   1263\u001b[0m   \u001b[38;5;66;03m# TypeError, when given unexpected types.  So we need to catch both.\u001b[39;00m\n\u001b[1;32m   1264\u001b[0m   result \u001b[38;5;241m=\u001b[39m dispatch(op_dispatch_handler, args, kwargs)\n",
      "File \u001b[0;32m~/Library/Python/3.9/lib/python/site-packages/tensorflow/python/ops/array_ops.py:1124\u001b[0m, in \u001b[0;36m_slice_helper\u001b[0;34m(tensor, slice_spec, var)\u001b[0m\n\u001b[1;32m   1121\u001b[0m   index \u001b[38;5;241m+\u001b[39m\u001b[38;5;241m=\u001b[39m \u001b[38;5;241m1\u001b[39m\n\u001b[1;32m   1123\u001b[0m \u001b[38;5;66;03m# stack possibly involves no tensors, so we must use op_scope correct graph.\u001b[39;00m\n\u001b[0;32m-> 1124\u001b[0m \u001b[38;5;28;01mwith\u001b[39;00m ops\u001b[38;5;241m.\u001b[39mname_scope(\n\u001b[1;32m   1125\u001b[0m     \u001b[38;5;28;01mNone\u001b[39;00m,\n\u001b[1;32m   1126\u001b[0m     \u001b[38;5;124m\"\u001b[39m\u001b[38;5;124mstrided_slice\u001b[39m\u001b[38;5;124m\"\u001b[39m, [tensor] \u001b[38;5;241m+\u001b[39m begin \u001b[38;5;241m+\u001b[39m end \u001b[38;5;241m+\u001b[39m strides,\n\u001b[1;32m   1127\u001b[0m     skip_on_eager\u001b[38;5;241m=\u001b[39m\u001b[38;5;28;01mFalse\u001b[39;00m) \u001b[38;5;28;01mas\u001b[39;00m name:\n\u001b[1;32m   1128\u001b[0m   \u001b[38;5;28;01mif\u001b[39;00m begin:\n\u001b[1;32m   1129\u001b[0m     packed_begin, packed_end, packed_strides \u001b[38;5;241m=\u001b[39m (\n\u001b[1;32m   1130\u001b[0m         array_ops_stack\u001b[38;5;241m.\u001b[39mstack(begin),\n\u001b[1;32m   1131\u001b[0m         array_ops_stack\u001b[38;5;241m.\u001b[39mstack(end),\n\u001b[1;32m   1132\u001b[0m         array_ops_stack\u001b[38;5;241m.\u001b[39mstack(strides))\n",
      "File \u001b[0;32m~/Library/Python/3.9/lib/python/site-packages/tensorflow/python/framework/ops.py:5670\u001b[0m, in \u001b[0;36mname_scope_v2.__enter__\u001b[0;34m(self)\u001b[0m\n\u001b[1;32m   5664\u001b[0m ctx \u001b[38;5;241m=\u001b[39m context\u001b[38;5;241m.\u001b[39mcontext()\n\u001b[1;32m   5665\u001b[0m \u001b[38;5;28;01mif\u001b[39;00m ctx\u001b[38;5;241m.\u001b[39mexecuting_eagerly():\n\u001b[1;32m   5666\u001b[0m   \u001b[38;5;66;03m# Names are not auto-incremented in eager mode.\u001b[39;00m\n\u001b[1;32m   5667\u001b[0m   \u001b[38;5;66;03m# A trailing slash breaks out of nested name scopes, indicating a\u001b[39;00m\n\u001b[1;32m   5668\u001b[0m   \u001b[38;5;66;03m# fully specified scope name, for compatibility with Graph.name_scope.\u001b[39;00m\n\u001b[1;32m   5669\u001b[0m   \u001b[38;5;66;03m# This also prevents auto-incrementing.\u001b[39;00m\n\u001b[0;32m-> 5670\u001b[0m   old_name \u001b[38;5;241m=\u001b[39m \u001b[43mctx\u001b[49m\u001b[38;5;241;43m.\u001b[39;49m\u001b[43mscope_name\u001b[49m\n\u001b[1;32m   5671\u001b[0m   name \u001b[38;5;241m=\u001b[39m \u001b[38;5;28mself\u001b[39m\u001b[38;5;241m.\u001b[39m_name\n\u001b[1;32m   5672\u001b[0m   \u001b[38;5;28;01mif\u001b[39;00m \u001b[38;5;129;01mnot\u001b[39;00m name:\n",
      "\u001b[0;31mKeyboardInterrupt\u001b[0m: "
     ]
    }
   ],
   "source": [
    "# state, _ = env.reset()\n",
    "# print(state)\n",
    "# print(agent.select_action(state)[0])\n",
    "agent.train()"
   ]
  },
  {
   "cell_type": "code",
   "execution_count": null,
   "metadata": {},
   "outputs": [
    {
     "name": "stdout",
     "output_type": "stream",
     "text": [
      "Moviepy - Building video /Users/jonathanlamontange-kratz/Documents/GitHub/rl-stuff/ppo/videos/1709520406.106061/rl-video-episode-1.mp4.\n",
      "Moviepy - Writing video /Users/jonathanlamontange-kratz/Documents/GitHub/rl-stuff/ppo/videos/1709520406.106061/rl-video-episode-1.mp4\n",
      "\n"
     ]
    },
    {
     "name": "stderr",
     "output_type": "stream",
     "text": [
      "                                                               \r"
     ]
    },
    {
     "name": "stdout",
     "output_type": "stream",
     "text": [
      "Moviepy - Done !\n",
      "Moviepy - video ready /Users/jonathanlamontange-kratz/Documents/GitHub/rl-stuff/ppo/videos/1709520406.106061/rl-video-episode-1.mp4\n",
      "score:  152.0\n",
      "score:  330.0\n",
      "score:  290.0\n",
      "score:  149.0\n",
      "score:  275.0\n",
      "score:  245.0\n",
      "score:  170.0\n",
      "Moviepy - Building video /Users/jonathanlamontange-kratz/Documents/GitHub/rl-stuff/ppo/videos/1709520406.106061/rl-video-episode-8.mp4.\n",
      "Moviepy - Writing video /Users/jonathanlamontange-kratz/Documents/GitHub/rl-stuff/ppo/videos/1709520406.106061/rl-video-episode-8.mp4\n",
      "\n"
     ]
    },
    {
     "name": "stderr",
     "output_type": "stream",
     "text": [
      "                                                               \r"
     ]
    },
    {
     "name": "stdout",
     "output_type": "stream",
     "text": [
      "Moviepy - Done !\n",
      "Moviepy - video ready /Users/jonathanlamontange-kratz/Documents/GitHub/rl-stuff/ppo/videos/1709520406.106061/rl-video-episode-8.mp4\n",
      "score:  371.0\n",
      "score:  176.0\n",
      "score:  174.0\n",
      "score:  225.0\n",
      "Moviepy - Building video /Users/jonathanlamontange-kratz/Documents/GitHub/rl-stuff/ppo/videos/1709520406.106061/rl-video-episode-512.mp4.\n",
      "Moviepy - Writing video /Users/jonathanlamontange-kratz/Documents/GitHub/rl-stuff/ppo/videos/1709520406.106061/rl-video-episode-512.mp4\n",
      "\n"
     ]
    },
    {
     "name": "stderr",
     "output_type": "stream",
     "text": [
      "                                                               \r"
     ]
    },
    {
     "name": "stdout",
     "output_type": "stream",
     "text": [
      "Moviepy - Done !\n",
      "Moviepy - video ready /Users/jonathanlamontange-kratz/Documents/GitHub/rl-stuff/ppo/videos/1709520406.106061/rl-video-episode-512.mp4\n",
      "score:  188.0\n",
      "score:  191.0\n",
      "score:  179.0\n",
      "score:  131.0\n",
      "Moviepy - Building video /Users/jonathanlamontange-kratz/Documents/GitHub/rl-stuff/ppo/videos/1709520406.106061/rl-video-episode-216.mp4.\n",
      "Moviepy - Writing video /Users/jonathanlamontange-kratz/Documents/GitHub/rl-stuff/ppo/videos/1709520406.106061/rl-video-episode-216.mp4\n",
      "\n"
     ]
    },
    {
     "name": "stderr",
     "output_type": "stream",
     "text": [
      "                                                               \r"
     ]
    },
    {
     "name": "stdout",
     "output_type": "stream",
     "text": [
      "Moviepy - Done !\n",
      "Moviepy - video ready /Users/jonathanlamontange-kratz/Documents/GitHub/rl-stuff/ppo/videos/1709520406.106061/rl-video-episode-216.mp4\n",
      "score:  197.0\n",
      "score:  153.0\n",
      "score:  218.0\n",
      "score:  500.0\n",
      "score:  188.0\n",
      "score:  243.0\n",
      "score:  451.0\n",
      "score:  230.0\n",
      "score:  158.0\n",
      "Moviepy - Building video /Users/jonathanlamontange-kratz/Documents/GitHub/rl-stuff/ppo/videos/1709520406.106061/rl-video-episode-125.mp4.\n",
      "Moviepy - Writing video /Users/jonathanlamontange-kratz/Documents/GitHub/rl-stuff/ppo/videos/1709520406.106061/rl-video-episode-125.mp4\n",
      "\n"
     ]
    },
    {
     "name": "stderr",
     "output_type": "stream",
     "text": [
      "                                                               \r"
     ]
    },
    {
     "name": "stdout",
     "output_type": "stream",
     "text": [
      "Moviepy - Done !\n",
      "Moviepy - video ready /Users/jonathanlamontange-kratz/Documents/GitHub/rl-stuff/ppo/videos/1709520406.106061/rl-video-episode-125.mp4\n",
      "score:  237.0\n",
      "score:  166.0\n",
      "Moviepy - Building video /Users/jonathanlamontange-kratz/Documents/GitHub/rl-stuff/ppo/videos/1709520406.106061/rl-video-episode-27.mp4.\n",
      "Moviepy - Writing video /Users/jonathanlamontange-kratz/Documents/GitHub/rl-stuff/ppo/videos/1709520406.106061/rl-video-episode-27.mp4\n",
      "\n"
     ]
    },
    {
     "name": "stderr",
     "output_type": "stream",
     "text": [
      "                                                               \r"
     ]
    },
    {
     "name": "stdout",
     "output_type": "stream",
     "text": [
      "Moviepy - Done !\n",
      "Moviepy - video ready /Users/jonathanlamontange-kratz/Documents/GitHub/rl-stuff/ppo/videos/1709520406.106061/rl-video-episode-27.mp4\n",
      "score:  308.0\n",
      "score:  136.0\n",
      "Moviepy - Building video /Users/jonathanlamontange-kratz/Documents/GitHub/rl-stuff/ppo/videos/1709520406.106061/rl-video-episode-729.mp4.\n",
      "Moviepy - Writing video /Users/jonathanlamontange-kratz/Documents/GitHub/rl-stuff/ppo/videos/1709520406.106061/rl-video-episode-729.mp4\n",
      "\n"
     ]
    },
    {
     "name": "stderr",
     "output_type": "stream",
     "text": [
      "                                                               \r"
     ]
    },
    {
     "name": "stdout",
     "output_type": "stream",
     "text": [
      "Moviepy - Done !\n",
      "Moviepy - video ready /Users/jonathanlamontange-kratz/Documents/GitHub/rl-stuff/ppo/videos/1709520406.106061/rl-video-episode-729.mp4\n",
      "score:  174.0\n",
      "score:  173.0\n",
      "score:  184.0\n",
      "score:  289.0\n",
      "score:  153.0\n",
      "score:  192.0\n",
      "score:  304.0\n",
      "score:  140.0\n",
      "score:  152.0\n",
      "score:  178.0\n",
      "score:  162.0\n",
      "score:  291.0\n",
      "score:  144.0\n",
      "score:  200.0\n",
      "Moviepy - Building video /Users/jonathanlamontange-kratz/Documents/GitHub/rl-stuff/ppo/videos/1709520406.106061/rl-video-episode-343.mp4.\n",
      "Moviepy - Writing video /Users/jonathanlamontange-kratz/Documents/GitHub/rl-stuff/ppo/videos/1709520406.106061/rl-video-episode-343.mp4\n",
      "\n"
     ]
    },
    {
     "name": "stderr",
     "output_type": "stream",
     "text": [
      "                                                              \r"
     ]
    },
    {
     "name": "stdout",
     "output_type": "stream",
     "text": [
      "Moviepy - Done !\n",
      "Moviepy - video ready /Users/jonathanlamontange-kratz/Documents/GitHub/rl-stuff/ppo/videos/1709520406.106061/rl-video-episode-343.mp4\n",
      "score:  144.0\n",
      "score:  197.0\n",
      "score:  331.0\n",
      "score:  158.0\n",
      "score:  151.0\n",
      "score:  155.0\n",
      "score:  271.0\n",
      "score:  182.0\n",
      "score:  361.0\n",
      "score:  201.0\n",
      "score:  145.0\n",
      "score:  170.0\n",
      "score:  225.0\n",
      "score:  158.0\n",
      "score:  243.0\n",
      "score:  159.0\n",
      "score:  178.0\n",
      "score:  200.0\n",
      "score:  219.0\n",
      "score:  301.0\n",
      "score:  362.0\n",
      "Moviepy - Building video /Users/jonathanlamontange-kratz/Documents/GitHub/rl-stuff/ppo/videos/1709520406.106061/rl-video-episode-64.mp4.\n",
      "Moviepy - Writing video /Users/jonathanlamontange-kratz/Documents/GitHub/rl-stuff/ppo/videos/1709520406.106061/rl-video-episode-64.mp4\n",
      "\n"
     ]
    },
    {
     "name": "stderr",
     "output_type": "stream",
     "text": [
      "                                                               \r"
     ]
    },
    {
     "name": "stdout",
     "output_type": "stream",
     "text": [
      "Moviepy - Done !\n",
      "Moviepy - video ready /Users/jonathanlamontange-kratz/Documents/GitHub/rl-stuff/ppo/videos/1709520406.106061/rl-video-episode-64.mp4\n",
      "score:  145.0\n",
      "score:  149.0\n",
      "score:  173.0\n",
      "score:  160.0\n",
      "score:  178.0\n",
      "score:  144.0\n",
      "score:  151.0\n",
      "score:  144.0\n",
      "score:  138.0\n",
      "score:  159.0\n",
      "score:  178.0\n",
      "score:  190.0\n",
      "score:  308.0\n",
      "score:  168.0\n",
      "score:  218.0\n",
      "score:  170.0\n",
      "score:  268.0\n",
      "score:  154.0\n",
      "score:  190.0\n",
      "score:  183.0\n",
      "score:  336.0\n",
      "score:  166.0\n",
      "score:  361.0\n",
      "score:  238.0\n",
      "score:  274.0\n",
      "score:  500.0\n",
      "score:  155.0\n",
      "score:  288.0\n",
      "score:  184.0\n",
      "score:  287.0\n",
      "score:  400.0\n",
      "score:  187.0\n",
      "score:  199.0\n",
      "score:  159.0\n",
      "score:  234.0\n",
      "score:  218.0\n"
     ]
    },
    {
     "name": "stderr",
     "output_type": "stream",
     "text": [
      "/Users/jonathanlamontange-kratz/Library/Python/3.9/lib/python/site-packages/gymnasium/wrappers/record_video.py:94: UserWarning: \u001b[33mWARN: Overwriting existing videos at /Users/jonathanlamontange-kratz/Documents/GitHub/rl-stuff/ppo/videos/1709520406.106061 folder (try specifying a different `video_folder` for the `RecordVideo` wrapper if this is not desired)\u001b[0m\n",
      "  logger.warn(\n"
     ]
    },
    {
     "name": "stdout",
     "output_type": "stream",
     "text": [
      "Moviepy - Building video /Users/jonathanlamontange-kratz/Documents/GitHub/rl-stuff/ppo/videos/1709520406.106061/rl-video-episode-3000.mp4.\n",
      "Moviepy - Writing video /Users/jonathanlamontange-kratz/Documents/GitHub/rl-stuff/ppo/videos/1709520406.106061/rl-video-episode-3000.mp4\n",
      "\n"
     ]
    },
    {
     "name": "stderr",
     "output_type": "stream",
     "text": [
      "                                                              \r"
     ]
    },
    {
     "name": "stdout",
     "output_type": "stream",
     "text": [
      "Moviepy - Done !\n",
      "Moviepy - video ready /Users/jonathanlamontange-kratz/Documents/GitHub/rl-stuff/ppo/videos/1709520406.106061/rl-video-episode-3000.mp4\n",
      "Moviepy - Building video /Users/jonathanlamontange-kratz/Documents/GitHub/rl-stuff/ppo/videos/1709520406.106061/rl-video-episode-2000.mp4.\n",
      "Moviepy - Writing video /Users/jonathanlamontange-kratz/Documents/GitHub/rl-stuff/ppo/videos/1709520406.106061/rl-video-episode-2000.mp4\n",
      "\n"
     ]
    },
    {
     "name": "stderr",
     "output_type": "stream",
     "text": [
      "                                                               \r"
     ]
    },
    {
     "name": "stdout",
     "output_type": "stream",
     "text": [
      "Moviepy - Done !\n",
      "Moviepy - video ready /Users/jonathanlamontange-kratz/Documents/GitHub/rl-stuff/ppo/videos/1709520406.106061/rl-video-episode-2000.mp4\n",
      "Moviepy - Building video /Users/jonathanlamontange-kratz/Documents/GitHub/rl-stuff/ppo/videos/1709520406.106061/rl-video-episode-1000.mp4.\n",
      "Moviepy - Writing video /Users/jonathanlamontange-kratz/Documents/GitHub/rl-stuff/ppo/videos/1709520406.106061/rl-video-episode-1000.mp4\n",
      "\n"
     ]
    },
    {
     "name": "stderr",
     "output_type": "stream",
     "text": [
      "                                                               \r"
     ]
    },
    {
     "name": "stdout",
     "output_type": "stream",
     "text": [
      "Moviepy - Done !\n",
      "Moviepy - video ready /Users/jonathanlamontange-kratz/Documents/GitHub/rl-stuff/ppo/videos/1709520406.106061/rl-video-episode-1000.mp4\n",
      "Moviepy - Building video /Users/jonathanlamontange-kratz/Documents/GitHub/rl-stuff/ppo/videos/1709520406.106061/rl-video-episode-0.mp4.\n",
      "Moviepy - Writing video /Users/jonathanlamontange-kratz/Documents/GitHub/rl-stuff/ppo/videos/1709520406.106061/rl-video-episode-0.mp4\n",
      "\n"
     ]
    },
    {
     "name": "stderr",
     "output_type": "stream",
     "text": [
      "                                                               "
     ]
    },
    {
     "name": "stdout",
     "output_type": "stream",
     "text": [
      "Moviepy - Done !\n",
      "Moviepy - video ready /Users/jonathanlamontange-kratz/Documents/GitHub/rl-stuff/ppo/videos/1709520406.106061/rl-video-episode-0.mp4\n",
      "score:  157.0\n"
     ]
    },
    {
     "name": "stderr",
     "output_type": "stream",
     "text": [
      "\r"
     ]
    },
    {
     "data": {
      "text/plain": [
       "215.89"
      ]
     },
     "execution_count": 5,
     "metadata": {},
     "output_type": "execute_result"
    }
   ],
   "source": [
    "agent.test()"
   ]
  },
  {
   "cell_type": "code",
   "execution_count": null,
   "metadata": {},
   "outputs": [
    {
     "name": "stdout",
     "output_type": "stream",
     "text": [
      "tf.Tensor(\n",
      "[[1. 0.]\n",
      " [0. 1.]\n",
      " [0. 1.]], shape=(3, 2), dtype=float32)\n",
      "tf.Tensor([0 0], shape=(2,), dtype=int32)\n",
      "tf.Tensor(-0.49463958, shape=(), dtype=float32)\n",
      "tf.Tensor(-0.4946395, shape=(), dtype=float32)\n",
      "tf.Tensor(\n",
      "[[-1.1711006  -0.37110066]\n",
      " [-0.37110066 -1.1711006 ]], shape=(2, 2), dtype=float32)\n",
      "tf.Tensor(\n",
      "[[-1.1711006  -0.37110063]\n",
      " [-0.37110063 -1.1711006 ]], shape=(2, 2), dtype=float32)\n",
      "tf.Tensor(-0.4946395, shape=(), dtype=float32)\n"
     ]
    }
   ],
   "source": [
    "import tensorflow_probability as tfp\n",
    "\n",
    "print(tf.one_hot([0, 1, 1], 2))\n",
    "distribution = tfp.distributions.Categorical(probs=[[0.1, 0.9],[0.9, 0.1]])\n",
    "print(distribution.sample())\n",
    "print(tf.reduce_sum(tf.reduce_mean([-0.6, -0.6] - distribution.log_prob([1, 0]))))\n",
    "print(tf.reduce_mean([-0.6, -0.6] - tf.reduce_sum(tf.one_hot([1, 0], 2) * tf.math.log([[0.1, 0.9],[0.9, 0.1]]), axis=1)))\n",
    "\n",
    "print(tf.math.log(tf.nn.softmax([[0.1, 0.9],[0.9, 0.1]])))\n",
    "print(tf.nn.log_softmax([[0.1, 0.9],[0.9, 0.1]]))\n",
    "\n",
    "def logprobabilities(logits, a):\n",
    "    # Compute the log-probabilities of taking actions a by using the logits (i.e. the output of the actor)\n",
    "    logprobabilities_all = tf.math.log(logits)\n",
    "    logprobability = tf.reduce_sum(\n",
    "        tf.one_hot(a, 2) * logprobabilities_all, axis=1\n",
    "    )\n",
    "    return logprobability\n",
    "\n",
    "\n",
    "kl = tf.reduce_mean(\n",
    "[-0.6, -0.6] - logprobabilities([[0.1, 0.9], [0.9, 0.1]], [1, 0])\n",
    ")\n",
    "# kl = tf.reduce_sum(kl)\n",
    "print(kl)\n"
   ]
  },
  {
   "cell_type": "code",
   "execution_count": 4,
   "metadata": {},
   "outputs": [
    {
     "name": "stdout",
     "output_type": "stream",
     "text": [
      "[[1 2 3]\n",
      " [4 5 6]\n",
      " [7 8 9]]\n",
      "[[9 8 7]\n",
      " [6 5 4]\n",
      " [3 2 1]]\n",
      "[9 8 7 6 5 4 3 2 1]\n"
     ]
    }
   ],
   "source": [
    "import numpy as np\n",
    "arr = np.array([1, 2, 3, 4, 5, 6, 7, 8, 9])\n",
    "print(arr.reshape(3, 3))\n",
    "arr = np.rot90(arr.reshape(3, 3), k=2)\n",
    "print(arr)\n",
    "arr = arr.flatten()\n",
    "print(arr)"
   ]
  }
 ],
 "metadata": {
  "kernelspec": {
   "display_name": "Python 3",
   "language": "python",
   "name": "python3"
  },
  "language_info": {
   "codemirror_mode": {
    "name": "ipython",
    "version": 3
   },
   "file_extension": ".py",
   "mimetype": "text/x-python",
   "name": "python",
   "nbconvert_exporter": "python",
   "pygments_lexer": "ipython3",
   "version": "3.9.6"
  }
 },
 "nbformat": 4,
 "nbformat_minor": 2
}
