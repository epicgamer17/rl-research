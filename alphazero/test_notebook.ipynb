{
 "cells": [
  {
   "cell_type": "code",
   "execution_count": 1,
   "metadata": {},
   "outputs": [
    {
     "name": "stdout",
     "output_type": "stream",
     "text": [
      "[6 4 5 1 2]\n",
      "[ 1  2  3  4  5  6  7  8  9 10]\n",
      "[ 1 -1  1 -1  1 -1  1]\n",
      "[1, -1, 1, -1, 1, -1, 1, 0, 0, 0, 0, 0, 0, 0, -1]\n",
      "15\n",
      "[ 1 -1  1 -1  1 -1  1 -1]\n",
      "[1, -1, 1, -1, 1, -1, 1, 1, -1, 1, -1, 1, -1, 1, -1]\n",
      "15\n"
     ]
    }
   ],
   "source": [
    "import numpy as np\n",
    "indices = np.random.choice(10, 5, replace=True)\n",
    "arr = np.array([1, 2, 3, 4, 5, 6, 7, 8, 9, 10])\n",
    "print(arr[indices])\n",
    "print(arr[-11:])\n",
    "reward_buffer = [0, 0, 0, 0, 0, 0, 1, 0, 0, 0, 0, 0, 0, 0, -1]\n",
    "size = 7\n",
    "game_start_index = 0\n",
    "reward = reward_buffer[size - 1]\n",
    "updated_rewards = np.empty((size - game_start_index,), int)\n",
    "updated_rewards[::2] = 1 * reward\n",
    "updated_rewards[1::2] = -1 * reward\n",
    "updated_rewards = np.flip(updated_rewards)\n",
    "print(updated_rewards)\n",
    "reward_buffer[game_start_index:size] = updated_rewards\n",
    "print(reward_buffer)\n",
    "game_start_index = 7\n",
    "size = 15\n",
    "print(len(reward_buffer))\n",
    "reward = reward_buffer[size - 1]\n",
    "updated_rewards = np.empty((size - game_start_index,), int)\n",
    "updated_rewards[::2] = 1 * reward\n",
    "updated_rewards[1::2] = -1 * reward\n",
    "updated_rewards = np.flip(updated_rewards)\n",
    "print(updated_rewards)\n",
    "reward_buffer[game_start_index:size] = updated_rewards\n",
    "print(reward_buffer)\n",
    "print(len(reward_buffer))\n",
    "overflow_reward = 1\n",
    "overflow_count = 1"
   ]
  },
  {
   "cell_type": "code",
   "execution_count": 2,
   "metadata": {},
   "outputs": [],
   "source": [
    "# reward_buffer = np.array([1, -1, 1, -1, 1, -1, 0])\n",
    "# reward_buffer[6] = [1, 1, 1, 1]\n",
    "# print(reward_buffer)"
   ]
  },
  {
   "cell_type": "code",
   "execution_count": 3,
   "metadata": {},
   "outputs": [
    {
     "name": "stderr",
     "output_type": "stream",
     "text": [
      "/Users/jonathanlamontange-kratz/Library/Python/3.9/lib/python/site-packages/urllib3/__init__.py:34: NotOpenSSLWarning: urllib3 v2 only supports OpenSSL 1.1.1+, currently the 'ssl' module is compiled with 'LibreSSL 2.8.3'. See: https://github.com/urllib3/urllib3/issues/3020\n",
      "  warnings.warn(\n"
     ]
    },
    {
     "name": "stdout",
     "output_type": "stream",
     "text": [
      "1 Physical GPUs, 1 Logical GPUs\n"
     ]
    },
    {
     "name": "stderr",
     "output_type": "stream",
     "text": [
      "2024-03-04 22:52:00.658083: I metal_plugin/src/device/metal_device.cc:1154] Metal device set to: Apple M2\n",
      "2024-03-04 22:52:00.658106: I metal_plugin/src/device/metal_device.cc:296] systemMemory: 16.00 GB\n",
      "2024-03-04 22:52:00.658113: I metal_plugin/src/device/metal_device.cc:313] maxCacheSize: 5.33 GB\n",
      "2024-03-04 22:52:00.658150: I tensorflow/core/common_runtime/pluggable_device/pluggable_device_factory.cc:306] Could not identify NUMA node of platform GPU ID 0, defaulting to 0. Your kernel may not have been built with NUMA support.\n",
      "2024-03-04 22:52:00.658170: I tensorflow/core/common_runtime/pluggable_device/pluggable_device_factory.cc:272] Created TensorFlow device (/job:localhost/replica:0/task:0/device:GPU:0 with 0 MB memory) -> physical PluggableDevice (device: 0, name: METAL, pci bus id: <undefined>)\n",
      "A.L.E: Arcade Learning Environment (version 0.8.1+53f58b7)\n",
      "[Powered by Stella]\n"
     ]
    }
   ],
   "source": [
    "from alphazero_agent import AlphaZeroAgent\n",
    "import gymnasium as gym \n",
    "import tensorflow as tf\n",
    "\n",
    "class ClipReward(gym.RewardWrapper):\n",
    "    def __init__(self, env, min_reward, max_reward):\n",
    "        super().__init__(env)\n",
    "        self.min_reward = min_reward\n",
    "        self.max_reward = max_reward\n",
    "        self.reward_range = (min_reward, max_reward)\n",
    "\n",
    "    def reward(self, reward):\n",
    "        return np.clip(reward, self.min_reward, self.max_reward)\n",
    "\n",
    "\n",
    "env = ClipReward(gym.wrappers.AtariPreprocessing(gym.make(\"MsPacmanNoFrameskip-v4\", render_mode=\"rgb_array\"), terminal_on_life_loss=True), -1, 1) # as recommended by the original paper, should already include max pooling\n",
    "env = gym.wrappers.FrameStack(env, 4)\n",
    "\n",
    "config = {\n",
    "        'activation': 'relu',\n",
    "        'kernel_initializer': 'orthogonal',\n",
    "        'optimizer_function': tf.keras.optimizers.legacy.Adam,\n",
    "        'learning_rate': 0.2,\n",
    "        'adam_epsilon': 1e-7,\n",
    "        'clipnorm': 0.5,\n",
    "        # NORMALIZATION?\n",
    "        # REWARD CLIPPING\n",
    "        'num_epochs': 30,\n",
    "        'num_filters': 256,\n",
    "        'kernel_size': 3,\n",
    "        'stride': 1,\n",
    "        'num_res_blocks': 5,\n",
    "        'critic_hidden_filters': 256,\n",
    "        'critic_dense_size': 256,\n",
    "        'actor_hidden_filters': 256,\n",
    "        'actor_dense_size': 256,\n",
    "        'memory_size': 10000,\n",
    "        'max_game_length': 1000,\n",
    "        'batch_size': 32,\n",
    "        'dirichlet_alpha': 0.3,\n",
    "        'dirichlet_epsilon': 0.25,\n",
    "        'c_puct': 4,\n",
    "        'monte_carlo_simulations': 800,\n",
    "    }    \n",
    "\n",
    "agent = AlphaZeroAgent(env, config=config)"
   ]
  },
  {
   "cell_type": "code",
   "execution_count": 4,
   "metadata": {},
   "outputs": [
    {
     "ename": "KeyError",
     "evalue": "'possible_actions'",
     "output_type": "error",
     "traceback": [
      "\u001b[0;31m---------------------------------------------------------------------------\u001b[0m",
      "\u001b[0;31mKeyError\u001b[0m                                  Traceback (most recent call last)",
      "Cell \u001b[0;32mIn[4], line 1\u001b[0m\n\u001b[0;32m----> 1\u001b[0m \u001b[43magent\u001b[49m\u001b[38;5;241;43m.\u001b[39;49m\u001b[43mtrain\u001b[49m\u001b[43m(\u001b[49m\u001b[43m)\u001b[49m\n",
      "File \u001b[0;32m~/Documents/GitHub/rl-stuff/alphazero/alphazero_agent.py:211\u001b[0m, in \u001b[0;36mAlphaZeroAgent.train\u001b[0;34m(self)\u001b[0m\n\u001b[1;32m    209\u001b[0m score \u001b[38;5;241m=\u001b[39m \u001b[38;5;241m0\u001b[39m\n\u001b[1;32m    210\u001b[0m step \u001b[38;5;241m+\u001b[39m\u001b[38;5;241m=\u001b[39m \u001b[38;5;241m1\u001b[39m\n\u001b[0;32m--> 211\u001b[0m possible_actions \u001b[38;5;241m=\u001b[39m \u001b[43minfo\u001b[49m\u001b[43m[\u001b[49m\u001b[38;5;124;43m\"\u001b[39;49m\u001b[38;5;124;43mpossible_actions\u001b[39;49m\u001b[38;5;124;43m\"\u001b[39;49m\u001b[43m]\u001b[49m \u001b[38;5;28;01mif\u001b[39;00m info \u001b[38;5;28;01melse\u001b[39;00m \u001b[38;5;28mself\u001b[39m\u001b[38;5;241m.\u001b[39mnum_actions\n\u001b[1;32m    212\u001b[0m action_probabilities \u001b[38;5;241m=\u001b[39m \u001b[38;5;28mself\u001b[39m\u001b[38;5;241m.\u001b[39mmonte_carlo_search(\n\u001b[1;32m    213\u001b[0m     state, possible_actions, \u001b[38;5;28mself\u001b[39m\u001b[38;5;241m.\u001b[39mmonte_carlo_simulations\n\u001b[1;32m    214\u001b[0m )\n\u001b[1;32m    215\u001b[0m \u001b[38;5;28mself\u001b[39m\u001b[38;5;241m.\u001b[39mtransition \u001b[38;5;241m+\u001b[39m\u001b[38;5;241m=\u001b[39m action_probabilities\n",
      "\u001b[0;31mKeyError\u001b[0m: 'possible_actions'"
     ]
    }
   ],
   "source": [
    "agent.train()"
   ]
  }
 ],
 "metadata": {
  "kernelspec": {
   "display_name": "Python 3",
   "language": "python",
   "name": "python3"
  },
  "language_info": {
   "codemirror_mode": {
    "name": "ipython",
    "version": 3
   },
   "file_extension": ".py",
   "mimetype": "text/x-python",
   "name": "python",
   "nbconvert_exporter": "python",
   "pygments_lexer": "ipython3",
   "version": "3.9.6"
  }
 },
 "nbformat": 4,
 "nbformat_minor": 2
}
