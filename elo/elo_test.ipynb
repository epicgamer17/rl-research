{
 "cells": [
  {
   "cell_type": "code",
   "execution_count": 1,
   "id": "b39366c1",
   "metadata": {},
   "outputs": [
    {
     "name": "stdout",
     "output_type": "stream",
     "text": [
      "Win Table:\n",
      " [[0. 1. 1. 0. 0. 1.]\n",
      " [0. 0. 0. 0. 0. 0.]\n",
      " [0. 0. 0. 0. 0. 0.]\n",
      " [0. 0. 0. 0. 1. 0.]\n",
      " [0. 0. 0. 0. 0. 0.]\n",
      " [0. 0. 0. 0. 0. 0.]]\n",
      "Draw Table:\n",
      " [[0. 0. 0. 0. 0. 0.]\n",
      " [0. 0. 1. 1. 0. 0.]\n",
      " [0. 1. 0. 0. 0. 0.]\n",
      " [0. 1. 0. 0. 0. 0.]\n",
      " [0. 0. 0. 0. 0. 0.]\n",
      " [0. 0. 0. 0. 0. 0.]]\n"
     ]
    },
    {
     "name": "stderr",
     "output_type": "stream",
     "text": [
      "/Users/jonathanlamontange-kratz/Documents/GitHub/rl-stuff/elo/elo.py:15: RuntimeWarning: divide by zero encountered in log\n",
      "  +0.5 * drawTable[i][j] * np.log(\n",
      "/Users/jonathanlamontange-kratz/Documents/GitHub/rl-stuff/elo/elo.py:15: RuntimeWarning: invalid value encountered in scalar multiply\n",
      "  +0.5 * drawTable[i][j] * np.log(\n",
      "/Users/jonathanlamontange-kratz/Documents/GitHub/rl-stuff/elo/elo.py:7: RuntimeWarning: overflow encountered in power\n",
      "  return 1.0 / (1 + np.power(10, D / 400))\n",
      "/Users/jonathanlamontange-kratz/Documents/GitHub/rl-stuff/elo/elo.py:14: RuntimeWarning: divide by zero encountered in log\n",
      "  l += winTable[i][j] * np.log(f(elos[i] - elos[j] - eloAdvantage + eloDraw))\n",
      "/Users/jonathanlamontange-kratz/Documents/GitHub/rl-stuff/elo/elo.py:14: RuntimeWarning: invalid value encountered in scalar multiply\n",
      "  l += winTable[i][j] * np.log(f(elos[i] - elos[j] - eloAdvantage + eloDraw))\n",
      "/Users/jonathanlamontange-kratz/Documents/GitHub/rl-stuff/elo/elo.py:15: RuntimeWarning: invalid value encountered in log\n",
      "  +0.5 * drawTable[i][j] * np.log(\n",
      "/Users/jonathanlamontange-kratz/Documents/GitHub/rl-stuff/elo/elo.py:15: RuntimeWarning: divide by zero encountered in log\n",
      "  +0.5 * drawTable[i][j] * np.log(\n",
      "/Users/jonathanlamontange-kratz/Documents/GitHub/rl-stuff/elo/elo.py:15: RuntimeWarning: invalid value encountered in scalar multiply\n",
      "  +0.5 * drawTable[i][j] * np.log(\n",
      "/Users/jonathanlamontange-kratz/Documents/GitHub/rl-stuff/elo/elo.py:7: RuntimeWarning: overflow encountered in power\n",
      "  return 1.0 / (1 + np.power(10, D / 400))\n",
      "/Users/jonathanlamontange-kratz/Documents/GitHub/rl-stuff/elo/elo.py:14: RuntimeWarning: divide by zero encountered in log\n",
      "  l += winTable[i][j] * np.log(f(elos[i] - elos[j] - eloAdvantage + eloDraw))\n",
      "/Users/jonathanlamontange-kratz/Documents/GitHub/rl-stuff/elo/elo.py:14: RuntimeWarning: invalid value encountered in scalar multiply\n",
      "  l += winTable[i][j] * np.log(f(elos[i] - elos[j] - eloAdvantage + eloDraw))\n"
     ]
    },
    {
     "name": "stdout",
     "output_type": "stream",
     "text": [
      "Elo Ratings:\n",
      "   message: Desired error not necessarily achieved due to precision loss.\n",
      "  success: False\n",
      "   status: 2\n",
      "      fun: -24.590373584964087\n",
      "        x: [ 1.018e+03  9.941e+02  9.941e+02  1.006e+03  9.941e+02\n",
      "             9.941e+02 -2.350e+01  1.024e+03]\n",
      "      nit: 1\n",
      "      jac: [-1.723e-02  5.744e-03  5.744e-03 -5.744e-03  5.744e-03\n",
      "             5.744e-03  2.298e-02 -2.298e-02]\n",
      " hess_inv: [[-1.965e+05  6.549e+04 ...  2.620e+05 -2.620e+05]\n",
      "            [ 6.549e+04 -2.183e+04 ... -8.732e+04  8.732e+04]\n",
      "            ...\n",
      "            [ 2.620e+05 -8.732e+04 ... -3.493e+05  3.493e+05]\n",
      "            [-2.620e+05  8.732e+04 ...  3.493e+05 -3.493e+05]]\n",
      "     nfev: 1020\n",
      "     njev: 112\n",
      "Bayesian Elo Ratings:\n",
      " {'Elo table':           Elo Games  Score  Draws\n",
      "Alice    1017     3    1.0    0.0\n",
      "Bob       994     3  0.333  0.667\n",
      "Charlie   994     2   0.25    0.5\n",
      "David    1005     2   0.75    0.5\n",
      "Eve       994     1    0.0    0.0\n",
      "Frank     994     1    0.0    0.0, 'eloAdvantage': -23.50439453125, 'eloDraw': 1023.50390625}\n"
     ]
    },
    {
     "name": "stderr",
     "output_type": "stream",
     "text": [
      "/Users/jonathanlamontange-kratz/Documents/GitHub/rl-stuff/elo/elo.py:15: RuntimeWarning: invalid value encountered in log\n",
      "  +0.5 * drawTable[i][j] * np.log(\n"
     ]
    }
   ],
   "source": [
    "from elo import StandingsTable\n",
    "import pandas as pd\n",
    "\n",
    "# Example test data\n",
    "players = [\"Alice\", \"Bob\", \"Charlie\"]\n",
    "\n",
    "# Initialize StandingTable\n",
    "table = StandingsTable(players, start_elo=1000)\n",
    "\n",
    "table.add_player(\"David\")  # Adding a new player\n",
    "\n",
    "table.add_players([\"Eve\", \"Frank\"])  # Adding multiple players\n",
    "\n",
    "table.add_result(\"David\", \"Eve\", 1)  # David beats Eve\n",
    "\n",
    "results_array = [\n",
    "    (\"Frank\", \"Alice\", -1),  # Frank loses to Alice\n",
    "    (\"Bob\", \"David\", 0),  # Bob draws with David\n",
    "]\n",
    "table.add_results_from_array(results_array)  # Adding multiple results\n",
    "\n",
    "results = [\n",
    "    (\"Alice\", \"Bob\", 1),  # Alice beats Bob\n",
    "    (\"Bob\", \"Charlie\", 0),  # Bob draws with Charlie\n",
    "    (\"Charlie\", \"Alice\", -1),  # Charlie loses to Alice\n",
    "]\n",
    "results_dataframe = pd.DataFrame(results, columns=[\"player1\", \"player2\", \"result\"])\n",
    "table.add_results_from_dataframe(results_dataframe)\n",
    "\n",
    "win_table = table.get_win_table()\n",
    "print(\"Win Table:\\n\", win_table)\n",
    "\n",
    "draw_table = table.get_draw_table()\n",
    "print(\"Draw Table:\\n\", draw_table)\n",
    "\n",
    "elos = table.calculate_elos()\n",
    "print(\"Elo Ratings:\\n\", elos)\n",
    "\n",
    "bayes_elos = table.bayes_elo()\n",
    "print(\"Bayesian Elo Ratings:\\n\", bayes_elos)"
   ]
  }
 ],
 "metadata": {
  "kernelspec": {
   "display_name": "Python 3",
   "language": "python",
   "name": "python3"
  },
  "language_info": {
   "codemirror_mode": {
    "name": "ipython",
    "version": 3
   },
   "file_extension": ".py",
   "mimetype": "text/x-python",
   "name": "python",
   "nbconvert_exporter": "python",
   "pygments_lexer": "ipython3",
   "version": "3.10.14"
  }
 },
 "nbformat": 4,
 "nbformat_minor": 5
}
