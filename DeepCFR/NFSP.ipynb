{
 "cells": [
  {
   "cell_type": "markdown",
   "id": "840f086b",
   "metadata": {},
   "source": [
    "This cell is for running NFSP on Leduc and FHP"
   ]
  },
  {
   "cell_type": "code",
   "execution_count": null,
   "id": "64071864",
   "metadata": {},
   "outputs": [],
   "source": [
    "import pyspiel\n",
    "from cfr_utils import NFSPWrapper, nfsptrain\n",
    "import copy\n",
    "import os\n",
    "import open_spiel\n",
    "import numpy as np\n",
    "import tensorflow as tf\n",
    "import open_spiel.python\n",
    "import open_spiel.python.algorithms\n",
    "import open_spiel.python.algorithms.nfsp\n",
    "os.environ[\"CUDA_VISIBLE_DEVICES\"] = \"-1\"\n",
    "tf.compat.v1.disable_v2_behavior()\n",
    "fhp = pyspiel.load_game(\"universal_poker\", {\"numPlayers\":2, \"numSuits\": 4, \"numRanks\":13, \"numHoleCards\": 2, \"numBoardCards\": \"0 3\", \"bettingAbstraction\": \"fcpa\", \"numRounds\":2, \"blind\": \"50 100\"})\n",
    "leduc = pyspiel.load_game(\"universal_poker\", {\"numPlayers\":2, \"numSuits\": 2, \"numRanks\":3, \"numHoleCards\": 1, \"numBoardCards\": \"0 1\", \"bettingAbstraction\": \"fcpa\", \"numRounds\":2, \"blind\": \"50 100\"})\n",
    "leducconfig = {\"state_representation_size\": 16}\n",
    "fhpconfig = {\"state_representation_size\": 108}\n",
    "leducgame = NFSPWrapper(leduc)\n",
    "fhpgame = NFSPWrapper(fhp)\n",
    "tf.config.set_visible_devices([], 'GPU')\n",
    "num_players = 2\n",
    "max_nodes = 10000000\n"
   ]
  },
  {
   "cell_type": "code",
   "execution_count": null,
   "id": "8e40c4c4",
   "metadata": {},
   "outputs": [],
   "source": [
    "nodes = 0\n",
    "games = [fhpgame,leducgame]\n",
    "for i in games:\n",
    "    i.reset()\n",
    "    if i == leducgame:\n",
    "        game_string = \"leduc\"\n",
    "    else:\n",
    "        game_string = \"fhp\"\n",
    "    with tf.compat.v1.Session() as sess:\n",
    "            agents = [open_spiel.python.algorithms.nfsp.NFSP(\n",
    "            session=sess,\n",
    "            player_id=_,\n",
    "            state_representation_size=leducconfig[\"state_representation_size\"] if i == leducgame else fhpconfig[\"state_representation_size\"],\n",
    "            num_actions=4,\n",
    "            hidden_layers_sizes=[1024,512,1024,512],\n",
    "            reservoir_buffer_capacity=30000000,\n",
    "            anticipatory_param=0.1,\n",
    "            batch_size=256, rl_learning_rate=0.1, sl_learning_rate=0.01, min_buffer_size_to_learn=1000, learn_every=256, optimizer_str=\"sgd\", replay_buffer_capacity= 600000, epsilon_start=0.08, epsilon_end=0,\n",
    "            ) for _ in range(num_players)]\n",
    "            sess.run(tf.compat.v1.global_variables_initializer())\n",
    "            print(agents)\n",
    "            print(i)\n",
    "            nfsptrain(agents, i,max_nodes, game_string)\n",
    "            print(\"Finished training for game: \", game_string)\n"
   ]
  }
 ],
 "metadata": {
  "kernelspec": {
   "display_name": "Python 3",
   "language": "python",
   "name": "python3"
  },
  "language_info": {
   "codemirror_mode": {
    "name": "ipython",
    "version": 3
   },
   "file_extension": ".py",
   "mimetype": "text/x-python",
   "name": "python",
   "nbconvert_exporter": "python",
   "pygments_lexer": "ipython3",
   "version": "3.10.5"
  }
 },
 "nbformat": 4,
 "nbformat_minor": 5
}
