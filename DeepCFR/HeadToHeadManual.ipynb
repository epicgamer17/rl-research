{
 "cells": [
  {
   "cell_type": "markdown",
   "id": "e6ec1cbd",
   "metadata": {},
   "source": [
    "This file is to run manually a head to head evaluation"
   ]
  },
  {
   "cell_type": "code",
   "execution_count": null,
   "id": "02b47e35",
   "metadata": {},
   "outputs": [],
   "source": [
    "import copy\n",
    "from agent_configs.cfr_config import CFRConfig\n",
    "from active_player import ActivePlayer\n",
    "from cfr_agent import CFRAgent\n",
    "import torch\n",
    "from cfr_network import CFRNetwork\n",
    "from cfr_utils import evaluatebots, WrapperEnv, load_agents\n",
    "\n",
    "\n",
    "fhp = pyspiel.load_game(\"universal_poker\", {\"numPlayers\":2, \"numSuits\": 4, \"numRanks\":13, \"numHoleCards\": 2, \"numBoardCards\": \"0 3\", \"bettingAbstraction\": \"fcpa\", \"numRounds\":2, \"blind\": \"50 100\"})\n",
    "leduc = pyspiel.load_game(\"universal_poker\", {\"numPlayers\":2, \"numSuits\": 2, \"numRanks\":3, \"numHoleCards\": 1, \"numBoardCards\": \"0 1\", \"bettingAbstraction\": \"fcpa\", \"numRounds\":2, \"blind\": \"50 100\"})\n",
    "leducconfig = {\"state_representation_size\": 16}\n",
    "fhpconfig = {\"state_representation_size\": 108}\n",
    "leducgame = WrapperEnv(leduc)\n",
    "fhpgame = WrapperEnv(fhp)\n",
    "\n",
    "chosen_game = 'leduc'\n",
    "\n",
    "hidden_dim = 128\n",
    "input_dim = 16 if chosen_game == 'leduc' else 108\n",
    "output_dim = 4\n",
    "num_players = 2\n",
    "replay_buffer_size = 4000000\n",
    "minibatch_size = 10000\n",
    "steps_per_epoch = 3000\n",
    "traversals = 3000\n",
    "training_steps = 20000\n",
    "lr = 0.0001\n",
    "optimizer = None\n",
    "\n",
    "p_v_networks = {'input_shape':input_dim, 'output_shape':output_dim, 'hidden_size':hidden_dim, 'learning_rate':lr, 'optimizer':optimizer}\n",
    "active_player_obj = ActivePlayer(num_players)\n",
    "path1 = 'checkpoints/CFR_LEDUC_Full/policy/notlinear/2027909/CFR_LEDUC_Full_68.pt'\n",
    "path2 = 'checkpoints/CFR_LEDUC_Full/policy/notlinear/4021243/CFR_LEDUC_Full_134.pt'\n",
    "config = CFRConfig(\n",
    "    config_dict={'network': {'policy': p_v_networks, 'value': p_v_networks, 'num_players':num_players},\n",
    "                 'replay_buffer_size':replay_buffer_size,\n",
    "                 'minibatch_size':minibatch_size,\n",
    "                 'steps_per_epoch':steps_per_epoch,\n",
    "                 'traversals': traversals,\n",
    "                 'training_steps': training_steps,\n",
    "                 'active_player_obj': active_player_obj,\n",
    "                 },\n",
    "    game_config={'num_players':num_players,\n",
    "                 'observation_space':input_dim,\n",
    "                 'action_space':4,},\n",
    ")\n",
    "\n",
    "agent1, agent2 = load_agents(path1, path2, p_v_networks, num_players)"
   ]
  },
  {
   "cell_type": "code",
   "execution_count": null,
   "id": "c0bc4527",
   "metadata": {},
   "outputs": [],
   "source": [
    "\n",
    "p1, p2 = evaluatebots(agent1, agent2, 100000, leduc_env, config, input_dim)\n",
    "print(\"Player 1: \" + str(np.mean(p1)/100) + \"mbb/game\")\n",
    "print(\"Player 2: \" + str(np.mean(p2)/100) + \"mbb/game\")"
   ]
  }
 ],
 "metadata": {
  "kernelspec": {
   "display_name": "Python 3",
   "language": "python",
   "name": "python3"
  },
  "language_info": {
   "name": "python",
   "version": "3.10.5"
  }
 },
 "nbformat": 4,
 "nbformat_minor": 5
}
