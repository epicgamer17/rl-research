{
 "cells": [
  {
   "cell_type": "markdown",
   "id": "ed2d0f14",
   "metadata": {},
   "source": [
    "This cell is for running DeepCFR training on two methods of sampling and two different environements."
   ]
  },
  {
   "cell_type": "code",
   "execution_count": null,
   "id": "a7bd0045",
   "metadata": {},
   "outputs": [],
   "source": [
    "import pyspiel\n",
    "import open_spiel\n",
    "import pandas as pd\n",
    "import numpy as np\n",
    "import copy\n",
    "from cfr_utils import WrapperEnv\n",
    "from agent_configs.cfr_config import CFRConfig\n",
    "from active_player import ActivePlayer\n",
    "from cfr_agent import CFRAgent\n",
    "import torch\n",
    "from cfr_network import CFRNetwork\n",
    "fhp = pyspiel.load_game(\"universal_poker\", {\"numPlayers\":2, \"numSuits\": 4, \"numRanks\":13, \"numHoleCards\": 2, \"numBoardCards\": \"0 3\", \"bettingAbstraction\": \"fcpa\", \"numRounds\":2, \"blind\": \"50 100\"})\n",
    "leduc = pyspiel.load_game(\"universal_poker\", {\"numPlayers\":2, \"numSuits\": 2, \"numRanks\":3, \"numHoleCards\": 1, \"numBoardCards\": \"0 1\", \"bettingAbstraction\": \"fcpa\", \"numRounds\":2, \"blind\": \"50 100\"})\n",
    "leducgame = WrapperEnv(leduc)\n",
    "fhpgame = WrapperEnv(fhp)\n",
    "games = [leducgame, fhpgame]\n",
    "hidden_dim = 128\n",
    "input_dim = 108\n",
    "output_dim = 4\n",
    "num_players = 2\n",
    "replay_buffer_size = 4000000\n",
    "minibatch_size = 10000\n",
    "steps_per_epoch = 3000\n",
    "traversals = 3000\n",
    "training_steps = 20000\n",
    "lr = 0.001\n",
    "optimizer = None\n",
    "sampling = [\"Full\", \"MC\"]"
   ]
  },
  {
   "cell_type": "code",
   "execution_count": null,
   "id": "57a48034",
   "metadata": {},
   "outputs": [],
   "source": [
    "for i in sampling:\n",
    "    for o in games:\n",
    "        if o == fhpgame:\n",
    "            insize = 108\n",
    "            outsize = 4\n",
    "            modelname = \"CFR_0.001LR_TEST_\" + i + \"_FHP\"\n",
    "        elif o == leducgame:\n",
    "            insize = 16\n",
    "            outsize = 4\n",
    "            modelname = \"CFR_0.001LR_TEST_\" + i + \"_Leduc\"\n",
    "        p_v_networks = {'input_shape':insize, 'output_shape':outsize, 'hidden_size':hidden_dim, 'learning_rate':lr, 'optimizer':optimizer}\n",
    "        active_player_obj = ActivePlayer(num_players)\n",
    "        config = CFRConfig(\n",
    "            config_dict={'network': {'policy': p_v_networks, 'value': p_v_networks, 'num_players':num_players},\n",
    "                        'replay_buffer_size':replay_buffer_size,\n",
    "                        'minibatch_size':minibatch_size,\n",
    "                        'steps_per_epoch':steps_per_epoch,\n",
    "                        'traversals': traversals,\n",
    "                        'training_steps': training_steps,\n",
    "                        'active_player_obj': active_player_obj,\n",
    "                        },\n",
    "            game_config={'num_players':num_players,\n",
    "                        'observation_space':insize,\n",
    "                        'action_space':outsize,},\n",
    "        )\n",
    "\n",
    "        model = CFRAgent(env=o,config=config, name=modelname, max_nodes=10000000)\n",
    "        model.train(sampling=i)"
   ]
  }
 ],
 "metadata": {
  "kernelspec": {
   "display_name": "Python 3",
   "language": "python",
   "name": "python3"
  },
  "language_info": {
   "codemirror_mode": {
    "name": "ipython",
    "version": 3
   },
   "file_extension": ".py",
   "mimetype": "text/x-python",
   "name": "python",
   "nbconvert_exporter": "python",
   "pygments_lexer": "ipython3",
   "version": "3.10.5"
  }
 },
 "nbformat": 4,
 "nbformat_minor": 5
}
