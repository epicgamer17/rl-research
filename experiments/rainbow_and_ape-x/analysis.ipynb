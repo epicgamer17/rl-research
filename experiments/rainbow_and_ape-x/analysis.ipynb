{
 "cells": [
  {
   "cell_type": "markdown",
   "metadata": {},
   "source": [
    "1. Rainbow and Ape-X Expiriments \n",
    "    1. We release a set of hyper parameters for CartPole-v1 and Classic Control and Atari\n",
    "    2. We release code for Rainbow that can train X steps in Y minutes on a Mac M2 Chip\n",
    "    3. We also release a version of Ape-X as described in the original paper, and an Ape-X with rainbow\n",
    "        1. Compare results of each \n",
    "        2. Compare Ape-X with different Rainbow components added or removed\n",
    "    4. We compare the different models of DQN as seen in their papers to rainbow, the different individual components to rainbow, and rainbow with individual components removed\n",
    "    10. Compare rainbow training speeds with different levels of numerical precision and datatypes\n",
    "        1. Mixed precision using torch.amp \n",
    "        2. Lower matmul precision\n",
    "            1. comparing medium, high, and highest \n",
    "            2. https://pytorch.org/docs/master/generated/torch.set_float32_matmul_precision.html?highlight=precision#torch.set_float32_matmul_precision\n",
    "    11. Ape-X Hyper parameter sweep and sensitivities\n",
    "    12. Exploration methods for Rainbow Ape-X\n",
    "        1. Just noisy nets (same for all actors)\n",
    "        2. Noisy nets and varying epsilon \n",
    "        3. Adding a constant that changes variance of noisy nets for action selection\n",
    "        4. AlphaStar Agents"
   ]
  },
  {
   "cell_type": "markdown",
   "metadata": {},
   "source": [
    "## Rainbow on CartPole-v1\n",
    "Hyperparameters are based on the hyperopt experiments, quantized trial 27 with some minor changes"
   ]
  },
  {
   "cell_type": "code",
   "execution_count": 1,
   "metadata": {},
   "outputs": [
    {
     "ename": "ImportError",
     "evalue": "cannot import name 'CategoricalCrossentropy' from 'utils' (/Users/jonathanlamontange-kratz/Documents/GitHub/rl-stuff/packages/utils/utils/__init__.py)",
     "output_type": "error",
     "traceback": [
      "\u001b[0;31m---------------------------------------------------------------------------\u001b[0m",
      "\u001b[0;31mImportError\u001b[0m                               Traceback (most recent call last)",
      "Cell \u001b[0;32mIn[1], line 5\u001b[0m\n\u001b[1;32m      2\u001b[0m \u001b[38;5;28;01mimport\u001b[39;00m \u001b[38;5;21;01msys\u001b[39;00m\n\u001b[1;32m      4\u001b[0m \u001b[38;5;28;01mimport\u001b[39;00m \u001b[38;5;21;01mtorch\u001b[39;00m\n\u001b[0;32m----> 5\u001b[0m \u001b[38;5;28;01mfrom\u001b[39;00m \u001b[38;5;21;01mutils\u001b[39;00m \u001b[38;5;28;01mimport\u001b[39;00m CategoricalCrossentropy, KLDivergence\n\u001b[1;32m      6\u001b[0m sys\u001b[38;5;241m.\u001b[39mpath\u001b[38;5;241m.\u001b[39mappend(\u001b[38;5;124m'\u001b[39m\u001b[38;5;124m../..\u001b[39m\u001b[38;5;124m'\u001b[39m)\n\u001b[1;32m      7\u001b[0m \u001b[38;5;28;01mfrom\u001b[39;00m \u001b[38;5;21;01mdqn\u001b[39;00m\u001b[38;5;21;01m.\u001b[39;00m\u001b[38;5;21;01mrainbow\u001b[39;00m\u001b[38;5;21;01m.\u001b[39;00m\u001b[38;5;21;01mrainbow_agent\u001b[39;00m \u001b[38;5;28;01mimport\u001b[39;00m RainbowAgent\n",
      "\u001b[0;31mImportError\u001b[0m: cannot import name 'CategoricalCrossentropy' from 'utils' (/Users/jonathanlamontange-kratz/Documents/GitHub/rl-stuff/packages/utils/utils/__init__.py)"
     ]
    }
   ],
   "source": [
    "import gymnasium as gym\n",
    "import sys\n",
    "\n",
    "import torch\n",
    "from utils import CategoricalCrossentropyLoss, KLDivergenceLoss\n",
    "sys.path.append('../..')\n",
    "from dqn.rainbow.rainbow_agent import RainbowAgent\n",
    "from agent_configs import RainbowConfig\n",
    "from game_configs import CartPoleConfig\n",
    "\n",
    "env = gym.make(\"CartPole-v1\", render_mode=\"rgb_array\")\n",
    "\n",
    "config_dict = {\n",
    "  \"dense_layers_widths\": [128, 128],\n",
    "  \"value_hidden_layers_widths\": [64, 64],\n",
    "  \"advatage_hidden_layers_widths\": [64, 64],\n",
    "  \"adam_epsilon\": 0.00375,\n",
    "  \"learning_rate\": 0.005,\n",
    "  \"training_steps\": 10000,\n",
    "  \"per_epsilon\": 0.05,\n",
    "  \"per_alpha\": 0.8,\n",
    "  \"per_beta\": 0.45,\n",
    "  \"minibatch_size\": 128,\n",
    "  \"replay_buffer_size\": 10000,\n",
    "  \"min_replay_buffer_size\": 1250,\n",
    "  \"transfer_interval\": 10,\n",
    "  \"n_step\": 9,\n",
    "  \"kernel_initializer\": \"glorot_uniform\",\n",
    "  \"loss_function\": KLDivergenceLoss(), # could do categorical cross entropy \n",
    "  \"clipnorm\": 2.0,\n",
    "  \"discount_factor\": 0.99,\n",
    "  \"atom_size\": 81,\n",
    "  \"replay_interval\": 4,\n",
    "}\n",
    "game_config = CartPoleConfig()\n",
    "config = RainbowConfig(config_dict, game_config)\n",
    "device = \"cuda:0\" if torch.cuda.is_available() else \"cpu\"\n",
    "agent = RainbowAgent(env, config, name=\"Rainbow_CartPole-v1\", device=device)\n",
    "\n",
    "for param in agent.model.parameters():\n",
    "  print(param)\n",
    "print(\"start\")\n",
    "agent.train()"
   ]
  },
  {
   "cell_type": "markdown",
   "metadata": {},
   "source": [
    "## Rainbow on Classic Control\n",
    "Hyperparameters come from revisitting rainbow"
   ]
  },
  {
   "cell_type": "code",
   "execution_count": 4,
   "metadata": {},
   "outputs": [
    {
     "name": "stdout",
     "output_type": "stream",
     "text": [
      "Using default save_intermediate_weights     : False\n",
      "Using         training_steps                : 30000\n",
      "Using         adam_epsilon                  : 0.0003125\n",
      "Using         learning_rate                 : 0.001\n",
      "Using         clipnorm                      : 0.0\n",
      "Using default optimizer                     : <class 'torch.optim.adam.Adam'>\n",
      "Using         loss_function                 : <utils.utils.KLDivergenceLoss object at 0x103812ff0>\n",
      "Using default activation                    : relu\n",
      "Using         kernel_initializer            : orthogonal\n",
      "Using         minibatch_size                : 128\n",
      "Using         replay_buffer_size            : 50000\n",
      "Using         min_replay_buffer_size        : 500\n",
      "Using default num_minibatches               : 1\n",
      "Using default training_iterations           : 1\n",
      "Using default conv_layers                   : []\n",
      "Using         dense_layers_widths           : [512, 512]\n",
      "Using         value_hidden_layers_widths    : []\n",
      "Using default advantage_hidden_layers_widths: []\n",
      "Using default noisy_sigma                   : 0.5\n",
      "Using default dueling                       : True\n",
      "Using         discount_factor               : 0.99\n",
      "Using default soft_update                   : False\n",
      "Using         transfer_interval             : 100\n",
      "Using default ema_beta                      : 0.99\n",
      "Using         replay_interval               : 2\n",
      "Using         per_alpha                     : 0.5\n",
      "Using         per_beta                      : 0.5\n",
      "Using default per_beta_final                : 1.0\n",
      "Using         per_epsilon                   : 1e-06\n",
      "Using         n_step                        : 3\n",
      "Using         atom_size                     : 51\n",
      "observation_dimensions:  (2,)\n",
      "num_actions:  3\n",
      "float32\n"
     ]
    },
    {
     "name": "stderr",
     "output_type": "stream",
     "text": [
      "/Library/Frameworks/Python.framework/Versions/3.12/lib/python3.12/site-packages/gymnasium/wrappers/record_video.py:94: UserWarning: \u001b[33mWARN: Overwriting existing videos at /Users/jonathanlamontange-kratz/Documents/GitHub/rl-stuff/experiments/rainbow_and_ape-x folder (try specifying a different `video_folder` for the `RecordVideo` wrapper if this is not desired)\u001b[0m\n",
      "  logger.warn(\n"
     ]
    },
    {
     "name": "stdout",
     "output_type": "stream",
     "text": [
      "score:  -600.0\n",
      "score:  -600.0\n",
      "score:  -600.0\n",
      "score:  -600.0\n",
      "Moviepy - Building video checkpoints/Rainbow_ClassicControl_MountainCar-v0/step_1000/videos/Rainbow_ClassicControl_MountainCar-v0/1000/Rainbow_ClassicControl_MountainCar-v0-episode-4.mp4.\n",
      "Moviepy - Writing video checkpoints/Rainbow_ClassicControl_MountainCar-v0/step_1000/videos/Rainbow_ClassicControl_MountainCar-v0/1000/Rainbow_ClassicControl_MountainCar-v0-episode-4.mp4\n",
      "\n"
     ]
    },
    {
     "name": "stderr",
     "output_type": "stream",
     "text": [
      "                                                               \r"
     ]
    },
    {
     "name": "stdout",
     "output_type": "stream",
     "text": [
      "Moviepy - Done !\n",
      "Moviepy - video ready checkpoints/Rainbow_ClassicControl_MountainCar-v0/step_1000/videos/Rainbow_ClassicControl_MountainCar-v0/1000/Rainbow_ClassicControl_MountainCar-v0-episode-4.mp4\n",
      "score:  -600.0\n"
     ]
    },
    {
     "name": "stderr",
     "output_type": "stream",
     "text": [
      "/Users/jonathanlamontange-kratz/Documents/GitHub/rl-stuff/packages/utils/utils/utils.py:255: UserWarning: No artists with labels found to put in legend.  Note that artists whose label start with an underscore are ignored when legend() is called with no argument.\n",
      "  axs[row][col].legend()\n",
      "/Users/jonathanlamontange-kratz/Documents/GitHub/rl-stuff/packages/utils/utils/utils.py:185: UserWarning: Attempting to set identical low and high xlims makes transformation singular; automatically expanding.\n",
      "  axs[row][col].set_xlim(1, len(values))\n"
     ]
    },
    {
     "name": "stdout",
     "output_type": "stream",
     "text": [
      "score:  -600.0\n",
      "score:  -600.0\n",
      "score:  -600.0\n",
      "score:  -600.0\n",
      "Moviepy - Building video checkpoints/Rainbow_ClassicControl_MountainCar-v0/step_2000/videos/Rainbow_ClassicControl_MountainCar-v0/2000/Rainbow_ClassicControl_MountainCar-v0-episode-9.mp4.\n",
      "Moviepy - Writing video checkpoints/Rainbow_ClassicControl_MountainCar-v0/step_2000/videos/Rainbow_ClassicControl_MountainCar-v0/2000/Rainbow_ClassicControl_MountainCar-v0-episode-9.mp4\n",
      "\n"
     ]
    },
    {
     "name": "stderr",
     "output_type": "stream",
     "text": [
      "/Users/jonathanlamontange-kratz/Documents/GitHub/rl-stuff/packages/utils/utils/utils.py:255: UserWarning: No artists with labels found to put in legend.  Note that artists whose label start with an underscore are ignored when legend() is called with no argument.\n",
      "  axs[row][col].legend()\n"
     ]
    },
    {
     "name": "stdout",
     "output_type": "stream",
     "text": [
      "Moviepy - Done !\n",
      "Moviepy - video ready checkpoints/Rainbow_ClassicControl_MountainCar-v0/step_2000/videos/Rainbow_ClassicControl_MountainCar-v0/2000/Rainbow_ClassicControl_MountainCar-v0-episode-9.mp4\n",
      "score:  -600.0\n",
      "score:  -600.0\n",
      "score:  -600.0\n",
      "score:  -600.0\n",
      "score:  -600.0\n",
      "Moviepy - Building video checkpoints/Rainbow_ClassicControl_MountainCar-v0/step_3000/videos/Rainbow_ClassicControl_MountainCar-v0/3000/Rainbow_ClassicControl_MountainCar-v0-episode-14.mp4.\n",
      "Moviepy - Writing video checkpoints/Rainbow_ClassicControl_MountainCar-v0/step_3000/videos/Rainbow_ClassicControl_MountainCar-v0/3000/Rainbow_ClassicControl_MountainCar-v0-episode-14.mp4\n",
      "\n"
     ]
    },
    {
     "name": "stderr",
     "output_type": "stream",
     "text": [
      "                                                               \r"
     ]
    },
    {
     "name": "stdout",
     "output_type": "stream",
     "text": [
      "Moviepy - Done !\n",
      "Moviepy - video ready checkpoints/Rainbow_ClassicControl_MountainCar-v0/step_3000/videos/Rainbow_ClassicControl_MountainCar-v0/3000/Rainbow_ClassicControl_MountainCar-v0-episode-14.mp4\n",
      "score:  -600.0\n"
     ]
    },
    {
     "name": "stderr",
     "output_type": "stream",
     "text": [
      "/Users/jonathanlamontange-kratz/Documents/GitHub/rl-stuff/packages/utils/utils/utils.py:255: UserWarning: No artists with labels found to put in legend.  Note that artists whose label start with an underscore are ignored when legend() is called with no argument.\n",
      "  axs[row][col].legend()\n"
     ]
    },
    {
     "name": "stdout",
     "output_type": "stream",
     "text": [
      "score:  -600.0\n",
      "score:  -600.0\n",
      "score:  -600.0\n",
      "score:  -600.0\n",
      "Moviepy - Building video checkpoints/Rainbow_ClassicControl_MountainCar-v0/step_4000/videos/Rainbow_ClassicControl_MountainCar-v0/4000/Rainbow_ClassicControl_MountainCar-v0-episode-19.mp4.\n",
      "Moviepy - Writing video checkpoints/Rainbow_ClassicControl_MountainCar-v0/step_4000/videos/Rainbow_ClassicControl_MountainCar-v0/4000/Rainbow_ClassicControl_MountainCar-v0-episode-19.mp4\n",
      "\n"
     ]
    },
    {
     "name": "stderr",
     "output_type": "stream",
     "text": [
      "/Users/jonathanlamontange-kratz/Documents/GitHub/rl-stuff/packages/utils/utils/utils.py:255: UserWarning: No artists with labels found to put in legend.  Note that artists whose label start with an underscore are ignored when legend() is called with no argument.\n",
      "  axs[row][col].legend()\n"
     ]
    },
    {
     "name": "stdout",
     "output_type": "stream",
     "text": [
      "Moviepy - Done !\n",
      "Moviepy - video ready checkpoints/Rainbow_ClassicControl_MountainCar-v0/step_4000/videos/Rainbow_ClassicControl_MountainCar-v0/4000/Rainbow_ClassicControl_MountainCar-v0-episode-19.mp4\n",
      "score:  -600.0\n",
      "score:  -600.0\n",
      "score:  -600.0\n",
      "score:  -600.0\n",
      "score:  -600.0\n",
      "Moviepy - Building video checkpoints/Rainbow_ClassicControl_MountainCar-v0/step_5000/videos/Rainbow_ClassicControl_MountainCar-v0/5000/Rainbow_ClassicControl_MountainCar-v0-episode-24.mp4.\n",
      "Moviepy - Writing video checkpoints/Rainbow_ClassicControl_MountainCar-v0/step_5000/videos/Rainbow_ClassicControl_MountainCar-v0/5000/Rainbow_ClassicControl_MountainCar-v0-episode-24.mp4\n",
      "\n"
     ]
    },
    {
     "name": "stderr",
     "output_type": "stream",
     "text": [
      "/Users/jonathanlamontange-kratz/Documents/GitHub/rl-stuff/packages/utils/utils/utils.py:255: UserWarning: No artists with labels found to put in legend.  Note that artists whose label start with an underscore are ignored when legend() is called with no argument.\n",
      "  axs[row][col].legend()\n"
     ]
    },
    {
     "name": "stdout",
     "output_type": "stream",
     "text": [
      "Moviepy - Done !\n",
      "Moviepy - video ready checkpoints/Rainbow_ClassicControl_MountainCar-v0/step_5000/videos/Rainbow_ClassicControl_MountainCar-v0/5000/Rainbow_ClassicControl_MountainCar-v0-episode-24.mp4\n",
      "score:  -600.0\n",
      "score:  -600.0\n",
      "score:  -600.0\n",
      "score:  -600.0\n",
      "score:  -600.0\n",
      "Moviepy - Building video checkpoints/Rainbow_ClassicControl_MountainCar-v0/step_6000/videos/Rainbow_ClassicControl_MountainCar-v0/6000/Rainbow_ClassicControl_MountainCar-v0-episode-29.mp4.\n",
      "Moviepy - Writing video checkpoints/Rainbow_ClassicControl_MountainCar-v0/step_6000/videos/Rainbow_ClassicControl_MountainCar-v0/6000/Rainbow_ClassicControl_MountainCar-v0-episode-29.mp4\n",
      "\n"
     ]
    },
    {
     "name": "stderr",
     "output_type": "stream",
     "text": [
      "/Users/jonathanlamontange-kratz/Documents/GitHub/rl-stuff/packages/utils/utils/utils.py:255: UserWarning: No artists with labels found to put in legend.  Note that artists whose label start with an underscore are ignored when legend() is called with no argument.\n",
      "  axs[row][col].legend()\n"
     ]
    },
    {
     "name": "stdout",
     "output_type": "stream",
     "text": [
      "Moviepy - Done !\n",
      "Moviepy - video ready checkpoints/Rainbow_ClassicControl_MountainCar-v0/step_6000/videos/Rainbow_ClassicControl_MountainCar-v0/6000/Rainbow_ClassicControl_MountainCar-v0-episode-29.mp4\n",
      "score:  -600.0\n",
      "score:  -600.0\n",
      "score:  -600.0\n",
      "score:  -600.0\n",
      "score:  -600.0\n",
      "Moviepy - Building video checkpoints/Rainbow_ClassicControl_MountainCar-v0/step_7000/videos/Rainbow_ClassicControl_MountainCar-v0/7000/Rainbow_ClassicControl_MountainCar-v0-episode-34.mp4.\n",
      "Moviepy - Writing video checkpoints/Rainbow_ClassicControl_MountainCar-v0/step_7000/videos/Rainbow_ClassicControl_MountainCar-v0/7000/Rainbow_ClassicControl_MountainCar-v0-episode-34.mp4\n",
      "\n"
     ]
    },
    {
     "name": "stderr",
     "output_type": "stream",
     "text": [
      "/Users/jonathanlamontange-kratz/Documents/GitHub/rl-stuff/packages/utils/utils/utils.py:255: UserWarning: No artists with labels found to put in legend.  Note that artists whose label start with an underscore are ignored when legend() is called with no argument.\n",
      "  axs[row][col].legend()\n"
     ]
    },
    {
     "name": "stdout",
     "output_type": "stream",
     "text": [
      "Moviepy - Done !\n",
      "Moviepy - video ready checkpoints/Rainbow_ClassicControl_MountainCar-v0/step_7000/videos/Rainbow_ClassicControl_MountainCar-v0/7000/Rainbow_ClassicControl_MountainCar-v0-episode-34.mp4\n",
      "score:  -600.0\n",
      "score:  -600.0\n",
      "score:  -600.0\n",
      "score:  -600.0\n",
      "score:  -600.0\n",
      "Moviepy - Building video checkpoints/Rainbow_ClassicControl_MountainCar-v0/step_8000/videos/Rainbow_ClassicControl_MountainCar-v0/8000/Rainbow_ClassicControl_MountainCar-v0-episode-39.mp4.\n",
      "Moviepy - Writing video checkpoints/Rainbow_ClassicControl_MountainCar-v0/step_8000/videos/Rainbow_ClassicControl_MountainCar-v0/8000/Rainbow_ClassicControl_MountainCar-v0-episode-39.mp4\n",
      "\n"
     ]
    },
    {
     "name": "stderr",
     "output_type": "stream",
     "text": [
      "/Users/jonathanlamontange-kratz/Documents/GitHub/rl-stuff/packages/utils/utils/utils.py:255: UserWarning: No artists with labels found to put in legend.  Note that artists whose label start with an underscore are ignored when legend() is called with no argument.\n",
      "  axs[row][col].legend()\n"
     ]
    },
    {
     "name": "stdout",
     "output_type": "stream",
     "text": [
      "Moviepy - Done !\n",
      "Moviepy - video ready checkpoints/Rainbow_ClassicControl_MountainCar-v0/step_8000/videos/Rainbow_ClassicControl_MountainCar-v0/8000/Rainbow_ClassicControl_MountainCar-v0-episode-39.mp4\n",
      "score:  -600.0\n",
      "score:  -600.0\n",
      "score:  -600.0\n",
      "score:  -600.0\n",
      "score:  -600.0\n",
      "Moviepy - Building video checkpoints/Rainbow_ClassicControl_MountainCar-v0/step_9000/videos/Rainbow_ClassicControl_MountainCar-v0/9000/Rainbow_ClassicControl_MountainCar-v0-episode-44.mp4.\n",
      "Moviepy - Writing video checkpoints/Rainbow_ClassicControl_MountainCar-v0/step_9000/videos/Rainbow_ClassicControl_MountainCar-v0/9000/Rainbow_ClassicControl_MountainCar-v0-episode-44.mp4\n",
      "\n"
     ]
    },
    {
     "name": "stderr",
     "output_type": "stream",
     "text": [
      "                                                               \r"
     ]
    },
    {
     "name": "stdout",
     "output_type": "stream",
     "text": [
      "Moviepy - Done !\n",
      "Moviepy - video ready checkpoints/Rainbow_ClassicControl_MountainCar-v0/step_9000/videos/Rainbow_ClassicControl_MountainCar-v0/9000/Rainbow_ClassicControl_MountainCar-v0-episode-44.mp4\n",
      "score:  -600.0\n"
     ]
    },
    {
     "name": "stderr",
     "output_type": "stream",
     "text": [
      "/Users/jonathanlamontange-kratz/Documents/GitHub/rl-stuff/packages/utils/utils/utils.py:255: UserWarning: No artists with labels found to put in legend.  Note that artists whose label start with an underscore are ignored when legend() is called with no argument.\n",
      "  axs[row][col].legend()\n"
     ]
    },
    {
     "name": "stdout",
     "output_type": "stream",
     "text": [
      "score:  -600.0\n",
      "score:  -600.0\n",
      "score:  -600.0\n",
      "score:  -600.0\n",
      "Moviepy - Building video checkpoints/Rainbow_ClassicControl_MountainCar-v0/step_10000/videos/Rainbow_ClassicControl_MountainCar-v0/10000/Rainbow_ClassicControl_MountainCar-v0-episode-49.mp4.\n",
      "Moviepy - Writing video checkpoints/Rainbow_ClassicControl_MountainCar-v0/step_10000/videos/Rainbow_ClassicControl_MountainCar-v0/10000/Rainbow_ClassicControl_MountainCar-v0-episode-49.mp4\n",
      "\n"
     ]
    },
    {
     "name": "stderr",
     "output_type": "stream",
     "text": [
      "/Users/jonathanlamontange-kratz/Documents/GitHub/rl-stuff/packages/utils/utils/utils.py:255: UserWarning: No artists with labels found to put in legend.  Note that artists whose label start with an underscore are ignored when legend() is called with no argument.\n",
      "  axs[row][col].legend()\n"
     ]
    },
    {
     "name": "stdout",
     "output_type": "stream",
     "text": [
      "Moviepy - Done !\n",
      "Moviepy - video ready checkpoints/Rainbow_ClassicControl_MountainCar-v0/step_10000/videos/Rainbow_ClassicControl_MountainCar-v0/10000/Rainbow_ClassicControl_MountainCar-v0-episode-49.mp4\n",
      "score:  -600.0\n",
      "score:  -600.0\n",
      "score:  -600.0\n",
      "score:  -600.0\n",
      "score:  -600.0\n",
      "Moviepy - Building video checkpoints/Rainbow_ClassicControl_MountainCar-v0/step_11000/videos/Rainbow_ClassicControl_MountainCar-v0/11000/Rainbow_ClassicControl_MountainCar-v0-episode-54.mp4.\n",
      "Moviepy - Writing video checkpoints/Rainbow_ClassicControl_MountainCar-v0/step_11000/videos/Rainbow_ClassicControl_MountainCar-v0/11000/Rainbow_ClassicControl_MountainCar-v0-episode-54.mp4\n",
      "\n"
     ]
    },
    {
     "name": "stderr",
     "output_type": "stream",
     "text": [
      "/Users/jonathanlamontange-kratz/Documents/GitHub/rl-stuff/packages/utils/utils/utils.py:255: UserWarning: No artists with labels found to put in legend.  Note that artists whose label start with an underscore are ignored when legend() is called with no argument.\n",
      "  axs[row][col].legend()\n"
     ]
    },
    {
     "name": "stdout",
     "output_type": "stream",
     "text": [
      "Moviepy - Done !\n",
      "Moviepy - video ready checkpoints/Rainbow_ClassicControl_MountainCar-v0/step_11000/videos/Rainbow_ClassicControl_MountainCar-v0/11000/Rainbow_ClassicControl_MountainCar-v0-episode-54.mp4\n",
      "score:  -600.0\n",
      "score:  -600.0\n",
      "score:  -600.0\n",
      "score:  -600.0\n",
      "score:  -600.0\n",
      "Moviepy - Building video checkpoints/Rainbow_ClassicControl_MountainCar-v0/step_12000/videos/Rainbow_ClassicControl_MountainCar-v0/12000/Rainbow_ClassicControl_MountainCar-v0-episode-59.mp4.\n",
      "Moviepy - Writing video checkpoints/Rainbow_ClassicControl_MountainCar-v0/step_12000/videos/Rainbow_ClassicControl_MountainCar-v0/12000/Rainbow_ClassicControl_MountainCar-v0-episode-59.mp4\n",
      "\n"
     ]
    },
    {
     "name": "stderr",
     "output_type": "stream",
     "text": [
      "/Users/jonathanlamontange-kratz/Documents/GitHub/rl-stuff/packages/utils/utils/utils.py:255: UserWarning: No artists with labels found to put in legend.  Note that artists whose label start with an underscore are ignored when legend() is called with no argument.\n",
      "  axs[row][col].legend()\n"
     ]
    },
    {
     "name": "stdout",
     "output_type": "stream",
     "text": [
      "Moviepy - Done !\n",
      "Moviepy - video ready checkpoints/Rainbow_ClassicControl_MountainCar-v0/step_12000/videos/Rainbow_ClassicControl_MountainCar-v0/12000/Rainbow_ClassicControl_MountainCar-v0-episode-59.mp4\n",
      "score:  -600.0\n",
      "score:  -600.0\n",
      "score:  -600.0\n",
      "score:  -600.0\n",
      "score:  -600.0\n",
      "Moviepy - Building video checkpoints/Rainbow_ClassicControl_MountainCar-v0/step_13000/videos/Rainbow_ClassicControl_MountainCar-v0/13000/Rainbow_ClassicControl_MountainCar-v0-episode-64.mp4.\n",
      "Moviepy - Writing video checkpoints/Rainbow_ClassicControl_MountainCar-v0/step_13000/videos/Rainbow_ClassicControl_MountainCar-v0/13000/Rainbow_ClassicControl_MountainCar-v0-episode-64.mp4\n",
      "\n"
     ]
    },
    {
     "name": "stderr",
     "output_type": "stream",
     "text": [
      "/Users/jonathanlamontange-kratz/Documents/GitHub/rl-stuff/packages/utils/utils/utils.py:255: UserWarning: No artists with labels found to put in legend.  Note that artists whose label start with an underscore are ignored when legend() is called with no argument.\n",
      "  axs[row][col].legend()\n"
     ]
    },
    {
     "name": "stdout",
     "output_type": "stream",
     "text": [
      "Moviepy - Done !\n",
      "Moviepy - video ready checkpoints/Rainbow_ClassicControl_MountainCar-v0/step_13000/videos/Rainbow_ClassicControl_MountainCar-v0/13000/Rainbow_ClassicControl_MountainCar-v0-episode-64.mp4\n",
      "score:  -600.0\n",
      "score:  -600.0\n",
      "score:  -600.0\n",
      "score:  -600.0\n",
      "score:  -600.0\n",
      "Moviepy - Building video checkpoints/Rainbow_ClassicControl_MountainCar-v0/step_14000/videos/Rainbow_ClassicControl_MountainCar-v0/14000/Rainbow_ClassicControl_MountainCar-v0-episode-69.mp4.\n",
      "Moviepy - Writing video checkpoints/Rainbow_ClassicControl_MountainCar-v0/step_14000/videos/Rainbow_ClassicControl_MountainCar-v0/14000/Rainbow_ClassicControl_MountainCar-v0-episode-69.mp4\n",
      "\n"
     ]
    },
    {
     "name": "stderr",
     "output_type": "stream",
     "text": [
      "                                                               \r"
     ]
    },
    {
     "name": "stdout",
     "output_type": "stream",
     "text": [
      "Moviepy - Done !\n",
      "Moviepy - video ready checkpoints/Rainbow_ClassicControl_MountainCar-v0/step_14000/videos/Rainbow_ClassicControl_MountainCar-v0/14000/Rainbow_ClassicControl_MountainCar-v0-episode-69.mp4\n",
      "score:  -600.0\n"
     ]
    },
    {
     "name": "stderr",
     "output_type": "stream",
     "text": [
      "/Users/jonathanlamontange-kratz/Documents/GitHub/rl-stuff/packages/utils/utils/utils.py:255: UserWarning: No artists with labels found to put in legend.  Note that artists whose label start with an underscore are ignored when legend() is called with no argument.\n",
      "  axs[row][col].legend()\n"
     ]
    },
    {
     "name": "stdout",
     "output_type": "stream",
     "text": [
      "score:  -600.0\n",
      "score:  -600.0\n",
      "score:  -600.0\n",
      "score:  -600.0\n",
      "Moviepy - Building video checkpoints/Rainbow_ClassicControl_MountainCar-v0/step_15000/videos/Rainbow_ClassicControl_MountainCar-v0/15000/Rainbow_ClassicControl_MountainCar-v0-episode-74.mp4.\n",
      "Moviepy - Writing video checkpoints/Rainbow_ClassicControl_MountainCar-v0/step_15000/videos/Rainbow_ClassicControl_MountainCar-v0/15000/Rainbow_ClassicControl_MountainCar-v0-episode-74.mp4\n",
      "\n"
     ]
    },
    {
     "name": "stderr",
     "output_type": "stream",
     "text": [
      "                                                               \r"
     ]
    },
    {
     "name": "stdout",
     "output_type": "stream",
     "text": [
      "Moviepy - Done !\n",
      "Moviepy - video ready checkpoints/Rainbow_ClassicControl_MountainCar-v0/step_15000/videos/Rainbow_ClassicControl_MountainCar-v0/15000/Rainbow_ClassicControl_MountainCar-v0-episode-74.mp4\n",
      "score:  -600.0\n"
     ]
    },
    {
     "name": "stderr",
     "output_type": "stream",
     "text": [
      "/Users/jonathanlamontange-kratz/Documents/GitHub/rl-stuff/packages/utils/utils/utils.py:255: UserWarning: No artists with labels found to put in legend.  Note that artists whose label start with an underscore are ignored when legend() is called with no argument.\n",
      "  axs[row][col].legend()\n"
     ]
    },
    {
     "name": "stdout",
     "output_type": "stream",
     "text": [
      "score:  -600.0\n",
      "score:  -600.0\n",
      "score:  -600.0\n",
      "score:  -600.0\n",
      "Moviepy - Building video checkpoints/Rainbow_ClassicControl_MountainCar-v0/step_16000/videos/Rainbow_ClassicControl_MountainCar-v0/16000/Rainbow_ClassicControl_MountainCar-v0-episode-79.mp4.\n",
      "Moviepy - Writing video checkpoints/Rainbow_ClassicControl_MountainCar-v0/step_16000/videos/Rainbow_ClassicControl_MountainCar-v0/16000/Rainbow_ClassicControl_MountainCar-v0-episode-79.mp4\n",
      "\n"
     ]
    },
    {
     "name": "stderr",
     "output_type": "stream",
     "text": [
      "/Users/jonathanlamontange-kratz/Documents/GitHub/rl-stuff/packages/utils/utils/utils.py:255: UserWarning: No artists with labels found to put in legend.  Note that artists whose label start with an underscore are ignored when legend() is called with no argument.\n",
      "  axs[row][col].legend()\n"
     ]
    },
    {
     "name": "stdout",
     "output_type": "stream",
     "text": [
      "Moviepy - Done !\n",
      "Moviepy - video ready checkpoints/Rainbow_ClassicControl_MountainCar-v0/step_16000/videos/Rainbow_ClassicControl_MountainCar-v0/16000/Rainbow_ClassicControl_MountainCar-v0-episode-79.mp4\n",
      "score:  -600.0\n",
      "score:  -600.0\n",
      "score:  -600.0\n",
      "score:  -600.0\n",
      "score:  -600.0\n",
      "Moviepy - Building video checkpoints/Rainbow_ClassicControl_MountainCar-v0/step_17000/videos/Rainbow_ClassicControl_MountainCar-v0/17000/Rainbow_ClassicControl_MountainCar-v0-episode-84.mp4.\n",
      "Moviepy - Writing video checkpoints/Rainbow_ClassicControl_MountainCar-v0/step_17000/videos/Rainbow_ClassicControl_MountainCar-v0/17000/Rainbow_ClassicControl_MountainCar-v0-episode-84.mp4\n",
      "\n"
     ]
    },
    {
     "name": "stderr",
     "output_type": "stream",
     "text": [
      "/Users/jonathanlamontange-kratz/Documents/GitHub/rl-stuff/packages/utils/utils/utils.py:255: UserWarning: No artists with labels found to put in legend.  Note that artists whose label start with an underscore are ignored when legend() is called with no argument.\n",
      "  axs[row][col].legend()\n"
     ]
    },
    {
     "name": "stdout",
     "output_type": "stream",
     "text": [
      "Moviepy - Done !\n",
      "Moviepy - video ready checkpoints/Rainbow_ClassicControl_MountainCar-v0/step_17000/videos/Rainbow_ClassicControl_MountainCar-v0/17000/Rainbow_ClassicControl_MountainCar-v0-episode-84.mp4\n",
      "score:  -600.0\n",
      "score:  -600.0\n",
      "score:  -600.0\n",
      "score:  -600.0\n",
      "score:  -600.0\n",
      "Moviepy - Building video checkpoints/Rainbow_ClassicControl_MountainCar-v0/step_18000/videos/Rainbow_ClassicControl_MountainCar-v0/18000/Rainbow_ClassicControl_MountainCar-v0-episode-89.mp4.\n",
      "Moviepy - Writing video checkpoints/Rainbow_ClassicControl_MountainCar-v0/step_18000/videos/Rainbow_ClassicControl_MountainCar-v0/18000/Rainbow_ClassicControl_MountainCar-v0-episode-89.mp4\n",
      "\n"
     ]
    },
    {
     "name": "stderr",
     "output_type": "stream",
     "text": [
      "                                                               \r"
     ]
    },
    {
     "name": "stdout",
     "output_type": "stream",
     "text": [
      "Moviepy - Done !\n",
      "Moviepy - video ready checkpoints/Rainbow_ClassicControl_MountainCar-v0/step_18000/videos/Rainbow_ClassicControl_MountainCar-v0/18000/Rainbow_ClassicControl_MountainCar-v0-episode-89.mp4\n",
      "score:  -600.0\n"
     ]
    },
    {
     "name": "stderr",
     "output_type": "stream",
     "text": [
      "/Users/jonathanlamontange-kratz/Documents/GitHub/rl-stuff/packages/utils/utils/utils.py:255: UserWarning: No artists with labels found to put in legend.  Note that artists whose label start with an underscore are ignored when legend() is called with no argument.\n",
      "  axs[row][col].legend()\n"
     ]
    },
    {
     "name": "stdout",
     "output_type": "stream",
     "text": [
      "score:  -600.0\n",
      "score:  -600.0\n",
      "score:  -600.0\n",
      "score:  -600.0\n",
      "Moviepy - Building video checkpoints/Rainbow_ClassicControl_MountainCar-v0/step_19000/videos/Rainbow_ClassicControl_MountainCar-v0/19000/Rainbow_ClassicControl_MountainCar-v0-episode-94.mp4.\n",
      "Moviepy - Writing video checkpoints/Rainbow_ClassicControl_MountainCar-v0/step_19000/videos/Rainbow_ClassicControl_MountainCar-v0/19000/Rainbow_ClassicControl_MountainCar-v0-episode-94.mp4\n",
      "\n"
     ]
    },
    {
     "name": "stderr",
     "output_type": "stream",
     "text": [
      "                                                               \r"
     ]
    },
    {
     "name": "stdout",
     "output_type": "stream",
     "text": [
      "Moviepy - Done !\n",
      "Moviepy - video ready checkpoints/Rainbow_ClassicControl_MountainCar-v0/step_19000/videos/Rainbow_ClassicControl_MountainCar-v0/19000/Rainbow_ClassicControl_MountainCar-v0-episode-94.mp4\n",
      "score:  -600.0\n"
     ]
    },
    {
     "name": "stderr",
     "output_type": "stream",
     "text": [
      "/Users/jonathanlamontange-kratz/Documents/GitHub/rl-stuff/packages/utils/utils/utils.py:255: UserWarning: No artists with labels found to put in legend.  Note that artists whose label start with an underscore are ignored when legend() is called with no argument.\n",
      "  axs[row][col].legend()\n"
     ]
    },
    {
     "name": "stdout",
     "output_type": "stream",
     "text": [
      "score:  -600.0\n",
      "score:  -600.0\n",
      "score:  -600.0\n",
      "score:  -600.0\n",
      "Moviepy - Building video checkpoints/Rainbow_ClassicControl_MountainCar-v0/step_20000/videos/Rainbow_ClassicControl_MountainCar-v0/20000/Rainbow_ClassicControl_MountainCar-v0-episode-99.mp4.\n",
      "Moviepy - Writing video checkpoints/Rainbow_ClassicControl_MountainCar-v0/step_20000/videos/Rainbow_ClassicControl_MountainCar-v0/20000/Rainbow_ClassicControl_MountainCar-v0-episode-99.mp4\n",
      "\n"
     ]
    },
    {
     "name": "stderr",
     "output_type": "stream",
     "text": [
      "/Users/jonathanlamontange-kratz/Documents/GitHub/rl-stuff/packages/utils/utils/utils.py:255: UserWarning: No artists with labels found to put in legend.  Note that artists whose label start with an underscore are ignored when legend() is called with no argument.\n",
      "  axs[row][col].legend()\n"
     ]
    },
    {
     "name": "stdout",
     "output_type": "stream",
     "text": [
      "Moviepy - Done !\n",
      "Moviepy - video ready checkpoints/Rainbow_ClassicControl_MountainCar-v0/step_20000/videos/Rainbow_ClassicControl_MountainCar-v0/20000/Rainbow_ClassicControl_MountainCar-v0-episode-99.mp4\n",
      "score:  -600.0\n",
      "score:  -600.0\n",
      "score:  -600.0\n",
      "score:  -600.0\n",
      "score:  -600.0\n",
      "Moviepy - Building video checkpoints/Rainbow_ClassicControl_MountainCar-v0/step_21000/videos/Rainbow_ClassicControl_MountainCar-v0/21000/Rainbow_ClassicControl_MountainCar-v0-episode-104.mp4.\n",
      "Moviepy - Writing video checkpoints/Rainbow_ClassicControl_MountainCar-v0/step_21000/videos/Rainbow_ClassicControl_MountainCar-v0/21000/Rainbow_ClassicControl_MountainCar-v0-episode-104.mp4\n",
      "\n"
     ]
    },
    {
     "name": "stderr",
     "output_type": "stream",
     "text": [
      "/Users/jonathanlamontange-kratz/Documents/GitHub/rl-stuff/packages/utils/utils/utils.py:255: UserWarning: No artists with labels found to put in legend.  Note that artists whose label start with an underscore are ignored when legend() is called with no argument.\n",
      "  axs[row][col].legend()\n"
     ]
    },
    {
     "name": "stdout",
     "output_type": "stream",
     "text": [
      "Moviepy - Done !\n",
      "Moviepy - video ready checkpoints/Rainbow_ClassicControl_MountainCar-v0/step_21000/videos/Rainbow_ClassicControl_MountainCar-v0/21000/Rainbow_ClassicControl_MountainCar-v0-episode-104.mp4\n",
      "score:  -600.0\n",
      "score:  -600.0\n",
      "score:  -600.0\n",
      "score:  -600.0\n",
      "score:  -600.0\n",
      "Moviepy - Building video checkpoints/Rainbow_ClassicControl_MountainCar-v0/step_22000/videos/Rainbow_ClassicControl_MountainCar-v0/22000/Rainbow_ClassicControl_MountainCar-v0-episode-109.mp4.\n",
      "Moviepy - Writing video checkpoints/Rainbow_ClassicControl_MountainCar-v0/step_22000/videos/Rainbow_ClassicControl_MountainCar-v0/22000/Rainbow_ClassicControl_MountainCar-v0-episode-109.mp4\n",
      "\n"
     ]
    },
    {
     "name": "stderr",
     "output_type": "stream",
     "text": [
      "                                                               \r"
     ]
    },
    {
     "name": "stdout",
     "output_type": "stream",
     "text": [
      "Moviepy - Done !\n",
      "Moviepy - video ready checkpoints/Rainbow_ClassicControl_MountainCar-v0/step_22000/videos/Rainbow_ClassicControl_MountainCar-v0/22000/Rainbow_ClassicControl_MountainCar-v0-episode-109.mp4\n",
      "score:  -600.0\n"
     ]
    },
    {
     "name": "stderr",
     "output_type": "stream",
     "text": [
      "/Users/jonathanlamontange-kratz/Documents/GitHub/rl-stuff/packages/utils/utils/utils.py:255: UserWarning: No artists with labels found to put in legend.  Note that artists whose label start with an underscore are ignored when legend() is called with no argument.\n",
      "  axs[row][col].legend()\n"
     ]
    },
    {
     "name": "stdout",
     "output_type": "stream",
     "text": [
      "score:  -600.0\n",
      "score:  -600.0\n",
      "score:  -600.0\n",
      "score:  -600.0\n",
      "Moviepy - Building video checkpoints/Rainbow_ClassicControl_MountainCar-v0/step_23000/videos/Rainbow_ClassicControl_MountainCar-v0/23000/Rainbow_ClassicControl_MountainCar-v0-episode-114.mp4.\n",
      "Moviepy - Writing video checkpoints/Rainbow_ClassicControl_MountainCar-v0/step_23000/videos/Rainbow_ClassicControl_MountainCar-v0/23000/Rainbow_ClassicControl_MountainCar-v0-episode-114.mp4\n",
      "\n"
     ]
    },
    {
     "name": "stderr",
     "output_type": "stream",
     "text": [
      "                                                               \r"
     ]
    },
    {
     "name": "stdout",
     "output_type": "stream",
     "text": [
      "Moviepy - Done !\n",
      "Moviepy - video ready checkpoints/Rainbow_ClassicControl_MountainCar-v0/step_23000/videos/Rainbow_ClassicControl_MountainCar-v0/23000/Rainbow_ClassicControl_MountainCar-v0-episode-114.mp4\n",
      "score:  -600.0\n"
     ]
    },
    {
     "name": "stderr",
     "output_type": "stream",
     "text": [
      "/Users/jonathanlamontange-kratz/Documents/GitHub/rl-stuff/packages/utils/utils/utils.py:255: UserWarning: No artists with labels found to put in legend.  Note that artists whose label start with an underscore are ignored when legend() is called with no argument.\n",
      "  axs[row][col].legend()\n"
     ]
    },
    {
     "name": "stdout",
     "output_type": "stream",
     "text": [
      "score:  -600.0\n",
      "score:  -600.0\n",
      "score:  -600.0\n",
      "score:  -600.0\n",
      "Moviepy - Building video checkpoints/Rainbow_ClassicControl_MountainCar-v0/step_24000/videos/Rainbow_ClassicControl_MountainCar-v0/24000/Rainbow_ClassicControl_MountainCar-v0-episode-119.mp4.\n",
      "Moviepy - Writing video checkpoints/Rainbow_ClassicControl_MountainCar-v0/step_24000/videos/Rainbow_ClassicControl_MountainCar-v0/24000/Rainbow_ClassicControl_MountainCar-v0-episode-119.mp4\n",
      "\n"
     ]
    },
    {
     "name": "stderr",
     "output_type": "stream",
     "text": [
      "/Users/jonathanlamontange-kratz/Documents/GitHub/rl-stuff/packages/utils/utils/utils.py:255: UserWarning: No artists with labels found to put in legend.  Note that artists whose label start with an underscore are ignored when legend() is called with no argument.\n",
      "  axs[row][col].legend()\n"
     ]
    },
    {
     "name": "stdout",
     "output_type": "stream",
     "text": [
      "Moviepy - Done !\n",
      "Moviepy - video ready checkpoints/Rainbow_ClassicControl_MountainCar-v0/step_24000/videos/Rainbow_ClassicControl_MountainCar-v0/24000/Rainbow_ClassicControl_MountainCar-v0-episode-119.mp4\n",
      "score:  -600.0\n",
      "score:  -600.0\n",
      "score:  -600.0\n",
      "score:  -600.0\n",
      "score:  -600.0\n",
      "Moviepy - Building video checkpoints/Rainbow_ClassicControl_MountainCar-v0/step_25000/videos/Rainbow_ClassicControl_MountainCar-v0/25000/Rainbow_ClassicControl_MountainCar-v0-episode-124.mp4.\n",
      "Moviepy - Writing video checkpoints/Rainbow_ClassicControl_MountainCar-v0/step_25000/videos/Rainbow_ClassicControl_MountainCar-v0/25000/Rainbow_ClassicControl_MountainCar-v0-episode-124.mp4\n",
      "\n"
     ]
    },
    {
     "name": "stderr",
     "output_type": "stream",
     "text": [
      "                                                               \r"
     ]
    },
    {
     "name": "stdout",
     "output_type": "stream",
     "text": [
      "Moviepy - Done !\n",
      "Moviepy - video ready checkpoints/Rainbow_ClassicControl_MountainCar-v0/step_25000/videos/Rainbow_ClassicControl_MountainCar-v0/25000/Rainbow_ClassicControl_MountainCar-v0-episode-124.mp4\n",
      "score:  -600.0\n"
     ]
    },
    {
     "name": "stderr",
     "output_type": "stream",
     "text": [
      "/Users/jonathanlamontange-kratz/Documents/GitHub/rl-stuff/packages/utils/utils/utils.py:255: UserWarning: No artists with labels found to put in legend.  Note that artists whose label start with an underscore are ignored when legend() is called with no argument.\n",
      "  axs[row][col].legend()\n"
     ]
    },
    {
     "name": "stdout",
     "output_type": "stream",
     "text": [
      "score:  -600.0\n",
      "score:  -214.0\n",
      "score:  -600.0\n",
      "score:  -209.0\n",
      "Moviepy - Building video checkpoints/Rainbow_ClassicControl_MountainCar-v0/step_26000/videos/Rainbow_ClassicControl_MountainCar-v0/26000/Rainbow_ClassicControl_MountainCar-v0-episode-129.mp4.\n",
      "Moviepy - Writing video checkpoints/Rainbow_ClassicControl_MountainCar-v0/step_26000/videos/Rainbow_ClassicControl_MountainCar-v0/26000/Rainbow_ClassicControl_MountainCar-v0-episode-129.mp4\n",
      "\n"
     ]
    },
    {
     "name": "stderr",
     "output_type": "stream",
     "text": [
      "/Users/jonathanlamontange-kratz/Documents/GitHub/rl-stuff/packages/utils/utils/utils.py:255: UserWarning: No artists with labels found to put in legend.  Note that artists whose label start with an underscore are ignored when legend() is called with no argument.\n",
      "  axs[row][col].legend()\n"
     ]
    },
    {
     "name": "stdout",
     "output_type": "stream",
     "text": [
      "Moviepy - Done !\n",
      "Moviepy - video ready checkpoints/Rainbow_ClassicControl_MountainCar-v0/step_26000/videos/Rainbow_ClassicControl_MountainCar-v0/26000/Rainbow_ClassicControl_MountainCar-v0-episode-129.mp4\n",
      "score:  -218.0\n",
      "score:  -150.0\n",
      "score:  -600.0\n",
      "score:  -150.0\n",
      "score:  -600.0\n",
      "Moviepy - Building video checkpoints/Rainbow_ClassicControl_MountainCar-v0/step_27000/videos/Rainbow_ClassicControl_MountainCar-v0/27000/Rainbow_ClassicControl_MountainCar-v0-episode-134.mp4.\n",
      "Moviepy - Writing video checkpoints/Rainbow_ClassicControl_MountainCar-v0/step_27000/videos/Rainbow_ClassicControl_MountainCar-v0/27000/Rainbow_ClassicControl_MountainCar-v0-episode-134.mp4\n",
      "\n"
     ]
    },
    {
     "name": "stderr",
     "output_type": "stream",
     "text": [
      "                                                               \r"
     ]
    },
    {
     "name": "stdout",
     "output_type": "stream",
     "text": [
      "Moviepy - Done !\n",
      "Moviepy - video ready checkpoints/Rainbow_ClassicControl_MountainCar-v0/step_27000/videos/Rainbow_ClassicControl_MountainCar-v0/27000/Rainbow_ClassicControl_MountainCar-v0-episode-134.mp4\n",
      "score:  -600.0\n"
     ]
    },
    {
     "name": "stderr",
     "output_type": "stream",
     "text": [
      "/Users/jonathanlamontange-kratz/Documents/GitHub/rl-stuff/packages/utils/utils/utils.py:255: UserWarning: No artists with labels found to put in legend.  Note that artists whose label start with an underscore are ignored when legend() is called with no argument.\n",
      "  axs[row][col].legend()\n"
     ]
    },
    {
     "name": "stdout",
     "output_type": "stream",
     "text": [
      "score:  -600.0\n",
      "score:  -600.0\n",
      "score:  -600.0\n",
      "score:  -600.0\n",
      "Moviepy - Building video checkpoints/Rainbow_ClassicControl_MountainCar-v0/step_28000/videos/Rainbow_ClassicControl_MountainCar-v0/28000/Rainbow_ClassicControl_MountainCar-v0-episode-139.mp4.\n",
      "Moviepy - Writing video checkpoints/Rainbow_ClassicControl_MountainCar-v0/step_28000/videos/Rainbow_ClassicControl_MountainCar-v0/28000/Rainbow_ClassicControl_MountainCar-v0-episode-139.mp4\n",
      "\n"
     ]
    },
    {
     "name": "stderr",
     "output_type": "stream",
     "text": [
      "                                                               \r"
     ]
    },
    {
     "name": "stdout",
     "output_type": "stream",
     "text": [
      "Moviepy - Done !\n",
      "Moviepy - video ready checkpoints/Rainbow_ClassicControl_MountainCar-v0/step_28000/videos/Rainbow_ClassicControl_MountainCar-v0/28000/Rainbow_ClassicControl_MountainCar-v0-episode-139.mp4\n",
      "score:  -600.0\n"
     ]
    },
    {
     "name": "stderr",
     "output_type": "stream",
     "text": [
      "/Users/jonathanlamontange-kratz/Documents/GitHub/rl-stuff/packages/utils/utils/utils.py:255: UserWarning: No artists with labels found to put in legend.  Note that artists whose label start with an underscore are ignored when legend() is called with no argument.\n",
      "  axs[row][col].legend()\n"
     ]
    },
    {
     "name": "stdout",
     "output_type": "stream",
     "text": [
      "score:  -600.0\n",
      "score:  -600.0\n",
      "score:  -600.0\n",
      "score:  -600.0\n",
      "Moviepy - Building video checkpoints/Rainbow_ClassicControl_MountainCar-v0/step_29000/videos/Rainbow_ClassicControl_MountainCar-v0/29000/Rainbow_ClassicControl_MountainCar-v0-episode-144.mp4.\n",
      "Moviepy - Writing video checkpoints/Rainbow_ClassicControl_MountainCar-v0/step_29000/videos/Rainbow_ClassicControl_MountainCar-v0/29000/Rainbow_ClassicControl_MountainCar-v0-episode-144.mp4\n",
      "\n"
     ]
    },
    {
     "name": "stderr",
     "output_type": "stream",
     "text": [
      "                                                               \r"
     ]
    },
    {
     "name": "stdout",
     "output_type": "stream",
     "text": [
      "Moviepy - Done !\n",
      "Moviepy - video ready checkpoints/Rainbow_ClassicControl_MountainCar-v0/step_29000/videos/Rainbow_ClassicControl_MountainCar-v0/29000/Rainbow_ClassicControl_MountainCar-v0-episode-144.mp4\n",
      "score:  -600.0\n"
     ]
    },
    {
     "name": "stderr",
     "output_type": "stream",
     "text": [
      "/Users/jonathanlamontange-kratz/Documents/GitHub/rl-stuff/packages/utils/utils/utils.py:255: UserWarning: No artists with labels found to put in legend.  Note that artists whose label start with an underscore are ignored when legend() is called with no argument.\n",
      "  axs[row][col].legend()\n"
     ]
    },
    {
     "name": "stdout",
     "output_type": "stream",
     "text": [
      "score:  -87.0\n",
      "score:  -600.0\n",
      "score:  -85.0\n",
      "score:  -92.0\n",
      "Moviepy - Building video checkpoints/Rainbow_ClassicControl_MountainCar-v0/step_29999/videos/Rainbow_ClassicControl_MountainCar-v0/29999/Rainbow_ClassicControl_MountainCar-v0-episode-149.mp4.\n",
      "Moviepy - Writing video checkpoints/Rainbow_ClassicControl_MountainCar-v0/step_29999/videos/Rainbow_ClassicControl_MountainCar-v0/29999/Rainbow_ClassicControl_MountainCar-v0-episode-149.mp4\n",
      "\n"
     ]
    },
    {
     "name": "stderr",
     "output_type": "stream",
     "text": [
      "                                                               \r"
     ]
    },
    {
     "name": "stdout",
     "output_type": "stream",
     "text": [
      "Moviepy - Done !\n",
      "Moviepy - video ready checkpoints/Rainbow_ClassicControl_MountainCar-v0/step_29999/videos/Rainbow_ClassicControl_MountainCar-v0/29999/Rainbow_ClassicControl_MountainCar-v0-episode-149.mp4\n",
      "score:  -129.0\n"
     ]
    },
    {
     "name": "stderr",
     "output_type": "stream",
     "text": [
      "/Users/jonathanlamontange-kratz/Documents/GitHub/rl-stuff/packages/utils/utils/utils.py:255: UserWarning: No artists with labels found to put in legend.  Note that artists whose label start with an underscore are ignored when legend() is called with no argument.\n",
      "  axs[row][col].legend()\n"
     ]
    },
    {
     "ename": "",
     "evalue": "",
     "output_type": "error",
     "traceback": [
      "\u001b[1;31mThe Kernel crashed while executing code in the current cell or a previous cell. \n",
      "\u001b[1;31mPlease review the code in the cell(s) to identify a possible cause of the failure. \n",
      "\u001b[1;31mClick <a href='https://aka.ms/vscodeJupyterKernelCrash'>here</a> for more info. \n",
      "\u001b[1;31mView Jupyter <a href='command:jupyter.viewOutput'>log</a> for further details."
     ]
    }
   ],
   "source": [
    "import gymnasium as gym\n",
    "import sys\n",
    "import torch \n",
    "\n",
    "from utils import CategoricalCrossentropyLoss, KLDivergenceLoss\n",
    "sys.path.append('../..')\n",
    "from dqn.rainbow.rainbow_agent import RainbowAgent\n",
    "from agent_configs import RainbowConfig\n",
    "from game_configs import ClassicControlConfig\n",
    "\n",
    "config_dict = {\n",
    "  \"dense_layers_widths\": [512, 512],\n",
    "  \"value_hidden_layers_widths\": [], # \n",
    "  \"advatage_hidden_layers_widths\": [], # \n",
    "  \"adam_epsilon\": 3.125e-4,\n",
    "  \"learning_rate\": 0.001,\n",
    "  \"training_steps\": 30000,\n",
    "  \"per_epsilon\": 1e-6, # \n",
    "  \"per_alpha\": 0.5,\n",
    "  \"per_beta\": 0.5, # For RIAYN should be no annealing # 0.4\n",
    "  \"minibatch_size\": 128,\n",
    "  \"replay_buffer_size\": 50000,\n",
    "  \"min_replay_buffer_size\": 500,\n",
    "  \"transfer_interval\": 100,\n",
    "  \"n_step\": 3,\n",
    "  \"kernel_initializer\": \"orthogonal\", #\n",
    "  \"loss_function\": KLDivergenceLoss(), # KLDivergence()\n",
    "  \"clipnorm\": 0.0, # 2.0 \n",
    "  \"discount_factor\": 0.99,\n",
    "  \"atom_size\": 51,\n",
    "  \"replay_interval\": 2,\n",
    "}\n",
    "game_config = ClassicControlConfig()\n",
    "config = RainbowConfig(config_dict, game_config)\n",
    "device = \"cuda:0\" if torch.cuda.is_available() else \"cpu\"\n",
    "\n",
    "# game_config.v_min = 0\n",
    "# game_config.v_max = 500\n",
    "# env = gym.make(\"CartPole-v1\", render_mode=\"rgb_array\")\n",
    "# agent = RainbowAgent(env, config, name=\"Rainbow_ClassicControl_CartPole-v1\", device=device)\n",
    "# agent.train()\n",
    "\n",
    "# game_config.v_min = -500\n",
    "# game_config.v_max = 0\n",
    "# env = gym.make(\"Acrobot-v1\", render_mode=\"rgb_array\")\n",
    "# agent = RainbowAgent(env, config, name=\"Rainbow_ClassicControl_Acrobot-v1\", device=device)\n",
    "# agent.train()\n",
    "\n",
    "# game_config.v_min = -200\n",
    "# game_config.v_max = 200\n",
    "# env = gym.make(\"LunarLander-v2\", render_mode=\"rgb_array\")\n",
    "# agent = RainbowAgent(env, config, name=\"Rainbow_ClassicControl_LunarLander-v2\", device=device)\n",
    "# agent.train()\n",
    "\n",
    "# game_config.v_min = -200\n",
    "# game_config.v_max = -100\n",
    "env = gym.make(\"MountainCar-v0\", render_mode=\"rgb_array\", max_episode_steps=600)\n",
    "agent = RainbowAgent(env, config, name=\"Rainbow_ClassicControl_MountainCar-v0\", device=device)\n",
    "agent.train()"
   ]
  },
  {
   "cell_type": "markdown",
   "metadata": {},
   "source": [
    "## Rainbow on Atari\n",
    "Takes around 18GB RAM, and many hours even just to fill replay buffer with a Mac M2"
   ]
  },
  {
   "cell_type": "markdown",
   "metadata": {},
   "source": [
    "### Rainbow MsPacman"
   ]
  },
  {
   "cell_type": "code",
   "execution_count": null,
   "metadata": {},
   "outputs": [],
   "source": [
    "import gymnasium as gym\n",
    "import sys\n",
    "\n",
    "from utils import CategoricalCrossentropyLoss, KLDivergenceLoss\n",
    "sys.path.append('../..')\n",
    "from dqn.rainbow.rainbow_agent import RainbowAgent\n",
    "from agent_configs import RainbowConfig\n",
    "from game_configs import AtariConfig\n",
    "from gymnasium.wrappers import AtariPreprocessing, FrameStack\n",
    "import numpy as np\n",
    "\n",
    "config_dict = {\n",
    "  \"conv_layers\": [\n",
    "      (32, 8, 4),\n",
    "      (64, 4, 2),\n",
    "      (64, 3, 1),\n",
    "  ],\n",
    "  \"dense_layers_widths\": [512], \n",
    "  \"value_hidden_layers_widths\": [], # \n",
    "  \"advatage_hidden_layers_widths\": [], # \n",
    "  \"adam_epsilon\": 1.5e-4,\n",
    "  \"learning_rate\": 0.00025/4,\n",
    "  \"training_steps\": 50000000, # Agent saw 200,000,000 frames\n",
    "  \"per_epsilon\": 1e-6, # \n",
    "  \"per_alpha\": 0.5, \n",
    "  \"per_beta\": 0.4, \n",
    "  \"minibatch_size\": 32,\n",
    "  \"replay_buffer_size\": 1000000,\n",
    "  \"min_replay_buffer_size\": 80000,\n",
    "  \"transfer_interval\": 32000,\n",
    "  \"n_step\": 3,\n",
    "  \"kernel_initializer\": \"orthogonal\", #\n",
    "  \"loss_function\": KLDivergenceLoss(),\n",
    "  \"clipnorm\": 0.0, # \n",
    "  \"discount_factor\": 0.99,\n",
    "  \"atom_size\": 51,\n",
    "  \"replay_interval\": 4,\n",
    "}\n",
    "game_config = AtariConfig()\n",
    "config = RainbowConfig(config_dict, game_config)\n",
    "\n",
    "class ClipReward(gym.RewardWrapper):\n",
    "    def __init__(self, env, min_reward, max_reward):\n",
    "        super().__init__(env)\n",
    "        self.min_reward = min_reward\n",
    "        self.max_reward = max_reward\n",
    "        self.reward_range = (min_reward, max_reward)\n",
    "\n",
    "    def reward(self, reward):\n",
    "        return np.clip(reward, self.min_reward, self.max_reward)\n",
    "env = gym.make(\"MsPacmanNoFrameskip-v4\", render_mode=\"rgb_array\", max_episode_steps=108000)\n",
    "env = AtariPreprocessing(env, terminal_on_life_loss=True)\n",
    "env = FrameStack(env, 4)\n",
    "agent = RainbowAgent(env, config, name=\"Rainbow_Atari_MsPacmanNoFrameskip-v4\")\n",
    "agent.checkpoint_interval = 1000\n",
    "agent.train()"
   ]
  },
  {
   "cell_type": "markdown",
   "metadata": {},
   "source": [
    "## Rainbow with  turn-based zero-sum 2-player perfect information deterministic games\n",
    "Not working yet because of zero sum rewards, could get it to work by doing an NFSP sort of thing when storing experiences"
   ]
  },
  {
   "cell_type": "markdown",
   "metadata": {},
   "source": [
    "### Rainbow Tic Tac Toe"
   ]
  },
  {
   "cell_type": "markdown",
   "metadata": {},
   "source": [
    "#### Framestacking"
   ]
  },
  {
   "cell_type": "code",
   "execution_count": null,
   "metadata": {},
   "outputs": [],
   "source": [
    "import gymnasium as gym\n",
    "import sys\n",
    "\n",
    "from packages.game_configs.game_configs.tictactoe_config import TicTacToeConfig\n",
    "from utils import CategoricalCrossentropyLoss, KLDivergenceLoss\n",
    "sys.path.append('../..')\n",
    "from dqn.rainbow.rainbow_agent import RainbowAgent\n",
    "from agent_configs import RainbowConfig\n",
    "from game_configs import AtariConfig\n",
    "from gymnasium.wrappers import AtariPreprocessing, FrameStack\n",
    "import numpy as np\n",
    "\n",
    "config_dict = {\n",
    "  \"conv_layers\": [\n",
    "      (32, 8, 4),\n",
    "      (64, 4, 2),\n",
    "      (64, 3, 1),\n",
    "  ],\n",
    "  \"dense_layers_widths\": [512], \n",
    "  \"value_hidden_layers_widths\": [], # \n",
    "  \"advatage_hidden_layers_widths\": [], # \n",
    "  \"adam_epsilon\": 1.5e-4,\n",
    "  \"learning_rate\": 0.00025/4,\n",
    "  \"training_steps\": 50000000, # Agent saw 200,000,000 frames\n",
    "  \"per_epsilon\": 1e-6, # \n",
    "  \"per_alpha\": 0.5, \n",
    "  \"per_beta\": 0.4, \n",
    "  \"minibatch_size\": 32,\n",
    "  \"replay_buffer_size\": 1000000,\n",
    "  \"min_replay_buffer_size\": 80000,\n",
    "  \"transfer_interval\": 32000,\n",
    "  \"n_step\": 3,\n",
    "  \"kernel_initializer\": \"orthogonal\", #\n",
    "  \"loss_function\": KLDivergenceLoss(),\n",
    "  \"clipnorm\": 0.0, # \n",
    "  \"discount_factor\": 0.99,\n",
    "  \"atom_size\": 51,\n",
    "  \"replay_interval\": 4,\n",
    "}\n",
    "game_config = TicTacToeConfig()\n",
    "config = RainbowConfig(config_dict, game_config)\n",
    "\n",
    "env = gym.make(\"TicTacToe-v0\", render_mode=\"rgb_array\")\n",
    "env = FrameStack(env, 4)\n",
    "agent = RainbowAgent(env, config, name=\"Rainbow_TicTacToe-v0\")\n",
    "agent.train()"
   ]
  },
  {
   "cell_type": "markdown",
   "metadata": {},
   "source": [
    "#### No framestacking"
   ]
  },
  {
   "cell_type": "code",
   "execution_count": null,
   "metadata": {},
   "outputs": [],
   "source": [
    "import gymnasium as gym\n",
    "import sys\n",
    "\n",
    "from packages.game_configs.game_configs.tictactoe_config import TicTacToeConfig\n",
    "from utils import CategoricalCrossentropyLoss, KLDivergenceLoss\n",
    "sys.path.append('../..')\n",
    "from dqn.rainbow.rainbow_agent import RainbowAgent\n",
    "from agent_configs import RainbowConfig\n",
    "from game_configs import AtariConfig\n",
    "from gymnasium.wrappers import AtariPreprocessing, FrameStack\n",
    "import numpy as np\n",
    "\n",
    "config_dict = {\n",
    "  \"conv_layers\": [\n",
    "      (32, 8, 4),\n",
    "      (64, 4, 2),\n",
    "      (64, 3, 1),\n",
    "  ],\n",
    "  \"dense_layers_widths\": [512], \n",
    "  \"value_hidden_layers_widths\": [], # \n",
    "  \"advatage_hidden_layers_widths\": [], # \n",
    "  \"adam_epsilon\": 1.5e-4,\n",
    "  \"learning_rate\": 0.00025/4,\n",
    "  \"training_steps\": 50000000, # Agent saw 200,000,000 frames\n",
    "  \"per_epsilon\": 1e-6, # \n",
    "  \"per_alpha\": 0.5, \n",
    "  \"per_beta\": 0.4, \n",
    "  \"minibatch_size\": 32,\n",
    "  \"replay_buffer_size\": 1000000,\n",
    "  \"min_replay_buffer_size\": 80000,\n",
    "  \"transfer_interval\": 32000,\n",
    "  \"n_step\": 3,\n",
    "  \"kernel_initializer\": \"orthogonal\", #\n",
    "  \"loss_function\": KLDivergenceLoss(),\n",
    "  \"clipnorm\": 0.0, # \n",
    "  \"discount_factor\": 0.99,\n",
    "  \"atom_size\": 51,\n",
    "  \"replay_interval\": 4,\n",
    "}\n",
    "game_config = TicTacToeConfig()\n",
    "config = RainbowConfig(config_dict, game_config)\n",
    "\n",
    "env = gym.make(\"TicTacToe-v0\", render_mode=\"rgb_array\")\n",
    "agent = RainbowAgent(env, config, name=\"Rainbow_TicTacToe-v0\")\n",
    "agent.train()"
   ]
  },
  {
   "cell_type": "markdown",
   "metadata": {},
   "source": [
    "### Rainbow Connect 4"
   ]
  },
  {
   "cell_type": "code",
   "execution_count": null,
   "metadata": {},
   "outputs": [],
   "source": []
  },
  {
   "cell_type": "markdown",
   "metadata": {},
   "source": [
    "### Rainbow Chess"
   ]
  }
 ],
 "metadata": {
  "kernelspec": {
   "display_name": "Python 3",
   "language": "python",
   "name": "python3"
  },
  "language_info": {
   "codemirror_mode": {
    "name": "ipython",
    "version": 3
   },
   "file_extension": ".py",
   "mimetype": "text/x-python",
   "name": "python",
   "nbconvert_exporter": "python",
   "pygments_lexer": "ipython3",
   "version": "3.12.3"
  }
 },
 "nbformat": 4,
 "nbformat_minor": 2
}
