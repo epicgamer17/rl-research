{
 "cells": [
  {
   "cell_type": "markdown",
   "metadata": {},
   "source": [
    "1. Rainbow and Ape-X Expiriments \n",
    "    1. We release a set of hyper parameters for CartPole-v1 and Classic Control and Atari\n",
    "    2. We release code for Rainbow that can train X steps in Y minutes on a Mac M2 Chip\n",
    "    3. We also release a version of Ape-X as described in the original paper, and an Ape-X with rainbow\n",
    "        1. Compare results of each \n",
    "        2. Compare Ape-X with different Rainbow components added or removed\n",
    "    4. We compare the different models of DQN as seen in their papers to rainbow, the different individual components to rainbow, and rainbow with individual components removed\n",
    "    5. We graph the convergence of Hyperopt for both tensorflow and torch, we do a score/trials graph and we compare to random hyper parameters \n",
    "    6. We graph the exploration of the Hyperopt algorithm showing the difference between consecutive trials to measure when the algorithm is “confident” in its parameters\n",
    "    7. Compare search space sizes\n",
    "        1. Large all hp.choice\n",
    "        2. small/medium hp.choice\n",
    "        3. a set using hp.uniform etc \n",
    "    8. Different methods\n",
    "        1. tuning only 1 part of the system at a time and then tuning the next part, from a base set of params \n",
    "            1. DQN, then PER, then Double… \n",
    "    9. Different testing methods, like for example rolling average instead of latest test score\n",
    "    10. Compare rainbow training speeds with different levels of numerical precision and datatypes\n",
    "        1. Mixed precision using torch.amp \n",
    "        2. Lower matmul precision\n",
    "            1. comparing medium, high, and highest \n",
    "            2. https://pytorch.org/docs/master/generated/torch.set_float32_matmul_precision.html?highlight=precision#torch.set_float32_matmul_precision\n",
    "    11. Ape-X Hyper parameter sweep and sensitivities\n",
    "    12. Exploration methods for Rainbow Ape-X\n",
    "        1. Just noisy nets (same for all actors)\n",
    "        2. Noisy nets and varying epsilon \n",
    "        3. Adding a constant that changes variance of noisy nets for action selection\n",
    "        4. AlphaStar Agents"
   ]
  },
  {
   "cell_type": "markdown",
   "metadata": {},
   "source": [
    "## Baseline Parameter Training Results"
   ]
  },
  {
   "cell_type": "code",
   "execution_count": null,
   "metadata": {},
   "outputs": [],
   "source": [
    "import gymnasium as gym\n",
    "from gymnasium.wrappers import AtariPreprocessing, FrameStack\n",
    "import numpy as np\n",
    "import sys\n",
    "sys.path.append('../..')\n",
    "from dqn.rainbow.rainbow_agent import RainbowAgent\n",
    "from game_configs import AtariConfig, CartPoleConfig\n",
    "from agent_configs import RainbowConfig\n",
    "from utils import KLDivergence\n",
    "import random\n",
    "import torch\n",
    "\n",
    "# env = ClipReward(AtariPreprocessing(gym.make(\"MsPacmanNoFrameskip-v4\", render_mode=\"rgb_array\"), terminal_on_life_loss=True), -1, 1) # as recommended by the original paper, should already include max pooling\n",
    "# env = FrameStack(env, 4)\n",
    "env = gym.make(\"CartPole-v1\")\n",
    "\n",
    "\n",
    "config_dict = {\n",
    "  \"dense_layers_widths\": [128],\n",
    "  \"value_hidden_layers_widths\": [128],\n",
    "  \"advatage_hidden_layers_widths\": [128],\n",
    "  \"adam_epsilon\": 1e-8,\n",
    "  \"learning_rate\": 0.001,\n",
    "  \"training_steps\": 10000,\n",
    "  \"per_epsilon\": 1e-6,\n",
    "  \"per_alpha\": 0.2,\n",
    "  \"per_beta\": 0.6,\n",
    "  \"minibatch_size\": 128,\n",
    "  \"transfer_interval\": 100,\n",
    "  \"n_step\": 3,\n",
    "  \"noisy_sigma\": 0.5,\n",
    "  \"replay_interval\": 1,\n",
    "  \"kernel_initializer\": \"orthogonal\",\n",
    "  \"noisy_sigma\": 0.5,\n",
    "  \"loss_function\": KLDivergence(), # could do categorical cross entropy \n",
    "  \"clipnorm\": 10.0,\n",
    "}\n",
    "game_config = CartPoleConfig()\n",
    "config = RainbowConfig(config_dict, game_config)\n",
    "agent = RainbowAgent(env, config, name=\"baseline\")\n",
    "\n",
    "for param in agent.model.parameters():\n",
    "  print(param)\n",
    "print(\"start\")\n",
    "agent.train()"
   ]
  },
  {
   "cell_type": "markdown",
   "metadata": {},
   "source": [
    "# Hyperparameter optimization of Rainbow on Cartpole-v1\n",
    "Training steps: 10,000 (5,000 for TesnorFlow)\n",
    "Evaluation: 10 episodes from random starts."
   ]
  },
  {
   "cell_type": "markdown",
   "metadata": {},
   "source": [
    "## Hyperopt with PyTorch and TensorFlow only hp.choice()"
   ]
  },
  {
   "cell_type": "code",
   "execution_count": null,
   "metadata": {},
   "outputs": [],
   "source": [
    "import pickle\n",
    "from hyperopt import hp\n",
    "from utils import CategoricalCrossentropy, KLDivergence, generate_layer_widths\n",
    "import gymnasium as gym \n",
    "\n",
    "width_combinations = generate_layer_widths([32, 64, 128, 256, 512, 1024], 5)\n",
    "\n",
    "search_space = {\n",
    "        \"kernel_initializer\": hp.choice(\n",
    "            \"kernel_initializer\",\n",
    "            [\n",
    "                \"he_uniform\",\n",
    "                \"he_normal\",\n",
    "                \"glorot_uniform\",\n",
    "                \"glorot_normal\",\n",
    "                \"orthogonal\",\n",
    "            ],\n",
    "        ),\n",
    "        \"learning_rate\": hp.choice(\n",
    "            \"learning_rate\", [10, 5, 2, 1, 0.1, 0.01, 0.001, 0.0001, 0.00001]\n",
    "        ),\n",
    "        \"adam_epsilon\": hp.choice(\n",
    "            \"adam_epsilon\", [0.3125, 0.03125, 0.003125, 0.0003125]\n",
    "        ),\n",
    "        \"loss_function\": hp.choice(\n",
    "            \"loss_function\", [CategoricalCrossentropy(), KLDivergence()]\n",
    "        ),\n",
    "        # NORMALIZATION?\n",
    "        \"transfer_interval\": hp.choice(\n",
    "            \"transfer_interval\", [10, 25, 50, 100, 200, 400, 800, 1600, 2000]\n",
    "        ),\n",
    "        \"replay_interval\": hp.choice(\"replay_interval\", [1, 2, 3, 4, 5, 8, 10, 12]),\n",
    "        \"minibatch_size\": hp.choice(\n",
    "            \"minibatch_size\", [2**i for i in range(4, 8)]\n",
    "        ),  ###########\n",
    "        \"replay_buffer_size\": hp.choice(\n",
    "            \"replay_buffer_size\",\n",
    "            [2000, 3000, 5000, 7500, 10000],\n",
    "        ),  #############\n",
    "        \"min_replay_buffer_size\": hp.choice(\n",
    "            \"min_replay_buffer_size\",\n",
    "            [125, 250, 375, 500, 625, 750, 875, 1000, 1500, 2000],\n",
    "        ),  # 125, 250, 375, 500, 625, 750, 875, 1000, 1500, 2000\n",
    "        \"n_step\": hp.choice(\"n_step\", [3, 4, 5, 8, 10]),\n",
    "        \"discount_factor\": hp.choice(\"discount_factor\", [0.9, 0.99, 0.995, 0.999]),\n",
    "        \"atom_size\": hp.choice(\"atom_size\", [51, 61, 71, 81]),  #\n",
    "        \"conv_layers\": hp.choice(\"conv_layers\", [[]]),\n",
    "        \"dense_layers_widths\": hp.choice(\"dense_layers_widths\", width_combinations),\n",
    "        \"advantage_hidden_layers_widths\": hp.choice(\n",
    "            \"advantage_hidden_layers_widths\", width_combinations\n",
    "        ),  #\n",
    "        \"value_hidden_layers_widths\": hp.choice(\n",
    "            \"value_hidden_layers_widths\", width_combinations\n",
    "        ),  #\n",
    "        \"training_steps\": hp.choice(\"training_steps\", [10000]),\n",
    "        \"per_epsilon\": hp.choice(\"per_epsilon\", [0.00001, 0.0001, 0.001, 0.01, 0.1]),\n",
    "        \"per_alpha\": hp.choice(\"per_alpha\", [0.05 * i for i in range(1, 21)]),\n",
    "        \"per_beta\": hp.choice(\"per_beta\", [0.05 * i for i in range(1, 21)]),\n",
    "        \"clipnorm\": hp.choice(\"clipnorm\", [None, 0.1, 0.5, 1.0, 2.0, 5.0, 10.0]),\n",
    "    }\n",
    "\n",
    "initial_best_config = [{}]\n",
    "\n",
    "\n",
    "pickle.dump(search_space, open(\"./search_spaces/torch_choice_search_search_space.pkl\", \"wb\"))\n",
    "pickle.dump(initial_best_config, open(\"./search_spaces/torch_choice_search_initial_best_config.pkl\", \"wb\"))\n",
    "\n",
    "%run ./hyperparameter_optimization.py ./search_spaces/torch_choice_search_search_space.pkl ./search_spaces/torch_choice_search_initial_best_config.pkl ClassicControl-v1_search_choice ."
   ]
  },
  {
   "cell_type": "code",
   "execution_count": 1,
   "metadata": {},
   "outputs": [
    {
     "data": {
      "image/png": "[encoded data removed]",
      "text/plain": [
       "<Figure size 1000x500 with 1 Axes>"
      ]
     },
     "metadata": {},
     "output_type": "display_data"
    },
    {
     "data": {
      "image/png": "[encoded data removed]",
      "text/plain": [
       "<Figure size 1000x500 with 1 Axes>"
      ]
     },
     "metadata": {},
     "output_type": "display_data"
    }
   ],
   "source": [
    "# Graphing the trials over time\n",
    "from utils import plot_trials\n",
    "import pickle\n",
    "%matplotlib inline\n",
    "\n",
    "data_dir = \"./torch_choice_trials\"\n",
    "trials = pickle.load(open(f'{data_dir}/CartPole-v1_trials.p', 'rb'))\n",
    "plot_trials(trials, \"Carpole-v1_torch_trials_over_time\")\n",
    "\n",
    "data_dir = \"./tensorflow_choice_trials\"\n",
    "trials = pickle.load(open(f'{data_dir}/CartPole-v1_trials.p', 'rb'))\n",
    "# print(trials.trials)\n",
    "plot_trials(trials, \"Carpole-v1_tensorflow_trials_over_time\")\n"
   ]
  },
  {
   "cell_type": "code",
   "execution_count": 4,
   "metadata": {},
   "outputs": [
    {
     "name": "stdout",
     "output_type": "stream",
     "text": [
      "Number of Trials 68\n",
      "Losses [0, 0, 9.0, 9.0, 9.1, 9.1, 9.1, 9.1, 9.1, 9.2, 9.2, 9.2, 9.2, 9.3, 9.3, 9.3, 9.3, 9.3, 9.3, 9.3, 9.3, 9.4, 9.4, 9.4, 9.4, 9.4, 9.4, 9.4, 9.4, 9.4, 9.5, 9.5, 9.5, 9.5, 9.5, 9.6, 9.6, 9.6, 9.6, 9.6, 9.6, 9.6, 9.6, 9.6, 9.6, 9.7, 9.8, 10.9, 11.2, 35.5, 35.5, 54.1, 65.6, 99.3, 104.2, 107.7, 123.3, 160.4, 162.5, 176.6, 195.5, 257.8, 292.0, 299.2, 358.8, 489.3, 500.0, 500.0] 68 65.61323529411764\n",
      "Viable Trials 0.27941176470588236\n",
      "Viable Trials 0.4117647058823529\n",
      "Number of Trials 117\n",
      "Losses [0, 0, 0, 0, 0, 0, 0, 0, 8.9, 9.0, 9.1, 9.1, 9.1, 9.1, 9.1, 9.1, 9.2, 9.2, 9.2, 9.2, 9.2, 9.2, 9.2, 9.2, 9.3, 9.3, 9.3, 9.3, 9.3, 9.3, 9.3, 9.3, 9.4, 9.4, 9.4, 9.4, 9.4, 9.4, 9.4, 9.4, 9.4, 9.5, 9.5, 9.5, 9.5, 9.5, 9.5, 9.5, 9.5, 9.6, 9.6, 9.6, 9.6, 9.6, 9.7, 9.7, 9.7, 9.7, 9.7, 9.7, 9.8, 9.8, 9.8, 9.8, 9.9, 10.4, 10.7, 11.3, 12.3, 12.5, 13.2, 15.0, 15.3, 18.7, 19.0, 25.7, 29.1, 29.4, 29.8, 30.3, 30.8, 30.9, 33.9, 34.7, 35.9, 40.6, 46.5, 58.6, 63.1, 71.6, 93.8, 99.3, 99.5, 100.9, 104.9, 115.0, 124.4, 128.5, 139.1, 142.1, 146.1, 147.0, 159.8, 162.2, 167.1, 176.3, 184.5, 190.5, 192.0, 207.8, 209.7, 209.9, 216.4, 230.2, 244.8, 252.3, 362.2] 117 50.18803418803419\n",
      "Viable Trials 0.38461538461538464\n",
      "Viable Trials 0.5213675213675214\n"
     ]
    }
   ],
   "source": [
    "import pickle \n",
    "import os \n",
    "\n",
    "viable_trial_threshold = 15\n",
    "data_dir = \"./torch_choice_trials\"\n",
    "\n",
    "trials = pickle.load(open(f'{data_dir}/CartPole-v1_trials.p', 'rb'))\n",
    "print(\"Number of Trials\", len(trials.trials))\n",
    "losses = [-trial['result']['loss'] for trial in trials.trials]\n",
    "losses.sort()\n",
    "print(\"Losses\", losses, len(losses), sum(losses)/len(losses))\n",
    "viable_trials = [loss for loss in losses if loss > viable_trial_threshold]\n",
    "print(\"Viable Trials\", len(viable_trials)/len(losses))\n",
    "\n",
    "viable_trials = []\n",
    "for trial in os.listdir(f\"{data_dir}/checkpoints\"):\n",
    "  if os.path.exists(f\"{data_dir}/checkpoints/{trial}/step_9999/graphs_stats/stats.pkl\"):\n",
    "    stats = pickle.load(open(f'{data_dir}/checkpoints/{trial}/step_9999/graphs_stats/stats.pkl', 'rb'))\n",
    "    max_score = 0\n",
    "    for stat_dict in stats[\"test_score\"]:\n",
    "      if stat_dict[\"max_score\"] > max_score:\n",
    "        max_score = stat_dict[\"max_score\"]\n",
    "      if max_score > viable_trial_threshold:\n",
    "        viable_trials.append(max_score)\n",
    "        break\n",
    "print(\"Viable Trials\", len(viable_trials)/len(losses))\n",
    "\n",
    "\n",
    "data_dir = \"./tensorflow_choice_trials\"\n",
    "trials = pickle.load(open(f'{data_dir}/CartPole-v1_trials.p', 'rb'))\n",
    "print(\"Number of Trials\", len(trials.trials))\n",
    "losses = [-trial['result']['loss'] for trial in trials.trials]\n",
    "losses.sort()\n",
    "print(\"Losses\", losses, len(losses), sum(losses)/len(losses))\n",
    "viable_trials = [loss for loss in losses if loss > viable_trial_threshold]\n",
    "print(\"Viable Trials\", len(viable_trials)/len(losses))\n",
    "\n",
    "\n",
    "# TENSORFLOW TRIALS ARE ONLY 5000 STEPS\n",
    "viable_trials = []\n",
    "for trial in os.listdir(f\"{data_dir}/checkpoints\"):\n",
    "  if os.path.exists(f\"{data_dir}/checkpoints/{trial}/step_4999/graphs_stats/stats.pkl\"):\n",
    "    stats = pickle.load(open(f'{data_dir}/checkpoints/{trial}/step_4999/graphs_stats/stats.pkl', 'rb'))\n",
    "    max_score = 0\n",
    "    for stat_dict in stats[\"test_score\"]:\n",
    "      if stat_dict[\"max_score\"] > max_score:\n",
    "        max_score = stat_dict[\"max_score\"]\n",
    "      if max_score > viable_trial_threshold:\n",
    "        viable_trials.append(max_score)\n",
    "        break\n",
    "print(\"Viable Trials\", len(viable_trials)/len(losses))"
   ]
  },
  {
   "cell_type": "markdown",
   "metadata": {},
   "source": [
    "## Hyperopt with Torch and hp.uniform, hp.loguniform, etc..."
   ]
  },
  {
   "cell_type": "code",
   "execution_count": 1,
   "metadata": {},
   "outputs": [
    {
     "name": "stdout",
     "output_type": "stream",
     "text": [
      "Found saved Trials! Loading...\n",
      "Rerunning from 30 trials to 94 (+64) trials\n",
      "Params:  {'adam_epsilon': 0.023125, 'advantage_hidden_layers_widths': (32, 32, 32), 'atom_size': 51, 'clipnorm': 1.7000000000000002, 'conv_layers': (), 'dense_layers_widths': (32, 64, 512), 'discount_factor': 0.991, 'kernel_initializer': 'he_uniform', 'learning_rate': 0.00813, 'loss_function': <utils.utils.KLDivergence object at 0x288bc7740>, 'min_replay_buffer_size': 250, 'minibatch_size': 16, 'n_step': 9, 'per_alpha': 1.0, 'per_beta': 0.45, 'per_epsilon': 0.00464, 'replay_buffer_size': 9000, 'replay_interval': 6, 'training_steps': 10000, 'transfer_interval': 2000, 'value_hidden_layers_widths': (64, 512, 512, 512)}\n",
      "Making environments\n",
      "CartPole-v1_quantized_search\n",
      "Using default save_intermediate_weights     : True\n",
      "Using         training_steps                : 10000\n",
      "Using         adam_epsilon                  : 0.023125\n",
      "Using         learning_rate                 : 0.00813\n",
      "Using         clipnorm                      : 1.7000000000000002\n",
      "Using default optimizer                     : <class 'torch.optim.adam.Adam'>\n",
      "Using         loss_function                 : <utils.utils.KLDivergence object at 0x288bc7740>\n",
      "Using default activation                    : relu\n",
      "Using         kernel_initializer            : he_uniform\n",
      "Using         minibatch_size                : 16\n",
      "Using         replay_buffer_size            : 9000\n",
      "Using         min_replay_buffer_size        : 250\n",
      "Using default num_minibatches               : 1\n",
      "Using default training_iterations           : 1\n",
      "Using         conv_layers                   : ()\n",
      "Using         dense_layers_widths           : (32, 64, 512)\n",
      "Using         value_hidden_layers_widths    : (64, 512, 512, 512)\n",
      "Using         advantage_hidden_layers_widths: (32, 32, 32)\n",
      "Using default noisy_sigma                   : 0.5\n",
      "Using default deuling                       : True\n",
      "Using         discount_factor               : 0.991\n",
      "Using default soft_update                   : False\n",
      "Using         transfer_interval             : 2000\n",
      "Using default ema_beta                      : 0.99\n",
      "Using         replay_interval               : 6\n",
      "Using         per_alpha                     : 1.0\n",
      "Using         per_beta                      : 0.45\n",
      "Using         per_epsilon                   : 0.00464\n",
      "Using         n_step                        : 9\n",
      "Using         atom_size                     : 51\n",
      "observation_dimensions:  (4,)\n",
      "num_actions:  2\n"
     ]
    },
    {
     "name": "stderr",
     "output_type": "stream",
     "text": [
      "/Library/Frameworks/Python.framework/Versions/3.12/lib/python3.12/site-packages/gymnasium/wrappers/record_video.py:94: UserWarning: \u001b[33mWARN: Overwriting existing videos at /Users/jonathanlamontange-kratz/Documents/GitHub/rl-stuff/experiments/rainbow_and_ape-x folder (try specifying a different `video_folder` for the `RecordVideo` wrapper if this is not desired)\u001b[0m\n",
      "  logger.warn(\n"
     ]
    },
    {
     "name": "stdout",
     "output_type": "stream",
     "text": [
      "score:  9.0\n",
      "score:  10.0\n",
      "score:  9.0\n",
      "score:  10.0\n",
      "Moviepy - Building video checkpoints/CartPole-v1_quantized_search_31_CartPole-v1/step_333/videos/CartPole-v1_quantized_search_31_CartPole-v1/333/CartPole-v1_quantized_search_31_CartPole-v1-episode-4.mp4.\n",
      "Moviepy - Writing video checkpoints/CartPole-v1_quantized_search_31_CartPole-v1/step_333/videos/CartPole-v1_quantized_search_31_CartPole-v1/333/CartPole-v1_quantized_search_31_CartPole-v1-episode-4.mp4\n",
      "\n"
     ]
    },
    {
     "name": "stderr",
     "output_type": "stream",
     "text": [
      "                                                           "
     ]
    },
    {
     "name": "stdout",
     "output_type": "stream",
     "text": [
      "Moviepy - Done !\n",
      "Moviepy - video ready checkpoints/CartPole-v1_quantized_search_31_CartPole-v1/step_333/videos/CartPole-v1_quantized_search_31_CartPole-v1/333/CartPole-v1_quantized_search_31_CartPole-v1-episode-4.mp4\n",
      "score:  9.0\n"
     ]
    },
    {
     "name": "stderr",
     "output_type": "stream",
     "text": [
      "/Users/jonathanlamontange-kratz/Documents/GitHub/rl-stuff/packages/utils/utils/utils.py:257: UserWarning: No artists with labels found to put in legend.  Note that artists whose label start with an underscore are ignored when legend() is called with no argument.\n",
      "  axs[row][col].legend()\n",
      "/Users/jonathanlamontange-kratz/Documents/GitHub/rl-stuff/packages/utils/utils/utils.py:187: UserWarning: Attempting to set identical low and high xlims makes transformation singular; automatically expanding.\n",
      "  axs[row][col].set_xlim(1, len(values))\n"
     ]
    },
    {
     "name": "stdout",
     "output_type": "stream",
     "text": [
      "score:  8.0\n",
      "score:  10.0\n",
      "score:  10.0\n",
      "score:  9.0\n",
      "Moviepy - Building video checkpoints/CartPole-v1_quantized_search_31_CartPole-v1/step_666/videos/CartPole-v1_quantized_search_31_CartPole-v1/666/CartPole-v1_quantized_search_31_CartPole-v1-episode-9.mp4.\n",
      "Moviepy - Writing video checkpoints/CartPole-v1_quantized_search_31_CartPole-v1/step_666/videos/CartPole-v1_quantized_search_31_CartPole-v1/666/CartPole-v1_quantized_search_31_CartPole-v1-episode-9.mp4\n",
      "\n"
     ]
    },
    {
     "name": "stderr",
     "output_type": "stream",
     "text": [
      "/Users/jonathanlamontange-kratz/Documents/GitHub/rl-stuff/packages/utils/utils/utils.py:257: UserWarning: No artists with labels found to put in legend.  Note that artists whose label start with an underscore are ignored when legend() is called with no argument.\n",
      "  axs[row][col].legend()\n"
     ]
    },
    {
     "name": "stdout",
     "output_type": "stream",
     "text": [
      "Moviepy - Done !\n",
      "Moviepy - video ready checkpoints/CartPole-v1_quantized_search_31_CartPole-v1/step_666/videos/CartPole-v1_quantized_search_31_CartPole-v1/666/CartPole-v1_quantized_search_31_CartPole-v1-episode-9.mp4\n",
      "score:  10.0\n",
      "score:  9.0\n",
      "score:  10.0\n",
      "score:  9.0\n",
      "score:  9.0\n",
      "Moviepy - Building video checkpoints/CartPole-v1_quantized_search_31_CartPole-v1/step_999/videos/CartPole-v1_quantized_search_31_CartPole-v1/999/CartPole-v1_quantized_search_31_CartPole-v1-episode-14.mp4.\n",
      "Moviepy - Writing video checkpoints/CartPole-v1_quantized_search_31_CartPole-v1/step_999/videos/CartPole-v1_quantized_search_31_CartPole-v1/999/CartPole-v1_quantized_search_31_CartPole-v1-episode-14.mp4\n",
      "\n"
     ]
    },
    {
     "name": "stderr",
     "output_type": "stream",
     "text": [
      "/Users/jonathanlamontange-kratz/Documents/GitHub/rl-stuff/packages/utils/utils/utils.py:257: UserWarning: No artists with labels found to put in legend.  Note that artists whose label start with an underscore are ignored when legend() is called with no argument.\n",
      "  axs[row][col].legend()\n"
     ]
    },
    {
     "name": "stdout",
     "output_type": "stream",
     "text": [
      "Moviepy - Done !\n",
      "Moviepy - video ready checkpoints/CartPole-v1_quantized_search_31_CartPole-v1/step_999/videos/CartPole-v1_quantized_search_31_CartPole-v1/999/CartPole-v1_quantized_search_31_CartPole-v1-episode-14.mp4\n",
      "score:  9.0\n",
      "score:  8.0\n",
      "score:  10.0\n",
      "score:  9.0\n",
      "score:  10.0\n",
      "Moviepy - Building video checkpoints/CartPole-v1_quantized_search_31_CartPole-v1/step_1332/videos/CartPole-v1_quantized_search_31_CartPole-v1/1332/CartPole-v1_quantized_search_31_CartPole-v1-episode-19.mp4.\n",
      "Moviepy - Writing video checkpoints/CartPole-v1_quantized_search_31_CartPole-v1/step_1332/videos/CartPole-v1_quantized_search_31_CartPole-v1/1332/CartPole-v1_quantized_search_31_CartPole-v1-episode-19.mp4\n",
      "\n"
     ]
    },
    {
     "name": "stderr",
     "output_type": "stream",
     "text": [
      "/Users/jonathanlamontange-kratz/Documents/GitHub/rl-stuff/packages/utils/utils/utils.py:257: UserWarning: No artists with labels found to put in legend.  Note that artists whose label start with an underscore are ignored when legend() is called with no argument.\n",
      "  axs[row][col].legend()\n"
     ]
    },
    {
     "name": "stdout",
     "output_type": "stream",
     "text": [
      "Moviepy - Done !\n",
      "Moviepy - video ready checkpoints/CartPole-v1_quantized_search_31_CartPole-v1/step_1332/videos/CartPole-v1_quantized_search_31_CartPole-v1/1332/CartPole-v1_quantized_search_31_CartPole-v1-episode-19.mp4\n",
      "score:  10.0\n",
      "score:  9.0\n",
      "score:  9.0\n",
      "score:  9.0\n",
      "score:  10.0\n",
      "Moviepy - Building video checkpoints/CartPole-v1_quantized_search_31_CartPole-v1/step_1665/videos/CartPole-v1_quantized_search_31_CartPole-v1/1665/CartPole-v1_quantized_search_31_CartPole-v1-episode-24.mp4.\n",
      "Moviepy - Writing video checkpoints/CartPole-v1_quantized_search_31_CartPole-v1/step_1665/videos/CartPole-v1_quantized_search_31_CartPole-v1/1665/CartPole-v1_quantized_search_31_CartPole-v1-episode-24.mp4\n",
      "\n"
     ]
    },
    {
     "name": "stderr",
     "output_type": "stream",
     "text": [
      "/Users/jonathanlamontange-kratz/Documents/GitHub/rl-stuff/packages/utils/utils/utils.py:257: UserWarning: No artists with labels found to put in legend.  Note that artists whose label start with an underscore are ignored when legend() is called with no argument.\n",
      "  axs[row][col].legend()\n"
     ]
    },
    {
     "name": "stdout",
     "output_type": "stream",
     "text": [
      "Moviepy - Done !\n",
      "Moviepy - video ready checkpoints/CartPole-v1_quantized_search_31_CartPole-v1/step_1665/videos/CartPole-v1_quantized_search_31_CartPole-v1/1665/CartPole-v1_quantized_search_31_CartPole-v1-episode-24.mp4\n",
      "score:  10.0\n",
      "score:  8.0\n",
      "score:  10.0\n",
      "score:  10.0\n",
      "score:  9.0\n",
      "Moviepy - Building video checkpoints/CartPole-v1_quantized_search_31_CartPole-v1/step_1998/videos/CartPole-v1_quantized_search_31_CartPole-v1/1998/CartPole-v1_quantized_search_31_CartPole-v1-episode-29.mp4.\n",
      "Moviepy - Writing video checkpoints/CartPole-v1_quantized_search_31_CartPole-v1/step_1998/videos/CartPole-v1_quantized_search_31_CartPole-v1/1998/CartPole-v1_quantized_search_31_CartPole-v1-episode-29.mp4\n",
      "\n"
     ]
    },
    {
     "name": "stderr",
     "output_type": "stream",
     "text": [
      "/Users/jonathanlamontange-kratz/Documents/GitHub/rl-stuff/packages/utils/utils/utils.py:257: UserWarning: No artists with labels found to put in legend.  Note that artists whose label start with an underscore are ignored when legend() is called with no argument.\n",
      "  axs[row][col].legend()\n"
     ]
    },
    {
     "name": "stdout",
     "output_type": "stream",
     "text": [
      "Moviepy - Done !\n",
      "Moviepy - video ready checkpoints/CartPole-v1_quantized_search_31_CartPole-v1/step_1998/videos/CartPole-v1_quantized_search_31_CartPole-v1/1998/CartPole-v1_quantized_search_31_CartPole-v1-episode-29.mp4\n",
      "score:  9.0\n",
      "score:  9.0\n",
      "score:  8.0\n",
      "score:  8.0\n",
      "score:  10.0\n",
      "Moviepy - Building video checkpoints/CartPole-v1_quantized_search_31_CartPole-v1/step_2331/videos/CartPole-v1_quantized_search_31_CartPole-v1/2331/CartPole-v1_quantized_search_31_CartPole-v1-episode-34.mp4.\n",
      "Moviepy - Writing video checkpoints/CartPole-v1_quantized_search_31_CartPole-v1/step_2331/videos/CartPole-v1_quantized_search_31_CartPole-v1/2331/CartPole-v1_quantized_search_31_CartPole-v1-episode-34.mp4\n",
      "\n"
     ]
    },
    {
     "name": "stderr",
     "output_type": "stream",
     "text": [
      "/Users/jonathanlamontange-kratz/Documents/GitHub/rl-stuff/packages/utils/utils/utils.py:257: UserWarning: No artists with labels found to put in legend.  Note that artists whose label start with an underscore are ignored when legend() is called with no argument.\n",
      "  axs[row][col].legend()\n"
     ]
    },
    {
     "name": "stdout",
     "output_type": "stream",
     "text": [
      "Moviepy - Done !\n",
      "Moviepy - video ready checkpoints/CartPole-v1_quantized_search_31_CartPole-v1/step_2331/videos/CartPole-v1_quantized_search_31_CartPole-v1/2331/CartPole-v1_quantized_search_31_CartPole-v1-episode-34.mp4\n",
      "score:  9.0\n",
      "score:  8.0\n",
      "score:  9.0\n",
      "score:  10.0\n",
      "score:  9.0\n",
      "Moviepy - Building video checkpoints/CartPole-v1_quantized_search_31_CartPole-v1/step_2664/videos/CartPole-v1_quantized_search_31_CartPole-v1/2664/CartPole-v1_quantized_search_31_CartPole-v1-episode-39.mp4.\n",
      "Moviepy - Writing video checkpoints/CartPole-v1_quantized_search_31_CartPole-v1/step_2664/videos/CartPole-v1_quantized_search_31_CartPole-v1/2664/CartPole-v1_quantized_search_31_CartPole-v1-episode-39.mp4\n",
      "\n"
     ]
    },
    {
     "name": "stderr",
     "output_type": "stream",
     "text": [
      "/Users/jonathanlamontange-kratz/Documents/GitHub/rl-stuff/packages/utils/utils/utils.py:257: UserWarning: No artists with labels found to put in legend.  Note that artists whose label start with an underscore are ignored when legend() is called with no argument.\n",
      "  axs[row][col].legend()\n"
     ]
    },
    {
     "name": "stdout",
     "output_type": "stream",
     "text": [
      "Moviepy - Done !\n",
      "Moviepy - video ready checkpoints/CartPole-v1_quantized_search_31_CartPole-v1/step_2664/videos/CartPole-v1_quantized_search_31_CartPole-v1/2664/CartPole-v1_quantized_search_31_CartPole-v1-episode-39.mp4\n",
      "score:  10.0\n",
      "score:  8.0\n",
      "score:  8.0\n",
      "score:  9.0\n",
      "score:  9.0\n",
      "Moviepy - Building video checkpoints/CartPole-v1_quantized_search_31_CartPole-v1/step_2997/videos/CartPole-v1_quantized_search_31_CartPole-v1/2997/CartPole-v1_quantized_search_31_CartPole-v1-episode-44.mp4.\n",
      "Moviepy - Writing video checkpoints/CartPole-v1_quantized_search_31_CartPole-v1/step_2997/videos/CartPole-v1_quantized_search_31_CartPole-v1/2997/CartPole-v1_quantized_search_31_CartPole-v1-episode-44.mp4\n",
      "\n"
     ]
    },
    {
     "name": "stderr",
     "output_type": "stream",
     "text": [
      "/Users/jonathanlamontange-kratz/Documents/GitHub/rl-stuff/packages/utils/utils/utils.py:257: UserWarning: No artists with labels found to put in legend.  Note that artists whose label start with an underscore are ignored when legend() is called with no argument.\n",
      "  axs[row][col].legend()\n"
     ]
    },
    {
     "name": "stdout",
     "output_type": "stream",
     "text": [
      "Moviepy - Done !\n",
      "Moviepy - video ready checkpoints/CartPole-v1_quantized_search_31_CartPole-v1/step_2997/videos/CartPole-v1_quantized_search_31_CartPole-v1/2997/CartPole-v1_quantized_search_31_CartPole-v1-episode-44.mp4\n",
      "score:  9.0\n",
      "score:  9.0\n",
      "score:  9.0\n",
      "score:  9.0\n",
      "score:  9.0\n",
      "Moviepy - Building video checkpoints/CartPole-v1_quantized_search_31_CartPole-v1/step_3330/videos/CartPole-v1_quantized_search_31_CartPole-v1/3330/CartPole-v1_quantized_search_31_CartPole-v1-episode-49.mp4.\n",
      "Moviepy - Writing video checkpoints/CartPole-v1_quantized_search_31_CartPole-v1/step_3330/videos/CartPole-v1_quantized_search_31_CartPole-v1/3330/CartPole-v1_quantized_search_31_CartPole-v1-episode-49.mp4\n",
      "\n"
     ]
    },
    {
     "name": "stderr",
     "output_type": "stream",
     "text": [
      "/Users/jonathanlamontange-kratz/Documents/GitHub/rl-stuff/packages/utils/utils/utils.py:257: UserWarning: No artists with labels found to put in legend.  Note that artists whose label start with an underscore are ignored when legend() is called with no argument.\n",
      "  axs[row][col].legend()\n"
     ]
    },
    {
     "name": "stdout",
     "output_type": "stream",
     "text": [
      "Moviepy - Done !\n",
      "Moviepy - video ready checkpoints/CartPole-v1_quantized_search_31_CartPole-v1/step_3330/videos/CartPole-v1_quantized_search_31_CartPole-v1/3330/CartPole-v1_quantized_search_31_CartPole-v1-episode-49.mp4\n",
      "score:  9.0\n",
      "score:  10.0\n",
      "score:  10.0\n",
      "score:  10.0\n",
      "score:  10.0\n",
      "Moviepy - Building video checkpoints/CartPole-v1_quantized_search_31_CartPole-v1/step_3663/videos/CartPole-v1_quantized_search_31_CartPole-v1/3663/CartPole-v1_quantized_search_31_CartPole-v1-episode-54.mp4.\n",
      "Moviepy - Writing video checkpoints/CartPole-v1_quantized_search_31_CartPole-v1/step_3663/videos/CartPole-v1_quantized_search_31_CartPole-v1/3663/CartPole-v1_quantized_search_31_CartPole-v1-episode-54.mp4\n",
      "\n"
     ]
    },
    {
     "name": "stderr",
     "output_type": "stream",
     "text": [
      "/Users/jonathanlamontange-kratz/Documents/GitHub/rl-stuff/packages/utils/utils/utils.py:257: UserWarning: No artists with labels found to put in legend.  Note that artists whose label start with an underscore are ignored when legend() is called with no argument.\n",
      "  axs[row][col].legend()\n"
     ]
    },
    {
     "name": "stdout",
     "output_type": "stream",
     "text": [
      "Moviepy - Done !\n",
      "Moviepy - video ready checkpoints/CartPole-v1_quantized_search_31_CartPole-v1/step_3663/videos/CartPole-v1_quantized_search_31_CartPole-v1/3663/CartPole-v1_quantized_search_31_CartPole-v1-episode-54.mp4\n",
      "score:  10.0\n",
      "score:  10.0\n",
      "score:  9.0\n",
      "score:  10.0\n",
      "score:  8.0\n",
      "Moviepy - Building video checkpoints/CartPole-v1_quantized_search_31_CartPole-v1/step_3996/videos/CartPole-v1_quantized_search_31_CartPole-v1/3996/CartPole-v1_quantized_search_31_CartPole-v1-episode-59.mp4.\n",
      "Moviepy - Writing video checkpoints/CartPole-v1_quantized_search_31_CartPole-v1/step_3996/videos/CartPole-v1_quantized_search_31_CartPole-v1/3996/CartPole-v1_quantized_search_31_CartPole-v1-episode-59.mp4\n",
      "\n"
     ]
    },
    {
     "name": "stderr",
     "output_type": "stream",
     "text": [
      "                                                           \r"
     ]
    },
    {
     "name": "stdout",
     "output_type": "stream",
     "text": [
      "Moviepy - Done !\n",
      "Moviepy - video ready checkpoints/CartPole-v1_quantized_search_31_CartPole-v1/step_3996/videos/CartPole-v1_quantized_search_31_CartPole-v1/3996/CartPole-v1_quantized_search_31_CartPole-v1-episode-59.mp4\n",
      "score:  9.0\n"
     ]
    },
    {
     "name": "stderr",
     "output_type": "stream",
     "text": [
      "/Users/jonathanlamontange-kratz/Documents/GitHub/rl-stuff/packages/utils/utils/utils.py:257: UserWarning: No artists with labels found to put in legend.  Note that artists whose label start with an underscore are ignored when legend() is called with no argument.\n",
      "  axs[row][col].legend()\n"
     ]
    },
    {
     "name": "stdout",
     "output_type": "stream",
     "text": [
      "score:  10.0\n",
      "score:  9.0\n",
      "score:  9.0\n",
      "score:  10.0\n",
      "Moviepy - Building video checkpoints/CartPole-v1_quantized_search_31_CartPole-v1/step_4329/videos/CartPole-v1_quantized_search_31_CartPole-v1/4329/CartPole-v1_quantized_search_31_CartPole-v1-episode-64.mp4.\n",
      "Moviepy - Writing video checkpoints/CartPole-v1_quantized_search_31_CartPole-v1/step_4329/videos/CartPole-v1_quantized_search_31_CartPole-v1/4329/CartPole-v1_quantized_search_31_CartPole-v1-episode-64.mp4\n",
      "\n"
     ]
    },
    {
     "name": "stderr",
     "output_type": "stream",
     "text": [
      "/Users/jonathanlamontange-kratz/Documents/GitHub/rl-stuff/packages/utils/utils/utils.py:257: UserWarning: No artists with labels found to put in legend.  Note that artists whose label start with an underscore are ignored when legend() is called with no argument.\n",
      "  axs[row][col].legend()\n"
     ]
    },
    {
     "name": "stdout",
     "output_type": "stream",
     "text": [
      "Moviepy - Done !\n",
      "Moviepy - video ready checkpoints/CartPole-v1_quantized_search_31_CartPole-v1/step_4329/videos/CartPole-v1_quantized_search_31_CartPole-v1/4329/CartPole-v1_quantized_search_31_CartPole-v1-episode-64.mp4\n",
      "score:  10.0\n",
      "score:  9.0\n",
      "score:  8.0\n",
      "score:  8.0\n",
      "score:  11.0\n",
      "Moviepy - Building video checkpoints/CartPole-v1_quantized_search_31_CartPole-v1/step_4662/videos/CartPole-v1_quantized_search_31_CartPole-v1/4662/CartPole-v1_quantized_search_31_CartPole-v1-episode-69.mp4.\n",
      "Moviepy - Writing video checkpoints/CartPole-v1_quantized_search_31_CartPole-v1/step_4662/videos/CartPole-v1_quantized_search_31_CartPole-v1/4662/CartPole-v1_quantized_search_31_CartPole-v1-episode-69.mp4\n",
      "\n"
     ]
    },
    {
     "name": "stderr",
     "output_type": "stream",
     "text": [
      "/Users/jonathanlamontange-kratz/Documents/GitHub/rl-stuff/packages/utils/utils/utils.py:257: UserWarning: No artists with labels found to put in legend.  Note that artists whose label start with an underscore are ignored when legend() is called with no argument.\n",
      "  axs[row][col].legend()\n"
     ]
    },
    {
     "name": "stdout",
     "output_type": "stream",
     "text": [
      "Moviepy - Done !\n",
      "Moviepy - video ready checkpoints/CartPole-v1_quantized_search_31_CartPole-v1/step_4662/videos/CartPole-v1_quantized_search_31_CartPole-v1/4662/CartPole-v1_quantized_search_31_CartPole-v1-episode-69.mp4\n",
      "score:  10.0\n",
      "score:  10.0\n",
      "score:  10.0\n",
      "score:  9.0\n",
      "score:  10.0\n",
      "Moviepy - Building video checkpoints/CartPole-v1_quantized_search_31_CartPole-v1/step_4995/videos/CartPole-v1_quantized_search_31_CartPole-v1/4995/CartPole-v1_quantized_search_31_CartPole-v1-episode-74.mp4.\n",
      "Moviepy - Writing video checkpoints/CartPole-v1_quantized_search_31_CartPole-v1/step_4995/videos/CartPole-v1_quantized_search_31_CartPole-v1/4995/CartPole-v1_quantized_search_31_CartPole-v1-episode-74.mp4\n",
      "\n"
     ]
    },
    {
     "name": "stderr",
     "output_type": "stream",
     "text": [
      "/Users/jonathanlamontange-kratz/Documents/GitHub/rl-stuff/packages/utils/utils/utils.py:257: UserWarning: No artists with labels found to put in legend.  Note that artists whose label start with an underscore are ignored when legend() is called with no argument.\n",
      "  axs[row][col].legend()\n"
     ]
    },
    {
     "name": "stdout",
     "output_type": "stream",
     "text": [
      "Moviepy - Done !\n",
      "Moviepy - video ready checkpoints/CartPole-v1_quantized_search_31_CartPole-v1/step_4995/videos/CartPole-v1_quantized_search_31_CartPole-v1/4995/CartPole-v1_quantized_search_31_CartPole-v1-episode-74.mp4\n",
      "score:  8.0\n",
      "score:  8.0\n",
      "score:  9.0\n",
      "score:  9.0\n",
      "score:  9.0\n",
      "Moviepy - Building video checkpoints/CartPole-v1_quantized_search_31_CartPole-v1/step_5328/videos/CartPole-v1_quantized_search_31_CartPole-v1/5328/CartPole-v1_quantized_search_31_CartPole-v1-episode-79.mp4.\n",
      "Moviepy - Writing video checkpoints/CartPole-v1_quantized_search_31_CartPole-v1/step_5328/videos/CartPole-v1_quantized_search_31_CartPole-v1/5328/CartPole-v1_quantized_search_31_CartPole-v1-episode-79.mp4\n",
      "\n"
     ]
    },
    {
     "name": "stderr",
     "output_type": "stream",
     "text": [
      "/Users/jonathanlamontange-kratz/Documents/GitHub/rl-stuff/packages/utils/utils/utils.py:257: UserWarning: No artists with labels found to put in legend.  Note that artists whose label start with an underscore are ignored when legend() is called with no argument.\n",
      "  axs[row][col].legend()\n"
     ]
    },
    {
     "name": "stdout",
     "output_type": "stream",
     "text": [
      "Moviepy - Done !\n",
      "Moviepy - video ready checkpoints/CartPole-v1_quantized_search_31_CartPole-v1/step_5328/videos/CartPole-v1_quantized_search_31_CartPole-v1/5328/CartPole-v1_quantized_search_31_CartPole-v1-episode-79.mp4\n",
      "score:  10.0\n",
      "score:  8.0\n",
      "score:  9.0\n",
      "score:  9.0\n",
      "score:  10.0\n",
      "Moviepy - Building video checkpoints/CartPole-v1_quantized_search_31_CartPole-v1/step_5661/videos/CartPole-v1_quantized_search_31_CartPole-v1/5661/CartPole-v1_quantized_search_31_CartPole-v1-episode-84.mp4.\n",
      "Moviepy - Writing video checkpoints/CartPole-v1_quantized_search_31_CartPole-v1/step_5661/videos/CartPole-v1_quantized_search_31_CartPole-v1/5661/CartPole-v1_quantized_search_31_CartPole-v1-episode-84.mp4\n",
      "\n"
     ]
    },
    {
     "name": "stderr",
     "output_type": "stream",
     "text": [
      "/Users/jonathanlamontange-kratz/Documents/GitHub/rl-stuff/packages/utils/utils/utils.py:257: UserWarning: No artists with labels found to put in legend.  Note that artists whose label start with an underscore are ignored when legend() is called with no argument.\n",
      "  axs[row][col].legend()\n"
     ]
    },
    {
     "name": "stdout",
     "output_type": "stream",
     "text": [
      "Moviepy - Done !\n",
      "Moviepy - video ready checkpoints/CartPole-v1_quantized_search_31_CartPole-v1/step_5661/videos/CartPole-v1_quantized_search_31_CartPole-v1/5661/CartPole-v1_quantized_search_31_CartPole-v1-episode-84.mp4\n",
      "score:  9.0\n",
      "score:  9.0\n",
      "score:  10.0\n",
      "score:  9.0\n",
      "score:  10.0\n",
      "Moviepy - Building video checkpoints/CartPole-v1_quantized_search_31_CartPole-v1/step_5994/videos/CartPole-v1_quantized_search_31_CartPole-v1/5994/CartPole-v1_quantized_search_31_CartPole-v1-episode-89.mp4.\n",
      "Moviepy - Writing video checkpoints/CartPole-v1_quantized_search_31_CartPole-v1/step_5994/videos/CartPole-v1_quantized_search_31_CartPole-v1/5994/CartPole-v1_quantized_search_31_CartPole-v1-episode-89.mp4\n",
      "\n"
     ]
    },
    {
     "name": "stderr",
     "output_type": "stream",
     "text": [
      "/Users/jonathanlamontange-kratz/Documents/GitHub/rl-stuff/packages/utils/utils/utils.py:257: UserWarning: No artists with labels found to put in legend.  Note that artists whose label start with an underscore are ignored when legend() is called with no argument.\n",
      "  axs[row][col].legend()\n"
     ]
    },
    {
     "name": "stdout",
     "output_type": "stream",
     "text": [
      "Moviepy - Done !\n",
      "Moviepy - video ready checkpoints/CartPole-v1_quantized_search_31_CartPole-v1/step_5994/videos/CartPole-v1_quantized_search_31_CartPole-v1/5994/CartPole-v1_quantized_search_31_CartPole-v1-episode-89.mp4\n",
      "score:  9.0\n",
      "score:  10.0\n",
      "score:  9.0\n",
      "score:  8.0\n",
      "score:  10.0\n",
      "Moviepy - Building video checkpoints/CartPole-v1_quantized_search_31_CartPole-v1/step_6327/videos/CartPole-v1_quantized_search_31_CartPole-v1/6327/CartPole-v1_quantized_search_31_CartPole-v1-episode-94.mp4.\n",
      "Moviepy - Writing video checkpoints/CartPole-v1_quantized_search_31_CartPole-v1/step_6327/videos/CartPole-v1_quantized_search_31_CartPole-v1/6327/CartPole-v1_quantized_search_31_CartPole-v1-episode-94.mp4\n",
      "\n"
     ]
    },
    {
     "name": "stderr",
     "output_type": "stream",
     "text": [
      "/Users/jonathanlamontange-kratz/Documents/GitHub/rl-stuff/packages/utils/utils/utils.py:257: UserWarning: No artists with labels found to put in legend.  Note that artists whose label start with an underscore are ignored when legend() is called with no argument.\n",
      "  axs[row][col].legend()\n"
     ]
    },
    {
     "name": "stdout",
     "output_type": "stream",
     "text": [
      "Moviepy - Done !\n",
      "Moviepy - video ready checkpoints/CartPole-v1_quantized_search_31_CartPole-v1/step_6327/videos/CartPole-v1_quantized_search_31_CartPole-v1/6327/CartPole-v1_quantized_search_31_CartPole-v1-episode-94.mp4\n",
      "score:  8.0\n",
      "score:  9.0\n",
      "score:  11.0\n",
      "score:  8.0\n",
      "score:  9.0\n",
      "Moviepy - Building video checkpoints/CartPole-v1_quantized_search_31_CartPole-v1/step_6660/videos/CartPole-v1_quantized_search_31_CartPole-v1/6660/CartPole-v1_quantized_search_31_CartPole-v1-episode-99.mp4.\n",
      "Moviepy - Writing video checkpoints/CartPole-v1_quantized_search_31_CartPole-v1/step_6660/videos/CartPole-v1_quantized_search_31_CartPole-v1/6660/CartPole-v1_quantized_search_31_CartPole-v1-episode-99.mp4\n",
      "\n"
     ]
    },
    {
     "name": "stderr",
     "output_type": "stream",
     "text": [
      "/Users/jonathanlamontange-kratz/Documents/GitHub/rl-stuff/packages/utils/utils/utils.py:257: UserWarning: No artists with labels found to put in legend.  Note that artists whose label start with an underscore are ignored when legend() is called with no argument.\n",
      "  axs[row][col].legend()\n"
     ]
    },
    {
     "name": "stdout",
     "output_type": "stream",
     "text": [
      "Moviepy - Done !\n",
      "Moviepy - video ready checkpoints/CartPole-v1_quantized_search_31_CartPole-v1/step_6660/videos/CartPole-v1_quantized_search_31_CartPole-v1/6660/CartPole-v1_quantized_search_31_CartPole-v1-episode-99.mp4\n",
      "score:  10.0\n",
      "score:  10.0\n",
      "score:  10.0\n",
      "score:  10.0\n",
      "score:  8.0\n",
      "Moviepy - Building video checkpoints/CartPole-v1_quantized_search_31_CartPole-v1/step_6993/videos/CartPole-v1_quantized_search_31_CartPole-v1/6993/CartPole-v1_quantized_search_31_CartPole-v1-episode-104.mp4.\n",
      "Moviepy - Writing video checkpoints/CartPole-v1_quantized_search_31_CartPole-v1/step_6993/videos/CartPole-v1_quantized_search_31_CartPole-v1/6993/CartPole-v1_quantized_search_31_CartPole-v1-episode-104.mp4\n",
      "\n"
     ]
    },
    {
     "name": "stderr",
     "output_type": "stream",
     "text": [
      "/Users/jonathanlamontange-kratz/Documents/GitHub/rl-stuff/packages/utils/utils/utils.py:257: UserWarning: No artists with labels found to put in legend.  Note that artists whose label start with an underscore are ignored when legend() is called with no argument.\n",
      "  axs[row][col].legend()\n"
     ]
    },
    {
     "name": "stdout",
     "output_type": "stream",
     "text": [
      "Moviepy - Done !\n",
      "Moviepy - video ready checkpoints/CartPole-v1_quantized_search_31_CartPole-v1/step_6993/videos/CartPole-v1_quantized_search_31_CartPole-v1/6993/CartPole-v1_quantized_search_31_CartPole-v1-episode-104.mp4\n",
      "score:  9.0\n",
      "score:  10.0\n",
      "score:  9.0\n",
      "score:  8.0\n",
      "score:  10.0\n",
      "Moviepy - Building video checkpoints/CartPole-v1_quantized_search_31_CartPole-v1/step_7326/videos/CartPole-v1_quantized_search_31_CartPole-v1/7326/CartPole-v1_quantized_search_31_CartPole-v1-episode-109.mp4.\n",
      "Moviepy - Writing video checkpoints/CartPole-v1_quantized_search_31_CartPole-v1/step_7326/videos/CartPole-v1_quantized_search_31_CartPole-v1/7326/CartPole-v1_quantized_search_31_CartPole-v1-episode-109.mp4\n",
      "\n"
     ]
    },
    {
     "name": "stderr",
     "output_type": "stream",
     "text": [
      "/Users/jonathanlamontange-kratz/Documents/GitHub/rl-stuff/packages/utils/utils/utils.py:257: UserWarning: No artists with labels found to put in legend.  Note that artists whose label start with an underscore are ignored when legend() is called with no argument.\n",
      "  axs[row][col].legend()\n"
     ]
    },
    {
     "name": "stdout",
     "output_type": "stream",
     "text": [
      "Moviepy - Done !\n",
      "Moviepy - video ready checkpoints/CartPole-v1_quantized_search_31_CartPole-v1/step_7326/videos/CartPole-v1_quantized_search_31_CartPole-v1/7326/CartPole-v1_quantized_search_31_CartPole-v1-episode-109.mp4\n",
      "score:  9.0\n",
      "score:  10.0\n",
      "score:  9.0\n",
      "score:  10.0\n",
      "score:  11.0\n",
      "Moviepy - Building video checkpoints/CartPole-v1_quantized_search_31_CartPole-v1/step_7659/videos/CartPole-v1_quantized_search_31_CartPole-v1/7659/CartPole-v1_quantized_search_31_CartPole-v1-episode-114.mp4.\n",
      "Moviepy - Writing video checkpoints/CartPole-v1_quantized_search_31_CartPole-v1/step_7659/videos/CartPole-v1_quantized_search_31_CartPole-v1/7659/CartPole-v1_quantized_search_31_CartPole-v1-episode-114.mp4\n",
      "\n"
     ]
    },
    {
     "name": "stderr",
     "output_type": "stream",
     "text": [
      "/Users/jonathanlamontange-kratz/Documents/GitHub/rl-stuff/packages/utils/utils/utils.py:257: UserWarning: No artists with labels found to put in legend.  Note that artists whose label start with an underscore are ignored when legend() is called with no argument.\n",
      "  axs[row][col].legend()\n"
     ]
    },
    {
     "name": "stdout",
     "output_type": "stream",
     "text": [
      "Moviepy - Done !\n",
      "Moviepy - video ready checkpoints/CartPole-v1_quantized_search_31_CartPole-v1/step_7659/videos/CartPole-v1_quantized_search_31_CartPole-v1/7659/CartPole-v1_quantized_search_31_CartPole-v1-episode-114.mp4\n",
      "score:  10.0\n",
      "score:  9.0\n",
      "score:  10.0\n",
      "score:  10.0\n",
      "score:  10.0\n",
      "Moviepy - Building video checkpoints/CartPole-v1_quantized_search_31_CartPole-v1/step_7992/videos/CartPole-v1_quantized_search_31_CartPole-v1/7992/CartPole-v1_quantized_search_31_CartPole-v1-episode-119.mp4.\n",
      "Moviepy - Writing video checkpoints/CartPole-v1_quantized_search_31_CartPole-v1/step_7992/videos/CartPole-v1_quantized_search_31_CartPole-v1/7992/CartPole-v1_quantized_search_31_CartPole-v1-episode-119.mp4\n",
      "\n"
     ]
    },
    {
     "name": "stderr",
     "output_type": "stream",
     "text": [
      "/Users/jonathanlamontange-kratz/Documents/GitHub/rl-stuff/packages/utils/utils/utils.py:257: UserWarning: No artists with labels found to put in legend.  Note that artists whose label start with an underscore are ignored when legend() is called with no argument.\n",
      "  axs[row][col].legend()\n"
     ]
    },
    {
     "name": "stdout",
     "output_type": "stream",
     "text": [
      "Moviepy - Done !\n",
      "Moviepy - video ready checkpoints/CartPole-v1_quantized_search_31_CartPole-v1/step_7992/videos/CartPole-v1_quantized_search_31_CartPole-v1/7992/CartPole-v1_quantized_search_31_CartPole-v1-episode-119.mp4\n",
      "score:  10.0\n",
      "score:  10.0\n",
      "score:  9.0\n",
      "score:  9.0\n",
      "score:  10.0\n",
      "Moviepy - Building video checkpoints/CartPole-v1_quantized_search_31_CartPole-v1/step_8325/videos/CartPole-v1_quantized_search_31_CartPole-v1/8325/CartPole-v1_quantized_search_31_CartPole-v1-episode-124.mp4.\n",
      "Moviepy - Writing video checkpoints/CartPole-v1_quantized_search_31_CartPole-v1/step_8325/videos/CartPole-v1_quantized_search_31_CartPole-v1/8325/CartPole-v1_quantized_search_31_CartPole-v1-episode-124.mp4\n",
      "\n"
     ]
    },
    {
     "name": "stderr",
     "output_type": "stream",
     "text": [
      "/Users/jonathanlamontange-kratz/Documents/GitHub/rl-stuff/packages/utils/utils/utils.py:257: UserWarning: No artists with labels found to put in legend.  Note that artists whose label start with an underscore are ignored when legend() is called with no argument.\n",
      "  axs[row][col].legend()\n"
     ]
    },
    {
     "name": "stdout",
     "output_type": "stream",
     "text": [
      "Moviepy - Done !\n",
      "Moviepy - video ready checkpoints/CartPole-v1_quantized_search_31_CartPole-v1/step_8325/videos/CartPole-v1_quantized_search_31_CartPole-v1/8325/CartPole-v1_quantized_search_31_CartPole-v1-episode-124.mp4\n",
      "score:  9.0\n",
      "score:  10.0\n",
      "score:  9.0\n",
      "score:  9.0\n",
      "score:  9.0\n",
      "Moviepy - Building video checkpoints/CartPole-v1_quantized_search_31_CartPole-v1/step_8658/videos/CartPole-v1_quantized_search_31_CartPole-v1/8658/CartPole-v1_quantized_search_31_CartPole-v1-episode-129.mp4.\n",
      "Moviepy - Writing video checkpoints/CartPole-v1_quantized_search_31_CartPole-v1/step_8658/videos/CartPole-v1_quantized_search_31_CartPole-v1/8658/CartPole-v1_quantized_search_31_CartPole-v1-episode-129.mp4\n",
      "\n"
     ]
    },
    {
     "name": "stderr",
     "output_type": "stream",
     "text": [
      "/Users/jonathanlamontange-kratz/Documents/GitHub/rl-stuff/packages/utils/utils/utils.py:257: UserWarning: No artists with labels found to put in legend.  Note that artists whose label start with an underscore are ignored when legend() is called with no argument.\n",
      "  axs[row][col].legend()\n"
     ]
    },
    {
     "name": "stdout",
     "output_type": "stream",
     "text": [
      "Moviepy - Done !\n",
      "Moviepy - video ready checkpoints/CartPole-v1_quantized_search_31_CartPole-v1/step_8658/videos/CartPole-v1_quantized_search_31_CartPole-v1/8658/CartPole-v1_quantized_search_31_CartPole-v1-episode-129.mp4\n",
      "score:  10.0\n",
      "score:  9.0\n",
      "score:  8.0\n",
      "score:  10.0\n",
      "score:  10.0\n",
      "Moviepy - Building video checkpoints/CartPole-v1_quantized_search_31_CartPole-v1/step_8991/videos/CartPole-v1_quantized_search_31_CartPole-v1/8991/CartPole-v1_quantized_search_31_CartPole-v1-episode-134.mp4.\n",
      "Moviepy - Writing video checkpoints/CartPole-v1_quantized_search_31_CartPole-v1/step_8991/videos/CartPole-v1_quantized_search_31_CartPole-v1/8991/CartPole-v1_quantized_search_31_CartPole-v1-episode-134.mp4\n",
      "\n"
     ]
    },
    {
     "name": "stderr",
     "output_type": "stream",
     "text": [
      "/Users/jonathanlamontange-kratz/Documents/GitHub/rl-stuff/packages/utils/utils/utils.py:257: UserWarning: No artists with labels found to put in legend.  Note that artists whose label start with an underscore are ignored when legend() is called with no argument.\n",
      "  axs[row][col].legend()\n"
     ]
    },
    {
     "name": "stdout",
     "output_type": "stream",
     "text": [
      "Moviepy - Done !\n",
      "Moviepy - video ready checkpoints/CartPole-v1_quantized_search_31_CartPole-v1/step_8991/videos/CartPole-v1_quantized_search_31_CartPole-v1/8991/CartPole-v1_quantized_search_31_CartPole-v1-episode-134.mp4\n",
      "score:  9.0\n",
      "score:  9.0\n",
      "score:  10.0\n",
      "score:  10.0\n",
      "score:  10.0\n",
      "Moviepy - Building video checkpoints/CartPole-v1_quantized_search_31_CartPole-v1/step_9324/videos/CartPole-v1_quantized_search_31_CartPole-v1/9324/CartPole-v1_quantized_search_31_CartPole-v1-episode-139.mp4.\n",
      "Moviepy - Writing video checkpoints/CartPole-v1_quantized_search_31_CartPole-v1/step_9324/videos/CartPole-v1_quantized_search_31_CartPole-v1/9324/CartPole-v1_quantized_search_31_CartPole-v1-episode-139.mp4\n",
      "\n"
     ]
    },
    {
     "name": "stderr",
     "output_type": "stream",
     "text": [
      "/Users/jonathanlamontange-kratz/Documents/GitHub/rl-stuff/packages/utils/utils/utils.py:257: UserWarning: No artists with labels found to put in legend.  Note that artists whose label start with an underscore are ignored when legend() is called with no argument.\n",
      "  axs[row][col].legend()\n"
     ]
    },
    {
     "name": "stdout",
     "output_type": "stream",
     "text": [
      "Moviepy - Done !\n",
      "Moviepy - video ready checkpoints/CartPole-v1_quantized_search_31_CartPole-v1/step_9324/videos/CartPole-v1_quantized_search_31_CartPole-v1/9324/CartPole-v1_quantized_search_31_CartPole-v1-episode-139.mp4\n",
      "score:  10.0\n",
      "score:  9.0\n",
      "score:  10.0\n",
      "score:  10.0\n",
      "score:  10.0\n",
      "Moviepy - Building video checkpoints/CartPole-v1_quantized_search_31_CartPole-v1/step_9657/videos/CartPole-v1_quantized_search_31_CartPole-v1/9657/CartPole-v1_quantized_search_31_CartPole-v1-episode-144.mp4.\n",
      "Moviepy - Writing video checkpoints/CartPole-v1_quantized_search_31_CartPole-v1/step_9657/videos/CartPole-v1_quantized_search_31_CartPole-v1/9657/CartPole-v1_quantized_search_31_CartPole-v1-episode-144.mp4\n",
      "\n"
     ]
    },
    {
     "name": "stderr",
     "output_type": "stream",
     "text": [
      "/Users/jonathanlamontange-kratz/Documents/GitHub/rl-stuff/packages/utils/utils/utils.py:257: UserWarning: No artists with labels found to put in legend.  Note that artists whose label start with an underscore are ignored when legend() is called with no argument.\n",
      "  axs[row][col].legend()\n"
     ]
    },
    {
     "name": "stdout",
     "output_type": "stream",
     "text": [
      "Moviepy - Done !\n",
      "Moviepy - video ready checkpoints/CartPole-v1_quantized_search_31_CartPole-v1/step_9657/videos/CartPole-v1_quantized_search_31_CartPole-v1/9657/CartPole-v1_quantized_search_31_CartPole-v1-episode-144.mp4\n",
      "score:  9.0\n",
      "score:  8.0\n",
      "score:  10.0\n",
      "score:  9.0\n",
      "score:  10.0\n",
      "Moviepy - Building video checkpoints/CartPole-v1_quantized_search_31_CartPole-v1/step_9990/videos/CartPole-v1_quantized_search_31_CartPole-v1/9990/CartPole-v1_quantized_search_31_CartPole-v1-episode-149.mp4.\n",
      "Moviepy - Writing video checkpoints/CartPole-v1_quantized_search_31_CartPole-v1/step_9990/videos/CartPole-v1_quantized_search_31_CartPole-v1/9990/CartPole-v1_quantized_search_31_CartPole-v1-episode-149.mp4\n",
      "\n"
     ]
    },
    {
     "name": "stderr",
     "output_type": "stream",
     "text": [
      "/Users/jonathanlamontange-kratz/Documents/GitHub/rl-stuff/packages/utils/utils/utils.py:257: UserWarning: No artists with labels found to put in legend.  Note that artists whose label start with an underscore are ignored when legend() is called with no argument.\n",
      "  axs[row][col].legend()\n"
     ]
    },
    {
     "name": "stdout",
     "output_type": "stream",
     "text": [
      "Moviepy - Done !\n",
      "Moviepy - video ready checkpoints/CartPole-v1_quantized_search_31_CartPole-v1/step_9990/videos/CartPole-v1_quantized_search_31_CartPole-v1/9990/CartPole-v1_quantized_search_31_CartPole-v1-episode-149.mp4\n",
      "score:  10.0\n",
      "score:  11.0\n",
      "score:  10.0\n",
      "score:  9.0\n",
      "score:  9.0\n",
      "Moviepy - Building video checkpoints/CartPole-v1_quantized_search_31_CartPole-v1/step_9999/videos/CartPole-v1_quantized_search_31_CartPole-v1/9999/CartPole-v1_quantized_search_31_CartPole-v1-episode-154.mp4.\n",
      "Moviepy - Writing video checkpoints/CartPole-v1_quantized_search_31_CartPole-v1/step_9999/videos/CartPole-v1_quantized_search_31_CartPole-v1/9999/CartPole-v1_quantized_search_31_CartPole-v1-episode-154.mp4\n",
      "\n"
     ]
    },
    {
     "name": "stderr",
     "output_type": "stream",
     "text": [
      "/Users/jonathanlamontange-kratz/Documents/GitHub/rl-stuff/packages/utils/utils/utils.py:257: UserWarning: No artists with labels found to put in legend.  Note that artists whose label start with an underscore are ignored when legend() is called with no argument.\n",
      "  axs[row][col].legend()\n"
     ]
    },
    {
     "name": "stdout",
     "output_type": "stream",
     "text": [
      "Moviepy - Done !\n",
      "Moviepy - video ready checkpoints/CartPole-v1_quantized_search_31_CartPole-v1/step_9999/videos/CartPole-v1_quantized_search_31_CartPole-v1/9999/CartPole-v1_quantized_search_31_CartPole-v1-episode-154.mp4\n",
      "score:  9.0\n",
      "Training complete\n",
      "score:  8.0\n",
      "score:  10.0\n",
      "score:  9.0\n",
      "score:  9.0\n",
      "Moviepy - Building video ./checkpoints//videos/CartPole-v1_quantized_search_31_CartPole-v1/5000/CartPole-v1_quantized_search_31_CartPole-v1-episode-159.mp4.\n",
      "Moviepy - Writing video ./checkpoints//videos/CartPole-v1_quantized_search_31_CartPole-v1/5000/CartPole-v1_quantized_search_31_CartPole-v1-episode-159.mp4\n",
      "\n"
     ]
    },
    {
     "name": "stderr",
     "output_type": "stream",
     "text": [
      "                                                  "
     ]
    },
    {
     "name": "stdout",
     "output_type": "stream",
     "text": [
      "Moviepy - Done !\n",
      "Moviepy - video ready ./checkpoints//videos/CartPole-v1_quantized_search_31_CartPole-v1/5000/CartPole-v1_quantized_search_31_CartPole-v1-episode-159.mp4\n",
      "score:  8.0\n",
      "score:  10.0\n"
     ]
    },
    {
     "name": "stderr",
     "output_type": "stream",
     "text": [
      "\r"
     ]
    },
    {
     "name": "stdout",
     "output_type": "stream",
     "text": [
      "score:  10.0\n",
      "score:  11.0\n",
      "score:  10.0\n",
      "score:  9.0\n",
      "parallel programs done\n",
      "Params:  {'adam_epsilon': 0.0021875, 'advantage_hidden_layers_widths': (32, 64, 64, 512), 'atom_size': 51, 'clipnorm': 0.6000000000000001, 'conv_layers': (), 'dense_layers_widths': (128, 128, 256), 'discount_factor': 0.973, 'kernel_initializer': 'glorot_uniform', 'learning_rate': 0.37665000000000004, 'loss_function': <utils.utils.KLDivergence object at 0x288bc7740>, 'min_replay_buffer_size': 1000, 'minibatch_size': 96, 'n_step': 8, 'per_alpha': 0.65, 'per_beta': 0.25, 'per_epsilon': 0.04222, 'replay_buffer_size': 5000, 'replay_interval': 10, 'training_steps': 10000, 'transfer_interval': 360, 'value_hidden_layers_widths': (64, 64)}\n",
      "Making environments\n",
      "CartPole-v1_quantized_search\n",
      "Using default save_intermediate_weights     : True\n",
      "Using         training_steps                : 10000\n",
      "Using         adam_epsilon                  : 0.0021875\n",
      "Using         learning_rate                 : 0.37665000000000004\n",
      "Using         clipnorm                      : 0.6000000000000001\n",
      "Using default optimizer                     : <class 'torch.optim.adam.Adam'>\n",
      "Using         loss_function                 : <utils.utils.KLDivergence object at 0x288bc7740>\n",
      "Using default activation                    : relu\n",
      "Using         kernel_initializer            : glorot_uniform\n",
      "Using         minibatch_size                : 96\n",
      "Using         replay_buffer_size            : 5000\n",
      "Using         min_replay_buffer_size        : 1000\n",
      "Using default num_minibatches               : 1\n",
      "Using default training_iterations           : 1\n",
      "Using         conv_layers                   : ()\n",
      "Using         dense_layers_widths           : (128, 128, 256)\n",
      "Using         value_hidden_layers_widths    : (64, 64)\n",
      "Using         advantage_hidden_layers_widths: (32, 64, 64, 512)\n",
      "Using default noisy_sigma                   : 0.5\n",
      "Using default deuling                       : True\n",
      "Using         discount_factor               : 0.973\n",
      "Using default soft_update                   : False\n",
      "Using         transfer_interval             : 360\n",
      "Using default ema_beta                      : 0.99\n",
      "Using         replay_interval               : 10\n",
      "Using         per_alpha                     : 0.65\n",
      "Using         per_beta                      : 0.25\n",
      "Using         per_epsilon                   : 0.04222\n",
      "Using         n_step                        : 8\n",
      "Using         atom_size                     : 51\n",
      "observation_dimensions:  (4,)\n",
      "num_actions:  2\n"
     ]
    },
    {
     "name": "stderr",
     "output_type": "stream",
     "text": [
      "/Library/Frameworks/Python.framework/Versions/3.12/lib/python3.12/site-packages/gymnasium/wrappers/record_video.py:94: UserWarning: \u001b[33mWARN: Overwriting existing videos at /Users/jonathanlamontange-kratz/Documents/GitHub/rl-stuff/experiments/rainbow_and_ape-x folder (try specifying a different `video_folder` for the `RecordVideo` wrapper if this is not desired)\u001b[0m\n",
      "  logger.warn(\n"
     ]
    },
    {
     "name": "stdout",
     "output_type": "stream",
     "text": [
      "score:  9.0\n",
      "score:  8.0\n",
      "score:  8.0\n",
      "score:  10.0\n",
      "Moviepy - Building video checkpoints/CartPole-v1_quantized_search_32_CartPole-v1/step_333/videos/CartPole-v1_quantized_search_32_CartPole-v1/333/CartPole-v1_quantized_search_32_CartPole-v1-episode-4.mp4.\n",
      "Moviepy - Writing video checkpoints/CartPole-v1_quantized_search_32_CartPole-v1/step_333/videos/CartPole-v1_quantized_search_32_CartPole-v1/333/CartPole-v1_quantized_search_32_CartPole-v1-episode-4.mp4\n",
      "\n"
     ]
    },
    {
     "name": "stderr",
     "output_type": "stream",
     "text": [
      "/Users/jonathanlamontange-kratz/Documents/GitHub/rl-stuff/packages/utils/utils/utils.py:257: UserWarning: No artists with labels found to put in legend.  Note that artists whose label start with an underscore are ignored when legend() is called with no argument.\n",
      "  axs[row][col].legend()\n",
      "/Users/jonathanlamontange-kratz/Documents/GitHub/rl-stuff/packages/utils/utils/utils.py:187: UserWarning: Attempting to set identical low and high xlims makes transformation singular; automatically expanding.\n",
      "  axs[row][col].set_xlim(1, len(values))\n"
     ]
    },
    {
     "name": "stdout",
     "output_type": "stream",
     "text": [
      "Moviepy - Done !\n",
      "Moviepy - video ready checkpoints/CartPole-v1_quantized_search_32_CartPole-v1/step_333/videos/CartPole-v1_quantized_search_32_CartPole-v1/333/CartPole-v1_quantized_search_32_CartPole-v1-episode-4.mp4\n",
      "score:  10.0\n",
      "score:  10.0\n",
      "score:  9.0\n",
      "score:  9.0\n",
      "score:  9.0\n",
      "Moviepy - Building video checkpoints/CartPole-v1_quantized_search_32_CartPole-v1/step_666/videos/CartPole-v1_quantized_search_32_CartPole-v1/666/CartPole-v1_quantized_search_32_CartPole-v1-episode-9.mp4.\n",
      "Moviepy - Writing video checkpoints/CartPole-v1_quantized_search_32_CartPole-v1/step_666/videos/CartPole-v1_quantized_search_32_CartPole-v1/666/CartPole-v1_quantized_search_32_CartPole-v1-episode-9.mp4\n",
      "\n"
     ]
    },
    {
     "name": "stderr",
     "output_type": "stream",
     "text": [
      "/Users/jonathanlamontange-kratz/Documents/GitHub/rl-stuff/packages/utils/utils/utils.py:257: UserWarning: No artists with labels found to put in legend.  Note that artists whose label start with an underscore are ignored when legend() is called with no argument.\n",
      "  axs[row][col].legend()\n"
     ]
    },
    {
     "name": "stdout",
     "output_type": "stream",
     "text": [
      "Moviepy - Done !\n",
      "Moviepy - video ready checkpoints/CartPole-v1_quantized_search_32_CartPole-v1/step_666/videos/CartPole-v1_quantized_search_32_CartPole-v1/666/CartPole-v1_quantized_search_32_CartPole-v1-episode-9.mp4\n",
      "score:  9.0\n",
      "score:  9.0\n",
      "score:  10.0\n",
      "score:  10.0\n",
      "score:  10.0\n",
      "Moviepy - Building video checkpoints/CartPole-v1_quantized_search_32_CartPole-v1/step_999/videos/CartPole-v1_quantized_search_32_CartPole-v1/999/CartPole-v1_quantized_search_32_CartPole-v1-episode-14.mp4.\n",
      "Moviepy - Writing video checkpoints/CartPole-v1_quantized_search_32_CartPole-v1/step_999/videos/CartPole-v1_quantized_search_32_CartPole-v1/999/CartPole-v1_quantized_search_32_CartPole-v1-episode-14.mp4\n",
      "\n"
     ]
    },
    {
     "name": "stderr",
     "output_type": "stream",
     "text": [
      "/Users/jonathanlamontange-kratz/Documents/GitHub/rl-stuff/packages/utils/utils/utils.py:257: UserWarning: No artists with labels found to put in legend.  Note that artists whose label start with an underscore are ignored when legend() is called with no argument.\n",
      "  axs[row][col].legend()\n"
     ]
    },
    {
     "name": "stdout",
     "output_type": "stream",
     "text": [
      "Moviepy - Done !\n",
      "Moviepy - video ready checkpoints/CartPole-v1_quantized_search_32_CartPole-v1/step_999/videos/CartPole-v1_quantized_search_32_CartPole-v1/999/CartPole-v1_quantized_search_32_CartPole-v1-episode-14.mp4\n",
      "score:  9.0\n",
      "score:  10.0\n",
      "score:  10.0\n",
      "score:  8.0\n",
      "score:  10.0\n",
      "Moviepy - Building video checkpoints/CartPole-v1_quantized_search_32_CartPole-v1/step_1332/videos/CartPole-v1_quantized_search_32_CartPole-v1/1332/CartPole-v1_quantized_search_32_CartPole-v1-episode-19.mp4.\n",
      "Moviepy - Writing video checkpoints/CartPole-v1_quantized_search_32_CartPole-v1/step_1332/videos/CartPole-v1_quantized_search_32_CartPole-v1/1332/CartPole-v1_quantized_search_32_CartPole-v1-episode-19.mp4\n",
      "\n"
     ]
    },
    {
     "name": "stderr",
     "output_type": "stream",
     "text": [
      "/Users/jonathanlamontange-kratz/Documents/GitHub/rl-stuff/packages/utils/utils/utils.py:257: UserWarning: No artists with labels found to put in legend.  Note that artists whose label start with an underscore are ignored when legend() is called with no argument.\n",
      "  axs[row][col].legend()\n"
     ]
    },
    {
     "name": "stdout",
     "output_type": "stream",
     "text": [
      "Moviepy - Done !\n",
      "Moviepy - video ready checkpoints/CartPole-v1_quantized_search_32_CartPole-v1/step_1332/videos/CartPole-v1_quantized_search_32_CartPole-v1/1332/CartPole-v1_quantized_search_32_CartPole-v1-episode-19.mp4\n",
      "score:  10.0\n",
      "score:  9.0\n",
      "score:  9.0\n",
      "score:  10.0\n",
      "score:  10.0\n",
      "Moviepy - Building video checkpoints/CartPole-v1_quantized_search_32_CartPole-v1/step_1665/videos/CartPole-v1_quantized_search_32_CartPole-v1/1665/CartPole-v1_quantized_search_32_CartPole-v1-episode-24.mp4.\n",
      "Moviepy - Writing video checkpoints/CartPole-v1_quantized_search_32_CartPole-v1/step_1665/videos/CartPole-v1_quantized_search_32_CartPole-v1/1665/CartPole-v1_quantized_search_32_CartPole-v1-episode-24.mp4\n",
      "\n"
     ]
    },
    {
     "name": "stderr",
     "output_type": "stream",
     "text": [
      "/Users/jonathanlamontange-kratz/Documents/GitHub/rl-stuff/packages/utils/utils/utils.py:257: UserWarning: No artists with labels found to put in legend.  Note that artists whose label start with an underscore are ignored when legend() is called with no argument.\n",
      "  axs[row][col].legend()\n"
     ]
    },
    {
     "name": "stdout",
     "output_type": "stream",
     "text": [
      "Moviepy - Done !\n",
      "Moviepy - video ready checkpoints/CartPole-v1_quantized_search_32_CartPole-v1/step_1665/videos/CartPole-v1_quantized_search_32_CartPole-v1/1665/CartPole-v1_quantized_search_32_CartPole-v1-episode-24.mp4\n",
      "score:  10.0\n",
      "score:  10.0\n",
      "score:  9.0\n",
      "score:  9.0\n",
      "score:  8.0\n",
      "Moviepy - Building video checkpoints/CartPole-v1_quantized_search_32_CartPole-v1/step_1998/videos/CartPole-v1_quantized_search_32_CartPole-v1/1998/CartPole-v1_quantized_search_32_CartPole-v1-episode-29.mp4.\n",
      "Moviepy - Writing video checkpoints/CartPole-v1_quantized_search_32_CartPole-v1/step_1998/videos/CartPole-v1_quantized_search_32_CartPole-v1/1998/CartPole-v1_quantized_search_32_CartPole-v1-episode-29.mp4\n",
      "\n"
     ]
    },
    {
     "name": "stderr",
     "output_type": "stream",
     "text": [
      "/Users/jonathanlamontange-kratz/Documents/GitHub/rl-stuff/packages/utils/utils/utils.py:257: UserWarning: No artists with labels found to put in legend.  Note that artists whose label start with an underscore are ignored when legend() is called with no argument.\n",
      "  axs[row][col].legend()\n"
     ]
    },
    {
     "name": "stdout",
     "output_type": "stream",
     "text": [
      "Moviepy - Done !\n",
      "Moviepy - video ready checkpoints/CartPole-v1_quantized_search_32_CartPole-v1/step_1998/videos/CartPole-v1_quantized_search_32_CartPole-v1/1998/CartPole-v1_quantized_search_32_CartPole-v1-episode-29.mp4\n",
      "score:  10.0\n",
      "score:  10.0\n",
      "score:  10.0\n",
      "score:  8.0\n",
      "score:  9.0\n",
      "Moviepy - Building video checkpoints/CartPole-v1_quantized_search_32_CartPole-v1/step_2331/videos/CartPole-v1_quantized_search_32_CartPole-v1/2331/CartPole-v1_quantized_search_32_CartPole-v1-episode-34.mp4.\n",
      "Moviepy - Writing video checkpoints/CartPole-v1_quantized_search_32_CartPole-v1/step_2331/videos/CartPole-v1_quantized_search_32_CartPole-v1/2331/CartPole-v1_quantized_search_32_CartPole-v1-episode-34.mp4\n",
      "\n"
     ]
    },
    {
     "name": "stderr",
     "output_type": "stream",
     "text": [
      "/Users/jonathanlamontange-kratz/Documents/GitHub/rl-stuff/packages/utils/utils/utils.py:257: UserWarning: No artists with labels found to put in legend.  Note that artists whose label start with an underscore are ignored when legend() is called with no argument.\n",
      "  axs[row][col].legend()\n"
     ]
    },
    {
     "name": "stdout",
     "output_type": "stream",
     "text": [
      "Moviepy - Done !\n",
      "Moviepy - video ready checkpoints/CartPole-v1_quantized_search_32_CartPole-v1/step_2331/videos/CartPole-v1_quantized_search_32_CartPole-v1/2331/CartPole-v1_quantized_search_32_CartPole-v1-episode-34.mp4\n",
      "score:  10.0\n",
      "score:  10.0\n",
      "score:  9.0\n",
      "score:  8.0\n",
      "score:  9.0\n",
      "Moviepy - Building video checkpoints/CartPole-v1_quantized_search_32_CartPole-v1/step_2664/videos/CartPole-v1_quantized_search_32_CartPole-v1/2664/CartPole-v1_quantized_search_32_CartPole-v1-episode-39.mp4.\n",
      "Moviepy - Writing video checkpoints/CartPole-v1_quantized_search_32_CartPole-v1/step_2664/videos/CartPole-v1_quantized_search_32_CartPole-v1/2664/CartPole-v1_quantized_search_32_CartPole-v1-episode-39.mp4\n",
      "\n"
     ]
    },
    {
     "name": "stderr",
     "output_type": "stream",
     "text": [
      "/Users/jonathanlamontange-kratz/Documents/GitHub/rl-stuff/packages/utils/utils/utils.py:257: UserWarning: No artists with labels found to put in legend.  Note that artists whose label start with an underscore are ignored when legend() is called with no argument.\n",
      "  axs[row][col].legend()\n"
     ]
    },
    {
     "name": "stdout",
     "output_type": "stream",
     "text": [
      "Moviepy - Done !\n",
      "Moviepy - video ready checkpoints/CartPole-v1_quantized_search_32_CartPole-v1/step_2664/videos/CartPole-v1_quantized_search_32_CartPole-v1/2664/CartPole-v1_quantized_search_32_CartPole-v1-episode-39.mp4\n",
      "score:  10.0\n",
      "score:  9.0\n",
      "score:  10.0\n",
      "score:  9.0\n",
      "score:  10.0\n",
      "Moviepy - Building video checkpoints/CartPole-v1_quantized_search_32_CartPole-v1/step_2997/videos/CartPole-v1_quantized_search_32_CartPole-v1/2997/CartPole-v1_quantized_search_32_CartPole-v1-episode-44.mp4.\n",
      "Moviepy - Writing video checkpoints/CartPole-v1_quantized_search_32_CartPole-v1/step_2997/videos/CartPole-v1_quantized_search_32_CartPole-v1/2997/CartPole-v1_quantized_search_32_CartPole-v1-episode-44.mp4\n",
      "\n"
     ]
    },
    {
     "name": "stderr",
     "output_type": "stream",
     "text": [
      "/Users/jonathanlamontange-kratz/Documents/GitHub/rl-stuff/packages/utils/utils/utils.py:257: UserWarning: No artists with labels found to put in legend.  Note that artists whose label start with an underscore are ignored when legend() is called with no argument.\n",
      "  axs[row][col].legend()\n"
     ]
    },
    {
     "name": "stdout",
     "output_type": "stream",
     "text": [
      "Moviepy - Done !\n",
      "Moviepy - video ready checkpoints/CartPole-v1_quantized_search_32_CartPole-v1/step_2997/videos/CartPole-v1_quantized_search_32_CartPole-v1/2997/CartPole-v1_quantized_search_32_CartPole-v1-episode-44.mp4\n",
      "score:  9.0\n",
      "score:  9.0\n",
      "score:  9.0\n",
      "score:  10.0\n",
      "score:  9.0\n",
      "Moviepy - Building video checkpoints/CartPole-v1_quantized_search_32_CartPole-v1/step_3330/videos/CartPole-v1_quantized_search_32_CartPole-v1/3330/CartPole-v1_quantized_search_32_CartPole-v1-episode-49.mp4.\n",
      "Moviepy - Writing video checkpoints/CartPole-v1_quantized_search_32_CartPole-v1/step_3330/videos/CartPole-v1_quantized_search_32_CartPole-v1/3330/CartPole-v1_quantized_search_32_CartPole-v1-episode-49.mp4\n",
      "\n"
     ]
    },
    {
     "name": "stderr",
     "output_type": "stream",
     "text": [
      "                                                           "
     ]
    },
    {
     "name": "stdout",
     "output_type": "stream",
     "text": [
      "Moviepy - Done !\n",
      "Moviepy - video ready checkpoints/CartPole-v1_quantized_search_32_CartPole-v1/step_3330/videos/CartPole-v1_quantized_search_32_CartPole-v1/3330/CartPole-v1_quantized_search_32_CartPole-v1-episode-49.mp4\n",
      "score:  9.0\n"
     ]
    },
    {
     "name": "stderr",
     "output_type": "stream",
     "text": [
      "/Users/jonathanlamontange-kratz/Documents/GitHub/rl-stuff/packages/utils/utils/utils.py:257: UserWarning: No artists with labels found to put in legend.  Note that artists whose label start with an underscore are ignored when legend() is called with no argument.\n",
      "  axs[row][col].legend()\n"
     ]
    },
    {
     "name": "stdout",
     "output_type": "stream",
     "text": [
      "score:  10.0\n",
      "score:  9.0\n",
      "score:  9.0\n",
      "score:  9.0\n",
      "Moviepy - Building video checkpoints/CartPole-v1_quantized_search_32_CartPole-v1/step_3663/videos/CartPole-v1_quantized_search_32_CartPole-v1/3663/CartPole-v1_quantized_search_32_CartPole-v1-episode-54.mp4.\n",
      "Moviepy - Writing video checkpoints/CartPole-v1_quantized_search_32_CartPole-v1/step_3663/videos/CartPole-v1_quantized_search_32_CartPole-v1/3663/CartPole-v1_quantized_search_32_CartPole-v1-episode-54.mp4\n",
      "\n"
     ]
    },
    {
     "name": "stderr",
     "output_type": "stream",
     "text": [
      "/Users/jonathanlamontange-kratz/Documents/GitHub/rl-stuff/packages/utils/utils/utils.py:257: UserWarning: No artists with labels found to put in legend.  Note that artists whose label start with an underscore are ignored when legend() is called with no argument.\n",
      "  axs[row][col].legend()\n"
     ]
    },
    {
     "name": "stdout",
     "output_type": "stream",
     "text": [
      "Moviepy - Done !\n",
      "Moviepy - video ready checkpoints/CartPole-v1_quantized_search_32_CartPole-v1/step_3663/videos/CartPole-v1_quantized_search_32_CartPole-v1/3663/CartPole-v1_quantized_search_32_CartPole-v1-episode-54.mp4\n",
      "score:  8.0\n",
      "score:  10.0\n",
      "score:  10.0\n",
      "score:  10.0\n",
      "score:  10.0\n",
      "Moviepy - Building video checkpoints/CartPole-v1_quantized_search_32_CartPole-v1/step_3996/videos/CartPole-v1_quantized_search_32_CartPole-v1/3996/CartPole-v1_quantized_search_32_CartPole-v1-episode-59.mp4.\n",
      "Moviepy - Writing video checkpoints/CartPole-v1_quantized_search_32_CartPole-v1/step_3996/videos/CartPole-v1_quantized_search_32_CartPole-v1/3996/CartPole-v1_quantized_search_32_CartPole-v1-episode-59.mp4\n",
      "\n"
     ]
    },
    {
     "name": "stderr",
     "output_type": "stream",
     "text": [
      "/Users/jonathanlamontange-kratz/Documents/GitHub/rl-stuff/packages/utils/utils/utils.py:257: UserWarning: No artists with labels found to put in legend.  Note that artists whose label start with an underscore are ignored when legend() is called with no argument.\n",
      "  axs[row][col].legend()\n"
     ]
    },
    {
     "name": "stdout",
     "output_type": "stream",
     "text": [
      "Moviepy - Done !\n",
      "Moviepy - video ready checkpoints/CartPole-v1_quantized_search_32_CartPole-v1/step_3996/videos/CartPole-v1_quantized_search_32_CartPole-v1/3996/CartPole-v1_quantized_search_32_CartPole-v1-episode-59.mp4\n",
      "score:  10.0\n",
      "score:  8.0\n",
      "score:  8.0\n",
      "score:  10.0\n",
      "score:  10.0\n",
      "Moviepy - Building video checkpoints/CartPole-v1_quantized_search_32_CartPole-v1/step_4329/videos/CartPole-v1_quantized_search_32_CartPole-v1/4329/CartPole-v1_quantized_search_32_CartPole-v1-episode-64.mp4.\n",
      "Moviepy - Writing video checkpoints/CartPole-v1_quantized_search_32_CartPole-v1/step_4329/videos/CartPole-v1_quantized_search_32_CartPole-v1/4329/CartPole-v1_quantized_search_32_CartPole-v1-episode-64.mp4\n",
      "\n"
     ]
    },
    {
     "name": "stderr",
     "output_type": "stream",
     "text": [
      "/Users/jonathanlamontange-kratz/Documents/GitHub/rl-stuff/packages/utils/utils/utils.py:257: UserWarning: No artists with labels found to put in legend.  Note that artists whose label start with an underscore are ignored when legend() is called with no argument.\n",
      "  axs[row][col].legend()\n"
     ]
    },
    {
     "name": "stdout",
     "output_type": "stream",
     "text": [
      "Moviepy - Done !\n",
      "Moviepy - video ready checkpoints/CartPole-v1_quantized_search_32_CartPole-v1/step_4329/videos/CartPole-v1_quantized_search_32_CartPole-v1/4329/CartPole-v1_quantized_search_32_CartPole-v1-episode-64.mp4\n",
      "score:  9.0\n",
      "score:  9.0\n",
      "score:  10.0\n",
      "score:  10.0\n",
      "score:  9.0\n",
      "Moviepy - Building video checkpoints/CartPole-v1_quantized_search_32_CartPole-v1/step_4662/videos/CartPole-v1_quantized_search_32_CartPole-v1/4662/CartPole-v1_quantized_search_32_CartPole-v1-episode-69.mp4.\n",
      "Moviepy - Writing video checkpoints/CartPole-v1_quantized_search_32_CartPole-v1/step_4662/videos/CartPole-v1_quantized_search_32_CartPole-v1/4662/CartPole-v1_quantized_search_32_CartPole-v1-episode-69.mp4\n",
      "\n"
     ]
    },
    {
     "name": "stderr",
     "output_type": "stream",
     "text": [
      "/Users/jonathanlamontange-kratz/Documents/GitHub/rl-stuff/packages/utils/utils/utils.py:257: UserWarning: No artists with labels found to put in legend.  Note that artists whose label start with an underscore are ignored when legend() is called with no argument.\n",
      "  axs[row][col].legend()\n"
     ]
    },
    {
     "name": "stdout",
     "output_type": "stream",
     "text": [
      "Moviepy - Done !\n",
      "Moviepy - video ready checkpoints/CartPole-v1_quantized_search_32_CartPole-v1/step_4662/videos/CartPole-v1_quantized_search_32_CartPole-v1/4662/CartPole-v1_quantized_search_32_CartPole-v1-episode-69.mp4\n",
      "score:  10.0\n",
      "score:  8.0\n",
      "score:  10.0\n",
      "score:  10.0\n",
      "score:  9.0\n",
      "Moviepy - Building video checkpoints/CartPole-v1_quantized_search_32_CartPole-v1/step_4995/videos/CartPole-v1_quantized_search_32_CartPole-v1/4995/CartPole-v1_quantized_search_32_CartPole-v1-episode-74.mp4.\n",
      "Moviepy - Writing video checkpoints/CartPole-v1_quantized_search_32_CartPole-v1/step_4995/videos/CartPole-v1_quantized_search_32_CartPole-v1/4995/CartPole-v1_quantized_search_32_CartPole-v1-episode-74.mp4\n",
      "\n"
     ]
    },
    {
     "name": "stderr",
     "output_type": "stream",
     "text": [
      "/Users/jonathanlamontange-kratz/Documents/GitHub/rl-stuff/packages/utils/utils/utils.py:257: UserWarning: No artists with labels found to put in legend.  Note that artists whose label start with an underscore are ignored when legend() is called with no argument.\n",
      "  axs[row][col].legend()\n"
     ]
    },
    {
     "name": "stdout",
     "output_type": "stream",
     "text": [
      "Moviepy - Done !\n",
      "Moviepy - video ready checkpoints/CartPole-v1_quantized_search_32_CartPole-v1/step_4995/videos/CartPole-v1_quantized_search_32_CartPole-v1/4995/CartPole-v1_quantized_search_32_CartPole-v1-episode-74.mp4\n",
      "score:  9.0\n",
      "score:  8.0\n",
      "score:  10.0\n",
      "score:  9.0\n",
      "score:  10.0\n",
      "Moviepy - Building video checkpoints/CartPole-v1_quantized_search_32_CartPole-v1/step_5328/videos/CartPole-v1_quantized_search_32_CartPole-v1/5328/CartPole-v1_quantized_search_32_CartPole-v1-episode-79.mp4.\n",
      "Moviepy - Writing video checkpoints/CartPole-v1_quantized_search_32_CartPole-v1/step_5328/videos/CartPole-v1_quantized_search_32_CartPole-v1/5328/CartPole-v1_quantized_search_32_CartPole-v1-episode-79.mp4\n",
      "\n"
     ]
    },
    {
     "name": "stderr",
     "output_type": "stream",
     "text": [
      "/Users/jonathanlamontange-kratz/Documents/GitHub/rl-stuff/packages/utils/utils/utils.py:257: UserWarning: No artists with labels found to put in legend.  Note that artists whose label start with an underscore are ignored when legend() is called with no argument.\n",
      "  axs[row][col].legend()\n"
     ]
    },
    {
     "name": "stdout",
     "output_type": "stream",
     "text": [
      "Moviepy - Done !\n",
      "Moviepy - video ready checkpoints/CartPole-v1_quantized_search_32_CartPole-v1/step_5328/videos/CartPole-v1_quantized_search_32_CartPole-v1/5328/CartPole-v1_quantized_search_32_CartPole-v1-episode-79.mp4\n",
      "score:  10.0\n",
      "score:  9.0\n",
      "score:  10.0\n",
      "score:  8.0\n",
      "score:  9.0\n",
      "Moviepy - Building video checkpoints/CartPole-v1_quantized_search_32_CartPole-v1/step_5661/videos/CartPole-v1_quantized_search_32_CartPole-v1/5661/CartPole-v1_quantized_search_32_CartPole-v1-episode-84.mp4.\n",
      "Moviepy - Writing video checkpoints/CartPole-v1_quantized_search_32_CartPole-v1/step_5661/videos/CartPole-v1_quantized_search_32_CartPole-v1/5661/CartPole-v1_quantized_search_32_CartPole-v1-episode-84.mp4\n",
      "\n"
     ]
    },
    {
     "name": "stderr",
     "output_type": "stream",
     "text": [
      "/Users/jonathanlamontange-kratz/Documents/GitHub/rl-stuff/packages/utils/utils/utils.py:257: UserWarning: No artists with labels found to put in legend.  Note that artists whose label start with an underscore are ignored when legend() is called with no argument.\n",
      "  axs[row][col].legend()\n"
     ]
    },
    {
     "name": "stdout",
     "output_type": "stream",
     "text": [
      "Moviepy - Done !\n",
      "Moviepy - video ready checkpoints/CartPole-v1_quantized_search_32_CartPole-v1/step_5661/videos/CartPole-v1_quantized_search_32_CartPole-v1/5661/CartPole-v1_quantized_search_32_CartPole-v1-episode-84.mp4\n",
      "score:  10.0\n",
      "score:  10.0\n",
      "score:  10.0\n",
      "score:  10.0\n",
      "score:  10.0\n",
      "Moviepy - Building video checkpoints/CartPole-v1_quantized_search_32_CartPole-v1/step_5994/videos/CartPole-v1_quantized_search_32_CartPole-v1/5994/CartPole-v1_quantized_search_32_CartPole-v1-episode-89.mp4.\n",
      "Moviepy - Writing video checkpoints/CartPole-v1_quantized_search_32_CartPole-v1/step_5994/videos/CartPole-v1_quantized_search_32_CartPole-v1/5994/CartPole-v1_quantized_search_32_CartPole-v1-episode-89.mp4\n",
      "\n"
     ]
    },
    {
     "name": "stderr",
     "output_type": "stream",
     "text": [
      "/Users/jonathanlamontange-kratz/Documents/GitHub/rl-stuff/packages/utils/utils/utils.py:257: UserWarning: No artists with labels found to put in legend.  Note that artists whose label start with an underscore are ignored when legend() is called with no argument.\n",
      "  axs[row][col].legend()\n"
     ]
    },
    {
     "name": "stdout",
     "output_type": "stream",
     "text": [
      "Moviepy - Done !\n",
      "Moviepy - video ready checkpoints/CartPole-v1_quantized_search_32_CartPole-v1/step_5994/videos/CartPole-v1_quantized_search_32_CartPole-v1/5994/CartPole-v1_quantized_search_32_CartPole-v1-episode-89.mp4\n",
      "score:  10.0\n",
      "score:  10.0\n",
      "score:  8.0\n",
      "score:  9.0\n",
      "score:  10.0\n",
      "Moviepy - Building video checkpoints/CartPole-v1_quantized_search_32_CartPole-v1/step_6327/videos/CartPole-v1_quantized_search_32_CartPole-v1/6327/CartPole-v1_quantized_search_32_CartPole-v1-episode-94.mp4.\n",
      "Moviepy - Writing video checkpoints/CartPole-v1_quantized_search_32_CartPole-v1/step_6327/videos/CartPole-v1_quantized_search_32_CartPole-v1/6327/CartPole-v1_quantized_search_32_CartPole-v1-episode-94.mp4\n",
      "\n"
     ]
    },
    {
     "name": "stderr",
     "output_type": "stream",
     "text": [
      "/Users/jonathanlamontange-kratz/Documents/GitHub/rl-stuff/packages/utils/utils/utils.py:257: UserWarning: No artists with labels found to put in legend.  Note that artists whose label start with an underscore are ignored when legend() is called with no argument.\n",
      "  axs[row][col].legend()\n"
     ]
    },
    {
     "name": "stdout",
     "output_type": "stream",
     "text": [
      "Moviepy - Done !\n",
      "Moviepy - video ready checkpoints/CartPole-v1_quantized_search_32_CartPole-v1/step_6327/videos/CartPole-v1_quantized_search_32_CartPole-v1/6327/CartPole-v1_quantized_search_32_CartPole-v1-episode-94.mp4\n",
      "score:  9.0\n",
      "score:  9.0\n",
      "score:  10.0\n",
      "score:  9.0\n",
      "score:  10.0\n",
      "Moviepy - Building video checkpoints/CartPole-v1_quantized_search_32_CartPole-v1/step_6660/videos/CartPole-v1_quantized_search_32_CartPole-v1/6660/CartPole-v1_quantized_search_32_CartPole-v1-episode-99.mp4.\n",
      "Moviepy - Writing video checkpoints/CartPole-v1_quantized_search_32_CartPole-v1/step_6660/videos/CartPole-v1_quantized_search_32_CartPole-v1/6660/CartPole-v1_quantized_search_32_CartPole-v1-episode-99.mp4\n",
      "\n"
     ]
    },
    {
     "name": "stderr",
     "output_type": "stream",
     "text": [
      "/Users/jonathanlamontange-kratz/Documents/GitHub/rl-stuff/packages/utils/utils/utils.py:257: UserWarning: No artists with labels found to put in legend.  Note that artists whose label start with an underscore are ignored when legend() is called with no argument.\n",
      "  axs[row][col].legend()\n"
     ]
    },
    {
     "name": "stdout",
     "output_type": "stream",
     "text": [
      "Moviepy - Done !\n",
      "Moviepy - video ready checkpoints/CartPole-v1_quantized_search_32_CartPole-v1/step_6660/videos/CartPole-v1_quantized_search_32_CartPole-v1/6660/CartPole-v1_quantized_search_32_CartPole-v1-episode-99.mp4\n",
      "score:  9.0\n",
      "score:  9.0\n",
      "score:  8.0\n",
      "score:  10.0\n",
      "score:  10.0\n",
      "Moviepy - Building video checkpoints/CartPole-v1_quantized_search_32_CartPole-v1/step_6993/videos/CartPole-v1_quantized_search_32_CartPole-v1/6993/CartPole-v1_quantized_search_32_CartPole-v1-episode-104.mp4.\n",
      "Moviepy - Writing video checkpoints/CartPole-v1_quantized_search_32_CartPole-v1/step_6993/videos/CartPole-v1_quantized_search_32_CartPole-v1/6993/CartPole-v1_quantized_search_32_CartPole-v1-episode-104.mp4\n",
      "\n"
     ]
    },
    {
     "name": "stderr",
     "output_type": "stream",
     "text": [
      "/Users/jonathanlamontange-kratz/Documents/GitHub/rl-stuff/packages/utils/utils/utils.py:257: UserWarning: No artists with labels found to put in legend.  Note that artists whose label start with an underscore are ignored when legend() is called with no argument.\n",
      "  axs[row][col].legend()\n"
     ]
    },
    {
     "name": "stdout",
     "output_type": "stream",
     "text": [
      "Moviepy - Done !\n",
      "Moviepy - video ready checkpoints/CartPole-v1_quantized_search_32_CartPole-v1/step_6993/videos/CartPole-v1_quantized_search_32_CartPole-v1/6993/CartPole-v1_quantized_search_32_CartPole-v1-episode-104.mp4\n",
      "score:  10.0\n",
      "score:  11.0\n",
      "score:  11.0\n",
      "score:  10.0\n",
      "score:  10.0\n",
      "Moviepy - Building video checkpoints/CartPole-v1_quantized_search_32_CartPole-v1/step_7326/videos/CartPole-v1_quantized_search_32_CartPole-v1/7326/CartPole-v1_quantized_search_32_CartPole-v1-episode-109.mp4.\n",
      "Moviepy - Writing video checkpoints/CartPole-v1_quantized_search_32_CartPole-v1/step_7326/videos/CartPole-v1_quantized_search_32_CartPole-v1/7326/CartPole-v1_quantized_search_32_CartPole-v1-episode-109.mp4\n",
      "\n"
     ]
    },
    {
     "name": "stderr",
     "output_type": "stream",
     "text": [
      "/Users/jonathanlamontange-kratz/Documents/GitHub/rl-stuff/packages/utils/utils/utils.py:257: UserWarning: No artists with labels found to put in legend.  Note that artists whose label start with an underscore are ignored when legend() is called with no argument.\n",
      "  axs[row][col].legend()\n"
     ]
    },
    {
     "name": "stdout",
     "output_type": "stream",
     "text": [
      "Moviepy - Done !\n",
      "Moviepy - video ready checkpoints/CartPole-v1_quantized_search_32_CartPole-v1/step_7326/videos/CartPole-v1_quantized_search_32_CartPole-v1/7326/CartPole-v1_quantized_search_32_CartPole-v1-episode-109.mp4\n",
      "score:  9.0\n",
      "score:  9.0\n",
      "score:  8.0\n",
      "score:  10.0\n",
      "score:  10.0\n",
      "Moviepy - Building video checkpoints/CartPole-v1_quantized_search_32_CartPole-v1/step_7659/videos/CartPole-v1_quantized_search_32_CartPole-v1/7659/CartPole-v1_quantized_search_32_CartPole-v1-episode-114.mp4.\n",
      "Moviepy - Writing video checkpoints/CartPole-v1_quantized_search_32_CartPole-v1/step_7659/videos/CartPole-v1_quantized_search_32_CartPole-v1/7659/CartPole-v1_quantized_search_32_CartPole-v1-episode-114.mp4\n",
      "\n"
     ]
    },
    {
     "name": "stderr",
     "output_type": "stream",
     "text": [
      "/Users/jonathanlamontange-kratz/Documents/GitHub/rl-stuff/packages/utils/utils/utils.py:257: UserWarning: No artists with labels found to put in legend.  Note that artists whose label start with an underscore are ignored when legend() is called with no argument.\n",
      "  axs[row][col].legend()\n"
     ]
    },
    {
     "name": "stdout",
     "output_type": "stream",
     "text": [
      "Moviepy - Done !\n",
      "Moviepy - video ready checkpoints/CartPole-v1_quantized_search_32_CartPole-v1/step_7659/videos/CartPole-v1_quantized_search_32_CartPole-v1/7659/CartPole-v1_quantized_search_32_CartPole-v1-episode-114.mp4\n",
      "score:  10.0\n",
      "score:  8.0\n",
      "score:  8.0\n",
      "score:  10.0\n",
      "score:  10.0\n",
      "Moviepy - Building video checkpoints/CartPole-v1_quantized_search_32_CartPole-v1/step_7992/videos/CartPole-v1_quantized_search_32_CartPole-v1/7992/CartPole-v1_quantized_search_32_CartPole-v1-episode-119.mp4.\n",
      "Moviepy - Writing video checkpoints/CartPole-v1_quantized_search_32_CartPole-v1/step_7992/videos/CartPole-v1_quantized_search_32_CartPole-v1/7992/CartPole-v1_quantized_search_32_CartPole-v1-episode-119.mp4\n",
      "\n"
     ]
    },
    {
     "name": "stderr",
     "output_type": "stream",
     "text": [
      "/Users/jonathanlamontange-kratz/Documents/GitHub/rl-stuff/packages/utils/utils/utils.py:257: UserWarning: No artists with labels found to put in legend.  Note that artists whose label start with an underscore are ignored when legend() is called with no argument.\n",
      "  axs[row][col].legend()\n"
     ]
    },
    {
     "name": "stdout",
     "output_type": "stream",
     "text": [
      "Moviepy - Done !\n",
      "Moviepy - video ready checkpoints/CartPole-v1_quantized_search_32_CartPole-v1/step_7992/videos/CartPole-v1_quantized_search_32_CartPole-v1/7992/CartPole-v1_quantized_search_32_CartPole-v1-episode-119.mp4\n",
      "score:  10.0\n",
      "score:  9.0\n",
      "score:  10.0\n",
      "score:  10.0\n",
      "score:  8.0\n",
      "Moviepy - Building video checkpoints/CartPole-v1_quantized_search_32_CartPole-v1/step_8325/videos/CartPole-v1_quantized_search_32_CartPole-v1/8325/CartPole-v1_quantized_search_32_CartPole-v1-episode-124.mp4.\n",
      "Moviepy - Writing video checkpoints/CartPole-v1_quantized_search_32_CartPole-v1/step_8325/videos/CartPole-v1_quantized_search_32_CartPole-v1/8325/CartPole-v1_quantized_search_32_CartPole-v1-episode-124.mp4\n",
      "\n"
     ]
    },
    {
     "name": "stderr",
     "output_type": "stream",
     "text": [
      "/Users/jonathanlamontange-kratz/Documents/GitHub/rl-stuff/packages/utils/utils/utils.py:257: UserWarning: No artists with labels found to put in legend.  Note that artists whose label start with an underscore are ignored when legend() is called with no argument.\n",
      "  axs[row][col].legend()\n"
     ]
    },
    {
     "name": "stdout",
     "output_type": "stream",
     "text": [
      "Moviepy - Done !\n",
      "Moviepy - video ready checkpoints/CartPole-v1_quantized_search_32_CartPole-v1/step_8325/videos/CartPole-v1_quantized_search_32_CartPole-v1/8325/CartPole-v1_quantized_search_32_CartPole-v1-episode-124.mp4\n",
      "score:  8.0\n",
      "score:  9.0\n",
      "score:  9.0\n",
      "score:  9.0\n",
      "score:  9.0\n",
      "Moviepy - Building video checkpoints/CartPole-v1_quantized_search_32_CartPole-v1/step_8658/videos/CartPole-v1_quantized_search_32_CartPole-v1/8658/CartPole-v1_quantized_search_32_CartPole-v1-episode-129.mp4.\n",
      "Moviepy - Writing video checkpoints/CartPole-v1_quantized_search_32_CartPole-v1/step_8658/videos/CartPole-v1_quantized_search_32_CartPole-v1/8658/CartPole-v1_quantized_search_32_CartPole-v1-episode-129.mp4\n",
      "\n"
     ]
    },
    {
     "name": "stderr",
     "output_type": "stream",
     "text": [
      "/Users/jonathanlamontange-kratz/Documents/GitHub/rl-stuff/packages/utils/utils/utils.py:257: UserWarning: No artists with labels found to put in legend.  Note that artists whose label start with an underscore are ignored when legend() is called with no argument.\n",
      "  axs[row][col].legend()\n"
     ]
    },
    {
     "name": "stdout",
     "output_type": "stream",
     "text": [
      "Moviepy - Done !\n",
      "Moviepy - video ready checkpoints/CartPole-v1_quantized_search_32_CartPole-v1/step_8658/videos/CartPole-v1_quantized_search_32_CartPole-v1/8658/CartPole-v1_quantized_search_32_CartPole-v1-episode-129.mp4\n",
      "score:  8.0\n",
      "score:  8.0\n",
      "score:  9.0\n",
      "score:  10.0\n",
      "score:  8.0\n",
      "Moviepy - Building video checkpoints/CartPole-v1_quantized_search_32_CartPole-v1/step_8991/videos/CartPole-v1_quantized_search_32_CartPole-v1/8991/CartPole-v1_quantized_search_32_CartPole-v1-episode-134.mp4.\n",
      "Moviepy - Writing video checkpoints/CartPole-v1_quantized_search_32_CartPole-v1/step_8991/videos/CartPole-v1_quantized_search_32_CartPole-v1/8991/CartPole-v1_quantized_search_32_CartPole-v1-episode-134.mp4\n",
      "\n"
     ]
    },
    {
     "name": "stderr",
     "output_type": "stream",
     "text": [
      "/Users/jonathanlamontange-kratz/Documents/GitHub/rl-stuff/packages/utils/utils/utils.py:257: UserWarning: No artists with labels found to put in legend.  Note that artists whose label start with an underscore are ignored when legend() is called with no argument.\n",
      "  axs[row][col].legend()\n"
     ]
    },
    {
     "name": "stdout",
     "output_type": "stream",
     "text": [
      "Moviepy - Done !\n",
      "Moviepy - video ready checkpoints/CartPole-v1_quantized_search_32_CartPole-v1/step_8991/videos/CartPole-v1_quantized_search_32_CartPole-v1/8991/CartPole-v1_quantized_search_32_CartPole-v1-episode-134.mp4\n",
      "score:  8.0\n",
      "score:  10.0\n",
      "score:  8.0\n",
      "score:  11.0\n",
      "score:  9.0\n",
      "Moviepy - Building video checkpoints/CartPole-v1_quantized_search_32_CartPole-v1/step_9324/videos/CartPole-v1_quantized_search_32_CartPole-v1/9324/CartPole-v1_quantized_search_32_CartPole-v1-episode-139.mp4.\n",
      "Moviepy - Writing video checkpoints/CartPole-v1_quantized_search_32_CartPole-v1/step_9324/videos/CartPole-v1_quantized_search_32_CartPole-v1/9324/CartPole-v1_quantized_search_32_CartPole-v1-episode-139.mp4\n",
      "\n"
     ]
    },
    {
     "name": "stderr",
     "output_type": "stream",
     "text": [
      "/Users/jonathanlamontange-kratz/Documents/GitHub/rl-stuff/packages/utils/utils/utils.py:257: UserWarning: No artists with labels found to put in legend.  Note that artists whose label start with an underscore are ignored when legend() is called with no argument.\n",
      "  axs[row][col].legend()\n"
     ]
    },
    {
     "name": "stdout",
     "output_type": "stream",
     "text": [
      "Moviepy - Done !\n",
      "Moviepy - video ready checkpoints/CartPole-v1_quantized_search_32_CartPole-v1/step_9324/videos/CartPole-v1_quantized_search_32_CartPole-v1/9324/CartPole-v1_quantized_search_32_CartPole-v1-episode-139.mp4\n",
      "score:  9.0\n",
      "score:  9.0\n",
      "score:  8.0\n",
      "score:  10.0\n",
      "score:  10.0\n",
      "Moviepy - Building video checkpoints/CartPole-v1_quantized_search_32_CartPole-v1/step_9657/videos/CartPole-v1_quantized_search_32_CartPole-v1/9657/CartPole-v1_quantized_search_32_CartPole-v1-episode-144.mp4.\n",
      "Moviepy - Writing video checkpoints/CartPole-v1_quantized_search_32_CartPole-v1/step_9657/videos/CartPole-v1_quantized_search_32_CartPole-v1/9657/CartPole-v1_quantized_search_32_CartPole-v1-episode-144.mp4\n",
      "\n"
     ]
    },
    {
     "name": "stderr",
     "output_type": "stream",
     "text": [
      "/Users/jonathanlamontange-kratz/Documents/GitHub/rl-stuff/packages/utils/utils/utils.py:257: UserWarning: No artists with labels found to put in legend.  Note that artists whose label start with an underscore are ignored when legend() is called with no argument.\n",
      "  axs[row][col].legend()\n"
     ]
    },
    {
     "name": "stdout",
     "output_type": "stream",
     "text": [
      "Moviepy - Done !\n",
      "Moviepy - video ready checkpoints/CartPole-v1_quantized_search_32_CartPole-v1/step_9657/videos/CartPole-v1_quantized_search_32_CartPole-v1/9657/CartPole-v1_quantized_search_32_CartPole-v1-episode-144.mp4\n",
      "score:  10.0\n",
      "score:  10.0\n",
      "score:  8.0\n",
      "score:  10.0\n",
      "score:  8.0\n",
      "Moviepy - Building video checkpoints/CartPole-v1_quantized_search_32_CartPole-v1/step_9990/videos/CartPole-v1_quantized_search_32_CartPole-v1/9990/CartPole-v1_quantized_search_32_CartPole-v1-episode-149.mp4.\n",
      "Moviepy - Writing video checkpoints/CartPole-v1_quantized_search_32_CartPole-v1/step_9990/videos/CartPole-v1_quantized_search_32_CartPole-v1/9990/CartPole-v1_quantized_search_32_CartPole-v1-episode-149.mp4\n",
      "\n"
     ]
    },
    {
     "name": "stderr",
     "output_type": "stream",
     "text": [
      "/Users/jonathanlamontange-kratz/Documents/GitHub/rl-stuff/packages/utils/utils/utils.py:257: UserWarning: No artists with labels found to put in legend.  Note that artists whose label start with an underscore are ignored when legend() is called with no argument.\n",
      "  axs[row][col].legend()\n"
     ]
    },
    {
     "name": "stdout",
     "output_type": "stream",
     "text": [
      "Moviepy - Done !\n",
      "Moviepy - video ready checkpoints/CartPole-v1_quantized_search_32_CartPole-v1/step_9990/videos/CartPole-v1_quantized_search_32_CartPole-v1/9990/CartPole-v1_quantized_search_32_CartPole-v1-episode-149.mp4\n",
      "score:  8.0\n",
      "score:  10.0\n",
      "score:  9.0\n",
      "score:  9.0\n",
      "score:  10.0\n",
      "Moviepy - Building video checkpoints/CartPole-v1_quantized_search_32_CartPole-v1/step_9999/videos/CartPole-v1_quantized_search_32_CartPole-v1/9999/CartPole-v1_quantized_search_32_CartPole-v1-episode-154.mp4.\n",
      "Moviepy - Writing video checkpoints/CartPole-v1_quantized_search_32_CartPole-v1/step_9999/videos/CartPole-v1_quantized_search_32_CartPole-v1/9999/CartPole-v1_quantized_search_32_CartPole-v1-episode-154.mp4\n",
      "\n"
     ]
    },
    {
     "name": "stderr",
     "output_type": "stream",
     "text": [
      "                                                           "
     ]
    },
    {
     "name": "stdout",
     "output_type": "stream",
     "text": [
      "Moviepy - Done !\n",
      "Moviepy - video ready checkpoints/CartPole-v1_quantized_search_32_CartPole-v1/step_9999/videos/CartPole-v1_quantized_search_32_CartPole-v1/9999/CartPole-v1_quantized_search_32_CartPole-v1-episode-154.mp4\n",
      "score:  9.0\n"
     ]
    },
    {
     "name": "stderr",
     "output_type": "stream",
     "text": [
      "/Users/jonathanlamontange-kratz/Documents/GitHub/rl-stuff/packages/utils/utils/utils.py:257: UserWarning: No artists with labels found to put in legend.  Note that artists whose label start with an underscore are ignored when legend() is called with no argument.\n",
      "  axs[row][col].legend()\n"
     ]
    },
    {
     "name": "stdout",
     "output_type": "stream",
     "text": [
      "Training complete\n",
      "score:  9.0\n",
      "score:  8.0\n",
      "score:  10.0\n",
      "score:  10.0\n",
      "Moviepy - Building video ./checkpoints//videos/CartPole-v1_quantized_search_32_CartPole-v1/5000/CartPole-v1_quantized_search_32_CartPole-v1-episode-159.mp4.\n",
      "Moviepy - Writing video ./checkpoints//videos/CartPole-v1_quantized_search_32_CartPole-v1/5000/CartPole-v1_quantized_search_32_CartPole-v1-episode-159.mp4\n",
      "\n"
     ]
    },
    {
     "name": "stderr",
     "output_type": "stream",
     "text": [
      "                                                   "
     ]
    },
    {
     "name": "stdout",
     "output_type": "stream",
     "text": [
      "Moviepy - Done !\n",
      "Moviepy - video ready ./checkpoints//videos/CartPole-v1_quantized_search_32_CartPole-v1/5000/CartPole-v1_quantized_search_32_CartPole-v1-episode-159.mp4\n",
      "score:  9.0\n",
      "score:  10.0\n",
      "score:  8.0\n",
      "score:  10.0\n",
      "score:  9.0\n",
      "score:  9.0\n",
      "parallel programs done\n"
     ]
    },
    {
     "name": "stderr",
     "output_type": "stream",
     "text": [
      "\r"
     ]
    },
    {
     "name": "stdout",
     "output_type": "stream",
     "text": [
      "Params:  {'adam_epsilon': 0.00125, 'advantage_hidden_layers_widths': (64, 128, 128), 'atom_size': 51, 'clipnorm': 7.1000000000000005, 'conv_layers': (), 'dense_layers_widths': (32, 256, 256, 512), 'discount_factor': 0.9530000000000001, 'kernel_initializer': 'glorot_uniform', 'learning_rate': 0.00035000000000000005, 'loss_function': <utils.utils.CategoricalCrossentropy object at 0x288bc76e0>, 'min_replay_buffer_size': 625, 'minibatch_size': 48, 'n_step': 7, 'per_alpha': 0.65, 'per_beta': 0.4, 'per_epsilon': 0.01701, 'replay_buffer_size': 9000, 'replay_interval': 2, 'training_steps': 10000, 'transfer_interval': 150, 'value_hidden_layers_widths': (128, 128, 256, 256)}\n",
      "Making environments\n",
      "CartPole-v1_quantized_search\n",
      "Using default save_intermediate_weights     : True\n",
      "Using         training_steps                : 10000\n",
      "Using         adam_epsilon                  : 0.00125\n",
      "Using         learning_rate                 : 0.00035000000000000005\n",
      "Using         clipnorm                      : 7.1000000000000005\n",
      "Using default optimizer                     : <class 'torch.optim.adam.Adam'>\n",
      "Using         loss_function                 : <utils.utils.CategoricalCrossentropy object at 0x288bc76e0>\n",
      "Using default activation                    : relu\n",
      "Using         kernel_initializer            : glorot_uniform\n",
      "Using         minibatch_size                : 48\n",
      "Using         replay_buffer_size            : 9000\n",
      "Using         min_replay_buffer_size        : 625\n",
      "Using default num_minibatches               : 1\n",
      "Using default training_iterations           : 1\n",
      "Using         conv_layers                   : ()\n",
      "Using         dense_layers_widths           : (32, 256, 256, 512)\n",
      "Using         value_hidden_layers_widths    : (128, 128, 256, 256)\n",
      "Using         advantage_hidden_layers_widths: (64, 128, 128)\n",
      "Using default noisy_sigma                   : 0.5\n",
      "Using default deuling                       : True\n",
      "Using         discount_factor               : 0.9530000000000001\n",
      "Using default soft_update                   : False\n",
      "Using         transfer_interval             : 150\n",
      "Using default ema_beta                      : 0.99\n",
      "Using         replay_interval               : 2\n",
      "Using         per_alpha                     : 0.65\n",
      "Using         per_beta                      : 0.4\n",
      "Using         per_epsilon                   : 0.01701\n",
      "Using         n_step                        : 7\n",
      "Using         atom_size                     : 51\n",
      "observation_dimensions:  (4,)\n",
      "num_actions:  2\n"
     ]
    },
    {
     "name": "stderr",
     "output_type": "stream",
     "text": [
      "/Library/Frameworks/Python.framework/Versions/3.12/lib/python3.12/site-packages/gymnasium/wrappers/record_video.py:94: UserWarning: \u001b[33mWARN: Overwriting existing videos at /Users/jonathanlamontange-kratz/Documents/GitHub/rl-stuff/experiments/rainbow_and_ape-x folder (try specifying a different `video_folder` for the `RecordVideo` wrapper if this is not desired)\u001b[0m\n",
      "  logger.warn(\n"
     ]
    },
    {
     "name": "stdout",
     "output_type": "stream",
     "text": [
      "score:  10.0\n",
      "score:  9.0\n",
      "score:  10.0\n",
      "score:  9.0\n",
      "Moviepy - Building video checkpoints/CartPole-v1_quantized_search_33_CartPole-v1/step_333/videos/CartPole-v1_quantized_search_33_CartPole-v1/333/CartPole-v1_quantized_search_33_CartPole-v1-episode-4.mp4.\n",
      "Moviepy - Writing video checkpoints/CartPole-v1_quantized_search_33_CartPole-v1/step_333/videos/CartPole-v1_quantized_search_33_CartPole-v1/333/CartPole-v1_quantized_search_33_CartPole-v1-episode-4.mp4\n",
      "\n"
     ]
    },
    {
     "name": "stderr",
     "output_type": "stream",
     "text": [
      "/Users/jonathanlamontange-kratz/Documents/GitHub/rl-stuff/packages/utils/utils/utils.py:257: UserWarning: No artists with labels found to put in legend.  Note that artists whose label start with an underscore are ignored when legend() is called with no argument.\n",
      "  axs[row][col].legend()\n",
      "/Users/jonathanlamontange-kratz/Documents/GitHub/rl-stuff/packages/utils/utils/utils.py:187: UserWarning: Attempting to set identical low and high xlims makes transformation singular; automatically expanding.\n",
      "  axs[row][col].set_xlim(1, len(values))\n"
     ]
    },
    {
     "name": "stdout",
     "output_type": "stream",
     "text": [
      "Moviepy - Done !\n",
      "Moviepy - video ready checkpoints/CartPole-v1_quantized_search_33_CartPole-v1/step_333/videos/CartPole-v1_quantized_search_33_CartPole-v1/333/CartPole-v1_quantized_search_33_CartPole-v1-episode-4.mp4\n",
      "score:  9.0\n",
      "score:  10.0\n",
      "score:  10.0\n",
      "score:  9.0\n",
      "score:  9.0\n",
      "Moviepy - Building video checkpoints/CartPole-v1_quantized_search_33_CartPole-v1/step_666/videos/CartPole-v1_quantized_search_33_CartPole-v1/666/CartPole-v1_quantized_search_33_CartPole-v1-episode-9.mp4.\n",
      "Moviepy - Writing video checkpoints/CartPole-v1_quantized_search_33_CartPole-v1/step_666/videos/CartPole-v1_quantized_search_33_CartPole-v1/666/CartPole-v1_quantized_search_33_CartPole-v1-episode-9.mp4\n",
      "\n"
     ]
    },
    {
     "name": "stderr",
     "output_type": "stream",
     "text": [
      "/Users/jonathanlamontange-kratz/Documents/GitHub/rl-stuff/packages/utils/utils/utils.py:257: UserWarning: No artists with labels found to put in legend.  Note that artists whose label start with an underscore are ignored when legend() is called with no argument.\n",
      "  axs[row][col].legend()\n"
     ]
    },
    {
     "name": "stdout",
     "output_type": "stream",
     "text": [
      "Moviepy - Done !\n",
      "Moviepy - video ready checkpoints/CartPole-v1_quantized_search_33_CartPole-v1/step_666/videos/CartPole-v1_quantized_search_33_CartPole-v1/666/CartPole-v1_quantized_search_33_CartPole-v1-episode-9.mp4\n",
      "score:  10.0\n",
      "score:  10.0\n",
      "score:  9.0\n",
      "score:  9.0\n",
      "score:  8.0\n",
      "Moviepy - Building video checkpoints/CartPole-v1_quantized_search_33_CartPole-v1/step_999/videos/CartPole-v1_quantized_search_33_CartPole-v1/999/CartPole-v1_quantized_search_33_CartPole-v1-episode-14.mp4.\n",
      "Moviepy - Writing video checkpoints/CartPole-v1_quantized_search_33_CartPole-v1/step_999/videos/CartPole-v1_quantized_search_33_CartPole-v1/999/CartPole-v1_quantized_search_33_CartPole-v1-episode-14.mp4\n",
      "\n"
     ]
    },
    {
     "name": "stderr",
     "output_type": "stream",
     "text": [
      "/Users/jonathanlamontange-kratz/Documents/GitHub/rl-stuff/packages/utils/utils/utils.py:257: UserWarning: No artists with labels found to put in legend.  Note that artists whose label start with an underscore are ignored when legend() is called with no argument.\n",
      "  axs[row][col].legend()\n"
     ]
    },
    {
     "name": "stdout",
     "output_type": "stream",
     "text": [
      "Moviepy - Done !\n",
      "Moviepy - video ready checkpoints/CartPole-v1_quantized_search_33_CartPole-v1/step_999/videos/CartPole-v1_quantized_search_33_CartPole-v1/999/CartPole-v1_quantized_search_33_CartPole-v1-episode-14.mp4\n",
      "score:  10.0\n",
      "score:  10.0\n",
      "score:  8.0\n",
      "score:  9.0\n",
      "score:  8.0\n",
      "Moviepy - Building video checkpoints/CartPole-v1_quantized_search_33_CartPole-v1/step_1332/videos/CartPole-v1_quantized_search_33_CartPole-v1/1332/CartPole-v1_quantized_search_33_CartPole-v1-episode-19.mp4.\n",
      "Moviepy - Writing video checkpoints/CartPole-v1_quantized_search_33_CartPole-v1/step_1332/videos/CartPole-v1_quantized_search_33_CartPole-v1/1332/CartPole-v1_quantized_search_33_CartPole-v1-episode-19.mp4\n",
      "\n"
     ]
    },
    {
     "name": "stderr",
     "output_type": "stream",
     "text": [
      "/Users/jonathanlamontange-kratz/Documents/GitHub/rl-stuff/packages/utils/utils/utils.py:257: UserWarning: No artists with labels found to put in legend.  Note that artists whose label start with an underscore are ignored when legend() is called with no argument.\n",
      "  axs[row][col].legend()\n"
     ]
    },
    {
     "name": "stdout",
     "output_type": "stream",
     "text": [
      "Moviepy - Done !\n",
      "Moviepy - video ready checkpoints/CartPole-v1_quantized_search_33_CartPole-v1/step_1332/videos/CartPole-v1_quantized_search_33_CartPole-v1/1332/CartPole-v1_quantized_search_33_CartPole-v1-episode-19.mp4\n",
      "score:  8.0\n",
      "score:  8.0\n",
      "score:  8.0\n",
      "score:  9.0\n",
      "score:  9.0\n",
      "Moviepy - Building video checkpoints/CartPole-v1_quantized_search_33_CartPole-v1/step_1665/videos/CartPole-v1_quantized_search_33_CartPole-v1/1665/CartPole-v1_quantized_search_33_CartPole-v1-episode-24.mp4.\n",
      "Moviepy - Writing video checkpoints/CartPole-v1_quantized_search_33_CartPole-v1/step_1665/videos/CartPole-v1_quantized_search_33_CartPole-v1/1665/CartPole-v1_quantized_search_33_CartPole-v1-episode-24.mp4\n",
      "\n"
     ]
    },
    {
     "name": "stderr",
     "output_type": "stream",
     "text": [
      "/Users/jonathanlamontange-kratz/Documents/GitHub/rl-stuff/packages/utils/utils/utils.py:257: UserWarning: No artists with labels found to put in legend.  Note that artists whose label start with an underscore are ignored when legend() is called with no argument.\n",
      "  axs[row][col].legend()\n"
     ]
    },
    {
     "name": "stdout",
     "output_type": "stream",
     "text": [
      "Moviepy - Done !\n",
      "Moviepy - video ready checkpoints/CartPole-v1_quantized_search_33_CartPole-v1/step_1665/videos/CartPole-v1_quantized_search_33_CartPole-v1/1665/CartPole-v1_quantized_search_33_CartPole-v1-episode-24.mp4\n",
      "score:  10.0\n",
      "score:  10.0\n",
      "score:  9.0\n",
      "score:  8.0\n",
      "score:  8.0\n",
      "Moviepy - Building video checkpoints/CartPole-v1_quantized_search_33_CartPole-v1/step_1998/videos/CartPole-v1_quantized_search_33_CartPole-v1/1998/CartPole-v1_quantized_search_33_CartPole-v1-episode-29.mp4.\n",
      "Moviepy - Writing video checkpoints/CartPole-v1_quantized_search_33_CartPole-v1/step_1998/videos/CartPole-v1_quantized_search_33_CartPole-v1/1998/CartPole-v1_quantized_search_33_CartPole-v1-episode-29.mp4\n",
      "\n"
     ]
    },
    {
     "name": "stderr",
     "output_type": "stream",
     "text": [
      "/Users/jonathanlamontange-kratz/Documents/GitHub/rl-stuff/packages/utils/utils/utils.py:257: UserWarning: No artists with labels found to put in legend.  Note that artists whose label start with an underscore are ignored when legend() is called with no argument.\n",
      "  axs[row][col].legend()\n"
     ]
    },
    {
     "name": "stdout",
     "output_type": "stream",
     "text": [
      "Moviepy - Done !\n",
      "Moviepy - video ready checkpoints/CartPole-v1_quantized_search_33_CartPole-v1/step_1998/videos/CartPole-v1_quantized_search_33_CartPole-v1/1998/CartPole-v1_quantized_search_33_CartPole-v1-episode-29.mp4\n",
      "score:  10.0\n",
      "score:  10.0\n",
      "score:  9.0\n",
      "score:  10.0\n",
      "score:  9.0\n",
      "Moviepy - Building video checkpoints/CartPole-v1_quantized_search_33_CartPole-v1/step_2331/videos/CartPole-v1_quantized_search_33_CartPole-v1/2331/CartPole-v1_quantized_search_33_CartPole-v1-episode-34.mp4.\n",
      "Moviepy - Writing video checkpoints/CartPole-v1_quantized_search_33_CartPole-v1/step_2331/videos/CartPole-v1_quantized_search_33_CartPole-v1/2331/CartPole-v1_quantized_search_33_CartPole-v1-episode-34.mp4\n",
      "\n"
     ]
    },
    {
     "name": "stderr",
     "output_type": "stream",
     "text": [
      "/Users/jonathanlamontange-kratz/Documents/GitHub/rl-stuff/packages/utils/utils/utils.py:257: UserWarning: No artists with labels found to put in legend.  Note that artists whose label start with an underscore are ignored when legend() is called with no argument.\n",
      "  axs[row][col].legend()\n"
     ]
    },
    {
     "name": "stdout",
     "output_type": "stream",
     "text": [
      "Moviepy - Done !\n",
      "Moviepy - video ready checkpoints/CartPole-v1_quantized_search_33_CartPole-v1/step_2331/videos/CartPole-v1_quantized_search_33_CartPole-v1/2331/CartPole-v1_quantized_search_33_CartPole-v1-episode-34.mp4\n",
      "score:  10.0\n",
      "score:  19.0\n",
      "score:  20.0\n",
      "score:  13.0\n",
      "score:  14.0\n",
      "Moviepy - Building video checkpoints/CartPole-v1_quantized_search_33_CartPole-v1/step_2664/videos/CartPole-v1_quantized_search_33_CartPole-v1/2664/CartPole-v1_quantized_search_33_CartPole-v1-episode-39.mp4.\n",
      "Moviepy - Writing video checkpoints/CartPole-v1_quantized_search_33_CartPole-v1/step_2664/videos/CartPole-v1_quantized_search_33_CartPole-v1/2664/CartPole-v1_quantized_search_33_CartPole-v1-episode-39.mp4\n",
      "\n"
     ]
    },
    {
     "name": "stderr",
     "output_type": "stream",
     "text": [
      "/Users/jonathanlamontange-kratz/Documents/GitHub/rl-stuff/packages/utils/utils/utils.py:257: UserWarning: No artists with labels found to put in legend.  Note that artists whose label start with an underscore are ignored when legend() is called with no argument.\n",
      "  axs[row][col].legend()\n"
     ]
    },
    {
     "name": "stdout",
     "output_type": "stream",
     "text": [
      "Moviepy - Done !\n",
      "Moviepy - video ready checkpoints/CartPole-v1_quantized_search_33_CartPole-v1/step_2664/videos/CartPole-v1_quantized_search_33_CartPole-v1/2664/CartPole-v1_quantized_search_33_CartPole-v1-episode-39.mp4\n",
      "score:  15.0\n",
      "score:  10.0\n",
      "score:  8.0\n",
      "score:  10.0\n",
      "score:  8.0\n",
      "Moviepy - Building video checkpoints/CartPole-v1_quantized_search_33_CartPole-v1/step_2997/videos/CartPole-v1_quantized_search_33_CartPole-v1/2997/CartPole-v1_quantized_search_33_CartPole-v1-episode-44.mp4.\n",
      "Moviepy - Writing video checkpoints/CartPole-v1_quantized_search_33_CartPole-v1/step_2997/videos/CartPole-v1_quantized_search_33_CartPole-v1/2997/CartPole-v1_quantized_search_33_CartPole-v1-episode-44.mp4\n",
      "\n"
     ]
    },
    {
     "name": "stderr",
     "output_type": "stream",
     "text": [
      "                                                           \r"
     ]
    },
    {
     "name": "stdout",
     "output_type": "stream",
     "text": [
      "Moviepy - Done !\n",
      "Moviepy - video ready checkpoints/CartPole-v1_quantized_search_33_CartPole-v1/step_2997/videos/CartPole-v1_quantized_search_33_CartPole-v1/2997/CartPole-v1_quantized_search_33_CartPole-v1-episode-44.mp4\n",
      "score:  10.0\n"
     ]
    },
    {
     "name": "stderr",
     "output_type": "stream",
     "text": [
      "/Users/jonathanlamontange-kratz/Documents/GitHub/rl-stuff/packages/utils/utils/utils.py:257: UserWarning: No artists with labels found to put in legend.  Note that artists whose label start with an underscore are ignored when legend() is called with no argument.\n",
      "  axs[row][col].legend()\n"
     ]
    },
    {
     "name": "stdout",
     "output_type": "stream",
     "text": [
      "score:  15.0\n",
      "score:  13.0\n",
      "score:  18.0\n",
      "score:  20.0\n",
      "Moviepy - Building video checkpoints/CartPole-v1_quantized_search_33_CartPole-v1/step_3330/videos/CartPole-v1_quantized_search_33_CartPole-v1/3330/CartPole-v1_quantized_search_33_CartPole-v1-episode-49.mp4.\n",
      "Moviepy - Writing video checkpoints/CartPole-v1_quantized_search_33_CartPole-v1/step_3330/videos/CartPole-v1_quantized_search_33_CartPole-v1/3330/CartPole-v1_quantized_search_33_CartPole-v1-episode-49.mp4\n",
      "\n"
     ]
    },
    {
     "name": "stderr",
     "output_type": "stream",
     "text": [
      "/Users/jonathanlamontange-kratz/Documents/GitHub/rl-stuff/packages/utils/utils/utils.py:257: UserWarning: No artists with labels found to put in legend.  Note that artists whose label start with an underscore are ignored when legend() is called with no argument.\n",
      "  axs[row][col].legend()\n"
     ]
    },
    {
     "name": "stdout",
     "output_type": "stream",
     "text": [
      "Moviepy - Done !\n",
      "Moviepy - video ready checkpoints/CartPole-v1_quantized_search_33_CartPole-v1/step_3330/videos/CartPole-v1_quantized_search_33_CartPole-v1/3330/CartPole-v1_quantized_search_33_CartPole-v1-episode-49.mp4\n",
      "score:  15.0\n",
      "score:  18.0\n",
      "score:  21.0\n",
      "score:  15.0\n",
      "score:  17.0\n",
      "Moviepy - Building video checkpoints/CartPole-v1_quantized_search_33_CartPole-v1/step_3663/videos/CartPole-v1_quantized_search_33_CartPole-v1/3663/CartPole-v1_quantized_search_33_CartPole-v1-episode-54.mp4.\n",
      "Moviepy - Writing video checkpoints/CartPole-v1_quantized_search_33_CartPole-v1/step_3663/videos/CartPole-v1_quantized_search_33_CartPole-v1/3663/CartPole-v1_quantized_search_33_CartPole-v1-episode-54.mp4\n",
      "\n"
     ]
    },
    {
     "name": "stderr",
     "output_type": "stream",
     "text": [
      "/Users/jonathanlamontange-kratz/Documents/GitHub/rl-stuff/packages/utils/utils/utils.py:257: UserWarning: No artists with labels found to put in legend.  Note that artists whose label start with an underscore are ignored when legend() is called with no argument.\n",
      "  axs[row][col].legend()\n"
     ]
    },
    {
     "name": "stdout",
     "output_type": "stream",
     "text": [
      "Moviepy - Done !\n",
      "Moviepy - video ready checkpoints/CartPole-v1_quantized_search_33_CartPole-v1/step_3663/videos/CartPole-v1_quantized_search_33_CartPole-v1/3663/CartPole-v1_quantized_search_33_CartPole-v1-episode-54.mp4\n",
      "score:  17.0\n",
      "score:  10.0\n",
      "score:  9.0\n",
      "score:  9.0\n",
      "score:  8.0\n",
      "Moviepy - Building video checkpoints/CartPole-v1_quantized_search_33_CartPole-v1/step_3996/videos/CartPole-v1_quantized_search_33_CartPole-v1/3996/CartPole-v1_quantized_search_33_CartPole-v1-episode-59.mp4.\n",
      "Moviepy - Writing video checkpoints/CartPole-v1_quantized_search_33_CartPole-v1/step_3996/videos/CartPole-v1_quantized_search_33_CartPole-v1/3996/CartPole-v1_quantized_search_33_CartPole-v1-episode-59.mp4\n",
      "\n"
     ]
    },
    {
     "name": "stderr",
     "output_type": "stream",
     "text": [
      "/Users/jonathanlamontange-kratz/Documents/GitHub/rl-stuff/packages/utils/utils/utils.py:257: UserWarning: No artists with labels found to put in legend.  Note that artists whose label start with an underscore are ignored when legend() is called with no argument.\n",
      "  axs[row][col].legend()\n"
     ]
    },
    {
     "name": "stdout",
     "output_type": "stream",
     "text": [
      "Moviepy - Done !\n",
      "Moviepy - video ready checkpoints/CartPole-v1_quantized_search_33_CartPole-v1/step_3996/videos/CartPole-v1_quantized_search_33_CartPole-v1/3996/CartPole-v1_quantized_search_33_CartPole-v1-episode-59.mp4\n",
      "score:  10.0\n",
      "score:  13.0\n",
      "score:  11.0\n",
      "score:  14.0\n",
      "score:  11.0\n",
      "Moviepy - Building video checkpoints/CartPole-v1_quantized_search_33_CartPole-v1/step_4329/videos/CartPole-v1_quantized_search_33_CartPole-v1/4329/CartPole-v1_quantized_search_33_CartPole-v1-episode-64.mp4.\n",
      "Moviepy - Writing video checkpoints/CartPole-v1_quantized_search_33_CartPole-v1/step_4329/videos/CartPole-v1_quantized_search_33_CartPole-v1/4329/CartPole-v1_quantized_search_33_CartPole-v1-episode-64.mp4\n",
      "\n"
     ]
    },
    {
     "name": "stderr",
     "output_type": "stream",
     "text": [
      "/Users/jonathanlamontange-kratz/Documents/GitHub/rl-stuff/packages/utils/utils/utils.py:257: UserWarning: No artists with labels found to put in legend.  Note that artists whose label start with an underscore are ignored when legend() is called with no argument.\n",
      "  axs[row][col].legend()\n"
     ]
    },
    {
     "name": "stdout",
     "output_type": "stream",
     "text": [
      "Moviepy - Done !\n",
      "Moviepy - video ready checkpoints/CartPole-v1_quantized_search_33_CartPole-v1/step_4329/videos/CartPole-v1_quantized_search_33_CartPole-v1/4329/CartPole-v1_quantized_search_33_CartPole-v1-episode-64.mp4\n",
      "score:  11.0\n",
      "score:  12.0\n",
      "score:  13.0\n",
      "score:  10.0\n",
      "score:  11.0\n",
      "Moviepy - Building video checkpoints/CartPole-v1_quantized_search_33_CartPole-v1/step_4662/videos/CartPole-v1_quantized_search_33_CartPole-v1/4662/CartPole-v1_quantized_search_33_CartPole-v1-episode-69.mp4.\n",
      "Moviepy - Writing video checkpoints/CartPole-v1_quantized_search_33_CartPole-v1/step_4662/videos/CartPole-v1_quantized_search_33_CartPole-v1/4662/CartPole-v1_quantized_search_33_CartPole-v1-episode-69.mp4\n",
      "\n"
     ]
    },
    {
     "name": "stderr",
     "output_type": "stream",
     "text": [
      "/Users/jonathanlamontange-kratz/Documents/GitHub/rl-stuff/packages/utils/utils/utils.py:257: UserWarning: No artists with labels found to put in legend.  Note that artists whose label start with an underscore are ignored when legend() is called with no argument.\n",
      "  axs[row][col].legend()\n"
     ]
    },
    {
     "name": "stdout",
     "output_type": "stream",
     "text": [
      "Moviepy - Done !\n",
      "Moviepy - video ready checkpoints/CartPole-v1_quantized_search_33_CartPole-v1/step_4662/videos/CartPole-v1_quantized_search_33_CartPole-v1/4662/CartPole-v1_quantized_search_33_CartPole-v1-episode-69.mp4\n",
      "score:  10.0\n",
      "score:  17.0\n",
      "score:  27.0\n",
      "score:  33.0\n",
      "score:  25.0\n",
      "Moviepy - Building video checkpoints/CartPole-v1_quantized_search_33_CartPole-v1/step_4995/videos/CartPole-v1_quantized_search_33_CartPole-v1/4995/CartPole-v1_quantized_search_33_CartPole-v1-episode-74.mp4.\n",
      "Moviepy - Writing video checkpoints/CartPole-v1_quantized_search_33_CartPole-v1/step_4995/videos/CartPole-v1_quantized_search_33_CartPole-v1/4995/CartPole-v1_quantized_search_33_CartPole-v1-episode-74.mp4\n",
      "\n"
     ]
    },
    {
     "name": "stderr",
     "output_type": "stream",
     "text": [
      "/Users/jonathanlamontange-kratz/Documents/GitHub/rl-stuff/packages/utils/utils/utils.py:257: UserWarning: No artists with labels found to put in legend.  Note that artists whose label start with an underscore are ignored when legend() is called with no argument.\n",
      "  axs[row][col].legend()\n"
     ]
    },
    {
     "name": "stdout",
     "output_type": "stream",
     "text": [
      "Moviepy - Done !\n",
      "Moviepy - video ready checkpoints/CartPole-v1_quantized_search_33_CartPole-v1/step_4995/videos/CartPole-v1_quantized_search_33_CartPole-v1/4995/CartPole-v1_quantized_search_33_CartPole-v1-episode-74.mp4\n",
      "score:  17.0\n",
      "score:  31.0\n",
      "score:  30.0\n",
      "score:  26.0\n",
      "score:  26.0\n",
      "Moviepy - Building video checkpoints/CartPole-v1_quantized_search_33_CartPole-v1/step_5328/videos/CartPole-v1_quantized_search_33_CartPole-v1/5328/CartPole-v1_quantized_search_33_CartPole-v1-episode-79.mp4.\n",
      "Moviepy - Writing video checkpoints/CartPole-v1_quantized_search_33_CartPole-v1/step_5328/videos/CartPole-v1_quantized_search_33_CartPole-v1/5328/CartPole-v1_quantized_search_33_CartPole-v1-episode-79.mp4\n",
      "\n"
     ]
    },
    {
     "name": "stderr",
     "output_type": "stream",
     "text": [
      "                                                           \r"
     ]
    },
    {
     "name": "stdout",
     "output_type": "stream",
     "text": [
      "Moviepy - Done !\n",
      "Moviepy - video ready checkpoints/CartPole-v1_quantized_search_33_CartPole-v1/step_5328/videos/CartPole-v1_quantized_search_33_CartPole-v1/5328/CartPole-v1_quantized_search_33_CartPole-v1-episode-79.mp4\n",
      "score:  34.0\n"
     ]
    },
    {
     "name": "stderr",
     "output_type": "stream",
     "text": [
      "/Users/jonathanlamontange-kratz/Documents/GitHub/rl-stuff/packages/utils/utils/utils.py:257: UserWarning: No artists with labels found to put in legend.  Note that artists whose label start with an underscore are ignored when legend() is called with no argument.\n",
      "  axs[row][col].legend()\n"
     ]
    },
    {
     "name": "stdout",
     "output_type": "stream",
     "text": [
      "score:  181.0\n",
      "score:  173.0\n",
      "score:  193.0\n",
      "score:  196.0\n",
      "Moviepy - Building video checkpoints/CartPole-v1_quantized_search_33_CartPole-v1/step_5661/videos/CartPole-v1_quantized_search_33_CartPole-v1/5661/CartPole-v1_quantized_search_33_CartPole-v1-episode-84.mp4.\n",
      "Moviepy - Writing video checkpoints/CartPole-v1_quantized_search_33_CartPole-v1/step_5661/videos/CartPole-v1_quantized_search_33_CartPole-v1/5661/CartPole-v1_quantized_search_33_CartPole-v1-episode-84.mp4\n",
      "\n"
     ]
    },
    {
     "name": "stderr",
     "output_type": "stream",
     "text": [
      "/Users/jonathanlamontange-kratz/Documents/GitHub/rl-stuff/packages/utils/utils/utils.py:257: UserWarning: No artists with labels found to put in legend.  Note that artists whose label start with an underscore are ignored when legend() is called with no argument.\n",
      "  axs[row][col].legend()\n"
     ]
    },
    {
     "name": "stdout",
     "output_type": "stream",
     "text": [
      "Moviepy - Done !\n",
      "Moviepy - video ready checkpoints/CartPole-v1_quantized_search_33_CartPole-v1/step_5661/videos/CartPole-v1_quantized_search_33_CartPole-v1/5661/CartPole-v1_quantized_search_33_CartPole-v1-episode-84.mp4\n",
      "score:  198.0\n",
      "score:  106.0\n",
      "score:  89.0\n",
      "score:  119.0\n",
      "score:  68.0\n",
      "Moviepy - Building video checkpoints/CartPole-v1_quantized_search_33_CartPole-v1/step_5994/videos/CartPole-v1_quantized_search_33_CartPole-v1/5994/CartPole-v1_quantized_search_33_CartPole-v1-episode-89.mp4.\n",
      "Moviepy - Writing video checkpoints/CartPole-v1_quantized_search_33_CartPole-v1/step_5994/videos/CartPole-v1_quantized_search_33_CartPole-v1/5994/CartPole-v1_quantized_search_33_CartPole-v1-episode-89.mp4\n",
      "\n"
     ]
    },
    {
     "name": "stderr",
     "output_type": "stream",
     "text": [
      "/Users/jonathanlamontange-kratz/Documents/GitHub/rl-stuff/packages/utils/utils/utils.py:257: UserWarning: No artists with labels found to put in legend.  Note that artists whose label start with an underscore are ignored when legend() is called with no argument.\n",
      "  axs[row][col].legend()\n"
     ]
    },
    {
     "name": "stdout",
     "output_type": "stream",
     "text": [
      "Moviepy - Done !\n",
      "Moviepy - video ready checkpoints/CartPole-v1_quantized_search_33_CartPole-v1/step_5994/videos/CartPole-v1_quantized_search_33_CartPole-v1/5994/CartPole-v1_quantized_search_33_CartPole-v1-episode-89.mp4\n",
      "score:  71.0\n",
      "score:  78.0\n",
      "score:  77.0\n",
      "score:  75.0\n",
      "score:  90.0\n",
      "Moviepy - Building video checkpoints/CartPole-v1_quantized_search_33_CartPole-v1/step_6327/videos/CartPole-v1_quantized_search_33_CartPole-v1/6327/CartPole-v1_quantized_search_33_CartPole-v1-episode-94.mp4.\n",
      "Moviepy - Writing video checkpoints/CartPole-v1_quantized_search_33_CartPole-v1/step_6327/videos/CartPole-v1_quantized_search_33_CartPole-v1/6327/CartPole-v1_quantized_search_33_CartPole-v1-episode-94.mp4\n",
      "\n"
     ]
    },
    {
     "name": "stderr",
     "output_type": "stream",
     "text": [
      "/Users/jonathanlamontange-kratz/Documents/GitHub/rl-stuff/packages/utils/utils/utils.py:257: UserWarning: No artists with labels found to put in legend.  Note that artists whose label start with an underscore are ignored when legend() is called with no argument.\n",
      "  axs[row][col].legend()\n"
     ]
    },
    {
     "name": "stdout",
     "output_type": "stream",
     "text": [
      "Moviepy - Done !\n",
      "Moviepy - video ready checkpoints/CartPole-v1_quantized_search_33_CartPole-v1/step_6327/videos/CartPole-v1_quantized_search_33_CartPole-v1/6327/CartPole-v1_quantized_search_33_CartPole-v1-episode-94.mp4\n",
      "score:  82.0\n",
      "score:  158.0\n",
      "score:  389.0\n",
      "score:  332.0\n",
      "score:  139.0\n",
      "Moviepy - Building video checkpoints/CartPole-v1_quantized_search_33_CartPole-v1/step_6660/videos/CartPole-v1_quantized_search_33_CartPole-v1/6660/CartPole-v1_quantized_search_33_CartPole-v1-episode-99.mp4.\n",
      "Moviepy - Writing video checkpoints/CartPole-v1_quantized_search_33_CartPole-v1/step_6660/videos/CartPole-v1_quantized_search_33_CartPole-v1/6660/CartPole-v1_quantized_search_33_CartPole-v1-episode-99.mp4\n",
      "\n"
     ]
    },
    {
     "name": "stderr",
     "output_type": "stream",
     "text": [
      "/Users/jonathanlamontange-kratz/Documents/GitHub/rl-stuff/packages/utils/utils/utils.py:257: UserWarning: No artists with labels found to put in legend.  Note that artists whose label start with an underscore are ignored when legend() is called with no argument.\n",
      "  axs[row][col].legend()\n"
     ]
    },
    {
     "name": "stdout",
     "output_type": "stream",
     "text": [
      "Moviepy - Done !\n",
      "Moviepy - video ready checkpoints/CartPole-v1_quantized_search_33_CartPole-v1/step_6660/videos/CartPole-v1_quantized_search_33_CartPole-v1/6660/CartPole-v1_quantized_search_33_CartPole-v1-episode-99.mp4\n",
      "score:  205.0\n",
      "score:  150.0\n",
      "score:  148.0\n",
      "score:  149.0\n",
      "score:  143.0\n",
      "Moviepy - Building video checkpoints/CartPole-v1_quantized_search_33_CartPole-v1/step_6993/videos/CartPole-v1_quantized_search_33_CartPole-v1/6993/CartPole-v1_quantized_search_33_CartPole-v1-episode-104.mp4.\n",
      "Moviepy - Writing video checkpoints/CartPole-v1_quantized_search_33_CartPole-v1/step_6993/videos/CartPole-v1_quantized_search_33_CartPole-v1/6993/CartPole-v1_quantized_search_33_CartPole-v1-episode-104.mp4\n",
      "\n"
     ]
    },
    {
     "name": "stderr",
     "output_type": "stream",
     "text": [
      "/Users/jonathanlamontange-kratz/Documents/GitHub/rl-stuff/packages/utils/utils/utils.py:257: UserWarning: No artists with labels found to put in legend.  Note that artists whose label start with an underscore are ignored when legend() is called with no argument.\n",
      "  axs[row][col].legend()\n"
     ]
    },
    {
     "name": "stdout",
     "output_type": "stream",
     "text": [
      "Moviepy - Done !\n",
      "Moviepy - video ready checkpoints/CartPole-v1_quantized_search_33_CartPole-v1/step_6993/videos/CartPole-v1_quantized_search_33_CartPole-v1/6993/CartPole-v1_quantized_search_33_CartPole-v1-episode-104.mp4\n",
      "score:  156.0\n",
      "score:  52.0\n",
      "score:  53.0\n",
      "score:  55.0\n",
      "score:  54.0\n",
      "Moviepy - Building video checkpoints/CartPole-v1_quantized_search_33_CartPole-v1/step_7326/videos/CartPole-v1_quantized_search_33_CartPole-v1/7326/CartPole-v1_quantized_search_33_CartPole-v1-episode-109.mp4.\n",
      "Moviepy - Writing video checkpoints/CartPole-v1_quantized_search_33_CartPole-v1/step_7326/videos/CartPole-v1_quantized_search_33_CartPole-v1/7326/CartPole-v1_quantized_search_33_CartPole-v1-episode-109.mp4\n",
      "\n"
     ]
    },
    {
     "name": "stderr",
     "output_type": "stream",
     "text": [
      "/Users/jonathanlamontange-kratz/Documents/GitHub/rl-stuff/packages/utils/utils/utils.py:257: UserWarning: No artists with labels found to put in legend.  Note that artists whose label start with an underscore are ignored when legend() is called with no argument.\n",
      "  axs[row][col].legend()\n"
     ]
    },
    {
     "name": "stdout",
     "output_type": "stream",
     "text": [
      "Moviepy - Done !\n",
      "Moviepy - video ready checkpoints/CartPole-v1_quantized_search_33_CartPole-v1/step_7326/videos/CartPole-v1_quantized_search_33_CartPole-v1/7326/CartPole-v1_quantized_search_33_CartPole-v1-episode-109.mp4\n",
      "score:  57.0\n",
      "score:  91.0\n",
      "score:  92.0\n",
      "score:  93.0\n",
      "score:  88.0\n",
      "Moviepy - Building video checkpoints/CartPole-v1_quantized_search_33_CartPole-v1/step_7659/videos/CartPole-v1_quantized_search_33_CartPole-v1/7659/CartPole-v1_quantized_search_33_CartPole-v1-episode-114.mp4.\n",
      "Moviepy - Writing video checkpoints/CartPole-v1_quantized_search_33_CartPole-v1/step_7659/videos/CartPole-v1_quantized_search_33_CartPole-v1/7659/CartPole-v1_quantized_search_33_CartPole-v1-episode-114.mp4\n",
      "\n"
     ]
    },
    {
     "name": "stderr",
     "output_type": "stream",
     "text": [
      "/Users/jonathanlamontange-kratz/Documents/GitHub/rl-stuff/packages/utils/utils/utils.py:257: UserWarning: No artists with labels found to put in legend.  Note that artists whose label start with an underscore are ignored when legend() is called with no argument.\n",
      "  axs[row][col].legend()\n"
     ]
    },
    {
     "name": "stdout",
     "output_type": "stream",
     "text": [
      "Moviepy - Done !\n",
      "Moviepy - video ready checkpoints/CartPole-v1_quantized_search_33_CartPole-v1/step_7659/videos/CartPole-v1_quantized_search_33_CartPole-v1/7659/CartPole-v1_quantized_search_33_CartPole-v1-episode-114.mp4\n",
      "score:  95.0\n",
      "score:  102.0\n",
      "score:  102.0\n",
      "score:  102.0\n",
      "score:  94.0\n",
      "Moviepy - Building video checkpoints/CartPole-v1_quantized_search_33_CartPole-v1/step_7992/videos/CartPole-v1_quantized_search_33_CartPole-v1/7992/CartPole-v1_quantized_search_33_CartPole-v1-episode-119.mp4.\n",
      "Moviepy - Writing video checkpoints/CartPole-v1_quantized_search_33_CartPole-v1/step_7992/videos/CartPole-v1_quantized_search_33_CartPole-v1/7992/CartPole-v1_quantized_search_33_CartPole-v1-episode-119.mp4\n",
      "\n"
     ]
    },
    {
     "name": "stderr",
     "output_type": "stream",
     "text": [
      "/Users/jonathanlamontange-kratz/Documents/GitHub/rl-stuff/packages/utils/utils/utils.py:257: UserWarning: No artists with labels found to put in legend.  Note that artists whose label start with an underscore are ignored when legend() is called with no argument.\n",
      "  axs[row][col].legend()\n"
     ]
    },
    {
     "name": "stdout",
     "output_type": "stream",
     "text": [
      "Moviepy - Done !\n",
      "Moviepy - video ready checkpoints/CartPole-v1_quantized_search_33_CartPole-v1/step_7992/videos/CartPole-v1_quantized_search_33_CartPole-v1/7992/CartPole-v1_quantized_search_33_CartPole-v1-episode-119.mp4\n",
      "score:  110.0\n",
      "score:  94.0\n",
      "score:  100.0\n",
      "score:  110.0\n",
      "score:  113.0\n",
      "Moviepy - Building video checkpoints/CartPole-v1_quantized_search_33_CartPole-v1/step_8325/videos/CartPole-v1_quantized_search_33_CartPole-v1/8325/CartPole-v1_quantized_search_33_CartPole-v1-episode-124.mp4.\n",
      "Moviepy - Writing video checkpoints/CartPole-v1_quantized_search_33_CartPole-v1/step_8325/videos/CartPole-v1_quantized_search_33_CartPole-v1/8325/CartPole-v1_quantized_search_33_CartPole-v1-episode-124.mp4\n",
      "\n"
     ]
    },
    {
     "name": "stderr",
     "output_type": "stream",
     "text": [
      "/Users/jonathanlamontange-kratz/Documents/GitHub/rl-stuff/packages/utils/utils/utils.py:257: UserWarning: No artists with labels found to put in legend.  Note that artists whose label start with an underscore are ignored when legend() is called with no argument.\n",
      "  axs[row][col].legend()\n"
     ]
    },
    {
     "name": "stdout",
     "output_type": "stream",
     "text": [
      "Moviepy - Done !\n",
      "Moviepy - video ready checkpoints/CartPole-v1_quantized_search_33_CartPole-v1/step_8325/videos/CartPole-v1_quantized_search_33_CartPole-v1/8325/CartPole-v1_quantized_search_33_CartPole-v1-episode-124.mp4\n",
      "score:  115.0\n",
      "score:  142.0\n",
      "score:  141.0\n",
      "score:  110.0\n",
      "score:  124.0\n",
      "Moviepy - Building video checkpoints/CartPole-v1_quantized_search_33_CartPole-v1/step_8658/videos/CartPole-v1_quantized_search_33_CartPole-v1/8658/CartPole-v1_quantized_search_33_CartPole-v1-episode-129.mp4.\n",
      "Moviepy - Writing video checkpoints/CartPole-v1_quantized_search_33_CartPole-v1/step_8658/videos/CartPole-v1_quantized_search_33_CartPole-v1/8658/CartPole-v1_quantized_search_33_CartPole-v1-episode-129.mp4\n",
      "\n"
     ]
    },
    {
     "name": "stderr",
     "output_type": "stream",
     "text": [
      "/Users/jonathanlamontange-kratz/Documents/GitHub/rl-stuff/packages/utils/utils/utils.py:257: UserWarning: No artists with labels found to put in legend.  Note that artists whose label start with an underscore are ignored when legend() is called with no argument.\n",
      "  axs[row][col].legend()\n"
     ]
    },
    {
     "name": "stdout",
     "output_type": "stream",
     "text": [
      "Moviepy - Done !\n",
      "Moviepy - video ready checkpoints/CartPole-v1_quantized_search_33_CartPole-v1/step_8658/videos/CartPole-v1_quantized_search_33_CartPole-v1/8658/CartPole-v1_quantized_search_33_CartPole-v1-episode-129.mp4\n",
      "score:  119.0\n",
      "score:  131.0\n",
      "score:  170.0\n",
      "score:  131.0\n",
      "score:  175.0\n",
      "Moviepy - Building video checkpoints/CartPole-v1_quantized_search_33_CartPole-v1/step_8991/videos/CartPole-v1_quantized_search_33_CartPole-v1/8991/CartPole-v1_quantized_search_33_CartPole-v1-episode-134.mp4.\n",
      "Moviepy - Writing video checkpoints/CartPole-v1_quantized_search_33_CartPole-v1/step_8991/videos/CartPole-v1_quantized_search_33_CartPole-v1/8991/CartPole-v1_quantized_search_33_CartPole-v1-episode-134.mp4\n",
      "\n"
     ]
    },
    {
     "name": "stderr",
     "output_type": "stream",
     "text": [
      "/Users/jonathanlamontange-kratz/Documents/GitHub/rl-stuff/packages/utils/utils/utils.py:257: UserWarning: No artists with labels found to put in legend.  Note that artists whose label start with an underscore are ignored when legend() is called with no argument.\n",
      "  axs[row][col].legend()\n"
     ]
    },
    {
     "name": "stdout",
     "output_type": "stream",
     "text": [
      "Moviepy - Done !\n",
      "Moviepy - video ready checkpoints/CartPole-v1_quantized_search_33_CartPole-v1/step_8991/videos/CartPole-v1_quantized_search_33_CartPole-v1/8991/CartPole-v1_quantized_search_33_CartPole-v1-episode-134.mp4\n",
      "score:  150.0\n",
      "score:  197.0\n",
      "score:  178.0\n",
      "score:  213.0\n",
      "score:  185.0\n",
      "Moviepy - Building video checkpoints/CartPole-v1_quantized_search_33_CartPole-v1/step_9324/videos/CartPole-v1_quantized_search_33_CartPole-v1/9324/CartPole-v1_quantized_search_33_CartPole-v1-episode-139.mp4.\n",
      "Moviepy - Writing video checkpoints/CartPole-v1_quantized_search_33_CartPole-v1/step_9324/videos/CartPole-v1_quantized_search_33_CartPole-v1/9324/CartPole-v1_quantized_search_33_CartPole-v1-episode-139.mp4\n",
      "\n"
     ]
    },
    {
     "name": "stderr",
     "output_type": "stream",
     "text": [
      "/Users/jonathanlamontange-kratz/Documents/GitHub/rl-stuff/packages/utils/utils/utils.py:257: UserWarning: No artists with labels found to put in legend.  Note that artists whose label start with an underscore are ignored when legend() is called with no argument.\n",
      "  axs[row][col].legend()\n"
     ]
    },
    {
     "name": "stdout",
     "output_type": "stream",
     "text": [
      "Moviepy - Done !\n",
      "Moviepy - video ready checkpoints/CartPole-v1_quantized_search_33_CartPole-v1/step_9324/videos/CartPole-v1_quantized_search_33_CartPole-v1/9324/CartPole-v1_quantized_search_33_CartPole-v1-episode-139.mp4\n",
      "score:  214.0\n",
      "score:  188.0\n",
      "score:  170.0\n",
      "score:  171.0\n",
      "score:  194.0\n",
      "Moviepy - Building video checkpoints/CartPole-v1_quantized_search_33_CartPole-v1/step_9657/videos/CartPole-v1_quantized_search_33_CartPole-v1/9657/CartPole-v1_quantized_search_33_CartPole-v1-episode-144.mp4.\n",
      "Moviepy - Writing video checkpoints/CartPole-v1_quantized_search_33_CartPole-v1/step_9657/videos/CartPole-v1_quantized_search_33_CartPole-v1/9657/CartPole-v1_quantized_search_33_CartPole-v1-episode-144.mp4\n",
      "\n"
     ]
    },
    {
     "name": "stderr",
     "output_type": "stream",
     "text": [
      "/Users/jonathanlamontange-kratz/Documents/GitHub/rl-stuff/packages/utils/utils/utils.py:257: UserWarning: No artists with labels found to put in legend.  Note that artists whose label start with an underscore are ignored when legend() is called with no argument.\n",
      "  axs[row][col].legend()\n"
     ]
    },
    {
     "name": "stdout",
     "output_type": "stream",
     "text": [
      "Moviepy - Done !\n",
      "Moviepy - video ready checkpoints/CartPole-v1_quantized_search_33_CartPole-v1/step_9657/videos/CartPole-v1_quantized_search_33_CartPole-v1/9657/CartPole-v1_quantized_search_33_CartPole-v1-episode-144.mp4\n",
      "score:  164.0\n",
      "score:  222.0\n",
      "score:  168.0\n",
      "score:  256.0\n",
      "score:  172.0\n",
      "Moviepy - Building video checkpoints/CartPole-v1_quantized_search_33_CartPole-v1/step_9990/videos/CartPole-v1_quantized_search_33_CartPole-v1/9990/CartPole-v1_quantized_search_33_CartPole-v1-episode-149.mp4.\n",
      "Moviepy - Writing video checkpoints/CartPole-v1_quantized_search_33_CartPole-v1/step_9990/videos/CartPole-v1_quantized_search_33_CartPole-v1/9990/CartPole-v1_quantized_search_33_CartPole-v1-episode-149.mp4\n",
      "\n"
     ]
    },
    {
     "name": "stderr",
     "output_type": "stream",
     "text": [
      "/Users/jonathanlamontange-kratz/Documents/GitHub/rl-stuff/packages/utils/utils/utils.py:257: UserWarning: No artists with labels found to put in legend.  Note that artists whose label start with an underscore are ignored when legend() is called with no argument.\n",
      "  axs[row][col].legend()\n"
     ]
    },
    {
     "name": "stdout",
     "output_type": "stream",
     "text": [
      "Moviepy - Done !\n",
      "Moviepy - video ready checkpoints/CartPole-v1_quantized_search_33_CartPole-v1/step_9990/videos/CartPole-v1_quantized_search_33_CartPole-v1/9990/CartPole-v1_quantized_search_33_CartPole-v1-episode-149.mp4\n",
      "score:  161.0\n",
      "score:  175.0\n",
      "score:  188.0\n",
      "score:  171.0\n",
      "score:  185.0\n",
      "Moviepy - Building video checkpoints/CartPole-v1_quantized_search_33_CartPole-v1/step_9999/videos/CartPole-v1_quantized_search_33_CartPole-v1/9999/CartPole-v1_quantized_search_33_CartPole-v1-episode-154.mp4.\n",
      "Moviepy - Writing video checkpoints/CartPole-v1_quantized_search_33_CartPole-v1/step_9999/videos/CartPole-v1_quantized_search_33_CartPole-v1/9999/CartPole-v1_quantized_search_33_CartPole-v1-episode-154.mp4\n",
      "\n"
     ]
    },
    {
     "name": "stderr",
     "output_type": "stream",
     "text": [
      "/Users/jonathanlamontange-kratz/Documents/GitHub/rl-stuff/packages/utils/utils/utils.py:257: UserWarning: No artists with labels found to put in legend.  Note that artists whose label start with an underscore are ignored when legend() is called with no argument.\n",
      "  axs[row][col].legend()\n"
     ]
    },
    {
     "name": "stdout",
     "output_type": "stream",
     "text": [
      "Moviepy - Done !\n",
      "Moviepy - video ready checkpoints/CartPole-v1_quantized_search_33_CartPole-v1/step_9999/videos/CartPole-v1_quantized_search_33_CartPole-v1/9999/CartPole-v1_quantized_search_33_CartPole-v1-episode-154.mp4\n",
      "score:  188.0\n",
      "Training complete\n",
      "score:  180.0\n",
      "score:  177.0\n",
      "score:  186.0\n",
      "score:  195.0\n",
      "Moviepy - Building video ./checkpoints//videos/CartPole-v1_quantized_search_33_CartPole-v1/5000/CartPole-v1_quantized_search_33_CartPole-v1-episode-159.mp4.\n",
      "Moviepy - Writing video ./checkpoints//videos/CartPole-v1_quantized_search_33_CartPole-v1/5000/CartPole-v1_quantized_search_33_CartPole-v1-episode-159.mp4\n",
      "\n"
     ]
    },
    {
     "name": "stderr",
     "output_type": "stream",
     "text": [
      "                                                               \r"
     ]
    },
    {
     "name": "stdout",
     "output_type": "stream",
     "text": [
      "Moviepy - Done !\n",
      "Moviepy - video ready ./checkpoints//videos/CartPole-v1_quantized_search_33_CartPole-v1/5000/CartPole-v1_quantized_search_33_CartPole-v1-episode-159.mp4\n",
      "score:  194.0\n",
      "score:  176.0\n",
      "score:  184.0\n",
      "score:  190.0\n",
      "score:  186.0\n",
      "score:  207.0\n",
      "parallel programs done\n",
      "Params:  {'adam_epsilon': 0.00375, 'advantage_hidden_layers_widths': (32, 32, 32), 'atom_size': 51, 'clipnorm': 0.2, 'conv_layers': (), 'dense_layers_widths': (1024, 1024), 'discount_factor': 0.975, 'kernel_initializer': 'orthogonal', 'learning_rate': 1e-05, 'loss_function': <utils.utils.KLDivergence object at 0x288bc7740>, 'min_replay_buffer_size': 1250, 'minibatch_size': 80, 'n_step': 10, 'per_alpha': 0.8, 'per_beta': 0.35000000000000003, 'per_epsilon': 0.006070000000000001, 'replay_buffer_size': 4000, 'replay_interval': 5, 'training_steps': 10000, 'transfer_interval': 200, 'value_hidden_layers_widths': (64, 64)}\n",
      "Making environments\n",
      "CartPole-v1_quantized_search\n",
      "Using default save_intermediate_weights     : True\n",
      "Using         training_steps                : 10000\n",
      "Using         adam_epsilon                  : 0.00375\n",
      "Using         learning_rate                 : 1e-05\n",
      "Using         clipnorm                      : 0.2\n",
      "Using default optimizer                     : <class 'torch.optim.adam.Adam'>\n",
      "Using         loss_function                 : <utils.utils.KLDivergence object at 0x288bc7740>\n",
      "Using default activation                    : relu\n",
      "Using         kernel_initializer            : orthogonal\n",
      "Using         minibatch_size                : 80\n",
      "Using         replay_buffer_size            : 4000\n",
      "Using         min_replay_buffer_size        : 1250\n",
      "Using default num_minibatches               : 1\n",
      "Using default training_iterations           : 1\n",
      "Using         conv_layers                   : ()\n",
      "Using         dense_layers_widths           : (1024, 1024)\n",
      "Using         value_hidden_layers_widths    : (64, 64)\n",
      "Using         advantage_hidden_layers_widths: (32, 32, 32)\n",
      "Using default noisy_sigma                   : 0.5\n",
      "Using default deuling                       : True\n",
      "Using         discount_factor               : 0.975\n",
      "Using default soft_update                   : False\n",
      "Using         transfer_interval             : 200\n",
      "Using default ema_beta                      : 0.99\n",
      "Using         replay_interval               : 5\n",
      "Using         per_alpha                     : 0.8\n",
      "Using         per_beta                      : 0.35000000000000003\n",
      "Using         per_epsilon                   : 0.006070000000000001\n",
      "Using         n_step                        : 10\n",
      "Using         atom_size                     : 51\n",
      "observation_dimensions:  (4,)\n",
      "num_actions:  2\n"
     ]
    },
    {
     "name": "stderr",
     "output_type": "stream",
     "text": [
      "/Library/Frameworks/Python.framework/Versions/3.12/lib/python3.12/site-packages/gymnasium/wrappers/record_video.py:94: UserWarning: \u001b[33mWARN: Overwriting existing videos at /Users/jonathanlamontange-kratz/Documents/GitHub/rl-stuff/experiments/rainbow_and_ape-x folder (try specifying a different `video_folder` for the `RecordVideo` wrapper if this is not desired)\u001b[0m\n",
      "  logger.warn(\n"
     ]
    },
    {
     "name": "stdout",
     "output_type": "stream",
     "text": [
      "score:  10.0\n",
      "score:  10.0\n",
      "score:  9.0\n",
      "score:  10.0\n",
      "Moviepy - Building video checkpoints/CartPole-v1_quantized_search_34_CartPole-v1/step_333/videos/CartPole-v1_quantized_search_34_CartPole-v1/333/CartPole-v1_quantized_search_34_CartPole-v1-episode-4.mp4.\n",
      "Moviepy - Writing video checkpoints/CartPole-v1_quantized_search_34_CartPole-v1/step_333/videos/CartPole-v1_quantized_search_34_CartPole-v1/333/CartPole-v1_quantized_search_34_CartPole-v1-episode-4.mp4\n",
      "\n"
     ]
    },
    {
     "name": "stderr",
     "output_type": "stream",
     "text": [
      "/Users/jonathanlamontange-kratz/Documents/GitHub/rl-stuff/packages/utils/utils/utils.py:257: UserWarning: No artists with labels found to put in legend.  Note that artists whose label start with an underscore are ignored when legend() is called with no argument.\n",
      "  axs[row][col].legend()\n",
      "/Users/jonathanlamontange-kratz/Documents/GitHub/rl-stuff/packages/utils/utils/utils.py:187: UserWarning: Attempting to set identical low and high xlims makes transformation singular; automatically expanding.\n",
      "  axs[row][col].set_xlim(1, len(values))\n"
     ]
    },
    {
     "name": "stdout",
     "output_type": "stream",
     "text": [
      "Moviepy - Done !\n",
      "Moviepy - video ready checkpoints/CartPole-v1_quantized_search_34_CartPole-v1/step_333/videos/CartPole-v1_quantized_search_34_CartPole-v1/333/CartPole-v1_quantized_search_34_CartPole-v1-episode-4.mp4\n",
      "score:  10.0\n",
      "score:  10.0\n",
      "score:  10.0\n",
      "score:  10.0\n",
      "score:  10.0\n",
      "Moviepy - Building video checkpoints/CartPole-v1_quantized_search_34_CartPole-v1/step_666/videos/CartPole-v1_quantized_search_34_CartPole-v1/666/CartPole-v1_quantized_search_34_CartPole-v1-episode-9.mp4.\n",
      "Moviepy - Writing video checkpoints/CartPole-v1_quantized_search_34_CartPole-v1/step_666/videos/CartPole-v1_quantized_search_34_CartPole-v1/666/CartPole-v1_quantized_search_34_CartPole-v1-episode-9.mp4\n",
      "\n"
     ]
    },
    {
     "name": "stderr",
     "output_type": "stream",
     "text": [
      "/Users/jonathanlamontange-kratz/Documents/GitHub/rl-stuff/packages/utils/utils/utils.py:257: UserWarning: No artists with labels found to put in legend.  Note that artists whose label start with an underscore are ignored when legend() is called with no argument.\n",
      "  axs[row][col].legend()\n"
     ]
    },
    {
     "name": "stdout",
     "output_type": "stream",
     "text": [
      "Moviepy - Done !\n",
      "Moviepy - video ready checkpoints/CartPole-v1_quantized_search_34_CartPole-v1/step_666/videos/CartPole-v1_quantized_search_34_CartPole-v1/666/CartPole-v1_quantized_search_34_CartPole-v1-episode-9.mp4\n",
      "score:  10.0\n",
      "score:  10.0\n",
      "score:  10.0\n",
      "score:  9.0\n",
      "score:  9.0\n",
      "Moviepy - Building video checkpoints/CartPole-v1_quantized_search_34_CartPole-v1/step_999/videos/CartPole-v1_quantized_search_34_CartPole-v1/999/CartPole-v1_quantized_search_34_CartPole-v1-episode-14.mp4.\n",
      "Moviepy - Writing video checkpoints/CartPole-v1_quantized_search_34_CartPole-v1/step_999/videos/CartPole-v1_quantized_search_34_CartPole-v1/999/CartPole-v1_quantized_search_34_CartPole-v1-episode-14.mp4\n",
      "\n"
     ]
    },
    {
     "name": "stderr",
     "output_type": "stream",
     "text": [
      "/Users/jonathanlamontange-kratz/Documents/GitHub/rl-stuff/packages/utils/utils/utils.py:257: UserWarning: No artists with labels found to put in legend.  Note that artists whose label start with an underscore are ignored when legend() is called with no argument.\n",
      "  axs[row][col].legend()\n"
     ]
    },
    {
     "name": "stdout",
     "output_type": "stream",
     "text": [
      "Moviepy - Done !\n",
      "Moviepy - video ready checkpoints/CartPole-v1_quantized_search_34_CartPole-v1/step_999/videos/CartPole-v1_quantized_search_34_CartPole-v1/999/CartPole-v1_quantized_search_34_CartPole-v1-episode-14.mp4\n",
      "score:  9.0\n",
      "score:  9.0\n",
      "score:  10.0\n",
      "score:  8.0\n",
      "score:  9.0\n",
      "Moviepy - Building video checkpoints/CartPole-v1_quantized_search_34_CartPole-v1/step_1332/videos/CartPole-v1_quantized_search_34_CartPole-v1/1332/CartPole-v1_quantized_search_34_CartPole-v1-episode-19.mp4.\n",
      "Moviepy - Writing video checkpoints/CartPole-v1_quantized_search_34_CartPole-v1/step_1332/videos/CartPole-v1_quantized_search_34_CartPole-v1/1332/CartPole-v1_quantized_search_34_CartPole-v1-episode-19.mp4\n",
      "\n"
     ]
    },
    {
     "name": "stderr",
     "output_type": "stream",
     "text": [
      "/Users/jonathanlamontange-kratz/Documents/GitHub/rl-stuff/packages/utils/utils/utils.py:257: UserWarning: No artists with labels found to put in legend.  Note that artists whose label start with an underscore are ignored when legend() is called with no argument.\n",
      "  axs[row][col].legend()\n"
     ]
    },
    {
     "name": "stdout",
     "output_type": "stream",
     "text": [
      "Moviepy - Done !\n",
      "Moviepy - video ready checkpoints/CartPole-v1_quantized_search_34_CartPole-v1/step_1332/videos/CartPole-v1_quantized_search_34_CartPole-v1/1332/CartPole-v1_quantized_search_34_CartPole-v1-episode-19.mp4\n",
      "score:  9.0\n",
      "score:  10.0\n",
      "score:  8.0\n",
      "score:  9.0\n",
      "score:  11.0\n",
      "Moviepy - Building video checkpoints/CartPole-v1_quantized_search_34_CartPole-v1/step_1665/videos/CartPole-v1_quantized_search_34_CartPole-v1/1665/CartPole-v1_quantized_search_34_CartPole-v1-episode-24.mp4.\n",
      "Moviepy - Writing video checkpoints/CartPole-v1_quantized_search_34_CartPole-v1/step_1665/videos/CartPole-v1_quantized_search_34_CartPole-v1/1665/CartPole-v1_quantized_search_34_CartPole-v1-episode-24.mp4\n",
      "\n"
     ]
    },
    {
     "name": "stderr",
     "output_type": "stream",
     "text": [
      "/Users/jonathanlamontange-kratz/Documents/GitHub/rl-stuff/packages/utils/utils/utils.py:257: UserWarning: No artists with labels found to put in legend.  Note that artists whose label start with an underscore are ignored when legend() is called with no argument.\n",
      "  axs[row][col].legend()\n"
     ]
    },
    {
     "name": "stdout",
     "output_type": "stream",
     "text": [
      "Moviepy - Done !\n",
      "Moviepy - video ready checkpoints/CartPole-v1_quantized_search_34_CartPole-v1/step_1665/videos/CartPole-v1_quantized_search_34_CartPole-v1/1665/CartPole-v1_quantized_search_34_CartPole-v1-episode-24.mp4\n",
      "score:  10.0\n",
      "score:  10.0\n",
      "score:  9.0\n",
      "score:  8.0\n",
      "score:  10.0\n",
      "Moviepy - Building video checkpoints/CartPole-v1_quantized_search_34_CartPole-v1/step_1998/videos/CartPole-v1_quantized_search_34_CartPole-v1/1998/CartPole-v1_quantized_search_34_CartPole-v1-episode-29.mp4.\n",
      "Moviepy - Writing video checkpoints/CartPole-v1_quantized_search_34_CartPole-v1/step_1998/videos/CartPole-v1_quantized_search_34_CartPole-v1/1998/CartPole-v1_quantized_search_34_CartPole-v1-episode-29.mp4\n",
      "\n"
     ]
    },
    {
     "name": "stderr",
     "output_type": "stream",
     "text": [
      "/Users/jonathanlamontange-kratz/Documents/GitHub/rl-stuff/packages/utils/utils/utils.py:257: UserWarning: No artists with labels found to put in legend.  Note that artists whose label start with an underscore are ignored when legend() is called with no argument.\n",
      "  axs[row][col].legend()\n"
     ]
    },
    {
     "name": "stdout",
     "output_type": "stream",
     "text": [
      "Moviepy - Done !\n",
      "Moviepy - video ready checkpoints/CartPole-v1_quantized_search_34_CartPole-v1/step_1998/videos/CartPole-v1_quantized_search_34_CartPole-v1/1998/CartPole-v1_quantized_search_34_CartPole-v1-episode-29.mp4\n",
      "score:  9.0\n",
      "score:  10.0\n",
      "score:  8.0\n",
      "score:  10.0\n",
      "score:  8.0\n",
      "Moviepy - Building video checkpoints/CartPole-v1_quantized_search_34_CartPole-v1/step_2331/videos/CartPole-v1_quantized_search_34_CartPole-v1/2331/CartPole-v1_quantized_search_34_CartPole-v1-episode-34.mp4.\n",
      "Moviepy - Writing video checkpoints/CartPole-v1_quantized_search_34_CartPole-v1/step_2331/videos/CartPole-v1_quantized_search_34_CartPole-v1/2331/CartPole-v1_quantized_search_34_CartPole-v1-episode-34.mp4\n",
      "\n"
     ]
    },
    {
     "name": "stderr",
     "output_type": "stream",
     "text": [
      "/Users/jonathanlamontange-kratz/Documents/GitHub/rl-stuff/packages/utils/utils/utils.py:257: UserWarning: No artists with labels found to put in legend.  Note that artists whose label start with an underscore are ignored when legend() is called with no argument.\n",
      "  axs[row][col].legend()\n"
     ]
    },
    {
     "name": "stdout",
     "output_type": "stream",
     "text": [
      "Moviepy - Done !\n",
      "Moviepy - video ready checkpoints/CartPole-v1_quantized_search_34_CartPole-v1/step_2331/videos/CartPole-v1_quantized_search_34_CartPole-v1/2331/CartPole-v1_quantized_search_34_CartPole-v1-episode-34.mp4\n",
      "score:  10.0\n",
      "score:  9.0\n",
      "score:  10.0\n",
      "score:  10.0\n",
      "score:  10.0\n",
      "Moviepy - Building video checkpoints/CartPole-v1_quantized_search_34_CartPole-v1/step_2664/videos/CartPole-v1_quantized_search_34_CartPole-v1/2664/CartPole-v1_quantized_search_34_CartPole-v1-episode-39.mp4.\n",
      "Moviepy - Writing video checkpoints/CartPole-v1_quantized_search_34_CartPole-v1/step_2664/videos/CartPole-v1_quantized_search_34_CartPole-v1/2664/CartPole-v1_quantized_search_34_CartPole-v1-episode-39.mp4\n",
      "\n"
     ]
    },
    {
     "name": "stderr",
     "output_type": "stream",
     "text": [
      "/Users/jonathanlamontange-kratz/Documents/GitHub/rl-stuff/packages/utils/utils/utils.py:257: UserWarning: No artists with labels found to put in legend.  Note that artists whose label start with an underscore are ignored when legend() is called with no argument.\n",
      "  axs[row][col].legend()\n"
     ]
    },
    {
     "name": "stdout",
     "output_type": "stream",
     "text": [
      "Moviepy - Done !\n",
      "Moviepy - video ready checkpoints/CartPole-v1_quantized_search_34_CartPole-v1/step_2664/videos/CartPole-v1_quantized_search_34_CartPole-v1/2664/CartPole-v1_quantized_search_34_CartPole-v1-episode-39.mp4\n",
      "score:  8.0\n",
      "score:  9.0\n",
      "score:  10.0\n",
      "score:  9.0\n",
      "score:  9.0\n",
      "Moviepy - Building video checkpoints/CartPole-v1_quantized_search_34_CartPole-v1/step_2997/videos/CartPole-v1_quantized_search_34_CartPole-v1/2997/CartPole-v1_quantized_search_34_CartPole-v1-episode-44.mp4.\n",
      "Moviepy - Writing video checkpoints/CartPole-v1_quantized_search_34_CartPole-v1/step_2997/videos/CartPole-v1_quantized_search_34_CartPole-v1/2997/CartPole-v1_quantized_search_34_CartPole-v1-episode-44.mp4\n",
      "\n"
     ]
    },
    {
     "name": "stderr",
     "output_type": "stream",
     "text": [
      "                                                           \r"
     ]
    },
    {
     "name": "stdout",
     "output_type": "stream",
     "text": [
      "Moviepy - Done !\n",
      "Moviepy - video ready checkpoints/CartPole-v1_quantized_search_34_CartPole-v1/step_2997/videos/CartPole-v1_quantized_search_34_CartPole-v1/2997/CartPole-v1_quantized_search_34_CartPole-v1-episode-44.mp4\n",
      "score:  9.0\n"
     ]
    },
    {
     "name": "stderr",
     "output_type": "stream",
     "text": [
      "/Users/jonathanlamontange-kratz/Documents/GitHub/rl-stuff/packages/utils/utils/utils.py:257: UserWarning: No artists with labels found to put in legend.  Note that artists whose label start with an underscore are ignored when legend() is called with no argument.\n",
      "  axs[row][col].legend()\n"
     ]
    },
    {
     "name": "stdout",
     "output_type": "stream",
     "text": [
      "score:  10.0\n",
      "score:  8.0\n",
      "score:  9.0\n",
      "score:  9.0\n",
      "Moviepy - Building video checkpoints/CartPole-v1_quantized_search_34_CartPole-v1/step_3330/videos/CartPole-v1_quantized_search_34_CartPole-v1/3330/CartPole-v1_quantized_search_34_CartPole-v1-episode-49.mp4.\n",
      "Moviepy - Writing video checkpoints/CartPole-v1_quantized_search_34_CartPole-v1/step_3330/videos/CartPole-v1_quantized_search_34_CartPole-v1/3330/CartPole-v1_quantized_search_34_CartPole-v1-episode-49.mp4\n",
      "\n"
     ]
    },
    {
     "name": "stderr",
     "output_type": "stream",
     "text": [
      "/Users/jonathanlamontange-kratz/Documents/GitHub/rl-stuff/packages/utils/utils/utils.py:257: UserWarning: No artists with labels found to put in legend.  Note that artists whose label start with an underscore are ignored when legend() is called with no argument.\n",
      "  axs[row][col].legend()\n"
     ]
    },
    {
     "name": "stdout",
     "output_type": "stream",
     "text": [
      "Moviepy - Done !\n",
      "Moviepy - video ready checkpoints/CartPole-v1_quantized_search_34_CartPole-v1/step_3330/videos/CartPole-v1_quantized_search_34_CartPole-v1/3330/CartPole-v1_quantized_search_34_CartPole-v1-episode-49.mp4\n",
      "score:  10.0\n",
      "score:  8.0\n",
      "score:  8.0\n",
      "score:  10.0\n",
      "score:  10.0\n",
      "Moviepy - Building video checkpoints/CartPole-v1_quantized_search_34_CartPole-v1/step_3663/videos/CartPole-v1_quantized_search_34_CartPole-v1/3663/CartPole-v1_quantized_search_34_CartPole-v1-episode-54.mp4.\n",
      "Moviepy - Writing video checkpoints/CartPole-v1_quantized_search_34_CartPole-v1/step_3663/videos/CartPole-v1_quantized_search_34_CartPole-v1/3663/CartPole-v1_quantized_search_34_CartPole-v1-episode-54.mp4\n",
      "\n"
     ]
    },
    {
     "name": "stderr",
     "output_type": "stream",
     "text": [
      "/Users/jonathanlamontange-kratz/Documents/GitHub/rl-stuff/packages/utils/utils/utils.py:257: UserWarning: No artists with labels found to put in legend.  Note that artists whose label start with an underscore are ignored when legend() is called with no argument.\n",
      "  axs[row][col].legend()\n"
     ]
    },
    {
     "name": "stdout",
     "output_type": "stream",
     "text": [
      "Moviepy - Done !\n",
      "Moviepy - video ready checkpoints/CartPole-v1_quantized_search_34_CartPole-v1/step_3663/videos/CartPole-v1_quantized_search_34_CartPole-v1/3663/CartPole-v1_quantized_search_34_CartPole-v1-episode-54.mp4\n",
      "score:  10.0\n",
      "score:  9.0\n",
      "score:  10.0\n",
      "score:  9.0\n",
      "score:  10.0\n",
      "Moviepy - Building video checkpoints/CartPole-v1_quantized_search_34_CartPole-v1/step_3996/videos/CartPole-v1_quantized_search_34_CartPole-v1/3996/CartPole-v1_quantized_search_34_CartPole-v1-episode-59.mp4.\n",
      "Moviepy - Writing video checkpoints/CartPole-v1_quantized_search_34_CartPole-v1/step_3996/videos/CartPole-v1_quantized_search_34_CartPole-v1/3996/CartPole-v1_quantized_search_34_CartPole-v1-episode-59.mp4\n",
      "\n"
     ]
    },
    {
     "name": "stderr",
     "output_type": "stream",
     "text": [
      "/Users/jonathanlamontange-kratz/Documents/GitHub/rl-stuff/packages/utils/utils/utils.py:257: UserWarning: No artists with labels found to put in legend.  Note that artists whose label start with an underscore are ignored when legend() is called with no argument.\n",
      "  axs[row][col].legend()\n"
     ]
    },
    {
     "name": "stdout",
     "output_type": "stream",
     "text": [
      "Moviepy - Done !\n",
      "Moviepy - video ready checkpoints/CartPole-v1_quantized_search_34_CartPole-v1/step_3996/videos/CartPole-v1_quantized_search_34_CartPole-v1/3996/CartPole-v1_quantized_search_34_CartPole-v1-episode-59.mp4\n",
      "score:  10.0\n",
      "score:  8.0\n",
      "score:  10.0\n",
      "score:  8.0\n",
      "score:  10.0\n",
      "Moviepy - Building video checkpoints/CartPole-v1_quantized_search_34_CartPole-v1/step_4329/videos/CartPole-v1_quantized_search_34_CartPole-v1/4329/CartPole-v1_quantized_search_34_CartPole-v1-episode-64.mp4.\n",
      "Moviepy - Writing video checkpoints/CartPole-v1_quantized_search_34_CartPole-v1/step_4329/videos/CartPole-v1_quantized_search_34_CartPole-v1/4329/CartPole-v1_quantized_search_34_CartPole-v1-episode-64.mp4\n",
      "\n"
     ]
    },
    {
     "name": "stderr",
     "output_type": "stream",
     "text": [
      "/Users/jonathanlamontange-kratz/Documents/GitHub/rl-stuff/packages/utils/utils/utils.py:257: UserWarning: No artists with labels found to put in legend.  Note that artists whose label start with an underscore are ignored when legend() is called with no argument.\n",
      "  axs[row][col].legend()\n"
     ]
    },
    {
     "name": "stdout",
     "output_type": "stream",
     "text": [
      "Moviepy - Done !\n",
      "Moviepy - video ready checkpoints/CartPole-v1_quantized_search_34_CartPole-v1/step_4329/videos/CartPole-v1_quantized_search_34_CartPole-v1/4329/CartPole-v1_quantized_search_34_CartPole-v1-episode-64.mp4\n",
      "score:  10.0\n",
      "score:  11.0\n",
      "score:  12.0\n",
      "score:  11.0\n",
      "score:  11.0\n",
      "Moviepy - Building video checkpoints/CartPole-v1_quantized_search_34_CartPole-v1/step_4662/videos/CartPole-v1_quantized_search_34_CartPole-v1/4662/CartPole-v1_quantized_search_34_CartPole-v1-episode-69.mp4.\n",
      "Moviepy - Writing video checkpoints/CartPole-v1_quantized_search_34_CartPole-v1/step_4662/videos/CartPole-v1_quantized_search_34_CartPole-v1/4662/CartPole-v1_quantized_search_34_CartPole-v1-episode-69.mp4\n",
      "\n"
     ]
    },
    {
     "name": "stderr",
     "output_type": "stream",
     "text": [
      "/Users/jonathanlamontange-kratz/Documents/GitHub/rl-stuff/packages/utils/utils/utils.py:257: UserWarning: No artists with labels found to put in legend.  Note that artists whose label start with an underscore are ignored when legend() is called with no argument.\n",
      "  axs[row][col].legend()\n"
     ]
    },
    {
     "name": "stdout",
     "output_type": "stream",
     "text": [
      "Moviepy - Done !\n",
      "Moviepy - video ready checkpoints/CartPole-v1_quantized_search_34_CartPole-v1/step_4662/videos/CartPole-v1_quantized_search_34_CartPole-v1/4662/CartPole-v1_quantized_search_34_CartPole-v1-episode-69.mp4\n",
      "score:  9.0\n",
      "score:  10.0\n",
      "score:  10.0\n",
      "score:  9.0\n",
      "score:  10.0\n",
      "Moviepy - Building video checkpoints/CartPole-v1_quantized_search_34_CartPole-v1/step_4995/videos/CartPole-v1_quantized_search_34_CartPole-v1/4995/CartPole-v1_quantized_search_34_CartPole-v1-episode-74.mp4.\n",
      "Moviepy - Writing video checkpoints/CartPole-v1_quantized_search_34_CartPole-v1/step_4995/videos/CartPole-v1_quantized_search_34_CartPole-v1/4995/CartPole-v1_quantized_search_34_CartPole-v1-episode-74.mp4\n",
      "\n"
     ]
    },
    {
     "name": "stderr",
     "output_type": "stream",
     "text": [
      "/Users/jonathanlamontange-kratz/Documents/GitHub/rl-stuff/packages/utils/utils/utils.py:257: UserWarning: No artists with labels found to put in legend.  Note that artists whose label start with an underscore are ignored when legend() is called with no argument.\n",
      "  axs[row][col].legend()\n"
     ]
    },
    {
     "name": "stdout",
     "output_type": "stream",
     "text": [
      "Moviepy - Done !\n",
      "Moviepy - video ready checkpoints/CartPole-v1_quantized_search_34_CartPole-v1/step_4995/videos/CartPole-v1_quantized_search_34_CartPole-v1/4995/CartPole-v1_quantized_search_34_CartPole-v1-episode-74.mp4\n",
      "score:  10.0\n",
      "score:  9.0\n",
      "score:  9.0\n",
      "score:  8.0\n",
      "score:  10.0\n",
      "Moviepy - Building video checkpoints/CartPole-v1_quantized_search_34_CartPole-v1/step_5328/videos/CartPole-v1_quantized_search_34_CartPole-v1/5328/CartPole-v1_quantized_search_34_CartPole-v1-episode-79.mp4.\n",
      "Moviepy - Writing video checkpoints/CartPole-v1_quantized_search_34_CartPole-v1/step_5328/videos/CartPole-v1_quantized_search_34_CartPole-v1/5328/CartPole-v1_quantized_search_34_CartPole-v1-episode-79.mp4\n",
      "\n"
     ]
    },
    {
     "name": "stderr",
     "output_type": "stream",
     "text": [
      "/Users/jonathanlamontange-kratz/Documents/GitHub/rl-stuff/packages/utils/utils/utils.py:257: UserWarning: No artists with labels found to put in legend.  Note that artists whose label start with an underscore are ignored when legend() is called with no argument.\n",
      "  axs[row][col].legend()\n"
     ]
    },
    {
     "name": "stdout",
     "output_type": "stream",
     "text": [
      "Moviepy - Done !\n",
      "Moviepy - video ready checkpoints/CartPole-v1_quantized_search_34_CartPole-v1/step_5328/videos/CartPole-v1_quantized_search_34_CartPole-v1/5328/CartPole-v1_quantized_search_34_CartPole-v1-episode-79.mp4\n",
      "score:  9.0\n",
      "score:  10.0\n",
      "score:  9.0\n",
      "score:  9.0\n",
      "score:  10.0\n",
      "Moviepy - Building video checkpoints/CartPole-v1_quantized_search_34_CartPole-v1/step_5661/videos/CartPole-v1_quantized_search_34_CartPole-v1/5661/CartPole-v1_quantized_search_34_CartPole-v1-episode-84.mp4.\n",
      "Moviepy - Writing video checkpoints/CartPole-v1_quantized_search_34_CartPole-v1/step_5661/videos/CartPole-v1_quantized_search_34_CartPole-v1/5661/CartPole-v1_quantized_search_34_CartPole-v1-episode-84.mp4\n",
      "\n"
     ]
    },
    {
     "name": "stderr",
     "output_type": "stream",
     "text": [
      "/Users/jonathanlamontange-kratz/Documents/GitHub/rl-stuff/packages/utils/utils/utils.py:257: UserWarning: No artists with labels found to put in legend.  Note that artists whose label start with an underscore are ignored when legend() is called with no argument.\n",
      "  axs[row][col].legend()\n"
     ]
    },
    {
     "name": "stdout",
     "output_type": "stream",
     "text": [
      "Moviepy - Done !\n",
      "Moviepy - video ready checkpoints/CartPole-v1_quantized_search_34_CartPole-v1/step_5661/videos/CartPole-v1_quantized_search_34_CartPole-v1/5661/CartPole-v1_quantized_search_34_CartPole-v1-episode-84.mp4\n",
      "score:  9.0\n",
      "score:  9.0\n",
      "score:  10.0\n",
      "score:  9.0\n",
      "score:  10.0\n",
      "Moviepy - Building video checkpoints/CartPole-v1_quantized_search_34_CartPole-v1/step_5994/videos/CartPole-v1_quantized_search_34_CartPole-v1/5994/CartPole-v1_quantized_search_34_CartPole-v1-episode-89.mp4.\n",
      "Moviepy - Writing video checkpoints/CartPole-v1_quantized_search_34_CartPole-v1/step_5994/videos/CartPole-v1_quantized_search_34_CartPole-v1/5994/CartPole-v1_quantized_search_34_CartPole-v1-episode-89.mp4\n",
      "\n"
     ]
    },
    {
     "name": "stderr",
     "output_type": "stream",
     "text": [
      "/Users/jonathanlamontange-kratz/Documents/GitHub/rl-stuff/packages/utils/utils/utils.py:257: UserWarning: No artists with labels found to put in legend.  Note that artists whose label start with an underscore are ignored when legend() is called with no argument.\n",
      "  axs[row][col].legend()\n"
     ]
    },
    {
     "name": "stdout",
     "output_type": "stream",
     "text": [
      "Moviepy - Done !\n",
      "Moviepy - video ready checkpoints/CartPole-v1_quantized_search_34_CartPole-v1/step_5994/videos/CartPole-v1_quantized_search_34_CartPole-v1/5994/CartPole-v1_quantized_search_34_CartPole-v1-episode-89.mp4\n",
      "score:  10.0\n",
      "score:  9.0\n",
      "score:  8.0\n",
      "score:  10.0\n",
      "score:  11.0\n",
      "Moviepy - Building video checkpoints/CartPole-v1_quantized_search_34_CartPole-v1/step_6327/videos/CartPole-v1_quantized_search_34_CartPole-v1/6327/CartPole-v1_quantized_search_34_CartPole-v1-episode-94.mp4.\n",
      "Moviepy - Writing video checkpoints/CartPole-v1_quantized_search_34_CartPole-v1/step_6327/videos/CartPole-v1_quantized_search_34_CartPole-v1/6327/CartPole-v1_quantized_search_34_CartPole-v1-episode-94.mp4\n",
      "\n"
     ]
    },
    {
     "name": "stderr",
     "output_type": "stream",
     "text": [
      "/Users/jonathanlamontange-kratz/Documents/GitHub/rl-stuff/packages/utils/utils/utils.py:257: UserWarning: No artists with labels found to put in legend.  Note that artists whose label start with an underscore are ignored when legend() is called with no argument.\n",
      "  axs[row][col].legend()\n"
     ]
    },
    {
     "name": "stdout",
     "output_type": "stream",
     "text": [
      "Moviepy - Done !\n",
      "Moviepy - video ready checkpoints/CartPole-v1_quantized_search_34_CartPole-v1/step_6327/videos/CartPole-v1_quantized_search_34_CartPole-v1/6327/CartPole-v1_quantized_search_34_CartPole-v1-episode-94.mp4\n",
      "score:  9.0\n",
      "score:  10.0\n",
      "score:  9.0\n",
      "score:  10.0\n",
      "score:  11.0\n",
      "Moviepy - Building video checkpoints/CartPole-v1_quantized_search_34_CartPole-v1/step_6660/videos/CartPole-v1_quantized_search_34_CartPole-v1/6660/CartPole-v1_quantized_search_34_CartPole-v1-episode-99.mp4.\n",
      "Moviepy - Writing video checkpoints/CartPole-v1_quantized_search_34_CartPole-v1/step_6660/videos/CartPole-v1_quantized_search_34_CartPole-v1/6660/CartPole-v1_quantized_search_34_CartPole-v1-episode-99.mp4\n",
      "\n"
     ]
    },
    {
     "name": "stderr",
     "output_type": "stream",
     "text": [
      "/Users/jonathanlamontange-kratz/Documents/GitHub/rl-stuff/packages/utils/utils/utils.py:257: UserWarning: No artists with labels found to put in legend.  Note that artists whose label start with an underscore are ignored when legend() is called with no argument.\n",
      "  axs[row][col].legend()\n"
     ]
    },
    {
     "name": "stdout",
     "output_type": "stream",
     "text": [
      "Moviepy - Done !\n",
      "Moviepy - video ready checkpoints/CartPole-v1_quantized_search_34_CartPole-v1/step_6660/videos/CartPole-v1_quantized_search_34_CartPole-v1/6660/CartPole-v1_quantized_search_34_CartPole-v1-episode-99.mp4\n",
      "score:  9.0\n",
      "score:  11.0\n",
      "score:  11.0\n",
      "score:  11.0\n",
      "score:  11.0\n",
      "Moviepy - Building video checkpoints/CartPole-v1_quantized_search_34_CartPole-v1/step_6993/videos/CartPole-v1_quantized_search_34_CartPole-v1/6993/CartPole-v1_quantized_search_34_CartPole-v1-episode-104.mp4.\n",
      "Moviepy - Writing video checkpoints/CartPole-v1_quantized_search_34_CartPole-v1/step_6993/videos/CartPole-v1_quantized_search_34_CartPole-v1/6993/CartPole-v1_quantized_search_34_CartPole-v1-episode-104.mp4\n",
      "\n"
     ]
    },
    {
     "name": "stderr",
     "output_type": "stream",
     "text": [
      "/Users/jonathanlamontange-kratz/Documents/GitHub/rl-stuff/packages/utils/utils/utils.py:257: UserWarning: No artists with labels found to put in legend.  Note that artists whose label start with an underscore are ignored when legend() is called with no argument.\n",
      "  axs[row][col].legend()\n"
     ]
    },
    {
     "name": "stdout",
     "output_type": "stream",
     "text": [
      "Moviepy - Done !\n",
      "Moviepy - video ready checkpoints/CartPole-v1_quantized_search_34_CartPole-v1/step_6993/videos/CartPole-v1_quantized_search_34_CartPole-v1/6993/CartPole-v1_quantized_search_34_CartPole-v1-episode-104.mp4\n",
      "score:  10.0\n",
      "score:  9.0\n",
      "score:  9.0\n",
      "score:  8.0\n",
      "score:  8.0\n",
      "Moviepy - Building video checkpoints/CartPole-v1_quantized_search_34_CartPole-v1/step_7326/videos/CartPole-v1_quantized_search_34_CartPole-v1/7326/CartPole-v1_quantized_search_34_CartPole-v1-episode-109.mp4.\n",
      "Moviepy - Writing video checkpoints/CartPole-v1_quantized_search_34_CartPole-v1/step_7326/videos/CartPole-v1_quantized_search_34_CartPole-v1/7326/CartPole-v1_quantized_search_34_CartPole-v1-episode-109.mp4\n",
      "\n"
     ]
    },
    {
     "name": "stderr",
     "output_type": "stream",
     "text": [
      "/Users/jonathanlamontange-kratz/Documents/GitHub/rl-stuff/packages/utils/utils/utils.py:257: UserWarning: No artists with labels found to put in legend.  Note that artists whose label start with an underscore are ignored when legend() is called with no argument.\n",
      "  axs[row][col].legend()\n"
     ]
    },
    {
     "name": "stdout",
     "output_type": "stream",
     "text": [
      "Moviepy - Done !\n",
      "Moviepy - video ready checkpoints/CartPole-v1_quantized_search_34_CartPole-v1/step_7326/videos/CartPole-v1_quantized_search_34_CartPole-v1/7326/CartPole-v1_quantized_search_34_CartPole-v1-episode-109.mp4\n",
      "score:  9.0\n",
      "score:  10.0\n",
      "score:  10.0\n",
      "score:  9.0\n",
      "score:  10.0\n",
      "Moviepy - Building video checkpoints/CartPole-v1_quantized_search_34_CartPole-v1/step_7659/videos/CartPole-v1_quantized_search_34_CartPole-v1/7659/CartPole-v1_quantized_search_34_CartPole-v1-episode-114.mp4.\n",
      "Moviepy - Writing video checkpoints/CartPole-v1_quantized_search_34_CartPole-v1/step_7659/videos/CartPole-v1_quantized_search_34_CartPole-v1/7659/CartPole-v1_quantized_search_34_CartPole-v1-episode-114.mp4\n",
      "\n"
     ]
    },
    {
     "name": "stderr",
     "output_type": "stream",
     "text": [
      "/Users/jonathanlamontange-kratz/Documents/GitHub/rl-stuff/packages/utils/utils/utils.py:257: UserWarning: No artists with labels found to put in legend.  Note that artists whose label start with an underscore are ignored when legend() is called with no argument.\n",
      "  axs[row][col].legend()\n"
     ]
    },
    {
     "name": "stdout",
     "output_type": "stream",
     "text": [
      "Moviepy - Done !\n",
      "Moviepy - video ready checkpoints/CartPole-v1_quantized_search_34_CartPole-v1/step_7659/videos/CartPole-v1_quantized_search_34_CartPole-v1/7659/CartPole-v1_quantized_search_34_CartPole-v1-episode-114.mp4\n",
      "score:  11.0\n",
      "score:  9.0\n",
      "score:  9.0\n",
      "score:  8.0\n",
      "score:  9.0\n",
      "Moviepy - Building video checkpoints/CartPole-v1_quantized_search_34_CartPole-v1/step_7992/videos/CartPole-v1_quantized_search_34_CartPole-v1/7992/CartPole-v1_quantized_search_34_CartPole-v1-episode-119.mp4.\n",
      "Moviepy - Writing video checkpoints/CartPole-v1_quantized_search_34_CartPole-v1/step_7992/videos/CartPole-v1_quantized_search_34_CartPole-v1/7992/CartPole-v1_quantized_search_34_CartPole-v1-episode-119.mp4\n",
      "\n"
     ]
    },
    {
     "name": "stderr",
     "output_type": "stream",
     "text": [
      "/Users/jonathanlamontange-kratz/Documents/GitHub/rl-stuff/packages/utils/utils/utils.py:257: UserWarning: No artists with labels found to put in legend.  Note that artists whose label start with an underscore are ignored when legend() is called with no argument.\n",
      "  axs[row][col].legend()\n"
     ]
    },
    {
     "name": "stdout",
     "output_type": "stream",
     "text": [
      "Moviepy - Done !\n",
      "Moviepy - video ready checkpoints/CartPole-v1_quantized_search_34_CartPole-v1/step_7992/videos/CartPole-v1_quantized_search_34_CartPole-v1/7992/CartPole-v1_quantized_search_34_CartPole-v1-episode-119.mp4\n",
      "score:  9.0\n",
      "score:  9.0\n",
      "score:  10.0\n",
      "score:  9.0\n",
      "score:  10.0\n",
      "Moviepy - Building video checkpoints/CartPole-v1_quantized_search_34_CartPole-v1/step_8325/videos/CartPole-v1_quantized_search_34_CartPole-v1/8325/CartPole-v1_quantized_search_34_CartPole-v1-episode-124.mp4.\n",
      "Moviepy - Writing video checkpoints/CartPole-v1_quantized_search_34_CartPole-v1/step_8325/videos/CartPole-v1_quantized_search_34_CartPole-v1/8325/CartPole-v1_quantized_search_34_CartPole-v1-episode-124.mp4\n",
      "\n"
     ]
    },
    {
     "name": "stderr",
     "output_type": "stream",
     "text": [
      "/Users/jonathanlamontange-kratz/Documents/GitHub/rl-stuff/packages/utils/utils/utils.py:257: UserWarning: No artists with labels found to put in legend.  Note that artists whose label start with an underscore are ignored when legend() is called with no argument.\n",
      "  axs[row][col].legend()\n"
     ]
    },
    {
     "name": "stdout",
     "output_type": "stream",
     "text": [
      "Moviepy - Done !\n",
      "Moviepy - video ready checkpoints/CartPole-v1_quantized_search_34_CartPole-v1/step_8325/videos/CartPole-v1_quantized_search_34_CartPole-v1/8325/CartPole-v1_quantized_search_34_CartPole-v1-episode-124.mp4\n",
      "score:  10.0\n",
      "score:  10.0\n",
      "score:  9.0\n",
      "score:  10.0\n",
      "score:  8.0\n",
      "Moviepy - Building video checkpoints/CartPole-v1_quantized_search_34_CartPole-v1/step_8658/videos/CartPole-v1_quantized_search_34_CartPole-v1/8658/CartPole-v1_quantized_search_34_CartPole-v1-episode-129.mp4.\n",
      "Moviepy - Writing video checkpoints/CartPole-v1_quantized_search_34_CartPole-v1/step_8658/videos/CartPole-v1_quantized_search_34_CartPole-v1/8658/CartPole-v1_quantized_search_34_CartPole-v1-episode-129.mp4\n",
      "\n"
     ]
    },
    {
     "name": "stderr",
     "output_type": "stream",
     "text": [
      "/Users/jonathanlamontange-kratz/Documents/GitHub/rl-stuff/packages/utils/utils/utils.py:257: UserWarning: No artists with labels found to put in legend.  Note that artists whose label start with an underscore are ignored when legend() is called with no argument.\n",
      "  axs[row][col].legend()\n"
     ]
    },
    {
     "name": "stdout",
     "output_type": "stream",
     "text": [
      "Moviepy - Done !\n",
      "Moviepy - video ready checkpoints/CartPole-v1_quantized_search_34_CartPole-v1/step_8658/videos/CartPole-v1_quantized_search_34_CartPole-v1/8658/CartPole-v1_quantized_search_34_CartPole-v1-episode-129.mp4\n",
      "score:  10.0\n",
      "score:  10.0\n",
      "score:  9.0\n",
      "score:  11.0\n",
      "score:  10.0\n",
      "Moviepy - Building video checkpoints/CartPole-v1_quantized_search_34_CartPole-v1/step_8991/videos/CartPole-v1_quantized_search_34_CartPole-v1/8991/CartPole-v1_quantized_search_34_CartPole-v1-episode-134.mp4.\n",
      "Moviepy - Writing video checkpoints/CartPole-v1_quantized_search_34_CartPole-v1/step_8991/videos/CartPole-v1_quantized_search_34_CartPole-v1/8991/CartPole-v1_quantized_search_34_CartPole-v1-episode-134.mp4\n",
      "\n"
     ]
    },
    {
     "name": "stderr",
     "output_type": "stream",
     "text": [
      "/Users/jonathanlamontange-kratz/Documents/GitHub/rl-stuff/packages/utils/utils/utils.py:257: UserWarning: No artists with labels found to put in legend.  Note that artists whose label start with an underscore are ignored when legend() is called with no argument.\n",
      "  axs[row][col].legend()\n"
     ]
    },
    {
     "name": "stdout",
     "output_type": "stream",
     "text": [
      "Moviepy - Done !\n",
      "Moviepy - video ready checkpoints/CartPole-v1_quantized_search_34_CartPole-v1/step_8991/videos/CartPole-v1_quantized_search_34_CartPole-v1/8991/CartPole-v1_quantized_search_34_CartPole-v1-episode-134.mp4\n",
      "score:  9.0\n",
      "score:  10.0\n",
      "score:  10.0\n",
      "score:  11.0\n",
      "score:  10.0\n",
      "Moviepy - Building video checkpoints/CartPole-v1_quantized_search_34_CartPole-v1/step_9324/videos/CartPole-v1_quantized_search_34_CartPole-v1/9324/CartPole-v1_quantized_search_34_CartPole-v1-episode-139.mp4.\n",
      "Moviepy - Writing video checkpoints/CartPole-v1_quantized_search_34_CartPole-v1/step_9324/videos/CartPole-v1_quantized_search_34_CartPole-v1/9324/CartPole-v1_quantized_search_34_CartPole-v1-episode-139.mp4\n",
      "\n"
     ]
    },
    {
     "name": "stderr",
     "output_type": "stream",
     "text": [
      "/Users/jonathanlamontange-kratz/Documents/GitHub/rl-stuff/packages/utils/utils/utils.py:257: UserWarning: No artists with labels found to put in legend.  Note that artists whose label start with an underscore are ignored when legend() is called with no argument.\n",
      "  axs[row][col].legend()\n"
     ]
    },
    {
     "name": "stdout",
     "output_type": "stream",
     "text": [
      "Moviepy - Done !\n",
      "Moviepy - video ready checkpoints/CartPole-v1_quantized_search_34_CartPole-v1/step_9324/videos/CartPole-v1_quantized_search_34_CartPole-v1/9324/CartPole-v1_quantized_search_34_CartPole-v1-episode-139.mp4\n",
      "score:  11.0\n",
      "score:  9.0\n",
      "score:  9.0\n",
      "score:  10.0\n",
      "score:  9.0\n",
      "Moviepy - Building video checkpoints/CartPole-v1_quantized_search_34_CartPole-v1/step_9657/videos/CartPole-v1_quantized_search_34_CartPole-v1/9657/CartPole-v1_quantized_search_34_CartPole-v1-episode-144.mp4.\n",
      "Moviepy - Writing video checkpoints/CartPole-v1_quantized_search_34_CartPole-v1/step_9657/videos/CartPole-v1_quantized_search_34_CartPole-v1/9657/CartPole-v1_quantized_search_34_CartPole-v1-episode-144.mp4\n",
      "\n"
     ]
    },
    {
     "name": "stderr",
     "output_type": "stream",
     "text": [
      "/Users/jonathanlamontange-kratz/Documents/GitHub/rl-stuff/packages/utils/utils/utils.py:257: UserWarning: No artists with labels found to put in legend.  Note that artists whose label start with an underscore are ignored when legend() is called with no argument.\n",
      "  axs[row][col].legend()\n"
     ]
    },
    {
     "name": "stdout",
     "output_type": "stream",
     "text": [
      "Moviepy - Done !\n",
      "Moviepy - video ready checkpoints/CartPole-v1_quantized_search_34_CartPole-v1/step_9657/videos/CartPole-v1_quantized_search_34_CartPole-v1/9657/CartPole-v1_quantized_search_34_CartPole-v1-episode-144.mp4\n",
      "score:  9.0\n",
      "score:  9.0\n",
      "score:  9.0\n",
      "score:  8.0\n",
      "score:  8.0\n",
      "Moviepy - Building video checkpoints/CartPole-v1_quantized_search_34_CartPole-v1/step_9990/videos/CartPole-v1_quantized_search_34_CartPole-v1/9990/CartPole-v1_quantized_search_34_CartPole-v1-episode-149.mp4.\n",
      "Moviepy - Writing video checkpoints/CartPole-v1_quantized_search_34_CartPole-v1/step_9990/videos/CartPole-v1_quantized_search_34_CartPole-v1/9990/CartPole-v1_quantized_search_34_CartPole-v1-episode-149.mp4\n",
      "\n"
     ]
    },
    {
     "name": "stderr",
     "output_type": "stream",
     "text": [
      "/Users/jonathanlamontange-kratz/Documents/GitHub/rl-stuff/packages/utils/utils/utils.py:257: UserWarning: No artists with labels found to put in legend.  Note that artists whose label start with an underscore are ignored when legend() is called with no argument.\n",
      "  axs[row][col].legend()\n"
     ]
    },
    {
     "name": "stdout",
     "output_type": "stream",
     "text": [
      "Moviepy - Done !\n",
      "Moviepy - video ready checkpoints/CartPole-v1_quantized_search_34_CartPole-v1/step_9990/videos/CartPole-v1_quantized_search_34_CartPole-v1/9990/CartPole-v1_quantized_search_34_CartPole-v1-episode-149.mp4\n",
      "score:  10.0\n",
      "score:  9.0\n",
      "score:  11.0\n",
      "score:  10.0\n",
      "score:  9.0\n",
      "Moviepy - Building video checkpoints/CartPole-v1_quantized_search_34_CartPole-v1/step_9999/videos/CartPole-v1_quantized_search_34_CartPole-v1/9999/CartPole-v1_quantized_search_34_CartPole-v1-episode-154.mp4.\n",
      "Moviepy - Writing video checkpoints/CartPole-v1_quantized_search_34_CartPole-v1/step_9999/videos/CartPole-v1_quantized_search_34_CartPole-v1/9999/CartPole-v1_quantized_search_34_CartPole-v1-episode-154.mp4\n",
      "\n"
     ]
    },
    {
     "name": "stderr",
     "output_type": "stream",
     "text": [
      "                                                           \r"
     ]
    },
    {
     "name": "stdout",
     "output_type": "stream",
     "text": [
      "Moviepy - Done !\n",
      "Moviepy - video ready checkpoints/CartPole-v1_quantized_search_34_CartPole-v1/step_9999/videos/CartPole-v1_quantized_search_34_CartPole-v1/9999/CartPole-v1_quantized_search_34_CartPole-v1-episode-154.mp4\n",
      "score:  10.0\n"
     ]
    },
    {
     "name": "stderr",
     "output_type": "stream",
     "text": [
      "/Users/jonathanlamontange-kratz/Documents/GitHub/rl-stuff/packages/utils/utils/utils.py:257: UserWarning: No artists with labels found to put in legend.  Note that artists whose label start with an underscore are ignored when legend() is called with no argument.\n",
      "  axs[row][col].legend()\n"
     ]
    },
    {
     "name": "stdout",
     "output_type": "stream",
     "text": [
      "Training complete\n",
      "score:  10.0\n",
      "score:  10.0\n",
      "score:  11.0\n",
      "score:  11.0\n",
      "Moviepy - Building video ./checkpoints//videos/CartPole-v1_quantized_search_34_CartPole-v1/5000/CartPole-v1_quantized_search_34_CartPole-v1-episode-159.mp4.\n",
      "Moviepy - Writing video ./checkpoints//videos/CartPole-v1_quantized_search_34_CartPole-v1/5000/CartPole-v1_quantized_search_34_CartPole-v1-episode-159.mp4\n",
      "\n"
     ]
    },
    {
     "name": "stderr",
     "output_type": "stream",
     "text": [
      "                                                   \r"
     ]
    },
    {
     "name": "stdout",
     "output_type": "stream",
     "text": [
      "Moviepy - Done !\n",
      "Moviepy - video ready ./checkpoints//videos/CartPole-v1_quantized_search_34_CartPole-v1/5000/CartPole-v1_quantized_search_34_CartPole-v1-episode-159.mp4\n",
      "score:  11.0\n",
      "score:  9.0\n",
      "score:  9.0\n",
      "score:  10.0\n",
      "score:  10.0\n",
      "score:  11.0\n",
      "parallel programs done\n",
      "Params:  {'adam_epsilon': 0.0096875, 'advantage_hidden_layers_widths': (64, 128, 128, 256), 'atom_size': 51, 'clipnorm': 0.1, 'conv_layers': (), 'dense_layers_widths': (256,), 'discount_factor': 0.99, 'kernel_initializer': 'he_normal', 'learning_rate': 0.0015600000000000002, 'loss_function': <utils.utils.KLDivergence object at 0x288bc7740>, 'min_replay_buffer_size': 875, 'minibatch_size': 128, 'n_step': 9, 'per_alpha': 0.9500000000000001, 'per_beta': 0.1, 'per_epsilon': 0.00219, 'replay_buffer_size': 10000, 'replay_interval': 12, 'training_steps': 10000, 'transfer_interval': 110, 'value_hidden_layers_widths': (32, 32, 128, 256)}\n",
      "Making environments\n",
      "CartPole-v1_quantized_search\n",
      "Using default save_intermediate_weights     : True\n",
      "Using         training_steps                : 10000\n",
      "Using         adam_epsilon                  : 0.0096875\n",
      "Using         learning_rate                 : 0.0015600000000000002\n",
      "Using         clipnorm                      : 0.1\n",
      "Using default optimizer                     : <class 'torch.optim.adam.Adam'>\n",
      "Using         loss_function                 : <utils.utils.KLDivergence object at 0x288bc7740>\n",
      "Using default activation                    : relu\n",
      "Using         kernel_initializer            : he_normal\n",
      "Using         minibatch_size                : 128\n",
      "Using         replay_buffer_size            : 10000\n",
      "Using         min_replay_buffer_size        : 875\n",
      "Using default num_minibatches               : 1\n",
      "Using default training_iterations           : 1\n",
      "Using         conv_layers                   : ()\n",
      "Using         dense_layers_widths           : (256,)\n",
      "Using         value_hidden_layers_widths    : (32, 32, 128, 256)\n",
      "Using         advantage_hidden_layers_widths: (64, 128, 128, 256)\n",
      "Using default noisy_sigma                   : 0.5\n",
      "Using default deuling                       : True\n",
      "Using         discount_factor               : 0.99\n",
      "Using default soft_update                   : False\n",
      "Using         transfer_interval             : 110\n",
      "Using default ema_beta                      : 0.99\n",
      "Using         replay_interval               : 12\n",
      "Using         per_alpha                     : 0.9500000000000001\n",
      "Using         per_beta                      : 0.1\n",
      "Using         per_epsilon                   : 0.00219\n",
      "Using         n_step                        : 9\n",
      "Using         atom_size                     : 51\n",
      "observation_dimensions:  (4,)\n",
      "num_actions:  2\n"
     ]
    },
    {
     "name": "stderr",
     "output_type": "stream",
     "text": [
      "/Library/Frameworks/Python.framework/Versions/3.12/lib/python3.12/site-packages/gymnasium/wrappers/record_video.py:94: UserWarning: \u001b[33mWARN: Overwriting existing videos at /Users/jonathanlamontange-kratz/Documents/GitHub/rl-stuff/experiments/rainbow_and_ape-x folder (try specifying a different `video_folder` for the `RecordVideo` wrapper if this is not desired)\u001b[0m\n",
      "  logger.warn(\n"
     ]
    },
    {
     "name": "stdout",
     "output_type": "stream",
     "text": [
      "score:  9.0\n",
      "score:  10.0\n",
      "score:  10.0\n",
      "score:  9.0\n",
      "Moviepy - Building video checkpoints/CartPole-v1_quantized_search_35_CartPole-v1/step_333/videos/CartPole-v1_quantized_search_35_CartPole-v1/333/CartPole-v1_quantized_search_35_CartPole-v1-episode-4.mp4.\n",
      "Moviepy - Writing video checkpoints/CartPole-v1_quantized_search_35_CartPole-v1/step_333/videos/CartPole-v1_quantized_search_35_CartPole-v1/333/CartPole-v1_quantized_search_35_CartPole-v1-episode-4.mp4\n",
      "\n"
     ]
    },
    {
     "name": "stderr",
     "output_type": "stream",
     "text": [
      "/Users/jonathanlamontange-kratz/Documents/GitHub/rl-stuff/packages/utils/utils/utils.py:257: UserWarning: No artists with labels found to put in legend.  Note that artists whose label start with an underscore are ignored when legend() is called with no argument.\n",
      "  axs[row][col].legend()\n",
      "/Users/jonathanlamontange-kratz/Documents/GitHub/rl-stuff/packages/utils/utils/utils.py:187: UserWarning: Attempting to set identical low and high xlims makes transformation singular; automatically expanding.\n",
      "  axs[row][col].set_xlim(1, len(values))\n"
     ]
    },
    {
     "name": "stdout",
     "output_type": "stream",
     "text": [
      "Moviepy - Done !\n",
      "Moviepy - video ready checkpoints/CartPole-v1_quantized_search_35_CartPole-v1/step_333/videos/CartPole-v1_quantized_search_35_CartPole-v1/333/CartPole-v1_quantized_search_35_CartPole-v1-episode-4.mp4\n",
      "score:  10.0\n",
      "score:  9.0\n",
      "score:  10.0\n",
      "score:  10.0\n",
      "score:  8.0\n",
      "Moviepy - Building video checkpoints/CartPole-v1_quantized_search_35_CartPole-v1/step_666/videos/CartPole-v1_quantized_search_35_CartPole-v1/666/CartPole-v1_quantized_search_35_CartPole-v1-episode-9.mp4.\n",
      "Moviepy - Writing video checkpoints/CartPole-v1_quantized_search_35_CartPole-v1/step_666/videos/CartPole-v1_quantized_search_35_CartPole-v1/666/CartPole-v1_quantized_search_35_CartPole-v1-episode-9.mp4\n",
      "\n"
     ]
    },
    {
     "name": "stderr",
     "output_type": "stream",
     "text": [
      "/Users/jonathanlamontange-kratz/Documents/GitHub/rl-stuff/packages/utils/utils/utils.py:257: UserWarning: No artists with labels found to put in legend.  Note that artists whose label start with an underscore are ignored when legend() is called with no argument.\n",
      "  axs[row][col].legend()\n"
     ]
    },
    {
     "name": "stdout",
     "output_type": "stream",
     "text": [
      "Moviepy - Done !\n",
      "Moviepy - video ready checkpoints/CartPole-v1_quantized_search_35_CartPole-v1/step_666/videos/CartPole-v1_quantized_search_35_CartPole-v1/666/CartPole-v1_quantized_search_35_CartPole-v1-episode-9.mp4\n",
      "score:  9.0\n",
      "score:  9.0\n",
      "score:  10.0\n",
      "score:  8.0\n",
      "score:  9.0\n",
      "Moviepy - Building video checkpoints/CartPole-v1_quantized_search_35_CartPole-v1/step_999/videos/CartPole-v1_quantized_search_35_CartPole-v1/999/CartPole-v1_quantized_search_35_CartPole-v1-episode-14.mp4.\n",
      "Moviepy - Writing video checkpoints/CartPole-v1_quantized_search_35_CartPole-v1/step_999/videos/CartPole-v1_quantized_search_35_CartPole-v1/999/CartPole-v1_quantized_search_35_CartPole-v1-episode-14.mp4\n",
      "\n"
     ]
    },
    {
     "name": "stderr",
     "output_type": "stream",
     "text": [
      "/Users/jonathanlamontange-kratz/Documents/GitHub/rl-stuff/packages/utils/utils/utils.py:257: UserWarning: No artists with labels found to put in legend.  Note that artists whose label start with an underscore are ignored when legend() is called with no argument.\n",
      "  axs[row][col].legend()\n"
     ]
    },
    {
     "name": "stdout",
     "output_type": "stream",
     "text": [
      "Moviepy - Done !\n",
      "Moviepy - video ready checkpoints/CartPole-v1_quantized_search_35_CartPole-v1/step_999/videos/CartPole-v1_quantized_search_35_CartPole-v1/999/CartPole-v1_quantized_search_35_CartPole-v1-episode-14.mp4\n",
      "score:  9.0\n",
      "score:  10.0\n",
      "score:  8.0\n",
      "score:  9.0\n",
      "score:  10.0\n",
      "Moviepy - Building video checkpoints/CartPole-v1_quantized_search_35_CartPole-v1/step_1332/videos/CartPole-v1_quantized_search_35_CartPole-v1/1332/CartPole-v1_quantized_search_35_CartPole-v1-episode-19.mp4.\n",
      "Moviepy - Writing video checkpoints/CartPole-v1_quantized_search_35_CartPole-v1/step_1332/videos/CartPole-v1_quantized_search_35_CartPole-v1/1332/CartPole-v1_quantized_search_35_CartPole-v1-episode-19.mp4\n",
      "\n"
     ]
    },
    {
     "name": "stderr",
     "output_type": "stream",
     "text": [
      "/Users/jonathanlamontange-kratz/Documents/GitHub/rl-stuff/packages/utils/utils/utils.py:257: UserWarning: No artists with labels found to put in legend.  Note that artists whose label start with an underscore are ignored when legend() is called with no argument.\n",
      "  axs[row][col].legend()\n"
     ]
    },
    {
     "name": "stdout",
     "output_type": "stream",
     "text": [
      "Moviepy - Done !\n",
      "Moviepy - video ready checkpoints/CartPole-v1_quantized_search_35_CartPole-v1/step_1332/videos/CartPole-v1_quantized_search_35_CartPole-v1/1332/CartPole-v1_quantized_search_35_CartPole-v1-episode-19.mp4\n",
      "score:  11.0\n",
      "score:  9.0\n",
      "score:  11.0\n",
      "score:  9.0\n",
      "score:  9.0\n",
      "Moviepy - Building video checkpoints/CartPole-v1_quantized_search_35_CartPole-v1/step_1665/videos/CartPole-v1_quantized_search_35_CartPole-v1/1665/CartPole-v1_quantized_search_35_CartPole-v1-episode-24.mp4.\n",
      "Moviepy - Writing video checkpoints/CartPole-v1_quantized_search_35_CartPole-v1/step_1665/videos/CartPole-v1_quantized_search_35_CartPole-v1/1665/CartPole-v1_quantized_search_35_CartPole-v1-episode-24.mp4\n",
      "\n"
     ]
    },
    {
     "name": "stderr",
     "output_type": "stream",
     "text": [
      "/Users/jonathanlamontange-kratz/Documents/GitHub/rl-stuff/packages/utils/utils/utils.py:257: UserWarning: No artists with labels found to put in legend.  Note that artists whose label start with an underscore are ignored when legend() is called with no argument.\n",
      "  axs[row][col].legend()\n"
     ]
    },
    {
     "name": "stdout",
     "output_type": "stream",
     "text": [
      "Moviepy - Done !\n",
      "Moviepy - video ready checkpoints/CartPole-v1_quantized_search_35_CartPole-v1/step_1665/videos/CartPole-v1_quantized_search_35_CartPole-v1/1665/CartPole-v1_quantized_search_35_CartPole-v1-episode-24.mp4\n",
      "score:  10.0\n",
      "score:  9.0\n",
      "score:  9.0\n",
      "score:  9.0\n",
      "score:  10.0\n",
      "Moviepy - Building video checkpoints/CartPole-v1_quantized_search_35_CartPole-v1/step_1998/videos/CartPole-v1_quantized_search_35_CartPole-v1/1998/CartPole-v1_quantized_search_35_CartPole-v1-episode-29.mp4.\n",
      "Moviepy - Writing video checkpoints/CartPole-v1_quantized_search_35_CartPole-v1/step_1998/videos/CartPole-v1_quantized_search_35_CartPole-v1/1998/CartPole-v1_quantized_search_35_CartPole-v1-episode-29.mp4\n",
      "\n"
     ]
    },
    {
     "name": "stderr",
     "output_type": "stream",
     "text": [
      "                                                           "
     ]
    },
    {
     "name": "stdout",
     "output_type": "stream",
     "text": [
      "Moviepy - Done !\n",
      "Moviepy - video ready checkpoints/CartPole-v1_quantized_search_35_CartPole-v1/step_1998/videos/CartPole-v1_quantized_search_35_CartPole-v1/1998/CartPole-v1_quantized_search_35_CartPole-v1-episode-29.mp4\n",
      "score:  9.0\n"
     ]
    },
    {
     "name": "stderr",
     "output_type": "stream",
     "text": [
      "/Users/jonathanlamontange-kratz/Documents/GitHub/rl-stuff/packages/utils/utils/utils.py:257: UserWarning: No artists with labels found to put in legend.  Note that artists whose label start with an underscore are ignored when legend() is called with no argument.\n",
      "  axs[row][col].legend()\n"
     ]
    },
    {
     "name": "stdout",
     "output_type": "stream",
     "text": [
      "score:  9.0\n",
      "score:  9.0\n",
      "score:  10.0\n",
      "score:  10.0\n",
      "Moviepy - Building video checkpoints/CartPole-v1_quantized_search_35_CartPole-v1/step_2331/videos/CartPole-v1_quantized_search_35_CartPole-v1/2331/CartPole-v1_quantized_search_35_CartPole-v1-episode-34.mp4.\n",
      "Moviepy - Writing video checkpoints/CartPole-v1_quantized_search_35_CartPole-v1/step_2331/videos/CartPole-v1_quantized_search_35_CartPole-v1/2331/CartPole-v1_quantized_search_35_CartPole-v1-episode-34.mp4\n",
      "\n"
     ]
    },
    {
     "name": "stderr",
     "output_type": "stream",
     "text": [
      "                                                           "
     ]
    },
    {
     "name": "stdout",
     "output_type": "stream",
     "text": [
      "Moviepy - Done !\n",
      "Moviepy - video ready checkpoints/CartPole-v1_quantized_search_35_CartPole-v1/step_2331/videos/CartPole-v1_quantized_search_35_CartPole-v1/2331/CartPole-v1_quantized_search_35_CartPole-v1-episode-34.mp4\n",
      "score:  9.0\n"
     ]
    },
    {
     "name": "stderr",
     "output_type": "stream",
     "text": [
      "/Users/jonathanlamontange-kratz/Documents/GitHub/rl-stuff/packages/utils/utils/utils.py:257: UserWarning: No artists with labels found to put in legend.  Note that artists whose label start with an underscore are ignored when legend() is called with no argument.\n",
      "  axs[row][col].legend()\n"
     ]
    },
    {
     "name": "stdout",
     "output_type": "stream",
     "text": [
      "score:  9.0\n",
      "score:  9.0\n",
      "score:  10.0\n",
      "score:  10.0\n",
      "Moviepy - Building video checkpoints/CartPole-v1_quantized_search_35_CartPole-v1/step_2664/videos/CartPole-v1_quantized_search_35_CartPole-v1/2664/CartPole-v1_quantized_search_35_CartPole-v1-episode-39.mp4.\n",
      "Moviepy - Writing video checkpoints/CartPole-v1_quantized_search_35_CartPole-v1/step_2664/videos/CartPole-v1_quantized_search_35_CartPole-v1/2664/CartPole-v1_quantized_search_35_CartPole-v1-episode-39.mp4\n",
      "\n"
     ]
    },
    {
     "name": "stderr",
     "output_type": "stream",
     "text": [
      "/Users/jonathanlamontange-kratz/Documents/GitHub/rl-stuff/packages/utils/utils/utils.py:257: UserWarning: No artists with labels found to put in legend.  Note that artists whose label start with an underscore are ignored when legend() is called with no argument.\n",
      "  axs[row][col].legend()\n"
     ]
    },
    {
     "name": "stdout",
     "output_type": "stream",
     "text": [
      "Moviepy - Done !\n",
      "Moviepy - video ready checkpoints/CartPole-v1_quantized_search_35_CartPole-v1/step_2664/videos/CartPole-v1_quantized_search_35_CartPole-v1/2664/CartPole-v1_quantized_search_35_CartPole-v1-episode-39.mp4\n",
      "score:  9.0\n",
      "score:  10.0\n",
      "score:  10.0\n",
      "score:  9.0\n",
      "score:  10.0\n",
      "Moviepy - Building video checkpoints/CartPole-v1_quantized_search_35_CartPole-v1/step_2997/videos/CartPole-v1_quantized_search_35_CartPole-v1/2997/CartPole-v1_quantized_search_35_CartPole-v1-episode-44.mp4.\n",
      "Moviepy - Writing video checkpoints/CartPole-v1_quantized_search_35_CartPole-v1/step_2997/videos/CartPole-v1_quantized_search_35_CartPole-v1/2997/CartPole-v1_quantized_search_35_CartPole-v1-episode-44.mp4\n",
      "\n"
     ]
    },
    {
     "name": "stderr",
     "output_type": "stream",
     "text": [
      "/Users/jonathanlamontange-kratz/Documents/GitHub/rl-stuff/packages/utils/utils/utils.py:257: UserWarning: No artists with labels found to put in legend.  Note that artists whose label start with an underscore are ignored when legend() is called with no argument.\n",
      "  axs[row][col].legend()\n"
     ]
    },
    {
     "name": "stdout",
     "output_type": "stream",
     "text": [
      "Moviepy - Done !\n",
      "Moviepy - video ready checkpoints/CartPole-v1_quantized_search_35_CartPole-v1/step_2997/videos/CartPole-v1_quantized_search_35_CartPole-v1/2997/CartPole-v1_quantized_search_35_CartPole-v1-episode-44.mp4\n",
      "score:  10.0\n",
      "score:  8.0\n",
      "score:  10.0\n",
      "score:  9.0\n",
      "score:  9.0\n",
      "Moviepy - Building video checkpoints/CartPole-v1_quantized_search_35_CartPole-v1/step_3330/videos/CartPole-v1_quantized_search_35_CartPole-v1/3330/CartPole-v1_quantized_search_35_CartPole-v1-episode-49.mp4.\n",
      "Moviepy - Writing video checkpoints/CartPole-v1_quantized_search_35_CartPole-v1/step_3330/videos/CartPole-v1_quantized_search_35_CartPole-v1/3330/CartPole-v1_quantized_search_35_CartPole-v1-episode-49.mp4\n",
      "\n"
     ]
    },
    {
     "name": "stderr",
     "output_type": "stream",
     "text": [
      "/Users/jonathanlamontange-kratz/Documents/GitHub/rl-stuff/packages/utils/utils/utils.py:257: UserWarning: No artists with labels found to put in legend.  Note that artists whose label start with an underscore are ignored when legend() is called with no argument.\n",
      "  axs[row][col].legend()\n"
     ]
    },
    {
     "name": "stdout",
     "output_type": "stream",
     "text": [
      "Moviepy - Done !\n",
      "Moviepy - video ready checkpoints/CartPole-v1_quantized_search_35_CartPole-v1/step_3330/videos/CartPole-v1_quantized_search_35_CartPole-v1/3330/CartPole-v1_quantized_search_35_CartPole-v1-episode-49.mp4\n",
      "score:  9.0\n",
      "score:  9.0\n",
      "score:  9.0\n",
      "score:  10.0\n",
      "score:  10.0\n",
      "Moviepy - Building video checkpoints/CartPole-v1_quantized_search_35_CartPole-v1/step_3663/videos/CartPole-v1_quantized_search_35_CartPole-v1/3663/CartPole-v1_quantized_search_35_CartPole-v1-episode-54.mp4.\n",
      "Moviepy - Writing video checkpoints/CartPole-v1_quantized_search_35_CartPole-v1/step_3663/videos/CartPole-v1_quantized_search_35_CartPole-v1/3663/CartPole-v1_quantized_search_35_CartPole-v1-episode-54.mp4\n",
      "\n"
     ]
    },
    {
     "name": "stderr",
     "output_type": "stream",
     "text": [
      "/Users/jonathanlamontange-kratz/Documents/GitHub/rl-stuff/packages/utils/utils/utils.py:257: UserWarning: No artists with labels found to put in legend.  Note that artists whose label start with an underscore are ignored when legend() is called with no argument.\n",
      "  axs[row][col].legend()\n"
     ]
    },
    {
     "name": "stdout",
     "output_type": "stream",
     "text": [
      "Moviepy - Done !\n",
      "Moviepy - video ready checkpoints/CartPole-v1_quantized_search_35_CartPole-v1/step_3663/videos/CartPole-v1_quantized_search_35_CartPole-v1/3663/CartPole-v1_quantized_search_35_CartPole-v1-episode-54.mp4\n",
      "score:  9.0\n",
      "score:  10.0\n",
      "score:  10.0\n",
      "score:  8.0\n",
      "score:  10.0\n",
      "Moviepy - Building video checkpoints/CartPole-v1_quantized_search_35_CartPole-v1/step_3996/videos/CartPole-v1_quantized_search_35_CartPole-v1/3996/CartPole-v1_quantized_search_35_CartPole-v1-episode-59.mp4.\n",
      "Moviepy - Writing video checkpoints/CartPole-v1_quantized_search_35_CartPole-v1/step_3996/videos/CartPole-v1_quantized_search_35_CartPole-v1/3996/CartPole-v1_quantized_search_35_CartPole-v1-episode-59.mp4\n",
      "\n"
     ]
    },
    {
     "name": "stderr",
     "output_type": "stream",
     "text": [
      "/Users/jonathanlamontange-kratz/Documents/GitHub/rl-stuff/packages/utils/utils/utils.py:257: UserWarning: No artists with labels found to put in legend.  Note that artists whose label start with an underscore are ignored when legend() is called with no argument.\n",
      "  axs[row][col].legend()\n"
     ]
    },
    {
     "name": "stdout",
     "output_type": "stream",
     "text": [
      "Moviepy - Done !\n",
      "Moviepy - video ready checkpoints/CartPole-v1_quantized_search_35_CartPole-v1/step_3996/videos/CartPole-v1_quantized_search_35_CartPole-v1/3996/CartPole-v1_quantized_search_35_CartPole-v1-episode-59.mp4\n",
      "score:  9.0\n",
      "score:  8.0\n",
      "score:  9.0\n",
      "score:  10.0\n",
      "score:  10.0\n",
      "Moviepy - Building video checkpoints/CartPole-v1_quantized_search_35_CartPole-v1/step_4329/videos/CartPole-v1_quantized_search_35_CartPole-v1/4329/CartPole-v1_quantized_search_35_CartPole-v1-episode-64.mp4.\n",
      "Moviepy - Writing video checkpoints/CartPole-v1_quantized_search_35_CartPole-v1/step_4329/videos/CartPole-v1_quantized_search_35_CartPole-v1/4329/CartPole-v1_quantized_search_35_CartPole-v1-episode-64.mp4\n",
      "\n"
     ]
    },
    {
     "name": "stderr",
     "output_type": "stream",
     "text": [
      "                                                           "
     ]
    },
    {
     "name": "stdout",
     "output_type": "stream",
     "text": [
      "Moviepy - Done !\n",
      "Moviepy - video ready checkpoints/CartPole-v1_quantized_search_35_CartPole-v1/step_4329/videos/CartPole-v1_quantized_search_35_CartPole-v1/4329/CartPole-v1_quantized_search_35_CartPole-v1-episode-64.mp4\n",
      "score:  9.0\n"
     ]
    },
    {
     "name": "stderr",
     "output_type": "stream",
     "text": [
      "/Users/jonathanlamontange-kratz/Documents/GitHub/rl-stuff/packages/utils/utils/utils.py:257: UserWarning: No artists with labels found to put in legend.  Note that artists whose label start with an underscore are ignored when legend() is called with no argument.\n",
      "  axs[row][col].legend()\n"
     ]
    },
    {
     "name": "stdout",
     "output_type": "stream",
     "text": [
      "score:  8.0\n",
      "score:  10.0\n",
      "score:  8.0\n",
      "score:  8.0\n",
      "Moviepy - Building video checkpoints/CartPole-v1_quantized_search_35_CartPole-v1/step_4662/videos/CartPole-v1_quantized_search_35_CartPole-v1/4662/CartPole-v1_quantized_search_35_CartPole-v1-episode-69.mp4.\n",
      "Moviepy - Writing video checkpoints/CartPole-v1_quantized_search_35_CartPole-v1/step_4662/videos/CartPole-v1_quantized_search_35_CartPole-v1/4662/CartPole-v1_quantized_search_35_CartPole-v1-episode-69.mp4\n",
      "\n"
     ]
    },
    {
     "name": "stderr",
     "output_type": "stream",
     "text": [
      "                                                           "
     ]
    },
    {
     "name": "stdout",
     "output_type": "stream",
     "text": [
      "Moviepy - Done !\n",
      "Moviepy - video ready checkpoints/CartPole-v1_quantized_search_35_CartPole-v1/step_4662/videos/CartPole-v1_quantized_search_35_CartPole-v1/4662/CartPole-v1_quantized_search_35_CartPole-v1-episode-69.mp4\n",
      "score:  9.0\n"
     ]
    },
    {
     "name": "stderr",
     "output_type": "stream",
     "text": [
      "/Users/jonathanlamontange-kratz/Documents/GitHub/rl-stuff/packages/utils/utils/utils.py:257: UserWarning: No artists with labels found to put in legend.  Note that artists whose label start with an underscore are ignored when legend() is called with no argument.\n",
      "  axs[row][col].legend()\n"
     ]
    },
    {
     "name": "stdout",
     "output_type": "stream",
     "text": [
      "score:  10.0\n",
      "score:  9.0\n",
      "score:  10.0\n",
      "score:  9.0\n",
      "Moviepy - Building video checkpoints/CartPole-v1_quantized_search_35_CartPole-v1/step_4995/videos/CartPole-v1_quantized_search_35_CartPole-v1/4995/CartPole-v1_quantized_search_35_CartPole-v1-episode-74.mp4.\n",
      "Moviepy - Writing video checkpoints/CartPole-v1_quantized_search_35_CartPole-v1/step_4995/videos/CartPole-v1_quantized_search_35_CartPole-v1/4995/CartPole-v1_quantized_search_35_CartPole-v1-episode-74.mp4\n",
      "\n"
     ]
    },
    {
     "name": "stderr",
     "output_type": "stream",
     "text": [
      "/Users/jonathanlamontange-kratz/Documents/GitHub/rl-stuff/packages/utils/utils/utils.py:257: UserWarning: No artists with labels found to put in legend.  Note that artists whose label start with an underscore are ignored when legend() is called with no argument.\n",
      "  axs[row][col].legend()\n"
     ]
    },
    {
     "name": "stdout",
     "output_type": "stream",
     "text": [
      "Moviepy - Done !\n",
      "Moviepy - video ready checkpoints/CartPole-v1_quantized_search_35_CartPole-v1/step_4995/videos/CartPole-v1_quantized_search_35_CartPole-v1/4995/CartPole-v1_quantized_search_35_CartPole-v1-episode-74.mp4\n",
      "score:  9.0\n",
      "score:  9.0\n",
      "score:  10.0\n",
      "score:  10.0\n",
      "score:  10.0\n",
      "Moviepy - Building video checkpoints/CartPole-v1_quantized_search_35_CartPole-v1/step_5328/videos/CartPole-v1_quantized_search_35_CartPole-v1/5328/CartPole-v1_quantized_search_35_CartPole-v1-episode-79.mp4.\n",
      "Moviepy - Writing video checkpoints/CartPole-v1_quantized_search_35_CartPole-v1/step_5328/videos/CartPole-v1_quantized_search_35_CartPole-v1/5328/CartPole-v1_quantized_search_35_CartPole-v1-episode-79.mp4\n",
      "\n"
     ]
    },
    {
     "name": "stderr",
     "output_type": "stream",
     "text": [
      "                                                             "
     ]
    },
    {
     "name": "stdout",
     "output_type": "stream",
     "text": [
      "Moviepy - Done !\n",
      "Moviepy - video ready checkpoints/CartPole-v1_quantized_search_35_CartPole-v1/step_5328/videos/CartPole-v1_quantized_search_35_CartPole-v1/5328/CartPole-v1_quantized_search_35_CartPole-v1-episode-79.mp4\n",
      "score:  10.0\n"
     ]
    },
    {
     "name": "stderr",
     "output_type": "stream",
     "text": [
      "/Users/jonathanlamontange-kratz/Documents/GitHub/rl-stuff/packages/utils/utils/utils.py:257: UserWarning: No artists with labels found to put in legend.  Note that artists whose label start with an underscore are ignored when legend() is called with no argument.\n",
      "  axs[row][col].legend()\n"
     ]
    },
    {
     "name": "stdout",
     "output_type": "stream",
     "text": [
      "score:  10.0\n",
      "score:  11.0\n",
      "score:  9.0\n",
      "score:  10.0\n",
      "Moviepy - Building video checkpoints/CartPole-v1_quantized_search_35_CartPole-v1/step_5661/videos/CartPole-v1_quantized_search_35_CartPole-v1/5661/CartPole-v1_quantized_search_35_CartPole-v1-episode-84.mp4.\n",
      "Moviepy - Writing video checkpoints/CartPole-v1_quantized_search_35_CartPole-v1/step_5661/videos/CartPole-v1_quantized_search_35_CartPole-v1/5661/CartPole-v1_quantized_search_35_CartPole-v1-episode-84.mp4\n",
      "\n"
     ]
    },
    {
     "name": "stderr",
     "output_type": "stream",
     "text": [
      "/Users/jonathanlamontange-kratz/Documents/GitHub/rl-stuff/packages/utils/utils/utils.py:257: UserWarning: No artists with labels found to put in legend.  Note that artists whose label start with an underscore are ignored when legend() is called with no argument.\n",
      "  axs[row][col].legend()\n"
     ]
    },
    {
     "name": "stdout",
     "output_type": "stream",
     "text": [
      "Moviepy - Done !\n",
      "Moviepy - video ready checkpoints/CartPole-v1_quantized_search_35_CartPole-v1/step_5661/videos/CartPole-v1_quantized_search_35_CartPole-v1/5661/CartPole-v1_quantized_search_35_CartPole-v1-episode-84.mp4\n",
      "score:  9.0\n",
      "score:  9.0\n",
      "score:  9.0\n",
      "score:  10.0\n",
      "score:  10.0\n",
      "Moviepy - Building video checkpoints/CartPole-v1_quantized_search_35_CartPole-v1/step_5994/videos/CartPole-v1_quantized_search_35_CartPole-v1/5994/CartPole-v1_quantized_search_35_CartPole-v1-episode-89.mp4.\n",
      "Moviepy - Writing video checkpoints/CartPole-v1_quantized_search_35_CartPole-v1/step_5994/videos/CartPole-v1_quantized_search_35_CartPole-v1/5994/CartPole-v1_quantized_search_35_CartPole-v1-episode-89.mp4\n",
      "\n"
     ]
    },
    {
     "name": "stderr",
     "output_type": "stream",
     "text": [
      "/Users/jonathanlamontange-kratz/Documents/GitHub/rl-stuff/packages/utils/utils/utils.py:257: UserWarning: No artists with labels found to put in legend.  Note that artists whose label start with an underscore are ignored when legend() is called with no argument.\n",
      "  axs[row][col].legend()\n"
     ]
    },
    {
     "name": "stdout",
     "output_type": "stream",
     "text": [
      "Moviepy - Done !\n",
      "Moviepy - video ready checkpoints/CartPole-v1_quantized_search_35_CartPole-v1/step_5994/videos/CartPole-v1_quantized_search_35_CartPole-v1/5994/CartPole-v1_quantized_search_35_CartPole-v1-episode-89.mp4\n",
      "score:  9.0\n",
      "score:  10.0\n",
      "score:  9.0\n",
      "score:  10.0\n",
      "score:  10.0\n",
      "Moviepy - Building video checkpoints/CartPole-v1_quantized_search_35_CartPole-v1/step_6327/videos/CartPole-v1_quantized_search_35_CartPole-v1/6327/CartPole-v1_quantized_search_35_CartPole-v1-episode-94.mp4.\n",
      "Moviepy - Writing video checkpoints/CartPole-v1_quantized_search_35_CartPole-v1/step_6327/videos/CartPole-v1_quantized_search_35_CartPole-v1/6327/CartPole-v1_quantized_search_35_CartPole-v1-episode-94.mp4\n",
      "\n"
     ]
    },
    {
     "name": "stderr",
     "output_type": "stream",
     "text": [
      "/Users/jonathanlamontange-kratz/Documents/GitHub/rl-stuff/packages/utils/utils/utils.py:257: UserWarning: No artists with labels found to put in legend.  Note that artists whose label start with an underscore are ignored when legend() is called with no argument.\n",
      "  axs[row][col].legend()\n"
     ]
    },
    {
     "name": "stdout",
     "output_type": "stream",
     "text": [
      "Moviepy - Done !\n",
      "Moviepy - video ready checkpoints/CartPole-v1_quantized_search_35_CartPole-v1/step_6327/videos/CartPole-v1_quantized_search_35_CartPole-v1/6327/CartPole-v1_quantized_search_35_CartPole-v1-episode-94.mp4\n",
      "score:  9.0\n",
      "score:  8.0\n",
      "score:  10.0\n",
      "score:  9.0\n",
      "score:  11.0\n",
      "Moviepy - Building video checkpoints/CartPole-v1_quantized_search_35_CartPole-v1/step_6660/videos/CartPole-v1_quantized_search_35_CartPole-v1/6660/CartPole-v1_quantized_search_35_CartPole-v1-episode-99.mp4.\n",
      "Moviepy - Writing video checkpoints/CartPole-v1_quantized_search_35_CartPole-v1/step_6660/videos/CartPole-v1_quantized_search_35_CartPole-v1/6660/CartPole-v1_quantized_search_35_CartPole-v1-episode-99.mp4\n",
      "\n"
     ]
    },
    {
     "name": "stderr",
     "output_type": "stream",
     "text": [
      "/Users/jonathanlamontange-kratz/Documents/GitHub/rl-stuff/packages/utils/utils/utils.py:257: UserWarning: No artists with labels found to put in legend.  Note that artists whose label start with an underscore are ignored when legend() is called with no argument.\n",
      "  axs[row][col].legend()\n"
     ]
    },
    {
     "name": "stdout",
     "output_type": "stream",
     "text": [
      "Moviepy - Done !\n",
      "Moviepy - video ready checkpoints/CartPole-v1_quantized_search_35_CartPole-v1/step_6660/videos/CartPole-v1_quantized_search_35_CartPole-v1/6660/CartPole-v1_quantized_search_35_CartPole-v1-episode-99.mp4\n",
      "score:  10.0\n",
      "score:  11.0\n",
      "score:  10.0\n",
      "score:  10.0\n",
      "score:  10.0\n",
      "Moviepy - Building video checkpoints/CartPole-v1_quantized_search_35_CartPole-v1/step_6993/videos/CartPole-v1_quantized_search_35_CartPole-v1/6993/CartPole-v1_quantized_search_35_CartPole-v1-episode-104.mp4.\n",
      "Moviepy - Writing video checkpoints/CartPole-v1_quantized_search_35_CartPole-v1/step_6993/videos/CartPole-v1_quantized_search_35_CartPole-v1/6993/CartPole-v1_quantized_search_35_CartPole-v1-episode-104.mp4\n",
      "\n"
     ]
    },
    {
     "name": "stderr",
     "output_type": "stream",
     "text": [
      "/Users/jonathanlamontange-kratz/Documents/GitHub/rl-stuff/packages/utils/utils/utils.py:257: UserWarning: No artists with labels found to put in legend.  Note that artists whose label start with an underscore are ignored when legend() is called with no argument.\n",
      "  axs[row][col].legend()\n"
     ]
    },
    {
     "name": "stdout",
     "output_type": "stream",
     "text": [
      "Moviepy - Done !\n",
      "Moviepy - video ready checkpoints/CartPole-v1_quantized_search_35_CartPole-v1/step_6993/videos/CartPole-v1_quantized_search_35_CartPole-v1/6993/CartPole-v1_quantized_search_35_CartPole-v1-episode-104.mp4\n",
      "score:  10.0\n",
      "score:  9.0\n",
      "score:  10.0\n",
      "score:  10.0\n",
      "score:  9.0\n",
      "Moviepy - Building video checkpoints/CartPole-v1_quantized_search_35_CartPole-v1/step_7326/videos/CartPole-v1_quantized_search_35_CartPole-v1/7326/CartPole-v1_quantized_search_35_CartPole-v1-episode-109.mp4.\n",
      "Moviepy - Writing video checkpoints/CartPole-v1_quantized_search_35_CartPole-v1/step_7326/videos/CartPole-v1_quantized_search_35_CartPole-v1/7326/CartPole-v1_quantized_search_35_CartPole-v1-episode-109.mp4\n",
      "\n"
     ]
    },
    {
     "name": "stderr",
     "output_type": "stream",
     "text": [
      "/Users/jonathanlamontange-kratz/Documents/GitHub/rl-stuff/packages/utils/utils/utils.py:257: UserWarning: No artists with labels found to put in legend.  Note that artists whose label start with an underscore are ignored when legend() is called with no argument.\n",
      "  axs[row][col].legend()\n"
     ]
    },
    {
     "name": "stdout",
     "output_type": "stream",
     "text": [
      "Moviepy - Done !\n",
      "Moviepy - video ready checkpoints/CartPole-v1_quantized_search_35_CartPole-v1/step_7326/videos/CartPole-v1_quantized_search_35_CartPole-v1/7326/CartPole-v1_quantized_search_35_CartPole-v1-episode-109.mp4\n",
      "score:  10.0\n",
      "score:  10.0\n",
      "score:  9.0\n",
      "score:  9.0\n",
      "score:  10.0\n",
      "Moviepy - Building video checkpoints/CartPole-v1_quantized_search_35_CartPole-v1/step_7659/videos/CartPole-v1_quantized_search_35_CartPole-v1/7659/CartPole-v1_quantized_search_35_CartPole-v1-episode-114.mp4.\n",
      "Moviepy - Writing video checkpoints/CartPole-v1_quantized_search_35_CartPole-v1/step_7659/videos/CartPole-v1_quantized_search_35_CartPole-v1/7659/CartPole-v1_quantized_search_35_CartPole-v1-episode-114.mp4\n",
      "\n"
     ]
    },
    {
     "name": "stderr",
     "output_type": "stream",
     "text": [
      "/Users/jonathanlamontange-kratz/Documents/GitHub/rl-stuff/packages/utils/utils/utils.py:257: UserWarning: No artists with labels found to put in legend.  Note that artists whose label start with an underscore are ignored when legend() is called with no argument.\n",
      "  axs[row][col].legend()\n"
     ]
    },
    {
     "name": "stdout",
     "output_type": "stream",
     "text": [
      "Moviepy - Done !\n",
      "Moviepy - video ready checkpoints/CartPole-v1_quantized_search_35_CartPole-v1/step_7659/videos/CartPole-v1_quantized_search_35_CartPole-v1/7659/CartPole-v1_quantized_search_35_CartPole-v1-episode-114.mp4\n",
      "score:  9.0\n",
      "score:  11.0\n",
      "score:  9.0\n",
      "score:  8.0\n",
      "score:  10.0\n",
      "Moviepy - Building video checkpoints/CartPole-v1_quantized_search_35_CartPole-v1/step_7992/videos/CartPole-v1_quantized_search_35_CartPole-v1/7992/CartPole-v1_quantized_search_35_CartPole-v1-episode-119.mp4.\n",
      "Moviepy - Writing video checkpoints/CartPole-v1_quantized_search_35_CartPole-v1/step_7992/videos/CartPole-v1_quantized_search_35_CartPole-v1/7992/CartPole-v1_quantized_search_35_CartPole-v1-episode-119.mp4\n",
      "\n"
     ]
    },
    {
     "name": "stderr",
     "output_type": "stream",
     "text": [
      "/Users/jonathanlamontange-kratz/Documents/GitHub/rl-stuff/packages/utils/utils/utils.py:257: UserWarning: No artists with labels found to put in legend.  Note that artists whose label start with an underscore are ignored when legend() is called with no argument.\n",
      "  axs[row][col].legend()\n"
     ]
    },
    {
     "name": "stdout",
     "output_type": "stream",
     "text": [
      "Moviepy - Done !\n",
      "Moviepy - video ready checkpoints/CartPole-v1_quantized_search_35_CartPole-v1/step_7992/videos/CartPole-v1_quantized_search_35_CartPole-v1/7992/CartPole-v1_quantized_search_35_CartPole-v1-episode-119.mp4\n",
      "score:  9.0\n",
      "score:  10.0\n",
      "score:  10.0\n",
      "score:  11.0\n",
      "score:  9.0\n",
      "Moviepy - Building video checkpoints/CartPole-v1_quantized_search_35_CartPole-v1/step_8325/videos/CartPole-v1_quantized_search_35_CartPole-v1/8325/CartPole-v1_quantized_search_35_CartPole-v1-episode-124.mp4.\n",
      "Moviepy - Writing video checkpoints/CartPole-v1_quantized_search_35_CartPole-v1/step_8325/videos/CartPole-v1_quantized_search_35_CartPole-v1/8325/CartPole-v1_quantized_search_35_CartPole-v1-episode-124.mp4\n",
      "\n"
     ]
    },
    {
     "name": "stderr",
     "output_type": "stream",
     "text": [
      "/Users/jonathanlamontange-kratz/Documents/GitHub/rl-stuff/packages/utils/utils/utils.py:257: UserWarning: No artists with labels found to put in legend.  Note that artists whose label start with an underscore are ignored when legend() is called with no argument.\n",
      "  axs[row][col].legend()\n"
     ]
    },
    {
     "name": "stdout",
     "output_type": "stream",
     "text": [
      "Moviepy - Done !\n",
      "Moviepy - video ready checkpoints/CartPole-v1_quantized_search_35_CartPole-v1/step_8325/videos/CartPole-v1_quantized_search_35_CartPole-v1/8325/CartPole-v1_quantized_search_35_CartPole-v1-episode-124.mp4\n",
      "score:  10.0\n",
      "score:  10.0\n",
      "score:  10.0\n",
      "score:  9.0\n",
      "score:  10.0\n",
      "Moviepy - Building video checkpoints/CartPole-v1_quantized_search_35_CartPole-v1/step_8658/videos/CartPole-v1_quantized_search_35_CartPole-v1/8658/CartPole-v1_quantized_search_35_CartPole-v1-episode-129.mp4.\n",
      "Moviepy - Writing video checkpoints/CartPole-v1_quantized_search_35_CartPole-v1/step_8658/videos/CartPole-v1_quantized_search_35_CartPole-v1/8658/CartPole-v1_quantized_search_35_CartPole-v1-episode-129.mp4\n",
      "\n"
     ]
    },
    {
     "name": "stderr",
     "output_type": "stream",
     "text": [
      "/Users/jonathanlamontange-kratz/Documents/GitHub/rl-stuff/packages/utils/utils/utils.py:257: UserWarning: No artists with labels found to put in legend.  Note that artists whose label start with an underscore are ignored when legend() is called with no argument.\n",
      "  axs[row][col].legend()\n"
     ]
    },
    {
     "name": "stdout",
     "output_type": "stream",
     "text": [
      "Moviepy - Done !\n",
      "Moviepy - video ready checkpoints/CartPole-v1_quantized_search_35_CartPole-v1/step_8658/videos/CartPole-v1_quantized_search_35_CartPole-v1/8658/CartPole-v1_quantized_search_35_CartPole-v1-episode-129.mp4\n",
      "score:  10.0\n",
      "score:  10.0\n",
      "score:  9.0\n",
      "score:  10.0\n",
      "score:  10.0\n",
      "Moviepy - Building video checkpoints/CartPole-v1_quantized_search_35_CartPole-v1/step_8991/videos/CartPole-v1_quantized_search_35_CartPole-v1/8991/CartPole-v1_quantized_search_35_CartPole-v1-episode-134.mp4.\n",
      "Moviepy - Writing video checkpoints/CartPole-v1_quantized_search_35_CartPole-v1/step_8991/videos/CartPole-v1_quantized_search_35_CartPole-v1/8991/CartPole-v1_quantized_search_35_CartPole-v1-episode-134.mp4\n",
      "\n"
     ]
    },
    {
     "name": "stderr",
     "output_type": "stream",
     "text": [
      "                                                           \r"
     ]
    },
    {
     "name": "stdout",
     "output_type": "stream",
     "text": [
      "Moviepy - Done !\n",
      "Moviepy - video ready checkpoints/CartPole-v1_quantized_search_35_CartPole-v1/step_8991/videos/CartPole-v1_quantized_search_35_CartPole-v1/8991/CartPole-v1_quantized_search_35_CartPole-v1-episode-134.mp4\n",
      "score:  9.0\n"
     ]
    },
    {
     "name": "stderr",
     "output_type": "stream",
     "text": [
      "/Users/jonathanlamontange-kratz/Documents/GitHub/rl-stuff/packages/utils/utils/utils.py:257: UserWarning: No artists with labels found to put in legend.  Note that artists whose label start with an underscore are ignored when legend() is called with no argument.\n",
      "  axs[row][col].legend()\n"
     ]
    },
    {
     "name": "stdout",
     "output_type": "stream",
     "text": [
      "score:  9.0\n",
      "score:  10.0\n",
      "score:  9.0\n",
      "score:  10.0\n",
      "Moviepy - Building video checkpoints/CartPole-v1_quantized_search_35_CartPole-v1/step_9324/videos/CartPole-v1_quantized_search_35_CartPole-v1/9324/CartPole-v1_quantized_search_35_CartPole-v1-episode-139.mp4.\n",
      "Moviepy - Writing video checkpoints/CartPole-v1_quantized_search_35_CartPole-v1/step_9324/videos/CartPole-v1_quantized_search_35_CartPole-v1/9324/CartPole-v1_quantized_search_35_CartPole-v1-episode-139.mp4\n",
      "\n"
     ]
    },
    {
     "name": "stderr",
     "output_type": "stream",
     "text": [
      "/Users/jonathanlamontange-kratz/Documents/GitHub/rl-stuff/packages/utils/utils/utils.py:257: UserWarning: No artists with labels found to put in legend.  Note that artists whose label start with an underscore are ignored when legend() is called with no argument.\n",
      "  axs[row][col].legend()\n"
     ]
    },
    {
     "name": "stdout",
     "output_type": "stream",
     "text": [
      "Moviepy - Done !\n",
      "Moviepy - video ready checkpoints/CartPole-v1_quantized_search_35_CartPole-v1/step_9324/videos/CartPole-v1_quantized_search_35_CartPole-v1/9324/CartPole-v1_quantized_search_35_CartPole-v1-episode-139.mp4\n",
      "score:  9.0\n",
      "score:  9.0\n",
      "score:  9.0\n",
      "score:  9.0\n",
      "score:  9.0\n",
      "Moviepy - Building video checkpoints/CartPole-v1_quantized_search_35_CartPole-v1/step_9657/videos/CartPole-v1_quantized_search_35_CartPole-v1/9657/CartPole-v1_quantized_search_35_CartPole-v1-episode-144.mp4.\n",
      "Moviepy - Writing video checkpoints/CartPole-v1_quantized_search_35_CartPole-v1/step_9657/videos/CartPole-v1_quantized_search_35_CartPole-v1/9657/CartPole-v1_quantized_search_35_CartPole-v1-episode-144.mp4\n",
      "\n"
     ]
    },
    {
     "name": "stderr",
     "output_type": "stream",
     "text": [
      "/Users/jonathanlamontange-kratz/Documents/GitHub/rl-stuff/packages/utils/utils/utils.py:257: UserWarning: No artists with labels found to put in legend.  Note that artists whose label start with an underscore are ignored when legend() is called with no argument.\n",
      "  axs[row][col].legend()\n"
     ]
    },
    {
     "name": "stdout",
     "output_type": "stream",
     "text": [
      "Moviepy - Done !\n",
      "Moviepy - video ready checkpoints/CartPole-v1_quantized_search_35_CartPole-v1/step_9657/videos/CartPole-v1_quantized_search_35_CartPole-v1/9657/CartPole-v1_quantized_search_35_CartPole-v1-episode-144.mp4\n",
      "score:  10.0\n",
      "score:  9.0\n",
      "score:  9.0\n",
      "score:  9.0\n",
      "score:  9.0\n",
      "Moviepy - Building video checkpoints/CartPole-v1_quantized_search_35_CartPole-v1/step_9990/videos/CartPole-v1_quantized_search_35_CartPole-v1/9990/CartPole-v1_quantized_search_35_CartPole-v1-episode-149.mp4.\n",
      "Moviepy - Writing video checkpoints/CartPole-v1_quantized_search_35_CartPole-v1/step_9990/videos/CartPole-v1_quantized_search_35_CartPole-v1/9990/CartPole-v1_quantized_search_35_CartPole-v1-episode-149.mp4\n",
      "\n"
     ]
    },
    {
     "name": "stderr",
     "output_type": "stream",
     "text": [
      "                                                          "
     ]
    },
    {
     "name": "stdout",
     "output_type": "stream",
     "text": [
      "Moviepy - Done !"
     ]
    },
    {
     "name": "stderr",
     "output_type": "stream",
     "text": [
      "/Users/jonathanlamontange-kratz/Documents/GitHub/rl-stuff/packages/utils/utils/utils.py:257: UserWarning: No artists with labels found to put in legend.  Note that artists whose label start with an underscore are ignored when legend() is called with no argument.\n",
      "  axs[row][col].legend()\n"
     ]
    },
    {
     "name": "stdout",
     "output_type": "stream",
     "text": [
      "\n",
      "Moviepy - video ready checkpoints/CartPole-v1_quantized_search_35_CartPole-v1/step_9990/videos/CartPole-v1_quantized_search_35_CartPole-v1/9990/CartPole-v1_quantized_search_35_CartPole-v1-episode-149.mp4\n",
      "score:  8.0\n",
      "score:  9.0\n",
      "score:  9.0\n",
      "score:  9.0\n",
      "score:  10.0\n",
      "Moviepy - Building video checkpoints/CartPole-v1_quantized_search_35_CartPole-v1/step_9999/videos/CartPole-v1_quantized_search_35_CartPole-v1/9999/CartPole-v1_quantized_search_35_CartPole-v1-episode-154.mp4.\n",
      "Moviepy - Writing video checkpoints/CartPole-v1_quantized_search_35_CartPole-v1/step_9999/videos/CartPole-v1_quantized_search_35_CartPole-v1/9999/CartPole-v1_quantized_search_35_CartPole-v1-episode-154.mp4\n",
      "\n"
     ]
    },
    {
     "name": "stderr",
     "output_type": "stream",
     "text": [
      "                                                   "
     ]
    },
    {
     "name": "stdout",
     "output_type": "stream",
     "text": [
      "Moviepy - Done !\n",
      "Moviepy - video ready checkpoints/CartPole-v1_quantized_search_35_CartPole-v1/step_9999/videos/CartPole-v1_quantized_search_35_CartPole-v1/9999/CartPole-v1_quantized_search_35_CartPole-v1-episode-154.mp4\n",
      "score:  10.0\n"
     ]
    },
    {
     "name": "stderr",
     "output_type": "stream",
     "text": [
      "/Users/jonathanlamontange-kratz/Documents/GitHub/rl-stuff/packages/utils/utils/utils.py:257: UserWarning: No artists with labels found to put in legend.  Note that artists whose label start with an underscore are ignored when legend() is called with no argument.\n",
      "  axs[row][col].legend()\n"
     ]
    },
    {
     "name": "stdout",
     "output_type": "stream",
     "text": [
      "Training complete\n",
      "score:  10.0\n",
      "score:  10.0\n",
      "score:  8.0\n",
      "score:  9.0\n",
      "Moviepy - Building video ./checkpoints//videos/CartPole-v1_quantized_search_35_CartPole-v1/5000/CartPole-v1_quantized_search_35_CartPole-v1-episode-159.mp4.\n",
      "Moviepy - Writing video ./checkpoints//videos/CartPole-v1_quantized_search_35_CartPole-v1/5000/CartPole-v1_quantized_search_35_CartPole-v1-episode-159.mp4\n",
      "\n"
     ]
    },
    {
     "name": "stderr",
     "output_type": "stream",
     "text": [
      "                                                   "
     ]
    },
    {
     "name": "stdout",
     "output_type": "stream",
     "text": [
      "Moviepy - Done !\n",
      "Moviepy - video ready ./checkpoints//videos/CartPole-v1_quantized_search_35_CartPole-v1/5000/CartPole-v1_quantized_search_35_CartPole-v1-episode-159.mp4\n",
      "score:  9.0\n",
      "score:  8.0\n",
      "score:  10.0\n",
      "score:  8.0\n",
      "score:  9.0\n",
      "score:  8.0\n",
      "parallel programs done\n"
     ]
    },
    {
     "name": "stderr",
     "output_type": "stream",
     "text": [
      "\r"
     ]
    },
    {
     "name": "stdout",
     "output_type": "stream",
     "text": [
      "Params:  {'adam_epsilon': 0.0009375, 'advantage_hidden_layers_widths': (128, 128, 128, 128), 'atom_size': 51, 'clipnorm': 0.2, 'conv_layers': (), 'dense_layers_widths': (64, 64, 256, 512), 'discount_factor': 0.935, 'kernel_initializer': 'glorot_normal', 'learning_rate': 0.04499, 'loss_function': <utils.utils.KLDivergence object at 0x288bc7740>, 'min_replay_buffer_size': 1625, 'minibatch_size': 112, 'n_step': 9, 'per_alpha': 0.45, 'per_beta': 0.2, 'per_epsilon': 0.08988, 'replay_buffer_size': 7000, 'replay_interval': 7, 'training_steps': 10000, 'transfer_interval': 10, 'value_hidden_layers_widths': (32, 32, 64)}\n",
      "Making environments\n",
      "CartPole-v1_quantized_search\n",
      "Using default save_intermediate_weights     : True\n",
      "Using         training_steps                : 10000\n",
      "Using         adam_epsilon                  : 0.0009375\n",
      "Using         learning_rate                 : 0.04499\n",
      "Using         clipnorm                      : 0.2\n",
      "Using default optimizer                     : <class 'torch.optim.adam.Adam'>\n",
      "Using         loss_function                 : <utils.utils.KLDivergence object at 0x288bc7740>\n",
      "Using default activation                    : relu\n",
      "Using         kernel_initializer            : glorot_normal\n",
      "Using         minibatch_size                : 112\n",
      "Using         replay_buffer_size            : 7000\n",
      "Using         min_replay_buffer_size        : 1625\n",
      "Using default num_minibatches               : 1\n",
      "Using default training_iterations           : 1\n",
      "Using         conv_layers                   : ()\n",
      "Using         dense_layers_widths           : (64, 64, 256, 512)\n",
      "Using         value_hidden_layers_widths    : (32, 32, 64)\n",
      "Using         advantage_hidden_layers_widths: (128, 128, 128, 128)\n",
      "Using default noisy_sigma                   : 0.5\n",
      "Using default deuling                       : True\n",
      "Using         discount_factor               : 0.935\n",
      "Using default soft_update                   : False\n",
      "Using         transfer_interval             : 10\n",
      "Using default ema_beta                      : 0.99\n",
      "Using         replay_interval               : 7\n",
      "Using         per_alpha                     : 0.45\n",
      "Using         per_beta                      : 0.2\n",
      "Using         per_epsilon                   : 0.08988\n",
      "Using         n_step                        : 9\n",
      "Using         atom_size                     : 51\n",
      "observation_dimensions:  (4,)\n",
      "num_actions:  2\n"
     ]
    },
    {
     "name": "stderr",
     "output_type": "stream",
     "text": [
      "/Library/Frameworks/Python.framework/Versions/3.12/lib/python3.12/site-packages/gymnasium/wrappers/record_video.py:94: UserWarning: \u001b[33mWARN: Overwriting existing videos at /Users/jonathanlamontange-kratz/Documents/GitHub/rl-stuff/experiments/rainbow_and_ape-x folder (try specifying a different `video_folder` for the `RecordVideo` wrapper if this is not desired)\u001b[0m\n",
      "  logger.warn(\n"
     ]
    },
    {
     "name": "stdout",
     "output_type": "stream",
     "text": [
      "score:  10.0\n",
      "score:  10.0\n",
      "score:  8.0\n",
      "score:  10.0\n",
      "Moviepy - Building video checkpoints/CartPole-v1_quantized_search_36_CartPole-v1/step_333/videos/CartPole-v1_quantized_search_36_CartPole-v1/333/CartPole-v1_quantized_search_36_CartPole-v1-episode-4.mp4.\n",
      "Moviepy - Writing video checkpoints/CartPole-v1_quantized_search_36_CartPole-v1/step_333/videos/CartPole-v1_quantized_search_36_CartPole-v1/333/CartPole-v1_quantized_search_36_CartPole-v1-episode-4.mp4\n",
      "\n"
     ]
    },
    {
     "name": "stderr",
     "output_type": "stream",
     "text": [
      "/Users/jonathanlamontange-kratz/Documents/GitHub/rl-stuff/packages/utils/utils/utils.py:257: UserWarning: No artists with labels found to put in legend.  Note that artists whose label start with an underscore are ignored when legend() is called with no argument.\n",
      "  axs[row][col].legend()\n",
      "/Users/jonathanlamontange-kratz/Documents/GitHub/rl-stuff/packages/utils/utils/utils.py:187: UserWarning: Attempting to set identical low and high xlims makes transformation singular; automatically expanding.\n",
      "  axs[row][col].set_xlim(1, len(values))\n"
     ]
    },
    {
     "name": "stdout",
     "output_type": "stream",
     "text": [
      "Moviepy - Done !\n",
      "Moviepy - video ready checkpoints/CartPole-v1_quantized_search_36_CartPole-v1/step_333/videos/CartPole-v1_quantized_search_36_CartPole-v1/333/CartPole-v1_quantized_search_36_CartPole-v1-episode-4.mp4\n",
      "score:  9.0\n",
      "score:  10.0\n",
      "score:  9.0\n",
      "score:  9.0\n",
      "score:  10.0\n",
      "Moviepy - Building video checkpoints/CartPole-v1_quantized_search_36_CartPole-v1/step_666/videos/CartPole-v1_quantized_search_36_CartPole-v1/666/CartPole-v1_quantized_search_36_CartPole-v1-episode-9.mp4.\n",
      "Moviepy - Writing video checkpoints/CartPole-v1_quantized_search_36_CartPole-v1/step_666/videos/CartPole-v1_quantized_search_36_CartPole-v1/666/CartPole-v1_quantized_search_36_CartPole-v1-episode-9.mp4\n",
      "\n"
     ]
    },
    {
     "name": "stderr",
     "output_type": "stream",
     "text": [
      "/Users/jonathanlamontange-kratz/Documents/GitHub/rl-stuff/packages/utils/utils/utils.py:257: UserWarning: No artists with labels found to put in legend.  Note that artists whose label start with an underscore are ignored when legend() is called with no argument.\n",
      "  axs[row][col].legend()\n"
     ]
    },
    {
     "name": "stdout",
     "output_type": "stream",
     "text": [
      "Moviepy - Done !\n",
      "Moviepy - video ready checkpoints/CartPole-v1_quantized_search_36_CartPole-v1/step_666/videos/CartPole-v1_quantized_search_36_CartPole-v1/666/CartPole-v1_quantized_search_36_CartPole-v1-episode-9.mp4\n",
      "score:  9.0\n",
      "score:  10.0\n",
      "score:  9.0\n",
      "score:  9.0\n",
      "score:  9.0\n",
      "Moviepy - Building video checkpoints/CartPole-v1_quantized_search_36_CartPole-v1/step_999/videos/CartPole-v1_quantized_search_36_CartPole-v1/999/CartPole-v1_quantized_search_36_CartPole-v1-episode-14.mp4.\n",
      "Moviepy - Writing video checkpoints/CartPole-v1_quantized_search_36_CartPole-v1/step_999/videos/CartPole-v1_quantized_search_36_CartPole-v1/999/CartPole-v1_quantized_search_36_CartPole-v1-episode-14.mp4\n",
      "\n"
     ]
    },
    {
     "name": "stderr",
     "output_type": "stream",
     "text": [
      "/Users/jonathanlamontange-kratz/Documents/GitHub/rl-stuff/packages/utils/utils/utils.py:257: UserWarning: No artists with labels found to put in legend.  Note that artists whose label start with an underscore are ignored when legend() is called with no argument.\n",
      "  axs[row][col].legend()\n"
     ]
    },
    {
     "name": "stdout",
     "output_type": "stream",
     "text": [
      "Moviepy - Done !\n",
      "Moviepy - video ready checkpoints/CartPole-v1_quantized_search_36_CartPole-v1/step_999/videos/CartPole-v1_quantized_search_36_CartPole-v1/999/CartPole-v1_quantized_search_36_CartPole-v1-episode-14.mp4\n",
      "score:  9.0\n",
      "score:  9.0\n",
      "score:  8.0\n",
      "score:  10.0\n",
      "score:  9.0\n",
      "Moviepy - Building video checkpoints/CartPole-v1_quantized_search_36_CartPole-v1/step_1332/videos/CartPole-v1_quantized_search_36_CartPole-v1/1332/CartPole-v1_quantized_search_36_CartPole-v1-episode-19.mp4.\n",
      "Moviepy - Writing video checkpoints/CartPole-v1_quantized_search_36_CartPole-v1/step_1332/videos/CartPole-v1_quantized_search_36_CartPole-v1/1332/CartPole-v1_quantized_search_36_CartPole-v1-episode-19.mp4\n",
      "\n"
     ]
    },
    {
     "name": "stderr",
     "output_type": "stream",
     "text": [
      "/Users/jonathanlamontange-kratz/Documents/GitHub/rl-stuff/packages/utils/utils/utils.py:257: UserWarning: No artists with labels found to put in legend.  Note that artists whose label start with an underscore are ignored when legend() is called with no argument.\n",
      "  axs[row][col].legend()\n"
     ]
    },
    {
     "name": "stdout",
     "output_type": "stream",
     "text": [
      "Moviepy - Done !\n",
      "Moviepy - video ready checkpoints/CartPole-v1_quantized_search_36_CartPole-v1/step_1332/videos/CartPole-v1_quantized_search_36_CartPole-v1/1332/CartPole-v1_quantized_search_36_CartPole-v1-episode-19.mp4\n",
      "score:  10.0\n",
      "score:  9.0\n",
      "score:  9.0\n",
      "score:  10.0\n",
      "score:  10.0\n",
      "Moviepy - Building video checkpoints/CartPole-v1_quantized_search_36_CartPole-v1/step_1665/videos/CartPole-v1_quantized_search_36_CartPole-v1/1665/CartPole-v1_quantized_search_36_CartPole-v1-episode-24.mp4.\n",
      "Moviepy - Writing video checkpoints/CartPole-v1_quantized_search_36_CartPole-v1/step_1665/videos/CartPole-v1_quantized_search_36_CartPole-v1/1665/CartPole-v1_quantized_search_36_CartPole-v1-episode-24.mp4\n",
      "\n"
     ]
    },
    {
     "name": "stderr",
     "output_type": "stream",
     "text": [
      "                                                           \r"
     ]
    },
    {
     "name": "stdout",
     "output_type": "stream",
     "text": [
      "Moviepy - Done !\n",
      "Moviepy - video ready checkpoints/CartPole-v1_quantized_search_36_CartPole-v1/step_1665/videos/CartPole-v1_quantized_search_36_CartPole-v1/1665/CartPole-v1_quantized_search_36_CartPole-v1-episode-24.mp4\n",
      "score:  9.0\n"
     ]
    },
    {
     "name": "stderr",
     "output_type": "stream",
     "text": [
      "/Users/jonathanlamontange-kratz/Documents/GitHub/rl-stuff/packages/utils/utils/utils.py:257: UserWarning: No artists with labels found to put in legend.  Note that artists whose label start with an underscore are ignored when legend() is called with no argument.\n",
      "  axs[row][col].legend()\n"
     ]
    },
    {
     "name": "stdout",
     "output_type": "stream",
     "text": [
      "score:  9.0\n",
      "score:  10.0\n",
      "score:  9.0\n",
      "score:  8.0\n",
      "Moviepy - Building video checkpoints/CartPole-v1_quantized_search_36_CartPole-v1/step_1998/videos/CartPole-v1_quantized_search_36_CartPole-v1/1998/CartPole-v1_quantized_search_36_CartPole-v1-episode-29.mp4.\n",
      "Moviepy - Writing video checkpoints/CartPole-v1_quantized_search_36_CartPole-v1/step_1998/videos/CartPole-v1_quantized_search_36_CartPole-v1/1998/CartPole-v1_quantized_search_36_CartPole-v1-episode-29.mp4\n",
      "\n"
     ]
    },
    {
     "name": "stderr",
     "output_type": "stream",
     "text": [
      "                                                           \r"
     ]
    },
    {
     "name": "stdout",
     "output_type": "stream",
     "text": [
      "Moviepy - Done !\n",
      "Moviepy - video ready checkpoints/CartPole-v1_quantized_search_36_CartPole-v1/step_1998/videos/CartPole-v1_quantized_search_36_CartPole-v1/1998/CartPole-v1_quantized_search_36_CartPole-v1-episode-29.mp4\n",
      "score:  9.0\n"
     ]
    },
    {
     "name": "stderr",
     "output_type": "stream",
     "text": [
      "/Users/jonathanlamontange-kratz/Documents/GitHub/rl-stuff/packages/utils/utils/utils.py:257: UserWarning: No artists with labels found to put in legend.  Note that artists whose label start with an underscore are ignored when legend() is called with no argument.\n",
      "  axs[row][col].legend()\n"
     ]
    },
    {
     "name": "stdout",
     "output_type": "stream",
     "text": [
      "score:  9.0\n",
      "score:  9.0\n",
      "score:  9.0\n",
      "score:  10.0\n",
      "Moviepy - Building video checkpoints/CartPole-v1_quantized_search_36_CartPole-v1/step_2331/videos/CartPole-v1_quantized_search_36_CartPole-v1/2331/CartPole-v1_quantized_search_36_CartPole-v1-episode-34.mp4.\n",
      "Moviepy - Writing video checkpoints/CartPole-v1_quantized_search_36_CartPole-v1/step_2331/videos/CartPole-v1_quantized_search_36_CartPole-v1/2331/CartPole-v1_quantized_search_36_CartPole-v1-episode-34.mp4\n",
      "\n"
     ]
    },
    {
     "name": "stderr",
     "output_type": "stream",
     "text": [
      "                                                           \r"
     ]
    },
    {
     "name": "stdout",
     "output_type": "stream",
     "text": [
      "Moviepy - Done !\n",
      "Moviepy - video ready checkpoints/CartPole-v1_quantized_search_36_CartPole-v1/step_2331/videos/CartPole-v1_quantized_search_36_CartPole-v1/2331/CartPole-v1_quantized_search_36_CartPole-v1-episode-34.mp4\n",
      "score:  10.0\n"
     ]
    },
    {
     "name": "stderr",
     "output_type": "stream",
     "text": [
      "/Users/jonathanlamontange-kratz/Documents/GitHub/rl-stuff/packages/utils/utils/utils.py:257: UserWarning: No artists with labels found to put in legend.  Note that artists whose label start with an underscore are ignored when legend() is called with no argument.\n",
      "  axs[row][col].legend()\n"
     ]
    },
    {
     "name": "stdout",
     "output_type": "stream",
     "text": [
      "score:  9.0\n",
      "score:  11.0\n",
      "score:  10.0\n",
      "score:  9.0\n",
      "Moviepy - Building video checkpoints/CartPole-v1_quantized_search_36_CartPole-v1/step_2664/videos/CartPole-v1_quantized_search_36_CartPole-v1/2664/CartPole-v1_quantized_search_36_CartPole-v1-episode-39.mp4.\n",
      "Moviepy - Writing video checkpoints/CartPole-v1_quantized_search_36_CartPole-v1/step_2664/videos/CartPole-v1_quantized_search_36_CartPole-v1/2664/CartPole-v1_quantized_search_36_CartPole-v1-episode-39.mp4\n",
      "\n"
     ]
    },
    {
     "name": "stderr",
     "output_type": "stream",
     "text": [
      "                                                           \r"
     ]
    },
    {
     "name": "stdout",
     "output_type": "stream",
     "text": [
      "Moviepy - Done !\n",
      "Moviepy - video ready checkpoints/CartPole-v1_quantized_search_36_CartPole-v1/step_2664/videos/CartPole-v1_quantized_search_36_CartPole-v1/2664/CartPole-v1_quantized_search_36_CartPole-v1-episode-39.mp4\n",
      "score:  9.0\n"
     ]
    },
    {
     "name": "stderr",
     "output_type": "stream",
     "text": [
      "/Users/jonathanlamontange-kratz/Documents/GitHub/rl-stuff/packages/utils/utils/utils.py:257: UserWarning: No artists with labels found to put in legend.  Note that artists whose label start with an underscore are ignored when legend() is called with no argument.\n",
      "  axs[row][col].legend()\n"
     ]
    },
    {
     "name": "stdout",
     "output_type": "stream",
     "text": [
      "score:  10.0\n",
      "score:  10.0\n",
      "score:  10.0\n",
      "score:  9.0\n",
      "Moviepy - Building video checkpoints/CartPole-v1_quantized_search_36_CartPole-v1/step_2997/videos/CartPole-v1_quantized_search_36_CartPole-v1/2997/CartPole-v1_quantized_search_36_CartPole-v1-episode-44.mp4.\n",
      "Moviepy - Writing video checkpoints/CartPole-v1_quantized_search_36_CartPole-v1/step_2997/videos/CartPole-v1_quantized_search_36_CartPole-v1/2997/CartPole-v1_quantized_search_36_CartPole-v1-episode-44.mp4\n",
      "\n"
     ]
    },
    {
     "name": "stderr",
     "output_type": "stream",
     "text": [
      "/Users/jonathanlamontange-kratz/Documents/GitHub/rl-stuff/packages/utils/utils/utils.py:257: UserWarning: No artists with labels found to put in legend.  Note that artists whose label start with an underscore are ignored when legend() is called with no argument.\n",
      "  axs[row][col].legend()\n"
     ]
    },
    {
     "name": "stdout",
     "output_type": "stream",
     "text": [
      "Moviepy - Done !\n",
      "Moviepy - video ready checkpoints/CartPole-v1_quantized_search_36_CartPole-v1/step_2997/videos/CartPole-v1_quantized_search_36_CartPole-v1/2997/CartPole-v1_quantized_search_36_CartPole-v1-episode-44.mp4\n",
      "score:  9.0\n",
      "score:  9.0\n",
      "score:  9.0\n",
      "score:  10.0\n",
      "score:  10.0\n",
      "Moviepy - Building video checkpoints/CartPole-v1_quantized_search_36_CartPole-v1/step_3330/videos/CartPole-v1_quantized_search_36_CartPole-v1/3330/CartPole-v1_quantized_search_36_CartPole-v1-episode-49.mp4.\n",
      "Moviepy - Writing video checkpoints/CartPole-v1_quantized_search_36_CartPole-v1/step_3330/videos/CartPole-v1_quantized_search_36_CartPole-v1/3330/CartPole-v1_quantized_search_36_CartPole-v1-episode-49.mp4\n",
      "\n"
     ]
    },
    {
     "name": "stderr",
     "output_type": "stream",
     "text": [
      "                                                           \r"
     ]
    },
    {
     "name": "stdout",
     "output_type": "stream",
     "text": [
      "Moviepy - Done !\n",
      "Moviepy - video ready checkpoints/CartPole-v1_quantized_search_36_CartPole-v1/step_3330/videos/CartPole-v1_quantized_search_36_CartPole-v1/3330/CartPole-v1_quantized_search_36_CartPole-v1-episode-49.mp4\n",
      "score:  9.0\n"
     ]
    },
    {
     "name": "stderr",
     "output_type": "stream",
     "text": [
      "/Users/jonathanlamontange-kratz/Documents/GitHub/rl-stuff/packages/utils/utils/utils.py:257: UserWarning: No artists with labels found to put in legend.  Note that artists whose label start with an underscore are ignored when legend() is called with no argument.\n",
      "  axs[row][col].legend()\n"
     ]
    },
    {
     "name": "stdout",
     "output_type": "stream",
     "text": [
      "score:  10.0\n",
      "score:  10.0\n",
      "score:  9.0\n",
      "score:  9.0\n",
      "Moviepy - Building video checkpoints/CartPole-v1_quantized_search_36_CartPole-v1/step_3663/videos/CartPole-v1_quantized_search_36_CartPole-v1/3663/CartPole-v1_quantized_search_36_CartPole-v1-episode-54.mp4.\n",
      "Moviepy - Writing video checkpoints/CartPole-v1_quantized_search_36_CartPole-v1/step_3663/videos/CartPole-v1_quantized_search_36_CartPole-v1/3663/CartPole-v1_quantized_search_36_CartPole-v1-episode-54.mp4\n",
      "\n"
     ]
    },
    {
     "name": "stderr",
     "output_type": "stream",
     "text": [
      "                                                           \r"
     ]
    },
    {
     "name": "stdout",
     "output_type": "stream",
     "text": [
      "Moviepy - Done !\n",
      "Moviepy - video ready checkpoints/CartPole-v1_quantized_search_36_CartPole-v1/step_3663/videos/CartPole-v1_quantized_search_36_CartPole-v1/3663/CartPole-v1_quantized_search_36_CartPole-v1-episode-54.mp4\n",
      "score:  9.0\n"
     ]
    },
    {
     "name": "stderr",
     "output_type": "stream",
     "text": [
      "/Users/jonathanlamontange-kratz/Documents/GitHub/rl-stuff/packages/utils/utils/utils.py:257: UserWarning: No artists with labels found to put in legend.  Note that artists whose label start with an underscore are ignored when legend() is called with no argument.\n",
      "  axs[row][col].legend()\n"
     ]
    },
    {
     "name": "stdout",
     "output_type": "stream",
     "text": [
      "score:  10.0\n",
      "score:  10.0\n",
      "score:  8.0\n",
      "score:  10.0\n",
      "Moviepy - Building video checkpoints/CartPole-v1_quantized_search_36_CartPole-v1/step_3996/videos/CartPole-v1_quantized_search_36_CartPole-v1/3996/CartPole-v1_quantized_search_36_CartPole-v1-episode-59.mp4.\n",
      "Moviepy - Writing video checkpoints/CartPole-v1_quantized_search_36_CartPole-v1/step_3996/videos/CartPole-v1_quantized_search_36_CartPole-v1/3996/CartPole-v1_quantized_search_36_CartPole-v1-episode-59.mp4\n",
      "\n"
     ]
    },
    {
     "name": "stderr",
     "output_type": "stream",
     "text": [
      "/Users/jonathanlamontange-kratz/Documents/GitHub/rl-stuff/packages/utils/utils/utils.py:257: UserWarning: No artists with labels found to put in legend.  Note that artists whose label start with an underscore are ignored when legend() is called with no argument.\n",
      "  axs[row][col].legend()\n"
     ]
    },
    {
     "name": "stdout",
     "output_type": "stream",
     "text": [
      "Moviepy - Done !\n",
      "Moviepy - video ready checkpoints/CartPole-v1_quantized_search_36_CartPole-v1/step_3996/videos/CartPole-v1_quantized_search_36_CartPole-v1/3996/CartPole-v1_quantized_search_36_CartPole-v1-episode-59.mp4\n",
      "score:  10.0\n",
      "score:  9.0\n",
      "score:  9.0\n",
      "score:  8.0\n",
      "score:  9.0\n",
      "Moviepy - Building video checkpoints/CartPole-v1_quantized_search_36_CartPole-v1/step_4329/videos/CartPole-v1_quantized_search_36_CartPole-v1/4329/CartPole-v1_quantized_search_36_CartPole-v1-episode-64.mp4.\n",
      "Moviepy - Writing video checkpoints/CartPole-v1_quantized_search_36_CartPole-v1/step_4329/videos/CartPole-v1_quantized_search_36_CartPole-v1/4329/CartPole-v1_quantized_search_36_CartPole-v1-episode-64.mp4\n",
      "\n"
     ]
    },
    {
     "name": "stderr",
     "output_type": "stream",
     "text": [
      "                                                          \r"
     ]
    },
    {
     "name": "stdout",
     "output_type": "stream",
     "text": [
      "Moviepy - Done !\n",
      "Moviepy - video ready checkpoints/CartPole-v1_quantized_search_36_CartPole-v1/step_4329/videos/CartPole-v1_quantized_search_36_CartPole-v1/4329/CartPole-v1_quantized_search_36_CartPole-v1-episode-64.mp4\n",
      "score:  8.0\n"
     ]
    },
    {
     "name": "stderr",
     "output_type": "stream",
     "text": [
      "/Users/jonathanlamontange-kratz/Documents/GitHub/rl-stuff/packages/utils/utils/utils.py:257: UserWarning: No artists with labels found to put in legend.  Note that artists whose label start with an underscore are ignored when legend() is called with no argument.\n",
      "  axs[row][col].legend()\n"
     ]
    },
    {
     "name": "stdout",
     "output_type": "stream",
     "text": [
      "score:  8.0\n",
      "score:  10.0\n",
      "score:  10.0\n",
      "score:  9.0\n",
      "Moviepy - Building video checkpoints/CartPole-v1_quantized_search_36_CartPole-v1/step_4662/videos/CartPole-v1_quantized_search_36_CartPole-v1/4662/CartPole-v1_quantized_search_36_CartPole-v1-episode-69.mp4.\n",
      "Moviepy - Writing video checkpoints/CartPole-v1_quantized_search_36_CartPole-v1/step_4662/videos/CartPole-v1_quantized_search_36_CartPole-v1/4662/CartPole-v1_quantized_search_36_CartPole-v1-episode-69.mp4\n",
      "\n"
     ]
    },
    {
     "name": "stderr",
     "output_type": "stream",
     "text": [
      "                                                          \r"
     ]
    },
    {
     "name": "stdout",
     "output_type": "stream",
     "text": [
      "Moviepy - Done !\n",
      "Moviepy - video ready checkpoints/CartPole-v1_quantized_search_36_CartPole-v1/step_4662/videos/CartPole-v1_quantized_search_36_CartPole-v1/4662/CartPole-v1_quantized_search_36_CartPole-v1-episode-69.mp4\n",
      "score:  8.0\n"
     ]
    },
    {
     "name": "stderr",
     "output_type": "stream",
     "text": [
      "/Users/jonathanlamontange-kratz/Documents/GitHub/rl-stuff/packages/utils/utils/utils.py:257: UserWarning: No artists with labels found to put in legend.  Note that artists whose label start with an underscore are ignored when legend() is called with no argument.\n",
      "  axs[row][col].legend()\n"
     ]
    },
    {
     "name": "stdout",
     "output_type": "stream",
     "text": [
      "score:  9.0\n",
      "score:  9.0\n",
      "score:  9.0\n",
      "score:  9.0\n",
      "Moviepy - Building video checkpoints/CartPole-v1_quantized_search_36_CartPole-v1/step_4995/videos/CartPole-v1_quantized_search_36_CartPole-v1/4995/CartPole-v1_quantized_search_36_CartPole-v1-episode-74.mp4.\n",
      "Moviepy - Writing video checkpoints/CartPole-v1_quantized_search_36_CartPole-v1/step_4995/videos/CartPole-v1_quantized_search_36_CartPole-v1/4995/CartPole-v1_quantized_search_36_CartPole-v1-episode-74.mp4\n",
      "\n"
     ]
    },
    {
     "name": "stderr",
     "output_type": "stream",
     "text": [
      "                                                           \r"
     ]
    },
    {
     "name": "stdout",
     "output_type": "stream",
     "text": [
      "Moviepy - Done !\n",
      "Moviepy - video ready checkpoints/CartPole-v1_quantized_search_36_CartPole-v1/step_4995/videos/CartPole-v1_quantized_search_36_CartPole-v1/4995/CartPole-v1_quantized_search_36_CartPole-v1-episode-74.mp4\n",
      "score:  9.0\n"
     ]
    },
    {
     "name": "stderr",
     "output_type": "stream",
     "text": [
      "/Users/jonathanlamontange-kratz/Documents/GitHub/rl-stuff/packages/utils/utils/utils.py:257: UserWarning: No artists with labels found to put in legend.  Note that artists whose label start with an underscore are ignored when legend() is called with no argument.\n",
      "  axs[row][col].legend()\n"
     ]
    },
    {
     "name": "stdout",
     "output_type": "stream",
     "text": [
      "score:  8.0\n",
      "score:  10.0\n",
      "score:  9.0\n",
      "score:  10.0\n",
      "Moviepy - Building video checkpoints/CartPole-v1_quantized_search_36_CartPole-v1/step_5328/videos/CartPole-v1_quantized_search_36_CartPole-v1/5328/CartPole-v1_quantized_search_36_CartPole-v1-episode-79.mp4.\n",
      "Moviepy - Writing video checkpoints/CartPole-v1_quantized_search_36_CartPole-v1/step_5328/videos/CartPole-v1_quantized_search_36_CartPole-v1/5328/CartPole-v1_quantized_search_36_CartPole-v1-episode-79.mp4\n",
      "\n"
     ]
    },
    {
     "name": "stderr",
     "output_type": "stream",
     "text": [
      "                                                           \r"
     ]
    },
    {
     "name": "stdout",
     "output_type": "stream",
     "text": [
      "Moviepy - Done !\n",
      "Moviepy - video ready checkpoints/CartPole-v1_quantized_search_36_CartPole-v1/step_5328/videos/CartPole-v1_quantized_search_36_CartPole-v1/5328/CartPole-v1_quantized_search_36_CartPole-v1-episode-79.mp4\n",
      "score:  10.0\n"
     ]
    },
    {
     "name": "stderr",
     "output_type": "stream",
     "text": [
      "/Users/jonathanlamontange-kratz/Documents/GitHub/rl-stuff/packages/utils/utils/utils.py:257: UserWarning: No artists with labels found to put in legend.  Note that artists whose label start with an underscore are ignored when legend() is called with no argument.\n",
      "  axs[row][col].legend()\n"
     ]
    },
    {
     "name": "stdout",
     "output_type": "stream",
     "text": [
      "score:  10.0\n",
      "score:  9.0\n",
      "score:  9.0\n",
      "score:  10.0\n",
      "Moviepy - Building video checkpoints/CartPole-v1_quantized_search_36_CartPole-v1/step_5661/videos/CartPole-v1_quantized_search_36_CartPole-v1/5661/CartPole-v1_quantized_search_36_CartPole-v1-episode-84.mp4.\n",
      "Moviepy - Writing video checkpoints/CartPole-v1_quantized_search_36_CartPole-v1/step_5661/videos/CartPole-v1_quantized_search_36_CartPole-v1/5661/CartPole-v1_quantized_search_36_CartPole-v1-episode-84.mp4\n",
      "\n"
     ]
    },
    {
     "name": "stderr",
     "output_type": "stream",
     "text": [
      "                                                           \r"
     ]
    },
    {
     "name": "stdout",
     "output_type": "stream",
     "text": [
      "Moviepy - Done !\n",
      "Moviepy - video ready checkpoints/CartPole-v1_quantized_search_36_CartPole-v1/step_5661/videos/CartPole-v1_quantized_search_36_CartPole-v1/5661/CartPole-v1_quantized_search_36_CartPole-v1-episode-84.mp4\n",
      "score:  10.0\n"
     ]
    },
    {
     "name": "stderr",
     "output_type": "stream",
     "text": [
      "/Users/jonathanlamontange-kratz/Documents/GitHub/rl-stuff/packages/utils/utils/utils.py:257: UserWarning: No artists with labels found to put in legend.  Note that artists whose label start with an underscore are ignored when legend() is called with no argument.\n",
      "  axs[row][col].legend()\n"
     ]
    },
    {
     "name": "stdout",
     "output_type": "stream",
     "text": [
      "score:  10.0\n",
      "score:  10.0\n",
      "score:  9.0\n",
      "score:  10.0\n",
      "Moviepy - Building video checkpoints/CartPole-v1_quantized_search_36_CartPole-v1/step_5994/videos/CartPole-v1_quantized_search_36_CartPole-v1/5994/CartPole-v1_quantized_search_36_CartPole-v1-episode-89.mp4.\n",
      "Moviepy - Writing video checkpoints/CartPole-v1_quantized_search_36_CartPole-v1/step_5994/videos/CartPole-v1_quantized_search_36_CartPole-v1/5994/CartPole-v1_quantized_search_36_CartPole-v1-episode-89.mp4\n",
      "\n"
     ]
    },
    {
     "name": "stderr",
     "output_type": "stream",
     "text": [
      "                                                           \r"
     ]
    },
    {
     "name": "stdout",
     "output_type": "stream",
     "text": [
      "Moviepy - Done !\n",
      "Moviepy - video ready checkpoints/CartPole-v1_quantized_search_36_CartPole-v1/step_5994/videos/CartPole-v1_quantized_search_36_CartPole-v1/5994/CartPole-v1_quantized_search_36_CartPole-v1-episode-89.mp4\n",
      "score:  10.0\n"
     ]
    },
    {
     "name": "stderr",
     "output_type": "stream",
     "text": [
      "/Users/jonathanlamontange-kratz/Documents/GitHub/rl-stuff/packages/utils/utils/utils.py:257: UserWarning: No artists with labels found to put in legend.  Note that artists whose label start with an underscore are ignored when legend() is called with no argument.\n",
      "  axs[row][col].legend()\n"
     ]
    },
    {
     "name": "stdout",
     "output_type": "stream",
     "text": [
      "score:  10.0\n",
      "score:  10.0\n",
      "score:  10.0\n",
      "score:  10.0\n",
      "Moviepy - Building video checkpoints/CartPole-v1_quantized_search_36_CartPole-v1/step_6327/videos/CartPole-v1_quantized_search_36_CartPole-v1/6327/CartPole-v1_quantized_search_36_CartPole-v1-episode-94.mp4.\n",
      "Moviepy - Writing video checkpoints/CartPole-v1_quantized_search_36_CartPole-v1/step_6327/videos/CartPole-v1_quantized_search_36_CartPole-v1/6327/CartPole-v1_quantized_search_36_CartPole-v1-episode-94.mp4\n",
      "\n"
     ]
    },
    {
     "name": "stderr",
     "output_type": "stream",
     "text": [
      "                                                          \r"
     ]
    },
    {
     "name": "stdout",
     "output_type": "stream",
     "text": [
      "Moviepy - Done !\n",
      "Moviepy - video ready checkpoints/CartPole-v1_quantized_search_36_CartPole-v1/step_6327/videos/CartPole-v1_quantized_search_36_CartPole-v1/6327/CartPole-v1_quantized_search_36_CartPole-v1-episode-94.mp4\n",
      "score:  8.0\n"
     ]
    },
    {
     "name": "stderr",
     "output_type": "stream",
     "text": [
      "/Users/jonathanlamontange-kratz/Documents/GitHub/rl-stuff/packages/utils/utils/utils.py:257: UserWarning: No artists with labels found to put in legend.  Note that artists whose label start with an underscore are ignored when legend() is called with no argument.\n",
      "  axs[row][col].legend()\n"
     ]
    },
    {
     "name": "stdout",
     "output_type": "stream",
     "text": [
      "score:  9.0\n",
      "score:  9.0\n",
      "score:  9.0\n",
      "score:  10.0\n",
      "Moviepy - Building video checkpoints/CartPole-v1_quantized_search_36_CartPole-v1/step_6660/videos/CartPole-v1_quantized_search_36_CartPole-v1/6660/CartPole-v1_quantized_search_36_CartPole-v1-episode-99.mp4.\n",
      "Moviepy - Writing video checkpoints/CartPole-v1_quantized_search_36_CartPole-v1/step_6660/videos/CartPole-v1_quantized_search_36_CartPole-v1/6660/CartPole-v1_quantized_search_36_CartPole-v1-episode-99.mp4\n",
      "\n"
     ]
    },
    {
     "name": "stderr",
     "output_type": "stream",
     "text": [
      "                                                           \r"
     ]
    },
    {
     "name": "stdout",
     "output_type": "stream",
     "text": [
      "Moviepy - Done !\n",
      "Moviepy - video ready checkpoints/CartPole-v1_quantized_search_36_CartPole-v1/step_6660/videos/CartPole-v1_quantized_search_36_CartPole-v1/6660/CartPole-v1_quantized_search_36_CartPole-v1-episode-99.mp4\n",
      "score:  9.0\n"
     ]
    },
    {
     "name": "stderr",
     "output_type": "stream",
     "text": [
      "/Users/jonathanlamontange-kratz/Documents/GitHub/rl-stuff/packages/utils/utils/utils.py:257: UserWarning: No artists with labels found to put in legend.  Note that artists whose label start with an underscore are ignored when legend() is called with no argument.\n",
      "  axs[row][col].legend()\n"
     ]
    },
    {
     "name": "stdout",
     "output_type": "stream",
     "text": [
      "score:  9.0\n",
      "score:  11.0\n",
      "score:  9.0\n",
      "score:  10.0\n",
      "Moviepy - Building video checkpoints/CartPole-v1_quantized_search_36_CartPole-v1/step_6993/videos/CartPole-v1_quantized_search_36_CartPole-v1/6993/CartPole-v1_quantized_search_36_CartPole-v1-episode-104.mp4.\n",
      "Moviepy - Writing video checkpoints/CartPole-v1_quantized_search_36_CartPole-v1/step_6993/videos/CartPole-v1_quantized_search_36_CartPole-v1/6993/CartPole-v1_quantized_search_36_CartPole-v1-episode-104.mp4\n",
      "\n"
     ]
    },
    {
     "name": "stderr",
     "output_type": "stream",
     "text": [
      "                                                           \r"
     ]
    },
    {
     "name": "stdout",
     "output_type": "stream",
     "text": [
      "Moviepy - Done !\n",
      "Moviepy - video ready checkpoints/CartPole-v1_quantized_search_36_CartPole-v1/step_6993/videos/CartPole-v1_quantized_search_36_CartPole-v1/6993/CartPole-v1_quantized_search_36_CartPole-v1-episode-104.mp4\n",
      "score:  9.0\n"
     ]
    },
    {
     "name": "stderr",
     "output_type": "stream",
     "text": [
      "/Users/jonathanlamontange-kratz/Documents/GitHub/rl-stuff/packages/utils/utils/utils.py:257: UserWarning: No artists with labels found to put in legend.  Note that artists whose label start with an underscore are ignored when legend() is called with no argument.\n",
      "  axs[row][col].legend()\n"
     ]
    },
    {
     "name": "stdout",
     "output_type": "stream",
     "text": [
      "score:  9.0\n",
      "score:  9.0\n",
      "score:  9.0\n",
      "score:  10.0\n",
      "Moviepy - Building video checkpoints/CartPole-v1_quantized_search_36_CartPole-v1/step_7326/videos/CartPole-v1_quantized_search_36_CartPole-v1/7326/CartPole-v1_quantized_search_36_CartPole-v1-episode-109.mp4.\n",
      "Moviepy - Writing video checkpoints/CartPole-v1_quantized_search_36_CartPole-v1/step_7326/videos/CartPole-v1_quantized_search_36_CartPole-v1/7326/CartPole-v1_quantized_search_36_CartPole-v1-episode-109.mp4\n",
      "\n"
     ]
    },
    {
     "name": "stderr",
     "output_type": "stream",
     "text": [
      "                                                           \r"
     ]
    },
    {
     "name": "stdout",
     "output_type": "stream",
     "text": [
      "Moviepy - Done !\n",
      "Moviepy - video ready checkpoints/CartPole-v1_quantized_search_36_CartPole-v1/step_7326/videos/CartPole-v1_quantized_search_36_CartPole-v1/7326/CartPole-v1_quantized_search_36_CartPole-v1-episode-109.mp4\n",
      "score:  9.0\n"
     ]
    },
    {
     "name": "stderr",
     "output_type": "stream",
     "text": [
      "/Users/jonathanlamontange-kratz/Documents/GitHub/rl-stuff/packages/utils/utils/utils.py:257: UserWarning: No artists with labels found to put in legend.  Note that artists whose label start with an underscore are ignored when legend() is called with no argument.\n",
      "  axs[row][col].legend()\n"
     ]
    },
    {
     "name": "stdout",
     "output_type": "stream",
     "text": [
      "score:  10.0\n",
      "score:  9.0\n",
      "score:  9.0\n",
      "score:  8.0\n",
      "Moviepy - Building video checkpoints/CartPole-v1_quantized_search_36_CartPole-v1/step_7659/videos/CartPole-v1_quantized_search_36_CartPole-v1/7659/CartPole-v1_quantized_search_36_CartPole-v1-episode-114.mp4.\n",
      "Moviepy - Writing video checkpoints/CartPole-v1_quantized_search_36_CartPole-v1/step_7659/videos/CartPole-v1_quantized_search_36_CartPole-v1/7659/CartPole-v1_quantized_search_36_CartPole-v1-episode-114.mp4\n",
      "\n"
     ]
    },
    {
     "name": "stderr",
     "output_type": "stream",
     "text": [
      "                                                           \r"
     ]
    },
    {
     "name": "stdout",
     "output_type": "stream",
     "text": [
      "Moviepy - Done !\n",
      "Moviepy - video ready checkpoints/CartPole-v1_quantized_search_36_CartPole-v1/step_7659/videos/CartPole-v1_quantized_search_36_CartPole-v1/7659/CartPole-v1_quantized_search_36_CartPole-v1-episode-114.mp4\n",
      "score:  9.0\n"
     ]
    },
    {
     "name": "stderr",
     "output_type": "stream",
     "text": [
      "/Users/jonathanlamontange-kratz/Documents/GitHub/rl-stuff/packages/utils/utils/utils.py:257: UserWarning: No artists with labels found to put in legend.  Note that artists whose label start with an underscore are ignored when legend() is called with no argument.\n",
      "  axs[row][col].legend()\n"
     ]
    },
    {
     "name": "stdout",
     "output_type": "stream",
     "text": [
      "score:  9.0\n",
      "score:  8.0\n",
      "score:  10.0\n",
      "score:  10.0\n",
      "Moviepy - Building video checkpoints/CartPole-v1_quantized_search_36_CartPole-v1/step_7992/videos/CartPole-v1_quantized_search_36_CartPole-v1/7992/CartPole-v1_quantized_search_36_CartPole-v1-episode-119.mp4.\n",
      "Moviepy - Writing video checkpoints/CartPole-v1_quantized_search_36_CartPole-v1/step_7992/videos/CartPole-v1_quantized_search_36_CartPole-v1/7992/CartPole-v1_quantized_search_36_CartPole-v1-episode-119.mp4\n",
      "\n"
     ]
    },
    {
     "name": "stderr",
     "output_type": "stream",
     "text": [
      "                                                           \r"
     ]
    },
    {
     "name": "stdout",
     "output_type": "stream",
     "text": [
      "Moviepy - Done !\n",
      "Moviepy - video ready checkpoints/CartPole-v1_quantized_search_36_CartPole-v1/step_7992/videos/CartPole-v1_quantized_search_36_CartPole-v1/7992/CartPole-v1_quantized_search_36_CartPole-v1-episode-119.mp4\n",
      "score:  10.0\n"
     ]
    },
    {
     "name": "stderr",
     "output_type": "stream",
     "text": [
      "/Users/jonathanlamontange-kratz/Documents/GitHub/rl-stuff/packages/utils/utils/utils.py:257: UserWarning: No artists with labels found to put in legend.  Note that artists whose label start with an underscore are ignored when legend() is called with no argument.\n",
      "  axs[row][col].legend()\n"
     ]
    },
    {
     "name": "stdout",
     "output_type": "stream",
     "text": [
      "score:  9.0\n",
      "score:  8.0\n",
      "score:  9.0\n",
      "score:  9.0\n",
      "Moviepy - Building video checkpoints/CartPole-v1_quantized_search_36_CartPole-v1/step_8325/videos/CartPole-v1_quantized_search_36_CartPole-v1/8325/CartPole-v1_quantized_search_36_CartPole-v1-episode-124.mp4.\n",
      "Moviepy - Writing video checkpoints/CartPole-v1_quantized_search_36_CartPole-v1/step_8325/videos/CartPole-v1_quantized_search_36_CartPole-v1/8325/CartPole-v1_quantized_search_36_CartPole-v1-episode-124.mp4\n",
      "\n"
     ]
    },
    {
     "name": "stderr",
     "output_type": "stream",
     "text": [
      "                                                          \r"
     ]
    },
    {
     "name": "stdout",
     "output_type": "stream",
     "text": [
      "Moviepy - Done !\n",
      "Moviepy - video ready checkpoints/CartPole-v1_quantized_search_36_CartPole-v1/step_8325/videos/CartPole-v1_quantized_search_36_CartPole-v1/8325/CartPole-v1_quantized_search_36_CartPole-v1-episode-124.mp4\n",
      "score:  8.0\n"
     ]
    },
    {
     "name": "stderr",
     "output_type": "stream",
     "text": [
      "/Users/jonathanlamontange-kratz/Documents/GitHub/rl-stuff/packages/utils/utils/utils.py:257: UserWarning: No artists with labels found to put in legend.  Note that artists whose label start with an underscore are ignored when legend() is called with no argument.\n",
      "  axs[row][col].legend()\n"
     ]
    },
    {
     "name": "stdout",
     "output_type": "stream",
     "text": [
      "score:  9.0\n",
      "score:  9.0\n",
      "score:  10.0\n",
      "score:  10.0\n",
      "Moviepy - Building video checkpoints/CartPole-v1_quantized_search_36_CartPole-v1/step_8658/videos/CartPole-v1_quantized_search_36_CartPole-v1/8658/CartPole-v1_quantized_search_36_CartPole-v1-episode-129.mp4.\n",
      "Moviepy - Writing video checkpoints/CartPole-v1_quantized_search_36_CartPole-v1/step_8658/videos/CartPole-v1_quantized_search_36_CartPole-v1/8658/CartPole-v1_quantized_search_36_CartPole-v1-episode-129.mp4\n",
      "\n"
     ]
    },
    {
     "name": "stderr",
     "output_type": "stream",
     "text": [
      "                                                           \r"
     ]
    },
    {
     "name": "stdout",
     "output_type": "stream",
     "text": [
      "Moviepy - Done !\n",
      "Moviepy - video ready checkpoints/CartPole-v1_quantized_search_36_CartPole-v1/step_8658/videos/CartPole-v1_quantized_search_36_CartPole-v1/8658/CartPole-v1_quantized_search_36_CartPole-v1-episode-129.mp4\n",
      "score:  9.0\n"
     ]
    },
    {
     "name": "stderr",
     "output_type": "stream",
     "text": [
      "/Users/jonathanlamontange-kratz/Documents/GitHub/rl-stuff/packages/utils/utils/utils.py:257: UserWarning: No artists with labels found to put in legend.  Note that artists whose label start with an underscore are ignored when legend() is called with no argument.\n",
      "  axs[row][col].legend()\n"
     ]
    },
    {
     "name": "stdout",
     "output_type": "stream",
     "text": [
      "score:  10.0\n",
      "score:  10.0\n",
      "score:  8.0\n",
      "score:  10.0\n",
      "Moviepy - Building video checkpoints/CartPole-v1_quantized_search_36_CartPole-v1/step_8991/videos/CartPole-v1_quantized_search_36_CartPole-v1/8991/CartPole-v1_quantized_search_36_CartPole-v1-episode-134.mp4.\n",
      "Moviepy - Writing video checkpoints/CartPole-v1_quantized_search_36_CartPole-v1/step_8991/videos/CartPole-v1_quantized_search_36_CartPole-v1/8991/CartPole-v1_quantized_search_36_CartPole-v1-episode-134.mp4\n",
      "\n"
     ]
    },
    {
     "name": "stderr",
     "output_type": "stream",
     "text": [
      "                                                           \r"
     ]
    },
    {
     "name": "stdout",
     "output_type": "stream",
     "text": [
      "Moviepy - Done !\n",
      "Moviepy - video ready checkpoints/CartPole-v1_quantized_search_36_CartPole-v1/step_8991/videos/CartPole-v1_quantized_search_36_CartPole-v1/8991/CartPole-v1_quantized_search_36_CartPole-v1-episode-134.mp4\n",
      "score:  9.0\n"
     ]
    },
    {
     "name": "stderr",
     "output_type": "stream",
     "text": [
      "/Users/jonathanlamontange-kratz/Documents/GitHub/rl-stuff/packages/utils/utils/utils.py:257: UserWarning: No artists with labels found to put in legend.  Note that artists whose label start with an underscore are ignored when legend() is called with no argument.\n",
      "  axs[row][col].legend()\n"
     ]
    },
    {
     "name": "stdout",
     "output_type": "stream",
     "text": [
      "score:  9.0\n",
      "score:  9.0\n",
      "score:  10.0\n",
      "score:  9.0\n",
      "Moviepy - Building video checkpoints/CartPole-v1_quantized_search_36_CartPole-v1/step_9324/videos/CartPole-v1_quantized_search_36_CartPole-v1/9324/CartPole-v1_quantized_search_36_CartPole-v1-episode-139.mp4.\n",
      "Moviepy - Writing video checkpoints/CartPole-v1_quantized_search_36_CartPole-v1/step_9324/videos/CartPole-v1_quantized_search_36_CartPole-v1/9324/CartPole-v1_quantized_search_36_CartPole-v1-episode-139.mp4\n",
      "\n"
     ]
    },
    {
     "name": "stderr",
     "output_type": "stream",
     "text": [
      "                                                          \r"
     ]
    },
    {
     "name": "stdout",
     "output_type": "stream",
     "text": [
      "Moviepy - Done !\n",
      "Moviepy - video ready checkpoints/CartPole-v1_quantized_search_36_CartPole-v1/step_9324/videos/CartPole-v1_quantized_search_36_CartPole-v1/9324/CartPole-v1_quantized_search_36_CartPole-v1-episode-139.mp4\n",
      "score:  8.0\n"
     ]
    },
    {
     "name": "stderr",
     "output_type": "stream",
     "text": [
      "/Users/jonathanlamontange-kratz/Documents/GitHub/rl-stuff/packages/utils/utils/utils.py:257: UserWarning: No artists with labels found to put in legend.  Note that artists whose label start with an underscore are ignored when legend() is called with no argument.\n",
      "  axs[row][col].legend()\n"
     ]
    },
    {
     "name": "stdout",
     "output_type": "stream",
     "text": [
      "score:  9.0\n",
      "score:  11.0\n",
      "score:  9.0\n",
      "score:  9.0\n",
      "Moviepy - Building video checkpoints/CartPole-v1_quantized_search_36_CartPole-v1/step_9657/videos/CartPole-v1_quantized_search_36_CartPole-v1/9657/CartPole-v1_quantized_search_36_CartPole-v1-episode-144.mp4.\n",
      "Moviepy - Writing video checkpoints/CartPole-v1_quantized_search_36_CartPole-v1/step_9657/videos/CartPole-v1_quantized_search_36_CartPole-v1/9657/CartPole-v1_quantized_search_36_CartPole-v1-episode-144.mp4\n",
      "\n"
     ]
    },
    {
     "name": "stderr",
     "output_type": "stream",
     "text": [
      "                                                           \r"
     ]
    },
    {
     "name": "stdout",
     "output_type": "stream",
     "text": [
      "Moviepy - Done !\n",
      "Moviepy - video ready checkpoints/CartPole-v1_quantized_search_36_CartPole-v1/step_9657/videos/CartPole-v1_quantized_search_36_CartPole-v1/9657/CartPole-v1_quantized_search_36_CartPole-v1-episode-144.mp4\n",
      "score:  9.0\n"
     ]
    },
    {
     "name": "stderr",
     "output_type": "stream",
     "text": [
      "/Users/jonathanlamontange-kratz/Documents/GitHub/rl-stuff/packages/utils/utils/utils.py:257: UserWarning: No artists with labels found to put in legend.  Note that artists whose label start with an underscore are ignored when legend() is called with no argument.\n",
      "  axs[row][col].legend()\n"
     ]
    },
    {
     "name": "stdout",
     "output_type": "stream",
     "text": [
      "score:  9.0\n",
      "score:  10.0\n",
      "score:  9.0\n",
      "score:  9.0\n",
      "Moviepy - Building video checkpoints/CartPole-v1_quantized_search_36_CartPole-v1/step_9990/videos/CartPole-v1_quantized_search_36_CartPole-v1/9990/CartPole-v1_quantized_search_36_CartPole-v1-episode-149.mp4.\n",
      "Moviepy - Writing video checkpoints/CartPole-v1_quantized_search_36_CartPole-v1/step_9990/videos/CartPole-v1_quantized_search_36_CartPole-v1/9990/CartPole-v1_quantized_search_36_CartPole-v1-episode-149.mp4\n",
      "\n"
     ]
    },
    {
     "name": "stderr",
     "output_type": "stream",
     "text": [
      "                                                           \r"
     ]
    },
    {
     "name": "stdout",
     "output_type": "stream",
     "text": [
      "Moviepy - Done !\n",
      "Moviepy - video ready checkpoints/CartPole-v1_quantized_search_36_CartPole-v1/step_9990/videos/CartPole-v1_quantized_search_36_CartPole-v1/9990/CartPole-v1_quantized_search_36_CartPole-v1-episode-149.mp4\n",
      "score:  10.0\n"
     ]
    },
    {
     "name": "stderr",
     "output_type": "stream",
     "text": [
      "/Users/jonathanlamontange-kratz/Documents/GitHub/rl-stuff/packages/utils/utils/utils.py:257: UserWarning: No artists with labels found to put in legend.  Note that artists whose label start with an underscore are ignored when legend() is called with no argument.\n",
      "  axs[row][col].legend()\n"
     ]
    },
    {
     "name": "stdout",
     "output_type": "stream",
     "text": [
      "score:  9.0\n",
      "score:  9.0\n",
      "score:  10.0\n",
      "score:  10.0\n",
      "Moviepy - Building video checkpoints/CartPole-v1_quantized_search_36_CartPole-v1/step_9999/videos/CartPole-v1_quantized_search_36_CartPole-v1/9999/CartPole-v1_quantized_search_36_CartPole-v1-episode-154.mp4.\n",
      "Moviepy - Writing video checkpoints/CartPole-v1_quantized_search_36_CartPole-v1/step_9999/videos/CartPole-v1_quantized_search_36_CartPole-v1/9999/CartPole-v1_quantized_search_36_CartPole-v1-episode-154.mp4\n",
      "\n"
     ]
    },
    {
     "name": "stderr",
     "output_type": "stream",
     "text": [
      "                                                  "
     ]
    },
    {
     "name": "stdout",
     "output_type": "stream",
     "text": [
      "Moviepy - Done !\n",
      "Moviepy - video ready checkpoints/CartPole-v1_quantized_search_36_CartPole-v1/step_9999/videos/CartPole-v1_quantized_search_36_CartPole-v1/9999/CartPole-v1_quantized_search_36_CartPole-v1-episode-154.mp4\n",
      "score:  8.0\n"
     ]
    },
    {
     "name": "stderr",
     "output_type": "stream",
     "text": [
      "/Users/jonathanlamontange-kratz/Documents/GitHub/rl-stuff/packages/utils/utils/utils.py:257: UserWarning: No artists with labels found to put in legend.  Note that artists whose label start with an underscore are ignored when legend() is called with no argument.\n",
      "  axs[row][col].legend()\n"
     ]
    },
    {
     "name": "stdout",
     "output_type": "stream",
     "text": [
      "Training complete\n",
      "score:  10.0\n",
      "score:  9.0\n",
      "score:  10.0\n",
      "score:  9.0\n",
      "Moviepy - Building video ./checkpoints//videos/CartPole-v1_quantized_search_36_CartPole-v1/5000/CartPole-v1_quantized_search_36_CartPole-v1-episode-159.mp4.\n",
      "Moviepy - Writing video ./checkpoints//videos/CartPole-v1_quantized_search_36_CartPole-v1/5000/CartPole-v1_quantized_search_36_CartPole-v1-episode-159.mp4\n",
      "\n"
     ]
    },
    {
     "name": "stderr",
     "output_type": "stream",
     "text": [
      "                                                   "
     ]
    },
    {
     "name": "stdout",
     "output_type": "stream",
     "text": [
      "Moviepy - Done !\n",
      "Moviepy - video ready ./checkpoints//videos/CartPole-v1_quantized_search_36_CartPole-v1/5000/CartPole-v1_quantized_search_36_CartPole-v1-episode-159.mp4\n",
      "score:  11.0\n",
      "score:  11.0\n",
      "score:  9.0\n",
      "score:  10.0\n",
      "score:  9.0\n"
     ]
    },
    {
     "name": "stderr",
     "output_type": "stream",
     "text": [
      "\r"
     ]
    },
    {
     "name": "stdout",
     "output_type": "stream",
     "text": [
      "score:  10.0\n",
      "parallel programs done\n",
      "Params:  {'adam_epsilon': 0.000625, 'advantage_hidden_layers_widths': (32, 32, 32), 'atom_size': 61, 'clipnorm': 4.9, 'conv_layers': (), 'dense_layers_widths': (64, 512, 1024), 'discount_factor': 0.9510000000000001, 'kernel_initializer': 'glorot_uniform', 'learning_rate': 4e-05, 'loss_function': <utils.utils.KLDivergence object at 0x288bc7740>, 'min_replay_buffer_size': 1250, 'minibatch_size': 80, 'n_step': 8, 'per_alpha': 0.7000000000000001, 'per_beta': 1.0, 'per_epsilon': 0.016280000000000003, 'replay_buffer_size': 8000, 'replay_interval': 4, 'training_steps': 10000, 'transfer_interval': 710, 'value_hidden_layers_widths': (32, 512)}\n",
      "Making environments\n",
      "CartPole-v1_quantized_search\n",
      "Using default save_intermediate_weights     : True\n",
      "Using         training_steps                : 10000\n",
      "Using         adam_epsilon                  : 0.000625\n",
      "Using         learning_rate                 : 4e-05\n",
      "Using         clipnorm                      : 4.9\n",
      "Using default optimizer                     : <class 'torch.optim.adam.Adam'>\n",
      "Using         loss_function                 : <utils.utils.KLDivergence object at 0x288bc7740>\n",
      "Using default activation                    : relu\n",
      "Using         kernel_initializer            : glorot_uniform\n",
      "Using         minibatch_size                : 80\n",
      "Using         replay_buffer_size            : 8000\n",
      "Using         min_replay_buffer_size        : 1250\n",
      "Using default num_minibatches               : 1\n",
      "Using default training_iterations           : 1\n",
      "Using         conv_layers                   : ()\n",
      "Using         dense_layers_widths           : (64, 512, 1024)\n",
      "Using         value_hidden_layers_widths    : (32, 512)\n",
      "Using         advantage_hidden_layers_widths: (32, 32, 32)\n",
      "Using default noisy_sigma                   : 0.5\n",
      "Using default deuling                       : True\n",
      "Using         discount_factor               : 0.9510000000000001\n",
      "Using default soft_update                   : False\n",
      "Using         transfer_interval             : 710\n",
      "Using default ema_beta                      : 0.99\n",
      "Using         replay_interval               : 4\n",
      "Using         per_alpha                     : 0.7000000000000001\n",
      "Using         per_beta                      : 1.0\n",
      "Using         per_epsilon                   : 0.016280000000000003\n",
      "Using         n_step                        : 8\n",
      "Using         atom_size                     : 61\n",
      "observation_dimensions:  (4,)\n",
      "num_actions:  2\n"
     ]
    },
    {
     "name": "stderr",
     "output_type": "stream",
     "text": [
      "/Library/Frameworks/Python.framework/Versions/3.12/lib/python3.12/site-packages/gymnasium/wrappers/record_video.py:94: UserWarning: \u001b[33mWARN: Overwriting existing videos at /Users/jonathanlamontange-kratz/Documents/GitHub/rl-stuff/experiments/rainbow_and_ape-x folder (try specifying a different `video_folder` for the `RecordVideo` wrapper if this is not desired)\u001b[0m\n",
      "  logger.warn(\n"
     ]
    },
    {
     "name": "stdout",
     "output_type": "stream",
     "text": [
      "score:  10.0\n",
      "score:  10.0\n",
      "score:  9.0\n",
      "score:  9.0\n",
      "Moviepy - Building video checkpoints/CartPole-v1_quantized_search_37_CartPole-v1/step_333/videos/CartPole-v1_quantized_search_37_CartPole-v1/333/CartPole-v1_quantized_search_37_CartPole-v1-episode-4.mp4.\n",
      "Moviepy - Writing video checkpoints/CartPole-v1_quantized_search_37_CartPole-v1/step_333/videos/CartPole-v1_quantized_search_37_CartPole-v1/333/CartPole-v1_quantized_search_37_CartPole-v1-episode-4.mp4\n",
      "\n"
     ]
    },
    {
     "name": "stderr",
     "output_type": "stream",
     "text": [
      "/Users/jonathanlamontange-kratz/Documents/GitHub/rl-stuff/packages/utils/utils/utils.py:257: UserWarning: No artists with labels found to put in legend.  Note that artists whose label start with an underscore are ignored when legend() is called with no argument.\n",
      "  axs[row][col].legend()\n",
      "/Users/jonathanlamontange-kratz/Documents/GitHub/rl-stuff/packages/utils/utils/utils.py:187: UserWarning: Attempting to set identical low and high xlims makes transformation singular; automatically expanding.\n",
      "  axs[row][col].set_xlim(1, len(values))\n"
     ]
    },
    {
     "name": "stdout",
     "output_type": "stream",
     "text": [
      "Moviepy - Done !\n",
      "Moviepy - video ready checkpoints/CartPole-v1_quantized_search_37_CartPole-v1/step_333/videos/CartPole-v1_quantized_search_37_CartPole-v1/333/CartPole-v1_quantized_search_37_CartPole-v1-episode-4.mp4\n",
      "score:  10.0\n",
      "score:  9.0\n",
      "score:  8.0\n",
      "score:  9.0\n",
      "score:  9.0\n",
      "Moviepy - Building video checkpoints/CartPole-v1_quantized_search_37_CartPole-v1/step_666/videos/CartPole-v1_quantized_search_37_CartPole-v1/666/CartPole-v1_quantized_search_37_CartPole-v1-episode-9.mp4.\n",
      "Moviepy - Writing video checkpoints/CartPole-v1_quantized_search_37_CartPole-v1/step_666/videos/CartPole-v1_quantized_search_37_CartPole-v1/666/CartPole-v1_quantized_search_37_CartPole-v1-episode-9.mp4\n",
      "\n"
     ]
    },
    {
     "name": "stderr",
     "output_type": "stream",
     "text": [
      "/Users/jonathanlamontange-kratz/Documents/GitHub/rl-stuff/packages/utils/utils/utils.py:257: UserWarning: No artists with labels found to put in legend.  Note that artists whose label start with an underscore are ignored when legend() is called with no argument.\n",
      "  axs[row][col].legend()\n"
     ]
    },
    {
     "name": "stdout",
     "output_type": "stream",
     "text": [
      "Moviepy - Done !\n",
      "Moviepy - video ready checkpoints/CartPole-v1_quantized_search_37_CartPole-v1/step_666/videos/CartPole-v1_quantized_search_37_CartPole-v1/666/CartPole-v1_quantized_search_37_CartPole-v1-episode-9.mp4\n",
      "score:  10.0\n",
      "score:  28.0\n",
      "score:  18.0\n",
      "score:  21.0\n",
      "score:  23.0\n",
      "Moviepy - Building video checkpoints/CartPole-v1_quantized_search_37_CartPole-v1/step_999/videos/CartPole-v1_quantized_search_37_CartPole-v1/999/CartPole-v1_quantized_search_37_CartPole-v1-episode-14.mp4.\n",
      "Moviepy - Writing video checkpoints/CartPole-v1_quantized_search_37_CartPole-v1/step_999/videos/CartPole-v1_quantized_search_37_CartPole-v1/999/CartPole-v1_quantized_search_37_CartPole-v1-episode-14.mp4\n",
      "\n"
     ]
    },
    {
     "name": "stderr",
     "output_type": "stream",
     "text": [
      "/Users/jonathanlamontange-kratz/Documents/GitHub/rl-stuff/packages/utils/utils/utils.py:257: UserWarning: No artists with labels found to put in legend.  Note that artists whose label start with an underscore are ignored when legend() is called with no argument.\n",
      "  axs[row][col].legend()\n"
     ]
    },
    {
     "name": "stdout",
     "output_type": "stream",
     "text": [
      "Moviepy - Done !\n",
      "Moviepy - video ready checkpoints/CartPole-v1_quantized_search_37_CartPole-v1/step_999/videos/CartPole-v1_quantized_search_37_CartPole-v1/999/CartPole-v1_quantized_search_37_CartPole-v1-episode-14.mp4\n",
      "score:  18.0\n",
      "score:  33.0\n",
      "score:  57.0\n",
      "score:  23.0\n",
      "score:  11.0\n",
      "Moviepy - Building video checkpoints/CartPole-v1_quantized_search_37_CartPole-v1/step_1332/videos/CartPole-v1_quantized_search_37_CartPole-v1/1332/CartPole-v1_quantized_search_37_CartPole-v1-episode-19.mp4.\n",
      "Moviepy - Writing video checkpoints/CartPole-v1_quantized_search_37_CartPole-v1/step_1332/videos/CartPole-v1_quantized_search_37_CartPole-v1/1332/CartPole-v1_quantized_search_37_CartPole-v1-episode-19.mp4\n",
      "\n"
     ]
    },
    {
     "name": "stderr",
     "output_type": "stream",
     "text": [
      "/Users/jonathanlamontange-kratz/Documents/GitHub/rl-stuff/packages/utils/utils/utils.py:257: UserWarning: No artists with labels found to put in legend.  Note that artists whose label start with an underscore are ignored when legend() is called with no argument.\n",
      "  axs[row][col].legend()\n"
     ]
    },
    {
     "name": "stdout",
     "output_type": "stream",
     "text": [
      "Moviepy - Done !\n",
      "Moviepy - video ready checkpoints/CartPole-v1_quantized_search_37_CartPole-v1/step_1332/videos/CartPole-v1_quantized_search_37_CartPole-v1/1332/CartPole-v1_quantized_search_37_CartPole-v1-episode-19.mp4\n",
      "score:  66.0\n",
      "score:  15.0\n",
      "score:  8.0\n",
      "score:  17.0\n",
      "score:  8.0\n",
      "Moviepy - Building video checkpoints/CartPole-v1_quantized_search_37_CartPole-v1/step_1665/videos/CartPole-v1_quantized_search_37_CartPole-v1/1665/CartPole-v1_quantized_search_37_CartPole-v1-episode-24.mp4.\n",
      "Moviepy - Writing video checkpoints/CartPole-v1_quantized_search_37_CartPole-v1/step_1665/videos/CartPole-v1_quantized_search_37_CartPole-v1/1665/CartPole-v1_quantized_search_37_CartPole-v1-episode-24.mp4\n",
      "\n"
     ]
    },
    {
     "name": "stderr",
     "output_type": "stream",
     "text": [
      "/Users/jonathanlamontange-kratz/Documents/GitHub/rl-stuff/packages/utils/utils/utils.py:257: UserWarning: No artists with labels found to put in legend.  Note that artists whose label start with an underscore are ignored when legend() is called with no argument.\n",
      "  axs[row][col].legend()\n"
     ]
    },
    {
     "name": "stdout",
     "output_type": "stream",
     "text": [
      "Moviepy - Done !\n",
      "Moviepy - video ready checkpoints/CartPole-v1_quantized_search_37_CartPole-v1/step_1665/videos/CartPole-v1_quantized_search_37_CartPole-v1/1665/CartPole-v1_quantized_search_37_CartPole-v1-episode-24.mp4\n",
      "score:  10.0\n",
      "score:  9.0\n",
      "score:  9.0\n",
      "score:  10.0\n",
      "score:  9.0\n",
      "Moviepy - Building video checkpoints/CartPole-v1_quantized_search_37_CartPole-v1/step_1998/videos/CartPole-v1_quantized_search_37_CartPole-v1/1998/CartPole-v1_quantized_search_37_CartPole-v1-episode-29.mp4.\n",
      "Moviepy - Writing video checkpoints/CartPole-v1_quantized_search_37_CartPole-v1/step_1998/videos/CartPole-v1_quantized_search_37_CartPole-v1/1998/CartPole-v1_quantized_search_37_CartPole-v1-episode-29.mp4\n",
      "\n"
     ]
    },
    {
     "name": "stderr",
     "output_type": "stream",
     "text": [
      "/Users/jonathanlamontange-kratz/Documents/GitHub/rl-stuff/packages/utils/utils/utils.py:257: UserWarning: No artists with labels found to put in legend.  Note that artists whose label start with an underscore are ignored when legend() is called with no argument.\n",
      "  axs[row][col].legend()\n"
     ]
    },
    {
     "name": "stdout",
     "output_type": "stream",
     "text": [
      "Moviepy - Done !\n",
      "Moviepy - video ready checkpoints/CartPole-v1_quantized_search_37_CartPole-v1/step_1998/videos/CartPole-v1_quantized_search_37_CartPole-v1/1998/CartPole-v1_quantized_search_37_CartPole-v1-episode-29.mp4\n",
      "score:  10.0\n",
      "score:  9.0\n",
      "score:  9.0\n",
      "score:  10.0\n",
      "score:  9.0\n",
      "Moviepy - Building video checkpoints/CartPole-v1_quantized_search_37_CartPole-v1/step_2331/videos/CartPole-v1_quantized_search_37_CartPole-v1/2331/CartPole-v1_quantized_search_37_CartPole-v1-episode-34.mp4.\n",
      "Moviepy - Writing video checkpoints/CartPole-v1_quantized_search_37_CartPole-v1/step_2331/videos/CartPole-v1_quantized_search_37_CartPole-v1/2331/CartPole-v1_quantized_search_37_CartPole-v1-episode-34.mp4\n",
      "\n"
     ]
    },
    {
     "name": "stderr",
     "output_type": "stream",
     "text": [
      "/Users/jonathanlamontange-kratz/Documents/GitHub/rl-stuff/packages/utils/utils/utils.py:257: UserWarning: No artists with labels found to put in legend.  Note that artists whose label start with an underscore are ignored when legend() is called with no argument.\n",
      "  axs[row][col].legend()\n"
     ]
    },
    {
     "name": "stdout",
     "output_type": "stream",
     "text": [
      "Moviepy - Done !\n",
      "Moviepy - video ready checkpoints/CartPole-v1_quantized_search_37_CartPole-v1/step_2331/videos/CartPole-v1_quantized_search_37_CartPole-v1/2331/CartPole-v1_quantized_search_37_CartPole-v1-episode-34.mp4\n",
      "score:  10.0\n",
      "score:  11.0\n",
      "score:  13.0\n",
      "score:  10.0\n",
      "score:  12.0\n",
      "Moviepy - Building video checkpoints/CartPole-v1_quantized_search_37_CartPole-v1/step_2664/videos/CartPole-v1_quantized_search_37_CartPole-v1/2664/CartPole-v1_quantized_search_37_CartPole-v1-episode-39.mp4.\n",
      "Moviepy - Writing video checkpoints/CartPole-v1_quantized_search_37_CartPole-v1/step_2664/videos/CartPole-v1_quantized_search_37_CartPole-v1/2664/CartPole-v1_quantized_search_37_CartPole-v1-episode-39.mp4\n",
      "\n"
     ]
    },
    {
     "name": "stderr",
     "output_type": "stream",
     "text": [
      "/Users/jonathanlamontange-kratz/Documents/GitHub/rl-stuff/packages/utils/utils/utils.py:257: UserWarning: No artists with labels found to put in legend.  Note that artists whose label start with an underscore are ignored when legend() is called with no argument.\n",
      "  axs[row][col].legend()\n"
     ]
    },
    {
     "name": "stdout",
     "output_type": "stream",
     "text": [
      "Moviepy - Done !\n",
      "Moviepy - video ready checkpoints/CartPole-v1_quantized_search_37_CartPole-v1/step_2664/videos/CartPole-v1_quantized_search_37_CartPole-v1/2664/CartPole-v1_quantized_search_37_CartPole-v1-episode-39.mp4\n",
      "score:  10.0\n",
      "score:  14.0\n",
      "score:  15.0\n",
      "score:  17.0\n",
      "score:  14.0\n",
      "Moviepy - Building video checkpoints/CartPole-v1_quantized_search_37_CartPole-v1/step_2997/videos/CartPole-v1_quantized_search_37_CartPole-v1/2997/CartPole-v1_quantized_search_37_CartPole-v1-episode-44.mp4.\n",
      "Moviepy - Writing video checkpoints/CartPole-v1_quantized_search_37_CartPole-v1/step_2997/videos/CartPole-v1_quantized_search_37_CartPole-v1/2997/CartPole-v1_quantized_search_37_CartPole-v1-episode-44.mp4\n",
      "\n"
     ]
    },
    {
     "name": "stderr",
     "output_type": "stream",
     "text": [
      "/Users/jonathanlamontange-kratz/Documents/GitHub/rl-stuff/packages/utils/utils/utils.py:257: UserWarning: No artists with labels found to put in legend.  Note that artists whose label start with an underscore are ignored when legend() is called with no argument.\n",
      "  axs[row][col].legend()\n"
     ]
    },
    {
     "name": "stdout",
     "output_type": "stream",
     "text": [
      "Moviepy - Done !\n",
      "Moviepy - video ready checkpoints/CartPole-v1_quantized_search_37_CartPole-v1/step_2997/videos/CartPole-v1_quantized_search_37_CartPole-v1/2997/CartPole-v1_quantized_search_37_CartPole-v1-episode-44.mp4\n",
      "score:  13.0\n",
      "score:  22.0\n",
      "score:  15.0\n",
      "score:  12.0\n",
      "score:  16.0\n",
      "Moviepy - Building video checkpoints/CartPole-v1_quantized_search_37_CartPole-v1/step_3330/videos/CartPole-v1_quantized_search_37_CartPole-v1/3330/CartPole-v1_quantized_search_37_CartPole-v1-episode-49.mp4.\n",
      "Moviepy - Writing video checkpoints/CartPole-v1_quantized_search_37_CartPole-v1/step_3330/videos/CartPole-v1_quantized_search_37_CartPole-v1/3330/CartPole-v1_quantized_search_37_CartPole-v1-episode-49.mp4\n",
      "\n"
     ]
    },
    {
     "name": "stderr",
     "output_type": "stream",
     "text": [
      "                                                           \r"
     ]
    },
    {
     "name": "stdout",
     "output_type": "stream",
     "text": [
      "Moviepy - Done !\n",
      "Moviepy - video ready checkpoints/CartPole-v1_quantized_search_37_CartPole-v1/step_3330/videos/CartPole-v1_quantized_search_37_CartPole-v1/3330/CartPole-v1_quantized_search_37_CartPole-v1-episode-49.mp4\n",
      "score:  19.0\n"
     ]
    },
    {
     "name": "stderr",
     "output_type": "stream",
     "text": [
      "/Users/jonathanlamontange-kratz/Documents/GitHub/rl-stuff/packages/utils/utils/utils.py:257: UserWarning: No artists with labels found to put in legend.  Note that artists whose label start with an underscore are ignored when legend() is called with no argument.\n",
      "  axs[row][col].legend()\n"
     ]
    },
    {
     "name": "stdout",
     "output_type": "stream",
     "text": [
      "score:  9.0\n",
      "score:  8.0\n",
      "score:  9.0\n",
      "score:  8.0\n",
      "Moviepy - Building video checkpoints/CartPole-v1_quantized_search_37_CartPole-v1/step_3663/videos/CartPole-v1_quantized_search_37_CartPole-v1/3663/CartPole-v1_quantized_search_37_CartPole-v1-episode-54.mp4.\n",
      "Moviepy - Writing video checkpoints/CartPole-v1_quantized_search_37_CartPole-v1/step_3663/videos/CartPole-v1_quantized_search_37_CartPole-v1/3663/CartPole-v1_quantized_search_37_CartPole-v1-episode-54.mp4\n",
      "\n"
     ]
    },
    {
     "name": "stderr",
     "output_type": "stream",
     "text": [
      "/Users/jonathanlamontange-kratz/Documents/GitHub/rl-stuff/packages/utils/utils/utils.py:257: UserWarning: No artists with labels found to put in legend.  Note that artists whose label start with an underscore are ignored when legend() is called with no argument.\n",
      "  axs[row][col].legend()\n"
     ]
    },
    {
     "name": "stdout",
     "output_type": "stream",
     "text": [
      "Moviepy - Done !\n",
      "Moviepy - video ready checkpoints/CartPole-v1_quantized_search_37_CartPole-v1/step_3663/videos/CartPole-v1_quantized_search_37_CartPole-v1/3663/CartPole-v1_quantized_search_37_CartPole-v1-episode-54.mp4\n",
      "score:  8.0\n",
      "score:  44.0\n",
      "score:  55.0\n",
      "score:  70.0\n",
      "score:  34.0\n",
      "Moviepy - Building video checkpoints/CartPole-v1_quantized_search_37_CartPole-v1/step_3996/videos/CartPole-v1_quantized_search_37_CartPole-v1/3996/CartPole-v1_quantized_search_37_CartPole-v1-episode-59.mp4.\n",
      "Moviepy - Writing video checkpoints/CartPole-v1_quantized_search_37_CartPole-v1/step_3996/videos/CartPole-v1_quantized_search_37_CartPole-v1/3996/CartPole-v1_quantized_search_37_CartPole-v1-episode-59.mp4\n",
      "\n"
     ]
    },
    {
     "name": "stderr",
     "output_type": "stream",
     "text": [
      "/Users/jonathanlamontange-kratz/Documents/GitHub/rl-stuff/packages/utils/utils/utils.py:257: UserWarning: No artists with labels found to put in legend.  Note that artists whose label start with an underscore are ignored when legend() is called with no argument.\n",
      "  axs[row][col].legend()\n"
     ]
    },
    {
     "name": "stdout",
     "output_type": "stream",
     "text": [
      "Moviepy - Done !\n",
      "Moviepy - video ready checkpoints/CartPole-v1_quantized_search_37_CartPole-v1/step_3996/videos/CartPole-v1_quantized_search_37_CartPole-v1/3996/CartPole-v1_quantized_search_37_CartPole-v1-episode-59.mp4\n",
      "score:  33.0\n",
      "score:  15.0\n",
      "score:  18.0\n",
      "score:  16.0\n",
      "score:  18.0\n",
      "Moviepy - Building video checkpoints/CartPole-v1_quantized_search_37_CartPole-v1/step_4329/videos/CartPole-v1_quantized_search_37_CartPole-v1/4329/CartPole-v1_quantized_search_37_CartPole-v1-episode-64.mp4.\n",
      "Moviepy - Writing video checkpoints/CartPole-v1_quantized_search_37_CartPole-v1/step_4329/videos/CartPole-v1_quantized_search_37_CartPole-v1/4329/CartPole-v1_quantized_search_37_CartPole-v1-episode-64.mp4\n",
      "\n"
     ]
    },
    {
     "name": "stderr",
     "output_type": "stream",
     "text": [
      "/Users/jonathanlamontange-kratz/Documents/GitHub/rl-stuff/packages/utils/utils/utils.py:257: UserWarning: No artists with labels found to put in legend.  Note that artists whose label start with an underscore are ignored when legend() is called with no argument.\n",
      "  axs[row][col].legend()\n"
     ]
    },
    {
     "name": "stdout",
     "output_type": "stream",
     "text": [
      "Moviepy - Done !\n",
      "Moviepy - video ready checkpoints/CartPole-v1_quantized_search_37_CartPole-v1/step_4329/videos/CartPole-v1_quantized_search_37_CartPole-v1/4329/CartPole-v1_quantized_search_37_CartPole-v1-episode-64.mp4\n",
      "score:  15.0\n",
      "score:  17.0\n",
      "score:  18.0\n",
      "score:  18.0\n",
      "score:  14.0\n",
      "Moviepy - Building video checkpoints/CartPole-v1_quantized_search_37_CartPole-v1/step_4662/videos/CartPole-v1_quantized_search_37_CartPole-v1/4662/CartPole-v1_quantized_search_37_CartPole-v1-episode-69.mp4.\n",
      "Moviepy - Writing video checkpoints/CartPole-v1_quantized_search_37_CartPole-v1/step_4662/videos/CartPole-v1_quantized_search_37_CartPole-v1/4662/CartPole-v1_quantized_search_37_CartPole-v1-episode-69.mp4\n",
      "\n"
     ]
    },
    {
     "name": "stderr",
     "output_type": "stream",
     "text": [
      "/Users/jonathanlamontange-kratz/Documents/GitHub/rl-stuff/packages/utils/utils/utils.py:257: UserWarning: No artists with labels found to put in legend.  Note that artists whose label start with an underscore are ignored when legend() is called with no argument.\n",
      "  axs[row][col].legend()\n"
     ]
    },
    {
     "name": "stdout",
     "output_type": "stream",
     "text": [
      "Moviepy - Done !\n",
      "Moviepy - video ready checkpoints/CartPole-v1_quantized_search_37_CartPole-v1/step_4662/videos/CartPole-v1_quantized_search_37_CartPole-v1/4662/CartPole-v1_quantized_search_37_CartPole-v1-episode-69.mp4\n",
      "score:  17.0\n",
      "score:  10.0\n",
      "score:  9.0\n",
      "score:  10.0\n",
      "score:  10.0\n",
      "Moviepy - Building video checkpoints/CartPole-v1_quantized_search_37_CartPole-v1/step_4995/videos/CartPole-v1_quantized_search_37_CartPole-v1/4995/CartPole-v1_quantized_search_37_CartPole-v1-episode-74.mp4.\n",
      "Moviepy - Writing video checkpoints/CartPole-v1_quantized_search_37_CartPole-v1/step_4995/videos/CartPole-v1_quantized_search_37_CartPole-v1/4995/CartPole-v1_quantized_search_37_CartPole-v1-episode-74.mp4\n",
      "\n"
     ]
    },
    {
     "name": "stderr",
     "output_type": "stream",
     "text": [
      "/Users/jonathanlamontange-kratz/Documents/GitHub/rl-stuff/packages/utils/utils/utils.py:257: UserWarning: No artists with labels found to put in legend.  Note that artists whose label start with an underscore are ignored when legend() is called with no argument.\n",
      "  axs[row][col].legend()\n"
     ]
    },
    {
     "name": "stdout",
     "output_type": "stream",
     "text": [
      "Moviepy - Done !\n",
      "Moviepy - video ready checkpoints/CartPole-v1_quantized_search_37_CartPole-v1/step_4995/videos/CartPole-v1_quantized_search_37_CartPole-v1/4995/CartPole-v1_quantized_search_37_CartPole-v1-episode-74.mp4\n",
      "score:  9.0\n",
      "score:  10.0\n",
      "score:  13.0\n",
      "score:  12.0\n",
      "score:  11.0\n",
      "Moviepy - Building video checkpoints/CartPole-v1_quantized_search_37_CartPole-v1/step_5328/videos/CartPole-v1_quantized_search_37_CartPole-v1/5328/CartPole-v1_quantized_search_37_CartPole-v1-episode-79.mp4.\n",
      "Moviepy - Writing video checkpoints/CartPole-v1_quantized_search_37_CartPole-v1/step_5328/videos/CartPole-v1_quantized_search_37_CartPole-v1/5328/CartPole-v1_quantized_search_37_CartPole-v1-episode-79.mp4\n",
      "\n"
     ]
    },
    {
     "name": "stderr",
     "output_type": "stream",
     "text": [
      "/Users/jonathanlamontange-kratz/Documents/GitHub/rl-stuff/packages/utils/utils/utils.py:257: UserWarning: No artists with labels found to put in legend.  Note that artists whose label start with an underscore are ignored when legend() is called with no argument.\n",
      "  axs[row][col].legend()\n"
     ]
    },
    {
     "name": "stdout",
     "output_type": "stream",
     "text": [
      "Moviepy - Done !\n",
      "Moviepy - video ready checkpoints/CartPole-v1_quantized_search_37_CartPole-v1/step_5328/videos/CartPole-v1_quantized_search_37_CartPole-v1/5328/CartPole-v1_quantized_search_37_CartPole-v1-episode-79.mp4\n",
      "score:  12.0\n",
      "score:  9.0\n",
      "score:  9.0\n",
      "score:  9.0\n",
      "score:  9.0\n",
      "Moviepy - Building video checkpoints/CartPole-v1_quantized_search_37_CartPole-v1/step_5661/videos/CartPole-v1_quantized_search_37_CartPole-v1/5661/CartPole-v1_quantized_search_37_CartPole-v1-episode-84.mp4.\n",
      "Moviepy - Writing video checkpoints/CartPole-v1_quantized_search_37_CartPole-v1/step_5661/videos/CartPole-v1_quantized_search_37_CartPole-v1/5661/CartPole-v1_quantized_search_37_CartPole-v1-episode-84.mp4\n",
      "\n"
     ]
    },
    {
     "name": "stderr",
     "output_type": "stream",
     "text": [
      "/Users/jonathanlamontange-kratz/Documents/GitHub/rl-stuff/packages/utils/utils/utils.py:257: UserWarning: No artists with labels found to put in legend.  Note that artists whose label start with an underscore are ignored when legend() is called with no argument.\n",
      "  axs[row][col].legend()\n"
     ]
    },
    {
     "name": "stdout",
     "output_type": "stream",
     "text": [
      "Moviepy - Done !\n",
      "Moviepy - video ready checkpoints/CartPole-v1_quantized_search_37_CartPole-v1/step_5661/videos/CartPole-v1_quantized_search_37_CartPole-v1/5661/CartPole-v1_quantized_search_37_CartPole-v1-episode-84.mp4\n",
      "score:  10.0\n",
      "score:  14.0\n",
      "score:  10.0\n",
      "score:  15.0\n",
      "score:  12.0\n",
      "Moviepy - Building video checkpoints/CartPole-v1_quantized_search_37_CartPole-v1/step_5994/videos/CartPole-v1_quantized_search_37_CartPole-v1/5994/CartPole-v1_quantized_search_37_CartPole-v1-episode-89.mp4.\n",
      "Moviepy - Writing video checkpoints/CartPole-v1_quantized_search_37_CartPole-v1/step_5994/videos/CartPole-v1_quantized_search_37_CartPole-v1/5994/CartPole-v1_quantized_search_37_CartPole-v1-episode-89.mp4\n",
      "\n"
     ]
    },
    {
     "name": "stderr",
     "output_type": "stream",
     "text": [
      "/Users/jonathanlamontange-kratz/Documents/GitHub/rl-stuff/packages/utils/utils/utils.py:257: UserWarning: No artists with labels found to put in legend.  Note that artists whose label start with an underscore are ignored when legend() is called with no argument.\n",
      "  axs[row][col].legend()\n"
     ]
    },
    {
     "name": "stdout",
     "output_type": "stream",
     "text": [
      "Moviepy - Done !\n",
      "Moviepy - video ready checkpoints/CartPole-v1_quantized_search_37_CartPole-v1/step_5994/videos/CartPole-v1_quantized_search_37_CartPole-v1/5994/CartPole-v1_quantized_search_37_CartPole-v1-episode-89.mp4\n",
      "score:  11.0\n",
      "score:  22.0\n",
      "score:  22.0\n",
      "score:  17.0\n",
      "score:  24.0\n",
      "Moviepy - Building video checkpoints/CartPole-v1_quantized_search_37_CartPole-v1/step_6327/videos/CartPole-v1_quantized_search_37_CartPole-v1/6327/CartPole-v1_quantized_search_37_CartPole-v1-episode-94.mp4.\n",
      "Moviepy - Writing video checkpoints/CartPole-v1_quantized_search_37_CartPole-v1/step_6327/videos/CartPole-v1_quantized_search_37_CartPole-v1/6327/CartPole-v1_quantized_search_37_CartPole-v1-episode-94.mp4\n",
      "\n"
     ]
    },
    {
     "name": "stderr",
     "output_type": "stream",
     "text": [
      "                                                           \r"
     ]
    },
    {
     "name": "stdout",
     "output_type": "stream",
     "text": [
      "Moviepy - Done !\n",
      "Moviepy - video ready checkpoints/CartPole-v1_quantized_search_37_CartPole-v1/step_6327/videos/CartPole-v1_quantized_search_37_CartPole-v1/6327/CartPole-v1_quantized_search_37_CartPole-v1-episode-94.mp4\n",
      "score:  20.0\n"
     ]
    },
    {
     "name": "stderr",
     "output_type": "stream",
     "text": [
      "/Users/jonathanlamontange-kratz/Documents/GitHub/rl-stuff/packages/utils/utils/utils.py:257: UserWarning: No artists with labels found to put in legend.  Note that artists whose label start with an underscore are ignored when legend() is called with no argument.\n",
      "  axs[row][col].legend()\n"
     ]
    },
    {
     "name": "stdout",
     "output_type": "stream",
     "text": [
      "score:  16.0\n",
      "score:  13.0\n",
      "score:  19.0\n",
      "score:  20.0\n",
      "Moviepy - Building video checkpoints/CartPole-v1_quantized_search_37_CartPole-v1/step_6660/videos/CartPole-v1_quantized_search_37_CartPole-v1/6660/CartPole-v1_quantized_search_37_CartPole-v1-episode-99.mp4.\n",
      "Moviepy - Writing video checkpoints/CartPole-v1_quantized_search_37_CartPole-v1/step_6660/videos/CartPole-v1_quantized_search_37_CartPole-v1/6660/CartPole-v1_quantized_search_37_CartPole-v1-episode-99.mp4\n",
      "\n"
     ]
    },
    {
     "name": "stderr",
     "output_type": "stream",
     "text": [
      "/Users/jonathanlamontange-kratz/Documents/GitHub/rl-stuff/packages/utils/utils/utils.py:257: UserWarning: No artists with labels found to put in legend.  Note that artists whose label start with an underscore are ignored when legend() is called with no argument.\n",
      "  axs[row][col].legend()\n"
     ]
    },
    {
     "name": "stdout",
     "output_type": "stream",
     "text": [
      "Moviepy - Done !\n",
      "Moviepy - video ready checkpoints/CartPole-v1_quantized_search_37_CartPole-v1/step_6660/videos/CartPole-v1_quantized_search_37_CartPole-v1/6660/CartPole-v1_quantized_search_37_CartPole-v1-episode-99.mp4\n",
      "score:  12.0\n",
      "score:  12.0\n",
      "score:  14.0\n",
      "score:  14.0\n",
      "score:  13.0\n",
      "Moviepy - Building video checkpoints/CartPole-v1_quantized_search_37_CartPole-v1/step_6993/videos/CartPole-v1_quantized_search_37_CartPole-v1/6993/CartPole-v1_quantized_search_37_CartPole-v1-episode-104.mp4.\n",
      "Moviepy - Writing video checkpoints/CartPole-v1_quantized_search_37_CartPole-v1/step_6993/videos/CartPole-v1_quantized_search_37_CartPole-v1/6993/CartPole-v1_quantized_search_37_CartPole-v1-episode-104.mp4\n",
      "\n"
     ]
    },
    {
     "name": "stderr",
     "output_type": "stream",
     "text": [
      "/Users/jonathanlamontange-kratz/Documents/GitHub/rl-stuff/packages/utils/utils/utils.py:257: UserWarning: No artists with labels found to put in legend.  Note that artists whose label start with an underscore are ignored when legend() is called with no argument.\n",
      "  axs[row][col].legend()\n"
     ]
    },
    {
     "name": "stdout",
     "output_type": "stream",
     "text": [
      "Moviepy - Done !\n",
      "Moviepy - video ready checkpoints/CartPole-v1_quantized_search_37_CartPole-v1/step_6993/videos/CartPole-v1_quantized_search_37_CartPole-v1/6993/CartPole-v1_quantized_search_37_CartPole-v1-episode-104.mp4\n",
      "score:  14.0\n",
      "score:  10.0\n",
      "score:  12.0\n",
      "score:  11.0\n",
      "score:  10.0\n",
      "Moviepy - Building video checkpoints/CartPole-v1_quantized_search_37_CartPole-v1/step_7326/videos/CartPole-v1_quantized_search_37_CartPole-v1/7326/CartPole-v1_quantized_search_37_CartPole-v1-episode-109.mp4.\n",
      "Moviepy - Writing video checkpoints/CartPole-v1_quantized_search_37_CartPole-v1/step_7326/videos/CartPole-v1_quantized_search_37_CartPole-v1/7326/CartPole-v1_quantized_search_37_CartPole-v1-episode-109.mp4\n",
      "\n"
     ]
    },
    {
     "name": "stderr",
     "output_type": "stream",
     "text": [
      "/Users/jonathanlamontange-kratz/Documents/GitHub/rl-stuff/packages/utils/utils/utils.py:257: UserWarning: No artists with labels found to put in legend.  Note that artists whose label start with an underscore are ignored when legend() is called with no argument.\n",
      "  axs[row][col].legend()\n"
     ]
    },
    {
     "name": "stdout",
     "output_type": "stream",
     "text": [
      "Moviepy - Done !\n",
      "Moviepy - video ready checkpoints/CartPole-v1_quantized_search_37_CartPole-v1/step_7326/videos/CartPole-v1_quantized_search_37_CartPole-v1/7326/CartPole-v1_quantized_search_37_CartPole-v1-episode-109.mp4\n",
      "score:  8.0\n",
      "score:  27.0\n",
      "score:  39.0\n",
      "score:  25.0\n",
      "score:  35.0\n",
      "Moviepy - Building video checkpoints/CartPole-v1_quantized_search_37_CartPole-v1/step_7659/videos/CartPole-v1_quantized_search_37_CartPole-v1/7659/CartPole-v1_quantized_search_37_CartPole-v1-episode-114.mp4.\n",
      "Moviepy - Writing video checkpoints/CartPole-v1_quantized_search_37_CartPole-v1/step_7659/videos/CartPole-v1_quantized_search_37_CartPole-v1/7659/CartPole-v1_quantized_search_37_CartPole-v1-episode-114.mp4\n",
      "\n"
     ]
    },
    {
     "name": "stderr",
     "output_type": "stream",
     "text": [
      "/Users/jonathanlamontange-kratz/Documents/GitHub/rl-stuff/packages/utils/utils/utils.py:257: UserWarning: No artists with labels found to put in legend.  Note that artists whose label start with an underscore are ignored when legend() is called with no argument.\n",
      "  axs[row][col].legend()\n"
     ]
    },
    {
     "name": "stdout",
     "output_type": "stream",
     "text": [
      "Moviepy - Done !\n",
      "Moviepy - video ready checkpoints/CartPole-v1_quantized_search_37_CartPole-v1/step_7659/videos/CartPole-v1_quantized_search_37_CartPole-v1/7659/CartPole-v1_quantized_search_37_CartPole-v1-episode-114.mp4\n",
      "score:  25.0\n",
      "score:  14.0\n",
      "score:  20.0\n",
      "score:  20.0\n",
      "score:  17.0\n",
      "Moviepy - Building video checkpoints/CartPole-v1_quantized_search_37_CartPole-v1/step_7992/videos/CartPole-v1_quantized_search_37_CartPole-v1/7992/CartPole-v1_quantized_search_37_CartPole-v1-episode-119.mp4.\n",
      "Moviepy - Writing video checkpoints/CartPole-v1_quantized_search_37_CartPole-v1/step_7992/videos/CartPole-v1_quantized_search_37_CartPole-v1/7992/CartPole-v1_quantized_search_37_CartPole-v1-episode-119.mp4\n",
      "\n"
     ]
    },
    {
     "name": "stderr",
     "output_type": "stream",
     "text": [
      "/Users/jonathanlamontange-kratz/Documents/GitHub/rl-stuff/packages/utils/utils/utils.py:257: UserWarning: No artists with labels found to put in legend.  Note that artists whose label start with an underscore are ignored when legend() is called with no argument.\n",
      "  axs[row][col].legend()\n"
     ]
    },
    {
     "name": "stdout",
     "output_type": "stream",
     "text": [
      "Moviepy - Done !\n",
      "Moviepy - video ready checkpoints/CartPole-v1_quantized_search_37_CartPole-v1/step_7992/videos/CartPole-v1_quantized_search_37_CartPole-v1/7992/CartPole-v1_quantized_search_37_CartPole-v1-episode-119.mp4\n",
      "score:  16.0\n",
      "score:  65.0\n",
      "score:  70.0\n",
      "score:  36.0\n",
      "score:  58.0\n",
      "Moviepy - Building video checkpoints/CartPole-v1_quantized_search_37_CartPole-v1/step_8325/videos/CartPole-v1_quantized_search_37_CartPole-v1/8325/CartPole-v1_quantized_search_37_CartPole-v1-episode-124.mp4.\n",
      "Moviepy - Writing video checkpoints/CartPole-v1_quantized_search_37_CartPole-v1/step_8325/videos/CartPole-v1_quantized_search_37_CartPole-v1/8325/CartPole-v1_quantized_search_37_CartPole-v1-episode-124.mp4\n",
      "\n"
     ]
    },
    {
     "name": "stderr",
     "output_type": "stream",
     "text": [
      "/Users/jonathanlamontange-kratz/Documents/GitHub/rl-stuff/packages/utils/utils/utils.py:257: UserWarning: No artists with labels found to put in legend.  Note that artists whose label start with an underscore are ignored when legend() is called with no argument.\n",
      "  axs[row][col].legend()\n"
     ]
    },
    {
     "name": "stdout",
     "output_type": "stream",
     "text": [
      "Moviepy - Done !\n",
      "Moviepy - video ready checkpoints/CartPole-v1_quantized_search_37_CartPole-v1/step_8325/videos/CartPole-v1_quantized_search_37_CartPole-v1/8325/CartPole-v1_quantized_search_37_CartPole-v1-episode-124.mp4\n",
      "score:  48.0\n",
      "score:  13.0\n",
      "score:  12.0\n",
      "score:  13.0\n",
      "score:  10.0\n",
      "Moviepy - Building video checkpoints/CartPole-v1_quantized_search_37_CartPole-v1/step_8658/videos/CartPole-v1_quantized_search_37_CartPole-v1/8658/CartPole-v1_quantized_search_37_CartPole-v1-episode-129.mp4.\n",
      "Moviepy - Writing video checkpoints/CartPole-v1_quantized_search_37_CartPole-v1/step_8658/videos/CartPole-v1_quantized_search_37_CartPole-v1/8658/CartPole-v1_quantized_search_37_CartPole-v1-episode-129.mp4\n",
      "\n"
     ]
    },
    {
     "name": "stderr",
     "output_type": "stream",
     "text": [
      "/Users/jonathanlamontange-kratz/Documents/GitHub/rl-stuff/packages/utils/utils/utils.py:257: UserWarning: No artists with labels found to put in legend.  Note that artists whose label start with an underscore are ignored when legend() is called with no argument.\n",
      "  axs[row][col].legend()\n"
     ]
    },
    {
     "name": "stdout",
     "output_type": "stream",
     "text": [
      "Moviepy - Done !\n",
      "Moviepy - video ready checkpoints/CartPole-v1_quantized_search_37_CartPole-v1/step_8658/videos/CartPole-v1_quantized_search_37_CartPole-v1/8658/CartPole-v1_quantized_search_37_CartPole-v1-episode-129.mp4\n",
      "score:  13.0\n",
      "score:  39.0\n",
      "score:  57.0\n",
      "score:  57.0\n",
      "score:  148.0\n",
      "Moviepy - Building video checkpoints/CartPole-v1_quantized_search_37_CartPole-v1/step_8991/videos/CartPole-v1_quantized_search_37_CartPole-v1/8991/CartPole-v1_quantized_search_37_CartPole-v1-episode-134.mp4.\n",
      "Moviepy - Writing video checkpoints/CartPole-v1_quantized_search_37_CartPole-v1/step_8991/videos/CartPole-v1_quantized_search_37_CartPole-v1/8991/CartPole-v1_quantized_search_37_CartPole-v1-episode-134.mp4\n",
      "\n"
     ]
    },
    {
     "name": "stderr",
     "output_type": "stream",
     "text": [
      "/Users/jonathanlamontange-kratz/Documents/GitHub/rl-stuff/packages/utils/utils/utils.py:257: UserWarning: No artists with labels found to put in legend.  Note that artists whose label start with an underscore are ignored when legend() is called with no argument.\n",
      "  axs[row][col].legend()\n"
     ]
    },
    {
     "name": "stdout",
     "output_type": "stream",
     "text": [
      "Moviepy - Done !\n",
      "Moviepy - video ready checkpoints/CartPole-v1_quantized_search_37_CartPole-v1/step_8991/videos/CartPole-v1_quantized_search_37_CartPole-v1/8991/CartPole-v1_quantized_search_37_CartPole-v1-episode-134.mp4\n",
      "score:  57.0\n",
      "score:  9.0\n",
      "score:  9.0\n",
      "score:  8.0\n",
      "score:  9.0\n",
      "Moviepy - Building video checkpoints/CartPole-v1_quantized_search_37_CartPole-v1/step_9324/videos/CartPole-v1_quantized_search_37_CartPole-v1/9324/CartPole-v1_quantized_search_37_CartPole-v1-episode-139.mp4.\n",
      "Moviepy - Writing video checkpoints/CartPole-v1_quantized_search_37_CartPole-v1/step_9324/videos/CartPole-v1_quantized_search_37_CartPole-v1/9324/CartPole-v1_quantized_search_37_CartPole-v1-episode-139.mp4\n",
      "\n"
     ]
    },
    {
     "name": "stderr",
     "output_type": "stream",
     "text": [
      "/Users/jonathanlamontange-kratz/Documents/GitHub/rl-stuff/packages/utils/utils/utils.py:257: UserWarning: No artists with labels found to put in legend.  Note that artists whose label start with an underscore are ignored when legend() is called with no argument.\n",
      "  axs[row][col].legend()\n"
     ]
    },
    {
     "name": "stdout",
     "output_type": "stream",
     "text": [
      "Moviepy - Done !\n",
      "Moviepy - video ready checkpoints/CartPole-v1_quantized_search_37_CartPole-v1/step_9324/videos/CartPole-v1_quantized_search_37_CartPole-v1/9324/CartPole-v1_quantized_search_37_CartPole-v1-episode-139.mp4\n",
      "score:  9.0\n",
      "score:  19.0\n",
      "score:  27.0\n",
      "score:  19.0\n",
      "score:  30.0\n",
      "Moviepy - Building video checkpoints/CartPole-v1_quantized_search_37_CartPole-v1/step_9657/videos/CartPole-v1_quantized_search_37_CartPole-v1/9657/CartPole-v1_quantized_search_37_CartPole-v1-episode-144.mp4.\n",
      "Moviepy - Writing video checkpoints/CartPole-v1_quantized_search_37_CartPole-v1/step_9657/videos/CartPole-v1_quantized_search_37_CartPole-v1/9657/CartPole-v1_quantized_search_37_CartPole-v1-episode-144.mp4\n",
      "\n"
     ]
    },
    {
     "name": "stderr",
     "output_type": "stream",
     "text": [
      "/Users/jonathanlamontange-kratz/Documents/GitHub/rl-stuff/packages/utils/utils/utils.py:257: UserWarning: No artists with labels found to put in legend.  Note that artists whose label start with an underscore are ignored when legend() is called with no argument.\n",
      "  axs[row][col].legend()\n"
     ]
    },
    {
     "name": "stdout",
     "output_type": "stream",
     "text": [
      "Moviepy - Done !\n",
      "Moviepy - video ready checkpoints/CartPole-v1_quantized_search_37_CartPole-v1/step_9657/videos/CartPole-v1_quantized_search_37_CartPole-v1/9657/CartPole-v1_quantized_search_37_CartPole-v1-episode-144.mp4\n",
      "score:  25.0\n",
      "score:  146.0\n",
      "score:  58.0\n",
      "score:  47.0\n",
      "score:  46.0\n",
      "Moviepy - Building video checkpoints/CartPole-v1_quantized_search_37_CartPole-v1/step_9990/videos/CartPole-v1_quantized_search_37_CartPole-v1/9990/CartPole-v1_quantized_search_37_CartPole-v1-episode-149.mp4.\n",
      "Moviepy - Writing video checkpoints/CartPole-v1_quantized_search_37_CartPole-v1/step_9990/videos/CartPole-v1_quantized_search_37_CartPole-v1/9990/CartPole-v1_quantized_search_37_CartPole-v1-episode-149.mp4\n",
      "\n"
     ]
    },
    {
     "name": "stderr",
     "output_type": "stream",
     "text": [
      "/Users/jonathanlamontange-kratz/Documents/GitHub/rl-stuff/packages/utils/utils/utils.py:257: UserWarning: No artists with labels found to put in legend.  Note that artists whose label start with an underscore are ignored when legend() is called with no argument.\n",
      "  axs[row][col].legend()\n"
     ]
    },
    {
     "name": "stdout",
     "output_type": "stream",
     "text": [
      "Moviepy - Done !\n",
      "Moviepy - video ready checkpoints/CartPole-v1_quantized_search_37_CartPole-v1/step_9990/videos/CartPole-v1_quantized_search_37_CartPole-v1/9990/CartPole-v1_quantized_search_37_CartPole-v1-episode-149.mp4\n",
      "score:  150.0\n",
      "score:  39.0\n",
      "score:  39.0\n",
      "score:  33.0\n",
      "score:  35.0\n",
      "Moviepy - Building video checkpoints/CartPole-v1_quantized_search_37_CartPole-v1/step_9999/videos/CartPole-v1_quantized_search_37_CartPole-v1/9999/CartPole-v1_quantized_search_37_CartPole-v1-episode-154.mp4.\n",
      "Moviepy - Writing video checkpoints/CartPole-v1_quantized_search_37_CartPole-v1/step_9999/videos/CartPole-v1_quantized_search_37_CartPole-v1/9999/CartPole-v1_quantized_search_37_CartPole-v1-episode-154.mp4\n",
      "\n"
     ]
    },
    {
     "name": "stderr",
     "output_type": "stream",
     "text": [
      "/Users/jonathanlamontange-kratz/Documents/GitHub/rl-stuff/packages/utils/utils/utils.py:257: UserWarning: No artists with labels found to put in legend.  Note that artists whose label start with an underscore are ignored when legend() is called with no argument.\n",
      "  axs[row][col].legend()\n"
     ]
    },
    {
     "name": "stdout",
     "output_type": "stream",
     "text": [
      "Moviepy - Done !\n",
      "Moviepy - video ready checkpoints/CartPole-v1_quantized_search_37_CartPole-v1/step_9999/videos/CartPole-v1_quantized_search_37_CartPole-v1/9999/CartPole-v1_quantized_search_37_CartPole-v1-episode-154.mp4\n",
      "score:  41.0\n",
      "Training complete\n",
      "score:  37.0\n",
      "score:  38.0\n",
      "score:  38.0\n",
      "score:  35.0\n",
      "Moviepy - Building video ./checkpoints//videos/CartPole-v1_quantized_search_37_CartPole-v1/5000/CartPole-v1_quantized_search_37_CartPole-v1-episode-159.mp4.\n",
      "Moviepy - Writing video ./checkpoints//videos/CartPole-v1_quantized_search_37_CartPole-v1/5000/CartPole-v1_quantized_search_37_CartPole-v1-episode-159.mp4\n",
      "\n"
     ]
    },
    {
     "name": "stderr",
     "output_type": "stream",
     "text": [
      "                                                           \r"
     ]
    },
    {
     "name": "stdout",
     "output_type": "stream",
     "text": [
      "Moviepy - Done !\n",
      "Moviepy - video ready ./checkpoints//videos/CartPole-v1_quantized_search_37_CartPole-v1/5000/CartPole-v1_quantized_search_37_CartPole-v1-episode-159.mp4\n",
      "score:  37.0\n",
      "score:  32.0\n",
      "score:  33.0\n",
      "score:  39.0\n",
      "score:  33.0\n",
      "score:  31.0\n",
      "parallel programs done\n",
      "Params:  {'adam_epsilon': 0.0059375, 'advantage_hidden_layers_widths': (64, 64, 512, 1024), 'atom_size': 51, 'clipnorm': 0.8, 'conv_layers': (), 'dense_layers_widths': (1024, 1024, 1024, 1024), 'discount_factor': 0.979, 'kernel_initializer': 'orthogonal', 'learning_rate': 0.00425, 'loss_function': <utils.utils.KLDivergence object at 0x288bc7740>, 'min_replay_buffer_size': 1375, 'minibatch_size': 48, 'n_step': 10, 'per_alpha': 0.5, 'per_beta': 0.6000000000000001, 'per_epsilon': 0.05142000000000001, 'replay_buffer_size': 10000, 'replay_interval': 5, 'training_steps': 10000, 'transfer_interval': 60, 'value_hidden_layers_widths': (32, 32, 128, 128)}\n",
      "Making environments\n",
      "CartPole-v1_quantized_search\n",
      "Using default save_intermediate_weights     : True\n",
      "Using         training_steps                : 10000\n",
      "Using         adam_epsilon                  : 0.0059375\n",
      "Using         learning_rate                 : 0.00425\n",
      "Using         clipnorm                      : 0.8\n",
      "Using default optimizer                     : <class 'torch.optim.adam.Adam'>\n",
      "Using         loss_function                 : <utils.utils.KLDivergence object at 0x288bc7740>\n",
      "Using default activation                    : relu\n",
      "Using         kernel_initializer            : orthogonal\n",
      "Using         minibatch_size                : 48\n",
      "Using         replay_buffer_size            : 10000\n",
      "Using         min_replay_buffer_size        : 1375\n",
      "Using default num_minibatches               : 1\n",
      "Using default training_iterations           : 1\n",
      "Using         conv_layers                   : ()\n",
      "Using         dense_layers_widths           : (1024, 1024, 1024, 1024)\n",
      "Using         value_hidden_layers_widths    : (32, 32, 128, 128)\n",
      "Using         advantage_hidden_layers_widths: (64, 64, 512, 1024)\n",
      "Using default noisy_sigma                   : 0.5\n",
      "Using default deuling                       : True\n",
      "Using         discount_factor               : 0.979\n",
      "Using default soft_update                   : False\n",
      "Using         transfer_interval             : 60\n",
      "Using default ema_beta                      : 0.99\n",
      "Using         replay_interval               : 5\n",
      "Using         per_alpha                     : 0.5\n",
      "Using         per_beta                      : 0.6000000000000001\n",
      "Using         per_epsilon                   : 0.05142000000000001\n",
      "Using         n_step                        : 10\n",
      "Using         atom_size                     : 51\n",
      "observation_dimensions:  (4,)\n",
      "num_actions:  2\n"
     ]
    },
    {
     "name": "stderr",
     "output_type": "stream",
     "text": [
      "/Library/Frameworks/Python.framework/Versions/3.12/lib/python3.12/site-packages/gymnasium/wrappers/record_video.py:94: UserWarning: \u001b[33mWARN: Overwriting existing videos at /Users/jonathanlamontange-kratz/Documents/GitHub/rl-stuff/experiments/rainbow_and_ape-x folder (try specifying a different `video_folder` for the `RecordVideo` wrapper if this is not desired)\u001b[0m\n",
      "  logger.warn(\n"
     ]
    },
    {
     "name": "stdout",
     "output_type": "stream",
     "text": [
      "score:  10.0\n",
      "score:  9.0\n",
      "score:  8.0\n",
      "score:  10.0\n",
      "Moviepy - Building video checkpoints/CartPole-v1_quantized_search_38_CartPole-v1/step_333/videos/CartPole-v1_quantized_search_38_CartPole-v1/333/CartPole-v1_quantized_search_38_CartPole-v1-episode-4.mp4.\n",
      "Moviepy - Writing video checkpoints/CartPole-v1_quantized_search_38_CartPole-v1/step_333/videos/CartPole-v1_quantized_search_38_CartPole-v1/333/CartPole-v1_quantized_search_38_CartPole-v1-episode-4.mp4\n",
      "\n"
     ]
    },
    {
     "name": "stderr",
     "output_type": "stream",
     "text": [
      "/Users/jonathanlamontange-kratz/Documents/GitHub/rl-stuff/packages/utils/utils/utils.py:257: UserWarning: No artists with labels found to put in legend.  Note that artists whose label start with an underscore are ignored when legend() is called with no argument.\n",
      "  axs[row][col].legend()\n",
      "/Users/jonathanlamontange-kratz/Documents/GitHub/rl-stuff/packages/utils/utils/utils.py:187: UserWarning: Attempting to set identical low and high xlims makes transformation singular; automatically expanding.\n",
      "  axs[row][col].set_xlim(1, len(values))\n"
     ]
    },
    {
     "name": "stdout",
     "output_type": "stream",
     "text": [
      "Moviepy - Done !\n",
      "Moviepy - video ready checkpoints/CartPole-v1_quantized_search_38_CartPole-v1/step_333/videos/CartPole-v1_quantized_search_38_CartPole-v1/333/CartPole-v1_quantized_search_38_CartPole-v1-episode-4.mp4\n",
      "score:  10.0\n",
      "score:  9.0\n",
      "score:  9.0\n",
      "score:  10.0\n",
      "score:  9.0\n",
      "Moviepy - Building video checkpoints/CartPole-v1_quantized_search_38_CartPole-v1/step_666/videos/CartPole-v1_quantized_search_38_CartPole-v1/666/CartPole-v1_quantized_search_38_CartPole-v1-episode-9.mp4.\n",
      "Moviepy - Writing video checkpoints/CartPole-v1_quantized_search_38_CartPole-v1/step_666/videos/CartPole-v1_quantized_search_38_CartPole-v1/666/CartPole-v1_quantized_search_38_CartPole-v1-episode-9.mp4\n",
      "\n"
     ]
    },
    {
     "name": "stderr",
     "output_type": "stream",
     "text": [
      "/Users/jonathanlamontange-kratz/Documents/GitHub/rl-stuff/packages/utils/utils/utils.py:257: UserWarning: No artists with labels found to put in legend.  Note that artists whose label start with an underscore are ignored when legend() is called with no argument.\n",
      "  axs[row][col].legend()\n"
     ]
    },
    {
     "name": "stdout",
     "output_type": "stream",
     "text": [
      "Moviepy - Done !\n",
      "Moviepy - video ready checkpoints/CartPole-v1_quantized_search_38_CartPole-v1/step_666/videos/CartPole-v1_quantized_search_38_CartPole-v1/666/CartPole-v1_quantized_search_38_CartPole-v1-episode-9.mp4\n",
      "score:  10.0\n",
      "score:  10.0\n",
      "score:  10.0\n",
      "score:  11.0\n",
      "score:  9.0\n",
      "Moviepy - Building video checkpoints/CartPole-v1_quantized_search_38_CartPole-v1/step_999/videos/CartPole-v1_quantized_search_38_CartPole-v1/999/CartPole-v1_quantized_search_38_CartPole-v1-episode-14.mp4.\n",
      "Moviepy - Writing video checkpoints/CartPole-v1_quantized_search_38_CartPole-v1/step_999/videos/CartPole-v1_quantized_search_38_CartPole-v1/999/CartPole-v1_quantized_search_38_CartPole-v1-episode-14.mp4\n",
      "\n"
     ]
    },
    {
     "name": "stderr",
     "output_type": "stream",
     "text": [
      "/Users/jonathanlamontange-kratz/Documents/GitHub/rl-stuff/packages/utils/utils/utils.py:257: UserWarning: No artists with labels found to put in legend.  Note that artists whose label start with an underscore are ignored when legend() is called with no argument.\n",
      "  axs[row][col].legend()\n"
     ]
    },
    {
     "name": "stdout",
     "output_type": "stream",
     "text": [
      "Moviepy - Done !\n",
      "Moviepy - video ready checkpoints/CartPole-v1_quantized_search_38_CartPole-v1/step_999/videos/CartPole-v1_quantized_search_38_CartPole-v1/999/CartPole-v1_quantized_search_38_CartPole-v1-episode-14.mp4\n",
      "score:  10.0\n",
      "score:  87.0\n",
      "score:  52.0\n",
      "score:  64.0\n",
      "score:  49.0\n",
      "Moviepy - Building video checkpoints/CartPole-v1_quantized_search_38_CartPole-v1/step_1332/videos/CartPole-v1_quantized_search_38_CartPole-v1/1332/CartPole-v1_quantized_search_38_CartPole-v1-episode-19.mp4.\n",
      "Moviepy - Writing video checkpoints/CartPole-v1_quantized_search_38_CartPole-v1/step_1332/videos/CartPole-v1_quantized_search_38_CartPole-v1/1332/CartPole-v1_quantized_search_38_CartPole-v1-episode-19.mp4\n",
      "\n"
     ]
    },
    {
     "name": "stderr",
     "output_type": "stream",
     "text": [
      "/Users/jonathanlamontange-kratz/Documents/GitHub/rl-stuff/packages/utils/utils/utils.py:257: UserWarning: No artists with labels found to put in legend.  Note that artists whose label start with an underscore are ignored when legend() is called with no argument.\n",
      "  axs[row][col].legend()\n"
     ]
    },
    {
     "name": "stdout",
     "output_type": "stream",
     "text": [
      "Moviepy - Done !\n",
      "Moviepy - video ready checkpoints/CartPole-v1_quantized_search_38_CartPole-v1/step_1332/videos/CartPole-v1_quantized_search_38_CartPole-v1/1332/CartPole-v1_quantized_search_38_CartPole-v1-episode-19.mp4\n",
      "score:  71.0\n",
      "score:  115.0\n",
      "score:  112.0\n",
      "score:  69.0\n",
      "score:  107.0\n",
      "Moviepy - Building video checkpoints/CartPole-v1_quantized_search_38_CartPole-v1/step_1665/videos/CartPole-v1_quantized_search_38_CartPole-v1/1665/CartPole-v1_quantized_search_38_CartPole-v1-episode-24.mp4.\n",
      "Moviepy - Writing video checkpoints/CartPole-v1_quantized_search_38_CartPole-v1/step_1665/videos/CartPole-v1_quantized_search_38_CartPole-v1/1665/CartPole-v1_quantized_search_38_CartPole-v1-episode-24.mp4\n",
      "\n"
     ]
    },
    {
     "name": "stderr",
     "output_type": "stream",
     "text": [
      "/Users/jonathanlamontange-kratz/Documents/GitHub/rl-stuff/packages/utils/utils/utils.py:257: UserWarning: No artists with labels found to put in legend.  Note that artists whose label start with an underscore are ignored when legend() is called with no argument.\n",
      "  axs[row][col].legend()\n"
     ]
    },
    {
     "name": "stdout",
     "output_type": "stream",
     "text": [
      "Moviepy - Done !\n",
      "Moviepy - video ready checkpoints/CartPole-v1_quantized_search_38_CartPole-v1/step_1665/videos/CartPole-v1_quantized_search_38_CartPole-v1/1665/CartPole-v1_quantized_search_38_CartPole-v1-episode-24.mp4\n",
      "score:  86.0\n",
      "score:  48.0\n",
      "score:  32.0\n",
      "score:  40.0\n",
      "score:  32.0\n",
      "Moviepy - Building video checkpoints/CartPole-v1_quantized_search_38_CartPole-v1/step_1998/videos/CartPole-v1_quantized_search_38_CartPole-v1/1998/CartPole-v1_quantized_search_38_CartPole-v1-episode-29.mp4.\n",
      "Moviepy - Writing video checkpoints/CartPole-v1_quantized_search_38_CartPole-v1/step_1998/videos/CartPole-v1_quantized_search_38_CartPole-v1/1998/CartPole-v1_quantized_search_38_CartPole-v1-episode-29.mp4\n",
      "\n"
     ]
    },
    {
     "name": "stderr",
     "output_type": "stream",
     "text": [
      "/Users/jonathanlamontange-kratz/Documents/GitHub/rl-stuff/packages/utils/utils/utils.py:257: UserWarning: No artists with labels found to put in legend.  Note that artists whose label start with an underscore are ignored when legend() is called with no argument.\n",
      "  axs[row][col].legend()\n"
     ]
    },
    {
     "name": "stdout",
     "output_type": "stream",
     "text": [
      "Moviepy - Done !\n",
      "Moviepy - video ready checkpoints/CartPole-v1_quantized_search_38_CartPole-v1/step_1998/videos/CartPole-v1_quantized_search_38_CartPole-v1/1998/CartPole-v1_quantized_search_38_CartPole-v1-episode-29.mp4\n",
      "score:  42.0\n",
      "score:  77.0\n",
      "score:  58.0\n",
      "score:  49.0\n",
      "score:  69.0\n",
      "Moviepy - Building video checkpoints/CartPole-v1_quantized_search_38_CartPole-v1/step_2331/videos/CartPole-v1_quantized_search_38_CartPole-v1/2331/CartPole-v1_quantized_search_38_CartPole-v1-episode-34.mp4.\n",
      "Moviepy - Writing video checkpoints/CartPole-v1_quantized_search_38_CartPole-v1/step_2331/videos/CartPole-v1_quantized_search_38_CartPole-v1/2331/CartPole-v1_quantized_search_38_CartPole-v1-episode-34.mp4\n",
      "\n"
     ]
    },
    {
     "name": "stderr",
     "output_type": "stream",
     "text": [
      "/Users/jonathanlamontange-kratz/Documents/GitHub/rl-stuff/packages/utils/utils/utils.py:257: UserWarning: No artists with labels found to put in legend.  Note that artists whose label start with an underscore are ignored when legend() is called with no argument.\n",
      "  axs[row][col].legend()\n"
     ]
    },
    {
     "name": "stdout",
     "output_type": "stream",
     "text": [
      "Moviepy - Done !\n",
      "Moviepy - video ready checkpoints/CartPole-v1_quantized_search_38_CartPole-v1/step_2331/videos/CartPole-v1_quantized_search_38_CartPole-v1/2331/CartPole-v1_quantized_search_38_CartPole-v1-episode-34.mp4\n",
      "score:  47.0\n",
      "score:  125.0\n",
      "score:  121.0\n",
      "score:  121.0\n",
      "score:  121.0\n",
      "Moviepy - Building video checkpoints/CartPole-v1_quantized_search_38_CartPole-v1/step_2664/videos/CartPole-v1_quantized_search_38_CartPole-v1/2664/CartPole-v1_quantized_search_38_CartPole-v1-episode-39.mp4.\n",
      "Moviepy - Writing video checkpoints/CartPole-v1_quantized_search_38_CartPole-v1/step_2664/videos/CartPole-v1_quantized_search_38_CartPole-v1/2664/CartPole-v1_quantized_search_38_CartPole-v1-episode-39.mp4\n",
      "\n"
     ]
    },
    {
     "name": "stderr",
     "output_type": "stream",
     "text": [
      "/Users/jonathanlamontange-kratz/Documents/GitHub/rl-stuff/packages/utils/utils/utils.py:257: UserWarning: No artists with labels found to put in legend.  Note that artists whose label start with an underscore are ignored when legend() is called with no argument.\n",
      "  axs[row][col].legend()\n"
     ]
    },
    {
     "name": "stdout",
     "output_type": "stream",
     "text": [
      "Moviepy - Done !\n",
      "Moviepy - video ready checkpoints/CartPole-v1_quantized_search_38_CartPole-v1/step_2664/videos/CartPole-v1_quantized_search_38_CartPole-v1/2664/CartPole-v1_quantized_search_38_CartPole-v1-episode-39.mp4\n",
      "score:  102.0\n",
      "score:  138.0\n",
      "score:  117.0\n",
      "score:  124.0\n",
      "score:  392.0\n",
      "Moviepy - Building video checkpoints/CartPole-v1_quantized_search_38_CartPole-v1/step_2997/videos/CartPole-v1_quantized_search_38_CartPole-v1/2997/CartPole-v1_quantized_search_38_CartPole-v1-episode-44.mp4.\n",
      "Moviepy - Writing video checkpoints/CartPole-v1_quantized_search_38_CartPole-v1/step_2997/videos/CartPole-v1_quantized_search_38_CartPole-v1/2997/CartPole-v1_quantized_search_38_CartPole-v1-episode-44.mp4\n",
      "\n"
     ]
    },
    {
     "name": "stderr",
     "output_type": "stream",
     "text": [
      "/Users/jonathanlamontange-kratz/Documents/GitHub/rl-stuff/packages/utils/utils/utils.py:257: UserWarning: No artists with labels found to put in legend.  Note that artists whose label start with an underscore are ignored when legend() is called with no argument.\n",
      "  axs[row][col].legend()\n"
     ]
    },
    {
     "name": "stdout",
     "output_type": "stream",
     "text": [
      "Moviepy - Done !\n",
      "Moviepy - video ready checkpoints/CartPole-v1_quantized_search_38_CartPole-v1/step_2997/videos/CartPole-v1_quantized_search_38_CartPole-v1/2997/CartPole-v1_quantized_search_38_CartPole-v1-episode-44.mp4\n",
      "score:  122.0\n",
      "score:  159.0\n",
      "score:  251.0\n",
      "score:  188.0\n",
      "score:  148.0\n",
      "Moviepy - Building video checkpoints/CartPole-v1_quantized_search_38_CartPole-v1/step_3330/videos/CartPole-v1_quantized_search_38_CartPole-v1/3330/CartPole-v1_quantized_search_38_CartPole-v1-episode-49.mp4.\n",
      "Moviepy - Writing video checkpoints/CartPole-v1_quantized_search_38_CartPole-v1/step_3330/videos/CartPole-v1_quantized_search_38_CartPole-v1/3330/CartPole-v1_quantized_search_38_CartPole-v1-episode-49.mp4\n",
      "\n"
     ]
    },
    {
     "name": "stderr",
     "output_type": "stream",
     "text": [
      "                                                               \r"
     ]
    },
    {
     "name": "stdout",
     "output_type": "stream",
     "text": [
      "Moviepy - Done !\n",
      "Moviepy - video ready checkpoints/CartPole-v1_quantized_search_38_CartPole-v1/step_3330/videos/CartPole-v1_quantized_search_38_CartPole-v1/3330/CartPole-v1_quantized_search_38_CartPole-v1-episode-49.mp4\n",
      "score:  153.0\n"
     ]
    },
    {
     "name": "stderr",
     "output_type": "stream",
     "text": [
      "/Users/jonathanlamontange-kratz/Documents/GitHub/rl-stuff/packages/utils/utils/utils.py:257: UserWarning: No artists with labels found to put in legend.  Note that artists whose label start with an underscore are ignored when legend() is called with no argument.\n",
      "  axs[row][col].legend()\n"
     ]
    },
    {
     "name": "stdout",
     "output_type": "stream",
     "text": [
      "score:  385.0\n",
      "score:  358.0\n",
      "score:  500.0\n",
      "score:  500.0\n",
      "Moviepy - Building video checkpoints/CartPole-v1_quantized_search_38_CartPole-v1/step_3663/videos/CartPole-v1_quantized_search_38_CartPole-v1/3663/CartPole-v1_quantized_search_38_CartPole-v1-episode-54.mp4.\n",
      "Moviepy - Writing video checkpoints/CartPole-v1_quantized_search_38_CartPole-v1/step_3663/videos/CartPole-v1_quantized_search_38_CartPole-v1/3663/CartPole-v1_quantized_search_38_CartPole-v1-episode-54.mp4\n",
      "\n"
     ]
    },
    {
     "name": "stderr",
     "output_type": "stream",
     "text": [
      "/Users/jonathanlamontange-kratz/Documents/GitHub/rl-stuff/packages/utils/utils/utils.py:257: UserWarning: No artists with labels found to put in legend.  Note that artists whose label start with an underscore are ignored when legend() is called with no argument.\n",
      "  axs[row][col].legend()\n"
     ]
    },
    {
     "name": "stdout",
     "output_type": "stream",
     "text": [
      "Moviepy - Done !\n",
      "Moviepy - video ready checkpoints/CartPole-v1_quantized_search_38_CartPole-v1/step_3663/videos/CartPole-v1_quantized_search_38_CartPole-v1/3663/CartPole-v1_quantized_search_38_CartPole-v1-episode-54.mp4\n",
      "score:  368.0\n",
      "score:  218.0\n",
      "score:  234.0\n",
      "score:  237.0\n",
      "score:  209.0\n",
      "Moviepy - Building video checkpoints/CartPole-v1_quantized_search_38_CartPole-v1/step_3996/videos/CartPole-v1_quantized_search_38_CartPole-v1/3996/CartPole-v1_quantized_search_38_CartPole-v1-episode-59.mp4.\n",
      "Moviepy - Writing video checkpoints/CartPole-v1_quantized_search_38_CartPole-v1/step_3996/videos/CartPole-v1_quantized_search_38_CartPole-v1/3996/CartPole-v1_quantized_search_38_CartPole-v1-episode-59.mp4\n",
      "\n"
     ]
    },
    {
     "name": "stderr",
     "output_type": "stream",
     "text": [
      "/Users/jonathanlamontange-kratz/Documents/GitHub/rl-stuff/packages/utils/utils/utils.py:257: UserWarning: No artists with labels found to put in legend.  Note that artists whose label start with an underscore are ignored when legend() is called with no argument.\n",
      "  axs[row][col].legend()\n"
     ]
    },
    {
     "name": "stdout",
     "output_type": "stream",
     "text": [
      "Moviepy - Done !\n",
      "Moviepy - video ready checkpoints/CartPole-v1_quantized_search_38_CartPole-v1/step_3996/videos/CartPole-v1_quantized_search_38_CartPole-v1/3996/CartPole-v1_quantized_search_38_CartPole-v1-episode-59.mp4\n",
      "score:  283.0\n",
      "score:  120.0\n",
      "score:  137.0\n",
      "score:  122.0\n",
      "score:  216.0\n",
      "Moviepy - Building video checkpoints/CartPole-v1_quantized_search_38_CartPole-v1/step_4329/videos/CartPole-v1_quantized_search_38_CartPole-v1/4329/CartPole-v1_quantized_search_38_CartPole-v1-episode-64.mp4.\n",
      "Moviepy - Writing video checkpoints/CartPole-v1_quantized_search_38_CartPole-v1/step_4329/videos/CartPole-v1_quantized_search_38_CartPole-v1/4329/CartPole-v1_quantized_search_38_CartPole-v1-episode-64.mp4\n",
      "\n"
     ]
    },
    {
     "name": "stderr",
     "output_type": "stream",
     "text": [
      "/Users/jonathanlamontange-kratz/Documents/GitHub/rl-stuff/packages/utils/utils/utils.py:257: UserWarning: No artists with labels found to put in legend.  Note that artists whose label start with an underscore are ignored when legend() is called with no argument.\n",
      "  axs[row][col].legend()\n"
     ]
    },
    {
     "name": "stdout",
     "output_type": "stream",
     "text": [
      "Moviepy - Done !\n",
      "Moviepy - video ready checkpoints/CartPole-v1_quantized_search_38_CartPole-v1/step_4329/videos/CartPole-v1_quantized_search_38_CartPole-v1/4329/CartPole-v1_quantized_search_38_CartPole-v1-episode-64.mp4\n",
      "score:  144.0\n",
      "score:  58.0\n",
      "score:  46.0\n",
      "score:  56.0\n",
      "score:  59.0\n",
      "Moviepy - Building video checkpoints/CartPole-v1_quantized_search_38_CartPole-v1/step_4662/videos/CartPole-v1_quantized_search_38_CartPole-v1/4662/CartPole-v1_quantized_search_38_CartPole-v1-episode-69.mp4.\n",
      "Moviepy - Writing video checkpoints/CartPole-v1_quantized_search_38_CartPole-v1/step_4662/videos/CartPole-v1_quantized_search_38_CartPole-v1/4662/CartPole-v1_quantized_search_38_CartPole-v1-episode-69.mp4\n",
      "\n"
     ]
    },
    {
     "name": "stderr",
     "output_type": "stream",
     "text": [
      "                                                           \r"
     ]
    },
    {
     "name": "stdout",
     "output_type": "stream",
     "text": [
      "Moviepy - Done !\n",
      "Moviepy - video ready checkpoints/CartPole-v1_quantized_search_38_CartPole-v1/step_4662/videos/CartPole-v1_quantized_search_38_CartPole-v1/4662/CartPole-v1_quantized_search_38_CartPole-v1-episode-69.mp4\n",
      "score:  82.0\n"
     ]
    },
    {
     "name": "stderr",
     "output_type": "stream",
     "text": [
      "/Users/jonathanlamontange-kratz/Documents/GitHub/rl-stuff/packages/utils/utils/utils.py:257: UserWarning: No artists with labels found to put in legend.  Note that artists whose label start with an underscore are ignored when legend() is called with no argument.\n",
      "  axs[row][col].legend()\n"
     ]
    },
    {
     "name": "stdout",
     "output_type": "stream",
     "text": [
      "score:  166.0\n",
      "score:  161.0\n",
      "score:  158.0\n",
      "score:  156.0\n",
      "Moviepy - Building video checkpoints/CartPole-v1_quantized_search_38_CartPole-v1/step_4995/videos/CartPole-v1_quantized_search_38_CartPole-v1/4995/CartPole-v1_quantized_search_38_CartPole-v1-episode-74.mp4.\n",
      "Moviepy - Writing video checkpoints/CartPole-v1_quantized_search_38_CartPole-v1/step_4995/videos/CartPole-v1_quantized_search_38_CartPole-v1/4995/CartPole-v1_quantized_search_38_CartPole-v1-episode-74.mp4\n",
      "\n"
     ]
    },
    {
     "name": "stderr",
     "output_type": "stream",
     "text": [
      "/Users/jonathanlamontange-kratz/Documents/GitHub/rl-stuff/packages/utils/utils/utils.py:257: UserWarning: No artists with labels found to put in legend.  Note that artists whose label start with an underscore are ignored when legend() is called with no argument.\n",
      "  axs[row][col].legend()\n"
     ]
    },
    {
     "name": "stdout",
     "output_type": "stream",
     "text": [
      "Moviepy - Done !\n",
      "Moviepy - video ready checkpoints/CartPole-v1_quantized_search_38_CartPole-v1/step_4995/videos/CartPole-v1_quantized_search_38_CartPole-v1/4995/CartPole-v1_quantized_search_38_CartPole-v1-episode-74.mp4\n",
      "score:  132.0\n",
      "score:  278.0\n",
      "score:  238.0\n",
      "score:  254.0\n",
      "score:  269.0\n",
      "Moviepy - Building video checkpoints/CartPole-v1_quantized_search_38_CartPole-v1/step_5328/videos/CartPole-v1_quantized_search_38_CartPole-v1/5328/CartPole-v1_quantized_search_38_CartPole-v1-episode-79.mp4.\n",
      "Moviepy - Writing video checkpoints/CartPole-v1_quantized_search_38_CartPole-v1/step_5328/videos/CartPole-v1_quantized_search_38_CartPole-v1/5328/CartPole-v1_quantized_search_38_CartPole-v1-episode-79.mp4\n",
      "\n"
     ]
    },
    {
     "name": "stderr",
     "output_type": "stream",
     "text": [
      "/Users/jonathanlamontange-kratz/Documents/GitHub/rl-stuff/packages/utils/utils/utils.py:257: UserWarning: No artists with labels found to put in legend.  Note that artists whose label start with an underscore are ignored when legend() is called with no argument.\n",
      "  axs[row][col].legend()\n"
     ]
    },
    {
     "name": "stdout",
     "output_type": "stream",
     "text": [
      "Moviepy - Done !\n",
      "Moviepy - video ready checkpoints/CartPole-v1_quantized_search_38_CartPole-v1/step_5328/videos/CartPole-v1_quantized_search_38_CartPole-v1/5328/CartPole-v1_quantized_search_38_CartPole-v1-episode-79.mp4\n",
      "score:  249.0\n",
      "score:  183.0\n",
      "score:  172.0\n",
      "score:  210.0\n",
      "score:  181.0\n",
      "Moviepy - Building video checkpoints/CartPole-v1_quantized_search_38_CartPole-v1/step_5661/videos/CartPole-v1_quantized_search_38_CartPole-v1/5661/CartPole-v1_quantized_search_38_CartPole-v1-episode-84.mp4.\n",
      "Moviepy - Writing video checkpoints/CartPole-v1_quantized_search_38_CartPole-v1/step_5661/videos/CartPole-v1_quantized_search_38_CartPole-v1/5661/CartPole-v1_quantized_search_38_CartPole-v1-episode-84.mp4\n",
      "\n"
     ]
    },
    {
     "name": "stderr",
     "output_type": "stream",
     "text": [
      "                                                               \r"
     ]
    },
    {
     "name": "stdout",
     "output_type": "stream",
     "text": [
      "Moviepy - Done !\n",
      "Moviepy - video ready checkpoints/CartPole-v1_quantized_search_38_CartPole-v1/step_5661/videos/CartPole-v1_quantized_search_38_CartPole-v1/5661/CartPole-v1_quantized_search_38_CartPole-v1-episode-84.mp4\n",
      "score:  197.0\n"
     ]
    },
    {
     "name": "stderr",
     "output_type": "stream",
     "text": [
      "/Users/jonathanlamontange-kratz/Documents/GitHub/rl-stuff/packages/utils/utils/utils.py:257: UserWarning: No artists with labels found to put in legend.  Note that artists whose label start with an underscore are ignored when legend() is called with no argument.\n",
      "  axs[row][col].legend()\n"
     ]
    },
    {
     "name": "stdout",
     "output_type": "stream",
     "text": [
      "score:  132.0\n",
      "score:  130.0\n",
      "score:  140.0\n",
      "score:  132.0\n",
      "Moviepy - Building video checkpoints/CartPole-v1_quantized_search_38_CartPole-v1/step_5994/videos/CartPole-v1_quantized_search_38_CartPole-v1/5994/CartPole-v1_quantized_search_38_CartPole-v1-episode-89.mp4.\n",
      "Moviepy - Writing video checkpoints/CartPole-v1_quantized_search_38_CartPole-v1/step_5994/videos/CartPole-v1_quantized_search_38_CartPole-v1/5994/CartPole-v1_quantized_search_38_CartPole-v1-episode-89.mp4\n",
      "\n"
     ]
    },
    {
     "name": "stderr",
     "output_type": "stream",
     "text": [
      "/Users/jonathanlamontange-kratz/Documents/GitHub/rl-stuff/packages/utils/utils/utils.py:257: UserWarning: No artists with labels found to put in legend.  Note that artists whose label start with an underscore are ignored when legend() is called with no argument.\n",
      "  axs[row][col].legend()\n"
     ]
    },
    {
     "name": "stdout",
     "output_type": "stream",
     "text": [
      "Moviepy - Done !\n",
      "Moviepy - video ready checkpoints/CartPole-v1_quantized_search_38_CartPole-v1/step_5994/videos/CartPole-v1_quantized_search_38_CartPole-v1/5994/CartPole-v1_quantized_search_38_CartPole-v1-episode-89.mp4\n",
      "score:  130.0\n",
      "score:  154.0\n",
      "score:  154.0\n",
      "score:  148.0\n",
      "score:  152.0\n",
      "Moviepy - Building video checkpoints/CartPole-v1_quantized_search_38_CartPole-v1/step_6327/videos/CartPole-v1_quantized_search_38_CartPole-v1/6327/CartPole-v1_quantized_search_38_CartPole-v1-episode-94.mp4.\n",
      "Moviepy - Writing video checkpoints/CartPole-v1_quantized_search_38_CartPole-v1/step_6327/videos/CartPole-v1_quantized_search_38_CartPole-v1/6327/CartPole-v1_quantized_search_38_CartPole-v1-episode-94.mp4\n",
      "\n"
     ]
    },
    {
     "name": "stderr",
     "output_type": "stream",
     "text": [
      "                                                               \r"
     ]
    },
    {
     "name": "stdout",
     "output_type": "stream",
     "text": [
      "Moviepy - Done !\n",
      "Moviepy - video ready checkpoints/CartPole-v1_quantized_search_38_CartPole-v1/step_6327/videos/CartPole-v1_quantized_search_38_CartPole-v1/6327/CartPole-v1_quantized_search_38_CartPole-v1-episode-94.mp4\n",
      "score:  159.0\n"
     ]
    },
    {
     "name": "stderr",
     "output_type": "stream",
     "text": [
      "/Users/jonathanlamontange-kratz/Documents/GitHub/rl-stuff/packages/utils/utils/utils.py:257: UserWarning: No artists with labels found to put in legend.  Note that artists whose label start with an underscore are ignored when legend() is called with no argument.\n",
      "  axs[row][col].legend()\n"
     ]
    },
    {
     "name": "stdout",
     "output_type": "stream",
     "text": [
      "score:  129.0\n",
      "score:  130.0\n",
      "score:  126.0\n",
      "score:  116.0\n",
      "Moviepy - Building video checkpoints/CartPole-v1_quantized_search_38_CartPole-v1/step_6660/videos/CartPole-v1_quantized_search_38_CartPole-v1/6660/CartPole-v1_quantized_search_38_CartPole-v1-episode-99.mp4.\n",
      "Moviepy - Writing video checkpoints/CartPole-v1_quantized_search_38_CartPole-v1/step_6660/videos/CartPole-v1_quantized_search_38_CartPole-v1/6660/CartPole-v1_quantized_search_38_CartPole-v1-episode-99.mp4\n",
      "\n"
     ]
    },
    {
     "name": "stderr",
     "output_type": "stream",
     "text": [
      "/Users/jonathanlamontange-kratz/Documents/GitHub/rl-stuff/packages/utils/utils/utils.py:257: UserWarning: No artists with labels found to put in legend.  Note that artists whose label start with an underscore are ignored when legend() is called with no argument.\n",
      "  axs[row][col].legend()\n"
     ]
    },
    {
     "name": "stdout",
     "output_type": "stream",
     "text": [
      "Moviepy - Done !\n",
      "Moviepy - video ready checkpoints/CartPole-v1_quantized_search_38_CartPole-v1/step_6660/videos/CartPole-v1_quantized_search_38_CartPole-v1/6660/CartPole-v1_quantized_search_38_CartPole-v1-episode-99.mp4\n",
      "score:  127.0\n",
      "score:  153.0\n",
      "score:  151.0\n",
      "score:  145.0\n",
      "score:  155.0\n",
      "Moviepy - Building video checkpoints/CartPole-v1_quantized_search_38_CartPole-v1/step_6993/videos/CartPole-v1_quantized_search_38_CartPole-v1/6993/CartPole-v1_quantized_search_38_CartPole-v1-episode-104.mp4.\n",
      "Moviepy - Writing video checkpoints/CartPole-v1_quantized_search_38_CartPole-v1/step_6993/videos/CartPole-v1_quantized_search_38_CartPole-v1/6993/CartPole-v1_quantized_search_38_CartPole-v1-episode-104.mp4\n",
      "\n"
     ]
    },
    {
     "name": "stderr",
     "output_type": "stream",
     "text": [
      "/Users/jonathanlamontange-kratz/Documents/GitHub/rl-stuff/packages/utils/utils/utils.py:257: UserWarning: No artists with labels found to put in legend.  Note that artists whose label start with an underscore are ignored when legend() is called with no argument.\n",
      "  axs[row][col].legend()\n"
     ]
    },
    {
     "name": "stdout",
     "output_type": "stream",
     "text": [
      "Moviepy - Done !\n",
      "Moviepy - video ready checkpoints/CartPole-v1_quantized_search_38_CartPole-v1/step_6993/videos/CartPole-v1_quantized_search_38_CartPole-v1/6993/CartPole-v1_quantized_search_38_CartPole-v1-episode-104.mp4\n",
      "score:  144.0\n",
      "score:  223.0\n",
      "score:  143.0\n",
      "score:  221.0\n",
      "score:  156.0\n",
      "Moviepy - Building video checkpoints/CartPole-v1_quantized_search_38_CartPole-v1/step_7326/videos/CartPole-v1_quantized_search_38_CartPole-v1/7326/CartPole-v1_quantized_search_38_CartPole-v1-episode-109.mp4.\n",
      "Moviepy - Writing video checkpoints/CartPole-v1_quantized_search_38_CartPole-v1/step_7326/videos/CartPole-v1_quantized_search_38_CartPole-v1/7326/CartPole-v1_quantized_search_38_CartPole-v1-episode-109.mp4\n",
      "\n"
     ]
    },
    {
     "name": "stderr",
     "output_type": "stream",
     "text": [
      "/Users/jonathanlamontange-kratz/Documents/GitHub/rl-stuff/packages/utils/utils/utils.py:257: UserWarning: No artists with labels found to put in legend.  Note that artists whose label start with an underscore are ignored when legend() is called with no argument.\n",
      "  axs[row][col].legend()\n"
     ]
    },
    {
     "name": "stdout",
     "output_type": "stream",
     "text": [
      "Moviepy - Done !\n",
      "Moviepy - video ready checkpoints/CartPole-v1_quantized_search_38_CartPole-v1/step_7326/videos/CartPole-v1_quantized_search_38_CartPole-v1/7326/CartPole-v1_quantized_search_38_CartPole-v1-episode-109.mp4\n",
      "score:  165.0\n",
      "score:  237.0\n",
      "score:  500.0\n",
      "score:  284.0\n",
      "score:  270.0\n",
      "Moviepy - Building video checkpoints/CartPole-v1_quantized_search_38_CartPole-v1/step_7659/videos/CartPole-v1_quantized_search_38_CartPole-v1/7659/CartPole-v1_quantized_search_38_CartPole-v1-episode-114.mp4.\n",
      "Moviepy - Writing video checkpoints/CartPole-v1_quantized_search_38_CartPole-v1/step_7659/videos/CartPole-v1_quantized_search_38_CartPole-v1/7659/CartPole-v1_quantized_search_38_CartPole-v1-episode-114.mp4\n",
      "\n"
     ]
    },
    {
     "name": "stderr",
     "output_type": "stream",
     "text": [
      "                                                               \r"
     ]
    },
    {
     "name": "stdout",
     "output_type": "stream",
     "text": [
      "Moviepy - Done !\n",
      "Moviepy - video ready checkpoints/CartPole-v1_quantized_search_38_CartPole-v1/step_7659/videos/CartPole-v1_quantized_search_38_CartPole-v1/7659/CartPole-v1_quantized_search_38_CartPole-v1-episode-114.mp4\n",
      "score:  279.0\n"
     ]
    },
    {
     "name": "stderr",
     "output_type": "stream",
     "text": [
      "/Users/jonathanlamontange-kratz/Documents/GitHub/rl-stuff/packages/utils/utils/utils.py:257: UserWarning: No artists with labels found to put in legend.  Note that artists whose label start with an underscore are ignored when legend() is called with no argument.\n",
      "  axs[row][col].legend()\n"
     ]
    },
    {
     "name": "stdout",
     "output_type": "stream",
     "text": [
      "score:  279.0\n",
      "score:  302.0\n",
      "score:  262.0\n",
      "score:  439.0\n",
      "Moviepy - Building video checkpoints/CartPole-v1_quantized_search_38_CartPole-v1/step_7992/videos/CartPole-v1_quantized_search_38_CartPole-v1/7992/CartPole-v1_quantized_search_38_CartPole-v1-episode-119.mp4.\n",
      "Moviepy - Writing video checkpoints/CartPole-v1_quantized_search_38_CartPole-v1/step_7992/videos/CartPole-v1_quantized_search_38_CartPole-v1/7992/CartPole-v1_quantized_search_38_CartPole-v1-episode-119.mp4\n",
      "\n"
     ]
    },
    {
     "name": "stderr",
     "output_type": "stream",
     "text": [
      "/Users/jonathanlamontange-kratz/Documents/GitHub/rl-stuff/packages/utils/utils/utils.py:257: UserWarning: No artists with labels found to put in legend.  Note that artists whose label start with an underscore are ignored when legend() is called with no argument.\n",
      "  axs[row][col].legend()\n"
     ]
    },
    {
     "name": "stdout",
     "output_type": "stream",
     "text": [
      "Moviepy - Done !\n",
      "Moviepy - video ready checkpoints/CartPole-v1_quantized_search_38_CartPole-v1/step_7992/videos/CartPole-v1_quantized_search_38_CartPole-v1/7992/CartPole-v1_quantized_search_38_CartPole-v1-episode-119.mp4\n",
      "score:  265.0\n",
      "score:  428.0\n",
      "score:  336.0\n",
      "score:  149.0\n",
      "score:  202.0\n",
      "Moviepy - Building video checkpoints/CartPole-v1_quantized_search_38_CartPole-v1/step_8325/videos/CartPole-v1_quantized_search_38_CartPole-v1/8325/CartPole-v1_quantized_search_38_CartPole-v1-episode-124.mp4.\n",
      "Moviepy - Writing video checkpoints/CartPole-v1_quantized_search_38_CartPole-v1/step_8325/videos/CartPole-v1_quantized_search_38_CartPole-v1/8325/CartPole-v1_quantized_search_38_CartPole-v1-episode-124.mp4\n",
      "\n"
     ]
    },
    {
     "name": "stderr",
     "output_type": "stream",
     "text": [
      "/Users/jonathanlamontange-kratz/Documents/GitHub/rl-stuff/packages/utils/utils/utils.py:257: UserWarning: No artists with labels found to put in legend.  Note that artists whose label start with an underscore are ignored when legend() is called with no argument.\n",
      "  axs[row][col].legend()\n"
     ]
    },
    {
     "name": "stdout",
     "output_type": "stream",
     "text": [
      "Moviepy - Done !\n",
      "Moviepy - video ready checkpoints/CartPole-v1_quantized_search_38_CartPole-v1/step_8325/videos/CartPole-v1_quantized_search_38_CartPole-v1/8325/CartPole-v1_quantized_search_38_CartPole-v1-episode-124.mp4\n",
      "score:  308.0\n",
      "score:  205.0\n",
      "score:  296.0\n",
      "score:  280.0\n",
      "score:  274.0\n",
      "Moviepy - Building video checkpoints/CartPole-v1_quantized_search_38_CartPole-v1/step_8658/videos/CartPole-v1_quantized_search_38_CartPole-v1/8658/CartPole-v1_quantized_search_38_CartPole-v1-episode-129.mp4.\n",
      "Moviepy - Writing video checkpoints/CartPole-v1_quantized_search_38_CartPole-v1/step_8658/videos/CartPole-v1_quantized_search_38_CartPole-v1/8658/CartPole-v1_quantized_search_38_CartPole-v1-episode-129.mp4\n",
      "\n"
     ]
    },
    {
     "name": "stderr",
     "output_type": "stream",
     "text": [
      "/Users/jonathanlamontange-kratz/Documents/GitHub/rl-stuff/packages/utils/utils/utils.py:257: UserWarning: No artists with labels found to put in legend.  Note that artists whose label start with an underscore are ignored when legend() is called with no argument.\n",
      "  axs[row][col].legend()\n"
     ]
    },
    {
     "name": "stdout",
     "output_type": "stream",
     "text": [
      "Moviepy - Done !\n",
      "Moviepy - video ready checkpoints/CartPole-v1_quantized_search_38_CartPole-v1/step_8658/videos/CartPole-v1_quantized_search_38_CartPole-v1/8658/CartPole-v1_quantized_search_38_CartPole-v1-episode-129.mp4\n",
      "score:  285.0\n",
      "score:  150.0\n",
      "score:  170.0\n",
      "score:  250.0\n",
      "score:  174.0\n",
      "Moviepy - Building video checkpoints/CartPole-v1_quantized_search_38_CartPole-v1/step_8991/videos/CartPole-v1_quantized_search_38_CartPole-v1/8991/CartPole-v1_quantized_search_38_CartPole-v1-episode-134.mp4.\n",
      "Moviepy - Writing video checkpoints/CartPole-v1_quantized_search_38_CartPole-v1/step_8991/videos/CartPole-v1_quantized_search_38_CartPole-v1/8991/CartPole-v1_quantized_search_38_CartPole-v1-episode-134.mp4\n",
      "\n"
     ]
    },
    {
     "name": "stderr",
     "output_type": "stream",
     "text": [
      "                                                              \r"
     ]
    },
    {
     "name": "stdout",
     "output_type": "stream",
     "text": [
      "Moviepy - Done !\n",
      "Moviepy - video ready checkpoints/CartPole-v1_quantized_search_38_CartPole-v1/step_8991/videos/CartPole-v1_quantized_search_38_CartPole-v1/8991/CartPole-v1_quantized_search_38_CartPole-v1-episode-134.mp4\n",
      "score:  159.0\n"
     ]
    },
    {
     "name": "stderr",
     "output_type": "stream",
     "text": [
      "/Users/jonathanlamontange-kratz/Documents/GitHub/rl-stuff/packages/utils/utils/utils.py:257: UserWarning: No artists with labels found to put in legend.  Note that artists whose label start with an underscore are ignored when legend() is called with no argument.\n",
      "  axs[row][col].legend()\n"
     ]
    },
    {
     "name": "stdout",
     "output_type": "stream",
     "text": [
      "score:  500.0\n",
      "score:  500.0\n",
      "score:  500.0\n",
      "score:  500.0\n",
      "Moviepy - Building video checkpoints/CartPole-v1_quantized_search_38_CartPole-v1/step_9324/videos/CartPole-v1_quantized_search_38_CartPole-v1/9324/CartPole-v1_quantized_search_38_CartPole-v1-episode-139.mp4.\n",
      "Moviepy - Writing video checkpoints/CartPole-v1_quantized_search_38_CartPole-v1/step_9324/videos/CartPole-v1_quantized_search_38_CartPole-v1/9324/CartPole-v1_quantized_search_38_CartPole-v1-episode-139.mp4\n",
      "\n"
     ]
    },
    {
     "name": "stderr",
     "output_type": "stream",
     "text": [
      "                                                               \r"
     ]
    },
    {
     "name": "stdout",
     "output_type": "stream",
     "text": [
      "Moviepy - Done !\n",
      "Moviepy - video ready checkpoints/CartPole-v1_quantized_search_38_CartPole-v1/step_9324/videos/CartPole-v1_quantized_search_38_CartPole-v1/9324/CartPole-v1_quantized_search_38_CartPole-v1-episode-139.mp4\n",
      "score:  500.0\n"
     ]
    },
    {
     "name": "stderr",
     "output_type": "stream",
     "text": [
      "/Users/jonathanlamontange-kratz/Documents/GitHub/rl-stuff/packages/utils/utils/utils.py:257: UserWarning: No artists with labels found to put in legend.  Note that artists whose label start with an underscore are ignored when legend() is called with no argument.\n",
      "  axs[row][col].legend()\n"
     ]
    },
    {
     "name": "stdout",
     "output_type": "stream",
     "text": [
      "score:  500.0\n",
      "score:  354.0\n",
      "score:  333.0\n",
      "score:  338.0\n",
      "Moviepy - Building video checkpoints/CartPole-v1_quantized_search_38_CartPole-v1/step_9657/videos/CartPole-v1_quantized_search_38_CartPole-v1/9657/CartPole-v1_quantized_search_38_CartPole-v1-episode-144.mp4.\n",
      "Moviepy - Writing video checkpoints/CartPole-v1_quantized_search_38_CartPole-v1/step_9657/videos/CartPole-v1_quantized_search_38_CartPole-v1/9657/CartPole-v1_quantized_search_38_CartPole-v1-episode-144.mp4\n",
      "\n"
     ]
    },
    {
     "name": "stderr",
     "output_type": "stream",
     "text": [
      "/Users/jonathanlamontange-kratz/Documents/GitHub/rl-stuff/packages/utils/utils/utils.py:257: UserWarning: No artists with labels found to put in legend.  Note that artists whose label start with an underscore are ignored when legend() is called with no argument.\n",
      "  axs[row][col].legend()\n"
     ]
    },
    {
     "name": "stdout",
     "output_type": "stream",
     "text": [
      "Moviepy - Done !\n",
      "Moviepy - video ready checkpoints/CartPole-v1_quantized_search_38_CartPole-v1/step_9657/videos/CartPole-v1_quantized_search_38_CartPole-v1/9657/CartPole-v1_quantized_search_38_CartPole-v1-episode-144.mp4\n",
      "score:  500.0\n",
      "score:  500.0\n",
      "score:  500.0\n",
      "score:  500.0\n",
      "score:  500.0\n",
      "Moviepy - Building video checkpoints/CartPole-v1_quantized_search_38_CartPole-v1/step_9990/videos/CartPole-v1_quantized_search_38_CartPole-v1/9990/CartPole-v1_quantized_search_38_CartPole-v1-episode-149.mp4.\n",
      "Moviepy - Writing video checkpoints/CartPole-v1_quantized_search_38_CartPole-v1/step_9990/videos/CartPole-v1_quantized_search_38_CartPole-v1/9990/CartPole-v1_quantized_search_38_CartPole-v1-episode-149.mp4\n",
      "\n"
     ]
    },
    {
     "name": "stderr",
     "output_type": "stream",
     "text": [
      "/Users/jonathanlamontange-kratz/Documents/GitHub/rl-stuff/packages/utils/utils/utils.py:257: UserWarning: No artists with labels found to put in legend.  Note that artists whose label start with an underscore are ignored when legend() is called with no argument.\n",
      "  axs[row][col].legend()\n"
     ]
    },
    {
     "name": "stdout",
     "output_type": "stream",
     "text": [
      "Moviepy - Done !\n",
      "Moviepy - video ready checkpoints/CartPole-v1_quantized_search_38_CartPole-v1/step_9990/videos/CartPole-v1_quantized_search_38_CartPole-v1/9990/CartPole-v1_quantized_search_38_CartPole-v1-episode-149.mp4\n",
      "score:  500.0\n",
      "score:  402.0\n",
      "score:  210.0\n",
      "score:  168.0\n",
      "score:  190.0\n",
      "Moviepy - Building video checkpoints/CartPole-v1_quantized_search_38_CartPole-v1/step_9999/videos/CartPole-v1_quantized_search_38_CartPole-v1/9999/CartPole-v1_quantized_search_38_CartPole-v1-episode-154.mp4.\n",
      "Moviepy - Writing video checkpoints/CartPole-v1_quantized_search_38_CartPole-v1/step_9999/videos/CartPole-v1_quantized_search_38_CartPole-v1/9999/CartPole-v1_quantized_search_38_CartPole-v1-episode-154.mp4\n",
      "\n"
     ]
    },
    {
     "name": "stderr",
     "output_type": "stream",
     "text": [
      "                                                               \r"
     ]
    },
    {
     "name": "stdout",
     "output_type": "stream",
     "text": [
      "Moviepy - Done !\n",
      "Moviepy - video ready checkpoints/CartPole-v1_quantized_search_38_CartPole-v1/step_9999/videos/CartPole-v1_quantized_search_38_CartPole-v1/9999/CartPole-v1_quantized_search_38_CartPole-v1-episode-154.mp4\n",
      "score:  500.0\n"
     ]
    },
    {
     "name": "stderr",
     "output_type": "stream",
     "text": [
      "/Users/jonathanlamontange-kratz/Documents/GitHub/rl-stuff/packages/utils/utils/utils.py:257: UserWarning: No artists with labels found to put in legend.  Note that artists whose label start with an underscore are ignored when legend() is called with no argument.\n",
      "  axs[row][col].legend()\n"
     ]
    },
    {
     "name": "stdout",
     "output_type": "stream",
     "text": [
      "Training complete\n",
      "score:  500.0\n",
      "score:  173.0\n",
      "score:  500.0\n",
      "score:  192.0\n",
      "Moviepy - Building video ./checkpoints//videos/CartPole-v1_quantized_search_38_CartPole-v1/5000/CartPole-v1_quantized_search_38_CartPole-v1-episode-159.mp4.\n",
      "Moviepy - Writing video ./checkpoints//videos/CartPole-v1_quantized_search_38_CartPole-v1/5000/CartPole-v1_quantized_search_38_CartPole-v1-episode-159.mp4\n",
      "\n"
     ]
    },
    {
     "name": "stderr",
     "output_type": "stream",
     "text": [
      "                                                               \r"
     ]
    },
    {
     "name": "stdout",
     "output_type": "stream",
     "text": [
      "Moviepy - Done !\n",
      "Moviepy - video ready ./checkpoints//videos/CartPole-v1_quantized_search_38_CartPole-v1/5000/CartPole-v1_quantized_search_38_CartPole-v1-episode-159.mp4\n",
      "score:  500.0\n",
      "score:  178.0\n",
      "score:  185.0\n",
      "score:  173.0\n",
      "score:  500.0\n",
      "score:  259.0\n",
      "parallel programs done\n",
      "Params:  {'adam_epsilon': 0.014687500000000001, 'advantage_hidden_layers_widths': (32, 32, 32, 256), 'atom_size': 51, 'clipnorm': 2.4000000000000004, 'conv_layers': (), 'dense_layers_widths': (32, 32, 32, 1024), 'discount_factor': 0.9410000000000001, 'kernel_initializer': 'he_normal', 'learning_rate': 0.016360000000000003, 'loss_function': <utils.utils.CategoricalCrossentropy object at 0x288bc76e0>, 'min_replay_buffer_size': 1500, 'minibatch_size': 112, 'n_step': 7, 'per_alpha': 0.9, 'per_beta': 0.5, 'per_epsilon': 0.0014600000000000001, 'replay_buffer_size': 4000, 'replay_interval': 2, 'training_steps': 10000, 'transfer_interval': 20, 'value_hidden_layers_widths': (32, 32, 1024, 1024)}\n",
      "Making environments\n",
      "CartPole-v1_quantized_search\n",
      "Using default save_intermediate_weights     : True\n",
      "Using         training_steps                : 10000\n",
      "Using         adam_epsilon                  : 0.014687500000000001\n",
      "Using         learning_rate                 : 0.016360000000000003\n",
      "Using         clipnorm                      : 2.4000000000000004\n",
      "Using default optimizer                     : <class 'torch.optim.adam.Adam'>\n",
      "Using         loss_function                 : <utils.utils.CategoricalCrossentropy object at 0x288bc76e0>\n",
      "Using default activation                    : relu\n",
      "Using         kernel_initializer            : he_normal\n",
      "Using         minibatch_size                : 112\n",
      "Using         replay_buffer_size            : 4000\n",
      "Using         min_replay_buffer_size        : 1500\n",
      "Using default num_minibatches               : 1\n",
      "Using default training_iterations           : 1\n",
      "Using         conv_layers                   : ()\n",
      "Using         dense_layers_widths           : (32, 32, 32, 1024)\n",
      "Using         value_hidden_layers_widths    : (32, 32, 1024, 1024)\n",
      "Using         advantage_hidden_layers_widths: (32, 32, 32, 256)\n",
      "Using default noisy_sigma                   : 0.5\n",
      "Using default deuling                       : True\n",
      "Using         discount_factor               : 0.9410000000000001\n",
      "Using default soft_update                   : False\n",
      "Using         transfer_interval             : 20\n",
      "Using default ema_beta                      : 0.99\n",
      "Using         replay_interval               : 2\n",
      "Using         per_alpha                     : 0.9\n",
      "Using         per_beta                      : 0.5\n",
      "Using         per_epsilon                   : 0.0014600000000000001\n",
      "Using         n_step                        : 7\n",
      "Using         atom_size                     : 51\n",
      "observation_dimensions:  (4,)\n",
      "num_actions:  2\n"
     ]
    },
    {
     "name": "stderr",
     "output_type": "stream",
     "text": [
      "/Library/Frameworks/Python.framework/Versions/3.12/lib/python3.12/site-packages/gymnasium/wrappers/record_video.py:94: UserWarning: \u001b[33mWARN: Overwriting existing videos at /Users/jonathanlamontange-kratz/Documents/GitHub/rl-stuff/experiments/rainbow_and_ape-x folder (try specifying a different `video_folder` for the `RecordVideo` wrapper if this is not desired)\u001b[0m\n",
      "  logger.warn(\n"
     ]
    },
    {
     "name": "stdout",
     "output_type": "stream",
     "text": [
      "score:  14.0\n",
      "score:  19.0\n",
      "score:  16.0\n",
      "score:  20.0\n",
      "Moviepy - Building video checkpoints/CartPole-v1_quantized_search_39_CartPole-v1/step_333/videos/CartPole-v1_quantized_search_39_CartPole-v1/333/CartPole-v1_quantized_search_39_CartPole-v1-episode-4.mp4.\n",
      "Moviepy - Writing video checkpoints/CartPole-v1_quantized_search_39_CartPole-v1/step_333/videos/CartPole-v1_quantized_search_39_CartPole-v1/333/CartPole-v1_quantized_search_39_CartPole-v1-episode-4.mp4\n",
      "\n"
     ]
    },
    {
     "name": "stderr",
     "output_type": "stream",
     "text": [
      "/Users/jonathanlamontange-kratz/Documents/GitHub/rl-stuff/packages/utils/utils/utils.py:257: UserWarning: No artists with labels found to put in legend.  Note that artists whose label start with an underscore are ignored when legend() is called with no argument.\n",
      "  axs[row][col].legend()\n",
      "/Users/jonathanlamontange-kratz/Documents/GitHub/rl-stuff/packages/utils/utils/utils.py:187: UserWarning: Attempting to set identical low and high xlims makes transformation singular; automatically expanding.\n",
      "  axs[row][col].set_xlim(1, len(values))\n"
     ]
    },
    {
     "name": "stdout",
     "output_type": "stream",
     "text": [
      "Moviepy - Done !\n",
      "Moviepy - video ready checkpoints/CartPole-v1_quantized_search_39_CartPole-v1/step_333/videos/CartPole-v1_quantized_search_39_CartPole-v1/333/CartPole-v1_quantized_search_39_CartPole-v1-episode-4.mp4\n",
      "score:  14.0\n",
      "score:  22.0\n",
      "score:  28.0\n",
      "score:  21.0\n",
      "score:  18.0\n",
      "Moviepy - Building video checkpoints/CartPole-v1_quantized_search_39_CartPole-v1/step_666/videos/CartPole-v1_quantized_search_39_CartPole-v1/666/CartPole-v1_quantized_search_39_CartPole-v1-episode-9.mp4.\n",
      "Moviepy - Writing video checkpoints/CartPole-v1_quantized_search_39_CartPole-v1/step_666/videos/CartPole-v1_quantized_search_39_CartPole-v1/666/CartPole-v1_quantized_search_39_CartPole-v1-episode-9.mp4\n",
      "\n"
     ]
    },
    {
     "name": "stderr",
     "output_type": "stream",
     "text": [
      "/Users/jonathanlamontange-kratz/Documents/GitHub/rl-stuff/packages/utils/utils/utils.py:257: UserWarning: No artists with labels found to put in legend.  Note that artists whose label start with an underscore are ignored when legend() is called with no argument.\n",
      "  axs[row][col].legend()\n"
     ]
    },
    {
     "name": "stdout",
     "output_type": "stream",
     "text": [
      "Moviepy - Done !\n",
      "Moviepy - video ready checkpoints/CartPole-v1_quantized_search_39_CartPole-v1/step_666/videos/CartPole-v1_quantized_search_39_CartPole-v1/666/CartPole-v1_quantized_search_39_CartPole-v1-episode-9.mp4\n",
      "score:  21.0\n",
      "score:  21.0\n",
      "score:  27.0\n",
      "score:  30.0\n",
      "score:  25.0\n",
      "Moviepy - Building video checkpoints/CartPole-v1_quantized_search_39_CartPole-v1/step_999/videos/CartPole-v1_quantized_search_39_CartPole-v1/999/CartPole-v1_quantized_search_39_CartPole-v1-episode-14.mp4.\n",
      "Moviepy - Writing video checkpoints/CartPole-v1_quantized_search_39_CartPole-v1/step_999/videos/CartPole-v1_quantized_search_39_CartPole-v1/999/CartPole-v1_quantized_search_39_CartPole-v1-episode-14.mp4\n",
      "\n"
     ]
    },
    {
     "name": "stderr",
     "output_type": "stream",
     "text": [
      "/Users/jonathanlamontange-kratz/Documents/GitHub/rl-stuff/packages/utils/utils/utils.py:257: UserWarning: No artists with labels found to put in legend.  Note that artists whose label start with an underscore are ignored when legend() is called with no argument.\n",
      "  axs[row][col].legend()\n"
     ]
    },
    {
     "name": "stdout",
     "output_type": "stream",
     "text": [
      "Moviepy - Done !\n",
      "Moviepy - video ready checkpoints/CartPole-v1_quantized_search_39_CartPole-v1/step_999/videos/CartPole-v1_quantized_search_39_CartPole-v1/999/CartPole-v1_quantized_search_39_CartPole-v1-episode-14.mp4\n",
      "score:  25.0\n",
      "score:  130.0\n",
      "score:  161.0\n",
      "score:  144.0\n",
      "score:  128.0\n",
      "Moviepy - Building video checkpoints/CartPole-v1_quantized_search_39_CartPole-v1/step_1332/videos/CartPole-v1_quantized_search_39_CartPole-v1/1332/CartPole-v1_quantized_search_39_CartPole-v1-episode-19.mp4.\n",
      "Moviepy - Writing video checkpoints/CartPole-v1_quantized_search_39_CartPole-v1/step_1332/videos/CartPole-v1_quantized_search_39_CartPole-v1/1332/CartPole-v1_quantized_search_39_CartPole-v1-episode-19.mp4\n",
      "\n"
     ]
    },
    {
     "name": "stderr",
     "output_type": "stream",
     "text": [
      "/Users/jonathanlamontange-kratz/Documents/GitHub/rl-stuff/packages/utils/utils/utils.py:257: UserWarning: No artists with labels found to put in legend.  Note that artists whose label start with an underscore are ignored when legend() is called with no argument.\n",
      "  axs[row][col].legend()\n"
     ]
    },
    {
     "name": "stdout",
     "output_type": "stream",
     "text": [
      "Moviepy - Done !\n",
      "Moviepy - video ready checkpoints/CartPole-v1_quantized_search_39_CartPole-v1/step_1332/videos/CartPole-v1_quantized_search_39_CartPole-v1/1332/CartPole-v1_quantized_search_39_CartPole-v1-episode-19.mp4\n",
      "score:  149.0\n",
      "score:  277.0\n",
      "score:  443.0\n",
      "score:  252.0\n",
      "score:  206.0\n",
      "Moviepy - Building video checkpoints/CartPole-v1_quantized_search_39_CartPole-v1/step_1665/videos/CartPole-v1_quantized_search_39_CartPole-v1/1665/CartPole-v1_quantized_search_39_CartPole-v1-episode-24.mp4.\n",
      "Moviepy - Writing video checkpoints/CartPole-v1_quantized_search_39_CartPole-v1/step_1665/videos/CartPole-v1_quantized_search_39_CartPole-v1/1665/CartPole-v1_quantized_search_39_CartPole-v1-episode-24.mp4\n",
      "\n"
     ]
    },
    {
     "name": "stderr",
     "output_type": "stream",
     "text": [
      "/Users/jonathanlamontange-kratz/Documents/GitHub/rl-stuff/packages/utils/utils/utils.py:257: UserWarning: No artists with labels found to put in legend.  Note that artists whose label start with an underscore are ignored when legend() is called with no argument.\n",
      "  axs[row][col].legend()\n"
     ]
    },
    {
     "name": "stdout",
     "output_type": "stream",
     "text": [
      "Moviepy - Done !\n",
      "Moviepy - video ready checkpoints/CartPole-v1_quantized_search_39_CartPole-v1/step_1665/videos/CartPole-v1_quantized_search_39_CartPole-v1/1665/CartPole-v1_quantized_search_39_CartPole-v1-episode-24.mp4\n",
      "score:  191.0\n",
      "score:  175.0\n",
      "score:  199.0\n",
      "score:  254.0\n",
      "score:  388.0\n",
      "Moviepy - Building video checkpoints/CartPole-v1_quantized_search_39_CartPole-v1/step_1998/videos/CartPole-v1_quantized_search_39_CartPole-v1/1998/CartPole-v1_quantized_search_39_CartPole-v1-episode-29.mp4.\n",
      "Moviepy - Writing video checkpoints/CartPole-v1_quantized_search_39_CartPole-v1/step_1998/videos/CartPole-v1_quantized_search_39_CartPole-v1/1998/CartPole-v1_quantized_search_39_CartPole-v1-episode-29.mp4\n",
      "\n"
     ]
    },
    {
     "name": "stderr",
     "output_type": "stream",
     "text": [
      "/Users/jonathanlamontange-kratz/Documents/GitHub/rl-stuff/packages/utils/utils/utils.py:257: UserWarning: No artists with labels found to put in legend.  Note that artists whose label start with an underscore are ignored when legend() is called with no argument.\n",
      "  axs[row][col].legend()\n"
     ]
    },
    {
     "name": "stdout",
     "output_type": "stream",
     "text": [
      "Moviepy - Done !\n",
      "Moviepy - video ready checkpoints/CartPole-v1_quantized_search_39_CartPole-v1/step_1998/videos/CartPole-v1_quantized_search_39_CartPole-v1/1998/CartPole-v1_quantized_search_39_CartPole-v1-episode-29.mp4\n",
      "score:  198.0\n",
      "score:  268.0\n",
      "score:  186.0\n",
      "score:  213.0\n",
      "score:  188.0\n",
      "Moviepy - Building video checkpoints/CartPole-v1_quantized_search_39_CartPole-v1/step_2331/videos/CartPole-v1_quantized_search_39_CartPole-v1/2331/CartPole-v1_quantized_search_39_CartPole-v1-episode-34.mp4.\n",
      "Moviepy - Writing video checkpoints/CartPole-v1_quantized_search_39_CartPole-v1/step_2331/videos/CartPole-v1_quantized_search_39_CartPole-v1/2331/CartPole-v1_quantized_search_39_CartPole-v1-episode-34.mp4\n",
      "\n"
     ]
    },
    {
     "name": "stderr",
     "output_type": "stream",
     "text": [
      "/Users/jonathanlamontange-kratz/Documents/GitHub/rl-stuff/packages/utils/utils/utils.py:257: UserWarning: No artists with labels found to put in legend.  Note that artists whose label start with an underscore are ignored when legend() is called with no argument.\n",
      "  axs[row][col].legend()\n"
     ]
    },
    {
     "name": "stdout",
     "output_type": "stream",
     "text": [
      "Moviepy - Done !\n",
      "Moviepy - video ready checkpoints/CartPole-v1_quantized_search_39_CartPole-v1/step_2331/videos/CartPole-v1_quantized_search_39_CartPole-v1/2331/CartPole-v1_quantized_search_39_CartPole-v1-episode-34.mp4\n",
      "score:  186.0\n",
      "score:  384.0\n",
      "score:  234.0\n",
      "score:  169.0\n",
      "score:  180.0\n",
      "Moviepy - Building video checkpoints/CartPole-v1_quantized_search_39_CartPole-v1/step_2664/videos/CartPole-v1_quantized_search_39_CartPole-v1/2664/CartPole-v1_quantized_search_39_CartPole-v1-episode-39.mp4.\n",
      "Moviepy - Writing video checkpoints/CartPole-v1_quantized_search_39_CartPole-v1/step_2664/videos/CartPole-v1_quantized_search_39_CartPole-v1/2664/CartPole-v1_quantized_search_39_CartPole-v1-episode-39.mp4\n",
      "\n"
     ]
    },
    {
     "name": "stderr",
     "output_type": "stream",
     "text": [
      "/Users/jonathanlamontange-kratz/Documents/GitHub/rl-stuff/packages/utils/utils/utils.py:257: UserWarning: No artists with labels found to put in legend.  Note that artists whose label start with an underscore are ignored when legend() is called with no argument.\n",
      "  axs[row][col].legend()\n"
     ]
    },
    {
     "name": "stdout",
     "output_type": "stream",
     "text": [
      "Moviepy - Done !\n",
      "Moviepy - video ready checkpoints/CartPole-v1_quantized_search_39_CartPole-v1/step_2664/videos/CartPole-v1_quantized_search_39_CartPole-v1/2664/CartPole-v1_quantized_search_39_CartPole-v1-episode-39.mp4\n",
      "score:  271.0\n",
      "score:  125.0\n",
      "score:  115.0\n",
      "score:  110.0\n",
      "score:  104.0\n",
      "Moviepy - Building video checkpoints/CartPole-v1_quantized_search_39_CartPole-v1/step_2997/videos/CartPole-v1_quantized_search_39_CartPole-v1/2997/CartPole-v1_quantized_search_39_CartPole-v1-episode-44.mp4.\n",
      "Moviepy - Writing video checkpoints/CartPole-v1_quantized_search_39_CartPole-v1/step_2997/videos/CartPole-v1_quantized_search_39_CartPole-v1/2997/CartPole-v1_quantized_search_39_CartPole-v1-episode-44.mp4\n",
      "\n"
     ]
    },
    {
     "name": "stderr",
     "output_type": "stream",
     "text": [
      "/Users/jonathanlamontange-kratz/Documents/GitHub/rl-stuff/packages/utils/utils/utils.py:257: UserWarning: No artists with labels found to put in legend.  Note that artists whose label start with an underscore are ignored when legend() is called with no argument.\n",
      "  axs[row][col].legend()\n"
     ]
    },
    {
     "name": "stdout",
     "output_type": "stream",
     "text": [
      "Moviepy - Done !\n",
      "Moviepy - video ready checkpoints/CartPole-v1_quantized_search_39_CartPole-v1/step_2997/videos/CartPole-v1_quantized_search_39_CartPole-v1/2997/CartPole-v1_quantized_search_39_CartPole-v1-episode-44.mp4\n",
      "score:  124.0\n",
      "score:  96.0\n",
      "score:  103.0\n",
      "score:  101.0\n",
      "score:  93.0\n",
      "Moviepy - Building video checkpoints/CartPole-v1_quantized_search_39_CartPole-v1/step_3330/videos/CartPole-v1_quantized_search_39_CartPole-v1/3330/CartPole-v1_quantized_search_39_CartPole-v1-episode-49.mp4.\n",
      "Moviepy - Writing video checkpoints/CartPole-v1_quantized_search_39_CartPole-v1/step_3330/videos/CartPole-v1_quantized_search_39_CartPole-v1/3330/CartPole-v1_quantized_search_39_CartPole-v1-episode-49.mp4\n",
      "\n"
     ]
    },
    {
     "name": "stderr",
     "output_type": "stream",
     "text": [
      "/Users/jonathanlamontange-kratz/Documents/GitHub/rl-stuff/packages/utils/utils/utils.py:257: UserWarning: No artists with labels found to put in legend.  Note that artists whose label start with an underscore are ignored when legend() is called with no argument.\n",
      "  axs[row][col].legend()\n"
     ]
    },
    {
     "name": "stdout",
     "output_type": "stream",
     "text": [
      "Moviepy - Done !\n",
      "Moviepy - video ready checkpoints/CartPole-v1_quantized_search_39_CartPole-v1/step_3330/videos/CartPole-v1_quantized_search_39_CartPole-v1/3330/CartPole-v1_quantized_search_39_CartPole-v1-episode-49.mp4\n",
      "score:  98.0\n",
      "score:  115.0\n",
      "score:  130.0\n",
      "score:  117.0\n",
      "score:  117.0\n",
      "Moviepy - Building video checkpoints/CartPole-v1_quantized_search_39_CartPole-v1/step_3663/videos/CartPole-v1_quantized_search_39_CartPole-v1/3663/CartPole-v1_quantized_search_39_CartPole-v1-episode-54.mp4.\n",
      "Moviepy - Writing video checkpoints/CartPole-v1_quantized_search_39_CartPole-v1/step_3663/videos/CartPole-v1_quantized_search_39_CartPole-v1/3663/CartPole-v1_quantized_search_39_CartPole-v1-episode-54.mp4\n",
      "\n"
     ]
    },
    {
     "name": "stderr",
     "output_type": "stream",
     "text": [
      "                                                              \r"
     ]
    },
    {
     "name": "stdout",
     "output_type": "stream",
     "text": [
      "Moviepy - Done !\n",
      "Moviepy - video ready checkpoints/CartPole-v1_quantized_search_39_CartPole-v1/step_3663/videos/CartPole-v1_quantized_search_39_CartPole-v1/3663/CartPole-v1_quantized_search_39_CartPole-v1-episode-54.mp4\n",
      "score:  121.0\n"
     ]
    },
    {
     "name": "stderr",
     "output_type": "stream",
     "text": [
      "/Users/jonathanlamontange-kratz/Documents/GitHub/rl-stuff/packages/utils/utils/utils.py:257: UserWarning: No artists with labels found to put in legend.  Note that artists whose label start with an underscore are ignored when legend() is called with no argument.\n",
      "  axs[row][col].legend()\n"
     ]
    },
    {
     "name": "stdout",
     "output_type": "stream",
     "text": [
      "score:  149.0\n",
      "score:  180.0\n",
      "score:  159.0\n",
      "score:  142.0\n",
      "Moviepy - Building video checkpoints/CartPole-v1_quantized_search_39_CartPole-v1/step_3996/videos/CartPole-v1_quantized_search_39_CartPole-v1/3996/CartPole-v1_quantized_search_39_CartPole-v1-episode-59.mp4.\n",
      "Moviepy - Writing video checkpoints/CartPole-v1_quantized_search_39_CartPole-v1/step_3996/videos/CartPole-v1_quantized_search_39_CartPole-v1/3996/CartPole-v1_quantized_search_39_CartPole-v1-episode-59.mp4\n",
      "\n"
     ]
    },
    {
     "name": "stderr",
     "output_type": "stream",
     "text": [
      "                                                              \r"
     ]
    },
    {
     "name": "stdout",
     "output_type": "stream",
     "text": [
      "Moviepy - Done !\n",
      "Moviepy - video ready checkpoints/CartPole-v1_quantized_search_39_CartPole-v1/step_3996/videos/CartPole-v1_quantized_search_39_CartPole-v1/3996/CartPole-v1_quantized_search_39_CartPole-v1-episode-59.mp4\n",
      "score:  150.0\n"
     ]
    },
    {
     "name": "stderr",
     "output_type": "stream",
     "text": [
      "/Users/jonathanlamontange-kratz/Documents/GitHub/rl-stuff/packages/utils/utils/utils.py:257: UserWarning: No artists with labels found to put in legend.  Note that artists whose label start with an underscore are ignored when legend() is called with no argument.\n",
      "  axs[row][col].legend()\n"
     ]
    },
    {
     "name": "stdout",
     "output_type": "stream",
     "text": [
      "score:  94.0\n",
      "score:  96.0\n",
      "score:  98.0\n",
      "score:  104.0\n",
      "Moviepy - Building video checkpoints/CartPole-v1_quantized_search_39_CartPole-v1/step_4329/videos/CartPole-v1_quantized_search_39_CartPole-v1/4329/CartPole-v1_quantized_search_39_CartPole-v1-episode-64.mp4.\n",
      "Moviepy - Writing video checkpoints/CartPole-v1_quantized_search_39_CartPole-v1/step_4329/videos/CartPole-v1_quantized_search_39_CartPole-v1/4329/CartPole-v1_quantized_search_39_CartPole-v1-episode-64.mp4\n",
      "\n"
     ]
    },
    {
     "name": "stderr",
     "output_type": "stream",
     "text": [
      "/Users/jonathanlamontange-kratz/Documents/GitHub/rl-stuff/packages/utils/utils/utils.py:257: UserWarning: No artists with labels found to put in legend.  Note that artists whose label start with an underscore are ignored when legend() is called with no argument.\n",
      "  axs[row][col].legend()\n"
     ]
    },
    {
     "name": "stdout",
     "output_type": "stream",
     "text": [
      "Moviepy - Done !\n",
      "Moviepy - video ready checkpoints/CartPole-v1_quantized_search_39_CartPole-v1/step_4329/videos/CartPole-v1_quantized_search_39_CartPole-v1/4329/CartPole-v1_quantized_search_39_CartPole-v1-episode-64.mp4\n",
      "score:  99.0\n",
      "score:  121.0\n",
      "score:  115.0\n",
      "score:  122.0\n",
      "score:  119.0\n",
      "Moviepy - Building video checkpoints/CartPole-v1_quantized_search_39_CartPole-v1/step_4662/videos/CartPole-v1_quantized_search_39_CartPole-v1/4662/CartPole-v1_quantized_search_39_CartPole-v1-episode-69.mp4.\n",
      "Moviepy - Writing video checkpoints/CartPole-v1_quantized_search_39_CartPole-v1/step_4662/videos/CartPole-v1_quantized_search_39_CartPole-v1/4662/CartPole-v1_quantized_search_39_CartPole-v1-episode-69.mp4\n",
      "\n"
     ]
    },
    {
     "name": "stderr",
     "output_type": "stream",
     "text": [
      "/Users/jonathanlamontange-kratz/Documents/GitHub/rl-stuff/packages/utils/utils/utils.py:257: UserWarning: No artists with labels found to put in legend.  Note that artists whose label start with an underscore are ignored when legend() is called with no argument.\n",
      "  axs[row][col].legend()\n"
     ]
    },
    {
     "name": "stdout",
     "output_type": "stream",
     "text": [
      "Moviepy - Done !\n",
      "Moviepy - video ready checkpoints/CartPole-v1_quantized_search_39_CartPole-v1/step_4662/videos/CartPole-v1_quantized_search_39_CartPole-v1/4662/CartPole-v1_quantized_search_39_CartPole-v1-episode-69.mp4\n",
      "score:  113.0\n",
      "score:  61.0\n",
      "score:  64.0\n",
      "score:  61.0\n",
      "score:  64.0\n",
      "Moviepy - Building video checkpoints/CartPole-v1_quantized_search_39_CartPole-v1/step_4995/videos/CartPole-v1_quantized_search_39_CartPole-v1/4995/CartPole-v1_quantized_search_39_CartPole-v1-episode-74.mp4.\n",
      "Moviepy - Writing video checkpoints/CartPole-v1_quantized_search_39_CartPole-v1/step_4995/videos/CartPole-v1_quantized_search_39_CartPole-v1/4995/CartPole-v1_quantized_search_39_CartPole-v1-episode-74.mp4\n",
      "\n"
     ]
    },
    {
     "name": "stderr",
     "output_type": "stream",
     "text": [
      "                                                           \r"
     ]
    },
    {
     "name": "stdout",
     "output_type": "stream",
     "text": [
      "Moviepy - Done !\n",
      "Moviepy - video ready checkpoints/CartPole-v1_quantized_search_39_CartPole-v1/step_4995/videos/CartPole-v1_quantized_search_39_CartPole-v1/4995/CartPole-v1_quantized_search_39_CartPole-v1-episode-74.mp4\n",
      "score:  66.0\n"
     ]
    },
    {
     "name": "stderr",
     "output_type": "stream",
     "text": [
      "/Users/jonathanlamontange-kratz/Documents/GitHub/rl-stuff/packages/utils/utils/utils.py:257: UserWarning: No artists with labels found to put in legend.  Note that artists whose label start with an underscore are ignored when legend() is called with no argument.\n",
      "  axs[row][col].legend()\n"
     ]
    },
    {
     "name": "stdout",
     "output_type": "stream",
     "text": [
      "score:  17.0\n",
      "score:  20.0\n",
      "score:  15.0\n",
      "score:  18.0\n",
      "Moviepy - Building video checkpoints/CartPole-v1_quantized_search_39_CartPole-v1/step_5328/videos/CartPole-v1_quantized_search_39_CartPole-v1/5328/CartPole-v1_quantized_search_39_CartPole-v1-episode-79.mp4.\n",
      "Moviepy - Writing video checkpoints/CartPole-v1_quantized_search_39_CartPole-v1/step_5328/videos/CartPole-v1_quantized_search_39_CartPole-v1/5328/CartPole-v1_quantized_search_39_CartPole-v1-episode-79.mp4\n",
      "\n"
     ]
    },
    {
     "name": "stderr",
     "output_type": "stream",
     "text": [
      "/Users/jonathanlamontange-kratz/Documents/GitHub/rl-stuff/packages/utils/utils/utils.py:257: UserWarning: No artists with labels found to put in legend.  Note that artists whose label start with an underscore are ignored when legend() is called with no argument.\n",
      "  axs[row][col].legend()\n"
     ]
    },
    {
     "name": "stdout",
     "output_type": "stream",
     "text": [
      "Moviepy - Done !\n",
      "Moviepy - video ready checkpoints/CartPole-v1_quantized_search_39_CartPole-v1/step_5328/videos/CartPole-v1_quantized_search_39_CartPole-v1/5328/CartPole-v1_quantized_search_39_CartPole-v1-episode-79.mp4\n",
      "score:  19.0\n",
      "score:  103.0\n",
      "score:  115.0\n",
      "score:  109.0\n",
      "score:  117.0\n",
      "Moviepy - Building video checkpoints/CartPole-v1_quantized_search_39_CartPole-v1/step_5661/videos/CartPole-v1_quantized_search_39_CartPole-v1/5661/CartPole-v1_quantized_search_39_CartPole-v1-episode-84.mp4.\n",
      "Moviepy - Writing video checkpoints/CartPole-v1_quantized_search_39_CartPole-v1/step_5661/videos/CartPole-v1_quantized_search_39_CartPole-v1/5661/CartPole-v1_quantized_search_39_CartPole-v1-episode-84.mp4\n",
      "\n"
     ]
    },
    {
     "name": "stderr",
     "output_type": "stream",
     "text": [
      "                                                              \r"
     ]
    },
    {
     "name": "stdout",
     "output_type": "stream",
     "text": [
      "Moviepy - Done !\n",
      "Moviepy - video ready checkpoints/CartPole-v1_quantized_search_39_CartPole-v1/step_5661/videos/CartPole-v1_quantized_search_39_CartPole-v1/5661/CartPole-v1_quantized_search_39_CartPole-v1-episode-84.mp4\n",
      "score:  123.0\n"
     ]
    },
    {
     "name": "stderr",
     "output_type": "stream",
     "text": [
      "/Users/jonathanlamontange-kratz/Documents/GitHub/rl-stuff/packages/utils/utils/utils.py:257: UserWarning: No artists with labels found to put in legend.  Note that artists whose label start with an underscore are ignored when legend() is called with no argument.\n",
      "  axs[row][col].legend()\n"
     ]
    },
    {
     "name": "stdout",
     "output_type": "stream",
     "text": [
      "score:  124.0\n",
      "score:  136.0\n",
      "score:  126.0\n",
      "score:  128.0\n",
      "Moviepy - Building video checkpoints/CartPole-v1_quantized_search_39_CartPole-v1/step_5994/videos/CartPole-v1_quantized_search_39_CartPole-v1/5994/CartPole-v1_quantized_search_39_CartPole-v1-episode-89.mp4.\n",
      "Moviepy - Writing video checkpoints/CartPole-v1_quantized_search_39_CartPole-v1/step_5994/videos/CartPole-v1_quantized_search_39_CartPole-v1/5994/CartPole-v1_quantized_search_39_CartPole-v1-episode-89.mp4\n",
      "\n"
     ]
    },
    {
     "name": "stderr",
     "output_type": "stream",
     "text": [
      "                                                               \r"
     ]
    },
    {
     "name": "stdout",
     "output_type": "stream",
     "text": [
      "Moviepy - Done !\n",
      "Moviepy - video ready checkpoints/CartPole-v1_quantized_search_39_CartPole-v1/step_5994/videos/CartPole-v1_quantized_search_39_CartPole-v1/5994/CartPole-v1_quantized_search_39_CartPole-v1-episode-89.mp4\n",
      "score:  143.0\n"
     ]
    },
    {
     "name": "stderr",
     "output_type": "stream",
     "text": [
      "/Users/jonathanlamontange-kratz/Documents/GitHub/rl-stuff/packages/utils/utils/utils.py:257: UserWarning: No artists with labels found to put in legend.  Note that artists whose label start with an underscore are ignored when legend() is called with no argument.\n",
      "  axs[row][col].legend()\n"
     ]
    },
    {
     "name": "stdout",
     "output_type": "stream",
     "text": [
      "score:  141.0\n",
      "score:  140.0\n",
      "score:  147.0\n",
      "score:  133.0\n",
      "Moviepy - Building video checkpoints/CartPole-v1_quantized_search_39_CartPole-v1/step_6327/videos/CartPole-v1_quantized_search_39_CartPole-v1/6327/CartPole-v1_quantized_search_39_CartPole-v1-episode-94.mp4.\n",
      "Moviepy - Writing video checkpoints/CartPole-v1_quantized_search_39_CartPole-v1/step_6327/videos/CartPole-v1_quantized_search_39_CartPole-v1/6327/CartPole-v1_quantized_search_39_CartPole-v1-episode-94.mp4\n",
      "\n"
     ]
    },
    {
     "name": "stderr",
     "output_type": "stream",
     "text": [
      "                                                              \r"
     ]
    },
    {
     "name": "stdout",
     "output_type": "stream",
     "text": [
      "Moviepy - Done !\n",
      "Moviepy - video ready checkpoints/CartPole-v1_quantized_search_39_CartPole-v1/step_6327/videos/CartPole-v1_quantized_search_39_CartPole-v1/6327/CartPole-v1_quantized_search_39_CartPole-v1-episode-94.mp4\n",
      "score:  141.0\n"
     ]
    },
    {
     "name": "stderr",
     "output_type": "stream",
     "text": [
      "/Users/jonathanlamontange-kratz/Documents/GitHub/rl-stuff/packages/utils/utils/utils.py:257: UserWarning: No artists with labels found to put in legend.  Note that artists whose label start with an underscore are ignored when legend() is called with no argument.\n",
      "  axs[row][col].legend()\n"
     ]
    },
    {
     "name": "stdout",
     "output_type": "stream",
     "text": [
      "score:  184.0\n",
      "score:  184.0\n",
      "score:  187.0\n",
      "score:  196.0\n",
      "Moviepy - Building video checkpoints/CartPole-v1_quantized_search_39_CartPole-v1/step_6660/videos/CartPole-v1_quantized_search_39_CartPole-v1/6660/CartPole-v1_quantized_search_39_CartPole-v1-episode-99.mp4.\n",
      "Moviepy - Writing video checkpoints/CartPole-v1_quantized_search_39_CartPole-v1/step_6660/videos/CartPole-v1_quantized_search_39_CartPole-v1/6660/CartPole-v1_quantized_search_39_CartPole-v1-episode-99.mp4\n",
      "\n"
     ]
    },
    {
     "name": "stderr",
     "output_type": "stream",
     "text": [
      "                                                               \r"
     ]
    },
    {
     "name": "stdout",
     "output_type": "stream",
     "text": [
      "Moviepy - Done !\n",
      "Moviepy - video ready checkpoints/CartPole-v1_quantized_search_39_CartPole-v1/step_6660/videos/CartPole-v1_quantized_search_39_CartPole-v1/6660/CartPole-v1_quantized_search_39_CartPole-v1-episode-99.mp4\n",
      "score:  175.0\n"
     ]
    },
    {
     "name": "stderr",
     "output_type": "stream",
     "text": [
      "/Users/jonathanlamontange-kratz/Documents/GitHub/rl-stuff/packages/utils/utils/utils.py:257: UserWarning: No artists with labels found to put in legend.  Note that artists whose label start with an underscore are ignored when legend() is called with no argument.\n",
      "  axs[row][col].legend()\n"
     ]
    },
    {
     "name": "stdout",
     "output_type": "stream",
     "text": [
      "score:  491.0\n",
      "score:  354.0\n",
      "score:  333.0\n",
      "score:  390.0\n",
      "Moviepy - Building video checkpoints/CartPole-v1_quantized_search_39_CartPole-v1/step_6993/videos/CartPole-v1_quantized_search_39_CartPole-v1/6993/CartPole-v1_quantized_search_39_CartPole-v1-episode-104.mp4.\n",
      "Moviepy - Writing video checkpoints/CartPole-v1_quantized_search_39_CartPole-v1/step_6993/videos/CartPole-v1_quantized_search_39_CartPole-v1/6993/CartPole-v1_quantized_search_39_CartPole-v1-episode-104.mp4\n",
      "\n"
     ]
    },
    {
     "name": "stderr",
     "output_type": "stream",
     "text": [
      "                                                               \r"
     ]
    },
    {
     "name": "stdout",
     "output_type": "stream",
     "text": [
      "Moviepy - Done !\n",
      "Moviepy - video ready checkpoints/CartPole-v1_quantized_search_39_CartPole-v1/step_6993/videos/CartPole-v1_quantized_search_39_CartPole-v1/6993/CartPole-v1_quantized_search_39_CartPole-v1-episode-104.mp4\n",
      "score:  500.0\n"
     ]
    },
    {
     "name": "stderr",
     "output_type": "stream",
     "text": [
      "/Users/jonathanlamontange-kratz/Documents/GitHub/rl-stuff/packages/utils/utils/utils.py:257: UserWarning: No artists with labels found to put in legend.  Note that artists whose label start with an underscore are ignored when legend() is called with no argument.\n",
      "  axs[row][col].legend()\n"
     ]
    },
    {
     "name": "stdout",
     "output_type": "stream",
     "text": [
      "score:  164.0\n",
      "score:  164.0\n",
      "score:  193.0\n",
      "score:  161.0\n",
      "Moviepy - Building video checkpoints/CartPole-v1_quantized_search_39_CartPole-v1/step_7326/videos/CartPole-v1_quantized_search_39_CartPole-v1/7326/CartPole-v1_quantized_search_39_CartPole-v1-episode-109.mp4.\n",
      "Moviepy - Writing video checkpoints/CartPole-v1_quantized_search_39_CartPole-v1/step_7326/videos/CartPole-v1_quantized_search_39_CartPole-v1/7326/CartPole-v1_quantized_search_39_CartPole-v1-episode-109.mp4\n",
      "\n"
     ]
    },
    {
     "name": "stderr",
     "output_type": "stream",
     "text": [
      "                                                               \r"
     ]
    },
    {
     "name": "stdout",
     "output_type": "stream",
     "text": [
      "Moviepy - Done !\n",
      "Moviepy - video ready checkpoints/CartPole-v1_quantized_search_39_CartPole-v1/step_7326/videos/CartPole-v1_quantized_search_39_CartPole-v1/7326/CartPole-v1_quantized_search_39_CartPole-v1-episode-109.mp4\n",
      "score:  181.0\n"
     ]
    },
    {
     "name": "stderr",
     "output_type": "stream",
     "text": [
      "/Users/jonathanlamontange-kratz/Documents/GitHub/rl-stuff/packages/utils/utils/utils.py:257: UserWarning: No artists with labels found to put in legend.  Note that artists whose label start with an underscore are ignored when legend() is called with no argument.\n",
      "  axs[row][col].legend()\n"
     ]
    },
    {
     "name": "stdout",
     "output_type": "stream",
     "text": [
      "score:  160.0\n",
      "score:  172.0\n",
      "score:  171.0\n",
      "score:  163.0\n",
      "Moviepy - Building video checkpoints/CartPole-v1_quantized_search_39_CartPole-v1/step_7659/videos/CartPole-v1_quantized_search_39_CartPole-v1/7659/CartPole-v1_quantized_search_39_CartPole-v1-episode-114.mp4.\n",
      "Moviepy - Writing video checkpoints/CartPole-v1_quantized_search_39_CartPole-v1/step_7659/videos/CartPole-v1_quantized_search_39_CartPole-v1/7659/CartPole-v1_quantized_search_39_CartPole-v1-episode-114.mp4\n",
      "\n"
     ]
    },
    {
     "name": "stderr",
     "output_type": "stream",
     "text": [
      "                                                               \r"
     ]
    },
    {
     "name": "stdout",
     "output_type": "stream",
     "text": [
      "Moviepy - Done !\n",
      "Moviepy - video ready checkpoints/CartPole-v1_quantized_search_39_CartPole-v1/step_7659/videos/CartPole-v1_quantized_search_39_CartPole-v1/7659/CartPole-v1_quantized_search_39_CartPole-v1-episode-114.mp4\n",
      "score:  169.0\n"
     ]
    },
    {
     "name": "stderr",
     "output_type": "stream",
     "text": [
      "/Users/jonathanlamontange-kratz/Documents/GitHub/rl-stuff/packages/utils/utils/utils.py:257: UserWarning: No artists with labels found to put in legend.  Note that artists whose label start with an underscore are ignored when legend() is called with no argument.\n",
      "  axs[row][col].legend()\n"
     ]
    },
    {
     "name": "stdout",
     "output_type": "stream",
     "text": [
      "score:  97.0\n",
      "score:  97.0\n",
      "score:  15.0\n",
      "score:  12.0\n",
      "Moviepy - Building video checkpoints/CartPole-v1_quantized_search_39_CartPole-v1/step_7992/videos/CartPole-v1_quantized_search_39_CartPole-v1/7992/CartPole-v1_quantized_search_39_CartPole-v1-episode-119.mp4.\n",
      "Moviepy - Writing video checkpoints/CartPole-v1_quantized_search_39_CartPole-v1/step_7992/videos/CartPole-v1_quantized_search_39_CartPole-v1/7992/CartPole-v1_quantized_search_39_CartPole-v1-episode-119.mp4\n",
      "\n"
     ]
    },
    {
     "name": "stderr",
     "output_type": "stream",
     "text": [
      "                                                             \r"
     ]
    },
    {
     "name": "stdout",
     "output_type": "stream",
     "text": [
      "Moviepy - Done !\n",
      "Moviepy - video ready checkpoints/CartPole-v1_quantized_search_39_CartPole-v1/step_7992/videos/CartPole-v1_quantized_search_39_CartPole-v1/7992/CartPole-v1_quantized_search_39_CartPole-v1-episode-119.mp4\n",
      "score:  97.0\n"
     ]
    },
    {
     "name": "stderr",
     "output_type": "stream",
     "text": [
      "/Users/jonathanlamontange-kratz/Documents/GitHub/rl-stuff/packages/utils/utils/utils.py:257: UserWarning: No artists with labels found to put in legend.  Note that artists whose label start with an underscore are ignored when legend() is called with no argument.\n",
      "  axs[row][col].legend()\n"
     ]
    },
    {
     "name": "stdout",
     "output_type": "stream",
     "text": [
      "score:  112.0\n",
      "score:  114.0\n",
      "score:  115.0\n",
      "score:  109.0\n",
      "Moviepy - Building video checkpoints/CartPole-v1_quantized_search_39_CartPole-v1/step_8325/videos/CartPole-v1_quantized_search_39_CartPole-v1/8325/CartPole-v1_quantized_search_39_CartPole-v1-episode-124.mp4.\n",
      "Moviepy - Writing video checkpoints/CartPole-v1_quantized_search_39_CartPole-v1/step_8325/videos/CartPole-v1_quantized_search_39_CartPole-v1/8325/CartPole-v1_quantized_search_39_CartPole-v1-episode-124.mp4\n",
      "\n"
     ]
    },
    {
     "name": "stderr",
     "output_type": "stream",
     "text": [
      "                                                              \r"
     ]
    },
    {
     "name": "stdout",
     "output_type": "stream",
     "text": [
      "Moviepy - Done !\n",
      "Moviepy - video ready checkpoints/CartPole-v1_quantized_search_39_CartPole-v1/step_8325/videos/CartPole-v1_quantized_search_39_CartPole-v1/8325/CartPole-v1_quantized_search_39_CartPole-v1-episode-124.mp4\n",
      "score:  111.0\n"
     ]
    },
    {
     "name": "stderr",
     "output_type": "stream",
     "text": [
      "/Users/jonathanlamontange-kratz/Documents/GitHub/rl-stuff/packages/utils/utils/utils.py:257: UserWarning: No artists with labels found to put in legend.  Note that artists whose label start with an underscore are ignored when legend() is called with no argument.\n",
      "  axs[row][col].legend()\n"
     ]
    },
    {
     "name": "stdout",
     "output_type": "stream",
     "text": [
      "score:  115.0\n",
      "score:  120.0\n",
      "score:  113.0\n",
      "score:  117.0\n",
      "Moviepy - Building video checkpoints/CartPole-v1_quantized_search_39_CartPole-v1/step_8658/videos/CartPole-v1_quantized_search_39_CartPole-v1/8658/CartPole-v1_quantized_search_39_CartPole-v1-episode-129.mp4.\n",
      "Moviepy - Writing video checkpoints/CartPole-v1_quantized_search_39_CartPole-v1/step_8658/videos/CartPole-v1_quantized_search_39_CartPole-v1/8658/CartPole-v1_quantized_search_39_CartPole-v1-episode-129.mp4\n",
      "\n"
     ]
    },
    {
     "name": "stderr",
     "output_type": "stream",
     "text": [
      "                                                              \r"
     ]
    },
    {
     "name": "stdout",
     "output_type": "stream",
     "text": [
      "Moviepy - Done !\n",
      "Moviepy - video ready checkpoints/CartPole-v1_quantized_search_39_CartPole-v1/step_8658/videos/CartPole-v1_quantized_search_39_CartPole-v1/8658/CartPole-v1_quantized_search_39_CartPole-v1-episode-129.mp4\n",
      "score:  114.0\n"
     ]
    },
    {
     "name": "stderr",
     "output_type": "stream",
     "text": [
      "/Users/jonathanlamontange-kratz/Documents/GitHub/rl-stuff/packages/utils/utils/utils.py:257: UserWarning: No artists with labels found to put in legend.  Note that artists whose label start with an underscore are ignored when legend() is called with no argument.\n",
      "  axs[row][col].legend()\n"
     ]
    },
    {
     "name": "stdout",
     "output_type": "stream",
     "text": [
      "score:  145.0\n",
      "score:  147.0\n",
      "score:  141.0\n",
      "score:  153.0\n",
      "Moviepy - Building video checkpoints/CartPole-v1_quantized_search_39_CartPole-v1/step_8991/videos/CartPole-v1_quantized_search_39_CartPole-v1/8991/CartPole-v1_quantized_search_39_CartPole-v1-episode-134.mp4.\n",
      "Moviepy - Writing video checkpoints/CartPole-v1_quantized_search_39_CartPole-v1/step_8991/videos/CartPole-v1_quantized_search_39_CartPole-v1/8991/CartPole-v1_quantized_search_39_CartPole-v1-episode-134.mp4\n",
      "\n"
     ]
    },
    {
     "name": "stderr",
     "output_type": "stream",
     "text": [
      "                                                              \r"
     ]
    },
    {
     "name": "stdout",
     "output_type": "stream",
     "text": [
      "Moviepy - Done !\n",
      "Moviepy - video ready checkpoints/CartPole-v1_quantized_search_39_CartPole-v1/step_8991/videos/CartPole-v1_quantized_search_39_CartPole-v1/8991/CartPole-v1_quantized_search_39_CartPole-v1-episode-134.mp4\n",
      "score:  145.0\n"
     ]
    },
    {
     "name": "stderr",
     "output_type": "stream",
     "text": [
      "/Users/jonathanlamontange-kratz/Documents/GitHub/rl-stuff/packages/utils/utils/utils.py:257: UserWarning: No artists with labels found to put in legend.  Note that artists whose label start with an underscore are ignored when legend() is called with no argument.\n",
      "  axs[row][col].legend()\n"
     ]
    },
    {
     "name": "stdout",
     "output_type": "stream",
     "text": [
      "score:  126.0\n",
      "score:  119.0\n",
      "score:  117.0\n",
      "score:  116.0\n",
      "Moviepy - Building video checkpoints/CartPole-v1_quantized_search_39_CartPole-v1/step_9324/videos/CartPole-v1_quantized_search_39_CartPole-v1/9324/CartPole-v1_quantized_search_39_CartPole-v1-episode-139.mp4.\n",
      "Moviepy - Writing video checkpoints/CartPole-v1_quantized_search_39_CartPole-v1/step_9324/videos/CartPole-v1_quantized_search_39_CartPole-v1/9324/CartPole-v1_quantized_search_39_CartPole-v1-episode-139.mp4\n",
      "\n"
     ]
    },
    {
     "name": "stderr",
     "output_type": "stream",
     "text": [
      "                                                              \r"
     ]
    },
    {
     "name": "stdout",
     "output_type": "stream",
     "text": [
      "Moviepy - Done !\n",
      "Moviepy - video ready checkpoints/CartPole-v1_quantized_search_39_CartPole-v1/step_9324/videos/CartPole-v1_quantized_search_39_CartPole-v1/9324/CartPole-v1_quantized_search_39_CartPole-v1-episode-139.mp4\n",
      "score:  119.0\n"
     ]
    },
    {
     "name": "stderr",
     "output_type": "stream",
     "text": [
      "/Users/jonathanlamontange-kratz/Documents/GitHub/rl-stuff/packages/utils/utils/utils.py:257: UserWarning: No artists with labels found to put in legend.  Note that artists whose label start with an underscore are ignored when legend() is called with no argument.\n",
      "  axs[row][col].legend()\n"
     ]
    },
    {
     "name": "stdout",
     "output_type": "stream",
     "text": [
      "score:  75.0\n",
      "score:  73.0\n",
      "score:  75.0\n",
      "score:  73.0\n",
      "Moviepy - Building video checkpoints/CartPole-v1_quantized_search_39_CartPole-v1/step_9657/videos/CartPole-v1_quantized_search_39_CartPole-v1/9657/CartPole-v1_quantized_search_39_CartPole-v1-episode-144.mp4.\n",
      "Moviepy - Writing video checkpoints/CartPole-v1_quantized_search_39_CartPole-v1/step_9657/videos/CartPole-v1_quantized_search_39_CartPole-v1/9657/CartPole-v1_quantized_search_39_CartPole-v1-episode-144.mp4\n",
      "\n"
     ]
    },
    {
     "name": "stderr",
     "output_type": "stream",
     "text": [
      "/Users/jonathanlamontange-kratz/Documents/GitHub/rl-stuff/packages/utils/utils/utils.py:257: UserWarning: No artists with labels found to put in legend.  Note that artists whose label start with an underscore are ignored when legend() is called with no argument.\n",
      "  axs[row][col].legend()\n"
     ]
    },
    {
     "name": "stdout",
     "output_type": "stream",
     "text": [
      "Moviepy - Done !\n",
      "Moviepy - video ready checkpoints/CartPole-v1_quantized_search_39_CartPole-v1/step_9657/videos/CartPole-v1_quantized_search_39_CartPole-v1/9657/CartPole-v1_quantized_search_39_CartPole-v1-episode-144.mp4\n",
      "score:  71.0\n",
      "score:  123.0\n",
      "score:  115.0\n",
      "score:  126.0\n",
      "score:  126.0\n",
      "Moviepy - Building video checkpoints/CartPole-v1_quantized_search_39_CartPole-v1/step_9990/videos/CartPole-v1_quantized_search_39_CartPole-v1/9990/CartPole-v1_quantized_search_39_CartPole-v1-episode-149.mp4.\n",
      "Moviepy - Writing video checkpoints/CartPole-v1_quantized_search_39_CartPole-v1/step_9990/videos/CartPole-v1_quantized_search_39_CartPole-v1/9990/CartPole-v1_quantized_search_39_CartPole-v1-episode-149.mp4\n",
      "\n"
     ]
    },
    {
     "name": "stderr",
     "output_type": "stream",
     "text": [
      "/Users/jonathanlamontange-kratz/Documents/GitHub/rl-stuff/packages/utils/utils/utils.py:257: UserWarning: No artists with labels found to put in legend.  Note that artists whose label start with an underscore are ignored when legend() is called with no argument.\n",
      "  axs[row][col].legend()\n"
     ]
    },
    {
     "name": "stdout",
     "output_type": "stream",
     "text": [
      "Moviepy - Done !\n",
      "Moviepy - video ready checkpoints/CartPole-v1_quantized_search_39_CartPole-v1/step_9990/videos/CartPole-v1_quantized_search_39_CartPole-v1/9990/CartPole-v1_quantized_search_39_CartPole-v1-episode-149.mp4\n",
      "score:  122.0\n",
      "score:  113.0\n",
      "score:  113.0\n",
      "score:  108.0\n",
      "score:  112.0\n",
      "Moviepy - Building video checkpoints/CartPole-v1_quantized_search_39_CartPole-v1/step_9999/videos/CartPole-v1_quantized_search_39_CartPole-v1/9999/CartPole-v1_quantized_search_39_CartPole-v1-episode-154.mp4.\n",
      "Moviepy - Writing video checkpoints/CartPole-v1_quantized_search_39_CartPole-v1/step_9999/videos/CartPole-v1_quantized_search_39_CartPole-v1/9999/CartPole-v1_quantized_search_39_CartPole-v1-episode-154.mp4\n",
      "\n"
     ]
    },
    {
     "name": "stderr",
     "output_type": "stream",
     "text": [
      "                                                              \r"
     ]
    },
    {
     "name": "stdout",
     "output_type": "stream",
     "text": [
      "Moviepy - Done !\n",
      "Moviepy - video ready checkpoints/CartPole-v1_quantized_search_39_CartPole-v1/step_9999/videos/CartPole-v1_quantized_search_39_CartPole-v1/9999/CartPole-v1_quantized_search_39_CartPole-v1-episode-154.mp4\n",
      "score:  116.0\n"
     ]
    },
    {
     "name": "stderr",
     "output_type": "stream",
     "text": [
      "/Users/jonathanlamontange-kratz/Documents/GitHub/rl-stuff/packages/utils/utils/utils.py:257: UserWarning: No artists with labels found to put in legend.  Note that artists whose label start with an underscore are ignored when legend() is called with no argument.\n",
      "  axs[row][col].legend()\n"
     ]
    },
    {
     "name": "stdout",
     "output_type": "stream",
     "text": [
      "Training complete\n",
      "score:  110.0\n",
      "score:  111.0\n",
      "score:  106.0\n",
      "score:  111.0\n",
      "Moviepy - Building video ./checkpoints//videos/CartPole-v1_quantized_search_39_CartPole-v1/5000/CartPole-v1_quantized_search_39_CartPole-v1-episode-159.mp4.\n",
      "Moviepy - Writing video ./checkpoints//videos/CartPole-v1_quantized_search_39_CartPole-v1/5000/CartPole-v1_quantized_search_39_CartPole-v1-episode-159.mp4\n",
      "\n"
     ]
    },
    {
     "name": "stderr",
     "output_type": "stream",
     "text": [
      "                                                              \r"
     ]
    },
    {
     "name": "stdout",
     "output_type": "stream",
     "text": [
      "Moviepy - Done !\n",
      "Moviepy - video ready ./checkpoints//videos/CartPole-v1_quantized_search_39_CartPole-v1/5000/CartPole-v1_quantized_search_39_CartPole-v1-episode-159.mp4\n",
      "score:  116.0\n",
      "score:  118.0\n",
      "score:  107.0\n",
      "score:  106.0\n",
      "score:  119.0\n",
      "score:  113.0\n",
      "parallel programs done\n",
      "Params:  {'adam_epsilon': 0.0028125, 'advantage_hidden_layers_widths': (32, 32), 'atom_size': 51, 'clipnorm': 0.4, 'conv_layers': (), 'dense_layers_widths': (32, 32, 512, 512), 'discount_factor': 0.998, 'kernel_initializer': 'glorot_uniform', 'learning_rate': 0.01068, 'loss_function': <utils.utils.KLDivergence object at 0x288bc7740>, 'min_replay_buffer_size': 1875, 'minibatch_size': 96, 'n_step': 6, 'per_alpha': 0.6000000000000001, 'per_beta': 0.7000000000000001, 'per_epsilon': 0.01077, 'replay_buffer_size': 2000, 'replay_interval': 3, 'training_steps': 10000, 'transfer_interval': 40, 'value_hidden_layers_widths': (64, 64, 128, 128)}\n",
      "Making environments\n",
      "CartPole-v1_quantized_search\n",
      "Using default save_intermediate_weights     : True\n",
      "Using         training_steps                : 10000\n",
      "Using         adam_epsilon                  : 0.0028125\n",
      "Using         learning_rate                 : 0.01068\n",
      "Using         clipnorm                      : 0.4\n",
      "Using default optimizer                     : <class 'torch.optim.adam.Adam'>\n",
      "Using         loss_function                 : <utils.utils.KLDivergence object at 0x288bc7740>\n",
      "Using default activation                    : relu\n",
      "Using         kernel_initializer            : glorot_uniform\n",
      "Using         minibatch_size                : 96\n",
      "Using         replay_buffer_size            : 2000\n",
      "Using         min_replay_buffer_size        : 1875\n",
      "Using default num_minibatches               : 1\n",
      "Using default training_iterations           : 1\n",
      "Using         conv_layers                   : ()\n",
      "Using         dense_layers_widths           : (32, 32, 512, 512)\n",
      "Using         value_hidden_layers_widths    : (64, 64, 128, 128)\n",
      "Using         advantage_hidden_layers_widths: (32, 32)\n",
      "Using default noisy_sigma                   : 0.5\n",
      "Using default deuling                       : True\n",
      "Using         discount_factor               : 0.998\n",
      "Using default soft_update                   : False\n",
      "Using         transfer_interval             : 40\n",
      "Using default ema_beta                      : 0.99\n",
      "Using         replay_interval               : 3\n",
      "Using         per_alpha                     : 0.6000000000000001\n",
      "Using         per_beta                      : 0.7000000000000001\n",
      "Using         per_epsilon                   : 0.01077\n",
      "Using         n_step                        : 6\n",
      "Using         atom_size                     : 51\n",
      "observation_dimensions:  (4,)\n",
      "num_actions:  2\n"
     ]
    },
    {
     "name": "stderr",
     "output_type": "stream",
     "text": [
      "/Library/Frameworks/Python.framework/Versions/3.12/lib/python3.12/site-packages/gymnasium/wrappers/record_video.py:94: UserWarning: \u001b[33mWARN: Overwriting existing videos at /Users/jonathanlamontange-kratz/Documents/GitHub/rl-stuff/experiments/rainbow_and_ape-x folder (try specifying a different `video_folder` for the `RecordVideo` wrapper if this is not desired)\u001b[0m\n",
      "  logger.warn(\n"
     ]
    },
    {
     "name": "stdout",
     "output_type": "stream",
     "text": [
      "score:  16.0\n",
      "score:  20.0\n",
      "score:  22.0\n",
      "score:  22.0\n",
      "Moviepy - Building video checkpoints/CartPole-v1_quantized_search_40_CartPole-v1/step_333/videos/CartPole-v1_quantized_search_40_CartPole-v1/333/CartPole-v1_quantized_search_40_CartPole-v1-episode-4.mp4.\n",
      "Moviepy - Writing video checkpoints/CartPole-v1_quantized_search_40_CartPole-v1/step_333/videos/CartPole-v1_quantized_search_40_CartPole-v1/333/CartPole-v1_quantized_search_40_CartPole-v1-episode-4.mp4\n",
      "\n"
     ]
    },
    {
     "name": "stderr",
     "output_type": "stream",
     "text": [
      "                                                           "
     ]
    },
    {
     "name": "stdout",
     "output_type": "stream",
     "text": [
      "Moviepy - Done !\n",
      "Moviepy - video ready checkpoints/CartPole-v1_quantized_search_40_CartPole-v1/step_333/videos/CartPole-v1_quantized_search_40_CartPole-v1/333/CartPole-v1_quantized_search_40_CartPole-v1-episode-4.mp4\n"
     ]
    },
    {
     "name": "stderr",
     "output_type": "stream",
     "text": [
      "/Users/jonathanlamontange-kratz/Documents/GitHub/rl-stuff/packages/utils/utils/utils.py:257: UserWarning: No artists with labels found to put in legend.  Note that artists whose label start with an underscore are ignored when legend() is called with no argument.\n",
      "  axs[row][col].legend()\n",
      "/Users/jonathanlamontange-kratz/Documents/GitHub/rl-stuff/packages/utils/utils/utils.py:187: UserWarning: Attempting to set identical low and high xlims makes transformation singular; automatically expanding.\n",
      "  axs[row][col].set_xlim(1, len(values))\n"
     ]
    },
    {
     "name": "stdout",
     "output_type": "stream",
     "text": [
      "score:  22.0\n",
      "score:  209.0\n",
      "score:  216.0\n",
      "score:  213.0\n",
      "score:  205.0\n",
      "Moviepy - Building video checkpoints/CartPole-v1_quantized_search_40_CartPole-v1/step_666/videos/CartPole-v1_quantized_search_40_CartPole-v1/666/CartPole-v1_quantized_search_40_CartPole-v1-episode-9.mp4.\n",
      "Moviepy - Writing video checkpoints/CartPole-v1_quantized_search_40_CartPole-v1/step_666/videos/CartPole-v1_quantized_search_40_CartPole-v1/666/CartPole-v1_quantized_search_40_CartPole-v1-episode-9.mp4\n",
      "\n"
     ]
    },
    {
     "name": "stderr",
     "output_type": "stream",
     "text": [
      "/Users/jonathanlamontange-kratz/Documents/GitHub/rl-stuff/packages/utils/utils/utils.py:257: UserWarning: No artists with labels found to put in legend.  Note that artists whose label start with an underscore are ignored when legend() is called with no argument.\n",
      "  axs[row][col].legend()\n"
     ]
    },
    {
     "name": "stdout",
     "output_type": "stream",
     "text": [
      "Moviepy - Done !\n",
      "Moviepy - video ready checkpoints/CartPole-v1_quantized_search_40_CartPole-v1/step_666/videos/CartPole-v1_quantized_search_40_CartPole-v1/666/CartPole-v1_quantized_search_40_CartPole-v1-episode-9.mp4\n",
      "score:  207.0\n",
      "score:  137.0\n",
      "score:  133.0\n",
      "score:  134.0\n",
      "score:  130.0\n",
      "Moviepy - Building video checkpoints/CartPole-v1_quantized_search_40_CartPole-v1/step_999/videos/CartPole-v1_quantized_search_40_CartPole-v1/999/CartPole-v1_quantized_search_40_CartPole-v1-episode-14.mp4.\n",
      "Moviepy - Writing video checkpoints/CartPole-v1_quantized_search_40_CartPole-v1/step_999/videos/CartPole-v1_quantized_search_40_CartPole-v1/999/CartPole-v1_quantized_search_40_CartPole-v1-episode-14.mp4\n",
      "\n"
     ]
    },
    {
     "name": "stderr",
     "output_type": "stream",
     "text": [
      "/Users/jonathanlamontange-kratz/Documents/GitHub/rl-stuff/packages/utils/utils/utils.py:257: UserWarning: No artists with labels found to put in legend.  Note that artists whose label start with an underscore are ignored when legend() is called with no argument.\n",
      "  axs[row][col].legend()\n"
     ]
    },
    {
     "name": "stdout",
     "output_type": "stream",
     "text": [
      "Moviepy - Done !\n",
      "Moviepy - video ready checkpoints/CartPole-v1_quantized_search_40_CartPole-v1/step_999/videos/CartPole-v1_quantized_search_40_CartPole-v1/999/CartPole-v1_quantized_search_40_CartPole-v1-episode-14.mp4\n",
      "score:  147.0\n",
      "score:  62.0\n",
      "score:  60.0\n",
      "score:  55.0\n",
      "score:  60.0\n",
      "Moviepy - Building video checkpoints/CartPole-v1_quantized_search_40_CartPole-v1/step_1332/videos/CartPole-v1_quantized_search_40_CartPole-v1/1332/CartPole-v1_quantized_search_40_CartPole-v1-episode-19.mp4.\n",
      "Moviepy - Writing video checkpoints/CartPole-v1_quantized_search_40_CartPole-v1/step_1332/videos/CartPole-v1_quantized_search_40_CartPole-v1/1332/CartPole-v1_quantized_search_40_CartPole-v1-episode-19.mp4\n",
      "\n"
     ]
    },
    {
     "name": "stderr",
     "output_type": "stream",
     "text": [
      "/Users/jonathanlamontange-kratz/Documents/GitHub/rl-stuff/packages/utils/utils/utils.py:257: UserWarning: No artists with labels found to put in legend.  Note that artists whose label start with an underscore are ignored when legend() is called with no argument.\n",
      "  axs[row][col].legend()\n"
     ]
    },
    {
     "name": "stdout",
     "output_type": "stream",
     "text": [
      "Moviepy - Done !\n",
      "Moviepy - video ready checkpoints/CartPole-v1_quantized_search_40_CartPole-v1/step_1332/videos/CartPole-v1_quantized_search_40_CartPole-v1/1332/CartPole-v1_quantized_search_40_CartPole-v1-episode-19.mp4\n",
      "score:  57.0\n",
      "score:  102.0\n",
      "score:  102.0\n",
      "score:  100.0\n",
      "score:  100.0\n",
      "Moviepy - Building video checkpoints/CartPole-v1_quantized_search_40_CartPole-v1/step_1665/videos/CartPole-v1_quantized_search_40_CartPole-v1/1665/CartPole-v1_quantized_search_40_CartPole-v1-episode-24.mp4.\n",
      "Moviepy - Writing video checkpoints/CartPole-v1_quantized_search_40_CartPole-v1/step_1665/videos/CartPole-v1_quantized_search_40_CartPole-v1/1665/CartPole-v1_quantized_search_40_CartPole-v1-episode-24.mp4\n",
      "\n"
     ]
    },
    {
     "name": "stderr",
     "output_type": "stream",
     "text": [
      "/Users/jonathanlamontange-kratz/Documents/GitHub/rl-stuff/packages/utils/utils/utils.py:257: UserWarning: No artists with labels found to put in legend.  Note that artists whose label start with an underscore are ignored when legend() is called with no argument.\n",
      "  axs[row][col].legend()\n"
     ]
    },
    {
     "name": "stdout",
     "output_type": "stream",
     "text": [
      "Moviepy - Done !\n",
      "Moviepy - video ready checkpoints/CartPole-v1_quantized_search_40_CartPole-v1/step_1665/videos/CartPole-v1_quantized_search_40_CartPole-v1/1665/CartPole-v1_quantized_search_40_CartPole-v1-episode-24.mp4\n",
      "score:  98.0\n",
      "score:  500.0\n",
      "score:  500.0\n",
      "score:  500.0\n",
      "score:  500.0\n",
      "Moviepy - Building video checkpoints/CartPole-v1_quantized_search_40_CartPole-v1/step_1998/videos/CartPole-v1_quantized_search_40_CartPole-v1/1998/CartPole-v1_quantized_search_40_CartPole-v1-episode-29.mp4.\n",
      "Moviepy - Writing video checkpoints/CartPole-v1_quantized_search_40_CartPole-v1/step_1998/videos/CartPole-v1_quantized_search_40_CartPole-v1/1998/CartPole-v1_quantized_search_40_CartPole-v1-episode-29.mp4\n",
      "\n"
     ]
    },
    {
     "name": "stderr",
     "output_type": "stream",
     "text": [
      "/Users/jonathanlamontange-kratz/Documents/GitHub/rl-stuff/packages/utils/utils/utils.py:257: UserWarning: No artists with labels found to put in legend.  Note that artists whose label start with an underscore are ignored when legend() is called with no argument.\n",
      "  axs[row][col].legend()\n"
     ]
    },
    {
     "name": "stdout",
     "output_type": "stream",
     "text": [
      "Moviepy - Done !\n",
      "Moviepy - video ready checkpoints/CartPole-v1_quantized_search_40_CartPole-v1/step_1998/videos/CartPole-v1_quantized_search_40_CartPole-v1/1998/CartPole-v1_quantized_search_40_CartPole-v1-episode-29.mp4\n",
      "score:  500.0\n",
      "score:  9.0\n",
      "score:  8.0\n",
      "score:  10.0\n",
      "score:  10.0\n",
      "Moviepy - Building video checkpoints/CartPole-v1_quantized_search_40_CartPole-v1/step_2331/videos/CartPole-v1_quantized_search_40_CartPole-v1/2331/CartPole-v1_quantized_search_40_CartPole-v1-episode-34.mp4.\n",
      "Moviepy - Writing video checkpoints/CartPole-v1_quantized_search_40_CartPole-v1/step_2331/videos/CartPole-v1_quantized_search_40_CartPole-v1/2331/CartPole-v1_quantized_search_40_CartPole-v1-episode-34.mp4\n",
      "\n"
     ]
    },
    {
     "name": "stderr",
     "output_type": "stream",
     "text": [
      "/Users/jonathanlamontange-kratz/Documents/GitHub/rl-stuff/packages/utils/utils/utils.py:257: UserWarning: No artists with labels found to put in legend.  Note that artists whose label start with an underscore are ignored when legend() is called with no argument.\n",
      "  axs[row][col].legend()\n"
     ]
    },
    {
     "name": "stdout",
     "output_type": "stream",
     "text": [
      "Moviepy - Done !\n",
      "Moviepy - video ready checkpoints/CartPole-v1_quantized_search_40_CartPole-v1/step_2331/videos/CartPole-v1_quantized_search_40_CartPole-v1/2331/CartPole-v1_quantized_search_40_CartPole-v1-episode-34.mp4\n",
      "score:  10.0\n",
      "score:  500.0\n",
      "score:  500.0\n",
      "score:  500.0\n",
      "score:  500.0\n",
      "Moviepy - Building video checkpoints/CartPole-v1_quantized_search_40_CartPole-v1/step_2664/videos/CartPole-v1_quantized_search_40_CartPole-v1/2664/CartPole-v1_quantized_search_40_CartPole-v1-episode-39.mp4.\n",
      "Moviepy - Writing video checkpoints/CartPole-v1_quantized_search_40_CartPole-v1/step_2664/videos/CartPole-v1_quantized_search_40_CartPole-v1/2664/CartPole-v1_quantized_search_40_CartPole-v1-episode-39.mp4\n",
      "\n"
     ]
    },
    {
     "name": "stderr",
     "output_type": "stream",
     "text": [
      "                                                               \r"
     ]
    },
    {
     "name": "stdout",
     "output_type": "stream",
     "text": [
      "Moviepy - Done !\n",
      "Moviepy - video ready checkpoints/CartPole-v1_quantized_search_40_CartPole-v1/step_2664/videos/CartPole-v1_quantized_search_40_CartPole-v1/2664/CartPole-v1_quantized_search_40_CartPole-v1-episode-39.mp4\n",
      "score:  500.0\n"
     ]
    },
    {
     "name": "stderr",
     "output_type": "stream",
     "text": [
      "/Users/jonathanlamontange-kratz/Documents/GitHub/rl-stuff/packages/utils/utils/utils.py:257: UserWarning: No artists with labels found to put in legend.  Note that artists whose label start with an underscore are ignored when legend() is called with no argument.\n",
      "  axs[row][col].legend()\n"
     ]
    },
    {
     "name": "stdout",
     "output_type": "stream",
     "text": [
      "score:  500.0\n",
      "score:  500.0\n",
      "score:  500.0\n",
      "score:  500.0\n",
      "Moviepy - Building video checkpoints/CartPole-v1_quantized_search_40_CartPole-v1/step_2997/videos/CartPole-v1_quantized_search_40_CartPole-v1/2997/CartPole-v1_quantized_search_40_CartPole-v1-episode-44.mp4.\n",
      "Moviepy - Writing video checkpoints/CartPole-v1_quantized_search_40_CartPole-v1/step_2997/videos/CartPole-v1_quantized_search_40_CartPole-v1/2997/CartPole-v1_quantized_search_40_CartPole-v1-episode-44.mp4\n",
      "\n"
     ]
    },
    {
     "name": "stderr",
     "output_type": "stream",
     "text": [
      "/Users/jonathanlamontange-kratz/Documents/GitHub/rl-stuff/packages/utils/utils/utils.py:257: UserWarning: No artists with labels found to put in legend.  Note that artists whose label start with an underscore are ignored when legend() is called with no argument.\n",
      "  axs[row][col].legend()\n"
     ]
    },
    {
     "name": "stdout",
     "output_type": "stream",
     "text": [
      "Moviepy - Done !\n",
      "Moviepy - video ready checkpoints/CartPole-v1_quantized_search_40_CartPole-v1/step_2997/videos/CartPole-v1_quantized_search_40_CartPole-v1/2997/CartPole-v1_quantized_search_40_CartPole-v1-episode-44.mp4\n",
      "score:  500.0\n",
      "score:  500.0\n",
      "score:  500.0\n",
      "score:  500.0\n",
      "score:  500.0\n",
      "Moviepy - Building video checkpoints/CartPole-v1_quantized_search_40_CartPole-v1/step_3330/videos/CartPole-v1_quantized_search_40_CartPole-v1/3330/CartPole-v1_quantized_search_40_CartPole-v1-episode-49.mp4.\n",
      "Moviepy - Writing video checkpoints/CartPole-v1_quantized_search_40_CartPole-v1/step_3330/videos/CartPole-v1_quantized_search_40_CartPole-v1/3330/CartPole-v1_quantized_search_40_CartPole-v1-episode-49.mp4\n",
      "\n"
     ]
    },
    {
     "name": "stderr",
     "output_type": "stream",
     "text": [
      "/Users/jonathanlamontange-kratz/Documents/GitHub/rl-stuff/packages/utils/utils/utils.py:257: UserWarning: No artists with labels found to put in legend.  Note that artists whose label start with an underscore are ignored when legend() is called with no argument.\n",
      "  axs[row][col].legend()\n"
     ]
    },
    {
     "name": "stdout",
     "output_type": "stream",
     "text": [
      "Moviepy - Done !\n",
      "Moviepy - video ready checkpoints/CartPole-v1_quantized_search_40_CartPole-v1/step_3330/videos/CartPole-v1_quantized_search_40_CartPole-v1/3330/CartPole-v1_quantized_search_40_CartPole-v1-episode-49.mp4\n",
      "score:  500.0\n",
      "score:  500.0\n",
      "score:  500.0\n",
      "score:  500.0\n",
      "score:  500.0\n",
      "Moviepy - Building video checkpoints/CartPole-v1_quantized_search_40_CartPole-v1/step_3663/videos/CartPole-v1_quantized_search_40_CartPole-v1/3663/CartPole-v1_quantized_search_40_CartPole-v1-episode-54.mp4.\n",
      "Moviepy - Writing video checkpoints/CartPole-v1_quantized_search_40_CartPole-v1/step_3663/videos/CartPole-v1_quantized_search_40_CartPole-v1/3663/CartPole-v1_quantized_search_40_CartPole-v1-episode-54.mp4\n",
      "\n"
     ]
    },
    {
     "name": "stderr",
     "output_type": "stream",
     "text": [
      "/Users/jonathanlamontange-kratz/Documents/GitHub/rl-stuff/packages/utils/utils/utils.py:257: UserWarning: No artists with labels found to put in legend.  Note that artists whose label start with an underscore are ignored when legend() is called with no argument.\n",
      "  axs[row][col].legend()\n"
     ]
    },
    {
     "name": "stdout",
     "output_type": "stream",
     "text": [
      "Moviepy - Done !\n",
      "Moviepy - video ready checkpoints/CartPole-v1_quantized_search_40_CartPole-v1/step_3663/videos/CartPole-v1_quantized_search_40_CartPole-v1/3663/CartPole-v1_quantized_search_40_CartPole-v1-episode-54.mp4\n",
      "score:  500.0\n",
      "score:  500.0\n",
      "score:  500.0\n",
      "score:  500.0\n",
      "score:  500.0\n",
      "Moviepy - Building video checkpoints/CartPole-v1_quantized_search_40_CartPole-v1/step_3996/videos/CartPole-v1_quantized_search_40_CartPole-v1/3996/CartPole-v1_quantized_search_40_CartPole-v1-episode-59.mp4.\n",
      "Moviepy - Writing video checkpoints/CartPole-v1_quantized_search_40_CartPole-v1/step_3996/videos/CartPole-v1_quantized_search_40_CartPole-v1/3996/CartPole-v1_quantized_search_40_CartPole-v1-episode-59.mp4\n",
      "\n"
     ]
    },
    {
     "name": "stderr",
     "output_type": "stream",
     "text": [
      "/Users/jonathanlamontange-kratz/Documents/GitHub/rl-stuff/packages/utils/utils/utils.py:257: UserWarning: No artists with labels found to put in legend.  Note that artists whose label start with an underscore are ignored when legend() is called with no argument.\n",
      "  axs[row][col].legend()\n"
     ]
    },
    {
     "name": "stdout",
     "output_type": "stream",
     "text": [
      "Moviepy - Done !\n",
      "Moviepy - video ready checkpoints/CartPole-v1_quantized_search_40_CartPole-v1/step_3996/videos/CartPole-v1_quantized_search_40_CartPole-v1/3996/CartPole-v1_quantized_search_40_CartPole-v1-episode-59.mp4\n",
      "score:  500.0\n",
      "score:  179.0\n",
      "score:  225.0\n",
      "score:  145.0\n",
      "score:  158.0\n",
      "Moviepy - Building video checkpoints/CartPole-v1_quantized_search_40_CartPole-v1/step_4329/videos/CartPole-v1_quantized_search_40_CartPole-v1/4329/CartPole-v1_quantized_search_40_CartPole-v1-episode-64.mp4.\n",
      "Moviepy - Writing video checkpoints/CartPole-v1_quantized_search_40_CartPole-v1/step_4329/videos/CartPole-v1_quantized_search_40_CartPole-v1/4329/CartPole-v1_quantized_search_40_CartPole-v1-episode-64.mp4\n",
      "\n"
     ]
    },
    {
     "name": "stderr",
     "output_type": "stream",
     "text": [
      "/Users/jonathanlamontange-kratz/Documents/GitHub/rl-stuff/packages/utils/utils/utils.py:257: UserWarning: No artists with labels found to put in legend.  Note that artists whose label start with an underscore are ignored when legend() is called with no argument.\n",
      "  axs[row][col].legend()\n"
     ]
    },
    {
     "name": "stdout",
     "output_type": "stream",
     "text": [
      "Moviepy - Done !\n",
      "Moviepy - video ready checkpoints/CartPole-v1_quantized_search_40_CartPole-v1/step_4329/videos/CartPole-v1_quantized_search_40_CartPole-v1/4329/CartPole-v1_quantized_search_40_CartPole-v1-episode-64.mp4\n",
      "score:  202.0\n",
      "score:  500.0\n",
      "score:  500.0\n",
      "score:  500.0\n",
      "score:  500.0\n",
      "Moviepy - Building video checkpoints/CartPole-v1_quantized_search_40_CartPole-v1/step_4662/videos/CartPole-v1_quantized_search_40_CartPole-v1/4662/CartPole-v1_quantized_search_40_CartPole-v1-episode-69.mp4.\n",
      "Moviepy - Writing video checkpoints/CartPole-v1_quantized_search_40_CartPole-v1/step_4662/videos/CartPole-v1_quantized_search_40_CartPole-v1/4662/CartPole-v1_quantized_search_40_CartPole-v1-episode-69.mp4\n",
      "\n"
     ]
    },
    {
     "name": "stderr",
     "output_type": "stream",
     "text": [
      "/Users/jonathanlamontange-kratz/Documents/GitHub/rl-stuff/packages/utils/utils/utils.py:257: UserWarning: No artists with labels found to put in legend.  Note that artists whose label start with an underscore are ignored when legend() is called with no argument.\n",
      "  axs[row][col].legend()\n"
     ]
    },
    {
     "name": "stdout",
     "output_type": "stream",
     "text": [
      "Moviepy - Done !\n",
      "Moviepy - video ready checkpoints/CartPole-v1_quantized_search_40_CartPole-v1/step_4662/videos/CartPole-v1_quantized_search_40_CartPole-v1/4662/CartPole-v1_quantized_search_40_CartPole-v1-episode-69.mp4\n",
      "score:  500.0\n",
      "score:  500.0\n",
      "score:  500.0\n",
      "score:  500.0\n",
      "score:  500.0\n",
      "Moviepy - Building video checkpoints/CartPole-v1_quantized_search_40_CartPole-v1/step_4995/videos/CartPole-v1_quantized_search_40_CartPole-v1/4995/CartPole-v1_quantized_search_40_CartPole-v1-episode-74.mp4.\n",
      "Moviepy - Writing video checkpoints/CartPole-v1_quantized_search_40_CartPole-v1/step_4995/videos/CartPole-v1_quantized_search_40_CartPole-v1/4995/CartPole-v1_quantized_search_40_CartPole-v1-episode-74.mp4\n",
      "\n"
     ]
    },
    {
     "name": "stderr",
     "output_type": "stream",
     "text": [
      "                                                               \r"
     ]
    },
    {
     "name": "stdout",
     "output_type": "stream",
     "text": [
      "Moviepy - Done !\n",
      "Moviepy - video ready checkpoints/CartPole-v1_quantized_search_40_CartPole-v1/step_4995/videos/CartPole-v1_quantized_search_40_CartPole-v1/4995/CartPole-v1_quantized_search_40_CartPole-v1-episode-74.mp4\n",
      "score:  500.0\n"
     ]
    },
    {
     "name": "stderr",
     "output_type": "stream",
     "text": [
      "/Users/jonathanlamontange-kratz/Documents/GitHub/rl-stuff/packages/utils/utils/utils.py:257: UserWarning: No artists with labels found to put in legend.  Note that artists whose label start with an underscore are ignored when legend() is called with no argument.\n",
      "  axs[row][col].legend()\n"
     ]
    },
    {
     "name": "stdout",
     "output_type": "stream",
     "text": [
      "score:  500.0\n",
      "score:  500.0\n",
      "score:  500.0\n",
      "score:  500.0\n",
      "Moviepy - Building video checkpoints/CartPole-v1_quantized_search_40_CartPole-v1/step_5328/videos/CartPole-v1_quantized_search_40_CartPole-v1/5328/CartPole-v1_quantized_search_40_CartPole-v1-episode-79.mp4.\n",
      "Moviepy - Writing video checkpoints/CartPole-v1_quantized_search_40_CartPole-v1/step_5328/videos/CartPole-v1_quantized_search_40_CartPole-v1/5328/CartPole-v1_quantized_search_40_CartPole-v1-episode-79.mp4\n",
      "\n"
     ]
    },
    {
     "name": "stderr",
     "output_type": "stream",
     "text": [
      "/Users/jonathanlamontange-kratz/Documents/GitHub/rl-stuff/packages/utils/utils/utils.py:257: UserWarning: No artists with labels found to put in legend.  Note that artists whose label start with an underscore are ignored when legend() is called with no argument.\n",
      "  axs[row][col].legend()\n"
     ]
    },
    {
     "name": "stdout",
     "output_type": "stream",
     "text": [
      "Moviepy - Done !\n",
      "Moviepy - video ready checkpoints/CartPole-v1_quantized_search_40_CartPole-v1/step_5328/videos/CartPole-v1_quantized_search_40_CartPole-v1/5328/CartPole-v1_quantized_search_40_CartPole-v1-episode-79.mp4\n",
      "score:  500.0\n",
      "score:  188.0\n",
      "score:  174.0\n",
      "score:  207.0\n",
      "score:  185.0\n",
      "Moviepy - Building video checkpoints/CartPole-v1_quantized_search_40_CartPole-v1/step_5661/videos/CartPole-v1_quantized_search_40_CartPole-v1/5661/CartPole-v1_quantized_search_40_CartPole-v1-episode-84.mp4.\n",
      "Moviepy - Writing video checkpoints/CartPole-v1_quantized_search_40_CartPole-v1/step_5661/videos/CartPole-v1_quantized_search_40_CartPole-v1/5661/CartPole-v1_quantized_search_40_CartPole-v1-episode-84.mp4\n",
      "\n"
     ]
    },
    {
     "name": "stderr",
     "output_type": "stream",
     "text": [
      "/Users/jonathanlamontange-kratz/Documents/GitHub/rl-stuff/packages/utils/utils/utils.py:257: UserWarning: No artists with labels found to put in legend.  Note that artists whose label start with an underscore are ignored when legend() is called with no argument.\n",
      "  axs[row][col].legend()\n"
     ]
    },
    {
     "name": "stdout",
     "output_type": "stream",
     "text": [
      "Moviepy - Done !\n",
      "Moviepy - video ready checkpoints/CartPole-v1_quantized_search_40_CartPole-v1/step_5661/videos/CartPole-v1_quantized_search_40_CartPole-v1/5661/CartPole-v1_quantized_search_40_CartPole-v1-episode-84.mp4\n",
      "score:  188.0\n",
      "score:  500.0\n",
      "score:  297.0\n",
      "score:  500.0\n",
      "score:  500.0\n",
      "Moviepy - Building video checkpoints/CartPole-v1_quantized_search_40_CartPole-v1/step_5994/videos/CartPole-v1_quantized_search_40_CartPole-v1/5994/CartPole-v1_quantized_search_40_CartPole-v1-episode-89.mp4.\n",
      "Moviepy - Writing video checkpoints/CartPole-v1_quantized_search_40_CartPole-v1/step_5994/videos/CartPole-v1_quantized_search_40_CartPole-v1/5994/CartPole-v1_quantized_search_40_CartPole-v1-episode-89.mp4\n",
      "\n"
     ]
    },
    {
     "name": "stderr",
     "output_type": "stream",
     "text": [
      "/Users/jonathanlamontange-kratz/Documents/GitHub/rl-stuff/packages/utils/utils/utils.py:257: UserWarning: No artists with labels found to put in legend.  Note that artists whose label start with an underscore are ignored when legend() is called with no argument.\n",
      "  axs[row][col].legend()\n"
     ]
    },
    {
     "name": "stdout",
     "output_type": "stream",
     "text": [
      "Moviepy - Done !\n",
      "Moviepy - video ready checkpoints/CartPole-v1_quantized_search_40_CartPole-v1/step_5994/videos/CartPole-v1_quantized_search_40_CartPole-v1/5994/CartPole-v1_quantized_search_40_CartPole-v1-episode-89.mp4\n",
      "score:  500.0\n",
      "score:  500.0\n",
      "score:  500.0\n",
      "score:  500.0\n",
      "score:  500.0\n",
      "Moviepy - Building video checkpoints/CartPole-v1_quantized_search_40_CartPole-v1/step_6327/videos/CartPole-v1_quantized_search_40_CartPole-v1/6327/CartPole-v1_quantized_search_40_CartPole-v1-episode-94.mp4.\n",
      "Moviepy - Writing video checkpoints/CartPole-v1_quantized_search_40_CartPole-v1/step_6327/videos/CartPole-v1_quantized_search_40_CartPole-v1/6327/CartPole-v1_quantized_search_40_CartPole-v1-episode-94.mp4\n",
      "\n"
     ]
    },
    {
     "name": "stderr",
     "output_type": "stream",
     "text": [
      "/Users/jonathanlamontange-kratz/Documents/GitHub/rl-stuff/packages/utils/utils/utils.py:257: UserWarning: No artists with labels found to put in legend.  Note that artists whose label start with an underscore are ignored when legend() is called with no argument.\n",
      "  axs[row][col].legend()\n"
     ]
    },
    {
     "name": "stdout",
     "output_type": "stream",
     "text": [
      "Moviepy - Done !\n",
      "Moviepy - video ready checkpoints/CartPole-v1_quantized_search_40_CartPole-v1/step_6327/videos/CartPole-v1_quantized_search_40_CartPole-v1/6327/CartPole-v1_quantized_search_40_CartPole-v1-episode-94.mp4\n",
      "score:  500.0\n",
      "score:  198.0\n",
      "score:  201.0\n",
      "score:  204.0\n",
      "score:  194.0\n",
      "Moviepy - Building video checkpoints/CartPole-v1_quantized_search_40_CartPole-v1/step_6660/videos/CartPole-v1_quantized_search_40_CartPole-v1/6660/CartPole-v1_quantized_search_40_CartPole-v1-episode-99.mp4.\n",
      "Moviepy - Writing video checkpoints/CartPole-v1_quantized_search_40_CartPole-v1/step_6660/videos/CartPole-v1_quantized_search_40_CartPole-v1/6660/CartPole-v1_quantized_search_40_CartPole-v1-episode-99.mp4\n",
      "\n"
     ]
    },
    {
     "name": "stderr",
     "output_type": "stream",
     "text": [
      "/Users/jonathanlamontange-kratz/Documents/GitHub/rl-stuff/packages/utils/utils/utils.py:257: UserWarning: No artists with labels found to put in legend.  Note that artists whose label start with an underscore are ignored when legend() is called with no argument.\n",
      "  axs[row][col].legend()\n"
     ]
    },
    {
     "name": "stdout",
     "output_type": "stream",
     "text": [
      "Moviepy - Done !\n",
      "Moviepy - video ready checkpoints/CartPole-v1_quantized_search_40_CartPole-v1/step_6660/videos/CartPole-v1_quantized_search_40_CartPole-v1/6660/CartPole-v1_quantized_search_40_CartPole-v1-episode-99.mp4\n",
      "score:  199.0\n",
      "score:  500.0\n",
      "score:  500.0\n",
      "score:  500.0\n",
      "score:  500.0\n",
      "Moviepy - Building video checkpoints/CartPole-v1_quantized_search_40_CartPole-v1/step_6993/videos/CartPole-v1_quantized_search_40_CartPole-v1/6993/CartPole-v1_quantized_search_40_CartPole-v1-episode-104.mp4.\n",
      "Moviepy - Writing video checkpoints/CartPole-v1_quantized_search_40_CartPole-v1/step_6993/videos/CartPole-v1_quantized_search_40_CartPole-v1/6993/CartPole-v1_quantized_search_40_CartPole-v1-episode-104.mp4\n",
      "\n"
     ]
    },
    {
     "name": "stderr",
     "output_type": "stream",
     "text": [
      "/Users/jonathanlamontange-kratz/Documents/GitHub/rl-stuff/packages/utils/utils/utils.py:257: UserWarning: No artists with labels found to put in legend.  Note that artists whose label start with an underscore are ignored when legend() is called with no argument.\n",
      "  axs[row][col].legend()\n"
     ]
    },
    {
     "name": "stdout",
     "output_type": "stream",
     "text": [
      "Moviepy - Done !\n",
      "Moviepy - video ready checkpoints/CartPole-v1_quantized_search_40_CartPole-v1/step_6993/videos/CartPole-v1_quantized_search_40_CartPole-v1/6993/CartPole-v1_quantized_search_40_CartPole-v1-episode-104.mp4\n",
      "score:  500.0\n",
      "score:  500.0\n",
      "score:  500.0\n",
      "score:  500.0\n",
      "score:  500.0\n",
      "Moviepy - Building video checkpoints/CartPole-v1_quantized_search_40_CartPole-v1/step_7326/videos/CartPole-v1_quantized_search_40_CartPole-v1/7326/CartPole-v1_quantized_search_40_CartPole-v1-episode-109.mp4.\n",
      "Moviepy - Writing video checkpoints/CartPole-v1_quantized_search_40_CartPole-v1/step_7326/videos/CartPole-v1_quantized_search_40_CartPole-v1/7326/CartPole-v1_quantized_search_40_CartPole-v1-episode-109.mp4\n",
      "\n"
     ]
    },
    {
     "name": "stderr",
     "output_type": "stream",
     "text": [
      "                                                               \r"
     ]
    },
    {
     "name": "stdout",
     "output_type": "stream",
     "text": [
      "Moviepy - Done !\n",
      "Moviepy - video ready checkpoints/CartPole-v1_quantized_search_40_CartPole-v1/step_7326/videos/CartPole-v1_quantized_search_40_CartPole-v1/7326/CartPole-v1_quantized_search_40_CartPole-v1-episode-109.mp4\n",
      "score:  500.0\n"
     ]
    },
    {
     "name": "stderr",
     "output_type": "stream",
     "text": [
      "/Users/jonathanlamontange-kratz/Documents/GitHub/rl-stuff/packages/utils/utils/utils.py:257: UserWarning: No artists with labels found to put in legend.  Note that artists whose label start with an underscore are ignored when legend() is called with no argument.\n",
      "  axs[row][col].legend()\n"
     ]
    },
    {
     "name": "stdout",
     "output_type": "stream",
     "text": [
      "score:  443.0\n",
      "score:  451.0\n",
      "score:  443.0\n",
      "score:  430.0\n",
      "Moviepy - Building video checkpoints/CartPole-v1_quantized_search_40_CartPole-v1/step_7659/videos/CartPole-v1_quantized_search_40_CartPole-v1/7659/CartPole-v1_quantized_search_40_CartPole-v1-episode-114.mp4.\n",
      "Moviepy - Writing video checkpoints/CartPole-v1_quantized_search_40_CartPole-v1/step_7659/videos/CartPole-v1_quantized_search_40_CartPole-v1/7659/CartPole-v1_quantized_search_40_CartPole-v1-episode-114.mp4\n",
      "\n"
     ]
    },
    {
     "name": "stderr",
     "output_type": "stream",
     "text": [
      "/Users/jonathanlamontange-kratz/Documents/GitHub/rl-stuff/packages/utils/utils/utils.py:257: UserWarning: No artists with labels found to put in legend.  Note that artists whose label start with an underscore are ignored when legend() is called with no argument.\n",
      "  axs[row][col].legend()\n"
     ]
    },
    {
     "name": "stdout",
     "output_type": "stream",
     "text": [
      "Moviepy - Done !\n",
      "Moviepy - video ready checkpoints/CartPole-v1_quantized_search_40_CartPole-v1/step_7659/videos/CartPole-v1_quantized_search_40_CartPole-v1/7659/CartPole-v1_quantized_search_40_CartPole-v1-episode-114.mp4\n",
      "score:  435.0\n",
      "score:  500.0\n",
      "score:  500.0\n",
      "score:  500.0\n",
      "score:  500.0\n",
      "Moviepy - Building video checkpoints/CartPole-v1_quantized_search_40_CartPole-v1/step_7992/videos/CartPole-v1_quantized_search_40_CartPole-v1/7992/CartPole-v1_quantized_search_40_CartPole-v1-episode-119.mp4.\n",
      "Moviepy - Writing video checkpoints/CartPole-v1_quantized_search_40_CartPole-v1/step_7992/videos/CartPole-v1_quantized_search_40_CartPole-v1/7992/CartPole-v1_quantized_search_40_CartPole-v1-episode-119.mp4\n",
      "\n"
     ]
    },
    {
     "name": "stderr",
     "output_type": "stream",
     "text": [
      "/Users/jonathanlamontange-kratz/Documents/GitHub/rl-stuff/packages/utils/utils/utils.py:257: UserWarning: No artists with labels found to put in legend.  Note that artists whose label start with an underscore are ignored when legend() is called with no argument.\n",
      "  axs[row][col].legend()\n"
     ]
    },
    {
     "name": "stdout",
     "output_type": "stream",
     "text": [
      "Moviepy - Done !\n",
      "Moviepy - video ready checkpoints/CartPole-v1_quantized_search_40_CartPole-v1/step_7992/videos/CartPole-v1_quantized_search_40_CartPole-v1/7992/CartPole-v1_quantized_search_40_CartPole-v1-episode-119.mp4\n",
      "score:  500.0\n",
      "score:  500.0\n",
      "score:  500.0\n",
      "score:  500.0\n",
      "score:  500.0\n",
      "Moviepy - Building video checkpoints/CartPole-v1_quantized_search_40_CartPole-v1/step_8325/videos/CartPole-v1_quantized_search_40_CartPole-v1/8325/CartPole-v1_quantized_search_40_CartPole-v1-episode-124.mp4.\n",
      "Moviepy - Writing video checkpoints/CartPole-v1_quantized_search_40_CartPole-v1/step_8325/videos/CartPole-v1_quantized_search_40_CartPole-v1/8325/CartPole-v1_quantized_search_40_CartPole-v1-episode-124.mp4\n",
      "\n"
     ]
    },
    {
     "name": "stderr",
     "output_type": "stream",
     "text": [
      "                                                               \r"
     ]
    },
    {
     "name": "stdout",
     "output_type": "stream",
     "text": [
      "Moviepy - Done !\n",
      "Moviepy - video ready checkpoints/CartPole-v1_quantized_search_40_CartPole-v1/step_8325/videos/CartPole-v1_quantized_search_40_CartPole-v1/8325/CartPole-v1_quantized_search_40_CartPole-v1-episode-124.mp4\n",
      "score:  500.0\n"
     ]
    },
    {
     "name": "stderr",
     "output_type": "stream",
     "text": [
      "/Users/jonathanlamontange-kratz/Documents/GitHub/rl-stuff/packages/utils/utils/utils.py:257: UserWarning: No artists with labels found to put in legend.  Note that artists whose label start with an underscore are ignored when legend() is called with no argument.\n",
      "  axs[row][col].legend()\n"
     ]
    },
    {
     "name": "stdout",
     "output_type": "stream",
     "text": [
      "score:  500.0\n",
      "score:  500.0\n",
      "score:  500.0\n",
      "score:  500.0\n",
      "Moviepy - Building video checkpoints/CartPole-v1_quantized_search_40_CartPole-v1/step_8658/videos/CartPole-v1_quantized_search_40_CartPole-v1/8658/CartPole-v1_quantized_search_40_CartPole-v1-episode-129.mp4.\n",
      "Moviepy - Writing video checkpoints/CartPole-v1_quantized_search_40_CartPole-v1/step_8658/videos/CartPole-v1_quantized_search_40_CartPole-v1/8658/CartPole-v1_quantized_search_40_CartPole-v1-episode-129.mp4\n",
      "\n"
     ]
    },
    {
     "name": "stderr",
     "output_type": "stream",
     "text": [
      "                                                               \r"
     ]
    },
    {
     "name": "stdout",
     "output_type": "stream",
     "text": [
      "Moviepy - Done !\n",
      "Moviepy - video ready checkpoints/CartPole-v1_quantized_search_40_CartPole-v1/step_8658/videos/CartPole-v1_quantized_search_40_CartPole-v1/8658/CartPole-v1_quantized_search_40_CartPole-v1-episode-129.mp4\n",
      "score:  500.0\n"
     ]
    },
    {
     "name": "stderr",
     "output_type": "stream",
     "text": [
      "/Users/jonathanlamontange-kratz/Documents/GitHub/rl-stuff/packages/utils/utils/utils.py:257: UserWarning: No artists with labels found to put in legend.  Note that artists whose label start with an underscore are ignored when legend() is called with no argument.\n",
      "  axs[row][col].legend()\n"
     ]
    },
    {
     "name": "stdout",
     "output_type": "stream",
     "text": [
      "score:  45.0\n",
      "score:  154.0\n",
      "score:  34.0\n",
      "score:  500.0\n",
      "Moviepy - Building video checkpoints/CartPole-v1_quantized_search_40_CartPole-v1/step_8991/videos/CartPole-v1_quantized_search_40_CartPole-v1/8991/CartPole-v1_quantized_search_40_CartPole-v1-episode-134.mp4.\n",
      "Moviepy - Writing video checkpoints/CartPole-v1_quantized_search_40_CartPole-v1/step_8991/videos/CartPole-v1_quantized_search_40_CartPole-v1/8991/CartPole-v1_quantized_search_40_CartPole-v1-episode-134.mp4\n",
      "\n"
     ]
    },
    {
     "name": "stderr",
     "output_type": "stream",
     "text": [
      "/Users/jonathanlamontange-kratz/Documents/GitHub/rl-stuff/packages/utils/utils/utils.py:257: UserWarning: No artists with labels found to put in legend.  Note that artists whose label start with an underscore are ignored when legend() is called with no argument.\n",
      "  axs[row][col].legend()\n"
     ]
    },
    {
     "name": "stdout",
     "output_type": "stream",
     "text": [
      "Moviepy - Done !\n",
      "Moviepy - video ready checkpoints/CartPole-v1_quantized_search_40_CartPole-v1/step_8991/videos/CartPole-v1_quantized_search_40_CartPole-v1/8991/CartPole-v1_quantized_search_40_CartPole-v1-episode-134.mp4\n",
      "score:  37.0\n",
      "score:  500.0\n",
      "score:  500.0\n",
      "score:  500.0\n",
      "score:  500.0\n",
      "Moviepy - Building video checkpoints/CartPole-v1_quantized_search_40_CartPole-v1/step_9324/videos/CartPole-v1_quantized_search_40_CartPole-v1/9324/CartPole-v1_quantized_search_40_CartPole-v1-episode-139.mp4.\n",
      "Moviepy - Writing video checkpoints/CartPole-v1_quantized_search_40_CartPole-v1/step_9324/videos/CartPole-v1_quantized_search_40_CartPole-v1/9324/CartPole-v1_quantized_search_40_CartPole-v1-episode-139.mp4\n",
      "\n"
     ]
    },
    {
     "name": "stderr",
     "output_type": "stream",
     "text": [
      "/Users/jonathanlamontange-kratz/Documents/GitHub/rl-stuff/packages/utils/utils/utils.py:257: UserWarning: No artists with labels found to put in legend.  Note that artists whose label start with an underscore are ignored when legend() is called with no argument.\n",
      "  axs[row][col].legend()\n"
     ]
    },
    {
     "name": "stdout",
     "output_type": "stream",
     "text": [
      "Moviepy - Done !\n",
      "Moviepy - video ready checkpoints/CartPole-v1_quantized_search_40_CartPole-v1/step_9324/videos/CartPole-v1_quantized_search_40_CartPole-v1/9324/CartPole-v1_quantized_search_40_CartPole-v1-episode-139.mp4\n",
      "score:  500.0\n",
      "score:  500.0\n",
      "score:  500.0\n",
      "score:  500.0\n",
      "score:  500.0\n",
      "Moviepy - Building video checkpoints/CartPole-v1_quantized_search_40_CartPole-v1/step_9657/videos/CartPole-v1_quantized_search_40_CartPole-v1/9657/CartPole-v1_quantized_search_40_CartPole-v1-episode-144.mp4.\n",
      "Moviepy - Writing video checkpoints/CartPole-v1_quantized_search_40_CartPole-v1/step_9657/videos/CartPole-v1_quantized_search_40_CartPole-v1/9657/CartPole-v1_quantized_search_40_CartPole-v1-episode-144.mp4\n",
      "\n"
     ]
    },
    {
     "name": "stderr",
     "output_type": "stream",
     "text": [
      "/Users/jonathanlamontange-kratz/Documents/GitHub/rl-stuff/packages/utils/utils/utils.py:257: UserWarning: No artists with labels found to put in legend.  Note that artists whose label start with an underscore are ignored when legend() is called with no argument.\n",
      "  axs[row][col].legend()\n"
     ]
    },
    {
     "name": "stdout",
     "output_type": "stream",
     "text": [
      "Moviepy - Done !\n",
      "Moviepy - video ready checkpoints/CartPole-v1_quantized_search_40_CartPole-v1/step_9657/videos/CartPole-v1_quantized_search_40_CartPole-v1/9657/CartPole-v1_quantized_search_40_CartPole-v1-episode-144.mp4\n",
      "score:  500.0\n",
      "score:  500.0\n",
      "score:  500.0\n",
      "score:  500.0\n",
      "score:  500.0\n",
      "Moviepy - Building video checkpoints/CartPole-v1_quantized_search_40_CartPole-v1/step_9990/videos/CartPole-v1_quantized_search_40_CartPole-v1/9990/CartPole-v1_quantized_search_40_CartPole-v1-episode-149.mp4.\n",
      "Moviepy - Writing video checkpoints/CartPole-v1_quantized_search_40_CartPole-v1/step_9990/videos/CartPole-v1_quantized_search_40_CartPole-v1/9990/CartPole-v1_quantized_search_40_CartPole-v1-episode-149.mp4\n",
      "\n"
     ]
    },
    {
     "name": "stderr",
     "output_type": "stream",
     "text": [
      "                                                               \r"
     ]
    },
    {
     "name": "stdout",
     "output_type": "stream",
     "text": [
      "Moviepy - Done !\n",
      "Moviepy - video ready checkpoints/CartPole-v1_quantized_search_40_CartPole-v1/step_9990/videos/CartPole-v1_quantized_search_40_CartPole-v1/9990/CartPole-v1_quantized_search_40_CartPole-v1-episode-149.mp4\n",
      "score:  500.0\n"
     ]
    },
    {
     "name": "stderr",
     "output_type": "stream",
     "text": [
      "/Users/jonathanlamontange-kratz/Documents/GitHub/rl-stuff/packages/utils/utils/utils.py:257: UserWarning: No artists with labels found to put in legend.  Note that artists whose label start with an underscore are ignored when legend() is called with no argument.\n",
      "  axs[row][col].legend()\n"
     ]
    },
    {
     "name": "stdout",
     "output_type": "stream",
     "text": [
      "score:  500.0\n",
      "score:  500.0\n",
      "score:  500.0\n",
      "score:  500.0\n",
      "Moviepy - Building video checkpoints/CartPole-v1_quantized_search_40_CartPole-v1/step_9999/videos/CartPole-v1_quantized_search_40_CartPole-v1/9999/CartPole-v1_quantized_search_40_CartPole-v1-episode-154.mp4.\n",
      "Moviepy - Writing video checkpoints/CartPole-v1_quantized_search_40_CartPole-v1/step_9999/videos/CartPole-v1_quantized_search_40_CartPole-v1/9999/CartPole-v1_quantized_search_40_CartPole-v1-episode-154.mp4\n",
      "\n"
     ]
    },
    {
     "name": "stderr",
     "output_type": "stream",
     "text": [
      "/Users/jonathanlamontange-kratz/Documents/GitHub/rl-stuff/packages/utils/utils/utils.py:257: UserWarning: No artists with labels found to put in legend.  Note that artists whose label start with an underscore are ignored when legend() is called with no argument.\n",
      "  axs[row][col].legend()\n"
     ]
    },
    {
     "name": "stdout",
     "output_type": "stream",
     "text": [
      "Moviepy - Done !\n",
      "Moviepy - video ready checkpoints/CartPole-v1_quantized_search_40_CartPole-v1/step_9999/videos/CartPole-v1_quantized_search_40_CartPole-v1/9999/CartPole-v1_quantized_search_40_CartPole-v1-episode-154.mp4\n",
      "score:  500.0\n",
      "Training complete\n",
      "score:  500.0\n",
      "score:  500.0\n",
      "score:  500.0\n",
      "score:  500.0\n",
      "Moviepy - Building video ./checkpoints//videos/CartPole-v1_quantized_search_40_CartPole-v1/5000/CartPole-v1_quantized_search_40_CartPole-v1-episode-159.mp4.\n",
      "Moviepy - Writing video ./checkpoints//videos/CartPole-v1_quantized_search_40_CartPole-v1/5000/CartPole-v1_quantized_search_40_CartPole-v1-episode-159.mp4\n",
      "\n"
     ]
    },
    {
     "name": "stderr",
     "output_type": "stream",
     "text": [
      "                                                               \r"
     ]
    },
    {
     "name": "stdout",
     "output_type": "stream",
     "text": [
      "Moviepy - Done !\n",
      "Moviepy - video ready ./checkpoints//videos/CartPole-v1_quantized_search_40_CartPole-v1/5000/CartPole-v1_quantized_search_40_CartPole-v1-episode-159.mp4\n",
      "score:  500.0\n",
      "score:  500.0\n",
      "score:  500.0\n",
      "score:  500.0\n",
      "score:  500.0\n",
      "score:  500.0\n",
      "parallel programs done\n",
      "Params:  {'adam_epsilon': 0.000625, 'advantage_hidden_layers_widths': (32, 1024), 'atom_size': 51, 'clipnorm': 0.4, 'conv_layers': (), 'dense_layers_widths': (32, 64, 64, 64), 'discount_factor': 0.996, 'kernel_initializer': 'orthogonal', 'learning_rate': 0.011210000000000001, 'loss_function': <utils.utils.KLDivergence object at 0x288bc7740>, 'min_replay_buffer_size': 1750, 'minibatch_size': 96, 'n_step': 6, 'per_alpha': 0.4, 'per_beta': 0.75, 'per_epsilon': 0.0029500000000000004, 'replay_buffer_size': 2000, 'replay_interval': 3, 'training_steps': 10000, 'transfer_interval': 40, 'value_hidden_layers_widths': (32, 256, 256, 1024)}\n",
      "Making environments\n",
      "CartPole-v1_quantized_search\n",
      "Using default save_intermediate_weights     : True\n",
      "Using         training_steps                : 10000\n",
      "Using         adam_epsilon                  : 0.000625\n",
      "Using         learning_rate                 : 0.011210000000000001\n",
      "Using         clipnorm                      : 0.4\n",
      "Using default optimizer                     : <class 'torch.optim.adam.Adam'>\n",
      "Using         loss_function                 : <utils.utils.KLDivergence object at 0x288bc7740>\n",
      "Using default activation                    : relu\n",
      "Using         kernel_initializer            : orthogonal\n",
      "Using         minibatch_size                : 96\n",
      "Using         replay_buffer_size            : 2000\n",
      "Using         min_replay_buffer_size        : 1750\n",
      "Using default num_minibatches               : 1\n",
      "Using default training_iterations           : 1\n",
      "Using         conv_layers                   : ()\n",
      "Using         dense_layers_widths           : (32, 64, 64, 64)\n",
      "Using         value_hidden_layers_widths    : (32, 256, 256, 1024)\n",
      "Using         advantage_hidden_layers_widths: (32, 1024)\n",
      "Using default noisy_sigma                   : 0.5\n",
      "Using default deuling                       : True\n",
      "Using         discount_factor               : 0.996\n",
      "Using default soft_update                   : False\n",
      "Using         transfer_interval             : 40\n",
      "Using default ema_beta                      : 0.99\n",
      "Using         replay_interval               : 3\n",
      "Using         per_alpha                     : 0.4\n",
      "Using         per_beta                      : 0.75\n",
      "Using         per_epsilon                   : 0.0029500000000000004\n",
      "Using         n_step                        : 6\n",
      "Using         atom_size                     : 51\n",
      "observation_dimensions:  (4,)\n",
      "num_actions:  2\n"
     ]
    },
    {
     "name": "stderr",
     "output_type": "stream",
     "text": [
      "/Library/Frameworks/Python.framework/Versions/3.12/lib/python3.12/site-packages/gymnasium/wrappers/record_video.py:94: UserWarning: \u001b[33mWARN: Overwriting existing videos at /Users/jonathanlamontange-kratz/Documents/GitHub/rl-stuff/experiments/rainbow_and_ape-x folder (try specifying a different `video_folder` for the `RecordVideo` wrapper if this is not desired)\u001b[0m\n",
      "  logger.warn(\n"
     ]
    },
    {
     "name": "stdout",
     "output_type": "stream",
     "text": [
      "score:  15.0\n",
      "score:  17.0\n",
      "score:  13.0\n",
      "score:  12.0\n",
      "Moviepy - Building video checkpoints/CartPole-v1_quantized_search_41_CartPole-v1/step_333/videos/CartPole-v1_quantized_search_41_CartPole-v1/333/CartPole-v1_quantized_search_41_CartPole-v1-episode-4.mp4.\n",
      "Moviepy - Writing video checkpoints/CartPole-v1_quantized_search_41_CartPole-v1/step_333/videos/CartPole-v1_quantized_search_41_CartPole-v1/333/CartPole-v1_quantized_search_41_CartPole-v1-episode-4.mp4\n",
      "\n"
     ]
    },
    {
     "name": "stderr",
     "output_type": "stream",
     "text": [
      "/Users/jonathanlamontange-kratz/Documents/GitHub/rl-stuff/packages/utils/utils/utils.py:257: UserWarning: No artists with labels found to put in legend.  Note that artists whose label start with an underscore are ignored when legend() is called with no argument.\n",
      "  axs[row][col].legend()\n",
      "/Users/jonathanlamontange-kratz/Documents/GitHub/rl-stuff/packages/utils/utils/utils.py:187: UserWarning: Attempting to set identical low and high xlims makes transformation singular; automatically expanding.\n",
      "  axs[row][col].set_xlim(1, len(values))\n"
     ]
    },
    {
     "name": "stdout",
     "output_type": "stream",
     "text": [
      "Moviepy - Done !\n",
      "Moviepy - video ready checkpoints/CartPole-v1_quantized_search_41_CartPole-v1/step_333/videos/CartPole-v1_quantized_search_41_CartPole-v1/333/CartPole-v1_quantized_search_41_CartPole-v1-episode-4.mp4\n",
      "score:  16.0\n",
      "score:  66.0\n",
      "score:  59.0\n",
      "score:  54.0\n",
      "score:  60.0\n",
      "Moviepy - Building video checkpoints/CartPole-v1_quantized_search_41_CartPole-v1/step_666/videos/CartPole-v1_quantized_search_41_CartPole-v1/666/CartPole-v1_quantized_search_41_CartPole-v1-episode-9.mp4.\n",
      "Moviepy - Writing video checkpoints/CartPole-v1_quantized_search_41_CartPole-v1/step_666/videos/CartPole-v1_quantized_search_41_CartPole-v1/666/CartPole-v1_quantized_search_41_CartPole-v1-episode-9.mp4\n",
      "\n"
     ]
    },
    {
     "name": "stderr",
     "output_type": "stream",
     "text": [
      "/Users/jonathanlamontange-kratz/Documents/GitHub/rl-stuff/packages/utils/utils/utils.py:257: UserWarning: No artists with labels found to put in legend.  Note that artists whose label start with an underscore are ignored when legend() is called with no argument.\n",
      "  axs[row][col].legend()\n"
     ]
    },
    {
     "name": "stdout",
     "output_type": "stream",
     "text": [
      "Moviepy - Done !\n",
      "Moviepy - video ready checkpoints/CartPole-v1_quantized_search_41_CartPole-v1/step_666/videos/CartPole-v1_quantized_search_41_CartPole-v1/666/CartPole-v1_quantized_search_41_CartPole-v1-episode-9.mp4\n",
      "score:  56.0\n",
      "score:  101.0\n",
      "score:  120.0\n",
      "score:  103.0\n",
      "score:  113.0\n",
      "Moviepy - Building video checkpoints/CartPole-v1_quantized_search_41_CartPole-v1/step_999/videos/CartPole-v1_quantized_search_41_CartPole-v1/999/CartPole-v1_quantized_search_41_CartPole-v1-episode-14.mp4.\n",
      "Moviepy - Writing video checkpoints/CartPole-v1_quantized_search_41_CartPole-v1/step_999/videos/CartPole-v1_quantized_search_41_CartPole-v1/999/CartPole-v1_quantized_search_41_CartPole-v1-episode-14.mp4\n",
      "\n"
     ]
    },
    {
     "name": "stderr",
     "output_type": "stream",
     "text": [
      "/Users/jonathanlamontange-kratz/Documents/GitHub/rl-stuff/packages/utils/utils/utils.py:257: UserWarning: No artists with labels found to put in legend.  Note that artists whose label start with an underscore are ignored when legend() is called with no argument.\n",
      "  axs[row][col].legend()\n"
     ]
    },
    {
     "name": "stdout",
     "output_type": "stream",
     "text": [
      "Moviepy - Done !\n",
      "Moviepy - video ready checkpoints/CartPole-v1_quantized_search_41_CartPole-v1/step_999/videos/CartPole-v1_quantized_search_41_CartPole-v1/999/CartPole-v1_quantized_search_41_CartPole-v1-episode-14.mp4\n",
      "score:  105.0\n",
      "score:  106.0\n",
      "score:  111.0\n",
      "score:  112.0\n",
      "score:  112.0\n",
      "Moviepy - Building video checkpoints/CartPole-v1_quantized_search_41_CartPole-v1/step_1332/videos/CartPole-v1_quantized_search_41_CartPole-v1/1332/CartPole-v1_quantized_search_41_CartPole-v1-episode-19.mp4.\n",
      "Moviepy - Writing video checkpoints/CartPole-v1_quantized_search_41_CartPole-v1/step_1332/videos/CartPole-v1_quantized_search_41_CartPole-v1/1332/CartPole-v1_quantized_search_41_CartPole-v1-episode-19.mp4\n",
      "\n"
     ]
    },
    {
     "name": "stderr",
     "output_type": "stream",
     "text": [
      "/Users/jonathanlamontange-kratz/Documents/GitHub/rl-stuff/packages/utils/utils/utils.py:257: UserWarning: No artists with labels found to put in legend.  Note that artists whose label start with an underscore are ignored when legend() is called with no argument.\n",
      "  axs[row][col].legend()\n"
     ]
    },
    {
     "name": "stdout",
     "output_type": "stream",
     "text": [
      "Moviepy - Done !\n",
      "Moviepy - video ready checkpoints/CartPole-v1_quantized_search_41_CartPole-v1/step_1332/videos/CartPole-v1_quantized_search_41_CartPole-v1/1332/CartPole-v1_quantized_search_41_CartPole-v1-episode-19.mp4\n",
      "score:  109.0\n",
      "score:  500.0\n",
      "score:  500.0\n",
      "score:  500.0\n",
      "score:  500.0\n",
      "Moviepy - Building video checkpoints/CartPole-v1_quantized_search_41_CartPole-v1/step_1665/videos/CartPole-v1_quantized_search_41_CartPole-v1/1665/CartPole-v1_quantized_search_41_CartPole-v1-episode-24.mp4.\n",
      "Moviepy - Writing video checkpoints/CartPole-v1_quantized_search_41_CartPole-v1/step_1665/videos/CartPole-v1_quantized_search_41_CartPole-v1/1665/CartPole-v1_quantized_search_41_CartPole-v1-episode-24.mp4\n",
      "\n"
     ]
    },
    {
     "name": "stderr",
     "output_type": "stream",
     "text": [
      "/Users/jonathanlamontange-kratz/Documents/GitHub/rl-stuff/packages/utils/utils/utils.py:257: UserWarning: No artists with labels found to put in legend.  Note that artists whose label start with an underscore are ignored when legend() is called with no argument.\n",
      "  axs[row][col].legend()\n"
     ]
    },
    {
     "name": "stdout",
     "output_type": "stream",
     "text": [
      "Moviepy - Done !\n",
      "Moviepy - video ready checkpoints/CartPole-v1_quantized_search_41_CartPole-v1/step_1665/videos/CartPole-v1_quantized_search_41_CartPole-v1/1665/CartPole-v1_quantized_search_41_CartPole-v1-episode-24.mp4\n",
      "score:  500.0\n",
      "score:  120.0\n",
      "score:  119.0\n",
      "score:  117.0\n",
      "score:  110.0\n",
      "Moviepy - Building video checkpoints/CartPole-v1_quantized_search_41_CartPole-v1/step_1998/videos/CartPole-v1_quantized_search_41_CartPole-v1/1998/CartPole-v1_quantized_search_41_CartPole-v1-episode-29.mp4.\n",
      "Moviepy - Writing video checkpoints/CartPole-v1_quantized_search_41_CartPole-v1/step_1998/videos/CartPole-v1_quantized_search_41_CartPole-v1/1998/CartPole-v1_quantized_search_41_CartPole-v1-episode-29.mp4\n",
      "\n"
     ]
    },
    {
     "name": "stderr",
     "output_type": "stream",
     "text": [
      "/Users/jonathanlamontange-kratz/Documents/GitHub/rl-stuff/packages/utils/utils/utils.py:257: UserWarning: No artists with labels found to put in legend.  Note that artists whose label start with an underscore are ignored when legend() is called with no argument.\n",
      "  axs[row][col].legend()\n"
     ]
    },
    {
     "name": "stdout",
     "output_type": "stream",
     "text": [
      "Moviepy - Done !\n",
      "Moviepy - video ready checkpoints/CartPole-v1_quantized_search_41_CartPole-v1/step_1998/videos/CartPole-v1_quantized_search_41_CartPole-v1/1998/CartPole-v1_quantized_search_41_CartPole-v1-episode-29.mp4\n",
      "score:  120.0\n",
      "score:  79.0\n",
      "score:  75.0\n",
      "score:  81.0\n",
      "score:  74.0\n",
      "Moviepy - Building video checkpoints/CartPole-v1_quantized_search_41_CartPole-v1/step_2331/videos/CartPole-v1_quantized_search_41_CartPole-v1/2331/CartPole-v1_quantized_search_41_CartPole-v1-episode-34.mp4.\n",
      "Moviepy - Writing video checkpoints/CartPole-v1_quantized_search_41_CartPole-v1/step_2331/videos/CartPole-v1_quantized_search_41_CartPole-v1/2331/CartPole-v1_quantized_search_41_CartPole-v1-episode-34.mp4\n",
      "\n"
     ]
    },
    {
     "name": "stderr",
     "output_type": "stream",
     "text": [
      "/Users/jonathanlamontange-kratz/Documents/GitHub/rl-stuff/packages/utils/utils/utils.py:257: UserWarning: No artists with labels found to put in legend.  Note that artists whose label start with an underscore are ignored when legend() is called with no argument.\n",
      "  axs[row][col].legend()\n"
     ]
    },
    {
     "name": "stdout",
     "output_type": "stream",
     "text": [
      "Moviepy - Done !\n",
      "Moviepy - video ready checkpoints/CartPole-v1_quantized_search_41_CartPole-v1/step_2331/videos/CartPole-v1_quantized_search_41_CartPole-v1/2331/CartPole-v1_quantized_search_41_CartPole-v1-episode-34.mp4\n",
      "score:  74.0\n",
      "score:  306.0\n",
      "score:  302.0\n",
      "score:  303.0\n",
      "score:  304.0\n",
      "Moviepy - Building video checkpoints/CartPole-v1_quantized_search_41_CartPole-v1/step_2664/videos/CartPole-v1_quantized_search_41_CartPole-v1/2664/CartPole-v1_quantized_search_41_CartPole-v1-episode-39.mp4.\n",
      "Moviepy - Writing video checkpoints/CartPole-v1_quantized_search_41_CartPole-v1/step_2664/videos/CartPole-v1_quantized_search_41_CartPole-v1/2664/CartPole-v1_quantized_search_41_CartPole-v1-episode-39.mp4\n",
      "\n"
     ]
    },
    {
     "name": "stderr",
     "output_type": "stream",
     "text": [
      "/Users/jonathanlamontange-kratz/Documents/GitHub/rl-stuff/packages/utils/utils/utils.py:257: UserWarning: No artists with labels found to put in legend.  Note that artists whose label start with an underscore are ignored when legend() is called with no argument.\n",
      "  axs[row][col].legend()\n"
     ]
    },
    {
     "name": "stdout",
     "output_type": "stream",
     "text": [
      "Moviepy - Done !\n",
      "Moviepy - video ready checkpoints/CartPole-v1_quantized_search_41_CartPole-v1/step_2664/videos/CartPole-v1_quantized_search_41_CartPole-v1/2664/CartPole-v1_quantized_search_41_CartPole-v1-episode-39.mp4\n",
      "score:  286.0\n",
      "score:  89.0\n",
      "score:  88.0\n",
      "score:  91.0\n",
      "score:  85.0\n",
      "Moviepy - Building video checkpoints/CartPole-v1_quantized_search_41_CartPole-v1/step_2997/videos/CartPole-v1_quantized_search_41_CartPole-v1/2997/CartPole-v1_quantized_search_41_CartPole-v1-episode-44.mp4.\n",
      "Moviepy - Writing video checkpoints/CartPole-v1_quantized_search_41_CartPole-v1/step_2997/videos/CartPole-v1_quantized_search_41_CartPole-v1/2997/CartPole-v1_quantized_search_41_CartPole-v1-episode-44.mp4\n",
      "\n"
     ]
    },
    {
     "name": "stderr",
     "output_type": "stream",
     "text": [
      "/Users/jonathanlamontange-kratz/Documents/GitHub/rl-stuff/packages/utils/utils/utils.py:257: UserWarning: No artists with labels found to put in legend.  Note that artists whose label start with an underscore are ignored when legend() is called with no argument.\n",
      "  axs[row][col].legend()\n"
     ]
    },
    {
     "name": "stdout",
     "output_type": "stream",
     "text": [
      "Moviepy - Done !\n",
      "Moviepy - video ready checkpoints/CartPole-v1_quantized_search_41_CartPole-v1/step_2997/videos/CartPole-v1_quantized_search_41_CartPole-v1/2997/CartPole-v1_quantized_search_41_CartPole-v1-episode-44.mp4\n",
      "score:  90.0\n",
      "score:  500.0\n",
      "score:  500.0\n",
      "score:  500.0\n",
      "score:  500.0\n",
      "Moviepy - Building video checkpoints/CartPole-v1_quantized_search_41_CartPole-v1/step_3330/videos/CartPole-v1_quantized_search_41_CartPole-v1/3330/CartPole-v1_quantized_search_41_CartPole-v1-episode-49.mp4.\n",
      "Moviepy - Writing video checkpoints/CartPole-v1_quantized_search_41_CartPole-v1/step_3330/videos/CartPole-v1_quantized_search_41_CartPole-v1/3330/CartPole-v1_quantized_search_41_CartPole-v1-episode-49.mp4\n",
      "\n"
     ]
    },
    {
     "name": "stderr",
     "output_type": "stream",
     "text": [
      "/Users/jonathanlamontange-kratz/Documents/GitHub/rl-stuff/packages/utils/utils/utils.py:257: UserWarning: No artists with labels found to put in legend.  Note that artists whose label start with an underscore are ignored when legend() is called with no argument.\n",
      "  axs[row][col].legend()\n"
     ]
    },
    {
     "name": "stdout",
     "output_type": "stream",
     "text": [
      "Moviepy - Done !\n",
      "Moviepy - video ready checkpoints/CartPole-v1_quantized_search_41_CartPole-v1/step_3330/videos/CartPole-v1_quantized_search_41_CartPole-v1/3330/CartPole-v1_quantized_search_41_CartPole-v1-episode-49.mp4\n",
      "score:  500.0\n",
      "score:  134.0\n",
      "score:  167.0\n",
      "score:  161.0\n",
      "score:  172.0\n",
      "Moviepy - Building video checkpoints/CartPole-v1_quantized_search_41_CartPole-v1/step_3663/videos/CartPole-v1_quantized_search_41_CartPole-v1/3663/CartPole-v1_quantized_search_41_CartPole-v1-episode-54.mp4.\n",
      "Moviepy - Writing video checkpoints/CartPole-v1_quantized_search_41_CartPole-v1/step_3663/videos/CartPole-v1_quantized_search_41_CartPole-v1/3663/CartPole-v1_quantized_search_41_CartPole-v1-episode-54.mp4\n",
      "\n"
     ]
    },
    {
     "name": "stderr",
     "output_type": "stream",
     "text": [
      "/Users/jonathanlamontange-kratz/Documents/GitHub/rl-stuff/packages/utils/utils/utils.py:257: UserWarning: No artists with labels found to put in legend.  Note that artists whose label start with an underscore are ignored when legend() is called with no argument.\n",
      "  axs[row][col].legend()\n"
     ]
    },
    {
     "name": "stdout",
     "output_type": "stream",
     "text": [
      "Moviepy - Done !\n",
      "Moviepy - video ready checkpoints/CartPole-v1_quantized_search_41_CartPole-v1/step_3663/videos/CartPole-v1_quantized_search_41_CartPole-v1/3663/CartPole-v1_quantized_search_41_CartPole-v1-episode-54.mp4\n",
      "score:  142.0\n",
      "score:  165.0\n",
      "score:  173.0\n",
      "score:  153.0\n",
      "score:  159.0\n",
      "Moviepy - Building video checkpoints/CartPole-v1_quantized_search_41_CartPole-v1/step_3996/videos/CartPole-v1_quantized_search_41_CartPole-v1/3996/CartPole-v1_quantized_search_41_CartPole-v1-episode-59.mp4.\n",
      "Moviepy - Writing video checkpoints/CartPole-v1_quantized_search_41_CartPole-v1/step_3996/videos/CartPole-v1_quantized_search_41_CartPole-v1/3996/CartPole-v1_quantized_search_41_CartPole-v1-episode-59.mp4\n",
      "\n"
     ]
    },
    {
     "name": "stderr",
     "output_type": "stream",
     "text": [
      "/Users/jonathanlamontange-kratz/Documents/GitHub/rl-stuff/packages/utils/utils/utils.py:257: UserWarning: No artists with labels found to put in legend.  Note that artists whose label start with an underscore are ignored when legend() is called with no argument.\n",
      "  axs[row][col].legend()\n"
     ]
    },
    {
     "name": "stdout",
     "output_type": "stream",
     "text": [
      "Moviepy - Done !\n",
      "Moviepy - video ready checkpoints/CartPole-v1_quantized_search_41_CartPole-v1/step_3996/videos/CartPole-v1_quantized_search_41_CartPole-v1/3996/CartPole-v1_quantized_search_41_CartPole-v1-episode-59.mp4\n",
      "score:  175.0\n",
      "score:  500.0\n",
      "score:  500.0\n",
      "score:  500.0\n",
      "score:  500.0\n",
      "Moviepy - Building video checkpoints/CartPole-v1_quantized_search_41_CartPole-v1/step_4329/videos/CartPole-v1_quantized_search_41_CartPole-v1/4329/CartPole-v1_quantized_search_41_CartPole-v1-episode-64.mp4.\n",
      "Moviepy - Writing video checkpoints/CartPole-v1_quantized_search_41_CartPole-v1/step_4329/videos/CartPole-v1_quantized_search_41_CartPole-v1/4329/CartPole-v1_quantized_search_41_CartPole-v1-episode-64.mp4\n",
      "\n"
     ]
    },
    {
     "name": "stderr",
     "output_type": "stream",
     "text": [
      "                                                               \r"
     ]
    },
    {
     "name": "stdout",
     "output_type": "stream",
     "text": [
      "Moviepy - Done !\n",
      "Moviepy - video ready checkpoints/CartPole-v1_quantized_search_41_CartPole-v1/step_4329/videos/CartPole-v1_quantized_search_41_CartPole-v1/4329/CartPole-v1_quantized_search_41_CartPole-v1-episode-64.mp4\n",
      "score:  500.0\n"
     ]
    },
    {
     "name": "stderr",
     "output_type": "stream",
     "text": [
      "/Users/jonathanlamontange-kratz/Documents/GitHub/rl-stuff/packages/utils/utils/utils.py:257: UserWarning: No artists with labels found to put in legend.  Note that artists whose label start with an underscore are ignored when legend() is called with no argument.\n",
      "  axs[row][col].legend()\n"
     ]
    },
    {
     "name": "stdout",
     "output_type": "stream",
     "text": [
      "score:  248.0\n",
      "score:  245.0\n",
      "score:  276.0\n",
      "score:  296.0\n",
      "Moviepy - Building video checkpoints/CartPole-v1_quantized_search_41_CartPole-v1/step_4662/videos/CartPole-v1_quantized_search_41_CartPole-v1/4662/CartPole-v1_quantized_search_41_CartPole-v1-episode-69.mp4.\n",
      "Moviepy - Writing video checkpoints/CartPole-v1_quantized_search_41_CartPole-v1/step_4662/videos/CartPole-v1_quantized_search_41_CartPole-v1/4662/CartPole-v1_quantized_search_41_CartPole-v1-episode-69.mp4\n",
      "\n"
     ]
    },
    {
     "name": "stderr",
     "output_type": "stream",
     "text": [
      "                                                               \r"
     ]
    },
    {
     "name": "stdout",
     "output_type": "stream",
     "text": [
      "Moviepy - Done !\n",
      "Moviepy - video ready checkpoints/CartPole-v1_quantized_search_41_CartPole-v1/step_4662/videos/CartPole-v1_quantized_search_41_CartPole-v1/4662/CartPole-v1_quantized_search_41_CartPole-v1-episode-69.mp4\n",
      "score:  500.0\n"
     ]
    },
    {
     "name": "stderr",
     "output_type": "stream",
     "text": [
      "/Users/jonathanlamontange-kratz/Documents/GitHub/rl-stuff/packages/utils/utils/utils.py:257: UserWarning: No artists with labels found to put in legend.  Note that artists whose label start with an underscore are ignored when legend() is called with no argument.\n",
      "  axs[row][col].legend()\n"
     ]
    },
    {
     "name": "stdout",
     "output_type": "stream",
     "text": [
      "score:  500.0\n",
      "score:  500.0\n",
      "score:  500.0\n",
      "score:  500.0\n",
      "Moviepy - Building video checkpoints/CartPole-v1_quantized_search_41_CartPole-v1/step_4995/videos/CartPole-v1_quantized_search_41_CartPole-v1/4995/CartPole-v1_quantized_search_41_CartPole-v1-episode-74.mp4.\n",
      "Moviepy - Writing video checkpoints/CartPole-v1_quantized_search_41_CartPole-v1/step_4995/videos/CartPole-v1_quantized_search_41_CartPole-v1/4995/CartPole-v1_quantized_search_41_CartPole-v1-episode-74.mp4\n",
      "\n"
     ]
    },
    {
     "name": "stderr",
     "output_type": "stream",
     "text": [
      "                                                               \r"
     ]
    },
    {
     "name": "stdout",
     "output_type": "stream",
     "text": [
      "Moviepy - Done !\n",
      "Moviepy - video ready checkpoints/CartPole-v1_quantized_search_41_CartPole-v1/step_4995/videos/CartPole-v1_quantized_search_41_CartPole-v1/4995/CartPole-v1_quantized_search_41_CartPole-v1-episode-74.mp4\n",
      "score:  500.0\n"
     ]
    },
    {
     "name": "stderr",
     "output_type": "stream",
     "text": [
      "/Users/jonathanlamontange-kratz/Documents/GitHub/rl-stuff/packages/utils/utils/utils.py:257: UserWarning: No artists with labels found to put in legend.  Note that artists whose label start with an underscore are ignored when legend() is called with no argument.\n",
      "  axs[row][col].legend()\n"
     ]
    },
    {
     "name": "stdout",
     "output_type": "stream",
     "text": [
      "score:  174.0\n",
      "score:  167.0\n",
      "score:  174.0\n",
      "score:  170.0\n",
      "Moviepy - Building video checkpoints/CartPole-v1_quantized_search_41_CartPole-v1/step_5328/videos/CartPole-v1_quantized_search_41_CartPole-v1/5328/CartPole-v1_quantized_search_41_CartPole-v1-episode-79.mp4.\n",
      "Moviepy - Writing video checkpoints/CartPole-v1_quantized_search_41_CartPole-v1/step_5328/videos/CartPole-v1_quantized_search_41_CartPole-v1/5328/CartPole-v1_quantized_search_41_CartPole-v1-episode-79.mp4\n",
      "\n"
     ]
    },
    {
     "name": "stderr",
     "output_type": "stream",
     "text": [
      "/Users/jonathanlamontange-kratz/Documents/GitHub/rl-stuff/packages/utils/utils/utils.py:257: UserWarning: No artists with labels found to put in legend.  Note that artists whose label start with an underscore are ignored when legend() is called with no argument.\n",
      "  axs[row][col].legend()\n"
     ]
    },
    {
     "name": "stdout",
     "output_type": "stream",
     "text": [
      "Moviepy - Done !\n",
      "Moviepy - video ready checkpoints/CartPole-v1_quantized_search_41_CartPole-v1/step_5328/videos/CartPole-v1_quantized_search_41_CartPole-v1/5328/CartPole-v1_quantized_search_41_CartPole-v1-episode-79.mp4\n",
      "score:  174.0\n",
      "score:  500.0\n",
      "score:  500.0\n",
      "score:  12.0\n",
      "score:  500.0\n",
      "Moviepy - Building video checkpoints/CartPole-v1_quantized_search_41_CartPole-v1/step_5661/videos/CartPole-v1_quantized_search_41_CartPole-v1/5661/CartPole-v1_quantized_search_41_CartPole-v1-episode-84.mp4.\n",
      "Moviepy - Writing video checkpoints/CartPole-v1_quantized_search_41_CartPole-v1/step_5661/videos/CartPole-v1_quantized_search_41_CartPole-v1/5661/CartPole-v1_quantized_search_41_CartPole-v1-episode-84.mp4\n",
      "\n"
     ]
    },
    {
     "name": "stderr",
     "output_type": "stream",
     "text": [
      "/Users/jonathanlamontange-kratz/Documents/GitHub/rl-stuff/packages/utils/utils/utils.py:257: UserWarning: No artists with labels found to put in legend.  Note that artists whose label start with an underscore are ignored when legend() is called with no argument.\n",
      "  axs[row][col].legend()\n"
     ]
    },
    {
     "name": "stdout",
     "output_type": "stream",
     "text": [
      "Moviepy - Done !\n",
      "Moviepy - video ready checkpoints/CartPole-v1_quantized_search_41_CartPole-v1/step_5661/videos/CartPole-v1_quantized_search_41_CartPole-v1/5661/CartPole-v1_quantized_search_41_CartPole-v1-episode-84.mp4\n",
      "score:  500.0\n",
      "score:  128.0\n",
      "score:  128.0\n",
      "score:  128.0\n",
      "score:  125.0\n",
      "Moviepy - Building video checkpoints/CartPole-v1_quantized_search_41_CartPole-v1/step_5994/videos/CartPole-v1_quantized_search_41_CartPole-v1/5994/CartPole-v1_quantized_search_41_CartPole-v1-episode-89.mp4.\n",
      "Moviepy - Writing video checkpoints/CartPole-v1_quantized_search_41_CartPole-v1/step_5994/videos/CartPole-v1_quantized_search_41_CartPole-v1/5994/CartPole-v1_quantized_search_41_CartPole-v1-episode-89.mp4\n",
      "\n"
     ]
    },
    {
     "name": "stderr",
     "output_type": "stream",
     "text": [
      "                                                              \r"
     ]
    },
    {
     "name": "stdout",
     "output_type": "stream",
     "text": [
      "Moviepy - Done !\n",
      "Moviepy - video ready checkpoints/CartPole-v1_quantized_search_41_CartPole-v1/step_5994/videos/CartPole-v1_quantized_search_41_CartPole-v1/5994/CartPole-v1_quantized_search_41_CartPole-v1-episode-89.mp4\n",
      "score:  124.0\n"
     ]
    },
    {
     "name": "stderr",
     "output_type": "stream",
     "text": [
      "/Users/jonathanlamontange-kratz/Documents/GitHub/rl-stuff/packages/utils/utils/utils.py:257: UserWarning: No artists with labels found to put in legend.  Note that artists whose label start with an underscore are ignored when legend() is called with no argument.\n",
      "  axs[row][col].legend()\n"
     ]
    },
    {
     "name": "stdout",
     "output_type": "stream",
     "text": [
      "score:  500.0\n",
      "score:  500.0\n",
      "score:  500.0\n",
      "score:  500.0\n",
      "Moviepy - Building video checkpoints/CartPole-v1_quantized_search_41_CartPole-v1/step_6327/videos/CartPole-v1_quantized_search_41_CartPole-v1/6327/CartPole-v1_quantized_search_41_CartPole-v1-episode-94.mp4.\n",
      "Moviepy - Writing video checkpoints/CartPole-v1_quantized_search_41_CartPole-v1/step_6327/videos/CartPole-v1_quantized_search_41_CartPole-v1/6327/CartPole-v1_quantized_search_41_CartPole-v1-episode-94.mp4\n",
      "\n"
     ]
    },
    {
     "name": "stderr",
     "output_type": "stream",
     "text": [
      "/Users/jonathanlamontange-kratz/Documents/GitHub/rl-stuff/packages/utils/utils/utils.py:257: UserWarning: No artists with labels found to put in legend.  Note that artists whose label start with an underscore are ignored when legend() is called with no argument.\n",
      "  axs[row][col].legend()\n"
     ]
    },
    {
     "name": "stdout",
     "output_type": "stream",
     "text": [
      "Moviepy - Done !\n",
      "Moviepy - video ready checkpoints/CartPole-v1_quantized_search_41_CartPole-v1/step_6327/videos/CartPole-v1_quantized_search_41_CartPole-v1/6327/CartPole-v1_quantized_search_41_CartPole-v1-episode-94.mp4\n",
      "score:  500.0\n",
      "score:  274.0\n",
      "score:  289.0\n",
      "score:  286.0\n",
      "score:  290.0\n",
      "Moviepy - Building video checkpoints/CartPole-v1_quantized_search_41_CartPole-v1/step_6660/videos/CartPole-v1_quantized_search_41_CartPole-v1/6660/CartPole-v1_quantized_search_41_CartPole-v1-episode-99.mp4.\n",
      "Moviepy - Writing video checkpoints/CartPole-v1_quantized_search_41_CartPole-v1/step_6660/videos/CartPole-v1_quantized_search_41_CartPole-v1/6660/CartPole-v1_quantized_search_41_CartPole-v1-episode-99.mp4\n",
      "\n"
     ]
    },
    {
     "name": "stderr",
     "output_type": "stream",
     "text": [
      "/Users/jonathanlamontange-kratz/Documents/GitHub/rl-stuff/packages/utils/utils/utils.py:257: UserWarning: No artists with labels found to put in legend.  Note that artists whose label start with an underscore are ignored when legend() is called with no argument.\n",
      "  axs[row][col].legend()\n"
     ]
    },
    {
     "name": "stdout",
     "output_type": "stream",
     "text": [
      "Moviepy - Done !\n",
      "Moviepy - video ready checkpoints/CartPole-v1_quantized_search_41_CartPole-v1/step_6660/videos/CartPole-v1_quantized_search_41_CartPole-v1/6660/CartPole-v1_quantized_search_41_CartPole-v1-episode-99.mp4\n",
      "score:  288.0\n",
      "score:  255.0\n",
      "score:  256.0\n",
      "score:  254.0\n",
      "score:  254.0\n",
      "Moviepy - Building video checkpoints/CartPole-v1_quantized_search_41_CartPole-v1/step_6993/videos/CartPole-v1_quantized_search_41_CartPole-v1/6993/CartPole-v1_quantized_search_41_CartPole-v1-episode-104.mp4.\n",
      "Moviepy - Writing video checkpoints/CartPole-v1_quantized_search_41_CartPole-v1/step_6993/videos/CartPole-v1_quantized_search_41_CartPole-v1/6993/CartPole-v1_quantized_search_41_CartPole-v1-episode-104.mp4\n",
      "\n"
     ]
    },
    {
     "name": "stderr",
     "output_type": "stream",
     "text": [
      "/Users/jonathanlamontange-kratz/Documents/GitHub/rl-stuff/packages/utils/utils/utils.py:257: UserWarning: No artists with labels found to put in legend.  Note that artists whose label start with an underscore are ignored when legend() is called with no argument.\n",
      "  axs[row][col].legend()\n"
     ]
    },
    {
     "name": "stdout",
     "output_type": "stream",
     "text": [
      "Moviepy - Done !\n",
      "Moviepy - video ready checkpoints/CartPole-v1_quantized_search_41_CartPole-v1/step_6993/videos/CartPole-v1_quantized_search_41_CartPole-v1/6993/CartPole-v1_quantized_search_41_CartPole-v1-episode-104.mp4\n",
      "score:  257.0\n",
      "score:  109.0\n",
      "score:  97.0\n",
      "score:  28.0\n",
      "score:  22.0\n",
      "Moviepy - Building video checkpoints/CartPole-v1_quantized_search_41_CartPole-v1/step_7326/videos/CartPole-v1_quantized_search_41_CartPole-v1/7326/CartPole-v1_quantized_search_41_CartPole-v1-episode-109.mp4.\n",
      "Moviepy - Writing video checkpoints/CartPole-v1_quantized_search_41_CartPole-v1/step_7326/videos/CartPole-v1_quantized_search_41_CartPole-v1/7326/CartPole-v1_quantized_search_41_CartPole-v1-episode-109.mp4\n",
      "\n"
     ]
    },
    {
     "name": "stderr",
     "output_type": "stream",
     "text": [
      "                                                              \r"
     ]
    },
    {
     "name": "stdout",
     "output_type": "stream",
     "text": [
      "Moviepy - Done !\n",
      "Moviepy - video ready checkpoints/CartPole-v1_quantized_search_41_CartPole-v1/step_7326/videos/CartPole-v1_quantized_search_41_CartPole-v1/7326/CartPole-v1_quantized_search_41_CartPole-v1-episode-109.mp4\n",
      "score:  111.0\n"
     ]
    },
    {
     "name": "stderr",
     "output_type": "stream",
     "text": [
      "/Users/jonathanlamontange-kratz/Documents/GitHub/rl-stuff/packages/utils/utils/utils.py:257: UserWarning: No artists with labels found to put in legend.  Note that artists whose label start with an underscore are ignored when legend() is called with no argument.\n",
      "  axs[row][col].legend()\n"
     ]
    },
    {
     "name": "stdout",
     "output_type": "stream",
     "text": [
      "score:  123.0\n",
      "score:  128.0\n",
      "score:  121.0\n",
      "score:  143.0\n",
      "Moviepy - Building video checkpoints/CartPole-v1_quantized_search_41_CartPole-v1/step_7659/videos/CartPole-v1_quantized_search_41_CartPole-v1/7659/CartPole-v1_quantized_search_41_CartPole-v1-episode-114.mp4.\n",
      "Moviepy - Writing video checkpoints/CartPole-v1_quantized_search_41_CartPole-v1/step_7659/videos/CartPole-v1_quantized_search_41_CartPole-v1/7659/CartPole-v1_quantized_search_41_CartPole-v1-episode-114.mp4\n",
      "\n"
     ]
    },
    {
     "name": "stderr",
     "output_type": "stream",
     "text": [
      "/Users/jonathanlamontange-kratz/Documents/GitHub/rl-stuff/packages/utils/utils/utils.py:257: UserWarning: No artists with labels found to put in legend.  Note that artists whose label start with an underscore are ignored when legend() is called with no argument.\n",
      "  axs[row][col].legend()\n"
     ]
    },
    {
     "name": "stdout",
     "output_type": "stream",
     "text": [
      "Moviepy - Done !\n",
      "Moviepy - video ready checkpoints/CartPole-v1_quantized_search_41_CartPole-v1/step_7659/videos/CartPole-v1_quantized_search_41_CartPole-v1/7659/CartPole-v1_quantized_search_41_CartPole-v1-episode-114.mp4\n",
      "score:  152.0\n",
      "score:  64.0\n",
      "score:  168.0\n",
      "score:  65.0\n",
      "score:  76.0\n",
      "Moviepy - Building video checkpoints/CartPole-v1_quantized_search_41_CartPole-v1/step_7992/videos/CartPole-v1_quantized_search_41_CartPole-v1/7992/CartPole-v1_quantized_search_41_CartPole-v1-episode-119.mp4.\n",
      "Moviepy - Writing video checkpoints/CartPole-v1_quantized_search_41_CartPole-v1/step_7992/videos/CartPole-v1_quantized_search_41_CartPole-v1/7992/CartPole-v1_quantized_search_41_CartPole-v1-episode-119.mp4\n",
      "\n"
     ]
    },
    {
     "name": "stderr",
     "output_type": "stream",
     "text": [
      "/Users/jonathanlamontange-kratz/Documents/GitHub/rl-stuff/packages/utils/utils/utils.py:257: UserWarning: No artists with labels found to put in legend.  Note that artists whose label start with an underscore are ignored when legend() is called with no argument.\n",
      "  axs[row][col].legend()\n"
     ]
    },
    {
     "name": "stdout",
     "output_type": "stream",
     "text": [
      "Moviepy - Done !\n",
      "Moviepy - video ready checkpoints/CartPole-v1_quantized_search_41_CartPole-v1/step_7992/videos/CartPole-v1_quantized_search_41_CartPole-v1/7992/CartPole-v1_quantized_search_41_CartPole-v1-episode-119.mp4\n",
      "score:  160.0\n",
      "score:  325.0\n",
      "score:  359.0\n",
      "score:  292.0\n",
      "score:  355.0\n",
      "Moviepy - Building video checkpoints/CartPole-v1_quantized_search_41_CartPole-v1/step_8325/videos/CartPole-v1_quantized_search_41_CartPole-v1/8325/CartPole-v1_quantized_search_41_CartPole-v1-episode-124.mp4.\n",
      "Moviepy - Writing video checkpoints/CartPole-v1_quantized_search_41_CartPole-v1/step_8325/videos/CartPole-v1_quantized_search_41_CartPole-v1/8325/CartPole-v1_quantized_search_41_CartPole-v1-episode-124.mp4\n",
      "\n"
     ]
    },
    {
     "name": "stderr",
     "output_type": "stream",
     "text": [
      "/Users/jonathanlamontange-kratz/Documents/GitHub/rl-stuff/packages/utils/utils/utils.py:257: UserWarning: No artists with labels found to put in legend.  Note that artists whose label start with an underscore are ignored when legend() is called with no argument.\n",
      "  axs[row][col].legend()\n"
     ]
    },
    {
     "name": "stdout",
     "output_type": "stream",
     "text": [
      "Moviepy - Done !\n",
      "Moviepy - video ready checkpoints/CartPole-v1_quantized_search_41_CartPole-v1/step_8325/videos/CartPole-v1_quantized_search_41_CartPole-v1/8325/CartPole-v1_quantized_search_41_CartPole-v1-episode-124.mp4\n",
      "score:  311.0\n",
      "score:  111.0\n",
      "score:  121.0\n",
      "score:  119.0\n",
      "score:  119.0\n",
      "Moviepy - Building video checkpoints/CartPole-v1_quantized_search_41_CartPole-v1/step_8658/videos/CartPole-v1_quantized_search_41_CartPole-v1/8658/CartPole-v1_quantized_search_41_CartPole-v1-episode-129.mp4.\n",
      "Moviepy - Writing video checkpoints/CartPole-v1_quantized_search_41_CartPole-v1/step_8658/videos/CartPole-v1_quantized_search_41_CartPole-v1/8658/CartPole-v1_quantized_search_41_CartPole-v1-episode-129.mp4\n",
      "\n"
     ]
    },
    {
     "name": "stderr",
     "output_type": "stream",
     "text": [
      "/Users/jonathanlamontange-kratz/Documents/GitHub/rl-stuff/packages/utils/utils/utils.py:257: UserWarning: No artists with labels found to put in legend.  Note that artists whose label start with an underscore are ignored when legend() is called with no argument.\n",
      "  axs[row][col].legend()\n"
     ]
    },
    {
     "name": "stdout",
     "output_type": "stream",
     "text": [
      "Moviepy - Done !\n",
      "Moviepy - video ready checkpoints/CartPole-v1_quantized_search_41_CartPole-v1/step_8658/videos/CartPole-v1_quantized_search_41_CartPole-v1/8658/CartPole-v1_quantized_search_41_CartPole-v1-episode-129.mp4\n",
      "score:  110.0\n",
      "score:  416.0\n",
      "score:  500.0\n",
      "score:  453.0\n",
      "score:  500.0\n",
      "Moviepy - Building video checkpoints/CartPole-v1_quantized_search_41_CartPole-v1/step_8991/videos/CartPole-v1_quantized_search_41_CartPole-v1/8991/CartPole-v1_quantized_search_41_CartPole-v1-episode-134.mp4.\n",
      "Moviepy - Writing video checkpoints/CartPole-v1_quantized_search_41_CartPole-v1/step_8991/videos/CartPole-v1_quantized_search_41_CartPole-v1/8991/CartPole-v1_quantized_search_41_CartPole-v1-episode-134.mp4\n",
      "\n"
     ]
    },
    {
     "name": "stderr",
     "output_type": "stream",
     "text": [
      "/Users/jonathanlamontange-kratz/Documents/GitHub/rl-stuff/packages/utils/utils/utils.py:257: UserWarning: No artists with labels found to put in legend.  Note that artists whose label start with an underscore are ignored when legend() is called with no argument.\n",
      "  axs[row][col].legend()\n"
     ]
    },
    {
     "name": "stdout",
     "output_type": "stream",
     "text": [
      "Moviepy - Done !\n",
      "Moviepy - video ready checkpoints/CartPole-v1_quantized_search_41_CartPole-v1/step_8991/videos/CartPole-v1_quantized_search_41_CartPole-v1/8991/CartPole-v1_quantized_search_41_CartPole-v1-episode-134.mp4\n",
      "score:  471.0\n",
      "score:  500.0\n",
      "score:  500.0\n",
      "score:  500.0\n",
      "score:  500.0\n",
      "Moviepy - Building video checkpoints/CartPole-v1_quantized_search_41_CartPole-v1/step_9324/videos/CartPole-v1_quantized_search_41_CartPole-v1/9324/CartPole-v1_quantized_search_41_CartPole-v1-episode-139.mp4.\n",
      "Moviepy - Writing video checkpoints/CartPole-v1_quantized_search_41_CartPole-v1/step_9324/videos/CartPole-v1_quantized_search_41_CartPole-v1/9324/CartPole-v1_quantized_search_41_CartPole-v1-episode-139.mp4\n",
      "\n"
     ]
    },
    {
     "name": "stderr",
     "output_type": "stream",
     "text": [
      "/Users/jonathanlamontange-kratz/Documents/GitHub/rl-stuff/packages/utils/utils/utils.py:257: UserWarning: No artists with labels found to put in legend.  Note that artists whose label start with an underscore are ignored when legend() is called with no argument.\n",
      "  axs[row][col].legend()\n"
     ]
    },
    {
     "name": "stdout",
     "output_type": "stream",
     "text": [
      "Moviepy - Done !\n",
      "Moviepy - video ready checkpoints/CartPole-v1_quantized_search_41_CartPole-v1/step_9324/videos/CartPole-v1_quantized_search_41_CartPole-v1/9324/CartPole-v1_quantized_search_41_CartPole-v1-episode-139.mp4\n",
      "score:  500.0\n",
      "score:  500.0\n",
      "score:  500.0\n",
      "score:  500.0\n",
      "score:  500.0\n",
      "Moviepy - Building video checkpoints/CartPole-v1_quantized_search_41_CartPole-v1/step_9657/videos/CartPole-v1_quantized_search_41_CartPole-v1/9657/CartPole-v1_quantized_search_41_CartPole-v1-episode-144.mp4.\n",
      "Moviepy - Writing video checkpoints/CartPole-v1_quantized_search_41_CartPole-v1/step_9657/videos/CartPole-v1_quantized_search_41_CartPole-v1/9657/CartPole-v1_quantized_search_41_CartPole-v1-episode-144.mp4\n",
      "\n"
     ]
    },
    {
     "name": "stderr",
     "output_type": "stream",
     "text": [
      "                                                               \r"
     ]
    },
    {
     "name": "stdout",
     "output_type": "stream",
     "text": [
      "Moviepy - Done !\n",
      "Moviepy - video ready checkpoints/CartPole-v1_quantized_search_41_CartPole-v1/step_9657/videos/CartPole-v1_quantized_search_41_CartPole-v1/9657/CartPole-v1_quantized_search_41_CartPole-v1-episode-144.mp4\n",
      "score:  500.0\n"
     ]
    },
    {
     "name": "stderr",
     "output_type": "stream",
     "text": [
      "/Users/jonathanlamontange-kratz/Documents/GitHub/rl-stuff/packages/utils/utils/utils.py:257: UserWarning: No artists with labels found to put in legend.  Note that artists whose label start with an underscore are ignored when legend() is called with no argument.\n",
      "  axs[row][col].legend()\n"
     ]
    },
    {
     "name": "stdout",
     "output_type": "stream",
     "text": [
      "score:  500.0\n",
      "score:  500.0\n",
      "score:  500.0\n",
      "score:  500.0\n",
      "Moviepy - Building video checkpoints/CartPole-v1_quantized_search_41_CartPole-v1/step_9990/videos/CartPole-v1_quantized_search_41_CartPole-v1/9990/CartPole-v1_quantized_search_41_CartPole-v1-episode-149.mp4.\n",
      "Moviepy - Writing video checkpoints/CartPole-v1_quantized_search_41_CartPole-v1/step_9990/videos/CartPole-v1_quantized_search_41_CartPole-v1/9990/CartPole-v1_quantized_search_41_CartPole-v1-episode-149.mp4\n",
      "\n"
     ]
    },
    {
     "name": "stderr",
     "output_type": "stream",
     "text": [
      "                                                               \r"
     ]
    },
    {
     "name": "stdout",
     "output_type": "stream",
     "text": [
      "Moviepy - Done !\n",
      "Moviepy - video ready checkpoints/CartPole-v1_quantized_search_41_CartPole-v1/step_9990/videos/CartPole-v1_quantized_search_41_CartPole-v1/9990/CartPole-v1_quantized_search_41_CartPole-v1-episode-149.mp4\n",
      "score:  500.0\n"
     ]
    },
    {
     "name": "stderr",
     "output_type": "stream",
     "text": [
      "/Users/jonathanlamontange-kratz/Documents/GitHub/rl-stuff/packages/utils/utils/utils.py:257: UserWarning: No artists with labels found to put in legend.  Note that artists whose label start with an underscore are ignored when legend() is called with no argument.\n",
      "  axs[row][col].legend()\n"
     ]
    },
    {
     "name": "stdout",
     "output_type": "stream",
     "text": [
      "score:  500.0\n",
      "score:  500.0\n",
      "score:  500.0\n",
      "score:  500.0\n",
      "Moviepy - Building video checkpoints/CartPole-v1_quantized_search_41_CartPole-v1/step_9999/videos/CartPole-v1_quantized_search_41_CartPole-v1/9999/CartPole-v1_quantized_search_41_CartPole-v1-episode-154.mp4.\n",
      "Moviepy - Writing video checkpoints/CartPole-v1_quantized_search_41_CartPole-v1/step_9999/videos/CartPole-v1_quantized_search_41_CartPole-v1/9999/CartPole-v1_quantized_search_41_CartPole-v1-episode-154.mp4\n",
      "\n"
     ]
    },
    {
     "name": "stderr",
     "output_type": "stream",
     "text": [
      "/Users/jonathanlamontange-kratz/Documents/GitHub/rl-stuff/packages/utils/utils/utils.py:257: UserWarning: No artists with labels found to put in legend.  Note that artists whose label start with an underscore are ignored when legend() is called with no argument.\n",
      "  axs[row][col].legend()\n"
     ]
    },
    {
     "name": "stdout",
     "output_type": "stream",
     "text": [
      "Moviepy - Done !\n",
      "Moviepy - video ready checkpoints/CartPole-v1_quantized_search_41_CartPole-v1/step_9999/videos/CartPole-v1_quantized_search_41_CartPole-v1/9999/CartPole-v1_quantized_search_41_CartPole-v1-episode-154.mp4\n",
      "score:  500.0\n",
      "Training complete\n",
      "score:  500.0\n",
      "score:  500.0\n",
      "score:  500.0\n",
      "score:  500.0\n",
      "Moviepy - Building video ./checkpoints//videos/CartPole-v1_quantized_search_41_CartPole-v1/5000/CartPole-v1_quantized_search_41_CartPole-v1-episode-159.mp4.\n",
      "Moviepy - Writing video ./checkpoints//videos/CartPole-v1_quantized_search_41_CartPole-v1/5000/CartPole-v1_quantized_search_41_CartPole-v1-episode-159.mp4\n",
      "\n"
     ]
    },
    {
     "name": "stderr",
     "output_type": "stream",
     "text": [
      "                                                               \r"
     ]
    },
    {
     "name": "stdout",
     "output_type": "stream",
     "text": [
      "Moviepy - Done !\n",
      "Moviepy - video ready ./checkpoints//videos/CartPole-v1_quantized_search_41_CartPole-v1/5000/CartPole-v1_quantized_search_41_CartPole-v1-episode-159.mp4\n",
      "score:  500.0\n",
      "score:  500.0\n",
      "score:  500.0\n",
      "score:  500.0\n",
      "score:  500.0\n",
      "score:  500.0\n",
      "parallel programs done\n",
      "Params:  {'adam_epsilon': 0.0003125, 'advantage_hidden_layers_widths': (64, 128, 512, 1024), 'atom_size': 51, 'clipnorm': 0.1, 'conv_layers': (), 'dense_layers_widths': (64, 256, 512, 512), 'discount_factor': 0.969, 'kernel_initializer': 'he_uniform', 'learning_rate': 0.012960000000000001, 'loss_function': <utils.utils.KLDivergence object at 0x288bc7740>, 'min_replay_buffer_size': 2000, 'minibatch_size': 80, 'n_step': 6, 'per_alpha': 0.4, 'per_beta': 0.75, 'per_epsilon': 0.0031300000000000004, 'replay_buffer_size': 2000, 'replay_interval': 3, 'training_steps': 10000, 'transfer_interval': 40, 'value_hidden_layers_widths': (32, 32, 32, 32)}\n",
      "Making environments\n",
      "CartPole-v1_quantized_search\n",
      "exited due to invalid hyperparameter combination: \n",
      "Params:  {'adam_epsilon': 0.0025, 'advantage_hidden_layers_widths': (1024, 1024, 1024, 1024), 'atom_size': 51, 'clipnorm': 0.2, 'conv_layers': (), 'dense_layers_widths': (64, 64, 1024, 1024), 'discount_factor': 0.9580000000000001, 'kernel_initializer': 'he_normal', 'learning_rate': 0.17564000000000002, 'loss_function': <utils.utils.CategoricalCrossentropy object at 0x288bc76e0>, 'min_replay_buffer_size': 1875, 'minibatch_size': 96, 'n_step': 5, 'per_alpha': 0.6000000000000001, 'per_beta': 0.65, 'per_epsilon': 0.01191, 'replay_buffer_size': 3000, 'replay_interval': 6, 'training_steps': 10000, 'transfer_interval': 190, 'value_hidden_layers_widths': (32, 64, 1024, 1024)}\n",
      "Making environments\n",
      "CartPole-v1_quantized_search\n",
      "Using default save_intermediate_weights     : True\n",
      "Using         training_steps                : 10000\n",
      "Using         adam_epsilon                  : 0.0025\n",
      "Using         learning_rate                 : 0.17564000000000002\n",
      "Using         clipnorm                      : 0.2\n",
      "Using default optimizer                     : <class 'torch.optim.adam.Adam'>\n",
      "Using         loss_function                 : <utils.utils.CategoricalCrossentropy object at 0x288bc76e0>\n",
      "Using default activation                    : relu\n",
      "Using         kernel_initializer            : he_normal\n",
      "Using         minibatch_size                : 96\n",
      "Using         replay_buffer_size            : 3000\n",
      "Using         min_replay_buffer_size        : 1875\n",
      "Using default num_minibatches               : 1\n",
      "Using default training_iterations           : 1\n",
      "Using         conv_layers                   : ()\n",
      "Using         dense_layers_widths           : (64, 64, 1024, 1024)\n",
      "Using         value_hidden_layers_widths    : (32, 64, 1024, 1024)\n",
      "Using         advantage_hidden_layers_widths: (1024, 1024, 1024, 1024)\n",
      "Using default noisy_sigma                   : 0.5\n",
      "Using default deuling                       : True\n",
      "Using         discount_factor               : 0.9580000000000001\n",
      "Using default soft_update                   : False\n",
      "Using         transfer_interval             : 190\n",
      "Using default ema_beta                      : 0.99\n",
      "Using         replay_interval               : 6\n",
      "Using         per_alpha                     : 0.6000000000000001\n",
      "Using         per_beta                      : 0.65\n",
      "Using         per_epsilon                   : 0.01191\n",
      "Using         n_step                        : 5\n",
      "Using         atom_size                     : 51\n",
      "observation_dimensions:  (4,)\n",
      "num_actions:  2\n"
     ]
    },
    {
     "name": "stderr",
     "output_type": "stream",
     "text": [
      "/Library/Frameworks/Python.framework/Versions/3.12/lib/python3.12/site-packages/gymnasium/wrappers/record_video.py:94: UserWarning: \u001b[33mWARN: Overwriting existing videos at /Users/jonathanlamontange-kratz/Documents/GitHub/rl-stuff/experiments/rainbow_and_ape-x folder (try specifying a different `video_folder` for the `RecordVideo` wrapper if this is not desired)\u001b[0m\n",
      "  logger.warn(\n"
     ]
    },
    {
     "name": "stdout",
     "output_type": "stream",
     "text": [
      "score:  10.0\n",
      "score:  10.0\n",
      "score:  10.0\n",
      "score:  9.0\n",
      "Moviepy - Building video checkpoints/CartPole-v1_quantized_search_43_CartPole-v1/step_333/videos/CartPole-v1_quantized_search_43_CartPole-v1/333/CartPole-v1_quantized_search_43_CartPole-v1-episode-4.mp4.\n",
      "Moviepy - Writing video checkpoints/CartPole-v1_quantized_search_43_CartPole-v1/step_333/videos/CartPole-v1_quantized_search_43_CartPole-v1/333/CartPole-v1_quantized_search_43_CartPole-v1-episode-4.mp4\n",
      "\n"
     ]
    },
    {
     "name": "stderr",
     "output_type": "stream",
     "text": [
      "/Users/jonathanlamontange-kratz/Documents/GitHub/rl-stuff/packages/utils/utils/utils.py:257: UserWarning: No artists with labels found to put in legend.  Note that artists whose label start with an underscore are ignored when legend() is called with no argument.\n",
      "  axs[row][col].legend()\n",
      "/Users/jonathanlamontange-kratz/Documents/GitHub/rl-stuff/packages/utils/utils/utils.py:187: UserWarning: Attempting to set identical low and high xlims makes transformation singular; automatically expanding.\n",
      "  axs[row][col].set_xlim(1, len(values))\n"
     ]
    },
    {
     "name": "stdout",
     "output_type": "stream",
     "text": [
      "Moviepy - Done !\n",
      "Moviepy - video ready checkpoints/CartPole-v1_quantized_search_43_CartPole-v1/step_333/videos/CartPole-v1_quantized_search_43_CartPole-v1/333/CartPole-v1_quantized_search_43_CartPole-v1-episode-4.mp4\n",
      "score:  9.0\n",
      "score:  10.0\n",
      "score:  10.0\n",
      "score:  10.0\n",
      "score:  10.0\n",
      "Moviepy - Building video checkpoints/CartPole-v1_quantized_search_43_CartPole-v1/step_666/videos/CartPole-v1_quantized_search_43_CartPole-v1/666/CartPole-v1_quantized_search_43_CartPole-v1-episode-9.mp4.\n",
      "Moviepy - Writing video checkpoints/CartPole-v1_quantized_search_43_CartPole-v1/step_666/videos/CartPole-v1_quantized_search_43_CartPole-v1/666/CartPole-v1_quantized_search_43_CartPole-v1-episode-9.mp4\n",
      "\n"
     ]
    },
    {
     "name": "stderr",
     "output_type": "stream",
     "text": [
      "/Users/jonathanlamontange-kratz/Documents/GitHub/rl-stuff/packages/utils/utils/utils.py:257: UserWarning: No artists with labels found to put in legend.  Note that artists whose label start with an underscore are ignored when legend() is called with no argument.\n",
      "  axs[row][col].legend()\n"
     ]
    },
    {
     "name": "stdout",
     "output_type": "stream",
     "text": [
      "Moviepy - Done !\n",
      "Moviepy - video ready checkpoints/CartPole-v1_quantized_search_43_CartPole-v1/step_666/videos/CartPole-v1_quantized_search_43_CartPole-v1/666/CartPole-v1_quantized_search_43_CartPole-v1-episode-9.mp4\n",
      "score:  9.0\n",
      "score:  10.0\n",
      "score:  10.0\n",
      "score:  10.0\n",
      "score:  9.0\n",
      "Moviepy - Building video checkpoints/CartPole-v1_quantized_search_43_CartPole-v1/step_999/videos/CartPole-v1_quantized_search_43_CartPole-v1/999/CartPole-v1_quantized_search_43_CartPole-v1-episode-14.mp4.\n",
      "Moviepy - Writing video checkpoints/CartPole-v1_quantized_search_43_CartPole-v1/step_999/videos/CartPole-v1_quantized_search_43_CartPole-v1/999/CartPole-v1_quantized_search_43_CartPole-v1-episode-14.mp4\n",
      "\n"
     ]
    },
    {
     "name": "stderr",
     "output_type": "stream",
     "text": [
      "/Users/jonathanlamontange-kratz/Documents/GitHub/rl-stuff/packages/utils/utils/utils.py:257: UserWarning: No artists with labels found to put in legend.  Note that artists whose label start with an underscore are ignored when legend() is called with no argument.\n",
      "  axs[row][col].legend()\n"
     ]
    },
    {
     "name": "stdout",
     "output_type": "stream",
     "text": [
      "Moviepy - Done !\n",
      "Moviepy - video ready checkpoints/CartPole-v1_quantized_search_43_CartPole-v1/step_999/videos/CartPole-v1_quantized_search_43_CartPole-v1/999/CartPole-v1_quantized_search_43_CartPole-v1-episode-14.mp4\n",
      "score:  10.0\n",
      "score:  10.0\n",
      "score:  9.0\n",
      "score:  10.0\n",
      "score:  9.0\n",
      "Moviepy - Building video checkpoints/CartPole-v1_quantized_search_43_CartPole-v1/step_1332/videos/CartPole-v1_quantized_search_43_CartPole-v1/1332/CartPole-v1_quantized_search_43_CartPole-v1-episode-19.mp4.\n",
      "Moviepy - Writing video checkpoints/CartPole-v1_quantized_search_43_CartPole-v1/step_1332/videos/CartPole-v1_quantized_search_43_CartPole-v1/1332/CartPole-v1_quantized_search_43_CartPole-v1-episode-19.mp4\n",
      "\n"
     ]
    },
    {
     "name": "stderr",
     "output_type": "stream",
     "text": [
      "/Users/jonathanlamontange-kratz/Documents/GitHub/rl-stuff/packages/utils/utils/utils.py:257: UserWarning: No artists with labels found to put in legend.  Note that artists whose label start with an underscore are ignored when legend() is called with no argument.\n",
      "  axs[row][col].legend()\n"
     ]
    },
    {
     "name": "stdout",
     "output_type": "stream",
     "text": [
      "Moviepy - Done !\n",
      "Moviepy - video ready checkpoints/CartPole-v1_quantized_search_43_CartPole-v1/step_1332/videos/CartPole-v1_quantized_search_43_CartPole-v1/1332/CartPole-v1_quantized_search_43_CartPole-v1-episode-19.mp4\n",
      "score:  10.0\n",
      "score:  10.0\n",
      "score:  9.0\n",
      "score:  10.0\n",
      "score:  9.0\n",
      "Moviepy - Building video checkpoints/CartPole-v1_quantized_search_43_CartPole-v1/step_1665/videos/CartPole-v1_quantized_search_43_CartPole-v1/1665/CartPole-v1_quantized_search_43_CartPole-v1-episode-24.mp4.\n",
      "Moviepy - Writing video checkpoints/CartPole-v1_quantized_search_43_CartPole-v1/step_1665/videos/CartPole-v1_quantized_search_43_CartPole-v1/1665/CartPole-v1_quantized_search_43_CartPole-v1-episode-24.mp4\n",
      "\n"
     ]
    },
    {
     "name": "stderr",
     "output_type": "stream",
     "text": [
      "/Users/jonathanlamontange-kratz/Documents/GitHub/rl-stuff/packages/utils/utils/utils.py:257: UserWarning: No artists with labels found to put in legend.  Note that artists whose label start with an underscore are ignored when legend() is called with no argument.\n",
      "  axs[row][col].legend()\n"
     ]
    },
    {
     "name": "stdout",
     "output_type": "stream",
     "text": [
      "Moviepy - Done !\n",
      "Moviepy - video ready checkpoints/CartPole-v1_quantized_search_43_CartPole-v1/step_1665/videos/CartPole-v1_quantized_search_43_CartPole-v1/1665/CartPole-v1_quantized_search_43_CartPole-v1-episode-24.mp4\n",
      "score:  11.0\n",
      "score:  10.0\n",
      "score:  10.0\n",
      "score:  10.0\n",
      "score:  9.0\n",
      "Moviepy - Building video checkpoints/CartPole-v1_quantized_search_43_CartPole-v1/step_1998/videos/CartPole-v1_quantized_search_43_CartPole-v1/1998/CartPole-v1_quantized_search_43_CartPole-v1-episode-29.mp4.\n",
      "Moviepy - Writing video checkpoints/CartPole-v1_quantized_search_43_CartPole-v1/step_1998/videos/CartPole-v1_quantized_search_43_CartPole-v1/1998/CartPole-v1_quantized_search_43_CartPole-v1-episode-29.mp4\n",
      "\n"
     ]
    },
    {
     "name": "stderr",
     "output_type": "stream",
     "text": [
      "/Users/jonathanlamontange-kratz/Documents/GitHub/rl-stuff/packages/utils/utils/utils.py:257: UserWarning: No artists with labels found to put in legend.  Note that artists whose label start with an underscore are ignored when legend() is called with no argument.\n",
      "  axs[row][col].legend()\n"
     ]
    },
    {
     "name": "stdout",
     "output_type": "stream",
     "text": [
      "Moviepy - Done !\n",
      "Moviepy - video ready checkpoints/CartPole-v1_quantized_search_43_CartPole-v1/step_1998/videos/CartPole-v1_quantized_search_43_CartPole-v1/1998/CartPole-v1_quantized_search_43_CartPole-v1-episode-29.mp4\n",
      "score:  10.0\n",
      "score:  8.0\n",
      "score:  10.0\n",
      "score:  10.0\n",
      "score:  9.0\n",
      "Moviepy - Building video checkpoints/CartPole-v1_quantized_search_43_CartPole-v1/step_2331/videos/CartPole-v1_quantized_search_43_CartPole-v1/2331/CartPole-v1_quantized_search_43_CartPole-v1-episode-34.mp4.\n",
      "Moviepy - Writing video checkpoints/CartPole-v1_quantized_search_43_CartPole-v1/step_2331/videos/CartPole-v1_quantized_search_43_CartPole-v1/2331/CartPole-v1_quantized_search_43_CartPole-v1-episode-34.mp4\n",
      "\n"
     ]
    },
    {
     "name": "stderr",
     "output_type": "stream",
     "text": [
      "/Users/jonathanlamontange-kratz/Documents/GitHub/rl-stuff/packages/utils/utils/utils.py:257: UserWarning: No artists with labels found to put in legend.  Note that artists whose label start with an underscore are ignored when legend() is called with no argument.\n",
      "  axs[row][col].legend()\n"
     ]
    },
    {
     "name": "stdout",
     "output_type": "stream",
     "text": [
      "Moviepy - Done !\n",
      "Moviepy - video ready checkpoints/CartPole-v1_quantized_search_43_CartPole-v1/step_2331/videos/CartPole-v1_quantized_search_43_CartPole-v1/2331/CartPole-v1_quantized_search_43_CartPole-v1-episode-34.mp4\n",
      "score:  10.0\n",
      "score:  9.0\n",
      "score:  10.0\n",
      "score:  10.0\n",
      "score:  9.0\n",
      "Moviepy - Building video checkpoints/CartPole-v1_quantized_search_43_CartPole-v1/step_2664/videos/CartPole-v1_quantized_search_43_CartPole-v1/2664/CartPole-v1_quantized_search_43_CartPole-v1-episode-39.mp4.\n",
      "Moviepy - Writing video checkpoints/CartPole-v1_quantized_search_43_CartPole-v1/step_2664/videos/CartPole-v1_quantized_search_43_CartPole-v1/2664/CartPole-v1_quantized_search_43_CartPole-v1-episode-39.mp4\n",
      "\n"
     ]
    },
    {
     "name": "stderr",
     "output_type": "stream",
     "text": [
      "/Users/jonathanlamontange-kratz/Documents/GitHub/rl-stuff/packages/utils/utils/utils.py:257: UserWarning: No artists with labels found to put in legend.  Note that artists whose label start with an underscore are ignored when legend() is called with no argument.\n",
      "  axs[row][col].legend()\n"
     ]
    },
    {
     "name": "stdout",
     "output_type": "stream",
     "text": [
      "Moviepy - Done !\n",
      "Moviepy - video ready checkpoints/CartPole-v1_quantized_search_43_CartPole-v1/step_2664/videos/CartPole-v1_quantized_search_43_CartPole-v1/2664/CartPole-v1_quantized_search_43_CartPole-v1-episode-39.mp4\n",
      "score:  8.0\n",
      "score:  9.0\n",
      "score:  9.0\n",
      "score:  8.0\n",
      "score:  10.0\n",
      "Moviepy - Building video checkpoints/CartPole-v1_quantized_search_43_CartPole-v1/step_2997/videos/CartPole-v1_quantized_search_43_CartPole-v1/2997/CartPole-v1_quantized_search_43_CartPole-v1-episode-44.mp4.\n",
      "Moviepy - Writing video checkpoints/CartPole-v1_quantized_search_43_CartPole-v1/step_2997/videos/CartPole-v1_quantized_search_43_CartPole-v1/2997/CartPole-v1_quantized_search_43_CartPole-v1-episode-44.mp4\n",
      "\n"
     ]
    },
    {
     "name": "stderr",
     "output_type": "stream",
     "text": [
      "                                                           \r"
     ]
    },
    {
     "name": "stdout",
     "output_type": "stream",
     "text": [
      "Moviepy - Done !\n",
      "Moviepy - video ready checkpoints/CartPole-v1_quantized_search_43_CartPole-v1/step_2997/videos/CartPole-v1_quantized_search_43_CartPole-v1/2997/CartPole-v1_quantized_search_43_CartPole-v1-episode-44.mp4\n",
      "score:  9.0\n"
     ]
    },
    {
     "name": "stderr",
     "output_type": "stream",
     "text": [
      "/Users/jonathanlamontange-kratz/Documents/GitHub/rl-stuff/packages/utils/utils/utils.py:257: UserWarning: No artists with labels found to put in legend.  Note that artists whose label start with an underscore are ignored when legend() is called with no argument.\n",
      "  axs[row][col].legend()\n"
     ]
    },
    {
     "name": "stdout",
     "output_type": "stream",
     "text": [
      "score:  10.0\n",
      "score:  8.0\n",
      "score:  9.0\n",
      "score:  10.0\n",
      "Moviepy - Building video checkpoints/CartPole-v1_quantized_search_43_CartPole-v1/step_3330/videos/CartPole-v1_quantized_search_43_CartPole-v1/3330/CartPole-v1_quantized_search_43_CartPole-v1-episode-49.mp4.\n",
      "Moviepy - Writing video checkpoints/CartPole-v1_quantized_search_43_CartPole-v1/step_3330/videos/CartPole-v1_quantized_search_43_CartPole-v1/3330/CartPole-v1_quantized_search_43_CartPole-v1-episode-49.mp4\n",
      "\n"
     ]
    },
    {
     "name": "stderr",
     "output_type": "stream",
     "text": [
      "/Users/jonathanlamontange-kratz/Documents/GitHub/rl-stuff/packages/utils/utils/utils.py:257: UserWarning: No artists with labels found to put in legend.  Note that artists whose label start with an underscore are ignored when legend() is called with no argument.\n",
      "  axs[row][col].legend()\n"
     ]
    },
    {
     "name": "stdout",
     "output_type": "stream",
     "text": [
      "Moviepy - Done !\n",
      "Moviepy - video ready checkpoints/CartPole-v1_quantized_search_43_CartPole-v1/step_3330/videos/CartPole-v1_quantized_search_43_CartPole-v1/3330/CartPole-v1_quantized_search_43_CartPole-v1-episode-49.mp4\n",
      "score:  10.0\n",
      "score:  10.0\n",
      "score:  10.0\n",
      "score:  10.0\n",
      "score:  9.0\n",
      "Moviepy - Building video checkpoints/CartPole-v1_quantized_search_43_CartPole-v1/step_3663/videos/CartPole-v1_quantized_search_43_CartPole-v1/3663/CartPole-v1_quantized_search_43_CartPole-v1-episode-54.mp4.\n",
      "Moviepy - Writing video checkpoints/CartPole-v1_quantized_search_43_CartPole-v1/step_3663/videos/CartPole-v1_quantized_search_43_CartPole-v1/3663/CartPole-v1_quantized_search_43_CartPole-v1-episode-54.mp4\n",
      "\n"
     ]
    },
    {
     "name": "stderr",
     "output_type": "stream",
     "text": [
      "/Users/jonathanlamontange-kratz/Documents/GitHub/rl-stuff/packages/utils/utils/utils.py:257: UserWarning: No artists with labels found to put in legend.  Note that artists whose label start with an underscore are ignored when legend() is called with no argument.\n",
      "  axs[row][col].legend()\n"
     ]
    },
    {
     "name": "stdout",
     "output_type": "stream",
     "text": [
      "Moviepy - Done !\n",
      "Moviepy - video ready checkpoints/CartPole-v1_quantized_search_43_CartPole-v1/step_3663/videos/CartPole-v1_quantized_search_43_CartPole-v1/3663/CartPole-v1_quantized_search_43_CartPole-v1-episode-54.mp4\n",
      "score:  10.0\n",
      "score:  10.0\n",
      "score:  10.0\n",
      "score:  9.0\n",
      "score:  10.0\n",
      "Moviepy - Building video checkpoints/CartPole-v1_quantized_search_43_CartPole-v1/step_3996/videos/CartPole-v1_quantized_search_43_CartPole-v1/3996/CartPole-v1_quantized_search_43_CartPole-v1-episode-59.mp4.\n",
      "Moviepy - Writing video checkpoints/CartPole-v1_quantized_search_43_CartPole-v1/step_3996/videos/CartPole-v1_quantized_search_43_CartPole-v1/3996/CartPole-v1_quantized_search_43_CartPole-v1-episode-59.mp4\n",
      "\n"
     ]
    },
    {
     "name": "stderr",
     "output_type": "stream",
     "text": [
      "/Users/jonathanlamontange-kratz/Documents/GitHub/rl-stuff/packages/utils/utils/utils.py:257: UserWarning: No artists with labels found to put in legend.  Note that artists whose label start with an underscore are ignored when legend() is called with no argument.\n",
      "  axs[row][col].legend()\n"
     ]
    },
    {
     "name": "stdout",
     "output_type": "stream",
     "text": [
      "Moviepy - Done !\n",
      "Moviepy - video ready checkpoints/CartPole-v1_quantized_search_43_CartPole-v1/step_3996/videos/CartPole-v1_quantized_search_43_CartPole-v1/3996/CartPole-v1_quantized_search_43_CartPole-v1-episode-59.mp4\n",
      "score:  10.0\n",
      "score:  9.0\n",
      "score:  9.0\n",
      "score:  8.0\n",
      "score:  10.0\n",
      "Moviepy - Building video checkpoints/CartPole-v1_quantized_search_43_CartPole-v1/step_4329/videos/CartPole-v1_quantized_search_43_CartPole-v1/4329/CartPole-v1_quantized_search_43_CartPole-v1-episode-64.mp4.\n",
      "Moviepy - Writing video checkpoints/CartPole-v1_quantized_search_43_CartPole-v1/step_4329/videos/CartPole-v1_quantized_search_43_CartPole-v1/4329/CartPole-v1_quantized_search_43_CartPole-v1-episode-64.mp4\n",
      "\n"
     ]
    },
    {
     "name": "stderr",
     "output_type": "stream",
     "text": [
      "                                                           "
     ]
    },
    {
     "name": "stdout",
     "output_type": "stream",
     "text": [
      "Moviepy - Done !\n",
      "Moviepy - video ready checkpoints/CartPole-v1_quantized_search_43_CartPole-v1/step_4329/videos/CartPole-v1_quantized_search_43_CartPole-v1/4329/CartPole-v1_quantized_search_43_CartPole-v1-episode-64.mp4\n",
      "score:  10.0\n"
     ]
    },
    {
     "name": "stderr",
     "output_type": "stream",
     "text": [
      "/Users/jonathanlamontange-kratz/Documents/GitHub/rl-stuff/packages/utils/utils/utils.py:257: UserWarning: No artists with labels found to put in legend.  Note that artists whose label start with an underscore are ignored when legend() is called with no argument.\n",
      "  axs[row][col].legend()\n"
     ]
    },
    {
     "name": "stdout",
     "output_type": "stream",
     "text": [
      "score:  10.0\n",
      "score:  9.0\n",
      "score:  10.0\n",
      "score:  10.0\n",
      "Moviepy - Building video checkpoints/CartPole-v1_quantized_search_43_CartPole-v1/step_4662/videos/CartPole-v1_quantized_search_43_CartPole-v1/4662/CartPole-v1_quantized_search_43_CartPole-v1-episode-69.mp4.\n",
      "Moviepy - Writing video checkpoints/CartPole-v1_quantized_search_43_CartPole-v1/step_4662/videos/CartPole-v1_quantized_search_43_CartPole-v1/4662/CartPole-v1_quantized_search_43_CartPole-v1-episode-69.mp4\n",
      "\n"
     ]
    },
    {
     "name": "stderr",
     "output_type": "stream",
     "text": [
      "                                                           "
     ]
    },
    {
     "name": "stdout",
     "output_type": "stream",
     "text": [
      "Moviepy - Done !\n",
      "Moviepy - video ready checkpoints/CartPole-v1_quantized_search_43_CartPole-v1/step_4662/videos/CartPole-v1_quantized_search_43_CartPole-v1/4662/CartPole-v1_quantized_search_43_CartPole-v1-episode-69.mp4\n",
      "score:  9.0\n"
     ]
    },
    {
     "name": "stderr",
     "output_type": "stream",
     "text": [
      "/Users/jonathanlamontange-kratz/Documents/GitHub/rl-stuff/packages/utils/utils/utils.py:257: UserWarning: No artists with labels found to put in legend.  Note that artists whose label start with an underscore are ignored when legend() is called with no argument.\n",
      "  axs[row][col].legend()\n"
     ]
    },
    {
     "name": "stdout",
     "output_type": "stream",
     "text": [
      "score:  9.0\n",
      "score:  10.0\n",
      "score:  9.0\n",
      "score:  9.0\n",
      "Moviepy - Building video checkpoints/CartPole-v1_quantized_search_43_CartPole-v1/step_4995/videos/CartPole-v1_quantized_search_43_CartPole-v1/4995/CartPole-v1_quantized_search_43_CartPole-v1-episode-74.mp4.\n",
      "Moviepy - Writing video checkpoints/CartPole-v1_quantized_search_43_CartPole-v1/step_4995/videos/CartPole-v1_quantized_search_43_CartPole-v1/4995/CartPole-v1_quantized_search_43_CartPole-v1-episode-74.mp4\n",
      "\n"
     ]
    },
    {
     "name": "stderr",
     "output_type": "stream",
     "text": [
      "/Users/jonathanlamontange-kratz/Documents/GitHub/rl-stuff/packages/utils/utils/utils.py:257: UserWarning: No artists with labels found to put in legend.  Note that artists whose label start with an underscore are ignored when legend() is called with no argument.\n",
      "  axs[row][col].legend()\n"
     ]
    },
    {
     "name": "stdout",
     "output_type": "stream",
     "text": [
      "Moviepy - Done !\n",
      "Moviepy - video ready checkpoints/CartPole-v1_quantized_search_43_CartPole-v1/step_4995/videos/CartPole-v1_quantized_search_43_CartPole-v1/4995/CartPole-v1_quantized_search_43_CartPole-v1-episode-74.mp4\n",
      "score:  10.0\n",
      "score:  10.0\n",
      "score:  10.0\n",
      "score:  9.0\n",
      "score:  10.0\n",
      "Moviepy - Building video checkpoints/CartPole-v1_quantized_search_43_CartPole-v1/step_5328/videos/CartPole-v1_quantized_search_43_CartPole-v1/5328/CartPole-v1_quantized_search_43_CartPole-v1-episode-79.mp4.\n",
      "Moviepy - Writing video checkpoints/CartPole-v1_quantized_search_43_CartPole-v1/step_5328/videos/CartPole-v1_quantized_search_43_CartPole-v1/5328/CartPole-v1_quantized_search_43_CartPole-v1-episode-79.mp4\n",
      "\n"
     ]
    },
    {
     "name": "stderr",
     "output_type": "stream",
     "text": [
      "/Users/jonathanlamontange-kratz/Documents/GitHub/rl-stuff/packages/utils/utils/utils.py:257: UserWarning: No artists with labels found to put in legend.  Note that artists whose label start with an underscore are ignored when legend() is called with no argument.\n",
      "  axs[row][col].legend()\n"
     ]
    },
    {
     "name": "stdout",
     "output_type": "stream",
     "text": [
      "Moviepy - Done !\n",
      "Moviepy - video ready checkpoints/CartPole-v1_quantized_search_43_CartPole-v1/step_5328/videos/CartPole-v1_quantized_search_43_CartPole-v1/5328/CartPole-v1_quantized_search_43_CartPole-v1-episode-79.mp4\n",
      "score:  9.0\n",
      "score:  9.0\n",
      "score:  10.0\n",
      "score:  9.0\n",
      "score:  10.0\n",
      "Moviepy - Building video checkpoints/CartPole-v1_quantized_search_43_CartPole-v1/step_5661/videos/CartPole-v1_quantized_search_43_CartPole-v1/5661/CartPole-v1_quantized_search_43_CartPole-v1-episode-84.mp4.\n",
      "Moviepy - Writing video checkpoints/CartPole-v1_quantized_search_43_CartPole-v1/step_5661/videos/CartPole-v1_quantized_search_43_CartPole-v1/5661/CartPole-v1_quantized_search_43_CartPole-v1-episode-84.mp4\n",
      "\n"
     ]
    },
    {
     "name": "stderr",
     "output_type": "stream",
     "text": [
      "                                                           \r"
     ]
    },
    {
     "name": "stdout",
     "output_type": "stream",
     "text": [
      "Moviepy - Done !\n",
      "Moviepy - video ready checkpoints/CartPole-v1_quantized_search_43_CartPole-v1/step_5661/videos/CartPole-v1_quantized_search_43_CartPole-v1/5661/CartPole-v1_quantized_search_43_CartPole-v1-episode-84.mp4\n",
      "score:  10.0\n"
     ]
    },
    {
     "name": "stderr",
     "output_type": "stream",
     "text": [
      "/Users/jonathanlamontange-kratz/Documents/GitHub/rl-stuff/packages/utils/utils/utils.py:257: UserWarning: No artists with labels found to put in legend.  Note that artists whose label start with an underscore are ignored when legend() is called with no argument.\n",
      "  axs[row][col].legend()\n"
     ]
    },
    {
     "name": "stdout",
     "output_type": "stream",
     "text": [
      "score:  9.0\n",
      "score:  10.0\n",
      "score:  10.0\n",
      "score:  10.0\n",
      "Moviepy - Building video checkpoints/CartPole-v1_quantized_search_43_CartPole-v1/step_5994/videos/CartPole-v1_quantized_search_43_CartPole-v1/5994/CartPole-v1_quantized_search_43_CartPole-v1-episode-89.mp4.\n",
      "Moviepy - Writing video checkpoints/CartPole-v1_quantized_search_43_CartPole-v1/step_5994/videos/CartPole-v1_quantized_search_43_CartPole-v1/5994/CartPole-v1_quantized_search_43_CartPole-v1-episode-89.mp4\n",
      "\n"
     ]
    },
    {
     "name": "stderr",
     "output_type": "stream",
     "text": [
      "/Users/jonathanlamontange-kratz/Documents/GitHub/rl-stuff/packages/utils/utils/utils.py:257: UserWarning: No artists with labels found to put in legend.  Note that artists whose label start with an underscore are ignored when legend() is called with no argument.\n",
      "  axs[row][col].legend()\n"
     ]
    },
    {
     "name": "stdout",
     "output_type": "stream",
     "text": [
      "Moviepy - Done !\n",
      "Moviepy - video ready checkpoints/CartPole-v1_quantized_search_43_CartPole-v1/step_5994/videos/CartPole-v1_quantized_search_43_CartPole-v1/5994/CartPole-v1_quantized_search_43_CartPole-v1-episode-89.mp4\n",
      "score:  9.0\n",
      "score:  10.0\n",
      "score:  9.0\n",
      "score:  10.0\n",
      "score:  11.0\n",
      "Moviepy - Building video checkpoints/CartPole-v1_quantized_search_43_CartPole-v1/step_6327/videos/CartPole-v1_quantized_search_43_CartPole-v1/6327/CartPole-v1_quantized_search_43_CartPole-v1-episode-94.mp4.\n",
      "Moviepy - Writing video checkpoints/CartPole-v1_quantized_search_43_CartPole-v1/step_6327/videos/CartPole-v1_quantized_search_43_CartPole-v1/6327/CartPole-v1_quantized_search_43_CartPole-v1-episode-94.mp4\n",
      "\n"
     ]
    },
    {
     "name": "stderr",
     "output_type": "stream",
     "text": [
      "                                                           \r"
     ]
    },
    {
     "name": "stdout",
     "output_type": "stream",
     "text": [
      "Moviepy - Done !\n",
      "Moviepy - video ready checkpoints/CartPole-v1_quantized_search_43_CartPole-v1/step_6327/videos/CartPole-v1_quantized_search_43_CartPole-v1/6327/CartPole-v1_quantized_search_43_CartPole-v1-episode-94.mp4\n",
      "score:  9.0\n"
     ]
    },
    {
     "name": "stderr",
     "output_type": "stream",
     "text": [
      "/Users/jonathanlamontange-kratz/Documents/GitHub/rl-stuff/packages/utils/utils/utils.py:257: UserWarning: No artists with labels found to put in legend.  Note that artists whose label start with an underscore are ignored when legend() is called with no argument.\n",
      "  axs[row][col].legend()\n"
     ]
    },
    {
     "name": "stdout",
     "output_type": "stream",
     "text": [
      "score:  8.0\n",
      "score:  10.0\n",
      "score:  9.0\n",
      "score:  9.0\n",
      "Moviepy - Building video checkpoints/CartPole-v1_quantized_search_43_CartPole-v1/step_6660/videos/CartPole-v1_quantized_search_43_CartPole-v1/6660/CartPole-v1_quantized_search_43_CartPole-v1-episode-99.mp4.\n",
      "Moviepy - Writing video checkpoints/CartPole-v1_quantized_search_43_CartPole-v1/step_6660/videos/CartPole-v1_quantized_search_43_CartPole-v1/6660/CartPole-v1_quantized_search_43_CartPole-v1-episode-99.mp4\n",
      "\n"
     ]
    },
    {
     "name": "stderr",
     "output_type": "stream",
     "text": [
      "/Users/jonathanlamontange-kratz/Documents/GitHub/rl-stuff/packages/utils/utils/utils.py:257: UserWarning: No artists with labels found to put in legend.  Note that artists whose label start with an underscore are ignored when legend() is called with no argument.\n",
      "  axs[row][col].legend()\n"
     ]
    },
    {
     "name": "stdout",
     "output_type": "stream",
     "text": [
      "Moviepy - Done !\n",
      "Moviepy - video ready checkpoints/CartPole-v1_quantized_search_43_CartPole-v1/step_6660/videos/CartPole-v1_quantized_search_43_CartPole-v1/6660/CartPole-v1_quantized_search_43_CartPole-v1-episode-99.mp4\n",
      "score:  9.0\n",
      "score:  10.0\n",
      "score:  10.0\n",
      "score:  8.0\n",
      "score:  9.0\n",
      "Moviepy - Building video checkpoints/CartPole-v1_quantized_search_43_CartPole-v1/step_6993/videos/CartPole-v1_quantized_search_43_CartPole-v1/6993/CartPole-v1_quantized_search_43_CartPole-v1-episode-104.mp4.\n",
      "Moviepy - Writing video checkpoints/CartPole-v1_quantized_search_43_CartPole-v1/step_6993/videos/CartPole-v1_quantized_search_43_CartPole-v1/6993/CartPole-v1_quantized_search_43_CartPole-v1-episode-104.mp4\n",
      "\n"
     ]
    },
    {
     "name": "stderr",
     "output_type": "stream",
     "text": [
      "/Users/jonathanlamontange-kratz/Documents/GitHub/rl-stuff/packages/utils/utils/utils.py:257: UserWarning: No artists with labels found to put in legend.  Note that artists whose label start with an underscore are ignored when legend() is called with no argument.\n",
      "  axs[row][col].legend()\n"
     ]
    },
    {
     "name": "stdout",
     "output_type": "stream",
     "text": [
      "Moviepy - Done !\n",
      "Moviepy - video ready checkpoints/CartPole-v1_quantized_search_43_CartPole-v1/step_6993/videos/CartPole-v1_quantized_search_43_CartPole-v1/6993/CartPole-v1_quantized_search_43_CartPole-v1-episode-104.mp4\n",
      "score:  8.0\n",
      "score:  10.0\n",
      "score:  10.0\n",
      "score:  10.0\n",
      "score:  9.0\n",
      "Moviepy - Building video checkpoints/CartPole-v1_quantized_search_43_CartPole-v1/step_7326/videos/CartPole-v1_quantized_search_43_CartPole-v1/7326/CartPole-v1_quantized_search_43_CartPole-v1-episode-109.mp4.\n",
      "Moviepy - Writing video checkpoints/CartPole-v1_quantized_search_43_CartPole-v1/step_7326/videos/CartPole-v1_quantized_search_43_CartPole-v1/7326/CartPole-v1_quantized_search_43_CartPole-v1-episode-109.mp4\n",
      "\n"
     ]
    },
    {
     "name": "stderr",
     "output_type": "stream",
     "text": [
      "/Users/jonathanlamontange-kratz/Documents/GitHub/rl-stuff/packages/utils/utils/utils.py:257: UserWarning: No artists with labels found to put in legend.  Note that artists whose label start with an underscore are ignored when legend() is called with no argument.\n",
      "  axs[row][col].legend()\n"
     ]
    },
    {
     "name": "stdout",
     "output_type": "stream",
     "text": [
      "Moviepy - Done !\n",
      "Moviepy - video ready checkpoints/CartPole-v1_quantized_search_43_CartPole-v1/step_7326/videos/CartPole-v1_quantized_search_43_CartPole-v1/7326/CartPole-v1_quantized_search_43_CartPole-v1-episode-109.mp4\n",
      "score:  10.0\n",
      "score:  9.0\n",
      "score:  9.0\n",
      "score:  10.0\n",
      "score:  10.0\n",
      "Moviepy - Building video checkpoints/CartPole-v1_quantized_search_43_CartPole-v1/step_7659/videos/CartPole-v1_quantized_search_43_CartPole-v1/7659/CartPole-v1_quantized_search_43_CartPole-v1-episode-114.mp4.\n",
      "Moviepy - Writing video checkpoints/CartPole-v1_quantized_search_43_CartPole-v1/step_7659/videos/CartPole-v1_quantized_search_43_CartPole-v1/7659/CartPole-v1_quantized_search_43_CartPole-v1-episode-114.mp4\n",
      "\n"
     ]
    },
    {
     "name": "stderr",
     "output_type": "stream",
     "text": [
      "/Users/jonathanlamontange-kratz/Documents/GitHub/rl-stuff/packages/utils/utils/utils.py:257: UserWarning: No artists with labels found to put in legend.  Note that artists whose label start with an underscore are ignored when legend() is called with no argument.\n",
      "  axs[row][col].legend()\n"
     ]
    },
    {
     "name": "stdout",
     "output_type": "stream",
     "text": [
      "Moviepy - Done !\n",
      "Moviepy - video ready checkpoints/CartPole-v1_quantized_search_43_CartPole-v1/step_7659/videos/CartPole-v1_quantized_search_43_CartPole-v1/7659/CartPole-v1_quantized_search_43_CartPole-v1-episode-114.mp4\n",
      "score:  8.0\n",
      "score:  10.0\n",
      "score:  10.0\n",
      "score:  10.0\n",
      "score:  10.0\n",
      "Moviepy - Building video checkpoints/CartPole-v1_quantized_search_43_CartPole-v1/step_7992/videos/CartPole-v1_quantized_search_43_CartPole-v1/7992/CartPole-v1_quantized_search_43_CartPole-v1-episode-119.mp4.\n",
      "Moviepy - Writing video checkpoints/CartPole-v1_quantized_search_43_CartPole-v1/step_7992/videos/CartPole-v1_quantized_search_43_CartPole-v1/7992/CartPole-v1_quantized_search_43_CartPole-v1-episode-119.mp4\n",
      "\n"
     ]
    },
    {
     "name": "stderr",
     "output_type": "stream",
     "text": [
      "                                                          \r"
     ]
    },
    {
     "name": "stdout",
     "output_type": "stream",
     "text": [
      "Moviepy - Done !\n",
      "Moviepy - video ready checkpoints/CartPole-v1_quantized_search_43_CartPole-v1/step_7992/videos/CartPole-v1_quantized_search_43_CartPole-v1/7992/CartPole-v1_quantized_search_43_CartPole-v1-episode-119.mp4\n",
      "score:  8.0\n"
     ]
    },
    {
     "name": "stderr",
     "output_type": "stream",
     "text": [
      "/Users/jonathanlamontange-kratz/Documents/GitHub/rl-stuff/packages/utils/utils/utils.py:257: UserWarning: No artists with labels found to put in legend.  Note that artists whose label start with an underscore are ignored when legend() is called with no argument.\n",
      "  axs[row][col].legend()\n"
     ]
    },
    {
     "name": "stdout",
     "output_type": "stream",
     "text": [
      "score:  8.0\n",
      "score:  10.0\n",
      "score:  10.0\n",
      "score:  10.0\n",
      "Moviepy - Building video checkpoints/CartPole-v1_quantized_search_43_CartPole-v1/step_8325/videos/CartPole-v1_quantized_search_43_CartPole-v1/8325/CartPole-v1_quantized_search_43_CartPole-v1-episode-124.mp4.\n",
      "Moviepy - Writing video checkpoints/CartPole-v1_quantized_search_43_CartPole-v1/step_8325/videos/CartPole-v1_quantized_search_43_CartPole-v1/8325/CartPole-v1_quantized_search_43_CartPole-v1-episode-124.mp4\n",
      "\n"
     ]
    },
    {
     "name": "stderr",
     "output_type": "stream",
     "text": [
      "/Users/jonathanlamontange-kratz/Documents/GitHub/rl-stuff/packages/utils/utils/utils.py:257: UserWarning: No artists with labels found to put in legend.  Note that artists whose label start with an underscore are ignored when legend() is called with no argument.\n",
      "  axs[row][col].legend()\n"
     ]
    },
    {
     "name": "stdout",
     "output_type": "stream",
     "text": [
      "Moviepy - Done !\n",
      "Moviepy - video ready checkpoints/CartPole-v1_quantized_search_43_CartPole-v1/step_8325/videos/CartPole-v1_quantized_search_43_CartPole-v1/8325/CartPole-v1_quantized_search_43_CartPole-v1-episode-124.mp4\n",
      "score:  10.0\n",
      "score:  9.0\n",
      "score:  10.0\n",
      "score:  8.0\n",
      "score:  8.0\n",
      "Moviepy - Building video checkpoints/CartPole-v1_quantized_search_43_CartPole-v1/step_8658/videos/CartPole-v1_quantized_search_43_CartPole-v1/8658/CartPole-v1_quantized_search_43_CartPole-v1-episode-129.mp4.\n",
      "Moviepy - Writing video checkpoints/CartPole-v1_quantized_search_43_CartPole-v1/step_8658/videos/CartPole-v1_quantized_search_43_CartPole-v1/8658/CartPole-v1_quantized_search_43_CartPole-v1-episode-129.mp4\n",
      "\n"
     ]
    },
    {
     "name": "stderr",
     "output_type": "stream",
     "text": [
      "/Users/jonathanlamontange-kratz/Documents/GitHub/rl-stuff/packages/utils/utils/utils.py:257: UserWarning: No artists with labels found to put in legend.  Note that artists whose label start with an underscore are ignored when legend() is called with no argument.\n",
      "  axs[row][col].legend()\n"
     ]
    },
    {
     "name": "stdout",
     "output_type": "stream",
     "text": [
      "Moviepy - Done !\n",
      "Moviepy - video ready checkpoints/CartPole-v1_quantized_search_43_CartPole-v1/step_8658/videos/CartPole-v1_quantized_search_43_CartPole-v1/8658/CartPole-v1_quantized_search_43_CartPole-v1-episode-129.mp4\n",
      "score:  10.0\n",
      "score:  8.0\n",
      "score:  10.0\n",
      "score:  9.0\n",
      "score:  9.0\n",
      "Moviepy - Building video checkpoints/CartPole-v1_quantized_search_43_CartPole-v1/step_8991/videos/CartPole-v1_quantized_search_43_CartPole-v1/8991/CartPole-v1_quantized_search_43_CartPole-v1-episode-134.mp4.\n",
      "Moviepy - Writing video checkpoints/CartPole-v1_quantized_search_43_CartPole-v1/step_8991/videos/CartPole-v1_quantized_search_43_CartPole-v1/8991/CartPole-v1_quantized_search_43_CartPole-v1-episode-134.mp4\n",
      "\n"
     ]
    },
    {
     "name": "stderr",
     "output_type": "stream",
     "text": [
      "/Users/jonathanlamontange-kratz/Documents/GitHub/rl-stuff/packages/utils/utils/utils.py:257: UserWarning: No artists with labels found to put in legend.  Note that artists whose label start with an underscore are ignored when legend() is called with no argument.\n",
      "  axs[row][col].legend()\n"
     ]
    },
    {
     "name": "stdout",
     "output_type": "stream",
     "text": [
      "Moviepy - Done !\n",
      "Moviepy - video ready checkpoints/CartPole-v1_quantized_search_43_CartPole-v1/step_8991/videos/CartPole-v1_quantized_search_43_CartPole-v1/8991/CartPole-v1_quantized_search_43_CartPole-v1-episode-134.mp4\n",
      "score:  10.0\n",
      "score:  8.0\n",
      "score:  9.0\n",
      "score:  10.0\n",
      "score:  10.0\n",
      "Moviepy - Building video checkpoints/CartPole-v1_quantized_search_43_CartPole-v1/step_9324/videos/CartPole-v1_quantized_search_43_CartPole-v1/9324/CartPole-v1_quantized_search_43_CartPole-v1-episode-139.mp4.\n",
      "Moviepy - Writing video checkpoints/CartPole-v1_quantized_search_43_CartPole-v1/step_9324/videos/CartPole-v1_quantized_search_43_CartPole-v1/9324/CartPole-v1_quantized_search_43_CartPole-v1-episode-139.mp4\n",
      "\n"
     ]
    },
    {
     "name": "stderr",
     "output_type": "stream",
     "text": [
      "/Users/jonathanlamontange-kratz/Documents/GitHub/rl-stuff/packages/utils/utils/utils.py:257: UserWarning: No artists with labels found to put in legend.  Note that artists whose label start with an underscore are ignored when legend() is called with no argument.\n",
      "  axs[row][col].legend()\n"
     ]
    },
    {
     "name": "stdout",
     "output_type": "stream",
     "text": [
      "Moviepy - Done !\n",
      "Moviepy - video ready checkpoints/CartPole-v1_quantized_search_43_CartPole-v1/step_9324/videos/CartPole-v1_quantized_search_43_CartPole-v1/9324/CartPole-v1_quantized_search_43_CartPole-v1-episode-139.mp4\n",
      "score:  9.0\n",
      "score:  10.0\n",
      "score:  9.0\n",
      "score:  9.0\n",
      "score:  10.0\n",
      "Moviepy - Building video checkpoints/CartPole-v1_quantized_search_43_CartPole-v1/step_9657/videos/CartPole-v1_quantized_search_43_CartPole-v1/9657/CartPole-v1_quantized_search_43_CartPole-v1-episode-144.mp4.\n",
      "Moviepy - Writing video checkpoints/CartPole-v1_quantized_search_43_CartPole-v1/step_9657/videos/CartPole-v1_quantized_search_43_CartPole-v1/9657/CartPole-v1_quantized_search_43_CartPole-v1-episode-144.mp4\n",
      "\n"
     ]
    },
    {
     "name": "stderr",
     "output_type": "stream",
     "text": [
      "/Users/jonathanlamontange-kratz/Documents/GitHub/rl-stuff/packages/utils/utils/utils.py:257: UserWarning: No artists with labels found to put in legend.  Note that artists whose label start with an underscore are ignored when legend() is called with no argument.\n",
      "  axs[row][col].legend()\n"
     ]
    },
    {
     "name": "stdout",
     "output_type": "stream",
     "text": [
      "Moviepy - Done !\n",
      "Moviepy - video ready checkpoints/CartPole-v1_quantized_search_43_CartPole-v1/step_9657/videos/CartPole-v1_quantized_search_43_CartPole-v1/9657/CartPole-v1_quantized_search_43_CartPole-v1-episode-144.mp4\n",
      "score:  10.0\n",
      "score:  8.0\n",
      "score:  10.0\n",
      "score:  9.0\n",
      "score:  10.0\n",
      "Moviepy - Building video checkpoints/CartPole-v1_quantized_search_43_CartPole-v1/step_9990/videos/CartPole-v1_quantized_search_43_CartPole-v1/9990/CartPole-v1_quantized_search_43_CartPole-v1-episode-149.mp4.\n",
      "Moviepy - Writing video checkpoints/CartPole-v1_quantized_search_43_CartPole-v1/step_9990/videos/CartPole-v1_quantized_search_43_CartPole-v1/9990/CartPole-v1_quantized_search_43_CartPole-v1-episode-149.mp4\n",
      "\n"
     ]
    },
    {
     "name": "stderr",
     "output_type": "stream",
     "text": [
      "/Users/jonathanlamontange-kratz/Documents/GitHub/rl-stuff/packages/utils/utils/utils.py:257: UserWarning: No artists with labels found to put in legend.  Note that artists whose label start with an underscore are ignored when legend() is called with no argument.\n",
      "  axs[row][col].legend()\n"
     ]
    },
    {
     "name": "stdout",
     "output_type": "stream",
     "text": [
      "Moviepy - Done !\n",
      "Moviepy - video ready checkpoints/CartPole-v1_quantized_search_43_CartPole-v1/step_9990/videos/CartPole-v1_quantized_search_43_CartPole-v1/9990/CartPole-v1_quantized_search_43_CartPole-v1-episode-149.mp4\n",
      "score:  10.0\n",
      "score:  10.0\n",
      "score:  10.0\n",
      "score:  10.0\n",
      "score:  9.0\n",
      "Moviepy - Building video checkpoints/CartPole-v1_quantized_search_43_CartPole-v1/step_9999/videos/CartPole-v1_quantized_search_43_CartPole-v1/9999/CartPole-v1_quantized_search_43_CartPole-v1-episode-154.mp4.\n",
      "Moviepy - Writing video checkpoints/CartPole-v1_quantized_search_43_CartPole-v1/step_9999/videos/CartPole-v1_quantized_search_43_CartPole-v1/9999/CartPole-v1_quantized_search_43_CartPole-v1-episode-154.mp4\n",
      "\n"
     ]
    },
    {
     "name": "stderr",
     "output_type": "stream",
     "text": [
      "/Users/jonathanlamontange-kratz/Documents/GitHub/rl-stuff/packages/utils/utils/utils.py:257: UserWarning: No artists with labels found to put in legend.  Note that artists whose label start with an underscore are ignored when legend() is called with no argument.\n",
      "  axs[row][col].legend()\n"
     ]
    },
    {
     "name": "stdout",
     "output_type": "stream",
     "text": [
      "Moviepy - Done !\n",
      "Moviepy - video ready checkpoints/CartPole-v1_quantized_search_43_CartPole-v1/step_9999/videos/CartPole-v1_quantized_search_43_CartPole-v1/9999/CartPole-v1_quantized_search_43_CartPole-v1-episode-154.mp4\n",
      "score:  10.0\n",
      "Training complete\n",
      "score:  10.0\n",
      "score:  10.0\n",
      "score:  8.0\n",
      "score:  9.0\n",
      "Moviepy - Building video ./checkpoints//videos/CartPole-v1_quantized_search_43_CartPole-v1/5000/CartPole-v1_quantized_search_43_CartPole-v1-episode-159.mp4.\n",
      "Moviepy - Writing video ./checkpoints//videos/CartPole-v1_quantized_search_43_CartPole-v1/5000/CartPole-v1_quantized_search_43_CartPole-v1-episode-159.mp4\n",
      "\n"
     ]
    },
    {
     "name": "stderr",
     "output_type": "stream",
     "text": [
      "                                                           \r"
     ]
    },
    {
     "name": "stdout",
     "output_type": "stream",
     "text": [
      "Moviepy - Done !\n",
      "Moviepy - video ready ./checkpoints//videos/CartPole-v1_quantized_search_43_CartPole-v1/5000/CartPole-v1_quantized_search_43_CartPole-v1-episode-159.mp4\n",
      "score:  10.0\n",
      "score:  10.0\n",
      "score:  10.0\n",
      "score:  10.0\n",
      "score:  9.0\n",
      "score:  10.0\n",
      "parallel programs done\n",
      "Params:  {'adam_epsilon': 0.000625, 'advantage_hidden_layers_widths': (128, 512, 512, 1024), 'atom_size': 51, 'clipnorm': 0.1, 'conv_layers': (), 'dense_layers_widths': (128, 256, 256), 'discount_factor': 0.901, 'kernel_initializer': 'orthogonal', 'learning_rate': 0.0032, 'loss_function': <utils.utils.KLDivergence object at 0x288bc7740>, 'min_replay_buffer_size': 1875, 'minibatch_size': 64, 'n_step': 3, 'per_alpha': 0.35000000000000003, 'per_beta': 0.8, 'per_epsilon': 0.0051400000000000005, 'replay_buffer_size': 2000, 'replay_interval': 1, 'training_steps': 10000, 'transfer_interval': 30, 'value_hidden_layers_widths': (32, 64, 128)}\n",
      "Making environments\n",
      "CartPole-v1_quantized_search\n",
      "Using default save_intermediate_weights     : True\n",
      "Using         training_steps                : 10000\n",
      "Using         adam_epsilon                  : 0.000625\n",
      "Using         learning_rate                 : 0.0032\n",
      "Using         clipnorm                      : 0.1\n",
      "Using default optimizer                     : <class 'torch.optim.adam.Adam'>\n",
      "Using         loss_function                 : <utils.utils.KLDivergence object at 0x288bc7740>\n",
      "Using default activation                    : relu\n",
      "Using         kernel_initializer            : orthogonal\n",
      "Using         minibatch_size                : 64\n",
      "Using         replay_buffer_size            : 2000\n",
      "Using         min_replay_buffer_size        : 1875\n",
      "Using default num_minibatches               : 1\n",
      "Using default training_iterations           : 1\n",
      "Using         conv_layers                   : ()\n",
      "Using         dense_layers_widths           : (128, 256, 256)\n",
      "Using         value_hidden_layers_widths    : (32, 64, 128)\n",
      "Using         advantage_hidden_layers_widths: (128, 512, 512, 1024)\n",
      "Using default noisy_sigma                   : 0.5\n",
      "Using default deuling                       : True\n",
      "Using         discount_factor               : 0.901\n",
      "Using default soft_update                   : False\n",
      "Using         transfer_interval             : 30\n",
      "Using default ema_beta                      : 0.99\n",
      "Using         replay_interval               : 1\n",
      "Using         per_alpha                     : 0.35000000000000003\n",
      "Using         per_beta                      : 0.8\n",
      "Using         per_epsilon                   : 0.0051400000000000005\n",
      "Using         n_step                        : 3\n",
      "Using         atom_size                     : 51\n",
      "observation_dimensions:  (4,)\n",
      "num_actions:  2\n"
     ]
    },
    {
     "name": "stderr",
     "output_type": "stream",
     "text": [
      "/Library/Frameworks/Python.framework/Versions/3.12/lib/python3.12/site-packages/gymnasium/wrappers/record_video.py:94: UserWarning: \u001b[33mWARN: Overwriting existing videos at /Users/jonathanlamontange-kratz/Documents/GitHub/rl-stuff/experiments/rainbow_hyperopt folder (try specifying a different `video_folder` for the `RecordVideo` wrapper if this is not desired)\u001b[0m\n",
      "  logger.warn(\n"
     ]
    },
    {
     "name": "stdout",
     "output_type": "stream",
     "text": [
      "score:  11.0\n",
      "score:  11.0\n",
      "score:  11.0\n",
      "score:  9.0\n",
      "Moviepy - Building video checkpoints/CartPole-v1_quantized_search_44_CartPole-v1/step_333/videos/CartPole-v1_quantized_search_44_CartPole-v1/333/CartPole-v1_quantized_search_44_CartPole-v1-episode-4.mp4.\n",
      "Moviepy - Writing video checkpoints/CartPole-v1_quantized_search_44_CartPole-v1/step_333/videos/CartPole-v1_quantized_search_44_CartPole-v1/333/CartPole-v1_quantized_search_44_CartPole-v1-episode-4.mp4\n",
      "\n"
     ]
    },
    {
     "name": "stderr",
     "output_type": "stream",
     "text": [
      "/Users/jonathanlamontange-kratz/Documents/GitHub/rl-stuff/packages/utils/utils/utils.py:257: UserWarning: No artists with labels found to put in legend.  Note that artists whose label start with an underscore are ignored when legend() is called with no argument.\n",
      "  axs[row][col].legend()\n",
      "/Users/jonathanlamontange-kratz/Documents/GitHub/rl-stuff/packages/utils/utils/utils.py:187: UserWarning: Attempting to set identical low and high xlims makes transformation singular; automatically expanding.\n",
      "  axs[row][col].set_xlim(1, len(values))\n"
     ]
    },
    {
     "name": "stdout",
     "output_type": "stream",
     "text": [
      "Moviepy - Done !\n",
      "Moviepy - video ready checkpoints/CartPole-v1_quantized_search_44_CartPole-v1/step_333/videos/CartPole-v1_quantized_search_44_CartPole-v1/333/CartPole-v1_quantized_search_44_CartPole-v1-episode-4.mp4\n",
      "score:  11.0\n",
      "score:  18.0\n",
      "score:  18.0\n",
      "score:  14.0\n",
      "score:  19.0\n",
      "Moviepy - Building video checkpoints/CartPole-v1_quantized_search_44_CartPole-v1/step_666/videos/CartPole-v1_quantized_search_44_CartPole-v1/666/CartPole-v1_quantized_search_44_CartPole-v1-episode-9.mp4.\n",
      "Moviepy - Writing video checkpoints/CartPole-v1_quantized_search_44_CartPole-v1/step_666/videos/CartPole-v1_quantized_search_44_CartPole-v1/666/CartPole-v1_quantized_search_44_CartPole-v1-episode-9.mp4\n",
      "\n"
     ]
    },
    {
     "name": "stderr",
     "output_type": "stream",
     "text": [
      "/Users/jonathanlamontange-kratz/Documents/GitHub/rl-stuff/packages/utils/utils/utils.py:257: UserWarning: No artists with labels found to put in legend.  Note that artists whose label start with an underscore are ignored when legend() is called with no argument.\n",
      "  axs[row][col].legend()\n"
     ]
    },
    {
     "name": "stdout",
     "output_type": "stream",
     "text": [
      "Moviepy - Done !\n",
      "Moviepy - video ready checkpoints/CartPole-v1_quantized_search_44_CartPole-v1/step_666/videos/CartPole-v1_quantized_search_44_CartPole-v1/666/CartPole-v1_quantized_search_44_CartPole-v1-episode-9.mp4\n",
      "score:  17.0\n",
      "score:  11.0\n",
      "score:  12.0\n",
      "score:  14.0\n",
      "score:  12.0\n",
      "Moviepy - Building video checkpoints/CartPole-v1_quantized_search_44_CartPole-v1/step_999/videos/CartPole-v1_quantized_search_44_CartPole-v1/999/CartPole-v1_quantized_search_44_CartPole-v1-episode-14.mp4.\n",
      "Moviepy - Writing video checkpoints/CartPole-v1_quantized_search_44_CartPole-v1/step_999/videos/CartPole-v1_quantized_search_44_CartPole-v1/999/CartPole-v1_quantized_search_44_CartPole-v1-episode-14.mp4\n",
      "\n"
     ]
    },
    {
     "name": "stderr",
     "output_type": "stream",
     "text": [
      "/Users/jonathanlamontange-kratz/Documents/GitHub/rl-stuff/packages/utils/utils/utils.py:257: UserWarning: No artists with labels found to put in legend.  Note that artists whose label start with an underscore are ignored when legend() is called with no argument.\n",
      "  axs[row][col].legend()\n"
     ]
    },
    {
     "name": "stdout",
     "output_type": "stream",
     "text": [
      "Moviepy - Done !\n",
      "Moviepy - video ready checkpoints/CartPole-v1_quantized_search_44_CartPole-v1/step_999/videos/CartPole-v1_quantized_search_44_CartPole-v1/999/CartPole-v1_quantized_search_44_CartPole-v1-episode-14.mp4\n",
      "score:  14.0\n",
      "score:  10.0\n",
      "score:  10.0\n",
      "score:  9.0\n",
      "score:  8.0\n",
      "Moviepy - Building video checkpoints/CartPole-v1_quantized_search_44_CartPole-v1/step_1332/videos/CartPole-v1_quantized_search_44_CartPole-v1/1332/CartPole-v1_quantized_search_44_CartPole-v1-episode-19.mp4.\n",
      "Moviepy - Writing video checkpoints/CartPole-v1_quantized_search_44_CartPole-v1/step_1332/videos/CartPole-v1_quantized_search_44_CartPole-v1/1332/CartPole-v1_quantized_search_44_CartPole-v1-episode-19.mp4\n",
      "\n"
     ]
    },
    {
     "name": "stderr",
     "output_type": "stream",
     "text": [
      "/Users/jonathanlamontange-kratz/Documents/GitHub/rl-stuff/packages/utils/utils/utils.py:257: UserWarning: No artists with labels found to put in legend.  Note that artists whose label start with an underscore are ignored when legend() is called with no argument.\n",
      "  axs[row][col].legend()\n"
     ]
    },
    {
     "name": "stdout",
     "output_type": "stream",
     "text": [
      "Moviepy - Done !\n",
      "Moviepy - video ready checkpoints/CartPole-v1_quantized_search_44_CartPole-v1/step_1332/videos/CartPole-v1_quantized_search_44_CartPole-v1/1332/CartPole-v1_quantized_search_44_CartPole-v1-episode-19.mp4\n",
      "score:  8.0\n",
      "score:  10.0\n",
      "score:  10.0\n",
      "score:  9.0\n",
      "score:  8.0\n",
      "Moviepy - Building video checkpoints/CartPole-v1_quantized_search_44_CartPole-v1/step_1665/videos/CartPole-v1_quantized_search_44_CartPole-v1/1665/CartPole-v1_quantized_search_44_CartPole-v1-episode-24.mp4.\n",
      "Moviepy - Writing video checkpoints/CartPole-v1_quantized_search_44_CartPole-v1/step_1665/videos/CartPole-v1_quantized_search_44_CartPole-v1/1665/CartPole-v1_quantized_search_44_CartPole-v1-episode-24.mp4\n",
      "\n"
     ]
    },
    {
     "name": "stderr",
     "output_type": "stream",
     "text": [
      "/Users/jonathanlamontange-kratz/Documents/GitHub/rl-stuff/packages/utils/utils/utils.py:257: UserWarning: No artists with labels found to put in legend.  Note that artists whose label start with an underscore are ignored when legend() is called with no argument.\n",
      "  axs[row][col].legend()\n"
     ]
    },
    {
     "name": "stdout",
     "output_type": "stream",
     "text": [
      "Moviepy - Done !\n",
      "Moviepy - video ready checkpoints/CartPole-v1_quantized_search_44_CartPole-v1/step_1665/videos/CartPole-v1_quantized_search_44_CartPole-v1/1665/CartPole-v1_quantized_search_44_CartPole-v1-episode-24.mp4\n",
      "score:  9.0\n",
      "score:  18.0\n",
      "score:  19.0\n",
      "score:  19.0\n",
      "score:  17.0\n",
      "Moviepy - Building video checkpoints/CartPole-v1_quantized_search_44_CartPole-v1/step_1998/videos/CartPole-v1_quantized_search_44_CartPole-v1/1998/CartPole-v1_quantized_search_44_CartPole-v1-episode-29.mp4.\n",
      "Moviepy - Writing video checkpoints/CartPole-v1_quantized_search_44_CartPole-v1/step_1998/videos/CartPole-v1_quantized_search_44_CartPole-v1/1998/CartPole-v1_quantized_search_44_CartPole-v1-episode-29.mp4\n",
      "\n"
     ]
    },
    {
     "name": "stderr",
     "output_type": "stream",
     "text": [
      "/Users/jonathanlamontange-kratz/Documents/GitHub/rl-stuff/packages/utils/utils/utils.py:257: UserWarning: No artists with labels found to put in legend.  Note that artists whose label start with an underscore are ignored when legend() is called with no argument.\n",
      "  axs[row][col].legend()\n"
     ]
    },
    {
     "name": "stdout",
     "output_type": "stream",
     "text": [
      "Moviepy - Done !\n",
      "Moviepy - video ready checkpoints/CartPole-v1_quantized_search_44_CartPole-v1/step_1998/videos/CartPole-v1_quantized_search_44_CartPole-v1/1998/CartPole-v1_quantized_search_44_CartPole-v1-episode-29.mp4\n",
      "score:  17.0\n",
      "score:  149.0\n",
      "score:  154.0\n",
      "score:  165.0\n",
      "score:  149.0\n",
      "Moviepy - Building video checkpoints/CartPole-v1_quantized_search_44_CartPole-v1/step_2331/videos/CartPole-v1_quantized_search_44_CartPole-v1/2331/CartPole-v1_quantized_search_44_CartPole-v1-episode-34.mp4.\n",
      "Moviepy - Writing video checkpoints/CartPole-v1_quantized_search_44_CartPole-v1/step_2331/videos/CartPole-v1_quantized_search_44_CartPole-v1/2331/CartPole-v1_quantized_search_44_CartPole-v1-episode-34.mp4\n",
      "\n"
     ]
    },
    {
     "name": "stderr",
     "output_type": "stream",
     "text": [
      "                                                               \r"
     ]
    },
    {
     "name": "stdout",
     "output_type": "stream",
     "text": [
      "Moviepy - Done !\n",
      "Moviepy - video ready checkpoints/CartPole-v1_quantized_search_44_CartPole-v1/step_2331/videos/CartPole-v1_quantized_search_44_CartPole-v1/2331/CartPole-v1_quantized_search_44_CartPole-v1-episode-34.mp4\n",
      "score:  142.0\n"
     ]
    },
    {
     "name": "stderr",
     "output_type": "stream",
     "text": [
      "/Users/jonathanlamontange-kratz/Documents/GitHub/rl-stuff/packages/utils/utils/utils.py:257: UserWarning: No artists with labels found to put in legend.  Note that artists whose label start with an underscore are ignored when legend() is called with no argument.\n",
      "  axs[row][col].legend()\n"
     ]
    },
    {
     "name": "stdout",
     "output_type": "stream",
     "text": [
      "score:  90.0\n",
      "score:  92.0\n",
      "score:  97.0\n",
      "score:  107.0\n",
      "Moviepy - Building video checkpoints/CartPole-v1_quantized_search_44_CartPole-v1/step_2664/videos/CartPole-v1_quantized_search_44_CartPole-v1/2664/CartPole-v1_quantized_search_44_CartPole-v1-episode-39.mp4.\n",
      "Moviepy - Writing video checkpoints/CartPole-v1_quantized_search_44_CartPole-v1/step_2664/videos/CartPole-v1_quantized_search_44_CartPole-v1/2664/CartPole-v1_quantized_search_44_CartPole-v1-episode-39.mp4\n",
      "\n"
     ]
    },
    {
     "name": "stderr",
     "output_type": "stream",
     "text": [
      "/Users/jonathanlamontange-kratz/Documents/GitHub/rl-stuff/packages/utils/utils/utils.py:257: UserWarning: No artists with labels found to put in legend.  Note that artists whose label start with an underscore are ignored when legend() is called with no argument.\n",
      "  axs[row][col].legend()\n"
     ]
    },
    {
     "name": "stdout",
     "output_type": "stream",
     "text": [
      "Moviepy - Done !\n",
      "Moviepy - video ready checkpoints/CartPole-v1_quantized_search_44_CartPole-v1/step_2664/videos/CartPole-v1_quantized_search_44_CartPole-v1/2664/CartPole-v1_quantized_search_44_CartPole-v1-episode-39.mp4\n",
      "score:  107.0\n",
      "score:  149.0\n",
      "score:  123.0\n",
      "score:  162.0\n",
      "score:  144.0\n",
      "Moviepy - Building video checkpoints/CartPole-v1_quantized_search_44_CartPole-v1/step_2997/videos/CartPole-v1_quantized_search_44_CartPole-v1/2997/CartPole-v1_quantized_search_44_CartPole-v1-episode-44.mp4.\n",
      "Moviepy - Writing video checkpoints/CartPole-v1_quantized_search_44_CartPole-v1/step_2997/videos/CartPole-v1_quantized_search_44_CartPole-v1/2997/CartPole-v1_quantized_search_44_CartPole-v1-episode-44.mp4\n",
      "\n"
     ]
    },
    {
     "name": "stderr",
     "output_type": "stream",
     "text": [
      "                                                               \r"
     ]
    },
    {
     "name": "stdout",
     "output_type": "stream",
     "text": [
      "Moviepy - Done !\n",
      "Moviepy - video ready checkpoints/CartPole-v1_quantized_search_44_CartPole-v1/step_2997/videos/CartPole-v1_quantized_search_44_CartPole-v1/2997/CartPole-v1_quantized_search_44_CartPole-v1-episode-44.mp4\n",
      "score:  141.0\n"
     ]
    },
    {
     "name": "stderr",
     "output_type": "stream",
     "text": [
      "/Users/jonathanlamontange-kratz/Documents/GitHub/rl-stuff/packages/utils/utils/utils.py:257: UserWarning: No artists with labels found to put in legend.  Note that artists whose label start with an underscore are ignored when legend() is called with no argument.\n",
      "  axs[row][col].legend()\n"
     ]
    },
    {
     "name": "stdout",
     "output_type": "stream",
     "text": [
      "score:  389.0\n",
      "score:  195.0\n",
      "score:  259.0\n",
      "score:  322.0\n",
      "Moviepy - Building video checkpoints/CartPole-v1_quantized_search_44_CartPole-v1/step_3330/videos/CartPole-v1_quantized_search_44_CartPole-v1/3330/CartPole-v1_quantized_search_44_CartPole-v1-episode-49.mp4.\n",
      "Moviepy - Writing video checkpoints/CartPole-v1_quantized_search_44_CartPole-v1/step_3330/videos/CartPole-v1_quantized_search_44_CartPole-v1/3330/CartPole-v1_quantized_search_44_CartPole-v1-episode-49.mp4\n",
      "\n"
     ]
    },
    {
     "name": "stderr",
     "output_type": "stream",
     "text": [
      "                                                               \r"
     ]
    },
    {
     "name": "stdout",
     "output_type": "stream",
     "text": [
      "Moviepy - Done !\n",
      "Moviepy - video ready checkpoints/CartPole-v1_quantized_search_44_CartPole-v1/step_3330/videos/CartPole-v1_quantized_search_44_CartPole-v1/3330/CartPole-v1_quantized_search_44_CartPole-v1-episode-49.mp4\n",
      "score:  310.0\n"
     ]
    },
    {
     "name": "stderr",
     "output_type": "stream",
     "text": [
      "/Users/jonathanlamontange-kratz/Documents/GitHub/rl-stuff/packages/utils/utils/utils.py:257: UserWarning: No artists with labels found to put in legend.  Note that artists whose label start with an underscore are ignored when legend() is called with no argument.\n",
      "  axs[row][col].legend()\n"
     ]
    },
    {
     "name": "stdout",
     "output_type": "stream",
     "text": [
      "score:  301.0\n",
      "score:  201.0\n",
      "score:  417.0\n",
      "score:  167.0\n",
      "Moviepy - Building video checkpoints/CartPole-v1_quantized_search_44_CartPole-v1/step_3663/videos/CartPole-v1_quantized_search_44_CartPole-v1/3663/CartPole-v1_quantized_search_44_CartPole-v1-episode-54.mp4.\n",
      "Moviepy - Writing video checkpoints/CartPole-v1_quantized_search_44_CartPole-v1/step_3663/videos/CartPole-v1_quantized_search_44_CartPole-v1/3663/CartPole-v1_quantized_search_44_CartPole-v1-episode-54.mp4\n",
      "\n"
     ]
    },
    {
     "name": "stderr",
     "output_type": "stream",
     "text": [
      "/Users/jonathanlamontange-kratz/Documents/GitHub/rl-stuff/packages/utils/utils/utils.py:257: UserWarning: No artists with labels found to put in legend.  Note that artists whose label start with an underscore are ignored when legend() is called with no argument.\n",
      "  axs[row][col].legend()\n"
     ]
    },
    {
     "name": "stdout",
     "output_type": "stream",
     "text": [
      "Moviepy - Done !\n",
      "Moviepy - video ready checkpoints/CartPole-v1_quantized_search_44_CartPole-v1/step_3663/videos/CartPole-v1_quantized_search_44_CartPole-v1/3663/CartPole-v1_quantized_search_44_CartPole-v1-episode-54.mp4\n",
      "score:  328.0\n",
      "score:  295.0\n",
      "score:  309.0\n",
      "score:  277.0\n",
      "score:  267.0\n",
      "Moviepy - Building video checkpoints/CartPole-v1_quantized_search_44_CartPole-v1/step_3996/videos/CartPole-v1_quantized_search_44_CartPole-v1/3996/CartPole-v1_quantized_search_44_CartPole-v1-episode-59.mp4.\n",
      "Moviepy - Writing video checkpoints/CartPole-v1_quantized_search_44_CartPole-v1/step_3996/videos/CartPole-v1_quantized_search_44_CartPole-v1/3996/CartPole-v1_quantized_search_44_CartPole-v1-episode-59.mp4\n",
      "\n"
     ]
    },
    {
     "name": "stderr",
     "output_type": "stream",
     "text": [
      "                                                               \r"
     ]
    },
    {
     "name": "stdout",
     "output_type": "stream",
     "text": [
      "Moviepy - Done !\n",
      "Moviepy - video ready checkpoints/CartPole-v1_quantized_search_44_CartPole-v1/step_3996/videos/CartPole-v1_quantized_search_44_CartPole-v1/3996/CartPole-v1_quantized_search_44_CartPole-v1-episode-59.mp4\n",
      "score:  327.0\n"
     ]
    },
    {
     "name": "stderr",
     "output_type": "stream",
     "text": [
      "/Users/jonathanlamontange-kratz/Documents/GitHub/rl-stuff/packages/utils/utils/utils.py:257: UserWarning: No artists with labels found to put in legend.  Note that artists whose label start with an underscore are ignored when legend() is called with no argument.\n",
      "  axs[row][col].legend()\n"
     ]
    },
    {
     "name": "stdout",
     "output_type": "stream",
     "text": [
      "score:  241.0\n",
      "score:  185.0\n",
      "score:  163.0\n",
      "score:  203.0\n",
      "Moviepy - Building video checkpoints/CartPole-v1_quantized_search_44_CartPole-v1/step_4329/videos/CartPole-v1_quantized_search_44_CartPole-v1/4329/CartPole-v1_quantized_search_44_CartPole-v1-episode-64.mp4.\n",
      "Moviepy - Writing video checkpoints/CartPole-v1_quantized_search_44_CartPole-v1/step_4329/videos/CartPole-v1_quantized_search_44_CartPole-v1/4329/CartPole-v1_quantized_search_44_CartPole-v1-episode-64.mp4\n",
      "\n"
     ]
    },
    {
     "name": "stderr",
     "output_type": "stream",
     "text": [
      "                                                               \r"
     ]
    },
    {
     "name": "stdout",
     "output_type": "stream",
     "text": [
      "Moviepy - Done !\n",
      "Moviepy - video ready checkpoints/CartPole-v1_quantized_search_44_CartPole-v1/step_4329/videos/CartPole-v1_quantized_search_44_CartPole-v1/4329/CartPole-v1_quantized_search_44_CartPole-v1-episode-64.mp4\n",
      "score:  195.0\n"
     ]
    },
    {
     "name": "stderr",
     "output_type": "stream",
     "text": [
      "/Users/jonathanlamontange-kratz/Documents/GitHub/rl-stuff/packages/utils/utils/utils.py:257: UserWarning: No artists with labels found to put in legend.  Note that artists whose label start with an underscore are ignored when legend() is called with no argument.\n",
      "  axs[row][col].legend()\n"
     ]
    },
    {
     "name": "stdout",
     "output_type": "stream",
     "text": [
      "score:  140.0\n",
      "score:  141.0\n",
      "score:  129.0\n",
      "score:  144.0\n",
      "Moviepy - Building video checkpoints/CartPole-v1_quantized_search_44_CartPole-v1/step_4662/videos/CartPole-v1_quantized_search_44_CartPole-v1/4662/CartPole-v1_quantized_search_44_CartPole-v1-episode-69.mp4.\n",
      "Moviepy - Writing video checkpoints/CartPole-v1_quantized_search_44_CartPole-v1/step_4662/videos/CartPole-v1_quantized_search_44_CartPole-v1/4662/CartPole-v1_quantized_search_44_CartPole-v1-episode-69.mp4\n",
      "\n"
     ]
    },
    {
     "name": "stderr",
     "output_type": "stream",
     "text": [
      "/Users/jonathanlamontange-kratz/Documents/GitHub/rl-stuff/packages/utils/utils/utils.py:257: UserWarning: No artists with labels found to put in legend.  Note that artists whose label start with an underscore are ignored when legend() is called with no argument.\n",
      "  axs[row][col].legend()\n"
     ]
    },
    {
     "name": "stdout",
     "output_type": "stream",
     "text": [
      "Moviepy - Done !\n",
      "Moviepy - video ready checkpoints/CartPole-v1_quantized_search_44_CartPole-v1/step_4662/videos/CartPole-v1_quantized_search_44_CartPole-v1/4662/CartPole-v1_quantized_search_44_CartPole-v1-episode-69.mp4\n",
      "score:  136.0\n"
     ]
    },
    {
     "ename": "",
     "evalue": "",
     "output_type": "error",
     "traceback": [
      "\u001b[1;31mThe Kernel crashed while executing code in the current cell or a previous cell. \n",
      "\u001b[1;31mPlease review the code in the cell(s) to identify a possible cause of the failure. \n",
      "\u001b[1;31mClick <a href='https://aka.ms/vscodeJupyterKernelCrash'>here</a> for more info. \n",
      "\u001b[1;31mView Jupyter <a href='command:jupyter.viewOutput'>log</a> for further details."
     ]
    }
   ],
   "source": [
    "import pickle\n",
    "from hyperopt import hp\n",
    "from hyperopt.pyll import scope\n",
    "from utils import CategoricalCrossentropy, KLDivergence, generate_layer_widths\n",
    "import gymnasium as gym \n",
    "import numpy as np\n",
    "\n",
    "width_combinations = generate_layer_widths([32, 64, 128, 256, 512, 1024], 5)\n",
    "# print(width_combinations)\n",
    "\n",
    "search_space = {\n",
    "        \"kernel_initializer\": hp.choice(\n",
    "            \"kernel_initializer\",\n",
    "            [\n",
    "                \"he_uniform\",\n",
    "                \"he_normal\",\n",
    "                \"glorot_uniform\",\n",
    "                \"glorot_normal\",\n",
    "                \"orthogonal\",\n",
    "            ],\n",
    "        ),\n",
    "        \"learning_rate\": hp.qloguniform('learning_rate', np.log(0.00001), np.log(1.0), 0.00001),\n",
    "        \"adam_epsilon\": hp.qloguniform('adam_epsilon', np.log(0.0003125), np.log(0.3125), 0.0003125),\n",
    "        \"loss_function\": hp.choice(\n",
    "            \"loss_function\", [CategoricalCrossentropy(), KLDivergence()]\n",
    "        ),\n",
    "        # NORMALIZATION?\n",
    "        \"transfer_interval\": scope.int(hp.qloguniform('transfer_interval', np.log(10), np.log(2000), 10)),\n",
    "        \"replay_interval\": hp.uniformint('replay_interval', 1, 12),\n",
    "        \"minibatch_size\": scope.int(hp.quniform('minibatch_size', 16, 128, 16)),  ###########\n",
    "        \"replay_buffer_size\": scope.int(hp.quniform('replay_buffer_size', 2000, 10000, 1000)),  #############\n",
    "        \"min_replay_buffer_size\": scope.int(hp.quniform('min_replay_buffer_size', 125, 2000, 125)), \n",
    "        \"n_step\": hp.uniformint('n_step', 2, 10),\n",
    "        \"discount_factor\": hp.qloguniform('discount_factor', np.log(0.9), np.log(0.999), 0.001),\n",
    "        \"atom_size\": scope.int(hp.quniform('atom_size', 51, 81, 10) + 1),  #\n",
    "        \"conv_layers\": hp.choice(\"conv_layers\", [[]]),\n",
    "        \"dense_layers_widths\": hp.choice(\"dense_layers_widths\", width_combinations),\n",
    "        \"advantage_hidden_layers_widths\": hp.choice(\n",
    "            \"advantage_hidden_layers_widths\", width_combinations\n",
    "        ),  #\n",
    "        \"value_hidden_layers_widths\": hp.choice(\n",
    "            \"value_hidden_layers_widths\", width_combinations\n",
    "        ),  #\n",
    "        \"training_steps\": hp.choice(\"training_steps\", [10000]),\n",
    "        \"per_epsilon\": hp.qloguniform('per_epsilon', np.log(0.00001), np.log(0.1), 0.00001),\n",
    "        \"per_alpha\": hp.quniform('per_alpha', 0.05, 1.0, 0.05),\n",
    "        \"per_beta\": hp.quniform('per_beta', 0.05, 1.0, 0.05),\n",
    "        \"clipnorm\": hp.qloguniform('clipnorm', np.log(0.1), np.log(100.0), 0.1)\n",
    "    }\n",
    "\n",
    "initial_best_config = [{}]\n",
    "\n",
    "\n",
    "pickle.dump(search_space, open(\"./search_spaces/torch_quantized_search_search_space.pkl\", \"wb\"))\n",
    "pickle.dump(initial_best_config, open(\"./search_spaces/torch_quantized_search_initial_best_config.pkl\", \"wb\"))\n",
    "\n",
    "%run ../../dqn/rainbow/hyperparameter_optimization.py ./search_spaces/torch_quantized_search_search_space.pkl ./search_spaces/torch_quantized_search_initial_best_config.pkl CartPole-v1_quantized_search"
   ]
  },
  {
   "cell_type": "code",
   "execution_count": null,
   "metadata": {},
   "outputs": [],
   "source": [
    "# Graphing the trials over time\n",
    "from utils import plot_trials\n",
    "import pickle\n",
    "trials = pickle.load(open('./CartPole-v1_quantized_search_trials.p', 'rb'))\n",
    "# print(trials.trials)\n",
    "%matplotlib inline\n",
    "plot_trials(trials, \"Carpole-v1_torch_quantized_search_trials_over_time\")"
   ]
  },
  {
   "cell_type": "code",
   "execution_count": null,
   "metadata": {},
   "outputs": [],
   "source": [
    "# Speed of results\n",
    "# Graph of hyperparameter convergence over time for torch and tensorflow compared with random search\n",
    "# Hyperparameters importance (ape-x analysis file)\n",
    "# Hyperparameter similarity of consecutive trials as a measure of confidence\n",
    "# Search space size vs convergence speed\n",
    "# Compare results to tuning only one system at a time\n",
    "# Using rolling average as evaluation method (just rolling average)\n",
    "# Using rolling average for 50% and 10 tests for other 50% of evaluation\n"
   ]
  },
  {
   "cell_type": "markdown",
   "metadata": {},
   "source": [
    "Rainbow results on Classic Control environments\n",
    "Training steps: \n",
    "Evaluation: \n",
    "Hyperparamaters: "
   ]
  },
  {
   "cell_type": "code",
   "execution_count": null,
   "metadata": {},
   "outputs": [],
   "source": []
  },
  {
   "cell_type": "markdown",
   "metadata": {},
   "source": [
    "Rainbow results on (subset of) Atari games\n",
    "Training steps: \n",
    "Evaluation: \n",
    "Hyperparamaters: "
   ]
  },
  {
   "cell_type": "code",
   "execution_count": null,
   "metadata": {},
   "outputs": [],
   "source": []
  },
  {
   "cell_type": "markdown",
   "metadata": {},
   "source": []
  }
 ],
 "metadata": {
  "kernelspec": {
   "display_name": "Python 3",
   "language": "python",
   "name": "python3"
  },
  "language_info": {
   "codemirror_mode": {
    "name": "ipython",
    "version": 3
   },
   "file_extension": ".py",
   "mimetype": "text/x-python",
   "name": "python",
   "nbconvert_exporter": "python",
   "pygments_lexer": "ipython3",
   "version": "3.12.3"
  }
 },
 "nbformat": 4,
 "nbformat_minor": 2
}
