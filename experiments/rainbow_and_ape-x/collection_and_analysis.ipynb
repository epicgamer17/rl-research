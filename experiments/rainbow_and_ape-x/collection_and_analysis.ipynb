{
 "cells": [
  {
   "cell_type": "markdown",
   "metadata": {},
   "source": [
    "1. Rainbow and Ape-X Expiriments \n",
    "    1. We release a set of hyper parameters for CartPole-v1 and… \n",
    "    2. We release code for Rainbow that can train X steps in Y minutes on a Mac M2 Chip\n",
    "    3. We also release a version of Ape-X as described in the original paper, and an Ape-X with rainbow\n",
    "        1. Compare results of each \n",
    "        2. Compare Ape-X with different Rainbow components added or removed\n",
    "    4. We compare the different models of DQN as seen in their papers to rainbow, the different individual components to rainbow, and rainbow with individual components removed\n",
    "    5. We graph the convergence of Hyperopt for both tensorflow and torch, we do a score/trials graph and we compare to random hyper parameters \n",
    "    6. We graph the exploration of the Hyperopt algorithm showing the difference between consecutive trials to measure when the algorithm is “confident” in its parameters\n",
    "    7. Compare search space sizes\n",
    "        1. Large all hp.choice\n",
    "        2. small/medium hp.choice\n",
    "        3. a set using hp.uniform etc \n",
    "    8. Different methods\n",
    "        1. tuning only 1 part of the system at a time and then tuning the next part, from a base set of params \n",
    "            1. DQN, then PER, then Double… \n",
    "    9. Different testing methods, like for example rolling average instead of latest test score\n",
    "    10. Compare rainbow training speeds with different levels of numerical precision and datatypes\n",
    "        1. Mixed precision using torch.amp \n",
    "        2. Lower matmul precision\n",
    "            1. comparing medium, high, and highest \n",
    "            2. https://pytorch.org/docs/master/generated/torch.set_float32_matmul_precision.html?highlight=precision#torch.set_float32_matmul_precision\n",
    "    11. Ape-X Hyper parameter sweep and sensitivities\n",
    "    12. Exploration methods for Rainbow Ape-X\n",
    "        1. Just noisy nets (same for all actors)\n",
    "        2. Noisy nets and varying epsilon \n",
    "        3. Adding a constant that changes variance of noisy nets for action selection\n",
    "        4. AlphaStar Agents"
   ]
  },
  {
   "cell_type": "markdown",
   "metadata": {},
   "source": [
    "Hyper Parameter Optimization of Rainbow on Cartpole-v1"
   ]
  },
  {
   "cell_type": "code",
   "execution_count": null,
   "metadata": {},
   "outputs": [],
   "source": []
  }
 ],
 "metadata": {
  "language_info": {
   "name": "python"
  }
 },
 "nbformat": 4,
 "nbformat_minor": 2
}
