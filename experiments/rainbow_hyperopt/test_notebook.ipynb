{
 "cells": [
  {
   "cell_type": "code",
   "execution_count": null,
   "metadata": {},
   "outputs": [],
   "source": [
    "from utils import hyperopt_analysis\n",
    "%matplotlib inline\n",
    "\n",
    "viable_trial_threshold = 50\n",
    "final_trial = 0\n",
    "data_dir = \"./tensorflow_choice_trials\"\n",
    "hyperopt_analysis(data_dir, 'CartPole-v1_trials', viable_trial_threshold, 4999, final_trial)\n",
    "\n",
    "data_dir = \"./torch_choice_trials\"\n",
    "hyperopt_analysis(data_dir, 'CartPole-v1_trials', viable_trial_threshold, 9999, final_trial)\n",
    "\n",
    "data_dir = \"./quantized_search_trials\"\n",
    "hyperopt_analysis(data_dir, 'CartPole-v1_quantized_search_trials', viable_trial_threshold, 9999, final_trial)\n",
    "\n",
    "data_dir = \"./rolling_average_eval_trials\"\n",
    "hyperopt_analysis(data_dir, 'CartPole-v1_rolling_average_eval_trials', viable_trial_threshold, 9999, final_trial, \"rolling_average\")\n",
    "\n",
    "data_dir = \".\"\n",
    "hyperopt_analysis(data_dir, 'CartPole-v1_final_score_rolling_average_eval_trials', viable_trial_threshold, 9999, final_trial, \"final_score_rolling_average\")"
   ]
  },
  {
   "cell_type": "code",
   "execution_count": null,
   "metadata": {},
   "outputs": [],
   "source": [
    "from utils import graph_hyperparameter_importance\n",
    "\n",
    "viable_trial_threshold = 15\n",
    "\n",
    "data_dir = \"./quantized_search_trials\"\n",
    "trials_file = 'CartPole-v1_quantized_search_trials.p'\n",
    "search_space_file = 'torch_quantized_search_search_space.pkl'\n",
    "\n",
    "graph_hyperparameter_importance(data_dir, trials_file, search_space_file, viable_trial_threshold)"
   ]
  },
  {
   "cell_type": "code",
   "execution_count": null,
   "metadata": {},
   "outputs": [],
   "source": [
    "import pickle\n",
    "trials = pickle.load(open(\"./rolling_average_eval_trials/CartPole-v1_rolling_average_eval_trials.p\", \"rb\"))"
   ]
  }
 ],
 "metadata": {
  "kernelspec": {
   "display_name": "Python 3",
   "language": "python",
   "name": "python3"
  },
  "language_info": {
   "codemirror_mode": {
    "name": "ipython",
    "version": 3
   },
   "file_extension": ".py",
   "mimetype": "text/x-python",
   "name": "python",
   "nbconvert_exporter": "python",
   "pygments_lexer": "ipython3",
   "version": "3.12.3"
  }
 },
 "nbformat": 4,
 "nbformat_minor": 2
}
