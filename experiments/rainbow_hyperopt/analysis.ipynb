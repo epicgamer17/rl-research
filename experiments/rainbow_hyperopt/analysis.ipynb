{
 "cells": [
  {
   "cell_type": "markdown",
   "metadata": {},
   "source": [
    "1. Rainbow and Ape-X Expiriments \n",
    "    1. We release a set of hyper parameters for CartPole-v1 and Classic Control and Atari\n",
    "    2. We release code for Rainbow that can train X steps in Y minutes on a Mac M2 Chip\n",
    "    3. We also release a version of Ape-X as described in the original paper, and an Ape-X with rainbow\n",
    "        1. Compare results of each \n",
    "        2. Compare Ape-X with different Rainbow components added or removed\n",
    "    4. We compare the different models of DQN as seen in their papers to rainbow, the different individual components to rainbow, and rainbow with individual components removed\n",
    "    5. We graph the convergence of Hyperopt for both tensorflow and torch, we do a score/trials graph and we compare to random hyper parameters \n",
    "    6. We graph the exploration of the Hyperopt algorithm showing the difference between consecutive trials to measure when the algorithm is “confident” in its parameters\n",
    "    7. Compare search space sizes\n",
    "        1. Large all hp.choice\n",
    "        2. small/medium hp.choice\n",
    "        3. a set using hp.uniform etc \n",
    "    8. Different methods\n",
    "        1. tuning only 1 part of the system at a time and then tuning the next part, from a base set of params \n",
    "            1. DQN, then PER, then Double… \n",
    "    9. Different testing methods, like for example rolling average instead of latest test score\n",
    "    10. Compare rainbow training speeds with different levels of numerical precision and datatypes\n",
    "        1. Mixed precision using torch.amp \n",
    "        2. Lower matmul precision\n",
    "            1. comparing medium, high, and highest \n",
    "            2. https://pytorch.org/docs/master/generated/torch.set_float32_matmul_precision.html?highlight=precision#torch.set_float32_matmul_precision\n",
    "    11. Ape-X Hyper parameter sweep and sensitivities\n",
    "    12. Exploration methods for Rainbow Ape-X\n",
    "        1. Just noisy nets (same for all actors)\n",
    "        2. Noisy nets and varying epsilon \n",
    "        3. Adding a constant that changes variance of noisy nets for action selection\n",
    "        4. AlphaStar Agents"
   ]
  },
  {
   "cell_type": "markdown",
   "metadata": {},
   "source": [
    "## Baseline Parameter Training Results"
   ]
  },
  {
   "cell_type": "code",
   "execution_count": null,
   "metadata": {},
   "outputs": [],
   "source": [
    "import gymnasium as gym\n",
    "from gymnasium.wrappers import AtariPreprocessing, FrameStack\n",
    "import numpy as np\n",
    "import sys\n",
    "sys.path.append('../..')\n",
    "from dqn.rainbow.rainbow_agent import RainbowAgent\n",
    "from game_configs import AtariConfig, CartPoleConfig\n",
    "from agent_configs import RainbowConfig\n",
    "from utils import KLDivergence\n",
    "import random\n",
    "import torch\n",
    "\n",
    "# env = ClipReward(AtariPreprocessing(gym.make(\"MsPacmanNoFrameskip-v4\", render_mode=\"rgb_array\"), terminal_on_life_loss=True), -1, 1) # as recommended by the original paper, should already include max pooling\n",
    "# env = FrameStack(env, 4)\n",
    "env = gym.make(\"CartPole-v1\")\n",
    "\n",
    "\n",
    "config_dict = {\n",
    "  \"dense_layers_widths\": [128],\n",
    "  \"value_hidden_layers_widths\": [128],\n",
    "  \"advatage_hidden_layers_widths\": [128],\n",
    "  \"adam_epsilon\": 1e-8,\n",
    "  \"learning_rate\": 0.001,\n",
    "  \"training_steps\": 10000,\n",
    "  \"per_epsilon\": 1e-6,\n",
    "  \"per_alpha\": 0.2,\n",
    "  \"per_beta\": 0.6,\n",
    "  \"minibatch_size\": 128,\n",
    "  \"transfer_interval\": 100,\n",
    "  \"n_step\": 3,\n",
    "  \"noisy_sigma\": 0.5,\n",
    "  \"replay_interval\": 1,\n",
    "  \"kernel_initializer\": \"orthogonal\",\n",
    "  \"noisy_sigma\": 0.5,\n",
    "  \"loss_function\": KLDivergence(), # could do categorical cross entropy \n",
    "  \"clipnorm\": 10.0,\n",
    "}\n",
    "game_config = CartPoleConfig()\n",
    "config = RainbowConfig(config_dict, game_config)\n",
    "agent = RainbowAgent(env, config, name=\"baseline\")\n",
    "\n",
    "for param in agent.model.parameters():\n",
    "  print(param)\n",
    "print(\"start\")\n",
    "agent.train()"
   ]
  },
  {
   "cell_type": "markdown",
   "metadata": {},
   "source": [
    "# Hyperparameter optimization of Rainbow on Cartpole-v1\n",
    "Training steps: 10,000 (5,000 for TesnorFlow)\n",
    "Evaluation: 10 episodes from random starts."
   ]
  },
  {
   "cell_type": "markdown",
   "metadata": {},
   "source": [
    "## Hyperopt with PyTorch and TensorFlow only hp.choice()"
   ]
  },
  {
   "cell_type": "code",
   "execution_count": null,
   "metadata": {},
   "outputs": [],
   "source": [
    "import pickle\n",
    "from hyperopt import hp\n",
    "from utils import CategoricalCrossentropy, KLDivergence, generate_layer_widths\n",
    "import gymnasium as gym \n",
    "\n",
    "width_combinations = generate_layer_widths([32, 64, 128, 256, 512, 1024], 5)\n",
    "\n",
    "search_space = {\n",
    "        \"kernel_initializer\": hp.choice(\n",
    "            \"kernel_initializer\",\n",
    "            [\n",
    "                \"he_uniform\",\n",
    "                \"he_normal\",\n",
    "                \"glorot_uniform\",\n",
    "                \"glorot_normal\",\n",
    "                \"orthogonal\",\n",
    "            ],\n",
    "        ),\n",
    "        \"learning_rate\": hp.choice(\n",
    "            \"learning_rate\", [10, 5, 2, 1, 0.1, 0.01, 0.001, 0.0001, 0.00001]\n",
    "        ),\n",
    "        \"adam_epsilon\": hp.choice(\n",
    "            \"adam_epsilon\", [0.3125, 0.03125, 0.003125, 0.0003125]\n",
    "        ),\n",
    "        \"loss_function\": hp.choice(\n",
    "            \"loss_function\", [CategoricalCrossentropy(), KLDivergence()]\n",
    "        ),\n",
    "        # NORMALIZATION?\n",
    "        \"transfer_interval\": hp.choice(\n",
    "            \"transfer_interval\", [10, 25, 50, 100, 200, 400, 800, 1600, 2000]\n",
    "        ),\n",
    "        \"replay_interval\": hp.choice(\"replay_interval\", [1, 2, 3, 4, 5, 8, 10, 12]),\n",
    "        \"minibatch_size\": hp.choice(\n",
    "            \"minibatch_size\", [2**i for i in range(4, 8)]\n",
    "        ),  ###########\n",
    "        \"replay_buffer_size\": hp.choice(\n",
    "            \"replay_buffer_size\",\n",
    "            [2000, 3000, 5000, 7500, 10000],\n",
    "        ),  #############\n",
    "        \"min_replay_buffer_size\": hp.choice(\n",
    "            \"min_replay_buffer_size\",\n",
    "            [125, 250, 375, 500, 625, 750, 875, 1000, 1500, 2000],\n",
    "        ),  # 125, 250, 375, 500, 625, 750, 875, 1000, 1500, 2000\n",
    "        \"n_step\": hp.choice(\"n_step\", [3, 4, 5, 8, 10]),\n",
    "        \"discount_factor\": hp.choice(\"discount_factor\", [0.9, 0.99, 0.995, 0.999]),\n",
    "        \"atom_size\": hp.choice(\"atom_size\", [51, 61, 71, 81]),  #\n",
    "        \"conv_layers\": hp.choice(\"conv_layers\", [[]]),\n",
    "        \"dense_layers_widths\": hp.choice(\"dense_layers_widths\", width_combinations),\n",
    "        \"advantage_hidden_layers_widths\": hp.choice(\n",
    "            \"advantage_hidden_layers_widths\", width_combinations\n",
    "        ),  #\n",
    "        \"value_hidden_layers_widths\": hp.choice(\n",
    "            \"value_hidden_layers_widths\", width_combinations\n",
    "        ),  #\n",
    "        \"training_steps\": hp.choice(\"training_steps\", [10000]),\n",
    "        \"per_epsilon\": hp.choice(\"per_epsilon\", [0.00001, 0.0001, 0.001, 0.01, 0.1]),\n",
    "        \"per_alpha\": hp.choice(\"per_alpha\", [0.05 * i for i in range(1, 21)]),\n",
    "        \"per_beta\": hp.choice(\"per_beta\", [0.05 * i for i in range(1, 21)]),\n",
    "        \"clipnorm\": hp.choice(\"clipnorm\", [None, 0.1, 0.5, 1.0, 2.0, 5.0, 10.0]),\n",
    "    }\n",
    "\n",
    "initial_best_config = [{}]\n",
    "\n",
    "\n",
    "pickle.dump(search_space, open(\"./search_spaces/torch_choice_search_search_space.pkl\", \"wb\"))\n",
    "pickle.dump(initial_best_config, open(\"./search_spaces/torch_choice_search_initial_best_config.pkl\", \"wb\"))\n",
    "\n",
    "%run ./hyperparameter_optimization.py ./search_spaces/torch_choice_search_search_space.pkl ./search_spaces/torch_choice_search_initial_best_config.pkl ClassicControl-v1_search_choice ."
   ]
  },
  {
   "cell_type": "code",
   "execution_count": null,
   "metadata": {},
   "outputs": [],
   "source": [
    "# Graphing the trials over time\n",
    "from utils import plot_trials\n",
    "import pickle\n",
    "%matplotlib inline\n",
    "\n",
    "data_dir = \"./torch_choice_trials\"\n",
    "trials = pickle.load(open(f'{data_dir}/CartPole-v1_trials.p', 'rb'))\n",
    "plot_trials(trials, \"Carpole-v1_torch_trials_over_time\")\n",
    "\n",
    "data_dir = \"./tensorflow_choice_trials\"\n",
    "trials = pickle.load(open(f'{data_dir}/CartPole-v1_trials.p', 'rb'))\n",
    "# print(trials.trials)\n",
    "plot_trials(trials, \"Carpole-v1_tensorflow_trials_over_time\")\n"
   ]
  },
  {
   "cell_type": "code",
   "execution_count": null,
   "metadata": {},
   "outputs": [],
   "source": [
    "from utils import hyperopt_analysis\n",
    "viable_trial_threshold = 15\n",
    "data_dir = \"./torch_choice_trials\"\n",
    "\n",
    "hyperopt_analysis(data_dir, 'CartPole-v1_trials.p', 15, 9999)\n",
    "\n",
    "\n",
    "data_dir = \"./tensorflow_choice_trials\"\n",
    "hyperopt_analysis(data_dir, 'CartPole-v1_trials.p', 15, 4999)"
   ]
  },
  {
   "cell_type": "markdown",
   "metadata": {},
   "source": [
    "## Hyperopt with Torch and hp.uniform, hp.loguniform, etc..."
   ]
  },
  {
   "cell_type": "code",
   "execution_count": 1,
   "metadata": {},
   "outputs": [
    {
     "name": "stdout",
     "output_type": "stream",
     "text": [
      "Found saved Trials! Loading...\n",
      "Rerunning from 45 trials to 109 (+64) trials\n",
      "Params:  {'adam_epsilon': 0.1128125, 'advantage_hidden_layers_widths': (256, 256, 1024), 'atom_size': 51, 'clipnorm': 0.4, 'conv_layers': (), 'dense_layers_widths': (32, 32, 512), 'discount_factor': 0.995, 'kernel_initializer': 'orthogonal', 'learning_rate': 0.40973000000000004, 'loss_function': <utils.utils.CategoricalCrossentropy object at 0x2843cf200>, 'min_replay_buffer_size': 1750, 'minibatch_size': 80, 'n_step': 4, 'per_alpha': 0.4, 'per_beta': 1.0, 'per_epsilon': 0.004560000000000001, 'replay_buffer_size': 4000, 'replay_interval': 6, 'training_steps': 10000, 'transfer_interval': 110, 'value_hidden_layers_widths': (1024, 1024)}\n",
      "Making environments\n",
      "CartPole-v1_quantized_search\n",
      "Using default save_intermediate_weights     : True\n",
      "Using         training_steps                : 10000\n",
      "Using         adam_epsilon                  : 0.1128125\n",
      "Using         learning_rate                 : 0.40973000000000004\n",
      "Using         clipnorm                      : 0.4\n",
      "Using default optimizer                     : <class 'torch.optim.adam.Adam'>\n",
      "Using         loss_function                 : <utils.utils.CategoricalCrossentropy object at 0x2843cf200>\n",
      "Using default activation                    : relu\n",
      "Using         kernel_initializer            : orthogonal\n",
      "Using         minibatch_size                : 80\n",
      "Using         replay_buffer_size            : 4000\n",
      "Using         min_replay_buffer_size        : 1750\n",
      "Using default num_minibatches               : 1\n",
      "Using default training_iterations           : 1\n",
      "Using         conv_layers                   : ()\n",
      "Using         dense_layers_widths           : (32, 32, 512)\n",
      "Using         value_hidden_layers_widths    : (1024, 1024)\n",
      "Using         advantage_hidden_layers_widths: (256, 256, 1024)\n",
      "Using default noisy_sigma                   : 0.5\n",
      "Using default deuling                       : True\n",
      "Using         discount_factor               : 0.995\n",
      "Using default soft_update                   : False\n",
      "Using         transfer_interval             : 110\n",
      "Using default ema_beta                      : 0.99\n",
      "Using         replay_interval               : 6\n",
      "Using         per_alpha                     : 0.4\n",
      "Using         per_beta                      : 1.0\n",
      "Using         per_epsilon                   : 0.004560000000000001\n",
      "Using         n_step                        : 4\n",
      "Using         atom_size                     : 51\n",
      "observation_dimensions:  (4,)\n",
      "num_actions:  2\n"
     ]
    },
    {
     "name": "stderr",
     "output_type": "stream",
     "text": [
      "/Library/Frameworks/Python.framework/Versions/3.12/lib/python3.12/site-packages/gymnasium/wrappers/record_video.py:94: UserWarning: \u001b[33mWARN: Overwriting existing videos at /Users/jonathanlamontange-kratz/Documents/GitHub/rl-stuff/experiments/rainbow_hyperopt folder (try specifying a different `video_folder` for the `RecordVideo` wrapper if this is not desired)\u001b[0m\n",
      "  logger.warn(\n"
     ]
    },
    {
     "name": "stdout",
     "output_type": "stream",
     "text": [
      "score:  9.0\n",
      "score:  11.0\n",
      "score:  11.0\n",
      "score:  10.0\n",
      "Moviepy - Building video checkpoints/CartPole-v1_quantized_search_46/step_333/videos/CartPole-v1_quantized_search_46/333/CartPole-v1_quantized_search_46-episode-4.mp4.\n",
      "Moviepy - Writing video checkpoints/CartPole-v1_quantized_search_46/step_333/videos/CartPole-v1_quantized_search_46/333/CartPole-v1_quantized_search_46-episode-4.mp4\n",
      "\n"
     ]
    },
    {
     "name": "stderr",
     "output_type": "stream",
     "text": [
      "                                                           "
     ]
    },
    {
     "name": "stdout",
     "output_type": "stream",
     "text": [
      "Moviepy - Done !\n",
      "Moviepy - video ready checkpoints/CartPole-v1_quantized_search_46/step_333/videos/CartPole-v1_quantized_search_46/333/CartPole-v1_quantized_search_46-episode-4.mp4\n",
      "score:  11.0\n"
     ]
    },
    {
     "name": "stderr",
     "output_type": "stream",
     "text": [
      "/Users/jonathanlamontange-kratz/Documents/GitHub/rl-stuff/packages/utils/utils/utils.py:257: UserWarning: No artists with labels found to put in legend.  Note that artists whose label start with an underscore are ignored when legend() is called with no argument.\n",
      "  axs[row][col].legend()\n",
      "/Users/jonathanlamontange-kratz/Documents/GitHub/rl-stuff/packages/utils/utils/utils.py:187: UserWarning: Attempting to set identical low and high xlims makes transformation singular; automatically expanding.\n",
      "  axs[row][col].set_xlim(1, len(values))\n"
     ]
    },
    {
     "name": "stdout",
     "output_type": "stream",
     "text": [
      "score:  13.0\n",
      "score:  14.0\n",
      "score:  12.0\n",
      "score:  12.0\n",
      "Moviepy - Building video checkpoints/CartPole-v1_quantized_search_46/step_666/videos/CartPole-v1_quantized_search_46/666/CartPole-v1_quantized_search_46-episode-9.mp4.\n",
      "Moviepy - Writing video checkpoints/CartPole-v1_quantized_search_46/step_666/videos/CartPole-v1_quantized_search_46/666/CartPole-v1_quantized_search_46-episode-9.mp4\n",
      "\n"
     ]
    },
    {
     "name": "stderr",
     "output_type": "stream",
     "text": [
      "/Users/jonathanlamontange-kratz/Documents/GitHub/rl-stuff/packages/utils/utils/utils.py:257: UserWarning: No artists with labels found to put in legend.  Note that artists whose label start with an underscore are ignored when legend() is called with no argument.\n",
      "  axs[row][col].legend()\n"
     ]
    },
    {
     "name": "stdout",
     "output_type": "stream",
     "text": [
      "Moviepy - Done !\n",
      "Moviepy - video ready checkpoints/CartPole-v1_quantized_search_46/step_666/videos/CartPole-v1_quantized_search_46/666/CartPole-v1_quantized_search_46-episode-9.mp4\n",
      "score:  15.0\n",
      "score:  11.0\n",
      "score:  11.0\n",
      "score:  11.0\n",
      "score:  10.0\n",
      "Moviepy - Building video checkpoints/CartPole-v1_quantized_search_46/step_999/videos/CartPole-v1_quantized_search_46/999/CartPole-v1_quantized_search_46-episode-14.mp4.\n",
      "Moviepy - Writing video checkpoints/CartPole-v1_quantized_search_46/step_999/videos/CartPole-v1_quantized_search_46/999/CartPole-v1_quantized_search_46-episode-14.mp4\n",
      "\n"
     ]
    },
    {
     "name": "stderr",
     "output_type": "stream",
     "text": [
      "/Users/jonathanlamontange-kratz/Documents/GitHub/rl-stuff/packages/utils/utils/utils.py:257: UserWarning: No artists with labels found to put in legend.  Note that artists whose label start with an underscore are ignored when legend() is called with no argument.\n",
      "  axs[row][col].legend()\n"
     ]
    },
    {
     "name": "stdout",
     "output_type": "stream",
     "text": [
      "Moviepy - Done !\n",
      "Moviepy - video ready checkpoints/CartPole-v1_quantized_search_46/step_999/videos/CartPole-v1_quantized_search_46/999/CartPole-v1_quantized_search_46-episode-14.mp4\n",
      "score:  10.0\n",
      "score:  13.0\n",
      "score:  12.0\n",
      "score:  14.0\n",
      "score:  11.0\n",
      "Moviepy - Building video checkpoints/CartPole-v1_quantized_search_46/step_1332/videos/CartPole-v1_quantized_search_46/1332/CartPole-v1_quantized_search_46-episode-19.mp4.\n",
      "Moviepy - Writing video checkpoints/CartPole-v1_quantized_search_46/step_1332/videos/CartPole-v1_quantized_search_46/1332/CartPole-v1_quantized_search_46-episode-19.mp4\n",
      "\n"
     ]
    },
    {
     "name": "stderr",
     "output_type": "stream",
     "text": [
      "/Users/jonathanlamontange-kratz/Documents/GitHub/rl-stuff/packages/utils/utils/utils.py:257: UserWarning: No artists with labels found to put in legend.  Note that artists whose label start with an underscore are ignored when legend() is called with no argument.\n",
      "  axs[row][col].legend()\n"
     ]
    },
    {
     "name": "stdout",
     "output_type": "stream",
     "text": [
      "Moviepy - Done !\n",
      "Moviepy - video ready checkpoints/CartPole-v1_quantized_search_46/step_1332/videos/CartPole-v1_quantized_search_46/1332/CartPole-v1_quantized_search_46-episode-19.mp4\n",
      "score:  12.0\n",
      "score:  91.0\n",
      "score:  103.0\n",
      "score:  95.0\n",
      "score:  95.0\n",
      "Moviepy - Building video checkpoints/CartPole-v1_quantized_search_46/step_1665/videos/CartPole-v1_quantized_search_46/1665/CartPole-v1_quantized_search_46-episode-24.mp4.\n",
      "Moviepy - Writing video checkpoints/CartPole-v1_quantized_search_46/step_1665/videos/CartPole-v1_quantized_search_46/1665/CartPole-v1_quantized_search_46-episode-24.mp4\n",
      "\n"
     ]
    },
    {
     "name": "stderr",
     "output_type": "stream",
     "text": [
      "/Users/jonathanlamontange-kratz/Documents/GitHub/rl-stuff/packages/utils/utils/utils.py:257: UserWarning: No artists with labels found to put in legend.  Note that artists whose label start with an underscore are ignored when legend() is called with no argument.\n",
      "  axs[row][col].legend()\n"
     ]
    },
    {
     "name": "stdout",
     "output_type": "stream",
     "text": [
      "Moviepy - Done !\n",
      "Moviepy - video ready checkpoints/CartPole-v1_quantized_search_46/step_1665/videos/CartPole-v1_quantized_search_46/1665/CartPole-v1_quantized_search_46-episode-24.mp4\n",
      "score:  103.0\n",
      "score:  106.0\n",
      "score:  105.0\n",
      "score:  111.0\n",
      "score:  109.0\n",
      "Moviepy - Building video checkpoints/CartPole-v1_quantized_search_46/step_1998/videos/CartPole-v1_quantized_search_46/1998/CartPole-v1_quantized_search_46-episode-29.mp4.\n",
      "Moviepy - Writing video checkpoints/CartPole-v1_quantized_search_46/step_1998/videos/CartPole-v1_quantized_search_46/1998/CartPole-v1_quantized_search_46-episode-29.mp4\n",
      "\n"
     ]
    },
    {
     "name": "stderr",
     "output_type": "stream",
     "text": [
      "/Users/jonathanlamontange-kratz/Documents/GitHub/rl-stuff/packages/utils/utils/utils.py:257: UserWarning: No artists with labels found to put in legend.  Note that artists whose label start with an underscore are ignored when legend() is called with no argument.\n",
      "  axs[row][col].legend()\n"
     ]
    },
    {
     "name": "stdout",
     "output_type": "stream",
     "text": [
      "Moviepy - Done !\n",
      "Moviepy - video ready checkpoints/CartPole-v1_quantized_search_46/step_1998/videos/CartPole-v1_quantized_search_46/1998/CartPole-v1_quantized_search_46-episode-29.mp4\n",
      "score:  109.0\n",
      "score:  130.0\n",
      "score:  138.0\n",
      "score:  145.0\n",
      "score:  138.0\n",
      "Moviepy - Building video checkpoints/CartPole-v1_quantized_search_46/step_2331/videos/CartPole-v1_quantized_search_46/2331/CartPole-v1_quantized_search_46-episode-34.mp4.\n",
      "Moviepy - Writing video checkpoints/CartPole-v1_quantized_search_46/step_2331/videos/CartPole-v1_quantized_search_46/2331/CartPole-v1_quantized_search_46-episode-34.mp4\n",
      "\n"
     ]
    },
    {
     "name": "stderr",
     "output_type": "stream",
     "text": [
      "/Users/jonathanlamontange-kratz/Documents/GitHub/rl-stuff/packages/utils/utils/utils.py:257: UserWarning: No artists with labels found to put in legend.  Note that artists whose label start with an underscore are ignored when legend() is called with no argument.\n",
      "  axs[row][col].legend()\n"
     ]
    },
    {
     "name": "stdout",
     "output_type": "stream",
     "text": [
      "Moviepy - Done !\n",
      "Moviepy - video ready checkpoints/CartPole-v1_quantized_search_46/step_2331/videos/CartPole-v1_quantized_search_46/2331/CartPole-v1_quantized_search_46-episode-34.mp4\n",
      "score:  132.0\n",
      "score:  17.0\n",
      "score:  19.0\n",
      "score:  19.0\n",
      "score:  21.0\n",
      "Moviepy - Building video checkpoints/CartPole-v1_quantized_search_46/step_2664/videos/CartPole-v1_quantized_search_46/2664/CartPole-v1_quantized_search_46-episode-39.mp4.\n",
      "Moviepy - Writing video checkpoints/CartPole-v1_quantized_search_46/step_2664/videos/CartPole-v1_quantized_search_46/2664/CartPole-v1_quantized_search_46-episode-39.mp4\n",
      "\n"
     ]
    },
    {
     "name": "stderr",
     "output_type": "stream",
     "text": [
      "/Users/jonathanlamontange-kratz/Documents/GitHub/rl-stuff/packages/utils/utils/utils.py:257: UserWarning: No artists with labels found to put in legend.  Note that artists whose label start with an underscore are ignored when legend() is called with no argument.\n",
      "  axs[row][col].legend()\n"
     ]
    },
    {
     "name": "stdout",
     "output_type": "stream",
     "text": [
      "Moviepy - Done !\n",
      "Moviepy - video ready checkpoints/CartPole-v1_quantized_search_46/step_2664/videos/CartPole-v1_quantized_search_46/2664/CartPole-v1_quantized_search_46-episode-39.mp4\n",
      "score:  19.0\n",
      "score:  96.0\n",
      "score:  92.0\n",
      "score:  95.0\n",
      "score:  96.0\n",
      "Moviepy - Building video checkpoints/CartPole-v1_quantized_search_46/step_2997/videos/CartPole-v1_quantized_search_46/2997/CartPole-v1_quantized_search_46-episode-44.mp4.\n",
      "Moviepy - Writing video checkpoints/CartPole-v1_quantized_search_46/step_2997/videos/CartPole-v1_quantized_search_46/2997/CartPole-v1_quantized_search_46-episode-44.mp4\n",
      "\n"
     ]
    },
    {
     "name": "stderr",
     "output_type": "stream",
     "text": [
      "/Users/jonathanlamontange-kratz/Documents/GitHub/rl-stuff/packages/utils/utils/utils.py:257: UserWarning: No artists with labels found to put in legend.  Note that artists whose label start with an underscore are ignored when legend() is called with no argument.\n",
      "  axs[row][col].legend()\n"
     ]
    },
    {
     "name": "stdout",
     "output_type": "stream",
     "text": [
      "Moviepy - Done !\n",
      "Moviepy - video ready checkpoints/CartPole-v1_quantized_search_46/step_2997/videos/CartPole-v1_quantized_search_46/2997/CartPole-v1_quantized_search_46-episode-44.mp4\n",
      "score:  92.0\n",
      "score:  112.0\n",
      "score:  109.0\n",
      "score:  116.0\n",
      "score:  114.0\n",
      "Moviepy - Building video checkpoints/CartPole-v1_quantized_search_46/step_3330/videos/CartPole-v1_quantized_search_46/3330/CartPole-v1_quantized_search_46-episode-49.mp4.\n",
      "Moviepy - Writing video checkpoints/CartPole-v1_quantized_search_46/step_3330/videos/CartPole-v1_quantized_search_46/3330/CartPole-v1_quantized_search_46-episode-49.mp4\n",
      "\n"
     ]
    },
    {
     "name": "stderr",
     "output_type": "stream",
     "text": [
      "                                                              \r"
     ]
    },
    {
     "name": "stdout",
     "output_type": "stream",
     "text": [
      "Moviepy - Done !\n",
      "Moviepy - video ready checkpoints/CartPole-v1_quantized_search_46/step_3330/videos/CartPole-v1_quantized_search_46/3330/CartPole-v1_quantized_search_46-episode-49.mp4\n",
      "score:  109.0\n"
     ]
    },
    {
     "name": "stderr",
     "output_type": "stream",
     "text": [
      "/Users/jonathanlamontange-kratz/Documents/GitHub/rl-stuff/packages/utils/utils/utils.py:257: UserWarning: No artists with labels found to put in legend.  Note that artists whose label start with an underscore are ignored when legend() is called with no argument.\n",
      "  axs[row][col].legend()\n"
     ]
    },
    {
     "name": "stdout",
     "output_type": "stream",
     "text": [
      "score:  103.0\n",
      "score:  98.0\n",
      "score:  96.0\n",
      "score:  98.0\n",
      "Moviepy - Building video checkpoints/CartPole-v1_quantized_search_46/step_3663/videos/CartPole-v1_quantized_search_46/3663/CartPole-v1_quantized_search_46-episode-54.mp4.\n",
      "Moviepy - Writing video checkpoints/CartPole-v1_quantized_search_46/step_3663/videos/CartPole-v1_quantized_search_46/3663/CartPole-v1_quantized_search_46-episode-54.mp4\n",
      "\n"
     ]
    },
    {
     "name": "stderr",
     "output_type": "stream",
     "text": [
      "/Users/jonathanlamontange-kratz/Documents/GitHub/rl-stuff/packages/utils/utils/utils.py:257: UserWarning: No artists with labels found to put in legend.  Note that artists whose label start with an underscore are ignored when legend() is called with no argument.\n",
      "  axs[row][col].legend()\n"
     ]
    },
    {
     "name": "stdout",
     "output_type": "stream",
     "text": [
      "Moviepy - Done !\n",
      "Moviepy - video ready checkpoints/CartPole-v1_quantized_search_46/step_3663/videos/CartPole-v1_quantized_search_46/3663/CartPole-v1_quantized_search_46-episode-54.mp4\n",
      "score:  98.0\n",
      "score:  245.0\n",
      "score:  228.0\n",
      "score:  246.0\n",
      "score:  254.0\n",
      "Moviepy - Building video checkpoints/CartPole-v1_quantized_search_46/step_3996/videos/CartPole-v1_quantized_search_46/3996/CartPole-v1_quantized_search_46-episode-59.mp4.\n",
      "Moviepy - Writing video checkpoints/CartPole-v1_quantized_search_46/step_3996/videos/CartPole-v1_quantized_search_46/3996/CartPole-v1_quantized_search_46-episode-59.mp4\n",
      "\n"
     ]
    },
    {
     "name": "stderr",
     "output_type": "stream",
     "text": [
      "/Users/jonathanlamontange-kratz/Documents/GitHub/rl-stuff/packages/utils/utils/utils.py:257: UserWarning: No artists with labels found to put in legend.  Note that artists whose label start with an underscore are ignored when legend() is called with no argument.\n",
      "  axs[row][col].legend()\n"
     ]
    },
    {
     "name": "stdout",
     "output_type": "stream",
     "text": [
      "Moviepy - Done !\n",
      "Moviepy - video ready checkpoints/CartPole-v1_quantized_search_46/step_3996/videos/CartPole-v1_quantized_search_46/3996/CartPole-v1_quantized_search_46-episode-59.mp4\n",
      "score:  246.0\n",
      "score:  99.0\n",
      "score:  101.0\n",
      "score:  106.0\n",
      "score:  106.0\n",
      "Moviepy - Building video checkpoints/CartPole-v1_quantized_search_46/step_4329/videos/CartPole-v1_quantized_search_46/4329/CartPole-v1_quantized_search_46-episode-64.mp4.\n",
      "Moviepy - Writing video checkpoints/CartPole-v1_quantized_search_46/step_4329/videos/CartPole-v1_quantized_search_46/4329/CartPole-v1_quantized_search_46-episode-64.mp4\n",
      "\n"
     ]
    },
    {
     "name": "stderr",
     "output_type": "stream",
     "text": [
      "/Users/jonathanlamontange-kratz/Documents/GitHub/rl-stuff/packages/utils/utils/utils.py:257: UserWarning: No artists with labels found to put in legend.  Note that artists whose label start with an underscore are ignored when legend() is called with no argument.\n",
      "  axs[row][col].legend()\n"
     ]
    },
    {
     "name": "stdout",
     "output_type": "stream",
     "text": [
      "Moviepy - Done !\n",
      "Moviepy - video ready checkpoints/CartPole-v1_quantized_search_46/step_4329/videos/CartPole-v1_quantized_search_46/4329/CartPole-v1_quantized_search_46-episode-64.mp4\n",
      "score:  106.0\n",
      "score:  14.0\n",
      "score:  18.0\n",
      "score:  16.0\n",
      "score:  15.0\n",
      "Moviepy - Building video checkpoints/CartPole-v1_quantized_search_46/step_4662/videos/CartPole-v1_quantized_search_46/4662/CartPole-v1_quantized_search_46-episode-69.mp4.\n",
      "Moviepy - Writing video checkpoints/CartPole-v1_quantized_search_46/step_4662/videos/CartPole-v1_quantized_search_46/4662/CartPole-v1_quantized_search_46-episode-69.mp4\n",
      "\n"
     ]
    },
    {
     "name": "stderr",
     "output_type": "stream",
     "text": [
      "/Users/jonathanlamontange-kratz/Documents/GitHub/rl-stuff/packages/utils/utils/utils.py:257: UserWarning: No artists with labels found to put in legend.  Note that artists whose label start with an underscore are ignored when legend() is called with no argument.\n",
      "  axs[row][col].legend()\n"
     ]
    },
    {
     "name": "stdout",
     "output_type": "stream",
     "text": [
      "Moviepy - Done !\n",
      "Moviepy - video ready checkpoints/CartPole-v1_quantized_search_46/step_4662/videos/CartPole-v1_quantized_search_46/4662/CartPole-v1_quantized_search_46-episode-69.mp4\n",
      "score:  16.0\n",
      "score:  205.0\n",
      "score:  205.0\n",
      "score:  205.0\n",
      "score:  405.0\n",
      "Moviepy - Building video checkpoints/CartPole-v1_quantized_search_46/step_4995/videos/CartPole-v1_quantized_search_46/4995/CartPole-v1_quantized_search_46-episode-74.mp4.\n",
      "Moviepy - Writing video checkpoints/CartPole-v1_quantized_search_46/step_4995/videos/CartPole-v1_quantized_search_46/4995/CartPole-v1_quantized_search_46-episode-74.mp4\n",
      "\n"
     ]
    },
    {
     "name": "stderr",
     "output_type": "stream",
     "text": [
      "/Users/jonathanlamontange-kratz/Documents/GitHub/rl-stuff/packages/utils/utils/utils.py:257: UserWarning: No artists with labels found to put in legend.  Note that artists whose label start with an underscore are ignored when legend() is called with no argument.\n",
      "  axs[row][col].legend()\n"
     ]
    },
    {
     "name": "stdout",
     "output_type": "stream",
     "text": [
      "Moviepy - Done !\n",
      "Moviepy - video ready checkpoints/CartPole-v1_quantized_search_46/step_4995/videos/CartPole-v1_quantized_search_46/4995/CartPole-v1_quantized_search_46-episode-74.mp4\n",
      "score:  201.0\n",
      "score:  11.0\n",
      "score:  16.0\n",
      "score:  13.0\n",
      "score:  11.0\n",
      "Moviepy - Building video checkpoints/CartPole-v1_quantized_search_46/step_5328/videos/CartPole-v1_quantized_search_46/5328/CartPole-v1_quantized_search_46-episode-79.mp4.\n",
      "Moviepy - Writing video checkpoints/CartPole-v1_quantized_search_46/step_5328/videos/CartPole-v1_quantized_search_46/5328/CartPole-v1_quantized_search_46-episode-79.mp4\n",
      "\n"
     ]
    },
    {
     "name": "stderr",
     "output_type": "stream",
     "text": [
      "/Users/jonathanlamontange-kratz/Documents/GitHub/rl-stuff/packages/utils/utils/utils.py:257: UserWarning: No artists with labels found to put in legend.  Note that artists whose label start with an underscore are ignored when legend() is called with no argument.\n",
      "  axs[row][col].legend()\n"
     ]
    },
    {
     "name": "stdout",
     "output_type": "stream",
     "text": [
      "Moviepy - Done !\n",
      "Moviepy - video ready checkpoints/CartPole-v1_quantized_search_46/step_5328/videos/CartPole-v1_quantized_search_46/5328/CartPole-v1_quantized_search_46-episode-79.mp4\n",
      "score:  10.0\n",
      "score:  84.0\n",
      "score:  73.0\n",
      "score:  70.0\n",
      "score:  75.0\n",
      "Moviepy - Building video checkpoints/CartPole-v1_quantized_search_46/step_5661/videos/CartPole-v1_quantized_search_46/5661/CartPole-v1_quantized_search_46-episode-84.mp4.\n",
      "Moviepy - Writing video checkpoints/CartPole-v1_quantized_search_46/step_5661/videos/CartPole-v1_quantized_search_46/5661/CartPole-v1_quantized_search_46-episode-84.mp4\n",
      "\n"
     ]
    },
    {
     "name": "stderr",
     "output_type": "stream",
     "text": [
      "                                                           \r"
     ]
    },
    {
     "name": "stdout",
     "output_type": "stream",
     "text": [
      "Moviepy - Done !\n",
      "Moviepy - video ready checkpoints/CartPole-v1_quantized_search_46/step_5661/videos/CartPole-v1_quantized_search_46/5661/CartPole-v1_quantized_search_46-episode-84.mp4\n",
      "score:  77.0\n"
     ]
    },
    {
     "name": "stderr",
     "output_type": "stream",
     "text": [
      "/Users/jonathanlamontange-kratz/Documents/GitHub/rl-stuff/packages/utils/utils/utils.py:257: UserWarning: No artists with labels found to put in legend.  Note that artists whose label start with an underscore are ignored when legend() is called with no argument.\n",
      "  axs[row][col].legend()\n"
     ]
    },
    {
     "name": "stdout",
     "output_type": "stream",
     "text": [
      "score:  327.0\n",
      "score:  328.0\n",
      "score:  311.0\n",
      "score:  321.0\n",
      "Moviepy - Building video checkpoints/CartPole-v1_quantized_search_46/step_5994/videos/CartPole-v1_quantized_search_46/5994/CartPole-v1_quantized_search_46-episode-89.mp4.\n",
      "Moviepy - Writing video checkpoints/CartPole-v1_quantized_search_46/step_5994/videos/CartPole-v1_quantized_search_46/5994/CartPole-v1_quantized_search_46-episode-89.mp4\n",
      "\n"
     ]
    },
    {
     "name": "stderr",
     "output_type": "stream",
     "text": [
      "/Users/jonathanlamontange-kratz/Documents/GitHub/rl-stuff/packages/utils/utils/utils.py:257: UserWarning: No artists with labels found to put in legend.  Note that artists whose label start with an underscore are ignored when legend() is called with no argument.\n",
      "  axs[row][col].legend()\n"
     ]
    },
    {
     "name": "stdout",
     "output_type": "stream",
     "text": [
      "Moviepy - Done !\n",
      "Moviepy - video ready checkpoints/CartPole-v1_quantized_search_46/step_5994/videos/CartPole-v1_quantized_search_46/5994/CartPole-v1_quantized_search_46-episode-89.mp4\n",
      "score:  289.0\n",
      "score:  174.0\n",
      "score:  178.0\n",
      "score:  180.0\n",
      "score:  169.0\n",
      "Moviepy - Building video checkpoints/CartPole-v1_quantized_search_46/step_6327/videos/CartPole-v1_quantized_search_46/6327/CartPole-v1_quantized_search_46-episode-94.mp4.\n",
      "Moviepy - Writing video checkpoints/CartPole-v1_quantized_search_46/step_6327/videos/CartPole-v1_quantized_search_46/6327/CartPole-v1_quantized_search_46-episode-94.mp4\n",
      "\n"
     ]
    },
    {
     "name": "stderr",
     "output_type": "stream",
     "text": [
      "/Users/jonathanlamontange-kratz/Documents/GitHub/rl-stuff/packages/utils/utils/utils.py:257: UserWarning: No artists with labels found to put in legend.  Note that artists whose label start with an underscore are ignored when legend() is called with no argument.\n",
      "  axs[row][col].legend()\n"
     ]
    },
    {
     "name": "stdout",
     "output_type": "stream",
     "text": [
      "Moviepy - Done !\n",
      "Moviepy - video ready checkpoints/CartPole-v1_quantized_search_46/step_6327/videos/CartPole-v1_quantized_search_46/6327/CartPole-v1_quantized_search_46-episode-94.mp4\n",
      "score:  178.0\n",
      "score:  500.0\n",
      "score:  345.0\n",
      "score:  500.0\n",
      "score:  500.0\n",
      "Moviepy - Building video checkpoints/CartPole-v1_quantized_search_46/step_6660/videos/CartPole-v1_quantized_search_46/6660/CartPole-v1_quantized_search_46-episode-99.mp4.\n",
      "Moviepy - Writing video checkpoints/CartPole-v1_quantized_search_46/step_6660/videos/CartPole-v1_quantized_search_46/6660/CartPole-v1_quantized_search_46-episode-99.mp4\n",
      "\n"
     ]
    },
    {
     "name": "stderr",
     "output_type": "stream",
     "text": [
      "/Users/jonathanlamontange-kratz/Documents/GitHub/rl-stuff/packages/utils/utils/utils.py:257: UserWarning: No artists with labels found to put in legend.  Note that artists whose label start with an underscore are ignored when legend() is called with no argument.\n",
      "  axs[row][col].legend()\n"
     ]
    },
    {
     "name": "stdout",
     "output_type": "stream",
     "text": [
      "Moviepy - Done !\n",
      "Moviepy - video ready checkpoints/CartPole-v1_quantized_search_46/step_6660/videos/CartPole-v1_quantized_search_46/6660/CartPole-v1_quantized_search_46-episode-99.mp4\n",
      "score:  500.0\n",
      "score:  14.0\n",
      "score:  15.0\n",
      "score:  119.0\n",
      "score:  115.0\n",
      "Moviepy - Building video checkpoints/CartPole-v1_quantized_search_46/step_6993/videos/CartPole-v1_quantized_search_46/6993/CartPole-v1_quantized_search_46-episode-104.mp4.\n",
      "Moviepy - Writing video checkpoints/CartPole-v1_quantized_search_46/step_6993/videos/CartPole-v1_quantized_search_46/6993/CartPole-v1_quantized_search_46-episode-104.mp4\n",
      "\n"
     ]
    },
    {
     "name": "stderr",
     "output_type": "stream",
     "text": [
      "/Users/jonathanlamontange-kratz/Documents/GitHub/rl-stuff/packages/utils/utils/utils.py:257: UserWarning: No artists with labels found to put in legend.  Note that artists whose label start with an underscore are ignored when legend() is called with no argument.\n",
      "  axs[row][col].legend()\n"
     ]
    },
    {
     "name": "stdout",
     "output_type": "stream",
     "text": [
      "Moviepy - Done !\n",
      "Moviepy - video ready checkpoints/CartPole-v1_quantized_search_46/step_6993/videos/CartPole-v1_quantized_search_46/6993/CartPole-v1_quantized_search_46-episode-104.mp4\n",
      "score:  119.0\n",
      "score:  42.0\n",
      "score:  47.0\n",
      "score:  54.0\n",
      "score:  45.0\n",
      "Moviepy - Building video checkpoints/CartPole-v1_quantized_search_46/step_7326/videos/CartPole-v1_quantized_search_46/7326/CartPole-v1_quantized_search_46-episode-109.mp4.\n",
      "Moviepy - Writing video checkpoints/CartPole-v1_quantized_search_46/step_7326/videos/CartPole-v1_quantized_search_46/7326/CartPole-v1_quantized_search_46-episode-109.mp4\n",
      "\n"
     ]
    },
    {
     "name": "stderr",
     "output_type": "stream",
     "text": [
      "/Users/jonathanlamontange-kratz/Documents/GitHub/rl-stuff/packages/utils/utils/utils.py:257: UserWarning: No artists with labels found to put in legend.  Note that artists whose label start with an underscore are ignored when legend() is called with no argument.\n",
      "  axs[row][col].legend()\n"
     ]
    },
    {
     "name": "stdout",
     "output_type": "stream",
     "text": [
      "Moviepy - Done !\n",
      "Moviepy - video ready checkpoints/CartPole-v1_quantized_search_46/step_7326/videos/CartPole-v1_quantized_search_46/7326/CartPole-v1_quantized_search_46-episode-109.mp4\n",
      "score:  47.0\n",
      "score:  500.0\n",
      "score:  500.0\n",
      "score:  500.0\n",
      "score:  500.0\n",
      "Moviepy - Building video checkpoints/CartPole-v1_quantized_search_46/step_7659/videos/CartPole-v1_quantized_search_46/7659/CartPole-v1_quantized_search_46-episode-114.mp4.\n",
      "Moviepy - Writing video checkpoints/CartPole-v1_quantized_search_46/step_7659/videos/CartPole-v1_quantized_search_46/7659/CartPole-v1_quantized_search_46-episode-114.mp4\n",
      "\n"
     ]
    },
    {
     "name": "stderr",
     "output_type": "stream",
     "text": [
      "/Users/jonathanlamontange-kratz/Documents/GitHub/rl-stuff/packages/utils/utils/utils.py:257: UserWarning: No artists with labels found to put in legend.  Note that artists whose label start with an underscore are ignored when legend() is called with no argument.\n",
      "  axs[row][col].legend()\n"
     ]
    },
    {
     "name": "stdout",
     "output_type": "stream",
     "text": [
      "Moviepy - Done !\n",
      "Moviepy - video ready checkpoints/CartPole-v1_quantized_search_46/step_7659/videos/CartPole-v1_quantized_search_46/7659/CartPole-v1_quantized_search_46-episode-114.mp4\n",
      "score:  500.0\n",
      "score:  114.0\n",
      "score:  109.0\n",
      "score:  108.0\n",
      "score:  116.0\n",
      "Moviepy - Building video checkpoints/CartPole-v1_quantized_search_46/step_7992/videos/CartPole-v1_quantized_search_46/7992/CartPole-v1_quantized_search_46-episode-119.mp4.\n",
      "Moviepy - Writing video checkpoints/CartPole-v1_quantized_search_46/step_7992/videos/CartPole-v1_quantized_search_46/7992/CartPole-v1_quantized_search_46-episode-119.mp4\n",
      "\n"
     ]
    },
    {
     "name": "stderr",
     "output_type": "stream",
     "text": [
      "/Users/jonathanlamontange-kratz/Documents/GitHub/rl-stuff/packages/utils/utils/utils.py:257: UserWarning: No artists with labels found to put in legend.  Note that artists whose label start with an underscore are ignored when legend() is called with no argument.\n",
      "  axs[row][col].legend()\n"
     ]
    },
    {
     "name": "stdout",
     "output_type": "stream",
     "text": [
      "Moviepy - Done !\n",
      "Moviepy - video ready checkpoints/CartPole-v1_quantized_search_46/step_7992/videos/CartPole-v1_quantized_search_46/7992/CartPole-v1_quantized_search_46-episode-119.mp4\n",
      "score:  112.0\n",
      "score:  96.0\n",
      "score:  96.0\n",
      "score:  90.0\n",
      "score:  89.0\n",
      "Moviepy - Building video checkpoints/CartPole-v1_quantized_search_46/step_8325/videos/CartPole-v1_quantized_search_46/8325/CartPole-v1_quantized_search_46-episode-124.mp4.\n",
      "Moviepy - Writing video checkpoints/CartPole-v1_quantized_search_46/step_8325/videos/CartPole-v1_quantized_search_46/8325/CartPole-v1_quantized_search_46-episode-124.mp4\n",
      "\n"
     ]
    },
    {
     "name": "stderr",
     "output_type": "stream",
     "text": [
      "/Users/jonathanlamontange-kratz/Documents/GitHub/rl-stuff/packages/utils/utils/utils.py:257: UserWarning: No artists with labels found to put in legend.  Note that artists whose label start with an underscore are ignored when legend() is called with no argument.\n",
      "  axs[row][col].legend()\n"
     ]
    },
    {
     "name": "stdout",
     "output_type": "stream",
     "text": [
      "Moviepy - Done !\n",
      "Moviepy - video ready checkpoints/CartPole-v1_quantized_search_46/step_8325/videos/CartPole-v1_quantized_search_46/8325/CartPole-v1_quantized_search_46-episode-124.mp4\n",
      "score:  95.0\n",
      "score:  495.0\n",
      "score:  496.0\n",
      "score:  500.0\n",
      "score:  487.0\n",
      "Moviepy - Building video checkpoints/CartPole-v1_quantized_search_46/step_8658/videos/CartPole-v1_quantized_search_46/8658/CartPole-v1_quantized_search_46-episode-129.mp4.\n",
      "Moviepy - Writing video checkpoints/CartPole-v1_quantized_search_46/step_8658/videos/CartPole-v1_quantized_search_46/8658/CartPole-v1_quantized_search_46-episode-129.mp4\n",
      "\n"
     ]
    },
    {
     "name": "stderr",
     "output_type": "stream",
     "text": [
      "/Users/jonathanlamontange-kratz/Documents/GitHub/rl-stuff/packages/utils/utils/utils.py:257: UserWarning: No artists with labels found to put in legend.  Note that artists whose label start with an underscore are ignored when legend() is called with no argument.\n",
      "  axs[row][col].legend()\n"
     ]
    },
    {
     "name": "stdout",
     "output_type": "stream",
     "text": [
      "Moviepy - Done !\n",
      "Moviepy - video ready checkpoints/CartPole-v1_quantized_search_46/step_8658/videos/CartPole-v1_quantized_search_46/8658/CartPole-v1_quantized_search_46-episode-129.mp4\n",
      "score:  500.0\n",
      "score:  96.0\n",
      "score:  97.0\n",
      "score:  90.0\n",
      "score:  96.0\n",
      "Moviepy - Building video checkpoints/CartPole-v1_quantized_search_46/step_8991/videos/CartPole-v1_quantized_search_46/8991/CartPole-v1_quantized_search_46-episode-134.mp4.\n",
      "Moviepy - Writing video checkpoints/CartPole-v1_quantized_search_46/step_8991/videos/CartPole-v1_quantized_search_46/8991/CartPole-v1_quantized_search_46-episode-134.mp4\n",
      "\n"
     ]
    },
    {
     "name": "stderr",
     "output_type": "stream",
     "text": [
      "                                                             \r"
     ]
    },
    {
     "name": "stdout",
     "output_type": "stream",
     "text": [
      "Moviepy - Done !\n",
      "Moviepy - video ready checkpoints/CartPole-v1_quantized_search_46/step_8991/videos/CartPole-v1_quantized_search_46/8991/CartPole-v1_quantized_search_46-episode-134.mp4\n",
      "score:  97.0\n"
     ]
    },
    {
     "name": "stderr",
     "output_type": "stream",
     "text": [
      "/Users/jonathanlamontange-kratz/Documents/GitHub/rl-stuff/packages/utils/utils/utils.py:257: UserWarning: No artists with labels found to put in legend.  Note that artists whose label start with an underscore are ignored when legend() is called with no argument.\n",
      "  axs[row][col].legend()\n"
     ]
    },
    {
     "name": "stdout",
     "output_type": "stream",
     "text": [
      "score:  209.0\n",
      "score:  235.0\n",
      "score:  214.0\n",
      "score:  222.0\n",
      "Moviepy - Building video checkpoints/CartPole-v1_quantized_search_46/step_9324/videos/CartPole-v1_quantized_search_46/9324/CartPole-v1_quantized_search_46-episode-139.mp4.\n",
      "Moviepy - Writing video checkpoints/CartPole-v1_quantized_search_46/step_9324/videos/CartPole-v1_quantized_search_46/9324/CartPole-v1_quantized_search_46-episode-139.mp4\n",
      "\n"
     ]
    },
    {
     "name": "stderr",
     "output_type": "stream",
     "text": [
      "/Users/jonathanlamontange-kratz/Documents/GitHub/rl-stuff/packages/utils/utils/utils.py:257: UserWarning: No artists with labels found to put in legend.  Note that artists whose label start with an underscore are ignored when legend() is called with no argument.\n",
      "  axs[row][col].legend()\n"
     ]
    },
    {
     "name": "stdout",
     "output_type": "stream",
     "text": [
      "Moviepy - Done !\n",
      "Moviepy - video ready checkpoints/CartPole-v1_quantized_search_46/step_9324/videos/CartPole-v1_quantized_search_46/9324/CartPole-v1_quantized_search_46-episode-139.mp4\n",
      "score:  248.0\n",
      "score:  193.0\n",
      "score:  195.0\n",
      "score:  207.0\n",
      "score:  195.0\n",
      "Moviepy - Building video checkpoints/CartPole-v1_quantized_search_46/step_9657/videos/CartPole-v1_quantized_search_46/9657/CartPole-v1_quantized_search_46-episode-144.mp4.\n",
      "Moviepy - Writing video checkpoints/CartPole-v1_quantized_search_46/step_9657/videos/CartPole-v1_quantized_search_46/9657/CartPole-v1_quantized_search_46-episode-144.mp4\n",
      "\n"
     ]
    },
    {
     "name": "stderr",
     "output_type": "stream",
     "text": [
      "/Users/jonathanlamontange-kratz/Documents/GitHub/rl-stuff/packages/utils/utils/utils.py:257: UserWarning: No artists with labels found to put in legend.  Note that artists whose label start with an underscore are ignored when legend() is called with no argument.\n",
      "  axs[row][col].legend()\n"
     ]
    },
    {
     "name": "stdout",
     "output_type": "stream",
     "text": [
      "Moviepy - Done !\n",
      "Moviepy - video ready checkpoints/CartPole-v1_quantized_search_46/step_9657/videos/CartPole-v1_quantized_search_46/9657/CartPole-v1_quantized_search_46-episode-144.mp4\n",
      "score:  189.0\n",
      "score:  134.0\n",
      "score:  138.0\n",
      "score:  139.0\n",
      "score:  136.0\n",
      "Moviepy - Building video checkpoints/CartPole-v1_quantized_search_46/step_9990/videos/CartPole-v1_quantized_search_46/9990/CartPole-v1_quantized_search_46-episode-149.mp4.\n",
      "Moviepy - Writing video checkpoints/CartPole-v1_quantized_search_46/step_9990/videos/CartPole-v1_quantized_search_46/9990/CartPole-v1_quantized_search_46-episode-149.mp4\n",
      "\n"
     ]
    },
    {
     "name": "stderr",
     "output_type": "stream",
     "text": [
      "/Users/jonathanlamontange-kratz/Documents/GitHub/rl-stuff/packages/utils/utils/utils.py:257: UserWarning: No artists with labels found to put in legend.  Note that artists whose label start with an underscore are ignored when legend() is called with no argument.\n",
      "  axs[row][col].legend()\n"
     ]
    },
    {
     "name": "stdout",
     "output_type": "stream",
     "text": [
      "Moviepy - Done !\n",
      "Moviepy - video ready checkpoints/CartPole-v1_quantized_search_46/step_9990/videos/CartPole-v1_quantized_search_46/9990/CartPole-v1_quantized_search_46-episode-149.mp4\n",
      "score:  138.0\n",
      "score:  132.0\n",
      "score:  126.0\n",
      "score:  123.0\n",
      "score:  130.0\n",
      "Moviepy - Building video checkpoints/CartPole-v1_quantized_search_46/step_9999/videos/CartPole-v1_quantized_search_46/9999/CartPole-v1_quantized_search_46-episode-154.mp4.\n",
      "Moviepy - Writing video checkpoints/CartPole-v1_quantized_search_46/step_9999/videos/CartPole-v1_quantized_search_46/9999/CartPole-v1_quantized_search_46-episode-154.mp4\n",
      "\n"
     ]
    },
    {
     "name": "stderr",
     "output_type": "stream",
     "text": [
      "/Users/jonathanlamontange-kratz/Documents/GitHub/rl-stuff/packages/utils/utils/utils.py:257: UserWarning: No artists with labels found to put in legend.  Note that artists whose label start with an underscore are ignored when legend() is called with no argument.\n",
      "  axs[row][col].legend()\n"
     ]
    },
    {
     "name": "stdout",
     "output_type": "stream",
     "text": [
      "Moviepy - Done !\n",
      "Moviepy - video ready checkpoints/CartPole-v1_quantized_search_46/step_9999/videos/CartPole-v1_quantized_search_46/9999/CartPole-v1_quantized_search_46-episode-154.mp4\n",
      "score:  131.0\n",
      "Training complete\n",
      "score:  128.0\n",
      "score:  124.0\n",
      "score:  132.0\n",
      "score:  124.0\n",
      "Moviepy - Building video ./checkpoints//videos/CartPole-v1_quantized_search_46/5000/CartPole-v1_quantized_search_46-episode-159.mp4.\n",
      "Moviepy - Writing video ./checkpoints//videos/CartPole-v1_quantized_search_46/5000/CartPole-v1_quantized_search_46-episode-159.mp4\n",
      "\n"
     ]
    },
    {
     "name": "stderr",
     "output_type": "stream",
     "text": [
      "                                                               \r"
     ]
    },
    {
     "name": "stdout",
     "output_type": "stream",
     "text": [
      "Moviepy - Done !\n",
      "Moviepy - video ready ./checkpoints//videos/CartPole-v1_quantized_search_46/5000/CartPole-v1_quantized_search_46-episode-159.mp4\n",
      "score:  123.0\n",
      "score:  121.0\n",
      "score:  123.0\n",
      "score:  123.0\n",
      "score:  131.0\n",
      "score:  134.0\n",
      "parallel programs done\n",
      "Params:  {'adam_epsilon': 0.0025, 'advantage_hidden_layers_widths': (32, 32), 'atom_size': 51, 'clipnorm': 0.8, 'conv_layers': (), 'dense_layers_widths': (32, 512, 1024), 'discount_factor': 0.98, 'kernel_initializer': 'glorot_uniform', 'learning_rate': 0.02381, 'loss_function': <utils.utils.KLDivergence object at 0x2843cf290>, 'min_replay_buffer_size': 250, 'minibatch_size': 64, 'n_step': 7, 'per_alpha': 0.6000000000000001, 'per_beta': 0.65, 'per_epsilon': 0.02313, 'replay_buffer_size': 5000, 'replay_interval': 8, 'training_steps': 10000, 'transfer_interval': 420, 'value_hidden_layers_widths': (64, 256, 512, 512)}\n",
      "Making environments\n",
      "CartPole-v1_quantized_search\n",
      "Using default save_intermediate_weights     : True\n",
      "Using         training_steps                : 10000\n",
      "Using         adam_epsilon                  : 0.0025\n",
      "Using         learning_rate                 : 0.02381\n",
      "Using         clipnorm                      : 0.8\n",
      "Using default optimizer                     : <class 'torch.optim.adam.Adam'>\n",
      "Using         loss_function                 : <utils.utils.KLDivergence object at 0x2843cf290>\n",
      "Using default activation                    : relu\n",
      "Using         kernel_initializer            : glorot_uniform\n",
      "Using         minibatch_size                : 64\n",
      "Using         replay_buffer_size            : 5000\n",
      "Using         min_replay_buffer_size        : 250\n",
      "Using default num_minibatches               : 1\n",
      "Using default training_iterations           : 1\n",
      "Using         conv_layers                   : ()\n",
      "Using         dense_layers_widths           : (32, 512, 1024)\n",
      "Using         value_hidden_layers_widths    : (64, 256, 512, 512)\n",
      "Using         advantage_hidden_layers_widths: (32, 32)\n",
      "Using default noisy_sigma                   : 0.5\n",
      "Using default deuling                       : True\n",
      "Using         discount_factor               : 0.98\n",
      "Using default soft_update                   : False\n",
      "Using         transfer_interval             : 420\n",
      "Using default ema_beta                      : 0.99\n",
      "Using         replay_interval               : 8\n",
      "Using         per_alpha                     : 0.6000000000000001\n",
      "Using         per_beta                      : 0.65\n",
      "Using         per_epsilon                   : 0.02313\n",
      "Using         n_step                        : 7\n",
      "Using         atom_size                     : 51\n",
      "observation_dimensions:  (4,)\n",
      "num_actions:  2\n"
     ]
    },
    {
     "name": "stderr",
     "output_type": "stream",
     "text": [
      "/Library/Frameworks/Python.framework/Versions/3.12/lib/python3.12/site-packages/gymnasium/wrappers/record_video.py:94: UserWarning: \u001b[33mWARN: Overwriting existing videos at /Users/jonathanlamontange-kratz/Documents/GitHub/rl-stuff/experiments/rainbow_hyperopt folder (try specifying a different `video_folder` for the `RecordVideo` wrapper if this is not desired)\u001b[0m\n",
      "  logger.warn(\n"
     ]
    },
    {
     "name": "stdout",
     "output_type": "stream",
     "text": [
      "score:  112.0\n",
      "score:  113.0\n",
      "score:  125.0\n",
      "score:  112.0\n",
      "Moviepy - Building video checkpoints/CartPole-v1_quantized_search_47/step_333/videos/CartPole-v1_quantized_search_47/333/CartPole-v1_quantized_search_47-episode-4.mp4.\n",
      "Moviepy - Writing video checkpoints/CartPole-v1_quantized_search_47/step_333/videos/CartPole-v1_quantized_search_47/333/CartPole-v1_quantized_search_47-episode-4.mp4\n",
      "\n"
     ]
    },
    {
     "name": "stderr",
     "output_type": "stream",
     "text": [
      "                                                               \r"
     ]
    },
    {
     "name": "stdout",
     "output_type": "stream",
     "text": [
      "Moviepy - Done !\n",
      "Moviepy - video ready checkpoints/CartPole-v1_quantized_search_47/step_333/videos/CartPole-v1_quantized_search_47/333/CartPole-v1_quantized_search_47-episode-4.mp4\n",
      "score:  116.0\n"
     ]
    },
    {
     "name": "stderr",
     "output_type": "stream",
     "text": [
      "/Users/jonathanlamontange-kratz/Documents/GitHub/rl-stuff/packages/utils/utils/utils.py:257: UserWarning: No artists with labels found to put in legend.  Note that artists whose label start with an underscore are ignored when legend() is called with no argument.\n",
      "  axs[row][col].legend()\n",
      "/Users/jonathanlamontange-kratz/Documents/GitHub/rl-stuff/packages/utils/utils/utils.py:187: UserWarning: Attempting to set identical low and high xlims makes transformation singular; automatically expanding.\n",
      "  axs[row][col].set_xlim(1, len(values))\n"
     ]
    },
    {
     "name": "stdout",
     "output_type": "stream",
     "text": [
      "score:  77.0\n",
      "score:  131.0\n",
      "score:  93.0\n",
      "score:  148.0\n",
      "Moviepy - Building video checkpoints/CartPole-v1_quantized_search_47/step_666/videos/CartPole-v1_quantized_search_47/666/CartPole-v1_quantized_search_47-episode-9.mp4.\n",
      "Moviepy - Writing video checkpoints/CartPole-v1_quantized_search_47/step_666/videos/CartPole-v1_quantized_search_47/666/CartPole-v1_quantized_search_47-episode-9.mp4\n",
      "\n"
     ]
    },
    {
     "name": "stderr",
     "output_type": "stream",
     "text": [
      "/Users/jonathanlamontange-kratz/Documents/GitHub/rl-stuff/packages/utils/utils/utils.py:257: UserWarning: No artists with labels found to put in legend.  Note that artists whose label start with an underscore are ignored when legend() is called with no argument.\n",
      "  axs[row][col].legend()\n"
     ]
    },
    {
     "name": "stdout",
     "output_type": "stream",
     "text": [
      "Moviepy - Done !\n",
      "Moviepy - video ready checkpoints/CartPole-v1_quantized_search_47/step_666/videos/CartPole-v1_quantized_search_47/666/CartPole-v1_quantized_search_47-episode-9.mp4\n",
      "score:  83.0\n",
      "score:  11.0\n",
      "score:  12.0\n",
      "score:  11.0\n",
      "score:  10.0\n",
      "Moviepy - Building video checkpoints/CartPole-v1_quantized_search_47/step_999/videos/CartPole-v1_quantized_search_47/999/CartPole-v1_quantized_search_47-episode-14.mp4.\n",
      "Moviepy - Writing video checkpoints/CartPole-v1_quantized_search_47/step_999/videos/CartPole-v1_quantized_search_47/999/CartPole-v1_quantized_search_47-episode-14.mp4\n",
      "\n"
     ]
    },
    {
     "name": "stderr",
     "output_type": "stream",
     "text": [
      "/Users/jonathanlamontange-kratz/Documents/GitHub/rl-stuff/packages/utils/utils/utils.py:257: UserWarning: No artists with labels found to put in legend.  Note that artists whose label start with an underscore are ignored when legend() is called with no argument.\n",
      "  axs[row][col].legend()\n"
     ]
    },
    {
     "name": "stdout",
     "output_type": "stream",
     "text": [
      "Moviepy - Done !\n",
      "Moviepy - video ready checkpoints/CartPole-v1_quantized_search_47/step_999/videos/CartPole-v1_quantized_search_47/999/CartPole-v1_quantized_search_47-episode-14.mp4\n",
      "score:  10.0\n",
      "score:  12.0\n",
      "score:  10.0\n",
      "score:  11.0\n",
      "score:  11.0\n",
      "Moviepy - Building video checkpoints/CartPole-v1_quantized_search_47/step_1332/videos/CartPole-v1_quantized_search_47/1332/CartPole-v1_quantized_search_47-episode-19.mp4.\n",
      "Moviepy - Writing video checkpoints/CartPole-v1_quantized_search_47/step_1332/videos/CartPole-v1_quantized_search_47/1332/CartPole-v1_quantized_search_47-episode-19.mp4\n",
      "\n"
     ]
    },
    {
     "name": "stderr",
     "output_type": "stream",
     "text": [
      "/Users/jonathanlamontange-kratz/Documents/GitHub/rl-stuff/packages/utils/utils/utils.py:257: UserWarning: No artists with labels found to put in legend.  Note that artists whose label start with an underscore are ignored when legend() is called with no argument.\n",
      "  axs[row][col].legend()\n"
     ]
    },
    {
     "name": "stdout",
     "output_type": "stream",
     "text": [
      "Moviepy - Done !\n",
      "Moviepy - video ready checkpoints/CartPole-v1_quantized_search_47/step_1332/videos/CartPole-v1_quantized_search_47/1332/CartPole-v1_quantized_search_47-episode-19.mp4\n",
      "score:  11.0\n",
      "score:  106.0\n",
      "score:  100.0\n",
      "score:  108.0\n",
      "score:  100.0\n",
      "Moviepy - Building video checkpoints/CartPole-v1_quantized_search_47/step_1665/videos/CartPole-v1_quantized_search_47/1665/CartPole-v1_quantized_search_47-episode-24.mp4.\n",
      "Moviepy - Writing video checkpoints/CartPole-v1_quantized_search_47/step_1665/videos/CartPole-v1_quantized_search_47/1665/CartPole-v1_quantized_search_47-episode-24.mp4\n",
      "\n"
     ]
    },
    {
     "name": "stderr",
     "output_type": "stream",
     "text": [
      "                                                               \r"
     ]
    },
    {
     "name": "stdout",
     "output_type": "stream",
     "text": [
      "Moviepy - Done !\n",
      "Moviepy - video ready checkpoints/CartPole-v1_quantized_search_47/step_1665/videos/CartPole-v1_quantized_search_47/1665/CartPole-v1_quantized_search_47-episode-24.mp4\n",
      "score:  107.0\n"
     ]
    },
    {
     "name": "stderr",
     "output_type": "stream",
     "text": [
      "/Users/jonathanlamontange-kratz/Documents/GitHub/rl-stuff/packages/utils/utils/utils.py:257: UserWarning: No artists with labels found to put in legend.  Note that artists whose label start with an underscore are ignored when legend() is called with no argument.\n",
      "  axs[row][col].legend()\n"
     ]
    },
    {
     "name": "stdout",
     "output_type": "stream",
     "text": [
      "score:  50.0\n",
      "score:  57.0\n",
      "score:  65.0\n",
      "score:  60.0\n",
      "Moviepy - Building video checkpoints/CartPole-v1_quantized_search_47/step_1998/videos/CartPole-v1_quantized_search_47/1998/CartPole-v1_quantized_search_47-episode-29.mp4.\n",
      "Moviepy - Writing video checkpoints/CartPole-v1_quantized_search_47/step_1998/videos/CartPole-v1_quantized_search_47/1998/CartPole-v1_quantized_search_47-episode-29.mp4\n",
      "\n"
     ]
    },
    {
     "name": "stderr",
     "output_type": "stream",
     "text": [
      "/Users/jonathanlamontange-kratz/Documents/GitHub/rl-stuff/packages/utils/utils/utils.py:257: UserWarning: No artists with labels found to put in legend.  Note that artists whose label start with an underscore are ignored when legend() is called with no argument.\n",
      "  axs[row][col].legend()\n"
     ]
    },
    {
     "name": "stdout",
     "output_type": "stream",
     "text": [
      "Moviepy - Done !\n",
      "Moviepy - video ready checkpoints/CartPole-v1_quantized_search_47/step_1998/videos/CartPole-v1_quantized_search_47/1998/CartPole-v1_quantized_search_47-episode-29.mp4\n",
      "score:  63.0\n",
      "score:  13.0\n",
      "score:  15.0\n",
      "score:  12.0\n",
      "score:  12.0\n",
      "Moviepy - Building video checkpoints/CartPole-v1_quantized_search_47/step_2331/videos/CartPole-v1_quantized_search_47/2331/CartPole-v1_quantized_search_47-episode-34.mp4.\n",
      "Moviepy - Writing video checkpoints/CartPole-v1_quantized_search_47/step_2331/videos/CartPole-v1_quantized_search_47/2331/CartPole-v1_quantized_search_47-episode-34.mp4\n",
      "\n"
     ]
    },
    {
     "name": "stderr",
     "output_type": "stream",
     "text": [
      "/Users/jonathanlamontange-kratz/Documents/GitHub/rl-stuff/packages/utils/utils/utils.py:257: UserWarning: No artists with labels found to put in legend.  Note that artists whose label start with an underscore are ignored when legend() is called with no argument.\n",
      "  axs[row][col].legend()\n"
     ]
    },
    {
     "name": "stdout",
     "output_type": "stream",
     "text": [
      "Moviepy - Done !\n",
      "Moviepy - video ready checkpoints/CartPole-v1_quantized_search_47/step_2331/videos/CartPole-v1_quantized_search_47/2331/CartPole-v1_quantized_search_47-episode-34.mp4\n",
      "score:  11.0\n",
      "score:  53.0\n",
      "score:  53.0\n",
      "score:  39.0\n",
      "score:  46.0\n",
      "Moviepy - Building video checkpoints/CartPole-v1_quantized_search_47/step_2664/videos/CartPole-v1_quantized_search_47/2664/CartPole-v1_quantized_search_47-episode-39.mp4.\n",
      "Moviepy - Writing video checkpoints/CartPole-v1_quantized_search_47/step_2664/videos/CartPole-v1_quantized_search_47/2664/CartPole-v1_quantized_search_47-episode-39.mp4\n",
      "\n"
     ]
    },
    {
     "name": "stderr",
     "output_type": "stream",
     "text": [
      "/Users/jonathanlamontange-kratz/Documents/GitHub/rl-stuff/packages/utils/utils/utils.py:257: UserWarning: No artists with labels found to put in legend.  Note that artists whose label start with an underscore are ignored when legend() is called with no argument.\n",
      "  axs[row][col].legend()\n"
     ]
    },
    {
     "name": "stdout",
     "output_type": "stream",
     "text": [
      "Moviepy - Done !\n",
      "Moviepy - video ready checkpoints/CartPole-v1_quantized_search_47/step_2664/videos/CartPole-v1_quantized_search_47/2664/CartPole-v1_quantized_search_47-episode-39.mp4\n",
      "score:  44.0\n",
      "score:  98.0\n",
      "score:  92.0\n",
      "score:  97.0\n",
      "score:  94.0\n",
      "Moviepy - Building video checkpoints/CartPole-v1_quantized_search_47/step_2997/videos/CartPole-v1_quantized_search_47/2997/CartPole-v1_quantized_search_47-episode-44.mp4.\n",
      "Moviepy - Writing video checkpoints/CartPole-v1_quantized_search_47/step_2997/videos/CartPole-v1_quantized_search_47/2997/CartPole-v1_quantized_search_47-episode-44.mp4\n",
      "\n"
     ]
    },
    {
     "name": "stderr",
     "output_type": "stream",
     "text": [
      "/Users/jonathanlamontange-kratz/Documents/GitHub/rl-stuff/packages/utils/utils/utils.py:257: UserWarning: No artists with labels found to put in legend.  Note that artists whose label start with an underscore are ignored when legend() is called with no argument.\n",
      "  axs[row][col].legend()\n"
     ]
    },
    {
     "name": "stdout",
     "output_type": "stream",
     "text": [
      "Moviepy - Done !\n",
      "Moviepy - video ready checkpoints/CartPole-v1_quantized_search_47/step_2997/videos/CartPole-v1_quantized_search_47/2997/CartPole-v1_quantized_search_47-episode-44.mp4\n",
      "score:  98.0\n",
      "score:  500.0\n",
      "score:  500.0\n",
      "score:  500.0\n",
      "score:  500.0\n",
      "Moviepy - Building video checkpoints/CartPole-v1_quantized_search_47/step_3330/videos/CartPole-v1_quantized_search_47/3330/CartPole-v1_quantized_search_47-episode-49.mp4.\n",
      "Moviepy - Writing video checkpoints/CartPole-v1_quantized_search_47/step_3330/videos/CartPole-v1_quantized_search_47/3330/CartPole-v1_quantized_search_47-episode-49.mp4\n",
      "\n"
     ]
    },
    {
     "name": "stderr",
     "output_type": "stream",
     "text": [
      "/Users/jonathanlamontange-kratz/Documents/GitHub/rl-stuff/packages/utils/utils/utils.py:257: UserWarning: No artists with labels found to put in legend.  Note that artists whose label start with an underscore are ignored when legend() is called with no argument.\n",
      "  axs[row][col].legend()\n"
     ]
    },
    {
     "name": "stdout",
     "output_type": "stream",
     "text": [
      "Moviepy - Done !\n",
      "Moviepy - video ready checkpoints/CartPole-v1_quantized_search_47/step_3330/videos/CartPole-v1_quantized_search_47/3330/CartPole-v1_quantized_search_47-episode-49.mp4\n",
      "score:  500.0\n",
      "score:  86.0\n",
      "score:  81.0\n",
      "score:  81.0\n",
      "score:  83.0\n",
      "Moviepy - Building video checkpoints/CartPole-v1_quantized_search_47/step_3663/videos/CartPole-v1_quantized_search_47/3663/CartPole-v1_quantized_search_47-episode-54.mp4.\n",
      "Moviepy - Writing video checkpoints/CartPole-v1_quantized_search_47/step_3663/videos/CartPole-v1_quantized_search_47/3663/CartPole-v1_quantized_search_47-episode-54.mp4\n",
      "\n"
     ]
    },
    {
     "name": "stderr",
     "output_type": "stream",
     "text": [
      "/Users/jonathanlamontange-kratz/Documents/GitHub/rl-stuff/packages/utils/utils/utils.py:257: UserWarning: No artists with labels found to put in legend.  Note that artists whose label start with an underscore are ignored when legend() is called with no argument.\n",
      "  axs[row][col].legend()\n"
     ]
    },
    {
     "name": "stdout",
     "output_type": "stream",
     "text": [
      "Moviepy - Done !\n",
      "Moviepy - video ready checkpoints/CartPole-v1_quantized_search_47/step_3663/videos/CartPole-v1_quantized_search_47/3663/CartPole-v1_quantized_search_47-episode-54.mp4\n",
      "score:  78.0\n",
      "score:  13.0\n",
      "score:  15.0\n",
      "score:  17.0\n",
      "score:  14.0\n",
      "Moviepy - Building video checkpoints/CartPole-v1_quantized_search_47/step_3996/videos/CartPole-v1_quantized_search_47/3996/CartPole-v1_quantized_search_47-episode-59.mp4.\n",
      "Moviepy - Writing video checkpoints/CartPole-v1_quantized_search_47/step_3996/videos/CartPole-v1_quantized_search_47/3996/CartPole-v1_quantized_search_47-episode-59.mp4\n",
      "\n"
     ]
    },
    {
     "name": "stderr",
     "output_type": "stream",
     "text": [
      "/Users/jonathanlamontange-kratz/Documents/GitHub/rl-stuff/packages/utils/utils/utils.py:257: UserWarning: No artists with labels found to put in legend.  Note that artists whose label start with an underscore are ignored when legend() is called with no argument.\n",
      "  axs[row][col].legend()\n"
     ]
    },
    {
     "name": "stdout",
     "output_type": "stream",
     "text": [
      "Moviepy - Done !\n",
      "Moviepy - video ready checkpoints/CartPole-v1_quantized_search_47/step_3996/videos/CartPole-v1_quantized_search_47/3996/CartPole-v1_quantized_search_47-episode-59.mp4\n",
      "score:  15.0\n",
      "score:  11.0\n",
      "score:  13.0\n",
      "score:  12.0\n",
      "score:  11.0\n",
      "Moviepy - Building video checkpoints/CartPole-v1_quantized_search_47/step_4329/videos/CartPole-v1_quantized_search_47/4329/CartPole-v1_quantized_search_47-episode-64.mp4.\n",
      "Moviepy - Writing video checkpoints/CartPole-v1_quantized_search_47/step_4329/videos/CartPole-v1_quantized_search_47/4329/CartPole-v1_quantized_search_47-episode-64.mp4\n",
      "\n"
     ]
    },
    {
     "name": "stderr",
     "output_type": "stream",
     "text": [
      "/Users/jonathanlamontange-kratz/Documents/GitHub/rl-stuff/packages/utils/utils/utils.py:257: UserWarning: No artists with labels found to put in legend.  Note that artists whose label start with an underscore are ignored when legend() is called with no argument.\n",
      "  axs[row][col].legend()\n"
     ]
    },
    {
     "name": "stdout",
     "output_type": "stream",
     "text": [
      "Moviepy - Done !\n",
      "Moviepy - video ready checkpoints/CartPole-v1_quantized_search_47/step_4329/videos/CartPole-v1_quantized_search_47/4329/CartPole-v1_quantized_search_47-episode-64.mp4\n",
      "score:  12.0\n",
      "score:  44.0\n",
      "score:  46.0\n",
      "score:  37.0\n",
      "score:  37.0\n",
      "Moviepy - Building video checkpoints/CartPole-v1_quantized_search_47/step_4662/videos/CartPole-v1_quantized_search_47/4662/CartPole-v1_quantized_search_47-episode-69.mp4.\n",
      "Moviepy - Writing video checkpoints/CartPole-v1_quantized_search_47/step_4662/videos/CartPole-v1_quantized_search_47/4662/CartPole-v1_quantized_search_47-episode-69.mp4\n",
      "\n"
     ]
    },
    {
     "name": "stderr",
     "output_type": "stream",
     "text": [
      "/Users/jonathanlamontange-kratz/Documents/GitHub/rl-stuff/packages/utils/utils/utils.py:257: UserWarning: No artists with labels found to put in legend.  Note that artists whose label start with an underscore are ignored when legend() is called with no argument.\n",
      "  axs[row][col].legend()\n"
     ]
    },
    {
     "name": "stdout",
     "output_type": "stream",
     "text": [
      "Moviepy - Done !\n",
      "Moviepy - video ready checkpoints/CartPole-v1_quantized_search_47/step_4662/videos/CartPole-v1_quantized_search_47/4662/CartPole-v1_quantized_search_47-episode-69.mp4\n",
      "score:  43.0\n",
      "score:  88.0\n",
      "score:  91.0\n",
      "score:  91.0\n",
      "score:  88.0\n",
      "Moviepy - Building video checkpoints/CartPole-v1_quantized_search_47/step_4995/videos/CartPole-v1_quantized_search_47/4995/CartPole-v1_quantized_search_47-episode-74.mp4.\n",
      "Moviepy - Writing video checkpoints/CartPole-v1_quantized_search_47/step_4995/videos/CartPole-v1_quantized_search_47/4995/CartPole-v1_quantized_search_47-episode-74.mp4\n",
      "\n"
     ]
    },
    {
     "name": "stderr",
     "output_type": "stream",
     "text": [
      "/Users/jonathanlamontange-kratz/Documents/GitHub/rl-stuff/packages/utils/utils/utils.py:257: UserWarning: No artists with labels found to put in legend.  Note that artists whose label start with an underscore are ignored when legend() is called with no argument.\n",
      "  axs[row][col].legend()\n"
     ]
    },
    {
     "name": "stdout",
     "output_type": "stream",
     "text": [
      "Moviepy - Done !\n",
      "Moviepy - video ready checkpoints/CartPole-v1_quantized_search_47/step_4995/videos/CartPole-v1_quantized_search_47/4995/CartPole-v1_quantized_search_47-episode-74.mp4\n",
      "score:  88.0\n",
      "score:  80.0\n",
      "score:  73.0\n",
      "score:  82.0\n",
      "score:  81.0\n",
      "Moviepy - Building video checkpoints/CartPole-v1_quantized_search_47/step_5328/videos/CartPole-v1_quantized_search_47/5328/CartPole-v1_quantized_search_47-episode-79.mp4.\n",
      "Moviepy - Writing video checkpoints/CartPole-v1_quantized_search_47/step_5328/videos/CartPole-v1_quantized_search_47/5328/CartPole-v1_quantized_search_47-episode-79.mp4\n",
      "\n"
     ]
    },
    {
     "name": "stderr",
     "output_type": "stream",
     "text": [
      "/Users/jonathanlamontange-kratz/Documents/GitHub/rl-stuff/packages/utils/utils/utils.py:257: UserWarning: No artists with labels found to put in legend.  Note that artists whose label start with an underscore are ignored when legend() is called with no argument.\n",
      "  axs[row][col].legend()\n"
     ]
    },
    {
     "name": "stdout",
     "output_type": "stream",
     "text": [
      "Moviepy - Done !\n",
      "Moviepy - video ready checkpoints/CartPole-v1_quantized_search_47/step_5328/videos/CartPole-v1_quantized_search_47/5328/CartPole-v1_quantized_search_47-episode-79.mp4\n",
      "score:  75.0\n",
      "score:  102.0\n",
      "score:  100.0\n",
      "score:  104.0\n",
      "score:  96.0\n",
      "Moviepy - Building video checkpoints/CartPole-v1_quantized_search_47/step_5661/videos/CartPole-v1_quantized_search_47/5661/CartPole-v1_quantized_search_47-episode-84.mp4.\n",
      "Moviepy - Writing video checkpoints/CartPole-v1_quantized_search_47/step_5661/videos/CartPole-v1_quantized_search_47/5661/CartPole-v1_quantized_search_47-episode-84.mp4\n",
      "\n"
     ]
    },
    {
     "name": "stderr",
     "output_type": "stream",
     "text": [
      "/Users/jonathanlamontange-kratz/Documents/GitHub/rl-stuff/packages/utils/utils/utils.py:257: UserWarning: No artists with labels found to put in legend.  Note that artists whose label start with an underscore are ignored when legend() is called with no argument.\n",
      "  axs[row][col].legend()\n"
     ]
    },
    {
     "name": "stdout",
     "output_type": "stream",
     "text": [
      "Moviepy - Done !\n",
      "Moviepy - video ready checkpoints/CartPole-v1_quantized_search_47/step_5661/videos/CartPole-v1_quantized_search_47/5661/CartPole-v1_quantized_search_47-episode-84.mp4\n",
      "score:  94.0\n",
      "score:  90.0\n",
      "score:  89.0\n",
      "score:  91.0\n",
      "score:  95.0\n",
      "Moviepy - Building video checkpoints/CartPole-v1_quantized_search_47/step_5994/videos/CartPole-v1_quantized_search_47/5994/CartPole-v1_quantized_search_47-episode-89.mp4.\n",
      "Moviepy - Writing video checkpoints/CartPole-v1_quantized_search_47/step_5994/videos/CartPole-v1_quantized_search_47/5994/CartPole-v1_quantized_search_47-episode-89.mp4\n",
      "\n"
     ]
    },
    {
     "name": "stderr",
     "output_type": "stream",
     "text": [
      "                                                             \r"
     ]
    },
    {
     "name": "stdout",
     "output_type": "stream",
     "text": [
      "Moviepy - Done !\n",
      "Moviepy - video ready checkpoints/CartPole-v1_quantized_search_47/step_5994/videos/CartPole-v1_quantized_search_47/5994/CartPole-v1_quantized_search_47-episode-89.mp4\n",
      "score:  85.0\n"
     ]
    },
    {
     "name": "stderr",
     "output_type": "stream",
     "text": [
      "/Users/jonathanlamontange-kratz/Documents/GitHub/rl-stuff/packages/utils/utils/utils.py:257: UserWarning: No artists with labels found to put in legend.  Note that artists whose label start with an underscore are ignored when legend() is called with no argument.\n",
      "  axs[row][col].legend()\n"
     ]
    },
    {
     "name": "stdout",
     "output_type": "stream",
     "text": [
      "score:  101.0\n",
      "score:  112.0\n",
      "score:  99.0\n",
      "score:  61.0\n",
      "Moviepy - Building video checkpoints/CartPole-v1_quantized_search_47/step_6327/videos/CartPole-v1_quantized_search_47/6327/CartPole-v1_quantized_search_47-episode-94.mp4.\n",
      "Moviepy - Writing video checkpoints/CartPole-v1_quantized_search_47/step_6327/videos/CartPole-v1_quantized_search_47/6327/CartPole-v1_quantized_search_47-episode-94.mp4\n",
      "\n"
     ]
    },
    {
     "name": "stderr",
     "output_type": "stream",
     "text": [
      "/Users/jonathanlamontange-kratz/Documents/GitHub/rl-stuff/packages/utils/utils/utils.py:257: UserWarning: No artists with labels found to put in legend.  Note that artists whose label start with an underscore are ignored when legend() is called with no argument.\n",
      "  axs[row][col].legend()\n"
     ]
    },
    {
     "name": "stdout",
     "output_type": "stream",
     "text": [
      "Moviepy - Done !\n",
      "Moviepy - video ready checkpoints/CartPole-v1_quantized_search_47/step_6327/videos/CartPole-v1_quantized_search_47/6327/CartPole-v1_quantized_search_47-episode-94.mp4\n",
      "score:  112.0\n",
      "score:  52.0\n",
      "score:  60.0\n",
      "score:  50.0\n",
      "score:  58.0\n",
      "Moviepy - Building video checkpoints/CartPole-v1_quantized_search_47/step_6660/videos/CartPole-v1_quantized_search_47/6660/CartPole-v1_quantized_search_47-episode-99.mp4.\n",
      "Moviepy - Writing video checkpoints/CartPole-v1_quantized_search_47/step_6660/videos/CartPole-v1_quantized_search_47/6660/CartPole-v1_quantized_search_47-episode-99.mp4\n",
      "\n"
     ]
    },
    {
     "name": "stderr",
     "output_type": "stream",
     "text": [
      "/Users/jonathanlamontange-kratz/Documents/GitHub/rl-stuff/packages/utils/utils/utils.py:257: UserWarning: No artists with labels found to put in legend.  Note that artists whose label start with an underscore are ignored when legend() is called with no argument.\n",
      "  axs[row][col].legend()\n"
     ]
    },
    {
     "name": "stdout",
     "output_type": "stream",
     "text": [
      "Moviepy - Done !\n",
      "Moviepy - video ready checkpoints/CartPole-v1_quantized_search_47/step_6660/videos/CartPole-v1_quantized_search_47/6660/CartPole-v1_quantized_search_47-episode-99.mp4\n",
      "score:  53.0\n",
      "score:  118.0\n",
      "score:  120.0\n",
      "score:  111.0\n",
      "score:  115.0\n",
      "Moviepy - Building video checkpoints/CartPole-v1_quantized_search_47/step_6993/videos/CartPole-v1_quantized_search_47/6993/CartPole-v1_quantized_search_47-episode-104.mp4.\n",
      "Moviepy - Writing video checkpoints/CartPole-v1_quantized_search_47/step_6993/videos/CartPole-v1_quantized_search_47/6993/CartPole-v1_quantized_search_47-episode-104.mp4\n",
      "\n"
     ]
    },
    {
     "name": "stderr",
     "output_type": "stream",
     "text": [
      "                                                               \r"
     ]
    },
    {
     "name": "stdout",
     "output_type": "stream",
     "text": [
      "Moviepy - Done !\n",
      "Moviepy - video ready checkpoints/CartPole-v1_quantized_search_47/step_6993/videos/CartPole-v1_quantized_search_47/6993/CartPole-v1_quantized_search_47-episode-104.mp4\n",
      "score:  117.0\n"
     ]
    },
    {
     "name": "stderr",
     "output_type": "stream",
     "text": [
      "/Users/jonathanlamontange-kratz/Documents/GitHub/rl-stuff/packages/utils/utils/utils.py:257: UserWarning: No artists with labels found to put in legend.  Note that artists whose label start with an underscore are ignored when legend() is called with no argument.\n",
      "  axs[row][col].legend()\n"
     ]
    },
    {
     "name": "stdout",
     "output_type": "stream",
     "text": [
      "score:  99.0\n",
      "score:  101.0\n",
      "score:  102.0\n",
      "score:  101.0\n",
      "Moviepy - Building video checkpoints/CartPole-v1_quantized_search_47/step_7326/videos/CartPole-v1_quantized_search_47/7326/CartPole-v1_quantized_search_47-episode-109.mp4.\n",
      "Moviepy - Writing video checkpoints/CartPole-v1_quantized_search_47/step_7326/videos/CartPole-v1_quantized_search_47/7326/CartPole-v1_quantized_search_47-episode-109.mp4\n",
      "\n"
     ]
    },
    {
     "name": "stderr",
     "output_type": "stream",
     "text": [
      "/Users/jonathanlamontange-kratz/Documents/GitHub/rl-stuff/packages/utils/utils/utils.py:257: UserWarning: No artists with labels found to put in legend.  Note that artists whose label start with an underscore are ignored when legend() is called with no argument.\n",
      "  axs[row][col].legend()\n"
     ]
    },
    {
     "name": "stdout",
     "output_type": "stream",
     "text": [
      "Moviepy - Done !\n",
      "Moviepy - video ready checkpoints/CartPole-v1_quantized_search_47/step_7326/videos/CartPole-v1_quantized_search_47/7326/CartPole-v1_quantized_search_47-episode-109.mp4\n",
      "score:  101.0\n",
      "score:  77.0\n",
      "score:  80.0\n",
      "score:  82.0\n",
      "score:  82.0\n",
      "Moviepy - Building video checkpoints/CartPole-v1_quantized_search_47/step_7659/videos/CartPole-v1_quantized_search_47/7659/CartPole-v1_quantized_search_47-episode-114.mp4.\n",
      "Moviepy - Writing video checkpoints/CartPole-v1_quantized_search_47/step_7659/videos/CartPole-v1_quantized_search_47/7659/CartPole-v1_quantized_search_47-episode-114.mp4\n",
      "\n"
     ]
    },
    {
     "name": "stderr",
     "output_type": "stream",
     "text": [
      "/Users/jonathanlamontange-kratz/Documents/GitHub/rl-stuff/packages/utils/utils/utils.py:257: UserWarning: No artists with labels found to put in legend.  Note that artists whose label start with an underscore are ignored when legend() is called with no argument.\n",
      "  axs[row][col].legend()\n"
     ]
    },
    {
     "name": "stdout",
     "output_type": "stream",
     "text": [
      "Moviepy - Done !\n",
      "Moviepy - video ready checkpoints/CartPole-v1_quantized_search_47/step_7659/videos/CartPole-v1_quantized_search_47/7659/CartPole-v1_quantized_search_47-episode-114.mp4\n",
      "score:  89.0\n",
      "score:  107.0\n",
      "score:  113.0\n",
      "score:  114.0\n",
      "score:  111.0\n",
      "Moviepy - Building video checkpoints/CartPole-v1_quantized_search_47/step_7992/videos/CartPole-v1_quantized_search_47/7992/CartPole-v1_quantized_search_47-episode-119.mp4.\n",
      "Moviepy - Writing video checkpoints/CartPole-v1_quantized_search_47/step_7992/videos/CartPole-v1_quantized_search_47/7992/CartPole-v1_quantized_search_47-episode-119.mp4\n",
      "\n"
     ]
    },
    {
     "name": "stderr",
     "output_type": "stream",
     "text": [
      "/Users/jonathanlamontange-kratz/Documents/GitHub/rl-stuff/packages/utils/utils/utils.py:257: UserWarning: No artists with labels found to put in legend.  Note that artists whose label start with an underscore are ignored when legend() is called with no argument.\n",
      "  axs[row][col].legend()\n"
     ]
    },
    {
     "name": "stdout",
     "output_type": "stream",
     "text": [
      "Moviepy - Done !\n",
      "Moviepy - video ready checkpoints/CartPole-v1_quantized_search_47/step_7992/videos/CartPole-v1_quantized_search_47/7992/CartPole-v1_quantized_search_47-episode-119.mp4\n",
      "score:  108.0\n",
      "score:  62.0\n",
      "score:  53.0\n",
      "score:  66.0\n",
      "score:  58.0\n",
      "Moviepy - Building video checkpoints/CartPole-v1_quantized_search_47/step_8325/videos/CartPole-v1_quantized_search_47/8325/CartPole-v1_quantized_search_47-episode-124.mp4.\n",
      "Moviepy - Writing video checkpoints/CartPole-v1_quantized_search_47/step_8325/videos/CartPole-v1_quantized_search_47/8325/CartPole-v1_quantized_search_47-episode-124.mp4\n",
      "\n"
     ]
    },
    {
     "name": "stderr",
     "output_type": "stream",
     "text": [
      "/Users/jonathanlamontange-kratz/Documents/GitHub/rl-stuff/packages/utils/utils/utils.py:257: UserWarning: No artists with labels found to put in legend.  Note that artists whose label start with an underscore are ignored when legend() is called with no argument.\n",
      "  axs[row][col].legend()\n"
     ]
    },
    {
     "name": "stdout",
     "output_type": "stream",
     "text": [
      "Moviepy - Done !\n",
      "Moviepy - video ready checkpoints/CartPole-v1_quantized_search_47/step_8325/videos/CartPole-v1_quantized_search_47/8325/CartPole-v1_quantized_search_47-episode-124.mp4\n",
      "score:  58.0\n",
      "score:  29.0\n",
      "score:  21.0\n",
      "score:  26.0\n",
      "score:  33.0\n",
      "Moviepy - Building video checkpoints/CartPole-v1_quantized_search_47/step_8658/videos/CartPole-v1_quantized_search_47/8658/CartPole-v1_quantized_search_47-episode-129.mp4.\n",
      "Moviepy - Writing video checkpoints/CartPole-v1_quantized_search_47/step_8658/videos/CartPole-v1_quantized_search_47/8658/CartPole-v1_quantized_search_47-episode-129.mp4\n",
      "\n"
     ]
    },
    {
     "name": "stderr",
     "output_type": "stream",
     "text": [
      "                                                           "
     ]
    },
    {
     "name": "stdout",
     "output_type": "stream",
     "text": [
      "Moviepy - Done !\n",
      "Moviepy - video ready checkpoints/CartPole-v1_quantized_search_47/step_8658/videos/CartPole-v1_quantized_search_47/8658/CartPole-v1_quantized_search_47-episode-129.mp4\n",
      "score:  22.0\n"
     ]
    },
    {
     "name": "stderr",
     "output_type": "stream",
     "text": [
      "/Users/jonathanlamontange-kratz/Documents/GitHub/rl-stuff/packages/utils/utils/utils.py:257: UserWarning: No artists with labels found to put in legend.  Note that artists whose label start with an underscore are ignored when legend() is called with no argument.\n",
      "  axs[row][col].legend()\n"
     ]
    },
    {
     "name": "stdout",
     "output_type": "stream",
     "text": [
      "score:  73.0\n",
      "score:  66.0\n",
      "score:  73.0\n",
      "score:  70.0\n",
      "Moviepy - Building video checkpoints/CartPole-v1_quantized_search_47/step_8991/videos/CartPole-v1_quantized_search_47/8991/CartPole-v1_quantized_search_47-episode-134.mp4.\n",
      "Moviepy - Writing video checkpoints/CartPole-v1_quantized_search_47/step_8991/videos/CartPole-v1_quantized_search_47/8991/CartPole-v1_quantized_search_47-episode-134.mp4\n",
      "\n"
     ]
    },
    {
     "name": "stderr",
     "output_type": "stream",
     "text": [
      "/Users/jonathanlamontange-kratz/Documents/GitHub/rl-stuff/packages/utils/utils/utils.py:257: UserWarning: No artists with labels found to put in legend.  Note that artists whose label start with an underscore are ignored when legend() is called with no argument.\n",
      "  axs[row][col].legend()\n"
     ]
    },
    {
     "name": "stdout",
     "output_type": "stream",
     "text": [
      "Moviepy - Done !\n",
      "Moviepy - video ready checkpoints/CartPole-v1_quantized_search_47/step_8991/videos/CartPole-v1_quantized_search_47/8991/CartPole-v1_quantized_search_47-episode-134.mp4\n",
      "score:  72.0\n",
      "score:  70.0\n",
      "score:  79.0\n",
      "score:  75.0\n",
      "score:  81.0\n",
      "Moviepy - Building video checkpoints/CartPole-v1_quantized_search_47/step_9324/videos/CartPole-v1_quantized_search_47/9324/CartPole-v1_quantized_search_47-episode-139.mp4.\n",
      "Moviepy - Writing video checkpoints/CartPole-v1_quantized_search_47/step_9324/videos/CartPole-v1_quantized_search_47/9324/CartPole-v1_quantized_search_47-episode-139.mp4\n",
      "\n"
     ]
    },
    {
     "name": "stderr",
     "output_type": "stream",
     "text": [
      "/Users/jonathanlamontange-kratz/Documents/GitHub/rl-stuff/packages/utils/utils/utils.py:257: UserWarning: No artists with labels found to put in legend.  Note that artists whose label start with an underscore are ignored when legend() is called with no argument.\n",
      "  axs[row][col].legend()\n"
     ]
    },
    {
     "name": "stdout",
     "output_type": "stream",
     "text": [
      "Moviepy - Done !\n",
      "Moviepy - video ready checkpoints/CartPole-v1_quantized_search_47/step_9324/videos/CartPole-v1_quantized_search_47/9324/CartPole-v1_quantized_search_47-episode-139.mp4\n",
      "score:  74.0\n",
      "score:  85.0\n",
      "score:  86.0\n",
      "score:  87.0\n",
      "score:  87.0\n",
      "Moviepy - Building video checkpoints/CartPole-v1_quantized_search_47/step_9657/videos/CartPole-v1_quantized_search_47/9657/CartPole-v1_quantized_search_47-episode-144.mp4.\n",
      "Moviepy - Writing video checkpoints/CartPole-v1_quantized_search_47/step_9657/videos/CartPole-v1_quantized_search_47/9657/CartPole-v1_quantized_search_47-episode-144.mp4\n",
      "\n"
     ]
    },
    {
     "name": "stderr",
     "output_type": "stream",
     "text": [
      "/Users/jonathanlamontange-kratz/Documents/GitHub/rl-stuff/packages/utils/utils/utils.py:257: UserWarning: No artists with labels found to put in legend.  Note that artists whose label start with an underscore are ignored when legend() is called with no argument.\n",
      "  axs[row][col].legend()\n"
     ]
    },
    {
     "name": "stdout",
     "output_type": "stream",
     "text": [
      "Moviepy - Done !\n",
      "Moviepy - video ready checkpoints/CartPole-v1_quantized_search_47/step_9657/videos/CartPole-v1_quantized_search_47/9657/CartPole-v1_quantized_search_47-episode-144.mp4\n",
      "score:  80.0\n",
      "score:  98.0\n",
      "score:  105.0\n",
      "score:  500.0\n",
      "score:  500.0\n",
      "Moviepy - Building video checkpoints/CartPole-v1_quantized_search_47/step_9990/videos/CartPole-v1_quantized_search_47/9990/CartPole-v1_quantized_search_47-episode-149.mp4.\n",
      "Moviepy - Writing video checkpoints/CartPole-v1_quantized_search_47/step_9990/videos/CartPole-v1_quantized_search_47/9990/CartPole-v1_quantized_search_47-episode-149.mp4\n",
      "\n"
     ]
    },
    {
     "name": "stderr",
     "output_type": "stream",
     "text": [
      "/Users/jonathanlamontange-kratz/Documents/GitHub/rl-stuff/packages/utils/utils/utils.py:257: UserWarning: No artists with labels found to put in legend.  Note that artists whose label start with an underscore are ignored when legend() is called with no argument.\n",
      "  axs[row][col].legend()\n"
     ]
    },
    {
     "name": "stdout",
     "output_type": "stream",
     "text": [
      "Moviepy - Done !\n",
      "Moviepy - video ready checkpoints/CartPole-v1_quantized_search_47/step_9990/videos/CartPole-v1_quantized_search_47/9990/CartPole-v1_quantized_search_47-episode-149.mp4\n",
      "score:  94.0\n",
      "score:  64.0\n",
      "score:  68.0\n",
      "score:  67.0\n",
      "score:  62.0\n",
      "Moviepy - Building video checkpoints/CartPole-v1_quantized_search_47/step_9999/videos/CartPole-v1_quantized_search_47/9999/CartPole-v1_quantized_search_47-episode-154.mp4.\n",
      "Moviepy - Writing video checkpoints/CartPole-v1_quantized_search_47/step_9999/videos/CartPole-v1_quantized_search_47/9999/CartPole-v1_quantized_search_47-episode-154.mp4\n",
      "\n"
     ]
    },
    {
     "name": "stderr",
     "output_type": "stream",
     "text": [
      "/Users/jonathanlamontange-kratz/Documents/GitHub/rl-stuff/packages/utils/utils/utils.py:257: UserWarning: No artists with labels found to put in legend.  Note that artists whose label start with an underscore are ignored when legend() is called with no argument.\n",
      "  axs[row][col].legend()\n"
     ]
    },
    {
     "name": "stdout",
     "output_type": "stream",
     "text": [
      "Moviepy - Done !\n",
      "Moviepy - video ready checkpoints/CartPole-v1_quantized_search_47/step_9999/videos/CartPole-v1_quantized_search_47/9999/CartPole-v1_quantized_search_47-episode-154.mp4\n",
      "score:  65.0\n",
      "Training complete\n",
      "score:  65.0\n",
      "score:  68.0\n",
      "score:  62.0\n",
      "score:  70.0\n",
      "Moviepy - Building video ./checkpoints//videos/CartPole-v1_quantized_search_47/5000/CartPole-v1_quantized_search_47-episode-159.mp4.\n",
      "Moviepy - Writing video ./checkpoints//videos/CartPole-v1_quantized_search_47/5000/CartPole-v1_quantized_search_47-episode-159.mp4\n",
      "\n"
     ]
    },
    {
     "name": "stderr",
     "output_type": "stream",
     "text": [
      "                                                             \r"
     ]
    },
    {
     "name": "stdout",
     "output_type": "stream",
     "text": [
      "Moviepy - Done !\n",
      "Moviepy - video ready ./checkpoints//videos/CartPole-v1_quantized_search_47/5000/CartPole-v1_quantized_search_47-episode-159.mp4\n",
      "score:  61.0\n",
      "score:  64.0\n",
      "score:  65.0\n",
      "score:  69.0\n",
      "score:  67.0\n",
      "score:  63.0\n",
      "parallel programs done\n",
      "Params:  {'adam_epsilon': 0.0003125, 'advantage_hidden_layers_widths': (32, 1024), 'atom_size': 51, 'clipnorm': 0.1, 'conv_layers': (), 'dense_layers_widths': (32, 32), 'discount_factor': 0.929, 'kernel_initializer': 'glorot_uniform', 'learning_rate': 0.012560000000000002, 'loss_function': <utils.utils.KLDivergence object at 0x2843cf290>, 'min_replay_buffer_size': 1875, 'minibatch_size': 96, 'n_step': 6, 'per_alpha': 0.15000000000000002, 'per_beta': 0.9500000000000001, 'per_epsilon': 0.0021100000000000003, 'replay_buffer_size': 2000, 'replay_interval': 2, 'training_steps': 10000, 'transfer_interval': 30, 'value_hidden_layers_widths': (32, 32, 128)}\n",
      "Making environments\n",
      "CartPole-v1_quantized_search\n",
      "Using default save_intermediate_weights     : True\n",
      "Using         training_steps                : 10000\n",
      "Using         adam_epsilon                  : 0.0003125\n",
      "Using         learning_rate                 : 0.012560000000000002\n",
      "Using         clipnorm                      : 0.1\n",
      "Using default optimizer                     : <class 'torch.optim.adam.Adam'>\n",
      "Using         loss_function                 : <utils.utils.KLDivergence object at 0x2843cf290>\n",
      "Using default activation                    : relu\n",
      "Using         kernel_initializer            : glorot_uniform\n",
      "Using         minibatch_size                : 96\n",
      "Using         replay_buffer_size            : 2000\n",
      "Using         min_replay_buffer_size        : 1875\n",
      "Using default num_minibatches               : 1\n",
      "Using default training_iterations           : 1\n",
      "Using         conv_layers                   : ()\n",
      "Using         dense_layers_widths           : (32, 32)\n",
      "Using         value_hidden_layers_widths    : (32, 32, 128)\n",
      "Using         advantage_hidden_layers_widths: (32, 1024)\n",
      "Using default noisy_sigma                   : 0.5\n",
      "Using default deuling                       : True\n",
      "Using         discount_factor               : 0.929\n",
      "Using default soft_update                   : False\n",
      "Using         transfer_interval             : 30\n",
      "Using default ema_beta                      : 0.99\n",
      "Using         replay_interval               : 2\n",
      "Using         per_alpha                     : 0.15000000000000002\n",
      "Using         per_beta                      : 0.9500000000000001\n",
      "Using         per_epsilon                   : 0.0021100000000000003\n",
      "Using         n_step                        : 6\n",
      "Using         atom_size                     : 51\n",
      "observation_dimensions:  (4,)\n",
      "num_actions:  2\n"
     ]
    },
    {
     "name": "stderr",
     "output_type": "stream",
     "text": [
      "/Library/Frameworks/Python.framework/Versions/3.12/lib/python3.12/site-packages/gymnasium/wrappers/record_video.py:94: UserWarning: \u001b[33mWARN: Overwriting existing videos at /Users/jonathanlamontange-kratz/Documents/GitHub/rl-stuff/experiments/rainbow_hyperopt folder (try specifying a different `video_folder` for the `RecordVideo` wrapper if this is not desired)\u001b[0m\n",
      "  logger.warn(\n"
     ]
    },
    {
     "name": "stdout",
     "output_type": "stream",
     "text": [
      "score:  12.0\n",
      "score:  10.0\n",
      "score:  10.0\n",
      "score:  9.0\n",
      "Moviepy - Building video checkpoints/CartPole-v1_quantized_search_48/step_333/videos/CartPole-v1_quantized_search_48/333/CartPole-v1_quantized_search_48-episode-4.mp4.\n",
      "Moviepy - Writing video checkpoints/CartPole-v1_quantized_search_48/step_333/videos/CartPole-v1_quantized_search_48/333/CartPole-v1_quantized_search_48-episode-4.mp4\n",
      "\n"
     ]
    },
    {
     "name": "stderr",
     "output_type": "stream",
     "text": [
      "/Users/jonathanlamontange-kratz/Documents/GitHub/rl-stuff/packages/utils/utils/utils.py:257: UserWarning: No artists with labels found to put in legend.  Note that artists whose label start with an underscore are ignored when legend() is called with no argument.\n",
      "  axs[row][col].legend()\n",
      "/Users/jonathanlamontange-kratz/Documents/GitHub/rl-stuff/packages/utils/utils/utils.py:187: UserWarning: Attempting to set identical low and high xlims makes transformation singular; automatically expanding.\n",
      "  axs[row][col].set_xlim(1, len(values))\n"
     ]
    },
    {
     "name": "stdout",
     "output_type": "stream",
     "text": [
      "Moviepy - Done !\n",
      "Moviepy - video ready checkpoints/CartPole-v1_quantized_search_48/step_333/videos/CartPole-v1_quantized_search_48/333/CartPole-v1_quantized_search_48-episode-4.mp4\n",
      "score:  10.0\n",
      "score:  117.0\n",
      "score:  137.0\n",
      "score:  118.0\n",
      "score:  120.0\n",
      "Moviepy - Building video checkpoints/CartPole-v1_quantized_search_48/step_666/videos/CartPole-v1_quantized_search_48/666/CartPole-v1_quantized_search_48-episode-9.mp4.\n",
      "Moviepy - Writing video checkpoints/CartPole-v1_quantized_search_48/step_666/videos/CartPole-v1_quantized_search_48/666/CartPole-v1_quantized_search_48-episode-9.mp4\n",
      "\n"
     ]
    },
    {
     "name": "stderr",
     "output_type": "stream",
     "text": [
      "/Users/jonathanlamontange-kratz/Documents/GitHub/rl-stuff/packages/utils/utils/utils.py:257: UserWarning: No artists with labels found to put in legend.  Note that artists whose label start with an underscore are ignored when legend() is called with no argument.\n",
      "  axs[row][col].legend()\n"
     ]
    },
    {
     "name": "stdout",
     "output_type": "stream",
     "text": [
      "Moviepy - Done !\n",
      "Moviepy - video ready checkpoints/CartPole-v1_quantized_search_48/step_666/videos/CartPole-v1_quantized_search_48/666/CartPole-v1_quantized_search_48-episode-9.mp4\n",
      "score:  138.0\n",
      "score:  279.0\n",
      "score:  249.0\n",
      "score:  254.0\n",
      "score:  276.0\n",
      "Moviepy - Building video checkpoints/CartPole-v1_quantized_search_48/step_999/videos/CartPole-v1_quantized_search_48/999/CartPole-v1_quantized_search_48-episode-14.mp4.\n",
      "Moviepy - Writing video checkpoints/CartPole-v1_quantized_search_48/step_999/videos/CartPole-v1_quantized_search_48/999/CartPole-v1_quantized_search_48-episode-14.mp4\n",
      "\n"
     ]
    },
    {
     "name": "stderr",
     "output_type": "stream",
     "text": [
      "/Users/jonathanlamontange-kratz/Documents/GitHub/rl-stuff/packages/utils/utils/utils.py:257: UserWarning: No artists with labels found to put in legend.  Note that artists whose label start with an underscore are ignored when legend() is called with no argument.\n",
      "  axs[row][col].legend()\n"
     ]
    },
    {
     "name": "stdout",
     "output_type": "stream",
     "text": [
      "Moviepy - Done !\n",
      "Moviepy - video ready checkpoints/CartPole-v1_quantized_search_48/step_999/videos/CartPole-v1_quantized_search_48/999/CartPole-v1_quantized_search_48-episode-14.mp4\n",
      "score:  256.0\n",
      "score:  500.0\n",
      "score:  130.0\n",
      "score:  500.0\n",
      "score:  243.0\n",
      "Moviepy - Building video checkpoints/CartPole-v1_quantized_search_48/step_1332/videos/CartPole-v1_quantized_search_48/1332/CartPole-v1_quantized_search_48-episode-19.mp4.\n",
      "Moviepy - Writing video checkpoints/CartPole-v1_quantized_search_48/step_1332/videos/CartPole-v1_quantized_search_48/1332/CartPole-v1_quantized_search_48-episode-19.mp4\n",
      "\n"
     ]
    },
    {
     "name": "stderr",
     "output_type": "stream",
     "text": [
      "/Users/jonathanlamontange-kratz/Documents/GitHub/rl-stuff/packages/utils/utils/utils.py:257: UserWarning: No artists with labels found to put in legend.  Note that artists whose label start with an underscore are ignored when legend() is called with no argument.\n",
      "  axs[row][col].legend()\n"
     ]
    },
    {
     "name": "stdout",
     "output_type": "stream",
     "text": [
      "Moviepy - Done !\n",
      "Moviepy - video ready checkpoints/CartPole-v1_quantized_search_48/step_1332/videos/CartPole-v1_quantized_search_48/1332/CartPole-v1_quantized_search_48-episode-19.mp4\n",
      "score:  282.0\n",
      "score:  183.0\n",
      "score:  185.0\n",
      "score:  217.0\n",
      "score:  200.0\n",
      "Moviepy - Building video checkpoints/CartPole-v1_quantized_search_48/step_1665/videos/CartPole-v1_quantized_search_48/1665/CartPole-v1_quantized_search_48-episode-24.mp4.\n",
      "Moviepy - Writing video checkpoints/CartPole-v1_quantized_search_48/step_1665/videos/CartPole-v1_quantized_search_48/1665/CartPole-v1_quantized_search_48-episode-24.mp4\n",
      "\n"
     ]
    },
    {
     "name": "stderr",
     "output_type": "stream",
     "text": [
      "/Users/jonathanlamontange-kratz/Documents/GitHub/rl-stuff/packages/utils/utils/utils.py:257: UserWarning: No artists with labels found to put in legend.  Note that artists whose label start with an underscore are ignored when legend() is called with no argument.\n",
      "  axs[row][col].legend()\n"
     ]
    },
    {
     "name": "stdout",
     "output_type": "stream",
     "text": [
      "Moviepy - Done !\n",
      "Moviepy - video ready checkpoints/CartPole-v1_quantized_search_48/step_1665/videos/CartPole-v1_quantized_search_48/1665/CartPole-v1_quantized_search_48-episode-24.mp4\n",
      "score:  181.0\n",
      "score:  167.0\n",
      "score:  340.0\n",
      "score:  175.0\n",
      "score:  378.0\n",
      "Moviepy - Building video checkpoints/CartPole-v1_quantized_search_48/step_1998/videos/CartPole-v1_quantized_search_48/1998/CartPole-v1_quantized_search_48-episode-29.mp4.\n",
      "Moviepy - Writing video checkpoints/CartPole-v1_quantized_search_48/step_1998/videos/CartPole-v1_quantized_search_48/1998/CartPole-v1_quantized_search_48-episode-29.mp4\n",
      "\n"
     ]
    },
    {
     "name": "stderr",
     "output_type": "stream",
     "text": [
      "/Users/jonathanlamontange-kratz/Documents/GitHub/rl-stuff/packages/utils/utils/utils.py:257: UserWarning: No artists with labels found to put in legend.  Note that artists whose label start with an underscore are ignored when legend() is called with no argument.\n",
      "  axs[row][col].legend()\n"
     ]
    },
    {
     "name": "stdout",
     "output_type": "stream",
     "text": [
      "Moviepy - Done !\n",
      "Moviepy - video ready checkpoints/CartPole-v1_quantized_search_48/step_1998/videos/CartPole-v1_quantized_search_48/1998/CartPole-v1_quantized_search_48-episode-29.mp4\n",
      "score:  346.0\n",
      "score:  115.0\n",
      "score:  109.0\n",
      "score:  10.0\n",
      "score:  116.0\n",
      "Moviepy - Building video checkpoints/CartPole-v1_quantized_search_48/step_2331/videos/CartPole-v1_quantized_search_48/2331/CartPole-v1_quantized_search_48-episode-34.mp4.\n",
      "Moviepy - Writing video checkpoints/CartPole-v1_quantized_search_48/step_2331/videos/CartPole-v1_quantized_search_48/2331/CartPole-v1_quantized_search_48-episode-34.mp4\n",
      "\n"
     ]
    },
    {
     "name": "stderr",
     "output_type": "stream",
     "text": [
      "/Users/jonathanlamontange-kratz/Documents/GitHub/rl-stuff/packages/utils/utils/utils.py:257: UserWarning: No artists with labels found to put in legend.  Note that artists whose label start with an underscore are ignored when legend() is called with no argument.\n",
      "  axs[row][col].legend()\n"
     ]
    },
    {
     "name": "stdout",
     "output_type": "stream",
     "text": [
      "Moviepy - Done !\n",
      "Moviepy - video ready checkpoints/CartPole-v1_quantized_search_48/step_2331/videos/CartPole-v1_quantized_search_48/2331/CartPole-v1_quantized_search_48-episode-34.mp4\n",
      "score:  124.0\n",
      "score:  131.0\n",
      "score:  141.0\n",
      "score:  135.0\n",
      "score:  129.0\n",
      "Moviepy - Building video checkpoints/CartPole-v1_quantized_search_48/step_2664/videos/CartPole-v1_quantized_search_48/2664/CartPole-v1_quantized_search_48-episode-39.mp4.\n",
      "Moviepy - Writing video checkpoints/CartPole-v1_quantized_search_48/step_2664/videos/CartPole-v1_quantized_search_48/2664/CartPole-v1_quantized_search_48-episode-39.mp4\n",
      "\n"
     ]
    },
    {
     "name": "stderr",
     "output_type": "stream",
     "text": [
      "/Users/jonathanlamontange-kratz/Documents/GitHub/rl-stuff/packages/utils/utils/utils.py:257: UserWarning: No artists with labels found to put in legend.  Note that artists whose label start with an underscore are ignored when legend() is called with no argument.\n",
      "  axs[row][col].legend()\n"
     ]
    },
    {
     "name": "stdout",
     "output_type": "stream",
     "text": [
      "Moviepy - Done !\n",
      "Moviepy - video ready checkpoints/CartPole-v1_quantized_search_48/step_2664/videos/CartPole-v1_quantized_search_48/2664/CartPole-v1_quantized_search_48-episode-39.mp4\n",
      "score:  125.0\n",
      "score:  77.0\n",
      "score:  12.0\n",
      "score:  76.0\n",
      "score:  71.0\n",
      "Moviepy - Building video checkpoints/CartPole-v1_quantized_search_48/step_2997/videos/CartPole-v1_quantized_search_48/2997/CartPole-v1_quantized_search_48-episode-44.mp4.\n",
      "Moviepy - Writing video checkpoints/CartPole-v1_quantized_search_48/step_2997/videos/CartPole-v1_quantized_search_48/2997/CartPole-v1_quantized_search_48-episode-44.mp4\n",
      "\n"
     ]
    },
    {
     "name": "stderr",
     "output_type": "stream",
     "text": [
      "/Users/jonathanlamontange-kratz/Documents/GitHub/rl-stuff/packages/utils/utils/utils.py:257: UserWarning: No artists with labels found to put in legend.  Note that artists whose label start with an underscore are ignored when legend() is called with no argument.\n",
      "  axs[row][col].legend()\n"
     ]
    },
    {
     "name": "stdout",
     "output_type": "stream",
     "text": [
      "Moviepy - Done !\n",
      "Moviepy - video ready checkpoints/CartPole-v1_quantized_search_48/step_2997/videos/CartPole-v1_quantized_search_48/2997/CartPole-v1_quantized_search_48-episode-44.mp4\n",
      "score:  102.0\n",
      "score:  95.0\n",
      "score:  101.0\n",
      "score:  90.0\n",
      "score:  9.0\n",
      "Moviepy - Building video checkpoints/CartPole-v1_quantized_search_48/step_3330/videos/CartPole-v1_quantized_search_48/3330/CartPole-v1_quantized_search_48-episode-49.mp4.\n",
      "Moviepy - Writing video checkpoints/CartPole-v1_quantized_search_48/step_3330/videos/CartPole-v1_quantized_search_48/3330/CartPole-v1_quantized_search_48-episode-49.mp4\n",
      "\n"
     ]
    },
    {
     "name": "stderr",
     "output_type": "stream",
     "text": [
      "/Users/jonathanlamontange-kratz/Documents/GitHub/rl-stuff/packages/utils/utils/utils.py:257: UserWarning: No artists with labels found to put in legend.  Note that artists whose label start with an underscore are ignored when legend() is called with no argument.\n",
      "  axs[row][col].legend()\n"
     ]
    },
    {
     "name": "stdout",
     "output_type": "stream",
     "text": [
      "Moviepy - Done !\n",
      "Moviepy - video ready checkpoints/CartPole-v1_quantized_search_48/step_3330/videos/CartPole-v1_quantized_search_48/3330/CartPole-v1_quantized_search_48-episode-49.mp4\n",
      "score:  12.0\n",
      "score:  115.0\n",
      "score:  135.0\n",
      "score:  112.0\n",
      "score:  46.0\n",
      "Moviepy - Building video checkpoints/CartPole-v1_quantized_search_48/step_3663/videos/CartPole-v1_quantized_search_48/3663/CartPole-v1_quantized_search_48-episode-54.mp4.\n",
      "Moviepy - Writing video checkpoints/CartPole-v1_quantized_search_48/step_3663/videos/CartPole-v1_quantized_search_48/3663/CartPole-v1_quantized_search_48-episode-54.mp4\n",
      "\n"
     ]
    },
    {
     "name": "stderr",
     "output_type": "stream",
     "text": [
      "/Users/jonathanlamontange-kratz/Documents/GitHub/rl-stuff/packages/utils/utils/utils.py:257: UserWarning: No artists with labels found to put in legend.  Note that artists whose label start with an underscore are ignored when legend() is called with no argument.\n",
      "  axs[row][col].legend()\n"
     ]
    },
    {
     "name": "stdout",
     "output_type": "stream",
     "text": [
      "Moviepy - Done !\n",
      "Moviepy - video ready checkpoints/CartPole-v1_quantized_search_48/step_3663/videos/CartPole-v1_quantized_search_48/3663/CartPole-v1_quantized_search_48-episode-54.mp4\n",
      "score:  123.0\n",
      "score:  93.0\n",
      "score:  100.0\n",
      "score:  88.0\n",
      "score:  98.0\n",
      "Moviepy - Building video checkpoints/CartPole-v1_quantized_search_48/step_3996/videos/CartPole-v1_quantized_search_48/3996/CartPole-v1_quantized_search_48-episode-59.mp4.\n",
      "Moviepy - Writing video checkpoints/CartPole-v1_quantized_search_48/step_3996/videos/CartPole-v1_quantized_search_48/3996/CartPole-v1_quantized_search_48-episode-59.mp4\n",
      "\n"
     ]
    },
    {
     "name": "stderr",
     "output_type": "stream",
     "text": [
      "                                                              \r"
     ]
    },
    {
     "name": "stdout",
     "output_type": "stream",
     "text": [
      "Moviepy - Done !\n",
      "Moviepy - video ready checkpoints/CartPole-v1_quantized_search_48/step_3996/videos/CartPole-v1_quantized_search_48/3996/CartPole-v1_quantized_search_48-episode-59.mp4\n",
      "score:  103.0\n"
     ]
    },
    {
     "name": "stderr",
     "output_type": "stream",
     "text": [
      "/Users/jonathanlamontange-kratz/Documents/GitHub/rl-stuff/packages/utils/utils/utils.py:257: UserWarning: No artists with labels found to put in legend.  Note that artists whose label start with an underscore are ignored when legend() is called with no argument.\n",
      "  axs[row][col].legend()\n"
     ]
    },
    {
     "name": "stdout",
     "output_type": "stream",
     "text": [
      "score:  100.0\n",
      "score:  92.0\n",
      "score:  99.0\n",
      "score:  96.0\n",
      "Moviepy - Building video checkpoints/CartPole-v1_quantized_search_48/step_4329/videos/CartPole-v1_quantized_search_48/4329/CartPole-v1_quantized_search_48-episode-64.mp4.\n",
      "Moviepy - Writing video checkpoints/CartPole-v1_quantized_search_48/step_4329/videos/CartPole-v1_quantized_search_48/4329/CartPole-v1_quantized_search_48-episode-64.mp4\n",
      "\n"
     ]
    },
    {
     "name": "stderr",
     "output_type": "stream",
     "text": [
      "/Users/jonathanlamontange-kratz/Documents/GitHub/rl-stuff/packages/utils/utils/utils.py:257: UserWarning: No artists with labels found to put in legend.  Note that artists whose label start with an underscore are ignored when legend() is called with no argument.\n",
      "  axs[row][col].legend()\n"
     ]
    },
    {
     "name": "stdout",
     "output_type": "stream",
     "text": [
      "Moviepy - Done !\n",
      "Moviepy - video ready checkpoints/CartPole-v1_quantized_search_48/step_4329/videos/CartPole-v1_quantized_search_48/4329/CartPole-v1_quantized_search_48-episode-64.mp4\n",
      "score:  100.0\n",
      "score:  271.0\n",
      "score:  341.0\n",
      "score:  355.0\n",
      "score:  312.0\n",
      "Moviepy - Building video checkpoints/CartPole-v1_quantized_search_48/step_4662/videos/CartPole-v1_quantized_search_48/4662/CartPole-v1_quantized_search_48-episode-69.mp4.\n",
      "Moviepy - Writing video checkpoints/CartPole-v1_quantized_search_48/step_4662/videos/CartPole-v1_quantized_search_48/4662/CartPole-v1_quantized_search_48-episode-69.mp4\n",
      "\n"
     ]
    },
    {
     "name": "stderr",
     "output_type": "stream",
     "text": [
      "/Users/jonathanlamontange-kratz/Documents/GitHub/rl-stuff/packages/utils/utils/utils.py:257: UserWarning: No artists with labels found to put in legend.  Note that artists whose label start with an underscore are ignored when legend() is called with no argument.\n",
      "  axs[row][col].legend()\n"
     ]
    },
    {
     "name": "stdout",
     "output_type": "stream",
     "text": [
      "Moviepy - Done !\n",
      "Moviepy - video ready checkpoints/CartPole-v1_quantized_search_48/step_4662/videos/CartPole-v1_quantized_search_48/4662/CartPole-v1_quantized_search_48-episode-69.mp4\n",
      "score:  354.0\n",
      "score:  95.0\n",
      "score:  91.0\n",
      "score:  97.0\n",
      "score:  100.0\n",
      "Moviepy - Building video checkpoints/CartPole-v1_quantized_search_48/step_4995/videos/CartPole-v1_quantized_search_48/4995/CartPole-v1_quantized_search_48-episode-74.mp4.\n",
      "Moviepy - Writing video checkpoints/CartPole-v1_quantized_search_48/step_4995/videos/CartPole-v1_quantized_search_48/4995/CartPole-v1_quantized_search_48-episode-74.mp4\n",
      "\n"
     ]
    },
    {
     "name": "stderr",
     "output_type": "stream",
     "text": [
      "/Users/jonathanlamontange-kratz/Documents/GitHub/rl-stuff/packages/utils/utils/utils.py:257: UserWarning: No artists with labels found to put in legend.  Note that artists whose label start with an underscore are ignored when legend() is called with no argument.\n",
      "  axs[row][col].legend()\n"
     ]
    },
    {
     "name": "stdout",
     "output_type": "stream",
     "text": [
      "Moviepy - Done !\n",
      "Moviepy - video ready checkpoints/CartPole-v1_quantized_search_48/step_4995/videos/CartPole-v1_quantized_search_48/4995/CartPole-v1_quantized_search_48-episode-74.mp4\n",
      "score:  90.0\n",
      "score:  125.0\n",
      "score:  130.0\n",
      "score:  113.0\n",
      "score:  125.0\n",
      "Moviepy - Building video checkpoints/CartPole-v1_quantized_search_48/step_5328/videos/CartPole-v1_quantized_search_48/5328/CartPole-v1_quantized_search_48-episode-79.mp4.\n",
      "Moviepy - Writing video checkpoints/CartPole-v1_quantized_search_48/step_5328/videos/CartPole-v1_quantized_search_48/5328/CartPole-v1_quantized_search_48-episode-79.mp4\n",
      "\n"
     ]
    },
    {
     "name": "stderr",
     "output_type": "stream",
     "text": [
      "                                                               \r"
     ]
    },
    {
     "name": "stdout",
     "output_type": "stream",
     "text": [
      "Moviepy - Done !\n",
      "Moviepy - video ready checkpoints/CartPole-v1_quantized_search_48/step_5328/videos/CartPole-v1_quantized_search_48/5328/CartPole-v1_quantized_search_48-episode-79.mp4\n",
      "score:  127.0\n"
     ]
    },
    {
     "name": "stderr",
     "output_type": "stream",
     "text": [
      "/Users/jonathanlamontange-kratz/Documents/GitHub/rl-stuff/packages/utils/utils/utils.py:257: UserWarning: No artists with labels found to put in legend.  Note that artists whose label start with an underscore are ignored when legend() is called with no argument.\n",
      "  axs[row][col].legend()\n"
     ]
    },
    {
     "name": "stdout",
     "output_type": "stream",
     "text": [
      "score:  108.0\n",
      "score:  106.0\n",
      "score:  103.0\n",
      "score:  105.0\n",
      "Moviepy - Building video checkpoints/CartPole-v1_quantized_search_48/step_5661/videos/CartPole-v1_quantized_search_48/5661/CartPole-v1_quantized_search_48-episode-84.mp4.\n",
      "Moviepy - Writing video checkpoints/CartPole-v1_quantized_search_48/step_5661/videos/CartPole-v1_quantized_search_48/5661/CartPole-v1_quantized_search_48-episode-84.mp4\n",
      "\n"
     ]
    },
    {
     "name": "stderr",
     "output_type": "stream",
     "text": [
      "                                                              \r"
     ]
    },
    {
     "name": "stdout",
     "output_type": "stream",
     "text": [
      "Moviepy - Done !\n",
      "Moviepy - video ready checkpoints/CartPole-v1_quantized_search_48/step_5661/videos/CartPole-v1_quantized_search_48/5661/CartPole-v1_quantized_search_48-episode-84.mp4\n",
      "score:  106.0\n"
     ]
    },
    {
     "name": "stderr",
     "output_type": "stream",
     "text": [
      "/Users/jonathanlamontange-kratz/Documents/GitHub/rl-stuff/packages/utils/utils/utils.py:257: UserWarning: No artists with labels found to put in legend.  Note that artists whose label start with an underscore are ignored when legend() is called with no argument.\n",
      "  axs[row][col].legend()\n"
     ]
    },
    {
     "name": "stdout",
     "output_type": "stream",
     "text": [
      "score:  115.0\n",
      "score:  117.0\n",
      "score:  111.0\n",
      "score:  120.0\n",
      "Moviepy - Building video checkpoints/CartPole-v1_quantized_search_48/step_5994/videos/CartPole-v1_quantized_search_48/5994/CartPole-v1_quantized_search_48-episode-89.mp4.\n",
      "Moviepy - Writing video checkpoints/CartPole-v1_quantized_search_48/step_5994/videos/CartPole-v1_quantized_search_48/5994/CartPole-v1_quantized_search_48-episode-89.mp4\n",
      "\n"
     ]
    },
    {
     "name": "stderr",
     "output_type": "stream",
     "text": [
      "/Users/jonathanlamontange-kratz/Documents/GitHub/rl-stuff/packages/utils/utils/utils.py:257: UserWarning: No artists with labels found to put in legend.  Note that artists whose label start with an underscore are ignored when legend() is called with no argument.\n",
      "  axs[row][col].legend()\n"
     ]
    },
    {
     "name": "stdout",
     "output_type": "stream",
     "text": [
      "Moviepy - Done !\n",
      "Moviepy - video ready checkpoints/CartPole-v1_quantized_search_48/step_5994/videos/CartPole-v1_quantized_search_48/5994/CartPole-v1_quantized_search_48-episode-89.mp4\n",
      "score:  111.0\n",
      "score:  97.0\n",
      "score:  105.0\n",
      "score:  96.0\n",
      "score:  99.0\n",
      "Moviepy - Building video checkpoints/CartPole-v1_quantized_search_48/step_6327/videos/CartPole-v1_quantized_search_48/6327/CartPole-v1_quantized_search_48-episode-94.mp4.\n",
      "Moviepy - Writing video checkpoints/CartPole-v1_quantized_search_48/step_6327/videos/CartPole-v1_quantized_search_48/6327/CartPole-v1_quantized_search_48-episode-94.mp4\n",
      "\n"
     ]
    },
    {
     "name": "stderr",
     "output_type": "stream",
     "text": [
      "/Users/jonathanlamontange-kratz/Documents/GitHub/rl-stuff/packages/utils/utils/utils.py:257: UserWarning: No artists with labels found to put in legend.  Note that artists whose label start with an underscore are ignored when legend() is called with no argument.\n",
      "  axs[row][col].legend()\n"
     ]
    },
    {
     "name": "stdout",
     "output_type": "stream",
     "text": [
      "Moviepy - Done !\n",
      "Moviepy - video ready checkpoints/CartPole-v1_quantized_search_48/step_6327/videos/CartPole-v1_quantized_search_48/6327/CartPole-v1_quantized_search_48-episode-94.mp4\n",
      "score:  103.0\n",
      "score:  500.0\n",
      "score:  60.0\n",
      "score:  84.0\n",
      "score:  169.0\n",
      "Moviepy - Building video checkpoints/CartPole-v1_quantized_search_48/step_6660/videos/CartPole-v1_quantized_search_48/6660/CartPole-v1_quantized_search_48-episode-99.mp4.\n",
      "Moviepy - Writing video checkpoints/CartPole-v1_quantized_search_48/step_6660/videos/CartPole-v1_quantized_search_48/6660/CartPole-v1_quantized_search_48-episode-99.mp4\n",
      "\n"
     ]
    },
    {
     "name": "stderr",
     "output_type": "stream",
     "text": [
      "                                                             \r"
     ]
    },
    {
     "name": "stdout",
     "output_type": "stream",
     "text": [
      "Moviepy - Done !\n",
      "Moviepy - video ready checkpoints/CartPole-v1_quantized_search_48/step_6660/videos/CartPole-v1_quantized_search_48/6660/CartPole-v1_quantized_search_48-episode-99.mp4\n",
      "score:  90.0\n"
     ]
    },
    {
     "name": "stderr",
     "output_type": "stream",
     "text": [
      "/Users/jonathanlamontange-kratz/Documents/GitHub/rl-stuff/packages/utils/utils/utils.py:257: UserWarning: No artists with labels found to put in legend.  Note that artists whose label start with an underscore are ignored when legend() is called with no argument.\n",
      "  axs[row][col].legend()\n"
     ]
    },
    {
     "name": "stdout",
     "output_type": "stream",
     "text": [
      "score:  14.0\n",
      "score:  91.0\n",
      "score:  87.0\n",
      "score:  83.0\n",
      "Moviepy - Building video checkpoints/CartPole-v1_quantized_search_48/step_6993/videos/CartPole-v1_quantized_search_48/6993/CartPole-v1_quantized_search_48-episode-104.mp4.\n",
      "Moviepy - Writing video checkpoints/CartPole-v1_quantized_search_48/step_6993/videos/CartPole-v1_quantized_search_48/6993/CartPole-v1_quantized_search_48-episode-104.mp4\n",
      "\n"
     ]
    },
    {
     "name": "stderr",
     "output_type": "stream",
     "text": [
      "                                                           \r"
     ]
    },
    {
     "name": "stdout",
     "output_type": "stream",
     "text": [
      "Moviepy - Done !\n",
      "Moviepy - video ready checkpoints/CartPole-v1_quantized_search_48/step_6993/videos/CartPole-v1_quantized_search_48/6993/CartPole-v1_quantized_search_48-episode-104.mp4\n",
      "score:  13.0\n"
     ]
    },
    {
     "name": "stderr",
     "output_type": "stream",
     "text": [
      "/Users/jonathanlamontange-kratz/Documents/GitHub/rl-stuff/packages/utils/utils/utils.py:257: UserWarning: No artists with labels found to put in legend.  Note that artists whose label start with an underscore are ignored when legend() is called with no argument.\n",
      "  axs[row][col].legend()\n"
     ]
    },
    {
     "name": "stdout",
     "output_type": "stream",
     "text": [
      "score:  28.0\n",
      "score:  36.0\n",
      "score:  35.0\n",
      "score:  32.0\n",
      "Moviepy - Building video checkpoints/CartPole-v1_quantized_search_48/step_7326/videos/CartPole-v1_quantized_search_48/7326/CartPole-v1_quantized_search_48-episode-109.mp4.\n",
      "Moviepy - Writing video checkpoints/CartPole-v1_quantized_search_48/step_7326/videos/CartPole-v1_quantized_search_48/7326/CartPole-v1_quantized_search_48-episode-109.mp4\n",
      "\n"
     ]
    },
    {
     "name": "stderr",
     "output_type": "stream",
     "text": [
      "                                                           \r"
     ]
    },
    {
     "name": "stdout",
     "output_type": "stream",
     "text": [
      "Moviepy - Done !\n",
      "Moviepy - video ready checkpoints/CartPole-v1_quantized_search_48/step_7326/videos/CartPole-v1_quantized_search_48/7326/CartPole-v1_quantized_search_48-episode-109.mp4\n",
      "score:  32.0\n"
     ]
    },
    {
     "name": "stderr",
     "output_type": "stream",
     "text": [
      "/Users/jonathanlamontange-kratz/Documents/GitHub/rl-stuff/packages/utils/utils/utils.py:257: UserWarning: No artists with labels found to put in legend.  Note that artists whose label start with an underscore are ignored when legend() is called with no argument.\n",
      "  axs[row][col].legend()\n"
     ]
    },
    {
     "name": "stdout",
     "output_type": "stream",
     "text": [
      "score:  500.0\n",
      "score:  500.0\n",
      "score:  500.0\n",
      "score:  500.0\n",
      "Moviepy - Building video checkpoints/CartPole-v1_quantized_search_48/step_7659/videos/CartPole-v1_quantized_search_48/7659/CartPole-v1_quantized_search_48-episode-114.mp4.\n",
      "Moviepy - Writing video checkpoints/CartPole-v1_quantized_search_48/step_7659/videos/CartPole-v1_quantized_search_48/7659/CartPole-v1_quantized_search_48-episode-114.mp4\n",
      "\n"
     ]
    },
    {
     "name": "stderr",
     "output_type": "stream",
     "text": [
      "                                                               \r"
     ]
    },
    {
     "name": "stdout",
     "output_type": "stream",
     "text": [
      "Moviepy - Done !\n",
      "Moviepy - video ready checkpoints/CartPole-v1_quantized_search_48/step_7659/videos/CartPole-v1_quantized_search_48/7659/CartPole-v1_quantized_search_48-episode-114.mp4\n",
      "score:  500.0\n"
     ]
    },
    {
     "name": "stderr",
     "output_type": "stream",
     "text": [
      "/Users/jonathanlamontange-kratz/Documents/GitHub/rl-stuff/packages/utils/utils/utils.py:257: UserWarning: No artists with labels found to put in legend.  Note that artists whose label start with an underscore are ignored when legend() is called with no argument.\n",
      "  axs[row][col].legend()\n"
     ]
    },
    {
     "name": "stdout",
     "output_type": "stream",
     "text": [
      "score:  91.0\n",
      "score:  95.0\n",
      "score:  93.0\n",
      "score:  91.0\n",
      "Moviepy - Building video checkpoints/CartPole-v1_quantized_search_48/step_7992/videos/CartPole-v1_quantized_search_48/7992/CartPole-v1_quantized_search_48-episode-119.mp4.\n",
      "Moviepy - Writing video checkpoints/CartPole-v1_quantized_search_48/step_7992/videos/CartPole-v1_quantized_search_48/7992/CartPole-v1_quantized_search_48-episode-119.mp4\n",
      "\n"
     ]
    },
    {
     "name": "stderr",
     "output_type": "stream",
     "text": [
      "                                                             \r"
     ]
    },
    {
     "name": "stdout",
     "output_type": "stream",
     "text": [
      "Moviepy - Done !\n",
      "Moviepy - video ready checkpoints/CartPole-v1_quantized_search_48/step_7992/videos/CartPole-v1_quantized_search_48/7992/CartPole-v1_quantized_search_48-episode-119.mp4\n",
      "score:  94.0\n"
     ]
    },
    {
     "name": "stderr",
     "output_type": "stream",
     "text": [
      "/Users/jonathanlamontange-kratz/Documents/GitHub/rl-stuff/packages/utils/utils/utils.py:257: UserWarning: No artists with labels found to put in legend.  Note that artists whose label start with an underscore are ignored when legend() is called with no argument.\n",
      "  axs[row][col].legend()\n"
     ]
    },
    {
     "name": "stdout",
     "output_type": "stream",
     "text": [
      "score:  108.0\n",
      "score:  110.0\n",
      "score:  106.0\n",
      "score:  100.0\n",
      "Moviepy - Building video checkpoints/CartPole-v1_quantized_search_48/step_8325/videos/CartPole-v1_quantized_search_48/8325/CartPole-v1_quantized_search_48-episode-124.mp4.\n",
      "Moviepy - Writing video checkpoints/CartPole-v1_quantized_search_48/step_8325/videos/CartPole-v1_quantized_search_48/8325/CartPole-v1_quantized_search_48-episode-124.mp4\n",
      "\n"
     ]
    },
    {
     "name": "stderr",
     "output_type": "stream",
     "text": [
      "                                                              \r"
     ]
    },
    {
     "name": "stdout",
     "output_type": "stream",
     "text": [
      "Moviepy - Done !\n",
      "Moviepy - video ready checkpoints/CartPole-v1_quantized_search_48/step_8325/videos/CartPole-v1_quantized_search_48/8325/CartPole-v1_quantized_search_48-episode-124.mp4\n",
      "score:  106.0\n"
     ]
    },
    {
     "name": "stderr",
     "output_type": "stream",
     "text": [
      "/Users/jonathanlamontange-kratz/Documents/GitHub/rl-stuff/packages/utils/utils/utils.py:257: UserWarning: No artists with labels found to put in legend.  Note that artists whose label start with an underscore are ignored when legend() is called with no argument.\n",
      "  axs[row][col].legend()\n"
     ]
    },
    {
     "name": "stdout",
     "output_type": "stream",
     "text": [
      "score:  112.0\n",
      "score:  120.0\n",
      "score:  124.0\n",
      "score:  132.0\n",
      "Moviepy - Building video checkpoints/CartPole-v1_quantized_search_48/step_8658/videos/CartPole-v1_quantized_search_48/8658/CartPole-v1_quantized_search_48-episode-129.mp4.\n",
      "Moviepy - Writing video checkpoints/CartPole-v1_quantized_search_48/step_8658/videos/CartPole-v1_quantized_search_48/8658/CartPole-v1_quantized_search_48-episode-129.mp4\n",
      "\n"
     ]
    },
    {
     "name": "stderr",
     "output_type": "stream",
     "text": [
      "                                                               \r"
     ]
    },
    {
     "name": "stdout",
     "output_type": "stream",
     "text": [
      "Moviepy - Done !\n",
      "Moviepy - video ready checkpoints/CartPole-v1_quantized_search_48/step_8658/videos/CartPole-v1_quantized_search_48/8658/CartPole-v1_quantized_search_48-episode-129.mp4\n",
      "score:  122.0\n"
     ]
    },
    {
     "name": "stderr",
     "output_type": "stream",
     "text": [
      "/Users/jonathanlamontange-kratz/Documents/GitHub/rl-stuff/packages/utils/utils/utils.py:257: UserWarning: No artists with labels found to put in legend.  Note that artists whose label start with an underscore are ignored when legend() is called with no argument.\n",
      "  axs[row][col].legend()\n"
     ]
    },
    {
     "name": "stdout",
     "output_type": "stream",
     "text": [
      "score:  176.0\n",
      "score:  210.0\n",
      "score:  170.0\n",
      "score:  176.0\n",
      "Moviepy - Building video checkpoints/CartPole-v1_quantized_search_48/step_8991/videos/CartPole-v1_quantized_search_48/8991/CartPole-v1_quantized_search_48-episode-134.mp4.\n",
      "Moviepy - Writing video checkpoints/CartPole-v1_quantized_search_48/step_8991/videos/CartPole-v1_quantized_search_48/8991/CartPole-v1_quantized_search_48-episode-134.mp4\n",
      "\n"
     ]
    },
    {
     "name": "stderr",
     "output_type": "stream",
     "text": [
      "                                                               \r"
     ]
    },
    {
     "name": "stdout",
     "output_type": "stream",
     "text": [
      "Moviepy - Done !\n",
      "Moviepy - video ready checkpoints/CartPole-v1_quantized_search_48/step_8991/videos/CartPole-v1_quantized_search_48/8991/CartPole-v1_quantized_search_48-episode-134.mp4\n",
      "score:  218.0\n"
     ]
    },
    {
     "name": "stderr",
     "output_type": "stream",
     "text": [
      "/Users/jonathanlamontange-kratz/Documents/GitHub/rl-stuff/packages/utils/utils/utils.py:257: UserWarning: No artists with labels found to put in legend.  Note that artists whose label start with an underscore are ignored when legend() is called with no argument.\n",
      "  axs[row][col].legend()\n"
     ]
    },
    {
     "name": "stdout",
     "output_type": "stream",
     "text": [
      "score:  106.0\n",
      "score:  106.0\n",
      "score:  107.0\n",
      "score:  109.0\n",
      "Moviepy - Building video checkpoints/CartPole-v1_quantized_search_48/step_9324/videos/CartPole-v1_quantized_search_48/9324/CartPole-v1_quantized_search_48-episode-139.mp4.\n",
      "Moviepy - Writing video checkpoints/CartPole-v1_quantized_search_48/step_9324/videos/CartPole-v1_quantized_search_48/9324/CartPole-v1_quantized_search_48-episode-139.mp4\n",
      "\n"
     ]
    },
    {
     "name": "stderr",
     "output_type": "stream",
     "text": [
      "                                                              \r"
     ]
    },
    {
     "name": "stdout",
     "output_type": "stream",
     "text": [
      "Moviepy - Done !\n",
      "Moviepy - video ready checkpoints/CartPole-v1_quantized_search_48/step_9324/videos/CartPole-v1_quantized_search_48/9324/CartPole-v1_quantized_search_48-episode-139.mp4\n",
      "score:  100.0\n"
     ]
    },
    {
     "name": "stderr",
     "output_type": "stream",
     "text": [
      "/Users/jonathanlamontange-kratz/Documents/GitHub/rl-stuff/packages/utils/utils/utils.py:257: UserWarning: No artists with labels found to put in legend.  Note that artists whose label start with an underscore are ignored when legend() is called with no argument.\n",
      "  axs[row][col].legend()\n"
     ]
    },
    {
     "name": "stdout",
     "output_type": "stream",
     "text": [
      "score:  89.0\n",
      "score:  81.0\n",
      "score:  99.0\n",
      "score:  79.0\n",
      "Moviepy - Building video checkpoints/CartPole-v1_quantized_search_48/step_9657/videos/CartPole-v1_quantized_search_48/9657/CartPole-v1_quantized_search_48-episode-144.mp4.\n",
      "Moviepy - Writing video checkpoints/CartPole-v1_quantized_search_48/step_9657/videos/CartPole-v1_quantized_search_48/9657/CartPole-v1_quantized_search_48-episode-144.mp4\n",
      "\n"
     ]
    },
    {
     "name": "stderr",
     "output_type": "stream",
     "text": [
      "/Users/jonathanlamontange-kratz/Documents/GitHub/rl-stuff/packages/utils/utils/utils.py:257: UserWarning: No artists with labels found to put in legend.  Note that artists whose label start with an underscore are ignored when legend() is called with no argument.\n",
      "  axs[row][col].legend()\n"
     ]
    },
    {
     "name": "stdout",
     "output_type": "stream",
     "text": [
      "Moviepy - Done !\n",
      "Moviepy - video ready checkpoints/CartPole-v1_quantized_search_48/step_9657/videos/CartPole-v1_quantized_search_48/9657/CartPole-v1_quantized_search_48-episode-144.mp4\n",
      "score:  85.0\n",
      "score:  102.0\n",
      "score:  98.0\n",
      "score:  96.0\n",
      "score:  102.0\n",
      "Moviepy - Building video checkpoints/CartPole-v1_quantized_search_48/step_9990/videos/CartPole-v1_quantized_search_48/9990/CartPole-v1_quantized_search_48-episode-149.mp4.\n",
      "Moviepy - Writing video checkpoints/CartPole-v1_quantized_search_48/step_9990/videos/CartPole-v1_quantized_search_48/9990/CartPole-v1_quantized_search_48-episode-149.mp4\n",
      "\n"
     ]
    },
    {
     "name": "stderr",
     "output_type": "stream",
     "text": [
      "                                                             \r"
     ]
    },
    {
     "name": "stdout",
     "output_type": "stream",
     "text": [
      "Moviepy - Done !\n",
      "Moviepy - video ready checkpoints/CartPole-v1_quantized_search_48/step_9990/videos/CartPole-v1_quantized_search_48/9990/CartPole-v1_quantized_search_48-episode-149.mp4\n",
      "score:  98.0\n"
     ]
    },
    {
     "name": "stderr",
     "output_type": "stream",
     "text": [
      "/Users/jonathanlamontange-kratz/Documents/GitHub/rl-stuff/packages/utils/utils/utils.py:257: UserWarning: No artists with labels found to put in legend.  Note that artists whose label start with an underscore are ignored when legend() is called with no argument.\n",
      "  axs[row][col].legend()\n"
     ]
    },
    {
     "name": "stdout",
     "output_type": "stream",
     "text": [
      "score:  108.0\n",
      "score:  110.0\n",
      "score:  107.0\n",
      "score:  108.0\n",
      "Moviepy - Building video checkpoints/CartPole-v1_quantized_search_48/step_9999/videos/CartPole-v1_quantized_search_48/9999/CartPole-v1_quantized_search_48-episode-154.mp4.\n",
      "Moviepy - Writing video checkpoints/CartPole-v1_quantized_search_48/step_9999/videos/CartPole-v1_quantized_search_48/9999/CartPole-v1_quantized_search_48-episode-154.mp4\n",
      "\n"
     ]
    },
    {
     "name": "stderr",
     "output_type": "stream",
     "text": [
      "                                                              \r"
     ]
    },
    {
     "name": "stdout",
     "output_type": "stream",
     "text": [
      "Moviepy - Done !\n",
      "Moviepy - video ready checkpoints/CartPole-v1_quantized_search_48/step_9999/videos/CartPole-v1_quantized_search_48/9999/CartPole-v1_quantized_search_48-episode-154.mp4\n",
      "score:  106.0\n"
     ]
    },
    {
     "name": "stderr",
     "output_type": "stream",
     "text": [
      "/Users/jonathanlamontange-kratz/Documents/GitHub/rl-stuff/packages/utils/utils/utils.py:257: UserWarning: No artists with labels found to put in legend.  Note that artists whose label start with an underscore are ignored when legend() is called with no argument.\n",
      "  axs[row][col].legend()\n"
     ]
    },
    {
     "name": "stdout",
     "output_type": "stream",
     "text": [
      "Training complete\n",
      "score:  106.0\n",
      "score:  107.0\n",
      "score:  112.0\n",
      "score:  108.0\n",
      "Moviepy - Building video ./checkpoints//videos/CartPole-v1_quantized_search_48/5000/CartPole-v1_quantized_search_48-episode-159.mp4.\n",
      "Moviepy - Writing video ./checkpoints//videos/CartPole-v1_quantized_search_48/5000/CartPole-v1_quantized_search_48-episode-159.mp4\n",
      "\n"
     ]
    },
    {
     "name": "stderr",
     "output_type": "stream",
     "text": [
      "                                                              \r"
     ]
    },
    {
     "name": "stdout",
     "output_type": "stream",
     "text": [
      "Moviepy - Done !\n",
      "Moviepy - video ready ./checkpoints//videos/CartPole-v1_quantized_search_48/5000/CartPole-v1_quantized_search_48-episode-159.mp4\n",
      "score:  106.0\n",
      "score:  108.0\n",
      "score:  110.0\n",
      "score:  110.0\n",
      "score:  108.0\n",
      "score:  109.0\n",
      "parallel programs done\n",
      "Params:  {'adam_epsilon': 0.000625, 'advantage_hidden_layers_widths': (64, 256, 256, 1024), 'atom_size': 51, 'clipnorm': 1.2000000000000002, 'conv_layers': (), 'dense_layers_widths': (64, 512, 512, 512), 'discount_factor': 0.966, 'kernel_initializer': 'orthogonal', 'learning_rate': 0.00019, 'loss_function': <utils.utils.CategoricalCrossentropy object at 0x2843cf200>, 'min_replay_buffer_size': 2000, 'minibatch_size': 48, 'n_step': 4, 'per_alpha': 0.30000000000000004, 'per_beta': 0.7000000000000001, 'per_epsilon': 0.0030600000000000002, 'replay_buffer_size': 3000, 'replay_interval': 3, 'training_steps': 10000, 'transfer_interval': 40, 'value_hidden_layers_widths': (64, 64, 64, 64)}\n",
      "Making environments\n",
      "CartPole-v1_quantized_search\n",
      "Using default save_intermediate_weights     : True\n",
      "Using         training_steps                : 10000\n",
      "Using         adam_epsilon                  : 0.000625\n",
      "Using         learning_rate                 : 0.00019\n",
      "Using         clipnorm                      : 1.2000000000000002\n",
      "Using default optimizer                     : <class 'torch.optim.adam.Adam'>\n",
      "Using         loss_function                 : <utils.utils.CategoricalCrossentropy object at 0x2843cf200>\n",
      "Using default activation                    : relu\n",
      "Using         kernel_initializer            : orthogonal\n",
      "Using         minibatch_size                : 48\n",
      "Using         replay_buffer_size            : 3000\n",
      "Using         min_replay_buffer_size        : 2000\n",
      "Using default num_minibatches               : 1\n",
      "Using default training_iterations           : 1\n",
      "Using         conv_layers                   : ()\n",
      "Using         dense_layers_widths           : (64, 512, 512, 512)\n",
      "Using         value_hidden_layers_widths    : (64, 64, 64, 64)\n",
      "Using         advantage_hidden_layers_widths: (64, 256, 256, 1024)\n",
      "Using default noisy_sigma                   : 0.5\n",
      "Using default deuling                       : True\n",
      "Using         discount_factor               : 0.966\n",
      "Using default soft_update                   : False\n",
      "Using         transfer_interval             : 40\n",
      "Using default ema_beta                      : 0.99\n",
      "Using         replay_interval               : 3\n",
      "Using         per_alpha                     : 0.30000000000000004\n",
      "Using         per_beta                      : 0.7000000000000001\n",
      "Using         per_epsilon                   : 0.0030600000000000002\n",
      "Using         n_step                        : 4\n",
      "Using         atom_size                     : 51\n",
      "observation_dimensions:  (4,)\n",
      "num_actions:  2\n"
     ]
    },
    {
     "name": "stderr",
     "output_type": "stream",
     "text": [
      "/Library/Frameworks/Python.framework/Versions/3.12/lib/python3.12/site-packages/gymnasium/wrappers/record_video.py:94: UserWarning: \u001b[33mWARN: Overwriting existing videos at /Users/jonathanlamontange-kratz/Documents/GitHub/rl-stuff/experiments/rainbow_hyperopt folder (try specifying a different `video_folder` for the `RecordVideo` wrapper if this is not desired)\u001b[0m\n",
      "  logger.warn(\n"
     ]
    },
    {
     "name": "stdout",
     "output_type": "stream",
     "text": [
      "score:  9.0\n",
      "score:  10.0\n",
      "score:  10.0\n",
      "score:  10.0\n",
      "Moviepy - Building video checkpoints/CartPole-v1_quantized_search_49/step_333/videos/CartPole-v1_quantized_search_49/333/CartPole-v1_quantized_search_49-episode-4.mp4.\n",
      "Moviepy - Writing video checkpoints/CartPole-v1_quantized_search_49/step_333/videos/CartPole-v1_quantized_search_49/333/CartPole-v1_quantized_search_49-episode-4.mp4\n",
      "\n"
     ]
    },
    {
     "name": "stderr",
     "output_type": "stream",
     "text": [
      "/Users/jonathanlamontange-kratz/Documents/GitHub/rl-stuff/packages/utils/utils/utils.py:257: UserWarning: No artists with labels found to put in legend.  Note that artists whose label start with an underscore are ignored when legend() is called with no argument.\n",
      "  axs[row][col].legend()\n",
      "/Users/jonathanlamontange-kratz/Documents/GitHub/rl-stuff/packages/utils/utils/utils.py:187: UserWarning: Attempting to set identical low and high xlims makes transformation singular; automatically expanding.\n",
      "  axs[row][col].set_xlim(1, len(values))\n"
     ]
    },
    {
     "name": "stdout",
     "output_type": "stream",
     "text": [
      "Moviepy - Done !\n",
      "Moviepy - video ready checkpoints/CartPole-v1_quantized_search_49/step_333/videos/CartPole-v1_quantized_search_49/333/CartPole-v1_quantized_search_49-episode-4.mp4\n",
      "score:  10.0\n",
      "score:  10.0\n",
      "score:  10.0\n",
      "score:  11.0\n",
      "score:  11.0\n",
      "Moviepy - Building video checkpoints/CartPole-v1_quantized_search_49/step_666/videos/CartPole-v1_quantized_search_49/666/CartPole-v1_quantized_search_49-episode-9.mp4.\n",
      "Moviepy - Writing video checkpoints/CartPole-v1_quantized_search_49/step_666/videos/CartPole-v1_quantized_search_49/666/CartPole-v1_quantized_search_49-episode-9.mp4\n",
      "\n"
     ]
    },
    {
     "name": "stderr",
     "output_type": "stream",
     "text": [
      "/Users/jonathanlamontange-kratz/Documents/GitHub/rl-stuff/packages/utils/utils/utils.py:257: UserWarning: No artists with labels found to put in legend.  Note that artists whose label start with an underscore are ignored when legend() is called with no argument.\n",
      "  axs[row][col].legend()\n"
     ]
    },
    {
     "name": "stdout",
     "output_type": "stream",
     "text": [
      "Moviepy - Done !\n",
      "Moviepy - video ready checkpoints/CartPole-v1_quantized_search_49/step_666/videos/CartPole-v1_quantized_search_49/666/CartPole-v1_quantized_search_49-episode-9.mp4\n",
      "score:  8.0\n",
      "score:  8.0\n",
      "score:  9.0\n",
      "score:  10.0\n",
      "score:  12.0\n",
      "Moviepy - Building video checkpoints/CartPole-v1_quantized_search_49/step_999/videos/CartPole-v1_quantized_search_49/999/CartPole-v1_quantized_search_49-episode-14.mp4.\n",
      "Moviepy - Writing video checkpoints/CartPole-v1_quantized_search_49/step_999/videos/CartPole-v1_quantized_search_49/999/CartPole-v1_quantized_search_49-episode-14.mp4\n",
      "\n"
     ]
    },
    {
     "name": "stderr",
     "output_type": "stream",
     "text": [
      "/Users/jonathanlamontange-kratz/Documents/GitHub/rl-stuff/packages/utils/utils/utils.py:257: UserWarning: No artists with labels found to put in legend.  Note that artists whose label start with an underscore are ignored when legend() is called with no argument.\n",
      "  axs[row][col].legend()\n"
     ]
    },
    {
     "name": "stdout",
     "output_type": "stream",
     "text": [
      "Moviepy - Done !\n",
      "Moviepy - video ready checkpoints/CartPole-v1_quantized_search_49/step_999/videos/CartPole-v1_quantized_search_49/999/CartPole-v1_quantized_search_49-episode-14.mp4\n",
      "score:  11.0\n",
      "score:  11.0\n",
      "score:  9.0\n",
      "score:  11.0\n",
      "score:  11.0\n",
      "Moviepy - Building video checkpoints/CartPole-v1_quantized_search_49/step_1332/videos/CartPole-v1_quantized_search_49/1332/CartPole-v1_quantized_search_49-episode-19.mp4.\n",
      "Moviepy - Writing video checkpoints/CartPole-v1_quantized_search_49/step_1332/videos/CartPole-v1_quantized_search_49/1332/CartPole-v1_quantized_search_49-episode-19.mp4\n",
      "\n"
     ]
    },
    {
     "name": "stderr",
     "output_type": "stream",
     "text": [
      "/Users/jonathanlamontange-kratz/Documents/GitHub/rl-stuff/packages/utils/utils/utils.py:257: UserWarning: No artists with labels found to put in legend.  Note that artists whose label start with an underscore are ignored when legend() is called with no argument.\n",
      "  axs[row][col].legend()\n"
     ]
    },
    {
     "name": "stdout",
     "output_type": "stream",
     "text": [
      "Moviepy - Done !\n",
      "Moviepy - video ready checkpoints/CartPole-v1_quantized_search_49/step_1332/videos/CartPole-v1_quantized_search_49/1332/CartPole-v1_quantized_search_49-episode-19.mp4\n",
      "score:  8.0\n",
      "score:  10.0\n",
      "score:  10.0\n",
      "score:  9.0\n",
      "score:  10.0\n",
      "Moviepy - Building video checkpoints/CartPole-v1_quantized_search_49/step_1665/videos/CartPole-v1_quantized_search_49/1665/CartPole-v1_quantized_search_49-episode-24.mp4.\n",
      "Moviepy - Writing video checkpoints/CartPole-v1_quantized_search_49/step_1665/videos/CartPole-v1_quantized_search_49/1665/CartPole-v1_quantized_search_49-episode-24.mp4\n",
      "\n"
     ]
    },
    {
     "name": "stderr",
     "output_type": "stream",
     "text": [
      "/Users/jonathanlamontange-kratz/Documents/GitHub/rl-stuff/packages/utils/utils/utils.py:257: UserWarning: No artists with labels found to put in legend.  Note that artists whose label start with an underscore are ignored when legend() is called with no argument.\n",
      "  axs[row][col].legend()\n"
     ]
    },
    {
     "name": "stdout",
     "output_type": "stream",
     "text": [
      "Moviepy - Done !\n",
      "Moviepy - video ready checkpoints/CartPole-v1_quantized_search_49/step_1665/videos/CartPole-v1_quantized_search_49/1665/CartPole-v1_quantized_search_49-episode-24.mp4\n",
      "score:  9.0\n",
      "score:  10.0\n",
      "score:  10.0\n",
      "score:  9.0\n",
      "score:  10.0\n",
      "Moviepy - Building video checkpoints/CartPole-v1_quantized_search_49/step_1998/videos/CartPole-v1_quantized_search_49/1998/CartPole-v1_quantized_search_49-episode-29.mp4.\n",
      "Moviepy - Writing video checkpoints/CartPole-v1_quantized_search_49/step_1998/videos/CartPole-v1_quantized_search_49/1998/CartPole-v1_quantized_search_49-episode-29.mp4\n",
      "\n"
     ]
    },
    {
     "name": "stderr",
     "output_type": "stream",
     "text": [
      "/Users/jonathanlamontange-kratz/Documents/GitHub/rl-stuff/packages/utils/utils/utils.py:257: UserWarning: No artists with labels found to put in legend.  Note that artists whose label start with an underscore are ignored when legend() is called with no argument.\n",
      "  axs[row][col].legend()\n"
     ]
    },
    {
     "name": "stdout",
     "output_type": "stream",
     "text": [
      "Moviepy - Done !\n",
      "Moviepy - video ready checkpoints/CartPole-v1_quantized_search_49/step_1998/videos/CartPole-v1_quantized_search_49/1998/CartPole-v1_quantized_search_49-episode-29.mp4\n",
      "score:  9.0\n",
      "score:  11.0\n",
      "score:  11.0\n",
      "score:  9.0\n",
      "score:  9.0\n",
      "Moviepy - Building video checkpoints/CartPole-v1_quantized_search_49/step_2331/videos/CartPole-v1_quantized_search_49/2331/CartPole-v1_quantized_search_49-episode-34.mp4.\n",
      "Moviepy - Writing video checkpoints/CartPole-v1_quantized_search_49/step_2331/videos/CartPole-v1_quantized_search_49/2331/CartPole-v1_quantized_search_49-episode-34.mp4\n",
      "\n"
     ]
    },
    {
     "name": "stderr",
     "output_type": "stream",
     "text": [
      "/Users/jonathanlamontange-kratz/Documents/GitHub/rl-stuff/packages/utils/utils/utils.py:257: UserWarning: No artists with labels found to put in legend.  Note that artists whose label start with an underscore are ignored when legend() is called with no argument.\n",
      "  axs[row][col].legend()\n"
     ]
    },
    {
     "name": "stdout",
     "output_type": "stream",
     "text": [
      "Moviepy - Done !\n",
      "Moviepy - video ready checkpoints/CartPole-v1_quantized_search_49/step_2331/videos/CartPole-v1_quantized_search_49/2331/CartPole-v1_quantized_search_49-episode-34.mp4\n",
      "score:  9.0\n",
      "score:  10.0\n",
      "score:  9.0\n",
      "score:  8.0\n",
      "score:  10.0\n",
      "Moviepy - Building video checkpoints/CartPole-v1_quantized_search_49/step_2664/videos/CartPole-v1_quantized_search_49/2664/CartPole-v1_quantized_search_49-episode-39.mp4.\n",
      "Moviepy - Writing video checkpoints/CartPole-v1_quantized_search_49/step_2664/videos/CartPole-v1_quantized_search_49/2664/CartPole-v1_quantized_search_49-episode-39.mp4\n",
      "\n"
     ]
    },
    {
     "name": "stderr",
     "output_type": "stream",
     "text": [
      "/Users/jonathanlamontange-kratz/Documents/GitHub/rl-stuff/packages/utils/utils/utils.py:257: UserWarning: No artists with labels found to put in legend.  Note that artists whose label start with an underscore are ignored when legend() is called with no argument.\n",
      "  axs[row][col].legend()\n"
     ]
    },
    {
     "name": "stdout",
     "output_type": "stream",
     "text": [
      "Moviepy - Done !\n",
      "Moviepy - video ready checkpoints/CartPole-v1_quantized_search_49/step_2664/videos/CartPole-v1_quantized_search_49/2664/CartPole-v1_quantized_search_49-episode-39.mp4\n",
      "score:  9.0\n",
      "score:  9.0\n",
      "score:  11.0\n",
      "score:  8.0\n",
      "score:  10.0\n",
      "Moviepy - Building video checkpoints/CartPole-v1_quantized_search_49/step_2997/videos/CartPole-v1_quantized_search_49/2997/CartPole-v1_quantized_search_49-episode-44.mp4.\n",
      "Moviepy - Writing video checkpoints/CartPole-v1_quantized_search_49/step_2997/videos/CartPole-v1_quantized_search_49/2997/CartPole-v1_quantized_search_49-episode-44.mp4\n",
      "\n"
     ]
    },
    {
     "name": "stderr",
     "output_type": "stream",
     "text": [
      "/Users/jonathanlamontange-kratz/Documents/GitHub/rl-stuff/packages/utils/utils/utils.py:257: UserWarning: No artists with labels found to put in legend.  Note that artists whose label start with an underscore are ignored when legend() is called with no argument.\n",
      "  axs[row][col].legend()\n"
     ]
    },
    {
     "name": "stdout",
     "output_type": "stream",
     "text": [
      "Moviepy - Done !\n",
      "Moviepy - video ready checkpoints/CartPole-v1_quantized_search_49/step_2997/videos/CartPole-v1_quantized_search_49/2997/CartPole-v1_quantized_search_49-episode-44.mp4\n",
      "score:  10.0\n",
      "score:  11.0\n",
      "score:  10.0\n",
      "score:  10.0\n",
      "score:  11.0\n",
      "Moviepy - Building video checkpoints/CartPole-v1_quantized_search_49/step_3330/videos/CartPole-v1_quantized_search_49/3330/CartPole-v1_quantized_search_49-episode-49.mp4.\n",
      "Moviepy - Writing video checkpoints/CartPole-v1_quantized_search_49/step_3330/videos/CartPole-v1_quantized_search_49/3330/CartPole-v1_quantized_search_49-episode-49.mp4\n",
      "\n"
     ]
    },
    {
     "name": "stderr",
     "output_type": "stream",
     "text": [
      "/Users/jonathanlamontange-kratz/Documents/GitHub/rl-stuff/packages/utils/utils/utils.py:257: UserWarning: No artists with labels found to put in legend.  Note that artists whose label start with an underscore are ignored when legend() is called with no argument.\n",
      "  axs[row][col].legend()\n"
     ]
    },
    {
     "name": "stdout",
     "output_type": "stream",
     "text": [
      "Moviepy - Done !\n",
      "Moviepy - video ready checkpoints/CartPole-v1_quantized_search_49/step_3330/videos/CartPole-v1_quantized_search_49/3330/CartPole-v1_quantized_search_49-episode-49.mp4\n",
      "score:  11.0\n",
      "score:  9.0\n",
      "score:  9.0\n",
      "score:  10.0\n",
      "score:  9.0\n",
      "Moviepy - Building video checkpoints/CartPole-v1_quantized_search_49/step_3663/videos/CartPole-v1_quantized_search_49/3663/CartPole-v1_quantized_search_49-episode-54.mp4.\n",
      "Moviepy - Writing video checkpoints/CartPole-v1_quantized_search_49/step_3663/videos/CartPole-v1_quantized_search_49/3663/CartPole-v1_quantized_search_49-episode-54.mp4\n",
      "\n"
     ]
    },
    {
     "name": "stderr",
     "output_type": "stream",
     "text": [
      "/Users/jonathanlamontange-kratz/Documents/GitHub/rl-stuff/packages/utils/utils/utils.py:257: UserWarning: No artists with labels found to put in legend.  Note that artists whose label start with an underscore are ignored when legend() is called with no argument.\n",
      "  axs[row][col].legend()\n"
     ]
    },
    {
     "name": "stdout",
     "output_type": "stream",
     "text": [
      "Moviepy - Done !\n",
      "Moviepy - video ready checkpoints/CartPole-v1_quantized_search_49/step_3663/videos/CartPole-v1_quantized_search_49/3663/CartPole-v1_quantized_search_49-episode-54.mp4\n",
      "score:  9.0\n",
      "score:  9.0\n",
      "score:  9.0\n",
      "score:  9.0\n",
      "score:  10.0\n",
      "Moviepy - Building video checkpoints/CartPole-v1_quantized_search_49/step_3996/videos/CartPole-v1_quantized_search_49/3996/CartPole-v1_quantized_search_49-episode-59.mp4.\n",
      "Moviepy - Writing video checkpoints/CartPole-v1_quantized_search_49/step_3996/videos/CartPole-v1_quantized_search_49/3996/CartPole-v1_quantized_search_49-episode-59.mp4\n",
      "\n"
     ]
    },
    {
     "name": "stderr",
     "output_type": "stream",
     "text": [
      "/Users/jonathanlamontange-kratz/Documents/GitHub/rl-stuff/packages/utils/utils/utils.py:257: UserWarning: No artists with labels found to put in legend.  Note that artists whose label start with an underscore are ignored when legend() is called with no argument.\n",
      "  axs[row][col].legend()\n"
     ]
    },
    {
     "name": "stdout",
     "output_type": "stream",
     "text": [
      "Moviepy - Done !\n",
      "Moviepy - video ready checkpoints/CartPole-v1_quantized_search_49/step_3996/videos/CartPole-v1_quantized_search_49/3996/CartPole-v1_quantized_search_49-episode-59.mp4\n",
      "score:  11.0\n",
      "score:  10.0\n",
      "score:  9.0\n",
      "score:  9.0\n",
      "score:  10.0\n",
      "Moviepy - Building video checkpoints/CartPole-v1_quantized_search_49/step_4329/videos/CartPole-v1_quantized_search_49/4329/CartPole-v1_quantized_search_49-episode-64.mp4.\n",
      "Moviepy - Writing video checkpoints/CartPole-v1_quantized_search_49/step_4329/videos/CartPole-v1_quantized_search_49/4329/CartPole-v1_quantized_search_49-episode-64.mp4\n",
      "\n"
     ]
    },
    {
     "name": "stderr",
     "output_type": "stream",
     "text": [
      "/Users/jonathanlamontange-kratz/Documents/GitHub/rl-stuff/packages/utils/utils/utils.py:257: UserWarning: No artists with labels found to put in legend.  Note that artists whose label start with an underscore are ignored when legend() is called with no argument.\n",
      "  axs[row][col].legend()\n"
     ]
    },
    {
     "name": "stdout",
     "output_type": "stream",
     "text": [
      "Moviepy - Done !\n",
      "Moviepy - video ready checkpoints/CartPole-v1_quantized_search_49/step_4329/videos/CartPole-v1_quantized_search_49/4329/CartPole-v1_quantized_search_49-episode-64.mp4\n",
      "score:  8.0\n",
      "score:  10.0\n",
      "score:  10.0\n",
      "score:  9.0\n",
      "score:  9.0\n",
      "Moviepy - Building video checkpoints/CartPole-v1_quantized_search_49/step_4662/videos/CartPole-v1_quantized_search_49/4662/CartPole-v1_quantized_search_49-episode-69.mp4.\n",
      "Moviepy - Writing video checkpoints/CartPole-v1_quantized_search_49/step_4662/videos/CartPole-v1_quantized_search_49/4662/CartPole-v1_quantized_search_49-episode-69.mp4\n",
      "\n"
     ]
    },
    {
     "name": "stderr",
     "output_type": "stream",
     "text": [
      "                                                           \r"
     ]
    },
    {
     "name": "stdout",
     "output_type": "stream",
     "text": [
      "Moviepy - Done !\n",
      "Moviepy - video ready checkpoints/CartPole-v1_quantized_search_49/step_4662/videos/CartPole-v1_quantized_search_49/4662/CartPole-v1_quantized_search_49-episode-69.mp4\n",
      "score:  9.0\n"
     ]
    },
    {
     "name": "stderr",
     "output_type": "stream",
     "text": [
      "/Users/jonathanlamontange-kratz/Documents/GitHub/rl-stuff/packages/utils/utils/utils.py:257: UserWarning: No artists with labels found to put in legend.  Note that artists whose label start with an underscore are ignored when legend() is called with no argument.\n",
      "  axs[row][col].legend()\n"
     ]
    },
    {
     "name": "stdout",
     "output_type": "stream",
     "text": [
      "score:  9.0\n",
      "score:  10.0\n",
      "score:  8.0\n",
      "score:  10.0\n",
      "Moviepy - Building video checkpoints/CartPole-v1_quantized_search_49/step_4995/videos/CartPole-v1_quantized_search_49/4995/CartPole-v1_quantized_search_49-episode-74.mp4.\n",
      "Moviepy - Writing video checkpoints/CartPole-v1_quantized_search_49/step_4995/videos/CartPole-v1_quantized_search_49/4995/CartPole-v1_quantized_search_49-episode-74.mp4\n",
      "\n"
     ]
    },
    {
     "name": "stderr",
     "output_type": "stream",
     "text": [
      "                                                           \r"
     ]
    },
    {
     "name": "stdout",
     "output_type": "stream",
     "text": [
      "Moviepy - Done !\n",
      "Moviepy - video ready checkpoints/CartPole-v1_quantized_search_49/step_4995/videos/CartPole-v1_quantized_search_49/4995/CartPole-v1_quantized_search_49-episode-74.mp4\n",
      "score:  10.0\n"
     ]
    },
    {
     "name": "stderr",
     "output_type": "stream",
     "text": [
      "/Users/jonathanlamontange-kratz/Documents/GitHub/rl-stuff/packages/utils/utils/utils.py:257: UserWarning: No artists with labels found to put in legend.  Note that artists whose label start with an underscore are ignored when legend() is called with no argument.\n",
      "  axs[row][col].legend()\n"
     ]
    },
    {
     "name": "stdout",
     "output_type": "stream",
     "text": [
      "score:  10.0\n",
      "score:  9.0\n",
      "score:  9.0\n",
      "score:  10.0\n",
      "Moviepy - Building video checkpoints/CartPole-v1_quantized_search_49/step_5328/videos/CartPole-v1_quantized_search_49/5328/CartPole-v1_quantized_search_49-episode-79.mp4.\n",
      "Moviepy - Writing video checkpoints/CartPole-v1_quantized_search_49/step_5328/videos/CartPole-v1_quantized_search_49/5328/CartPole-v1_quantized_search_49-episode-79.mp4\n",
      "\n"
     ]
    },
    {
     "name": "stderr",
     "output_type": "stream",
     "text": [
      "/Users/jonathanlamontange-kratz/Documents/GitHub/rl-stuff/packages/utils/utils/utils.py:257: UserWarning: No artists with labels found to put in legend.  Note that artists whose label start with an underscore are ignored when legend() is called with no argument.\n",
      "  axs[row][col].legend()\n"
     ]
    },
    {
     "name": "stdout",
     "output_type": "stream",
     "text": [
      "Moviepy - Done !\n",
      "Moviepy - video ready checkpoints/CartPole-v1_quantized_search_49/step_5328/videos/CartPole-v1_quantized_search_49/5328/CartPole-v1_quantized_search_49-episode-79.mp4\n",
      "score:  9.0\n",
      "score:  9.0\n",
      "score:  9.0\n",
      "score:  10.0\n",
      "score:  11.0\n",
      "Moviepy - Building video checkpoints/CartPole-v1_quantized_search_49/step_5661/videos/CartPole-v1_quantized_search_49/5661/CartPole-v1_quantized_search_49-episode-84.mp4.\n",
      "Moviepy - Writing video checkpoints/CartPole-v1_quantized_search_49/step_5661/videos/CartPole-v1_quantized_search_49/5661/CartPole-v1_quantized_search_49-episode-84.mp4\n",
      "\n"
     ]
    },
    {
     "name": "stderr",
     "output_type": "stream",
     "text": [
      "/Users/jonathanlamontange-kratz/Documents/GitHub/rl-stuff/packages/utils/utils/utils.py:257: UserWarning: No artists with labels found to put in legend.  Note that artists whose label start with an underscore are ignored when legend() is called with no argument.\n",
      "  axs[row][col].legend()\n"
     ]
    },
    {
     "name": "stdout",
     "output_type": "stream",
     "text": [
      "Moviepy - Done !\n",
      "Moviepy - video ready checkpoints/CartPole-v1_quantized_search_49/step_5661/videos/CartPole-v1_quantized_search_49/5661/CartPole-v1_quantized_search_49-episode-84.mp4\n",
      "score:  10.0\n",
      "score:  10.0\n",
      "score:  9.0\n",
      "score:  10.0\n",
      "score:  9.0\n",
      "Moviepy - Building video checkpoints/CartPole-v1_quantized_search_49/step_5994/videos/CartPole-v1_quantized_search_49/5994/CartPole-v1_quantized_search_49-episode-89.mp4.\n",
      "Moviepy - Writing video checkpoints/CartPole-v1_quantized_search_49/step_5994/videos/CartPole-v1_quantized_search_49/5994/CartPole-v1_quantized_search_49-episode-89.mp4\n",
      "\n"
     ]
    },
    {
     "name": "stderr",
     "output_type": "stream",
     "text": [
      "/Users/jonathanlamontange-kratz/Documents/GitHub/rl-stuff/packages/utils/utils/utils.py:257: UserWarning: No artists with labels found to put in legend.  Note that artists whose label start with an underscore are ignored when legend() is called with no argument.\n",
      "  axs[row][col].legend()\n"
     ]
    },
    {
     "name": "stdout",
     "output_type": "stream",
     "text": [
      "Moviepy - Done !\n",
      "Moviepy - video ready checkpoints/CartPole-v1_quantized_search_49/step_5994/videos/CartPole-v1_quantized_search_49/5994/CartPole-v1_quantized_search_49-episode-89.mp4\n",
      "score:  9.0\n",
      "score:  8.0\n",
      "score:  8.0\n",
      "score:  8.0\n",
      "score:  10.0\n",
      "Moviepy - Building video checkpoints/CartPole-v1_quantized_search_49/step_6327/videos/CartPole-v1_quantized_search_49/6327/CartPole-v1_quantized_search_49-episode-94.mp4.\n",
      "Moviepy - Writing video checkpoints/CartPole-v1_quantized_search_49/step_6327/videos/CartPole-v1_quantized_search_49/6327/CartPole-v1_quantized_search_49-episode-94.mp4\n",
      "\n"
     ]
    },
    {
     "name": "stderr",
     "output_type": "stream",
     "text": [
      "                                                           \r"
     ]
    },
    {
     "name": "stdout",
     "output_type": "stream",
     "text": [
      "Moviepy - Done !\n",
      "Moviepy - video ready checkpoints/CartPole-v1_quantized_search_49/step_6327/videos/CartPole-v1_quantized_search_49/6327/CartPole-v1_quantized_search_49-episode-94.mp4\n",
      "score:  9.0\n"
     ]
    },
    {
     "name": "stderr",
     "output_type": "stream",
     "text": [
      "/Users/jonathanlamontange-kratz/Documents/GitHub/rl-stuff/packages/utils/utils/utils.py:257: UserWarning: No artists with labels found to put in legend.  Note that artists whose label start with an underscore are ignored when legend() is called with no argument.\n",
      "  axs[row][col].legend()\n"
     ]
    },
    {
     "name": "stdout",
     "output_type": "stream",
     "text": [
      "score:  9.0\n",
      "score:  10.0\n",
      "score:  9.0\n",
      "score:  9.0\n",
      "Moviepy - Building video checkpoints/CartPole-v1_quantized_search_49/step_6660/videos/CartPole-v1_quantized_search_49/6660/CartPole-v1_quantized_search_49-episode-99.mp4.\n",
      "Moviepy - Writing video checkpoints/CartPole-v1_quantized_search_49/step_6660/videos/CartPole-v1_quantized_search_49/6660/CartPole-v1_quantized_search_49-episode-99.mp4\n",
      "\n"
     ]
    },
    {
     "name": "stderr",
     "output_type": "stream",
     "text": [
      "                                                           \r"
     ]
    },
    {
     "name": "stdout",
     "output_type": "stream",
     "text": [
      "Moviepy - Done !\n",
      "Moviepy - video ready checkpoints/CartPole-v1_quantized_search_49/step_6660/videos/CartPole-v1_quantized_search_49/6660/CartPole-v1_quantized_search_49-episode-99.mp4\n",
      "score:  10.0\n"
     ]
    },
    {
     "name": "stderr",
     "output_type": "stream",
     "text": [
      "/Users/jonathanlamontange-kratz/Documents/GitHub/rl-stuff/packages/utils/utils/utils.py:257: UserWarning: No artists with labels found to put in legend.  Note that artists whose label start with an underscore are ignored when legend() is called with no argument.\n",
      "  axs[row][col].legend()\n"
     ]
    },
    {
     "name": "stdout",
     "output_type": "stream",
     "text": [
      "score:  10.0\n",
      "score:  8.0\n",
      "score:  8.0\n",
      "score:  11.0\n",
      "Moviepy - Building video checkpoints/CartPole-v1_quantized_search_49/step_6993/videos/CartPole-v1_quantized_search_49/6993/CartPole-v1_quantized_search_49-episode-104.mp4.\n",
      "Moviepy - Writing video checkpoints/CartPole-v1_quantized_search_49/step_6993/videos/CartPole-v1_quantized_search_49/6993/CartPole-v1_quantized_search_49-episode-104.mp4\n",
      "\n"
     ]
    },
    {
     "name": "stderr",
     "output_type": "stream",
     "text": [
      "/Users/jonathanlamontange-kratz/Documents/GitHub/rl-stuff/packages/utils/utils/utils.py:257: UserWarning: No artists with labels found to put in legend.  Note that artists whose label start with an underscore are ignored when legend() is called with no argument.\n",
      "  axs[row][col].legend()\n"
     ]
    },
    {
     "name": "stdout",
     "output_type": "stream",
     "text": [
      "Moviepy - Done !\n",
      "Moviepy - video ready checkpoints/CartPole-v1_quantized_search_49/step_6993/videos/CartPole-v1_quantized_search_49/6993/CartPole-v1_quantized_search_49-episode-104.mp4\n",
      "score:  8.0\n",
      "score:  9.0\n",
      "score:  11.0\n",
      "score:  9.0\n",
      "score:  9.0\n",
      "Moviepy - Building video checkpoints/CartPole-v1_quantized_search_49/step_7326/videos/CartPole-v1_quantized_search_49/7326/CartPole-v1_quantized_search_49-episode-109.mp4.\n",
      "Moviepy - Writing video checkpoints/CartPole-v1_quantized_search_49/step_7326/videos/CartPole-v1_quantized_search_49/7326/CartPole-v1_quantized_search_49-episode-109.mp4\n",
      "\n"
     ]
    },
    {
     "name": "stderr",
     "output_type": "stream",
     "text": [
      "/Users/jonathanlamontange-kratz/Documents/GitHub/rl-stuff/packages/utils/utils/utils.py:257: UserWarning: No artists with labels found to put in legend.  Note that artists whose label start with an underscore are ignored when legend() is called with no argument.\n",
      "  axs[row][col].legend()\n"
     ]
    },
    {
     "name": "stdout",
     "output_type": "stream",
     "text": [
      "Moviepy - Done !\n",
      "Moviepy - video ready checkpoints/CartPole-v1_quantized_search_49/step_7326/videos/CartPole-v1_quantized_search_49/7326/CartPole-v1_quantized_search_49-episode-109.mp4\n",
      "score:  8.0\n",
      "score:  10.0\n",
      "score:  9.0\n",
      "score:  9.0\n",
      "score:  9.0\n",
      "Moviepy - Building video checkpoints/CartPole-v1_quantized_search_49/step_7659/videos/CartPole-v1_quantized_search_49/7659/CartPole-v1_quantized_search_49-episode-114.mp4.\n",
      "Moviepy - Writing video checkpoints/CartPole-v1_quantized_search_49/step_7659/videos/CartPole-v1_quantized_search_49/7659/CartPole-v1_quantized_search_49-episode-114.mp4\n",
      "\n"
     ]
    },
    {
     "name": "stderr",
     "output_type": "stream",
     "text": [
      "                                                           \r"
     ]
    },
    {
     "name": "stdout",
     "output_type": "stream",
     "text": [
      "Moviepy - Done !\n",
      "Moviepy - video ready checkpoints/CartPole-v1_quantized_search_49/step_7659/videos/CartPole-v1_quantized_search_49/7659/CartPole-v1_quantized_search_49-episode-114.mp4\n",
      "score:  9.0\n"
     ]
    },
    {
     "name": "stderr",
     "output_type": "stream",
     "text": [
      "/Users/jonathanlamontange-kratz/Documents/GitHub/rl-stuff/packages/utils/utils/utils.py:257: UserWarning: No artists with labels found to put in legend.  Note that artists whose label start with an underscore are ignored when legend() is called with no argument.\n",
      "  axs[row][col].legend()\n"
     ]
    },
    {
     "name": "stdout",
     "output_type": "stream",
     "text": [
      "score:  9.0\n",
      "score:  9.0\n",
      "score:  10.0\n",
      "score:  9.0\n",
      "Moviepy - Building video checkpoints/CartPole-v1_quantized_search_49/step_7992/videos/CartPole-v1_quantized_search_49/7992/CartPole-v1_quantized_search_49-episode-119.mp4.\n",
      "Moviepy - Writing video checkpoints/CartPole-v1_quantized_search_49/step_7992/videos/CartPole-v1_quantized_search_49/7992/CartPole-v1_quantized_search_49-episode-119.mp4\n",
      "\n"
     ]
    },
    {
     "name": "stderr",
     "output_type": "stream",
     "text": [
      "/Users/jonathanlamontange-kratz/Documents/GitHub/rl-stuff/packages/utils/utils/utils.py:257: UserWarning: No artists with labels found to put in legend.  Note that artists whose label start with an underscore are ignored when legend() is called with no argument.\n",
      "  axs[row][col].legend()\n"
     ]
    },
    {
     "name": "stdout",
     "output_type": "stream",
     "text": [
      "Moviepy - Done !\n",
      "Moviepy - video ready checkpoints/CartPole-v1_quantized_search_49/step_7992/videos/CartPole-v1_quantized_search_49/7992/CartPole-v1_quantized_search_49-episode-119.mp4\n",
      "score:  8.0\n",
      "score:  10.0\n",
      "score:  9.0\n",
      "score:  9.0\n",
      "score:  9.0\n",
      "Moviepy - Building video checkpoints/CartPole-v1_quantized_search_49/step_8325/videos/CartPole-v1_quantized_search_49/8325/CartPole-v1_quantized_search_49-episode-124.mp4.\n",
      "Moviepy - Writing video checkpoints/CartPole-v1_quantized_search_49/step_8325/videos/CartPole-v1_quantized_search_49/8325/CartPole-v1_quantized_search_49-episode-124.mp4\n",
      "\n"
     ]
    },
    {
     "name": "stderr",
     "output_type": "stream",
     "text": [
      "/Users/jonathanlamontange-kratz/Documents/GitHub/rl-stuff/packages/utils/utils/utils.py:257: UserWarning: No artists with labels found to put in legend.  Note that artists whose label start with an underscore are ignored when legend() is called with no argument.\n",
      "  axs[row][col].legend()\n"
     ]
    },
    {
     "name": "stdout",
     "output_type": "stream",
     "text": [
      "Moviepy - Done !\n",
      "Moviepy - video ready checkpoints/CartPole-v1_quantized_search_49/step_8325/videos/CartPole-v1_quantized_search_49/8325/CartPole-v1_quantized_search_49-episode-124.mp4\n",
      "score:  8.0\n",
      "score:  10.0\n",
      "score:  10.0\n",
      "score:  9.0\n",
      "score:  8.0\n",
      "Moviepy - Building video checkpoints/CartPole-v1_quantized_search_49/step_8658/videos/CartPole-v1_quantized_search_49/8658/CartPole-v1_quantized_search_49-episode-129.mp4.\n",
      "Moviepy - Writing video checkpoints/CartPole-v1_quantized_search_49/step_8658/videos/CartPole-v1_quantized_search_49/8658/CartPole-v1_quantized_search_49-episode-129.mp4\n",
      "\n"
     ]
    },
    {
     "name": "stderr",
     "output_type": "stream",
     "text": [
      "                                                           \r"
     ]
    },
    {
     "name": "stdout",
     "output_type": "stream",
     "text": [
      "Moviepy - Done !\n",
      "Moviepy - video ready checkpoints/CartPole-v1_quantized_search_49/step_8658/videos/CartPole-v1_quantized_search_49/8658/CartPole-v1_quantized_search_49-episode-129.mp4\n",
      "score:  9.0\n"
     ]
    },
    {
     "name": "stderr",
     "output_type": "stream",
     "text": [
      "/Users/jonathanlamontange-kratz/Documents/GitHub/rl-stuff/packages/utils/utils/utils.py:257: UserWarning: No artists with labels found to put in legend.  Note that artists whose label start with an underscore are ignored when legend() is called with no argument.\n",
      "  axs[row][col].legend()\n"
     ]
    },
    {
     "name": "stdout",
     "output_type": "stream",
     "text": [
      "score:  9.0\n",
      "score:  9.0\n",
      "score:  9.0\n",
      "score:  8.0\n",
      "Moviepy - Building video checkpoints/CartPole-v1_quantized_search_49/step_8991/videos/CartPole-v1_quantized_search_49/8991/CartPole-v1_quantized_search_49-episode-134.mp4.\n",
      "Moviepy - Writing video checkpoints/CartPole-v1_quantized_search_49/step_8991/videos/CartPole-v1_quantized_search_49/8991/CartPole-v1_quantized_search_49-episode-134.mp4\n",
      "\n"
     ]
    },
    {
     "name": "stderr",
     "output_type": "stream",
     "text": [
      "/Users/jonathanlamontange-kratz/Documents/GitHub/rl-stuff/packages/utils/utils/utils.py:257: UserWarning: No artists with labels found to put in legend.  Note that artists whose label start with an underscore are ignored when legend() is called with no argument.\n",
      "  axs[row][col].legend()\n"
     ]
    },
    {
     "name": "stdout",
     "output_type": "stream",
     "text": [
      "Moviepy - Done !\n",
      "Moviepy - video ready checkpoints/CartPole-v1_quantized_search_49/step_8991/videos/CartPole-v1_quantized_search_49/8991/CartPole-v1_quantized_search_49-episode-134.mp4\n",
      "score:  10.0\n",
      "score:  9.0\n",
      "score:  10.0\n",
      "score:  10.0\n",
      "score:  9.0\n",
      "Moviepy - Building video checkpoints/CartPole-v1_quantized_search_49/step_9324/videos/CartPole-v1_quantized_search_49/9324/CartPole-v1_quantized_search_49-episode-139.mp4.\n",
      "Moviepy - Writing video checkpoints/CartPole-v1_quantized_search_49/step_9324/videos/CartPole-v1_quantized_search_49/9324/CartPole-v1_quantized_search_49-episode-139.mp4\n",
      "\n"
     ]
    },
    {
     "name": "stderr",
     "output_type": "stream",
     "text": [
      "                                                           \r"
     ]
    },
    {
     "name": "stdout",
     "output_type": "stream",
     "text": [
      "Moviepy - Done !\n",
      "Moviepy - video ready checkpoints/CartPole-v1_quantized_search_49/step_9324/videos/CartPole-v1_quantized_search_49/9324/CartPole-v1_quantized_search_49-episode-139.mp4\n",
      "score:  10.0\n"
     ]
    },
    {
     "name": "stderr",
     "output_type": "stream",
     "text": [
      "/Users/jonathanlamontange-kratz/Documents/GitHub/rl-stuff/packages/utils/utils/utils.py:257: UserWarning: No artists with labels found to put in legend.  Note that artists whose label start with an underscore are ignored when legend() is called with no argument.\n",
      "  axs[row][col].legend()\n"
     ]
    },
    {
     "name": "stdout",
     "output_type": "stream",
     "text": [
      "score:  8.0\n",
      "score:  9.0\n",
      "score:  9.0\n",
      "score:  8.0\n",
      "Moviepy - Building video checkpoints/CartPole-v1_quantized_search_49/step_9657/videos/CartPole-v1_quantized_search_49/9657/CartPole-v1_quantized_search_49-episode-144.mp4.\n",
      "Moviepy - Writing video checkpoints/CartPole-v1_quantized_search_49/step_9657/videos/CartPole-v1_quantized_search_49/9657/CartPole-v1_quantized_search_49-episode-144.mp4\n",
      "\n"
     ]
    },
    {
     "name": "stderr",
     "output_type": "stream",
     "text": [
      "                                                           \r"
     ]
    },
    {
     "name": "stdout",
     "output_type": "stream",
     "text": [
      "Moviepy - Done !\n",
      "Moviepy - video ready checkpoints/CartPole-v1_quantized_search_49/step_9657/videos/CartPole-v1_quantized_search_49/9657/CartPole-v1_quantized_search_49-episode-144.mp4\n",
      "score:  10.0\n"
     ]
    },
    {
     "name": "stderr",
     "output_type": "stream",
     "text": [
      "/Users/jonathanlamontange-kratz/Documents/GitHub/rl-stuff/packages/utils/utils/utils.py:257: UserWarning: No artists with labels found to put in legend.  Note that artists whose label start with an underscore are ignored when legend() is called with no argument.\n",
      "  axs[row][col].legend()\n"
     ]
    },
    {
     "name": "stdout",
     "output_type": "stream",
     "text": [
      "score:  11.0\n",
      "score:  8.0\n",
      "score:  8.0\n",
      "score:  11.0\n",
      "Moviepy - Building video checkpoints/CartPole-v1_quantized_search_49/step_9990/videos/CartPole-v1_quantized_search_49/9990/CartPole-v1_quantized_search_49-episode-149.mp4.\n",
      "Moviepy - Writing video checkpoints/CartPole-v1_quantized_search_49/step_9990/videos/CartPole-v1_quantized_search_49/9990/CartPole-v1_quantized_search_49-episode-149.mp4\n",
      "\n"
     ]
    },
    {
     "name": "stderr",
     "output_type": "stream",
     "text": [
      "                                                           \r"
     ]
    },
    {
     "name": "stdout",
     "output_type": "stream",
     "text": [
      "Moviepy - Done !\n",
      "Moviepy - video ready checkpoints/CartPole-v1_quantized_search_49/step_9990/videos/CartPole-v1_quantized_search_49/9990/CartPole-v1_quantized_search_49-episode-149.mp4\n",
      "score:  10.0\n"
     ]
    },
    {
     "name": "stderr",
     "output_type": "stream",
     "text": [
      "/Users/jonathanlamontange-kratz/Documents/GitHub/rl-stuff/packages/utils/utils/utils.py:257: UserWarning: No artists with labels found to put in legend.  Note that artists whose label start with an underscore are ignored when legend() is called with no argument.\n",
      "  axs[row][col].legend()\n"
     ]
    },
    {
     "name": "stdout",
     "output_type": "stream",
     "text": [
      "score:  8.0\n",
      "score:  9.0\n",
      "score:  8.0\n",
      "score:  10.0\n",
      "Moviepy - Building video checkpoints/CartPole-v1_quantized_search_49/step_9999/videos/CartPole-v1_quantized_search_49/9999/CartPole-v1_quantized_search_49-episode-154.mp4.\n",
      "Moviepy - Writing video checkpoints/CartPole-v1_quantized_search_49/step_9999/videos/CartPole-v1_quantized_search_49/9999/CartPole-v1_quantized_search_49-episode-154.mp4\n",
      "\n"
     ]
    },
    {
     "name": "stderr",
     "output_type": "stream",
     "text": [
      "                                                          \r"
     ]
    },
    {
     "name": "stdout",
     "output_type": "stream",
     "text": [
      "Moviepy - Done !\n",
      "Moviepy - video ready checkpoints/CartPole-v1_quantized_search_49/step_9999/videos/CartPole-v1_quantized_search_49/9999/CartPole-v1_quantized_search_49-episode-154.mp4\n",
      "score:  8.0\n"
     ]
    },
    {
     "name": "stderr",
     "output_type": "stream",
     "text": [
      "/Users/jonathanlamontange-kratz/Documents/GitHub/rl-stuff/packages/utils/utils/utils.py:257: UserWarning: No artists with labels found to put in legend.  Note that artists whose label start with an underscore are ignored when legend() is called with no argument.\n",
      "  axs[row][col].legend()\n"
     ]
    },
    {
     "name": "stdout",
     "output_type": "stream",
     "text": [
      "Training complete\n",
      "score:  10.0\n",
      "score:  9.0\n",
      "score:  9.0\n",
      "score:  8.0\n",
      "Moviepy - Building video ./checkpoints//videos/CartPole-v1_quantized_search_49/5000/CartPole-v1_quantized_search_49-episode-159.mp4.\n",
      "Moviepy - Writing video ./checkpoints//videos/CartPole-v1_quantized_search_49/5000/CartPole-v1_quantized_search_49-episode-159.mp4\n",
      "\n"
     ]
    },
    {
     "name": "stderr",
     "output_type": "stream",
     "text": [
      "                                                   "
     ]
    },
    {
     "name": "stdout",
     "output_type": "stream",
     "text": [
      "Moviepy - Done !\n",
      "Moviepy - video ready ./checkpoints//videos/CartPole-v1_quantized_search_49/5000/CartPole-v1_quantized_search_49-episode-159.mp4\n",
      "score:  10.0\n"
     ]
    },
    {
     "name": "stderr",
     "output_type": "stream",
     "text": [
      "\r"
     ]
    },
    {
     "name": "stdout",
     "output_type": "stream",
     "text": [
      "score:  9.0\n",
      "score:  10.0\n",
      "score:  10.0\n",
      "score:  9.0\n",
      "score:  10.0\n",
      "parallel programs done\n",
      "Params:  {'adam_epsilon': 0.00125, 'advantage_hidden_layers_widths': (64, 128, 512, 512), 'atom_size': 51, 'clipnorm': 11.4, 'conv_layers': (), 'dense_layers_widths': (32, 32, 512, 512), 'discount_factor': 0.9560000000000001, 'kernel_initializer': 'glorot_normal', 'learning_rate': 0.0009800000000000002, 'loss_function': <utils.utils.KLDivergence object at 0x2843cf290>, 'min_replay_buffer_size': 1625, 'minibatch_size': 80, 'n_step': 3, 'per_alpha': 0.45, 'per_beta': 0.8, 'per_epsilon': 0.00062, 'replay_buffer_size': 3000, 'replay_interval': 1, 'training_steps': 10000, 'transfer_interval': 80, 'value_hidden_layers_widths': (128, 128, 512, 512)}\n",
      "Making environments\n",
      "CartPole-v1_quantized_search\n",
      "Using default save_intermediate_weights     : True\n",
      "Using         training_steps                : 10000\n",
      "Using         adam_epsilon                  : 0.00125\n",
      "Using         learning_rate                 : 0.0009800000000000002\n",
      "Using         clipnorm                      : 11.4\n",
      "Using default optimizer                     : <class 'torch.optim.adam.Adam'>\n",
      "Using         loss_function                 : <utils.utils.KLDivergence object at 0x2843cf290>\n",
      "Using default activation                    : relu\n",
      "Using         kernel_initializer            : glorot_normal\n",
      "Using         minibatch_size                : 80\n",
      "Using         replay_buffer_size            : 3000\n",
      "Using         min_replay_buffer_size        : 1625\n",
      "Using default num_minibatches               : 1\n",
      "Using default training_iterations           : 1\n",
      "Using         conv_layers                   : ()\n",
      "Using         dense_layers_widths           : (32, 32, 512, 512)\n",
      "Using         value_hidden_layers_widths    : (128, 128, 512, 512)\n",
      "Using         advantage_hidden_layers_widths: (64, 128, 512, 512)\n",
      "Using default noisy_sigma                   : 0.5\n",
      "Using default deuling                       : True\n",
      "Using         discount_factor               : 0.9560000000000001\n",
      "Using default soft_update                   : False\n",
      "Using         transfer_interval             : 80\n",
      "Using default ema_beta                      : 0.99\n",
      "Using         replay_interval               : 1\n",
      "Using         per_alpha                     : 0.45\n",
      "Using         per_beta                      : 0.8\n",
      "Using         per_epsilon                   : 0.00062\n",
      "Using         n_step                        : 3\n",
      "Using         atom_size                     : 51\n",
      "observation_dimensions:  (4,)\n",
      "num_actions:  2\n"
     ]
    },
    {
     "name": "stderr",
     "output_type": "stream",
     "text": [
      "/Library/Frameworks/Python.framework/Versions/3.12/lib/python3.12/site-packages/gymnasium/wrappers/record_video.py:94: UserWarning: \u001b[33mWARN: Overwriting existing videos at /Users/jonathanlamontange-kratz/Documents/GitHub/rl-stuff/experiments/rainbow_hyperopt folder (try specifying a different `video_folder` for the `RecordVideo` wrapper if this is not desired)\u001b[0m\n",
      "  logger.warn(\n"
     ]
    },
    {
     "name": "stdout",
     "output_type": "stream",
     "text": [
      "score:  10.0\n",
      "score:  11.0\n",
      "score:  11.0\n",
      "score:  10.0\n",
      "Moviepy - Building video checkpoints/CartPole-v1_quantized_search_50/step_333/videos/CartPole-v1_quantized_search_50/333/CartPole-v1_quantized_search_50-episode-4.mp4.\n",
      "Moviepy - Writing video checkpoints/CartPole-v1_quantized_search_50/step_333/videos/CartPole-v1_quantized_search_50/333/CartPole-v1_quantized_search_50-episode-4.mp4\n",
      "\n"
     ]
    },
    {
     "name": "stderr",
     "output_type": "stream",
     "text": [
      "/Users/jonathanlamontange-kratz/Documents/GitHub/rl-stuff/packages/utils/utils/utils.py:257: UserWarning: No artists with labels found to put in legend.  Note that artists whose label start with an underscore are ignored when legend() is called with no argument.\n",
      "  axs[row][col].legend()\n",
      "/Users/jonathanlamontange-kratz/Documents/GitHub/rl-stuff/packages/utils/utils/utils.py:187: UserWarning: Attempting to set identical low and high xlims makes transformation singular; automatically expanding.\n",
      "  axs[row][col].set_xlim(1, len(values))\n"
     ]
    },
    {
     "name": "stdout",
     "output_type": "stream",
     "text": [
      "Moviepy - Done !\n",
      "Moviepy - video ready checkpoints/CartPole-v1_quantized_search_50/step_333/videos/CartPole-v1_quantized_search_50/333/CartPole-v1_quantized_search_50-episode-4.mp4\n",
      "score:  10.0\n",
      "score:  11.0\n",
      "score:  9.0\n",
      "score:  11.0\n",
      "score:  10.0\n",
      "Moviepy - Building video checkpoints/CartPole-v1_quantized_search_50/step_666/videos/CartPole-v1_quantized_search_50/666/CartPole-v1_quantized_search_50-episode-9.mp4.\n",
      "Moviepy - Writing video checkpoints/CartPole-v1_quantized_search_50/step_666/videos/CartPole-v1_quantized_search_50/666/CartPole-v1_quantized_search_50-episode-9.mp4\n",
      "\n"
     ]
    },
    {
     "name": "stderr",
     "output_type": "stream",
     "text": [
      "/Users/jonathanlamontange-kratz/Documents/GitHub/rl-stuff/packages/utils/utils/utils.py:257: UserWarning: No artists with labels found to put in legend.  Note that artists whose label start with an underscore are ignored when legend() is called with no argument.\n",
      "  axs[row][col].legend()\n"
     ]
    },
    {
     "name": "stdout",
     "output_type": "stream",
     "text": [
      "Moviepy - Done !\n",
      "Moviepy - video ready checkpoints/CartPole-v1_quantized_search_50/step_666/videos/CartPole-v1_quantized_search_50/666/CartPole-v1_quantized_search_50-episode-9.mp4\n",
      "score:  12.0\n",
      "score:  15.0\n",
      "score:  15.0\n",
      "score:  15.0\n",
      "score:  14.0\n",
      "Moviepy - Building video checkpoints/CartPole-v1_quantized_search_50/step_999/videos/CartPole-v1_quantized_search_50/999/CartPole-v1_quantized_search_50-episode-14.mp4.\n",
      "Moviepy - Writing video checkpoints/CartPole-v1_quantized_search_50/step_999/videos/CartPole-v1_quantized_search_50/999/CartPole-v1_quantized_search_50-episode-14.mp4\n",
      "\n"
     ]
    },
    {
     "name": "stderr",
     "output_type": "stream",
     "text": [
      "/Users/jonathanlamontange-kratz/Documents/GitHub/rl-stuff/packages/utils/utils/utils.py:257: UserWarning: No artists with labels found to put in legend.  Note that artists whose label start with an underscore are ignored when legend() is called with no argument.\n",
      "  axs[row][col].legend()\n"
     ]
    },
    {
     "name": "stdout",
     "output_type": "stream",
     "text": [
      "Moviepy - Done !\n",
      "Moviepy - video ready checkpoints/CartPole-v1_quantized_search_50/step_999/videos/CartPole-v1_quantized_search_50/999/CartPole-v1_quantized_search_50-episode-14.mp4\n",
      "score:  17.0\n",
      "score:  15.0\n",
      "score:  19.0\n",
      "score:  16.0\n",
      "score:  17.0\n",
      "Moviepy - Building video checkpoints/CartPole-v1_quantized_search_50/step_1332/videos/CartPole-v1_quantized_search_50/1332/CartPole-v1_quantized_search_50-episode-19.mp4.\n",
      "Moviepy - Writing video checkpoints/CartPole-v1_quantized_search_50/step_1332/videos/CartPole-v1_quantized_search_50/1332/CartPole-v1_quantized_search_50-episode-19.mp4\n",
      "\n"
     ]
    },
    {
     "name": "stderr",
     "output_type": "stream",
     "text": [
      "/Users/jonathanlamontange-kratz/Documents/GitHub/rl-stuff/packages/utils/utils/utils.py:257: UserWarning: No artists with labels found to put in legend.  Note that artists whose label start with an underscore are ignored when legend() is called with no argument.\n",
      "  axs[row][col].legend()\n"
     ]
    },
    {
     "name": "stdout",
     "output_type": "stream",
     "text": [
      "Moviepy - Done !\n",
      "Moviepy - video ready checkpoints/CartPole-v1_quantized_search_50/step_1332/videos/CartPole-v1_quantized_search_50/1332/CartPole-v1_quantized_search_50-episode-19.mp4\n",
      "score:  20.0\n",
      "score:  8.0\n",
      "score:  9.0\n",
      "score:  10.0\n",
      "score:  8.0\n",
      "Moviepy - Building video checkpoints/CartPole-v1_quantized_search_50/step_1665/videos/CartPole-v1_quantized_search_50/1665/CartPole-v1_quantized_search_50-episode-24.mp4.\n",
      "Moviepy - Writing video checkpoints/CartPole-v1_quantized_search_50/step_1665/videos/CartPole-v1_quantized_search_50/1665/CartPole-v1_quantized_search_50-episode-24.mp4\n",
      "\n"
     ]
    },
    {
     "name": "stderr",
     "output_type": "stream",
     "text": [
      "/Users/jonathanlamontange-kratz/Documents/GitHub/rl-stuff/packages/utils/utils/utils.py:257: UserWarning: No artists with labels found to put in legend.  Note that artists whose label start with an underscore are ignored when legend() is called with no argument.\n",
      "  axs[row][col].legend()\n"
     ]
    },
    {
     "name": "stdout",
     "output_type": "stream",
     "text": [
      "Moviepy - Done !\n",
      "Moviepy - video ready checkpoints/CartPole-v1_quantized_search_50/step_1665/videos/CartPole-v1_quantized_search_50/1665/CartPole-v1_quantized_search_50-episode-24.mp4\n",
      "score:  10.0\n",
      "score:  12.0\n",
      "score:  15.0\n",
      "score:  13.0\n",
      "score:  14.0\n",
      "Moviepy - Building video checkpoints/CartPole-v1_quantized_search_50/step_1998/videos/CartPole-v1_quantized_search_50/1998/CartPole-v1_quantized_search_50-episode-29.mp4.\n",
      "Moviepy - Writing video checkpoints/CartPole-v1_quantized_search_50/step_1998/videos/CartPole-v1_quantized_search_50/1998/CartPole-v1_quantized_search_50-episode-29.mp4\n",
      "\n"
     ]
    },
    {
     "name": "stderr",
     "output_type": "stream",
     "text": [
      "/Users/jonathanlamontange-kratz/Documents/GitHub/rl-stuff/packages/utils/utils/utils.py:257: UserWarning: No artists with labels found to put in legend.  Note that artists whose label start with an underscore are ignored when legend() is called with no argument.\n",
      "  axs[row][col].legend()\n"
     ]
    },
    {
     "name": "stdout",
     "output_type": "stream",
     "text": [
      "Moviepy - Done !\n",
      "Moviepy - video ready checkpoints/CartPole-v1_quantized_search_50/step_1998/videos/CartPole-v1_quantized_search_50/1998/CartPole-v1_quantized_search_50-episode-29.mp4\n",
      "score:  14.0\n",
      "score:  13.0\n",
      "score:  12.0\n",
      "score:  15.0\n",
      "score:  12.0\n",
      "Moviepy - Building video checkpoints/CartPole-v1_quantized_search_50/step_2331/videos/CartPole-v1_quantized_search_50/2331/CartPole-v1_quantized_search_50-episode-34.mp4.\n",
      "Moviepy - Writing video checkpoints/CartPole-v1_quantized_search_50/step_2331/videos/CartPole-v1_quantized_search_50/2331/CartPole-v1_quantized_search_50-episode-34.mp4\n",
      "\n"
     ]
    },
    {
     "name": "stderr",
     "output_type": "stream",
     "text": [
      "/Users/jonathanlamontange-kratz/Documents/GitHub/rl-stuff/packages/utils/utils/utils.py:257: UserWarning: No artists with labels found to put in legend.  Note that artists whose label start with an underscore are ignored when legend() is called with no argument.\n",
      "  axs[row][col].legend()\n"
     ]
    },
    {
     "name": "stdout",
     "output_type": "stream",
     "text": [
      "Moviepy - Done !\n",
      "Moviepy - video ready checkpoints/CartPole-v1_quantized_search_50/step_2331/videos/CartPole-v1_quantized_search_50/2331/CartPole-v1_quantized_search_50-episode-34.mp4\n",
      "score:  10.0\n",
      "score:  10.0\n",
      "score:  8.0\n",
      "score:  9.0\n",
      "score:  9.0\n",
      "Moviepy - Building video checkpoints/CartPole-v1_quantized_search_50/step_2664/videos/CartPole-v1_quantized_search_50/2664/CartPole-v1_quantized_search_50-episode-39.mp4.\n",
      "Moviepy - Writing video checkpoints/CartPole-v1_quantized_search_50/step_2664/videos/CartPole-v1_quantized_search_50/2664/CartPole-v1_quantized_search_50-episode-39.mp4\n",
      "\n"
     ]
    },
    {
     "name": "stderr",
     "output_type": "stream",
     "text": [
      "/Users/jonathanlamontange-kratz/Documents/GitHub/rl-stuff/packages/utils/utils/utils.py:257: UserWarning: No artists with labels found to put in legend.  Note that artists whose label start with an underscore are ignored when legend() is called with no argument.\n",
      "  axs[row][col].legend()\n"
     ]
    },
    {
     "name": "stdout",
     "output_type": "stream",
     "text": [
      "Moviepy - Done !\n",
      "Moviepy - video ready checkpoints/CartPole-v1_quantized_search_50/step_2664/videos/CartPole-v1_quantized_search_50/2664/CartPole-v1_quantized_search_50-episode-39.mp4\n",
      "score:  10.0\n",
      "score:  13.0\n",
      "score:  13.0\n",
      "score:  11.0\n",
      "score:  9.0\n",
      "Moviepy - Building video checkpoints/CartPole-v1_quantized_search_50/step_2997/videos/CartPole-v1_quantized_search_50/2997/CartPole-v1_quantized_search_50-episode-44.mp4.\n",
      "Moviepy - Writing video checkpoints/CartPole-v1_quantized_search_50/step_2997/videos/CartPole-v1_quantized_search_50/2997/CartPole-v1_quantized_search_50-episode-44.mp4\n",
      "\n"
     ]
    },
    {
     "name": "stderr",
     "output_type": "stream",
     "text": [
      "/Users/jonathanlamontange-kratz/Documents/GitHub/rl-stuff/packages/utils/utils/utils.py:257: UserWarning: No artists with labels found to put in legend.  Note that artists whose label start with an underscore are ignored when legend() is called with no argument.\n",
      "  axs[row][col].legend()\n"
     ]
    },
    {
     "name": "stdout",
     "output_type": "stream",
     "text": [
      "Moviepy - Done !\n",
      "Moviepy - video ready checkpoints/CartPole-v1_quantized_search_50/step_2997/videos/CartPole-v1_quantized_search_50/2997/CartPole-v1_quantized_search_50-episode-44.mp4\n",
      "score:  12.0\n",
      "score:  18.0\n",
      "score:  17.0\n",
      "score:  17.0\n",
      "score:  18.0\n",
      "Moviepy - Building video checkpoints/CartPole-v1_quantized_search_50/step_3330/videos/CartPole-v1_quantized_search_50/3330/CartPole-v1_quantized_search_50-episode-49.mp4.\n",
      "Moviepy - Writing video checkpoints/CartPole-v1_quantized_search_50/step_3330/videos/CartPole-v1_quantized_search_50/3330/CartPole-v1_quantized_search_50-episode-49.mp4\n",
      "\n"
     ]
    },
    {
     "name": "stderr",
     "output_type": "stream",
     "text": [
      "/Users/jonathanlamontange-kratz/Documents/GitHub/rl-stuff/packages/utils/utils/utils.py:257: UserWarning: No artists with labels found to put in legend.  Note that artists whose label start with an underscore are ignored when legend() is called with no argument.\n",
      "  axs[row][col].legend()\n"
     ]
    },
    {
     "name": "stdout",
     "output_type": "stream",
     "text": [
      "Moviepy - Done !\n",
      "Moviepy - video ready checkpoints/CartPole-v1_quantized_search_50/step_3330/videos/CartPole-v1_quantized_search_50/3330/CartPole-v1_quantized_search_50-episode-49.mp4\n",
      "score:  13.0\n",
      "score:  30.0\n",
      "score:  26.0\n",
      "score:  32.0\n",
      "score:  30.0\n",
      "Moviepy - Building video checkpoints/CartPole-v1_quantized_search_50/step_3663/videos/CartPole-v1_quantized_search_50/3663/CartPole-v1_quantized_search_50-episode-54.mp4.\n",
      "Moviepy - Writing video checkpoints/CartPole-v1_quantized_search_50/step_3663/videos/CartPole-v1_quantized_search_50/3663/CartPole-v1_quantized_search_50-episode-54.mp4\n",
      "\n"
     ]
    },
    {
     "name": "stderr",
     "output_type": "stream",
     "text": [
      "/Users/jonathanlamontange-kratz/Documents/GitHub/rl-stuff/packages/utils/utils/utils.py:257: UserWarning: No artists with labels found to put in legend.  Note that artists whose label start with an underscore are ignored when legend() is called with no argument.\n",
      "  axs[row][col].legend()\n"
     ]
    },
    {
     "name": "stdout",
     "output_type": "stream",
     "text": [
      "Moviepy - Done !\n",
      "Moviepy - video ready checkpoints/CartPole-v1_quantized_search_50/step_3663/videos/CartPole-v1_quantized_search_50/3663/CartPole-v1_quantized_search_50-episode-54.mp4\n",
      "score:  28.0\n",
      "score:  21.0\n",
      "score:  23.0\n",
      "score:  27.0\n",
      "score:  21.0\n",
      "Moviepy - Building video checkpoints/CartPole-v1_quantized_search_50/step_3996/videos/CartPole-v1_quantized_search_50/3996/CartPole-v1_quantized_search_50-episode-59.mp4.\n",
      "Moviepy - Writing video checkpoints/CartPole-v1_quantized_search_50/step_3996/videos/CartPole-v1_quantized_search_50/3996/CartPole-v1_quantized_search_50-episode-59.mp4\n",
      "\n"
     ]
    },
    {
     "name": "stderr",
     "output_type": "stream",
     "text": [
      "/Users/jonathanlamontange-kratz/Documents/GitHub/rl-stuff/packages/utils/utils/utils.py:257: UserWarning: No artists with labels found to put in legend.  Note that artists whose label start with an underscore are ignored when legend() is called with no argument.\n",
      "  axs[row][col].legend()\n"
     ]
    },
    {
     "name": "stdout",
     "output_type": "stream",
     "text": [
      "Moviepy - Done !\n",
      "Moviepy - video ready checkpoints/CartPole-v1_quantized_search_50/step_3996/videos/CartPole-v1_quantized_search_50/3996/CartPole-v1_quantized_search_50-episode-59.mp4\n",
      "score:  27.0\n",
      "score:  47.0\n",
      "score:  64.0\n",
      "score:  51.0\n",
      "score:  87.0\n",
      "Moviepy - Building video checkpoints/CartPole-v1_quantized_search_50/step_4329/videos/CartPole-v1_quantized_search_50/4329/CartPole-v1_quantized_search_50-episode-64.mp4.\n",
      "Moviepy - Writing video checkpoints/CartPole-v1_quantized_search_50/step_4329/videos/CartPole-v1_quantized_search_50/4329/CartPole-v1_quantized_search_50-episode-64.mp4\n",
      "\n"
     ]
    },
    {
     "name": "stderr",
     "output_type": "stream",
     "text": [
      "/Users/jonathanlamontange-kratz/Documents/GitHub/rl-stuff/packages/utils/utils/utils.py:257: UserWarning: No artists with labels found to put in legend.  Note that artists whose label start with an underscore are ignored when legend() is called with no argument.\n",
      "  axs[row][col].legend()\n"
     ]
    },
    {
     "name": "stdout",
     "output_type": "stream",
     "text": [
      "Moviepy - Done !\n",
      "Moviepy - video ready checkpoints/CartPole-v1_quantized_search_50/step_4329/videos/CartPole-v1_quantized_search_50/4329/CartPole-v1_quantized_search_50-episode-64.mp4\n",
      "score:  54.0\n",
      "score:  41.0\n",
      "score:  40.0\n",
      "score:  55.0\n",
      "score:  61.0\n",
      "Moviepy - Building video checkpoints/CartPole-v1_quantized_search_50/step_4662/videos/CartPole-v1_quantized_search_50/4662/CartPole-v1_quantized_search_50-episode-69.mp4.\n",
      "Moviepy - Writing video checkpoints/CartPole-v1_quantized_search_50/step_4662/videos/CartPole-v1_quantized_search_50/4662/CartPole-v1_quantized_search_50-episode-69.mp4\n",
      "\n"
     ]
    },
    {
     "name": "stderr",
     "output_type": "stream",
     "text": [
      "/Users/jonathanlamontange-kratz/Documents/GitHub/rl-stuff/packages/utils/utils/utils.py:257: UserWarning: No artists with labels found to put in legend.  Note that artists whose label start with an underscore are ignored when legend() is called with no argument.\n",
      "  axs[row][col].legend()\n"
     ]
    },
    {
     "name": "stdout",
     "output_type": "stream",
     "text": [
      "Moviepy - Done !\n",
      "Moviepy - video ready checkpoints/CartPole-v1_quantized_search_50/step_4662/videos/CartPole-v1_quantized_search_50/4662/CartPole-v1_quantized_search_50-episode-69.mp4\n",
      "score:  63.0\n",
      "score:  110.0\n",
      "score:  122.0\n",
      "score:  112.0\n",
      "score:  135.0\n",
      "Moviepy - Building video checkpoints/CartPole-v1_quantized_search_50/step_4995/videos/CartPole-v1_quantized_search_50/4995/CartPole-v1_quantized_search_50-episode-74.mp4.\n",
      "Moviepy - Writing video checkpoints/CartPole-v1_quantized_search_50/step_4995/videos/CartPole-v1_quantized_search_50/4995/CartPole-v1_quantized_search_50-episode-74.mp4\n",
      "\n"
     ]
    },
    {
     "name": "stderr",
     "output_type": "stream",
     "text": [
      "                                                              \r"
     ]
    },
    {
     "name": "stdout",
     "output_type": "stream",
     "text": [
      "Moviepy - Done !\n",
      "Moviepy - video ready checkpoints/CartPole-v1_quantized_search_50/step_4995/videos/CartPole-v1_quantized_search_50/4995/CartPole-v1_quantized_search_50-episode-74.mp4\n",
      "score:  112.0\n"
     ]
    },
    {
     "name": "stderr",
     "output_type": "stream",
     "text": [
      "/Users/jonathanlamontange-kratz/Documents/GitHub/rl-stuff/packages/utils/utils/utils.py:257: UserWarning: No artists with labels found to put in legend.  Note that artists whose label start with an underscore are ignored when legend() is called with no argument.\n",
      "  axs[row][col].legend()\n"
     ]
    },
    {
     "name": "stdout",
     "output_type": "stream",
     "text": [
      "score:  24.0\n",
      "score:  25.0\n",
      "score:  19.0\n",
      "score:  22.0\n",
      "Moviepy - Building video checkpoints/CartPole-v1_quantized_search_50/step_5328/videos/CartPole-v1_quantized_search_50/5328/CartPole-v1_quantized_search_50-episode-79.mp4.\n",
      "Moviepy - Writing video checkpoints/CartPole-v1_quantized_search_50/step_5328/videos/CartPole-v1_quantized_search_50/5328/CartPole-v1_quantized_search_50-episode-79.mp4\n",
      "\n"
     ]
    },
    {
     "name": "stderr",
     "output_type": "stream",
     "text": [
      "/Users/jonathanlamontange-kratz/Documents/GitHub/rl-stuff/packages/utils/utils/utils.py:257: UserWarning: No artists with labels found to put in legend.  Note that artists whose label start with an underscore are ignored when legend() is called with no argument.\n",
      "  axs[row][col].legend()\n"
     ]
    },
    {
     "name": "stdout",
     "output_type": "stream",
     "text": [
      "Moviepy - Done !\n",
      "Moviepy - video ready checkpoints/CartPole-v1_quantized_search_50/step_5328/videos/CartPole-v1_quantized_search_50/5328/CartPole-v1_quantized_search_50-episode-79.mp4\n",
      "score:  23.0\n",
      "score:  19.0\n",
      "score:  19.0\n",
      "score:  19.0\n",
      "score:  16.0\n",
      "Moviepy - Building video checkpoints/CartPole-v1_quantized_search_50/step_5661/videos/CartPole-v1_quantized_search_50/5661/CartPole-v1_quantized_search_50-episode-84.mp4.\n",
      "Moviepy - Writing video checkpoints/CartPole-v1_quantized_search_50/step_5661/videos/CartPole-v1_quantized_search_50/5661/CartPole-v1_quantized_search_50-episode-84.mp4\n",
      "\n"
     ]
    },
    {
     "name": "stderr",
     "output_type": "stream",
     "text": [
      "/Users/jonathanlamontange-kratz/Documents/GitHub/rl-stuff/packages/utils/utils/utils.py:257: UserWarning: No artists with labels found to put in legend.  Note that artists whose label start with an underscore are ignored when legend() is called with no argument.\n",
      "  axs[row][col].legend()\n"
     ]
    },
    {
     "name": "stdout",
     "output_type": "stream",
     "text": [
      "Moviepy - Done !\n",
      "Moviepy - video ready checkpoints/CartPole-v1_quantized_search_50/step_5661/videos/CartPole-v1_quantized_search_50/5661/CartPole-v1_quantized_search_50-episode-84.mp4\n",
      "score:  16.0\n",
      "score:  102.0\n",
      "score:  103.0\n",
      "score:  100.0\n",
      "score:  96.0\n",
      "Moviepy - Building video checkpoints/CartPole-v1_quantized_search_50/step_5994/videos/CartPole-v1_quantized_search_50/5994/CartPole-v1_quantized_search_50-episode-89.mp4.\n",
      "Moviepy - Writing video checkpoints/CartPole-v1_quantized_search_50/step_5994/videos/CartPole-v1_quantized_search_50/5994/CartPole-v1_quantized_search_50-episode-89.mp4\n",
      "\n"
     ]
    },
    {
     "name": "stderr",
     "output_type": "stream",
     "text": [
      "/Users/jonathanlamontange-kratz/Documents/GitHub/rl-stuff/packages/utils/utils/utils.py:257: UserWarning: No artists with labels found to put in legend.  Note that artists whose label start with an underscore are ignored when legend() is called with no argument.\n",
      "  axs[row][col].legend()\n"
     ]
    },
    {
     "name": "stdout",
     "output_type": "stream",
     "text": [
      "Moviepy - Done !\n",
      "Moviepy - video ready checkpoints/CartPole-v1_quantized_search_50/step_5994/videos/CartPole-v1_quantized_search_50/5994/CartPole-v1_quantized_search_50-episode-89.mp4\n",
      "score:  100.0\n",
      "score:  104.0\n",
      "score:  106.0\n",
      "score:  98.0\n",
      "score:  102.0\n",
      "Moviepy - Building video checkpoints/CartPole-v1_quantized_search_50/step_6327/videos/CartPole-v1_quantized_search_50/6327/CartPole-v1_quantized_search_50-episode-94.mp4.\n",
      "Moviepy - Writing video checkpoints/CartPole-v1_quantized_search_50/step_6327/videos/CartPole-v1_quantized_search_50/6327/CartPole-v1_quantized_search_50-episode-94.mp4\n",
      "\n"
     ]
    },
    {
     "name": "stderr",
     "output_type": "stream",
     "text": [
      "/Users/jonathanlamontange-kratz/Documents/GitHub/rl-stuff/packages/utils/utils/utils.py:257: UserWarning: No artists with labels found to put in legend.  Note that artists whose label start with an underscore are ignored when legend() is called with no argument.\n",
      "  axs[row][col].legend()\n"
     ]
    },
    {
     "name": "stdout",
     "output_type": "stream",
     "text": [
      "Moviepy - Done !\n",
      "Moviepy - video ready checkpoints/CartPole-v1_quantized_search_50/step_6327/videos/CartPole-v1_quantized_search_50/6327/CartPole-v1_quantized_search_50-episode-94.mp4\n",
      "score:  103.0\n",
      "score:  102.0\n",
      "score:  112.0\n",
      "score:  100.0\n",
      "score:  109.0\n",
      "Moviepy - Building video checkpoints/CartPole-v1_quantized_search_50/step_6660/videos/CartPole-v1_quantized_search_50/6660/CartPole-v1_quantized_search_50-episode-99.mp4.\n",
      "Moviepy - Writing video checkpoints/CartPole-v1_quantized_search_50/step_6660/videos/CartPole-v1_quantized_search_50/6660/CartPole-v1_quantized_search_50-episode-99.mp4\n",
      "\n"
     ]
    },
    {
     "name": "stderr",
     "output_type": "stream",
     "text": [
      "/Users/jonathanlamontange-kratz/Documents/GitHub/rl-stuff/packages/utils/utils/utils.py:257: UserWarning: No artists with labels found to put in legend.  Note that artists whose label start with an underscore are ignored when legend() is called with no argument.\n",
      "  axs[row][col].legend()\n"
     ]
    },
    {
     "name": "stdout",
     "output_type": "stream",
     "text": [
      "Moviepy - Done !\n",
      "Moviepy - video ready checkpoints/CartPole-v1_quantized_search_50/step_6660/videos/CartPole-v1_quantized_search_50/6660/CartPole-v1_quantized_search_50-episode-99.mp4\n",
      "score:  109.0\n",
      "score:  98.0\n",
      "score:  102.0\n",
      "score:  100.0\n",
      "score:  98.0\n",
      "Moviepy - Building video checkpoints/CartPole-v1_quantized_search_50/step_6993/videos/CartPole-v1_quantized_search_50/6993/CartPole-v1_quantized_search_50-episode-104.mp4.\n",
      "Moviepy - Writing video checkpoints/CartPole-v1_quantized_search_50/step_6993/videos/CartPole-v1_quantized_search_50/6993/CartPole-v1_quantized_search_50-episode-104.mp4\n",
      "\n"
     ]
    },
    {
     "name": "stderr",
     "output_type": "stream",
     "text": [
      "                                                             \r"
     ]
    },
    {
     "name": "stdout",
     "output_type": "stream",
     "text": [
      "Moviepy - Done !\n",
      "Moviepy - video ready checkpoints/CartPole-v1_quantized_search_50/step_6993/videos/CartPole-v1_quantized_search_50/6993/CartPole-v1_quantized_search_50-episode-104.mp4\n",
      "score:  98.0\n"
     ]
    },
    {
     "name": "stderr",
     "output_type": "stream",
     "text": [
      "/Users/jonathanlamontange-kratz/Documents/GitHub/rl-stuff/packages/utils/utils/utils.py:257: UserWarning: No artists with labels found to put in legend.  Note that artists whose label start with an underscore are ignored when legend() is called with no argument.\n",
      "  axs[row][col].legend()\n"
     ]
    },
    {
     "name": "stdout",
     "output_type": "stream",
     "text": [
      "score:  102.0\n",
      "score:  103.0\n",
      "score:  97.0\n",
      "score:  97.0\n",
      "Moviepy - Building video checkpoints/CartPole-v1_quantized_search_50/step_7326/videos/CartPole-v1_quantized_search_50/7326/CartPole-v1_quantized_search_50-episode-109.mp4.\n",
      "Moviepy - Writing video checkpoints/CartPole-v1_quantized_search_50/step_7326/videos/CartPole-v1_quantized_search_50/7326/CartPole-v1_quantized_search_50-episode-109.mp4\n",
      "\n"
     ]
    },
    {
     "name": "stderr",
     "output_type": "stream",
     "text": [
      "/Users/jonathanlamontange-kratz/Documents/GitHub/rl-stuff/packages/utils/utils/utils.py:257: UserWarning: No artists with labels found to put in legend.  Note that artists whose label start with an underscore are ignored when legend() is called with no argument.\n",
      "  axs[row][col].legend()\n"
     ]
    },
    {
     "name": "stdout",
     "output_type": "stream",
     "text": [
      "Moviepy - Done !\n",
      "Moviepy - video ready checkpoints/CartPole-v1_quantized_search_50/step_7326/videos/CartPole-v1_quantized_search_50/7326/CartPole-v1_quantized_search_50-episode-109.mp4\n",
      "score:  89.0\n",
      "score:  97.0\n",
      "score:  96.0\n",
      "score:  95.0\n",
      "score:  98.0\n",
      "Moviepy - Building video checkpoints/CartPole-v1_quantized_search_50/step_7659/videos/CartPole-v1_quantized_search_50/7659/CartPole-v1_quantized_search_50-episode-114.mp4.\n",
      "Moviepy - Writing video checkpoints/CartPole-v1_quantized_search_50/step_7659/videos/CartPole-v1_quantized_search_50/7659/CartPole-v1_quantized_search_50-episode-114.mp4\n",
      "\n"
     ]
    },
    {
     "name": "stderr",
     "output_type": "stream",
     "text": [
      "/Users/jonathanlamontange-kratz/Documents/GitHub/rl-stuff/packages/utils/utils/utils.py:257: UserWarning: No artists with labels found to put in legend.  Note that artists whose label start with an underscore are ignored when legend() is called with no argument.\n",
      "  axs[row][col].legend()\n"
     ]
    },
    {
     "name": "stdout",
     "output_type": "stream",
     "text": [
      "Moviepy - Done !\n",
      "Moviepy - video ready checkpoints/CartPole-v1_quantized_search_50/step_7659/videos/CartPole-v1_quantized_search_50/7659/CartPole-v1_quantized_search_50-episode-114.mp4\n",
      "score:  94.0\n",
      "score:  91.0\n",
      "score:  95.0\n",
      "score:  93.0\n",
      "score:  95.0\n",
      "Moviepy - Building video checkpoints/CartPole-v1_quantized_search_50/step_7992/videos/CartPole-v1_quantized_search_50/7992/CartPole-v1_quantized_search_50-episode-119.mp4.\n",
      "Moviepy - Writing video checkpoints/CartPole-v1_quantized_search_50/step_7992/videos/CartPole-v1_quantized_search_50/7992/CartPole-v1_quantized_search_50-episode-119.mp4\n",
      "\n"
     ]
    },
    {
     "name": "stderr",
     "output_type": "stream",
     "text": [
      "/Users/jonathanlamontange-kratz/Documents/GitHub/rl-stuff/packages/utils/utils/utils.py:257: UserWarning: No artists with labels found to put in legend.  Note that artists whose label start with an underscore are ignored when legend() is called with no argument.\n",
      "  axs[row][col].legend()\n"
     ]
    },
    {
     "name": "stdout",
     "output_type": "stream",
     "text": [
      "Moviepy - Done !\n",
      "Moviepy - video ready checkpoints/CartPole-v1_quantized_search_50/step_7992/videos/CartPole-v1_quantized_search_50/7992/CartPole-v1_quantized_search_50-episode-119.mp4\n",
      "score:  92.0\n",
      "score:  107.0\n",
      "score:  101.0\n",
      "score:  105.0\n",
      "score:  101.0\n",
      "Moviepy - Building video checkpoints/CartPole-v1_quantized_search_50/step_8325/videos/CartPole-v1_quantized_search_50/8325/CartPole-v1_quantized_search_50-episode-124.mp4.\n",
      "Moviepy - Writing video checkpoints/CartPole-v1_quantized_search_50/step_8325/videos/CartPole-v1_quantized_search_50/8325/CartPole-v1_quantized_search_50-episode-124.mp4\n",
      "\n"
     ]
    },
    {
     "name": "stderr",
     "output_type": "stream",
     "text": [
      "/Users/jonathanlamontange-kratz/Documents/GitHub/rl-stuff/packages/utils/utils/utils.py:257: UserWarning: No artists with labels found to put in legend.  Note that artists whose label start with an underscore are ignored when legend() is called with no argument.\n",
      "  axs[row][col].legend()\n"
     ]
    },
    {
     "name": "stdout",
     "output_type": "stream",
     "text": [
      "Moviepy - Done !\n",
      "Moviepy - video ready checkpoints/CartPole-v1_quantized_search_50/step_8325/videos/CartPole-v1_quantized_search_50/8325/CartPole-v1_quantized_search_50-episode-124.mp4\n",
      "score:  106.0\n",
      "score:  166.0\n",
      "score:  208.0\n",
      "score:  180.0\n",
      "score:  129.0\n",
      "Moviepy - Building video checkpoints/CartPole-v1_quantized_search_50/step_8658/videos/CartPole-v1_quantized_search_50/8658/CartPole-v1_quantized_search_50-episode-129.mp4.\n",
      "Moviepy - Writing video checkpoints/CartPole-v1_quantized_search_50/step_8658/videos/CartPole-v1_quantized_search_50/8658/CartPole-v1_quantized_search_50-episode-129.mp4\n",
      "\n"
     ]
    },
    {
     "name": "stderr",
     "output_type": "stream",
     "text": [
      "                                                               \r"
     ]
    },
    {
     "name": "stdout",
     "output_type": "stream",
     "text": [
      "Moviepy - Done !\n",
      "Moviepy - video ready checkpoints/CartPole-v1_quantized_search_50/step_8658/videos/CartPole-v1_quantized_search_50/8658/CartPole-v1_quantized_search_50-episode-129.mp4\n",
      "score:  157.0\n"
     ]
    },
    {
     "name": "stderr",
     "output_type": "stream",
     "text": [
      "/Users/jonathanlamontange-kratz/Documents/GitHub/rl-stuff/packages/utils/utils/utils.py:257: UserWarning: No artists with labels found to put in legend.  Note that artists whose label start with an underscore are ignored when legend() is called with no argument.\n",
      "  axs[row][col].legend()\n"
     ]
    },
    {
     "name": "stdout",
     "output_type": "stream",
     "text": [
      "score:  94.0\n",
      "score:  94.0\n",
      "score:  92.0\n",
      "score:  94.0\n",
      "Moviepy - Building video checkpoints/CartPole-v1_quantized_search_50/step_8991/videos/CartPole-v1_quantized_search_50/8991/CartPole-v1_quantized_search_50-episode-134.mp4.\n",
      "Moviepy - Writing video checkpoints/CartPole-v1_quantized_search_50/step_8991/videos/CartPole-v1_quantized_search_50/8991/CartPole-v1_quantized_search_50-episode-134.mp4\n",
      "\n"
     ]
    },
    {
     "name": "stderr",
     "output_type": "stream",
     "text": [
      "/Users/jonathanlamontange-kratz/Documents/GitHub/rl-stuff/packages/utils/utils/utils.py:257: UserWarning: No artists with labels found to put in legend.  Note that artists whose label start with an underscore are ignored when legend() is called with no argument.\n",
      "  axs[row][col].legend()\n"
     ]
    },
    {
     "name": "stdout",
     "output_type": "stream",
     "text": [
      "Moviepy - Done !\n",
      "Moviepy - video ready checkpoints/CartPole-v1_quantized_search_50/step_8991/videos/CartPole-v1_quantized_search_50/8991/CartPole-v1_quantized_search_50-episode-134.mp4\n",
      "score:  97.0\n",
      "score:  103.0\n",
      "score:  107.0\n",
      "score:  106.0\n",
      "score:  98.0\n",
      "Moviepy - Building video checkpoints/CartPole-v1_quantized_search_50/step_9324/videos/CartPole-v1_quantized_search_50/9324/CartPole-v1_quantized_search_50-episode-139.mp4.\n",
      "Moviepy - Writing video checkpoints/CartPole-v1_quantized_search_50/step_9324/videos/CartPole-v1_quantized_search_50/9324/CartPole-v1_quantized_search_50-episode-139.mp4\n",
      "\n"
     ]
    },
    {
     "name": "stderr",
     "output_type": "stream",
     "text": [
      "/Users/jonathanlamontange-kratz/Documents/GitHub/rl-stuff/packages/utils/utils/utils.py:257: UserWarning: No artists with labels found to put in legend.  Note that artists whose label start with an underscore are ignored when legend() is called with no argument.\n",
      "  axs[row][col].legend()\n"
     ]
    },
    {
     "name": "stdout",
     "output_type": "stream",
     "text": [
      "Moviepy - Done !\n",
      "Moviepy - video ready checkpoints/CartPole-v1_quantized_search_50/step_9324/videos/CartPole-v1_quantized_search_50/9324/CartPole-v1_quantized_search_50-episode-139.mp4\n",
      "score:  103.0\n",
      "score:  90.0\n",
      "score:  100.0\n",
      "score:  97.0\n",
      "score:  94.0\n",
      "Moviepy - Building video checkpoints/CartPole-v1_quantized_search_50/step_9657/videos/CartPole-v1_quantized_search_50/9657/CartPole-v1_quantized_search_50-episode-144.mp4.\n",
      "Moviepy - Writing video checkpoints/CartPole-v1_quantized_search_50/step_9657/videos/CartPole-v1_quantized_search_50/9657/CartPole-v1_quantized_search_50-episode-144.mp4\n",
      "\n"
     ]
    },
    {
     "name": "stderr",
     "output_type": "stream",
     "text": [
      "/Users/jonathanlamontange-kratz/Documents/GitHub/rl-stuff/packages/utils/utils/utils.py:257: UserWarning: No artists with labels found to put in legend.  Note that artists whose label start with an underscore are ignored when legend() is called with no argument.\n",
      "  axs[row][col].legend()\n"
     ]
    },
    {
     "name": "stdout",
     "output_type": "stream",
     "text": [
      "Moviepy - Done !\n",
      "Moviepy - video ready checkpoints/CartPole-v1_quantized_search_50/step_9657/videos/CartPole-v1_quantized_search_50/9657/CartPole-v1_quantized_search_50-episode-144.mp4\n",
      "score:  89.0\n",
      "score:  95.0\n",
      "score:  91.0\n",
      "score:  94.0\n",
      "score:  97.0\n",
      "Moviepy - Building video checkpoints/CartPole-v1_quantized_search_50/step_9990/videos/CartPole-v1_quantized_search_50/9990/CartPole-v1_quantized_search_50-episode-149.mp4.\n",
      "Moviepy - Writing video checkpoints/CartPole-v1_quantized_search_50/step_9990/videos/CartPole-v1_quantized_search_50/9990/CartPole-v1_quantized_search_50-episode-149.mp4\n",
      "\n"
     ]
    },
    {
     "name": "stderr",
     "output_type": "stream",
     "text": [
      "/Users/jonathanlamontange-kratz/Documents/GitHub/rl-stuff/packages/utils/utils/utils.py:257: UserWarning: No artists with labels found to put in legend.  Note that artists whose label start with an underscore are ignored when legend() is called with no argument.\n",
      "  axs[row][col].legend()\n"
     ]
    },
    {
     "name": "stdout",
     "output_type": "stream",
     "text": [
      "Moviepy - Done !\n",
      "Moviepy - video ready checkpoints/CartPole-v1_quantized_search_50/step_9990/videos/CartPole-v1_quantized_search_50/9990/CartPole-v1_quantized_search_50-episode-149.mp4\n",
      "score:  94.0\n",
      "score:  103.0\n",
      "score:  104.0\n",
      "score:  100.0\n",
      "score:  96.0\n",
      "Moviepy - Building video checkpoints/CartPole-v1_quantized_search_50/step_9999/videos/CartPole-v1_quantized_search_50/9999/CartPole-v1_quantized_search_50-episode-154.mp4.\n",
      "Moviepy - Writing video checkpoints/CartPole-v1_quantized_search_50/step_9999/videos/CartPole-v1_quantized_search_50/9999/CartPole-v1_quantized_search_50-episode-154.mp4\n",
      "\n"
     ]
    },
    {
     "name": "stderr",
     "output_type": "stream",
     "text": [
      "/Users/jonathanlamontange-kratz/Documents/GitHub/rl-stuff/packages/utils/utils/utils.py:257: UserWarning: No artists with labels found to put in legend.  Note that artists whose label start with an underscore are ignored when legend() is called with no argument.\n",
      "  axs[row][col].legend()\n"
     ]
    },
    {
     "name": "stdout",
     "output_type": "stream",
     "text": [
      "Moviepy - Done !\n",
      "Moviepy - video ready checkpoints/CartPole-v1_quantized_search_50/step_9999/videos/CartPole-v1_quantized_search_50/9999/CartPole-v1_quantized_search_50-episode-154.mp4\n",
      "score:  100.0\n",
      "Training complete\n",
      "score:  91.0\n",
      "score:  99.0\n",
      "score:  96.0\n",
      "score:  91.0\n",
      "Moviepy - Building video ./checkpoints//videos/CartPole-v1_quantized_search_50/5000/CartPole-v1_quantized_search_50-episode-159.mp4.\n",
      "Moviepy - Writing video ./checkpoints//videos/CartPole-v1_quantized_search_50/5000/CartPole-v1_quantized_search_50-episode-159.mp4\n",
      "\n"
     ]
    },
    {
     "name": "stderr",
     "output_type": "stream",
     "text": [
      "                                                              \r"
     ]
    },
    {
     "name": "stdout",
     "output_type": "stream",
     "text": [
      "Moviepy - Done !\n",
      "Moviepy - video ready ./checkpoints//videos/CartPole-v1_quantized_search_50/5000/CartPole-v1_quantized_search_50-episode-159.mp4\n",
      "score:  99.0\n",
      "score:  99.0\n",
      "score:  95.0\n",
      "score:  97.0\n",
      "score:  104.0\n",
      "score:  98.0\n",
      "parallel programs done\n",
      "Params:  {'adam_epsilon': 0.0003125, 'advantage_hidden_layers_widths': (128, 128, 256, 256), 'atom_size': 51, 'clipnorm': 0.30000000000000004, 'conv_layers': (), 'dense_layers_widths': (64, 64, 1024, 1024), 'discount_factor': 0.972, 'kernel_initializer': 'glorot_uniform', 'learning_rate': 0.00033000000000000005, 'loss_function': <utils.utils.KLDivergence object at 0x2843cf290>, 'min_replay_buffer_size': 1750, 'minibatch_size': 16, 'n_step': 5, 'per_alpha': 0.25, 'per_beta': 0.6000000000000001, 'per_epsilon': 0.007090000000000001, 'replay_buffer_size': 4000, 'replay_interval': 2, 'training_steps': 10000, 'transfer_interval': 20, 'value_hidden_layers_widths': (128, 256, 256, 256)}\n",
      "Making environments\n",
      "CartPole-v1_quantized_search\n",
      "Using default save_intermediate_weights     : True\n",
      "Using         training_steps                : 10000\n",
      "Using         adam_epsilon                  : 0.0003125\n",
      "Using         learning_rate                 : 0.00033000000000000005\n",
      "Using         clipnorm                      : 0.30000000000000004\n",
      "Using default optimizer                     : <class 'torch.optim.adam.Adam'>\n",
      "Using         loss_function                 : <utils.utils.KLDivergence object at 0x2843cf290>\n",
      "Using default activation                    : relu\n",
      "Using         kernel_initializer            : glorot_uniform\n",
      "Using         minibatch_size                : 16\n",
      "Using         replay_buffer_size            : 4000\n",
      "Using         min_replay_buffer_size        : 1750\n",
      "Using default num_minibatches               : 1\n",
      "Using default training_iterations           : 1\n",
      "Using         conv_layers                   : ()\n",
      "Using         dense_layers_widths           : (64, 64, 1024, 1024)\n",
      "Using         value_hidden_layers_widths    : (128, 256, 256, 256)\n",
      "Using         advantage_hidden_layers_widths: (128, 128, 256, 256)\n",
      "Using default noisy_sigma                   : 0.5\n",
      "Using default deuling                       : True\n",
      "Using         discount_factor               : 0.972\n",
      "Using default soft_update                   : False\n",
      "Using         transfer_interval             : 20\n",
      "Using default ema_beta                      : 0.99\n",
      "Using         replay_interval               : 2\n",
      "Using         per_alpha                     : 0.25\n",
      "Using         per_beta                      : 0.6000000000000001\n",
      "Using         per_epsilon                   : 0.007090000000000001\n",
      "Using         n_step                        : 5\n",
      "Using         atom_size                     : 51\n",
      "observation_dimensions:  (4,)\n",
      "num_actions:  2\n"
     ]
    },
    {
     "name": "stderr",
     "output_type": "stream",
     "text": [
      "/Library/Frameworks/Python.framework/Versions/3.12/lib/python3.12/site-packages/gymnasium/wrappers/record_video.py:94: UserWarning: \u001b[33mWARN: Overwriting existing videos at /Users/jonathanlamontange-kratz/Documents/GitHub/rl-stuff/experiments/rainbow_hyperopt folder (try specifying a different `video_folder` for the `RecordVideo` wrapper if this is not desired)\u001b[0m\n",
      "  logger.warn(\n"
     ]
    },
    {
     "name": "stdout",
     "output_type": "stream",
     "text": [
      "score:  10.0\n",
      "score:  11.0\n",
      "score:  12.0\n",
      "score:  11.0\n",
      "Moviepy - Building video checkpoints/CartPole-v1_quantized_search_51/step_333/videos/CartPole-v1_quantized_search_51/333/CartPole-v1_quantized_search_51-episode-4.mp4.\n",
      "Moviepy - Writing video checkpoints/CartPole-v1_quantized_search_51/step_333/videos/CartPole-v1_quantized_search_51/333/CartPole-v1_quantized_search_51-episode-4.mp4\n",
      "\n"
     ]
    },
    {
     "name": "stderr",
     "output_type": "stream",
     "text": [
      "/Users/jonathanlamontange-kratz/Documents/GitHub/rl-stuff/packages/utils/utils/utils.py:257: UserWarning: No artists with labels found to put in legend.  Note that artists whose label start with an underscore are ignored when legend() is called with no argument.\n",
      "  axs[row][col].legend()\n",
      "/Users/jonathanlamontange-kratz/Documents/GitHub/rl-stuff/packages/utils/utils/utils.py:187: UserWarning: Attempting to set identical low and high xlims makes transformation singular; automatically expanding.\n",
      "  axs[row][col].set_xlim(1, len(values))\n"
     ]
    },
    {
     "name": "stdout",
     "output_type": "stream",
     "text": [
      "Moviepy - Done !\n",
      "Moviepy - video ready checkpoints/CartPole-v1_quantized_search_51/step_333/videos/CartPole-v1_quantized_search_51/333/CartPole-v1_quantized_search_51-episode-4.mp4\n",
      "score:  10.0\n",
      "score:  54.0\n",
      "score:  26.0\n",
      "score:  34.0\n",
      "score:  42.0\n",
      "Moviepy - Building video checkpoints/CartPole-v1_quantized_search_51/step_666/videos/CartPole-v1_quantized_search_51/666/CartPole-v1_quantized_search_51-episode-9.mp4.\n",
      "Moviepy - Writing video checkpoints/CartPole-v1_quantized_search_51/step_666/videos/CartPole-v1_quantized_search_51/666/CartPole-v1_quantized_search_51-episode-9.mp4\n",
      "\n"
     ]
    },
    {
     "name": "stderr",
     "output_type": "stream",
     "text": [
      "/Users/jonathanlamontange-kratz/Documents/GitHub/rl-stuff/packages/utils/utils/utils.py:257: UserWarning: No artists with labels found to put in legend.  Note that artists whose label start with an underscore are ignored when legend() is called with no argument.\n",
      "  axs[row][col].legend()\n"
     ]
    },
    {
     "name": "stdout",
     "output_type": "stream",
     "text": [
      "Moviepy - Done !\n",
      "Moviepy - video ready checkpoints/CartPole-v1_quantized_search_51/step_666/videos/CartPole-v1_quantized_search_51/666/CartPole-v1_quantized_search_51-episode-9.mp4\n",
      "score:  30.0\n",
      "score:  12.0\n",
      "score:  16.0\n",
      "score:  13.0\n",
      "score:  15.0\n",
      "Moviepy - Building video checkpoints/CartPole-v1_quantized_search_51/step_999/videos/CartPole-v1_quantized_search_51/999/CartPole-v1_quantized_search_51-episode-14.mp4.\n",
      "Moviepy - Writing video checkpoints/CartPole-v1_quantized_search_51/step_999/videos/CartPole-v1_quantized_search_51/999/CartPole-v1_quantized_search_51-episode-14.mp4\n",
      "\n"
     ]
    },
    {
     "name": "stderr",
     "output_type": "stream",
     "text": [
      "/Users/jonathanlamontange-kratz/Documents/GitHub/rl-stuff/packages/utils/utils/utils.py:257: UserWarning: No artists with labels found to put in legend.  Note that artists whose label start with an underscore are ignored when legend() is called with no argument.\n",
      "  axs[row][col].legend()\n"
     ]
    },
    {
     "name": "stdout",
     "output_type": "stream",
     "text": [
      "Moviepy - Done !\n",
      "Moviepy - video ready checkpoints/CartPole-v1_quantized_search_51/step_999/videos/CartPole-v1_quantized_search_51/999/CartPole-v1_quantized_search_51-episode-14.mp4\n",
      "score:  20.0\n",
      "score:  11.0\n",
      "score:  12.0\n",
      "score:  13.0\n",
      "score:  9.0\n",
      "Moviepy - Building video checkpoints/CartPole-v1_quantized_search_51/step_1332/videos/CartPole-v1_quantized_search_51/1332/CartPole-v1_quantized_search_51-episode-19.mp4.\n",
      "Moviepy - Writing video checkpoints/CartPole-v1_quantized_search_51/step_1332/videos/CartPole-v1_quantized_search_51/1332/CartPole-v1_quantized_search_51-episode-19.mp4\n",
      "\n"
     ]
    },
    {
     "name": "stderr",
     "output_type": "stream",
     "text": [
      "                                                           "
     ]
    },
    {
     "name": "stdout",
     "output_type": "stream",
     "text": [
      "Moviepy - Done !\n",
      "Moviepy - video ready checkpoints/CartPole-v1_quantized_search_51/step_1332/videos/CartPole-v1_quantized_search_51/1332/CartPole-v1_quantized_search_51-episode-19.mp4\n",
      "score:  10.0\n"
     ]
    },
    {
     "name": "stderr",
     "output_type": "stream",
     "text": [
      "/Users/jonathanlamontange-kratz/Documents/GitHub/rl-stuff/packages/utils/utils/utils.py:257: UserWarning: No artists with labels found to put in legend.  Note that artists whose label start with an underscore are ignored when legend() is called with no argument.\n",
      "  axs[row][col].legend()\n"
     ]
    },
    {
     "name": "stdout",
     "output_type": "stream",
     "text": [
      "score:  10.0\n",
      "score:  14.0\n",
      "score:  17.0\n",
      "score:  14.0\n",
      "Moviepy - Building video checkpoints/CartPole-v1_quantized_search_51/step_1665/videos/CartPole-v1_quantized_search_51/1665/CartPole-v1_quantized_search_51-episode-24.mp4.\n",
      "Moviepy - Writing video checkpoints/CartPole-v1_quantized_search_51/step_1665/videos/CartPole-v1_quantized_search_51/1665/CartPole-v1_quantized_search_51-episode-24.mp4\n",
      "\n"
     ]
    },
    {
     "name": "stderr",
     "output_type": "stream",
     "text": [
      "/Users/jonathanlamontange-kratz/Documents/GitHub/rl-stuff/packages/utils/utils/utils.py:257: UserWarning: No artists with labels found to put in legend.  Note that artists whose label start with an underscore are ignored when legend() is called with no argument.\n",
      "  axs[row][col].legend()\n"
     ]
    },
    {
     "name": "stdout",
     "output_type": "stream",
     "text": [
      "Moviepy - Done !\n",
      "Moviepy - video ready checkpoints/CartPole-v1_quantized_search_51/step_1665/videos/CartPole-v1_quantized_search_51/1665/CartPole-v1_quantized_search_51-episode-24.mp4\n",
      "score:  19.0\n",
      "score:  19.0\n",
      "score:  23.0\n",
      "score:  18.0\n",
      "score:  17.0\n",
      "Moviepy - Building video checkpoints/CartPole-v1_quantized_search_51/step_1998/videos/CartPole-v1_quantized_search_51/1998/CartPole-v1_quantized_search_51-episode-29.mp4.\n",
      "Moviepy - Writing video checkpoints/CartPole-v1_quantized_search_51/step_1998/videos/CartPole-v1_quantized_search_51/1998/CartPole-v1_quantized_search_51-episode-29.mp4\n",
      "\n"
     ]
    },
    {
     "name": "stderr",
     "output_type": "stream",
     "text": [
      "/Users/jonathanlamontange-kratz/Documents/GitHub/rl-stuff/packages/utils/utils/utils.py:257: UserWarning: No artists with labels found to put in legend.  Note that artists whose label start with an underscore are ignored when legend() is called with no argument.\n",
      "  axs[row][col].legend()\n"
     ]
    },
    {
     "name": "stdout",
     "output_type": "stream",
     "text": [
      "Moviepy - Done !\n",
      "Moviepy - video ready checkpoints/CartPole-v1_quantized_search_51/step_1998/videos/CartPole-v1_quantized_search_51/1998/CartPole-v1_quantized_search_51-episode-29.mp4\n",
      "score:  21.0\n",
      "score:  9.0\n",
      "score:  9.0\n",
      "score:  11.0\n",
      "score:  11.0\n",
      "Moviepy - Building video checkpoints/CartPole-v1_quantized_search_51/step_2331/videos/CartPole-v1_quantized_search_51/2331/CartPole-v1_quantized_search_51-episode-34.mp4.\n",
      "Moviepy - Writing video checkpoints/CartPole-v1_quantized_search_51/step_2331/videos/CartPole-v1_quantized_search_51/2331/CartPole-v1_quantized_search_51-episode-34.mp4\n",
      "\n"
     ]
    },
    {
     "name": "stderr",
     "output_type": "stream",
     "text": [
      "/Users/jonathanlamontange-kratz/Documents/GitHub/rl-stuff/packages/utils/utils/utils.py:257: UserWarning: No artists with labels found to put in legend.  Note that artists whose label start with an underscore are ignored when legend() is called with no argument.\n",
      "  axs[row][col].legend()\n"
     ]
    },
    {
     "name": "stdout",
     "output_type": "stream",
     "text": [
      "Moviepy - Done !\n",
      "Moviepy - video ready checkpoints/CartPole-v1_quantized_search_51/step_2331/videos/CartPole-v1_quantized_search_51/2331/CartPole-v1_quantized_search_51-episode-34.mp4\n",
      "score:  11.0\n",
      "score:  10.0\n",
      "score:  9.0\n",
      "score:  9.0\n",
      "score:  11.0\n",
      "Moviepy - Building video checkpoints/CartPole-v1_quantized_search_51/step_2664/videos/CartPole-v1_quantized_search_51/2664/CartPole-v1_quantized_search_51-episode-39.mp4.\n",
      "Moviepy - Writing video checkpoints/CartPole-v1_quantized_search_51/step_2664/videos/CartPole-v1_quantized_search_51/2664/CartPole-v1_quantized_search_51-episode-39.mp4\n",
      "\n"
     ]
    },
    {
     "name": "stderr",
     "output_type": "stream",
     "text": [
      "/Users/jonathanlamontange-kratz/Documents/GitHub/rl-stuff/packages/utils/utils/utils.py:257: UserWarning: No artists with labels found to put in legend.  Note that artists whose label start with an underscore are ignored when legend() is called with no argument.\n",
      "  axs[row][col].legend()\n"
     ]
    },
    {
     "name": "stdout",
     "output_type": "stream",
     "text": [
      "Moviepy - Done !\n",
      "Moviepy - video ready checkpoints/CartPole-v1_quantized_search_51/step_2664/videos/CartPole-v1_quantized_search_51/2664/CartPole-v1_quantized_search_51-episode-39.mp4\n",
      "score:  10.0\n",
      "score:  9.0\n",
      "score:  8.0\n",
      "score:  8.0\n",
      "score:  10.0\n",
      "Moviepy - Building video checkpoints/CartPole-v1_quantized_search_51/step_2997/videos/CartPole-v1_quantized_search_51/2997/CartPole-v1_quantized_search_51-episode-44.mp4.\n",
      "Moviepy - Writing video checkpoints/CartPole-v1_quantized_search_51/step_2997/videos/CartPole-v1_quantized_search_51/2997/CartPole-v1_quantized_search_51-episode-44.mp4\n",
      "\n"
     ]
    },
    {
     "name": "stderr",
     "output_type": "stream",
     "text": [
      "/Users/jonathanlamontange-kratz/Documents/GitHub/rl-stuff/packages/utils/utils/utils.py:257: UserWarning: No artists with labels found to put in legend.  Note that artists whose label start with an underscore are ignored when legend() is called with no argument.\n",
      "  axs[row][col].legend()\n"
     ]
    },
    {
     "name": "stdout",
     "output_type": "stream",
     "text": [
      "Moviepy - Done !\n",
      "Moviepy - video ready checkpoints/CartPole-v1_quantized_search_51/step_2997/videos/CartPole-v1_quantized_search_51/2997/CartPole-v1_quantized_search_51-episode-44.mp4\n",
      "score:  10.0\n",
      "score:  9.0\n",
      "score:  12.0\n",
      "score:  9.0\n",
      "score:  10.0\n",
      "Moviepy - Building video checkpoints/CartPole-v1_quantized_search_51/step_3330/videos/CartPole-v1_quantized_search_51/3330/CartPole-v1_quantized_search_51-episode-49.mp4.\n",
      "Moviepy - Writing video checkpoints/CartPole-v1_quantized_search_51/step_3330/videos/CartPole-v1_quantized_search_51/3330/CartPole-v1_quantized_search_51-episode-49.mp4\n",
      "\n"
     ]
    },
    {
     "name": "stderr",
     "output_type": "stream",
     "text": [
      "                                                           \r"
     ]
    },
    {
     "name": "stdout",
     "output_type": "stream",
     "text": [
      "Moviepy - Done !\n",
      "Moviepy - video ready checkpoints/CartPole-v1_quantized_search_51/step_3330/videos/CartPole-v1_quantized_search_51/3330/CartPole-v1_quantized_search_51-episode-49.mp4\n",
      "score:  12.0\n"
     ]
    },
    {
     "name": "stderr",
     "output_type": "stream",
     "text": [
      "/Users/jonathanlamontange-kratz/Documents/GitHub/rl-stuff/packages/utils/utils/utils.py:257: UserWarning: No artists with labels found to put in legend.  Note that artists whose label start with an underscore are ignored when legend() is called with no argument.\n",
      "  axs[row][col].legend()\n"
     ]
    },
    {
     "name": "stdout",
     "output_type": "stream",
     "text": [
      "score:  69.0\n",
      "score:  24.0\n",
      "score:  73.0\n",
      "score:  20.0\n",
      "Moviepy - Building video checkpoints/CartPole-v1_quantized_search_51/step_3663/videos/CartPole-v1_quantized_search_51/3663/CartPole-v1_quantized_search_51-episode-54.mp4.\n",
      "Moviepy - Writing video checkpoints/CartPole-v1_quantized_search_51/step_3663/videos/CartPole-v1_quantized_search_51/3663/CartPole-v1_quantized_search_51-episode-54.mp4\n",
      "\n"
     ]
    },
    {
     "name": "stderr",
     "output_type": "stream",
     "text": [
      "/Users/jonathanlamontange-kratz/Documents/GitHub/rl-stuff/packages/utils/utils/utils.py:257: UserWarning: No artists with labels found to put in legend.  Note that artists whose label start with an underscore are ignored when legend() is called with no argument.\n",
      "  axs[row][col].legend()\n"
     ]
    },
    {
     "name": "stdout",
     "output_type": "stream",
     "text": [
      "Moviepy - Done !\n",
      "Moviepy - video ready checkpoints/CartPole-v1_quantized_search_51/step_3663/videos/CartPole-v1_quantized_search_51/3663/CartPole-v1_quantized_search_51-episode-54.mp4\n",
      "score:  36.0\n",
      "score:  61.0\n",
      "score:  36.0\n",
      "score:  33.0\n",
      "score:  54.0\n",
      "Moviepy - Building video checkpoints/CartPole-v1_quantized_search_51/step_3996/videos/CartPole-v1_quantized_search_51/3996/CartPole-v1_quantized_search_51-episode-59.mp4.\n",
      "Moviepy - Writing video checkpoints/CartPole-v1_quantized_search_51/step_3996/videos/CartPole-v1_quantized_search_51/3996/CartPole-v1_quantized_search_51-episode-59.mp4\n",
      "\n"
     ]
    },
    {
     "name": "stderr",
     "output_type": "stream",
     "text": [
      "/Users/jonathanlamontange-kratz/Documents/GitHub/rl-stuff/packages/utils/utils/utils.py:257: UserWarning: No artists with labels found to put in legend.  Note that artists whose label start with an underscore are ignored when legend() is called with no argument.\n",
      "  axs[row][col].legend()\n"
     ]
    },
    {
     "name": "stdout",
     "output_type": "stream",
     "text": [
      "Moviepy - Done !\n",
      "Moviepy - video ready checkpoints/CartPole-v1_quantized_search_51/step_3996/videos/CartPole-v1_quantized_search_51/3996/CartPole-v1_quantized_search_51-episode-59.mp4\n",
      "score:  59.0\n",
      "score:  63.0\n",
      "score:  73.0\n",
      "score:  57.0\n",
      "score:  64.0\n",
      "Moviepy - Building video checkpoints/CartPole-v1_quantized_search_51/step_4329/videos/CartPole-v1_quantized_search_51/4329/CartPole-v1_quantized_search_51-episode-64.mp4.\n",
      "Moviepy - Writing video checkpoints/CartPole-v1_quantized_search_51/step_4329/videos/CartPole-v1_quantized_search_51/4329/CartPole-v1_quantized_search_51-episode-64.mp4\n",
      "\n"
     ]
    },
    {
     "name": "stderr",
     "output_type": "stream",
     "text": [
      "/Users/jonathanlamontange-kratz/Documents/GitHub/rl-stuff/packages/utils/utils/utils.py:257: UserWarning: No artists with labels found to put in legend.  Note that artists whose label start with an underscore are ignored when legend() is called with no argument.\n",
      "  axs[row][col].legend()\n"
     ]
    },
    {
     "name": "stdout",
     "output_type": "stream",
     "text": [
      "Moviepy - Done !\n",
      "Moviepy - video ready checkpoints/CartPole-v1_quantized_search_51/step_4329/videos/CartPole-v1_quantized_search_51/4329/CartPole-v1_quantized_search_51-episode-64.mp4\n",
      "score:  64.0\n",
      "score:  49.0\n",
      "score:  57.0\n",
      "score:  50.0\n",
      "score:  45.0\n",
      "Moviepy - Building video checkpoints/CartPole-v1_quantized_search_51/step_4662/videos/CartPole-v1_quantized_search_51/4662/CartPole-v1_quantized_search_51-episode-69.mp4.\n",
      "Moviepy - Writing video checkpoints/CartPole-v1_quantized_search_51/step_4662/videos/CartPole-v1_quantized_search_51/4662/CartPole-v1_quantized_search_51-episode-69.mp4\n",
      "\n"
     ]
    },
    {
     "name": "stderr",
     "output_type": "stream",
     "text": [
      "/Users/jonathanlamontange-kratz/Documents/GitHub/rl-stuff/packages/utils/utils/utils.py:257: UserWarning: No artists with labels found to put in legend.  Note that artists whose label start with an underscore are ignored when legend() is called with no argument.\n",
      "  axs[row][col].legend()\n"
     ]
    },
    {
     "name": "stdout",
     "output_type": "stream",
     "text": [
      "Moviepy - Done !\n",
      "Moviepy - video ready checkpoints/CartPole-v1_quantized_search_51/step_4662/videos/CartPole-v1_quantized_search_51/4662/CartPole-v1_quantized_search_51-episode-69.mp4\n",
      "score:  38.0\n",
      "score:  102.0\n",
      "score:  129.0\n",
      "score:  108.0\n",
      "score:  118.0\n",
      "Moviepy - Building video checkpoints/CartPole-v1_quantized_search_51/step_4995/videos/CartPole-v1_quantized_search_51/4995/CartPole-v1_quantized_search_51-episode-74.mp4.\n",
      "Moviepy - Writing video checkpoints/CartPole-v1_quantized_search_51/step_4995/videos/CartPole-v1_quantized_search_51/4995/CartPole-v1_quantized_search_51-episode-74.mp4\n",
      "\n"
     ]
    },
    {
     "name": "stderr",
     "output_type": "stream",
     "text": [
      "/Users/jonathanlamontange-kratz/Documents/GitHub/rl-stuff/packages/utils/utils/utils.py:257: UserWarning: No artists with labels found to put in legend.  Note that artists whose label start with an underscore are ignored when legend() is called with no argument.\n",
      "  axs[row][col].legend()\n"
     ]
    },
    {
     "name": "stdout",
     "output_type": "stream",
     "text": [
      "Moviepy - Done !\n",
      "Moviepy - video ready checkpoints/CartPole-v1_quantized_search_51/step_4995/videos/CartPole-v1_quantized_search_51/4995/CartPole-v1_quantized_search_51-episode-74.mp4\n",
      "score:  107.0\n",
      "score:  79.0\n",
      "score:  71.0\n",
      "score:  53.0\n",
      "score:  85.0\n",
      "Moviepy - Building video checkpoints/CartPole-v1_quantized_search_51/step_5328/videos/CartPole-v1_quantized_search_51/5328/CartPole-v1_quantized_search_51-episode-79.mp4.\n",
      "Moviepy - Writing video checkpoints/CartPole-v1_quantized_search_51/step_5328/videos/CartPole-v1_quantized_search_51/5328/CartPole-v1_quantized_search_51-episode-79.mp4\n",
      "\n"
     ]
    },
    {
     "name": "stderr",
     "output_type": "stream",
     "text": [
      "/Users/jonathanlamontange-kratz/Documents/GitHub/rl-stuff/packages/utils/utils/utils.py:257: UserWarning: No artists with labels found to put in legend.  Note that artists whose label start with an underscore are ignored when legend() is called with no argument.\n",
      "  axs[row][col].legend()\n"
     ]
    },
    {
     "name": "stdout",
     "output_type": "stream",
     "text": [
      "Moviepy - Done !\n",
      "Moviepy - video ready checkpoints/CartPole-v1_quantized_search_51/step_5328/videos/CartPole-v1_quantized_search_51/5328/CartPole-v1_quantized_search_51-episode-79.mp4\n",
      "score:  45.0\n",
      "score:  138.0\n",
      "score:  129.0\n",
      "score:  121.0\n",
      "score:  159.0\n",
      "Moviepy - Building video checkpoints/CartPole-v1_quantized_search_51/step_5661/videos/CartPole-v1_quantized_search_51/5661/CartPole-v1_quantized_search_51-episode-84.mp4.\n",
      "Moviepy - Writing video checkpoints/CartPole-v1_quantized_search_51/step_5661/videos/CartPole-v1_quantized_search_51/5661/CartPole-v1_quantized_search_51-episode-84.mp4\n",
      "\n"
     ]
    },
    {
     "name": "stderr",
     "output_type": "stream",
     "text": [
      "                                                              \r"
     ]
    },
    {
     "name": "stdout",
     "output_type": "stream",
     "text": [
      "Moviepy - Done !\n",
      "Moviepy - video ready checkpoints/CartPole-v1_quantized_search_51/step_5661/videos/CartPole-v1_quantized_search_51/5661/CartPole-v1_quantized_search_51-episode-84.mp4\n",
      "score:  119.0\n"
     ]
    },
    {
     "name": "stderr",
     "output_type": "stream",
     "text": [
      "/Users/jonathanlamontange-kratz/Documents/GitHub/rl-stuff/packages/utils/utils/utils.py:257: UserWarning: No artists with labels found to put in legend.  Note that artists whose label start with an underscore are ignored when legend() is called with no argument.\n",
      "  axs[row][col].legend()\n"
     ]
    },
    {
     "name": "stdout",
     "output_type": "stream",
     "text": [
      "score:  246.0\n",
      "score:  378.0\n",
      "score:  328.0\n",
      "score:  500.0\n",
      "Moviepy - Building video checkpoints/CartPole-v1_quantized_search_51/step_5994/videos/CartPole-v1_quantized_search_51/5994/CartPole-v1_quantized_search_51-episode-89.mp4.\n",
      "Moviepy - Writing video checkpoints/CartPole-v1_quantized_search_51/step_5994/videos/CartPole-v1_quantized_search_51/5994/CartPole-v1_quantized_search_51-episode-89.mp4\n",
      "\n"
     ]
    },
    {
     "name": "stderr",
     "output_type": "stream",
     "text": [
      "                                                               \r"
     ]
    },
    {
     "name": "stdout",
     "output_type": "stream",
     "text": [
      "Moviepy - Done !\n",
      "Moviepy - video ready checkpoints/CartPole-v1_quantized_search_51/step_5994/videos/CartPole-v1_quantized_search_51/5994/CartPole-v1_quantized_search_51-episode-89.mp4\n",
      "score:  490.0\n"
     ]
    },
    {
     "name": "stderr",
     "output_type": "stream",
     "text": [
      "/Users/jonathanlamontange-kratz/Documents/GitHub/rl-stuff/packages/utils/utils/utils.py:257: UserWarning: No artists with labels found to put in legend.  Note that artists whose label start with an underscore are ignored when legend() is called with no argument.\n",
      "  axs[row][col].legend()\n"
     ]
    },
    {
     "name": "stdout",
     "output_type": "stream",
     "text": [
      "score:  144.0\n",
      "score:  156.0\n",
      "score:  143.0\n",
      "score:  147.0\n",
      "Moviepy - Building video checkpoints/CartPole-v1_quantized_search_51/step_6327/videos/CartPole-v1_quantized_search_51/6327/CartPole-v1_quantized_search_51-episode-94.mp4.\n",
      "Moviepy - Writing video checkpoints/CartPole-v1_quantized_search_51/step_6327/videos/CartPole-v1_quantized_search_51/6327/CartPole-v1_quantized_search_51-episode-94.mp4\n",
      "\n"
     ]
    },
    {
     "name": "stderr",
     "output_type": "stream",
     "text": [
      "                                                               \r"
     ]
    },
    {
     "name": "stdout",
     "output_type": "stream",
     "text": [
      "Moviepy - Done !\n",
      "Moviepy - video ready checkpoints/CartPole-v1_quantized_search_51/step_6327/videos/CartPole-v1_quantized_search_51/6327/CartPole-v1_quantized_search_51-episode-94.mp4\n",
      "score:  156.0\n"
     ]
    },
    {
     "name": "stderr",
     "output_type": "stream",
     "text": [
      "/Users/jonathanlamontange-kratz/Documents/GitHub/rl-stuff/packages/utils/utils/utils.py:257: UserWarning: No artists with labels found to put in legend.  Note that artists whose label start with an underscore are ignored when legend() is called with no argument.\n",
      "  axs[row][col].legend()\n"
     ]
    },
    {
     "name": "stdout",
     "output_type": "stream",
     "text": [
      "score:  187.0\n",
      "score:  239.0\n",
      "score:  404.0\n",
      "score:  355.0\n",
      "Moviepy - Building video checkpoints/CartPole-v1_quantized_search_51/step_6660/videos/CartPole-v1_quantized_search_51/6660/CartPole-v1_quantized_search_51-episode-99.mp4.\n",
      "Moviepy - Writing video checkpoints/CartPole-v1_quantized_search_51/step_6660/videos/CartPole-v1_quantized_search_51/6660/CartPole-v1_quantized_search_51-episode-99.mp4\n",
      "\n"
     ]
    },
    {
     "name": "stderr",
     "output_type": "stream",
     "text": [
      "                                                               \r"
     ]
    },
    {
     "name": "stdout",
     "output_type": "stream",
     "text": [
      "Moviepy - Done !\n",
      "Moviepy - video ready checkpoints/CartPole-v1_quantized_search_51/step_6660/videos/CartPole-v1_quantized_search_51/6660/CartPole-v1_quantized_search_51-episode-99.mp4\n",
      "score:  260.0\n"
     ]
    },
    {
     "name": "stderr",
     "output_type": "stream",
     "text": [
      "/Users/jonathanlamontange-kratz/Documents/GitHub/rl-stuff/packages/utils/utils/utils.py:257: UserWarning: No artists with labels found to put in legend.  Note that artists whose label start with an underscore are ignored when legend() is called with no argument.\n",
      "  axs[row][col].legend()\n"
     ]
    },
    {
     "name": "stdout",
     "output_type": "stream",
     "text": [
      "score:  291.0\n",
      "score:  257.0\n",
      "score:  291.0\n",
      "score:  283.0\n",
      "Moviepy - Building video checkpoints/CartPole-v1_quantized_search_51/step_6993/videos/CartPole-v1_quantized_search_51/6993/CartPole-v1_quantized_search_51-episode-104.mp4.\n",
      "Moviepy - Writing video checkpoints/CartPole-v1_quantized_search_51/step_6993/videos/CartPole-v1_quantized_search_51/6993/CartPole-v1_quantized_search_51-episode-104.mp4\n",
      "\n"
     ]
    },
    {
     "name": "stderr",
     "output_type": "stream",
     "text": [
      "                                                               \r"
     ]
    },
    {
     "name": "stdout",
     "output_type": "stream",
     "text": [
      "Moviepy - Done !\n",
      "Moviepy - video ready checkpoints/CartPole-v1_quantized_search_51/step_6993/videos/CartPole-v1_quantized_search_51/6993/CartPole-v1_quantized_search_51-episode-104.mp4\n",
      "score:  284.0\n"
     ]
    },
    {
     "name": "stderr",
     "output_type": "stream",
     "text": [
      "/Users/jonathanlamontange-kratz/Documents/GitHub/rl-stuff/packages/utils/utils/utils.py:257: UserWarning: No artists with labels found to put in legend.  Note that artists whose label start with an underscore are ignored when legend() is called with no argument.\n",
      "  axs[row][col].legend()\n"
     ]
    },
    {
     "name": "stdout",
     "output_type": "stream",
     "text": [
      "score:  139.0\n",
      "score:  134.0\n",
      "score:  138.0\n",
      "score:  130.0\n",
      "Moviepy - Building video checkpoints/CartPole-v1_quantized_search_51/step_7326/videos/CartPole-v1_quantized_search_51/7326/CartPole-v1_quantized_search_51-episode-109.mp4.\n",
      "Moviepy - Writing video checkpoints/CartPole-v1_quantized_search_51/step_7326/videos/CartPole-v1_quantized_search_51/7326/CartPole-v1_quantized_search_51-episode-109.mp4\n",
      "\n"
     ]
    },
    {
     "name": "stderr",
     "output_type": "stream",
     "text": [
      "                                                              \r"
     ]
    },
    {
     "name": "stdout",
     "output_type": "stream",
     "text": [
      "Moviepy - Done !\n",
      "Moviepy - video ready checkpoints/CartPole-v1_quantized_search_51/step_7326/videos/CartPole-v1_quantized_search_51/7326/CartPole-v1_quantized_search_51-episode-109.mp4\n",
      "score:  134.0\n"
     ]
    },
    {
     "name": "stderr",
     "output_type": "stream",
     "text": [
      "/Users/jonathanlamontange-kratz/Documents/GitHub/rl-stuff/packages/utils/utils/utils.py:257: UserWarning: No artists with labels found to put in legend.  Note that artists whose label start with an underscore are ignored when legend() is called with no argument.\n",
      "  axs[row][col].legend()\n"
     ]
    },
    {
     "name": "stdout",
     "output_type": "stream",
     "text": [
      "score:  500.0\n",
      "score:  500.0\n",
      "score:  500.0\n",
      "score:  455.0\n",
      "Moviepy - Building video checkpoints/CartPole-v1_quantized_search_51/step_7659/videos/CartPole-v1_quantized_search_51/7659/CartPole-v1_quantized_search_51-episode-114.mp4.\n",
      "Moviepy - Writing video checkpoints/CartPole-v1_quantized_search_51/step_7659/videos/CartPole-v1_quantized_search_51/7659/CartPole-v1_quantized_search_51-episode-114.mp4\n",
      "\n"
     ]
    },
    {
     "name": "stderr",
     "output_type": "stream",
     "text": [
      "                                                               \r"
     ]
    },
    {
     "name": "stdout",
     "output_type": "stream",
     "text": [
      "Moviepy - Done !\n",
      "Moviepy - video ready checkpoints/CartPole-v1_quantized_search_51/step_7659/videos/CartPole-v1_quantized_search_51/7659/CartPole-v1_quantized_search_51-episode-114.mp4\n",
      "score:  500.0\n"
     ]
    },
    {
     "name": "stderr",
     "output_type": "stream",
     "text": [
      "/Users/jonathanlamontange-kratz/Documents/GitHub/rl-stuff/packages/utils/utils/utils.py:257: UserWarning: No artists with labels found to put in legend.  Note that artists whose label start with an underscore are ignored when legend() is called with no argument.\n",
      "  axs[row][col].legend()\n"
     ]
    },
    {
     "name": "stdout",
     "output_type": "stream",
     "text": [
      "score:  103.0\n",
      "score:  110.0\n",
      "score:  103.0\n",
      "score:  112.0\n",
      "Moviepy - Building video checkpoints/CartPole-v1_quantized_search_51/step_7992/videos/CartPole-v1_quantized_search_51/7992/CartPole-v1_quantized_search_51-episode-119.mp4.\n",
      "Moviepy - Writing video checkpoints/CartPole-v1_quantized_search_51/step_7992/videos/CartPole-v1_quantized_search_51/7992/CartPole-v1_quantized_search_51-episode-119.mp4\n",
      "\n"
     ]
    },
    {
     "name": "stderr",
     "output_type": "stream",
     "text": [
      "                                                               \r"
     ]
    },
    {
     "name": "stdout",
     "output_type": "stream",
     "text": [
      "Moviepy - Done !\n",
      "Moviepy - video ready checkpoints/CartPole-v1_quantized_search_51/step_7992/videos/CartPole-v1_quantized_search_51/7992/CartPole-v1_quantized_search_51-episode-119.mp4\n",
      "score:  110.0\n"
     ]
    },
    {
     "name": "stderr",
     "output_type": "stream",
     "text": [
      "/Users/jonathanlamontange-kratz/Documents/GitHub/rl-stuff/packages/utils/utils/utils.py:257: UserWarning: No artists with labels found to put in legend.  Note that artists whose label start with an underscore are ignored when legend() is called with no argument.\n",
      "  axs[row][col].legend()\n"
     ]
    },
    {
     "name": "stdout",
     "output_type": "stream",
     "text": [
      "score:  126.0\n",
      "score:  123.0\n",
      "score:  135.0\n",
      "score:  139.0\n",
      "Moviepy - Building video checkpoints/CartPole-v1_quantized_search_51/step_8325/videos/CartPole-v1_quantized_search_51/8325/CartPole-v1_quantized_search_51-episode-124.mp4.\n",
      "Moviepy - Writing video checkpoints/CartPole-v1_quantized_search_51/step_8325/videos/CartPole-v1_quantized_search_51/8325/CartPole-v1_quantized_search_51-episode-124.mp4\n",
      "\n"
     ]
    },
    {
     "name": "stderr",
     "output_type": "stream",
     "text": [
      "                                                              \r"
     ]
    },
    {
     "name": "stdout",
     "output_type": "stream",
     "text": [
      "Moviepy - Done !\n",
      "Moviepy - video ready checkpoints/CartPole-v1_quantized_search_51/step_8325/videos/CartPole-v1_quantized_search_51/8325/CartPole-v1_quantized_search_51-episode-124.mp4\n",
      "score:  112.0\n"
     ]
    },
    {
     "name": "stderr",
     "output_type": "stream",
     "text": [
      "/Users/jonathanlamontange-kratz/Documents/GitHub/rl-stuff/packages/utils/utils/utils.py:257: UserWarning: No artists with labels found to put in legend.  Note that artists whose label start with an underscore are ignored when legend() is called with no argument.\n",
      "  axs[row][col].legend()\n"
     ]
    },
    {
     "name": "stdout",
     "output_type": "stream",
     "text": [
      "score:  196.0\n",
      "score:  149.0\n",
      "score:  500.0\n",
      "score:  431.0\n",
      "Moviepy - Building video checkpoints/CartPole-v1_quantized_search_51/step_8658/videos/CartPole-v1_quantized_search_51/8658/CartPole-v1_quantized_search_51-episode-129.mp4.\n",
      "Moviepy - Writing video checkpoints/CartPole-v1_quantized_search_51/step_8658/videos/CartPole-v1_quantized_search_51/8658/CartPole-v1_quantized_search_51-episode-129.mp4\n",
      "\n"
     ]
    },
    {
     "name": "stderr",
     "output_type": "stream",
     "text": [
      "                                                               \r"
     ]
    },
    {
     "name": "stdout",
     "output_type": "stream",
     "text": [
      "Moviepy - Done !\n",
      "Moviepy - video ready checkpoints/CartPole-v1_quantized_search_51/step_8658/videos/CartPole-v1_quantized_search_51/8658/CartPole-v1_quantized_search_51-episode-129.mp4\n",
      "score:  204.0\n"
     ]
    },
    {
     "name": "stderr",
     "output_type": "stream",
     "text": [
      "/Users/jonathanlamontange-kratz/Documents/GitHub/rl-stuff/packages/utils/utils/utils.py:257: UserWarning: No artists with labels found to put in legend.  Note that artists whose label start with an underscore are ignored when legend() is called with no argument.\n",
      "  axs[row][col].legend()\n"
     ]
    },
    {
     "name": "stdout",
     "output_type": "stream",
     "text": [
      "score:  195.0\n",
      "score:  162.0\n",
      "score:  160.0\n",
      "score:  161.0\n",
      "Moviepy - Building video checkpoints/CartPole-v1_quantized_search_51/step_8991/videos/CartPole-v1_quantized_search_51/8991/CartPole-v1_quantized_search_51-episode-134.mp4.\n",
      "Moviepy - Writing video checkpoints/CartPole-v1_quantized_search_51/step_8991/videos/CartPole-v1_quantized_search_51/8991/CartPole-v1_quantized_search_51-episode-134.mp4\n",
      "\n"
     ]
    },
    {
     "name": "stderr",
     "output_type": "stream",
     "text": [
      "                                                               \r"
     ]
    },
    {
     "name": "stdout",
     "output_type": "stream",
     "text": [
      "Moviepy - Done !\n",
      "Moviepy - video ready checkpoints/CartPole-v1_quantized_search_51/step_8991/videos/CartPole-v1_quantized_search_51/8991/CartPole-v1_quantized_search_51-episode-134.mp4\n",
      "score:  187.0\n"
     ]
    },
    {
     "name": "stderr",
     "output_type": "stream",
     "text": [
      "/Users/jonathanlamontange-kratz/Documents/GitHub/rl-stuff/packages/utils/utils/utils.py:257: UserWarning: No artists with labels found to put in legend.  Note that artists whose label start with an underscore are ignored when legend() is called with no argument.\n",
      "  axs[row][col].legend()\n"
     ]
    },
    {
     "name": "stdout",
     "output_type": "stream",
     "text": [
      "score:  391.0\n",
      "score:  224.0\n",
      "score:  227.0\n",
      "score:  252.0\n",
      "Moviepy - Building video checkpoints/CartPole-v1_quantized_search_51/step_9324/videos/CartPole-v1_quantized_search_51/9324/CartPole-v1_quantized_search_51-episode-139.mp4.\n",
      "Moviepy - Writing video checkpoints/CartPole-v1_quantized_search_51/step_9324/videos/CartPole-v1_quantized_search_51/9324/CartPole-v1_quantized_search_51-episode-139.mp4\n",
      "\n"
     ]
    },
    {
     "name": "stderr",
     "output_type": "stream",
     "text": [
      "                                                               \r"
     ]
    },
    {
     "name": "stdout",
     "output_type": "stream",
     "text": [
      "Moviepy - Done !\n",
      "Moviepy - video ready checkpoints/CartPole-v1_quantized_search_51/step_9324/videos/CartPole-v1_quantized_search_51/9324/CartPole-v1_quantized_search_51-episode-139.mp4\n",
      "score:  234.0\n"
     ]
    },
    {
     "name": "stderr",
     "output_type": "stream",
     "text": [
      "/Users/jonathanlamontange-kratz/Documents/GitHub/rl-stuff/packages/utils/utils/utils.py:257: UserWarning: No artists with labels found to put in legend.  Note that artists whose label start with an underscore are ignored when legend() is called with no argument.\n",
      "  axs[row][col].legend()\n"
     ]
    },
    {
     "name": "stdout",
     "output_type": "stream",
     "text": [
      "score:  162.0\n",
      "score:  500.0\n",
      "score:  181.0\n",
      "score:  205.0\n",
      "Moviepy - Building video checkpoints/CartPole-v1_quantized_search_51/step_9657/videos/CartPole-v1_quantized_search_51/9657/CartPole-v1_quantized_search_51-episode-144.mp4.\n",
      "Moviepy - Writing video checkpoints/CartPole-v1_quantized_search_51/step_9657/videos/CartPole-v1_quantized_search_51/9657/CartPole-v1_quantized_search_51-episode-144.mp4\n",
      "\n"
     ]
    },
    {
     "name": "stderr",
     "output_type": "stream",
     "text": [
      "                                                               \r"
     ]
    },
    {
     "name": "stdout",
     "output_type": "stream",
     "text": [
      "Moviepy - Done !\n",
      "Moviepy - video ready checkpoints/CartPole-v1_quantized_search_51/step_9657/videos/CartPole-v1_quantized_search_51/9657/CartPole-v1_quantized_search_51-episode-144.mp4\n",
      "score:  176.0\n"
     ]
    },
    {
     "name": "stderr",
     "output_type": "stream",
     "text": [
      "/Users/jonathanlamontange-kratz/Documents/GitHub/rl-stuff/packages/utils/utils/utils.py:257: UserWarning: No artists with labels found to put in legend.  Note that artists whose label start with an underscore are ignored when legend() is called with no argument.\n",
      "  axs[row][col].legend()\n"
     ]
    },
    {
     "name": "stdout",
     "output_type": "stream",
     "text": [
      "score:  500.0\n",
      "score:  500.0\n",
      "score:  500.0\n",
      "score:  500.0\n",
      "Moviepy - Building video checkpoints/CartPole-v1_quantized_search_51/step_9990/videos/CartPole-v1_quantized_search_51/9990/CartPole-v1_quantized_search_51-episode-149.mp4.\n",
      "Moviepy - Writing video checkpoints/CartPole-v1_quantized_search_51/step_9990/videos/CartPole-v1_quantized_search_51/9990/CartPole-v1_quantized_search_51-episode-149.mp4\n",
      "\n"
     ]
    },
    {
     "name": "stderr",
     "output_type": "stream",
     "text": [
      "                                                               \r"
     ]
    },
    {
     "name": "stdout",
     "output_type": "stream",
     "text": [
      "Moviepy - Done !\n",
      "Moviepy - video ready checkpoints/CartPole-v1_quantized_search_51/step_9990/videos/CartPole-v1_quantized_search_51/9990/CartPole-v1_quantized_search_51-episode-149.mp4\n",
      "score:  500.0\n"
     ]
    },
    {
     "name": "stderr",
     "output_type": "stream",
     "text": [
      "/Users/jonathanlamontange-kratz/Documents/GitHub/rl-stuff/packages/utils/utils/utils.py:257: UserWarning: No artists with labels found to put in legend.  Note that artists whose label start with an underscore are ignored when legend() is called with no argument.\n",
      "  axs[row][col].legend()\n"
     ]
    },
    {
     "name": "stdout",
     "output_type": "stream",
     "text": [
      "score:  206.0\n",
      "score:  179.0\n",
      "score:  182.0\n",
      "score:  191.0\n",
      "Moviepy - Building video checkpoints/CartPole-v1_quantized_search_51/step_9999/videos/CartPole-v1_quantized_search_51/9999/CartPole-v1_quantized_search_51-episode-154.mp4.\n",
      "Moviepy - Writing video checkpoints/CartPole-v1_quantized_search_51/step_9999/videos/CartPole-v1_quantized_search_51/9999/CartPole-v1_quantized_search_51-episode-154.mp4\n",
      "\n"
     ]
    },
    {
     "name": "stderr",
     "output_type": "stream",
     "text": [
      "                                                               \r"
     ]
    },
    {
     "name": "stdout",
     "output_type": "stream",
     "text": [
      "Moviepy - Done !\n",
      "Moviepy - video ready checkpoints/CartPole-v1_quantized_search_51/step_9999/videos/CartPole-v1_quantized_search_51/9999/CartPole-v1_quantized_search_51-episode-154.mp4\n",
      "score:  192.0\n"
     ]
    },
    {
     "name": "stderr",
     "output_type": "stream",
     "text": [
      "/Users/jonathanlamontange-kratz/Documents/GitHub/rl-stuff/packages/utils/utils/utils.py:257: UserWarning: No artists with labels found to put in legend.  Note that artists whose label start with an underscore are ignored when legend() is called with no argument.\n",
      "  axs[row][col].legend()\n"
     ]
    },
    {
     "name": "stdout",
     "output_type": "stream",
     "text": [
      "Training complete\n",
      "score:  163.0\n",
      "score:  178.0\n",
      "score:  209.0\n",
      "score:  193.0\n",
      "Moviepy - Building video ./checkpoints//videos/CartPole-v1_quantized_search_51/5000/CartPole-v1_quantized_search_51-episode-159.mp4.\n",
      "Moviepy - Writing video ./checkpoints//videos/CartPole-v1_quantized_search_51/5000/CartPole-v1_quantized_search_51-episode-159.mp4\n",
      "\n"
     ]
    },
    {
     "name": "stderr",
     "output_type": "stream",
     "text": [
      "                                                               \r"
     ]
    },
    {
     "name": "stdout",
     "output_type": "stream",
     "text": [
      "Moviepy - Done !\n",
      "Moviepy - video ready ./checkpoints//videos/CartPole-v1_quantized_search_51/5000/CartPole-v1_quantized_search_51-episode-159.mp4\n",
      "score:  165.0\n",
      "score:  169.0\n",
      "score:  199.0\n",
      "score:  500.0\n",
      "score:  500.0\n",
      "score:  188.0\n",
      "parallel programs done\n",
      "Params:  {'adam_epsilon': 0.0046875, 'advantage_hidden_layers_widths': (64, 64), 'atom_size': 51, 'clipnorm': 3.4000000000000004, 'conv_layers': (), 'dense_layers_widths': (64, 64, 64, 1024), 'discount_factor': 0.987, 'kernel_initializer': 'he_uniform', 'learning_rate': 0.10358, 'loss_function': <utils.utils.KLDivergence object at 0x2843cf290>, 'min_replay_buffer_size': 1875, 'minibatch_size': 112, 'n_step': 6, 'per_alpha': 0.5, 'per_beta': 0.9, 'per_epsilon': 0.01186, 'replay_buffer_size': 2000, 'replay_interval': 4, 'training_steps': 10000, 'transfer_interval': 10, 'value_hidden_layers_widths': (64, 64, 256, 1024)}\n",
      "Making environments\n",
      "CartPole-v1_quantized_search\n",
      "Using default save_intermediate_weights     : True\n",
      "Using         training_steps                : 10000\n",
      "Using         adam_epsilon                  : 0.0046875\n",
      "Using         learning_rate                 : 0.10358\n",
      "Using         clipnorm                      : 3.4000000000000004\n",
      "Using default optimizer                     : <class 'torch.optim.adam.Adam'>\n",
      "Using         loss_function                 : <utils.utils.KLDivergence object at 0x2843cf290>\n",
      "Using default activation                    : relu\n",
      "Using         kernel_initializer            : he_uniform\n",
      "Using         minibatch_size                : 112\n",
      "Using         replay_buffer_size            : 2000\n",
      "Using         min_replay_buffer_size        : 1875\n",
      "Using default num_minibatches               : 1\n",
      "Using default training_iterations           : 1\n",
      "Using         conv_layers                   : ()\n",
      "Using         dense_layers_widths           : (64, 64, 64, 1024)\n",
      "Using         value_hidden_layers_widths    : (64, 64, 256, 1024)\n",
      "Using         advantage_hidden_layers_widths: (64, 64)\n",
      "Using default noisy_sigma                   : 0.5\n",
      "Using default deuling                       : True\n",
      "Using         discount_factor               : 0.987\n",
      "Using default soft_update                   : False\n",
      "Using         transfer_interval             : 10\n",
      "Using default ema_beta                      : 0.99\n",
      "Using         replay_interval               : 4\n",
      "Using         per_alpha                     : 0.5\n",
      "Using         per_beta                      : 0.9\n",
      "Using         per_epsilon                   : 0.01186\n",
      "Using         n_step                        : 6\n",
      "Using         atom_size                     : 51\n",
      "observation_dimensions:  (4,)\n",
      "num_actions:  2\n"
     ]
    },
    {
     "name": "stderr",
     "output_type": "stream",
     "text": [
      "/Library/Frameworks/Python.framework/Versions/3.12/lib/python3.12/site-packages/gymnasium/wrappers/record_video.py:94: UserWarning: \u001b[33mWARN: Overwriting existing videos at /Users/jonathanlamontange-kratz/Documents/GitHub/rl-stuff/experiments/rainbow_hyperopt folder (try specifying a different `video_folder` for the `RecordVideo` wrapper if this is not desired)\u001b[0m\n",
      "  logger.warn(\n"
     ]
    },
    {
     "name": "stdout",
     "output_type": "stream",
     "text": [
      "score:  11.0\n",
      "score:  8.0\n",
      "score:  10.0\n",
      "score:  10.0\n",
      "Moviepy - Building video checkpoints/CartPole-v1_quantized_search_52/step_333/videos/CartPole-v1_quantized_search_52/333/CartPole-v1_quantized_search_52-episode-4.mp4.\n",
      "Moviepy - Writing video checkpoints/CartPole-v1_quantized_search_52/step_333/videos/CartPole-v1_quantized_search_52/333/CartPole-v1_quantized_search_52-episode-4.mp4\n",
      "\n"
     ]
    },
    {
     "name": "stderr",
     "output_type": "stream",
     "text": [
      "/Users/jonathanlamontange-kratz/Documents/GitHub/rl-stuff/packages/utils/utils/utils.py:257: UserWarning: No artists with labels found to put in legend.  Note that artists whose label start with an underscore are ignored when legend() is called with no argument.\n",
      "  axs[row][col].legend()\n",
      "/Users/jonathanlamontange-kratz/Documents/GitHub/rl-stuff/packages/utils/utils/utils.py:187: UserWarning: Attempting to set identical low and high xlims makes transformation singular; automatically expanding.\n",
      "  axs[row][col].set_xlim(1, len(values))\n"
     ]
    },
    {
     "name": "stdout",
     "output_type": "stream",
     "text": [
      "Moviepy - Done !\n",
      "Moviepy - video ready checkpoints/CartPole-v1_quantized_search_52/step_333/videos/CartPole-v1_quantized_search_52/333/CartPole-v1_quantized_search_52-episode-4.mp4\n",
      "score:  9.0\n",
      "score:  9.0\n",
      "score:  8.0\n",
      "score:  9.0\n",
      "score:  10.0\n",
      "Moviepy - Building video checkpoints/CartPole-v1_quantized_search_52/step_666/videos/CartPole-v1_quantized_search_52/666/CartPole-v1_quantized_search_52-episode-9.mp4.\n",
      "Moviepy - Writing video checkpoints/CartPole-v1_quantized_search_52/step_666/videos/CartPole-v1_quantized_search_52/666/CartPole-v1_quantized_search_52-episode-9.mp4\n",
      "\n"
     ]
    },
    {
     "name": "stderr",
     "output_type": "stream",
     "text": [
      "/Users/jonathanlamontange-kratz/Documents/GitHub/rl-stuff/packages/utils/utils/utils.py:257: UserWarning: No artists with labels found to put in legend.  Note that artists whose label start with an underscore are ignored when legend() is called with no argument.\n",
      "  axs[row][col].legend()\n"
     ]
    },
    {
     "name": "stdout",
     "output_type": "stream",
     "text": [
      "Moviepy - Done !\n",
      "Moviepy - video ready checkpoints/CartPole-v1_quantized_search_52/step_666/videos/CartPole-v1_quantized_search_52/666/CartPole-v1_quantized_search_52-episode-9.mp4\n",
      "score:  10.0\n",
      "score:  10.0\n",
      "score:  10.0\n",
      "score:  8.0\n",
      "score:  9.0\n",
      "Moviepy - Building video checkpoints/CartPole-v1_quantized_search_52/step_999/videos/CartPole-v1_quantized_search_52/999/CartPole-v1_quantized_search_52-episode-14.mp4.\n",
      "Moviepy - Writing video checkpoints/CartPole-v1_quantized_search_52/step_999/videos/CartPole-v1_quantized_search_52/999/CartPole-v1_quantized_search_52-episode-14.mp4\n",
      "\n"
     ]
    },
    {
     "name": "stderr",
     "output_type": "stream",
     "text": [
      "                                                           \r"
     ]
    },
    {
     "name": "stdout",
     "output_type": "stream",
     "text": [
      "Moviepy - Done !\n",
      "Moviepy - video ready checkpoints/CartPole-v1_quantized_search_52/step_999/videos/CartPole-v1_quantized_search_52/999/CartPole-v1_quantized_search_52-episode-14.mp4\n",
      "score:  10.0\n"
     ]
    },
    {
     "name": "stderr",
     "output_type": "stream",
     "text": [
      "/Users/jonathanlamontange-kratz/Documents/GitHub/rl-stuff/packages/utils/utils/utils.py:257: UserWarning: No artists with labels found to put in legend.  Note that artists whose label start with an underscore are ignored when legend() is called with no argument.\n",
      "  axs[row][col].legend()\n"
     ]
    },
    {
     "name": "stdout",
     "output_type": "stream",
     "text": [
      "score:  10.0\n",
      "score:  9.0\n",
      "score:  10.0\n",
      "score:  10.0\n",
      "Moviepy - Building video checkpoints/CartPole-v1_quantized_search_52/step_1332/videos/CartPole-v1_quantized_search_52/1332/CartPole-v1_quantized_search_52-episode-19.mp4.\n",
      "Moviepy - Writing video checkpoints/CartPole-v1_quantized_search_52/step_1332/videos/CartPole-v1_quantized_search_52/1332/CartPole-v1_quantized_search_52-episode-19.mp4\n",
      "\n"
     ]
    },
    {
     "name": "stderr",
     "output_type": "stream",
     "text": [
      "/Users/jonathanlamontange-kratz/Documents/GitHub/rl-stuff/packages/utils/utils/utils.py:257: UserWarning: No artists with labels found to put in legend.  Note that artists whose label start with an underscore are ignored when legend() is called with no argument.\n",
      "  axs[row][col].legend()\n"
     ]
    },
    {
     "name": "stdout",
     "output_type": "stream",
     "text": [
      "Moviepy - Done !\n",
      "Moviepy - video ready checkpoints/CartPole-v1_quantized_search_52/step_1332/videos/CartPole-v1_quantized_search_52/1332/CartPole-v1_quantized_search_52-episode-19.mp4\n",
      "score:  10.0\n"
     ]
    }
   ],
   "source": [
    "import pickle\n",
    "from hyperopt import hp\n",
    "from hyperopt.pyll import scope\n",
    "from utils import CategoricalCrossentropy, KLDivergence, generate_layer_widths\n",
    "import gymnasium as gym \n",
    "import numpy as np\n",
    "\n",
    "width_combinations = generate_layer_widths([32, 64, 128, 256, 512, 1024], 5)\n",
    "# print(width_combinations)\n",
    "\n",
    "search_space = {\n",
    "        \"kernel_initializer\": hp.choice(\n",
    "            \"kernel_initializer\",\n",
    "            [\n",
    "                \"he_uniform\",\n",
    "                \"he_normal\",\n",
    "                \"glorot_uniform\",\n",
    "                \"glorot_normal\",\n",
    "                \"orthogonal\",\n",
    "            ],\n",
    "        ),\n",
    "        \"learning_rate\": hp.qloguniform('learning_rate', np.log(0.00001), np.log(1.0), 0.00001),\n",
    "        \"adam_epsilon\": hp.qloguniform('adam_epsilon', np.log(0.0003125), np.log(0.3125), 0.0003125),\n",
    "        \"loss_function\": hp.choice(\n",
    "            \"loss_function\", [CategoricalCrossentropy(), KLDivergence()]\n",
    "        ),\n",
    "        # NORMALIZATION?\n",
    "        \"transfer_interval\": scope.int(hp.qloguniform('transfer_interval', np.log(10), np.log(2000), 10)),\n",
    "        \"replay_interval\": hp.uniformint('replay_interval', 1, 12),\n",
    "        \"minibatch_size\": scope.int(hp.quniform('minibatch_size', 16, 128, 16)),  ###########\n",
    "        \"replay_buffer_size\": scope.int(hp.quniform('replay_buffer_size', 2000, 10000, 1000)),  #############\n",
    "        \"min_replay_buffer_size\": scope.int(hp.quniform('min_replay_buffer_size', 125, 2000, 125)), \n",
    "        \"n_step\": hp.uniformint('n_step', 2, 10),\n",
    "        \"discount_factor\": hp.qloguniform('discount_factor', np.log(0.9), np.log(0.999), 0.001),\n",
    "        \"atom_size\": scope.int(hp.quniform('atom_size', 51, 81, 10) + 1),  #\n",
    "        \"conv_layers\": hp.choice(\"conv_layers\", [[]]),\n",
    "        \"dense_layers_widths\": hp.choice(\"dense_layers_widths\", width_combinations),\n",
    "        \"advantage_hidden_layers_widths\": hp.choice(\n",
    "            \"advantage_hidden_layers_widths\", width_combinations\n",
    "        ),  #\n",
    "        \"value_hidden_layers_widths\": hp.choice(\n",
    "            \"value_hidden_layers_widths\", width_combinations\n",
    "        ),  #\n",
    "        \"training_steps\": hp.choice(\"training_steps\", [10000]),\n",
    "        \"per_epsilon\": hp.qloguniform('per_epsilon', np.log(0.00001), np.log(0.1), 0.00001),\n",
    "        \"per_alpha\": hp.quniform('per_alpha', 0.05, 1.0, 0.05),\n",
    "        \"per_beta\": hp.quniform('per_beta', 0.05, 1.0, 0.05),\n",
    "        \"clipnorm\": hp.qloguniform('clipnorm', np.log(0.1), np.log(100.0), 0.1)\n",
    "    }\n",
    "\n",
    "initial_best_config = [{}]\n",
    "\n",
    "\n",
    "pickle.dump(search_space, open(\"./search_spaces/torch_quantized_search_search_space.pkl\", \"wb\"))\n",
    "pickle.dump(initial_best_config, open(\"./search_spaces/torch_quantized_search_initial_best_config.pkl\", \"wb\"))\n",
    "\n",
    "%run ../../dqn/rainbow/hyperparameter_optimization.py ./search_spaces/torch_quantized_search_search_space.pkl ./search_spaces/torch_quantized_search_initial_best_config.pkl CartPole-v1_quantized_search"
   ]
  },
  {
   "cell_type": "code",
   "execution_count": null,
   "metadata": {},
   "outputs": [],
   "source": [
    "# Graphing the trials over time\n",
    "from utils import plot_trials\n",
    "import pickle\n",
    "trials = pickle.load(open('./CartPole-v1_quantized_search_trials.p', 'rb'))\n",
    "# print(trials.trials)\n",
    "%matplotlib inline\n",
    "plot_trials(trials, \"Carpole-v1_torch_quantized_search_trials_over_time\")"
   ]
  },
  {
   "cell_type": "code",
   "execution_count": null,
   "metadata": {},
   "outputs": [],
   "source": [
    "data_dir = \".\"\n",
    "hyperopt_analysis(data_dir, 'CartPole-v1_quantized_search_trials.p', 15, 9999)"
   ]
  },
  {
   "cell_type": "markdown",
   "metadata": {},
   "source": [
    "## Graphing of Importance of Hyperparameters"
   ]
  },
  {
   "cell_type": "code",
   "execution_count": null,
   "metadata": {},
   "outputs": [],
   "source": [
    "from utils import graph_hyperparameter_importance\n",
    "\n",
    "viable_trial_threshold = 15\n",
    "\n",
    "data_dir = \"./torch_choice_trials\"\n",
    "trials_file = 'CartPole-v1_trials.p'\n",
    "search_space_file = 'torch_choice_search_search_space.pkl'\n",
    "graph_hyperparameter_importance(data_dir, trials_file, search_space_file, viable_trial_threshold)\n",
    "\n",
    "\n",
    "data_dir = \"./tensorflow_choice_trials\"\n",
    "trials_file = 'CartPole-v1_trials.p'\n",
    "search_space_file = 'tensorflow_choice_search_search_space.pkl'\n",
    "graph_hyperparameter_importance(data_dir, trials_file, search_space_file, viable_trial_threshold)\n",
    "\n",
    "\n",
    "data_dir = \".\"\n",
    "trials_file = 'CartPole-v1_quantized_search_trials.p'\n",
    "search_space_file = 'torch_quantized_search_search_space.pkl'\n",
    "graph_hyperparameter_importance(data_dir, trials_file, search_space_file, viable_trial_threshold)\n"
   ]
  },
  {
   "cell_type": "code",
   "execution_count": null,
   "metadata": {},
   "outputs": [],
   "source": [
    "# Speed of results\n",
    "# Graph of hyperparameter convergence over time for torch and tensorflow compared with random search\n",
    "# Hyperparameter similarity of consecutive trials as a measure of confidence\n",
    "# Search space size vs convergence speed\n",
    "# Compare results to tuning only one system at a time\n",
    "# Using rolling average as evaluation method (just rolling average)\n",
    "# Using rolling average for 50% and 10 tests for other 50% of evaluation\n"
   ]
  },
  {
   "cell_type": "markdown",
   "metadata": {},
   "source": [
    "Rainbow results on Classic Control environments\n",
    "Training steps: \n",
    "Evaluation: \n",
    "Hyperparamaters: "
   ]
  },
  {
   "cell_type": "code",
   "execution_count": null,
   "metadata": {},
   "outputs": [],
   "source": []
  },
  {
   "cell_type": "markdown",
   "metadata": {},
   "source": [
    "Rainbow results on (subset of) Atari games\n",
    "Training steps: \n",
    "Evaluation: \n",
    "Hyperparamaters: "
   ]
  },
  {
   "cell_type": "code",
   "execution_count": null,
   "metadata": {},
   "outputs": [],
   "source": []
  },
  {
   "cell_type": "markdown",
   "metadata": {},
   "source": []
  }
 ],
 "metadata": {
  "kernelspec": {
   "display_name": "Python 3",
   "language": "python",
   "name": "python3"
  },
  "language_info": {
   "codemirror_mode": {
    "name": "ipython",
    "version": 3
   },
   "file_extension": ".py",
   "mimetype": "text/x-python",
   "name": "python",
   "nbconvert_exporter": "python",
   "pygments_lexer": "ipython3",
   "version": "3.12.3"
  }
 },
 "nbformat": 4,
 "nbformat_minor": 2
}
