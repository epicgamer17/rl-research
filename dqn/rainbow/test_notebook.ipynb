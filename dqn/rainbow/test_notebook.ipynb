{
 "cells": [
  {
   "cell_type": "code",
   "execution_count": 1,
   "metadata": {},
   "outputs": [
    {
     "name": "stderr",
     "output_type": "stream",
     "text": [
      "/Users/jonathanlamontange-kratz/Library/Python/3.9/lib/python/site-packages/urllib3/__init__.py:34: NotOpenSSLWarning: urllib3 v2 only supports OpenSSL 1.1.1+, currently the 'ssl' module is compiled with 'LibreSSL 2.8.3'. See: https://github.com/urllib3/urllib3/issues/3020\n",
      "  warnings.warn(\n"
     ]
    }
   ],
   "source": [
    "from utils import prepare_activations"
   ]
  },
  {
   "cell_type": "code",
   "execution_count": null,
   "metadata": {},
   "outputs": [],
   "source": [
    "score_plots = list(map(list, zip(*[1, 2, 3, 4])))\n",
    "print(len(score_plots))"
   ]
  },
  {
   "cell_type": "code",
   "execution_count": null,
   "metadata": {},
   "outputs": [],
   "source": [
    "import numpy as np\n",
    "arr = np.empty((1, 1), dtype=np.int32)\n",
    "print(arr)  \n",
    "arr = np.append(arr, [[1, 1, 1],[1, 1, 1],[1, 1, 1]], axis=0)\n",
    "print(arr)\n",
    "arr = np.append(arr, [[1, 1, 1],[1, 1, 1],[1, 1, 1]], axis=0)\n",
    "print(arr)"
   ]
  },
  {
   "cell_type": "code",
   "execution_count": null,
   "metadata": {},
   "outputs": [],
   "source": [
    "import custom_gym_envs\n",
    "import gymnasium as gym\n",
    "import random\n",
    "env = gym.make('custom_gym_envs/MississippiMarbles-v0', render_mode=\"human\")\n",
    "state, info = env.reset()\n",
    "for _ in range(1000):\n",
    "    action = random.choice(info['legal_moves'])\n",
    "    state, reward, terminated, truncated, info = env.step(action)\n",
    "    if terminated or truncated:\n",
    "        break"
   ]
  },
  {
   "cell_type": "code",
   "execution_count": null,
   "metadata": {},
   "outputs": [],
   "source": [
    "# import gym_envs\n",
    "# import gymnasium as gym\n",
    "# env = gym.make('gym_envs/TicTacToe-v0')\n",
    "\n",
    "# state, info = env.reset()\n",
    "# print(state)\n",
    "# print(\"Turn: \", state[2][0][0])\n",
    "# print(\"Legal moves: \", info['legal_moves'])\n",
    "# env.render()\n",
    "# state, reward, terminated, truncated, info = env.step(0)\n",
    "# print(state)\n",
    "# print(\"Turn: \", state[2][0][0])\n",
    "# print(\"Legal moves: \", info['legal_moves'])\n",
    "# print(\"Terminated:\", terminated)\n",
    "# env.render()\n",
    "# state, reward, terminated, truncated, info = env.step(4)\n",
    "# print(state)\n",
    "# print(\"Turn: \", state[2][0][0])\n",
    "# print(\"Legal moves: \", info['legal_moves'])\n",
    "# print(\"Terminated:\", terminated)\n",
    "# env.render()\n",
    "# state, reward, terminated, truncated, info = env.step(3)\n",
    "# print(state)\n",
    "# print(\"Turn: \", state[2][0][0])\n",
    "# print(\"Legal moves: \", info['legal_moves'])\n",
    "# print(\"Terminated:\", terminated)\n",
    "# env.render()\n",
    "# state, reward, terminated, truncated, info = env.step(6)\n",
    "# print(state)\n",
    "# print(\"Turn: \", state[2][0][0])\n",
    "# print(\"Legal moves: \", info['legal_moves'])\n",
    "# print(\"Terminated:\", terminated)\n",
    "# env.render()\n",
    "# state, reward, terminated, truncated, info = env.step(2)\n",
    "# print(state)\n",
    "# print(\"Turn: \", state[2][0][0])\n",
    "# print(\"Legal moves: \", info['legal_moves'])\n",
    "# print(\"Terminated:\", terminated)\n",
    "# env.render()\n",
    "# state, reward, terminated, truncated, info = env.step(1)\n",
    "# print(state)\n",
    "# print(\"Turn: \", state[2][0][0])\n",
    "# print(\"Legal moves: \", info['legal_moves'])\n",
    "# print(\"Terminated:\", terminated)\n",
    "# env.render()\n",
    "# state, reward, terminated, truncated, info = env.step(7)\n",
    "# print(state)\n",
    "# print(\"Turn: \", state[2][0][0])\n",
    "# print(\"Legal moves: \", info['legal_moves'])\n",
    "# print(\"Terminated:\", terminated)\n",
    "# state, reward, terminated, truncated, info = env.step(8)\n",
    "# print(state)\n",
    "# print(\"Turn: \", state[2][0][0])\n",
    "# print(\"Legal moves: \", info['legal_moves'])\n",
    "# print(\"Terminated:\", terminated)\n",
    "# state, reward, terminated, truncated, info = env.step(5)\n",
    "# print(state)\n",
    "# print(\"Turn: \", state[2][0][0])\n",
    "# print(\"Legal moves: \", info['legal_moves'])\n",
    "# print(\"Terminated:\", terminated)\n",
    "# print(\"Truncated:\", truncated)\n",
    "# env.render()\n",
    "\n",
    "\n",
    "# env.reset()\n",
    "# state, reward, terminated, truncated, info = env.step(0)\n",
    "# print(state)\n",
    "# print(\"Turn: \", state[2][0][0])\n",
    "# print(\"Legal moves: \", info['legal_moves'])\n",
    "# print(\"Terminated:\", terminated)\n",
    "# state, reward, terminated, truncated, info = env.step(3)\n",
    "# print(state)\n",
    "# print(\"Turn: \", state[2][0][0])\n",
    "# print(\"Legal moves: \", info['legal_moves'])\n",
    "# print(\"Terminated:\", terminated)\n",
    "# state, reward, terminated, truncated, info = env.step(7)\n",
    "# print(state)\n",
    "# print(\"Turn: \", state[2][0][0])\n",
    "# print(\"Legal moves: \", info['legal_moves'])\n",
    "# print(\"Terminated:\", terminated)\n",
    "# state, reward, terminated, truncated, info = env.step(4)\n",
    "# print(state)\n",
    "# print(\"Turn: \", state[2][0][0])\n",
    "# print(\"Legal moves: \", info['legal_moves'])\n",
    "# print(\"Terminated:\", terminated)\n",
    "# state, reward, terminated, truncated, info = env.step(2)\n",
    "# print(state)\n",
    "# print(\"Turn: \", state[2][0][0])\n",
    "# print(\"Legal moves: \", info['legal_moves'])\n",
    "# print(\"Terminated:\", terminated)\n",
    "# state, reward, terminated, truncated, info = env.step(6)\n",
    "# print(state)\n",
    "# print(\"Turn: \", state[2][0][0])\n",
    "# print(\"Legal moves: \", info['legal_moves'])\n",
    "# print(\"Terminated:\", terminated)\n",
    "# state, reward, terminated, truncated, info = env.step(1)\n",
    "# print(state)\n",
    "# print(\"Turn: \", state[2][0][0])\n",
    "# print(\"Legal moves: \", info['legal_moves'])\n",
    "# print(\"Terminated:\", terminated)\n",
    "# print(\"Truncated:\", truncated)\n",
    "# print(\"Reward:\", reward)\n",
    "\n"
   ]
  },
  {
   "cell_type": "code",
   "execution_count": null,
   "metadata": {},
   "outputs": [],
   "source": [
    "class NormalizeZeroToOne(gym.ObservationWrapper):\n",
    "    def __init__(self, env):\n",
    "        super().__init__(env)\n",
    "        self.observation_high = self.env.observation_space.high\n",
    "        self.observation_low = self.env.observation_space.low\n",
    "\n",
    "    def observation(self, obs):\n",
    "        print(obs)\n",
    "        print((obs - self.observation_low) / (self.observation_high - self.observation_low))\n",
    "        return (obs - self.observation_low) / (self.observation_high - self.observation_low)"
   ]
  },
  {
   "cell_type": "code",
   "execution_count": null,
   "metadata": {},
   "outputs": [],
   "source": [
    "class ClipReward(gym.RewardWrapper):\n",
    "    def __init__(self, env, min_reward, max_reward):\n",
    "        super().__init__(env)\n",
    "        self.min_reward = min_reward\n",
    "        self.max_reward = max_reward\n",
    "        self.reward_range = (min_reward, max_reward)\n",
    "\n",
    "    def reward(self, reward):\n",
    "        return np.clip(reward, self.min_reward, self.max_reward)"
   ]
  },
  {
   "cell_type": "code",
   "execution_count": null,
   "metadata": {},
   "outputs": [],
   "source": [
    "# env = gym.wrappers.AtariPreprocessing(gym.make(\"ALE/MsPacman-v5\", render_mode=\"rgb_array\"), terminal_on_life_loss=True, scale_obs=True) # as seen online with frame stackign though\n",
    "# env = gym.wrappers.AtariPreprocessing(gym.make(\"ALE/MsPacman-v5\", render_mode=\"rgb_array\"), terminal_on_life_loss=True, scale_obs=True) # as seen online\n",
    "env = ClipReward(gym.wrappers.AtariPreprocessing(gym.make(\"MsPacmanNoFrameskip-v4\", render_mode=\"rgb_array\"), terminal_on_life_loss=True), -1, 1) # as recommended by the original paper, should already include max pooling\n",
    "env = gym.wrappers.FrameStack(env, 4)"
   ]
  },
  {
   "cell_type": "code",
   "execution_count": 1,
   "metadata": {},
   "outputs": [
    {
     "name": "stderr",
     "output_type": "stream",
     "text": [
      "/Users/jonathanlamontange-kratz/Library/Python/3.9/lib/python/site-packages/urllib3/__init__.py:34: NotOpenSSLWarning: urllib3 v2 only supports OpenSSL 1.1.1+, currently the 'ssl' module is compiled with 'LibreSSL 2.8.3'. See: https://github.com/urllib3/urllib3/issues/3020\n",
      "  warnings.warn(\n"
     ]
    },
    {
     "name": "stdout",
     "output_type": "stream",
     "text": [
      "1 Physical GPUs, 1 Logical GPUs\n"
     ]
    },
    {
     "name": "stderr",
     "output_type": "stream",
     "text": [
      "2024-05-22 01:59:26.995371: I metal_plugin/src/device/metal_device.cc:1154] Metal device set to: Apple M2\n",
      "2024-05-22 01:59:26.995396: I metal_plugin/src/device/metal_device.cc:296] systemMemory: 16.00 GB\n",
      "2024-05-22 01:59:26.995401: I metal_plugin/src/device/metal_device.cc:313] maxCacheSize: 5.33 GB\n",
      "2024-05-22 01:59:26.995436: I tensorflow/core/common_runtime/pluggable_device/pluggable_device_factory.cc:306] Could not identify NUMA node of platform GPU ID 0, defaulting to 0. Your kernel may not have been built with NUMA support.\n",
      "2024-05-22 01:59:26.995457: I tensorflow/core/common_runtime/pluggable_device/pluggable_device_factory.cc:272] Created TensorFlow device (/job:localhost/replica:0/task:0/device:GPU:0 with 0 MB memory) -> physical PluggableDevice (device: 0, name: METAL, pci bus id: <undefined>)\n"
     ]
    }
   ],
   "source": [
    "from rainbow_agent import RainbowAgent\n",
    "import gymnasium as gym\n",
    "import numpy as np\n",
    "import tensorflow as tf\n",
    "from hyperopt import hp"
   ]
  },
  {
   "cell_type": "code",
   "execution_count": 2,
   "metadata": {},
   "outputs": [],
   "source": [
    "def create_search_space():\n",
    "    search_space = {\n",
    "        \"activation\": hp.choice(\n",
    "            \"activation\",\n",
    "            [\n",
    "                \"linear\",\n",
    "                \"relu\",\n",
    "                # 'relu6',\n",
    "                \"sigmoid\",\n",
    "                \"softplus\",\n",
    "                \"soft_sign\",\n",
    "                \"silu\",\n",
    "                \"swish\",\n",
    "                \"log_sigmoid\",\n",
    "                \"hard_sigmoid\",\n",
    "                # 'hard_silu',\n",
    "                # 'hard_swish',\n",
    "                # 'hard_tanh',\n",
    "                \"elu\",\n",
    "                # 'celu',\n",
    "                \"selu\",\n",
    "                \"gelu\",\n",
    "                # 'glu'\n",
    "            ],\n",
    "        ),\n",
    "        \"kernel_initializer\": hp.choice(\n",
    "            \"kernel_initializer\",\n",
    "            [\n",
    "                \"he_uniform\",\n",
    "                \"he_normal\",\n",
    "                \"glorot_uniform\",\n",
    "                \"glorot_normal\",\n",
    "                \"lecun_uniform\",\n",
    "                \"lecun_normal\",\n",
    "                \"orthogonal\",\n",
    "                \"variance_baseline\",\n",
    "                \"variance_0.1\",\n",
    "                \"variance_0.3\",\n",
    "                \"variance_0.8\",\n",
    "                \"variance_3\",\n",
    "                \"variance_5\",\n",
    "                \"variance_10\",\n",
    "            ],\n",
    "        ),\n",
    "        \"optimizer\": hp.choice(\n",
    "            \"optimizer\", [tf.keras.optimizers.legacy.Adam]\n",
    "        ),  # NO SGD OR RMSPROP FOR NOW SINCE IT IS FOR RAINBOW DQN\n",
    "        \"learning_rate\": hp.choice(\n",
    "            \"learning_rate\", [10, 5, 2, 1, 0.1, 0.01, 0.001, 0.0001, 0.00001]\n",
    "        ),  #\n",
    "        \"adam_epsilon\": hp.choice(\n",
    "            \"adam_epsilon\",\n",
    "            [1, 0.5, 0.3125, 0.03125, 0.003125, 0.0003125, 0.00003125, 0.000003125],\n",
    "        ),\n",
    "        \"clipnorm\": hp.choice(\"clipnorm\", [None]),\n",
    "        # NORMALIZATION?\n",
    "        \"soft_update\": hp.choice(\n",
    "            \"soft_update\", [False]\n",
    "        ),  # seems to always be false, we can try it with tru\n",
    "        \"ema_beta\": hp.uniform(\"ema_beta\", 0.95, 0.999),\n",
    "        \"transfer_interval\": hp.choice(\n",
    "            \"transfer_interval\", [10, 25, 50, 100, 200, 400, 800, 1600, 2000]\n",
    "        ),\n",
    "        \"replay_interval\": hp.choice(\"replay_interval\", [1, 2, 3, 4, 5, 8, 10, 12, 350]),\n",
    "        \"minibatch_size\": hp.choice(\n",
    "            \"minibatch_size\", [2**i for i in range(0, 8)]\n",
    "        ),  ###########\n",
    "        \"replay_buffer_size\": hp.choice(\n",
    "            \"replay_buffer_size\", [2000, 3000, 5000, 7500, 10000, 15000, 20000, 25000, 50000]\n",
    "        ),  #############\n",
    "        \"min_replay_buffer_size\": hp.choice(\n",
    "            \"min_replay_buffer_size\", [0, 125, 250, 375, 500, 625, 750, 875, 1000, 1500, 2000]\n",
    "        ),  # 125, 250, 375, 500, 625, 750, 875, 1000, 1500, 2000\n",
    "        \"n_step\": hp.choice(\"n_step\", [1, 2, 3, 4, 5, 8, 10]),\n",
    "        \"discount_factor\": hp.choice(\n",
    "            \"discount_factor\", [0.1, 0.5, 0.9, 0.99, 0.995, 0.999]\n",
    "        ),\n",
    "        \"atom_size\": hp.choice(\"atom_size\", [11, 21, 31, 41, 51, 61, 71, 81]),  #\n",
    "        \"conv_layers\": hp.choice(\"conv_layers\", [[], [(32, 8, 4), (64, 4, 2), (64, 3, 1)]]),\n",
    "        \"conv_layers_noisy\": hp.choice(\"conv_layers_noisy\", [False]),\n",
    "        \"width\": hp.choice(\"width\", [32, 64, 128, 256, 512, 1024]),\n",
    "        \"dense_layers\": hp.choice(\"dense_layers\", [0, 1, 2, 3, 4]),\n",
    "        \"dense_layers_noisy\": hp.choice(\n",
    "            \"dense_layers_noisy\", [True]\n",
    "        ),  # i think this is always true for rainbow\n",
    "        # REWARD CLIPPING\n",
    "        \"noisy_sigma\": hp.choice(\"noisy_sigma\", [0.5]),  #\n",
    "        \"loss_function\": hp.choice(\n",
    "            \"loss_function\",\n",
    "            [tf.keras.losses.CategoricalCrossentropy(), tf.keras.losses.KLDivergence()],\n",
    "        ),\n",
    "        \"dueling\": hp.choice(\"dueling\", [True]),\n",
    "        \"advantage_hidden_layers\": hp.choice(\n",
    "            \"advantage_hidden_layers\", [0, 1, 2, 3, 4]\n",
    "        ),  #\n",
    "        \"value_hidden_layers\": hp.choice(\"value_hidden_layers\", [0, 1, 2, 3, 4]),  #\n",
    "        \"training_steps\": hp.choice(\"training_steps\", [30000]),\n",
    "        \"per_epsilon\": hp.choice(\n",
    "            \"per_epsilon\", [0.000001, 0.00001, 0.0001, 0.001, 0.01, 0.1]\n",
    "        ),\n",
    "        \"per_alpha\": hp.choice(\"per_alpha\", [0.05 * i for i in range(0, 21)]),\n",
    "        \"per_beta\": hp.choice(\"per_beta\", [0.05 * i for i in range(1, 21)]),\n",
    "        # 'per_beta_increase': hp.uniform('per_beta_increase', 0, 0.015),\n",
    "        # 'search_max_depth': 5,\n",
    "        # 'search_max_time': 10,\n",
    "        \"training_iterations\": hp.choice(\"training_iterations\", [1, 2, 3, 4, 5]),\n",
    "        \"num_minibatches\": hp.choice(\"num_minibatches\", [1, 2, 3, 4, 5]),\n",
    "    }\n",
    "    initial_best_config = [\n",
    "        {\n",
    "            \"activation\": 1,\n",
    "            \"kernel_initializer\": 6,\n",
    "            \"optimizer\": 0,  # NO SGD OR RMSPROP FOR NOW SINCE IT IS FOR RAINBOW DQN\n",
    "            \"learning_rate\": 5,  #\n",
    "            \"adam_epsilon\": 5,\n",
    "            \"clipnorm\": 0,\n",
    "            # NORMALIZATION?\n",
    "            \"soft_update\": 0,  # seems to always be false, we can try it with tru\n",
    "            \"ema_beta\": 0.95,\n",
    "            \"transfer_interval\": 3,\n",
    "            \"replay_interval\": 1,\n",
    "            \"minibatch_size\": 7,\n",
    "            \"replay_buffer_size\": 8,  \n",
    "            \"min_replay_buffer_size\": 4,\n",
    "            \"n_step\": 2,\n",
    "            \"discount_factor\": 3,\n",
    "            \"atom_size\": 4,  #\n",
    "            \"conv_layers\": 0,\n",
    "            \"conv_layers_noisy\": 0,\n",
    "            \"width\": 4,\n",
    "            \"dense_layers\": 2,\n",
    "            \"dense_layers_noisy\": 0,  # i think this is always true for rainbow\n",
    "            # REWARD CLIPPING\n",
    "            \"noisy_sigma\": 0,  #\n",
    "            \"loss_function\": 0,\n",
    "            \"dueling\": 0,\n",
    "            \"advantage_hidden_layers\": 0,  #\n",
    "            \"value_hidden_layers\": 0,  #\n",
    "            \"training_steps\": 0,\n",
    "            \"per_epsilon\": 3,\n",
    "            \"per_alpha\": 10,\n",
    "            \"per_beta\": 7,\n",
    "            # 'per_beta_increase': hp.uniform('per_beta_increase', 0, 0.015),\n",
    "            # 'search_max_depth': 5,\n",
    "            # 'search_max_time': 10,\n",
    "            \"training_iterations\": 0,\n",
    "            \"num_minibatches\": 0,\n",
    "        }\n",
    "    ]\n",
    "\n",
    "    return search_space, initial_best_config\n"
   ]
  },
  {
   "cell_type": "code",
   "execution_count": 3,
   "metadata": {},
   "outputs": [
    {
     "name": "stdout",
     "output_type": "stream",
     "text": [
      "{'activation': 'relu', 'adam_epsilon': 0.0003125, 'advantage_hidden_layers': 0, 'atom_size': 51, 'clipnorm': None, 'conv_layers': (), 'conv_layers_noisy': False, 'dense_layers': 2, 'dense_layers_noisy': True, 'discount_factor': 0.99, 'dueling': True, 'ema_beta': 0.95, 'kernel_initializer': 'orthogonal', 'learning_rate': 0.01, 'loss_function': <keras.src.losses.CategoricalCrossentropy object at 0x29cd8d790>, 'min_replay_buffer_size': 500, 'minibatch_size': 128, 'n_step': 3, 'noisy_sigma': 0.5, 'num_minibatches': 1, 'optimizer': <class 'keras.src.optimizers.legacy.adam.Adam'>, 'per_alpha': 0.5, 'per_beta': 0.4, 'per_epsilon': 0.001, 'replay_buffer_size': 50000, 'replay_interval': 2, 'soft_update': False, 'training_iterations': 1, 'training_steps': 30000, 'transfer_interval': 100, 'value_hidden_layers': 0, 'width': 512}\n"
     ]
    }
   ],
   "source": [
    "from hyperopt import space_eval\n",
    "\n",
    "search_sapce, initial_best_config = create_search_space()\n",
    "config = space_eval(search_sapce, initial_best_config[0])\n",
    "print(config)\n"
   ]
  },
  {
   "cell_type": "code",
   "execution_count": 4,
   "metadata": {},
   "outputs": [],
   "source": [
    "env = gym.make('CartPole-v1', render_mode=\"rgb_array\")"
   ]
  },
  {
   "cell_type": "code",
   "execution_count": 5,
   "metadata": {},
   "outputs": [
    {
     "name": "stdout",
     "output_type": "stream",
     "text": [
      "Using default save_intermediate_weights: True\n",
      "Using adam_epsilon: 0.0003125\n",
      "Using learning_rate: 0.01\n",
      "Using clipnorm: None\n",
      "Using optimizer: <class 'keras.src.optimizers.legacy.adam.Adam'>\n",
      "Using loss_function: <keras.src.losses.CategoricalCrossentropy object at 0x29cd8d790>\n",
      "Using training_iterations: 1\n",
      "Using num_minibatches: 1\n",
      "Using minibatch_size: 128\n",
      "Using replay_buffer_size: 50000\n",
      "Using min_replay_buffer_size: 500\n",
      "Using training_steps: 30000\n",
      "Using activation: relu\n",
      "Using kernel_initializer: orthogonal\n",
      "Using width: 512\n",
      "Using noisy_sigma: 0.5\n",
      "Using conv_layers: ()\n",
      "Using conv_layers_noisy: False\n",
      "Using dense_layers: 2\n",
      "Using dense_layers_noisy: True\n",
      "Using value_hidden_layers: 0\n",
      "Using advantage_hidden_layers: 0\n",
      "Using discount_factor: 0.99\n",
      "Using soft_update: False\n",
      "Using transfer_interval: 100\n",
      "Using ema_beta: 0.95\n",
      "Using replay_interval: 2\n",
      "Using per_alpha: 0.5\n",
      "Using per_beta: 0.4\n",
      "Using per_epsilon: 0.001\n",
      "Using n_step: 3\n",
      "Using atom_size: 51\n",
      "observation_dimensions:  (4,)\n",
      "num_actions:  2\n"
     ]
    },
    {
     "name": "stderr",
     "output_type": "stream",
     "text": [
      "/Users/jonathanlamontange-kratz/Library/Python/3.9/lib/python/site-packages/gymnasium/wrappers/record_video.py:94: UserWarning: \u001b[33mWARN: Overwriting existing videos at /Users/jonathanlamontange-kratz/Documents/GitHub/rl-stuff/rainbow/videos/RainbowDQN-CartPole-v1 folder (try specifying a different `video_folder` for the `RecordVideo` wrapper if this is not desired)\u001b[0m\n",
      "  logger.warn(\n",
      "/Users/jonathanlamontange-kratz/Library/Python/3.9/lib/python/site-packages/keras/src/initializers/initializers.py:120: UserWarning: The initializer RandomUniform is unseeded and being called multiple times, which will return identical values each time (even if the initializer is unseeded). Please update your code to provide a seed to the initializer, or avoid using the same initializer instance more than once.\n",
      "  warnings.warn(\n"
     ]
    },
    {
     "name": "stdout",
     "output_type": "stream",
     "text": [
      "WARNING:tensorflow:Model's `__init__()` arguments contain non-serializable objects. Please implement a `get_config()` method in the subclassed Model for proper saving and loading. Defaulting to empty config.\n",
      "WARNING:tensorflow:Model's `__init__()` arguments contain non-serializable objects. Please implement a `get_config()` method in the subclassed Model for proper saving and loading. Defaulting to empty config.\n",
      "WARNING:tensorflow:Model's `__init__()` arguments contain non-serializable objects. Please implement a `get_config()` method in the subclassed Model for proper saving and loading. Defaulting to empty config.\n",
      "score:  11.0\n",
      "score:  13.0\n",
      "score:  12.0\n",
      "score:  11.0\n",
      "Moviepy - Building video ./videos/RainbowDQN-CartPole-v1/10/RainbowDQN-CartPole-v1-episode-4.mp4.\n",
      "Moviepy - Writing video ./videos/RainbowDQN-CartPole-v1/10/RainbowDQN-CartPole-v1-episode-4.mp4\n",
      "\n"
     ]
    },
    {
     "name": "stderr",
     "output_type": "stream",
     "text": [
      "                                                           "
     ]
    },
    {
     "name": "stdout",
     "output_type": "stream",
     "text": [
      "Moviepy - Done !\n",
      "Moviepy - video ready ./videos/RainbowDQN-CartPole-v1/10/RainbowDQN-CartPole-v1-episode-4.mp4\n",
      "score:  13.0\n"
     ]
    },
    {
     "name": "stderr",
     "output_type": "stream",
     "text": [
      "\r"
     ]
    },
    {
     "name": "stdout",
     "output_type": "stream",
     "text": [
      "WARNING:tensorflow:Model's `__init__()` arguments contain non-serializable objects. Please implement a `get_config()` method in the subclassed Model for proper saving and loading. Defaulting to empty config.\n",
      "WARNING:tensorflow:Model's `__init__()` arguments contain non-serializable objects. Please implement a `get_config()` method in the subclassed Model for proper saving and loading. Defaulting to empty config.\n",
      "WARNING:tensorflow:Model's `__init__()` arguments contain non-serializable objects. Please implement a `get_config()` method in the subclassed Model for proper saving and loading. Defaulting to empty config.\n",
      "score:  13.0\n",
      "score:  12.0\n",
      "score:  12.0\n",
      "score:  12.0\n",
      "Moviepy - Building video ./videos/RainbowDQN-CartPole-v1/20/RainbowDQN-CartPole-v1-episode-9.mp4.\n",
      "Moviepy - Writing video ./videos/RainbowDQN-CartPole-v1/20/RainbowDQN-CartPole-v1-episode-9.mp4\n",
      "\n"
     ]
    },
    {
     "name": "stderr",
     "output_type": "stream",
     "text": [
      "                                                   "
     ]
    },
    {
     "name": "stdout",
     "output_type": "stream",
     "text": [
      "Moviepy - Done !\n",
      "Moviepy - video ready ./videos/RainbowDQN-CartPole-v1/20/RainbowDQN-CartPole-v1-episode-9.mp4\n",
      "score:  14.0\n"
     ]
    },
    {
     "name": "stderr",
     "output_type": "stream",
     "text": [
      "\r"
     ]
    },
    {
     "name": "stdout",
     "output_type": "stream",
     "text": [
      "WARNING:tensorflow:Model's `__init__()` arguments contain non-serializable objects. Please implement a `get_config()` method in the subclassed Model for proper saving and loading. Defaulting to empty config.\n",
      "WARNING:tensorflow:Model's `__init__()` arguments contain non-serializable objects. Please implement a `get_config()` method in the subclassed Model for proper saving and loading. Defaulting to empty config.\n",
      "WARNING:tensorflow:Model's `__init__()` arguments contain non-serializable objects. Please implement a `get_config()` method in the subclassed Model for proper saving and loading. Defaulting to empty config.\n",
      "score:  15.0\n",
      "score:  63.0\n",
      "score:  14.0\n",
      "score:  13.0\n",
      "Moviepy - Building video ./videos/RainbowDQN-CartPole-v1/30/RainbowDQN-CartPole-v1-episode-14.mp4.\n",
      "Moviepy - Writing video ./videos/RainbowDQN-CartPole-v1/30/RainbowDQN-CartPole-v1-episode-14.mp4\n",
      "\n"
     ]
    },
    {
     "name": "stderr",
     "output_type": "stream",
     "text": [
      "                                                   "
     ]
    },
    {
     "name": "stdout",
     "output_type": "stream",
     "text": [
      "Moviepy - Done !\n",
      "Moviepy - video ready ./videos/RainbowDQN-CartPole-v1/30/RainbowDQN-CartPole-v1-episode-14.mp4\n",
      "score:  13.0\n"
     ]
    },
    {
     "name": "stderr",
     "output_type": "stream",
     "text": [
      "\r"
     ]
    },
    {
     "name": "stdout",
     "output_type": "stream",
     "text": [
      "WARNING:tensorflow:Model's `__init__()` arguments contain non-serializable objects. Please implement a `get_config()` method in the subclassed Model for proper saving and loading. Defaulting to empty config.\n",
      "WARNING:tensorflow:Model's `__init__()` arguments contain non-serializable objects. Please implement a `get_config()` method in the subclassed Model for proper saving and loading. Defaulting to empty config.\n",
      "WARNING:tensorflow:Model's `__init__()` arguments contain non-serializable objects. Please implement a `get_config()` method in the subclassed Model for proper saving and loading. Defaulting to empty config.\n",
      "score:  78.0\n",
      "score:  71.0\n",
      "score:  70.0\n",
      "score:  83.0\n",
      "Moviepy - Building video ./videos/RainbowDQN-CartPole-v1/40/RainbowDQN-CartPole-v1-episode-19.mp4.\n",
      "Moviepy - Writing video ./videos/RainbowDQN-CartPole-v1/40/RainbowDQN-CartPole-v1-episode-19.mp4\n",
      "\n"
     ]
    },
    {
     "name": "stderr",
     "output_type": "stream",
     "text": [
      "                                                             "
     ]
    },
    {
     "name": "stdout",
     "output_type": "stream",
     "text": [
      "Moviepy - Done !\n",
      "Moviepy - video ready ./videos/RainbowDQN-CartPole-v1/40/RainbowDQN-CartPole-v1-episode-19.mp4\n",
      "score:  75.0\n"
     ]
    },
    {
     "name": "stderr",
     "output_type": "stream",
     "text": [
      "\r"
     ]
    },
    {
     "name": "stdout",
     "output_type": "stream",
     "text": [
      "WARNING:tensorflow:Model's `__init__()` arguments contain non-serializable objects. Please implement a `get_config()` method in the subclassed Model for proper saving and loading. Defaulting to empty config.\n",
      "WARNING:tensorflow:Model's `__init__()` arguments contain non-serializable objects. Please implement a `get_config()` method in the subclassed Model for proper saving and loading. Defaulting to empty config.\n",
      "WARNING:tensorflow:Model's `__init__()` arguments contain non-serializable objects. Please implement a `get_config()` method in the subclassed Model for proper saving and loading. Defaulting to empty config.\n",
      "score:  69.0\n",
      "score:  71.0\n",
      "score:  70.0\n",
      "score:  72.0\n",
      "Moviepy - Building video ./videos/RainbowDQN-CartPole-v1/50/RainbowDQN-CartPole-v1-episode-24.mp4.\n",
      "Moviepy - Writing video ./videos/RainbowDQN-CartPole-v1/50/RainbowDQN-CartPole-v1-episode-24.mp4\n",
      "\n"
     ]
    },
    {
     "name": "stderr",
     "output_type": "stream",
     "text": [
      "                                                             "
     ]
    },
    {
     "name": "stdout",
     "output_type": "stream",
     "text": [
      "Moviepy - Done !\n",
      "Moviepy - video ready ./videos/RainbowDQN-CartPole-v1/50/RainbowDQN-CartPole-v1-episode-24.mp4\n",
      "score:  69.0\n"
     ]
    },
    {
     "name": "stderr",
     "output_type": "stream",
     "text": [
      "\r"
     ]
    },
    {
     "name": "stdout",
     "output_type": "stream",
     "text": [
      "WARNING:tensorflow:Model's `__init__()` arguments contain non-serializable objects. Please implement a `get_config()` method in the subclassed Model for proper saving and loading. Defaulting to empty config.\n",
      "WARNING:tensorflow:Model's `__init__()` arguments contain non-serializable objects. Please implement a `get_config()` method in the subclassed Model for proper saving and loading. Defaulting to empty config.\n",
      "WARNING:tensorflow:Model's `__init__()` arguments contain non-serializable objects. Please implement a `get_config()` method in the subclassed Model for proper saving and loading. Defaulting to empty config.\n",
      "score:  9.0\n",
      "score:  8.0\n",
      "score:  10.0\n",
      "score:  9.0\n",
      "Moviepy - Building video ./videos/RainbowDQN-CartPole-v1/60/RainbowDQN-CartPole-v1-episode-29.mp4.\n",
      "Moviepy - Writing video ./videos/RainbowDQN-CartPole-v1/60/RainbowDQN-CartPole-v1-episode-29.mp4\n",
      "\n"
     ]
    },
    {
     "name": "stderr",
     "output_type": "stream",
     "text": [
      "                                                   "
     ]
    },
    {
     "name": "stdout",
     "output_type": "stream",
     "text": [
      "Moviepy - Done !\n",
      "Moviepy - video ready ./videos/RainbowDQN-CartPole-v1/60/RainbowDQN-CartPole-v1-episode-29.mp4\n",
      "score:  9.0\n"
     ]
    },
    {
     "name": "stderr",
     "output_type": "stream",
     "text": [
      "\r"
     ]
    },
    {
     "name": "stdout",
     "output_type": "stream",
     "text": [
      "WARNING:tensorflow:Model's `__init__()` arguments contain non-serializable objects. Please implement a `get_config()` method in the subclassed Model for proper saving and loading. Defaulting to empty config.\n",
      "WARNING:tensorflow:Model's `__init__()` arguments contain non-serializable objects. Please implement a `get_config()` method in the subclassed Model for proper saving and loading. Defaulting to empty config.\n",
      "WARNING:tensorflow:Model's `__init__()` arguments contain non-serializable objects. Please implement a `get_config()` method in the subclassed Model for proper saving and loading. Defaulting to empty config.\n",
      "score:  50.0\n",
      "score:  52.0\n",
      "score:  48.0\n",
      "score:  50.0\n",
      "Moviepy - Building video ./videos/RainbowDQN-CartPole-v1/70/RainbowDQN-CartPole-v1-episode-34.mp4.\n",
      "Moviepy - Writing video ./videos/RainbowDQN-CartPole-v1/70/RainbowDQN-CartPole-v1-episode-34.mp4\n",
      "\n"
     ]
    },
    {
     "name": "stderr",
     "output_type": "stream",
     "text": [
      "                                                             "
     ]
    },
    {
     "name": "stdout",
     "output_type": "stream",
     "text": [
      "Moviepy - Done !\n",
      "Moviepy - video ready ./videos/RainbowDQN-CartPole-v1/70/RainbowDQN-CartPole-v1-episode-34.mp4\n",
      "score:  52.0\n"
     ]
    },
    {
     "name": "stderr",
     "output_type": "stream",
     "text": [
      "\r"
     ]
    },
    {
     "name": "stdout",
     "output_type": "stream",
     "text": [
      "WARNING:tensorflow:Model's `__init__()` arguments contain non-serializable objects. Please implement a `get_config()` method in the subclassed Model for proper saving and loading. Defaulting to empty config.\n",
      "WARNING:tensorflow:Model's `__init__()` arguments contain non-serializable objects. Please implement a `get_config()` method in the subclassed Model for proper saving and loading. Defaulting to empty config.\n",
      "WARNING:tensorflow:Model's `__init__()` arguments contain non-serializable objects. Please implement a `get_config()` method in the subclassed Model for proper saving and loading. Defaulting to empty config.\n",
      "score:  10.0\n",
      "score:  10.0\n",
      "score:  37.0\n",
      "score:  44.0\n",
      "Moviepy - Building video ./videos/RainbowDQN-CartPole-v1/80/RainbowDQN-CartPole-v1-episode-39.mp4.\n",
      "Moviepy - Writing video ./videos/RainbowDQN-CartPole-v1/80/RainbowDQN-CartPole-v1-episode-39.mp4\n",
      "\n"
     ]
    },
    {
     "name": "stderr",
     "output_type": "stream",
     "text": [
      "                                                           "
     ]
    },
    {
     "name": "stdout",
     "output_type": "stream",
     "text": [
      "Moviepy - Done !\n",
      "Moviepy - video ready ./videos/RainbowDQN-CartPole-v1/80/RainbowDQN-CartPole-v1-episode-39.mp4\n",
      "score:  44.0\n"
     ]
    },
    {
     "name": "stderr",
     "output_type": "stream",
     "text": [
      "\r"
     ]
    },
    {
     "name": "stdout",
     "output_type": "stream",
     "text": [
      "WARNING:tensorflow:Model's `__init__()` arguments contain non-serializable objects. Please implement a `get_config()` method in the subclassed Model for proper saving and loading. Defaulting to empty config.\n",
      "WARNING:tensorflow:Model's `__init__()` arguments contain non-serializable objects. Please implement a `get_config()` method in the subclassed Model for proper saving and loading. Defaulting to empty config.\n",
      "WARNING:tensorflow:Model's `__init__()` arguments contain non-serializable objects. Please implement a `get_config()` method in the subclassed Model for proper saving and loading. Defaulting to empty config.\n",
      "score:  52.0\n",
      "score:  51.0\n",
      "score:  50.0\n",
      "score:  48.0\n",
      "Moviepy - Building video ./videos/RainbowDQN-CartPole-v1/90/RainbowDQN-CartPole-v1-episode-44.mp4.\n",
      "Moviepy - Writing video ./videos/RainbowDQN-CartPole-v1/90/RainbowDQN-CartPole-v1-episode-44.mp4\n",
      "\n"
     ]
    },
    {
     "name": "stderr",
     "output_type": "stream",
     "text": [
      "                                                             "
     ]
    },
    {
     "name": "stdout",
     "output_type": "stream",
     "text": [
      "Moviepy - Done !\n",
      "Moviepy - video ready ./videos/RainbowDQN-CartPole-v1/90/RainbowDQN-CartPole-v1-episode-44.mp4\n",
      "score:  54.0\n"
     ]
    },
    {
     "name": "stderr",
     "output_type": "stream",
     "text": [
      "\r"
     ]
    },
    {
     "name": "stdout",
     "output_type": "stream",
     "text": [
      "WARNING:tensorflow:Model's `__init__()` arguments contain non-serializable objects. Please implement a `get_config()` method in the subclassed Model for proper saving and loading. Defaulting to empty config.\n",
      "WARNING:tensorflow:Model's `__init__()` arguments contain non-serializable objects. Please implement a `get_config()` method in the subclassed Model for proper saving and loading. Defaulting to empty config.\n",
      "WARNING:tensorflow:Model's `__init__()` arguments contain non-serializable objects. Please implement a `get_config()` method in the subclassed Model for proper saving and loading. Defaulting to empty config.\n",
      "score:  47.0\n",
      "score:  12.0\n",
      "score:  15.0\n",
      "score:  41.0\n",
      "Moviepy - Building video ./videos/RainbowDQN-CartPole-v1/100/RainbowDQN-CartPole-v1-episode-49.mp4.\n",
      "Moviepy - Writing video ./videos/RainbowDQN-CartPole-v1/100/RainbowDQN-CartPole-v1-episode-49.mp4\n",
      "\n"
     ]
    },
    {
     "name": "stderr",
     "output_type": "stream",
     "text": [
      "                                                   \r"
     ]
    },
    {
     "name": "stdout",
     "output_type": "stream",
     "text": [
      "Moviepy - Done !\n",
      "Moviepy - video ready ./videos/RainbowDQN-CartPole-v1/100/RainbowDQN-CartPole-v1-episode-49.mp4\n",
      "score:  12.0\n",
      "WARNING:tensorflow:Model's `__init__()` arguments contain non-serializable objects. Please implement a `get_config()` method in the subclassed Model for proper saving and loading. Defaulting to empty config.\n",
      "WARNING:tensorflow:Model's `__init__()` arguments contain non-serializable objects. Please implement a `get_config()` method in the subclassed Model for proper saving and loading. Defaulting to empty config.\n",
      "WARNING:tensorflow:Model's `__init__()` arguments contain non-serializable objects. Please implement a `get_config()` method in the subclassed Model for proper saving and loading. Defaulting to empty config.\n",
      "score:  55.0\n",
      "score:  59.0\n",
      "score:  65.0\n",
      "score:  56.0\n",
      "Moviepy - Building video ./videos/RainbowDQN-CartPole-v1/110/RainbowDQN-CartPole-v1-episode-54.mp4.\n",
      "Moviepy - Writing video ./videos/RainbowDQN-CartPole-v1/110/RainbowDQN-CartPole-v1-episode-54.mp4\n",
      "\n"
     ]
    },
    {
     "name": "stderr",
     "output_type": "stream",
     "text": [
      "                                                            "
     ]
    },
    {
     "name": "stdout",
     "output_type": "stream",
     "text": [
      "Moviepy - Done !\n",
      "Moviepy - video ready ./videos/RainbowDQN-CartPole-v1/110/RainbowDQN-CartPole-v1-episode-54.mp4\n",
      "score:  53.0\n"
     ]
    },
    {
     "name": "stderr",
     "output_type": "stream",
     "text": [
      "\r"
     ]
    },
    {
     "name": "stdout",
     "output_type": "stream",
     "text": [
      "WARNING:tensorflow:Model's `__init__()` arguments contain non-serializable objects. Please implement a `get_config()` method in the subclassed Model for proper saving and loading. Defaulting to empty config.\n",
      "WARNING:tensorflow:Model's `__init__()` arguments contain non-serializable objects. Please implement a `get_config()` method in the subclassed Model for proper saving and loading. Defaulting to empty config.\n",
      "WARNING:tensorflow:Model's `__init__()` arguments contain non-serializable objects. Please implement a `get_config()` method in the subclassed Model for proper saving and loading. Defaulting to empty config.\n",
      "score:  75.0\n",
      "score:  78.0\n",
      "score:  78.0\n",
      "score:  79.0\n",
      "Moviepy - Building video ./videos/RainbowDQN-CartPole-v1/120/RainbowDQN-CartPole-v1-episode-59.mp4.\n",
      "Moviepy - Writing video ./videos/RainbowDQN-CartPole-v1/120/RainbowDQN-CartPole-v1-episode-59.mp4\n",
      "\n"
     ]
    },
    {
     "name": "stderr",
     "output_type": "stream",
     "text": [
      "                                                             "
     ]
    },
    {
     "name": "stdout",
     "output_type": "stream",
     "text": [
      "Moviepy - Done !\n",
      "Moviepy - video ready ./videos/RainbowDQN-CartPole-v1/120/RainbowDQN-CartPole-v1-episode-59.mp4\n",
      "score:  81.0\n"
     ]
    },
    {
     "name": "stderr",
     "output_type": "stream",
     "text": [
      "\r"
     ]
    },
    {
     "name": "stdout",
     "output_type": "stream",
     "text": [
      "WARNING:tensorflow:Model's `__init__()` arguments contain non-serializable objects. Please implement a `get_config()` method in the subclassed Model for proper saving and loading. Defaulting to empty config.\n",
      "WARNING:tensorflow:Model's `__init__()` arguments contain non-serializable objects. Please implement a `get_config()` method in the subclassed Model for proper saving and loading. Defaulting to empty config.\n",
      "WARNING:tensorflow:Model's `__init__()` arguments contain non-serializable objects. Please implement a `get_config()` method in the subclassed Model for proper saving and loading. Defaulting to empty config.\n",
      "score:  70.0\n",
      "score:  74.0\n",
      "score:  74.0\n",
      "score:  74.0\n",
      "Moviepy - Building video ./videos/RainbowDQN-CartPole-v1/130/RainbowDQN-CartPole-v1-episode-64.mp4.\n",
      "Moviepy - Writing video ./videos/RainbowDQN-CartPole-v1/130/RainbowDQN-CartPole-v1-episode-64.mp4\n",
      "\n"
     ]
    },
    {
     "name": "stderr",
     "output_type": "stream",
     "text": [
      "                                                             "
     ]
    },
    {
     "name": "stdout",
     "output_type": "stream",
     "text": [
      "Moviepy - Done !\n",
      "Moviepy - video ready ./videos/RainbowDQN-CartPole-v1/130/RainbowDQN-CartPole-v1-episode-64.mp4\n",
      "score:  64.0\n"
     ]
    },
    {
     "name": "stderr",
     "output_type": "stream",
     "text": [
      "\r"
     ]
    },
    {
     "name": "stdout",
     "output_type": "stream",
     "text": [
      "WARNING:tensorflow:Model's `__init__()` arguments contain non-serializable objects. Please implement a `get_config()` method in the subclassed Model for proper saving and loading. Defaulting to empty config.\n",
      "WARNING:tensorflow:Model's `__init__()` arguments contain non-serializable objects. Please implement a `get_config()` method in the subclassed Model for proper saving and loading. Defaulting to empty config.\n",
      "WARNING:tensorflow:Model's `__init__()` arguments contain non-serializable objects. Please implement a `get_config()` method in the subclassed Model for proper saving and loading. Defaulting to empty config.\n",
      "score:  66.0\n",
      "score:  69.0\n",
      "score:  69.0\n",
      "score:  78.0\n",
      "Moviepy - Building video ./videos/RainbowDQN-CartPole-v1/140/RainbowDQN-CartPole-v1-episode-69.mp4.\n",
      "Moviepy - Writing video ./videos/RainbowDQN-CartPole-v1/140/RainbowDQN-CartPole-v1-episode-69.mp4\n",
      "\n"
     ]
    },
    {
     "name": "stderr",
     "output_type": "stream",
     "text": [
      "                                                             "
     ]
    },
    {
     "name": "stdout",
     "output_type": "stream",
     "text": [
      "Moviepy - Done !\n",
      "Moviepy - video ready ./videos/RainbowDQN-CartPole-v1/140/RainbowDQN-CartPole-v1-episode-69.mp4\n",
      "score:  72.0\n"
     ]
    },
    {
     "name": "stderr",
     "output_type": "stream",
     "text": [
      "\r"
     ]
    },
    {
     "name": "stdout",
     "output_type": "stream",
     "text": [
      "WARNING:tensorflow:Model's `__init__()` arguments contain non-serializable objects. Please implement a `get_config()` method in the subclassed Model for proper saving and loading. Defaulting to empty config.\n",
      "WARNING:tensorflow:Model's `__init__()` arguments contain non-serializable objects. Please implement a `get_config()` method in the subclassed Model for proper saving and loading. Defaulting to empty config.\n",
      "WARNING:tensorflow:Model's `__init__()` arguments contain non-serializable objects. Please implement a `get_config()` method in the subclassed Model for proper saving and loading. Defaulting to empty config.\n",
      "score:  80.0\n",
      "score:  70.0\n",
      "score:  74.0\n",
      "score:  76.0\n",
      "Moviepy - Building video ./videos/RainbowDQN-CartPole-v1/150/RainbowDQN-CartPole-v1-episode-74.mp4.\n",
      "Moviepy - Writing video ./videos/RainbowDQN-CartPole-v1/150/RainbowDQN-CartPole-v1-episode-74.mp4\n",
      "\n"
     ]
    },
    {
     "name": "stderr",
     "output_type": "stream",
     "text": [
      "                                                           \r"
     ]
    },
    {
     "name": "stdout",
     "output_type": "stream",
     "text": [
      "Moviepy - Done !\n",
      "Moviepy - video ready ./videos/RainbowDQN-CartPole-v1/150/RainbowDQN-CartPole-v1-episode-74.mp4\n",
      "score:  65.0\n",
      "WARNING:tensorflow:Model's `__init__()` arguments contain non-serializable objects. Please implement a `get_config()` method in the subclassed Model for proper saving and loading. Defaulting to empty config.\n",
      "WARNING:tensorflow:Model's `__init__()` arguments contain non-serializable objects. Please implement a `get_config()` method in the subclassed Model for proper saving and loading. Defaulting to empty config.\n",
      "WARNING:tensorflow:Model's `__init__()` arguments contain non-serializable objects. Please implement a `get_config()` method in the subclassed Model for proper saving and loading. Defaulting to empty config.\n",
      "score:  81.0\n",
      "score:  81.0\n",
      "score:  93.0\n",
      "score:  87.0\n",
      "Moviepy - Building video ./videos/RainbowDQN-CartPole-v1/160/RainbowDQN-CartPole-v1-episode-79.mp4.\n",
      "Moviepy - Writing video ./videos/RainbowDQN-CartPole-v1/160/RainbowDQN-CartPole-v1-episode-79.mp4\n",
      "\n"
     ]
    },
    {
     "name": "stderr",
     "output_type": "stream",
     "text": [
      "                                                             \r"
     ]
    },
    {
     "name": "stdout",
     "output_type": "stream",
     "text": [
      "Moviepy - Done !\n",
      "Moviepy - video ready ./videos/RainbowDQN-CartPole-v1/160/RainbowDQN-CartPole-v1-episode-79.mp4\n",
      "score:  87.0\n",
      "WARNING:tensorflow:Model's `__init__()` arguments contain non-serializable objects. Please implement a `get_config()` method in the subclassed Model for proper saving and loading. Defaulting to empty config.\n",
      "WARNING:tensorflow:Model's `__init__()` arguments contain non-serializable objects. Please implement a `get_config()` method in the subclassed Model for proper saving and loading. Defaulting to empty config.\n",
      "WARNING:tensorflow:Model's `__init__()` arguments contain non-serializable objects. Please implement a `get_config()` method in the subclassed Model for proper saving and loading. Defaulting to empty config.\n",
      "score:  93.0\n",
      "score:  84.0\n",
      "score:  88.0\n",
      "score:  87.0\n",
      "Moviepy - Building video ./videos/RainbowDQN-CartPole-v1/170/RainbowDQN-CartPole-v1-episode-84.mp4.\n",
      "Moviepy - Writing video ./videos/RainbowDQN-CartPole-v1/170/RainbowDQN-CartPole-v1-episode-84.mp4\n",
      "\n"
     ]
    },
    {
     "name": "stderr",
     "output_type": "stream",
     "text": [
      "                                                             \r"
     ]
    },
    {
     "name": "stdout",
     "output_type": "stream",
     "text": [
      "Moviepy - Done !\n",
      "Moviepy - video ready ./videos/RainbowDQN-CartPole-v1/170/RainbowDQN-CartPole-v1-episode-84.mp4\n",
      "score:  90.0\n",
      "WARNING:tensorflow:Model's `__init__()` arguments contain non-serializable objects. Please implement a `get_config()` method in the subclassed Model for proper saving and loading. Defaulting to empty config.\n",
      "WARNING:tensorflow:Model's `__init__()` arguments contain non-serializable objects. Please implement a `get_config()` method in the subclassed Model for proper saving and loading. Defaulting to empty config.\n",
      "WARNING:tensorflow:Model's `__init__()` arguments contain non-serializable objects. Please implement a `get_config()` method in the subclassed Model for proper saving and loading. Defaulting to empty config.\n",
      "score:  91.0\n",
      "score:  110.0\n",
      "score:  102.0\n",
      "score:  95.0\n",
      "Moviepy - Building video ./videos/RainbowDQN-CartPole-v1/180/RainbowDQN-CartPole-v1-episode-89.mp4.\n",
      "Moviepy - Writing video ./videos/RainbowDQN-CartPole-v1/180/RainbowDQN-CartPole-v1-episode-89.mp4\n",
      "\n"
     ]
    },
    {
     "name": "stderr",
     "output_type": "stream",
     "text": [
      "                                                              \r"
     ]
    },
    {
     "name": "stdout",
     "output_type": "stream",
     "text": [
      "Moviepy - Done !\n",
      "Moviepy - video ready ./videos/RainbowDQN-CartPole-v1/180/RainbowDQN-CartPole-v1-episode-89.mp4\n",
      "score:  98.0\n",
      "WARNING:tensorflow:Model's `__init__()` arguments contain non-serializable objects. Please implement a `get_config()` method in the subclassed Model for proper saving and loading. Defaulting to empty config.\n",
      "WARNING:tensorflow:Model's `__init__()` arguments contain non-serializable objects. Please implement a `get_config()` method in the subclassed Model for proper saving and loading. Defaulting to empty config.\n",
      "WARNING:tensorflow:Model's `__init__()` arguments contain non-serializable objects. Please implement a `get_config()` method in the subclassed Model for proper saving and loading. Defaulting to empty config.\n",
      "score:  88.0\n",
      "score:  87.0\n",
      "score:  94.0\n",
      "score:  96.0\n",
      "Moviepy - Building video ./videos/RainbowDQN-CartPole-v1/190/RainbowDQN-CartPole-v1-episode-94.mp4.\n",
      "Moviepy - Writing video ./videos/RainbowDQN-CartPole-v1/190/RainbowDQN-CartPole-v1-episode-94.mp4\n",
      "\n"
     ]
    },
    {
     "name": "stderr",
     "output_type": "stream",
     "text": [
      "                                                             "
     ]
    },
    {
     "name": "stdout",
     "output_type": "stream",
     "text": [
      "Moviepy - Done !\n",
      "Moviepy - video ready ./videos/RainbowDQN-CartPole-v1/190/RainbowDQN-CartPole-v1-episode-94.mp4\n",
      "score:  88.0\n"
     ]
    },
    {
     "name": "stderr",
     "output_type": "stream",
     "text": [
      "\r"
     ]
    },
    {
     "name": "stdout",
     "output_type": "stream",
     "text": [
      "WARNING:tensorflow:Model's `__init__()` arguments contain non-serializable objects. Please implement a `get_config()` method in the subclassed Model for proper saving and loading. Defaulting to empty config.\n",
      "WARNING:tensorflow:Model's `__init__()` arguments contain non-serializable objects. Please implement a `get_config()` method in the subclassed Model for proper saving and loading. Defaulting to empty config.\n",
      "WARNING:tensorflow:Model's `__init__()` arguments contain non-serializable objects. Please implement a `get_config()` method in the subclassed Model for proper saving and loading. Defaulting to empty config.\n",
      "score:  114.0\n",
      "score:  99.0\n",
      "score:  100.0\n",
      "score:  117.0\n",
      "Moviepy - Building video ./videos/RainbowDQN-CartPole-v1/200/RainbowDQN-CartPole-v1-episode-99.mp4.\n",
      "Moviepy - Writing video ./videos/RainbowDQN-CartPole-v1/200/RainbowDQN-CartPole-v1-episode-99.mp4\n",
      "\n"
     ]
    },
    {
     "name": "stderr",
     "output_type": "stream",
     "text": [
      "                                                              \r"
     ]
    },
    {
     "name": "stdout",
     "output_type": "stream",
     "text": [
      "Moviepy - Done !\n",
      "Moviepy - video ready ./videos/RainbowDQN-CartPole-v1/200/RainbowDQN-CartPole-v1-episode-99.mp4\n",
      "score:  101.0\n",
      "WARNING:tensorflow:Model's `__init__()` arguments contain non-serializable objects. Please implement a `get_config()` method in the subclassed Model for proper saving and loading. Defaulting to empty config.\n",
      "WARNING:tensorflow:Model's `__init__()` arguments contain non-serializable objects. Please implement a `get_config()` method in the subclassed Model for proper saving and loading. Defaulting to empty config.\n",
      "WARNING:tensorflow:Model's `__init__()` arguments contain non-serializable objects. Please implement a `get_config()` method in the subclassed Model for proper saving and loading. Defaulting to empty config.\n",
      "score:  96.0\n",
      "score:  102.0\n",
      "score:  113.0\n",
      "score:  102.0\n",
      "Moviepy - Building video ./videos/RainbowDQN-CartPole-v1/210/RainbowDQN-CartPole-v1-episode-104.mp4.\n",
      "Moviepy - Writing video ./videos/RainbowDQN-CartPole-v1/210/RainbowDQN-CartPole-v1-episode-104.mp4\n",
      "\n"
     ]
    },
    {
     "name": "stderr",
     "output_type": "stream",
     "text": [
      "                                                             \r"
     ]
    },
    {
     "name": "stdout",
     "output_type": "stream",
     "text": [
      "Moviepy - Done !\n",
      "Moviepy - video ready ./videos/RainbowDQN-CartPole-v1/210/RainbowDQN-CartPole-v1-episode-104.mp4\n",
      "score:  97.0\n",
      "WARNING:tensorflow:Model's `__init__()` arguments contain non-serializable objects. Please implement a `get_config()` method in the subclassed Model for proper saving and loading. Defaulting to empty config.\n",
      "WARNING:tensorflow:Model's `__init__()` arguments contain non-serializable objects. Please implement a `get_config()` method in the subclassed Model for proper saving and loading. Defaulting to empty config.\n",
      "WARNING:tensorflow:Model's `__init__()` arguments contain non-serializable objects. Please implement a `get_config()` method in the subclassed Model for proper saving and loading. Defaulting to empty config.\n",
      "score:  126.0\n",
      "score:  110.0\n",
      "score:  122.0\n",
      "score:  94.0\n",
      "Moviepy - Building video ./videos/RainbowDQN-CartPole-v1/220/RainbowDQN-CartPole-v1-episode-109.mp4.\n",
      "Moviepy - Writing video ./videos/RainbowDQN-CartPole-v1/220/RainbowDQN-CartPole-v1-episode-109.mp4\n",
      "\n"
     ]
    },
    {
     "name": "stderr",
     "output_type": "stream",
     "text": [
      "                                                              \r"
     ]
    },
    {
     "name": "stdout",
     "output_type": "stream",
     "text": [
      "Moviepy - Done !\n",
      "Moviepy - video ready ./videos/RainbowDQN-CartPole-v1/220/RainbowDQN-CartPole-v1-episode-109.mp4\n",
      "score:  112.0\n",
      "WARNING:tensorflow:Model's `__init__()` arguments contain non-serializable objects. Please implement a `get_config()` method in the subclassed Model for proper saving and loading. Defaulting to empty config.\n",
      "WARNING:tensorflow:Model's `__init__()` arguments contain non-serializable objects. Please implement a `get_config()` method in the subclassed Model for proper saving and loading. Defaulting to empty config.\n",
      "WARNING:tensorflow:Model's `__init__()` arguments contain non-serializable objects. Please implement a `get_config()` method in the subclassed Model for proper saving and loading. Defaulting to empty config.\n",
      "score:  94.0\n",
      "score:  101.0\n",
      "score:  102.0\n",
      "score:  114.0\n",
      "Moviepy - Building video ./videos/RainbowDQN-CartPole-v1/230/RainbowDQN-CartPole-v1-episode-114.mp4.\n",
      "Moviepy - Writing video ./videos/RainbowDQN-CartPole-v1/230/RainbowDQN-CartPole-v1-episode-114.mp4\n",
      "\n"
     ]
    },
    {
     "name": "stderr",
     "output_type": "stream",
     "text": [
      "                                                              \r"
     ]
    },
    {
     "name": "stdout",
     "output_type": "stream",
     "text": [
      "Moviepy - Done !\n",
      "Moviepy - video ready ./videos/RainbowDQN-CartPole-v1/230/RainbowDQN-CartPole-v1-episode-114.mp4\n",
      "score:  99.0\n",
      "WARNING:tensorflow:Model's `__init__()` arguments contain non-serializable objects. Please implement a `get_config()` method in the subclassed Model for proper saving and loading. Defaulting to empty config.\n",
      "WARNING:tensorflow:Model's `__init__()` arguments contain non-serializable objects. Please implement a `get_config()` method in the subclassed Model for proper saving and loading. Defaulting to empty config.\n",
      "WARNING:tensorflow:Model's `__init__()` arguments contain non-serializable objects. Please implement a `get_config()` method in the subclassed Model for proper saving and loading. Defaulting to empty config.\n",
      "score:  121.0\n",
      "score:  118.0\n",
      "score:  109.0\n",
      "score:  123.0\n",
      "Moviepy - Building video ./videos/RainbowDQN-CartPole-v1/240/RainbowDQN-CartPole-v1-episode-119.mp4.\n",
      "Moviepy - Writing video ./videos/RainbowDQN-CartPole-v1/240/RainbowDQN-CartPole-v1-episode-119.mp4\n",
      "\n"
     ]
    },
    {
     "name": "stderr",
     "output_type": "stream",
     "text": [
      "                                                              \r"
     ]
    },
    {
     "name": "stdout",
     "output_type": "stream",
     "text": [
      "Moviepy - Done !\n",
      "Moviepy - video ready ./videos/RainbowDQN-CartPole-v1/240/RainbowDQN-CartPole-v1-episode-119.mp4\n",
      "score:  106.0\n",
      "WARNING:tensorflow:Model's `__init__()` arguments contain non-serializable objects. Please implement a `get_config()` method in the subclassed Model for proper saving and loading. Defaulting to empty config.\n",
      "WARNING:tensorflow:Model's `__init__()` arguments contain non-serializable objects. Please implement a `get_config()` method in the subclassed Model for proper saving and loading. Defaulting to empty config.\n",
      "WARNING:tensorflow:Model's `__init__()` arguments contain non-serializable objects. Please implement a `get_config()` method in the subclassed Model for proper saving and loading. Defaulting to empty config.\n",
      "score:  126.0\n",
      "score:  109.0\n",
      "score:  102.0\n",
      "score:  102.0\n",
      "Moviepy - Building video ./videos/RainbowDQN-CartPole-v1/250/RainbowDQN-CartPole-v1-episode-124.mp4.\n",
      "Moviepy - Writing video ./videos/RainbowDQN-CartPole-v1/250/RainbowDQN-CartPole-v1-episode-124.mp4\n",
      "\n"
     ]
    },
    {
     "name": "stderr",
     "output_type": "stream",
     "text": [
      "                                                              \r"
     ]
    },
    {
     "name": "stdout",
     "output_type": "stream",
     "text": [
      "Moviepy - Done !\n",
      "Moviepy - video ready ./videos/RainbowDQN-CartPole-v1/250/RainbowDQN-CartPole-v1-episode-124.mp4\n",
      "score:  126.0\n",
      "WARNING:tensorflow:Model's `__init__()` arguments contain non-serializable objects. Please implement a `get_config()` method in the subclassed Model for proper saving and loading. Defaulting to empty config.\n",
      "WARNING:tensorflow:Model's `__init__()` arguments contain non-serializable objects. Please implement a `get_config()` method in the subclassed Model for proper saving and loading. Defaulting to empty config.\n",
      "WARNING:tensorflow:Model's `__init__()` arguments contain non-serializable objects. Please implement a `get_config()` method in the subclassed Model for proper saving and loading. Defaulting to empty config.\n",
      "score:  102.0\n",
      "score:  104.0\n",
      "score:  96.0\n",
      "score:  106.0\n",
      "Moviepy - Building video ./videos/RainbowDQN-CartPole-v1/260/RainbowDQN-CartPole-v1-episode-129.mp4.\n",
      "Moviepy - Writing video ./videos/RainbowDQN-CartPole-v1/260/RainbowDQN-CartPole-v1-episode-129.mp4\n",
      "\n"
     ]
    },
    {
     "name": "stderr",
     "output_type": "stream",
     "text": [
      "                                                            \r"
     ]
    },
    {
     "name": "stdout",
     "output_type": "stream",
     "text": [
      "Moviepy - Done !\n",
      "Moviepy - video ready ./videos/RainbowDQN-CartPole-v1/260/RainbowDQN-CartPole-v1-episode-129.mp4\n",
      "score:  115.0\n",
      "WARNING:tensorflow:Model's `__init__()` arguments contain non-serializable objects. Please implement a `get_config()` method in the subclassed Model for proper saving and loading. Defaulting to empty config.\n",
      "WARNING:tensorflow:Model's `__init__()` arguments contain non-serializable objects. Please implement a `get_config()` method in the subclassed Model for proper saving and loading. Defaulting to empty config.\n",
      "WARNING:tensorflow:Model's `__init__()` arguments contain non-serializable objects. Please implement a `get_config()` method in the subclassed Model for proper saving and loading. Defaulting to empty config.\n",
      "score:  92.0\n",
      "score:  98.0\n",
      "score:  91.0\n",
      "score:  98.0\n",
      "Moviepy - Building video ./videos/RainbowDQN-CartPole-v1/270/RainbowDQN-CartPole-v1-episode-134.mp4.\n",
      "Moviepy - Writing video ./videos/RainbowDQN-CartPole-v1/270/RainbowDQN-CartPole-v1-episode-134.mp4\n",
      "\n"
     ]
    },
    {
     "name": "stderr",
     "output_type": "stream",
     "text": [
      "                                                             \r"
     ]
    },
    {
     "name": "stdout",
     "output_type": "stream",
     "text": [
      "Moviepy - Done !\n",
      "Moviepy - video ready ./videos/RainbowDQN-CartPole-v1/270/RainbowDQN-CartPole-v1-episode-134.mp4\n",
      "score:  94.0\n",
      "WARNING:tensorflow:Model's `__init__()` arguments contain non-serializable objects. Please implement a `get_config()` method in the subclassed Model for proper saving and loading. Defaulting to empty config.\n",
      "WARNING:tensorflow:Model's `__init__()` arguments contain non-serializable objects. Please implement a `get_config()` method in the subclassed Model for proper saving and loading. Defaulting to empty config.\n",
      "WARNING:tensorflow:Model's `__init__()` arguments contain non-serializable objects. Please implement a `get_config()` method in the subclassed Model for proper saving and loading. Defaulting to empty config.\n",
      "score:  118.0\n",
      "score:  112.0\n",
      "score:  129.0\n",
      "score:  110.0\n",
      "Moviepy - Building video ./videos/RainbowDQN-CartPole-v1/280/RainbowDQN-CartPole-v1-episode-139.mp4.\n",
      "Moviepy - Writing video ./videos/RainbowDQN-CartPole-v1/280/RainbowDQN-CartPole-v1-episode-139.mp4\n",
      "\n"
     ]
    },
    {
     "name": "stderr",
     "output_type": "stream",
     "text": [
      "                                                              \r"
     ]
    },
    {
     "name": "stdout",
     "output_type": "stream",
     "text": [
      "Moviepy - Done !\n",
      "Moviepy - video ready ./videos/RainbowDQN-CartPole-v1/280/RainbowDQN-CartPole-v1-episode-139.mp4\n",
      "score:  108.0\n",
      "WARNING:tensorflow:Model's `__init__()` arguments contain non-serializable objects. Please implement a `get_config()` method in the subclassed Model for proper saving and loading. Defaulting to empty config.\n",
      "WARNING:tensorflow:Model's `__init__()` arguments contain non-serializable objects. Please implement a `get_config()` method in the subclassed Model for proper saving and loading. Defaulting to empty config.\n",
      "WARNING:tensorflow:Model's `__init__()` arguments contain non-serializable objects. Please implement a `get_config()` method in the subclassed Model for proper saving and loading. Defaulting to empty config.\n",
      "score:  93.0\n",
      "score:  100.0\n",
      "score:  100.0\n",
      "score:  95.0\n",
      "Moviepy - Building video ./videos/RainbowDQN-CartPole-v1/290/RainbowDQN-CartPole-v1-episode-144.mp4.\n",
      "Moviepy - Writing video ./videos/RainbowDQN-CartPole-v1/290/RainbowDQN-CartPole-v1-episode-144.mp4\n",
      "\n"
     ]
    },
    {
     "name": "stderr",
     "output_type": "stream",
     "text": [
      "                                                             "
     ]
    },
    {
     "name": "stdout",
     "output_type": "stream",
     "text": [
      "Moviepy - Done !\n",
      "Moviepy - video ready ./videos/RainbowDQN-CartPole-v1/290/RainbowDQN-CartPole-v1-episode-144.mp4\n"
     ]
    },
    {
     "name": "stderr",
     "output_type": "stream",
     "text": [
      "\r"
     ]
    },
    {
     "name": "stdout",
     "output_type": "stream",
     "text": [
      "score:  88.0\n",
      "WARNING:tensorflow:Model's `__init__()` arguments contain non-serializable objects. Please implement a `get_config()` method in the subclassed Model for proper saving and loading. Defaulting to empty config.\n",
      "WARNING:tensorflow:Model's `__init__()` arguments contain non-serializable objects. Please implement a `get_config()` method in the subclassed Model for proper saving and loading. Defaulting to empty config.\n",
      "WARNING:tensorflow:Model's `__init__()` arguments contain non-serializable objects. Please implement a `get_config()` method in the subclassed Model for proper saving and loading. Defaulting to empty config.\n",
      "score:  124.0\n",
      "score:  128.0\n",
      "score:  140.0\n",
      "score:  116.0\n",
      "Moviepy - Building video ./videos/RainbowDQN-CartPole-v1/300/RainbowDQN-CartPole-v1-episode-149.mp4.\n",
      "Moviepy - Writing video ./videos/RainbowDQN-CartPole-v1/300/RainbowDQN-CartPole-v1-episode-149.mp4\n",
      "\n"
     ]
    },
    {
     "name": "stderr",
     "output_type": "stream",
     "text": [
      "                                                              \r"
     ]
    },
    {
     "name": "stdout",
     "output_type": "stream",
     "text": [
      "Moviepy - Done !\n",
      "Moviepy - video ready ./videos/RainbowDQN-CartPole-v1/300/RainbowDQN-CartPole-v1-episode-149.mp4\n",
      "score:  119.0\n",
      "WARNING:tensorflow:Model's `__init__()` arguments contain non-serializable objects. Please implement a `get_config()` method in the subclassed Model for proper saving and loading. Defaulting to empty config.\n",
      "WARNING:tensorflow:Model's `__init__()` arguments contain non-serializable objects. Please implement a `get_config()` method in the subclassed Model for proper saving and loading. Defaulting to empty config.\n",
      "WARNING:tensorflow:Model's `__init__()` arguments contain non-serializable objects. Please implement a `get_config()` method in the subclassed Model for proper saving and loading. Defaulting to empty config.\n",
      "score:  117.0\n",
      "score:  104.0\n",
      "score:  124.0\n",
      "score:  102.0\n",
      "Moviepy - Building video ./videos/RainbowDQN-CartPole-v1/310/RainbowDQN-CartPole-v1-episode-154.mp4.\n",
      "Moviepy - Writing video ./videos/RainbowDQN-CartPole-v1/310/RainbowDQN-CartPole-v1-episode-154.mp4\n",
      "\n"
     ]
    },
    {
     "name": "stderr",
     "output_type": "stream",
     "text": [
      "                                                            \r"
     ]
    },
    {
     "name": "stdout",
     "output_type": "stream",
     "text": [
      "Moviepy - Done !\n",
      "Moviepy - video ready ./videos/RainbowDQN-CartPole-v1/310/RainbowDQN-CartPole-v1-episode-154.mp4\n",
      "score:  124.0\n",
      "WARNING:tensorflow:Model's `__init__()` arguments contain non-serializable objects. Please implement a `get_config()` method in the subclassed Model for proper saving and loading. Defaulting to empty config.\n",
      "WARNING:tensorflow:Model's `__init__()` arguments contain non-serializable objects. Please implement a `get_config()` method in the subclassed Model for proper saving and loading. Defaulting to empty config.\n",
      "WARNING:tensorflow:Model's `__init__()` arguments contain non-serializable objects. Please implement a `get_config()` method in the subclassed Model for proper saving and loading. Defaulting to empty config.\n",
      "score:  104.0\n",
      "score:  118.0\n",
      "score:  115.0\n",
      "score:  114.0\n",
      "Moviepy - Building video ./videos/RainbowDQN-CartPole-v1/320/RainbowDQN-CartPole-v1-episode-159.mp4.\n",
      "Moviepy - Writing video ./videos/RainbowDQN-CartPole-v1/320/RainbowDQN-CartPole-v1-episode-159.mp4\n",
      "\n"
     ]
    },
    {
     "name": "stderr",
     "output_type": "stream",
     "text": [
      "                                                              \r"
     ]
    },
    {
     "name": "stdout",
     "output_type": "stream",
     "text": [
      "Moviepy - Done !\n",
      "Moviepy - video ready ./videos/RainbowDQN-CartPole-v1/320/RainbowDQN-CartPole-v1-episode-159.mp4\n",
      "score:  116.0\n",
      "WARNING:tensorflow:Model's `__init__()` arguments contain non-serializable objects. Please implement a `get_config()` method in the subclassed Model for proper saving and loading. Defaulting to empty config.\n",
      "WARNING:tensorflow:Model's `__init__()` arguments contain non-serializable objects. Please implement a `get_config()` method in the subclassed Model for proper saving and loading. Defaulting to empty config.\n",
      "WARNING:tensorflow:Model's `__init__()` arguments contain non-serializable objects. Please implement a `get_config()` method in the subclassed Model for proper saving and loading. Defaulting to empty config.\n",
      "score:  113.0\n",
      "score:  124.0\n",
      "score:  120.0\n",
      "score:  120.0\n",
      "Moviepy - Building video ./videos/RainbowDQN-CartPole-v1/330/RainbowDQN-CartPole-v1-episode-164.mp4.\n",
      "Moviepy - Writing video ./videos/RainbowDQN-CartPole-v1/330/RainbowDQN-CartPole-v1-episode-164.mp4\n",
      "\n"
     ]
    },
    {
     "name": "stderr",
     "output_type": "stream",
     "text": [
      "                                                              \r"
     ]
    },
    {
     "name": "stdout",
     "output_type": "stream",
     "text": [
      "Moviepy - Done !\n",
      "Moviepy - video ready ./videos/RainbowDQN-CartPole-v1/330/RainbowDQN-CartPole-v1-episode-164.mp4\n",
      "score:  127.0\n",
      "WARNING:tensorflow:Model's `__init__()` arguments contain non-serializable objects. Please implement a `get_config()` method in the subclassed Model for proper saving and loading. Defaulting to empty config.\n",
      "WARNING:tensorflow:Model's `__init__()` arguments contain non-serializable objects. Please implement a `get_config()` method in the subclassed Model for proper saving and loading. Defaulting to empty config.\n",
      "WARNING:tensorflow:Model's `__init__()` arguments contain non-serializable objects. Please implement a `get_config()` method in the subclassed Model for proper saving and loading. Defaulting to empty config.\n",
      "score:  116.0\n",
      "score:  116.0\n",
      "score:  101.0\n",
      "score:  112.0\n",
      "Moviepy - Building video ./videos/RainbowDQN-CartPole-v1/340/RainbowDQN-CartPole-v1-episode-169.mp4.\n",
      "Moviepy - Writing video ./videos/RainbowDQN-CartPole-v1/340/RainbowDQN-CartPole-v1-episode-169.mp4\n",
      "\n"
     ]
    },
    {
     "name": "stderr",
     "output_type": "stream",
     "text": [
      "                                                              \r"
     ]
    },
    {
     "name": "stdout",
     "output_type": "stream",
     "text": [
      "Moviepy - Done !\n",
      "Moviepy - video ready ./videos/RainbowDQN-CartPole-v1/340/RainbowDQN-CartPole-v1-episode-169.mp4\n",
      "score:  103.0\n",
      "WARNING:tensorflow:Model's `__init__()` arguments contain non-serializable objects. Please implement a `get_config()` method in the subclassed Model for proper saving and loading. Defaulting to empty config.\n",
      "WARNING:tensorflow:Model's `__init__()` arguments contain non-serializable objects. Please implement a `get_config()` method in the subclassed Model for proper saving and loading. Defaulting to empty config.\n",
      "WARNING:tensorflow:Model's `__init__()` arguments contain non-serializable objects. Please implement a `get_config()` method in the subclassed Model for proper saving and loading. Defaulting to empty config.\n",
      "score:  107.0\n",
      "score:  113.0\n",
      "score:  105.0\n",
      "score:  117.0\n",
      "Moviepy - Building video ./videos/RainbowDQN-CartPole-v1/350/RainbowDQN-CartPole-v1-episode-174.mp4.\n",
      "Moviepy - Writing video ./videos/RainbowDQN-CartPole-v1/350/RainbowDQN-CartPole-v1-episode-174.mp4\n",
      "\n"
     ]
    },
    {
     "name": "stderr",
     "output_type": "stream",
     "text": [
      "                                                              \r"
     ]
    },
    {
     "name": "stdout",
     "output_type": "stream",
     "text": [
      "Moviepy - Done !\n",
      "Moviepy - video ready ./videos/RainbowDQN-CartPole-v1/350/RainbowDQN-CartPole-v1-episode-174.mp4\n",
      "score:  126.0\n",
      "WARNING:tensorflow:Model's `__init__()` arguments contain non-serializable objects. Please implement a `get_config()` method in the subclassed Model for proper saving and loading. Defaulting to empty config.\n",
      "WARNING:tensorflow:Model's `__init__()` arguments contain non-serializable objects. Please implement a `get_config()` method in the subclassed Model for proper saving and loading. Defaulting to empty config.\n",
      "WARNING:tensorflow:Model's `__init__()` arguments contain non-serializable objects. Please implement a `get_config()` method in the subclassed Model for proper saving and loading. Defaulting to empty config.\n",
      "score:  103.0\n",
      "score:  103.0\n",
      "score:  107.0\n",
      "score:  116.0\n",
      "Moviepy - Building video ./videos/RainbowDQN-CartPole-v1/360/RainbowDQN-CartPole-v1-episode-179.mp4.\n",
      "Moviepy - Writing video ./videos/RainbowDQN-CartPole-v1/360/RainbowDQN-CartPole-v1-episode-179.mp4\n",
      "\n"
     ]
    },
    {
     "name": "stderr",
     "output_type": "stream",
     "text": [
      "                                                            \r"
     ]
    },
    {
     "name": "stdout",
     "output_type": "stream",
     "text": [
      "Moviepy - Done !\n",
      "Moviepy - video ready ./videos/RainbowDQN-CartPole-v1/360/RainbowDQN-CartPole-v1-episode-179.mp4\n",
      "score:  107.0\n",
      "WARNING:tensorflow:Model's `__init__()` arguments contain non-serializable objects. Please implement a `get_config()` method in the subclassed Model for proper saving and loading. Defaulting to empty config.\n",
      "WARNING:tensorflow:Model's `__init__()` arguments contain non-serializable objects. Please implement a `get_config()` method in the subclassed Model for proper saving and loading. Defaulting to empty config.\n",
      "WARNING:tensorflow:Model's `__init__()` arguments contain non-serializable objects. Please implement a `get_config()` method in the subclassed Model for proper saving and loading. Defaulting to empty config.\n",
      "score:  127.0\n",
      "score:  114.0\n",
      "score:  111.0\n",
      "score:  100.0\n",
      "Moviepy - Building video ./videos/RainbowDQN-CartPole-v1/370/RainbowDQN-CartPole-v1-episode-184.mp4.\n",
      "Moviepy - Writing video ./videos/RainbowDQN-CartPole-v1/370/RainbowDQN-CartPole-v1-episode-184.mp4\n",
      "\n"
     ]
    },
    {
     "name": "stderr",
     "output_type": "stream",
     "text": [
      "                                                              \r"
     ]
    },
    {
     "name": "stdout",
     "output_type": "stream",
     "text": [
      "Moviepy - Done !\n",
      "Moviepy - video ready ./videos/RainbowDQN-CartPole-v1/370/RainbowDQN-CartPole-v1-episode-184.mp4\n",
      "score:  112.0\n",
      "WARNING:tensorflow:Model's `__init__()` arguments contain non-serializable objects. Please implement a `get_config()` method in the subclassed Model for proper saving and loading. Defaulting to empty config.\n",
      "WARNING:tensorflow:Model's `__init__()` arguments contain non-serializable objects. Please implement a `get_config()` method in the subclassed Model for proper saving and loading. Defaulting to empty config.\n",
      "WARNING:tensorflow:Model's `__init__()` arguments contain non-serializable objects. Please implement a `get_config()` method in the subclassed Model for proper saving and loading. Defaulting to empty config.\n",
      "score:  119.0\n",
      "score:  114.0\n",
      "score:  124.0\n",
      "score:  118.0\n",
      "Moviepy - Building video ./videos/RainbowDQN-CartPole-v1/380/RainbowDQN-CartPole-v1-episode-189.mp4.\n",
      "Moviepy - Writing video ./videos/RainbowDQN-CartPole-v1/380/RainbowDQN-CartPole-v1-episode-189.mp4\n",
      "\n"
     ]
    },
    {
     "name": "stderr",
     "output_type": "stream",
     "text": [
      "                                                            \r"
     ]
    },
    {
     "name": "stdout",
     "output_type": "stream",
     "text": [
      "Moviepy - Done !\n",
      "Moviepy - video ready ./videos/RainbowDQN-CartPole-v1/380/RainbowDQN-CartPole-v1-episode-189.mp4\n",
      "score:  122.0\n",
      "WARNING:tensorflow:Model's `__init__()` arguments contain non-serializable objects. Please implement a `get_config()` method in the subclassed Model for proper saving and loading. Defaulting to empty config.\n",
      "WARNING:tensorflow:Model's `__init__()` arguments contain non-serializable objects. Please implement a `get_config()` method in the subclassed Model for proper saving and loading. Defaulting to empty config.\n",
      "WARNING:tensorflow:Model's `__init__()` arguments contain non-serializable objects. Please implement a `get_config()` method in the subclassed Model for proper saving and loading. Defaulting to empty config.\n",
      "score:  113.0\n",
      "score:  110.0\n",
      "score:  104.0\n",
      "score:  109.0\n",
      "Moviepy - Building video ./videos/RainbowDQN-CartPole-v1/390/RainbowDQN-CartPole-v1-episode-194.mp4.\n",
      "Moviepy - Writing video ./videos/RainbowDQN-CartPole-v1/390/RainbowDQN-CartPole-v1-episode-194.mp4\n",
      "\n"
     ]
    },
    {
     "name": "stderr",
     "output_type": "stream",
     "text": [
      "                                                              \r"
     ]
    },
    {
     "name": "stdout",
     "output_type": "stream",
     "text": [
      "Moviepy - Done !\n",
      "Moviepy - video ready ./videos/RainbowDQN-CartPole-v1/390/RainbowDQN-CartPole-v1-episode-194.mp4\n",
      "score:  117.0\n",
      "WARNING:tensorflow:Model's `__init__()` arguments contain non-serializable objects. Please implement a `get_config()` method in the subclassed Model for proper saving and loading. Defaulting to empty config.\n",
      "WARNING:tensorflow:Model's `__init__()` arguments contain non-serializable objects. Please implement a `get_config()` method in the subclassed Model for proper saving and loading. Defaulting to empty config.\n",
      "WARNING:tensorflow:Model's `__init__()` arguments contain non-serializable objects. Please implement a `get_config()` method in the subclassed Model for proper saving and loading. Defaulting to empty config.\n",
      "score:  117.0\n",
      "score:  112.0\n",
      "score:  117.0\n",
      "score:  108.0\n",
      "Moviepy - Building video ./videos/RainbowDQN-CartPole-v1/400/RainbowDQN-CartPole-v1-episode-199.mp4.\n",
      "Moviepy - Writing video ./videos/RainbowDQN-CartPole-v1/400/RainbowDQN-CartPole-v1-episode-199.mp4\n",
      "\n"
     ]
    },
    {
     "name": "stderr",
     "output_type": "stream",
     "text": [
      "                                                              \r"
     ]
    },
    {
     "name": "stdout",
     "output_type": "stream",
     "text": [
      "Moviepy - Done !\n",
      "Moviepy - video ready ./videos/RainbowDQN-CartPole-v1/400/RainbowDQN-CartPole-v1-episode-199.mp4\n",
      "score:  103.0\n",
      "WARNING:tensorflow:Model's `__init__()` arguments contain non-serializable objects. Please implement a `get_config()` method in the subclassed Model for proper saving and loading. Defaulting to empty config.\n",
      "WARNING:tensorflow:Model's `__init__()` arguments contain non-serializable objects. Please implement a `get_config()` method in the subclassed Model for proper saving and loading. Defaulting to empty config.\n",
      "WARNING:tensorflow:Model's `__init__()` arguments contain non-serializable objects. Please implement a `get_config()` method in the subclassed Model for proper saving and loading. Defaulting to empty config.\n",
      "score:  138.0\n",
      "score:  102.0\n",
      "score:  106.0\n",
      "score:  113.0\n",
      "Moviepy - Building video ./videos/RainbowDQN-CartPole-v1/410/RainbowDQN-CartPole-v1-episode-204.mp4.\n",
      "Moviepy - Writing video ./videos/RainbowDQN-CartPole-v1/410/RainbowDQN-CartPole-v1-episode-204.mp4\n",
      "\n"
     ]
    },
    {
     "name": "stderr",
     "output_type": "stream",
     "text": [
      "                                                               \r"
     ]
    },
    {
     "name": "stdout",
     "output_type": "stream",
     "text": [
      "Moviepy - Done !\n",
      "Moviepy - video ready ./videos/RainbowDQN-CartPole-v1/410/RainbowDQN-CartPole-v1-episode-204.mp4\n",
      "score:  125.0\n",
      "WARNING:tensorflow:Model's `__init__()` arguments contain non-serializable objects. Please implement a `get_config()` method in the subclassed Model for proper saving and loading. Defaulting to empty config.\n",
      "WARNING:tensorflow:Model's `__init__()` arguments contain non-serializable objects. Please implement a `get_config()` method in the subclassed Model for proper saving and loading. Defaulting to empty config.\n",
      "WARNING:tensorflow:Model's `__init__()` arguments contain non-serializable objects. Please implement a `get_config()` method in the subclassed Model for proper saving and loading. Defaulting to empty config.\n",
      "score:  112.0\n",
      "score:  125.0\n",
      "score:  112.0\n",
      "score:  111.0\n",
      "Moviepy - Building video ./videos/RainbowDQN-CartPole-v1/420/RainbowDQN-CartPole-v1-episode-209.mp4.\n",
      "Moviepy - Writing video ./videos/RainbowDQN-CartPole-v1/420/RainbowDQN-CartPole-v1-episode-209.mp4\n",
      "\n"
     ]
    },
    {
     "name": "stderr",
     "output_type": "stream",
     "text": [
      "                                                               \r"
     ]
    },
    {
     "name": "stdout",
     "output_type": "stream",
     "text": [
      "Moviepy - Done !\n",
      "Moviepy - video ready ./videos/RainbowDQN-CartPole-v1/420/RainbowDQN-CartPole-v1-episode-209.mp4\n",
      "score:  113.0\n",
      "WARNING:tensorflow:Model's `__init__()` arguments contain non-serializable objects. Please implement a `get_config()` method in the subclassed Model for proper saving and loading. Defaulting to empty config.\n",
      "WARNING:tensorflow:Model's `__init__()` arguments contain non-serializable objects. Please implement a `get_config()` method in the subclassed Model for proper saving and loading. Defaulting to empty config.\n",
      "WARNING:tensorflow:Model's `__init__()` arguments contain non-serializable objects. Please implement a `get_config()` method in the subclassed Model for proper saving and loading. Defaulting to empty config.\n",
      "score:  118.0\n",
      "score:  114.0\n",
      "score:  124.0\n",
      "score:  118.0\n",
      "Moviepy - Building video ./videos/RainbowDQN-CartPole-v1/430/RainbowDQN-CartPole-v1-episode-214.mp4.\n",
      "Moviepy - Writing video ./videos/RainbowDQN-CartPole-v1/430/RainbowDQN-CartPole-v1-episode-214.mp4\n",
      "\n"
     ]
    },
    {
     "name": "stderr",
     "output_type": "stream",
     "text": [
      "                                                              \r"
     ]
    },
    {
     "name": "stdout",
     "output_type": "stream",
     "text": [
      "Moviepy - Done !\n",
      "Moviepy - video ready ./videos/RainbowDQN-CartPole-v1/430/RainbowDQN-CartPole-v1-episode-214.mp4\n",
      "score:  115.0\n",
      "WARNING:tensorflow:Model's `__init__()` arguments contain non-serializable objects. Please implement a `get_config()` method in the subclassed Model for proper saving and loading. Defaulting to empty config.\n",
      "WARNING:tensorflow:Model's `__init__()` arguments contain non-serializable objects. Please implement a `get_config()` method in the subclassed Model for proper saving and loading. Defaulting to empty config.\n",
      "WARNING:tensorflow:Model's `__init__()` arguments contain non-serializable objects. Please implement a `get_config()` method in the subclassed Model for proper saving and loading. Defaulting to empty config.\n",
      "score:  112.0\n",
      "score:  107.0\n",
      "score:  114.0\n",
      "score:  98.0\n",
      "Moviepy - Building video ./videos/RainbowDQN-CartPole-v1/440/RainbowDQN-CartPole-v1-episode-219.mp4.\n",
      "Moviepy - Writing video ./videos/RainbowDQN-CartPole-v1/440/RainbowDQN-CartPole-v1-episode-219.mp4\n",
      "\n"
     ]
    },
    {
     "name": "stderr",
     "output_type": "stream",
     "text": [
      "                                                            \r"
     ]
    },
    {
     "name": "stdout",
     "output_type": "stream",
     "text": [
      "Moviepy - Done !\n",
      "Moviepy - video ready ./videos/RainbowDQN-CartPole-v1/440/RainbowDQN-CartPole-v1-episode-219.mp4\n",
      "score:  116.0\n",
      "WARNING:tensorflow:Model's `__init__()` arguments contain non-serializable objects. Please implement a `get_config()` method in the subclassed Model for proper saving and loading. Defaulting to empty config.\n",
      "WARNING:tensorflow:Model's `__init__()` arguments contain non-serializable objects. Please implement a `get_config()` method in the subclassed Model for proper saving and loading. Defaulting to empty config.\n",
      "WARNING:tensorflow:Model's `__init__()` arguments contain non-serializable objects. Please implement a `get_config()` method in the subclassed Model for proper saving and loading. Defaulting to empty config.\n",
      "score:  115.0\n",
      "score:  106.0\n",
      "score:  132.0\n",
      "score:  134.0\n",
      "Moviepy - Building video ./videos/RainbowDQN-CartPole-v1/450/RainbowDQN-CartPole-v1-episode-224.mp4.\n",
      "Moviepy - Writing video ./videos/RainbowDQN-CartPole-v1/450/RainbowDQN-CartPole-v1-episode-224.mp4\n",
      "\n"
     ]
    },
    {
     "name": "stderr",
     "output_type": "stream",
     "text": [
      "                                                               \r"
     ]
    },
    {
     "name": "stdout",
     "output_type": "stream",
     "text": [
      "Moviepy - Done !\n",
      "Moviepy - video ready ./videos/RainbowDQN-CartPole-v1/450/RainbowDQN-CartPole-v1-episode-224.mp4\n",
      "score:  113.0\n",
      "WARNING:tensorflow:Model's `__init__()` arguments contain non-serializable objects. Please implement a `get_config()` method in the subclassed Model for proper saving and loading. Defaulting to empty config.\n",
      "WARNING:tensorflow:Model's `__init__()` arguments contain non-serializable objects. Please implement a `get_config()` method in the subclassed Model for proper saving and loading. Defaulting to empty config.\n",
      "WARNING:tensorflow:Model's `__init__()` arguments contain non-serializable objects. Please implement a `get_config()` method in the subclassed Model for proper saving and loading. Defaulting to empty config.\n",
      "score:  113.0\n",
      "score:  110.0\n",
      "score:  119.0\n",
      "score:  127.0\n",
      "Moviepy - Building video ./videos/RainbowDQN-CartPole-v1/460/RainbowDQN-CartPole-v1-episode-229.mp4.\n",
      "Moviepy - Writing video ./videos/RainbowDQN-CartPole-v1/460/RainbowDQN-CartPole-v1-episode-229.mp4\n",
      "\n"
     ]
    },
    {
     "name": "stderr",
     "output_type": "stream",
     "text": [
      "                                                            \r"
     ]
    },
    {
     "name": "stdout",
     "output_type": "stream",
     "text": [
      "Moviepy - Done !\n",
      "Moviepy - video ready ./videos/RainbowDQN-CartPole-v1/460/RainbowDQN-CartPole-v1-episode-229.mp4\n",
      "score:  121.0\n",
      "WARNING:tensorflow:Model's `__init__()` arguments contain non-serializable objects. Please implement a `get_config()` method in the subclassed Model for proper saving and loading. Defaulting to empty config.\n",
      "WARNING:tensorflow:Model's `__init__()` arguments contain non-serializable objects. Please implement a `get_config()` method in the subclassed Model for proper saving and loading. Defaulting to empty config.\n",
      "WARNING:tensorflow:Model's `__init__()` arguments contain non-serializable objects. Please implement a `get_config()` method in the subclassed Model for proper saving and loading. Defaulting to empty config.\n",
      "score:  105.0\n",
      "score:  103.0\n",
      "score:  101.0\n",
      "score:  122.0\n",
      "Moviepy - Building video ./videos/RainbowDQN-CartPole-v1/470/RainbowDQN-CartPole-v1-episode-234.mp4.\n",
      "Moviepy - Writing video ./videos/RainbowDQN-CartPole-v1/470/RainbowDQN-CartPole-v1-episode-234.mp4\n",
      "\n"
     ]
    },
    {
     "name": "stderr",
     "output_type": "stream",
     "text": [
      "                                                              \r"
     ]
    },
    {
     "name": "stdout",
     "output_type": "stream",
     "text": [
      "Moviepy - Done !\n",
      "Moviepy - video ready ./videos/RainbowDQN-CartPole-v1/470/RainbowDQN-CartPole-v1-episode-234.mp4\n",
      "score:  119.0\n",
      "WARNING:tensorflow:Model's `__init__()` arguments contain non-serializable objects. Please implement a `get_config()` method in the subclassed Model for proper saving and loading. Defaulting to empty config.\n",
      "WARNING:tensorflow:Model's `__init__()` arguments contain non-serializable objects. Please implement a `get_config()` method in the subclassed Model for proper saving and loading. Defaulting to empty config.\n",
      "WARNING:tensorflow:Model's `__init__()` arguments contain non-serializable objects. Please implement a `get_config()` method in the subclassed Model for proper saving and loading. Defaulting to empty config.\n",
      "score:  98.0\n",
      "score:  99.0\n",
      "score:  106.0\n",
      "score:  106.0\n",
      "Moviepy - Building video ./videos/RainbowDQN-CartPole-v1/480/RainbowDQN-CartPole-v1-episode-239.mp4.\n",
      "Moviepy - Writing video ./videos/RainbowDQN-CartPole-v1/480/RainbowDQN-CartPole-v1-episode-239.mp4\n",
      "\n"
     ]
    },
    {
     "name": "stderr",
     "output_type": "stream",
     "text": [
      "                                                              \r"
     ]
    },
    {
     "name": "stdout",
     "output_type": "stream",
     "text": [
      "Moviepy - Done !\n",
      "Moviepy - video ready ./videos/RainbowDQN-CartPole-v1/480/RainbowDQN-CartPole-v1-episode-239.mp4\n",
      "score:  108.0\n",
      "WARNING:tensorflow:Model's `__init__()` arguments contain non-serializable objects. Please implement a `get_config()` method in the subclassed Model for proper saving and loading. Defaulting to empty config.\n",
      "WARNING:tensorflow:Model's `__init__()` arguments contain non-serializable objects. Please implement a `get_config()` method in the subclassed Model for proper saving and loading. Defaulting to empty config.\n",
      "WARNING:tensorflow:Model's `__init__()` arguments contain non-serializable objects. Please implement a `get_config()` method in the subclassed Model for proper saving and loading. Defaulting to empty config.\n",
      "score:  107.0\n",
      "score:  106.0\n",
      "score:  112.0\n",
      "score:  115.0\n",
      "Moviepy - Building video ./videos/RainbowDQN-CartPole-v1/490/RainbowDQN-CartPole-v1-episode-244.mp4.\n",
      "Moviepy - Writing video ./videos/RainbowDQN-CartPole-v1/490/RainbowDQN-CartPole-v1-episode-244.mp4\n",
      "\n"
     ]
    },
    {
     "name": "stderr",
     "output_type": "stream",
     "text": [
      "                                                              \r"
     ]
    },
    {
     "name": "stdout",
     "output_type": "stream",
     "text": [
      "Moviepy - Done !\n",
      "Moviepy - video ready ./videos/RainbowDQN-CartPole-v1/490/RainbowDQN-CartPole-v1-episode-244.mp4\n",
      "score:  124.0\n",
      "WARNING:tensorflow:Model's `__init__()` arguments contain non-serializable objects. Please implement a `get_config()` method in the subclassed Model for proper saving and loading. Defaulting to empty config.\n",
      "WARNING:tensorflow:Model's `__init__()` arguments contain non-serializable objects. Please implement a `get_config()` method in the subclassed Model for proper saving and loading. Defaulting to empty config.\n",
      "WARNING:tensorflow:Model's `__init__()` arguments contain non-serializable objects. Please implement a `get_config()` method in the subclassed Model for proper saving and loading. Defaulting to empty config.\n",
      "score:  95.0\n",
      "score:  91.0\n",
      "score:  99.0\n",
      "score:  93.0\n",
      "Moviepy - Building video ./videos/RainbowDQN-CartPole-v1/500/RainbowDQN-CartPole-v1-episode-249.mp4.\n",
      "Moviepy - Writing video ./videos/RainbowDQN-CartPole-v1/500/RainbowDQN-CartPole-v1-episode-249.mp4\n",
      "\n"
     ]
    },
    {
     "name": "stderr",
     "output_type": "stream",
     "text": [
      "                                                              \r"
     ]
    },
    {
     "name": "stdout",
     "output_type": "stream",
     "text": [
      "Moviepy - Done !\n",
      "Moviepy - video ready ./videos/RainbowDQN-CartPole-v1/500/RainbowDQN-CartPole-v1-episode-249.mp4\n",
      "score:  115.0\n",
      "WARNING:tensorflow:Model's `__init__()` arguments contain non-serializable objects. Please implement a `get_config()` method in the subclassed Model for proper saving and loading. Defaulting to empty config.\n",
      "WARNING:tensorflow:Model's `__init__()` arguments contain non-serializable objects. Please implement a `get_config()` method in the subclassed Model for proper saving and loading. Defaulting to empty config.\n",
      "WARNING:tensorflow:Model's `__init__()` arguments contain non-serializable objects. Please implement a `get_config()` method in the subclassed Model for proper saving and loading. Defaulting to empty config.\n",
      "score:  112.0\n",
      "score:  111.0\n",
      "score:  113.0\n",
      "score:  103.0\n",
      "Moviepy - Building video ./videos/RainbowDQN-CartPole-v1/510/RainbowDQN-CartPole-v1-episode-254.mp4.\n",
      "Moviepy - Writing video ./videos/RainbowDQN-CartPole-v1/510/RainbowDQN-CartPole-v1-episode-254.mp4\n",
      "\n"
     ]
    },
    {
     "name": "stderr",
     "output_type": "stream",
     "text": [
      "                                                              \r"
     ]
    },
    {
     "name": "stdout",
     "output_type": "stream",
     "text": [
      "Moviepy - Done !\n",
      "Moviepy - video ready ./videos/RainbowDQN-CartPole-v1/510/RainbowDQN-CartPole-v1-episode-254.mp4\n",
      "score:  114.0\n",
      "WARNING:tensorflow:Model's `__init__()` arguments contain non-serializable objects. Please implement a `get_config()` method in the subclassed Model for proper saving and loading. Defaulting to empty config.\n",
      "WARNING:tensorflow:Model's `__init__()` arguments contain non-serializable objects. Please implement a `get_config()` method in the subclassed Model for proper saving and loading. Defaulting to empty config.\n",
      "WARNING:tensorflow:Model's `__init__()` arguments contain non-serializable objects. Please implement a `get_config()` method in the subclassed Model for proper saving and loading. Defaulting to empty config.\n",
      "score:  114.0\n",
      "score:  122.0\n",
      "score:  107.0\n",
      "score:  125.0\n",
      "Moviepy - Building video ./videos/RainbowDQN-CartPole-v1/520/RainbowDQN-CartPole-v1-episode-259.mp4.\n",
      "Moviepy - Writing video ./videos/RainbowDQN-CartPole-v1/520/RainbowDQN-CartPole-v1-episode-259.mp4\n",
      "\n"
     ]
    },
    {
     "name": "stderr",
     "output_type": "stream",
     "text": [
      "                                                              \r"
     ]
    },
    {
     "name": "stdout",
     "output_type": "stream",
     "text": [
      "Moviepy - Done !\n",
      "Moviepy - video ready ./videos/RainbowDQN-CartPole-v1/520/RainbowDQN-CartPole-v1-episode-259.mp4\n",
      "score:  117.0\n",
      "WARNING:tensorflow:Model's `__init__()` arguments contain non-serializable objects. Please implement a `get_config()` method in the subclassed Model for proper saving and loading. Defaulting to empty config.\n",
      "WARNING:tensorflow:Model's `__init__()` arguments contain non-serializable objects. Please implement a `get_config()` method in the subclassed Model for proper saving and loading. Defaulting to empty config.\n",
      "WARNING:tensorflow:Model's `__init__()` arguments contain non-serializable objects. Please implement a `get_config()` method in the subclassed Model for proper saving and loading. Defaulting to empty config.\n",
      "score:  106.0\n",
      "score:  103.0\n",
      "score:  110.0\n",
      "score:  102.0\n",
      "Moviepy - Building video ./videos/RainbowDQN-CartPole-v1/530/RainbowDQN-CartPole-v1-episode-264.mp4.\n",
      "Moviepy - Writing video ./videos/RainbowDQN-CartPole-v1/530/RainbowDQN-CartPole-v1-episode-264.mp4\n",
      "\n"
     ]
    },
    {
     "name": "stderr",
     "output_type": "stream",
     "text": [
      "                                                            \r"
     ]
    },
    {
     "name": "stdout",
     "output_type": "stream",
     "text": [
      "Moviepy - Done !\n",
      "Moviepy - video ready ./videos/RainbowDQN-CartPole-v1/530/RainbowDQN-CartPole-v1-episode-264.mp4\n",
      "score:  123.0\n",
      "WARNING:tensorflow:Model's `__init__()` arguments contain non-serializable objects. Please implement a `get_config()` method in the subclassed Model for proper saving and loading. Defaulting to empty config.\n",
      "WARNING:tensorflow:Model's `__init__()` arguments contain non-serializable objects. Please implement a `get_config()` method in the subclassed Model for proper saving and loading. Defaulting to empty config.\n",
      "WARNING:tensorflow:Model's `__init__()` arguments contain non-serializable objects. Please implement a `get_config()` method in the subclassed Model for proper saving and loading. Defaulting to empty config.\n",
      "score:  108.0\n",
      "score:  114.0\n",
      "score:  105.0\n",
      "score:  115.0\n",
      "Moviepy - Building video ./videos/RainbowDQN-CartPole-v1/540/RainbowDQN-CartPole-v1-episode-269.mp4.\n",
      "Moviepy - Writing video ./videos/RainbowDQN-CartPole-v1/540/RainbowDQN-CartPole-v1-episode-269.mp4\n",
      "\n"
     ]
    },
    {
     "name": "stderr",
     "output_type": "stream",
     "text": [
      "                                                              \r"
     ]
    },
    {
     "name": "stdout",
     "output_type": "stream",
     "text": [
      "Moviepy - Done !\n",
      "Moviepy - video ready ./videos/RainbowDQN-CartPole-v1/540/RainbowDQN-CartPole-v1-episode-269.mp4\n",
      "score:  114.0\n",
      "WARNING:tensorflow:Model's `__init__()` arguments contain non-serializable objects. Please implement a `get_config()` method in the subclassed Model for proper saving and loading. Defaulting to empty config.\n",
      "WARNING:tensorflow:Model's `__init__()` arguments contain non-serializable objects. Please implement a `get_config()` method in the subclassed Model for proper saving and loading. Defaulting to empty config.\n",
      "WARNING:tensorflow:Model's `__init__()` arguments contain non-serializable objects. Please implement a `get_config()` method in the subclassed Model for proper saving and loading. Defaulting to empty config.\n",
      "score:  118.0\n",
      "score:  109.0\n",
      "score:  114.0\n",
      "score:  118.0\n",
      "Moviepy - Building video ./videos/RainbowDQN-CartPole-v1/550/RainbowDQN-CartPole-v1-episode-274.mp4.\n",
      "Moviepy - Writing video ./videos/RainbowDQN-CartPole-v1/550/RainbowDQN-CartPole-v1-episode-274.mp4\n",
      "\n"
     ]
    },
    {
     "name": "stderr",
     "output_type": "stream",
     "text": [
      "                                                              \r"
     ]
    },
    {
     "name": "stdout",
     "output_type": "stream",
     "text": [
      "Moviepy - Done !\n",
      "Moviepy - video ready ./videos/RainbowDQN-CartPole-v1/550/RainbowDQN-CartPole-v1-episode-274.mp4\n",
      "score:  117.0\n",
      "WARNING:tensorflow:Model's `__init__()` arguments contain non-serializable objects. Please implement a `get_config()` method in the subclassed Model for proper saving and loading. Defaulting to empty config.\n",
      "WARNING:tensorflow:Model's `__init__()` arguments contain non-serializable objects. Please implement a `get_config()` method in the subclassed Model for proper saving and loading. Defaulting to empty config.\n",
      "WARNING:tensorflow:Model's `__init__()` arguments contain non-serializable objects. Please implement a `get_config()` method in the subclassed Model for proper saving and loading. Defaulting to empty config.\n",
      "score:  116.0\n",
      "score:  111.0\n",
      "score:  108.0\n",
      "score:  108.0\n",
      "Moviepy - Building video ./videos/RainbowDQN-CartPole-v1/560/RainbowDQN-CartPole-v1-episode-279.mp4.\n",
      "Moviepy - Writing video ./videos/RainbowDQN-CartPole-v1/560/RainbowDQN-CartPole-v1-episode-279.mp4\n",
      "\n"
     ]
    },
    {
     "name": "stderr",
     "output_type": "stream",
     "text": [
      "                                                              \r"
     ]
    },
    {
     "name": "stdout",
     "output_type": "stream",
     "text": [
      "Moviepy - Done !\n",
      "Moviepy - video ready ./videos/RainbowDQN-CartPole-v1/560/RainbowDQN-CartPole-v1-episode-279.mp4\n",
      "score:  105.0\n",
      "WARNING:tensorflow:Model's `__init__()` arguments contain non-serializable objects. Please implement a `get_config()` method in the subclassed Model for proper saving and loading. Defaulting to empty config.\n",
      "WARNING:tensorflow:Model's `__init__()` arguments contain non-serializable objects. Please implement a `get_config()` method in the subclassed Model for proper saving and loading. Defaulting to empty config.\n",
      "WARNING:tensorflow:Model's `__init__()` arguments contain non-serializable objects. Please implement a `get_config()` method in the subclassed Model for proper saving and loading. Defaulting to empty config.\n",
      "score:  105.0\n",
      "score:  111.0\n",
      "score:  105.0\n",
      "score:  108.0\n",
      "Moviepy - Building video ./videos/RainbowDQN-CartPole-v1/570/RainbowDQN-CartPole-v1-episode-284.mp4.\n",
      "Moviepy - Writing video ./videos/RainbowDQN-CartPole-v1/570/RainbowDQN-CartPole-v1-episode-284.mp4\n",
      "\n"
     ]
    },
    {
     "name": "stderr",
     "output_type": "stream",
     "text": [
      "                                                              \r"
     ]
    },
    {
     "name": "stdout",
     "output_type": "stream",
     "text": [
      "Moviepy - Done !\n",
      "Moviepy - video ready ./videos/RainbowDQN-CartPole-v1/570/RainbowDQN-CartPole-v1-episode-284.mp4\n",
      "score:  116.0\n",
      "WARNING:tensorflow:Model's `__init__()` arguments contain non-serializable objects. Please implement a `get_config()` method in the subclassed Model for proper saving and loading. Defaulting to empty config.\n",
      "WARNING:tensorflow:Model's `__init__()` arguments contain non-serializable objects. Please implement a `get_config()` method in the subclassed Model for proper saving and loading. Defaulting to empty config.\n",
      "WARNING:tensorflow:Model's `__init__()` arguments contain non-serializable objects. Please implement a `get_config()` method in the subclassed Model for proper saving and loading. Defaulting to empty config.\n",
      "score:  108.0\n",
      "score:  102.0\n",
      "score:  116.0\n",
      "score:  114.0\n",
      "Moviepy - Building video ./videos/RainbowDQN-CartPole-v1/580/RainbowDQN-CartPole-v1-episode-289.mp4.\n",
      "Moviepy - Writing video ./videos/RainbowDQN-CartPole-v1/580/RainbowDQN-CartPole-v1-episode-289.mp4\n",
      "\n"
     ]
    },
    {
     "name": "stderr",
     "output_type": "stream",
     "text": [
      "                                                            \r"
     ]
    },
    {
     "name": "stdout",
     "output_type": "stream",
     "text": [
      "Moviepy - Done !\n",
      "Moviepy - video ready ./videos/RainbowDQN-CartPole-v1/580/RainbowDQN-CartPole-v1-episode-289.mp4\n",
      "score:  109.0\n",
      "WARNING:tensorflow:Model's `__init__()` arguments contain non-serializable objects. Please implement a `get_config()` method in the subclassed Model for proper saving and loading. Defaulting to empty config.\n",
      "WARNING:tensorflow:Model's `__init__()` arguments contain non-serializable objects. Please implement a `get_config()` method in the subclassed Model for proper saving and loading. Defaulting to empty config.\n",
      "WARNING:tensorflow:Model's `__init__()` arguments contain non-serializable objects. Please implement a `get_config()` method in the subclassed Model for proper saving and loading. Defaulting to empty config.\n",
      "score:  103.0\n",
      "score:  104.0\n",
      "score:  114.0\n",
      "score:  109.0\n",
      "Moviepy - Building video ./videos/RainbowDQN-CartPole-v1/590/RainbowDQN-CartPole-v1-episode-294.mp4.\n",
      "Moviepy - Writing video ./videos/RainbowDQN-CartPole-v1/590/RainbowDQN-CartPole-v1-episode-294.mp4\n",
      "\n"
     ]
    },
    {
     "name": "stderr",
     "output_type": "stream",
     "text": [
      "                                                              \r"
     ]
    },
    {
     "name": "stdout",
     "output_type": "stream",
     "text": [
      "Moviepy - Done !\n",
      "Moviepy - video ready ./videos/RainbowDQN-CartPole-v1/590/RainbowDQN-CartPole-v1-episode-294.mp4\n",
      "score:  107.0\n",
      "WARNING:tensorflow:Model's `__init__()` arguments contain non-serializable objects. Please implement a `get_config()` method in the subclassed Model for proper saving and loading. Defaulting to empty config.\n",
      "WARNING:tensorflow:Model's `__init__()` arguments contain non-serializable objects. Please implement a `get_config()` method in the subclassed Model for proper saving and loading. Defaulting to empty config.\n",
      "WARNING:tensorflow:Model's `__init__()` arguments contain non-serializable objects. Please implement a `get_config()` method in the subclassed Model for proper saving and loading. Defaulting to empty config.\n",
      "score:  118.0\n",
      "score:  116.0\n",
      "score:  114.0\n",
      "score:  122.0\n",
      "Moviepy - Building video ./videos/RainbowDQN-CartPole-v1/600/RainbowDQN-CartPole-v1-episode-299.mp4.\n",
      "Moviepy - Writing video ./videos/RainbowDQN-CartPole-v1/600/RainbowDQN-CartPole-v1-episode-299.mp4\n",
      "\n"
     ]
    },
    {
     "name": "stderr",
     "output_type": "stream",
     "text": [
      "                                                              \r"
     ]
    },
    {
     "name": "stdout",
     "output_type": "stream",
     "text": [
      "Moviepy - Done !\n",
      "Moviepy - video ready ./videos/RainbowDQN-CartPole-v1/600/RainbowDQN-CartPole-v1-episode-299.mp4\n",
      "score:  130.0\n",
      "WARNING:tensorflow:Model's `__init__()` arguments contain non-serializable objects. Please implement a `get_config()` method in the subclassed Model for proper saving and loading. Defaulting to empty config.\n",
      "WARNING:tensorflow:Model's `__init__()` arguments contain non-serializable objects. Please implement a `get_config()` method in the subclassed Model for proper saving and loading. Defaulting to empty config.\n",
      "WARNING:tensorflow:Model's `__init__()` arguments contain non-serializable objects. Please implement a `get_config()` method in the subclassed Model for proper saving and loading. Defaulting to empty config.\n",
      "score:  104.0\n",
      "score:  115.0\n",
      "score:  102.0\n",
      "score:  107.0\n",
      "Moviepy - Building video ./videos/RainbowDQN-CartPole-v1/610/RainbowDQN-CartPole-v1-episode-304.mp4.\n",
      "Moviepy - Writing video ./videos/RainbowDQN-CartPole-v1/610/RainbowDQN-CartPole-v1-episode-304.mp4\n",
      "\n"
     ]
    },
    {
     "name": "stderr",
     "output_type": "stream",
     "text": [
      "                                                            \r"
     ]
    },
    {
     "name": "stdout",
     "output_type": "stream",
     "text": [
      "Moviepy - Done !\n",
      "Moviepy - video ready ./videos/RainbowDQN-CartPole-v1/610/RainbowDQN-CartPole-v1-episode-304.mp4\n",
      "score:  109.0\n",
      "WARNING:tensorflow:Model's `__init__()` arguments contain non-serializable objects. Please implement a `get_config()` method in the subclassed Model for proper saving and loading. Defaulting to empty config.\n",
      "WARNING:tensorflow:Model's `__init__()` arguments contain non-serializable objects. Please implement a `get_config()` method in the subclassed Model for proper saving and loading. Defaulting to empty config.\n",
      "WARNING:tensorflow:Model's `__init__()` arguments contain non-serializable objects. Please implement a `get_config()` method in the subclassed Model for proper saving and loading. Defaulting to empty config.\n",
      "score:  127.0\n",
      "score:  115.0\n",
      "score:  120.0\n",
      "score:  132.0\n",
      "Moviepy - Building video ./videos/RainbowDQN-CartPole-v1/620/RainbowDQN-CartPole-v1-episode-309.mp4.\n",
      "Moviepy - Writing video ./videos/RainbowDQN-CartPole-v1/620/RainbowDQN-CartPole-v1-episode-309.mp4\n",
      "\n"
     ]
    },
    {
     "name": "stderr",
     "output_type": "stream",
     "text": [
      "                                                              \r"
     ]
    },
    {
     "name": "stdout",
     "output_type": "stream",
     "text": [
      "Moviepy - Done !\n",
      "Moviepy - video ready ./videos/RainbowDQN-CartPole-v1/620/RainbowDQN-CartPole-v1-episode-309.mp4\n",
      "score:  133.0\n",
      "WARNING:tensorflow:Model's `__init__()` arguments contain non-serializable objects. Please implement a `get_config()` method in the subclassed Model for proper saving and loading. Defaulting to empty config.\n",
      "WARNING:tensorflow:Model's `__init__()` arguments contain non-serializable objects. Please implement a `get_config()` method in the subclassed Model for proper saving and loading. Defaulting to empty config.\n",
      "WARNING:tensorflow:Model's `__init__()` arguments contain non-serializable objects. Please implement a `get_config()` method in the subclassed Model for proper saving and loading. Defaulting to empty config.\n",
      "score:  110.0\n",
      "score:  108.0\n",
      "score:  105.0\n",
      "score:  106.0\n",
      "Moviepy - Building video ./videos/RainbowDQN-CartPole-v1/630/RainbowDQN-CartPole-v1-episode-314.mp4.\n",
      "Moviepy - Writing video ./videos/RainbowDQN-CartPole-v1/630/RainbowDQN-CartPole-v1-episode-314.mp4\n",
      "\n"
     ]
    },
    {
     "name": "stderr",
     "output_type": "stream",
     "text": [
      "                                                              \r"
     ]
    },
    {
     "name": "stdout",
     "output_type": "stream",
     "text": [
      "Moviepy - Done !\n",
      "Moviepy - video ready ./videos/RainbowDQN-CartPole-v1/630/RainbowDQN-CartPole-v1-episode-314.mp4\n",
      "score:  125.0\n",
      "WARNING:tensorflow:Model's `__init__()` arguments contain non-serializable objects. Please implement a `get_config()` method in the subclassed Model for proper saving and loading. Defaulting to empty config.\n",
      "WARNING:tensorflow:Model's `__init__()` arguments contain non-serializable objects. Please implement a `get_config()` method in the subclassed Model for proper saving and loading. Defaulting to empty config.\n",
      "WARNING:tensorflow:Model's `__init__()` arguments contain non-serializable objects. Please implement a `get_config()` method in the subclassed Model for proper saving and loading. Defaulting to empty config.\n",
      "score:  106.0\n",
      "score:  113.0\n",
      "score:  128.0\n",
      "score:  105.0\n",
      "Moviepy - Building video ./videos/RainbowDQN-CartPole-v1/640/RainbowDQN-CartPole-v1-episode-319.mp4.\n",
      "Moviepy - Writing video ./videos/RainbowDQN-CartPole-v1/640/RainbowDQN-CartPole-v1-episode-319.mp4\n",
      "\n"
     ]
    },
    {
     "name": "stderr",
     "output_type": "stream",
     "text": [
      "                                                              \r"
     ]
    },
    {
     "name": "stdout",
     "output_type": "stream",
     "text": [
      "Moviepy - Done !\n",
      "Moviepy - video ready ./videos/RainbowDQN-CartPole-v1/640/RainbowDQN-CartPole-v1-episode-319.mp4\n",
      "score:  103.0\n",
      "WARNING:tensorflow:Model's `__init__()` arguments contain non-serializable objects. Please implement a `get_config()` method in the subclassed Model for proper saving and loading. Defaulting to empty config.\n",
      "WARNING:tensorflow:Model's `__init__()` arguments contain non-serializable objects. Please implement a `get_config()` method in the subclassed Model for proper saving and loading. Defaulting to empty config.\n",
      "WARNING:tensorflow:Model's `__init__()` arguments contain non-serializable objects. Please implement a `get_config()` method in the subclassed Model for proper saving and loading. Defaulting to empty config.\n",
      "score:  110.0\n",
      "score:  122.0\n",
      "score:  116.0\n",
      "score:  105.0\n",
      "Moviepy - Building video ./videos/RainbowDQN-CartPole-v1/650/RainbowDQN-CartPole-v1-episode-324.mp4.\n",
      "Moviepy - Writing video ./videos/RainbowDQN-CartPole-v1/650/RainbowDQN-CartPole-v1-episode-324.mp4\n",
      "\n"
     ]
    },
    {
     "name": "stderr",
     "output_type": "stream",
     "text": [
      "                                                              \r"
     ]
    },
    {
     "name": "stdout",
     "output_type": "stream",
     "text": [
      "Moviepy - Done !\n",
      "Moviepy - video ready ./videos/RainbowDQN-CartPole-v1/650/RainbowDQN-CartPole-v1-episode-324.mp4\n",
      "score:  128.0\n",
      "WARNING:tensorflow:Model's `__init__()` arguments contain non-serializable objects. Please implement a `get_config()` method in the subclassed Model for proper saving and loading. Defaulting to empty config.\n",
      "WARNING:tensorflow:Model's `__init__()` arguments contain non-serializable objects. Please implement a `get_config()` method in the subclassed Model for proper saving and loading. Defaulting to empty config.\n",
      "WARNING:tensorflow:Model's `__init__()` arguments contain non-serializable objects. Please implement a `get_config()` method in the subclassed Model for proper saving and loading. Defaulting to empty config.\n",
      "score:  134.0\n",
      "score:  109.0\n",
      "score:  116.0\n",
      "score:  129.0\n",
      "Moviepy - Building video ./videos/RainbowDQN-CartPole-v1/660/RainbowDQN-CartPole-v1-episode-329.mp4.\n",
      "Moviepy - Writing video ./videos/RainbowDQN-CartPole-v1/660/RainbowDQN-CartPole-v1-episode-329.mp4\n",
      "\n"
     ]
    },
    {
     "name": "stderr",
     "output_type": "stream",
     "text": [
      "                                                               \r"
     ]
    },
    {
     "name": "stdout",
     "output_type": "stream",
     "text": [
      "Moviepy - Done !\n",
      "Moviepy - video ready ./videos/RainbowDQN-CartPole-v1/660/RainbowDQN-CartPole-v1-episode-329.mp4\n",
      "score:  124.0\n",
      "WARNING:tensorflow:Model's `__init__()` arguments contain non-serializable objects. Please implement a `get_config()` method in the subclassed Model for proper saving and loading. Defaulting to empty config.\n",
      "WARNING:tensorflow:Model's `__init__()` arguments contain non-serializable objects. Please implement a `get_config()` method in the subclassed Model for proper saving and loading. Defaulting to empty config.\n",
      "WARNING:tensorflow:Model's `__init__()` arguments contain non-serializable objects. Please implement a `get_config()` method in the subclassed Model for proper saving and loading. Defaulting to empty config.\n",
      "score:  115.0\n",
      "score:  115.0\n",
      "score:  102.0\n",
      "score:  110.0\n",
      "Moviepy - Building video ./videos/RainbowDQN-CartPole-v1/670/RainbowDQN-CartPole-v1-episode-334.mp4.\n",
      "Moviepy - Writing video ./videos/RainbowDQN-CartPole-v1/670/RainbowDQN-CartPole-v1-episode-334.mp4\n",
      "\n"
     ]
    },
    {
     "name": "stderr",
     "output_type": "stream",
     "text": [
      "                                                              \r"
     ]
    },
    {
     "name": "stdout",
     "output_type": "stream",
     "text": [
      "Moviepy - Done !\n",
      "Moviepy - video ready ./videos/RainbowDQN-CartPole-v1/670/RainbowDQN-CartPole-v1-episode-334.mp4\n",
      "score:  119.0\n",
      "WARNING:tensorflow:Model's `__init__()` arguments contain non-serializable objects. Please implement a `get_config()` method in the subclassed Model for proper saving and loading. Defaulting to empty config.\n",
      "WARNING:tensorflow:Model's `__init__()` arguments contain non-serializable objects. Please implement a `get_config()` method in the subclassed Model for proper saving and loading. Defaulting to empty config.\n",
      "WARNING:tensorflow:Model's `__init__()` arguments contain non-serializable objects. Please implement a `get_config()` method in the subclassed Model for proper saving and loading. Defaulting to empty config.\n",
      "score:  134.0\n",
      "score:  119.0\n",
      "score:  117.0\n",
      "score:  126.0\n",
      "Moviepy - Building video ./videos/RainbowDQN-CartPole-v1/680/RainbowDQN-CartPole-v1-episode-339.mp4.\n",
      "Moviepy - Writing video ./videos/RainbowDQN-CartPole-v1/680/RainbowDQN-CartPole-v1-episode-339.mp4\n",
      "\n"
     ]
    },
    {
     "name": "stderr",
     "output_type": "stream",
     "text": [
      "                                                              \r"
     ]
    },
    {
     "name": "stdout",
     "output_type": "stream",
     "text": [
      "Moviepy - Done !\n",
      "Moviepy - video ready ./videos/RainbowDQN-CartPole-v1/680/RainbowDQN-CartPole-v1-episode-339.mp4\n",
      "score:  116.0\n",
      "WARNING:tensorflow:Model's `__init__()` arguments contain non-serializable objects. Please implement a `get_config()` method in the subclassed Model for proper saving and loading. Defaulting to empty config.\n",
      "WARNING:tensorflow:Model's `__init__()` arguments contain non-serializable objects. Please implement a `get_config()` method in the subclassed Model for proper saving and loading. Defaulting to empty config.\n",
      "WARNING:tensorflow:Model's `__init__()` arguments contain non-serializable objects. Please implement a `get_config()` method in the subclassed Model for proper saving and loading. Defaulting to empty config.\n",
      "score:  130.0\n",
      "score:  124.0\n",
      "score:  104.0\n",
      "score:  131.0\n",
      "Moviepy - Building video ./videos/RainbowDQN-CartPole-v1/690/RainbowDQN-CartPole-v1-episode-344.mp4.\n",
      "Moviepy - Writing video ./videos/RainbowDQN-CartPole-v1/690/RainbowDQN-CartPole-v1-episode-344.mp4\n",
      "\n"
     ]
    },
    {
     "name": "stderr",
     "output_type": "stream",
     "text": [
      "                                                            \r"
     ]
    },
    {
     "name": "stdout",
     "output_type": "stream",
     "text": [
      "Moviepy - Done !\n",
      "Moviepy - video ready ./videos/RainbowDQN-CartPole-v1/690/RainbowDQN-CartPole-v1-episode-344.mp4\n",
      "score:  122.0\n",
      "WARNING:tensorflow:Model's `__init__()` arguments contain non-serializable objects. Please implement a `get_config()` method in the subclassed Model for proper saving and loading. Defaulting to empty config.\n",
      "WARNING:tensorflow:Model's `__init__()` arguments contain non-serializable objects. Please implement a `get_config()` method in the subclassed Model for proper saving and loading. Defaulting to empty config.\n",
      "WARNING:tensorflow:Model's `__init__()` arguments contain non-serializable objects. Please implement a `get_config()` method in the subclassed Model for proper saving and loading. Defaulting to empty config.\n",
      "score:  133.0\n",
      "score:  106.0\n",
      "score:  107.0\n",
      "score:  102.0\n",
      "Moviepy - Building video ./videos/RainbowDQN-CartPole-v1/700/RainbowDQN-CartPole-v1-episode-349.mp4.\n",
      "Moviepy - Writing video ./videos/RainbowDQN-CartPole-v1/700/RainbowDQN-CartPole-v1-episode-349.mp4\n",
      "\n"
     ]
    },
    {
     "name": "stderr",
     "output_type": "stream",
     "text": [
      "                                                              \r"
     ]
    },
    {
     "name": "stdout",
     "output_type": "stream",
     "text": [
      "Moviepy - Done !\n",
      "Moviepy - video ready ./videos/RainbowDQN-CartPole-v1/700/RainbowDQN-CartPole-v1-episode-349.mp4\n",
      "score:  125.0\n",
      "WARNING:tensorflow:Model's `__init__()` arguments contain non-serializable objects. Please implement a `get_config()` method in the subclassed Model for proper saving and loading. Defaulting to empty config.\n",
      "WARNING:tensorflow:Model's `__init__()` arguments contain non-serializable objects. Please implement a `get_config()` method in the subclassed Model for proper saving and loading. Defaulting to empty config.\n",
      "WARNING:tensorflow:Model's `__init__()` arguments contain non-serializable objects. Please implement a `get_config()` method in the subclassed Model for proper saving and loading. Defaulting to empty config.\n",
      "score:  108.0\n",
      "score:  128.0\n",
      "score:  120.0\n",
      "score:  118.0\n",
      "Moviepy - Building video ./videos/RainbowDQN-CartPole-v1/710/RainbowDQN-CartPole-v1-episode-354.mp4.\n",
      "Moviepy - Writing video ./videos/RainbowDQN-CartPole-v1/710/RainbowDQN-CartPole-v1-episode-354.mp4\n",
      "\n"
     ]
    },
    {
     "name": "stderr",
     "output_type": "stream",
     "text": [
      "                                                              \r"
     ]
    },
    {
     "name": "stdout",
     "output_type": "stream",
     "text": [
      "Moviepy - Done !\n",
      "Moviepy - video ready ./videos/RainbowDQN-CartPole-v1/710/RainbowDQN-CartPole-v1-episode-354.mp4\n",
      "score:  110.0\n",
      "WARNING:tensorflow:Model's `__init__()` arguments contain non-serializable objects. Please implement a `get_config()` method in the subclassed Model for proper saving and loading. Defaulting to empty config.\n",
      "WARNING:tensorflow:Model's `__init__()` arguments contain non-serializable objects. Please implement a `get_config()` method in the subclassed Model for proper saving and loading. Defaulting to empty config.\n",
      "WARNING:tensorflow:Model's `__init__()` arguments contain non-serializable objects. Please implement a `get_config()` method in the subclassed Model for proper saving and loading. Defaulting to empty config.\n",
      "score:  120.0\n",
      "score:  129.0\n",
      "score:  121.0\n",
      "score:  110.0\n",
      "Moviepy - Building video ./videos/RainbowDQN-CartPole-v1/720/RainbowDQN-CartPole-v1-episode-359.mp4.\n",
      "Moviepy - Writing video ./videos/RainbowDQN-CartPole-v1/720/RainbowDQN-CartPole-v1-episode-359.mp4\n",
      "\n"
     ]
    },
    {
     "name": "stderr",
     "output_type": "stream",
     "text": [
      "                                                              \r"
     ]
    },
    {
     "name": "stdout",
     "output_type": "stream",
     "text": [
      "Moviepy - Done !\n",
      "Moviepy - video ready ./videos/RainbowDQN-CartPole-v1/720/RainbowDQN-CartPole-v1-episode-359.mp4\n",
      "score:  116.0\n",
      "WARNING:tensorflow:Model's `__init__()` arguments contain non-serializable objects. Please implement a `get_config()` method in the subclassed Model for proper saving and loading. Defaulting to empty config.\n",
      "WARNING:tensorflow:Model's `__init__()` arguments contain non-serializable objects. Please implement a `get_config()` method in the subclassed Model for proper saving and loading. Defaulting to empty config.\n",
      "WARNING:tensorflow:Model's `__init__()` arguments contain non-serializable objects. Please implement a `get_config()` method in the subclassed Model for proper saving and loading. Defaulting to empty config.\n",
      "score:  128.0\n",
      "score:  119.0\n",
      "score:  123.0\n",
      "score:  115.0\n",
      "Moviepy - Building video ./videos/RainbowDQN-CartPole-v1/730/RainbowDQN-CartPole-v1-episode-364.mp4.\n",
      "Moviepy - Writing video ./videos/RainbowDQN-CartPole-v1/730/RainbowDQN-CartPole-v1-episode-364.mp4\n",
      "\n"
     ]
    },
    {
     "name": "stderr",
     "output_type": "stream",
     "text": [
      "                                                              \r"
     ]
    },
    {
     "name": "stdout",
     "output_type": "stream",
     "text": [
      "Moviepy - Done !\n",
      "Moviepy - video ready ./videos/RainbowDQN-CartPole-v1/730/RainbowDQN-CartPole-v1-episode-364.mp4\n",
      "score:  137.0\n",
      "WARNING:tensorflow:Model's `__init__()` arguments contain non-serializable objects. Please implement a `get_config()` method in the subclassed Model for proper saving and loading. Defaulting to empty config.\n",
      "WARNING:tensorflow:Model's `__init__()` arguments contain non-serializable objects. Please implement a `get_config()` method in the subclassed Model for proper saving and loading. Defaulting to empty config.\n",
      "WARNING:tensorflow:Model's `__init__()` arguments contain non-serializable objects. Please implement a `get_config()` method in the subclassed Model for proper saving and loading. Defaulting to empty config.\n",
      "score:  120.0\n",
      "score:  137.0\n",
      "score:  104.0\n",
      "score:  125.0\n",
      "Moviepy - Building video ./videos/RainbowDQN-CartPole-v1/740/RainbowDQN-CartPole-v1-episode-369.mp4.\n",
      "Moviepy - Writing video ./videos/RainbowDQN-CartPole-v1/740/RainbowDQN-CartPole-v1-episode-369.mp4\n",
      "\n"
     ]
    },
    {
     "name": "stderr",
     "output_type": "stream",
     "text": [
      "                                                              \r"
     ]
    },
    {
     "name": "stdout",
     "output_type": "stream",
     "text": [
      "Moviepy - Done !\n",
      "Moviepy - video ready ./videos/RainbowDQN-CartPole-v1/740/RainbowDQN-CartPole-v1-episode-369.mp4\n",
      "score:  107.0\n",
      "WARNING:tensorflow:Model's `__init__()` arguments contain non-serializable objects. Please implement a `get_config()` method in the subclassed Model for proper saving and loading. Defaulting to empty config.\n",
      "WARNING:tensorflow:Model's `__init__()` arguments contain non-serializable objects. Please implement a `get_config()` method in the subclassed Model for proper saving and loading. Defaulting to empty config.\n",
      "WARNING:tensorflow:Model's `__init__()` arguments contain non-serializable objects. Please implement a `get_config()` method in the subclassed Model for proper saving and loading. Defaulting to empty config.\n",
      "score:  128.0\n",
      "score:  109.0\n",
      "score:  116.0\n",
      "score:  109.0\n",
      "Moviepy - Building video ./videos/RainbowDQN-CartPole-v1/750/RainbowDQN-CartPole-v1-episode-374.mp4.\n",
      "Moviepy - Writing video ./videos/RainbowDQN-CartPole-v1/750/RainbowDQN-CartPole-v1-episode-374.mp4\n",
      "\n"
     ]
    },
    {
     "name": "stderr",
     "output_type": "stream",
     "text": [
      "                                                              \r"
     ]
    },
    {
     "name": "stdout",
     "output_type": "stream",
     "text": [
      "Moviepy - Done !\n",
      "Moviepy - video ready ./videos/RainbowDQN-CartPole-v1/750/RainbowDQN-CartPole-v1-episode-374.mp4\n",
      "score:  114.0\n",
      "WARNING:tensorflow:Model's `__init__()` arguments contain non-serializable objects. Please implement a `get_config()` method in the subclassed Model for proper saving and loading. Defaulting to empty config.\n",
      "WARNING:tensorflow:Model's `__init__()` arguments contain non-serializable objects. Please implement a `get_config()` method in the subclassed Model for proper saving and loading. Defaulting to empty config.\n",
      "WARNING:tensorflow:Model's `__init__()` arguments contain non-serializable objects. Please implement a `get_config()` method in the subclassed Model for proper saving and loading. Defaulting to empty config.\n",
      "score:  117.0\n",
      "score:  125.0\n",
      "score:  111.0\n",
      "score:  109.0\n",
      "Moviepy - Building video ./videos/RainbowDQN-CartPole-v1/760/RainbowDQN-CartPole-v1-episode-379.mp4.\n",
      "Moviepy - Writing video ./videos/RainbowDQN-CartPole-v1/760/RainbowDQN-CartPole-v1-episode-379.mp4\n",
      "\n"
     ]
    },
    {
     "name": "stderr",
     "output_type": "stream",
     "text": [
      "                                                               \r"
     ]
    },
    {
     "name": "stdout",
     "output_type": "stream",
     "text": [
      "Moviepy - Done !\n",
      "Moviepy - video ready ./videos/RainbowDQN-CartPole-v1/760/RainbowDQN-CartPole-v1-episode-379.mp4\n",
      "score:  153.0\n",
      "WARNING:tensorflow:Model's `__init__()` arguments contain non-serializable objects. Please implement a `get_config()` method in the subclassed Model for proper saving and loading. Defaulting to empty config.\n",
      "WARNING:tensorflow:Model's `__init__()` arguments contain non-serializable objects. Please implement a `get_config()` method in the subclassed Model for proper saving and loading. Defaulting to empty config.\n",
      "WARNING:tensorflow:Model's `__init__()` arguments contain non-serializable objects. Please implement a `get_config()` method in the subclassed Model for proper saving and loading. Defaulting to empty config.\n",
      "score:  124.0\n",
      "score:  125.0\n",
      "score:  122.0\n",
      "score:  120.0\n",
      "Moviepy - Building video ./videos/RainbowDQN-CartPole-v1/770/RainbowDQN-CartPole-v1-episode-384.mp4.\n",
      "Moviepy - Writing video ./videos/RainbowDQN-CartPole-v1/770/RainbowDQN-CartPole-v1-episode-384.mp4\n",
      "\n"
     ]
    },
    {
     "name": "stderr",
     "output_type": "stream",
     "text": [
      "                                                              \r"
     ]
    },
    {
     "name": "stdout",
     "output_type": "stream",
     "text": [
      "Moviepy - Done !\n",
      "Moviepy - video ready ./videos/RainbowDQN-CartPole-v1/770/RainbowDQN-CartPole-v1-episode-384.mp4\n",
      "score:  106.0\n",
      "WARNING:tensorflow:Model's `__init__()` arguments contain non-serializable objects. Please implement a `get_config()` method in the subclassed Model for proper saving and loading. Defaulting to empty config.\n",
      "WARNING:tensorflow:Model's `__init__()` arguments contain non-serializable objects. Please implement a `get_config()` method in the subclassed Model for proper saving and loading. Defaulting to empty config.\n",
      "WARNING:tensorflow:Model's `__init__()` arguments contain non-serializable objects. Please implement a `get_config()` method in the subclassed Model for proper saving and loading. Defaulting to empty config.\n",
      "score:  114.0\n",
      "score:  109.0\n",
      "score:  119.0\n",
      "score:  113.0\n",
      "Moviepy - Building video ./videos/RainbowDQN-CartPole-v1/780/RainbowDQN-CartPole-v1-episode-389.mp4.\n",
      "Moviepy - Writing video ./videos/RainbowDQN-CartPole-v1/780/RainbowDQN-CartPole-v1-episode-389.mp4\n",
      "\n"
     ]
    },
    {
     "name": "stderr",
     "output_type": "stream",
     "text": [
      "                                                               \r"
     ]
    },
    {
     "name": "stdout",
     "output_type": "stream",
     "text": [
      "Moviepy - Done !\n",
      "Moviepy - video ready ./videos/RainbowDQN-CartPole-v1/780/RainbowDQN-CartPole-v1-episode-389.mp4\n",
      "score:  124.0\n",
      "WARNING:tensorflow:Model's `__init__()` arguments contain non-serializable objects. Please implement a `get_config()` method in the subclassed Model for proper saving and loading. Defaulting to empty config.\n",
      "WARNING:tensorflow:Model's `__init__()` arguments contain non-serializable objects. Please implement a `get_config()` method in the subclassed Model for proper saving and loading. Defaulting to empty config.\n",
      "WARNING:tensorflow:Model's `__init__()` arguments contain non-serializable objects. Please implement a `get_config()` method in the subclassed Model for proper saving and loading. Defaulting to empty config.\n",
      "score:  126.0\n",
      "score:  107.0\n",
      "score:  115.0\n",
      "score:  125.0\n",
      "Moviepy - Building video ./videos/RainbowDQN-CartPole-v1/790/RainbowDQN-CartPole-v1-episode-394.mp4.\n",
      "Moviepy - Writing video ./videos/RainbowDQN-CartPole-v1/790/RainbowDQN-CartPole-v1-episode-394.mp4\n",
      "\n"
     ]
    },
    {
     "name": "stderr",
     "output_type": "stream",
     "text": [
      "                                                              \r"
     ]
    },
    {
     "name": "stdout",
     "output_type": "stream",
     "text": [
      "Moviepy - Done !\n",
      "Moviepy - video ready ./videos/RainbowDQN-CartPole-v1/790/RainbowDQN-CartPole-v1-episode-394.mp4\n",
      "score:  116.0\n",
      "WARNING:tensorflow:Model's `__init__()` arguments contain non-serializable objects. Please implement a `get_config()` method in the subclassed Model for proper saving and loading. Defaulting to empty config.\n",
      "WARNING:tensorflow:Model's `__init__()` arguments contain non-serializable objects. Please implement a `get_config()` method in the subclassed Model for proper saving and loading. Defaulting to empty config.\n",
      "WARNING:tensorflow:Model's `__init__()` arguments contain non-serializable objects. Please implement a `get_config()` method in the subclassed Model for proper saving and loading. Defaulting to empty config.\n",
      "score:  127.0\n",
      "score:  152.0\n",
      "score:  120.0\n",
      "score:  144.0\n",
      "Moviepy - Building video ./videos/RainbowDQN-CartPole-v1/800/RainbowDQN-CartPole-v1-episode-399.mp4.\n",
      "Moviepy - Writing video ./videos/RainbowDQN-CartPole-v1/800/RainbowDQN-CartPole-v1-episode-399.mp4\n",
      "\n"
     ]
    },
    {
     "name": "stderr",
     "output_type": "stream",
     "text": [
      "                                                              \r"
     ]
    },
    {
     "name": "stdout",
     "output_type": "stream",
     "text": [
      "Moviepy - Done !\n",
      "Moviepy - video ready ./videos/RainbowDQN-CartPole-v1/800/RainbowDQN-CartPole-v1-episode-399.mp4\n",
      "score:  123.0\n",
      "WARNING:tensorflow:Model's `__init__()` arguments contain non-serializable objects. Please implement a `get_config()` method in the subclassed Model for proper saving and loading. Defaulting to empty config.\n",
      "WARNING:tensorflow:Model's `__init__()` arguments contain non-serializable objects. Please implement a `get_config()` method in the subclassed Model for proper saving and loading. Defaulting to empty config.\n",
      "WARNING:tensorflow:Model's `__init__()` arguments contain non-serializable objects. Please implement a `get_config()` method in the subclassed Model for proper saving and loading. Defaulting to empty config.\n",
      "score:  105.0\n",
      "score:  107.0\n",
      "score:  107.0\n",
      "score:  123.0\n",
      "Moviepy - Building video ./videos/RainbowDQN-CartPole-v1/810/RainbowDQN-CartPole-v1-episode-404.mp4.\n",
      "Moviepy - Writing video ./videos/RainbowDQN-CartPole-v1/810/RainbowDQN-CartPole-v1-episode-404.mp4\n",
      "\n"
     ]
    },
    {
     "name": "stderr",
     "output_type": "stream",
     "text": [
      "                                                              \r"
     ]
    },
    {
     "name": "stdout",
     "output_type": "stream",
     "text": [
      "Moviepy - Done !\n",
      "Moviepy - video ready ./videos/RainbowDQN-CartPole-v1/810/RainbowDQN-CartPole-v1-episode-404.mp4\n",
      "score:  125.0\n",
      "WARNING:tensorflow:Model's `__init__()` arguments contain non-serializable objects. Please implement a `get_config()` method in the subclassed Model for proper saving and loading. Defaulting to empty config.\n",
      "WARNING:tensorflow:Model's `__init__()` arguments contain non-serializable objects. Please implement a `get_config()` method in the subclassed Model for proper saving and loading. Defaulting to empty config.\n",
      "WARNING:tensorflow:Model's `__init__()` arguments contain non-serializable objects. Please implement a `get_config()` method in the subclassed Model for proper saving and loading. Defaulting to empty config.\n",
      "score:  115.0\n",
      "score:  121.0\n",
      "score:  117.0\n",
      "score:  116.0\n",
      "Moviepy - Building video ./videos/RainbowDQN-CartPole-v1/820/RainbowDQN-CartPole-v1-episode-409.mp4.\n",
      "Moviepy - Writing video ./videos/RainbowDQN-CartPole-v1/820/RainbowDQN-CartPole-v1-episode-409.mp4\n",
      "\n"
     ]
    },
    {
     "name": "stderr",
     "output_type": "stream",
     "text": [
      "                                                              \r"
     ]
    },
    {
     "name": "stdout",
     "output_type": "stream",
     "text": [
      "Moviepy - Done !\n",
      "Moviepy - video ready ./videos/RainbowDQN-CartPole-v1/820/RainbowDQN-CartPole-v1-episode-409.mp4\n",
      "score:  132.0\n",
      "WARNING:tensorflow:Model's `__init__()` arguments contain non-serializable objects. Please implement a `get_config()` method in the subclassed Model for proper saving and loading. Defaulting to empty config.\n",
      "WARNING:tensorflow:Model's `__init__()` arguments contain non-serializable objects. Please implement a `get_config()` method in the subclassed Model for proper saving and loading. Defaulting to empty config.\n",
      "WARNING:tensorflow:Model's `__init__()` arguments contain non-serializable objects. Please implement a `get_config()` method in the subclassed Model for proper saving and loading. Defaulting to empty config.\n",
      "score:  108.0\n",
      "score:  103.0\n",
      "score:  133.0\n",
      "score:  115.0\n",
      "Moviepy - Building video ./videos/RainbowDQN-CartPole-v1/830/RainbowDQN-CartPole-v1-episode-414.mp4.\n",
      "Moviepy - Writing video ./videos/RainbowDQN-CartPole-v1/830/RainbowDQN-CartPole-v1-episode-414.mp4\n",
      "\n"
     ]
    },
    {
     "name": "stderr",
     "output_type": "stream",
     "text": [
      "                                                              \r"
     ]
    },
    {
     "name": "stdout",
     "output_type": "stream",
     "text": [
      "Moviepy - Done !\n",
      "Moviepy - video ready ./videos/RainbowDQN-CartPole-v1/830/RainbowDQN-CartPole-v1-episode-414.mp4\n",
      "score:  134.0\n",
      "WARNING:tensorflow:Model's `__init__()` arguments contain non-serializable objects. Please implement a `get_config()` method in the subclassed Model for proper saving and loading. Defaulting to empty config.\n",
      "WARNING:tensorflow:Model's `__init__()` arguments contain non-serializable objects. Please implement a `get_config()` method in the subclassed Model for proper saving and loading. Defaulting to empty config.\n",
      "WARNING:tensorflow:Model's `__init__()` arguments contain non-serializable objects. Please implement a `get_config()` method in the subclassed Model for proper saving and loading. Defaulting to empty config.\n",
      "score:  121.0\n",
      "score:  125.0\n",
      "score:  110.0\n",
      "score:  108.0\n",
      "Moviepy - Building video ./videos/RainbowDQN-CartPole-v1/840/RainbowDQN-CartPole-v1-episode-419.mp4.\n",
      "Moviepy - Writing video ./videos/RainbowDQN-CartPole-v1/840/RainbowDQN-CartPole-v1-episode-419.mp4\n",
      "\n"
     ]
    },
    {
     "name": "stderr",
     "output_type": "stream",
     "text": [
      "                                                              \r"
     ]
    },
    {
     "name": "stdout",
     "output_type": "stream",
     "text": [
      "Moviepy - Done !\n",
      "Moviepy - video ready ./videos/RainbowDQN-CartPole-v1/840/RainbowDQN-CartPole-v1-episode-419.mp4\n",
      "score:  116.0\n",
      "WARNING:tensorflow:Model's `__init__()` arguments contain non-serializable objects. Please implement a `get_config()` method in the subclassed Model for proper saving and loading. Defaulting to empty config.\n",
      "WARNING:tensorflow:Model's `__init__()` arguments contain non-serializable objects. Please implement a `get_config()` method in the subclassed Model for proper saving and loading. Defaulting to empty config.\n",
      "WARNING:tensorflow:Model's `__init__()` arguments contain non-serializable objects. Please implement a `get_config()` method in the subclassed Model for proper saving and loading. Defaulting to empty config.\n",
      "score:  111.0\n",
      "score:  108.0\n",
      "score:  143.0\n",
      "score:  129.0\n",
      "Moviepy - Building video ./videos/RainbowDQN-CartPole-v1/850/RainbowDQN-CartPole-v1-episode-424.mp4.\n",
      "Moviepy - Writing video ./videos/RainbowDQN-CartPole-v1/850/RainbowDQN-CartPole-v1-episode-424.mp4\n",
      "\n"
     ]
    },
    {
     "name": "stderr",
     "output_type": "stream",
     "text": [
      "                                                            \r"
     ]
    },
    {
     "name": "stdout",
     "output_type": "stream",
     "text": [
      "Moviepy - Done !\n",
      "Moviepy - video ready ./videos/RainbowDQN-CartPole-v1/850/RainbowDQN-CartPole-v1-episode-424.mp4\n",
      "score:  116.0\n",
      "WARNING:tensorflow:Model's `__init__()` arguments contain non-serializable objects. Please implement a `get_config()` method in the subclassed Model for proper saving and loading. Defaulting to empty config.\n",
      "WARNING:tensorflow:Model's `__init__()` arguments contain non-serializable objects. Please implement a `get_config()` method in the subclassed Model for proper saving and loading. Defaulting to empty config.\n",
      "WARNING:tensorflow:Model's `__init__()` arguments contain non-serializable objects. Please implement a `get_config()` method in the subclassed Model for proper saving and loading. Defaulting to empty config.\n",
      "score:  106.0\n",
      "score:  122.0\n",
      "score:  113.0\n",
      "score:  103.0\n",
      "Moviepy - Building video ./videos/RainbowDQN-CartPole-v1/860/RainbowDQN-CartPole-v1-episode-429.mp4.\n",
      "Moviepy - Writing video ./videos/RainbowDQN-CartPole-v1/860/RainbowDQN-CartPole-v1-episode-429.mp4\n",
      "\n"
     ]
    },
    {
     "name": "stderr",
     "output_type": "stream",
     "text": [
      "                                                              \r"
     ]
    },
    {
     "name": "stdout",
     "output_type": "stream",
     "text": [
      "Moviepy - Done !\n",
      "Moviepy - video ready ./videos/RainbowDQN-CartPole-v1/860/RainbowDQN-CartPole-v1-episode-429.mp4\n",
      "score:  108.0\n",
      "WARNING:tensorflow:Model's `__init__()` arguments contain non-serializable objects. Please implement a `get_config()` method in the subclassed Model for proper saving and loading. Defaulting to empty config.\n",
      "WARNING:tensorflow:Model's `__init__()` arguments contain non-serializable objects. Please implement a `get_config()` method in the subclassed Model for proper saving and loading. Defaulting to empty config.\n",
      "WARNING:tensorflow:Model's `__init__()` arguments contain non-serializable objects. Please implement a `get_config()` method in the subclassed Model for proper saving and loading. Defaulting to empty config.\n",
      "score:  139.0\n",
      "score:  117.0\n",
      "score:  104.0\n",
      "score:  115.0\n",
      "Moviepy - Building video ./videos/RainbowDQN-CartPole-v1/870/RainbowDQN-CartPole-v1-episode-434.mp4.\n",
      "Moviepy - Writing video ./videos/RainbowDQN-CartPole-v1/870/RainbowDQN-CartPole-v1-episode-434.mp4\n",
      "\n"
     ]
    },
    {
     "name": "stderr",
     "output_type": "stream",
     "text": [
      "                                                               \r"
     ]
    },
    {
     "name": "stdout",
     "output_type": "stream",
     "text": [
      "Moviepy - Done !\n",
      "Moviepy - video ready ./videos/RainbowDQN-CartPole-v1/870/RainbowDQN-CartPole-v1-episode-434.mp4\n",
      "score:  124.0\n",
      "WARNING:tensorflow:Model's `__init__()` arguments contain non-serializable objects. Please implement a `get_config()` method in the subclassed Model for proper saving and loading. Defaulting to empty config.\n",
      "WARNING:tensorflow:Model's `__init__()` arguments contain non-serializable objects. Please implement a `get_config()` method in the subclassed Model for proper saving and loading. Defaulting to empty config.\n",
      "WARNING:tensorflow:Model's `__init__()` arguments contain non-serializable objects. Please implement a `get_config()` method in the subclassed Model for proper saving and loading. Defaulting to empty config.\n",
      "score:  117.0\n",
      "score:  111.0\n",
      "score:  106.0\n",
      "score:  113.0\n",
      "Moviepy - Building video ./videos/RainbowDQN-CartPole-v1/880/RainbowDQN-CartPole-v1-episode-439.mp4.\n",
      "Moviepy - Writing video ./videos/RainbowDQN-CartPole-v1/880/RainbowDQN-CartPole-v1-episode-439.mp4\n",
      "\n"
     ]
    },
    {
     "name": "stderr",
     "output_type": "stream",
     "text": [
      "                                                              \r"
     ]
    },
    {
     "name": "stdout",
     "output_type": "stream",
     "text": [
      "Moviepy - Done !\n",
      "Moviepy - video ready ./videos/RainbowDQN-CartPole-v1/880/RainbowDQN-CartPole-v1-episode-439.mp4\n",
      "score:  126.0\n",
      "WARNING:tensorflow:Model's `__init__()` arguments contain non-serializable objects. Please implement a `get_config()` method in the subclassed Model for proper saving and loading. Defaulting to empty config.\n",
      "WARNING:tensorflow:Model's `__init__()` arguments contain non-serializable objects. Please implement a `get_config()` method in the subclassed Model for proper saving and loading. Defaulting to empty config.\n",
      "WARNING:tensorflow:Model's `__init__()` arguments contain non-serializable objects. Please implement a `get_config()` method in the subclassed Model for proper saving and loading. Defaulting to empty config.\n",
      "score:  125.0\n",
      "score:  119.0\n",
      "score:  113.0\n",
      "score:  127.0\n",
      "Moviepy - Building video ./videos/RainbowDQN-CartPole-v1/890/RainbowDQN-CartPole-v1-episode-444.mp4.\n",
      "Moviepy - Writing video ./videos/RainbowDQN-CartPole-v1/890/RainbowDQN-CartPole-v1-episode-444.mp4\n",
      "\n"
     ]
    },
    {
     "name": "stderr",
     "output_type": "stream",
     "text": [
      "                                                            \r"
     ]
    },
    {
     "name": "stdout",
     "output_type": "stream",
     "text": [
      "Moviepy - Done !\n",
      "Moviepy - video ready ./videos/RainbowDQN-CartPole-v1/890/RainbowDQN-CartPole-v1-episode-444.mp4\n",
      "score:  110.0\n",
      "WARNING:tensorflow:Model's `__init__()` arguments contain non-serializable objects. Please implement a `get_config()` method in the subclassed Model for proper saving and loading. Defaulting to empty config.\n",
      "WARNING:tensorflow:Model's `__init__()` arguments contain non-serializable objects. Please implement a `get_config()` method in the subclassed Model for proper saving and loading. Defaulting to empty config.\n",
      "WARNING:tensorflow:Model's `__init__()` arguments contain non-serializable objects. Please implement a `get_config()` method in the subclassed Model for proper saving and loading. Defaulting to empty config.\n",
      "score:  113.0\n",
      "score:  119.0\n",
      "score:  115.0\n",
      "score:  125.0\n",
      "Moviepy - Building video ./videos/RainbowDQN-CartPole-v1/900/RainbowDQN-CartPole-v1-episode-449.mp4.\n",
      "Moviepy - Writing video ./videos/RainbowDQN-CartPole-v1/900/RainbowDQN-CartPole-v1-episode-449.mp4\n",
      "\n"
     ]
    },
    {
     "name": "stderr",
     "output_type": "stream",
     "text": [
      "                                                              \r"
     ]
    },
    {
     "name": "stdout",
     "output_type": "stream",
     "text": [
      "Moviepy - Done !\n",
      "Moviepy - video ready ./videos/RainbowDQN-CartPole-v1/900/RainbowDQN-CartPole-v1-episode-449.mp4\n",
      "score:  139.0\n",
      "WARNING:tensorflow:Model's `__init__()` arguments contain non-serializable objects. Please implement a `get_config()` method in the subclassed Model for proper saving and loading. Defaulting to empty config.\n",
      "WARNING:tensorflow:Model's `__init__()` arguments contain non-serializable objects. Please implement a `get_config()` method in the subclassed Model for proper saving and loading. Defaulting to empty config.\n",
      "WARNING:tensorflow:Model's `__init__()` arguments contain non-serializable objects. Please implement a `get_config()` method in the subclassed Model for proper saving and loading. Defaulting to empty config.\n",
      "score:  129.0\n",
      "score:  127.0\n",
      "score:  148.0\n",
      "score:  128.0\n",
      "Moviepy - Building video ./videos/RainbowDQN-CartPole-v1/910/RainbowDQN-CartPole-v1-episode-454.mp4.\n",
      "Moviepy - Writing video ./videos/RainbowDQN-CartPole-v1/910/RainbowDQN-CartPole-v1-episode-454.mp4\n",
      "\n"
     ]
    },
    {
     "name": "stderr",
     "output_type": "stream",
     "text": [
      "                                                              \r"
     ]
    },
    {
     "name": "stdout",
     "output_type": "stream",
     "text": [
      "Moviepy - Done !\n",
      "Moviepy - video ready ./videos/RainbowDQN-CartPole-v1/910/RainbowDQN-CartPole-v1-episode-454.mp4\n",
      "score:  120.0\n",
      "WARNING:tensorflow:Model's `__init__()` arguments contain non-serializable objects. Please implement a `get_config()` method in the subclassed Model for proper saving and loading. Defaulting to empty config.\n",
      "WARNING:tensorflow:Model's `__init__()` arguments contain non-serializable objects. Please implement a `get_config()` method in the subclassed Model for proper saving and loading. Defaulting to empty config.\n",
      "WARNING:tensorflow:Model's `__init__()` arguments contain non-serializable objects. Please implement a `get_config()` method in the subclassed Model for proper saving and loading. Defaulting to empty config.\n",
      "score:  125.0\n",
      "score:  101.0\n",
      "score:  111.0\n",
      "score:  109.0\n",
      "Moviepy - Building video ./videos/RainbowDQN-CartPole-v1/920/RainbowDQN-CartPole-v1-episode-459.mp4.\n",
      "Moviepy - Writing video ./videos/RainbowDQN-CartPole-v1/920/RainbowDQN-CartPole-v1-episode-459.mp4\n",
      "\n"
     ]
    },
    {
     "name": "stderr",
     "output_type": "stream",
     "text": [
      "                                                              \r"
     ]
    },
    {
     "name": "stdout",
     "output_type": "stream",
     "text": [
      "Moviepy - Done !\n",
      "Moviepy - video ready ./videos/RainbowDQN-CartPole-v1/920/RainbowDQN-CartPole-v1-episode-459.mp4\n",
      "score:  101.0\n",
      "WARNING:tensorflow:Model's `__init__()` arguments contain non-serializable objects. Please implement a `get_config()` method in the subclassed Model for proper saving and loading. Defaulting to empty config.\n",
      "WARNING:tensorflow:Model's `__init__()` arguments contain non-serializable objects. Please implement a `get_config()` method in the subclassed Model for proper saving and loading. Defaulting to empty config.\n",
      "WARNING:tensorflow:Model's `__init__()` arguments contain non-serializable objects. Please implement a `get_config()` method in the subclassed Model for proper saving and loading. Defaulting to empty config.\n",
      "score:  118.0\n",
      "score:  116.0\n",
      "score:  115.0\n",
      "score:  128.0\n",
      "Moviepy - Building video ./videos/RainbowDQN-CartPole-v1/930/RainbowDQN-CartPole-v1-episode-464.mp4.\n",
      "Moviepy - Writing video ./videos/RainbowDQN-CartPole-v1/930/RainbowDQN-CartPole-v1-episode-464.mp4\n",
      "\n"
     ]
    },
    {
     "name": "stderr",
     "output_type": "stream",
     "text": [
      "                                                              \r"
     ]
    },
    {
     "name": "stdout",
     "output_type": "stream",
     "text": [
      "Moviepy - Done !\n",
      "Moviepy - video ready ./videos/RainbowDQN-CartPole-v1/930/RainbowDQN-CartPole-v1-episode-464.mp4\n",
      "score:  119.0\n",
      "WARNING:tensorflow:Model's `__init__()` arguments contain non-serializable objects. Please implement a `get_config()` method in the subclassed Model for proper saving and loading. Defaulting to empty config.\n",
      "WARNING:tensorflow:Model's `__init__()` arguments contain non-serializable objects. Please implement a `get_config()` method in the subclassed Model for proper saving and loading. Defaulting to empty config.\n",
      "WARNING:tensorflow:Model's `__init__()` arguments contain non-serializable objects. Please implement a `get_config()` method in the subclassed Model for proper saving and loading. Defaulting to empty config.\n",
      "score:  125.0\n",
      "score:  119.0\n",
      "score:  116.0\n",
      "score:  125.0\n",
      "Moviepy - Building video ./videos/RainbowDQN-CartPole-v1/940/RainbowDQN-CartPole-v1-episode-469.mp4.\n",
      "Moviepy - Writing video ./videos/RainbowDQN-CartPole-v1/940/RainbowDQN-CartPole-v1-episode-469.mp4\n",
      "\n"
     ]
    },
    {
     "name": "stderr",
     "output_type": "stream",
     "text": [
      "                                                            \r"
     ]
    },
    {
     "name": "stdout",
     "output_type": "stream",
     "text": [
      "Moviepy - Done !\n",
      "Moviepy - video ready ./videos/RainbowDQN-CartPole-v1/940/RainbowDQN-CartPole-v1-episode-469.mp4\n",
      "score:  119.0\n",
      "WARNING:tensorflow:Model's `__init__()` arguments contain non-serializable objects. Please implement a `get_config()` method in the subclassed Model for proper saving and loading. Defaulting to empty config.\n",
      "WARNING:tensorflow:Model's `__init__()` arguments contain non-serializable objects. Please implement a `get_config()` method in the subclassed Model for proper saving and loading. Defaulting to empty config.\n",
      "WARNING:tensorflow:Model's `__init__()` arguments contain non-serializable objects. Please implement a `get_config()` method in the subclassed Model for proper saving and loading. Defaulting to empty config.\n",
      "score:  122.0\n",
      "score:  112.0\n",
      "score:  161.0\n",
      "score:  127.0\n",
      "Moviepy - Building video ./videos/RainbowDQN-CartPole-v1/950/RainbowDQN-CartPole-v1-episode-474.mp4.\n",
      "Moviepy - Writing video ./videos/RainbowDQN-CartPole-v1/950/RainbowDQN-CartPole-v1-episode-474.mp4\n",
      "\n"
     ]
    },
    {
     "name": "stderr",
     "output_type": "stream",
     "text": [
      "                                                              \r"
     ]
    },
    {
     "name": "stdout",
     "output_type": "stream",
     "text": [
      "Moviepy - Done !\n",
      "Moviepy - video ready ./videos/RainbowDQN-CartPole-v1/950/RainbowDQN-CartPole-v1-episode-474.mp4\n",
      "score:  107.0\n",
      "WARNING:tensorflow:Model's `__init__()` arguments contain non-serializable objects. Please implement a `get_config()` method in the subclassed Model for proper saving and loading. Defaulting to empty config.\n",
      "WARNING:tensorflow:Model's `__init__()` arguments contain non-serializable objects. Please implement a `get_config()` method in the subclassed Model for proper saving and loading. Defaulting to empty config.\n",
      "WARNING:tensorflow:Model's `__init__()` arguments contain non-serializable objects. Please implement a `get_config()` method in the subclassed Model for proper saving and loading. Defaulting to empty config.\n",
      "score:  113.0\n",
      "score:  119.0\n",
      "score:  122.0\n",
      "score:  119.0\n",
      "Moviepy - Building video ./videos/RainbowDQN-CartPole-v1/960/RainbowDQN-CartPole-v1-episode-479.mp4.\n",
      "Moviepy - Writing video ./videos/RainbowDQN-CartPole-v1/960/RainbowDQN-CartPole-v1-episode-479.mp4\n",
      "\n"
     ]
    },
    {
     "name": "stderr",
     "output_type": "stream",
     "text": [
      "                                                              \r"
     ]
    },
    {
     "name": "stdout",
     "output_type": "stream",
     "text": [
      "Moviepy - Done !\n",
      "Moviepy - video ready ./videos/RainbowDQN-CartPole-v1/960/RainbowDQN-CartPole-v1-episode-479.mp4\n",
      "score:  124.0\n",
      "WARNING:tensorflow:Model's `__init__()` arguments contain non-serializable objects. Please implement a `get_config()` method in the subclassed Model for proper saving and loading. Defaulting to empty config.\n",
      "WARNING:tensorflow:Model's `__init__()` arguments contain non-serializable objects. Please implement a `get_config()` method in the subclassed Model for proper saving and loading. Defaulting to empty config.\n",
      "WARNING:tensorflow:Model's `__init__()` arguments contain non-serializable objects. Please implement a `get_config()` method in the subclassed Model for proper saving and loading. Defaulting to empty config.\n",
      "score:  137.0\n",
      "score:  109.0\n",
      "score:  119.0\n",
      "score:  134.0\n",
      "Moviepy - Building video ./videos/RainbowDQN-CartPole-v1/970/RainbowDQN-CartPole-v1-episode-484.mp4.\n",
      "Moviepy - Writing video ./videos/RainbowDQN-CartPole-v1/970/RainbowDQN-CartPole-v1-episode-484.mp4\n",
      "\n"
     ]
    },
    {
     "name": "stderr",
     "output_type": "stream",
     "text": [
      "                                                              \r"
     ]
    },
    {
     "name": "stdout",
     "output_type": "stream",
     "text": [
      "Moviepy - Done !\n",
      "Moviepy - video ready ./videos/RainbowDQN-CartPole-v1/970/RainbowDQN-CartPole-v1-episode-484.mp4\n",
      "score:  127.0\n",
      "WARNING:tensorflow:Model's `__init__()` arguments contain non-serializable objects. Please implement a `get_config()` method in the subclassed Model for proper saving and loading. Defaulting to empty config.\n",
      "WARNING:tensorflow:Model's `__init__()` arguments contain non-serializable objects. Please implement a `get_config()` method in the subclassed Model for proper saving and loading. Defaulting to empty config.\n",
      "WARNING:tensorflow:Model's `__init__()` arguments contain non-serializable objects. Please implement a `get_config()` method in the subclassed Model for proper saving and loading. Defaulting to empty config.\n",
      "score:  118.0\n",
      "score:  115.0\n",
      "score:  116.0\n",
      "score:  120.0\n",
      "Moviepy - Building video ./videos/RainbowDQN-CartPole-v1/980/RainbowDQN-CartPole-v1-episode-489.mp4.\n",
      "Moviepy - Writing video ./videos/RainbowDQN-CartPole-v1/980/RainbowDQN-CartPole-v1-episode-489.mp4\n",
      "\n"
     ]
    },
    {
     "name": "stderr",
     "output_type": "stream",
     "text": [
      "                                                              \r"
     ]
    },
    {
     "name": "stdout",
     "output_type": "stream",
     "text": [
      "Moviepy - Done !\n",
      "Moviepy - video ready ./videos/RainbowDQN-CartPole-v1/980/RainbowDQN-CartPole-v1-episode-489.mp4\n",
      "score:  126.0\n",
      "WARNING:tensorflow:Model's `__init__()` arguments contain non-serializable objects. Please implement a `get_config()` method in the subclassed Model for proper saving and loading. Defaulting to empty config.\n",
      "WARNING:tensorflow:Model's `__init__()` arguments contain non-serializable objects. Please implement a `get_config()` method in the subclassed Model for proper saving and loading. Defaulting to empty config.\n",
      "WARNING:tensorflow:Model's `__init__()` arguments contain non-serializable objects. Please implement a `get_config()` method in the subclassed Model for proper saving and loading. Defaulting to empty config.\n",
      "score:  108.0\n",
      "score:  123.0\n",
      "score:  122.0\n",
      "score:  115.0\n",
      "Moviepy - Building video ./videos/RainbowDQN-CartPole-v1/990/RainbowDQN-CartPole-v1-episode-494.mp4.\n",
      "Moviepy - Writing video ./videos/RainbowDQN-CartPole-v1/990/RainbowDQN-CartPole-v1-episode-494.mp4\n",
      "\n"
     ]
    },
    {
     "name": "stderr",
     "output_type": "stream",
     "text": [
      "                                                            \r"
     ]
    },
    {
     "name": "stdout",
     "output_type": "stream",
     "text": [
      "Moviepy - Done !\n",
      "Moviepy - video ready ./videos/RainbowDQN-CartPole-v1/990/RainbowDQN-CartPole-v1-episode-494.mp4\n",
      "score:  108.0\n",
      "WARNING:tensorflow:Model's `__init__()` arguments contain non-serializable objects. Please implement a `get_config()` method in the subclassed Model for proper saving and loading. Defaulting to empty config.\n",
      "WARNING:tensorflow:Model's `__init__()` arguments contain non-serializable objects. Please implement a `get_config()` method in the subclassed Model for proper saving and loading. Defaulting to empty config.\n",
      "WARNING:tensorflow:Model's `__init__()` arguments contain non-serializable objects. Please implement a `get_config()` method in the subclassed Model for proper saving and loading. Defaulting to empty config.\n",
      "score:  128.0\n",
      "score:  122.0\n",
      "score:  112.0\n",
      "score:  115.0\n",
      "Moviepy - Building video ./videos/RainbowDQN-CartPole-v1/1000/RainbowDQN-CartPole-v1-episode-499.mp4.\n",
      "Moviepy - Writing video ./videos/RainbowDQN-CartPole-v1/1000/RainbowDQN-CartPole-v1-episode-499.mp4\n",
      "\n"
     ]
    },
    {
     "name": "stderr",
     "output_type": "stream",
     "text": [
      "                                                              \r"
     ]
    },
    {
     "name": "stdout",
     "output_type": "stream",
     "text": [
      "Moviepy - Done !\n",
      "Moviepy - video ready ./videos/RainbowDQN-CartPole-v1/1000/RainbowDQN-CartPole-v1-episode-499.mp4\n",
      "score:  119.0\n",
      "WARNING:tensorflow:Model's `__init__()` arguments contain non-serializable objects. Please implement a `get_config()` method in the subclassed Model for proper saving and loading. Defaulting to empty config.\n",
      "WARNING:tensorflow:Model's `__init__()` arguments contain non-serializable objects. Please implement a `get_config()` method in the subclassed Model for proper saving and loading. Defaulting to empty config.\n",
      "WARNING:tensorflow:Model's `__init__()` arguments contain non-serializable objects. Please implement a `get_config()` method in the subclassed Model for proper saving and loading. Defaulting to empty config.\n",
      "score:  117.0\n",
      "score:  122.0\n",
      "score:  126.0\n",
      "score:  105.0\n",
      "Moviepy - Building video ./videos/RainbowDQN-CartPole-v1/1010/RainbowDQN-CartPole-v1-episode-504.mp4.\n",
      "Moviepy - Writing video ./videos/RainbowDQN-CartPole-v1/1010/RainbowDQN-CartPole-v1-episode-504.mp4\n",
      "\n"
     ]
    },
    {
     "name": "stderr",
     "output_type": "stream",
     "text": [
      "                                                              \r"
     ]
    },
    {
     "name": "stdout",
     "output_type": "stream",
     "text": [
      "Moviepy - Done !\n",
      "Moviepy - video ready ./videos/RainbowDQN-CartPole-v1/1010/RainbowDQN-CartPole-v1-episode-504.mp4\n",
      "score:  122.0\n",
      "WARNING:tensorflow:Model's `__init__()` arguments contain non-serializable objects. Please implement a `get_config()` method in the subclassed Model for proper saving and loading. Defaulting to empty config.\n",
      "WARNING:tensorflow:Model's `__init__()` arguments contain non-serializable objects. Please implement a `get_config()` method in the subclassed Model for proper saving and loading. Defaulting to empty config.\n",
      "WARNING:tensorflow:Model's `__init__()` arguments contain non-serializable objects. Please implement a `get_config()` method in the subclassed Model for proper saving and loading. Defaulting to empty config.\n",
      "score:  113.0\n",
      "score:  117.0\n",
      "score:  141.0\n",
      "score:  111.0\n",
      "Moviepy - Building video ./videos/RainbowDQN-CartPole-v1/1020/RainbowDQN-CartPole-v1-episode-509.mp4.\n",
      "Moviepy - Writing video ./videos/RainbowDQN-CartPole-v1/1020/RainbowDQN-CartPole-v1-episode-509.mp4\n",
      "\n"
     ]
    },
    {
     "name": "stderr",
     "output_type": "stream",
     "text": [
      "                                                              \r"
     ]
    },
    {
     "name": "stdout",
     "output_type": "stream",
     "text": [
      "Moviepy - Done !\n",
      "Moviepy - video ready ./videos/RainbowDQN-CartPole-v1/1020/RainbowDQN-CartPole-v1-episode-509.mp4\n",
      "score:  109.0\n",
      "WARNING:tensorflow:Model's `__init__()` arguments contain non-serializable objects. Please implement a `get_config()` method in the subclassed Model for proper saving and loading. Defaulting to empty config.\n",
      "WARNING:tensorflow:Model's `__init__()` arguments contain non-serializable objects. Please implement a `get_config()` method in the subclassed Model for proper saving and loading. Defaulting to empty config.\n",
      "WARNING:tensorflow:Model's `__init__()` arguments contain non-serializable objects. Please implement a `get_config()` method in the subclassed Model for proper saving and loading. Defaulting to empty config.\n",
      "score:  123.0\n",
      "score:  117.0\n",
      "score:  119.0\n",
      "score:  108.0\n",
      "Moviepy - Building video ./videos/RainbowDQN-CartPole-v1/1030/RainbowDQN-CartPole-v1-episode-514.mp4.\n",
      "Moviepy - Writing video ./videos/RainbowDQN-CartPole-v1/1030/RainbowDQN-CartPole-v1-episode-514.mp4\n",
      "\n"
     ]
    },
    {
     "name": "stderr",
     "output_type": "stream",
     "text": [
      "                                                              \r"
     ]
    },
    {
     "name": "stdout",
     "output_type": "stream",
     "text": [
      "Moviepy - Done !\n",
      "Moviepy - video ready ./videos/RainbowDQN-CartPole-v1/1030/RainbowDQN-CartPole-v1-episode-514.mp4\n",
      "score:  105.0\n",
      "WARNING:tensorflow:Model's `__init__()` arguments contain non-serializable objects. Please implement a `get_config()` method in the subclassed Model for proper saving and loading. Defaulting to empty config.\n",
      "WARNING:tensorflow:Model's `__init__()` arguments contain non-serializable objects. Please implement a `get_config()` method in the subclassed Model for proper saving and loading. Defaulting to empty config.\n",
      "WARNING:tensorflow:Model's `__init__()` arguments contain non-serializable objects. Please implement a `get_config()` method in the subclassed Model for proper saving and loading. Defaulting to empty config.\n",
      "score:  129.0\n",
      "score:  115.0\n",
      "score:  124.0\n",
      "score:  141.0\n",
      "Moviepy - Building video ./videos/RainbowDQN-CartPole-v1/1040/RainbowDQN-CartPole-v1-episode-519.mp4.\n",
      "Moviepy - Writing video ./videos/RainbowDQN-CartPole-v1/1040/RainbowDQN-CartPole-v1-episode-519.mp4\n",
      "\n"
     ]
    },
    {
     "name": "stderr",
     "output_type": "stream",
     "text": [
      "                                                               \r"
     ]
    },
    {
     "name": "stdout",
     "output_type": "stream",
     "text": [
      "Moviepy - Done !\n",
      "Moviepy - video ready ./videos/RainbowDQN-CartPole-v1/1040/RainbowDQN-CartPole-v1-episode-519.mp4\n",
      "score:  123.0\n",
      "WARNING:tensorflow:Model's `__init__()` arguments contain non-serializable objects. Please implement a `get_config()` method in the subclassed Model for proper saving and loading. Defaulting to empty config.\n",
      "WARNING:tensorflow:Model's `__init__()` arguments contain non-serializable objects. Please implement a `get_config()` method in the subclassed Model for proper saving and loading. Defaulting to empty config.\n",
      "WARNING:tensorflow:Model's `__init__()` arguments contain non-serializable objects. Please implement a `get_config()` method in the subclassed Model for proper saving and loading. Defaulting to empty config.\n",
      "score:  116.0\n",
      "score:  115.0\n",
      "score:  114.0\n",
      "score:  108.0\n",
      "Moviepy - Building video ./videos/RainbowDQN-CartPole-v1/1050/RainbowDQN-CartPole-v1-episode-524.mp4.\n",
      "Moviepy - Writing video ./videos/RainbowDQN-CartPole-v1/1050/RainbowDQN-CartPole-v1-episode-524.mp4\n",
      "\n"
     ]
    },
    {
     "name": "stderr",
     "output_type": "stream",
     "text": [
      "                                                              \r"
     ]
    },
    {
     "name": "stdout",
     "output_type": "stream",
     "text": [
      "Moviepy - Done !\n",
      "Moviepy - video ready ./videos/RainbowDQN-CartPole-v1/1050/RainbowDQN-CartPole-v1-episode-524.mp4\n",
      "score:  116.0\n",
      "WARNING:tensorflow:Model's `__init__()` arguments contain non-serializable objects. Please implement a `get_config()` method in the subclassed Model for proper saving and loading. Defaulting to empty config.\n",
      "WARNING:tensorflow:Model's `__init__()` arguments contain non-serializable objects. Please implement a `get_config()` method in the subclassed Model for proper saving and loading. Defaulting to empty config.\n",
      "WARNING:tensorflow:Model's `__init__()` arguments contain non-serializable objects. Please implement a `get_config()` method in the subclassed Model for proper saving and loading. Defaulting to empty config.\n",
      "score:  116.0\n",
      "score:  111.0\n",
      "score:  129.0\n",
      "score:  159.0\n",
      "Moviepy - Building video ./videos/RainbowDQN-CartPole-v1/1060/RainbowDQN-CartPole-v1-episode-529.mp4.\n",
      "Moviepy - Writing video ./videos/RainbowDQN-CartPole-v1/1060/RainbowDQN-CartPole-v1-episode-529.mp4\n",
      "\n"
     ]
    },
    {
     "name": "stderr",
     "output_type": "stream",
     "text": [
      "                                                              \r"
     ]
    },
    {
     "name": "stdout",
     "output_type": "stream",
     "text": [
      "Moviepy - Done !\n",
      "Moviepy - video ready ./videos/RainbowDQN-CartPole-v1/1060/RainbowDQN-CartPole-v1-episode-529.mp4\n",
      "score:  127.0\n",
      "WARNING:tensorflow:Model's `__init__()` arguments contain non-serializable objects. Please implement a `get_config()` method in the subclassed Model for proper saving and loading. Defaulting to empty config.\n",
      "WARNING:tensorflow:Model's `__init__()` arguments contain non-serializable objects. Please implement a `get_config()` method in the subclassed Model for proper saving and loading. Defaulting to empty config.\n",
      "WARNING:tensorflow:Model's `__init__()` arguments contain non-serializable objects. Please implement a `get_config()` method in the subclassed Model for proper saving and loading. Defaulting to empty config.\n",
      "score:  104.0\n",
      "score:  117.0\n",
      "score:  111.0\n",
      "score:  106.0\n",
      "Moviepy - Building video ./videos/RainbowDQN-CartPole-v1/1070/RainbowDQN-CartPole-v1-episode-534.mp4.\n",
      "Moviepy - Writing video ./videos/RainbowDQN-CartPole-v1/1070/RainbowDQN-CartPole-v1-episode-534.mp4\n",
      "\n"
     ]
    },
    {
     "name": "stderr",
     "output_type": "stream",
     "text": [
      "                                                              \r"
     ]
    },
    {
     "name": "stdout",
     "output_type": "stream",
     "text": [
      "Moviepy - Done !\n",
      "Moviepy - video ready ./videos/RainbowDQN-CartPole-v1/1070/RainbowDQN-CartPole-v1-episode-534.mp4\n",
      "score:  119.0\n",
      "WARNING:tensorflow:Model's `__init__()` arguments contain non-serializable objects. Please implement a `get_config()` method in the subclassed Model for proper saving and loading. Defaulting to empty config.\n",
      "WARNING:tensorflow:Model's `__init__()` arguments contain non-serializable objects. Please implement a `get_config()` method in the subclassed Model for proper saving and loading. Defaulting to empty config.\n",
      "WARNING:tensorflow:Model's `__init__()` arguments contain non-serializable objects. Please implement a `get_config()` method in the subclassed Model for proper saving and loading. Defaulting to empty config.\n",
      "score:  114.0\n",
      "score:  124.0\n",
      "score:  115.0\n",
      "score:  123.0\n",
      "Moviepy - Building video ./videos/RainbowDQN-CartPole-v1/1080/RainbowDQN-CartPole-v1-episode-539.mp4.\n",
      "Moviepy - Writing video ./videos/RainbowDQN-CartPole-v1/1080/RainbowDQN-CartPole-v1-episode-539.mp4\n",
      "\n"
     ]
    },
    {
     "name": "stderr",
     "output_type": "stream",
     "text": [
      "                                                              \r"
     ]
    },
    {
     "name": "stdout",
     "output_type": "stream",
     "text": [
      "Moviepy - Done !\n",
      "Moviepy - video ready ./videos/RainbowDQN-CartPole-v1/1080/RainbowDQN-CartPole-v1-episode-539.mp4\n",
      "score:  107.0\n",
      "WARNING:tensorflow:Model's `__init__()` arguments contain non-serializable objects. Please implement a `get_config()` method in the subclassed Model for proper saving and loading. Defaulting to empty config.\n",
      "WARNING:tensorflow:Model's `__init__()` arguments contain non-serializable objects. Please implement a `get_config()` method in the subclassed Model for proper saving and loading. Defaulting to empty config.\n",
      "WARNING:tensorflow:Model's `__init__()` arguments contain non-serializable objects. Please implement a `get_config()` method in the subclassed Model for proper saving and loading. Defaulting to empty config.\n",
      "score:  109.0\n",
      "score:  112.0\n",
      "score:  118.0\n",
      "score:  111.0\n",
      "Moviepy - Building video ./videos/RainbowDQN-CartPole-v1/1090/RainbowDQN-CartPole-v1-episode-544.mp4.\n",
      "Moviepy - Writing video ./videos/RainbowDQN-CartPole-v1/1090/RainbowDQN-CartPole-v1-episode-544.mp4\n",
      "\n"
     ]
    },
    {
     "name": "stderr",
     "output_type": "stream",
     "text": [
      "                                                              \r"
     ]
    },
    {
     "name": "stdout",
     "output_type": "stream",
     "text": [
      "Moviepy - Done !\n",
      "Moviepy - video ready ./videos/RainbowDQN-CartPole-v1/1090/RainbowDQN-CartPole-v1-episode-544.mp4\n",
      "score:  122.0\n",
      "WARNING:tensorflow:Model's `__init__()` arguments contain non-serializable objects. Please implement a `get_config()` method in the subclassed Model for proper saving and loading. Defaulting to empty config.\n",
      "WARNING:tensorflow:Model's `__init__()` arguments contain non-serializable objects. Please implement a `get_config()` method in the subclassed Model for proper saving and loading. Defaulting to empty config.\n",
      "WARNING:tensorflow:Model's `__init__()` arguments contain non-serializable objects. Please implement a `get_config()` method in the subclassed Model for proper saving and loading. Defaulting to empty config.\n",
      "score:  133.0\n",
      "score:  124.0\n",
      "score:  113.0\n",
      "score:  125.0\n",
      "Moviepy - Building video ./videos/RainbowDQN-CartPole-v1/1100/RainbowDQN-CartPole-v1-episode-549.mp4.\n",
      "Moviepy - Writing video ./videos/RainbowDQN-CartPole-v1/1100/RainbowDQN-CartPole-v1-episode-549.mp4\n",
      "\n"
     ]
    },
    {
     "name": "stderr",
     "output_type": "stream",
     "text": [
      "                                                              \r"
     ]
    },
    {
     "name": "stdout",
     "output_type": "stream",
     "text": [
      "Moviepy - Done !\n",
      "Moviepy - video ready ./videos/RainbowDQN-CartPole-v1/1100/RainbowDQN-CartPole-v1-episode-549.mp4\n",
      "score:  116.0\n",
      "WARNING:tensorflow:Model's `__init__()` arguments contain non-serializable objects. Please implement a `get_config()` method in the subclassed Model for proper saving and loading. Defaulting to empty config.\n",
      "WARNING:tensorflow:Model's `__init__()` arguments contain non-serializable objects. Please implement a `get_config()` method in the subclassed Model for proper saving and loading. Defaulting to empty config.\n",
      "WARNING:tensorflow:Model's `__init__()` arguments contain non-serializable objects. Please implement a `get_config()` method in the subclassed Model for proper saving and loading. Defaulting to empty config.\n",
      "score:  121.0\n",
      "score:  119.0\n",
      "score:  117.0\n",
      "score:  109.0\n",
      "Moviepy - Building video ./videos/RainbowDQN-CartPole-v1/1110/RainbowDQN-CartPole-v1-episode-554.mp4.\n",
      "Moviepy - Writing video ./videos/RainbowDQN-CartPole-v1/1110/RainbowDQN-CartPole-v1-episode-554.mp4\n",
      "\n"
     ]
    },
    {
     "name": "stderr",
     "output_type": "stream",
     "text": [
      "                                                              \r"
     ]
    },
    {
     "name": "stdout",
     "output_type": "stream",
     "text": [
      "Moviepy - Done !\n",
      "Moviepy - video ready ./videos/RainbowDQN-CartPole-v1/1110/RainbowDQN-CartPole-v1-episode-554.mp4\n",
      "score:  114.0\n",
      "WARNING:tensorflow:Model's `__init__()` arguments contain non-serializable objects. Please implement a `get_config()` method in the subclassed Model for proper saving and loading. Defaulting to empty config.\n",
      "WARNING:tensorflow:Model's `__init__()` arguments contain non-serializable objects. Please implement a `get_config()` method in the subclassed Model for proper saving and loading. Defaulting to empty config.\n",
      "WARNING:tensorflow:Model's `__init__()` arguments contain non-serializable objects. Please implement a `get_config()` method in the subclassed Model for proper saving and loading. Defaulting to empty config.\n",
      "score:  115.0\n",
      "score:  141.0\n",
      "score:  107.0\n",
      "score:  113.0\n",
      "Moviepy - Building video ./videos/RainbowDQN-CartPole-v1/1120/RainbowDQN-CartPole-v1-episode-559.mp4.\n",
      "Moviepy - Writing video ./videos/RainbowDQN-CartPole-v1/1120/RainbowDQN-CartPole-v1-episode-559.mp4\n",
      "\n"
     ]
    },
    {
     "name": "stderr",
     "output_type": "stream",
     "text": [
      "                                                              \r"
     ]
    },
    {
     "name": "stdout",
     "output_type": "stream",
     "text": [
      "Moviepy - Done !\n",
      "Moviepy - video ready ./videos/RainbowDQN-CartPole-v1/1120/RainbowDQN-CartPole-v1-episode-559.mp4\n",
      "score:  128.0\n",
      "WARNING:tensorflow:Model's `__init__()` arguments contain non-serializable objects. Please implement a `get_config()` method in the subclassed Model for proper saving and loading. Defaulting to empty config.\n",
      "WARNING:tensorflow:Model's `__init__()` arguments contain non-serializable objects. Please implement a `get_config()` method in the subclassed Model for proper saving and loading. Defaulting to empty config.\n",
      "WARNING:tensorflow:Model's `__init__()` arguments contain non-serializable objects. Please implement a `get_config()` method in the subclassed Model for proper saving and loading. Defaulting to empty config.\n",
      "score:  126.0\n",
      "score:  127.0\n",
      "score:  107.0\n",
      "score:  111.0\n",
      "Moviepy - Building video ./videos/RainbowDQN-CartPole-v1/1130/RainbowDQN-CartPole-v1-episode-564.mp4.\n",
      "Moviepy - Writing video ./videos/RainbowDQN-CartPole-v1/1130/RainbowDQN-CartPole-v1-episode-564.mp4\n",
      "\n"
     ]
    },
    {
     "name": "stderr",
     "output_type": "stream",
     "text": [
      "                                                               \r"
     ]
    },
    {
     "name": "stdout",
     "output_type": "stream",
     "text": [
      "Moviepy - Done !\n",
      "Moviepy - video ready ./videos/RainbowDQN-CartPole-v1/1130/RainbowDQN-CartPole-v1-episode-564.mp4\n",
      "score:  121.0\n",
      "WARNING:tensorflow:Model's `__init__()` arguments contain non-serializable objects. Please implement a `get_config()` method in the subclassed Model for proper saving and loading. Defaulting to empty config.\n",
      "WARNING:tensorflow:Model's `__init__()` arguments contain non-serializable objects. Please implement a `get_config()` method in the subclassed Model for proper saving and loading. Defaulting to empty config.\n",
      "WARNING:tensorflow:Model's `__init__()` arguments contain non-serializable objects. Please implement a `get_config()` method in the subclassed Model for proper saving and loading. Defaulting to empty config.\n",
      "score:  115.0\n",
      "score:  121.0\n",
      "score:  117.0\n",
      "score:  130.0\n",
      "Moviepy - Building video ./videos/RainbowDQN-CartPole-v1/1140/RainbowDQN-CartPole-v1-episode-569.mp4.\n",
      "Moviepy - Writing video ./videos/RainbowDQN-CartPole-v1/1140/RainbowDQN-CartPole-v1-episode-569.mp4\n",
      "\n"
     ]
    },
    {
     "name": "stderr",
     "output_type": "stream",
     "text": [
      "                                                              \r"
     ]
    },
    {
     "name": "stdout",
     "output_type": "stream",
     "text": [
      "Moviepy - Done !\n",
      "Moviepy - video ready ./videos/RainbowDQN-CartPole-v1/1140/RainbowDQN-CartPole-v1-episode-569.mp4\n",
      "score:  115.0\n",
      "WARNING:tensorflow:Model's `__init__()` arguments contain non-serializable objects. Please implement a `get_config()` method in the subclassed Model for proper saving and loading. Defaulting to empty config.\n",
      "WARNING:tensorflow:Model's `__init__()` arguments contain non-serializable objects. Please implement a `get_config()` method in the subclassed Model for proper saving and loading. Defaulting to empty config.\n",
      "WARNING:tensorflow:Model's `__init__()` arguments contain non-serializable objects. Please implement a `get_config()` method in the subclassed Model for proper saving and loading. Defaulting to empty config.\n",
      "score:  115.0\n",
      "score:  118.0\n",
      "score:  129.0\n",
      "score:  118.0\n",
      "Moviepy - Building video ./videos/RainbowDQN-CartPole-v1/1150/RainbowDQN-CartPole-v1-episode-574.mp4.\n",
      "Moviepy - Writing video ./videos/RainbowDQN-CartPole-v1/1150/RainbowDQN-CartPole-v1-episode-574.mp4\n",
      "\n"
     ]
    },
    {
     "name": "stderr",
     "output_type": "stream",
     "text": [
      "                                                              \r"
     ]
    },
    {
     "name": "stdout",
     "output_type": "stream",
     "text": [
      "Moviepy - Done !\n",
      "Moviepy - video ready ./videos/RainbowDQN-CartPole-v1/1150/RainbowDQN-CartPole-v1-episode-574.mp4\n",
      "score:  106.0\n",
      "WARNING:tensorflow:Model's `__init__()` arguments contain non-serializable objects. Please implement a `get_config()` method in the subclassed Model for proper saving and loading. Defaulting to empty config.\n",
      "WARNING:tensorflow:Model's `__init__()` arguments contain non-serializable objects. Please implement a `get_config()` method in the subclassed Model for proper saving and loading. Defaulting to empty config.\n",
      "WARNING:tensorflow:Model's `__init__()` arguments contain non-serializable objects. Please implement a `get_config()` method in the subclassed Model for proper saving and loading. Defaulting to empty config.\n",
      "score:  105.0\n",
      "score:  131.0\n",
      "score:  104.0\n",
      "score:  110.0\n",
      "Moviepy - Building video ./videos/RainbowDQN-CartPole-v1/1160/RainbowDQN-CartPole-v1-episode-579.mp4.\n",
      "Moviepy - Writing video ./videos/RainbowDQN-CartPole-v1/1160/RainbowDQN-CartPole-v1-episode-579.mp4\n",
      "\n"
     ]
    },
    {
     "name": "stderr",
     "output_type": "stream",
     "text": [
      "                                                              \r"
     ]
    },
    {
     "name": "stdout",
     "output_type": "stream",
     "text": [
      "Moviepy - Done !\n",
      "Moviepy - video ready ./videos/RainbowDQN-CartPole-v1/1160/RainbowDQN-CartPole-v1-episode-579.mp4\n",
      "score:  111.0\n",
      "WARNING:tensorflow:Model's `__init__()` arguments contain non-serializable objects. Please implement a `get_config()` method in the subclassed Model for proper saving and loading. Defaulting to empty config.\n",
      "WARNING:tensorflow:Model's `__init__()` arguments contain non-serializable objects. Please implement a `get_config()` method in the subclassed Model for proper saving and loading. Defaulting to empty config.\n",
      "WARNING:tensorflow:Model's `__init__()` arguments contain non-serializable objects. Please implement a `get_config()` method in the subclassed Model for proper saving and loading. Defaulting to empty config.\n",
      "score:  127.0\n",
      "score:  150.0\n",
      "score:  117.0\n",
      "score:  111.0\n",
      "Moviepy - Building video ./videos/RainbowDQN-CartPole-v1/1170/RainbowDQN-CartPole-v1-episode-584.mp4.\n",
      "Moviepy - Writing video ./videos/RainbowDQN-CartPole-v1/1170/RainbowDQN-CartPole-v1-episode-584.mp4\n",
      "\n"
     ]
    },
    {
     "name": "stderr",
     "output_type": "stream",
     "text": [
      "                                                              \r"
     ]
    },
    {
     "name": "stdout",
     "output_type": "stream",
     "text": [
      "Moviepy - Done !\n",
      "Moviepy - video ready ./videos/RainbowDQN-CartPole-v1/1170/RainbowDQN-CartPole-v1-episode-584.mp4\n",
      "score:  127.0\n",
      "WARNING:tensorflow:Model's `__init__()` arguments contain non-serializable objects. Please implement a `get_config()` method in the subclassed Model for proper saving and loading. Defaulting to empty config.\n",
      "WARNING:tensorflow:Model's `__init__()` arguments contain non-serializable objects. Please implement a `get_config()` method in the subclassed Model for proper saving and loading. Defaulting to empty config.\n",
      "WARNING:tensorflow:Model's `__init__()` arguments contain non-serializable objects. Please implement a `get_config()` method in the subclassed Model for proper saving and loading. Defaulting to empty config.\n",
      "score:  102.0\n",
      "score:  108.0\n",
      "score:  110.0\n",
      "score:  130.0\n",
      "Moviepy - Building video ./videos/RainbowDQN-CartPole-v1/1180/RainbowDQN-CartPole-v1-episode-589.mp4.\n",
      "Moviepy - Writing video ./videos/RainbowDQN-CartPole-v1/1180/RainbowDQN-CartPole-v1-episode-589.mp4\n",
      "\n"
     ]
    },
    {
     "name": "stderr",
     "output_type": "stream",
     "text": [
      "                                                              \r"
     ]
    },
    {
     "name": "stdout",
     "output_type": "stream",
     "text": [
      "Moviepy - Done !\n",
      "Moviepy - video ready ./videos/RainbowDQN-CartPole-v1/1180/RainbowDQN-CartPole-v1-episode-589.mp4\n",
      "score:  138.0\n",
      "WARNING:tensorflow:Model's `__init__()` arguments contain non-serializable objects. Please implement a `get_config()` method in the subclassed Model for proper saving and loading. Defaulting to empty config.\n",
      "WARNING:tensorflow:Model's `__init__()` arguments contain non-serializable objects. Please implement a `get_config()` method in the subclassed Model for proper saving and loading. Defaulting to empty config.\n",
      "WARNING:tensorflow:Model's `__init__()` arguments contain non-serializable objects. Please implement a `get_config()` method in the subclassed Model for proper saving and loading. Defaulting to empty config.\n",
      "score:  121.0\n",
      "score:  125.0\n",
      "score:  105.0\n",
      "score:  111.0\n",
      "Moviepy - Building video ./videos/RainbowDQN-CartPole-v1/1190/RainbowDQN-CartPole-v1-episode-594.mp4.\n",
      "Moviepy - Writing video ./videos/RainbowDQN-CartPole-v1/1190/RainbowDQN-CartPole-v1-episode-594.mp4\n",
      "\n"
     ]
    },
    {
     "name": "stderr",
     "output_type": "stream",
     "text": [
      "                                                               \r"
     ]
    },
    {
     "name": "stdout",
     "output_type": "stream",
     "text": [
      "Moviepy - Done !\n",
      "Moviepy - video ready ./videos/RainbowDQN-CartPole-v1/1190/RainbowDQN-CartPole-v1-episode-594.mp4\n",
      "score:  123.0\n",
      "WARNING:tensorflow:Model's `__init__()` arguments contain non-serializable objects. Please implement a `get_config()` method in the subclassed Model for proper saving and loading. Defaulting to empty config.\n",
      "WARNING:tensorflow:Model's `__init__()` arguments contain non-serializable objects. Please implement a `get_config()` method in the subclassed Model for proper saving and loading. Defaulting to empty config.\n",
      "WARNING:tensorflow:Model's `__init__()` arguments contain non-serializable objects. Please implement a `get_config()` method in the subclassed Model for proper saving and loading. Defaulting to empty config.\n",
      "score:  122.0\n",
      "score:  116.0\n",
      "score:  115.0\n",
      "score:  105.0\n",
      "Moviepy - Building video ./videos/RainbowDQN-CartPole-v1/1200/RainbowDQN-CartPole-v1-episode-599.mp4.\n",
      "Moviepy - Writing video ./videos/RainbowDQN-CartPole-v1/1200/RainbowDQN-CartPole-v1-episode-599.mp4\n",
      "\n"
     ]
    },
    {
     "name": "stderr",
     "output_type": "stream",
     "text": [
      "                                                               \r"
     ]
    },
    {
     "name": "stdout",
     "output_type": "stream",
     "text": [
      "Moviepy - Done !\n",
      "Moviepy - video ready ./videos/RainbowDQN-CartPole-v1/1200/RainbowDQN-CartPole-v1-episode-599.mp4\n",
      "score:  115.0\n",
      "WARNING:tensorflow:Model's `__init__()` arguments contain non-serializable objects. Please implement a `get_config()` method in the subclassed Model for proper saving and loading. Defaulting to empty config.\n",
      "WARNING:tensorflow:Model's `__init__()` arguments contain non-serializable objects. Please implement a `get_config()` method in the subclassed Model for proper saving and loading. Defaulting to empty config.\n",
      "WARNING:tensorflow:Model's `__init__()` arguments contain non-serializable objects. Please implement a `get_config()` method in the subclassed Model for proper saving and loading. Defaulting to empty config.\n",
      "score:  109.0\n",
      "score:  124.0\n",
      "score:  111.0\n",
      "score:  131.0\n",
      "Moviepy - Building video ./videos/RainbowDQN-CartPole-v1/1210/RainbowDQN-CartPole-v1-episode-604.mp4.\n",
      "Moviepy - Writing video ./videos/RainbowDQN-CartPole-v1/1210/RainbowDQN-CartPole-v1-episode-604.mp4\n",
      "\n"
     ]
    },
    {
     "name": "stderr",
     "output_type": "stream",
     "text": [
      "                                                              \r"
     ]
    },
    {
     "name": "stdout",
     "output_type": "stream",
     "text": [
      "Moviepy - Done !\n",
      "Moviepy - video ready ./videos/RainbowDQN-CartPole-v1/1210/RainbowDQN-CartPole-v1-episode-604.mp4\n",
      "score:  110.0\n",
      "WARNING:tensorflow:Model's `__init__()` arguments contain non-serializable objects. Please implement a `get_config()` method in the subclassed Model for proper saving and loading. Defaulting to empty config.\n",
      "WARNING:tensorflow:Model's `__init__()` arguments contain non-serializable objects. Please implement a `get_config()` method in the subclassed Model for proper saving and loading. Defaulting to empty config.\n",
      "WARNING:tensorflow:Model's `__init__()` arguments contain non-serializable objects. Please implement a `get_config()` method in the subclassed Model for proper saving and loading. Defaulting to empty config.\n",
      "score:  121.0\n",
      "score:  117.0\n",
      "score:  127.0\n",
      "score:  116.0\n",
      "Moviepy - Building video ./videos/RainbowDQN-CartPole-v1/1220/RainbowDQN-CartPole-v1-episode-609.mp4.\n",
      "Moviepy - Writing video ./videos/RainbowDQN-CartPole-v1/1220/RainbowDQN-CartPole-v1-episode-609.mp4\n",
      "\n"
     ]
    },
    {
     "name": "stderr",
     "output_type": "stream",
     "text": [
      "                                                              \r"
     ]
    },
    {
     "name": "stdout",
     "output_type": "stream",
     "text": [
      "Moviepy - Done !\n",
      "Moviepy - video ready ./videos/RainbowDQN-CartPole-v1/1220/RainbowDQN-CartPole-v1-episode-609.mp4\n",
      "score:  112.0\n",
      "WARNING:tensorflow:Model's `__init__()` arguments contain non-serializable objects. Please implement a `get_config()` method in the subclassed Model for proper saving and loading. Defaulting to empty config.\n",
      "WARNING:tensorflow:Model's `__init__()` arguments contain non-serializable objects. Please implement a `get_config()` method in the subclassed Model for proper saving and loading. Defaulting to empty config.\n",
      "WARNING:tensorflow:Model's `__init__()` arguments contain non-serializable objects. Please implement a `get_config()` method in the subclassed Model for proper saving and loading. Defaulting to empty config.\n",
      "score:  110.0\n",
      "score:  111.0\n",
      "score:  111.0\n",
      "score:  142.0\n",
      "Moviepy - Building video ./videos/RainbowDQN-CartPole-v1/1230/RainbowDQN-CartPole-v1-episode-614.mp4.\n",
      "Moviepy - Writing video ./videos/RainbowDQN-CartPole-v1/1230/RainbowDQN-CartPole-v1-episode-614.mp4\n",
      "\n"
     ]
    },
    {
     "name": "stderr",
     "output_type": "stream",
     "text": [
      "                                                              \r"
     ]
    },
    {
     "name": "stdout",
     "output_type": "stream",
     "text": [
      "Moviepy - Done !\n",
      "Moviepy - video ready ./videos/RainbowDQN-CartPole-v1/1230/RainbowDQN-CartPole-v1-episode-614.mp4\n",
      "score:  112.0\n",
      "WARNING:tensorflow:Model's `__init__()` arguments contain non-serializable objects. Please implement a `get_config()` method in the subclassed Model for proper saving and loading. Defaulting to empty config.\n",
      "WARNING:tensorflow:Model's `__init__()` arguments contain non-serializable objects. Please implement a `get_config()` method in the subclassed Model for proper saving and loading. Defaulting to empty config.\n",
      "WARNING:tensorflow:Model's `__init__()` arguments contain non-serializable objects. Please implement a `get_config()` method in the subclassed Model for proper saving and loading. Defaulting to empty config.\n",
      "score:  109.0\n",
      "score:  110.0\n",
      "score:  135.0\n",
      "score:  107.0\n",
      "Moviepy - Building video ./videos/RainbowDQN-CartPole-v1/1240/RainbowDQN-CartPole-v1-episode-619.mp4.\n",
      "Moviepy - Writing video ./videos/RainbowDQN-CartPole-v1/1240/RainbowDQN-CartPole-v1-episode-619.mp4\n",
      "\n"
     ]
    },
    {
     "name": "stderr",
     "output_type": "stream",
     "text": [
      "                                                               \r"
     ]
    },
    {
     "name": "stdout",
     "output_type": "stream",
     "text": [
      "Moviepy - Done !\n",
      "Moviepy - video ready ./videos/RainbowDQN-CartPole-v1/1240/RainbowDQN-CartPole-v1-episode-619.mp4\n",
      "score:  132.0\n",
      "WARNING:tensorflow:Model's `__init__()` arguments contain non-serializable objects. Please implement a `get_config()` method in the subclassed Model for proper saving and loading. Defaulting to empty config.\n",
      "WARNING:tensorflow:Model's `__init__()` arguments contain non-serializable objects. Please implement a `get_config()` method in the subclassed Model for proper saving and loading. Defaulting to empty config.\n",
      "WARNING:tensorflow:Model's `__init__()` arguments contain non-serializable objects. Please implement a `get_config()` method in the subclassed Model for proper saving and loading. Defaulting to empty config.\n",
      "score:  117.0\n",
      "score:  110.0\n",
      "score:  107.0\n",
      "score:  98.0\n",
      "Moviepy - Building video ./videos/RainbowDQN-CartPole-v1/1250/RainbowDQN-CartPole-v1-episode-624.mp4.\n",
      "Moviepy - Writing video ./videos/RainbowDQN-CartPole-v1/1250/RainbowDQN-CartPole-v1-episode-624.mp4\n",
      "\n"
     ]
    },
    {
     "name": "stderr",
     "output_type": "stream",
     "text": [
      "                                                              \r"
     ]
    },
    {
     "name": "stdout",
     "output_type": "stream",
     "text": [
      "Moviepy - Done !\n",
      "Moviepy - video ready ./videos/RainbowDQN-CartPole-v1/1250/RainbowDQN-CartPole-v1-episode-624.mp4\n",
      "score:  104.0\n",
      "WARNING:tensorflow:Model's `__init__()` arguments contain non-serializable objects. Please implement a `get_config()` method in the subclassed Model for proper saving and loading. Defaulting to empty config.\n",
      "WARNING:tensorflow:Model's `__init__()` arguments contain non-serializable objects. Please implement a `get_config()` method in the subclassed Model for proper saving and loading. Defaulting to empty config.\n",
      "WARNING:tensorflow:Model's `__init__()` arguments contain non-serializable objects. Please implement a `get_config()` method in the subclassed Model for proper saving and loading. Defaulting to empty config.\n",
      "score:  121.0\n",
      "score:  117.0\n",
      "score:  112.0\n",
      "score:  104.0\n",
      "Moviepy - Building video ./videos/RainbowDQN-CartPole-v1/1260/RainbowDQN-CartPole-v1-episode-629.mp4.\n",
      "Moviepy - Writing video ./videos/RainbowDQN-CartPole-v1/1260/RainbowDQN-CartPole-v1-episode-629.mp4\n",
      "\n"
     ]
    },
    {
     "name": "stderr",
     "output_type": "stream",
     "text": [
      "                                                              \r"
     ]
    },
    {
     "name": "stdout",
     "output_type": "stream",
     "text": [
      "Moviepy - Done !\n",
      "Moviepy - video ready ./videos/RainbowDQN-CartPole-v1/1260/RainbowDQN-CartPole-v1-episode-629.mp4\n",
      "score:  107.0\n",
      "WARNING:tensorflow:Model's `__init__()` arguments contain non-serializable objects. Please implement a `get_config()` method in the subclassed Model for proper saving and loading. Defaulting to empty config.\n",
      "WARNING:tensorflow:Model's `__init__()` arguments contain non-serializable objects. Please implement a `get_config()` method in the subclassed Model for proper saving and loading. Defaulting to empty config.\n",
      "WARNING:tensorflow:Model's `__init__()` arguments contain non-serializable objects. Please implement a `get_config()` method in the subclassed Model for proper saving and loading. Defaulting to empty config.\n",
      "score:  116.0\n",
      "score:  122.0\n",
      "score:  144.0\n",
      "score:  100.0\n",
      "Moviepy - Building video ./videos/RainbowDQN-CartPole-v1/1270/RainbowDQN-CartPole-v1-episode-634.mp4.\n",
      "Moviepy - Writing video ./videos/RainbowDQN-CartPole-v1/1270/RainbowDQN-CartPole-v1-episode-634.mp4\n",
      "\n"
     ]
    },
    {
     "name": "stderr",
     "output_type": "stream",
     "text": [
      "                                                              \r"
     ]
    },
    {
     "name": "stdout",
     "output_type": "stream",
     "text": [
      "Moviepy - Done !\n",
      "Moviepy - video ready ./videos/RainbowDQN-CartPole-v1/1270/RainbowDQN-CartPole-v1-episode-634.mp4\n",
      "score:  128.0\n",
      "WARNING:tensorflow:Model's `__init__()` arguments contain non-serializable objects. Please implement a `get_config()` method in the subclassed Model for proper saving and loading. Defaulting to empty config.\n",
      "WARNING:tensorflow:Model's `__init__()` arguments contain non-serializable objects. Please implement a `get_config()` method in the subclassed Model for proper saving and loading. Defaulting to empty config.\n",
      "WARNING:tensorflow:Model's `__init__()` arguments contain non-serializable objects. Please implement a `get_config()` method in the subclassed Model for proper saving and loading. Defaulting to empty config.\n",
      "score:  124.0\n",
      "score:  137.0\n",
      "score:  118.0\n",
      "score:  122.0\n",
      "Moviepy - Building video ./videos/RainbowDQN-CartPole-v1/1280/RainbowDQN-CartPole-v1-episode-639.mp4.\n",
      "Moviepy - Writing video ./videos/RainbowDQN-CartPole-v1/1280/RainbowDQN-CartPole-v1-episode-639.mp4\n",
      "\n"
     ]
    },
    {
     "name": "stderr",
     "output_type": "stream",
     "text": [
      "                                                              \r"
     ]
    },
    {
     "name": "stdout",
     "output_type": "stream",
     "text": [
      "Moviepy - Done !\n",
      "Moviepy - video ready ./videos/RainbowDQN-CartPole-v1/1280/RainbowDQN-CartPole-v1-episode-639.mp4\n",
      "score:  122.0\n",
      "WARNING:tensorflow:Model's `__init__()` arguments contain non-serializable objects. Please implement a `get_config()` method in the subclassed Model for proper saving and loading. Defaulting to empty config.\n",
      "WARNING:tensorflow:Model's `__init__()` arguments contain non-serializable objects. Please implement a `get_config()` method in the subclassed Model for proper saving and loading. Defaulting to empty config.\n",
      "WARNING:tensorflow:Model's `__init__()` arguments contain non-serializable objects. Please implement a `get_config()` method in the subclassed Model for proper saving and loading. Defaulting to empty config.\n",
      "score:  120.0\n",
      "score:  122.0\n",
      "score:  122.0\n",
      "score:  118.0\n",
      "Moviepy - Building video ./videos/RainbowDQN-CartPole-v1/1290/RainbowDQN-CartPole-v1-episode-644.mp4.\n",
      "Moviepy - Writing video ./videos/RainbowDQN-CartPole-v1/1290/RainbowDQN-CartPole-v1-episode-644.mp4\n",
      "\n"
     ]
    },
    {
     "name": "stderr",
     "output_type": "stream",
     "text": [
      "                                                              \r"
     ]
    },
    {
     "name": "stdout",
     "output_type": "stream",
     "text": [
      "Moviepy - Done !\n",
      "Moviepy - video ready ./videos/RainbowDQN-CartPole-v1/1290/RainbowDQN-CartPole-v1-episode-644.mp4\n",
      "score:  126.0\n",
      "WARNING:tensorflow:Model's `__init__()` arguments contain non-serializable objects. Please implement a `get_config()` method in the subclassed Model for proper saving and loading. Defaulting to empty config.\n",
      "WARNING:tensorflow:Model's `__init__()` arguments contain non-serializable objects. Please implement a `get_config()` method in the subclassed Model for proper saving and loading. Defaulting to empty config.\n",
      "WARNING:tensorflow:Model's `__init__()` arguments contain non-serializable objects. Please implement a `get_config()` method in the subclassed Model for proper saving and loading. Defaulting to empty config.\n",
      "score:  111.0\n",
      "score:  115.0\n",
      "score:  122.0\n",
      "score:  121.0\n",
      "Moviepy - Building video ./videos/RainbowDQN-CartPole-v1/1300/RainbowDQN-CartPole-v1-episode-649.mp4.\n",
      "Moviepy - Writing video ./videos/RainbowDQN-CartPole-v1/1300/RainbowDQN-CartPole-v1-episode-649.mp4\n",
      "\n"
     ]
    },
    {
     "name": "stderr",
     "output_type": "stream",
     "text": [
      "                                                            \r"
     ]
    },
    {
     "name": "stdout",
     "output_type": "stream",
     "text": [
      "Moviepy - Done !\n",
      "Moviepy - video ready ./videos/RainbowDQN-CartPole-v1/1300/RainbowDQN-CartPole-v1-episode-649.mp4\n",
      "score:  121.0\n",
      "WARNING:tensorflow:Model's `__init__()` arguments contain non-serializable objects. Please implement a `get_config()` method in the subclassed Model for proper saving and loading. Defaulting to empty config.\n",
      "WARNING:tensorflow:Model's `__init__()` arguments contain non-serializable objects. Please implement a `get_config()` method in the subclassed Model for proper saving and loading. Defaulting to empty config.\n",
      "WARNING:tensorflow:Model's `__init__()` arguments contain non-serializable objects. Please implement a `get_config()` method in the subclassed Model for proper saving and loading. Defaulting to empty config.\n",
      "score:  124.0\n",
      "score:  125.0\n",
      "score:  123.0\n",
      "score:  115.0\n",
      "Moviepy - Building video ./videos/RainbowDQN-CartPole-v1/1310/RainbowDQN-CartPole-v1-episode-654.mp4.\n",
      "Moviepy - Writing video ./videos/RainbowDQN-CartPole-v1/1310/RainbowDQN-CartPole-v1-episode-654.mp4\n",
      "\n"
     ]
    },
    {
     "name": "stderr",
     "output_type": "stream",
     "text": [
      "                                                              \r"
     ]
    },
    {
     "name": "stdout",
     "output_type": "stream",
     "text": [
      "Moviepy - Done !\n",
      "Moviepy - video ready ./videos/RainbowDQN-CartPole-v1/1310/RainbowDQN-CartPole-v1-episode-654.mp4\n",
      "score:  135.0\n",
      "WARNING:tensorflow:Model's `__init__()` arguments contain non-serializable objects. Please implement a `get_config()` method in the subclassed Model for proper saving and loading. Defaulting to empty config.\n",
      "WARNING:tensorflow:Model's `__init__()` arguments contain non-serializable objects. Please implement a `get_config()` method in the subclassed Model for proper saving and loading. Defaulting to empty config.\n",
      "WARNING:tensorflow:Model's `__init__()` arguments contain non-serializable objects. Please implement a `get_config()` method in the subclassed Model for proper saving and loading. Defaulting to empty config.\n",
      "score:  113.0\n",
      "score:  112.0\n",
      "score:  122.0\n",
      "score:  124.0\n",
      "Moviepy - Building video ./videos/RainbowDQN-CartPole-v1/1320/RainbowDQN-CartPole-v1-episode-659.mp4.\n",
      "Moviepy - Writing video ./videos/RainbowDQN-CartPole-v1/1320/RainbowDQN-CartPole-v1-episode-659.mp4\n",
      "\n"
     ]
    },
    {
     "name": "stderr",
     "output_type": "stream",
     "text": [
      "                                                              \r"
     ]
    },
    {
     "name": "stdout",
     "output_type": "stream",
     "text": [
      "Moviepy - Done !\n",
      "Moviepy - video ready ./videos/RainbowDQN-CartPole-v1/1320/RainbowDQN-CartPole-v1-episode-659.mp4\n",
      "score:  115.0\n",
      "WARNING:tensorflow:Model's `__init__()` arguments contain non-serializable objects. Please implement a `get_config()` method in the subclassed Model for proper saving and loading. Defaulting to empty config.\n",
      "WARNING:tensorflow:Model's `__init__()` arguments contain non-serializable objects. Please implement a `get_config()` method in the subclassed Model for proper saving and loading. Defaulting to empty config.\n",
      "WARNING:tensorflow:Model's `__init__()` arguments contain non-serializable objects. Please implement a `get_config()` method in the subclassed Model for proper saving and loading. Defaulting to empty config.\n",
      "score:  124.0\n",
      "score:  121.0\n",
      "score:  112.0\n",
      "score:  117.0\n",
      "Moviepy - Building video ./videos/RainbowDQN-CartPole-v1/1330/RainbowDQN-CartPole-v1-episode-664.mp4.\n",
      "Moviepy - Writing video ./videos/RainbowDQN-CartPole-v1/1330/RainbowDQN-CartPole-v1-episode-664.mp4\n",
      "\n"
     ]
    },
    {
     "name": "stderr",
     "output_type": "stream",
     "text": [
      "                                                              \r"
     ]
    },
    {
     "name": "stdout",
     "output_type": "stream",
     "text": [
      "Moviepy - Done !\n",
      "Moviepy - video ready ./videos/RainbowDQN-CartPole-v1/1330/RainbowDQN-CartPole-v1-episode-664.mp4\n",
      "score:  111.0\n",
      "WARNING:tensorflow:Model's `__init__()` arguments contain non-serializable objects. Please implement a `get_config()` method in the subclassed Model for proper saving and loading. Defaulting to empty config.\n",
      "WARNING:tensorflow:Model's `__init__()` arguments contain non-serializable objects. Please implement a `get_config()` method in the subclassed Model for proper saving and loading. Defaulting to empty config.\n",
      "WARNING:tensorflow:Model's `__init__()` arguments contain non-serializable objects. Please implement a `get_config()` method in the subclassed Model for proper saving and loading. Defaulting to empty config.\n",
      "score:  116.0\n",
      "score:  111.0\n",
      "score:  116.0\n",
      "score:  140.0\n",
      "Moviepy - Building video ./videos/RainbowDQN-CartPole-v1/1340/RainbowDQN-CartPole-v1-episode-669.mp4.\n",
      "Moviepy - Writing video ./videos/RainbowDQN-CartPole-v1/1340/RainbowDQN-CartPole-v1-episode-669.mp4\n",
      "\n"
     ]
    },
    {
     "name": "stderr",
     "output_type": "stream",
     "text": [
      "                                                            \r"
     ]
    },
    {
     "name": "stdout",
     "output_type": "stream",
     "text": [
      "Moviepy - Done !\n",
      "Moviepy - video ready ./videos/RainbowDQN-CartPole-v1/1340/RainbowDQN-CartPole-v1-episode-669.mp4\n",
      "score:  111.0\n",
      "WARNING:tensorflow:Model's `__init__()` arguments contain non-serializable objects. Please implement a `get_config()` method in the subclassed Model for proper saving and loading. Defaulting to empty config.\n",
      "WARNING:tensorflow:Model's `__init__()` arguments contain non-serializable objects. Please implement a `get_config()` method in the subclassed Model for proper saving and loading. Defaulting to empty config.\n",
      "WARNING:tensorflow:Model's `__init__()` arguments contain non-serializable objects. Please implement a `get_config()` method in the subclassed Model for proper saving and loading. Defaulting to empty config.\n",
      "score:  120.0\n",
      "score:  110.0\n",
      "score:  117.0\n",
      "score:  121.0\n",
      "Moviepy - Building video ./videos/RainbowDQN-CartPole-v1/1350/RainbowDQN-CartPole-v1-episode-674.mp4.\n",
      "Moviepy - Writing video ./videos/RainbowDQN-CartPole-v1/1350/RainbowDQN-CartPole-v1-episode-674.mp4\n",
      "\n"
     ]
    },
    {
     "name": "stderr",
     "output_type": "stream",
     "text": [
      "                                                               \r"
     ]
    },
    {
     "name": "stdout",
     "output_type": "stream",
     "text": [
      "Moviepy - Done !\n",
      "Moviepy - video ready ./videos/RainbowDQN-CartPole-v1/1350/RainbowDQN-CartPole-v1-episode-674.mp4\n",
      "score:  127.0\n",
      "WARNING:tensorflow:Model's `__init__()` arguments contain non-serializable objects. Please implement a `get_config()` method in the subclassed Model for proper saving and loading. Defaulting to empty config.\n",
      "WARNING:tensorflow:Model's `__init__()` arguments contain non-serializable objects. Please implement a `get_config()` method in the subclassed Model for proper saving and loading. Defaulting to empty config.\n",
      "WARNING:tensorflow:Model's `__init__()` arguments contain non-serializable objects. Please implement a `get_config()` method in the subclassed Model for proper saving and loading. Defaulting to empty config.\n",
      "score:  112.0\n",
      "score:  108.0\n",
      "score:  116.0\n",
      "score:  136.0\n",
      "Moviepy - Building video ./videos/RainbowDQN-CartPole-v1/1360/RainbowDQN-CartPole-v1-episode-679.mp4.\n",
      "Moviepy - Writing video ./videos/RainbowDQN-CartPole-v1/1360/RainbowDQN-CartPole-v1-episode-679.mp4\n",
      "\n"
     ]
    },
    {
     "name": "stderr",
     "output_type": "stream",
     "text": [
      "                                                            \r"
     ]
    },
    {
     "name": "stdout",
     "output_type": "stream",
     "text": [
      "Moviepy - Done !\n",
      "Moviepy - video ready ./videos/RainbowDQN-CartPole-v1/1360/RainbowDQN-CartPole-v1-episode-679.mp4\n",
      "score:  112.0\n",
      "WARNING:tensorflow:Model's `__init__()` arguments contain non-serializable objects. Please implement a `get_config()` method in the subclassed Model for proper saving and loading. Defaulting to empty config.\n",
      "WARNING:tensorflow:Model's `__init__()` arguments contain non-serializable objects. Please implement a `get_config()` method in the subclassed Model for proper saving and loading. Defaulting to empty config.\n",
      "WARNING:tensorflow:Model's `__init__()` arguments contain non-serializable objects. Please implement a `get_config()` method in the subclassed Model for proper saving and loading. Defaulting to empty config.\n",
      "score:  118.0\n",
      "score:  108.0\n",
      "score:  109.0\n",
      "score:  111.0\n",
      "Moviepy - Building video ./videos/RainbowDQN-CartPole-v1/1370/RainbowDQN-CartPole-v1-episode-684.mp4.\n",
      "Moviepy - Writing video ./videos/RainbowDQN-CartPole-v1/1370/RainbowDQN-CartPole-v1-episode-684.mp4\n",
      "\n"
     ]
    },
    {
     "name": "stderr",
     "output_type": "stream",
     "text": [
      "                                                              \r"
     ]
    },
    {
     "name": "stdout",
     "output_type": "stream",
     "text": [
      "Moviepy - Done !\n",
      "Moviepy - video ready ./videos/RainbowDQN-CartPole-v1/1370/RainbowDQN-CartPole-v1-episode-684.mp4\n",
      "score:  109.0\n",
      "WARNING:tensorflow:Model's `__init__()` arguments contain non-serializable objects. Please implement a `get_config()` method in the subclassed Model for proper saving and loading. Defaulting to empty config.\n",
      "WARNING:tensorflow:Model's `__init__()` arguments contain non-serializable objects. Please implement a `get_config()` method in the subclassed Model for proper saving and loading. Defaulting to empty config.\n",
      "WARNING:tensorflow:Model's `__init__()` arguments contain non-serializable objects. Please implement a `get_config()` method in the subclassed Model for proper saving and loading. Defaulting to empty config.\n",
      "score:  119.0\n",
      "score:  125.0\n",
      "score:  123.0\n",
      "score:  107.0\n",
      "Moviepy - Building video ./videos/RainbowDQN-CartPole-v1/1380/RainbowDQN-CartPole-v1-episode-689.mp4.\n",
      "Moviepy - Writing video ./videos/RainbowDQN-CartPole-v1/1380/RainbowDQN-CartPole-v1-episode-689.mp4\n",
      "\n"
     ]
    },
    {
     "name": "stderr",
     "output_type": "stream",
     "text": [
      "                                                              \r"
     ]
    },
    {
     "name": "stdout",
     "output_type": "stream",
     "text": [
      "Moviepy - Done !\n",
      "Moviepy - video ready ./videos/RainbowDQN-CartPole-v1/1380/RainbowDQN-CartPole-v1-episode-689.mp4\n",
      "score:  118.0\n",
      "WARNING:tensorflow:Model's `__init__()` arguments contain non-serializable objects. Please implement a `get_config()` method in the subclassed Model for proper saving and loading. Defaulting to empty config.\n",
      "WARNING:tensorflow:Model's `__init__()` arguments contain non-serializable objects. Please implement a `get_config()` method in the subclassed Model for proper saving and loading. Defaulting to empty config.\n",
      "WARNING:tensorflow:Model's `__init__()` arguments contain non-serializable objects. Please implement a `get_config()` method in the subclassed Model for proper saving and loading. Defaulting to empty config.\n",
      "score:  122.0\n",
      "score:  103.0\n",
      "score:  112.0\n",
      "score:  105.0\n",
      "Moviepy - Building video ./videos/RainbowDQN-CartPole-v1/1390/RainbowDQN-CartPole-v1-episode-694.mp4.\n",
      "Moviepy - Writing video ./videos/RainbowDQN-CartPole-v1/1390/RainbowDQN-CartPole-v1-episode-694.mp4\n",
      "\n"
     ]
    },
    {
     "name": "stderr",
     "output_type": "stream",
     "text": [
      "                                                              \r"
     ]
    },
    {
     "name": "stdout",
     "output_type": "stream",
     "text": [
      "Moviepy - Done !\n",
      "Moviepy - video ready ./videos/RainbowDQN-CartPole-v1/1390/RainbowDQN-CartPole-v1-episode-694.mp4\n",
      "score:  123.0\n",
      "WARNING:tensorflow:Model's `__init__()` arguments contain non-serializable objects. Please implement a `get_config()` method in the subclassed Model for proper saving and loading. Defaulting to empty config.\n",
      "WARNING:tensorflow:Model's `__init__()` arguments contain non-serializable objects. Please implement a `get_config()` method in the subclassed Model for proper saving and loading. Defaulting to empty config.\n",
      "WARNING:tensorflow:Model's `__init__()` arguments contain non-serializable objects. Please implement a `get_config()` method in the subclassed Model for proper saving and loading. Defaulting to empty config.\n",
      "score:  115.0\n",
      "score:  106.0\n",
      "score:  115.0\n",
      "score:  108.0\n",
      "Moviepy - Building video ./videos/RainbowDQN-CartPole-v1/1400/RainbowDQN-CartPole-v1-episode-699.mp4.\n",
      "Moviepy - Writing video ./videos/RainbowDQN-CartPole-v1/1400/RainbowDQN-CartPole-v1-episode-699.mp4\n",
      "\n"
     ]
    },
    {
     "name": "stderr",
     "output_type": "stream",
     "text": [
      "                                                            \r"
     ]
    },
    {
     "name": "stdout",
     "output_type": "stream",
     "text": [
      "Moviepy - Done !\n",
      "Moviepy - video ready ./videos/RainbowDQN-CartPole-v1/1400/RainbowDQN-CartPole-v1-episode-699.mp4\n",
      "score:  108.0\n",
      "WARNING:tensorflow:Model's `__init__()` arguments contain non-serializable objects. Please implement a `get_config()` method in the subclassed Model for proper saving and loading. Defaulting to empty config.\n",
      "WARNING:tensorflow:Model's `__init__()` arguments contain non-serializable objects. Please implement a `get_config()` method in the subclassed Model for proper saving and loading. Defaulting to empty config.\n",
      "WARNING:tensorflow:Model's `__init__()` arguments contain non-serializable objects. Please implement a `get_config()` method in the subclassed Model for proper saving and loading. Defaulting to empty config.\n",
      "score:  108.0\n",
      "score:  104.0\n",
      "score:  115.0\n",
      "score:  122.0\n",
      "Moviepy - Building video ./videos/RainbowDQN-CartPole-v1/1410/RainbowDQN-CartPole-v1-episode-704.mp4.\n",
      "Moviepy - Writing video ./videos/RainbowDQN-CartPole-v1/1410/RainbowDQN-CartPole-v1-episode-704.mp4\n",
      "\n"
     ]
    },
    {
     "name": "stderr",
     "output_type": "stream",
     "text": [
      "                                                              \r"
     ]
    },
    {
     "name": "stdout",
     "output_type": "stream",
     "text": [
      "Moviepy - Done !\n",
      "Moviepy - video ready ./videos/RainbowDQN-CartPole-v1/1410/RainbowDQN-CartPole-v1-episode-704.mp4\n",
      "score:  114.0\n",
      "WARNING:tensorflow:Model's `__init__()` arguments contain non-serializable objects. Please implement a `get_config()` method in the subclassed Model for proper saving and loading. Defaulting to empty config.\n",
      "WARNING:tensorflow:Model's `__init__()` arguments contain non-serializable objects. Please implement a `get_config()` method in the subclassed Model for proper saving and loading. Defaulting to empty config.\n",
      "WARNING:tensorflow:Model's `__init__()` arguments contain non-serializable objects. Please implement a `get_config()` method in the subclassed Model for proper saving and loading. Defaulting to empty config.\n",
      "score:  110.0\n",
      "score:  111.0\n",
      "score:  106.0\n",
      "score:  109.0\n",
      "Moviepy - Building video ./videos/RainbowDQN-CartPole-v1/1420/RainbowDQN-CartPole-v1-episode-709.mp4.\n",
      "Moviepy - Writing video ./videos/RainbowDQN-CartPole-v1/1420/RainbowDQN-CartPole-v1-episode-709.mp4\n",
      "\n"
     ]
    },
    {
     "name": "stderr",
     "output_type": "stream",
     "text": [
      "                                                              \r"
     ]
    },
    {
     "name": "stdout",
     "output_type": "stream",
     "text": [
      "Moviepy - Done !\n",
      "Moviepy - video ready ./videos/RainbowDQN-CartPole-v1/1420/RainbowDQN-CartPole-v1-episode-709.mp4\n",
      "score:  122.0\n",
      "WARNING:tensorflow:Model's `__init__()` arguments contain non-serializable objects. Please implement a `get_config()` method in the subclassed Model for proper saving and loading. Defaulting to empty config.\n",
      "WARNING:tensorflow:Model's `__init__()` arguments contain non-serializable objects. Please implement a `get_config()` method in the subclassed Model for proper saving and loading. Defaulting to empty config.\n",
      "WARNING:tensorflow:Model's `__init__()` arguments contain non-serializable objects. Please implement a `get_config()` method in the subclassed Model for proper saving and loading. Defaulting to empty config.\n",
      "score:  123.0\n",
      "score:  129.0\n",
      "score:  122.0\n",
      "score:  121.0\n",
      "Moviepy - Building video ./videos/RainbowDQN-CartPole-v1/1430/RainbowDQN-CartPole-v1-episode-714.mp4.\n",
      "Moviepy - Writing video ./videos/RainbowDQN-CartPole-v1/1430/RainbowDQN-CartPole-v1-episode-714.mp4\n",
      "\n"
     ]
    },
    {
     "name": "stderr",
     "output_type": "stream",
     "text": [
      "                                                            \r"
     ]
    },
    {
     "name": "stdout",
     "output_type": "stream",
     "text": [
      "Moviepy - Done !\n",
      "Moviepy - video ready ./videos/RainbowDQN-CartPole-v1/1430/RainbowDQN-CartPole-v1-episode-714.mp4\n",
      "score:  122.0\n",
      "WARNING:tensorflow:Model's `__init__()` arguments contain non-serializable objects. Please implement a `get_config()` method in the subclassed Model for proper saving and loading. Defaulting to empty config.\n",
      "WARNING:tensorflow:Model's `__init__()` arguments contain non-serializable objects. Please implement a `get_config()` method in the subclassed Model for proper saving and loading. Defaulting to empty config.\n",
      "WARNING:tensorflow:Model's `__init__()` arguments contain non-serializable objects. Please implement a `get_config()` method in the subclassed Model for proper saving and loading. Defaulting to empty config.\n",
      "score:  107.0\n",
      "score:  113.0\n",
      "score:  118.0\n",
      "score:  116.0\n",
      "Moviepy - Building video ./videos/RainbowDQN-CartPole-v1/1440/RainbowDQN-CartPole-v1-episode-719.mp4.\n",
      "Moviepy - Writing video ./videos/RainbowDQN-CartPole-v1/1440/RainbowDQN-CartPole-v1-episode-719.mp4\n",
      "\n"
     ]
    },
    {
     "name": "stderr",
     "output_type": "stream",
     "text": [
      "                                                              \r"
     ]
    },
    {
     "name": "stdout",
     "output_type": "stream",
     "text": [
      "Moviepy - Done !\n",
      "Moviepy - video ready ./videos/RainbowDQN-CartPole-v1/1440/RainbowDQN-CartPole-v1-episode-719.mp4\n",
      "score:  131.0\n",
      "WARNING:tensorflow:Model's `__init__()` arguments contain non-serializable objects. Please implement a `get_config()` method in the subclassed Model for proper saving and loading. Defaulting to empty config.\n",
      "WARNING:tensorflow:Model's `__init__()` arguments contain non-serializable objects. Please implement a `get_config()` method in the subclassed Model for proper saving and loading. Defaulting to empty config.\n",
      "WARNING:tensorflow:Model's `__init__()` arguments contain non-serializable objects. Please implement a `get_config()` method in the subclassed Model for proper saving and loading. Defaulting to empty config.\n",
      "score:  108.0\n",
      "score:  113.0\n",
      "score:  111.0\n",
      "score:  108.0\n",
      "Moviepy - Building video ./videos/RainbowDQN-CartPole-v1/1450/RainbowDQN-CartPole-v1-episode-724.mp4.\n",
      "Moviepy - Writing video ./videos/RainbowDQN-CartPole-v1/1450/RainbowDQN-CartPole-v1-episode-724.mp4\n",
      "\n"
     ]
    },
    {
     "name": "stderr",
     "output_type": "stream",
     "text": [
      "                                                              \r"
     ]
    },
    {
     "name": "stdout",
     "output_type": "stream",
     "text": [
      "Moviepy - Done !\n",
      "Moviepy - video ready ./videos/RainbowDQN-CartPole-v1/1450/RainbowDQN-CartPole-v1-episode-724.mp4\n",
      "score:  115.0\n",
      "WARNING:tensorflow:Model's `__init__()` arguments contain non-serializable objects. Please implement a `get_config()` method in the subclassed Model for proper saving and loading. Defaulting to empty config.\n",
      "WARNING:tensorflow:Model's `__init__()` arguments contain non-serializable objects. Please implement a `get_config()` method in the subclassed Model for proper saving and loading. Defaulting to empty config.\n",
      "WARNING:tensorflow:Model's `__init__()` arguments contain non-serializable objects. Please implement a `get_config()` method in the subclassed Model for proper saving and loading. Defaulting to empty config.\n",
      "score:  115.0\n",
      "score:  120.0\n",
      "score:  125.0\n",
      "score:  114.0\n",
      "Moviepy - Building video ./videos/RainbowDQN-CartPole-v1/1460/RainbowDQN-CartPole-v1-episode-729.mp4.\n",
      "Moviepy - Writing video ./videos/RainbowDQN-CartPole-v1/1460/RainbowDQN-CartPole-v1-episode-729.mp4\n",
      "\n"
     ]
    },
    {
     "name": "stderr",
     "output_type": "stream",
     "text": [
      "                                                            \r"
     ]
    },
    {
     "name": "stdout",
     "output_type": "stream",
     "text": [
      "Moviepy - Done !\n",
      "Moviepy - video ready ./videos/RainbowDQN-CartPole-v1/1460/RainbowDQN-CartPole-v1-episode-729.mp4\n",
      "score:  114.0\n",
      "WARNING:tensorflow:Model's `__init__()` arguments contain non-serializable objects. Please implement a `get_config()` method in the subclassed Model for proper saving and loading. Defaulting to empty config.\n",
      "WARNING:tensorflow:Model's `__init__()` arguments contain non-serializable objects. Please implement a `get_config()` method in the subclassed Model for proper saving and loading. Defaulting to empty config.\n",
      "WARNING:tensorflow:Model's `__init__()` arguments contain non-serializable objects. Please implement a `get_config()` method in the subclassed Model for proper saving and loading. Defaulting to empty config.\n",
      "score:  117.0\n",
      "score:  129.0\n",
      "score:  127.0\n",
      "score:  114.0\n",
      "Moviepy - Building video ./videos/RainbowDQN-CartPole-v1/1470/RainbowDQN-CartPole-v1-episode-734.mp4.\n",
      "Moviepy - Writing video ./videos/RainbowDQN-CartPole-v1/1470/RainbowDQN-CartPole-v1-episode-734.mp4\n",
      "\n"
     ]
    },
    {
     "name": "stderr",
     "output_type": "stream",
     "text": [
      "                                                              \r"
     ]
    },
    {
     "name": "stdout",
     "output_type": "stream",
     "text": [
      "Moviepy - Done !\n",
      "Moviepy - video ready ./videos/RainbowDQN-CartPole-v1/1470/RainbowDQN-CartPole-v1-episode-734.mp4\n",
      "score:  114.0\n",
      "WARNING:tensorflow:Model's `__init__()` arguments contain non-serializable objects. Please implement a `get_config()` method in the subclassed Model for proper saving and loading. Defaulting to empty config.\n",
      "WARNING:tensorflow:Model's `__init__()` arguments contain non-serializable objects. Please implement a `get_config()` method in the subclassed Model for proper saving and loading. Defaulting to empty config.\n",
      "WARNING:tensorflow:Model's `__init__()` arguments contain non-serializable objects. Please implement a `get_config()` method in the subclassed Model for proper saving and loading. Defaulting to empty config.\n",
      "score:  108.0\n",
      "score:  123.0\n",
      "score:  118.0\n",
      "score:  115.0\n",
      "Moviepy - Building video ./videos/RainbowDQN-CartPole-v1/1480/RainbowDQN-CartPole-v1-episode-739.mp4.\n",
      "Moviepy - Writing video ./videos/RainbowDQN-CartPole-v1/1480/RainbowDQN-CartPole-v1-episode-739.mp4\n",
      "\n"
     ]
    },
    {
     "name": "stderr",
     "output_type": "stream",
     "text": [
      "                                                              \r"
     ]
    },
    {
     "name": "stdout",
     "output_type": "stream",
     "text": [
      "Moviepy - Done !\n",
      "Moviepy - video ready ./videos/RainbowDQN-CartPole-v1/1480/RainbowDQN-CartPole-v1-episode-739.mp4\n",
      "score:  105.0\n",
      "WARNING:tensorflow:Model's `__init__()` arguments contain non-serializable objects. Please implement a `get_config()` method in the subclassed Model for proper saving and loading. Defaulting to empty config.\n",
      "WARNING:tensorflow:Model's `__init__()` arguments contain non-serializable objects. Please implement a `get_config()` method in the subclassed Model for proper saving and loading. Defaulting to empty config.\n",
      "WARNING:tensorflow:Model's `__init__()` arguments contain non-serializable objects. Please implement a `get_config()` method in the subclassed Model for proper saving and loading. Defaulting to empty config.\n",
      "score:  103.0\n",
      "score:  123.0\n",
      "score:  115.0\n",
      "score:  108.0\n",
      "Moviepy - Building video ./videos/RainbowDQN-CartPole-v1/1490/RainbowDQN-CartPole-v1-episode-744.mp4.\n",
      "Moviepy - Writing video ./videos/RainbowDQN-CartPole-v1/1490/RainbowDQN-CartPole-v1-episode-744.mp4\n",
      "\n"
     ]
    },
    {
     "name": "stderr",
     "output_type": "stream",
     "text": [
      "                                                              \r"
     ]
    },
    {
     "name": "stdout",
     "output_type": "stream",
     "text": [
      "Moviepy - Done !\n",
      "Moviepy - video ready ./videos/RainbowDQN-CartPole-v1/1490/RainbowDQN-CartPole-v1-episode-744.mp4\n",
      "score:  105.0\n",
      "WARNING:tensorflow:Model's `__init__()` arguments contain non-serializable objects. Please implement a `get_config()` method in the subclassed Model for proper saving and loading. Defaulting to empty config.\n",
      "WARNING:tensorflow:Model's `__init__()` arguments contain non-serializable objects. Please implement a `get_config()` method in the subclassed Model for proper saving and loading. Defaulting to empty config.\n",
      "WARNING:tensorflow:Model's `__init__()` arguments contain non-serializable objects. Please implement a `get_config()` method in the subclassed Model for proper saving and loading. Defaulting to empty config.\n",
      "score:  109.0\n",
      "score:  125.0\n",
      "score:  113.0\n",
      "score:  115.0\n",
      "Moviepy - Building video ./videos/RainbowDQN-CartPole-v1/1500/RainbowDQN-CartPole-v1-episode-749.mp4.\n",
      "Moviepy - Writing video ./videos/RainbowDQN-CartPole-v1/1500/RainbowDQN-CartPole-v1-episode-749.mp4\n",
      "\n"
     ]
    },
    {
     "name": "stderr",
     "output_type": "stream",
     "text": [
      "                                                              \r"
     ]
    },
    {
     "name": "stdout",
     "output_type": "stream",
     "text": [
      "Moviepy - Done !\n",
      "Moviepy - video ready ./videos/RainbowDQN-CartPole-v1/1500/RainbowDQN-CartPole-v1-episode-749.mp4\n",
      "score:  125.0\n",
      "WARNING:tensorflow:Model's `__init__()` arguments contain non-serializable objects. Please implement a `get_config()` method in the subclassed Model for proper saving and loading. Defaulting to empty config.\n",
      "WARNING:tensorflow:Model's `__init__()` arguments contain non-serializable objects. Please implement a `get_config()` method in the subclassed Model for proper saving and loading. Defaulting to empty config.\n",
      "WARNING:tensorflow:Model's `__init__()` arguments contain non-serializable objects. Please implement a `get_config()` method in the subclassed Model for proper saving and loading. Defaulting to empty config.\n",
      "score:  116.0\n",
      "score:  97.0\n",
      "score:  112.0\n",
      "score:  112.0\n",
      "Moviepy - Building video ./videos/RainbowDQN-CartPole-v1/1510/RainbowDQN-CartPole-v1-episode-754.mp4.\n",
      "Moviepy - Writing video ./videos/RainbowDQN-CartPole-v1/1510/RainbowDQN-CartPole-v1-episode-754.mp4\n",
      "\n"
     ]
    },
    {
     "name": "stderr",
     "output_type": "stream",
     "text": [
      "                                                              \r"
     ]
    },
    {
     "name": "stdout",
     "output_type": "stream",
     "text": [
      "Moviepy - Done !\n",
      "Moviepy - video ready ./videos/RainbowDQN-CartPole-v1/1510/RainbowDQN-CartPole-v1-episode-754.mp4\n",
      "score:  136.0\n",
      "WARNING:tensorflow:Model's `__init__()` arguments contain non-serializable objects. Please implement a `get_config()` method in the subclassed Model for proper saving and loading. Defaulting to empty config.\n",
      "WARNING:tensorflow:Model's `__init__()` arguments contain non-serializable objects. Please implement a `get_config()` method in the subclassed Model for proper saving and loading. Defaulting to empty config.\n",
      "WARNING:tensorflow:Model's `__init__()` arguments contain non-serializable objects. Please implement a `get_config()` method in the subclassed Model for proper saving and loading. Defaulting to empty config.\n",
      "score:  116.0\n",
      "score:  110.0\n",
      "score:  108.0\n",
      "score:  117.0\n",
      "Moviepy - Building video ./videos/RainbowDQN-CartPole-v1/1520/RainbowDQN-CartPole-v1-episode-759.mp4.\n",
      "Moviepy - Writing video ./videos/RainbowDQN-CartPole-v1/1520/RainbowDQN-CartPole-v1-episode-759.mp4\n",
      "\n"
     ]
    },
    {
     "name": "stderr",
     "output_type": "stream",
     "text": [
      "                                                              \r"
     ]
    },
    {
     "name": "stdout",
     "output_type": "stream",
     "text": [
      "Moviepy - Done !\n",
      "Moviepy - video ready ./videos/RainbowDQN-CartPole-v1/1520/RainbowDQN-CartPole-v1-episode-759.mp4\n",
      "score:  108.0\n",
      "WARNING:tensorflow:Model's `__init__()` arguments contain non-serializable objects. Please implement a `get_config()` method in the subclassed Model for proper saving and loading. Defaulting to empty config.\n",
      "WARNING:tensorflow:Model's `__init__()` arguments contain non-serializable objects. Please implement a `get_config()` method in the subclassed Model for proper saving and loading. Defaulting to empty config.\n",
      "WARNING:tensorflow:Model's `__init__()` arguments contain non-serializable objects. Please implement a `get_config()` method in the subclassed Model for proper saving and loading. Defaulting to empty config.\n",
      "score:  103.0\n",
      "score:  111.0\n",
      "score:  108.0\n",
      "score:  141.0\n",
      "Moviepy - Building video ./videos/RainbowDQN-CartPole-v1/1530/RainbowDQN-CartPole-v1-episode-764.mp4.\n",
      "Moviepy - Writing video ./videos/RainbowDQN-CartPole-v1/1530/RainbowDQN-CartPole-v1-episode-764.mp4\n",
      "\n"
     ]
    },
    {
     "name": "stderr",
     "output_type": "stream",
     "text": [
      "                                                              \r"
     ]
    },
    {
     "name": "stdout",
     "output_type": "stream",
     "text": [
      "Moviepy - Done !\n",
      "Moviepy - video ready ./videos/RainbowDQN-CartPole-v1/1530/RainbowDQN-CartPole-v1-episode-764.mp4\n",
      "score:  116.0\n",
      "WARNING:tensorflow:Model's `__init__()` arguments contain non-serializable objects. Please implement a `get_config()` method in the subclassed Model for proper saving and loading. Defaulting to empty config.\n",
      "WARNING:tensorflow:Model's `__init__()` arguments contain non-serializable objects. Please implement a `get_config()` method in the subclassed Model for proper saving and loading. Defaulting to empty config.\n",
      "WARNING:tensorflow:Model's `__init__()` arguments contain non-serializable objects. Please implement a `get_config()` method in the subclassed Model for proper saving and loading. Defaulting to empty config.\n",
      "score:  109.0\n",
      "score:  115.0\n",
      "score:  126.0\n",
      "score:  113.0\n",
      "Moviepy - Building video ./videos/RainbowDQN-CartPole-v1/1540/RainbowDQN-CartPole-v1-episode-769.mp4.\n",
      "Moviepy - Writing video ./videos/RainbowDQN-CartPole-v1/1540/RainbowDQN-CartPole-v1-episode-769.mp4\n",
      "\n"
     ]
    },
    {
     "name": "stderr",
     "output_type": "stream",
     "text": [
      "                                                              \r"
     ]
    },
    {
     "name": "stdout",
     "output_type": "stream",
     "text": [
      "Moviepy - Done !\n",
      "Moviepy - video ready ./videos/RainbowDQN-CartPole-v1/1540/RainbowDQN-CartPole-v1-episode-769.mp4\n",
      "score:  108.0\n",
      "WARNING:tensorflow:Model's `__init__()` arguments contain non-serializable objects. Please implement a `get_config()` method in the subclassed Model for proper saving and loading. Defaulting to empty config.\n",
      "WARNING:tensorflow:Model's `__init__()` arguments contain non-serializable objects. Please implement a `get_config()` method in the subclassed Model for proper saving and loading. Defaulting to empty config.\n",
      "WARNING:tensorflow:Model's `__init__()` arguments contain non-serializable objects. Please implement a `get_config()` method in the subclassed Model for proper saving and loading. Defaulting to empty config.\n",
      "score:  131.0\n",
      "score:  111.0\n",
      "score:  109.0\n",
      "score:  109.0\n",
      "Moviepy - Building video ./videos/RainbowDQN-CartPole-v1/1550/RainbowDQN-CartPole-v1-episode-774.mp4.\n",
      "Moviepy - Writing video ./videos/RainbowDQN-CartPole-v1/1550/RainbowDQN-CartPole-v1-episode-774.mp4\n",
      "\n"
     ]
    },
    {
     "name": "stderr",
     "output_type": "stream",
     "text": [
      "                                                              \r"
     ]
    },
    {
     "name": "stdout",
     "output_type": "stream",
     "text": [
      "Moviepy - Done !\n",
      "Moviepy - video ready ./videos/RainbowDQN-CartPole-v1/1550/RainbowDQN-CartPole-v1-episode-774.mp4\n",
      "score:  121.0\n",
      "WARNING:tensorflow:Model's `__init__()` arguments contain non-serializable objects. Please implement a `get_config()` method in the subclassed Model for proper saving and loading. Defaulting to empty config.\n",
      "WARNING:tensorflow:Model's `__init__()` arguments contain non-serializable objects. Please implement a `get_config()` method in the subclassed Model for proper saving and loading. Defaulting to empty config.\n",
      "WARNING:tensorflow:Model's `__init__()` arguments contain non-serializable objects. Please implement a `get_config()` method in the subclassed Model for proper saving and loading. Defaulting to empty config.\n",
      "score:  124.0\n",
      "score:  123.0\n",
      "score:  105.0\n",
      "score:  134.0\n",
      "Moviepy - Building video ./videos/RainbowDQN-CartPole-v1/1560/RainbowDQN-CartPole-v1-episode-779.mp4.\n",
      "Moviepy - Writing video ./videos/RainbowDQN-CartPole-v1/1560/RainbowDQN-CartPole-v1-episode-779.mp4\n",
      "\n"
     ]
    },
    {
     "name": "stderr",
     "output_type": "stream",
     "text": [
      "                                                              \r"
     ]
    },
    {
     "name": "stdout",
     "output_type": "stream",
     "text": [
      "Moviepy - Done !\n",
      "Moviepy - video ready ./videos/RainbowDQN-CartPole-v1/1560/RainbowDQN-CartPole-v1-episode-779.mp4\n",
      "score:  120.0\n",
      "WARNING:tensorflow:Model's `__init__()` arguments contain non-serializable objects. Please implement a `get_config()` method in the subclassed Model for proper saving and loading. Defaulting to empty config.\n",
      "WARNING:tensorflow:Model's `__init__()` arguments contain non-serializable objects. Please implement a `get_config()` method in the subclassed Model for proper saving and loading. Defaulting to empty config.\n",
      "WARNING:tensorflow:Model's `__init__()` arguments contain non-serializable objects. Please implement a `get_config()` method in the subclassed Model for proper saving and loading. Defaulting to empty config.\n",
      "score:  118.0\n",
      "score:  122.0\n",
      "score:  106.0\n",
      "score:  119.0\n",
      "Moviepy - Building video ./videos/RainbowDQN-CartPole-v1/1570/RainbowDQN-CartPole-v1-episode-784.mp4.\n",
      "Moviepy - Writing video ./videos/RainbowDQN-CartPole-v1/1570/RainbowDQN-CartPole-v1-episode-784.mp4\n",
      "\n"
     ]
    },
    {
     "name": "stderr",
     "output_type": "stream",
     "text": [
      "                                                              \r"
     ]
    },
    {
     "name": "stdout",
     "output_type": "stream",
     "text": [
      "Moviepy - Done !\n",
      "Moviepy - video ready ./videos/RainbowDQN-CartPole-v1/1570/RainbowDQN-CartPole-v1-episode-784.mp4\n",
      "score:  118.0\n",
      "WARNING:tensorflow:Model's `__init__()` arguments contain non-serializable objects. Please implement a `get_config()` method in the subclassed Model for proper saving and loading. Defaulting to empty config.\n",
      "WARNING:tensorflow:Model's `__init__()` arguments contain non-serializable objects. Please implement a `get_config()` method in the subclassed Model for proper saving and loading. Defaulting to empty config.\n",
      "WARNING:tensorflow:Model's `__init__()` arguments contain non-serializable objects. Please implement a `get_config()` method in the subclassed Model for proper saving and loading. Defaulting to empty config.\n",
      "score:  96.0\n",
      "score:  121.0\n",
      "score:  108.0\n",
      "score:  115.0\n",
      "Moviepy - Building video ./videos/RainbowDQN-CartPole-v1/1580/RainbowDQN-CartPole-v1-episode-789.mp4.\n",
      "Moviepy - Writing video ./videos/RainbowDQN-CartPole-v1/1580/RainbowDQN-CartPole-v1-episode-789.mp4\n",
      "\n"
     ]
    },
    {
     "name": "stderr",
     "output_type": "stream",
     "text": [
      "                                                              \r"
     ]
    },
    {
     "name": "stdout",
     "output_type": "stream",
     "text": [
      "Moviepy - Done !\n",
      "Moviepy - video ready ./videos/RainbowDQN-CartPole-v1/1580/RainbowDQN-CartPole-v1-episode-789.mp4\n",
      "score:  122.0\n",
      "WARNING:tensorflow:Model's `__init__()` arguments contain non-serializable objects. Please implement a `get_config()` method in the subclassed Model for proper saving and loading. Defaulting to empty config.\n",
      "WARNING:tensorflow:Model's `__init__()` arguments contain non-serializable objects. Please implement a `get_config()` method in the subclassed Model for proper saving and loading. Defaulting to empty config.\n",
      "WARNING:tensorflow:Model's `__init__()` arguments contain non-serializable objects. Please implement a `get_config()` method in the subclassed Model for proper saving and loading. Defaulting to empty config.\n",
      "score:  117.0\n",
      "score:  115.0\n",
      "score:  112.0\n",
      "score:  112.0\n",
      "Moviepy - Building video ./videos/RainbowDQN-CartPole-v1/1590/RainbowDQN-CartPole-v1-episode-794.mp4.\n",
      "Moviepy - Writing video ./videos/RainbowDQN-CartPole-v1/1590/RainbowDQN-CartPole-v1-episode-794.mp4\n",
      "\n"
     ]
    },
    {
     "name": "stderr",
     "output_type": "stream",
     "text": [
      "                                                              \r"
     ]
    },
    {
     "name": "stdout",
     "output_type": "stream",
     "text": [
      "Moviepy - Done !\n",
      "Moviepy - video ready ./videos/RainbowDQN-CartPole-v1/1590/RainbowDQN-CartPole-v1-episode-794.mp4\n",
      "score:  116.0\n",
      "WARNING:tensorflow:Model's `__init__()` arguments contain non-serializable objects. Please implement a `get_config()` method in the subclassed Model for proper saving and loading. Defaulting to empty config.\n",
      "WARNING:tensorflow:Model's `__init__()` arguments contain non-serializable objects. Please implement a `get_config()` method in the subclassed Model for proper saving and loading. Defaulting to empty config.\n",
      "WARNING:tensorflow:Model's `__init__()` arguments contain non-serializable objects. Please implement a `get_config()` method in the subclassed Model for proper saving and loading. Defaulting to empty config.\n",
      "score:  121.0\n",
      "score:  118.0\n",
      "score:  118.0\n",
      "score:  110.0\n",
      "Moviepy - Building video ./videos/RainbowDQN-CartPole-v1/1600/RainbowDQN-CartPole-v1-episode-799.mp4.\n",
      "Moviepy - Writing video ./videos/RainbowDQN-CartPole-v1/1600/RainbowDQN-CartPole-v1-episode-799.mp4\n",
      "\n"
     ]
    },
    {
     "name": "stderr",
     "output_type": "stream",
     "text": [
      "                                                               \r"
     ]
    },
    {
     "name": "stdout",
     "output_type": "stream",
     "text": [
      "Moviepy - Done !\n",
      "Moviepy - video ready ./videos/RainbowDQN-CartPole-v1/1600/RainbowDQN-CartPole-v1-episode-799.mp4\n",
      "score:  125.0\n",
      "WARNING:tensorflow:Model's `__init__()` arguments contain non-serializable objects. Please implement a `get_config()` method in the subclassed Model for proper saving and loading. Defaulting to empty config.\n",
      "WARNING:tensorflow:Model's `__init__()` arguments contain non-serializable objects. Please implement a `get_config()` method in the subclassed Model for proper saving and loading. Defaulting to empty config.\n",
      "WARNING:tensorflow:Model's `__init__()` arguments contain non-serializable objects. Please implement a `get_config()` method in the subclassed Model for proper saving and loading. Defaulting to empty config.\n",
      "score:  120.0\n",
      "score:  119.0\n",
      "score:  112.0\n",
      "score:  115.0\n",
      "Moviepy - Building video ./videos/RainbowDQN-CartPole-v1/1610/RainbowDQN-CartPole-v1-episode-804.mp4.\n",
      "Moviepy - Writing video ./videos/RainbowDQN-CartPole-v1/1610/RainbowDQN-CartPole-v1-episode-804.mp4\n",
      "\n"
     ]
    },
    {
     "name": "stderr",
     "output_type": "stream",
     "text": [
      "                                                              \r"
     ]
    },
    {
     "name": "stdout",
     "output_type": "stream",
     "text": [
      "Moviepy - Done !\n",
      "Moviepy - video ready ./videos/RainbowDQN-CartPole-v1/1610/RainbowDQN-CartPole-v1-episode-804.mp4\n",
      "score:  118.0\n",
      "WARNING:tensorflow:Model's `__init__()` arguments contain non-serializable objects. Please implement a `get_config()` method in the subclassed Model for proper saving and loading. Defaulting to empty config.\n",
      "WARNING:tensorflow:Model's `__init__()` arguments contain non-serializable objects. Please implement a `get_config()` method in the subclassed Model for proper saving and loading. Defaulting to empty config.\n",
      "WARNING:tensorflow:Model's `__init__()` arguments contain non-serializable objects. Please implement a `get_config()` method in the subclassed Model for proper saving and loading. Defaulting to empty config.\n",
      "score:  123.0\n",
      "score:  121.0\n",
      "score:  112.0\n",
      "score:  118.0\n",
      "Moviepy - Building video ./videos/RainbowDQN-CartPole-v1/1620/RainbowDQN-CartPole-v1-episode-809.mp4.\n",
      "Moviepy - Writing video ./videos/RainbowDQN-CartPole-v1/1620/RainbowDQN-CartPole-v1-episode-809.mp4\n",
      "\n"
     ]
    },
    {
     "name": "stderr",
     "output_type": "stream",
     "text": [
      "                                                              \r"
     ]
    },
    {
     "name": "stdout",
     "output_type": "stream",
     "text": [
      "Moviepy - Done !\n",
      "Moviepy - video ready ./videos/RainbowDQN-CartPole-v1/1620/RainbowDQN-CartPole-v1-episode-809.mp4\n",
      "score:  114.0\n",
      "WARNING:tensorflow:Model's `__init__()` arguments contain non-serializable objects. Please implement a `get_config()` method in the subclassed Model for proper saving and loading. Defaulting to empty config.\n",
      "WARNING:tensorflow:Model's `__init__()` arguments contain non-serializable objects. Please implement a `get_config()` method in the subclassed Model for proper saving and loading. Defaulting to empty config.\n",
      "WARNING:tensorflow:Model's `__init__()` arguments contain non-serializable objects. Please implement a `get_config()` method in the subclassed Model for proper saving and loading. Defaulting to empty config.\n",
      "score:  105.0\n",
      "score:  107.0\n",
      "score:  112.0\n",
      "score:  119.0\n",
      "Moviepy - Building video ./videos/RainbowDQN-CartPole-v1/1630/RainbowDQN-CartPole-v1-episode-814.mp4.\n",
      "Moviepy - Writing video ./videos/RainbowDQN-CartPole-v1/1630/RainbowDQN-CartPole-v1-episode-814.mp4\n",
      "\n"
     ]
    },
    {
     "name": "stderr",
     "output_type": "stream",
     "text": [
      "                                                              \r"
     ]
    },
    {
     "name": "stdout",
     "output_type": "stream",
     "text": [
      "Moviepy - Done !\n",
      "Moviepy - video ready ./videos/RainbowDQN-CartPole-v1/1630/RainbowDQN-CartPole-v1-episode-814.mp4\n",
      "score:  112.0\n",
      "WARNING:tensorflow:Model's `__init__()` arguments contain non-serializable objects. Please implement a `get_config()` method in the subclassed Model for proper saving and loading. Defaulting to empty config.\n",
      "WARNING:tensorflow:Model's `__init__()` arguments contain non-serializable objects. Please implement a `get_config()` method in the subclassed Model for proper saving and loading. Defaulting to empty config.\n",
      "WARNING:tensorflow:Model's `__init__()` arguments contain non-serializable objects. Please implement a `get_config()` method in the subclassed Model for proper saving and loading. Defaulting to empty config.\n",
      "score:  114.0\n",
      "score:  105.0\n",
      "score:  114.0\n",
      "score:  113.0\n",
      "Moviepy - Building video ./videos/RainbowDQN-CartPole-v1/1640/RainbowDQN-CartPole-v1-episode-819.mp4.\n",
      "Moviepy - Writing video ./videos/RainbowDQN-CartPole-v1/1640/RainbowDQN-CartPole-v1-episode-819.mp4\n",
      "\n"
     ]
    },
    {
     "name": "stderr",
     "output_type": "stream",
     "text": [
      "                                                              \r"
     ]
    },
    {
     "name": "stdout",
     "output_type": "stream",
     "text": [
      "Moviepy - Done !\n",
      "Moviepy - video ready ./videos/RainbowDQN-CartPole-v1/1640/RainbowDQN-CartPole-v1-episode-819.mp4\n",
      "score:  105.0\n",
      "WARNING:tensorflow:Model's `__init__()` arguments contain non-serializable objects. Please implement a `get_config()` method in the subclassed Model for proper saving and loading. Defaulting to empty config.\n",
      "WARNING:tensorflow:Model's `__init__()` arguments contain non-serializable objects. Please implement a `get_config()` method in the subclassed Model for proper saving and loading. Defaulting to empty config.\n",
      "WARNING:tensorflow:Model's `__init__()` arguments contain non-serializable objects. Please implement a `get_config()` method in the subclassed Model for proper saving and loading. Defaulting to empty config.\n",
      "score:  122.0\n",
      "score:  114.0\n",
      "score:  119.0\n",
      "score:  111.0\n",
      "Moviepy - Building video ./videos/RainbowDQN-CartPole-v1/1650/RainbowDQN-CartPole-v1-episode-824.mp4.\n",
      "Moviepy - Writing video ./videos/RainbowDQN-CartPole-v1/1650/RainbowDQN-CartPole-v1-episode-824.mp4\n",
      "\n"
     ]
    },
    {
     "name": "stderr",
     "output_type": "stream",
     "text": [
      "                                                              \r"
     ]
    },
    {
     "name": "stdout",
     "output_type": "stream",
     "text": [
      "Moviepy - Done !\n",
      "Moviepy - video ready ./videos/RainbowDQN-CartPole-v1/1650/RainbowDQN-CartPole-v1-episode-824.mp4\n",
      "score:  106.0\n",
      "WARNING:tensorflow:Model's `__init__()` arguments contain non-serializable objects. Please implement a `get_config()` method in the subclassed Model for proper saving and loading. Defaulting to empty config.\n",
      "WARNING:tensorflow:Model's `__init__()` arguments contain non-serializable objects. Please implement a `get_config()` method in the subclassed Model for proper saving and loading. Defaulting to empty config.\n",
      "WARNING:tensorflow:Model's `__init__()` arguments contain non-serializable objects. Please implement a `get_config()` method in the subclassed Model for proper saving and loading. Defaulting to empty config.\n",
      "score:  125.0\n",
      "score:  107.0\n",
      "score:  117.0\n",
      "score:  102.0\n",
      "Moviepy - Building video ./videos/RainbowDQN-CartPole-v1/1660/RainbowDQN-CartPole-v1-episode-829.mp4.\n",
      "Moviepy - Writing video ./videos/RainbowDQN-CartPole-v1/1660/RainbowDQN-CartPole-v1-episode-829.mp4\n",
      "\n"
     ]
    },
    {
     "name": "stderr",
     "output_type": "stream",
     "text": [
      "                                                              \r"
     ]
    },
    {
     "name": "stdout",
     "output_type": "stream",
     "text": [
      "Moviepy - Done !\n",
      "Moviepy - video ready ./videos/RainbowDQN-CartPole-v1/1660/RainbowDQN-CartPole-v1-episode-829.mp4\n",
      "score:  107.0\n",
      "WARNING:tensorflow:Model's `__init__()` arguments contain non-serializable objects. Please implement a `get_config()` method in the subclassed Model for proper saving and loading. Defaulting to empty config.\n",
      "WARNING:tensorflow:Model's `__init__()` arguments contain non-serializable objects. Please implement a `get_config()` method in the subclassed Model for proper saving and loading. Defaulting to empty config.\n",
      "WARNING:tensorflow:Model's `__init__()` arguments contain non-serializable objects. Please implement a `get_config()` method in the subclassed Model for proper saving and loading. Defaulting to empty config.\n",
      "score:  107.0\n",
      "score:  107.0\n",
      "score:  112.0\n",
      "score:  117.0\n",
      "Moviepy - Building video ./videos/RainbowDQN-CartPole-v1/1670/RainbowDQN-CartPole-v1-episode-834.mp4.\n",
      "Moviepy - Writing video ./videos/RainbowDQN-CartPole-v1/1670/RainbowDQN-CartPole-v1-episode-834.mp4\n",
      "\n"
     ]
    },
    {
     "name": "stderr",
     "output_type": "stream",
     "text": [
      "                                                              \r"
     ]
    },
    {
     "name": "stdout",
     "output_type": "stream",
     "text": [
      "Moviepy - Done !\n",
      "Moviepy - video ready ./videos/RainbowDQN-CartPole-v1/1670/RainbowDQN-CartPole-v1-episode-834.mp4\n",
      "score:  104.0\n",
      "WARNING:tensorflow:Model's `__init__()` arguments contain non-serializable objects. Please implement a `get_config()` method in the subclassed Model for proper saving and loading. Defaulting to empty config.\n",
      "WARNING:tensorflow:Model's `__init__()` arguments contain non-serializable objects. Please implement a `get_config()` method in the subclassed Model for proper saving and loading. Defaulting to empty config.\n",
      "WARNING:tensorflow:Model's `__init__()` arguments contain non-serializable objects. Please implement a `get_config()` method in the subclassed Model for proper saving and loading. Defaulting to empty config.\n",
      "score:  109.0\n",
      "score:  115.0\n",
      "score:  122.0\n",
      "score:  116.0\n",
      "Moviepy - Building video ./videos/RainbowDQN-CartPole-v1/1680/RainbowDQN-CartPole-v1-episode-839.mp4.\n",
      "Moviepy - Writing video ./videos/RainbowDQN-CartPole-v1/1680/RainbowDQN-CartPole-v1-episode-839.mp4\n",
      "\n"
     ]
    },
    {
     "name": "stderr",
     "output_type": "stream",
     "text": [
      "                                                               \r"
     ]
    },
    {
     "name": "stdout",
     "output_type": "stream",
     "text": [
      "Moviepy - Done !\n",
      "Moviepy - video ready ./videos/RainbowDQN-CartPole-v1/1680/RainbowDQN-CartPole-v1-episode-839.mp4\n",
      "score:  130.0\n",
      "WARNING:tensorflow:Model's `__init__()` arguments contain non-serializable objects. Please implement a `get_config()` method in the subclassed Model for proper saving and loading. Defaulting to empty config.\n",
      "WARNING:tensorflow:Model's `__init__()` arguments contain non-serializable objects. Please implement a `get_config()` method in the subclassed Model for proper saving and loading. Defaulting to empty config.\n",
      "WARNING:tensorflow:Model's `__init__()` arguments contain non-serializable objects. Please implement a `get_config()` method in the subclassed Model for proper saving and loading. Defaulting to empty config.\n",
      "score:  114.0\n",
      "score:  123.0\n",
      "score:  133.0\n",
      "score:  113.0\n",
      "Moviepy - Building video ./videos/RainbowDQN-CartPole-v1/1690/RainbowDQN-CartPole-v1-episode-844.mp4.\n",
      "Moviepy - Writing video ./videos/RainbowDQN-CartPole-v1/1690/RainbowDQN-CartPole-v1-episode-844.mp4\n",
      "\n"
     ]
    },
    {
     "name": "stderr",
     "output_type": "stream",
     "text": [
      "                                                              \r"
     ]
    },
    {
     "name": "stdout",
     "output_type": "stream",
     "text": [
      "Moviepy - Done !\n",
      "Moviepy - video ready ./videos/RainbowDQN-CartPole-v1/1690/RainbowDQN-CartPole-v1-episode-844.mp4\n",
      "score:  119.0\n",
      "WARNING:tensorflow:Model's `__init__()` arguments contain non-serializable objects. Please implement a `get_config()` method in the subclassed Model for proper saving and loading. Defaulting to empty config.\n",
      "WARNING:tensorflow:Model's `__init__()` arguments contain non-serializable objects. Please implement a `get_config()` method in the subclassed Model for proper saving and loading. Defaulting to empty config.\n",
      "WARNING:tensorflow:Model's `__init__()` arguments contain non-serializable objects. Please implement a `get_config()` method in the subclassed Model for proper saving and loading. Defaulting to empty config.\n",
      "score:  107.0\n",
      "score:  141.0\n",
      "score:  125.0\n",
      "score:  114.0\n",
      "Moviepy - Building video ./videos/RainbowDQN-CartPole-v1/1700/RainbowDQN-CartPole-v1-episode-849.mp4.\n",
      "Moviepy - Writing video ./videos/RainbowDQN-CartPole-v1/1700/RainbowDQN-CartPole-v1-episode-849.mp4\n",
      "\n"
     ]
    },
    {
     "name": "stderr",
     "output_type": "stream",
     "text": [
      "                                                              \r"
     ]
    },
    {
     "name": "stdout",
     "output_type": "stream",
     "text": [
      "Moviepy - Done !\n",
      "Moviepy - video ready ./videos/RainbowDQN-CartPole-v1/1700/RainbowDQN-CartPole-v1-episode-849.mp4\n",
      "score:  122.0\n",
      "WARNING:tensorflow:Model's `__init__()` arguments contain non-serializable objects. Please implement a `get_config()` method in the subclassed Model for proper saving and loading. Defaulting to empty config.\n",
      "WARNING:tensorflow:Model's `__init__()` arguments contain non-serializable objects. Please implement a `get_config()` method in the subclassed Model for proper saving and loading. Defaulting to empty config.\n",
      "WARNING:tensorflow:Model's `__init__()` arguments contain non-serializable objects. Please implement a `get_config()` method in the subclassed Model for proper saving and loading. Defaulting to empty config.\n",
      "score:  120.0\n",
      "score:  111.0\n",
      "score:  116.0\n",
      "score:  122.0\n",
      "Moviepy - Building video ./videos/RainbowDQN-CartPole-v1/1710/RainbowDQN-CartPole-v1-episode-854.mp4.\n",
      "Moviepy - Writing video ./videos/RainbowDQN-CartPole-v1/1710/RainbowDQN-CartPole-v1-episode-854.mp4\n",
      "\n"
     ]
    },
    {
     "name": "stderr",
     "output_type": "stream",
     "text": [
      "                                                             \r"
     ]
    },
    {
     "name": "stdout",
     "output_type": "stream",
     "text": [
      "Moviepy - Done !\n",
      "Moviepy - video ready ./videos/RainbowDQN-CartPole-v1/1710/RainbowDQN-CartPole-v1-episode-854.mp4\n",
      "score:  115.0\n",
      "WARNING:tensorflow:Model's `__init__()` arguments contain non-serializable objects. Please implement a `get_config()` method in the subclassed Model for proper saving and loading. Defaulting to empty config.\n",
      "WARNING:tensorflow:Model's `__init__()` arguments contain non-serializable objects. Please implement a `get_config()` method in the subclassed Model for proper saving and loading. Defaulting to empty config.\n",
      "WARNING:tensorflow:Model's `__init__()` arguments contain non-serializable objects. Please implement a `get_config()` method in the subclassed Model for proper saving and loading. Defaulting to empty config.\n",
      "score:  115.0\n",
      "score:  121.0\n",
      "score:  121.0\n",
      "score:  116.0\n",
      "Moviepy - Building video ./videos/RainbowDQN-CartPole-v1/1720/RainbowDQN-CartPole-v1-episode-859.mp4.\n",
      "Moviepy - Writing video ./videos/RainbowDQN-CartPole-v1/1720/RainbowDQN-CartPole-v1-episode-859.mp4\n",
      "\n"
     ]
    },
    {
     "name": "stderr",
     "output_type": "stream",
     "text": [
      "                                                              \r"
     ]
    },
    {
     "name": "stdout",
     "output_type": "stream",
     "text": [
      "Moviepy - Done !\n",
      "Moviepy - video ready ./videos/RainbowDQN-CartPole-v1/1720/RainbowDQN-CartPole-v1-episode-859.mp4\n",
      "score:  110.0\n",
      "WARNING:tensorflow:Model's `__init__()` arguments contain non-serializable objects. Please implement a `get_config()` method in the subclassed Model for proper saving and loading. Defaulting to empty config.\n",
      "WARNING:tensorflow:Model's `__init__()` arguments contain non-serializable objects. Please implement a `get_config()` method in the subclassed Model for proper saving and loading. Defaulting to empty config.\n",
      "WARNING:tensorflow:Model's `__init__()` arguments contain non-serializable objects. Please implement a `get_config()` method in the subclassed Model for proper saving and loading. Defaulting to empty config.\n",
      "score:  114.0\n",
      "score:  115.0\n",
      "score:  124.0\n",
      "score:  126.0\n",
      "Moviepy - Building video ./videos/RainbowDQN-CartPole-v1/1730/RainbowDQN-CartPole-v1-episode-864.mp4.\n",
      "Moviepy - Writing video ./videos/RainbowDQN-CartPole-v1/1730/RainbowDQN-CartPole-v1-episode-864.mp4\n",
      "\n"
     ]
    },
    {
     "name": "stderr",
     "output_type": "stream",
     "text": [
      "                                                            \r"
     ]
    },
    {
     "name": "stdout",
     "output_type": "stream",
     "text": [
      "Moviepy - Done !\n",
      "Moviepy - video ready ./videos/RainbowDQN-CartPole-v1/1730/RainbowDQN-CartPole-v1-episode-864.mp4\n",
      "score:  114.0\n",
      "WARNING:tensorflow:Model's `__init__()` arguments contain non-serializable objects. Please implement a `get_config()` method in the subclassed Model for proper saving and loading. Defaulting to empty config.\n",
      "WARNING:tensorflow:Model's `__init__()` arguments contain non-serializable objects. Please implement a `get_config()` method in the subclassed Model for proper saving and loading. Defaulting to empty config.\n",
      "WARNING:tensorflow:Model's `__init__()` arguments contain non-serializable objects. Please implement a `get_config()` method in the subclassed Model for proper saving and loading. Defaulting to empty config.\n",
      "score:  122.0\n",
      "score:  122.0\n",
      "score:  131.0\n",
      "score:  128.0\n",
      "Moviepy - Building video ./videos/RainbowDQN-CartPole-v1/1740/RainbowDQN-CartPole-v1-episode-869.mp4.\n",
      "Moviepy - Writing video ./videos/RainbowDQN-CartPole-v1/1740/RainbowDQN-CartPole-v1-episode-869.mp4\n",
      "\n"
     ]
    },
    {
     "name": "stderr",
     "output_type": "stream",
     "text": [
      "                                                              \r"
     ]
    },
    {
     "name": "stdout",
     "output_type": "stream",
     "text": [
      "Moviepy - Done !\n",
      "Moviepy - video ready ./videos/RainbowDQN-CartPole-v1/1740/RainbowDQN-CartPole-v1-episode-869.mp4\n",
      "score:  144.0\n",
      "WARNING:tensorflow:Model's `__init__()` arguments contain non-serializable objects. Please implement a `get_config()` method in the subclassed Model for proper saving and loading. Defaulting to empty config.\n",
      "WARNING:tensorflow:Model's `__init__()` arguments contain non-serializable objects. Please implement a `get_config()` method in the subclassed Model for proper saving and loading. Defaulting to empty config.\n",
      "WARNING:tensorflow:Model's `__init__()` arguments contain non-serializable objects. Please implement a `get_config()` method in the subclassed Model for proper saving and loading. Defaulting to empty config.\n",
      "score:  112.0\n",
      "score:  109.0\n",
      "score:  121.0\n",
      "score:  113.0\n",
      "Moviepy - Building video ./videos/RainbowDQN-CartPole-v1/1750/RainbowDQN-CartPole-v1-episode-874.mp4.\n",
      "Moviepy - Writing video ./videos/RainbowDQN-CartPole-v1/1750/RainbowDQN-CartPole-v1-episode-874.mp4\n",
      "\n"
     ]
    },
    {
     "name": "stderr",
     "output_type": "stream",
     "text": [
      "                                                            \r"
     ]
    },
    {
     "name": "stdout",
     "output_type": "stream",
     "text": [
      "Moviepy - Done !\n",
      "Moviepy - video ready ./videos/RainbowDQN-CartPole-v1/1750/RainbowDQN-CartPole-v1-episode-874.mp4\n",
      "score:  110.0\n",
      "WARNING:tensorflow:Model's `__init__()` arguments contain non-serializable objects. Please implement a `get_config()` method in the subclassed Model for proper saving and loading. Defaulting to empty config.\n",
      "WARNING:tensorflow:Model's `__init__()` arguments contain non-serializable objects. Please implement a `get_config()` method in the subclassed Model for proper saving and loading. Defaulting to empty config.\n",
      "WARNING:tensorflow:Model's `__init__()` arguments contain non-serializable objects. Please implement a `get_config()` method in the subclassed Model for proper saving and loading. Defaulting to empty config.\n",
      "score:  128.0\n",
      "score:  110.0\n",
      "score:  109.0\n",
      "score:  114.0\n",
      "Moviepy - Building video ./videos/RainbowDQN-CartPole-v1/1760/RainbowDQN-CartPole-v1-episode-879.mp4.\n",
      "Moviepy - Writing video ./videos/RainbowDQN-CartPole-v1/1760/RainbowDQN-CartPole-v1-episode-879.mp4\n",
      "\n"
     ]
    },
    {
     "name": "stderr",
     "output_type": "stream",
     "text": [
      "                                                              \r"
     ]
    },
    {
     "name": "stdout",
     "output_type": "stream",
     "text": [
      "Moviepy - Done !\n",
      "Moviepy - video ready ./videos/RainbowDQN-CartPole-v1/1760/RainbowDQN-CartPole-v1-episode-879.mp4\n",
      "score:  121.0\n",
      "WARNING:tensorflow:Model's `__init__()` arguments contain non-serializable objects. Please implement a `get_config()` method in the subclassed Model for proper saving and loading. Defaulting to empty config.\n",
      "WARNING:tensorflow:Model's `__init__()` arguments contain non-serializable objects. Please implement a `get_config()` method in the subclassed Model for proper saving and loading. Defaulting to empty config.\n",
      "WARNING:tensorflow:Model's `__init__()` arguments contain non-serializable objects. Please implement a `get_config()` method in the subclassed Model for proper saving and loading. Defaulting to empty config.\n",
      "score:  139.0\n",
      "score:  115.0\n",
      "score:  109.0\n",
      "score:  113.0\n",
      "Moviepy - Building video ./videos/RainbowDQN-CartPole-v1/1770/RainbowDQN-CartPole-v1-episode-884.mp4.\n",
      "Moviepy - Writing video ./videos/RainbowDQN-CartPole-v1/1770/RainbowDQN-CartPole-v1-episode-884.mp4\n",
      "\n"
     ]
    },
    {
     "name": "stderr",
     "output_type": "stream",
     "text": [
      "                                                               \r"
     ]
    },
    {
     "name": "stdout",
     "output_type": "stream",
     "text": [
      "Moviepy - Done !\n",
      "Moviepy - video ready ./videos/RainbowDQN-CartPole-v1/1770/RainbowDQN-CartPole-v1-episode-884.mp4\n",
      "score:  112.0\n",
      "WARNING:tensorflow:Model's `__init__()` arguments contain non-serializable objects. Please implement a `get_config()` method in the subclassed Model for proper saving and loading. Defaulting to empty config.\n",
      "WARNING:tensorflow:Model's `__init__()` arguments contain non-serializable objects. Please implement a `get_config()` method in the subclassed Model for proper saving and loading. Defaulting to empty config.\n",
      "WARNING:tensorflow:Model's `__init__()` arguments contain non-serializable objects. Please implement a `get_config()` method in the subclassed Model for proper saving and loading. Defaulting to empty config.\n",
      "score:  118.0\n",
      "score:  120.0\n",
      "score:  129.0\n",
      "score:  123.0\n",
      "Moviepy - Building video ./videos/RainbowDQN-CartPole-v1/1780/RainbowDQN-CartPole-v1-episode-889.mp4.\n",
      "Moviepy - Writing video ./videos/RainbowDQN-CartPole-v1/1780/RainbowDQN-CartPole-v1-episode-889.mp4\n",
      "\n"
     ]
    },
    {
     "name": "stderr",
     "output_type": "stream",
     "text": [
      "                                                               \r"
     ]
    },
    {
     "name": "stdout",
     "output_type": "stream",
     "text": [
      "Moviepy - Done !\n",
      "Moviepy - video ready ./videos/RainbowDQN-CartPole-v1/1780/RainbowDQN-CartPole-v1-episode-889.mp4\n",
      "score:  115.0\n",
      "WARNING:tensorflow:Model's `__init__()` arguments contain non-serializable objects. Please implement a `get_config()` method in the subclassed Model for proper saving and loading. Defaulting to empty config.\n",
      "WARNING:tensorflow:Model's `__init__()` arguments contain non-serializable objects. Please implement a `get_config()` method in the subclassed Model for proper saving and loading. Defaulting to empty config.\n",
      "WARNING:tensorflow:Model's `__init__()` arguments contain non-serializable objects. Please implement a `get_config()` method in the subclassed Model for proper saving and loading. Defaulting to empty config.\n",
      "score:  114.0\n",
      "score:  116.0\n",
      "score:  115.0\n",
      "score:  114.0\n",
      "Moviepy - Building video ./videos/RainbowDQN-CartPole-v1/1790/RainbowDQN-CartPole-v1-episode-894.mp4.\n",
      "Moviepy - Writing video ./videos/RainbowDQN-CartPole-v1/1790/RainbowDQN-CartPole-v1-episode-894.mp4\n",
      "\n"
     ]
    },
    {
     "name": "stderr",
     "output_type": "stream",
     "text": [
      "                                                            \r"
     ]
    },
    {
     "name": "stdout",
     "output_type": "stream",
     "text": [
      "Moviepy - Done !\n",
      "Moviepy - video ready ./videos/RainbowDQN-CartPole-v1/1790/RainbowDQN-CartPole-v1-episode-894.mp4\n",
      "score:  116.0\n",
      "WARNING:tensorflow:Model's `__init__()` arguments contain non-serializable objects. Please implement a `get_config()` method in the subclassed Model for proper saving and loading. Defaulting to empty config.\n",
      "WARNING:tensorflow:Model's `__init__()` arguments contain non-serializable objects. Please implement a `get_config()` method in the subclassed Model for proper saving and loading. Defaulting to empty config.\n",
      "WARNING:tensorflow:Model's `__init__()` arguments contain non-serializable objects. Please implement a `get_config()` method in the subclassed Model for proper saving and loading. Defaulting to empty config.\n",
      "score:  107.0\n",
      "score:  117.0\n",
      "score:  113.0\n",
      "score:  109.0\n",
      "Moviepy - Building video ./videos/RainbowDQN-CartPole-v1/1800/RainbowDQN-CartPole-v1-episode-899.mp4.\n",
      "Moviepy - Writing video ./videos/RainbowDQN-CartPole-v1/1800/RainbowDQN-CartPole-v1-episode-899.mp4\n",
      "\n"
     ]
    },
    {
     "name": "stderr",
     "output_type": "stream",
     "text": [
      "                                                              \r"
     ]
    },
    {
     "name": "stdout",
     "output_type": "stream",
     "text": [
      "Moviepy - Done !\n",
      "Moviepy - video ready ./videos/RainbowDQN-CartPole-v1/1800/RainbowDQN-CartPole-v1-episode-899.mp4\n",
      "score:  108.0\n",
      "WARNING:tensorflow:Model's `__init__()` arguments contain non-serializable objects. Please implement a `get_config()` method in the subclassed Model for proper saving and loading. Defaulting to empty config.\n",
      "WARNING:tensorflow:Model's `__init__()` arguments contain non-serializable objects. Please implement a `get_config()` method in the subclassed Model for proper saving and loading. Defaulting to empty config.\n",
      "WARNING:tensorflow:Model's `__init__()` arguments contain non-serializable objects. Please implement a `get_config()` method in the subclassed Model for proper saving and loading. Defaulting to empty config.\n",
      "score:  117.0\n",
      "score:  118.0\n",
      "score:  114.0\n",
      "score:  121.0\n",
      "Moviepy - Building video ./videos/RainbowDQN-CartPole-v1/1810/RainbowDQN-CartPole-v1-episode-904.mp4.\n",
      "Moviepy - Writing video ./videos/RainbowDQN-CartPole-v1/1810/RainbowDQN-CartPole-v1-episode-904.mp4\n",
      "\n"
     ]
    },
    {
     "name": "stderr",
     "output_type": "stream",
     "text": [
      "                                                              \r"
     ]
    },
    {
     "name": "stdout",
     "output_type": "stream",
     "text": [
      "Moviepy - Done !\n",
      "Moviepy - video ready ./videos/RainbowDQN-CartPole-v1/1810/RainbowDQN-CartPole-v1-episode-904.mp4\n",
      "score:  120.0\n",
      "WARNING:tensorflow:Model's `__init__()` arguments contain non-serializable objects. Please implement a `get_config()` method in the subclassed Model for proper saving and loading. Defaulting to empty config.\n",
      "WARNING:tensorflow:Model's `__init__()` arguments contain non-serializable objects. Please implement a `get_config()` method in the subclassed Model for proper saving and loading. Defaulting to empty config.\n",
      "WARNING:tensorflow:Model's `__init__()` arguments contain non-serializable objects. Please implement a `get_config()` method in the subclassed Model for proper saving and loading. Defaulting to empty config.\n",
      "score:  113.0\n",
      "score:  118.0\n",
      "score:  116.0\n",
      "score:  124.0\n",
      "Moviepy - Building video ./videos/RainbowDQN-CartPole-v1/1820/RainbowDQN-CartPole-v1-episode-909.mp4.\n",
      "Moviepy - Writing video ./videos/RainbowDQN-CartPole-v1/1820/RainbowDQN-CartPole-v1-episode-909.mp4\n",
      "\n"
     ]
    },
    {
     "name": "stderr",
     "output_type": "stream",
     "text": [
      "                                                              \r"
     ]
    },
    {
     "name": "stdout",
     "output_type": "stream",
     "text": [
      "Moviepy - Done !\n",
      "Moviepy - video ready ./videos/RainbowDQN-CartPole-v1/1820/RainbowDQN-CartPole-v1-episode-909.mp4\n",
      "score:  124.0\n",
      "WARNING:tensorflow:Model's `__init__()` arguments contain non-serializable objects. Please implement a `get_config()` method in the subclassed Model for proper saving and loading. Defaulting to empty config.\n",
      "WARNING:tensorflow:Model's `__init__()` arguments contain non-serializable objects. Please implement a `get_config()` method in the subclassed Model for proper saving and loading. Defaulting to empty config.\n",
      "WARNING:tensorflow:Model's `__init__()` arguments contain non-serializable objects. Please implement a `get_config()` method in the subclassed Model for proper saving and loading. Defaulting to empty config.\n",
      "score:  110.0\n",
      "score:  121.0\n",
      "score:  120.0\n",
      "score:  123.0\n",
      "Moviepy - Building video ./videos/RainbowDQN-CartPole-v1/1830/RainbowDQN-CartPole-v1-episode-914.mp4.\n",
      "Moviepy - Writing video ./videos/RainbowDQN-CartPole-v1/1830/RainbowDQN-CartPole-v1-episode-914.mp4\n",
      "\n"
     ]
    },
    {
     "name": "stderr",
     "output_type": "stream",
     "text": [
      "                                                              \r"
     ]
    },
    {
     "name": "stdout",
     "output_type": "stream",
     "text": [
      "Moviepy - Done !\n",
      "Moviepy - video ready ./videos/RainbowDQN-CartPole-v1/1830/RainbowDQN-CartPole-v1-episode-914.mp4\n",
      "score:  111.0\n",
      "WARNING:tensorflow:Model's `__init__()` arguments contain non-serializable objects. Please implement a `get_config()` method in the subclassed Model for proper saving and loading. Defaulting to empty config.\n",
      "WARNING:tensorflow:Model's `__init__()` arguments contain non-serializable objects. Please implement a `get_config()` method in the subclassed Model for proper saving and loading. Defaulting to empty config.\n",
      "WARNING:tensorflow:Model's `__init__()` arguments contain non-serializable objects. Please implement a `get_config()` method in the subclassed Model for proper saving and loading. Defaulting to empty config.\n",
      "score:  120.0\n",
      "score:  122.0\n",
      "score:  122.0\n",
      "score:  128.0\n",
      "Moviepy - Building video ./videos/RainbowDQN-CartPole-v1/1840/RainbowDQN-CartPole-v1-episode-919.mp4.\n",
      "Moviepy - Writing video ./videos/RainbowDQN-CartPole-v1/1840/RainbowDQN-CartPole-v1-episode-919.mp4\n",
      "\n"
     ]
    },
    {
     "name": "stderr",
     "output_type": "stream",
     "text": [
      "                                                              \r"
     ]
    },
    {
     "name": "stdout",
     "output_type": "stream",
     "text": [
      "Moviepy - Done !\n",
      "Moviepy - video ready ./videos/RainbowDQN-CartPole-v1/1840/RainbowDQN-CartPole-v1-episode-919.mp4\n",
      "score:  122.0\n",
      "WARNING:tensorflow:Model's `__init__()` arguments contain non-serializable objects. Please implement a `get_config()` method in the subclassed Model for proper saving and loading. Defaulting to empty config.\n",
      "WARNING:tensorflow:Model's `__init__()` arguments contain non-serializable objects. Please implement a `get_config()` method in the subclassed Model for proper saving and loading. Defaulting to empty config.\n",
      "WARNING:tensorflow:Model's `__init__()` arguments contain non-serializable objects. Please implement a `get_config()` method in the subclassed Model for proper saving and loading. Defaulting to empty config.\n",
      "score:  125.0\n",
      "score:  122.0\n",
      "score:  109.0\n",
      "score:  123.0\n",
      "Moviepy - Building video ./videos/RainbowDQN-CartPole-v1/1850/RainbowDQN-CartPole-v1-episode-924.mp4.\n",
      "Moviepy - Writing video ./videos/RainbowDQN-CartPole-v1/1850/RainbowDQN-CartPole-v1-episode-924.mp4\n",
      "\n"
     ]
    },
    {
     "name": "stderr",
     "output_type": "stream",
     "text": [
      "                                                            \r"
     ]
    },
    {
     "name": "stdout",
     "output_type": "stream",
     "text": [
      "Moviepy - Done !\n",
      "Moviepy - video ready ./videos/RainbowDQN-CartPole-v1/1850/RainbowDQN-CartPole-v1-episode-924.mp4\n",
      "score:  116.0\n",
      "WARNING:tensorflow:Model's `__init__()` arguments contain non-serializable objects. Please implement a `get_config()` method in the subclassed Model for proper saving and loading. Defaulting to empty config.\n",
      "WARNING:tensorflow:Model's `__init__()` arguments contain non-serializable objects. Please implement a `get_config()` method in the subclassed Model for proper saving and loading. Defaulting to empty config.\n",
      "WARNING:tensorflow:Model's `__init__()` arguments contain non-serializable objects. Please implement a `get_config()` method in the subclassed Model for proper saving and loading. Defaulting to empty config.\n",
      "score:  120.0\n",
      "score:  121.0\n",
      "score:  132.0\n",
      "score:  124.0\n",
      "Moviepy - Building video ./videos/RainbowDQN-CartPole-v1/1860/RainbowDQN-CartPole-v1-episode-929.mp4.\n",
      "Moviepy - Writing video ./videos/RainbowDQN-CartPole-v1/1860/RainbowDQN-CartPole-v1-episode-929.mp4\n",
      "\n"
     ]
    },
    {
     "name": "stderr",
     "output_type": "stream",
     "text": [
      "                                                              \r"
     ]
    },
    {
     "name": "stdout",
     "output_type": "stream",
     "text": [
      "Moviepy - Done !\n",
      "Moviepy - video ready ./videos/RainbowDQN-CartPole-v1/1860/RainbowDQN-CartPole-v1-episode-929.mp4\n",
      "score:  122.0\n",
      "WARNING:tensorflow:Model's `__init__()` arguments contain non-serializable objects. Please implement a `get_config()` method in the subclassed Model for proper saving and loading. Defaulting to empty config.\n",
      "WARNING:tensorflow:Model's `__init__()` arguments contain non-serializable objects. Please implement a `get_config()` method in the subclassed Model for proper saving and loading. Defaulting to empty config.\n",
      "WARNING:tensorflow:Model's `__init__()` arguments contain non-serializable objects. Please implement a `get_config()` method in the subclassed Model for proper saving and loading. Defaulting to empty config.\n",
      "score:  117.0\n",
      "score:  119.0\n",
      "score:  127.0\n",
      "score:  134.0\n",
      "Moviepy - Building video ./videos/RainbowDQN-CartPole-v1/1870/RainbowDQN-CartPole-v1-episode-934.mp4.\n",
      "Moviepy - Writing video ./videos/RainbowDQN-CartPole-v1/1870/RainbowDQN-CartPole-v1-episode-934.mp4\n",
      "\n"
     ]
    },
    {
     "name": "stderr",
     "output_type": "stream",
     "text": [
      "                                                              \r"
     ]
    },
    {
     "name": "stdout",
     "output_type": "stream",
     "text": [
      "Moviepy - Done !\n",
      "Moviepy - video ready ./videos/RainbowDQN-CartPole-v1/1870/RainbowDQN-CartPole-v1-episode-934.mp4\n",
      "score:  115.0\n",
      "WARNING:tensorflow:Model's `__init__()` arguments contain non-serializable objects. Please implement a `get_config()` method in the subclassed Model for proper saving and loading. Defaulting to empty config.\n",
      "WARNING:tensorflow:Model's `__init__()` arguments contain non-serializable objects. Please implement a `get_config()` method in the subclassed Model for proper saving and loading. Defaulting to empty config.\n",
      "WARNING:tensorflow:Model's `__init__()` arguments contain non-serializable objects. Please implement a `get_config()` method in the subclassed Model for proper saving and loading. Defaulting to empty config.\n",
      "score:  116.0\n",
      "score:  131.0\n",
      "score:  125.0\n",
      "score:  145.0\n",
      "Moviepy - Building video ./videos/RainbowDQN-CartPole-v1/1880/RainbowDQN-CartPole-v1-episode-939.mp4.\n",
      "Moviepy - Writing video ./videos/RainbowDQN-CartPole-v1/1880/RainbowDQN-CartPole-v1-episode-939.mp4\n",
      "\n"
     ]
    },
    {
     "name": "stderr",
     "output_type": "stream",
     "text": [
      "                                                              \r"
     ]
    },
    {
     "name": "stdout",
     "output_type": "stream",
     "text": [
      "Moviepy - Done !\n",
      "Moviepy - video ready ./videos/RainbowDQN-CartPole-v1/1880/RainbowDQN-CartPole-v1-episode-939.mp4\n",
      "score:  122.0\n",
      "WARNING:tensorflow:Model's `__init__()` arguments contain non-serializable objects. Please implement a `get_config()` method in the subclassed Model for proper saving and loading. Defaulting to empty config.\n",
      "WARNING:tensorflow:Model's `__init__()` arguments contain non-serializable objects. Please implement a `get_config()` method in the subclassed Model for proper saving and loading. Defaulting to empty config.\n",
      "WARNING:tensorflow:Model's `__init__()` arguments contain non-serializable objects. Please implement a `get_config()` method in the subclassed Model for proper saving and loading. Defaulting to empty config.\n",
      "score:  121.0\n",
      "score:  112.0\n",
      "score:  124.0\n",
      "score:  121.0\n",
      "Moviepy - Building video ./videos/RainbowDQN-CartPole-v1/1890/RainbowDQN-CartPole-v1-episode-944.mp4.\n",
      "Moviepy - Writing video ./videos/RainbowDQN-CartPole-v1/1890/RainbowDQN-CartPole-v1-episode-944.mp4\n",
      "\n"
     ]
    },
    {
     "name": "stderr",
     "output_type": "stream",
     "text": [
      "                                                              \r"
     ]
    },
    {
     "name": "stdout",
     "output_type": "stream",
     "text": [
      "Moviepy - Done !\n",
      "Moviepy - video ready ./videos/RainbowDQN-CartPole-v1/1890/RainbowDQN-CartPole-v1-episode-944.mp4\n",
      "score:  127.0\n",
      "WARNING:tensorflow:Model's `__init__()` arguments contain non-serializable objects. Please implement a `get_config()` method in the subclassed Model for proper saving and loading. Defaulting to empty config.\n",
      "WARNING:tensorflow:Model's `__init__()` arguments contain non-serializable objects. Please implement a `get_config()` method in the subclassed Model for proper saving and loading. Defaulting to empty config.\n",
      "WARNING:tensorflow:Model's `__init__()` arguments contain non-serializable objects. Please implement a `get_config()` method in the subclassed Model for proper saving and loading. Defaulting to empty config.\n",
      "score:  126.0\n",
      "score:  114.0\n",
      "score:  113.0\n",
      "score:  128.0\n",
      "Moviepy - Building video ./videos/RainbowDQN-CartPole-v1/1900/RainbowDQN-CartPole-v1-episode-949.mp4.\n",
      "Moviepy - Writing video ./videos/RainbowDQN-CartPole-v1/1900/RainbowDQN-CartPole-v1-episode-949.mp4\n",
      "\n"
     ]
    },
    {
     "name": "stderr",
     "output_type": "stream",
     "text": [
      "                                                               \r"
     ]
    },
    {
     "name": "stdout",
     "output_type": "stream",
     "text": [
      "Moviepy - Done !\n",
      "Moviepy - video ready ./videos/RainbowDQN-CartPole-v1/1900/RainbowDQN-CartPole-v1-episode-949.mp4\n",
      "score:  130.0\n",
      "WARNING:tensorflow:Model's `__init__()` arguments contain non-serializable objects. Please implement a `get_config()` method in the subclassed Model for proper saving and loading. Defaulting to empty config.\n",
      "WARNING:tensorflow:Model's `__init__()` arguments contain non-serializable objects. Please implement a `get_config()` method in the subclassed Model for proper saving and loading. Defaulting to empty config.\n",
      "WARNING:tensorflow:Model's `__init__()` arguments contain non-serializable objects. Please implement a `get_config()` method in the subclassed Model for proper saving and loading. Defaulting to empty config.\n",
      "score:  117.0\n",
      "score:  106.0\n",
      "score:  110.0\n",
      "score:  121.0\n",
      "Moviepy - Building video ./videos/RainbowDQN-CartPole-v1/1910/RainbowDQN-CartPole-v1-episode-954.mp4.\n",
      "Moviepy - Writing video ./videos/RainbowDQN-CartPole-v1/1910/RainbowDQN-CartPole-v1-episode-954.mp4\n",
      "\n"
     ]
    },
    {
     "name": "stderr",
     "output_type": "stream",
     "text": [
      "                                                            \r"
     ]
    },
    {
     "name": "stdout",
     "output_type": "stream",
     "text": [
      "Moviepy - Done !\n",
      "Moviepy - video ready ./videos/RainbowDQN-CartPole-v1/1910/RainbowDQN-CartPole-v1-episode-954.mp4\n",
      "score:  115.0\n",
      "WARNING:tensorflow:Model's `__init__()` arguments contain non-serializable objects. Please implement a `get_config()` method in the subclassed Model for proper saving and loading. Defaulting to empty config.\n",
      "WARNING:tensorflow:Model's `__init__()` arguments contain non-serializable objects. Please implement a `get_config()` method in the subclassed Model for proper saving and loading. Defaulting to empty config.\n",
      "WARNING:tensorflow:Model's `__init__()` arguments contain non-serializable objects. Please implement a `get_config()` method in the subclassed Model for proper saving and loading. Defaulting to empty config.\n",
      "score:  127.0\n",
      "score:  107.0\n",
      "score:  123.0\n",
      "score:  118.0\n",
      "Moviepy - Building video ./videos/RainbowDQN-CartPole-v1/1920/RainbowDQN-CartPole-v1-episode-959.mp4.\n",
      "Moviepy - Writing video ./videos/RainbowDQN-CartPole-v1/1920/RainbowDQN-CartPole-v1-episode-959.mp4\n",
      "\n"
     ]
    },
    {
     "name": "stderr",
     "output_type": "stream",
     "text": [
      "                                                              \r"
     ]
    },
    {
     "name": "stdout",
     "output_type": "stream",
     "text": [
      "Moviepy - Done !\n",
      "Moviepy - video ready ./videos/RainbowDQN-CartPole-v1/1920/RainbowDQN-CartPole-v1-episode-959.mp4\n",
      "score:  111.0\n",
      "WARNING:tensorflow:Model's `__init__()` arguments contain non-serializable objects. Please implement a `get_config()` method in the subclassed Model for proper saving and loading. Defaulting to empty config.\n",
      "WARNING:tensorflow:Model's `__init__()` arguments contain non-serializable objects. Please implement a `get_config()` method in the subclassed Model for proper saving and loading. Defaulting to empty config.\n",
      "WARNING:tensorflow:Model's `__init__()` arguments contain non-serializable objects. Please implement a `get_config()` method in the subclassed Model for proper saving and loading. Defaulting to empty config.\n",
      "score:  130.0\n",
      "score:  118.0\n",
      "score:  116.0\n",
      "score:  124.0\n",
      "Moviepy - Building video ./videos/RainbowDQN-CartPole-v1/1930/RainbowDQN-CartPole-v1-episode-964.mp4.\n",
      "Moviepy - Writing video ./videos/RainbowDQN-CartPole-v1/1930/RainbowDQN-CartPole-v1-episode-964.mp4\n",
      "\n"
     ]
    },
    {
     "name": "stderr",
     "output_type": "stream",
     "text": [
      "                                                               \r"
     ]
    },
    {
     "name": "stdout",
     "output_type": "stream",
     "text": [
      "Moviepy - Done !\n",
      "Moviepy - video ready ./videos/RainbowDQN-CartPole-v1/1930/RainbowDQN-CartPole-v1-episode-964.mp4\n",
      "score:  118.0\n",
      "WARNING:tensorflow:Model's `__init__()` arguments contain non-serializable objects. Please implement a `get_config()` method in the subclassed Model for proper saving and loading. Defaulting to empty config.\n",
      "WARNING:tensorflow:Model's `__init__()` arguments contain non-serializable objects. Please implement a `get_config()` method in the subclassed Model for proper saving and loading. Defaulting to empty config.\n",
      "WARNING:tensorflow:Model's `__init__()` arguments contain non-serializable objects. Please implement a `get_config()` method in the subclassed Model for proper saving and loading. Defaulting to empty config.\n",
      "score:  125.0\n",
      "score:  114.0\n",
      "score:  124.0\n",
      "score:  130.0\n",
      "Moviepy - Building video ./videos/RainbowDQN-CartPole-v1/1940/RainbowDQN-CartPole-v1-episode-969.mp4.\n",
      "Moviepy - Writing video ./videos/RainbowDQN-CartPole-v1/1940/RainbowDQN-CartPole-v1-episode-969.mp4\n",
      "\n"
     ]
    },
    {
     "name": "stderr",
     "output_type": "stream",
     "text": [
      "                                                              \r"
     ]
    },
    {
     "name": "stdout",
     "output_type": "stream",
     "text": [
      "Moviepy - Done !\n",
      "Moviepy - video ready ./videos/RainbowDQN-CartPole-v1/1940/RainbowDQN-CartPole-v1-episode-969.mp4\n",
      "score:  114.0\n",
      "WARNING:tensorflow:Model's `__init__()` arguments contain non-serializable objects. Please implement a `get_config()` method in the subclassed Model for proper saving and loading. Defaulting to empty config.\n",
      "WARNING:tensorflow:Model's `__init__()` arguments contain non-serializable objects. Please implement a `get_config()` method in the subclassed Model for proper saving and loading. Defaulting to empty config.\n",
      "WARNING:tensorflow:Model's `__init__()` arguments contain non-serializable objects. Please implement a `get_config()` method in the subclassed Model for proper saving and loading. Defaulting to empty config.\n",
      "score:  130.0\n",
      "score:  119.0\n",
      "score:  124.0\n",
      "score:  129.0\n",
      "Moviepy - Building video ./videos/RainbowDQN-CartPole-v1/1950/RainbowDQN-CartPole-v1-episode-974.mp4.\n",
      "Moviepy - Writing video ./videos/RainbowDQN-CartPole-v1/1950/RainbowDQN-CartPole-v1-episode-974.mp4\n",
      "\n"
     ]
    },
    {
     "name": "stderr",
     "output_type": "stream",
     "text": [
      "                                                            \r"
     ]
    },
    {
     "name": "stdout",
     "output_type": "stream",
     "text": [
      "Moviepy - Done !\n",
      "Moviepy - video ready ./videos/RainbowDQN-CartPole-v1/1950/RainbowDQN-CartPole-v1-episode-974.mp4\n",
      "score:  115.0\n",
      "WARNING:tensorflow:Model's `__init__()` arguments contain non-serializable objects. Please implement a `get_config()` method in the subclassed Model for proper saving and loading. Defaulting to empty config.\n",
      "WARNING:tensorflow:Model's `__init__()` arguments contain non-serializable objects. Please implement a `get_config()` method in the subclassed Model for proper saving and loading. Defaulting to empty config.\n",
      "WARNING:tensorflow:Model's `__init__()` arguments contain non-serializable objects. Please implement a `get_config()` method in the subclassed Model for proper saving and loading. Defaulting to empty config.\n",
      "score:  123.0\n",
      "score:  111.0\n",
      "score:  118.0\n",
      "score:  115.0\n",
      "Moviepy - Building video ./videos/RainbowDQN-CartPole-v1/1960/RainbowDQN-CartPole-v1-episode-979.mp4.\n",
      "Moviepy - Writing video ./videos/RainbowDQN-CartPole-v1/1960/RainbowDQN-CartPole-v1-episode-979.mp4\n",
      "\n"
     ]
    },
    {
     "name": "stderr",
     "output_type": "stream",
     "text": [
      "                                                              \r"
     ]
    },
    {
     "name": "stdout",
     "output_type": "stream",
     "text": [
      "Moviepy - Done !\n",
      "Moviepy - video ready ./videos/RainbowDQN-CartPole-v1/1960/RainbowDQN-CartPole-v1-episode-979.mp4\n",
      "score:  108.0\n",
      "WARNING:tensorflow:Model's `__init__()` arguments contain non-serializable objects. Please implement a `get_config()` method in the subclassed Model for proper saving and loading. Defaulting to empty config.\n",
      "WARNING:tensorflow:Model's `__init__()` arguments contain non-serializable objects. Please implement a `get_config()` method in the subclassed Model for proper saving and loading. Defaulting to empty config.\n",
      "WARNING:tensorflow:Model's `__init__()` arguments contain non-serializable objects. Please implement a `get_config()` method in the subclassed Model for proper saving and loading. Defaulting to empty config.\n",
      "score:  121.0\n",
      "score:  123.0\n",
      "score:  139.0\n",
      "score:  121.0\n",
      "Moviepy - Building video ./videos/RainbowDQN-CartPole-v1/1970/RainbowDQN-CartPole-v1-episode-984.mp4.\n",
      "Moviepy - Writing video ./videos/RainbowDQN-CartPole-v1/1970/RainbowDQN-CartPole-v1-episode-984.mp4\n",
      "\n"
     ]
    },
    {
     "name": "stderr",
     "output_type": "stream",
     "text": [
      "                                                               \r"
     ]
    },
    {
     "name": "stdout",
     "output_type": "stream",
     "text": [
      "Moviepy - Done !\n",
      "Moviepy - video ready ./videos/RainbowDQN-CartPole-v1/1970/RainbowDQN-CartPole-v1-episode-984.mp4\n",
      "score:  121.0\n",
      "WARNING:tensorflow:Model's `__init__()` arguments contain non-serializable objects. Please implement a `get_config()` method in the subclassed Model for proper saving and loading. Defaulting to empty config.\n",
      "WARNING:tensorflow:Model's `__init__()` arguments contain non-serializable objects. Please implement a `get_config()` method in the subclassed Model for proper saving and loading. Defaulting to empty config.\n",
      "WARNING:tensorflow:Model's `__init__()` arguments contain non-serializable objects. Please implement a `get_config()` method in the subclassed Model for proper saving and loading. Defaulting to empty config.\n",
      "score:  115.0\n",
      "score:  125.0\n",
      "score:  136.0\n",
      "score:  124.0\n",
      "Moviepy - Building video ./videos/RainbowDQN-CartPole-v1/1980/RainbowDQN-CartPole-v1-episode-989.mp4.\n",
      "Moviepy - Writing video ./videos/RainbowDQN-CartPole-v1/1980/RainbowDQN-CartPole-v1-episode-989.mp4\n",
      "\n"
     ]
    },
    {
     "name": "stderr",
     "output_type": "stream",
     "text": [
      "                                                              \r"
     ]
    },
    {
     "name": "stdout",
     "output_type": "stream",
     "text": [
      "Moviepy - Done !\n",
      "Moviepy - video ready ./videos/RainbowDQN-CartPole-v1/1980/RainbowDQN-CartPole-v1-episode-989.mp4\n",
      "score:  122.0\n",
      "WARNING:tensorflow:Model's `__init__()` arguments contain non-serializable objects. Please implement a `get_config()` method in the subclassed Model for proper saving and loading. Defaulting to empty config.\n",
      "WARNING:tensorflow:Model's `__init__()` arguments contain non-serializable objects. Please implement a `get_config()` method in the subclassed Model for proper saving and loading. Defaulting to empty config.\n",
      "WARNING:tensorflow:Model's `__init__()` arguments contain non-serializable objects. Please implement a `get_config()` method in the subclassed Model for proper saving and loading. Defaulting to empty config.\n",
      "score:  125.0\n",
      "score:  121.0\n",
      "score:  113.0\n",
      "score:  125.0\n",
      "Moviepy - Building video ./videos/RainbowDQN-CartPole-v1/1990/RainbowDQN-CartPole-v1-episode-994.mp4.\n",
      "Moviepy - Writing video ./videos/RainbowDQN-CartPole-v1/1990/RainbowDQN-CartPole-v1-episode-994.mp4\n",
      "\n"
     ]
    },
    {
     "name": "stderr",
     "output_type": "stream",
     "text": [
      "                                                               \r"
     ]
    },
    {
     "name": "stdout",
     "output_type": "stream",
     "text": [
      "Moviepy - Done !\n",
      "Moviepy - video ready ./videos/RainbowDQN-CartPole-v1/1990/RainbowDQN-CartPole-v1-episode-994.mp4\n",
      "score:  124.0\n",
      "WARNING:tensorflow:Model's `__init__()` arguments contain non-serializable objects. Please implement a `get_config()` method in the subclassed Model for proper saving and loading. Defaulting to empty config.\n",
      "WARNING:tensorflow:Model's `__init__()` arguments contain non-serializable objects. Please implement a `get_config()` method in the subclassed Model for proper saving and loading. Defaulting to empty config.\n",
      "WARNING:tensorflow:Model's `__init__()` arguments contain non-serializable objects. Please implement a `get_config()` method in the subclassed Model for proper saving and loading. Defaulting to empty config.\n",
      "score:  108.0\n",
      "score:  128.0\n",
      "score:  110.0\n",
      "score:  112.0\n",
      "Moviepy - Building video ./videos/RainbowDQN-CartPole-v1/2000/RainbowDQN-CartPole-v1-episode-999.mp4.\n",
      "Moviepy - Writing video ./videos/RainbowDQN-CartPole-v1/2000/RainbowDQN-CartPole-v1-episode-999.mp4\n",
      "\n"
     ]
    },
    {
     "name": "stderr",
     "output_type": "stream",
     "text": [
      "                                                               \r"
     ]
    },
    {
     "name": "stdout",
     "output_type": "stream",
     "text": [
      "Moviepy - Done !\n",
      "Moviepy - video ready ./videos/RainbowDQN-CartPole-v1/2000/RainbowDQN-CartPole-v1-episode-999.mp4\n",
      "score:  132.0\n",
      "WARNING:tensorflow:Model's `__init__()` arguments contain non-serializable objects. Please implement a `get_config()` method in the subclassed Model for proper saving and loading. Defaulting to empty config.\n",
      "WARNING:tensorflow:Model's `__init__()` arguments contain non-serializable objects. Please implement a `get_config()` method in the subclassed Model for proper saving and loading. Defaulting to empty config.\n",
      "WARNING:tensorflow:Model's `__init__()` arguments contain non-serializable objects. Please implement a `get_config()` method in the subclassed Model for proper saving and loading. Defaulting to empty config.\n",
      "score:  112.0\n",
      "score:  116.0\n",
      "score:  115.0\n",
      "score:  112.0\n",
      "Moviepy - Building video ./videos/RainbowDQN-CartPole-v1/2010/RainbowDQN-CartPole-v1-episode-1004.mp4.\n",
      "Moviepy - Writing video ./videos/RainbowDQN-CartPole-v1/2010/RainbowDQN-CartPole-v1-episode-1004.mp4\n",
      "\n"
     ]
    },
    {
     "name": "stderr",
     "output_type": "stream",
     "text": [
      "                                                              \r"
     ]
    },
    {
     "name": "stdout",
     "output_type": "stream",
     "text": [
      "Moviepy - Done !\n",
      "Moviepy - video ready ./videos/RainbowDQN-CartPole-v1/2010/RainbowDQN-CartPole-v1-episode-1004.mp4\n",
      "score:  111.0\n",
      "WARNING:tensorflow:Model's `__init__()` arguments contain non-serializable objects. Please implement a `get_config()` method in the subclassed Model for proper saving and loading. Defaulting to empty config.\n",
      "WARNING:tensorflow:Model's `__init__()` arguments contain non-serializable objects. Please implement a `get_config()` method in the subclassed Model for proper saving and loading. Defaulting to empty config.\n",
      "WARNING:tensorflow:Model's `__init__()` arguments contain non-serializable objects. Please implement a `get_config()` method in the subclassed Model for proper saving and loading. Defaulting to empty config.\n",
      "score:  110.0\n",
      "score:  129.0\n",
      "score:  111.0\n",
      "score:  131.0\n",
      "Moviepy - Building video ./videos/RainbowDQN-CartPole-v1/2020/RainbowDQN-CartPole-v1-episode-1009.mp4.\n",
      "Moviepy - Writing video ./videos/RainbowDQN-CartPole-v1/2020/RainbowDQN-CartPole-v1-episode-1009.mp4\n",
      "\n"
     ]
    },
    {
     "name": "stderr",
     "output_type": "stream",
     "text": [
      "                                                               \r"
     ]
    },
    {
     "name": "stdout",
     "output_type": "stream",
     "text": [
      "Moviepy - Done !\n",
      "Moviepy - video ready ./videos/RainbowDQN-CartPole-v1/2020/RainbowDQN-CartPole-v1-episode-1009.mp4\n",
      "score:  149.0\n",
      "WARNING:tensorflow:Model's `__init__()` arguments contain non-serializable objects. Please implement a `get_config()` method in the subclassed Model for proper saving and loading. Defaulting to empty config.\n",
      "WARNING:tensorflow:Model's `__init__()` arguments contain non-serializable objects. Please implement a `get_config()` method in the subclassed Model for proper saving and loading. Defaulting to empty config.\n",
      "WARNING:tensorflow:Model's `__init__()` arguments contain non-serializable objects. Please implement a `get_config()` method in the subclassed Model for proper saving and loading. Defaulting to empty config.\n",
      "score:  114.0\n",
      "score:  126.0\n",
      "score:  127.0\n",
      "score:  132.0\n",
      "Moviepy - Building video ./videos/RainbowDQN-CartPole-v1/2030/RainbowDQN-CartPole-v1-episode-1014.mp4.\n",
      "Moviepy - Writing video ./videos/RainbowDQN-CartPole-v1/2030/RainbowDQN-CartPole-v1-episode-1014.mp4\n",
      "\n"
     ]
    },
    {
     "name": "stderr",
     "output_type": "stream",
     "text": [
      "                                                              \r"
     ]
    },
    {
     "name": "stdout",
     "output_type": "stream",
     "text": [
      "Moviepy - Done !\n",
      "Moviepy - video ready ./videos/RainbowDQN-CartPole-v1/2030/RainbowDQN-CartPole-v1-episode-1014.mp4\n",
      "score:  123.0\n",
      "WARNING:tensorflow:Model's `__init__()` arguments contain non-serializable objects. Please implement a `get_config()` method in the subclassed Model for proper saving and loading. Defaulting to empty config.\n",
      "WARNING:tensorflow:Model's `__init__()` arguments contain non-serializable objects. Please implement a `get_config()` method in the subclassed Model for proper saving and loading. Defaulting to empty config.\n",
      "WARNING:tensorflow:Model's `__init__()` arguments contain non-serializable objects. Please implement a `get_config()` method in the subclassed Model for proper saving and loading. Defaulting to empty config.\n",
      "score:  111.0\n",
      "score:  118.0\n",
      "score:  127.0\n",
      "score:  117.0\n",
      "Moviepy - Building video ./videos/RainbowDQN-CartPole-v1/2040/RainbowDQN-CartPole-v1-episode-1019.mp4.\n",
      "Moviepy - Writing video ./videos/RainbowDQN-CartPole-v1/2040/RainbowDQN-CartPole-v1-episode-1019.mp4\n",
      "\n"
     ]
    },
    {
     "name": "stderr",
     "output_type": "stream",
     "text": [
      "                                                               \r"
     ]
    },
    {
     "name": "stdout",
     "output_type": "stream",
     "text": [
      "Moviepy - Done !\n",
      "Moviepy - video ready ./videos/RainbowDQN-CartPole-v1/2040/RainbowDQN-CartPole-v1-episode-1019.mp4\n",
      "score:  131.0\n",
      "WARNING:tensorflow:Model's `__init__()` arguments contain non-serializable objects. Please implement a `get_config()` method in the subclassed Model for proper saving and loading. Defaulting to empty config.\n",
      "WARNING:tensorflow:Model's `__init__()` arguments contain non-serializable objects. Please implement a `get_config()` method in the subclassed Model for proper saving and loading. Defaulting to empty config.\n",
      "WARNING:tensorflow:Model's `__init__()` arguments contain non-serializable objects. Please implement a `get_config()` method in the subclassed Model for proper saving and loading. Defaulting to empty config.\n",
      "score:  118.0\n",
      "score:  114.0\n",
      "score:  109.0\n",
      "score:  116.0\n",
      "Moviepy - Building video ./videos/RainbowDQN-CartPole-v1/2050/RainbowDQN-CartPole-v1-episode-1024.mp4.\n",
      "Moviepy - Writing video ./videos/RainbowDQN-CartPole-v1/2050/RainbowDQN-CartPole-v1-episode-1024.mp4\n",
      "\n"
     ]
    },
    {
     "name": "stderr",
     "output_type": "stream",
     "text": [
      "                                                              \r"
     ]
    },
    {
     "name": "stdout",
     "output_type": "stream",
     "text": [
      "Moviepy - Done !\n",
      "Moviepy - video ready ./videos/RainbowDQN-CartPole-v1/2050/RainbowDQN-CartPole-v1-episode-1024.mp4\n",
      "score:  114.0\n",
      "WARNING:tensorflow:Model's `__init__()` arguments contain non-serializable objects. Please implement a `get_config()` method in the subclassed Model for proper saving and loading. Defaulting to empty config.\n",
      "WARNING:tensorflow:Model's `__init__()` arguments contain non-serializable objects. Please implement a `get_config()` method in the subclassed Model for proper saving and loading. Defaulting to empty config.\n",
      "WARNING:tensorflow:Model's `__init__()` arguments contain non-serializable objects. Please implement a `get_config()` method in the subclassed Model for proper saving and loading. Defaulting to empty config.\n",
      "score:  130.0\n",
      "score:  133.0\n",
      "score:  132.0\n",
      "score:  138.0\n",
      "Moviepy - Building video ./videos/RainbowDQN-CartPole-v1/2060/RainbowDQN-CartPole-v1-episode-1029.mp4.\n",
      "Moviepy - Writing video ./videos/RainbowDQN-CartPole-v1/2060/RainbowDQN-CartPole-v1-episode-1029.mp4\n",
      "\n"
     ]
    },
    {
     "name": "stderr",
     "output_type": "stream",
     "text": [
      "                                                              \r"
     ]
    },
    {
     "name": "stdout",
     "output_type": "stream",
     "text": [
      "Moviepy - Done !\n",
      "Moviepy - video ready ./videos/RainbowDQN-CartPole-v1/2060/RainbowDQN-CartPole-v1-episode-1029.mp4\n",
      "score:  127.0\n",
      "WARNING:tensorflow:Model's `__init__()` arguments contain non-serializable objects. Please implement a `get_config()` method in the subclassed Model for proper saving and loading. Defaulting to empty config.\n",
      "WARNING:tensorflow:Model's `__init__()` arguments contain non-serializable objects. Please implement a `get_config()` method in the subclassed Model for proper saving and loading. Defaulting to empty config.\n",
      "WARNING:tensorflow:Model's `__init__()` arguments contain non-serializable objects. Please implement a `get_config()` method in the subclassed Model for proper saving and loading. Defaulting to empty config.\n",
      "score:  138.0\n",
      "score:  130.0\n",
      "score:  136.0\n",
      "score:  125.0\n",
      "Moviepy - Building video ./videos/RainbowDQN-CartPole-v1/2070/RainbowDQN-CartPole-v1-episode-1034.mp4.\n",
      "Moviepy - Writing video ./videos/RainbowDQN-CartPole-v1/2070/RainbowDQN-CartPole-v1-episode-1034.mp4\n",
      "\n"
     ]
    },
    {
     "name": "stderr",
     "output_type": "stream",
     "text": [
      "                                                              \r"
     ]
    },
    {
     "name": "stdout",
     "output_type": "stream",
     "text": [
      "Moviepy - Done !\n",
      "Moviepy - video ready ./videos/RainbowDQN-CartPole-v1/2070/RainbowDQN-CartPole-v1-episode-1034.mp4\n",
      "score:  124.0\n",
      "WARNING:tensorflow:Model's `__init__()` arguments contain non-serializable objects. Please implement a `get_config()` method in the subclassed Model for proper saving and loading. Defaulting to empty config.\n",
      "WARNING:tensorflow:Model's `__init__()` arguments contain non-serializable objects. Please implement a `get_config()` method in the subclassed Model for proper saving and loading. Defaulting to empty config.\n",
      "WARNING:tensorflow:Model's `__init__()` arguments contain non-serializable objects. Please implement a `get_config()` method in the subclassed Model for proper saving and loading. Defaulting to empty config.\n",
      "score:  112.0\n",
      "score:  120.0\n",
      "score:  126.0\n",
      "score:  120.0\n",
      "Moviepy - Building video ./videos/RainbowDQN-CartPole-v1/2080/RainbowDQN-CartPole-v1-episode-1039.mp4.\n",
      "Moviepy - Writing video ./videos/RainbowDQN-CartPole-v1/2080/RainbowDQN-CartPole-v1-episode-1039.mp4\n",
      "\n"
     ]
    },
    {
     "name": "stderr",
     "output_type": "stream",
     "text": [
      "                                                              \r"
     ]
    },
    {
     "name": "stdout",
     "output_type": "stream",
     "text": [
      "Moviepy - Done !\n",
      "Moviepy - video ready ./videos/RainbowDQN-CartPole-v1/2080/RainbowDQN-CartPole-v1-episode-1039.mp4\n",
      "score:  114.0\n",
      "WARNING:tensorflow:Model's `__init__()` arguments contain non-serializable objects. Please implement a `get_config()` method in the subclassed Model for proper saving and loading. Defaulting to empty config.\n",
      "WARNING:tensorflow:Model's `__init__()` arguments contain non-serializable objects. Please implement a `get_config()` method in the subclassed Model for proper saving and loading. Defaulting to empty config.\n",
      "WARNING:tensorflow:Model's `__init__()` arguments contain non-serializable objects. Please implement a `get_config()` method in the subclassed Model for proper saving and loading. Defaulting to empty config.\n",
      "score:  110.0\n",
      "score:  126.0\n",
      "score:  119.0\n",
      "score:  123.0\n",
      "Moviepy - Building video ./videos/RainbowDQN-CartPole-v1/2090/RainbowDQN-CartPole-v1-episode-1044.mp4.\n",
      "Moviepy - Writing video ./videos/RainbowDQN-CartPole-v1/2090/RainbowDQN-CartPole-v1-episode-1044.mp4\n",
      "\n"
     ]
    },
    {
     "name": "stderr",
     "output_type": "stream",
     "text": [
      "                                                            \r"
     ]
    },
    {
     "name": "stdout",
     "output_type": "stream",
     "text": [
      "Moviepy - Done !\n",
      "Moviepy - video ready ./videos/RainbowDQN-CartPole-v1/2090/RainbowDQN-CartPole-v1-episode-1044.mp4\n",
      "score:  109.0\n",
      "WARNING:tensorflow:Model's `__init__()` arguments contain non-serializable objects. Please implement a `get_config()` method in the subclassed Model for proper saving and loading. Defaulting to empty config.\n",
      "WARNING:tensorflow:Model's `__init__()` arguments contain non-serializable objects. Please implement a `get_config()` method in the subclassed Model for proper saving and loading. Defaulting to empty config.\n",
      "WARNING:tensorflow:Model's `__init__()` arguments contain non-serializable objects. Please implement a `get_config()` method in the subclassed Model for proper saving and loading. Defaulting to empty config.\n",
      "score:  117.0\n",
      "score:  111.0\n",
      "score:  119.0\n",
      "score:  110.0\n",
      "Moviepy - Building video ./videos/RainbowDQN-CartPole-v1/2100/RainbowDQN-CartPole-v1-episode-1049.mp4.\n",
      "Moviepy - Writing video ./videos/RainbowDQN-CartPole-v1/2100/RainbowDQN-CartPole-v1-episode-1049.mp4\n",
      "\n"
     ]
    },
    {
     "name": "stderr",
     "output_type": "stream",
     "text": [
      "                                                              \r"
     ]
    },
    {
     "name": "stdout",
     "output_type": "stream",
     "text": [
      "Moviepy - Done !\n",
      "Moviepy - video ready ./videos/RainbowDQN-CartPole-v1/2100/RainbowDQN-CartPole-v1-episode-1049.mp4\n",
      "score:  111.0\n",
      "WARNING:tensorflow:Model's `__init__()` arguments contain non-serializable objects. Please implement a `get_config()` method in the subclassed Model for proper saving and loading. Defaulting to empty config.\n",
      "WARNING:tensorflow:Model's `__init__()` arguments contain non-serializable objects. Please implement a `get_config()` method in the subclassed Model for proper saving and loading. Defaulting to empty config.\n",
      "WARNING:tensorflow:Model's `__init__()` arguments contain non-serializable objects. Please implement a `get_config()` method in the subclassed Model for proper saving and loading. Defaulting to empty config.\n",
      "score:  126.0\n",
      "score:  114.0\n",
      "score:  124.0\n",
      "score:  119.0\n",
      "Moviepy - Building video ./videos/RainbowDQN-CartPole-v1/2110/RainbowDQN-CartPole-v1-episode-1054.mp4.\n",
      "Moviepy - Writing video ./videos/RainbowDQN-CartPole-v1/2110/RainbowDQN-CartPole-v1-episode-1054.mp4\n",
      "\n"
     ]
    },
    {
     "name": "stderr",
     "output_type": "stream",
     "text": [
      "                                                              \r"
     ]
    },
    {
     "name": "stdout",
     "output_type": "stream",
     "text": [
      "Moviepy - Done !\n",
      "Moviepy - video ready ./videos/RainbowDQN-CartPole-v1/2110/RainbowDQN-CartPole-v1-episode-1054.mp4\n",
      "score:  114.0\n",
      "WARNING:tensorflow:Model's `__init__()` arguments contain non-serializable objects. Please implement a `get_config()` method in the subclassed Model for proper saving and loading. Defaulting to empty config.\n",
      "WARNING:tensorflow:Model's `__init__()` arguments contain non-serializable objects. Please implement a `get_config()` method in the subclassed Model for proper saving and loading. Defaulting to empty config.\n",
      "WARNING:tensorflow:Model's `__init__()` arguments contain non-serializable objects. Please implement a `get_config()` method in the subclassed Model for proper saving and loading. Defaulting to empty config.\n",
      "score:  123.0\n",
      "score:  118.0\n",
      "score:  131.0\n",
      "score:  130.0\n",
      "Moviepy - Building video ./videos/RainbowDQN-CartPole-v1/2120/RainbowDQN-CartPole-v1-episode-1059.mp4.\n",
      "Moviepy - Writing video ./videos/RainbowDQN-CartPole-v1/2120/RainbowDQN-CartPole-v1-episode-1059.mp4\n",
      "\n"
     ]
    },
    {
     "name": "stderr",
     "output_type": "stream",
     "text": [
      "                                                             \r"
     ]
    },
    {
     "name": "stdout",
     "output_type": "stream",
     "text": [
      "Moviepy - Done !\n",
      "Moviepy - video ready ./videos/RainbowDQN-CartPole-v1/2120/RainbowDQN-CartPole-v1-episode-1059.mp4\n",
      "score:  124.0\n",
      "WARNING:tensorflow:Model's `__init__()` arguments contain non-serializable objects. Please implement a `get_config()` method in the subclassed Model for proper saving and loading. Defaulting to empty config.\n",
      "WARNING:tensorflow:Model's `__init__()` arguments contain non-serializable objects. Please implement a `get_config()` method in the subclassed Model for proper saving and loading. Defaulting to empty config.\n",
      "WARNING:tensorflow:Model's `__init__()` arguments contain non-serializable objects. Please implement a `get_config()` method in the subclassed Model for proper saving and loading. Defaulting to empty config.\n",
      "score:  115.0\n",
      "score:  113.0\n",
      "score:  144.0\n",
      "score:  113.0\n",
      "Moviepy - Building video ./videos/RainbowDQN-CartPole-v1/2130/RainbowDQN-CartPole-v1-episode-1064.mp4.\n",
      "Moviepy - Writing video ./videos/RainbowDQN-CartPole-v1/2130/RainbowDQN-CartPole-v1-episode-1064.mp4\n",
      "\n"
     ]
    },
    {
     "name": "stderr",
     "output_type": "stream",
     "text": [
      "                                                               \r"
     ]
    },
    {
     "name": "stdout",
     "output_type": "stream",
     "text": [
      "Moviepy - Done !\n",
      "Moviepy - video ready ./videos/RainbowDQN-CartPole-v1/2130/RainbowDQN-CartPole-v1-episode-1064.mp4\n",
      "score:  129.0\n",
      "WARNING:tensorflow:Model's `__init__()` arguments contain non-serializable objects. Please implement a `get_config()` method in the subclassed Model for proper saving and loading. Defaulting to empty config.\n",
      "WARNING:tensorflow:Model's `__init__()` arguments contain non-serializable objects. Please implement a `get_config()` method in the subclassed Model for proper saving and loading. Defaulting to empty config.\n",
      "WARNING:tensorflow:Model's `__init__()` arguments contain non-serializable objects. Please implement a `get_config()` method in the subclassed Model for proper saving and loading. Defaulting to empty config.\n",
      "score:  123.0\n",
      "score:  124.0\n",
      "score:  123.0\n",
      "score:  115.0\n",
      "Moviepy - Building video ./videos/RainbowDQN-CartPole-v1/2140/RainbowDQN-CartPole-v1-episode-1069.mp4.\n",
      "Moviepy - Writing video ./videos/RainbowDQN-CartPole-v1/2140/RainbowDQN-CartPole-v1-episode-1069.mp4\n",
      "\n"
     ]
    },
    {
     "name": "stderr",
     "output_type": "stream",
     "text": [
      "                                                            \r"
     ]
    },
    {
     "name": "stdout",
     "output_type": "stream",
     "text": [
      "Moviepy - Done !\n",
      "Moviepy - video ready ./videos/RainbowDQN-CartPole-v1/2140/RainbowDQN-CartPole-v1-episode-1069.mp4\n",
      "score:  111.0\n",
      "WARNING:tensorflow:Model's `__init__()` arguments contain non-serializable objects. Please implement a `get_config()` method in the subclassed Model for proper saving and loading. Defaulting to empty config.\n",
      "WARNING:tensorflow:Model's `__init__()` arguments contain non-serializable objects. Please implement a `get_config()` method in the subclassed Model for proper saving and loading. Defaulting to empty config.\n",
      "WARNING:tensorflow:Model's `__init__()` arguments contain non-serializable objects. Please implement a `get_config()` method in the subclassed Model for proper saving and loading. Defaulting to empty config.\n",
      "score:  109.0\n",
      "score:  123.0\n",
      "score:  119.0\n",
      "score:  120.0\n",
      "Moviepy - Building video ./videos/RainbowDQN-CartPole-v1/2150/RainbowDQN-CartPole-v1-episode-1074.mp4.\n",
      "Moviepy - Writing video ./videos/RainbowDQN-CartPole-v1/2150/RainbowDQN-CartPole-v1-episode-1074.mp4\n",
      "\n"
     ]
    },
    {
     "name": "stderr",
     "output_type": "stream",
     "text": [
      "                                                              \r"
     ]
    },
    {
     "name": "stdout",
     "output_type": "stream",
     "text": [
      "Moviepy - Done !\n",
      "Moviepy - video ready ./videos/RainbowDQN-CartPole-v1/2150/RainbowDQN-CartPole-v1-episode-1074.mp4\n",
      "score:  134.0\n",
      "WARNING:tensorflow:Model's `__init__()` arguments contain non-serializable objects. Please implement a `get_config()` method in the subclassed Model for proper saving and loading. Defaulting to empty config.\n",
      "WARNING:tensorflow:Model's `__init__()` arguments contain non-serializable objects. Please implement a `get_config()` method in the subclassed Model for proper saving and loading. Defaulting to empty config.\n",
      "WARNING:tensorflow:Model's `__init__()` arguments contain non-serializable objects. Please implement a `get_config()` method in the subclassed Model for proper saving and loading. Defaulting to empty config.\n",
      "score:  117.0\n",
      "score:  111.0\n",
      "score:  123.0\n",
      "score:  116.0\n",
      "Moviepy - Building video ./videos/RainbowDQN-CartPole-v1/2160/RainbowDQN-CartPole-v1-episode-1079.mp4.\n",
      "Moviepy - Writing video ./videos/RainbowDQN-CartPole-v1/2160/RainbowDQN-CartPole-v1-episode-1079.mp4\n",
      "\n"
     ]
    },
    {
     "name": "stderr",
     "output_type": "stream",
     "text": [
      "                                                              \r"
     ]
    },
    {
     "name": "stdout",
     "output_type": "stream",
     "text": [
      "Moviepy - Done !\n",
      "Moviepy - video ready ./videos/RainbowDQN-CartPole-v1/2160/RainbowDQN-CartPole-v1-episode-1079.mp4\n",
      "score:  126.0\n",
      "WARNING:tensorflow:Model's `__init__()` arguments contain non-serializable objects. Please implement a `get_config()` method in the subclassed Model for proper saving and loading. Defaulting to empty config.\n",
      "WARNING:tensorflow:Model's `__init__()` arguments contain non-serializable objects. Please implement a `get_config()` method in the subclassed Model for proper saving and loading. Defaulting to empty config.\n",
      "WARNING:tensorflow:Model's `__init__()` arguments contain non-serializable objects. Please implement a `get_config()` method in the subclassed Model for proper saving and loading. Defaulting to empty config.\n",
      "score:  118.0\n",
      "score:  123.0\n",
      "score:  109.0\n",
      "score:  132.0\n",
      "Moviepy - Building video ./videos/RainbowDQN-CartPole-v1/2170/RainbowDQN-CartPole-v1-episode-1084.mp4.\n",
      "Moviepy - Writing video ./videos/RainbowDQN-CartPole-v1/2170/RainbowDQN-CartPole-v1-episode-1084.mp4\n",
      "\n"
     ]
    },
    {
     "name": "stderr",
     "output_type": "stream",
     "text": [
      "                                                              \r"
     ]
    },
    {
     "name": "stdout",
     "output_type": "stream",
     "text": [
      "Moviepy - Done !\n",
      "Moviepy - video ready ./videos/RainbowDQN-CartPole-v1/2170/RainbowDQN-CartPole-v1-episode-1084.mp4\n",
      "score:  117.0\n",
      "WARNING:tensorflow:Model's `__init__()` arguments contain non-serializable objects. Please implement a `get_config()` method in the subclassed Model for proper saving and loading. Defaulting to empty config.\n",
      "WARNING:tensorflow:Model's `__init__()` arguments contain non-serializable objects. Please implement a `get_config()` method in the subclassed Model for proper saving and loading. Defaulting to empty config.\n",
      "WARNING:tensorflow:Model's `__init__()` arguments contain non-serializable objects. Please implement a `get_config()` method in the subclassed Model for proper saving and loading. Defaulting to empty config.\n",
      "score:  111.0\n",
      "score:  127.0\n",
      "score:  120.0\n",
      "score:  112.0\n",
      "Moviepy - Building video ./videos/RainbowDQN-CartPole-v1/2180/RainbowDQN-CartPole-v1-episode-1089.mp4.\n",
      "Moviepy - Writing video ./videos/RainbowDQN-CartPole-v1/2180/RainbowDQN-CartPole-v1-episode-1089.mp4\n",
      "\n"
     ]
    },
    {
     "name": "stderr",
     "output_type": "stream",
     "text": [
      "                                                              \r"
     ]
    },
    {
     "name": "stdout",
     "output_type": "stream",
     "text": [
      "Moviepy - Done !\n",
      "Moviepy - video ready ./videos/RainbowDQN-CartPole-v1/2180/RainbowDQN-CartPole-v1-episode-1089.mp4\n",
      "score:  106.0\n",
      "WARNING:tensorflow:Model's `__init__()` arguments contain non-serializable objects. Please implement a `get_config()` method in the subclassed Model for proper saving and loading. Defaulting to empty config.\n",
      "WARNING:tensorflow:Model's `__init__()` arguments contain non-serializable objects. Please implement a `get_config()` method in the subclassed Model for proper saving and loading. Defaulting to empty config.\n",
      "WARNING:tensorflow:Model's `__init__()` arguments contain non-serializable objects. Please implement a `get_config()` method in the subclassed Model for proper saving and loading. Defaulting to empty config.\n",
      "score:  122.0\n",
      "score:  129.0\n",
      "score:  132.0\n",
      "score:  131.0\n",
      "Moviepy - Building video ./videos/RainbowDQN-CartPole-v1/2190/RainbowDQN-CartPole-v1-episode-1094.mp4.\n",
      "Moviepy - Writing video ./videos/RainbowDQN-CartPole-v1/2190/RainbowDQN-CartPole-v1-episode-1094.mp4\n",
      "\n"
     ]
    },
    {
     "name": "stderr",
     "output_type": "stream",
     "text": [
      "                                                              \r"
     ]
    },
    {
     "name": "stdout",
     "output_type": "stream",
     "text": [
      "Moviepy - Done !\n",
      "Moviepy - video ready ./videos/RainbowDQN-CartPole-v1/2190/RainbowDQN-CartPole-v1-episode-1094.mp4\n",
      "score:  120.0\n",
      "WARNING:tensorflow:Model's `__init__()` arguments contain non-serializable objects. Please implement a `get_config()` method in the subclassed Model for proper saving and loading. Defaulting to empty config.\n",
      "WARNING:tensorflow:Model's `__init__()` arguments contain non-serializable objects. Please implement a `get_config()` method in the subclassed Model for proper saving and loading. Defaulting to empty config.\n",
      "WARNING:tensorflow:Model's `__init__()` arguments contain non-serializable objects. Please implement a `get_config()` method in the subclassed Model for proper saving and loading. Defaulting to empty config.\n",
      "score:  118.0\n",
      "score:  110.0\n",
      "score:  108.0\n",
      "score:  128.0\n",
      "Moviepy - Building video ./videos/RainbowDQN-CartPole-v1/2200/RainbowDQN-CartPole-v1-episode-1099.mp4.\n",
      "Moviepy - Writing video ./videos/RainbowDQN-CartPole-v1/2200/RainbowDQN-CartPole-v1-episode-1099.mp4\n",
      "\n"
     ]
    },
    {
     "name": "stderr",
     "output_type": "stream",
     "text": [
      "                                                              \r"
     ]
    },
    {
     "name": "stdout",
     "output_type": "stream",
     "text": [
      "Moviepy - Done !\n",
      "Moviepy - video ready ./videos/RainbowDQN-CartPole-v1/2200/RainbowDQN-CartPole-v1-episode-1099.mp4\n",
      "score:  106.0\n",
      "WARNING:tensorflow:Model's `__init__()` arguments contain non-serializable objects. Please implement a `get_config()` method in the subclassed Model for proper saving and loading. Defaulting to empty config.\n",
      "WARNING:tensorflow:Model's `__init__()` arguments contain non-serializable objects. Please implement a `get_config()` method in the subclassed Model for proper saving and loading. Defaulting to empty config.\n",
      "WARNING:tensorflow:Model's `__init__()` arguments contain non-serializable objects. Please implement a `get_config()` method in the subclassed Model for proper saving and loading. Defaulting to empty config.\n",
      "score:  125.0\n",
      "score:  110.0\n",
      "score:  147.0\n",
      "score:  116.0\n",
      "Moviepy - Building video ./videos/RainbowDQN-CartPole-v1/2210/RainbowDQN-CartPole-v1-episode-1104.mp4.\n",
      "Moviepy - Writing video ./videos/RainbowDQN-CartPole-v1/2210/RainbowDQN-CartPole-v1-episode-1104.mp4\n",
      "\n"
     ]
    },
    {
     "name": "stderr",
     "output_type": "stream",
     "text": [
      "                                                              \r"
     ]
    },
    {
     "name": "stdout",
     "output_type": "stream",
     "text": [
      "Moviepy - Done !\n",
      "Moviepy - video ready ./videos/RainbowDQN-CartPole-v1/2210/RainbowDQN-CartPole-v1-episode-1104.mp4\n",
      "score:  137.0\n",
      "WARNING:tensorflow:Model's `__init__()` arguments contain non-serializable objects. Please implement a `get_config()` method in the subclassed Model for proper saving and loading. Defaulting to empty config.\n",
      "WARNING:tensorflow:Model's `__init__()` arguments contain non-serializable objects. Please implement a `get_config()` method in the subclassed Model for proper saving and loading. Defaulting to empty config.\n",
      "WARNING:tensorflow:Model's `__init__()` arguments contain non-serializable objects. Please implement a `get_config()` method in the subclassed Model for proper saving and loading. Defaulting to empty config.\n",
      "score:  115.0\n",
      "score:  116.0\n",
      "score:  133.0\n",
      "score:  136.0\n",
      "Moviepy - Building video ./videos/RainbowDQN-CartPole-v1/2220/RainbowDQN-CartPole-v1-episode-1109.mp4.\n",
      "Moviepy - Writing video ./videos/RainbowDQN-CartPole-v1/2220/RainbowDQN-CartPole-v1-episode-1109.mp4\n",
      "\n"
     ]
    },
    {
     "name": "stderr",
     "output_type": "stream",
     "text": [
      "                                                            \r"
     ]
    },
    {
     "name": "stdout",
     "output_type": "stream",
     "text": [
      "Moviepy - Done !\n",
      "Moviepy - video ready ./videos/RainbowDQN-CartPole-v1/2220/RainbowDQN-CartPole-v1-episode-1109.mp4\n",
      "score:  127.0\n",
      "WARNING:tensorflow:Model's `__init__()` arguments contain non-serializable objects. Please implement a `get_config()` method in the subclassed Model for proper saving and loading. Defaulting to empty config.\n",
      "WARNING:tensorflow:Model's `__init__()` arguments contain non-serializable objects. Please implement a `get_config()` method in the subclassed Model for proper saving and loading. Defaulting to empty config.\n",
      "WARNING:tensorflow:Model's `__init__()` arguments contain non-serializable objects. Please implement a `get_config()` method in the subclassed Model for proper saving and loading. Defaulting to empty config.\n",
      "score:  122.0\n",
      "score:  132.0\n",
      "score:  127.0\n",
      "score:  118.0\n",
      "Moviepy - Building video ./videos/RainbowDQN-CartPole-v1/2230/RainbowDQN-CartPole-v1-episode-1114.mp4.\n",
      "Moviepy - Writing video ./videos/RainbowDQN-CartPole-v1/2230/RainbowDQN-CartPole-v1-episode-1114.mp4\n",
      "\n"
     ]
    },
    {
     "name": "stderr",
     "output_type": "stream",
     "text": [
      "                                                              \r"
     ]
    },
    {
     "name": "stdout",
     "output_type": "stream",
     "text": [
      "Moviepy - Done !\n",
      "Moviepy - video ready ./videos/RainbowDQN-CartPole-v1/2230/RainbowDQN-CartPole-v1-episode-1114.mp4\n",
      "score:  131.0\n",
      "WARNING:tensorflow:Model's `__init__()` arguments contain non-serializable objects. Please implement a `get_config()` method in the subclassed Model for proper saving and loading. Defaulting to empty config.\n",
      "WARNING:tensorflow:Model's `__init__()` arguments contain non-serializable objects. Please implement a `get_config()` method in the subclassed Model for proper saving and loading. Defaulting to empty config.\n",
      "WARNING:tensorflow:Model's `__init__()` arguments contain non-serializable objects. Please implement a `get_config()` method in the subclassed Model for proper saving and loading. Defaulting to empty config.\n",
      "score:  120.0\n",
      "score:  128.0\n",
      "score:  112.0\n",
      "score:  124.0\n",
      "Moviepy - Building video ./videos/RainbowDQN-CartPole-v1/2240/RainbowDQN-CartPole-v1-episode-1119.mp4.\n",
      "Moviepy - Writing video ./videos/RainbowDQN-CartPole-v1/2240/RainbowDQN-CartPole-v1-episode-1119.mp4\n",
      "\n"
     ]
    },
    {
     "name": "stderr",
     "output_type": "stream",
     "text": [
      "                                                              \r"
     ]
    },
    {
     "name": "stdout",
     "output_type": "stream",
     "text": [
      "Moviepy - Done !\n",
      "Moviepy - video ready ./videos/RainbowDQN-CartPole-v1/2240/RainbowDQN-CartPole-v1-episode-1119.mp4\n",
      "score:  118.0\n",
      "WARNING:tensorflow:Model's `__init__()` arguments contain non-serializable objects. Please implement a `get_config()` method in the subclassed Model for proper saving and loading. Defaulting to empty config.\n",
      "WARNING:tensorflow:Model's `__init__()` arguments contain non-serializable objects. Please implement a `get_config()` method in the subclassed Model for proper saving and loading. Defaulting to empty config.\n",
      "WARNING:tensorflow:Model's `__init__()` arguments contain non-serializable objects. Please implement a `get_config()` method in the subclassed Model for proper saving and loading. Defaulting to empty config.\n",
      "score:  124.0\n",
      "score:  126.0\n",
      "score:  132.0\n",
      "score:  121.0\n",
      "Moviepy - Building video ./videos/RainbowDQN-CartPole-v1/2250/RainbowDQN-CartPole-v1-episode-1124.mp4.\n",
      "Moviepy - Writing video ./videos/RainbowDQN-CartPole-v1/2250/RainbowDQN-CartPole-v1-episode-1124.mp4\n",
      "\n"
     ]
    },
    {
     "name": "stderr",
     "output_type": "stream",
     "text": [
      "                                                              \r"
     ]
    },
    {
     "name": "stdout",
     "output_type": "stream",
     "text": [
      "Moviepy - Done !\n",
      "Moviepy - video ready ./videos/RainbowDQN-CartPole-v1/2250/RainbowDQN-CartPole-v1-episode-1124.mp4\n",
      "score:  127.0\n",
      "WARNING:tensorflow:Model's `__init__()` arguments contain non-serializable objects. Please implement a `get_config()` method in the subclassed Model for proper saving and loading. Defaulting to empty config.\n",
      "WARNING:tensorflow:Model's `__init__()` arguments contain non-serializable objects. Please implement a `get_config()` method in the subclassed Model for proper saving and loading. Defaulting to empty config.\n",
      "WARNING:tensorflow:Model's `__init__()` arguments contain non-serializable objects. Please implement a `get_config()` method in the subclassed Model for proper saving and loading. Defaulting to empty config.\n",
      "score:  116.0\n",
      "score:  117.0\n",
      "score:  132.0\n",
      "score:  121.0\n",
      "Moviepy - Building video ./videos/RainbowDQN-CartPole-v1/2260/RainbowDQN-CartPole-v1-episode-1129.mp4.\n",
      "Moviepy - Writing video ./videos/RainbowDQN-CartPole-v1/2260/RainbowDQN-CartPole-v1-episode-1129.mp4\n",
      "\n"
     ]
    },
    {
     "name": "stderr",
     "output_type": "stream",
     "text": [
      "                                                              \r"
     ]
    },
    {
     "name": "stdout",
     "output_type": "stream",
     "text": [
      "Moviepy - Done !\n",
      "Moviepy - video ready ./videos/RainbowDQN-CartPole-v1/2260/RainbowDQN-CartPole-v1-episode-1129.mp4\n",
      "score:  125.0\n",
      "WARNING:tensorflow:Model's `__init__()` arguments contain non-serializable objects. Please implement a `get_config()` method in the subclassed Model for proper saving and loading. Defaulting to empty config.\n",
      "WARNING:tensorflow:Model's `__init__()` arguments contain non-serializable objects. Please implement a `get_config()` method in the subclassed Model for proper saving and loading. Defaulting to empty config.\n",
      "WARNING:tensorflow:Model's `__init__()` arguments contain non-serializable objects. Please implement a `get_config()` method in the subclassed Model for proper saving and loading. Defaulting to empty config.\n",
      "score:  133.0\n",
      "score:  122.0\n",
      "score:  119.0\n",
      "score:  130.0\n",
      "Moviepy - Building video ./videos/RainbowDQN-CartPole-v1/2270/RainbowDQN-CartPole-v1-episode-1134.mp4.\n",
      "Moviepy - Writing video ./videos/RainbowDQN-CartPole-v1/2270/RainbowDQN-CartPole-v1-episode-1134.mp4\n",
      "\n"
     ]
    },
    {
     "name": "stderr",
     "output_type": "stream",
     "text": [
      "                                                              \r"
     ]
    },
    {
     "name": "stdout",
     "output_type": "stream",
     "text": [
      "Moviepy - Done !\n",
      "Moviepy - video ready ./videos/RainbowDQN-CartPole-v1/2270/RainbowDQN-CartPole-v1-episode-1134.mp4\n",
      "score:  117.0\n",
      "WARNING:tensorflow:Model's `__init__()` arguments contain non-serializable objects. Please implement a `get_config()` method in the subclassed Model for proper saving and loading. Defaulting to empty config.\n",
      "WARNING:tensorflow:Model's `__init__()` arguments contain non-serializable objects. Please implement a `get_config()` method in the subclassed Model for proper saving and loading. Defaulting to empty config.\n",
      "WARNING:tensorflow:Model's `__init__()` arguments contain non-serializable objects. Please implement a `get_config()` method in the subclassed Model for proper saving and loading. Defaulting to empty config.\n",
      "score:  120.0\n",
      "score:  113.0\n",
      "score:  126.0\n",
      "score:  125.0\n",
      "Moviepy - Building video ./videos/RainbowDQN-CartPole-v1/2280/RainbowDQN-CartPole-v1-episode-1139.mp4.\n",
      "Moviepy - Writing video ./videos/RainbowDQN-CartPole-v1/2280/RainbowDQN-CartPole-v1-episode-1139.mp4\n",
      "\n"
     ]
    },
    {
     "name": "stderr",
     "output_type": "stream",
     "text": [
      "                                                              \r"
     ]
    },
    {
     "name": "stdout",
     "output_type": "stream",
     "text": [
      "Moviepy - Done !\n",
      "Moviepy - video ready ./videos/RainbowDQN-CartPole-v1/2280/RainbowDQN-CartPole-v1-episode-1139.mp4\n",
      "score:  110.0\n",
      "WARNING:tensorflow:Model's `__init__()` arguments contain non-serializable objects. Please implement a `get_config()` method in the subclassed Model for proper saving and loading. Defaulting to empty config.\n",
      "WARNING:tensorflow:Model's `__init__()` arguments contain non-serializable objects. Please implement a `get_config()` method in the subclassed Model for proper saving and loading. Defaulting to empty config.\n",
      "WARNING:tensorflow:Model's `__init__()` arguments contain non-serializable objects. Please implement a `get_config()` method in the subclassed Model for proper saving and loading. Defaulting to empty config.\n",
      "score:  115.0\n",
      "score:  120.0\n",
      "score:  117.0\n",
      "score:  115.0\n",
      "Moviepy - Building video ./videos/RainbowDQN-CartPole-v1/2290/RainbowDQN-CartPole-v1-episode-1144.mp4.\n",
      "Moviepy - Writing video ./videos/RainbowDQN-CartPole-v1/2290/RainbowDQN-CartPole-v1-episode-1144.mp4\n",
      "\n"
     ]
    },
    {
     "name": "stderr",
     "output_type": "stream",
     "text": [
      "                                                             \r"
     ]
    },
    {
     "name": "stdout",
     "output_type": "stream",
     "text": [
      "Moviepy - Done !\n",
      "Moviepy - video ready ./videos/RainbowDQN-CartPole-v1/2290/RainbowDQN-CartPole-v1-episode-1144.mp4\n",
      "score:  111.0\n",
      "WARNING:tensorflow:Model's `__init__()` arguments contain non-serializable objects. Please implement a `get_config()` method in the subclassed Model for proper saving and loading. Defaulting to empty config.\n",
      "WARNING:tensorflow:Model's `__init__()` arguments contain non-serializable objects. Please implement a `get_config()` method in the subclassed Model for proper saving and loading. Defaulting to empty config.\n",
      "WARNING:tensorflow:Model's `__init__()` arguments contain non-serializable objects. Please implement a `get_config()` method in the subclassed Model for proper saving and loading. Defaulting to empty config.\n",
      "score:  123.0\n",
      "score:  125.0\n",
      "score:  112.0\n",
      "score:  127.0\n",
      "Moviepy - Building video ./videos/RainbowDQN-CartPole-v1/2300/RainbowDQN-CartPole-v1-episode-1149.mp4.\n",
      "Moviepy - Writing video ./videos/RainbowDQN-CartPole-v1/2300/RainbowDQN-CartPole-v1-episode-1149.mp4\n",
      "\n"
     ]
    },
    {
     "name": "stderr",
     "output_type": "stream",
     "text": [
      "                                                              \r"
     ]
    },
    {
     "name": "stdout",
     "output_type": "stream",
     "text": [
      "Moviepy - Done !\n",
      "Moviepy - video ready ./videos/RainbowDQN-CartPole-v1/2300/RainbowDQN-CartPole-v1-episode-1149.mp4\n",
      "score:  120.0\n",
      "WARNING:tensorflow:Model's `__init__()` arguments contain non-serializable objects. Please implement a `get_config()` method in the subclassed Model for proper saving and loading. Defaulting to empty config.\n",
      "WARNING:tensorflow:Model's `__init__()` arguments contain non-serializable objects. Please implement a `get_config()` method in the subclassed Model for proper saving and loading. Defaulting to empty config.\n",
      "WARNING:tensorflow:Model's `__init__()` arguments contain non-serializable objects. Please implement a `get_config()` method in the subclassed Model for proper saving and loading. Defaulting to empty config.\n",
      "score:  123.0\n",
      "score:  136.0\n",
      "score:  123.0\n",
      "score:  116.0\n",
      "Moviepy - Building video ./videos/RainbowDQN-CartPole-v1/2310/RainbowDQN-CartPole-v1-episode-1154.mp4.\n",
      "Moviepy - Writing video ./videos/RainbowDQN-CartPole-v1/2310/RainbowDQN-CartPole-v1-episode-1154.mp4\n",
      "\n"
     ]
    },
    {
     "name": "stderr",
     "output_type": "stream",
     "text": [
      "                                                              \r"
     ]
    },
    {
     "name": "stdout",
     "output_type": "stream",
     "text": [
      "Moviepy - Done !\n",
      "Moviepy - video ready ./videos/RainbowDQN-CartPole-v1/2310/RainbowDQN-CartPole-v1-episode-1154.mp4\n",
      "score:  114.0\n",
      "WARNING:tensorflow:Model's `__init__()` arguments contain non-serializable objects. Please implement a `get_config()` method in the subclassed Model for proper saving and loading. Defaulting to empty config.\n",
      "WARNING:tensorflow:Model's `__init__()` arguments contain non-serializable objects. Please implement a `get_config()` method in the subclassed Model for proper saving and loading. Defaulting to empty config.\n",
      "WARNING:tensorflow:Model's `__init__()` arguments contain non-serializable objects. Please implement a `get_config()` method in the subclassed Model for proper saving and loading. Defaulting to empty config.\n",
      "score:  112.0\n",
      "score:  130.0\n",
      "score:  132.0\n",
      "score:  120.0\n",
      "Moviepy - Building video ./videos/RainbowDQN-CartPole-v1/2320/RainbowDQN-CartPole-v1-episode-1159.mp4.\n",
      "Moviepy - Writing video ./videos/RainbowDQN-CartPole-v1/2320/RainbowDQN-CartPole-v1-episode-1159.mp4\n",
      "\n"
     ]
    },
    {
     "name": "stderr",
     "output_type": "stream",
     "text": [
      "                                                              \r"
     ]
    },
    {
     "name": "stdout",
     "output_type": "stream",
     "text": [
      "Moviepy - Done !\n",
      "Moviepy - video ready ./videos/RainbowDQN-CartPole-v1/2320/RainbowDQN-CartPole-v1-episode-1159.mp4\n",
      "score:  113.0\n",
      "WARNING:tensorflow:Model's `__init__()` arguments contain non-serializable objects. Please implement a `get_config()` method in the subclassed Model for proper saving and loading. Defaulting to empty config.\n",
      "WARNING:tensorflow:Model's `__init__()` arguments contain non-serializable objects. Please implement a `get_config()` method in the subclassed Model for proper saving and loading. Defaulting to empty config.\n",
      "WARNING:tensorflow:Model's `__init__()` arguments contain non-serializable objects. Please implement a `get_config()` method in the subclassed Model for proper saving and loading. Defaulting to empty config.\n",
      "score:  117.0\n",
      "score:  129.0\n",
      "score:  110.0\n",
      "score:  133.0\n",
      "Moviepy - Building video ./videos/RainbowDQN-CartPole-v1/2330/RainbowDQN-CartPole-v1-episode-1164.mp4.\n",
      "Moviepy - Writing video ./videos/RainbowDQN-CartPole-v1/2330/RainbowDQN-CartPole-v1-episode-1164.mp4\n",
      "\n"
     ]
    },
    {
     "name": "stderr",
     "output_type": "stream",
     "text": [
      "                                                            \r"
     ]
    },
    {
     "name": "stdout",
     "output_type": "stream",
     "text": [
      "Moviepy - Done !\n",
      "Moviepy - video ready ./videos/RainbowDQN-CartPole-v1/2330/RainbowDQN-CartPole-v1-episode-1164.mp4\n",
      "score:  121.0\n",
      "WARNING:tensorflow:Model's `__init__()` arguments contain non-serializable objects. Please implement a `get_config()` method in the subclassed Model for proper saving and loading. Defaulting to empty config.\n",
      "WARNING:tensorflow:Model's `__init__()` arguments contain non-serializable objects. Please implement a `get_config()` method in the subclassed Model for proper saving and loading. Defaulting to empty config.\n",
      "WARNING:tensorflow:Model's `__init__()` arguments contain non-serializable objects. Please implement a `get_config()` method in the subclassed Model for proper saving and loading. Defaulting to empty config.\n",
      "score:  113.0\n",
      "score:  121.0\n",
      "score:  132.0\n",
      "score:  131.0\n",
      "Moviepy - Building video ./videos/RainbowDQN-CartPole-v1/2340/RainbowDQN-CartPole-v1-episode-1169.mp4.\n",
      "Moviepy - Writing video ./videos/RainbowDQN-CartPole-v1/2340/RainbowDQN-CartPole-v1-episode-1169.mp4\n",
      "\n"
     ]
    },
    {
     "name": "stderr",
     "output_type": "stream",
     "text": [
      "                                                              \r"
     ]
    },
    {
     "name": "stdout",
     "output_type": "stream",
     "text": [
      "Moviepy - Done !\n",
      "Moviepy - video ready ./videos/RainbowDQN-CartPole-v1/2340/RainbowDQN-CartPole-v1-episode-1169.mp4\n",
      "score:  118.0\n",
      "WARNING:tensorflow:Model's `__init__()` arguments contain non-serializable objects. Please implement a `get_config()` method in the subclassed Model for proper saving and loading. Defaulting to empty config.\n",
      "WARNING:tensorflow:Model's `__init__()` arguments contain non-serializable objects. Please implement a `get_config()` method in the subclassed Model for proper saving and loading. Defaulting to empty config.\n",
      "WARNING:tensorflow:Model's `__init__()` arguments contain non-serializable objects. Please implement a `get_config()` method in the subclassed Model for proper saving and loading. Defaulting to empty config.\n",
      "score:  122.0\n",
      "score:  115.0\n",
      "score:  125.0\n",
      "score:  132.0\n",
      "Moviepy - Building video ./videos/RainbowDQN-CartPole-v1/2350/RainbowDQN-CartPole-v1-episode-1174.mp4.\n",
      "Moviepy - Writing video ./videos/RainbowDQN-CartPole-v1/2350/RainbowDQN-CartPole-v1-episode-1174.mp4\n",
      "\n"
     ]
    },
    {
     "name": "stderr",
     "output_type": "stream",
     "text": [
      "                                                              \r"
     ]
    },
    {
     "name": "stdout",
     "output_type": "stream",
     "text": [
      "Moviepy - Done !\n",
      "Moviepy - video ready ./videos/RainbowDQN-CartPole-v1/2350/RainbowDQN-CartPole-v1-episode-1174.mp4\n",
      "score:  122.0\n",
      "WARNING:tensorflow:Model's `__init__()` arguments contain non-serializable objects. Please implement a `get_config()` method in the subclassed Model for proper saving and loading. Defaulting to empty config.\n",
      "WARNING:tensorflow:Model's `__init__()` arguments contain non-serializable objects. Please implement a `get_config()` method in the subclassed Model for proper saving and loading. Defaulting to empty config.\n",
      "WARNING:tensorflow:Model's `__init__()` arguments contain non-serializable objects. Please implement a `get_config()` method in the subclassed Model for proper saving and loading. Defaulting to empty config.\n",
      "score:  134.0\n",
      "score:  120.0\n",
      "score:  123.0\n",
      "score:  125.0\n",
      "Moviepy - Building video ./videos/RainbowDQN-CartPole-v1/2360/RainbowDQN-CartPole-v1-episode-1179.mp4.\n",
      "Moviepy - Writing video ./videos/RainbowDQN-CartPole-v1/2360/RainbowDQN-CartPole-v1-episode-1179.mp4\n",
      "\n"
     ]
    },
    {
     "name": "stderr",
     "output_type": "stream",
     "text": [
      "                                                              \r"
     ]
    },
    {
     "name": "stdout",
     "output_type": "stream",
     "text": [
      "Moviepy - Done !\n",
      "Moviepy - video ready ./videos/RainbowDQN-CartPole-v1/2360/RainbowDQN-CartPole-v1-episode-1179.mp4\n",
      "score:  119.0\n",
      "WARNING:tensorflow:Model's `__init__()` arguments contain non-serializable objects. Please implement a `get_config()` method in the subclassed Model for proper saving and loading. Defaulting to empty config.\n",
      "WARNING:tensorflow:Model's `__init__()` arguments contain non-serializable objects. Please implement a `get_config()` method in the subclassed Model for proper saving and loading. Defaulting to empty config.\n",
      "WARNING:tensorflow:Model's `__init__()` arguments contain non-serializable objects. Please implement a `get_config()` method in the subclassed Model for proper saving and loading. Defaulting to empty config.\n",
      "score:  119.0\n",
      "score:  127.0\n",
      "score:  131.0\n",
      "score:  133.0\n",
      "Moviepy - Building video ./videos/RainbowDQN-CartPole-v1/2370/RainbowDQN-CartPole-v1-episode-1184.mp4.\n",
      "Moviepy - Writing video ./videos/RainbowDQN-CartPole-v1/2370/RainbowDQN-CartPole-v1-episode-1184.mp4\n",
      "\n"
     ]
    },
    {
     "name": "stderr",
     "output_type": "stream",
     "text": [
      "                                                              \r"
     ]
    },
    {
     "name": "stdout",
     "output_type": "stream",
     "text": [
      "Moviepy - Done !\n",
      "Moviepy - video ready ./videos/RainbowDQN-CartPole-v1/2370/RainbowDQN-CartPole-v1-episode-1184.mp4\n",
      "score:  112.0\n",
      "WARNING:tensorflow:Model's `__init__()` arguments contain non-serializable objects. Please implement a `get_config()` method in the subclassed Model for proper saving and loading. Defaulting to empty config.\n",
      "WARNING:tensorflow:Model's `__init__()` arguments contain non-serializable objects. Please implement a `get_config()` method in the subclassed Model for proper saving and loading. Defaulting to empty config.\n",
      "WARNING:tensorflow:Model's `__init__()` arguments contain non-serializable objects. Please implement a `get_config()` method in the subclassed Model for proper saving and loading. Defaulting to empty config.\n",
      "score:  114.0\n",
      "score:  136.0\n",
      "score:  115.0\n",
      "score:  114.0\n",
      "Moviepy - Building video ./videos/RainbowDQN-CartPole-v1/2380/RainbowDQN-CartPole-v1-episode-1189.mp4.\n",
      "Moviepy - Writing video ./videos/RainbowDQN-CartPole-v1/2380/RainbowDQN-CartPole-v1-episode-1189.mp4\n",
      "\n"
     ]
    },
    {
     "name": "stderr",
     "output_type": "stream",
     "text": [
      "                                                               \r"
     ]
    },
    {
     "name": "stdout",
     "output_type": "stream",
     "text": [
      "Moviepy - Done !\n",
      "Moviepy - video ready ./videos/RainbowDQN-CartPole-v1/2380/RainbowDQN-CartPole-v1-episode-1189.mp4\n",
      "score:  143.0\n",
      "WARNING:tensorflow:Model's `__init__()` arguments contain non-serializable objects. Please implement a `get_config()` method in the subclassed Model for proper saving and loading. Defaulting to empty config.\n",
      "WARNING:tensorflow:Model's `__init__()` arguments contain non-serializable objects. Please implement a `get_config()` method in the subclassed Model for proper saving and loading. Defaulting to empty config.\n",
      "WARNING:tensorflow:Model's `__init__()` arguments contain non-serializable objects. Please implement a `get_config()` method in the subclassed Model for proper saving and loading. Defaulting to empty config.\n",
      "score:  126.0\n",
      "score:  115.0\n",
      "score:  127.0\n",
      "score:  136.0\n",
      "Moviepy - Building video ./videos/RainbowDQN-CartPole-v1/2390/RainbowDQN-CartPole-v1-episode-1194.mp4.\n",
      "Moviepy - Writing video ./videos/RainbowDQN-CartPole-v1/2390/RainbowDQN-CartPole-v1-episode-1194.mp4\n",
      "\n"
     ]
    },
    {
     "name": "stderr",
     "output_type": "stream",
     "text": [
      "                                                              \r"
     ]
    },
    {
     "name": "stdout",
     "output_type": "stream",
     "text": [
      "Moviepy - Done !\n",
      "Moviepy - video ready ./videos/RainbowDQN-CartPole-v1/2390/RainbowDQN-CartPole-v1-episode-1194.mp4\n",
      "score:  118.0\n",
      "WARNING:tensorflow:Model's `__init__()` arguments contain non-serializable objects. Please implement a `get_config()` method in the subclassed Model for proper saving and loading. Defaulting to empty config.\n",
      "WARNING:tensorflow:Model's `__init__()` arguments contain non-serializable objects. Please implement a `get_config()` method in the subclassed Model for proper saving and loading. Defaulting to empty config.\n",
      "WARNING:tensorflow:Model's `__init__()` arguments contain non-serializable objects. Please implement a `get_config()` method in the subclassed Model for proper saving and loading. Defaulting to empty config.\n",
      "score:  106.0\n",
      "score:  114.0\n",
      "score:  125.0\n",
      "score:  118.0\n",
      "Moviepy - Building video ./videos/RainbowDQN-CartPole-v1/2400/RainbowDQN-CartPole-v1-episode-1199.mp4.\n",
      "Moviepy - Writing video ./videos/RainbowDQN-CartPole-v1/2400/RainbowDQN-CartPole-v1-episode-1199.mp4\n",
      "\n"
     ]
    },
    {
     "name": "stderr",
     "output_type": "stream",
     "text": [
      "                                                              \r"
     ]
    },
    {
     "name": "stdout",
     "output_type": "stream",
     "text": [
      "Moviepy - Done !\n",
      "Moviepy - video ready ./videos/RainbowDQN-CartPole-v1/2400/RainbowDQN-CartPole-v1-episode-1199.mp4\n",
      "score:  117.0\n",
      "WARNING:tensorflow:Model's `__init__()` arguments contain non-serializable objects. Please implement a `get_config()` method in the subclassed Model for proper saving and loading. Defaulting to empty config.\n",
      "WARNING:tensorflow:Model's `__init__()` arguments contain non-serializable objects. Please implement a `get_config()` method in the subclassed Model for proper saving and loading. Defaulting to empty config.\n",
      "WARNING:tensorflow:Model's `__init__()` arguments contain non-serializable objects. Please implement a `get_config()` method in the subclassed Model for proper saving and loading. Defaulting to empty config.\n",
      "score:  117.0\n",
      "score:  122.0\n",
      "score:  129.0\n",
      "score:  113.0\n",
      "Moviepy - Building video ./videos/RainbowDQN-CartPole-v1/2410/RainbowDQN-CartPole-v1-episode-1204.mp4.\n",
      "Moviepy - Writing video ./videos/RainbowDQN-CartPole-v1/2410/RainbowDQN-CartPole-v1-episode-1204.mp4\n",
      "\n"
     ]
    },
    {
     "name": "stderr",
     "output_type": "stream",
     "text": [
      "                                                              \r"
     ]
    },
    {
     "name": "stdout",
     "output_type": "stream",
     "text": [
      "Moviepy - Done !\n",
      "Moviepy - video ready ./videos/RainbowDQN-CartPole-v1/2410/RainbowDQN-CartPole-v1-episode-1204.mp4\n",
      "score:  129.0\n",
      "WARNING:tensorflow:Model's `__init__()` arguments contain non-serializable objects. Please implement a `get_config()` method in the subclassed Model for proper saving and loading. Defaulting to empty config.\n",
      "WARNING:tensorflow:Model's `__init__()` arguments contain non-serializable objects. Please implement a `get_config()` method in the subclassed Model for proper saving and loading. Defaulting to empty config.\n",
      "WARNING:tensorflow:Model's `__init__()` arguments contain non-serializable objects. Please implement a `get_config()` method in the subclassed Model for proper saving and loading. Defaulting to empty config.\n",
      "score:  121.0\n",
      "score:  109.0\n",
      "score:  118.0\n",
      "score:  116.0\n",
      "Moviepy - Building video ./videos/RainbowDQN-CartPole-v1/2420/RainbowDQN-CartPole-v1-episode-1209.mp4.\n",
      "Moviepy - Writing video ./videos/RainbowDQN-CartPole-v1/2420/RainbowDQN-CartPole-v1-episode-1209.mp4\n",
      "\n"
     ]
    },
    {
     "name": "stderr",
     "output_type": "stream",
     "text": [
      "                                                              \r"
     ]
    },
    {
     "name": "stdout",
     "output_type": "stream",
     "text": [
      "Moviepy - Done !\n",
      "Moviepy - video ready ./videos/RainbowDQN-CartPole-v1/2420/RainbowDQN-CartPole-v1-episode-1209.mp4\n",
      "score:  128.0\n",
      "WARNING:tensorflow:Model's `__init__()` arguments contain non-serializable objects. Please implement a `get_config()` method in the subclassed Model for proper saving and loading. Defaulting to empty config.\n",
      "WARNING:tensorflow:Model's `__init__()` arguments contain non-serializable objects. Please implement a `get_config()` method in the subclassed Model for proper saving and loading. Defaulting to empty config.\n",
      "WARNING:tensorflow:Model's `__init__()` arguments contain non-serializable objects. Please implement a `get_config()` method in the subclassed Model for proper saving and loading. Defaulting to empty config.\n",
      "score:  118.0\n",
      "score:  134.0\n",
      "score:  124.0\n",
      "score:  114.0\n",
      "Moviepy - Building video ./videos/RainbowDQN-CartPole-v1/2430/RainbowDQN-CartPole-v1-episode-1214.mp4.\n",
      "Moviepy - Writing video ./videos/RainbowDQN-CartPole-v1/2430/RainbowDQN-CartPole-v1-episode-1214.mp4\n",
      "\n"
     ]
    },
    {
     "name": "stderr",
     "output_type": "stream",
     "text": [
      "                                                              \r"
     ]
    },
    {
     "name": "stdout",
     "output_type": "stream",
     "text": [
      "Moviepy - Done !\n",
      "Moviepy - video ready ./videos/RainbowDQN-CartPole-v1/2430/RainbowDQN-CartPole-v1-episode-1214.mp4\n",
      "score:  119.0\n",
      "WARNING:tensorflow:Model's `__init__()` arguments contain non-serializable objects. Please implement a `get_config()` method in the subclassed Model for proper saving and loading. Defaulting to empty config.\n",
      "WARNING:tensorflow:Model's `__init__()` arguments contain non-serializable objects. Please implement a `get_config()` method in the subclassed Model for proper saving and loading. Defaulting to empty config.\n",
      "WARNING:tensorflow:Model's `__init__()` arguments contain non-serializable objects. Please implement a `get_config()` method in the subclassed Model for proper saving and loading. Defaulting to empty config.\n",
      "score:  112.0\n",
      "score:  137.0\n",
      "score:  145.0\n",
      "score:  112.0\n",
      "Moviepy - Building video ./videos/RainbowDQN-CartPole-v1/2440/RainbowDQN-CartPole-v1-episode-1219.mp4.\n",
      "Moviepy - Writing video ./videos/RainbowDQN-CartPole-v1/2440/RainbowDQN-CartPole-v1-episode-1219.mp4\n",
      "\n"
     ]
    },
    {
     "name": "stderr",
     "output_type": "stream",
     "text": [
      "                                                              \r"
     ]
    },
    {
     "name": "stdout",
     "output_type": "stream",
     "text": [
      "Moviepy - Done !\n",
      "Moviepy - video ready ./videos/RainbowDQN-CartPole-v1/2440/RainbowDQN-CartPole-v1-episode-1219.mp4\n",
      "score:  115.0\n",
      "WARNING:tensorflow:Model's `__init__()` arguments contain non-serializable objects. Please implement a `get_config()` method in the subclassed Model for proper saving and loading. Defaulting to empty config.\n",
      "WARNING:tensorflow:Model's `__init__()` arguments contain non-serializable objects. Please implement a `get_config()` method in the subclassed Model for proper saving and loading. Defaulting to empty config.\n",
      "WARNING:tensorflow:Model's `__init__()` arguments contain non-serializable objects. Please implement a `get_config()` method in the subclassed Model for proper saving and loading. Defaulting to empty config.\n",
      "score:  111.0\n",
      "score:  120.0\n",
      "score:  119.0\n",
      "score:  132.0\n",
      "Moviepy - Building video ./videos/RainbowDQN-CartPole-v1/2450/RainbowDQN-CartPole-v1-episode-1224.mp4.\n",
      "Moviepy - Writing video ./videos/RainbowDQN-CartPole-v1/2450/RainbowDQN-CartPole-v1-episode-1224.mp4\n",
      "\n"
     ]
    },
    {
     "name": "stderr",
     "output_type": "stream",
     "text": [
      "                                                              \r"
     ]
    },
    {
     "name": "stdout",
     "output_type": "stream",
     "text": [
      "Moviepy - Done !\n",
      "Moviepy - video ready ./videos/RainbowDQN-CartPole-v1/2450/RainbowDQN-CartPole-v1-episode-1224.mp4\n",
      "score:  113.0\n",
      "WARNING:tensorflow:Model's `__init__()` arguments contain non-serializable objects. Please implement a `get_config()` method in the subclassed Model for proper saving and loading. Defaulting to empty config.\n",
      "WARNING:tensorflow:Model's `__init__()` arguments contain non-serializable objects. Please implement a `get_config()` method in the subclassed Model for proper saving and loading. Defaulting to empty config.\n",
      "WARNING:tensorflow:Model's `__init__()` arguments contain non-serializable objects. Please implement a `get_config()` method in the subclassed Model for proper saving and loading. Defaulting to empty config.\n",
      "score:  119.0\n",
      "score:  114.0\n",
      "score:  135.0\n",
      "score:  117.0\n",
      "Moviepy - Building video ./videos/RainbowDQN-CartPole-v1/2460/RainbowDQN-CartPole-v1-episode-1229.mp4.\n",
      "Moviepy - Writing video ./videos/RainbowDQN-CartPole-v1/2460/RainbowDQN-CartPole-v1-episode-1229.mp4\n",
      "\n"
     ]
    },
    {
     "name": "stderr",
     "output_type": "stream",
     "text": [
      "                                                               \r"
     ]
    },
    {
     "name": "stdout",
     "output_type": "stream",
     "text": [
      "Moviepy - Done !\n",
      "Moviepy - video ready ./videos/RainbowDQN-CartPole-v1/2460/RainbowDQN-CartPole-v1-episode-1229.mp4\n",
      "score:  142.0\n",
      "WARNING:tensorflow:Model's `__init__()` arguments contain non-serializable objects. Please implement a `get_config()` method in the subclassed Model for proper saving and loading. Defaulting to empty config.\n",
      "WARNING:tensorflow:Model's `__init__()` arguments contain non-serializable objects. Please implement a `get_config()` method in the subclassed Model for proper saving and loading. Defaulting to empty config.\n",
      "WARNING:tensorflow:Model's `__init__()` arguments contain non-serializable objects. Please implement a `get_config()` method in the subclassed Model for proper saving and loading. Defaulting to empty config.\n",
      "score:  138.0\n",
      "score:  124.0\n",
      "score:  117.0\n",
      "score:  128.0\n",
      "Moviepy - Building video ./videos/RainbowDQN-CartPole-v1/2470/RainbowDQN-CartPole-v1-episode-1234.mp4.\n",
      "Moviepy - Writing video ./videos/RainbowDQN-CartPole-v1/2470/RainbowDQN-CartPole-v1-episode-1234.mp4\n",
      "\n"
     ]
    },
    {
     "name": "stderr",
     "output_type": "stream",
     "text": [
      "                                                              \r"
     ]
    },
    {
     "name": "stdout",
     "output_type": "stream",
     "text": [
      "Moviepy - Done !\n",
      "Moviepy - video ready ./videos/RainbowDQN-CartPole-v1/2470/RainbowDQN-CartPole-v1-episode-1234.mp4\n",
      "score:  130.0\n",
      "WARNING:tensorflow:Model's `__init__()` arguments contain non-serializable objects. Please implement a `get_config()` method in the subclassed Model for proper saving and loading. Defaulting to empty config.\n",
      "WARNING:tensorflow:Model's `__init__()` arguments contain non-serializable objects. Please implement a `get_config()` method in the subclassed Model for proper saving and loading. Defaulting to empty config.\n",
      "WARNING:tensorflow:Model's `__init__()` arguments contain non-serializable objects. Please implement a `get_config()` method in the subclassed Model for proper saving and loading. Defaulting to empty config.\n",
      "score:  119.0\n",
      "score:  111.0\n",
      "score:  113.0\n",
      "score:  124.0\n",
      "Moviepy - Building video ./videos/RainbowDQN-CartPole-v1/2480/RainbowDQN-CartPole-v1-episode-1239.mp4.\n",
      "Moviepy - Writing video ./videos/RainbowDQN-CartPole-v1/2480/RainbowDQN-CartPole-v1-episode-1239.mp4\n",
      "\n"
     ]
    },
    {
     "name": "stderr",
     "output_type": "stream",
     "text": [
      "                                                               \r"
     ]
    },
    {
     "name": "stdout",
     "output_type": "stream",
     "text": [
      "Moviepy - Done !\n",
      "Moviepy - video ready ./videos/RainbowDQN-CartPole-v1/2480/RainbowDQN-CartPole-v1-episode-1239.mp4\n",
      "score:  157.0\n",
      "WARNING:tensorflow:Model's `__init__()` arguments contain non-serializable objects. Please implement a `get_config()` method in the subclassed Model for proper saving and loading. Defaulting to empty config.\n",
      "WARNING:tensorflow:Model's `__init__()` arguments contain non-serializable objects. Please implement a `get_config()` method in the subclassed Model for proper saving and loading. Defaulting to empty config.\n",
      "WARNING:tensorflow:Model's `__init__()` arguments contain non-serializable objects. Please implement a `get_config()` method in the subclassed Model for proper saving and loading. Defaulting to empty config.\n",
      "score:  113.0\n",
      "score:  118.0\n",
      "score:  121.0\n",
      "score:  121.0\n",
      "Moviepy - Building video ./videos/RainbowDQN-CartPole-v1/2490/RainbowDQN-CartPole-v1-episode-1244.mp4.\n",
      "Moviepy - Writing video ./videos/RainbowDQN-CartPole-v1/2490/RainbowDQN-CartPole-v1-episode-1244.mp4\n",
      "\n"
     ]
    },
    {
     "name": "stderr",
     "output_type": "stream",
     "text": [
      "                                                             \r"
     ]
    },
    {
     "name": "stdout",
     "output_type": "stream",
     "text": [
      "Moviepy - Done !\n",
      "Moviepy - video ready ./videos/RainbowDQN-CartPole-v1/2490/RainbowDQN-CartPole-v1-episode-1244.mp4\n",
      "score:  125.0\n",
      "WARNING:tensorflow:Model's `__init__()` arguments contain non-serializable objects. Please implement a `get_config()` method in the subclassed Model for proper saving and loading. Defaulting to empty config.\n",
      "WARNING:tensorflow:Model's `__init__()` arguments contain non-serializable objects. Please implement a `get_config()` method in the subclassed Model for proper saving and loading. Defaulting to empty config.\n",
      "WARNING:tensorflow:Model's `__init__()` arguments contain non-serializable objects. Please implement a `get_config()` method in the subclassed Model for proper saving and loading. Defaulting to empty config.\n",
      "score:  117.0\n",
      "score:  120.0\n",
      "score:  116.0\n",
      "score:  123.0\n",
      "Moviepy - Building video ./videos/RainbowDQN-CartPole-v1/2500/RainbowDQN-CartPole-v1-episode-1249.mp4.\n",
      "Moviepy - Writing video ./videos/RainbowDQN-CartPole-v1/2500/RainbowDQN-CartPole-v1-episode-1249.mp4\n",
      "\n"
     ]
    },
    {
     "name": "stderr",
     "output_type": "stream",
     "text": [
      "                                                              \r"
     ]
    },
    {
     "name": "stdout",
     "output_type": "stream",
     "text": [
      "Moviepy - Done !\n",
      "Moviepy - video ready ./videos/RainbowDQN-CartPole-v1/2500/RainbowDQN-CartPole-v1-episode-1249.mp4\n",
      "score:  125.0\n",
      "WARNING:tensorflow:Model's `__init__()` arguments contain non-serializable objects. Please implement a `get_config()` method in the subclassed Model for proper saving and loading. Defaulting to empty config.\n",
      "WARNING:tensorflow:Model's `__init__()` arguments contain non-serializable objects. Please implement a `get_config()` method in the subclassed Model for proper saving and loading. Defaulting to empty config.\n",
      "WARNING:tensorflow:Model's `__init__()` arguments contain non-serializable objects. Please implement a `get_config()` method in the subclassed Model for proper saving and loading. Defaulting to empty config.\n",
      "score:  118.0\n",
      "score:  118.0\n",
      "score:  105.0\n",
      "score:  119.0\n",
      "Moviepy - Building video ./videos/RainbowDQN-CartPole-v1/2510/RainbowDQN-CartPole-v1-episode-1254.mp4.\n",
      "Moviepy - Writing video ./videos/RainbowDQN-CartPole-v1/2510/RainbowDQN-CartPole-v1-episode-1254.mp4\n",
      "\n"
     ]
    },
    {
     "name": "stderr",
     "output_type": "stream",
     "text": [
      "                                                            \r"
     ]
    },
    {
     "name": "stdout",
     "output_type": "stream",
     "text": [
      "Moviepy - Done !\n",
      "Moviepy - video ready ./videos/RainbowDQN-CartPole-v1/2510/RainbowDQN-CartPole-v1-episode-1254.mp4\n",
      "score:  120.0\n",
      "WARNING:tensorflow:Model's `__init__()` arguments contain non-serializable objects. Please implement a `get_config()` method in the subclassed Model for proper saving and loading. Defaulting to empty config.\n",
      "WARNING:tensorflow:Model's `__init__()` arguments contain non-serializable objects. Please implement a `get_config()` method in the subclassed Model for proper saving and loading. Defaulting to empty config.\n",
      "WARNING:tensorflow:Model's `__init__()` arguments contain non-serializable objects. Please implement a `get_config()` method in the subclassed Model for proper saving and loading. Defaulting to empty config.\n",
      "score:  120.0\n",
      "score:  113.0\n",
      "score:  123.0\n",
      "score:  126.0\n",
      "Moviepy - Building video ./videos/RainbowDQN-CartPole-v1/2520/RainbowDQN-CartPole-v1-episode-1259.mp4.\n",
      "Moviepy - Writing video ./videos/RainbowDQN-CartPole-v1/2520/RainbowDQN-CartPole-v1-episode-1259.mp4\n",
      "\n"
     ]
    },
    {
     "name": "stderr",
     "output_type": "stream",
     "text": [
      "                                                               \r"
     ]
    },
    {
     "name": "stdout",
     "output_type": "stream",
     "text": [
      "Moviepy - Done !\n",
      "Moviepy - video ready ./videos/RainbowDQN-CartPole-v1/2520/RainbowDQN-CartPole-v1-episode-1259.mp4\n",
      "score:  189.0\n",
      "WARNING:tensorflow:Model's `__init__()` arguments contain non-serializable objects. Please implement a `get_config()` method in the subclassed Model for proper saving and loading. Defaulting to empty config.\n",
      "WARNING:tensorflow:Model's `__init__()` arguments contain non-serializable objects. Please implement a `get_config()` method in the subclassed Model for proper saving and loading. Defaulting to empty config.\n",
      "WARNING:tensorflow:Model's `__init__()` arguments contain non-serializable objects. Please implement a `get_config()` method in the subclassed Model for proper saving and loading. Defaulting to empty config.\n",
      "score:  118.0\n",
      "score:  127.0\n",
      "score:  113.0\n",
      "score:  117.0\n",
      "Moviepy - Building video ./videos/RainbowDQN-CartPole-v1/2530/RainbowDQN-CartPole-v1-episode-1264.mp4.\n",
      "Moviepy - Writing video ./videos/RainbowDQN-CartPole-v1/2530/RainbowDQN-CartPole-v1-episode-1264.mp4\n",
      "\n"
     ]
    },
    {
     "name": "stderr",
     "output_type": "stream",
     "text": [
      "                                                            \r"
     ]
    },
    {
     "name": "stdout",
     "output_type": "stream",
     "text": [
      "Moviepy - Done !\n",
      "Moviepy - video ready ./videos/RainbowDQN-CartPole-v1/2530/RainbowDQN-CartPole-v1-episode-1264.mp4\n",
      "score:  111.0\n",
      "WARNING:tensorflow:Model's `__init__()` arguments contain non-serializable objects. Please implement a `get_config()` method in the subclassed Model for proper saving and loading. Defaulting to empty config.\n",
      "WARNING:tensorflow:Model's `__init__()` arguments contain non-serializable objects. Please implement a `get_config()` method in the subclassed Model for proper saving and loading. Defaulting to empty config.\n",
      "WARNING:tensorflow:Model's `__init__()` arguments contain non-serializable objects. Please implement a `get_config()` method in the subclassed Model for proper saving and loading. Defaulting to empty config.\n",
      "score:  139.0\n",
      "score:  125.0\n",
      "score:  147.0\n",
      "score:  138.0\n",
      "Moviepy - Building video ./videos/RainbowDQN-CartPole-v1/2540/RainbowDQN-CartPole-v1-episode-1269.mp4.\n",
      "Moviepy - Writing video ./videos/RainbowDQN-CartPole-v1/2540/RainbowDQN-CartPole-v1-episode-1269.mp4\n",
      "\n"
     ]
    },
    {
     "name": "stderr",
     "output_type": "stream",
     "text": [
      "                                                              \r"
     ]
    },
    {
     "name": "stdout",
     "output_type": "stream",
     "text": [
      "Moviepy - Done !\n",
      "Moviepy - video ready ./videos/RainbowDQN-CartPole-v1/2540/RainbowDQN-CartPole-v1-episode-1269.mp4\n",
      "score:  130.0\n",
      "WARNING:tensorflow:Model's `__init__()` arguments contain non-serializable objects. Please implement a `get_config()` method in the subclassed Model for proper saving and loading. Defaulting to empty config.\n",
      "WARNING:tensorflow:Model's `__init__()` arguments contain non-serializable objects. Please implement a `get_config()` method in the subclassed Model for proper saving and loading. Defaulting to empty config.\n",
      "WARNING:tensorflow:Model's `__init__()` arguments contain non-serializable objects. Please implement a `get_config()` method in the subclassed Model for proper saving and loading. Defaulting to empty config.\n",
      "score:  114.0\n",
      "score:  123.0\n",
      "score:  122.0\n",
      "score:  123.0\n",
      "Moviepy - Building video ./videos/RainbowDQN-CartPole-v1/2550/RainbowDQN-CartPole-v1-episode-1274.mp4.\n",
      "Moviepy - Writing video ./videos/RainbowDQN-CartPole-v1/2550/RainbowDQN-CartPole-v1-episode-1274.mp4\n",
      "\n"
     ]
    },
    {
     "name": "stderr",
     "output_type": "stream",
     "text": [
      "                                                             \r"
     ]
    },
    {
     "name": "stdout",
     "output_type": "stream",
     "text": [
      "Moviepy - Done !\n",
      "Moviepy - video ready ./videos/RainbowDQN-CartPole-v1/2550/RainbowDQN-CartPole-v1-episode-1274.mp4\n",
      "score:  128.0\n",
      "WARNING:tensorflow:Model's `__init__()` arguments contain non-serializable objects. Please implement a `get_config()` method in the subclassed Model for proper saving and loading. Defaulting to empty config.\n",
      "WARNING:tensorflow:Model's `__init__()` arguments contain non-serializable objects. Please implement a `get_config()` method in the subclassed Model for proper saving and loading. Defaulting to empty config.\n",
      "WARNING:tensorflow:Model's `__init__()` arguments contain non-serializable objects. Please implement a `get_config()` method in the subclassed Model for proper saving and loading. Defaulting to empty config.\n",
      "score:  115.0\n",
      "score:  115.0\n",
      "score:  118.0\n",
      "score:  126.0\n",
      "Moviepy - Building video ./videos/RainbowDQN-CartPole-v1/2560/RainbowDQN-CartPole-v1-episode-1279.mp4.\n",
      "Moviepy - Writing video ./videos/RainbowDQN-CartPole-v1/2560/RainbowDQN-CartPole-v1-episode-1279.mp4\n",
      "\n"
     ]
    },
    {
     "name": "stderr",
     "output_type": "stream",
     "text": [
      "                                                              \r"
     ]
    },
    {
     "name": "stdout",
     "output_type": "stream",
     "text": [
      "Moviepy - Done !\n",
      "Moviepy - video ready ./videos/RainbowDQN-CartPole-v1/2560/RainbowDQN-CartPole-v1-episode-1279.mp4\n",
      "score:  107.0\n",
      "WARNING:tensorflow:Model's `__init__()` arguments contain non-serializable objects. Please implement a `get_config()` method in the subclassed Model for proper saving and loading. Defaulting to empty config.\n",
      "WARNING:tensorflow:Model's `__init__()` arguments contain non-serializable objects. Please implement a `get_config()` method in the subclassed Model for proper saving and loading. Defaulting to empty config.\n",
      "WARNING:tensorflow:Model's `__init__()` arguments contain non-serializable objects. Please implement a `get_config()` method in the subclassed Model for proper saving and loading. Defaulting to empty config.\n",
      "score:  122.0\n",
      "score:  135.0\n",
      "score:  139.0\n",
      "score:  145.0\n",
      "Moviepy - Building video ./videos/RainbowDQN-CartPole-v1/2570/RainbowDQN-CartPole-v1-episode-1284.mp4.\n",
      "Moviepy - Writing video ./videos/RainbowDQN-CartPole-v1/2570/RainbowDQN-CartPole-v1-episode-1284.mp4\n",
      "\n"
     ]
    },
    {
     "name": "stderr",
     "output_type": "stream",
     "text": [
      "                                                              \r"
     ]
    },
    {
     "name": "stdout",
     "output_type": "stream",
     "text": [
      "Moviepy - Done !\n",
      "Moviepy - video ready ./videos/RainbowDQN-CartPole-v1/2570/RainbowDQN-CartPole-v1-episode-1284.mp4\n",
      "score:  126.0\n",
      "WARNING:tensorflow:Model's `__init__()` arguments contain non-serializable objects. Please implement a `get_config()` method in the subclassed Model for proper saving and loading. Defaulting to empty config.\n",
      "WARNING:tensorflow:Model's `__init__()` arguments contain non-serializable objects. Please implement a `get_config()` method in the subclassed Model for proper saving and loading. Defaulting to empty config.\n",
      "WARNING:tensorflow:Model's `__init__()` arguments contain non-serializable objects. Please implement a `get_config()` method in the subclassed Model for proper saving and loading. Defaulting to empty config.\n",
      "score:  118.0\n",
      "score:  128.0\n",
      "score:  116.0\n",
      "score:  143.0\n",
      "Moviepy - Building video ./videos/RainbowDQN-CartPole-v1/2580/RainbowDQN-CartPole-v1-episode-1289.mp4.\n",
      "Moviepy - Writing video ./videos/RainbowDQN-CartPole-v1/2580/RainbowDQN-CartPole-v1-episode-1289.mp4\n",
      "\n"
     ]
    },
    {
     "name": "stderr",
     "output_type": "stream",
     "text": [
      "                                                              \r"
     ]
    },
    {
     "name": "stdout",
     "output_type": "stream",
     "text": [
      "Moviepy - Done !\n",
      "Moviepy - video ready ./videos/RainbowDQN-CartPole-v1/2580/RainbowDQN-CartPole-v1-episode-1289.mp4\n",
      "score:  123.0\n",
      "WARNING:tensorflow:Model's `__init__()` arguments contain non-serializable objects. Please implement a `get_config()` method in the subclassed Model for proper saving and loading. Defaulting to empty config.\n",
      "WARNING:tensorflow:Model's `__init__()` arguments contain non-serializable objects. Please implement a `get_config()` method in the subclassed Model for proper saving and loading. Defaulting to empty config.\n",
      "WARNING:tensorflow:Model's `__init__()` arguments contain non-serializable objects. Please implement a `get_config()` method in the subclassed Model for proper saving and loading. Defaulting to empty config.\n",
      "score:  113.0\n",
      "score:  130.0\n",
      "score:  105.0\n",
      "score:  125.0\n",
      "Moviepy - Building video ./videos/RainbowDQN-CartPole-v1/2590/RainbowDQN-CartPole-v1-episode-1294.mp4.\n",
      "Moviepy - Writing video ./videos/RainbowDQN-CartPole-v1/2590/RainbowDQN-CartPole-v1-episode-1294.mp4\n",
      "\n"
     ]
    },
    {
     "name": "stderr",
     "output_type": "stream",
     "text": [
      "                                                            \r"
     ]
    },
    {
     "name": "stdout",
     "output_type": "stream",
     "text": [
      "Moviepy - Done !\n",
      "Moviepy - video ready ./videos/RainbowDQN-CartPole-v1/2590/RainbowDQN-CartPole-v1-episode-1294.mp4\n",
      "score:  112.0\n",
      "WARNING:tensorflow:Model's `__init__()` arguments contain non-serializable objects. Please implement a `get_config()` method in the subclassed Model for proper saving and loading. Defaulting to empty config.\n",
      "WARNING:tensorflow:Model's `__init__()` arguments contain non-serializable objects. Please implement a `get_config()` method in the subclassed Model for proper saving and loading. Defaulting to empty config.\n",
      "WARNING:tensorflow:Model's `__init__()` arguments contain non-serializable objects. Please implement a `get_config()` method in the subclassed Model for proper saving and loading. Defaulting to empty config.\n",
      "score:  119.0\n",
      "score:  120.0\n",
      "score:  124.0\n",
      "score:  129.0\n",
      "Moviepy - Building video ./videos/RainbowDQN-CartPole-v1/2600/RainbowDQN-CartPole-v1-episode-1299.mp4.\n",
      "Moviepy - Writing video ./videos/RainbowDQN-CartPole-v1/2600/RainbowDQN-CartPole-v1-episode-1299.mp4\n",
      "\n"
     ]
    },
    {
     "name": "stderr",
     "output_type": "stream",
     "text": [
      "                                                              \r"
     ]
    },
    {
     "name": "stdout",
     "output_type": "stream",
     "text": [
      "Moviepy - Done !\n",
      "Moviepy - video ready ./videos/RainbowDQN-CartPole-v1/2600/RainbowDQN-CartPole-v1-episode-1299.mp4\n",
      "score:  124.0\n",
      "WARNING:tensorflow:Model's `__init__()` arguments contain non-serializable objects. Please implement a `get_config()` method in the subclassed Model for proper saving and loading. Defaulting to empty config.\n",
      "WARNING:tensorflow:Model's `__init__()` arguments contain non-serializable objects. Please implement a `get_config()` method in the subclassed Model for proper saving and loading. Defaulting to empty config.\n",
      "WARNING:tensorflow:Model's `__init__()` arguments contain non-serializable objects. Please implement a `get_config()` method in the subclassed Model for proper saving and loading. Defaulting to empty config.\n",
      "score:  124.0\n",
      "score:  116.0\n",
      "score:  116.0\n",
      "score:  124.0\n",
      "Moviepy - Building video ./videos/RainbowDQN-CartPole-v1/2610/RainbowDQN-CartPole-v1-episode-1304.mp4.\n",
      "Moviepy - Writing video ./videos/RainbowDQN-CartPole-v1/2610/RainbowDQN-CartPole-v1-episode-1304.mp4\n",
      "\n"
     ]
    },
    {
     "name": "stderr",
     "output_type": "stream",
     "text": [
      "                                                              \r"
     ]
    },
    {
     "name": "stdout",
     "output_type": "stream",
     "text": [
      "Moviepy - Done !\n",
      "Moviepy - video ready ./videos/RainbowDQN-CartPole-v1/2610/RainbowDQN-CartPole-v1-episode-1304.mp4\n",
      "score:  116.0\n",
      "WARNING:tensorflow:Model's `__init__()` arguments contain non-serializable objects. Please implement a `get_config()` method in the subclassed Model for proper saving and loading. Defaulting to empty config.\n",
      "WARNING:tensorflow:Model's `__init__()` arguments contain non-serializable objects. Please implement a `get_config()` method in the subclassed Model for proper saving and loading. Defaulting to empty config.\n",
      "WARNING:tensorflow:Model's `__init__()` arguments contain non-serializable objects. Please implement a `get_config()` method in the subclassed Model for proper saving and loading. Defaulting to empty config.\n",
      "score:  130.0\n",
      "score:  115.0\n",
      "score:  140.0\n",
      "score:  127.0\n",
      "Moviepy - Building video ./videos/RainbowDQN-CartPole-v1/2620/RainbowDQN-CartPole-v1-episode-1309.mp4.\n",
      "Moviepy - Writing video ./videos/RainbowDQN-CartPole-v1/2620/RainbowDQN-CartPole-v1-episode-1309.mp4\n",
      "\n"
     ]
    },
    {
     "name": "stderr",
     "output_type": "stream",
     "text": [
      "                                                             \r"
     ]
    },
    {
     "name": "stdout",
     "output_type": "stream",
     "text": [
      "Moviepy - Done !\n",
      "Moviepy - video ready ./videos/RainbowDQN-CartPole-v1/2620/RainbowDQN-CartPole-v1-episode-1309.mp4\n",
      "score:  128.0\n",
      "WARNING:tensorflow:Model's `__init__()` arguments contain non-serializable objects. Please implement a `get_config()` method in the subclassed Model for proper saving and loading. Defaulting to empty config.\n",
      "WARNING:tensorflow:Model's `__init__()` arguments contain non-serializable objects. Please implement a `get_config()` method in the subclassed Model for proper saving and loading. Defaulting to empty config.\n",
      "WARNING:tensorflow:Model's `__init__()` arguments contain non-serializable objects. Please implement a `get_config()` method in the subclassed Model for proper saving and loading. Defaulting to empty config.\n",
      "score:  131.0\n",
      "score:  113.0\n",
      "score:  122.0\n",
      "score:  123.0\n",
      "Moviepy - Building video ./videos/RainbowDQN-CartPole-v1/2630/RainbowDQN-CartPole-v1-episode-1314.mp4.\n",
      "Moviepy - Writing video ./videos/RainbowDQN-CartPole-v1/2630/RainbowDQN-CartPole-v1-episode-1314.mp4\n",
      "\n"
     ]
    },
    {
     "name": "stderr",
     "output_type": "stream",
     "text": [
      "                                                              \r"
     ]
    },
    {
     "name": "stdout",
     "output_type": "stream",
     "text": [
      "Moviepy - Done !\n",
      "Moviepy - video ready ./videos/RainbowDQN-CartPole-v1/2630/RainbowDQN-CartPole-v1-episode-1314.mp4\n",
      "score:  115.0\n",
      "WARNING:tensorflow:Model's `__init__()` arguments contain non-serializable objects. Please implement a `get_config()` method in the subclassed Model for proper saving and loading. Defaulting to empty config.\n",
      "WARNING:tensorflow:Model's `__init__()` arguments contain non-serializable objects. Please implement a `get_config()` method in the subclassed Model for proper saving and loading. Defaulting to empty config.\n",
      "WARNING:tensorflow:Model's `__init__()` arguments contain non-serializable objects. Please implement a `get_config()` method in the subclassed Model for proper saving and loading. Defaulting to empty config.\n",
      "score:  111.0\n",
      "score:  110.0\n",
      "score:  133.0\n",
      "score:  124.0\n",
      "Moviepy - Building video ./videos/RainbowDQN-CartPole-v1/2640/RainbowDQN-CartPole-v1-episode-1319.mp4.\n",
      "Moviepy - Writing video ./videos/RainbowDQN-CartPole-v1/2640/RainbowDQN-CartPole-v1-episode-1319.mp4\n",
      "\n"
     ]
    },
    {
     "name": "stderr",
     "output_type": "stream",
     "text": [
      "                                                            \r"
     ]
    },
    {
     "name": "stdout",
     "output_type": "stream",
     "text": [
      "Moviepy - Done !\n",
      "Moviepy - video ready ./videos/RainbowDQN-CartPole-v1/2640/RainbowDQN-CartPole-v1-episode-1319.mp4\n",
      "score:  135.0\n",
      "WARNING:tensorflow:Model's `__init__()` arguments contain non-serializable objects. Please implement a `get_config()` method in the subclassed Model for proper saving and loading. Defaulting to empty config.\n",
      "WARNING:tensorflow:Model's `__init__()` arguments contain non-serializable objects. Please implement a `get_config()` method in the subclassed Model for proper saving and loading. Defaulting to empty config.\n",
      "WARNING:tensorflow:Model's `__init__()` arguments contain non-serializable objects. Please implement a `get_config()` method in the subclassed Model for proper saving and loading. Defaulting to empty config.\n",
      "score:  119.0\n",
      "score:  153.0\n",
      "score:  123.0\n",
      "score:  119.0\n",
      "Moviepy - Building video ./videos/RainbowDQN-CartPole-v1/2650/RainbowDQN-CartPole-v1-episode-1324.mp4.\n",
      "Moviepy - Writing video ./videos/RainbowDQN-CartPole-v1/2650/RainbowDQN-CartPole-v1-episode-1324.mp4\n",
      "\n"
     ]
    },
    {
     "name": "stderr",
     "output_type": "stream",
     "text": [
      "                                                            \r"
     ]
    },
    {
     "name": "stdout",
     "output_type": "stream",
     "text": [
      "Moviepy - Done !\n",
      "Moviepy - video ready ./videos/RainbowDQN-CartPole-v1/2650/RainbowDQN-CartPole-v1-episode-1324.mp4\n",
      "score:  122.0\n",
      "WARNING:tensorflow:Model's `__init__()` arguments contain non-serializable objects. Please implement a `get_config()` method in the subclassed Model for proper saving and loading. Defaulting to empty config.\n",
      "WARNING:tensorflow:Model's `__init__()` arguments contain non-serializable objects. Please implement a `get_config()` method in the subclassed Model for proper saving and loading. Defaulting to empty config.\n",
      "WARNING:tensorflow:Model's `__init__()` arguments contain non-serializable objects. Please implement a `get_config()` method in the subclassed Model for proper saving and loading. Defaulting to empty config.\n",
      "score:  130.0\n",
      "score:  122.0\n",
      "score:  137.0\n",
      "score:  117.0\n",
      "Moviepy - Building video ./videos/RainbowDQN-CartPole-v1/2660/RainbowDQN-CartPole-v1-episode-1329.mp4.\n",
      "Moviepy - Writing video ./videos/RainbowDQN-CartPole-v1/2660/RainbowDQN-CartPole-v1-episode-1329.mp4\n",
      "\n"
     ]
    },
    {
     "name": "stderr",
     "output_type": "stream",
     "text": [
      "                                                              \r"
     ]
    },
    {
     "name": "stdout",
     "output_type": "stream",
     "text": [
      "Moviepy - Done !\n",
      "Moviepy - video ready ./videos/RainbowDQN-CartPole-v1/2660/RainbowDQN-CartPole-v1-episode-1329.mp4\n",
      "score:  115.0\n",
      "WARNING:tensorflow:Model's `__init__()` arguments contain non-serializable objects. Please implement a `get_config()` method in the subclassed Model for proper saving and loading. Defaulting to empty config.\n",
      "WARNING:tensorflow:Model's `__init__()` arguments contain non-serializable objects. Please implement a `get_config()` method in the subclassed Model for proper saving and loading. Defaulting to empty config.\n",
      "WARNING:tensorflow:Model's `__init__()` arguments contain non-serializable objects. Please implement a `get_config()` method in the subclassed Model for proper saving and loading. Defaulting to empty config.\n",
      "score:  115.0\n",
      "score:  117.0\n",
      "score:  121.0\n",
      "score:  122.0\n",
      "Moviepy - Building video ./videos/RainbowDQN-CartPole-v1/2670/RainbowDQN-CartPole-v1-episode-1334.mp4.\n",
      "Moviepy - Writing video ./videos/RainbowDQN-CartPole-v1/2670/RainbowDQN-CartPole-v1-episode-1334.mp4\n",
      "\n"
     ]
    },
    {
     "name": "stderr",
     "output_type": "stream",
     "text": [
      "                                                              \r"
     ]
    },
    {
     "name": "stdout",
     "output_type": "stream",
     "text": [
      "Moviepy - Done !\n",
      "Moviepy - video ready ./videos/RainbowDQN-CartPole-v1/2670/RainbowDQN-CartPole-v1-episode-1334.mp4\n",
      "score:  117.0\n",
      "WARNING:tensorflow:Model's `__init__()` arguments contain non-serializable objects. Please implement a `get_config()` method in the subclassed Model for proper saving and loading. Defaulting to empty config.\n",
      "WARNING:tensorflow:Model's `__init__()` arguments contain non-serializable objects. Please implement a `get_config()` method in the subclassed Model for proper saving and loading. Defaulting to empty config.\n",
      "WARNING:tensorflow:Model's `__init__()` arguments contain non-serializable objects. Please implement a `get_config()` method in the subclassed Model for proper saving and loading. Defaulting to empty config.\n",
      "score:  125.0\n",
      "score:  124.0\n",
      "score:  130.0\n",
      "score:  122.0\n",
      "Moviepy - Building video ./videos/RainbowDQN-CartPole-v1/2680/RainbowDQN-CartPole-v1-episode-1339.mp4.\n",
      "Moviepy - Writing video ./videos/RainbowDQN-CartPole-v1/2680/RainbowDQN-CartPole-v1-episode-1339.mp4\n",
      "\n"
     ]
    },
    {
     "name": "stderr",
     "output_type": "stream",
     "text": [
      "                                                              \r"
     ]
    },
    {
     "name": "stdout",
     "output_type": "stream",
     "text": [
      "Moviepy - Done !\n",
      "Moviepy - video ready ./videos/RainbowDQN-CartPole-v1/2680/RainbowDQN-CartPole-v1-episode-1339.mp4\n",
      "score:  139.0\n",
      "WARNING:tensorflow:Model's `__init__()` arguments contain non-serializable objects. Please implement a `get_config()` method in the subclassed Model for proper saving and loading. Defaulting to empty config.\n",
      "WARNING:tensorflow:Model's `__init__()` arguments contain non-serializable objects. Please implement a `get_config()` method in the subclassed Model for proper saving and loading. Defaulting to empty config.\n",
      "WARNING:tensorflow:Model's `__init__()` arguments contain non-serializable objects. Please implement a `get_config()` method in the subclassed Model for proper saving and loading. Defaulting to empty config.\n",
      "score:  122.0\n",
      "score:  111.0\n",
      "score:  121.0\n",
      "score:  114.0\n",
      "Moviepy - Building video ./videos/RainbowDQN-CartPole-v1/2690/RainbowDQN-CartPole-v1-episode-1344.mp4.\n",
      "Moviepy - Writing video ./videos/RainbowDQN-CartPole-v1/2690/RainbowDQN-CartPole-v1-episode-1344.mp4\n",
      "\n"
     ]
    },
    {
     "name": "stderr",
     "output_type": "stream",
     "text": [
      "                                                               \r"
     ]
    },
    {
     "name": "stdout",
     "output_type": "stream",
     "text": [
      "Moviepy - Done !\n",
      "Moviepy - video ready ./videos/RainbowDQN-CartPole-v1/2690/RainbowDQN-CartPole-v1-episode-1344.mp4\n",
      "score:  129.0\n",
      "WARNING:tensorflow:Model's `__init__()` arguments contain non-serializable objects. Please implement a `get_config()` method in the subclassed Model for proper saving and loading. Defaulting to empty config.\n",
      "WARNING:tensorflow:Model's `__init__()` arguments contain non-serializable objects. Please implement a `get_config()` method in the subclassed Model for proper saving and loading. Defaulting to empty config.\n",
      "WARNING:tensorflow:Model's `__init__()` arguments contain non-serializable objects. Please implement a `get_config()` method in the subclassed Model for proper saving and loading. Defaulting to empty config.\n",
      "score:  121.0\n",
      "score:  119.0\n",
      "score:  114.0\n",
      "score:  147.0\n",
      "Moviepy - Building video ./videos/RainbowDQN-CartPole-v1/2700/RainbowDQN-CartPole-v1-episode-1349.mp4.\n",
      "Moviepy - Writing video ./videos/RainbowDQN-CartPole-v1/2700/RainbowDQN-CartPole-v1-episode-1349.mp4\n",
      "\n"
     ]
    },
    {
     "name": "stderr",
     "output_type": "stream",
     "text": [
      "                                                              \r"
     ]
    },
    {
     "name": "stdout",
     "output_type": "stream",
     "text": [
      "Moviepy - Done !\n",
      "Moviepy - video ready ./videos/RainbowDQN-CartPole-v1/2700/RainbowDQN-CartPole-v1-episode-1349.mp4\n",
      "score:  138.0\n",
      "WARNING:tensorflow:Model's `__init__()` arguments contain non-serializable objects. Please implement a `get_config()` method in the subclassed Model for proper saving and loading. Defaulting to empty config.\n",
      "WARNING:tensorflow:Model's `__init__()` arguments contain non-serializable objects. Please implement a `get_config()` method in the subclassed Model for proper saving and loading. Defaulting to empty config.\n",
      "WARNING:tensorflow:Model's `__init__()` arguments contain non-serializable objects. Please implement a `get_config()` method in the subclassed Model for proper saving and loading. Defaulting to empty config.\n",
      "score:  132.0\n",
      "score:  114.0\n",
      "score:  137.0\n",
      "score:  134.0\n",
      "Moviepy - Building video ./videos/RainbowDQN-CartPole-v1/2710/RainbowDQN-CartPole-v1-episode-1354.mp4.\n",
      "Moviepy - Writing video ./videos/RainbowDQN-CartPole-v1/2710/RainbowDQN-CartPole-v1-episode-1354.mp4\n",
      "\n"
     ]
    },
    {
     "name": "stderr",
     "output_type": "stream",
     "text": [
      "                                                               \r"
     ]
    },
    {
     "name": "stdout",
     "output_type": "stream",
     "text": [
      "Moviepy - Done !\n",
      "Moviepy - video ready ./videos/RainbowDQN-CartPole-v1/2710/RainbowDQN-CartPole-v1-episode-1354.mp4\n",
      "score:  123.0\n",
      "WARNING:tensorflow:Model's `__init__()` arguments contain non-serializable objects. Please implement a `get_config()` method in the subclassed Model for proper saving and loading. Defaulting to empty config.\n",
      "WARNING:tensorflow:Model's `__init__()` arguments contain non-serializable objects. Please implement a `get_config()` method in the subclassed Model for proper saving and loading. Defaulting to empty config.\n",
      "WARNING:tensorflow:Model's `__init__()` arguments contain non-serializable objects. Please implement a `get_config()` method in the subclassed Model for proper saving and loading. Defaulting to empty config.\n",
      "score:  111.0\n",
      "score:  119.0\n",
      "score:  130.0\n",
      "score:  131.0\n",
      "Moviepy - Building video ./videos/RainbowDQN-CartPole-v1/2720/RainbowDQN-CartPole-v1-episode-1359.mp4.\n",
      "Moviepy - Writing video ./videos/RainbowDQN-CartPole-v1/2720/RainbowDQN-CartPole-v1-episode-1359.mp4\n",
      "\n"
     ]
    },
    {
     "name": "stderr",
     "output_type": "stream",
     "text": [
      "                                                              \r"
     ]
    },
    {
     "name": "stdout",
     "output_type": "stream",
     "text": [
      "Moviepy - Done !\n",
      "Moviepy - video ready ./videos/RainbowDQN-CartPole-v1/2720/RainbowDQN-CartPole-v1-episode-1359.mp4\n",
      "score:  131.0\n",
      "WARNING:tensorflow:Model's `__init__()` arguments contain non-serializable objects. Please implement a `get_config()` method in the subclassed Model for proper saving and loading. Defaulting to empty config.\n",
      "WARNING:tensorflow:Model's `__init__()` arguments contain non-serializable objects. Please implement a `get_config()` method in the subclassed Model for proper saving and loading. Defaulting to empty config.\n",
      "WARNING:tensorflow:Model's `__init__()` arguments contain non-serializable objects. Please implement a `get_config()` method in the subclassed Model for proper saving and loading. Defaulting to empty config.\n",
      "score:  119.0\n",
      "score:  116.0\n",
      "score:  114.0\n",
      "score:  127.0\n",
      "Moviepy - Building video ./videos/RainbowDQN-CartPole-v1/2730/RainbowDQN-CartPole-v1-episode-1364.mp4.\n",
      "Moviepy - Writing video ./videos/RainbowDQN-CartPole-v1/2730/RainbowDQN-CartPole-v1-episode-1364.mp4\n",
      "\n"
     ]
    },
    {
     "name": "stderr",
     "output_type": "stream",
     "text": [
      "                                                              \r"
     ]
    },
    {
     "name": "stdout",
     "output_type": "stream",
     "text": [
      "Moviepy - Done !\n",
      "Moviepy - video ready ./videos/RainbowDQN-CartPole-v1/2730/RainbowDQN-CartPole-v1-episode-1364.mp4\n",
      "score:  118.0\n",
      "WARNING:tensorflow:Model's `__init__()` arguments contain non-serializable objects. Please implement a `get_config()` method in the subclassed Model for proper saving and loading. Defaulting to empty config.\n",
      "WARNING:tensorflow:Model's `__init__()` arguments contain non-serializable objects. Please implement a `get_config()` method in the subclassed Model for proper saving and loading. Defaulting to empty config.\n",
      "WARNING:tensorflow:Model's `__init__()` arguments contain non-serializable objects. Please implement a `get_config()` method in the subclassed Model for proper saving and loading. Defaulting to empty config.\n",
      "score:  114.0\n",
      "score:  135.0\n",
      "score:  115.0\n",
      "score:  114.0\n",
      "Moviepy - Building video ./videos/RainbowDQN-CartPole-v1/2740/RainbowDQN-CartPole-v1-episode-1369.mp4.\n",
      "Moviepy - Writing video ./videos/RainbowDQN-CartPole-v1/2740/RainbowDQN-CartPole-v1-episode-1369.mp4\n",
      "\n"
     ]
    },
    {
     "name": "stderr",
     "output_type": "stream",
     "text": [
      "                                                               \r"
     ]
    },
    {
     "name": "stdout",
     "output_type": "stream",
     "text": [
      "Moviepy - Done !\n",
      "Moviepy - video ready ./videos/RainbowDQN-CartPole-v1/2740/RainbowDQN-CartPole-v1-episode-1369.mp4\n",
      "score:  145.0\n",
      "WARNING:tensorflow:Model's `__init__()` arguments contain non-serializable objects. Please implement a `get_config()` method in the subclassed Model for proper saving and loading. Defaulting to empty config.\n",
      "WARNING:tensorflow:Model's `__init__()` arguments contain non-serializable objects. Please implement a `get_config()` method in the subclassed Model for proper saving and loading. Defaulting to empty config.\n",
      "WARNING:tensorflow:Model's `__init__()` arguments contain non-serializable objects. Please implement a `get_config()` method in the subclassed Model for proper saving and loading. Defaulting to empty config.\n",
      "score:  129.0\n",
      "score:  139.0\n",
      "score:  124.0\n",
      "score:  127.0\n",
      "Moviepy - Building video ./videos/RainbowDQN-CartPole-v1/2750/RainbowDQN-CartPole-v1-episode-1374.mp4.\n",
      "Moviepy - Writing video ./videos/RainbowDQN-CartPole-v1/2750/RainbowDQN-CartPole-v1-episode-1374.mp4\n",
      "\n"
     ]
    },
    {
     "name": "stderr",
     "output_type": "stream",
     "text": [
      "                                                            \r"
     ]
    },
    {
     "name": "stdout",
     "output_type": "stream",
     "text": [
      "Moviepy - Done !\n",
      "Moviepy - video ready ./videos/RainbowDQN-CartPole-v1/2750/RainbowDQN-CartPole-v1-episode-1374.mp4\n",
      "score:  125.0\n",
      "WARNING:tensorflow:Model's `__init__()` arguments contain non-serializable objects. Please implement a `get_config()` method in the subclassed Model for proper saving and loading. Defaulting to empty config.\n",
      "WARNING:tensorflow:Model's `__init__()` arguments contain non-serializable objects. Please implement a `get_config()` method in the subclassed Model for proper saving and loading. Defaulting to empty config.\n",
      "WARNING:tensorflow:Model's `__init__()` arguments contain non-serializable objects. Please implement a `get_config()` method in the subclassed Model for proper saving and loading. Defaulting to empty config.\n",
      "score:  127.0\n",
      "score:  123.0\n",
      "score:  124.0\n",
      "score:  120.0\n",
      "Moviepy - Building video ./videos/RainbowDQN-CartPole-v1/2760/RainbowDQN-CartPole-v1-episode-1379.mp4.\n",
      "Moviepy - Writing video ./videos/RainbowDQN-CartPole-v1/2760/RainbowDQN-CartPole-v1-episode-1379.mp4\n",
      "\n"
     ]
    },
    {
     "name": "stderr",
     "output_type": "stream",
     "text": [
      "                                                              \r"
     ]
    },
    {
     "name": "stdout",
     "output_type": "stream",
     "text": [
      "Moviepy - Done !\n",
      "Moviepy - video ready ./videos/RainbowDQN-CartPole-v1/2760/RainbowDQN-CartPole-v1-episode-1379.mp4\n",
      "score:  120.0\n",
      "WARNING:tensorflow:Model's `__init__()` arguments contain non-serializable objects. Please implement a `get_config()` method in the subclassed Model for proper saving and loading. Defaulting to empty config.\n",
      "WARNING:tensorflow:Model's `__init__()` arguments contain non-serializable objects. Please implement a `get_config()` method in the subclassed Model for proper saving and loading. Defaulting to empty config.\n",
      "WARNING:tensorflow:Model's `__init__()` arguments contain non-serializable objects. Please implement a `get_config()` method in the subclassed Model for proper saving and loading. Defaulting to empty config.\n",
      "score:  135.0\n",
      "score:  117.0\n",
      "score:  123.0\n",
      "score:  126.0\n",
      "Moviepy - Building video ./videos/RainbowDQN-CartPole-v1/2770/RainbowDQN-CartPole-v1-episode-1384.mp4.\n",
      "Moviepy - Writing video ./videos/RainbowDQN-CartPole-v1/2770/RainbowDQN-CartPole-v1-episode-1384.mp4\n",
      "\n"
     ]
    },
    {
     "name": "stderr",
     "output_type": "stream",
     "text": [
      "                                                              \r"
     ]
    },
    {
     "name": "stdout",
     "output_type": "stream",
     "text": [
      "Moviepy - Done !\n",
      "Moviepy - video ready ./videos/RainbowDQN-CartPole-v1/2770/RainbowDQN-CartPole-v1-episode-1384.mp4\n",
      "score:  136.0\n",
      "WARNING:tensorflow:Model's `__init__()` arguments contain non-serializable objects. Please implement a `get_config()` method in the subclassed Model for proper saving and loading. Defaulting to empty config.\n",
      "WARNING:tensorflow:Model's `__init__()` arguments contain non-serializable objects. Please implement a `get_config()` method in the subclassed Model for proper saving and loading. Defaulting to empty config.\n",
      "WARNING:tensorflow:Model's `__init__()` arguments contain non-serializable objects. Please implement a `get_config()` method in the subclassed Model for proper saving and loading. Defaulting to empty config.\n",
      "score:  124.0\n",
      "score:  145.0\n",
      "score:  137.0\n",
      "score:  122.0\n",
      "Moviepy - Building video ./videos/RainbowDQN-CartPole-v1/2780/RainbowDQN-CartPole-v1-episode-1389.mp4.\n",
      "Moviepy - Writing video ./videos/RainbowDQN-CartPole-v1/2780/RainbowDQN-CartPole-v1-episode-1389.mp4\n",
      "\n"
     ]
    },
    {
     "name": "stderr",
     "output_type": "stream",
     "text": [
      "                                                              \r"
     ]
    },
    {
     "name": "stdout",
     "output_type": "stream",
     "text": [
      "Moviepy - Done !\n",
      "Moviepy - video ready ./videos/RainbowDQN-CartPole-v1/2780/RainbowDQN-CartPole-v1-episode-1389.mp4\n",
      "score:  124.0\n",
      "WARNING:tensorflow:Model's `__init__()` arguments contain non-serializable objects. Please implement a `get_config()` method in the subclassed Model for proper saving and loading. Defaulting to empty config.\n",
      "WARNING:tensorflow:Model's `__init__()` arguments contain non-serializable objects. Please implement a `get_config()` method in the subclassed Model for proper saving and loading. Defaulting to empty config.\n",
      "WARNING:tensorflow:Model's `__init__()` arguments contain non-serializable objects. Please implement a `get_config()` method in the subclassed Model for proper saving and loading. Defaulting to empty config.\n",
      "score:  124.0\n",
      "score:  135.0\n",
      "score:  120.0\n",
      "score:  130.0\n",
      "Moviepy - Building video ./videos/RainbowDQN-CartPole-v1/2790/RainbowDQN-CartPole-v1-episode-1394.mp4.\n",
      "Moviepy - Writing video ./videos/RainbowDQN-CartPole-v1/2790/RainbowDQN-CartPole-v1-episode-1394.mp4\n",
      "\n"
     ]
    },
    {
     "name": "stderr",
     "output_type": "stream",
     "text": [
      "                                                              \r"
     ]
    },
    {
     "name": "stdout",
     "output_type": "stream",
     "text": [
      "Moviepy - Done !\n",
      "Moviepy - video ready ./videos/RainbowDQN-CartPole-v1/2790/RainbowDQN-CartPole-v1-episode-1394.mp4\n",
      "score:  141.0\n",
      "WARNING:tensorflow:Model's `__init__()` arguments contain non-serializable objects. Please implement a `get_config()` method in the subclassed Model for proper saving and loading. Defaulting to empty config.\n",
      "WARNING:tensorflow:Model's `__init__()` arguments contain non-serializable objects. Please implement a `get_config()` method in the subclassed Model for proper saving and loading. Defaulting to empty config.\n",
      "WARNING:tensorflow:Model's `__init__()` arguments contain non-serializable objects. Please implement a `get_config()` method in the subclassed Model for proper saving and loading. Defaulting to empty config.\n",
      "score:  129.0\n",
      "score:  119.0\n",
      "score:  129.0\n",
      "score:  117.0\n",
      "Moviepy - Building video ./videos/RainbowDQN-CartPole-v1/2800/RainbowDQN-CartPole-v1-episode-1399.mp4.\n",
      "Moviepy - Writing video ./videos/RainbowDQN-CartPole-v1/2800/RainbowDQN-CartPole-v1-episode-1399.mp4\n",
      "\n"
     ]
    },
    {
     "name": "stderr",
     "output_type": "stream",
     "text": [
      "                                                               \r"
     ]
    },
    {
     "name": "stdout",
     "output_type": "stream",
     "text": [
      "Moviepy - Done !\n",
      "Moviepy - video ready ./videos/RainbowDQN-CartPole-v1/2800/RainbowDQN-CartPole-v1-episode-1399.mp4\n",
      "score:  133.0\n",
      "WARNING:tensorflow:Model's `__init__()` arguments contain non-serializable objects. Please implement a `get_config()` method in the subclassed Model for proper saving and loading. Defaulting to empty config.\n",
      "WARNING:tensorflow:Model's `__init__()` arguments contain non-serializable objects. Please implement a `get_config()` method in the subclassed Model for proper saving and loading. Defaulting to empty config.\n",
      "WARNING:tensorflow:Model's `__init__()` arguments contain non-serializable objects. Please implement a `get_config()` method in the subclassed Model for proper saving and loading. Defaulting to empty config.\n",
      "score:  123.0\n",
      "score:  116.0\n",
      "score:  121.0\n",
      "score:  128.0\n",
      "Moviepy - Building video ./videos/RainbowDQN-CartPole-v1/2810/RainbowDQN-CartPole-v1-episode-1404.mp4.\n",
      "Moviepy - Writing video ./videos/RainbowDQN-CartPole-v1/2810/RainbowDQN-CartPole-v1-episode-1404.mp4\n",
      "\n"
     ]
    },
    {
     "name": "stderr",
     "output_type": "stream",
     "text": [
      "                                                              \r"
     ]
    },
    {
     "name": "stdout",
     "output_type": "stream",
     "text": [
      "Moviepy - Done !\n",
      "Moviepy - video ready ./videos/RainbowDQN-CartPole-v1/2810/RainbowDQN-CartPole-v1-episode-1404.mp4\n",
      "score:  129.0\n",
      "WARNING:tensorflow:Model's `__init__()` arguments contain non-serializable objects. Please implement a `get_config()` method in the subclassed Model for proper saving and loading. Defaulting to empty config.\n",
      "WARNING:tensorflow:Model's `__init__()` arguments contain non-serializable objects. Please implement a `get_config()` method in the subclassed Model for proper saving and loading. Defaulting to empty config.\n",
      "WARNING:tensorflow:Model's `__init__()` arguments contain non-serializable objects. Please implement a `get_config()` method in the subclassed Model for proper saving and loading. Defaulting to empty config.\n",
      "score:  131.0\n",
      "score:  125.0\n",
      "score:  111.0\n",
      "score:  131.0\n",
      "Moviepy - Building video ./videos/RainbowDQN-CartPole-v1/2820/RainbowDQN-CartPole-v1-episode-1409.mp4.\n",
      "Moviepy - Writing video ./videos/RainbowDQN-CartPole-v1/2820/RainbowDQN-CartPole-v1-episode-1409.mp4\n",
      "\n"
     ]
    },
    {
     "name": "stderr",
     "output_type": "stream",
     "text": [
      "                                                            \r"
     ]
    },
    {
     "name": "stdout",
     "output_type": "stream",
     "text": [
      "Moviepy - Done !\n",
      "Moviepy - video ready ./videos/RainbowDQN-CartPole-v1/2820/RainbowDQN-CartPole-v1-episode-1409.mp4\n",
      "score:  117.0\n",
      "WARNING:tensorflow:Model's `__init__()` arguments contain non-serializable objects. Please implement a `get_config()` method in the subclassed Model for proper saving and loading. Defaulting to empty config.\n",
      "WARNING:tensorflow:Model's `__init__()` arguments contain non-serializable objects. Please implement a `get_config()` method in the subclassed Model for proper saving and loading. Defaulting to empty config.\n",
      "WARNING:tensorflow:Model's `__init__()` arguments contain non-serializable objects. Please implement a `get_config()` method in the subclassed Model for proper saving and loading. Defaulting to empty config.\n",
      "score:  123.0\n",
      "score:  135.0\n",
      "score:  135.0\n",
      "score:  119.0\n",
      "Moviepy - Building video ./videos/RainbowDQN-CartPole-v1/2830/RainbowDQN-CartPole-v1-episode-1414.mp4.\n",
      "Moviepy - Writing video ./videos/RainbowDQN-CartPole-v1/2830/RainbowDQN-CartPole-v1-episode-1414.mp4\n",
      "\n"
     ]
    },
    {
     "name": "stderr",
     "output_type": "stream",
     "text": [
      "                                                              \r"
     ]
    },
    {
     "name": "stdout",
     "output_type": "stream",
     "text": [
      "Moviepy - Done !\n",
      "Moviepy - video ready ./videos/RainbowDQN-CartPole-v1/2830/RainbowDQN-CartPole-v1-episode-1414.mp4\n",
      "score:  147.0\n",
      "WARNING:tensorflow:Model's `__init__()` arguments contain non-serializable objects. Please implement a `get_config()` method in the subclassed Model for proper saving and loading. Defaulting to empty config.\n",
      "WARNING:tensorflow:Model's `__init__()` arguments contain non-serializable objects. Please implement a `get_config()` method in the subclassed Model for proper saving and loading. Defaulting to empty config.\n",
      "WARNING:tensorflow:Model's `__init__()` arguments contain non-serializable objects. Please implement a `get_config()` method in the subclassed Model for proper saving and loading. Defaulting to empty config.\n",
      "score:  133.0\n",
      "score:  113.0\n",
      "score:  115.0\n",
      "score:  118.0\n",
      "Moviepy - Building video ./videos/RainbowDQN-CartPole-v1/2840/RainbowDQN-CartPole-v1-episode-1419.mp4.\n",
      "Moviepy - Writing video ./videos/RainbowDQN-CartPole-v1/2840/RainbowDQN-CartPole-v1-episode-1419.mp4\n",
      "\n"
     ]
    },
    {
     "name": "stderr",
     "output_type": "stream",
     "text": [
      "                                                               \r"
     ]
    },
    {
     "name": "stdout",
     "output_type": "stream",
     "text": [
      "Moviepy - Done !\n",
      "Moviepy - video ready ./videos/RainbowDQN-CartPole-v1/2840/RainbowDQN-CartPole-v1-episode-1419.mp4\n",
      "score:  122.0\n",
      "WARNING:tensorflow:Model's `__init__()` arguments contain non-serializable objects. Please implement a `get_config()` method in the subclassed Model for proper saving and loading. Defaulting to empty config.\n",
      "WARNING:tensorflow:Model's `__init__()` arguments contain non-serializable objects. Please implement a `get_config()` method in the subclassed Model for proper saving and loading. Defaulting to empty config.\n",
      "WARNING:tensorflow:Model's `__init__()` arguments contain non-serializable objects. Please implement a `get_config()` method in the subclassed Model for proper saving and loading. Defaulting to empty config.\n",
      "score:  137.0\n",
      "score:  125.0\n",
      "score:  148.0\n",
      "score:  137.0\n",
      "Moviepy - Building video ./videos/RainbowDQN-CartPole-v1/2850/RainbowDQN-CartPole-v1-episode-1424.mp4.\n",
      "Moviepy - Writing video ./videos/RainbowDQN-CartPole-v1/2850/RainbowDQN-CartPole-v1-episode-1424.mp4\n",
      "\n"
     ]
    },
    {
     "name": "stderr",
     "output_type": "stream",
     "text": [
      "                                                            \r"
     ]
    },
    {
     "name": "stdout",
     "output_type": "stream",
     "text": [
      "Moviepy - Done !\n",
      "Moviepy - video ready ./videos/RainbowDQN-CartPole-v1/2850/RainbowDQN-CartPole-v1-episode-1424.mp4\n",
      "score:  119.0\n",
      "WARNING:tensorflow:Model's `__init__()` arguments contain non-serializable objects. Please implement a `get_config()` method in the subclassed Model for proper saving and loading. Defaulting to empty config.\n",
      "WARNING:tensorflow:Model's `__init__()` arguments contain non-serializable objects. Please implement a `get_config()` method in the subclassed Model for proper saving and loading. Defaulting to empty config.\n",
      "WARNING:tensorflow:Model's `__init__()` arguments contain non-serializable objects. Please implement a `get_config()` method in the subclassed Model for proper saving and loading. Defaulting to empty config.\n",
      "score:  118.0\n",
      "score:  124.0\n",
      "score:  108.0\n",
      "score:  137.0\n",
      "Moviepy - Building video ./videos/RainbowDQN-CartPole-v1/2860/RainbowDQN-CartPole-v1-episode-1429.mp4.\n",
      "Moviepy - Writing video ./videos/RainbowDQN-CartPole-v1/2860/RainbowDQN-CartPole-v1-episode-1429.mp4\n",
      "\n"
     ]
    },
    {
     "name": "stderr",
     "output_type": "stream",
     "text": [
      "                                                              \r"
     ]
    },
    {
     "name": "stdout",
     "output_type": "stream",
     "text": [
      "Moviepy - Done !\n",
      "Moviepy - video ready ./videos/RainbowDQN-CartPole-v1/2860/RainbowDQN-CartPole-v1-episode-1429.mp4\n",
      "score:  137.0\n",
      "WARNING:tensorflow:Model's `__init__()` arguments contain non-serializable objects. Please implement a `get_config()` method in the subclassed Model for proper saving and loading. Defaulting to empty config.\n",
      "WARNING:tensorflow:Model's `__init__()` arguments contain non-serializable objects. Please implement a `get_config()` method in the subclassed Model for proper saving and loading. Defaulting to empty config.\n",
      "WARNING:tensorflow:Model's `__init__()` arguments contain non-serializable objects. Please implement a `get_config()` method in the subclassed Model for proper saving and loading. Defaulting to empty config.\n",
      "score:  144.0\n",
      "score:  122.0\n",
      "score:  122.0\n",
      "score:  137.0\n",
      "Moviepy - Building video ./videos/RainbowDQN-CartPole-v1/2870/RainbowDQN-CartPole-v1-episode-1434.mp4.\n",
      "Moviepy - Writing video ./videos/RainbowDQN-CartPole-v1/2870/RainbowDQN-CartPole-v1-episode-1434.mp4\n",
      "\n"
     ]
    },
    {
     "name": "stderr",
     "output_type": "stream",
     "text": [
      "                                                              \r"
     ]
    },
    {
     "name": "stdout",
     "output_type": "stream",
     "text": [
      "Moviepy - Done !\n",
      "Moviepy - video ready ./videos/RainbowDQN-CartPole-v1/2870/RainbowDQN-CartPole-v1-episode-1434.mp4\n",
      "score:  123.0\n",
      "WARNING:tensorflow:Model's `__init__()` arguments contain non-serializable objects. Please implement a `get_config()` method in the subclassed Model for proper saving and loading. Defaulting to empty config.\n",
      "WARNING:tensorflow:Model's `__init__()` arguments contain non-serializable objects. Please implement a `get_config()` method in the subclassed Model for proper saving and loading. Defaulting to empty config.\n",
      "WARNING:tensorflow:Model's `__init__()` arguments contain non-serializable objects. Please implement a `get_config()` method in the subclassed Model for proper saving and loading. Defaulting to empty config.\n",
      "score:  127.0\n",
      "score:  134.0\n",
      "score:  139.0\n",
      "score:  122.0\n",
      "Moviepy - Building video ./videos/RainbowDQN-CartPole-v1/2880/RainbowDQN-CartPole-v1-episode-1439.mp4.\n",
      "Moviepy - Writing video ./videos/RainbowDQN-CartPole-v1/2880/RainbowDQN-CartPole-v1-episode-1439.mp4\n",
      "\n"
     ]
    },
    {
     "name": "stderr",
     "output_type": "stream",
     "text": [
      "                                                              \r"
     ]
    },
    {
     "name": "stdout",
     "output_type": "stream",
     "text": [
      "Moviepy - Done !\n",
      "Moviepy - video ready ./videos/RainbowDQN-CartPole-v1/2880/RainbowDQN-CartPole-v1-episode-1439.mp4\n",
      "score:  118.0\n",
      "WARNING:tensorflow:Model's `__init__()` arguments contain non-serializable objects. Please implement a `get_config()` method in the subclassed Model for proper saving and loading. Defaulting to empty config.\n",
      "WARNING:tensorflow:Model's `__init__()` arguments contain non-serializable objects. Please implement a `get_config()` method in the subclassed Model for proper saving and loading. Defaulting to empty config.\n",
      "WARNING:tensorflow:Model's `__init__()` arguments contain non-serializable objects. Please implement a `get_config()` method in the subclassed Model for proper saving and loading. Defaulting to empty config.\n",
      "score:  117.0\n",
      "score:  117.0\n",
      "score:  119.0\n",
      "score:  126.0\n",
      "Moviepy - Building video ./videos/RainbowDQN-CartPole-v1/2890/RainbowDQN-CartPole-v1-episode-1444.mp4.\n",
      "Moviepy - Writing video ./videos/RainbowDQN-CartPole-v1/2890/RainbowDQN-CartPole-v1-episode-1444.mp4\n",
      "\n"
     ]
    },
    {
     "name": "stderr",
     "output_type": "stream",
     "text": [
      "                                                              \r"
     ]
    },
    {
     "name": "stdout",
     "output_type": "stream",
     "text": [
      "Moviepy - Done !\n",
      "Moviepy - video ready ./videos/RainbowDQN-CartPole-v1/2890/RainbowDQN-CartPole-v1-episode-1444.mp4\n",
      "score:  120.0\n",
      "WARNING:tensorflow:Model's `__init__()` arguments contain non-serializable objects. Please implement a `get_config()` method in the subclassed Model for proper saving and loading. Defaulting to empty config.\n",
      "WARNING:tensorflow:Model's `__init__()` arguments contain non-serializable objects. Please implement a `get_config()` method in the subclassed Model for proper saving and loading. Defaulting to empty config.\n",
      "WARNING:tensorflow:Model's `__init__()` arguments contain non-serializable objects. Please implement a `get_config()` method in the subclassed Model for proper saving and loading. Defaulting to empty config.\n",
      "score:  121.0\n",
      "score:  130.0\n",
      "score:  143.0\n",
      "score:  115.0\n",
      "Moviepy - Building video ./videos/RainbowDQN-CartPole-v1/2900/RainbowDQN-CartPole-v1-episode-1449.mp4.\n",
      "Moviepy - Writing video ./videos/RainbowDQN-CartPole-v1/2900/RainbowDQN-CartPole-v1-episode-1449.mp4\n",
      "\n"
     ]
    },
    {
     "name": "stderr",
     "output_type": "stream",
     "text": [
      "                                                              \r"
     ]
    },
    {
     "name": "stdout",
     "output_type": "stream",
     "text": [
      "Moviepy - Done !\n",
      "Moviepy - video ready ./videos/RainbowDQN-CartPole-v1/2900/RainbowDQN-CartPole-v1-episode-1449.mp4\n",
      "score:  141.0\n",
      "WARNING:tensorflow:Model's `__init__()` arguments contain non-serializable objects. Please implement a `get_config()` method in the subclassed Model for proper saving and loading. Defaulting to empty config.\n",
      "WARNING:tensorflow:Model's `__init__()` arguments contain non-serializable objects. Please implement a `get_config()` method in the subclassed Model for proper saving and loading. Defaulting to empty config.\n",
      "WARNING:tensorflow:Model's `__init__()` arguments contain non-serializable objects. Please implement a `get_config()` method in the subclassed Model for proper saving and loading. Defaulting to empty config.\n",
      "score:  114.0\n",
      "score:  113.0\n",
      "score:  184.0\n",
      "score:  133.0\n",
      "Moviepy - Building video ./videos/RainbowDQN-CartPole-v1/2910/RainbowDQN-CartPole-v1-episode-1454.mp4.\n",
      "Moviepy - Writing video ./videos/RainbowDQN-CartPole-v1/2910/RainbowDQN-CartPole-v1-episode-1454.mp4\n",
      "\n"
     ]
    },
    {
     "name": "stderr",
     "output_type": "stream",
     "text": [
      "                                                            \r"
     ]
    },
    {
     "name": "stdout",
     "output_type": "stream",
     "text": [
      "Moviepy - Done !\n",
      "Moviepy - video ready ./videos/RainbowDQN-CartPole-v1/2910/RainbowDQN-CartPole-v1-episode-1454.mp4\n",
      "score:  118.0\n",
      "WARNING:tensorflow:Model's `__init__()` arguments contain non-serializable objects. Please implement a `get_config()` method in the subclassed Model for proper saving and loading. Defaulting to empty config.\n",
      "WARNING:tensorflow:Model's `__init__()` arguments contain non-serializable objects. Please implement a `get_config()` method in the subclassed Model for proper saving and loading. Defaulting to empty config.\n",
      "WARNING:tensorflow:Model's `__init__()` arguments contain non-serializable objects. Please implement a `get_config()` method in the subclassed Model for proper saving and loading. Defaulting to empty config.\n",
      "score:  125.0\n",
      "score:  115.0\n",
      "score:  129.0\n",
      "score:  119.0\n",
      "Moviepy - Building video ./videos/RainbowDQN-CartPole-v1/2920/RainbowDQN-CartPole-v1-episode-1459.mp4.\n",
      "Moviepy - Writing video ./videos/RainbowDQN-CartPole-v1/2920/RainbowDQN-CartPole-v1-episode-1459.mp4\n",
      "\n"
     ]
    },
    {
     "name": "stderr",
     "output_type": "stream",
     "text": [
      "                                                              \r"
     ]
    },
    {
     "name": "stdout",
     "output_type": "stream",
     "text": [
      "Moviepy - Done !\n",
      "Moviepy - video ready ./videos/RainbowDQN-CartPole-v1/2920/RainbowDQN-CartPole-v1-episode-1459.mp4\n",
      "score:  121.0\n",
      "WARNING:tensorflow:Model's `__init__()` arguments contain non-serializable objects. Please implement a `get_config()` method in the subclassed Model for proper saving and loading. Defaulting to empty config.\n",
      "WARNING:tensorflow:Model's `__init__()` arguments contain non-serializable objects. Please implement a `get_config()` method in the subclassed Model for proper saving and loading. Defaulting to empty config.\n",
      "WARNING:tensorflow:Model's `__init__()` arguments contain non-serializable objects. Please implement a `get_config()` method in the subclassed Model for proper saving and loading. Defaulting to empty config.\n",
      "score:  114.0\n",
      "score:  126.0\n",
      "score:  126.0\n",
      "score:  119.0\n",
      "Moviepy - Building video ./videos/RainbowDQN-CartPole-v1/2930/RainbowDQN-CartPole-v1-episode-1464.mp4.\n",
      "Moviepy - Writing video ./videos/RainbowDQN-CartPole-v1/2930/RainbowDQN-CartPole-v1-episode-1464.mp4\n",
      "\n"
     ]
    },
    {
     "name": "stderr",
     "output_type": "stream",
     "text": [
      "                                                              \r"
     ]
    },
    {
     "name": "stdout",
     "output_type": "stream",
     "text": [
      "Moviepy - Done !\n",
      "Moviepy - video ready ./videos/RainbowDQN-CartPole-v1/2930/RainbowDQN-CartPole-v1-episode-1464.mp4\n",
      "score:  127.0\n"
     ]
    },
    {
     "ename": "KeyboardInterrupt",
     "evalue": "",
     "output_type": "error",
     "traceback": [
      "\u001b[0;31m---------------------------------------------------------------------------\u001b[0m",
      "\u001b[0;31mAttributeError\u001b[0m                            Traceback (most recent call last)",
      "File \u001b[0;32m~/Library/Python/3.9/lib/python/site-packages/PIL/ImageFile.py:536\u001b[0m, in \u001b[0;36m_save\u001b[0;34m(im, fp, tile, bufsize)\u001b[0m\n\u001b[1;32m    535\u001b[0m \u001b[38;5;28;01mtry\u001b[39;00m:\n\u001b[0;32m--> 536\u001b[0m     fh \u001b[38;5;241m=\u001b[39m \u001b[43mfp\u001b[49m\u001b[38;5;241;43m.\u001b[39;49m\u001b[43mfileno\u001b[49m()\n\u001b[1;32m    537\u001b[0m     fp\u001b[38;5;241m.\u001b[39mflush()\n",
      "\u001b[0;31mAttributeError\u001b[0m: '_idat' object has no attribute 'fileno'",
      "\nDuring handling of the above exception, another exception occurred:\n",
      "\u001b[0;31mKeyboardInterrupt\u001b[0m                         Traceback (most recent call last)",
      "Cell \u001b[0;32mIn[5], line 7\u001b[0m\n\u001b[1;32m      5\u001b[0m agent \u001b[38;5;241m=\u001b[39m RainbowAgent(env, config, \u001b[38;5;124m\"\u001b[39m\u001b[38;5;124mRainbowDQN-\u001b[39m\u001b[38;5;132;01m{}\u001b[39;00m\u001b[38;5;124m\"\u001b[39m\u001b[38;5;241m.\u001b[39mformat(env\u001b[38;5;241m.\u001b[39munwrapped\u001b[38;5;241m.\u001b[39mspec\u001b[38;5;241m.\u001b[39mid))\n\u001b[1;32m      6\u001b[0m agent\u001b[38;5;241m.\u001b[39mcheckpoint_interval \u001b[38;5;241m=\u001b[39m \u001b[38;5;241m10\u001b[39m\n\u001b[0;32m----> 7\u001b[0m \u001b[43magent\u001b[49m\u001b[38;5;241;43m.\u001b[39;49m\u001b[43mtrain\u001b[49m\u001b[43m(\u001b[49m\u001b[43m)\u001b[49m\n",
      "File \u001b[0;32m~/Documents/GitHub/rl-stuff/rainbow/rainbow_agent.py:480\u001b[0m, in \u001b[0;36mRainbowAgent.train\u001b[0;34m(self)\u001b[0m\n\u001b[1;32m    477\u001b[0m         \u001b[38;5;28mself\u001b[39m\u001b[38;5;241m.\u001b[39mupdate_target_model(training_step)\n\u001b[1;32m    479\u001b[0m     \u001b[38;5;28;01mif\u001b[39;00m training_step \u001b[38;5;241m%\u001b[39m \u001b[38;5;28mself\u001b[39m\u001b[38;5;241m.\u001b[39mcheckpoint_interval \u001b[38;5;241m==\u001b[39m \u001b[38;5;241m0\u001b[39m \u001b[38;5;129;01mand\u001b[39;00m training_step \u001b[38;5;241m>\u001b[39m \u001b[38;5;241m0\u001b[39m:\n\u001b[0;32m--> 480\u001b[0m         \u001b[38;5;28;43mself\u001b[39;49m\u001b[38;5;241;43m.\u001b[39;49m\u001b[43msave_checkpoint\u001b[49m\u001b[43m(\u001b[49m\n\u001b[1;32m    481\u001b[0m \u001b[43m            \u001b[49m\u001b[43mstats\u001b[49m\u001b[43m,\u001b[49m\n\u001b[1;32m    482\u001b[0m \u001b[43m            \u001b[49m\u001b[43mtargets\u001b[49m\u001b[43m,\u001b[49m\n\u001b[1;32m    483\u001b[0m \u001b[43m            \u001b[49m\u001b[38;5;241;43m5\u001b[39;49m\u001b[43m,\u001b[49m\n\u001b[1;32m    484\u001b[0m \u001b[43m            \u001b[49m\u001b[43mtraining_step\u001b[49m\u001b[43m,\u001b[49m\n\u001b[1;32m    485\u001b[0m \u001b[43m            \u001b[49m\u001b[43mtraining_step\u001b[49m\u001b[43m \u001b[49m\u001b[38;5;241;43m*\u001b[39;49m\u001b[43m \u001b[49m\u001b[38;5;28;43mself\u001b[39;49m\u001b[38;5;241;43m.\u001b[39;49m\u001b[43mconfig\u001b[49m\u001b[38;5;241;43m.\u001b[39;49m\u001b[43mreplay_interval\u001b[49m\u001b[43m,\u001b[49m\n\u001b[1;32m    486\u001b[0m \u001b[43m            \u001b[49m\u001b[43mtime\u001b[49m\u001b[43m(\u001b[49m\u001b[43m)\u001b[49m\u001b[43m \u001b[49m\u001b[38;5;241;43m-\u001b[39;49m\u001b[43m \u001b[49m\u001b[43mtraining_time\u001b[49m\u001b[43m,\u001b[49m\n\u001b[1;32m    487\u001b[0m \u001b[43m        \u001b[49m\u001b[43m)\u001b[49m\n\u001b[1;32m    488\u001b[0m \u001b[38;5;28mself\u001b[39m\u001b[38;5;241m.\u001b[39msave_checkpoint(\n\u001b[1;32m    489\u001b[0m     stats,\n\u001b[1;32m    490\u001b[0m     targets,\n\u001b[0;32m   (...)\u001b[0m\n\u001b[1;32m    494\u001b[0m     time() \u001b[38;5;241m-\u001b[39m training_time,\n\u001b[1;32m    495\u001b[0m )\n\u001b[1;32m    496\u001b[0m \u001b[38;5;28mself\u001b[39m\u001b[38;5;241m.\u001b[39menv\u001b[38;5;241m.\u001b[39mclose()\n",
      "File \u001b[0;32m~/Documents/GitHub/rl-stuff/rainbow/../base_agent/agent.py:156\u001b[0m, in \u001b[0;36mBaseAgent.save_checkpoint\u001b[0;34m(self, stats, targets, num_trials, training_step, frames_seen, time_taken)\u001b[0m\n\u001b[1;32m    154\u001b[0m stats[\u001b[38;5;124m\"\u001b[39m\u001b[38;5;124mtest_score\u001b[39m\u001b[38;5;124m\"\u001b[39m]\u001b[38;5;241m.\u001b[39mappend(test_score)\n\u001b[1;32m    155\u001b[0m \u001b[38;5;66;03m# plot the graphs\u001b[39;00m\n\u001b[0;32m--> 156\u001b[0m \u001b[43mplot_graphs\u001b[49m\u001b[43m(\u001b[49m\n\u001b[1;32m    157\u001b[0m \u001b[43m    \u001b[49m\u001b[43mstats\u001b[49m\u001b[43m,\u001b[49m\u001b[43m \u001b[49m\u001b[43mtargets\u001b[49m\u001b[43m,\u001b[49m\u001b[43m \u001b[49m\u001b[43mtraining_step\u001b[49m\u001b[43m,\u001b[49m\u001b[43m \u001b[49m\u001b[43mframes_seen\u001b[49m\u001b[43m,\u001b[49m\u001b[43m \u001b[49m\u001b[43mtime_taken\u001b[49m\u001b[43m,\u001b[49m\u001b[43m \u001b[49m\u001b[38;5;28;43mself\u001b[39;49m\u001b[38;5;241;43m.\u001b[39;49m\u001b[43mmodel_name\u001b[49m\n\u001b[1;32m    158\u001b[0m \u001b[43m\u001b[49m\u001b[43m)\u001b[49m\n",
      "File \u001b[0;32m~/Documents/GitHub/rl-stuff/packages/utils/utils/utils.py:286\u001b[0m, in \u001b[0;36mplot_graphs\u001b[0;34m(stats, targets, step, frames_seen, time_taken, model_name)\u001b[0m\n\u001b[1;32m    284\u001b[0m \u001b[38;5;28;01mif\u001b[39;00m \u001b[38;5;129;01mnot\u001b[39;00m os\u001b[38;5;241m.\u001b[39mpath\u001b[38;5;241m.\u001b[39mexists(\u001b[38;5;124m\"\u001b[39m\u001b[38;5;124m./training_graphs/\u001b[39m\u001b[38;5;132;01m{}\u001b[39;00m\u001b[38;5;124m\"\u001b[39m\u001b[38;5;241m.\u001b[39mformat(model_name)):\n\u001b[1;32m    285\u001b[0m     os\u001b[38;5;241m.\u001b[39mmakedirs(\u001b[38;5;124m\"\u001b[39m\u001b[38;5;124m./training_graphs/\u001b[39m\u001b[38;5;132;01m{}\u001b[39;00m\u001b[38;5;124m\"\u001b[39m\u001b[38;5;241m.\u001b[39mformat(model_name))\n\u001b[0;32m--> 286\u001b[0m \u001b[43mplt\u001b[49m\u001b[38;5;241;43m.\u001b[39;49m\u001b[43msavefig\u001b[49m\u001b[43m(\u001b[49m\u001b[38;5;124;43m\"\u001b[39;49m\u001b[38;5;124;43m./training_graphs/\u001b[39;49m\u001b[38;5;132;43;01m{}\u001b[39;49;00m\u001b[38;5;124;43m/\u001b[39;49m\u001b[38;5;132;43;01m{}\u001b[39;49;00m\u001b[38;5;124;43m.png\u001b[39;49m\u001b[38;5;124;43m\"\u001b[39;49m\u001b[38;5;241;43m.\u001b[39;49m\u001b[43mformat\u001b[49m\u001b[43m(\u001b[49m\u001b[43mmodel_name\u001b[49m\u001b[43m,\u001b[49m\u001b[43m \u001b[49m\u001b[43mmodel_name\u001b[49m\u001b[43m)\u001b[49m\u001b[43m)\u001b[49m\n\u001b[1;32m    288\u001b[0m plt\u001b[38;5;241m.\u001b[39mclose(fig)\n",
      "File \u001b[0;32m~/Library/Python/3.9/lib/python/site-packages/matplotlib/pyplot.py:1119\u001b[0m, in \u001b[0;36msavefig\u001b[0;34m(*args, **kwargs)\u001b[0m\n\u001b[1;32m   1116\u001b[0m fig \u001b[38;5;241m=\u001b[39m gcf()\n\u001b[1;32m   1117\u001b[0m \u001b[38;5;66;03m# savefig default implementation has no return, so mypy is unhappy\u001b[39;00m\n\u001b[1;32m   1118\u001b[0m \u001b[38;5;66;03m# presumably this is here because subclasses can return?\u001b[39;00m\n\u001b[0;32m-> 1119\u001b[0m res \u001b[38;5;241m=\u001b[39m \u001b[43mfig\u001b[49m\u001b[38;5;241;43m.\u001b[39;49m\u001b[43msavefig\u001b[49m\u001b[43m(\u001b[49m\u001b[38;5;241;43m*\u001b[39;49m\u001b[43margs\u001b[49m\u001b[43m,\u001b[49m\u001b[43m \u001b[49m\u001b[38;5;241;43m*\u001b[39;49m\u001b[38;5;241;43m*\u001b[39;49m\u001b[43mkwargs\u001b[49m\u001b[43m)\u001b[49m  \u001b[38;5;66;03m# type: ignore[func-returns-value]\u001b[39;00m\n\u001b[1;32m   1120\u001b[0m fig\u001b[38;5;241m.\u001b[39mcanvas\u001b[38;5;241m.\u001b[39mdraw_idle()  \u001b[38;5;66;03m# Need this if 'transparent=True', to reset colors.\u001b[39;00m\n\u001b[1;32m   1121\u001b[0m \u001b[38;5;28;01mreturn\u001b[39;00m res\n",
      "File \u001b[0;32m~/Library/Python/3.9/lib/python/site-packages/matplotlib/figure.py:3390\u001b[0m, in \u001b[0;36mFigure.savefig\u001b[0;34m(self, fname, transparent, **kwargs)\u001b[0m\n\u001b[1;32m   3388\u001b[0m     \u001b[38;5;28;01mfor\u001b[39;00m ax \u001b[38;5;129;01min\u001b[39;00m \u001b[38;5;28mself\u001b[39m\u001b[38;5;241m.\u001b[39maxes:\n\u001b[1;32m   3389\u001b[0m         _recursively_make_axes_transparent(stack, ax)\n\u001b[0;32m-> 3390\u001b[0m \u001b[38;5;28;43mself\u001b[39;49m\u001b[38;5;241;43m.\u001b[39;49m\u001b[43mcanvas\u001b[49m\u001b[38;5;241;43m.\u001b[39;49m\u001b[43mprint_figure\u001b[49m\u001b[43m(\u001b[49m\u001b[43mfname\u001b[49m\u001b[43m,\u001b[49m\u001b[43m \u001b[49m\u001b[38;5;241;43m*\u001b[39;49m\u001b[38;5;241;43m*\u001b[39;49m\u001b[43mkwargs\u001b[49m\u001b[43m)\u001b[49m\n",
      "File \u001b[0;32m~/Library/Python/3.9/lib/python/site-packages/matplotlib/backend_bases.py:2193\u001b[0m, in \u001b[0;36mFigureCanvasBase.print_figure\u001b[0;34m(self, filename, dpi, facecolor, edgecolor, orientation, format, bbox_inches, pad_inches, bbox_extra_artists, backend, **kwargs)\u001b[0m\n\u001b[1;32m   2189\u001b[0m \u001b[38;5;28;01mtry\u001b[39;00m:\n\u001b[1;32m   2190\u001b[0m     \u001b[38;5;66;03m# _get_renderer may change the figure dpi (as vector formats\u001b[39;00m\n\u001b[1;32m   2191\u001b[0m     \u001b[38;5;66;03m# force the figure dpi to 72), so we need to set it again here.\u001b[39;00m\n\u001b[1;32m   2192\u001b[0m     \u001b[38;5;28;01mwith\u001b[39;00m cbook\u001b[38;5;241m.\u001b[39m_setattr_cm(\u001b[38;5;28mself\u001b[39m\u001b[38;5;241m.\u001b[39mfigure, dpi\u001b[38;5;241m=\u001b[39mdpi):\n\u001b[0;32m-> 2193\u001b[0m         result \u001b[38;5;241m=\u001b[39m \u001b[43mprint_method\u001b[49m\u001b[43m(\u001b[49m\n\u001b[1;32m   2194\u001b[0m \u001b[43m            \u001b[49m\u001b[43mfilename\u001b[49m\u001b[43m,\u001b[49m\n\u001b[1;32m   2195\u001b[0m \u001b[43m            \u001b[49m\u001b[43mfacecolor\u001b[49m\u001b[38;5;241;43m=\u001b[39;49m\u001b[43mfacecolor\u001b[49m\u001b[43m,\u001b[49m\n\u001b[1;32m   2196\u001b[0m \u001b[43m            \u001b[49m\u001b[43medgecolor\u001b[49m\u001b[38;5;241;43m=\u001b[39;49m\u001b[43medgecolor\u001b[49m\u001b[43m,\u001b[49m\n\u001b[1;32m   2197\u001b[0m \u001b[43m            \u001b[49m\u001b[43morientation\u001b[49m\u001b[38;5;241;43m=\u001b[39;49m\u001b[43morientation\u001b[49m\u001b[43m,\u001b[49m\n\u001b[1;32m   2198\u001b[0m \u001b[43m            \u001b[49m\u001b[43mbbox_inches_restore\u001b[49m\u001b[38;5;241;43m=\u001b[39;49m\u001b[43m_bbox_inches_restore\u001b[49m\u001b[43m,\u001b[49m\n\u001b[1;32m   2199\u001b[0m \u001b[43m            \u001b[49m\u001b[38;5;241;43m*\u001b[39;49m\u001b[38;5;241;43m*\u001b[39;49m\u001b[43mkwargs\u001b[49m\u001b[43m)\u001b[49m\n\u001b[1;32m   2200\u001b[0m \u001b[38;5;28;01mfinally\u001b[39;00m:\n\u001b[1;32m   2201\u001b[0m     \u001b[38;5;28;01mif\u001b[39;00m bbox_inches \u001b[38;5;129;01mand\u001b[39;00m restore_bbox:\n",
      "File \u001b[0;32m~/Library/Python/3.9/lib/python/site-packages/matplotlib/backend_bases.py:2043\u001b[0m, in \u001b[0;36mFigureCanvasBase._switch_canvas_and_return_print_method.<locals>.<lambda>\u001b[0;34m(*args, **kwargs)\u001b[0m\n\u001b[1;32m   2039\u001b[0m     optional_kws \u001b[38;5;241m=\u001b[39m {  \u001b[38;5;66;03m# Passed by print_figure for other renderers.\u001b[39;00m\n\u001b[1;32m   2040\u001b[0m         \u001b[38;5;124m\"\u001b[39m\u001b[38;5;124mdpi\u001b[39m\u001b[38;5;124m\"\u001b[39m, \u001b[38;5;124m\"\u001b[39m\u001b[38;5;124mfacecolor\u001b[39m\u001b[38;5;124m\"\u001b[39m, \u001b[38;5;124m\"\u001b[39m\u001b[38;5;124medgecolor\u001b[39m\u001b[38;5;124m\"\u001b[39m, \u001b[38;5;124m\"\u001b[39m\u001b[38;5;124morientation\u001b[39m\u001b[38;5;124m\"\u001b[39m,\n\u001b[1;32m   2041\u001b[0m         \u001b[38;5;124m\"\u001b[39m\u001b[38;5;124mbbox_inches_restore\u001b[39m\u001b[38;5;124m\"\u001b[39m}\n\u001b[1;32m   2042\u001b[0m     skip \u001b[38;5;241m=\u001b[39m optional_kws \u001b[38;5;241m-\u001b[39m {\u001b[38;5;241m*\u001b[39minspect\u001b[38;5;241m.\u001b[39msignature(meth)\u001b[38;5;241m.\u001b[39mparameters}\n\u001b[0;32m-> 2043\u001b[0m     print_method \u001b[38;5;241m=\u001b[39m functools\u001b[38;5;241m.\u001b[39mwraps(meth)(\u001b[38;5;28;01mlambda\u001b[39;00m \u001b[38;5;241m*\u001b[39margs, \u001b[38;5;241m*\u001b[39m\u001b[38;5;241m*\u001b[39mkwargs: \u001b[43mmeth\u001b[49m\u001b[43m(\u001b[49m\n\u001b[1;32m   2044\u001b[0m \u001b[43m        \u001b[49m\u001b[38;5;241;43m*\u001b[39;49m\u001b[43margs\u001b[49m\u001b[43m,\u001b[49m\u001b[43m \u001b[49m\u001b[38;5;241;43m*\u001b[39;49m\u001b[38;5;241;43m*\u001b[39;49m\u001b[43m{\u001b[49m\u001b[43mk\u001b[49m\u001b[43m:\u001b[49m\u001b[43m \u001b[49m\u001b[43mv\u001b[49m\u001b[43m \u001b[49m\u001b[38;5;28;43;01mfor\u001b[39;49;00m\u001b[43m \u001b[49m\u001b[43mk\u001b[49m\u001b[43m,\u001b[49m\u001b[43m \u001b[49m\u001b[43mv\u001b[49m\u001b[43m \u001b[49m\u001b[38;5;129;43;01min\u001b[39;49;00m\u001b[43m \u001b[49m\u001b[43mkwargs\u001b[49m\u001b[38;5;241;43m.\u001b[39;49m\u001b[43mitems\u001b[49m\u001b[43m(\u001b[49m\u001b[43m)\u001b[49m\u001b[43m \u001b[49m\u001b[38;5;28;43;01mif\u001b[39;49;00m\u001b[43m \u001b[49m\u001b[43mk\u001b[49m\u001b[43m \u001b[49m\u001b[38;5;129;43;01mnot\u001b[39;49;00m\u001b[43m \u001b[49m\u001b[38;5;129;43;01min\u001b[39;49;00m\u001b[43m \u001b[49m\u001b[43mskip\u001b[49m\u001b[43m}\u001b[49m\u001b[43m)\u001b[49m)\n\u001b[1;32m   2045\u001b[0m \u001b[38;5;28;01melse\u001b[39;00m:  \u001b[38;5;66;03m# Let third-parties do as they see fit.\u001b[39;00m\n\u001b[1;32m   2046\u001b[0m     print_method \u001b[38;5;241m=\u001b[39m meth\n",
      "File \u001b[0;32m~/Library/Python/3.9/lib/python/site-packages/matplotlib/backends/backend_agg.py:497\u001b[0m, in \u001b[0;36mFigureCanvasAgg.print_png\u001b[0;34m(self, filename_or_obj, metadata, pil_kwargs)\u001b[0m\n\u001b[1;32m    450\u001b[0m \u001b[38;5;28;01mdef\u001b[39;00m \u001b[38;5;21mprint_png\u001b[39m(\u001b[38;5;28mself\u001b[39m, filename_or_obj, \u001b[38;5;241m*\u001b[39m, metadata\u001b[38;5;241m=\u001b[39m\u001b[38;5;28;01mNone\u001b[39;00m, pil_kwargs\u001b[38;5;241m=\u001b[39m\u001b[38;5;28;01mNone\u001b[39;00m):\n\u001b[1;32m    451\u001b[0m \u001b[38;5;250m    \u001b[39m\u001b[38;5;124;03m\"\"\"\u001b[39;00m\n\u001b[1;32m    452\u001b[0m \u001b[38;5;124;03m    Write the figure to a PNG file.\u001b[39;00m\n\u001b[1;32m    453\u001b[0m \n\u001b[0;32m   (...)\u001b[0m\n\u001b[1;32m    495\u001b[0m \u001b[38;5;124;03m        *metadata*, including the default 'Software' key.\u001b[39;00m\n\u001b[1;32m    496\u001b[0m \u001b[38;5;124;03m    \"\"\"\u001b[39;00m\n\u001b[0;32m--> 497\u001b[0m     \u001b[38;5;28;43mself\u001b[39;49m\u001b[38;5;241;43m.\u001b[39;49m\u001b[43m_print_pil\u001b[49m\u001b[43m(\u001b[49m\u001b[43mfilename_or_obj\u001b[49m\u001b[43m,\u001b[49m\u001b[43m \u001b[49m\u001b[38;5;124;43m\"\u001b[39;49m\u001b[38;5;124;43mpng\u001b[39;49m\u001b[38;5;124;43m\"\u001b[39;49m\u001b[43m,\u001b[49m\u001b[43m \u001b[49m\u001b[43mpil_kwargs\u001b[49m\u001b[43m,\u001b[49m\u001b[43m \u001b[49m\u001b[43mmetadata\u001b[49m\u001b[43m)\u001b[49m\n",
      "File \u001b[0;32m~/Library/Python/3.9/lib/python/site-packages/matplotlib/backends/backend_agg.py:446\u001b[0m, in \u001b[0;36mFigureCanvasAgg._print_pil\u001b[0;34m(self, filename_or_obj, fmt, pil_kwargs, metadata)\u001b[0m\n\u001b[1;32m    441\u001b[0m \u001b[38;5;250m\u001b[39m\u001b[38;5;124;03m\"\"\"\u001b[39;00m\n\u001b[1;32m    442\u001b[0m \u001b[38;5;124;03mDraw the canvas, then save it using `.image.imsave` (to which\u001b[39;00m\n\u001b[1;32m    443\u001b[0m \u001b[38;5;124;03m*pil_kwargs* and *metadata* are forwarded).\u001b[39;00m\n\u001b[1;32m    444\u001b[0m \u001b[38;5;124;03m\"\"\"\u001b[39;00m\n\u001b[1;32m    445\u001b[0m FigureCanvasAgg\u001b[38;5;241m.\u001b[39mdraw(\u001b[38;5;28mself\u001b[39m)\n\u001b[0;32m--> 446\u001b[0m \u001b[43mmpl\u001b[49m\u001b[38;5;241;43m.\u001b[39;49m\u001b[43mimage\u001b[49m\u001b[38;5;241;43m.\u001b[39;49m\u001b[43mimsave\u001b[49m\u001b[43m(\u001b[49m\n\u001b[1;32m    447\u001b[0m \u001b[43m    \u001b[49m\u001b[43mfilename_or_obj\u001b[49m\u001b[43m,\u001b[49m\u001b[43m \u001b[49m\u001b[38;5;28;43mself\u001b[39;49m\u001b[38;5;241;43m.\u001b[39;49m\u001b[43mbuffer_rgba\u001b[49m\u001b[43m(\u001b[49m\u001b[43m)\u001b[49m\u001b[43m,\u001b[49m\u001b[43m \u001b[49m\u001b[38;5;28;43mformat\u001b[39;49m\u001b[38;5;241;43m=\u001b[39;49m\u001b[43mfmt\u001b[49m\u001b[43m,\u001b[49m\u001b[43m \u001b[49m\u001b[43morigin\u001b[49m\u001b[38;5;241;43m=\u001b[39;49m\u001b[38;5;124;43m\"\u001b[39;49m\u001b[38;5;124;43mupper\u001b[39;49m\u001b[38;5;124;43m\"\u001b[39;49m\u001b[43m,\u001b[49m\n\u001b[1;32m    448\u001b[0m \u001b[43m    \u001b[49m\u001b[43mdpi\u001b[49m\u001b[38;5;241;43m=\u001b[39;49m\u001b[38;5;28;43mself\u001b[39;49m\u001b[38;5;241;43m.\u001b[39;49m\u001b[43mfigure\u001b[49m\u001b[38;5;241;43m.\u001b[39;49m\u001b[43mdpi\u001b[49m\u001b[43m,\u001b[49m\u001b[43m \u001b[49m\u001b[43mmetadata\u001b[49m\u001b[38;5;241;43m=\u001b[39;49m\u001b[43mmetadata\u001b[49m\u001b[43m,\u001b[49m\u001b[43m \u001b[49m\u001b[43mpil_kwargs\u001b[49m\u001b[38;5;241;43m=\u001b[39;49m\u001b[43mpil_kwargs\u001b[49m\u001b[43m)\u001b[49m\n",
      "File \u001b[0;32m~/Library/Python/3.9/lib/python/site-packages/matplotlib/image.py:1656\u001b[0m, in \u001b[0;36mimsave\u001b[0;34m(fname, arr, vmin, vmax, cmap, format, origin, dpi, metadata, pil_kwargs)\u001b[0m\n\u001b[1;32m   1654\u001b[0m pil_kwargs\u001b[38;5;241m.\u001b[39msetdefault(\u001b[38;5;124m\"\u001b[39m\u001b[38;5;124mformat\u001b[39m\u001b[38;5;124m\"\u001b[39m, \u001b[38;5;28mformat\u001b[39m)\n\u001b[1;32m   1655\u001b[0m pil_kwargs\u001b[38;5;241m.\u001b[39msetdefault(\u001b[38;5;124m\"\u001b[39m\u001b[38;5;124mdpi\u001b[39m\u001b[38;5;124m\"\u001b[39m, (dpi, dpi))\n\u001b[0;32m-> 1656\u001b[0m \u001b[43mimage\u001b[49m\u001b[38;5;241;43m.\u001b[39;49m\u001b[43msave\u001b[49m\u001b[43m(\u001b[49m\u001b[43mfname\u001b[49m\u001b[43m,\u001b[49m\u001b[43m \u001b[49m\u001b[38;5;241;43m*\u001b[39;49m\u001b[38;5;241;43m*\u001b[39;49m\u001b[43mpil_kwargs\u001b[49m\u001b[43m)\u001b[49m\n",
      "File \u001b[0;32m~/Library/Python/3.9/lib/python/site-packages/PIL/Image.py:2439\u001b[0m, in \u001b[0;36mImage.save\u001b[0;34m(self, fp, format, **params)\u001b[0m\n\u001b[1;32m   2436\u001b[0m         fp \u001b[38;5;241m=\u001b[39m builtins\u001b[38;5;241m.\u001b[39mopen(filename, \u001b[38;5;124m\"\u001b[39m\u001b[38;5;124mw+b\u001b[39m\u001b[38;5;124m\"\u001b[39m)\n\u001b[1;32m   2438\u001b[0m \u001b[38;5;28;01mtry\u001b[39;00m:\n\u001b[0;32m-> 2439\u001b[0m     \u001b[43msave_handler\u001b[49m\u001b[43m(\u001b[49m\u001b[38;5;28;43mself\u001b[39;49m\u001b[43m,\u001b[49m\u001b[43m \u001b[49m\u001b[43mfp\u001b[49m\u001b[43m,\u001b[49m\u001b[43m \u001b[49m\u001b[43mfilename\u001b[49m\u001b[43m)\u001b[49m\n\u001b[1;32m   2440\u001b[0m \u001b[38;5;28;01mexcept\u001b[39;00m \u001b[38;5;167;01mException\u001b[39;00m:\n\u001b[1;32m   2441\u001b[0m     \u001b[38;5;28;01mif\u001b[39;00m open_fp:\n",
      "File \u001b[0;32m~/Library/Python/3.9/lib/python/site-packages/PIL/PngImagePlugin.py:1402\u001b[0m, in \u001b[0;36m_save\u001b[0;34m(im, fp, filename, chunk, save_all)\u001b[0m\n\u001b[1;32m   1398\u001b[0m     im \u001b[38;5;241m=\u001b[39m _write_multiple_frames(\n\u001b[1;32m   1399\u001b[0m         im, fp, chunk, rawmode, default_image, append_images\n\u001b[1;32m   1400\u001b[0m     )\n\u001b[1;32m   1401\u001b[0m \u001b[38;5;28;01mif\u001b[39;00m im:\n\u001b[0;32m-> 1402\u001b[0m     \u001b[43mImageFile\u001b[49m\u001b[38;5;241;43m.\u001b[39;49m\u001b[43m_save\u001b[49m\u001b[43m(\u001b[49m\u001b[43mim\u001b[49m\u001b[43m,\u001b[49m\u001b[43m \u001b[49m\u001b[43m_idat\u001b[49m\u001b[43m(\u001b[49m\u001b[43mfp\u001b[49m\u001b[43m,\u001b[49m\u001b[43m \u001b[49m\u001b[43mchunk\u001b[49m\u001b[43m)\u001b[49m\u001b[43m,\u001b[49m\u001b[43m \u001b[49m\u001b[43m[\u001b[49m\u001b[43m(\u001b[49m\u001b[38;5;124;43m\"\u001b[39;49m\u001b[38;5;124;43mzip\u001b[39;49m\u001b[38;5;124;43m\"\u001b[39;49m\u001b[43m,\u001b[49m\u001b[43m \u001b[49m\u001b[43m(\u001b[49m\u001b[38;5;241;43m0\u001b[39;49m\u001b[43m,\u001b[49m\u001b[43m \u001b[49m\u001b[38;5;241;43m0\u001b[39;49m\u001b[43m)\u001b[49m\u001b[43m \u001b[49m\u001b[38;5;241;43m+\u001b[39;49m\u001b[43m \u001b[49m\u001b[43mim\u001b[49m\u001b[38;5;241;43m.\u001b[39;49m\u001b[43msize\u001b[49m\u001b[43m,\u001b[49m\u001b[43m \u001b[49m\u001b[38;5;241;43m0\u001b[39;49m\u001b[43m,\u001b[49m\u001b[43m \u001b[49m\u001b[43mrawmode\u001b[49m\u001b[43m)\u001b[49m\u001b[43m]\u001b[49m\u001b[43m)\u001b[49m\n\u001b[1;32m   1404\u001b[0m \u001b[38;5;28;01mif\u001b[39;00m info:\n\u001b[1;32m   1405\u001b[0m     \u001b[38;5;28;01mfor\u001b[39;00m info_chunk \u001b[38;5;129;01min\u001b[39;00m info\u001b[38;5;241m.\u001b[39mchunks:\n",
      "File \u001b[0;32m~/Library/Python/3.9/lib/python/site-packages/PIL/ImageFile.py:540\u001b[0m, in \u001b[0;36m_save\u001b[0;34m(im, fp, tile, bufsize)\u001b[0m\n\u001b[1;32m    538\u001b[0m     _encode_tile(im, fp, tile, bufsize, fh)\n\u001b[1;32m    539\u001b[0m \u001b[38;5;28;01mexcept\u001b[39;00m (\u001b[38;5;167;01mAttributeError\u001b[39;00m, io\u001b[38;5;241m.\u001b[39mUnsupportedOperation) \u001b[38;5;28;01mas\u001b[39;00m exc:\n\u001b[0;32m--> 540\u001b[0m     \u001b[43m_encode_tile\u001b[49m\u001b[43m(\u001b[49m\u001b[43mim\u001b[49m\u001b[43m,\u001b[49m\u001b[43m \u001b[49m\u001b[43mfp\u001b[49m\u001b[43m,\u001b[49m\u001b[43m \u001b[49m\u001b[43mtile\u001b[49m\u001b[43m,\u001b[49m\u001b[43m \u001b[49m\u001b[43mbufsize\u001b[49m\u001b[43m,\u001b[49m\u001b[43m \u001b[49m\u001b[38;5;28;43;01mNone\u001b[39;49;00m\u001b[43m,\u001b[49m\u001b[43m \u001b[49m\u001b[43mexc\u001b[49m\u001b[43m)\u001b[49m\n\u001b[1;32m    541\u001b[0m \u001b[38;5;28;01mif\u001b[39;00m \u001b[38;5;28mhasattr\u001b[39m(fp, \u001b[38;5;124m\"\u001b[39m\u001b[38;5;124mflush\u001b[39m\u001b[38;5;124m\"\u001b[39m):\n\u001b[1;32m    542\u001b[0m     fp\u001b[38;5;241m.\u001b[39mflush()\n",
      "File \u001b[0;32m~/Library/Python/3.9/lib/python/site-packages/PIL/ImageFile.py:559\u001b[0m, in \u001b[0;36m_encode_tile\u001b[0;34m(im, fp, tile, bufsize, fh, exc)\u001b[0m\n\u001b[1;32m    556\u001b[0m \u001b[38;5;28;01mif\u001b[39;00m exc:\n\u001b[1;32m    557\u001b[0m     \u001b[38;5;66;03m# compress to Python file-compatible object\u001b[39;00m\n\u001b[1;32m    558\u001b[0m     \u001b[38;5;28;01mwhile\u001b[39;00m \u001b[38;5;28;01mTrue\u001b[39;00m:\n\u001b[0;32m--> 559\u001b[0m         errcode, data \u001b[38;5;241m=\u001b[39m \u001b[43mencoder\u001b[49m\u001b[38;5;241;43m.\u001b[39;49m\u001b[43mencode\u001b[49m\u001b[43m(\u001b[49m\u001b[43mbufsize\u001b[49m\u001b[43m)\u001b[49m[\u001b[38;5;241m1\u001b[39m:]\n\u001b[1;32m    560\u001b[0m         fp\u001b[38;5;241m.\u001b[39mwrite(data)\n\u001b[1;32m    561\u001b[0m         \u001b[38;5;28;01mif\u001b[39;00m errcode:\n",
      "\u001b[0;31mKeyboardInterrupt\u001b[0m: "
     ]
    },
    {
     "data": {
      "image/png": "[encoded data removed]",
      "text/plain": [
       "<Figure size 2000x1000 with 3 Axes>"
      ]
     },
     "metadata": {},
     "output_type": "display_data"
    }
   ],
   "source": [
    "from agent_configs import RainbowConfig\n",
    "from game_configs import CartPoleConfig\n",
    "config = RainbowConfig(config, CartPoleConfig())\n",
    "# train\n",
    "agent = RainbowAgent(env, config, \"RainbowDQN-{}\".format(env.unwrapped.spec.id))\n",
    "agent.checkpoint_interval = 10\n",
    "agent.train()"
   ]
  },
  {
   "cell_type": "code",
   "execution_count": null,
   "metadata": {},
   "outputs": [],
   "source": [
    "import gymnasium as gym\n",
    "import gym_anytrading\n",
    "import tensorflow as tf\n",
    "\n",
    "env = gym.make('forex-v0')\n",
    "# env = gym.make('stocks-v0')\n"
   ]
  },
  {
   "cell_type": "code",
   "execution_count": null,
   "metadata": {},
   "outputs": [],
   "source": [
    "from gym_anytrading.datasets import FOREX_EURUSD_1H_ASK, STOCKS_GOOGL\n",
    "\n",
    "custom_env = gym.make(\n",
    "    'forex-v0',\n",
    "    df=FOREX_EURUSD_1H_ASK,\n",
    "    window_size=10,\n",
    "    frame_bound=(10, 300),\n",
    "    unit_side='right'\n",
    ")\n",
    "\n",
    "# custom_env = gym.make(\n",
    "#     'stocks-v0',\n",
    "#     df=STOCKS_GOOGL,\n",
    "#     window_size=10,\n",
    "#     frame_bound=(10, 300)\n",
    "# )\n"
   ]
  },
  {
   "cell_type": "code",
   "execution_count": null,
   "metadata": {},
   "outputs": [],
   "source": [
    "print(\"env information:\")\n",
    "print(\"> shape:\", env.unwrapped.shape)\n",
    "print(\"> df.shape:\", env.unwrapped.df.shape)\n",
    "print(\"> prices.shape:\", env.unwrapped.prices.shape)\n",
    "print(\"> signal_features.shape:\", env.unwrapped.signal_features.shape)\n",
    "print(\"> max_possible_profit:\", env.unwrapped.max_possible_profit())\n",
    "\n",
    "print()\n",
    "print(\"custom_env information:\")\n",
    "print(\"> shape:\", custom_env.unwrapped.shape)\n",
    "print(\"> df.shape:\", custom_env.unwrapped.df.shape)\n",
    "print(\"> prices.shape:\", custom_env.unwrapped.prices.shape)\n",
    "print(\"> signal_features.shape:\", custom_env.unwrapped.signal_features.shape)\n",
    "print(\"> max_possible_profit:\", custom_env.unwrapped.max_possible_profit())\n"
   ]
  },
  {
   "cell_type": "code",
   "execution_count": null,
   "metadata": {},
   "outputs": [],
   "source": [
    "observation, info = env.reset()\n",
    "env.render()\n",
    "\n",
    "env = custom_env\n",
    "observation, info = env.reset()\n",
    "env.render()"
   ]
  },
  {
   "cell_type": "code",
   "execution_count": null,
   "metadata": {},
   "outputs": [],
   "source": [
    "from rainbow_agent import RainbowAgent\n",
    "from agent_configs import RainbowConfig\n",
    "from game_configs import CartPoleConfig\n",
    "config_dict = {\n",
    "    \"activation\": \"relu\",\n",
    "    \"kernel_initializer\": \"orthogonal\",\n",
    "    \"min_replay_buffer_size\": 32,\n",
    "    \"loss_function\": tf.keras.losses.KLDivergence(),\n",
    "    \"learning_rate\": 0.000001,\n",
    "}\n",
    "config = RainbowConfig(config_dict, CartPoleConfig())\n",
    "# train\n",
    "agent = RainbowAgent(env, config, \"RainbowDQN-{}\".format(env.unwrapped.spec.id))\n",
    "agent.train()"
   ]
  }
 ],
 "metadata": {
  "kernelspec": {
   "display_name": "Python 3",
   "language": "python",
   "name": "python3"
  },
  "language_info": {
   "codemirror_mode": {
    "name": "ipython",
    "version": 3
   },
   "file_extension": ".py",
   "mimetype": "text/x-python",
   "name": "python",
   "nbconvert_exporter": "python",
   "pygments_lexer": "ipython3",
   "version": "3.9.6"
  }
 },
 "nbformat": 4,
 "nbformat_minor": 2
}
