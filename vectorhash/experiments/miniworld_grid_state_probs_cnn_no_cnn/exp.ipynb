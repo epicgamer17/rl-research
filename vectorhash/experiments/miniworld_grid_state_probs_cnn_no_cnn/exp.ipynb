{
 "cells": [
  {
   "cell_type": "code",
   "execution_count": null,
   "id": "e4d23e5b",
   "metadata": {},
   "outputs": [],
   "source": [
    "import sys\n",
    "\n",
    "sys.path.append(\"../../\")"
   ]
  },
  {
   "cell_type": "code",
   "execution_count": null,
   "id": "fef3b55c",
   "metadata": {},
   "outputs": [],
   "source": [
    "import gymnasium as gym\n",
    "from vectorhash import build_vectorhash_architecture\n",
    "from shifts import RatShift\n",
    "from smoothing import RatSLAMSmoothing\n",
    "from miniworld.params import DEFAULT_PARAMS\n",
    "from miniworld_agent import MiniworldVectorhashAgent\n",
    "import math\n",
    "import torch\n",
    "from preprocessing_cnn import GrayscaleAndFlattenPreprocessing, PreprocessingCNN\n",
    "import matplotlib.pyplot as plt\n",
    "from matplotlib import axes\n",
    "from graph_utils import plot_probability_distribution_on_ax\n",
    "\n",
    "\n",
    "### vhash\n",
    "if torch.backends.mps.is_available():\n",
    "    device = torch.device(\"mps\")\n",
    "elif torch.cuda.is_available():\n",
    "    device = torch.device(\"cuda\")\n",
    "else:\n",
    "    device = torch.device(\"cpu\")\n",
    "\n",
    "shapes = [(5, 5, 5), (8, 8, 8)]\n",
    "N = 10\n",
    "\n",
    "\n",
    "def make_env():\n",
    "    params = DEFAULT_PARAMS.copy().no_random()\n",
    "    env = gym.make(\n",
    "        \"MiniWorld-CollectHealth-v0\",\n",
    "        max_episode_steps=-1,\n",
    "        params=params,\n",
    "        domain_rand=False,\n",
    "    )\n",
    "    min_x = env.get_wrapper_attr(\"min_x\")\n",
    "    max_x = env.get_wrapper_attr(\"max_x\")\n",
    "    min_z = env.get_wrapper_attr(\"min_z\")\n",
    "    max_z = env.get_wrapper_attr(\"max_z\")\n",
    "\n",
    "    limits = torch.tensor([max_x - min_x, max_z - min_z, 2 * math.pi]).float()\n",
    "    return env, limits\n",
    "\n",
    "\n",
    "env_cnn, limits = make_env()\n",
    "env_no_cnn, limits = make_env()\n",
    "model_cnn = build_vectorhash_architecture(\n",
    "    shapes,\n",
    "    N_h=600,\n",
    "    input_size=128,\n",
    "    initalization_method=\"by_sparsity\",\n",
    "    limits=limits,\n",
    "    device=device,\n",
    "    shift=RatShift(),\n",
    "    smoothing=RatSLAMSmoothing(device=device),\n",
    ")\n",
    "model_no_cnn = build_vectorhash_architecture(\n",
    "    shapes,\n",
    "    N_h=600,\n",
    "    input_size=60 * 80,\n",
    "    initalization_method=\"by_sparsity\",\n",
    "    limits=limits,\n",
    "    device=device,\n",
    "    shift=RatShift(),\n",
    "    smoothing=RatSLAMSmoothing(device=device),\n",
    ")\n",
    "\n",
    "#### preprocessor\n",
    "cnn_preproc = PreprocessingCNN(\n",
    "    device=device,\n",
    "    latent_dim=128,\n",
    "    input_channels=3,\n",
    "    target_size=(224, 224),\n",
    "    model_path=\"resnet18_adapter.pth\",\n",
    ")\n",
    "\n",
    "grayscale_flatten_preproc = GrayscaleAndFlattenPreprocessing(device=device)\n",
    "\n",
    "#### agents\n",
    "agent_cnn = MiniworldVectorhashAgent(model_cnn, env_cnn, preprocessor=cnn_preproc)\n",
    "\n",
    "agent_no_cnn = MiniworldVectorhashAgent(\n",
    "    model_no_cnn, env_no_cnn, preprocessor=grayscale_flatten_preproc\n",
    ")"
   ]
  },
  {
   "cell_type": "code",
   "execution_count": null,
   "id": "9eba141b",
   "metadata": {},
   "outputs": [],
   "source": [
    "start_state = agent_no_cnn.vectorhash.scaffold.g\n",
    "print(\"start state:\", start_state)\n",
    "print(\"grid limits:\", agent_no_cnn.vectorhash.scaffold.grid_limits)\n",
    "print(\"world limits:\", limits)\n",
    "print(\"scale factor:\", agent_no_cnn.vectorhash.scaffold.scale_factor)"
   ]
  },
  {
   "cell_type": "code",
   "execution_count": null,
   "id": "d11cfba6",
   "metadata": {},
   "outputs": [],
   "source": [
    "begin = agent_no_cnn.get_true_pos(env_no_cnn)\n",
    "end = begin + 1 / agent_no_cnn.vectorhash.scaffold.scale_factor\n",
    "dist = torch.distributions.uniform.Uniform(low=begin, high=end)\n",
    "samples = dist.sample((N,))\n",
    "grid_states = agent_no_cnn.vectorhash.scaffold.scale_factor * (samples - begin)"
   ]
  },
  {
   "cell_type": "code",
   "execution_count": null,
   "id": "fc9543e3",
   "metadata": {},
   "outputs": [],
   "source": [
    "print(\"samples:\", samples)\n",
    "print(\"grid states:\", grid_states)"
   ]
  },
  {
   "cell_type": "code",
   "execution_count": null,
   "id": "4cd240b2",
   "metadata": {},
   "outputs": [],
   "source": [
    "first_img, first_pos = agent_no_cnn._env_reset(env_cnn)\n",
    "first_img, first_pos = agent_no_cnn._obs_postpreprocess(agent_no_cnn.env.step(4), 4)\n",
    "m = plt.imshow(first_img)\n",
    "plt.colorbar(m)\n",
    "agent_no_cnn.vectorhash.store_memory(s=agent_no_cnn.preprocessor.encode(first_img))\n",
    "agent_cnn.vectorhash.store_memory(s=agent_cnn.preprocessor.encode(first_img))"
   ]
  },
  {
   "cell_type": "code",
   "execution_count": null,
   "id": "62c38e82",
   "metadata": {},
   "outputs": [],
   "source": [
    "imgs = []\n",
    "states_cnn = []\n",
    "states_no_cnn = []\n",
    "for sample in samples:\n",
    "    pos = sample.cpu().numpy()\n",
    "    agent_no_cnn.set_agent_pos(pos)\n",
    "    agent_cnn.set_agent_pos(pos)\n",
    "    img, _ = agent_no_cnn._obs_postpreprocess(agent_no_cnn.env.step(4), 4)\n",
    "    obs_cnn = agent_cnn.preprocessor.encode(img)\n",
    "    obs_no_cnn = agent_no_cnn.preprocessor.encode(img)\n",
    "    g_cnn = agent_cnn.vectorhash.scaffold.denoise(\n",
    "        agent_cnn.vectorhash.scaffold.grid_from_hippocampal(\n",
    "            agent_cnn.vectorhash.hippocampal_sensory_layer.hippocampal_from_sensory(\n",
    "                obs_cnn\n",
    "            )\n",
    "        )\n",
    "    )\n",
    "    g_no_cnn = agent_no_cnn.vectorhash.scaffold.denoise(\n",
    "        agent_no_cnn.vectorhash.scaffold.grid_from_hippocampal(\n",
    "            agent_no_cnn.vectorhash.hippocampal_sensory_layer.hippocampal_from_sensory(\n",
    "                obs_no_cnn\n",
    "            )\n",
    "        )\n",
    "    )\n",
    "    m = plt.imshow(img)\n",
    "    plt.colorbar(m)\n",
    "    plt.show()\n",
    "    imgs.append(img)\n",
    "    states_cnn.append(g_cnn)\n",
    "    states_no_cnn.append(g_no_cnn)"
   ]
  },
  {
   "cell_type": "code",
   "execution_count": null,
   "id": "14e2a25f",
   "metadata": {},
   "outputs": [],
   "source": [
    "fig, ax = plt.subplots(nrows=1, ncols=1, figsize=(6, 4))\n",
    "\n",
    "plot_probability_distribution_on_ax(states_cnn[0][0].cpu(), ax)\n",
    "\n",
    "ax.set_ylim(0, 0.01)\n",
    "ax.set_xlim(0, len(states_cnn[0][0]))\n",
    "ax.set_ylabel(\"probability mass\")\n",
    "\n",
    "ax.set_xlabel(\"g distribution\")\n",
    "\n",
    "fig.suptitle(\"probability mass across g (cnn)\")"
   ]
  },
  {
   "cell_type": "code",
   "execution_count": null,
   "id": "167198a5",
   "metadata": {},
   "outputs": [],
   "source": [
    "fig.savefig('results_cnn_across_g.png')"
   ]
  },
  {
   "cell_type": "code",
   "execution_count": null,
   "id": "f5d37b89",
   "metadata": {},
   "outputs": [],
   "source": [
    "fig, ax = plt.subplots(nrows=1, ncols=1, figsize=(6, 4))\n",
    "\n",
    "plot_probability_distribution_on_ax(states_no_cnn[0][0].cpu(), ax)\n",
    "\n",
    "ax.set_ylim(0, 0.01)\n",
    "ax.set_xlim(0, len(states_cnn[0][0]))\n",
    "ax.set_ylabel(\"probability mass\")\n",
    "\n",
    "ax.set_xlabel(\"g distribution\")\n",
    "\n",
    "fig.suptitle(\"probability mass across g (no_cnn)\")"
   ]
  },
  {
   "cell_type": "code",
   "execution_count": null,
   "id": "63135206",
   "metadata": {},
   "outputs": [],
   "source": [
    "fig.savefig('results_across_g_no_cnn.png')"
   ]
  },
  {
   "cell_type": "code",
   "execution_count": null,
   "id": "57826d10",
   "metadata": {},
   "outputs": [],
   "source": [
    "cnn_x_dists = []\n",
    "cnn_y_dists = []\n",
    "cnn_theta_dists = []\n",
    "no_cnn_x_dists = []\n",
    "no_cnn_y_dists = []\n",
    "no_cnn_theta_dists = []\n",
    "\n",
    "for i in range(N):\n",
    "    agent_cnn.vectorhash.scaffold.modules = (\n",
    "        agent_cnn.vectorhash.scaffold.modules_from_g(states_cnn[i][0])\n",
    "    )\n",
    "    agent_no_cnn.vectorhash.scaffold.modules = (\n",
    "        agent_no_cnn.vectorhash.scaffold.modules_from_g(states_no_cnn[i][0])\n",
    "    )\n",
    "\n",
    "    cnn_x_dists.append(agent_cnn.vectorhash.scaffold.expand_distribution(0).cpu())\n",
    "    cnn_y_dists.append(agent_cnn.vectorhash.scaffold.expand_distribution(1).cpu())\n",
    "    cnn_theta_dists.append(agent_cnn.vectorhash.scaffold.expand_distribution(2).cpu())\n",
    "    no_cnn_x_dists.append(agent_no_cnn.vectorhash.scaffold.expand_distribution(0).cpu())\n",
    "    no_cnn_y_dists.append(agent_no_cnn.vectorhash.scaffold.expand_distribution(1).cpu())\n",
    "    no_cnn_theta_dists.append(agent_no_cnn.vectorhash.scaffold.expand_distribution(2).cpu())"
   ]
  },
  {
   "cell_type": "code",
   "execution_count": null,
   "id": "d5ff5dc8",
   "metadata": {},
   "outputs": [],
   "source": [
    "fig, axs = plt.subplots(nrows=3, ncols=1, figsize=(6, 12))\n",
    "\n",
    "plot_probability_distribution_on_ax(cnn_x_dists[0], axs[0])\n",
    "axs[0].set_xlabel('x dist')\n",
    "axs[0].set_xlim(0, len(cnn_x_dists[0]))\n",
    "\n",
    "plot_probability_distribution_on_ax(cnn_y_dists[0], axs[1])\n",
    "axs[1].set_xlabel('y dist')\n",
    "axs[1].set_xlim(0, len(cnn_y_dists[0]))\n",
    "\n",
    "plot_probability_distribution_on_ax(cnn_theta_dists[0], axs[2])\n",
    "axs[2].set_xlabel('θ dist')\n",
    "axs[2].set_xlim(0, len(cnn_theta_dists[0]))\n",
    "\n",
    "for i in range(3):\n",
    "  axs[i].set_ylabel('probability mass')\n",
    "  axs[i].set_ylim(0, 0.1)\n",
    "\n",
    "fig.suptitle(\"probability mass across dimension distributions (cnn)\")"
   ]
  },
  {
   "cell_type": "code",
   "execution_count": null,
   "id": "42f6e1dc",
   "metadata": {},
   "outputs": [],
   "source": [
    "fig.savefig(\"results_across_dims_cnn.png\")"
   ]
  },
  {
   "cell_type": "code",
   "execution_count": null,
   "id": "e4294b30",
   "metadata": {},
   "outputs": [],
   "source": [
    "fig, axs = plt.subplots(nrows=3, ncols=1, figsize=(6, 12))\n",
    "\n",
    "plot_probability_distribution_on_ax(no_cnn_x_dists[0], axs[0])\n",
    "axs[0].set_xlabel('x dist')\n",
    "axs[0].set_xlim(0, len(no_cnn_x_dists[0]))\n",
    "\n",
    "plot_probability_distribution_on_ax(cnn_y_dists[0], axs[1])\n",
    "axs[1].set_xlabel('y dist')\n",
    "axs[1].set_xlim(0, len(no_cnn_y_dists[0]))\n",
    "\n",
    "plot_probability_distribution_on_ax(cnn_theta_dists[0], axs[2])\n",
    "axs[2].set_xlabel('θ dist')\n",
    "axs[2].set_xlim(0, len(no_cnn_theta_dists[0]))\n",
    "\n",
    "for i in range(3):\n",
    "  axs[i].set_ylabel('probability mass')\n",
    "  axs[i].set_ylim(0, 0.1)\n",
    "\n",
    "fig.suptitle(\"probability mass across dimension distributions (no cnn)\")"
   ]
  },
  {
   "cell_type": "code",
   "execution_count": null,
   "id": "d00647f9",
   "metadata": {},
   "outputs": [],
   "source": [
    "fig.savefig(\"results_across_dims_no_cnn.png\")"
   ]
  }
 ],
 "metadata": {
  "kernelspec": {
   "display_name": "ml",
   "language": "python",
   "name": "python3"
  },
  "language_info": {
   "codemirror_mode": {
    "name": "ipython",
    "version": 3
   },
   "file_extension": ".py",
   "mimetype": "text/x-python",
   "name": "python",
   "nbconvert_exporter": "python",
   "pygments_lexer": "ipython3",
   "version": "3.10.12"
  }
 },
 "nbformat": 4,
 "nbformat_minor": 5
}
