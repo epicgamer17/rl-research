{
 "cells": [
  {
   "cell_type": "code",
   "execution_count": 1,
   "id": "e308baa2",
   "metadata": {},
   "outputs": [
    {
     "name": "stderr",
     "output_type": "stream",
     "text": [
      "/home/ezrahuang/Projects/rl-research/vectorhash/experiments/fourier_ratshift/../../vectorhash_functions.py:1: UserWarning: A NumPy version >=1.23.5 and <2.5.0 is required for this version of SciPy (detected version 1.23.0)\n",
      "  import scipy.special\n"
     ]
    }
   ],
   "source": [
    "import sys\n",
    "\n",
    "sys.path.append(\"../..\")\n",
    "\n",
    "import torch\n",
    "from fourier_scaffold import (\n",
    "    HadamardShiftMatrix,\n",
    "    HadamardShift,\n",
    "    HadamardShiftRat,\n",
    "    HadamardShiftMatrixRat,\n",
    "    FourierScaffold,\n",
    ")\n",
    "\n",
    "shapes = torch.tensor([(3, 3), (5, 5)])\n",
    "shift_rat = HadamardShiftMatrixRat(shapes=shapes)\n",
    "shift_nonrat = HadamardShiftMatrix()"
   ]
  },
  {
   "cell_type": "code",
   "execution_count": 2,
   "id": "7270e024",
   "metadata": {},
   "outputs": [
    {
     "name": "stdout",
     "output_type": "stream",
     "text": [
      "module shapes:  tensor([[3, 3],\n",
      "        [5, 5]])\n",
      "N_g (D) :  400\n",
      "M       :  2\n",
      "d       :  2\n",
      "N_patts :  225\n"
     ]
    },
    {
     "name": "stderr",
     "output_type": "stream",
     "text": [
      "/home/ezrahuang/Projects/rl-research/vectorhash/experiments/fourier_ratshift/../../fourier_scaffold.py:356: UserWarning: To copy construct from a tensor, it is recommended to use sourceTensor.clone().detach() or sourceTensor.clone().detach().requires_grad_(True), rather than torch.tensor(sourceTensor).\n",
      "  self.shapes = torch.tensor(shapes).int()\n"
     ]
    }
   ],
   "source": [
    "scaffold = FourierScaffold(\n",
    "    shapes=shapes,\n",
    "    D=400,\n",
    "    shift=shift_rat,\n",
    "    _skip_K_calc=True,\n",
    "    _skip_gs_calc=True,\n",
    "    representation='matrix'\n",
    ")"
   ]
  },
  {
   "cell_type": "code",
   "execution_count": null,
   "id": "2a125423",
   "metadata": {},
   "outputs": [],
   "source": [
    "scaffold.P = scaffold.zero()"
   ]
  },
  {
   "cell_type": "code",
   "execution_count": 58,
   "id": "75782f74",
   "metadata": {},
   "outputs": [],
   "source": [
    "scaffold.velocity_shift(torch.tensor([-2,0]))"
   ]
  },
  {
   "cell_type": "code",
   "execution_count": 67,
   "id": "6846be24",
   "metadata": {},
   "outputs": [],
   "source": [
    "scaffold.sharpen()"
   ]
  },
  {
   "cell_type": "code",
   "execution_count": 68,
   "id": "4b1ef7f4",
   "metadata": {},
   "outputs": [
    {
     "data": {
      "text/plain": [
       "<matplotlib.colorbar.Colorbar at 0x7b75d23bb430>"
      ]
     },
     "execution_count": 68,
     "metadata": {},
     "output_type": "execute_result"
    },
    {
     "data": {
      "image/png": "[encoded data removed]",
      "text/plain": [
       "<Figure size 640x480 with 2 Axes>"
      ]
     },
     "metadata": {},
     "output_type": "display_data"
    }
   ],
   "source": [
    "import matplotlib.pyplot as plt\n",
    "plt.imshow(scaffold.get_all_probabilities())\n",
    "plt.colorbar()"
   ]
  },
  {
   "cell_type": "code",
   "execution_count": null,
   "id": "34828cf2",
   "metadata": {},
   "outputs": [],
   "source": []
  }
 ],
 "metadata": {
  "kernelspec": {
   "display_name": "ml",
   "language": "python",
   "name": "python3"
  },
  "language_info": {
   "codemirror_mode": {
    "name": "ipython",
    "version": 3
   },
   "file_extension": ".py",
   "mimetype": "text/x-python",
   "name": "python",
   "nbconvert_exporter": "python",
   "pygments_lexer": "ipython3",
   "version": "3.10.12"
  }
 },
 "nbformat": 4,
 "nbformat_minor": 5
}
