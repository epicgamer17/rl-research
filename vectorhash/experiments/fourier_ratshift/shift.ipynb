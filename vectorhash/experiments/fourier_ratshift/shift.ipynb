{
 "cells": [
  {
   "cell_type": "code",
   "execution_count": null,
   "id": "e308baa2",
   "metadata": {},
   "outputs": [],
   "source": [
    "import sys\n",
    "\n",
    "sys.path.append(\"../..\")\n",
    "\n",
    "import torch\n",
    "from fourier_scaffold import (\n",
    "    HadamardShiftMatrix,\n",
    "    HadamardShift,\n",
    "    HadamardShiftRat,\n",
    "    HadamardShiftMatrixRat,\n",
    "    FourierScaffold,\n",
    "    GuassianFourierSmoothingMatrix\n",
    ")\n",
    "\n",
    "shapes = torch.tensor([(3, 3), (5, 5)])\n",
    "shift_rat = HadamardShiftMatrixRat(shapes=shapes)\n",
    "shift_nonrat = HadamardShiftMatrix()"
   ]
  },
  {
   "cell_type": "code",
   "execution_count": null,
   "id": "7270e024",
   "metadata": {},
   "outputs": [],
   "source": [
    "scaffold = FourierScaffold(\n",
    "    shapes=shapes,\n",
    "    D=400,\n",
    "    shift=shift_rat,\n",
    "    _skip_K_calc=True,\n",
    "    _skip_gs_calc=True,\n",
    "    representation='matrix'\n",
    ")"
   ]
  },
  {
   "cell_type": "code",
   "execution_count": null,
   "id": "2a125423",
   "metadata": {},
   "outputs": [],
   "source": [
    "scaffold.P = scaffold.zero()"
   ]
  },
  {
   "cell_type": "code",
   "execution_count": null,
   "id": "75782f74",
   "metadata": {},
   "outputs": [],
   "source": [
    "scaffold.velocity_shift(torch.tensor([-2,0]))"
   ]
  },
  {
   "cell_type": "code",
   "execution_count": null,
   "id": "6846be24",
   "metadata": {},
   "outputs": [],
   "source": [
    "scaffold.sharpen()"
   ]
  },
  {
   "cell_type": "code",
   "execution_count": null,
   "id": "4b1ef7f4",
   "metadata": {},
   "outputs": [],
   "source": [
    "import matplotlib.pyplot as plt\n",
    "plt.imshow(scaffold.get_all_probabilities())\n",
    "plt.colorbar()"
   ]
  },
  {
   "cell_type": "code",
   "execution_count": null,
   "id": "624b5e1f",
   "metadata": {},
   "outputs": [],
   "source": [
    "def combine_additive(P1, P2, alpha=0.5):\n",
    "    P = (1 - alpha) * (P1) + alpha * P2\n",
    "    return P\n",
    "\n",
    "\n",
    "def combine_multiplicative(P1, P2):\n",
    "    S = (P1 * P2.conj()).sum().abs()\n",
    "    P = P1 @ P2.H\n",
    "    return P / S"
   ]
  },
  {
   "cell_type": "code",
   "execution_count": null,
   "id": "668be025",
   "metadata": {},
   "outputs": [],
   "source": [
    "scaffold = FourierScaffold(\n",
    "    shapes=shapes,\n",
    "    D=400,\n",
    "    shift=shift_rat,\n",
    "    smoothing=GuassianFourierSmoothingMatrix([10]*2, [1]*2),\n",
    "    _skip_gs_calc=True,\n",
    "    representation='matrix'\n",
    ")\n",
    "\n",
    "P_original = scaffold.P.clone()\n",
    "scaffold.velocity_shift(torch.tensor([0.5,0]))\n",
    "P_smoothed = scaffold.smoothing(scaffold.P)\n",
    "P_combined = combine_multiplicative(P_original, P_smoothed)"
   ]
  },
  {
   "cell_type": "code",
   "execution_count": null,
   "id": "4c104577",
   "metadata": {},
   "outputs": [],
   "source": [
    "import matplotlib.pyplot as plt\n",
    "from graph_utils import plot_imgs_side_by_side\n",
    "\n",
    "fig, ax = plt.subplots(1, 3, figsize=(15,9))\n",
    "plot_imgs_side_by_side(\n",
    "  imgs=[scaffold.get_all_probabilities(P) for P in [P_original, P_smoothed, P_combined]],\n",
    "  titles=['original', 'shifted', 'combined'],\n",
    "  axs=ax,\n",
    "  fig=fig,\n",
    "  use_first_img_scale=False\n",
    ")"
   ]
  },
  {
   "cell_type": "code",
   "execution_count": null,
   "id": "7412ffdf",
   "metadata": {},
   "outputs": [],
   "source": []
  }
 ],
 "metadata": {
  "kernelspec": {
   "display_name": "ml",
   "language": "python",
   "name": "python3"
  },
  "language_info": {
   "codemirror_mode": {
    "name": "ipython",
    "version": 3
   },
   "file_extension": ".py",
   "mimetype": "text/x-python",
   "name": "python",
   "nbconvert_exporter": "python",
   "pygments_lexer": "ipython3",
   "version": "3.10.12"
  }
 },
 "nbformat": 4,
 "nbformat_minor": 5
}
