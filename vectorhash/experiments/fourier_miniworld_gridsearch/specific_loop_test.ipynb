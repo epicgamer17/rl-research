{
 "cells": [
  {
   "cell_type": "code",
   "execution_count": null,
   "id": "b9548cb8",
   "metadata": {},
   "outputs": [],
   "source": [
    "import sys\n",
    "\n",
    "sys.path.append(\"../..\")\n",
    "from experiments.fourier_miniworld_gridsearch.common import (\n",
    "    generate_env,\n",
    "    create_agent_for_test,\n",
    ")\n",
    "from experiments.fourier_miniworld_gridsearch.loop_tests import loop_path\n",
    "from fourier_vectorhash import path_test, AdditiveCombine, MultiplicativeCombine\n",
    "from fourier_scaffold import (\n",
    "    GuassianFourierSmoothingMatrix,\n",
    "    HadamardShiftMatrixRat,\n",
    "    HadamardShiftMatrix,\n",
    "    ContractionSharpening,\n",
    ")\n",
    "import torch\n",
    "import pickle\n",
    "\n",
    "results_dir = \"july_30\"\n"
   ]
  },
  {
   "cell_type": "code",
   "execution_count": null,
   "id": "c38a8a6c",
   "metadata": {},
   "outputs": [],
   "source": [
    "combination_31 = (\n",
    "    800,\n",
    "    \"no_cnn\",\n",
    "    MultiplicativeCombine(),\n",
    "    1,\n",
    "    GuassianFourierSmoothingMatrix([10] * 3, [0.5] * 3),\n",
    "    HadamardShiftMatrix(),\n",
    "    ContractionSharpening(k=1),\n",
    ")\n",
    "combination_39 = (\n",
    "    800,\n",
    "    \"no_cnn_extra_downscaling\",\n",
    "    AdditiveCombine(0.1),\n",
    "    1,\n",
    "    GuassianFourierSmoothingMatrix([10] * 3, [0.3] * 3),\n",
    "    HadamardShiftMatrix(),\n",
    "    ContractionSharpening(k=1),\n",
    ")\n",
    "combination_47 = (\n",
    "    800,\n",
    "    \"no_cnn_extra_downscaling\",\n",
    "    AdditiveCombine(0.1),\n",
    "    1,\n",
    "    GuassianFourierSmoothingMatrix([10] * 3, [0.1] * 3),\n",
    "    HadamardShiftMatrix(),\n",
    "    ContractionSharpening(k=1),\n",
    ")"
   ]
  },
  {
   "cell_type": "code",
   "execution_count": null,
   "id": "bb2fb35c",
   "metadata": {},
   "outputs": [],
   "source": [
    "env = generate_env(with_red_box=True, with_blue_box=True)\n",
    "combination, combination_name = combination_31, \"test_31\"\n",
    "# combination, combination_name = combination_31, \"test_39\"\n",
    "# combination, combination_name = combination_31, \"test_47\"\n",
    "history = path_test(\n",
    "    agent=create_agent_for_test(env, *combination),\n",
    "    path=torch.tensor(loop_path),\n",
    "    reshape_img_size=(15, 20),\n",
    ")"
   ]
  },
  {
   "cell_type": "code",
   "execution_count": null,
   "id": "11aec507",
   "metadata": {},
   "outputs": [],
   "source": [
    "import os\n",
    "os.makedirs(results_dir, exist_ok=True)\n",
    "with open(f\"{results_dir}/{combination_name}.pkl\", \"wb\") as f:\n",
    "    pickle.dump(history[0], f)"
   ]
  },
  {
   "cell_type": "code",
   "execution_count": null,
   "id": "d691d0a3",
   "metadata": {},
   "outputs": [],
   "source": [
    "from experiments.fourier_miniworld_gridsearch.common import (\n",
    "  analyze_history_errors\n",
    ")\n",
    "fig = analyze_history_errors(history[0], 240)\n",
    "fig.savefig(f\"{results_dir}/{combination_name}.png\")"
   ]
  },
  {
   "cell_type": "code",
   "execution_count": null,
   "id": "4ea9f0bd",
   "metadata": {},
   "outputs": [],
   "source": [
    "anim = history[0].make_image_video()\n",
    "anim.save(\n",
    "    f\"{results_dir}/{combination_name}\",\n",
    "    progress_callback=lambda frame, total: print(f\"{frame+1}/{total}\"),\n",
    ")"
   ]
  }
 ],
 "metadata": {
  "kernelspec": {
   "display_name": "ml",
   "language": "python",
   "name": "python3"
  },
  "language_info": {
   "codemirror_mode": {
    "name": "ipython",
    "version": 3
   },
   "file_extension": ".py",
   "mimetype": "text/x-python",
   "name": "python",
   "nbconvert_exporter": "python",
   "pygments_lexer": "ipython3",
   "version": "3.10.12"
  }
 },
 "nbformat": 4,
 "nbformat_minor": 5
}
