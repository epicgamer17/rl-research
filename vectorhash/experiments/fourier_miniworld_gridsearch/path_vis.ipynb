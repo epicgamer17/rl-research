{
 "cells": [
  {
   "cell_type": "code",
   "execution_count": null,
   "id": "d012ff94",
   "metadata": {},
   "outputs": [
    {
     "ename": "ModuleNotFoundError",
     "evalue": "No module named 'experiments'",
     "output_type": "error",
     "traceback": [
      "\u001b[0;31m---------------------------------------------------------------------------\u001b[0m",
      "\u001b[0;31mModuleNotFoundError\u001b[0m                       Traceback (most recent call last)",
      "Cell \u001b[0;32mIn[1], line 2\u001b[0m\n\u001b[1;32m      1\u001b[0m \u001b[38;5;28;01mimport\u001b[39;00m \u001b[38;5;21;01mgymnasium\u001b[39;00m \u001b[38;5;28;01mas\u001b[39;00m \u001b[38;5;21;01mgym\u001b[39;00m\n\u001b[0;32m----> 2\u001b[0m \u001b[38;5;28;01mfrom\u001b[39;00m \u001b[38;5;21;01mexperiments\u001b[39;00m\u001b[38;5;21;01m.\u001b[39;00m\u001b[38;5;21;01mminiworld_deterministic\u001b[39;00m\u001b[38;5;21;01m.\u001b[39;00m\u001b[38;5;21;01mroom_env\u001b[39;00m \u001b[38;5;28;01mimport\u001b[39;00m RoomExperiment\n\u001b[1;32m      5\u001b[0m \u001b[38;5;28;01mdef\u001b[39;00m \u001b[38;5;21mmake_env\u001b[39m():\n\u001b[1;32m      6\u001b[0m     env \u001b[38;5;241m=\u001b[39m RoomExperiment(start_pos\u001b[38;5;241m=\u001b[39m[\u001b[38;5;241m3\u001b[39m,\u001b[38;5;241m0\u001b[39m,\u001b[38;5;241m3\u001b[39m], start_angle\u001b[38;5;241m=\u001b[39m\u001b[38;5;241m0\u001b[39m, place_blue_box\u001b[38;5;241m=\u001b[39m\u001b[38;5;28;01mTrue\u001b[39;00m, place_red_box\u001b[38;5;241m=\u001b[39m\u001b[38;5;28;01mTrue\u001b[39;00m)\n",
      "\u001b[0;31mModuleNotFoundError\u001b[0m: No module named 'experiments'"
     ]
    }
   ],
   "source": [
    "import gymnasium as gym\n",
    "from room_env import RoomExperiment\n",
    "\n",
    "\n",
    "def make_env():\n",
    "    env = RoomExperiment(start_pos=[3,0,3], start_angle=0, place_blue_box=True, place_red_box=True)\n",
    "    return env\n",
    "\n",
    "env = make_env()\n",
    "obs, info = env.reset()\n",
    "obs, reward, terminated, truncated, info  = env.step(3)"
   ]
  },
  {
   "cell_type": "code",
   "execution_count": null,
   "id": "990f68e9",
   "metadata": {},
   "outputs": [],
   "source": [
    "from matplotlib import pyplot as plt\n",
    "\n",
    "path = ([2] * 20 + [1] * 20) * 6\n",
    "\n",
    "for i in range(len(path)):\n",
    "    obs, reward, terminated, truncated, info = env.step(path[i])\n",
    "\n",
    "    if i % 5 == 0:\n",
    "        fig, ax = plt.subplots(ncols=2, figsize=(15, 9))\n",
    "        ax[0].imshow(obs)\n",
    "        ax[1].imshow(env.get_wrapper_attr(\"render_top_view\")())\n",
    "        fig.suptitle(f\"t={i}\")\n",
    "        plt.show()"
   ]
  }
 ],
 "metadata": {
  "kernelspec": {
   "display_name": "ml",
   "language": "python",
   "name": "python3"
  },
  "language_info": {
   "codemirror_mode": {
    "name": "ipython",
    "version": 3
   },
   "file_extension": ".py",
   "mimetype": "text/x-python",
   "name": "python",
   "nbconvert_exporter": "python",
   "pygments_lexer": "ipython3",
   "version": "3.10.12"
  }
 },
 "nbformat": 4,
 "nbformat_minor": 5
}
