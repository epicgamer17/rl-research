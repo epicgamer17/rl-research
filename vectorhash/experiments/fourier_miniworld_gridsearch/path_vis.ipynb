{
 "cells": [
  {
   "cell_type": "code",
   "execution_count": null,
   "id": "d012ff94",
   "metadata": {},
   "outputs": [],
   "source": [
    "import gymnasium as gym\n",
    "from experiments.miniworld_deterministic.room_env import RoomExperiment\n",
    "\n",
    "\n",
    "def make_env():\n",
    "    env = RoomExperiment(start_pos=[3,0,3], start_angle=0, place_blue_box=True, place_red_box=True)\n",
    "    return env\n",
    "\n",
    "env = make_env()\n",
    "obs, info = env.reset()\n",
    "obs, reward, terminated, truncated, info  = env.step(3)"
   ]
  },
  {
   "cell_type": "code",
   "execution_count": null,
   "id": "990f68e9",
   "metadata": {},
   "outputs": [],
   "source": [
    "from matplotlib import pyplot as plt\n",
    "\n",
    "path = ([2] * 20 + [1] * 20) * 6\n",
    "\n",
    "for i in range(len(path)):\n",
    "    obs, reward, terminated, truncated, info = env.step(path[i])\n",
    "\n",
    "    if i % 5 == 0:\n",
    "        fig, ax = plt.subplots(ncols=2, figsize=(15, 9))\n",
    "        ax[0].imshow(obs)\n",
    "        ax[1].imshow(env.get_wrapper_attr(\"render_top_view\")())\n",
    "        fig.suptitle(f\"t={i}\")\n",
    "        plt.show()"
   ]
  }
 ],
 "metadata": {
  "kernelspec": {
   "display_name": "ml",
   "language": "python",
   "name": "python3"
  },
  "language_info": {
   "codemirror_mode": {
    "name": "ipython",
    "version": 3
   },
   "file_extension": ".py",
   "mimetype": "text/x-python",
   "name": "python",
   "nbconvert_exporter": "python",
   "pygments_lexer": "ipython3",
   "version": "3.10.12"
  }
 },
 "nbformat": 4,
 "nbformat_minor": 5
}
