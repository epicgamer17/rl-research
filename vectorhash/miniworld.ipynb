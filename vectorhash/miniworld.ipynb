{
 "cells": [
  {
   "cell_type": "code",
   "execution_count": null,
   "id": "4159010b",
   "metadata": {},
   "outputs": [],
   "source": [
    "import gymnasium as gym\n",
    "import miniworld\n",
    "from matplotlib import pyplot as plt\n",
    "\n",
    "miniworld_env_ids = [env_id for env_id in gym.registry if \"MiniWorld\" in env_id]"
   ]
  },
  {
   "cell_type": "code",
   "execution_count": null,
   "id": "8a8c6130",
   "metadata": {},
   "outputs": [],
   "source": [
    "print(miniworld_env_ids)"
   ]
  },
  {
   "cell_type": "code",
   "execution_count": null,
   "id": "1158065f",
   "metadata": {},
   "outputs": [],
   "source": [
    "def make_env():\n",
    "    env = gym.make(\"MiniWorld-Maze-v0\")\n",
    "    return env"
   ]
  },
  {
   "cell_type": "code",
   "execution_count": null,
   "id": "cf633e4a",
   "metadata": {},
   "outputs": [],
   "source": [
    "\"\"\"\n",
    "The observation space is an `ndarray` with shape `(obs_height, obs_width, 3)`\n",
    "representing an RGB image of what the agents see.\n",
    "\"\"\"\n",
    "\n",
    "\"\"\"\n",
    "class Actions(IntEnum):\n",
    "      # Turn left or right by a small amount\n",
    "      turn_left = 0\n",
    "      turn_right = 1\n",
    "\n",
    "      # Move forward or back by a small amount\n",
    "      move_forward = 2\n",
    "      move_back = 3\n",
    "\n",
    "      # Pick up or drop an object being carried\n",
    "      pickup = 4\n",
    "      drop = 5\n",
    "\n",
    "      # Toggle/activate an object\n",
    "      toggle = 6\n",
    "\n",
    "      # Done completing task\n",
    "      done = 7\n",
    "\"\"\"\n",
    "\n",
    "env = make_env()"
   ]
  },
  {
   "cell_type": "code",
   "execution_count": null,
   "id": "0ad0ca08",
   "metadata": {},
   "outputs": [],
   "source": [
    "print(env.action_space)\n",
    "print(env.observation_space)\n",
    "print(env.metadata)\n",
    "obs, info = env.reset()\n",
    "print(obs)\n",
    "print(info)\n",
    "\n",
    "print(env.get_wrapper_attr('min_x'))\n",
    "print(env.get_wrapper_attr('max_x'))\n",
    "print(env.get_wrapper_attr('min_z'))\n",
    "print(env.get_wrapper_attr('max_z'))\n",
    "plt.imshow(obs)"
   ]
  },
  {
   "cell_type": "code",
   "execution_count": null,
   "id": "83ab160f",
   "metadata": {},
   "outputs": [],
   "source": [
    "# Turn left or right by a small amount\n",
    "turn_left = 0\n",
    "turn_right = 1\n",
    "\n",
    "# Move forward or back by a small amount\n",
    "move_forward = 2\n",
    "move_back = 3\n",
    "\n",
    "# Pick up or drop an object being carried\n",
    "pickup = 4\n",
    "drop = 5\n",
    "\n",
    "# Toggle/activate an object\n",
    "toggle = 6\n",
    "\n",
    "# Done completing task\n",
    "done = 7\n",
    "\n",
    "obs, reward, terminated, truncated, info = env.step(1)\n",
    "print(env.get_wrapper_attr('agent').pos)\n",
    "print(env.get_wrapper_attr('agent').dir)\n",
    "plt.imshow(obs)\n"
   ]
  },
  {
   "cell_type": "code",
   "execution_count": null,
   "id": "a723d01f",
   "metadata": {},
   "outputs": [],
   "source": [
    "import gymnasium as gym\n",
    "from vectorhash import build_vectorhash_architecture\n",
    "from shifts import RatShift\n",
    "from smoothing import RatSLAMSmoothing\n",
    "import miniworld\n",
    "from miniworld_agent import MiniworldVectorhashAgent\n",
    "import math\n",
    "import torch\n",
    "\n",
    "### vhash\n",
    "device = \"cuda\"\n",
    "shapes = [(3, 3, 4), (4, 4, 5)]\n",
    "\n",
    "\n",
    "def make_env():\n",
    "    env = gym.make(\"MiniWorld-Maze-v0\", max_episode_steps=-1)\n",
    "    min_x = env.get_wrapper_attr(\"min_x\")\n",
    "    max_x = env.get_wrapper_attr(\"max_x\")\n",
    "    min_z = env.get_wrapper_attr(\"min_z\")\n",
    "    max_z = env.get_wrapper_attr(\"max_z\")\n",
    "\n",
    "    limits = torch.tensor([max_x - min_x, max_z - min_z, 2 * math.pi]).float()\n",
    "    return env, limits\n",
    "\n",
    "\n",
    "env, limits = make_env()\n",
    "model = build_vectorhash_architecture(\n",
    "    shapes,\n",
    "    N_h=600,\n",
    "    input_size=60 * 80,\n",
    "    initalization_method=\"by_sparsity\",\n",
    "    limits=limits,\n",
    "    device=device,\n",
    "    shift=RatShift(),\n",
    "    smoothing=RatSLAMSmoothing(device=device),\n",
    ")\n",
    "\n",
    "\n",
    "#### agent\n",
    "agent = MiniworldVectorhashAgent(model, env)"
   ]
  },
  {
   "cell_type": "code",
   "execution_count": null,
   "id": "8968ee78",
   "metadata": {},
   "outputs": [],
   "source": [
    "print(limits)"
   ]
  },
  {
   "cell_type": "code",
   "execution_count": null,
   "id": "c0f2c7e4",
   "metadata": {},
   "outputs": [],
   "source": [
    "path = [0] * 18 + [3] * 10"
   ]
  },
  {
   "cell_type": "code",
   "execution_count": null,
   "id": "92bf40e9",
   "metadata": {},
   "outputs": [],
   "source": [
    "import torch\n",
    "from agent import path_test\n",
    "\n",
    "results = path_test(agent, path, limits=torch.tensor([1, 1, 2 * math.pi / 8]))"
   ]
  },
  {
   "cell_type": "code",
   "execution_count": null,
   "id": "e77a9bd4",
   "metadata": {},
   "outputs": [],
   "source": [
    "history = results[1]\n",
    "ani = history.make_image_video()"
   ]
  },
  {
   "cell_type": "code",
   "execution_count": null,
   "id": "b4051a11",
   "metadata": {},
   "outputs": [],
   "source": [
    "ani.save(\"gifs/testpath4.gif\", progress_callback=lambda current, total: print(f\"frame {current}/{total}\"), dpi=150)"
   ]
  }
 ],
 "metadata": {
  "kernelspec": {
   "display_name": "ml",
   "language": "python",
   "name": "python3"
  },
  "language_info": {
   "codemirror_mode": {
    "name": "ipython",
    "version": 3
   },
   "file_extension": ".py",
   "mimetype": "text/x-python",
   "name": "python",
   "nbconvert_exporter": "python",
   "pygments_lexer": "ipython3",
   "version": "3.10.12"
  }
 },
 "nbformat": 4,
 "nbformat_minor": 5
}
