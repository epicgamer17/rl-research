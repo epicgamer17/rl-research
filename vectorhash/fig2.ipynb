{
 "cells": [
  {
   "cell_type": "code",
   "execution_count": null,
   "metadata": {},
   "outputs": [],
   "source": [
    "import numpy as np\n",
    "import matplotlib.pyplot as plt\n",
    "import matplotlib as mpl\n",
    "from scipy import stats\n",
    "\n",
    "plt.style.use(\"./src/presentation.mplstyle\")\n",
    "from vectorhash_convered import *\n",
    "import torch"
   ]
  },
  {
   "cell_type": "code",
   "execution_count": null,
   "metadata": {},
   "outputs": [],
   "source": [
    "shapes = [(3, 3), (4, 4), (5, 5)]  # module period (linear dimension)\n",
    "# Np_lst=np.arange(25,350,250)\n",
    "Np_lst = [25, 350]\n",
    "pflip = 0.25  # param controling injected noise\n",
    "Niter = 2  # number of iterations for scaffold dynamics\n",
    "nruns = 1  # number of runs you want to average the results over\n",
    "Npos = torch.prod(torch.prod(torch.tensor(shapes))).item()\n",
    "Npatts_lst = np.arange(1, Npos + 1, 100)"
   ]
  },
  {
   "cell_type": "code",
   "execution_count": null,
   "metadata": {},
   "outputs": [],
   "source": [
    "err_gcpc, num_correct = capacity_gcpc_vectorized(\n",
    "    shapes=shapes,\n",
    "    Np_lst=Np_lst,\n",
    "    pflip=pflip,\n",
    "    Niter=Niter,\n",
    "    Npos=Npos,\n",
    "    nruns=nruns,\n",
    "    Npatts_lst=Npatts_lst,\n",
    "    test_generalization=\"no\",\n",
    ")"
   ]
  },
  {
   "cell_type": "code",
   "execution_count": null,
   "metadata": {},
   "outputs": [],
   "source": [
    "print(err_gcpc)\n",
    "print(num_correct)"
   ]
  },
  {
   "cell_type": "code",
   "execution_count": null,
   "metadata": {},
   "outputs": [],
   "source": [
    "##Compute capacity across values of Np. This particular code designed assuming typical capacity estimation\n",
    "## Does not work if generalization is being tested. Use the cell below if generalization is being tested\n",
    "\n",
    "errthresh = 0.001  # Some tiny nonzero value above possible floating point error\n",
    "\n",
    "\n",
    "def add_labels(ax, title, xlabel, ylabel):\n",
    "    ax.set_title(title)\n",
    "    ax.set_xlabel(xlabel)\n",
    "    ax.set_ylabel(ylabel)\n",
    "    ax.legend(loc=\"best\")\n",
    "    return ax\n",
    "\n",
    "\n",
    "capacity = -1 * np.ones((len(Np_lst), nruns))\n",
    "valid = err_gcpc <= errthresh  # bool\n",
    "\n",
    "\n",
    "for Np in range(len(Np_lst)):\n",
    "    # Original conservative\n",
    "    for r in range(nruns):\n",
    "        lst = torch.argwhere(valid[Np, :, r] == False)\n",
    "        # lst = np.argwhere(valid[Np,:] == False)\n",
    "        if len(lst) == 0:\n",
    "            # print(\"full capacity\")\n",
    "            capacity[Np, r] = Npos\n",
    "        else:\n",
    "            bef_err = lst[0] - 1\n",
    "            bef_err = bef_err * (bef_err > 0)  # Don't want to return -1 if lst[0]=0\n",
    "            capacity[Np, r] = Npatts_lst[bef_err[0]]\n",
    "\n",
    "avg_cap = np.mean(capacity, axis=1)  # mean error over runs\n",
    "# std_cap = stats.sem(capacity, axis=1)    # std dev over runs\n",
    "std_cap = np.std(capacity, axis=1)  # std dev over runs\n",
    "\n",
    "\n",
    "fig, ax = plt.subplots()\n",
    "ax.errorbar(Np_lst, avg_cap, yerr=std_cap, fmt=\"ko--\", label=\"2D grid code network\")\n",
    "add_labels(\n",
    "    ax,\n",
    "    f\"Grid cells={50}; Grid periods={[3,4,5]}; errthresh={errthresh};\",\n",
    "    \"number of place cells\",\n",
    "    \"number of patterns\",\n",
    ")\n",
    "# savefig(fig, ax, f\"{results_dir}/{filename}\")\n",
    "plt.show()"
   ]
  },
  {
   "cell_type": "code",
   "execution_count": null,
   "metadata": {},
   "outputs": [],
   "source": [
    "# When computing capacity for generalization plot, can simply plot mean and std of num_correct as below.\n",
    "# Make sure to pass test_generalization='yes' if doing this!\n",
    "\n",
    "[\n",
    "    plt.errorbar(\n",
    "        x=Npatts_lst,\n",
    "        y=num_correct[i].mean(axis=1),\n",
    "        yerr=num_correct[0].std(axis=1),\n",
    "        label=\"Np=\" + str(Np_lst[i]),\n",
    "        marker=\"o\",\n",
    "        mew=0,\n",
    "    )\n",
    "    for i in range(len(Np_lst))\n",
    "]\n",
    "plt.xlabel(\"num of trained patterns\")\n",
    "plt.ylabel(\"num of generated fixed points\")\n",
    "plt.show()"
   ]
  }
 ],
 "metadata": {
  "kernelspec": {
   "display_name": "Python 3",
   "language": "python",
   "name": "python3"
  },
  "language_info": {
   "codemirror_mode": {
    "name": "ipython",
    "version": 3
   },
   "file_extension": ".py",
   "mimetype": "text/x-python",
   "name": "python",
   "nbconvert_exporter": "python",
   "pygments_lexer": "ipython3",
   "version": "3.12.3"
  }
 },
 "nbformat": 4,
 "nbformat_minor": 2
}
