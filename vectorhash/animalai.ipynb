{
 "cells": [
  {
   "cell_type": "code",
   "execution_count": null,
   "metadata": {},
   "outputs": [
    {
     "name": "stdout",
     "output_type": "stream",
     "text": [
      "!ArenaConfig\n",
      "arenas:\n",
      "  0: !Arena\n",
      "    passMark: 4\n",
      "    timeLimit: 250\n",
      "    items:\n",
      "    - !Item\n",
      "      name: GoodGoalMulti\n",
      "      sizes:\n",
      "      - !Vector3 {x: 1, y: 1, z: 1}\n",
      "      - !Vector3 {x: 1, y: 1, z: 1}\n",
      "      - !Vector3 {x: 1, y: 1, z: 1}\n",
      "      - !Vector3 {x: 1, y: 1, z: 1}\n",
      "      - !Vector3 {x: 1, y: 1, z: 1}\n",
      "Initializing AAI environment\n",
      "[UnityMemory] Configuration Parameters - Can be set up in boot.config\n",
      "    \"memorysetup-bucket-allocator-granularity=16\"\n",
      "    \"memorysetup-bucket-allocator-bucket-count=8\"\n",
      "    \"memorysetup-bucket-allocator-block-size=4194304\"\n",
      "    \"memorysetup-bucket-allocator-block-count=1\"\n",
      "    \"memorysetup-main-allocator-block-size=16777216\"\n",
      "    \"memorysetup-thread-allocator-block-size=16777216\"\n",
      "    \"memorysetup-gfx-main-allocator-block-size=16777216\"\n",
      "    \"memorysetup-gfx-thread-allocator-block-size=16777216\"\n",
      "    \"memorysetup-cache-allocator-block-size=4194304\"\n",
      "    \"memorysetup-typetree-allocator-block-size=2097152\"\n",
      "    \"memorysetup-profiler-bucket-allocator-granularity=16\"\n",
      "    \"memorysetup-profiler-bucket-allocator-bucket-count=8\"\n",
      "    \"memorysetup-profiler-bucket-allocator-block-size=4194304\"\n",
      "    \"memorysetup-profiler-bucket-allocator-block-count=1\"\n",
      "    \"memorysetup-profiler-allocator-block-size=16777216\"\n",
      "    \"memorysetup-profiler-editor-allocator-block-size=1048576\"\n",
      "    \"memorysetup-temp-allocator-size-main=4194304\"\n",
      "    \"memorysetup-job-temp-allocator-block-size=2097152\"\n",
      "    \"memorysetup-job-temp-allocator-block-size-background=1048576\"\n",
      "    \"memorysetup-job-temp-allocator-reduction-small-platforms=262144\"\n",
      "    \"memorysetup-temp-allocator-size-background-worker=32768\"\n",
      "    \"memorysetup-temp-allocator-size-job-worker=262144\"\n",
      "    \"memorysetup-temp-allocator-size-preload-manager=262144\"\n",
      "    \"memorysetup-temp-allocator-size-nav-mesh-worker=65536\"\n",
      "    \"memorysetup-temp-allocator-size-audio-worker=65536\"\n",
      "    \"memorysetup-temp-allocator-size-cloud-worker=32768\"\n",
      "    \"memorysetup-temp-allocator-size-gfx=262144\"\n"
     ]
    }
   ],
   "source": [
    "\n",
    "# Import the necessary libraries\n",
    "import sys\n",
    "import random\n",
    "import os\n",
    "\n",
    "from animalai.environment import AnimalAIEnvironment\n",
    "from mlagents_envs.exception import UnityCommunicationException\n",
    "\n",
    "# IMPORTANT! Replace configuration file with the correct path here:\n",
    "configuration_file = r\"./animal_ai_environments/test2.yaml\"\n",
    "\n",
    "with open(configuration_file) as f:\n",
    "    print(f.read\n",
    "\n",
    "# IMPORTANT! Replace the path to the application .exe here:\n",
    "env_path = r'/home/ezrahuang/AAI/LINUX/AAI.x86_64' \n",
    "\n",
    "port = 5005 + random.randint(\n",
    "    0, 1000\n",
    ")  # uses a random port to avoid problems with parallel runs\n",
    "\n",
    "print(\"Initializing AAI environment\")\n",
    "try:\n",
    "    environment = AnimalAIEnvironment(\n",
    "        file_name=env_path,\n",
    "        base_port=port,\n",
    "        arenas_configurations=configuration_file,\n",
    "        play=True,\n",
    "    )\n",
    "\n",
    "except UnityCommunicationException:\n",
    "    # you'll end up here if you close the environment window directly\n",
    "    # always try to close it from script (environment.close())\n",
    "    environment.close()\n",
    "    print(\"Environment was closed\")"
   ]
  }
 ],
 "metadata": {
  "kernelspec": {
   "display_name": "ml",
   "language": "python",
   "name": "python3"
  },
  "language_info": {
   "codemirror_mode": {
    "name": "ipython",
    "version": 3
   },
   "file_extension": ".py",
   "mimetype": "text/x-python",
   "name": "python",
   "nbconvert_exporter": "python",
   "pygments_lexer": "ipython3",
   "version": "3.10.12"
  }
 },
 "nbformat": 4,
 "nbformat_minor": 2
}
