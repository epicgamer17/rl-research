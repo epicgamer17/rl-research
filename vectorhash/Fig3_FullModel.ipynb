{
 "cells": [
  {
   "cell_type": "code",
   "execution_count": 11,
   "metadata": {},
   "outputs": [],
   "source": [
    "import numpy as np\n",
    "\n",
    "\n",
    "def gen_gbook_2d(lambdas, Ng, Npos):\n",
    "    \"\"\"\n",
    "    Return grid codebook (grid activity vector for each position)\n",
    "\n",
    "    Inputs:\n",
    "        lambdas - list[int], grid periods\n",
    "        Ng - int, number of grid cells\n",
    "            should equal to sum of period squared\n",
    "        Npos - int, number of spatial positions in each axis\n",
    "    \n",
    "    Outputs:\n",
    "        gbook - np.array, size (Ng, Npos, Npos)\n",
    "            gbook[:, a, b] = grid vector at position (a, b)\n",
    "    \"\"\"\n",
    "    # Ng = np.sum(np.dot(lambdas, lambdas))\n",
    "    # Npos = np.prod(lambdas)\n",
    "    gbook = np.zeros((Ng, Npos, Npos))\n",
    "    for x in range(Npos):\n",
    "        for y in range(Npos):\n",
    "            index = 0\n",
    "            for period in lambdas:\n",
    "                phi1, phi2 = x % period, y % period\n",
    "                gpattern = np.zeros((period, period))\n",
    "                gpattern[phi1, phi2] = 1\n",
    "                gpattern = gpattern.flatten()\n",
    "                gbook[index:index+len(gpattern), x, y] = gpattern\n",
    "                index += len(gpattern)\n",
    "    return gbook\n",
    "\n",
    "\n",
    "\n",
    "def gen_gbook(lambdas, Ng, Npos):\n",
    "    ginds = [0,lambdas[0],lambdas[0]+lambdas[1]]; \n",
    "    gbook=np.zeros((Ng,Npos))\n",
    "    for x in range(Npos):\n",
    "        phis = np.mod(x,lambdas) \n",
    "        gbook[phis+ginds,x]=1 \n",
    "    return gbook\n",
    "\n",
    "\n",
    "# global nearest neighbor\n",
    "def nearest_neighbor(gin, gbook):\n",
    "    est = np.transpose(gin)@gbook; \n",
    "    a = np.where(est[0,:]==max(est[0,:]))\n",
    "    #print(\"Nearest neighbor: \", a)\n",
    "    idx = np.random.choice(a[0])\n",
    "    g = gbook[:,idx]; \n",
    "    return g\n",
    "\n",
    "\n",
    "# module wise nearest neighbor\n",
    "def module_wise_NN(gin, gbook, lambdas):\n",
    "    size = gin.shape\n",
    "    g = np.zeros(size)               #size is (Ng, 1)\n",
    "    i = 0\n",
    "    for j in lambdas:\n",
    "        gin_mod = gin[i:i+j]           # module subset of gin\n",
    "        gbook_mod = gbook[i:i+j]\n",
    "        g_mod = nearest_neighbor(gin_mod, gbook_mod)\n",
    "        g[i:i+j, 0] = g_mod\n",
    "        i = i+j\n",
    "    return g    "
   ]
  },
  {
   "cell_type": "code",
   "execution_count": 15,
   "metadata": {},
   "outputs": [
    {
     "data": {
      "text/plain": [
       "array([0., 0., 0., 1., 0., 0., 0., 0., 1., 0., 0., 0., 0., 0., 0., 0., 0.,\n",
       "       0., 1., 0., 0., 0., 0., 0., 0., 0., 0., 0., 0., 0., 0., 0., 0., 0.,\n",
       "       0., 1., 0., 0., 0., 0., 0., 0., 0., 0., 0., 0., 0., 0., 0., 0., 0.,\n",
       "       0., 0., 0.])"
      ]
     },
     "execution_count": 15,
     "metadata": {},
     "output_type": "execute_result"
    }
   ],
   "source": [
    "lambdas = [2,3, 4, 5]\n",
    "Ng = sum([i**2 for i in lambdas])\n",
    "gbook = gen_gbook_2d(lambdas, Ng, 1000)\n",
    "gbook[:, 0, 0]"
   ]
  },
  {
   "cell_type": "code",
   "execution_count": null,
   "metadata": {},
   "outputs": [],
   "source": []
  }
 ],
 "metadata": {
  "kernelspec": {
   "display_name": "Python 3",
   "language": "python",
   "name": "python3"
  },
  "language_info": {
   "codemirror_mode": {
    "name": "ipython",
    "version": 3
   },
   "file_extension": ".py",
   "mimetype": "text/x-python",
   "name": "python",
   "nbconvert_exporter": "python",
   "pygments_lexer": "ipython3",
   "version": "3.10.5"
  }
 },
 "nbformat": 4,
 "nbformat_minor": 2
}
