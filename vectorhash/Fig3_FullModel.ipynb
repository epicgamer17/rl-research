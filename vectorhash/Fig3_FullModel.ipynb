{
 "cells": [
  {
   "cell_type": "code",
   "execution_count": null,
   "metadata": {},
   "outputs": [],
   "source": [
    "import numpy as np\n",
    "import torch\n",
    "from vectorhash_imported import *\n",
    "from vectorhash_convered import *\n",
    "from nd_scaffold import GridScaffold as GS\n",
    "import math\n",
    "from scipy.stats import norm\n",
    "from matrix_initializers import ConstantInitializer, SparseMatrixByScalingInitializer\n",
    "\n",
    "\n",
    "\n",
    "lambdas = [3, 4, 5]\n",
    "Ng = sum([i**2 for i in lambdas])\n",
    "\n",
    "\n",
    "percent_nonzero_relu=0.01\n",
    "W_gh_var=1.0\n",
    "sparse_initialization=0.1\n",
    "T=0.01\n",
    "W_hg_std = math.sqrt(W_gh_var)\n",
    "W_hg_mean = (\n",
    "    -W_hg_std * norm.ppf(1 - percent_nonzero_relu) / math.sqrt(len(lambdas))\n",
    ")\n",
    "h_normal_mean = len(lambdas) * W_hg_mean\n",
    "h_normal_std = math.sqrt(len(lambdas)) * W_hg_std\n",
    "relu_theta = 0\n",
    "\n",
    "\n",
    "gs = GS(\n",
    "    shapes= [(3, 3), (4, 4), (5, 5)],\n",
    "    N_h= 400,\n",
    "    input_size= 3600,\n",
    "    h_normal_mean=h_normal_mean,\n",
    "    h_normal_std=h_normal_std,\n",
    "    device=None,\n",
    "    sparse_matrix_initializer=SparseMatrixByScalingInitializer(mean=W_hg_mean, scale=W_hg_std, device=\"cpu\"),\n",
    "    relu_theta=relu_theta,\n",
    "    from_checkpoint=False,\n",
    "    T=1,\n",
    "    continualupdate=True,\n",
    "    ratshift=False,\n",
    "    initialize_W_gh_with_zeroes=False,\n",
    "    pseudo_inverse=False,\n",
    "    batch_update=False,\n",
    "    use_h_fix=True,\n",
    "    learned_pseudo=True,\n",
    "    epsilon=0.01,\n",
    "    calculate_update_scaling_method=\"norm\",\n",
    "    MagicMath=False,\n",
    "    sanity_check=False,\n",
    "    calculate_g_method=\"fast\"\n",
    ")\n",
    "\n",
    "\n",
    "\n"
   ]
  },
  {
   "cell_type": "code",
   "execution_count": null,
   "metadata": {},
   "outputs": [],
   "source": [
    "gs.G.shape"
   ]
  },
  {
   "cell_type": "code",
   "execution_count": 3,
   "metadata": {},
   "outputs": [],
   "source": [
    "from numpy.random import randn\n",
    "\n",
    "lambdas = [3,4,5]                   # module period\n",
    "M = len(lambdas)                             # num modules\n",
    "Ng = np.sum(np.square(lambdas))                             # num grid cells\n",
    "Npos = np.prod(lambdas)   \n",
    "Npos = Npos*Npos\n",
    "gbook = gs.G\n",
    "Ns = Npos#84*84*3                           # num of sensory cells set at Npos, can be larger\n",
    "Np_lst = [400] #np.arange(25, 425, 25)     # num place cells\n",
    "pflip = 0.0                         #measure of noise injected in s (prob of flipping if binary, gaussian noise if cts)\n",
    "Niter = 1                           # number of iterations for scaffold dynamics\n",
    "nruns=1\n",
    "sparsity=0        #Dummy param for older code, not used currently\n",
    "sbook = np.sign(randn(Ns, Npos))\n",
    "Npatts_lst = np.arange(1,Npos+1,200)  # number of patterns to train on \n",
    "# Npatts is 1, 201, 401 etc... 3401"
   ]
  },
  {
   "cell_type": "code",
   "execution_count": null,
   "metadata": {},
   "outputs": [],
   "source": [
    "##Choose experiment to run\n",
    "\n",
    "#Base case\n",
    "err_pc, err_gc, err_sens, err_senscup, err_sensl1 = capacity(senstrans_gs_vectorized_patts, lambdas, Ng, Np_lst, pflip, Niter, Npos, \n",
    "                                          gbook, Npatts_lst, nruns, Ns, sbook, sparsity, noise_level=\"none\")\n",
    "\n",
    "#Place states chosen to be random vectors with same sparsity as base case (teal curves in Fig. 3)\n",
    "#err_pc, err_gc, err_sens, err_senscup, err_sensl1 = capacity(senstrans_gs_random_sparse_p, lambdas, Ng, Np_lst, pflip, Niter, Npos, \n",
    "                                          #gbook, Npatts_lst, nruns, Ns, sbook, sparsity)\n",
    "#Assuming linear hippocampal activations\n",
    "# err_pc, err_gc, err_sens, err_senscup, err_sensl1 = capacity(senstrans_gs_linear_p, lambdas, Ng, Np_lst, pflip, Niter, Npos, \n",
    "                                          # gbook, Npatts_lst, nruns, Ns, sbook, sparsity)\n",
    "                                          \n",
    "#Use gbook as a spiraling outward + linear activation (for SI Fig. S13)\n",
    "# err_pc, err_gc, err_sens, err_senscup, err_sensl1 = capacity(senstrans_gs_linear_p_spiral, lambdas, Ng, Np_lst, pflip, Niter, Npos, \n",
    "                                          # gbook, Npatts_lst, nruns, Ns, sbook, sparsity)                                          "
   ]
  }
 ],
 "metadata": {
  "kernelspec": {
   "display_name": "Python 3",
   "language": "python",
   "name": "python3"
  },
  "language_info": {
   "codemirror_mode": {
    "name": "ipython",
    "version": 3
   },
   "file_extension": ".py",
   "mimetype": "text/x-python",
   "name": "python",
   "nbconvert_exporter": "python",
   "pygments_lexer": "ipython3",
   "version": "3.12.9"
  }
 },
 "nbformat": 4,
 "nbformat_minor": 2
}
