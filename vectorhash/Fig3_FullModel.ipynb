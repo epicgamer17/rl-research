{
 "cells": [
  {
   "cell_type": "code",
   "execution_count": 1,
   "metadata": {},
   "outputs": [
    {
     "name": "stdout",
     "output_type": "stream",
     "text": [
      "module shapes:  [(3, 3), (4, 4), (5, 5)]\n",
      "N_g     :  50\n",
      "N_patts :  3600\n",
      "N_h     :  400\n"
     ]
    }
   ],
   "source": [
    "import numpy as np\n",
    "import torch\n",
    "from vectorhash_imported import *\n",
    "from vectorhash_convered import *\n",
    "from nd_scaffold import GridScaffold as GS\n",
    "import math\n",
    "from scipy.stats import norm\n",
    "from matrix_initializers import ConstantInitializer, SparseMatrixByScalingInitializer\n",
    "\n",
    "\n",
    "\n",
    "lambdas = [3, 4, 5]\n",
    "Ng = sum([i**2 for i in lambdas])\n",
    "\n",
    "\n",
    "percent_nonzero_relu=0.01\n",
    "W_gh_var=1.0\n",
    "sparse_initialization=0.1\n",
    "T=0.01\n",
    "W_hg_std = math.sqrt(W_gh_var)\n",
    "W_hg_mean = (\n",
    "    -W_hg_std * norm.ppf(1 - percent_nonzero_relu) / math.sqrt(len(lambdas))\n",
    ")\n",
    "h_normal_mean = len(lambdas) * W_hg_mean\n",
    "h_normal_std = math.sqrt(len(lambdas)) * W_hg_std\n",
    "relu_theta = 0\n",
    "\n",
    "# SparseMatrixByScalingInitializer(mean=W_hg_mean, scale=W_hg_std, device=\"cpu\")\n",
    "\n",
    "gs = GS(\n",
    "    shapes= [(3, 3), (4, 4), (5, 5)],\n",
    "    N_h= 400,\n",
    "    input_size= 2000,\n",
    "    h_normal_mean=h_normal_mean,\n",
    "    h_normal_std=h_normal_std,\n",
    "    device=None,\n",
    "    sparse_matrix_initializer=SparseMatrixBySparsityInitializer(sparsity=0.6, device=\"cpu\"),\n",
    "    relu_theta=0.5,\n",
    "    from_checkpoint=False,\n",
    "    T=1,\n",
    "    continualupdate=True,\n",
    "    ratshift=False,\n",
    "    initialize_W_gh_with_zeroes=False,\n",
    "    pseudo_inverse=False,\n",
    "    batch_update=False,\n",
    "    use_h_fix=True,\n",
    "    learned_pseudo=True,\n",
    "    epsilon=0.01,\n",
    "    calculate_update_scaling_method=\"norm\",\n",
    "    MagicMath=False,\n",
    "    sanity_check=False,\n",
    "    calculate_g_method=\"fast\"\n",
    ")\n",
    "\n",
    "\n",
    "\n"
   ]
  },
  {
   "cell_type": "code",
   "execution_count": 2,
   "metadata": {},
   "outputs": [
    {
     "data": {
      "text/plain": [
       "torch.Size([3600, 50])"
      ]
     },
     "execution_count": 2,
     "metadata": {},
     "output_type": "execute_result"
    }
   ],
   "source": [
    "gs.G.shape"
   ]
  },
  {
   "cell_type": "code",
   "execution_count": 3,
   "metadata": {},
   "outputs": [],
   "source": [
    "from numpy.random import randn\n",
    "\n",
    "lambdas = [3,4,5]                   # module period\n",
    "M = len(lambdas)                             # num modules\n",
    "Ng = np.sum(np.square(lambdas))                             # num grid cells\n",
    "Npos = np.prod(lambdas)   \n",
    "Npos = Npos*Npos\n",
    "gbook = gs.G\n",
    "Ns = 2000#84*84*3                           # num of sensory cells set at Npos, can be larger\n",
    "Np_lst = [400] #np.arange(25, 425, 25)     # num place cells\n",
    "pflip = 0.0                         #measure of noise injected in s (prob of flipping if binary, gaussian noise if cts)\n",
    "Niter = 1                           # number of iterations for scaffold dynamics\n",
    "nruns=1\n",
    "sparsity=0        #Dummy param for older code, not used currently\n",
    "sbook = np.sign(randn(Ns, Npos))\n",
    "Npatts_lst = np.arange(1,Ns+1,200)  # number of patterns to train on \n",
    "# Npatts is 1, 201, 401 etc... 3401"
   ]
  },
  {
   "cell_type": "code",
   "execution_count": 4,
   "metadata": {},
   "outputs": [
    {
     "name": "stdout",
     "output_type": "stream",
     "text": [
      "l = 0\n"
     ]
    },
    {
     "name": "stderr",
     "output_type": "stream",
     "text": [
      "  0%|          | 0/10 [00:00<?, ?it/s]"
     ]
    },
    {
     "name": "stdout",
     "output_type": "stream",
     "text": [
      "torch.Size([1, 3600])\n",
      "torch.Size([1, 400])\n",
      "torch.Size([201, 3600])\n",
      "torch.Size([201, 400])\n",
      "torch.Size([401, 3600])\n",
      "torch.Size([401, 400])\n"
     ]
    },
    {
     "name": "stderr",
     "output_type": "stream",
     "text": [
      " 30%|███       | 3/10 [00:00<00:00, 13.53it/s]"
     ]
    },
    {
     "name": "stdout",
     "output_type": "stream",
     "text": [
      "torch.Size([601, 3600])\n",
      "torch.Size([601, 400])\n",
      "torch.Size([801, 3600])\n",
      "torch.Size([801, 400])\n"
     ]
    },
    {
     "name": "stderr",
     "output_type": "stream",
     "text": [
      " 50%|█████     | 5/10 [00:00<00:00,  5.85it/s]"
     ]
    },
    {
     "name": "stdout",
     "output_type": "stream",
     "text": [
      "torch.Size([1001, 3600])\n",
      "torch.Size([1001, 400])\n"
     ]
    },
    {
     "name": "stderr",
     "output_type": "stream",
     "text": [
      " 60%|██████    | 6/10 [00:01<00:00,  4.59it/s]"
     ]
    },
    {
     "name": "stdout",
     "output_type": "stream",
     "text": [
      "torch.Size([1201, 3600])\n",
      "torch.Size([1201, 400])\n"
     ]
    },
    {
     "name": "stderr",
     "output_type": "stream",
     "text": [
      " 70%|███████   | 7/10 [00:01<00:00,  3.46it/s]"
     ]
    },
    {
     "name": "stdout",
     "output_type": "stream",
     "text": [
      "torch.Size([1401, 3600])\n",
      "torch.Size([1401, 400])\n"
     ]
    },
    {
     "name": "stderr",
     "output_type": "stream",
     "text": [
      " 80%|████████  | 8/10 [00:02<00:00,  2.74it/s]"
     ]
    },
    {
     "name": "stdout",
     "output_type": "stream",
     "text": [
      "torch.Size([1601, 3600])\n",
      "torch.Size([1601, 400])\n"
     ]
    },
    {
     "name": "stderr",
     "output_type": "stream",
     "text": [
      " 90%|█████████ | 9/10 [00:02<00:00,  2.15it/s]"
     ]
    },
    {
     "name": "stdout",
     "output_type": "stream",
     "text": [
      "torch.Size([1801, 3600])\n",
      "torch.Size([1801, 400])\n"
     ]
    },
    {
     "name": "stderr",
     "output_type": "stream",
     "text": [
      "100%|██████████| 10/10 [00:03<00:00,  2.68it/s]\n"
     ]
    }
   ],
   "source": [
    "##Choose experiment to run\n",
    "\n",
    "#Base case\n",
    "err_pc, err_gc, err_sens, err_senscup, err_sensl1 = capacity(senstrans_gs_vectorized_patts, lambdas, Ng, Np_lst, pflip, Niter, Npos, \n",
    "                                          gbook, Npatts_lst, nruns, Ns, sbook, sparsity, noise_level=\"none\", grid_scaffold=gs, W_hg_mean=W_hg_mean, W_hg_std=W_hg_std)\n",
    "\n",
    "#Place states chosen to be random vectors with same sparsity as base case (teal curves in Fig. 3)\n",
    "#err_pc, err_gc, err_sens, err_senscup, err_sensl1 = capacity(senstrans_gs_random_sparse_p, lambdas, Ng, Np_lst, pflip, Niter, Npos, \n",
    "                                          #gbook, Npatts_lst, nruns, Ns, sbook, sparsity)\n",
    "#Assuming linear hippocampal activations\n",
    "# err_pc, err_gc, err_sens, err_senscup, err_sensl1 = capacity(senstrans_gs_linear_p, lambdas, Ng, Np_lst, pflip, Niter, Npos, \n",
    "                                          # gbook, Npatts_lst, nruns, Ns, sbook, sparsity)\n",
    "                                          \n",
    "#Use gbook as a spiraling outward + linear activation (for SI Fig. S13)\n",
    "# err_pc, err_gc, err_sens, err_senscup, err_sensl1 = capacity(senstrans_gs_linear_p_spiral, lambdas, Ng, Np_lst, pflip, Niter, Npos, \n",
    "                                          # gbook, Npatts_lst, nruns, Ns, sbook, sparsity)                                          "
   ]
  },
  {
   "cell_type": "code",
   "execution_count": 5,
   "metadata": {},
   "outputs": [
    {
     "name": "stderr",
     "output_type": "stream",
     "text": [
      "/var/folders/q_/hxdspxw938n3_89qddxh_2fm0000gp/T/ipykernel_71391/3257528347.py:17: DeprecationWarning: __array_wrap__ must accept context and return_scalar arguments (positionally) in the future. (Deprecated NumPy 2.0)\n",
      "  S = - a * np.log2(a) - b * np.log2(b)\n",
      "/var/folders/q_/hxdspxw938n3_89qddxh_2fm0000gp/T/ipykernel_71391/3257528347.py:17: RuntimeWarning: divide by zero encountered in log2\n",
      "  S = - a * np.log2(a) - b * np.log2(b)\n"
     ]
    },
    {
     "name": "stdout",
     "output_type": "stream",
     "text": [
      "(10, 1)\n",
      "[[[1.        ]\n",
      "  [0.99999951]\n",
      "  [0.99151471]\n",
      "  [0.79963282]\n",
      "  [0.72877458]\n",
      "  [0.68666971]\n",
      "  [0.65829509]\n",
      "  [0.63749248]\n",
      "  [0.62148303]\n",
      "  [0.60877642]]]\n",
      "[[[0.00000000e+00]\n",
      "  [4.93606535e-07]\n",
      "  [8.48529302e-03]\n",
      "  [2.00367182e-01]\n",
      "  [2.71225423e-01]\n",
      "  [3.13330293e-01]\n",
      "  [3.41704905e-01]\n",
      "  [3.62507522e-01]\n",
      "  [3.78516972e-01]\n",
      "  [3.91223580e-01]]]\n"
     ]
    },
    {
     "data": {
      "image/png": "[encoded data removed]",
      "text/plain": [
       "<Figure size 640x480 with 1 Axes>"
      ]
     },
     "metadata": {},
     "output_type": "display_data"
    }
   ],
   "source": [
    "normlizd_l1 = err_sensl1\n",
    "Npatts = np.array(nruns*[Npatts_lst])   # Npatts_lst repeated nruns times\n",
    "Npatts = Npatts.T\n",
    "print(Npatts.shape)\n",
    "\n",
    "m = 1 - (2*normlizd_l1) \n",
    "\n",
    "a = (1+m)/2\n",
    "b = (1-m)/2\n",
    "\n",
    "print(a)\n",
    "print(b)\n",
    "\n",
    "a = torch.abs(torch.tensor(a))\n",
    "b = torch.abs(torch.tensor(b))\n",
    "\n",
    "S = - a * np.log2(a) - b * np.log2(b)\n",
    "S = np.where(m==1, np.zeros_like(S), S)\n",
    "\n",
    "MI = 1 - S\n",
    "plt.errorbar(Npatts_lst,MI[0].mean(axis=1),yerr=MI[0].std(axis=1),lw=2); plt.xscale('log'); plt.yscale('log')\n",
    "plt.xlim(xmin=100)\n",
    "plt.ylabel('MI per inp bit')\n",
    "plt.xlabel('num patts')\n",
    "plt.show()"
   ]
  }
 ],
 "metadata": {
  "kernelspec": {
   "display_name": "Python 3",
   "language": "python",
   "name": "python3"
  },
  "language_info": {
   "codemirror_mode": {
    "name": "ipython",
    "version": 3
   },
   "file_extension": ".py",
   "mimetype": "text/x-python",
   "name": "python",
   "nbconvert_exporter": "python",
   "pygments_lexer": "ipython3",
   "version": "3.12.9"
  }
 },
 "nbformat": 4,
 "nbformat_minor": 2
}
