{
 "cells": [
  {
   "cell_type": "code",
   "execution_count": 1,
   "metadata": {},
   "outputs": [],
   "source": [
    "import numpy as np\n",
    "from numpy.random import randn\n",
    "\n",
    "lambdas = [3, 4, 5]  # module period\n",
    "shapes = [(l, l) for l in lambdas]\n",
    "M = len(lambdas)  # num modules\n",
    "Ng = np.sum(np.square(lambdas))  # num grid cells\n",
    "Npos = np.prod(lambdas)\n",
    "Npos = Npos * Npos\n",
    "Ns = 2000  # 84*84*3                           # num of sensory cells set at Npos, can be larger\n",
    "Np_lst = [400]  # np.arange(25, 425, 25)     # num place cells\n",
    "pflip = 0.0  # measure of noise injected in s (prob of flipping if binary, gaussian noise if cts)\n",
    "Niter = 1  # number of iterations for scaffold dynamics\n",
    "nruns = 1\n",
    "sparsity = 0  # Dummy param for older code, not used currently\n",
    "sbook = np.sign(randn(Ns, Npos))\n",
    "Npatts_lst = np.arange(1, 3*3*4*4*5*5, 200)  # number of patterns to train on\n",
    "\n",
    "# Npatts is 1, 201, 401 etc... 3401"
   ]
  },
  {
   "cell_type": "code",
   "execution_count": 2,
   "metadata": {},
   "outputs": [
    {
     "name": "stderr",
     "output_type": "stream",
     "text": [
      "  0%|          | 0/18 [00:00<?, ?it/s]"
     ]
    },
    {
     "name": "stdout",
     "output_type": "stream",
     "text": [
      "module shapes:  [(3, 3), (4, 4), (5, 5)]\n",
      "N_g     :  50\n",
      "N_patts :  3600\n",
      "N_h     :  400\n"
     ]
    },
    {
     "name": "stderr",
     "output_type": "stream",
     "text": [
      "/home/ezrahuang/Projects/rl-research/vectorhash/hippocampal_sensory_layers.py:103: UserWarning: The use of `x.T` on tensors of dimension other than 2 to reverse their shape is deprecated and it will throw an error in a future release. Consider `x.mT` to transpose batches of matrices or `x.permute(*torch.arange(x.ndim - 1, -1, -1))` to reverse the dimensions of a tensor. (Triggered internally at /pytorch/aten/src/ATen/native/TensorShape.cpp:3725.)\n",
      "  1 + input.T @ self.inhibition_matrix_hs @ input\n",
      "100%|██████████| 1/1 [00:00<00:00, 29.77it/s]\n",
      "  6%|▌         | 1/18 [00:00<00:07,  2.32it/s]"
     ]
    },
    {
     "name": "stdout",
     "output_type": "stream",
     "text": [
      "module shapes:  [(3, 3), (4, 4), (5, 5)]\n",
      "N_g     :  50\n",
      "N_patts :  3600\n",
      "N_h     :  400\n"
     ]
    },
    {
     "name": "stderr",
     "output_type": "stream",
     "text": [
      "100%|██████████| 201/201 [00:01<00:00, 159.77it/s]\n",
      " 11%|█         | 2/18 [00:01<00:14,  1.07it/s]"
     ]
    },
    {
     "name": "stdout",
     "output_type": "stream",
     "text": [
      "module shapes:  [(3, 3), (4, 4), (5, 5)]\n",
      "N_g     :  50\n",
      "N_patts :  3600\n",
      "N_h     :  400\n"
     ]
    },
    {
     "name": "stderr",
     "output_type": "stream",
     "text": [
      "100%|██████████| 401/401 [00:02<00:00, 150.72it/s]\n",
      " 17%|█▋        | 3/18 [00:04<00:27,  1.82s/it]"
     ]
    },
    {
     "name": "stdout",
     "output_type": "stream",
     "text": [
      "module shapes:  [(3, 3), (4, 4), (5, 5)]\n",
      "N_g     :  50\n",
      "N_patts :  3600\n",
      "N_h     :  400\n"
     ]
    },
    {
     "name": "stderr",
     "output_type": "stream",
     "text": [
      "100%|██████████| 601/601 [00:03<00:00, 152.10it/s]\n",
      " 22%|██▏       | 4/18 [00:08<00:38,  2.75s/it]"
     ]
    },
    {
     "name": "stdout",
     "output_type": "stream",
     "text": [
      "module shapes:  [(3, 3), (4, 4), (5, 5)]\n",
      "N_g     :  50\n",
      "N_patts :  3600\n",
      "N_h     :  400\n"
     ]
    },
    {
     "name": "stderr",
     "output_type": "stream",
     "text": [
      "100%|██████████| 801/801 [00:05<00:00, 149.34it/s]\n",
      " 28%|██▊       | 5/18 [00:14<00:49,  3.77s/it]"
     ]
    },
    {
     "name": "stdout",
     "output_type": "stream",
     "text": [
      "module shapes:  [(3, 3), (4, 4), (5, 5)]\n",
      "N_g     :  50\n",
      "N_patts :  3600\n",
      "N_h     :  400\n"
     ]
    },
    {
     "name": "stderr",
     "output_type": "stream",
     "text": [
      "100%|██████████| 1001/1001 [00:06<00:00, 148.42it/s]\n",
      " 33%|███▎      | 6/18 [00:21<00:58,  4.86s/it]"
     ]
    },
    {
     "name": "stdout",
     "output_type": "stream",
     "text": [
      "module shapes:  [(3, 3), (4, 4), (5, 5)]\n",
      "N_g     :  50\n",
      "N_patts :  3600\n",
      "N_h     :  400\n"
     ]
    },
    {
     "name": "stderr",
     "output_type": "stream",
     "text": [
      "100%|██████████| 1201/1201 [00:08<00:00, 147.03it/s]\n",
      " 39%|███▉      | 7/18 [00:29<01:06,  6.01s/it]"
     ]
    },
    {
     "name": "stdout",
     "output_type": "stream",
     "text": [
      "module shapes:  [(3, 3), (4, 4), (5, 5)]\n",
      "N_g     :  50\n",
      "N_patts :  3600\n",
      "N_h     :  400\n"
     ]
    },
    {
     "name": "stderr",
     "output_type": "stream",
     "text": [
      "100%|██████████| 1401/1401 [00:10<00:00, 139.95it/s]\n",
      " 44%|████▍     | 8/18 [00:39<01:13,  7.35s/it]"
     ]
    },
    {
     "name": "stdout",
     "output_type": "stream",
     "text": [
      "module shapes:  [(3, 3), (4, 4), (5, 5)]\n",
      "N_g     :  50\n",
      "N_patts :  3600\n",
      "N_h     :  400\n"
     ]
    },
    {
     "name": "stderr",
     "output_type": "stream",
     "text": [
      "100%|██████████| 1601/1601 [00:11<00:00, 142.64it/s]\n",
      " 50%|█████     | 9/18 [00:51<01:17,  8.63s/it]"
     ]
    },
    {
     "name": "stdout",
     "output_type": "stream",
     "text": [
      "module shapes:  [(3, 3), (4, 4), (5, 5)]\n",
      "N_g     :  50\n",
      "N_patts :  3600\n",
      "N_h     :  400\n"
     ]
    },
    {
     "name": "stderr",
     "output_type": "stream",
     "text": [
      "100%|██████████| 1801/1801 [00:12<00:00, 143.17it/s]\n",
      " 56%|█████▌    | 10/18 [01:04<01:19,  9.92s/it]"
     ]
    },
    {
     "name": "stdout",
     "output_type": "stream",
     "text": [
      "module shapes:  [(3, 3), (4, 4), (5, 5)]\n",
      "N_g     :  50\n",
      "N_patts :  3600\n",
      "N_h     :  400\n"
     ]
    },
    {
     "name": "stderr",
     "output_type": "stream",
     "text": [
      "100%|██████████| 2001/2001 [00:14<00:00, 141.10it/s]\n",
      " 61%|██████    | 11/18 [01:18<01:19, 11.30s/it]"
     ]
    },
    {
     "name": "stdout",
     "output_type": "stream",
     "text": [
      "module shapes:  [(3, 3), (4, 4), (5, 5)]\n",
      "N_g     :  50\n",
      "N_patts :  3600\n",
      "N_h     :  400\n"
     ]
    },
    {
     "name": "stderr",
     "output_type": "stream",
     "text": [
      "100%|██████████| 2201/2201 [00:15<00:00, 143.63it/s]\n",
      " 67%|██████▋   | 12/18 [01:34<01:15, 12.56s/it]"
     ]
    },
    {
     "name": "stdout",
     "output_type": "stream",
     "text": [
      "module shapes:  [(3, 3), (4, 4), (5, 5)]\n",
      "N_g     :  50\n",
      "N_patts :  3600\n",
      "N_h     :  400\n"
     ]
    },
    {
     "name": "stderr",
     "output_type": "stream",
     "text": [
      "100%|██████████| 2401/2401 [00:16<00:00, 143.32it/s]\n",
      " 72%|███████▏  | 13/18 [01:51<01:09, 13.90s/it]"
     ]
    },
    {
     "name": "stdout",
     "output_type": "stream",
     "text": [
      "module shapes:  [(3, 3), (4, 4), (5, 5)]\n",
      "N_g     :  50\n",
      "N_patts :  3600\n",
      "N_h     :  400\n"
     ]
    },
    {
     "name": "stderr",
     "output_type": "stream",
     "text": [
      "100%|██████████| 2601/2601 [00:18<00:00, 143.05it/s]\n",
      " 78%|███████▊  | 14/18 [02:09<01:01, 15.26s/it]"
     ]
    },
    {
     "name": "stdout",
     "output_type": "stream",
     "text": [
      "module shapes:  [(3, 3), (4, 4), (5, 5)]\n",
      "N_g     :  50\n",
      "N_patts :  3600\n",
      "N_h     :  400\n"
     ]
    },
    {
     "name": "stderr",
     "output_type": "stream",
     "text": [
      "100%|██████████| 2801/2801 [00:19<00:00, 142.44it/s]\n",
      " 83%|████████▎ | 15/18 [02:29<00:49, 16.66s/it]"
     ]
    },
    {
     "name": "stdout",
     "output_type": "stream",
     "text": [
      "module shapes:  [(3, 3), (4, 4), (5, 5)]\n",
      "N_g     :  50\n",
      "N_patts :  3600\n",
      "N_h     :  400\n"
     ]
    },
    {
     "name": "stderr",
     "output_type": "stream",
     "text": [
      "100%|██████████| 3001/3001 [00:21<00:00, 142.41it/s]\n",
      " 89%|████████▉ | 16/18 [02:50<00:36, 18.06s/it]"
     ]
    },
    {
     "name": "stdout",
     "output_type": "stream",
     "text": [
      "module shapes:  [(3, 3), (4, 4), (5, 5)]\n",
      "N_g     :  50\n",
      "N_patts :  3600\n",
      "N_h     :  400\n"
     ]
    },
    {
     "name": "stderr",
     "output_type": "stream",
     "text": [
      "100%|██████████| 3201/3201 [00:22<00:00, 141.63it/s]\n",
      " 94%|█████████▍| 17/18 [03:13<00:19, 19.49s/it]"
     ]
    },
    {
     "name": "stdout",
     "output_type": "stream",
     "text": [
      "module shapes:  [(3, 3), (4, 4), (5, 5)]\n",
      "N_g     :  50\n",
      "N_patts :  3600\n",
      "N_h     :  400\n"
     ]
    },
    {
     "name": "stderr",
     "output_type": "stream",
     "text": [
      "100%|██████████| 3401/3401 [00:24<00:00, 140.84it/s]\n",
      "100%|██████████| 18/18 [03:37<00:00, 12.10s/it]\n"
     ]
    }
   ],
   "source": [
    "##Choose experiment to run\n",
    "\n",
    "#Base case\n",
    "# err_pc, err_gc, err_sens, err_senscup, err_sensl1, ga, gd, gt = capacity(senstrans_gs_vectorized_patts, lambdas, Ng, Np_lst, pflip, Niter, Npos, \n",
    "#                                           gbook, Npatts_lst, nruns, Ns, sbook, sparsity, noise_level=\"none\", grid_scaffold=gs, W_hg_mean=W_hg_mean, W_hg_std=W_hg_std)\n",
    "from test_utils import capacity1\n",
    "\n",
    "device='cuda'\n",
    "\n",
    "err_h_l2, err_s_l2, err_s_l1 = capacity1(shapes, Np_lst, Npatts_lst, nruns, sbook, device, 'iterative')\n",
    "\n",
    "#Place states chosen to be random vectors with same sparsity as base case (teal curves in Fig. 3)\n",
    "#err_pc, err_gc, err_sens, err_senscup, err_sensl1 = capacity(senstrans_gs_random_sparse_p, lambdas, Ng, Np_lst, pflip, Niter, Npos, \n",
    "                                          #gbook, Npatts_lst, nruns, Ns, sbook, sparsity)\n",
    "#Assuming linear hippocampal activations\n",
    "# err_pc, err_gc, err_sens, err_senscup, err_sensl1 = capacity(senstrans_gs_linear_p, lambdas, Ng, Np_lst, pflip, Niter, Npos, \n",
    "                                          # gbook, Npatts_lst, nruns, Ns, sbook, sparsity)\n",
    "                                          \n",
    "#Use gbook as a spiraling outward + linear activation (for SI Fig. S13)\n",
    "# err_pc, err_gc, err_sens, err_senscup, err_sensl1 = capacity(senstrans_gs_linear_p_spiral, lambdas, Ng, Np_lst, pflip, Niter, Npos, \n",
    "                                          # gbook, Npatts_lst, nruns, Ns, sbook, sparsity)                                          "
   ]
  },
  {
   "cell_type": "code",
   "execution_count": 4,
   "metadata": {},
   "outputs": [
    {
     "name": "stderr",
     "output_type": "stream",
     "text": [
      "  6%|▌         | 1/18 [00:00<00:02,  8.14it/s]"
     ]
    },
    {
     "name": "stdout",
     "output_type": "stream",
     "text": [
      "module shapes:  [(3, 3), (4, 4), (5, 5)]\n",
      "N_g     :  50\n",
      "N_patts :  3600\n",
      "N_h     :  400\n",
      "module shapes:  [(3, 3), (4, 4), (5, 5)]\n",
      "N_g     :  50\n",
      "N_patts :  3600\n",
      "N_h     :  400\n"
     ]
    },
    {
     "name": "stderr",
     "output_type": "stream",
     "text": [
      " 17%|█▋        | 3/18 [00:00<00:02,  7.15it/s]"
     ]
    },
    {
     "name": "stdout",
     "output_type": "stream",
     "text": [
      "module shapes:  [(3, 3), (4, 4), (5, 5)]\n",
      "N_g     :  50\n",
      "N_patts :  3600\n",
      "N_h     :  400\n",
      "module shapes:  [(3, 3), (4, 4), (5, 5)]\n",
      "N_g     :  50\n",
      "N_patts :  3600\n",
      "N_h     :  400\n"
     ]
    },
    {
     "name": "stderr",
     "output_type": "stream",
     "text": [
      " 28%|██▊       | 5/18 [00:00<00:02,  6.31it/s]"
     ]
    },
    {
     "name": "stdout",
     "output_type": "stream",
     "text": [
      "module shapes:  [(3, 3), (4, 4), (5, 5)]\n",
      "N_g     :  50\n",
      "N_patts :  3600\n",
      "N_h     :  400\n",
      "module shapes:  [(3, 3), (4, 4), (5, 5)]\n",
      "N_g     :  50\n",
      "N_patts :  3600\n",
      "N_h     :  400\n"
     ]
    },
    {
     "name": "stderr",
     "output_type": "stream",
     "text": [
      " 33%|███▎      | 6/18 [00:01<00:02,  5.09it/s]"
     ]
    },
    {
     "name": "stdout",
     "output_type": "stream",
     "text": [
      "module shapes:  [(3, 3), (4, 4), (5, 5)]\n",
      "N_g     :  50\n",
      "N_patts :  3600\n",
      "N_h     :  400\n"
     ]
    },
    {
     "name": "stderr",
     "output_type": "stream",
     "text": [
      " 39%|███▉      | 7/18 [00:01<00:03,  3.46it/s]"
     ]
    },
    {
     "name": "stdout",
     "output_type": "stream",
     "text": [
      "module shapes:  [(3, 3), (4, 4), (5, 5)]\n",
      "N_g     :  50\n",
      "N_patts :  3600\n",
      "N_h     :  400\n"
     ]
    },
    {
     "name": "stderr",
     "output_type": "stream",
     "text": [
      " 44%|████▍     | 8/18 [00:02<00:04,  2.37it/s]"
     ]
    },
    {
     "name": "stdout",
     "output_type": "stream",
     "text": [
      "module shapes:  [(3, 3), (4, 4), (5, 5)]\n",
      "N_g     :  50\n",
      "N_patts :  3600\n",
      "N_h     :  400\n"
     ]
    },
    {
     "name": "stderr",
     "output_type": "stream",
     "text": [
      " 50%|█████     | 9/18 [00:03<00:05,  1.60it/s]"
     ]
    },
    {
     "name": "stdout",
     "output_type": "stream",
     "text": [
      "module shapes:  [(3, 3), (4, 4), (5, 5)]\n",
      "N_g     :  50\n",
      "N_patts :  3600\n",
      "N_h     :  400\n"
     ]
    },
    {
     "name": "stderr",
     "output_type": "stream",
     "text": [
      " 56%|█████▌    | 10/18 [00:04<00:06,  1.16it/s]"
     ]
    },
    {
     "name": "stdout",
     "output_type": "stream",
     "text": [
      "module shapes:  [(3, 3), (4, 4), (5, 5)]\n",
      "N_g     :  50\n",
      "N_patts :  3600\n",
      "N_h     :  400\n"
     ]
    },
    {
     "name": "stderr",
     "output_type": "stream",
     "text": [
      " 61%|██████    | 11/18 [00:06<00:07,  1.08s/it]"
     ]
    },
    {
     "name": "stdout",
     "output_type": "stream",
     "text": [
      "module shapes:  [(3, 3), (4, 4), (5, 5)]\n",
      "N_g     :  50\n",
      "N_patts :  3600\n",
      "N_h     :  400\n"
     ]
    },
    {
     "name": "stderr",
     "output_type": "stream",
     "text": [
      " 67%|██████▋   | 12/18 [00:07<00:07,  1.25s/it]"
     ]
    },
    {
     "name": "stdout",
     "output_type": "stream",
     "text": [
      "module shapes:  [(3, 3), (4, 4), (5, 5)]\n",
      "N_g     :  50\n",
      "N_patts :  3600\n",
      "N_h     :  400\n"
     ]
    },
    {
     "name": "stderr",
     "output_type": "stream",
     "text": [
      " 72%|███████▏  | 13/18 [00:09<00:06,  1.36s/it]"
     ]
    },
    {
     "name": "stdout",
     "output_type": "stream",
     "text": [
      "module shapes:  [(3, 3), (4, 4), (5, 5)]\n",
      "N_g     :  50\n",
      "N_patts :  3600\n",
      "N_h     :  400\n"
     ]
    },
    {
     "name": "stderr",
     "output_type": "stream",
     "text": [
      " 78%|███████▊  | 14/18 [00:11<00:05,  1.44s/it]"
     ]
    },
    {
     "name": "stdout",
     "output_type": "stream",
     "text": [
      "module shapes:  [(3, 3), (4, 4), (5, 5)]\n",
      "N_g     :  50\n",
      "N_patts :  3600\n",
      "N_h     :  400\n"
     ]
    },
    {
     "name": "stderr",
     "output_type": "stream",
     "text": [
      " 83%|████████▎ | 15/18 [00:12<00:04,  1.50s/it]"
     ]
    },
    {
     "name": "stdout",
     "output_type": "stream",
     "text": [
      "module shapes:  [(3, 3), (4, 4), (5, 5)]\n",
      "N_g     :  50\n",
      "N_patts :  3600\n",
      "N_h     :  400\n"
     ]
    },
    {
     "name": "stderr",
     "output_type": "stream",
     "text": [
      " 89%|████████▉ | 16/18 [00:14<00:03,  1.54s/it]"
     ]
    },
    {
     "name": "stdout",
     "output_type": "stream",
     "text": [
      "module shapes:  [(3, 3), (4, 4), (5, 5)]\n",
      "N_g     :  50\n",
      "N_patts :  3600\n",
      "N_h     :  400\n"
     ]
    },
    {
     "name": "stderr",
     "output_type": "stream",
     "text": [
      " 94%|█████████▍| 17/18 [00:16<00:01,  1.57s/it]"
     ]
    },
    {
     "name": "stdout",
     "output_type": "stream",
     "text": [
      "module shapes:  [(3, 3), (4, 4), (5, 5)]\n",
      "N_g     :  50\n",
      "N_patts :  3600\n",
      "N_h     :  400\n"
     ]
    },
    {
     "name": "stderr",
     "output_type": "stream",
     "text": [
      "100%|██████████| 18/18 [00:17<00:00,  1.02it/s]\n"
     ]
    }
   ],
   "source": [
    "err_h_l2_2, err_s_l2_2, err_s_l1_2 = capacity1(shapes, Np_lst, Npatts_lst, nruns, sbook, device, 'exact')\n"
   ]
  },
  {
   "cell_type": "code",
   "execution_count": 5,
   "metadata": {},
   "outputs": [
    {
     "name": "stdout",
     "output_type": "stream",
     "text": [
      "tensor([[[0.0000],\n",
      "         [0.0000],\n",
      "         [0.0000],\n",
      "         [0.0790],\n",
      "         [0.1594],\n",
      "         [0.2073],\n",
      "         [0.2399],\n",
      "         [0.2638],\n",
      "         [0.2823],\n",
      "         [0.2972],\n",
      "         [0.3092],\n",
      "         [0.3197],\n",
      "         [0.3293],\n",
      "         [0.3434],\n",
      "         [0.3529],\n",
      "         [0.3634],\n",
      "         [0.3781],\n",
      "         [0.3872]]], device='cuda:0')\n",
      "tensor([[[0.0000],\n",
      "         [0.0000],\n",
      "         [0.0000],\n",
      "         [0.3081],\n",
      "         [0.5053],\n",
      "         [0.6442],\n",
      "         [0.7592],\n",
      "         [0.8598],\n",
      "         [0.9508],\n",
      "         [1.0347],\n",
      "         [1.1124],\n",
      "         [1.1863],\n",
      "         [1.2575],\n",
      "         [1.3365],\n",
      "         [1.4060],\n",
      "         [1.4769],\n",
      "         [1.5558],\n",
      "         [1.6229]]], device='cuda:0')\n",
      "tensor([[[9.6571e-10],\n",
      "         [0.0000e+00],\n",
      "         [0.0000e+00],\n",
      "         [0.0000e+00],\n",
      "         [2.7835e-02],\n",
      "         [0.0000e+00],\n",
      "         [0.0000e+00],\n",
      "         [0.0000e+00],\n",
      "         [2.8127e-02],\n",
      "         [0.0000e+00],\n",
      "         [2.6610e-02],\n",
      "         [7.8818e-02],\n",
      "         [1.4527e-01],\n",
      "         [3.4511e-01],\n",
      "         [4.6338e-01],\n",
      "         [5.7539e-01],\n",
      "         [7.7345e-01],\n",
      "         [9.0435e-01]]], device='cuda:0')\n"
     ]
    }
   ],
   "source": [
    "print(err_s_l1)\n",
    "print(err_s_l2)\n",
    "print(err_h_l2)"
   ]
  },
  {
   "cell_type": "code",
   "execution_count": 9,
   "metadata": {},
   "outputs": [
    {
     "name": "stdout",
     "output_type": "stream",
     "text": [
      "(18, 1)\n"
     ]
    },
    {
     "name": "stderr",
     "output_type": "stream",
     "text": [
      "/tmp/ipykernel_8984/4292104003.py:45: DeprecationWarning: __array_wrap__ must accept context and return_scalar arguments (positionally) in the future. (Deprecated NumPy 2.0)\n",
      "  S = -a * np.log2(a) - b * np.log2(b)\n",
      "/tmp/ipykernel_8984/4292104003.py:45: RuntimeWarning: divide by zero encountered in log2\n",
      "  S = -a * np.log2(a) - b * np.log2(b)\n",
      "/tmp/ipykernel_8984/4292104003.py:48: DeprecationWarning: __array_wrap__ must accept context and return_scalar arguments (positionally) in the future. (Deprecated NumPy 2.0)\n",
      "  S_2 = -a_2 * np.log2(a_2) - b_2 * np.log2(b_2)\n",
      "/tmp/ipykernel_8984/4292104003.py:48: RuntimeWarning: divide by zero encountered in log2\n",
      "  S_2 = -a_2 * np.log2(a_2) - b_2 * np.log2(b_2)\n"
     ]
    },
    {
     "data": {
      "image/png": "[encoded data removed]",
      "text/plain": [
       "<Figure size 640x480 with 1 Axes>"
      ]
     },
     "metadata": {},
     "output_type": "display_data"
    }
   ],
   "source": [
    "import matplotlib.pyplot as plt\n",
    "import torch\n",
    "\n",
    "normlizd_l1 = err_s_l1.cpu().numpy()\n",
    "normlizd_l1_2 = err_s_l1_2.cpu().numpy()\n",
    "Npatts = np.array(nruns * [Npatts_lst])  # Npatts_lst repeated nruns times\n",
    "Npatts = Npatts.T\n",
    "print(Npatts.shape)\n",
    "\n",
    "m = 1 - (2 * normlizd_l1)\n",
    "m_2 = 1 - (2 * normlizd_l1_2)\n",
    "\n",
    "a = (1 + m) / 2\n",
    "b = (1 - m) / 2\n",
    "a_2 = (1 + m_2) / 2\n",
    "b_2 = (1 - m_2) / 2\n",
    "\n",
    "vhash_y = [\n",
    "    1.000000000000000000e00,\n",
    "    1.000000000000000000e00,\n",
    "    1.000000000000000000e00,\n",
    "    5.988623183160277641e-01,\n",
    "    3.667958255856974548e-01,\n",
    "    2.624110436154711845e-01,\n",
    "    2.042300801824028511e-01,\n",
    "    1.672434617281599589e-01,\n",
    "    1.414727808416358368e-01,\n",
    "    1.225660944022268772e-01,\n",
    "    1.082352629751366369e-01,\n",
    "    9.674044810282866891e-02,\n",
    "    8.747471863732059205e-02,\n",
    "    7.977915334088647725e-02,\n",
    "    7.342708729082536578e-02,\n",
    "    6.793351052792084843e-02,\n",
    "    6.324575644685004328e-02,\n",
    "    5.912155577074185153e-02,\n",
    "]\n",
    "\n",
    "a = torch.abs(torch.tensor(a))\n",
    "b = torch.abs(torch.tensor(b)).cpu()\n",
    "\n",
    "a_2 = torch.abs(torch.tensor(a_2))\n",
    "b_2 = torch.abs(torch.tensor(b_2)).cpu()\n",
    "\n",
    "S = -a * np.log2(a) - b * np.log2(b)\n",
    "S = np.where(m == 1, np.zeros_like(S), S)\n",
    "\n",
    "S_2 = -a_2 * np.log2(a_2) - b_2 * np.log2(b_2)\n",
    "S_2 = np.where(m == 1, np.zeros_like(S_2), S_2)\n",
    "\n",
    "MI = 1 - S\n",
    "MI_2 = 1 - S_2\n",
    "plt.errorbar(Npatts_lst, MI[0].mean(axis=1), yerr=MI[0].std(axis=1), lw=2, label=\"iterative pseudoinverse (ε_hs = 0.1, ε_sh=0.1, hidden_layer_factor=1)\")\n",
    "plt.errorbar(Npatts_lst, MI_2[0].mean(axis=1), yerr=MI_2[0].std(axis=1), lw=2, label=\"analytic pseudoinverse\")\n",
    "plt.errorbar(Npatts_lst, vhash_y, lw=2, label=\"vectorhash\")\n",
    "plt.xscale(\"log\")\n",
    "plt.yscale(\"log\")\n",
    "plt.legend()\n",
    "plt.title(\"MI per inp bit vs num patts (N_h=400, sparsity=0.6, relu_theta=0.5)\")\n",
    "\n",
    "plt.xlim(xmin=100)\n",
    "plt.ylabel(\"MI per inp bit\")\n",
    "plt.xlabel(\"num patts\")\n",
    "plt.show()"
   ]
  },
  {
   "cell_type": "code",
   "execution_count": null,
   "metadata": {},
   "outputs": [],
   "source": [
    "###Baselines\n",
    "import numpy as np\n",
    "import scipy.sparse as sparse\n",
    "import matplotlib.pyplot as plt\n",
    "from tqdm import tqdm as tqdm\n",
    "\n",
    "\n",
    "def cap(W,bound):\n",
    "    W1=torch.where(W>bound,bound*torch.ones(W.shape),W)\n",
    "    W2=torch.where(W1<-bound,-bound*torch.ones(W.shape),W1)\n",
    "    return W2\n",
    "\n",
    "def corrupt_p(codebook,p=0.1,booktype='-11'):\n",
    "    rand_indices = torch.sign(torch.random.uniform(size=codebook.shape)- p )\n",
    "    if booktype=='-11':\n",
    "        return torch.multiply(codebook,rand_indices)\n",
    "    elif booktype=='01':\n",
    "        return abs(codebook - 0.5*(-rand_indices+1))\n",
    "    elif booktype=='cts':\n",
    "        return codebook + torch.random.normal(0,1,size=codebook.shape)*p\n",
    "    else:\n",
    "        print(\"codebook should be -11; 01; or cts\")\n",
    "        return 0\n",
    "\n",
    "\n",
    "def get_weights(patterns,connectivity):\n",
    "    if connectivity is 'standard':\n",
    "        if learning == 'hebbian':\n",
    "            W = patts @ patts.T\n",
    "        elif learning == 'sparsehebbian':\n",
    "            prob = sparsity #np.sum(patts)/patts.shape[0]/patts.shape[1]\n",
    "            W =(1/patts.shape[0])* (patts - prob) @ (patts.T - prob)\n",
    "        elif learning == 'pinv':\n",
    "            W= patts @ np.linalg.pinv(patts)\n",
    "        elif learning == 'bounded_hebbian':\n",
    "            num_patts = patts.shape[1]\n",
    "            num_nodes = patts.shape[0]\n",
    "            W = np.zeros((num_nodes,num_nodes))\n",
    "            for i in range(num_patts):\n",
    "                Wtmp = np.outer(patts[:,i] , patts[:,i])/np.sqrt(num_nodes)\n",
    "                # ~ print(np.amax(Wtmp))\n",
    "                W = cap(Wtmp + W,bound)\n",
    "        W = W - torch.diag(torch.diag(W))\n",
    "    else:\n",
    "        N = connectivity.shape[0]\n",
    "        W = sparse.lil_matrix(connectivity.shape)\n",
    "        for i in range(N):\n",
    "            for j in connectivity.rows[i]:\n",
    "                W[i,j] = np.dot(patterns[i],patterns[j])\n",
    "        W.setdiag(0)\n",
    "    return W\n",
    "\n",
    "\n",
    "def entropy(inlist):\n",
    "    ent = np.zeros(len(inlist))\n",
    "    for idx,x in enumerate(inlist):\n",
    "        if x == 0 or x == 1:\n",
    "            ent[idx] = 0\n",
    "        else:\n",
    "            ent[idx] = -1 * ( x*np.log2(x) + (1-x)*np.log2(1-x) )\n",
    "    return ent"
   ]
  },
  {
   "cell_type": "code",
   "execution_count": null,
   "metadata": {},
   "outputs": [],
   "source": [
    "nruns=1\n",
    "iterations=100\n",
    "N = 708\n",
    "corrupt_fraction = 0.0\n",
    "Npatts_list = np.arange(1,800,10)\n",
    "connectivity='standard' # Standard fully connected Hopfield network. For sparse connectivity use the next cell\n",
    "# learning can be 'hebbian', 'bounded_hebbian', 'pinv', or 'sparsehebbian' for sparse hopfield network\n",
    "learning='bounded_hebbian'\n",
    "bound=0.3  #Use bound param if learning='bounded_hebbian'\n",
    "\n",
    "init_overlap = torch.zeros((nruns,*Npatts_list.shape))\n",
    "final_overlap = torch.zeros((nruns,*Npatts_list.shape))\n",
    "MI_hc = torch.zeros((nruns,*Npatts_list.shape))\n",
    "\n",
    "\n",
    "for runidx in range(nruns):\n",
    "    print(\"runidx = \"+str(runidx))\n",
    "    \n",
    "    if learning == 'sparsehebbian':\n",
    "        # sparse hopfiled 0/1 code\n",
    "        sparsity = 0.2\n",
    "        patterns = 1*(torch.random.rand(N,Npatts_list.max()) > (1-sparsity))\n",
    "    else:\n",
    "        patterns = torch.sign(torch.random.normal(0,1,(N,Npatts_list.max())))\n",
    "\n",
    "    \n",
    "    for idx,Npatts in enumerate(tqdm(Npatts_list)):\n",
    "        #print(Npatts)\n",
    "        patts = patterns[:,:Npatts]\n",
    "        cor_patts = patterns[:,:Npatts]\n",
    "        W = get_weights(patts,connectivity)\n",
    "        \n",
    "        if learning == 'sparsehebbian':\n",
    "            # sparse hopfield\n",
    "            theta = torch.sum(W-torch.diag(W), axis=1)\n",
    "            theta=0.05 #0.04 #0\n",
    "            rep = (torch.sign(W@cor_patts - theta)+1)/2            \n",
    "        else:\n",
    "            rep = torch.sign(W@cor_patts)\n",
    "\n",
    "        init_overlap[runidx,idx] = np.average(np.einsum('ij,ij->j',rep,patts)/N) \n",
    "\n",
    "        rep1 = np.copy(rep)\n",
    "        for ite in range(iterations-1):\n",
    "            if learning == 'sparsehebbian':\n",
    "                rep = (np.sign(W@rep - theta)+1)/2\n",
    "            else:\n",
    "                rep = np.sign(W@rep)\n",
    "            \n",
    "            if np.sum(abs(rep - rep1))>0:\n",
    "                rep1 = np.copy(rep)\n",
    "            else:\n",
    "                # print(\"converged at \"+str(ite))\n",
    "                break\n",
    "        err = np.einsum('ij,ij->j',rep,patts)/N\n",
    "        overlap = np.average(err) \n",
    "        final_overlap[runidx,idx] = overlap #err\n",
    "        \n",
    "        if learning=='sparsehebbian':\n",
    "            q = np.sum(np.abs(rep), axis=0) / N  # sparse hopfield\n",
    "            m = err\n",
    "            p = np.sum(patts, axis=0)/patts.shape[0]\n",
    "            P1e = 1 - (m/p)\n",
    "            P0e = (q-m)/(1-p)\n",
    "            MI_hc[runidx,idx] =  np.average( entropy(q) - ( p*entropy(P1e) + (1-p)*entropy(P0e) ) )\n",
    "\n",
    "\n",
    "# print(init_overlap)\n",
    "# print(final_overlap)\n",
    "\n",
    "results_dir = \"continuum_results\"\n",
    "# filename = f\"sparseconnhopfield__mutualinfo_N={N}_noise={corrupt_fraction}_gamma={gamma}_iter={iterations}_nruns={nruns}\"\n",
    "filename = f\"stdhopfield__mutualinfo_N={N}_noise={corrupt_fraction}_iter={iterations}_nruns={nruns}\"\n",
    "# filename = f\"pinvhopfield__mutualinfo_N={N}_noise={corrupt_fraction}_iter={iterations}_nruns={nruns}\"\n",
    "# filename = f\"sparsehopfield__mutualinfo_N={N}_noise={corrupt_fraction}_p={sparsity}_iter={iterations}_nruns={nruns}\"\n",
    "# filename = f\"boundedhopfield__mutualinfo_N={N}_noise={corrupt_fraction}_bound={bound}_iter={iterations}_nruns={nruns}\"\n",
    "\n",
    "\n",
    "fig1 = plt.figure(1)\n",
    "plt.plot(Npatts_list,init_overlap.mean(axis=0), label='single, corrupt='+str(corrupt_fraction));\n",
    "plt.plot(Npatts_list,final_overlap.mean(axis=0), label='final, corrupt='+str(corrupt_fraction));\n",
    "plt.legend()\n",
    "plt.xlabel('Number of patterns')\n",
    "plt.ylabel(\"Overlap\");\n",
    "plt.title(r\"N = \"+str(N)+\", $W$\");\n",
    "plt.show()\n",
    "# exit()\n",
    "# fig1.savefig(f\"{results_dir}/Overlap_{filename}.png\")\n",
    "\n",
    "if learning=='sparsehebbian':\n",
    "    print(\"MI already calculated in loop\")\n",
    "else:\n",
    "    m = final_overlap\n",
    "    a = (1+m)/2\n",
    "    b = (1-m)/2\n",
    "\n",
    "    S = - a * np.log2(a) - b * np.log2(b)\n",
    "    S = np.where(m==1, np.zeros_like(S), S)\n",
    "\n",
    "    MI_hc = 1 - S\n",
    "\n",
    "\n",
    "fig2 = plt.figure(1)\n",
    "plt.errorbar(Npatts_list,MI_hc.mean(axis=0),yerr=MI_hc.std(axis=0), label='final, corrupt='+str(corrupt_fraction)); #plt.xscale('log'); plt.yscale('log');\n",
    "plt.legend()\n",
    "plt.xlabel('Number of patterns')\n",
    "plt.ylabel(\"MI\");\n",
    "plt.title(r\"N = \"+str(N)+\", $W$\");\n",
    "plt.show()\n",
    "# fig2.savefig(f\"{results_dir}/MI_{filename}.png\")\n",
    "\n",
    "data = {\n",
    "    \"N\": N,\n",
    "    \"init_overlap\": init_overlap,\n",
    "    \"m\": final_overlap,\n",
    "    \"MI\": MI_hc,\n",
    "    \"Npatts_list\": Npatts_list,\n",
    "    \"noise\": corrupt_fraction,\n",
    "    # \"q\": q  #needed for sparse hebbian\n",
    "    # \"bound\": bound #needed for bounded hopfield\n",
    "}\n",
    "# write_pkl(f\"{results_dir}/{filename}\", data)"
   ]
  }
 ],
 "metadata": {
  "kernelspec": {
   "display_name": "ml",
   "language": "python",
   "name": "python3"
  },
  "language_info": {
   "codemirror_mode": {
    "name": "ipython",
    "version": 3
   },
   "file_extension": ".py",
   "mimetype": "text/x-python",
   "name": "python",
   "nbconvert_exporter": "python",
   "pygments_lexer": "ipython3",
   "version": "3.10.12"
  }
 },
 "nbformat": 4,
 "nbformat_minor": 2
}
