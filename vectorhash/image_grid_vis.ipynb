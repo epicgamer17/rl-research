{
 "cells": [
  {
   "cell_type": "code",
   "execution_count": null,
   "metadata": {},
   "outputs": [],
   "source": [
    "from vectorhash import GridHippocampalScaffold\n",
    "\n",
    "lambdas = [3, 4, 5]\n",
    "shapes = [(i, i) for i in lambdas]\n",
    "\n",
    "scaffold = GridHippocampalScaffold(shapes, 400, sanity_check=False, calculate_g_method='hairpin')"
   ]
  },
  {
   "cell_type": "code",
   "execution_count": null,
   "metadata": {},
   "outputs": [],
   "source": [
    "from data_utils import prepare_data, load_mnist_dataset\n",
    "from hippocampal_sensory_layers import IterativeBidirectionalPseudoInverseHippocampalSensoryLayer\n",
    "\n",
    "\n",
    "dataset = load_mnist_dataset()\n",
    "data, noisy_data = prepare_data(\n",
    "    dataset,\n",
    "    num_imgs=400,\n",
    "    preprocess_sensory=True,\n",
    "    noise_level=\"none\",\n",
    "    across_dataset=True,\n",
    ")\n",
    "\n",
    "sh = IterativeBidirectionalPseudoInverseHippocampalSensoryLayer(\n",
    "  input_size=784,\n",
    "  N_h=400,\n",
    "  hidden_layer_factor=1,\n",
    "  epsilon_hs=0.1,\n",
    "  epsilon_sh=0.1\n",
    ")"
   ]
  },
  {
   "cell_type": "code",
   "execution_count": null,
   "metadata": {},
   "outputs": [],
   "source": [
    "from tqdm import tqdm\n",
    "for j in tqdm(range(400)):\n",
    "  sh.learn(scaffold.H[j], data[j])"
   ]
  },
  {
   "cell_type": "code",
   "execution_count": null,
   "metadata": {},
   "outputs": [],
   "source": [
    "import numpy as np\n",
    "from matplotlib import pyplot as plt\n",
    "import matplotlib\n",
    "import matplotlib.axes\n",
    "import torch\n",
    "matplotlib.use(\"ipympl\")\n",
    "%matplotlib widget\n",
    "from test_utils import get_action\n",
    "\n",
    "ls = [module.l for module in scaffold.modules]\n",
    "g_ticks = np.cumsum(ls)\n",
    "g_ticks = np.insert(g_ticks, 0, 0)\n",
    "g_ticks = g_ticks[:-1]\n",
    "\n",
    "\n",
    "pos = torch.tensor((0,0))\n",
    "g = scaffold.grid_state_from_cartesian_coordinates(\n",
    "    torch.tensor(pos, device=scaffold.device)\n",
    ")\n",
    "scaffold.g = g\n",
    "im_data = sh.sensory_from_hippocampal(scaffold.hippocampal_from_grid(g)).reshape(28,28)\n",
    "fig, ax = plt.subplots(1, 2, figsize=(10, 5))\n",
    "im_artist = ax[0].imshow(im_data)\n",
    "g_artist = ax[1].imshow(scaffold.g.unsqueeze(0).T.cpu().numpy())\n",
    "j = torch.nonzero(torch.all(scaffold.G == g, dim=1)).flatten().item()\n",
    "g_text_artist = ax[1].set_title(f\"g_idx: {g.nonzero().flatten().cpu().numpy()}; j: {j}\", fontsize=12)\n",
    "text_artist = ax[0].set_title(f\"pos: {pos}\", fontsize=12)\n",
    "# disabley ticks\n",
    "ax[1].xaxis.set_visible(False)\n",
    "ax[1].set_yticks(g_ticks)\n",
    "\n",
    "plt.show()"
   ]
  },
  {
   "cell_type": "code",
   "execution_count": null,
   "metadata": {},
   "outputs": [],
   "source": [
    "while True:\n",
    "    action = get_action()\n",
    "    if action is None:\n",
    "        break\n",
    "    pos = pos + action\n",
    "    g = scaffold.grid_state_from_cartesian_coordinates(\n",
    "        torch.tensor(pos, device=scaffold.device)\n",
    "    )\n",
    "    j = torch.nonzero(torch.all(scaffold.G == g, dim=1)).flatten().item()\n",
    "    scaffold.g = g\n",
    "    im_data = sh.sensory_from_hippocampal(scaffold.hippocampal_from_grid(g)).reshape(28,28)\n",
    "    im_artist.set_data(im_data)\n",
    "    text_artist.set_text(f\"pos: {pos}\")\n",
    "    g_artist.set_data(scaffold.g.unsqueeze(0).T.cpu().numpy())\n",
    "    g_text_artist.set_text(f\"g_idx: {g.nonzero().flatten().cpu().numpy()}; j: {j}\")\n",
    "    fig.canvas.draw()"
   ]
  }
 ],
 "metadata": {
  "kernelspec": {
   "display_name": "ml",
   "language": "python",
   "name": "python3"
  },
  "language_info": {
   "codemirror_mode": {
    "name": "ipython",
    "version": 3
   },
   "file_extension": ".py",
   "mimetype": "text/x-python",
   "name": "python",
   "nbconvert_exporter": "python",
   "pygments_lexer": "ipython3",
   "version": "3.10.12"
  }
 },
 "nbformat": 4,
 "nbformat_minor": 2
}
