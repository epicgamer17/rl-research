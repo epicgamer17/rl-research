{
 "cells": [
  {
   "cell_type": "code",
   "execution_count": null,
   "id": "c6df1034",
   "metadata": {},
   "outputs": [],
   "source": [
    "import torch\n",
    "from fourier_scaffold import (\n",
    "    FourierScaffold,\n",
    "    HammardSharpening,\n",
    "    HammardShift,\n",
    "    HammardShiftMatrix,\n",
    "    HammardSharpening,\n",
    "    ContractionSharpening,\n",
    "    GaussianFourierSmoothing,\n",
    "    GuassianFourierSmoothingMatrix,\n",
    ")\n",
    "from graph_utils import fourier_plot_probabilities_complex"
   ]
  },
  {
   "cell_type": "code",
   "execution_count": null,
   "id": "ab957917",
   "metadata": {},
   "outputs": [],
   "source": [
    "shapes = [[5, 5], [7, 7]]\n",
    "device = \"cuda\"\n",
    "scaffold = FourierScaffold(\n",
    "    shapes=torch.tensor(shapes),\n",
    "    D=1000**2,\n",
    "    smoothing=GaussianFourierSmoothing(kernel_radii=[10] * 2, kernel_sigmas=[0.4] * 2),\n",
    "    device=device,\n",
    ")"
   ]
  },
  {
   "cell_type": "code",
   "execution_count": null,
   "id": "edcf0f03",
   "metadata": {},
   "outputs": [],
   "source": [
    "scaffold.velocity_shift(v=torch.tensor([1, 1]))"
   ]
  },
  {
   "cell_type": "code",
   "execution_count": null,
   "id": "3a227c1c",
   "metadata": {},
   "outputs": [],
   "source": [
    "scaffold.smooth()"
   ]
  },
  {
   "cell_type": "code",
   "execution_count": null,
   "id": "a59cb86a",
   "metadata": {},
   "outputs": [],
   "source": [
    "scaffold.sharpen()"
   ]
  },
  {
   "cell_type": "code",
   "execution_count": null,
   "id": "efc835ae",
   "metadata": {},
   "outputs": [],
   "source": [
    "import matplotlib.pyplot as plt\n",
    "fig, ax = plt.subplots(subplot_kw={\"projection\": \"polar\"})\n",
    "ax.set_ylim(0,1)\n",
    "fourier_plot_probabilities_complex(scaffold, ax)\n",
    "plt.show()"
   ]
  },
  {
   "cell_type": "code",
   "execution_count": null,
   "id": "06b8f102",
   "metadata": {},
   "outputs": [],
   "source": [
    "import itertools\n",
    "\n",
    "for i, k in enumerate(\n",
    "    itertools.product(\n",
    "        *[list(range(scaffold.shapes[:, i].prod())) for i in range(scaffold.d)]\n",
    "    )\n",
    "):\n",
    "    p = scaffold.get_probability(torch.tensor(k, device=scaffold.device))\n"
   ]
  },
  {
   "cell_type": "code",
   "execution_count": null,
   "id": "41a2e076",
   "metadata": {},
   "outputs": [],
   "source": [
    "shapes = [[5, 5], [7, 7]]\n",
    "device = \"cuda\"\n",
    "scaffold = FourierScaffold(\n",
    "    shapes=torch.tensor(shapes),\n",
    "    D=1000,\n",
    "    smoothing=GuassianFourierSmoothingMatrix(kernel_radii=[10] * 2, kernel_sigmas=[0.4] * 2),\n",
    "    sharpening=ContractionSharpening(2),\n",
    "    shift=HammardShiftMatrix(),\n",
    "    device=device,\n",
    "    representation='matrix'\n",
    ")\n"
   ]
  },
  {
   "cell_type": "code",
   "execution_count": null,
   "id": "08bcbc65",
   "metadata": {},
   "outputs": [],
   "source": [
    "scaffold.sharpen()"
   ]
  },
  {
   "cell_type": "code",
   "execution_count": null,
   "id": "6064ca81",
   "metadata": {},
   "outputs": [],
   "source": [
    "import matplotlib.pyplot as plt\n",
    "fig, ax = plt.subplots(subplot_kw={\"projection\": \"polar\"})\n",
    "ax.set_ylim(0,1)\n",
    "fourier_plot_probabilities_complex(scaffold, ax)\n",
    "plt.show()\n"
   ]
  },
  {
   "cell_type": "code",
   "execution_count": null,
   "id": "9d197c79",
   "metadata": {},
   "outputs": [],
   "source": [
    "scaffold.velocity_shift(v=torch.tensor([1, 1]))"
   ]
  },
  {
   "cell_type": "code",
   "execution_count": null,
   "id": "2011538a",
   "metadata": {},
   "outputs": [],
   "source": [
    "import itertools\n",
    "\n",
    "for i, k in enumerate(\n",
    "    itertools.product(\n",
    "        *[list(range(scaffold.shapes[:, i].prod())) for i in range(scaffold.d)]\n",
    "    )\n",
    "):\n",
    "    p = scaffold.get_probability(torch.tensor(k, device=scaffold.device))\n",
    "    print(p)"
   ]
  },
  {
   "cell_type": "code",
   "execution_count": null,
   "id": "56228171",
   "metadata": {},
   "outputs": [],
   "source": []
  }
 ],
 "metadata": {
  "kernelspec": {
   "display_name": "ml",
   "language": "python",
   "name": "python3"
  },
  "language_info": {
   "codemirror_mode": {
    "name": "ipython",
    "version": 3
   },
   "file_extension": ".py",
   "mimetype": "text/x-python",
   "name": "python",
   "nbconvert_exporter": "python",
   "pygments_lexer": "ipython3",
   "version": "3.10.12"
  }
 },
 "nbformat": 4,
 "nbformat_minor": 5
}
