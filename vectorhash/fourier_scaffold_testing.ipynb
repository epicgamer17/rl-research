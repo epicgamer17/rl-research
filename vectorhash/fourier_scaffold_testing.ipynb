{
 "cells": [
  {
   "cell_type": "code",
   "execution_count": null,
   "id": "c6df1034",
   "metadata": {},
   "outputs": [],
   "source": [
    "import torch\n",
    "from fourier_scaffold import FourierScaffold\n",
    "from graph_utils import fourier_plot_probabilities_complex"
   ]
  },
  {
   "cell_type": "code",
   "execution_count": null,
   "id": "ab957917",
   "metadata": {},
   "outputs": [],
   "source": [
    "shapes = [[5, 5], [7, 7]]\n",
    "device = \"cuda\"\n",
    "scaffold = FourierScaffold(shapes=torch.tensor(shapes), D=100000, device=device)"
   ]
  },
  {
   "cell_type": "code",
   "execution_count": null,
   "id": "edcf0f03",
   "metadata": {},
   "outputs": [],
   "source": [
    "scaffold.shift(v=torch.tensor([30, 30]))"
   ]
  },
  {
   "cell_type": "code",
   "execution_count": null,
   "id": "3a227c1c",
   "metadata": {},
   "outputs": [],
   "source": [
    "scaffold.smooth()"
   ]
  },
  {
   "cell_type": "code",
   "execution_count": null,
   "id": "efc835ae",
   "metadata": {},
   "outputs": [],
   "source": [
    "import matplotlib.pyplot as plt\n",
    "fig, ax = plt.subplots(subplot_kw={\"projection\": \"polar\"})\n",
    "ax.set_ylim(0,1)\n",
    "fourier_plot_probabilities_complex(scaffold, ax)\n",
    "plt.show()"
   ]
  }
 ],
 "metadata": {
  "kernelspec": {
   "display_name": "ml",
   "language": "python",
   "name": "python3"
  },
  "language_info": {
   "codemirror_mode": {
    "name": "ipython",
    "version": 3
   },
   "file_extension": ".py",
   "mimetype": "text/x-python",
   "name": "python",
   "nbconvert_exporter": "python",
   "pygments_lexer": "ipython3",
   "version": "3.10.12"
  }
 },
 "nbformat": 4,
 "nbformat_minor": 5
}
